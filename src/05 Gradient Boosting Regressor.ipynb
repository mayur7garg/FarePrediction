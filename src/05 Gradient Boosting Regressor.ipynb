{
 "cells": [
  {
   "cell_type": "markdown",
   "metadata": {},
   "source": [
    "# Gradient boosting regressor"
   ]
  },
  {
   "cell_type": "markdown",
   "metadata": {},
   "source": [
    "## Imports"
   ]
  },
  {
   "cell_type": "code",
   "execution_count": 1,
   "metadata": {},
   "outputs": [],
   "source": [
    "import numpy as np\n",
    "import polars as pl\n",
    "import seaborn as sns\n",
    "from matplotlib import pyplot as plt\n",
    "from sklearn.preprocessing import OrdinalEncoder\n",
    "from sklearn.ensemble import GradientBoostingRegressor\n",
    "from sklearn.compose import ColumnTransformer\n",
    "from sklearn.pipeline import Pipeline\n",
    "from sklearn.model_selection import ParameterSampler\n",
    "from sklearn.metrics import root_mean_squared_error\n",
    "from sklearn import set_config\n",
    "\n",
    "from utils import PROCESSED_DATA_DIR, VALIDATION_CUTOFF, print_metrics\n",
    "\n",
    "pl.Config.set_tbl_rows(20)\n",
    "set_config(transform_output = \"pandas\")"
   ]
  },
  {
   "cell_type": "markdown",
   "metadata": {},
   "source": [
    "## Data loading"
   ]
  },
  {
   "cell_type": "code",
   "execution_count": 2,
   "metadata": {},
   "outputs": [
    {
     "data": {
      "text/html": [
       "<div><style>\n",
       ".dataframe > thead > tr,\n",
       ".dataframe > tbody > tr {\n",
       "  text-align: right;\n",
       "  white-space: pre-wrap;\n",
       "}\n",
       "</style>\n",
       "<small>shape: (1_698_818, 21)</small><table border=\"1\" class=\"dataframe\"><thead><tr><th>carrier</th><th>flt_num</th><th>flt_departure_dt</th><th>observation_date</th><th>total_fare</th><th>days_till_flight</th><th>is_dst</th><th>route_id</th><th>flt_departure_local_time</th><th>flt_arrival_local_time</th><th>dur_min</th><th>tz_min</th><th>over_mn</th><th>dpt_4h_od</th><th>flt_count_dpt_24h</th><th>flt_count_dpt_4h</th><th>scaled_demand</th><th>scaled_share</th><th>origin_id</th><th>destination_id</th><th>flt_info_null</th></tr><tr><td>str</td><td>i64</td><td>date</td><td>date</td><td>i64</td><td>i16</td><td>i8</td><td>u8</td><td>datetime[ns]</td><td>datetime[ns]</td><td>i16</td><td>i16</td><td>i8</td><td>i8</td><td>u8</td><td>u8</td><td>i64</td><td>i64</td><td>u8</td><td>u8</td><td>u8</td></tr></thead><tbody><tr><td>&quot;L2&quot;</td><td>5242</td><td>2018-01-01</td><td>2017-11-27</td><td>846</td><td>35</td><td>0</td><td>4</td><td>2018-01-01 10:49:00</td><td>2018-01-01 12:14:00</td><td>85</td><td>-480</td><td>0</td><td>2</td><td>30</td><td>5</td><td>6659</td><td>212</td><td>3</td><td>4</td><td>0</td></tr><tr><td>&quot;OTH&quot;</td><td>4790</td><td>2018-01-01</td><td>2017-11-27</td><td>937</td><td>35</td><td>0</td><td>4</td><td>2018-01-01 14:57:00</td><td>2018-01-01 16:17:00</td><td>80</td><td>-480</td><td>0</td><td>3</td><td>30</td><td>8</td><td>6659</td><td>316</td><td>3</td><td>4</td><td>0</td></tr><tr><td>&quot;OTH&quot;</td><td>4837</td><td>2018-01-01</td><td>2017-11-27</td><td>281</td><td>35</td><td>0</td><td>6</td><td>2018-01-01 19:38:00</td><td>2018-01-01 20:43:00</td><td>65</td><td>-480</td><td>0</td><td>4</td><td>30</td><td>7</td><td>6659</td><td>316</td><td>4</td><td>3</td><td>0</td></tr><tr><td>&quot;L2&quot;</td><td>5314</td><td>2018-01-01</td><td>2017-11-27</td><td>403</td><td>35</td><td>0</td><td>6</td><td>2018-01-01 19:05:00</td><td>2018-01-01 20:17:00</td><td>72</td><td>-480</td><td>0</td><td>4</td><td>30</td><td>7</td><td>6659</td><td>213</td><td>4</td><td>3</td><td>0</td></tr><tr><td>&quot;OTH&quot;</td><td>6187</td><td>2018-01-01</td><td>2017-11-27</td><td>341</td><td>35</td><td>0</td><td>11</td><td>2018-01-01 20:30:00</td><td>2018-01-01 21:58:00</td><td>88</td><td>-480</td><td>0</td><td>5</td><td>21</td><td>5</td><td>6579</td><td>354</td><td>7</td><td>3</td><td>0</td></tr><tr><td>&quot;U1&quot;</td><td>4771</td><td>2018-01-01</td><td>2017-11-27</td><td>513</td><td>35</td><td>0</td><td>4</td><td>null</td><td>null</td><td>null</td><td>null</td><td>null</td><td>null</td><td>null</td><td>null</td><td>null</td><td>null</td><td>3</td><td>4</td><td>1</td></tr><tr><td>&quot;L3&quot;</td><td>15130</td><td>2018-01-01</td><td>2017-11-27</td><td>1298</td><td>35</td><td>0</td><td>4</td><td>2018-01-01 16:53:00</td><td>2018-01-01 18:19:00</td><td>86</td><td>-480</td><td>0</td><td>4</td><td>30</td><td>7</td><td>6659</td><td>231</td><td>3</td><td>4</td><td>0</td></tr><tr><td>&quot;L1&quot;</td><td>1396</td><td>2018-01-01</td><td>2017-11-27</td><td>372</td><td>35</td><td>0</td><td>11</td><td>2018-01-01 19:35:00</td><td>2018-01-01 21:08:00</td><td>93</td><td>-480</td><td>0</td><td>4</td><td>21</td><td>7</td><td>6579</td><td>262</td><td>7</td><td>3</td><td>0</td></tr><tr><td>&quot;L1&quot;</td><td>6316</td><td>2018-01-01</td><td>2017-11-27</td><td>1119</td><td>35</td><td>0</td><td>1</td><td>2018-01-01 12:31:00</td><td>2018-01-01 15:55:00</td><td>204</td><td>-300</td><td>0</td><td>3</td><td>5</td><td>2</td><td>1468</td><td>360</td><td>1</td><td>5</td><td>0</td></tr><tr><td>&quot;L1&quot;</td><td>4605</td><td>2018-01-01</td><td>2017-11-27</td><td>372</td><td>35</td><td>0</td><td>11</td><td>2018-01-01 17:18:00</td><td>2018-01-01 18:57:00</td><td>99</td><td>-480</td><td>0</td><td>4</td><td>21</td><td>7</td><td>6579</td><td>262</td><td>7</td><td>3</td><td>0</td></tr><tr><td>&hellip;</td><td>&hellip;</td><td>&hellip;</td><td>&hellip;</td><td>&hellip;</td><td>&hellip;</td><td>&hellip;</td><td>&hellip;</td><td>&hellip;</td><td>&hellip;</td><td>&hellip;</td><td>&hellip;</td><td>&hellip;</td><td>&hellip;</td><td>&hellip;</td><td>&hellip;</td><td>&hellip;</td><td>&hellip;</td><td>&hellip;</td><td>&hellip;</td><td>&hellip;</td></tr><tr><td>&quot;U1&quot;</td><td>6175</td><td>2018-12-31</td><td>2018-12-31</td><td>1111</td><td>0</td><td>0</td><td>11</td><td>2018-12-31 21:30:00</td><td>2018-12-31 23:04:00</td><td>94</td><td>-480</td><td>0</td><td>5</td><td>21</td><td>3</td><td>5817</td><td>253</td><td>7</td><td>3</td><td>0</td></tr><tr><td>&quot;L1&quot;</td><td>2149</td><td>2018-12-31</td><td>2018-12-31</td><td>2037</td><td>0</td><td>0</td><td>3</td><td>2018-12-31 01:05:00</td><td>2018-12-31 05:59:00</td><td>294</td><td>-480</td><td>0</td><td>0</td><td>7</td><td>1</td><td>2790</td><td>405</td><td>3</td><td>2</td><td>0</td></tr><tr><td>&quot;L2&quot;</td><td>7465</td><td>2018-12-31</td><td>2018-12-31</td><td>1202</td><td>0</td><td>0</td><td>9</td><td>2018-12-31 08:04:00</td><td>2018-12-31 10:49:00</td><td>165</td><td>-360</td><td>0</td><td>2</td><td>5</td><td>2</td><td>1618</td><td>310</td><td>5</td><td>6</td><td>0</td></tr><tr><td>&quot;L1&quot;</td><td>2724</td><td>2018-12-31</td><td>2018-12-31</td><td>3519</td><td>0</td><td>0</td><td>8</td><td>2018-12-31 06:00:00</td><td>2018-12-31 10:29:00</td><td>269</td><td>-360</td><td>0</td><td>1</td><td>4</td><td>2</td><td>2164</td><td>373</td><td>5</td><td>1</td><td>0</td></tr><tr><td>&quot;U1&quot;</td><td>4771</td><td>2018-12-31</td><td>2018-12-31</td><td>768</td><td>0</td><td>0</td><td>4</td><td>2018-12-31 08:15:00</td><td>2018-12-31 09:32:00</td><td>77</td><td>-480</td><td>0</td><td>2</td><td>30</td><td>6</td><td>7128</td><td>193</td><td>3</td><td>4</td><td>0</td></tr><tr><td>&quot;L1&quot;</td><td>2777</td><td>2018-12-31</td><td>2018-12-31</td><td>1111</td><td>0</td><td>0</td><td>5</td><td>2018-12-31 07:34:00</td><td>2018-12-31 09:15:00</td><td>101</td><td>-480</td><td>0</td><td>1</td><td>21</td><td>4</td><td>5817</td><td>294</td><td>3</td><td>7</td><td>0</td></tr><tr><td>&quot;L1&quot;</td><td>5663</td><td>2018-12-31</td><td>2018-12-31</td><td>2037</td><td>0</td><td>0</td><td>3</td><td>2018-12-31 12:20:00</td><td>2018-12-31 17:09:00</td><td>289</td><td>-480</td><td>0</td><td>3</td><td>7</td><td>2</td><td>2790</td><td>405</td><td>3</td><td>2</td><td>0</td></tr><tr><td>&quot;L2&quot;</td><td>7067</td><td>2018-12-31</td><td>2018-12-31</td><td>1202</td><td>0</td><td>0</td><td>9</td><td>2018-12-31 13:17:00</td><td>2018-12-31 16:00:00</td><td>163</td><td>-360</td><td>0</td><td>3</td><td>5</td><td>2</td><td>1618</td><td>310</td><td>5</td><td>6</td><td>0</td></tr><tr><td>&quot;L1&quot;</td><td>7431</td><td>2018-12-31</td><td>2018-12-31</td><td>1346</td><td>0</td><td>0</td><td>1</td><td>2018-12-31 07:00:00</td><td>2018-12-31 10:11:00</td><td>191</td><td>-300</td><td>0</td><td>1</td><td>4</td><td>1</td><td>2164</td><td>373</td><td>1</td><td>5</td><td>0</td></tr><tr><td>&quot;L2&quot;</td><td>7220</td><td>2018-12-31</td><td>2018-12-31</td><td>768</td><td>0</td><td>0</td><td>6</td><td>2018-12-31 10:15:00</td><td>2018-12-31 11:28:00</td><td>73</td><td>-480</td><td>0</td><td>2</td><td>30</td><td>8</td><td>7128</td><td>224</td><td>4</td><td>3</td><td>0</td></tr></tbody></table></div>"
      ],
      "text/plain": [
       "shape: (1_698_818, 21)\n",
       "┌─────────┬─────────┬────────────┬────────────┬───┬────────────┬───────────┬───────────┬───────────┐\n",
       "│ carrier ┆ flt_num ┆ flt_depart ┆ observatio ┆ … ┆ scaled_sha ┆ origin_id ┆ destinati ┆ flt_info_ │\n",
       "│ ---     ┆ ---     ┆ ure_dt     ┆ n_date     ┆   ┆ re         ┆ ---       ┆ on_id     ┆ null      │\n",
       "│ str     ┆ i64     ┆ ---        ┆ ---        ┆   ┆ ---        ┆ u8        ┆ ---       ┆ ---       │\n",
       "│         ┆         ┆ date       ┆ date       ┆   ┆ i64        ┆           ┆ u8        ┆ u8        │\n",
       "╞═════════╪═════════╪════════════╪════════════╪═══╪════════════╪═══════════╪═══════════╪═══════════╡\n",
       "│ L2      ┆ 5242    ┆ 2018-01-01 ┆ 2017-11-27 ┆ … ┆ 212        ┆ 3         ┆ 4         ┆ 0         │\n",
       "│ OTH     ┆ 4790    ┆ 2018-01-01 ┆ 2017-11-27 ┆ … ┆ 316        ┆ 3         ┆ 4         ┆ 0         │\n",
       "│ OTH     ┆ 4837    ┆ 2018-01-01 ┆ 2017-11-27 ┆ … ┆ 316        ┆ 4         ┆ 3         ┆ 0         │\n",
       "│ L2      ┆ 5314    ┆ 2018-01-01 ┆ 2017-11-27 ┆ … ┆ 213        ┆ 4         ┆ 3         ┆ 0         │\n",
       "│ OTH     ┆ 6187    ┆ 2018-01-01 ┆ 2017-11-27 ┆ … ┆ 354        ┆ 7         ┆ 3         ┆ 0         │\n",
       "│ U1      ┆ 4771    ┆ 2018-01-01 ┆ 2017-11-27 ┆ … ┆ null       ┆ 3         ┆ 4         ┆ 1         │\n",
       "│ L3      ┆ 15130   ┆ 2018-01-01 ┆ 2017-11-27 ┆ … ┆ 231        ┆ 3         ┆ 4         ┆ 0         │\n",
       "│ L1      ┆ 1396    ┆ 2018-01-01 ┆ 2017-11-27 ┆ … ┆ 262        ┆ 7         ┆ 3         ┆ 0         │\n",
       "│ L1      ┆ 6316    ┆ 2018-01-01 ┆ 2017-11-27 ┆ … ┆ 360        ┆ 1         ┆ 5         ┆ 0         │\n",
       "│ L1      ┆ 4605    ┆ 2018-01-01 ┆ 2017-11-27 ┆ … ┆ 262        ┆ 7         ┆ 3         ┆ 0         │\n",
       "│ …       ┆ …       ┆ …          ┆ …          ┆ … ┆ …          ┆ …         ┆ …         ┆ …         │\n",
       "│ U1      ┆ 6175    ┆ 2018-12-31 ┆ 2018-12-31 ┆ … ┆ 253        ┆ 7         ┆ 3         ┆ 0         │\n",
       "│ L1      ┆ 2149    ┆ 2018-12-31 ┆ 2018-12-31 ┆ … ┆ 405        ┆ 3         ┆ 2         ┆ 0         │\n",
       "│ L2      ┆ 7465    ┆ 2018-12-31 ┆ 2018-12-31 ┆ … ┆ 310        ┆ 5         ┆ 6         ┆ 0         │\n",
       "│ L1      ┆ 2724    ┆ 2018-12-31 ┆ 2018-12-31 ┆ … ┆ 373        ┆ 5         ┆ 1         ┆ 0         │\n",
       "│ U1      ┆ 4771    ┆ 2018-12-31 ┆ 2018-12-31 ┆ … ┆ 193        ┆ 3         ┆ 4         ┆ 0         │\n",
       "│ L1      ┆ 2777    ┆ 2018-12-31 ┆ 2018-12-31 ┆ … ┆ 294        ┆ 3         ┆ 7         ┆ 0         │\n",
       "│ L1      ┆ 5663    ┆ 2018-12-31 ┆ 2018-12-31 ┆ … ┆ 405        ┆ 3         ┆ 2         ┆ 0         │\n",
       "│ L2      ┆ 7067    ┆ 2018-12-31 ┆ 2018-12-31 ┆ … ┆ 310        ┆ 5         ┆ 6         ┆ 0         │\n",
       "│ L1      ┆ 7431    ┆ 2018-12-31 ┆ 2018-12-31 ┆ … ┆ 373        ┆ 1         ┆ 5         ┆ 0         │\n",
       "│ L2      ┆ 7220    ┆ 2018-12-31 ┆ 2018-12-31 ┆ … ┆ 224        ┆ 4         ┆ 3         ┆ 0         │\n",
       "└─────────┴─────────┴────────────┴────────────┴───┴────────────┴───────────┴───────────┴───────────┘"
      ]
     },
     "execution_count": 2,
     "metadata": {},
     "output_type": "execute_result"
    }
   ],
   "source": [
    "processed_train_df = pl.read_parquet(\n",
    "    PROCESSED_DATA_DIR.joinpath('training', 'train_full.parquet')\n",
    ")\n",
    "\n",
    "processed_train_df"
   ]
  },
  {
   "cell_type": "code",
   "execution_count": 3,
   "metadata": {},
   "outputs": [
    {
     "data": {
      "text/html": [
       "<div><style>\n",
       ".dataframe > thead > tr,\n",
       ".dataframe > tbody > tr {\n",
       "  text-align: right;\n",
       "  white-space: pre-wrap;\n",
       "}\n",
       "</style>\n",
       "<small>shape: (9, 22)</small><table border=\"1\" class=\"dataframe\"><thead><tr><th>statistic</th><th>carrier</th><th>flt_num</th><th>flt_departure_dt</th><th>observation_date</th><th>total_fare</th><th>days_till_flight</th><th>is_dst</th><th>route_id</th><th>flt_departure_local_time</th><th>flt_arrival_local_time</th><th>dur_min</th><th>tz_min</th><th>over_mn</th><th>dpt_4h_od</th><th>flt_count_dpt_24h</th><th>flt_count_dpt_4h</th><th>scaled_demand</th><th>scaled_share</th><th>origin_id</th><th>destination_id</th><th>flt_info_null</th></tr><tr><td>str</td><td>str</td><td>f64</td><td>str</td><td>str</td><td>f64</td><td>f64</td><td>f64</td><td>f64</td><td>str</td><td>str</td><td>f64</td><td>f64</td><td>f64</td><td>f64</td><td>f64</td><td>f64</td><td>f64</td><td>f64</td><td>f64</td><td>f64</td><td>f64</td></tr></thead><tbody><tr><td>&quot;count&quot;</td><td>&quot;1698818&quot;</td><td>1.698818e6</td><td>&quot;1698818&quot;</td><td>&quot;1698818&quot;</td><td>1.698818e6</td><td>1.698818e6</td><td>1.698818e6</td><td>1.698818e6</td><td>&quot;1599704&quot;</td><td>&quot;1599704&quot;</td><td>1.599704e6</td><td>1.599704e6</td><td>1.599704e6</td><td>1.599704e6</td><td>1.599704e6</td><td>1.599704e6</td><td>1.598505e6</td><td>1.598505e6</td><td>1.698818e6</td><td>1.698818e6</td><td>1.698818e6</td></tr><tr><td>&quot;null_count&quot;</td><td>&quot;0&quot;</td><td>0.0</td><td>&quot;0&quot;</td><td>&quot;0&quot;</td><td>0.0</td><td>0.0</td><td>0.0</td><td>0.0</td><td>&quot;99114&quot;</td><td>&quot;99114&quot;</td><td>99114.0</td><td>99114.0</td><td>99114.0</td><td>99114.0</td><td>99114.0</td><td>99114.0</td><td>100313.0</td><td>100313.0</td><td>0.0</td><td>0.0</td><td>0.0</td></tr><tr><td>&quot;mean&quot;</td><td>null</td><td>5910.75087</td><td>&quot;2018-06-24&quot;</td><td>&quot;2018-06-07&quot;</td><td>710.461822</td><td>17.419005</td><td>0.695564</td><td>5.91818</td><td>&quot;2018-07-01 06:49:28.030135&quot;</td><td>&quot;2018-07-01 08:45:02.581152&quot;</td><td>115.57585</td><td>-405.751189</td><td>0.013588</td><td>2.93231</td><td>23.034132</td><td>5.301361</td><td>5721.521024</td><td>271.993762</td><td>3.944983</td><td>3.839782</td><td>0.058343</td></tr><tr><td>&quot;std&quot;</td><td>null</td><td>4285.440264</td><td>null</td><td>null</td><td>543.207638</td><td>12.959215</td><td>0.460168</td><td>2.968049</td><td>null</td><td>null</td><td>62.670552</td><td>62.255521</td><td>0.115774</td><td>1.260417</td><td>11.898872</td><td>2.971523</td><td>2358.75767</td><td>63.198466</td><td>1.690606</td><td>1.631242</td><td>0.234391</td></tr><tr><td>&quot;min&quot;</td><td>&quot;L1&quot;</td><td>174.0</td><td>&quot;2018-01-01&quot;</td><td>&quot;2017-11-27&quot;</td><td>234.0</td><td>0.0</td><td>0.0</td><td>0.0</td><td>&quot;2018-01-01 05:31:00&quot;</td><td>&quot;2018-01-01 07:02:00&quot;</td><td>60.0</td><td>-480.0</td><td>0.0</td><td>0.0</td><td>2.0</td><td>1.0</td><td>1378.0</td><td>165.0</td><td>0.0</td><td>0.0</td><td>0.0</td></tr><tr><td>&quot;25%&quot;</td><td>null</td><td>2724.0</td><td>&quot;2018-03-30&quot;</td><td>&quot;2018-03-12&quot;</td><td>395.0</td><td>8.0</td><td>0.0</td><td>4.0</td><td>&quot;2018-04-04 08:05:00&quot;</td><td>&quot;2018-04-04 10:37:00&quot;</td><td>78.0</td><td>-420.0</td><td>0.0</td><td>2.0</td><td>9.0</td><td>3.0</td><td>2864.0</td><td>223.0</td><td>3.0</td><td>3.0</td><td>0.0</td></tr><tr><td>&quot;50%&quot;</td><td>null</td><td>5280.0</td><td>&quot;2018-06-08&quot;</td><td>&quot;2018-05-22&quot;</td><td>552.0</td><td>16.0</td><td>1.0</td><td>6.0</td><td>&quot;2018-06-20 06:05:00&quot;</td><td>&quot;2018-06-20 07:57:00&quot;</td><td>89.0</td><td>-420.0</td><td>0.0</td><td>3.0</td><td>22.0</td><td>5.0</td><td>7022.0</td><td>270.0</td><td>4.0</td><td>3.0</td><td>0.0</td></tr><tr><td>&quot;75%&quot;</td><td>null</td><td>6759.0</td><td>&quot;2018-09-24&quot;</td><td>&quot;2018-09-06&quot;</td><td>825.0</td><td>26.0</td><td>1.0</td><td>8.0</td><td>&quot;2018-09-29 10:40:00&quot;</td><td>&quot;2018-09-29 12:28:00&quot;</td><td>106.0</td><td>-360.0</td><td>0.0</td><td>4.0</td><td>35.0</td><td>8.0</td><td>7578.0</td><td>308.0</td><td>5.0</td><td>5.0</td><td>0.0</td></tr><tr><td>&quot;max&quot;</td><td>&quot;U3&quot;</td><td>29555.0</td><td>&quot;2018-12-31&quot;</td><td>&quot;2018-12-31&quot;</td><td>7859.0</td><td>328.0</td><td>1.0</td><td>11.0</td><td>&quot;2018-12-31 22:52:00&quot;</td><td>&quot;2019-01-01 00:26:00&quot;</td><td>304.0</td><td>-240.0</td><td>1.0</td><td>5.0</td><td>43.0</td><td>12.0</td><td>8396.0</td><td>423.0</td><td>7.0</td><td>7.0</td><td>1.0</td></tr></tbody></table></div>"
      ],
      "text/plain": [
       "shape: (9, 22)\n",
       "┌────────────┬─────────┬───────────┬───────────┬───┬───────────┬───────────┬───────────┬───────────┐\n",
       "│ statistic  ┆ carrier ┆ flt_num   ┆ flt_depar ┆ … ┆ scaled_sh ┆ origin_id ┆ destinati ┆ flt_info_ │\n",
       "│ ---        ┆ ---     ┆ ---       ┆ ture_dt   ┆   ┆ are       ┆ ---       ┆ on_id     ┆ null      │\n",
       "│ str        ┆ str     ┆ f64       ┆ ---       ┆   ┆ ---       ┆ f64       ┆ ---       ┆ ---       │\n",
       "│            ┆         ┆           ┆ str       ┆   ┆ f64       ┆           ┆ f64       ┆ f64       │\n",
       "╞════════════╪═════════╪═══════════╪═══════════╪═══╪═══════════╪═══════════╪═══════════╪═══════════╡\n",
       "│ count      ┆ 1698818 ┆ 1.698818e ┆ 1698818   ┆ … ┆ 1.598505e ┆ 1.698818e ┆ 1.698818e ┆ 1.698818e │\n",
       "│            ┆         ┆ 6         ┆           ┆   ┆ 6         ┆ 6         ┆ 6         ┆ 6         │\n",
       "│ null_count ┆ 0       ┆ 0.0       ┆ 0         ┆ … ┆ 100313.0  ┆ 0.0       ┆ 0.0       ┆ 0.0       │\n",
       "│ mean       ┆ null    ┆ 5910.7508 ┆ 2018-06-2 ┆ … ┆ 271.99376 ┆ 3.944983  ┆ 3.839782  ┆ 0.058343  │\n",
       "│            ┆         ┆ 7         ┆ 4         ┆   ┆ 2         ┆           ┆           ┆           │\n",
       "│ std        ┆ null    ┆ 4285.4402 ┆ null      ┆ … ┆ 63.198466 ┆ 1.690606  ┆ 1.631242  ┆ 0.234391  │\n",
       "│            ┆         ┆ 64        ┆           ┆   ┆           ┆           ┆           ┆           │\n",
       "│ min        ┆ L1      ┆ 174.0     ┆ 2018-01-0 ┆ … ┆ 165.0     ┆ 0.0       ┆ 0.0       ┆ 0.0       │\n",
       "│            ┆         ┆           ┆ 1         ┆   ┆           ┆           ┆           ┆           │\n",
       "│ 25%        ┆ null    ┆ 2724.0    ┆ 2018-03-3 ┆ … ┆ 223.0     ┆ 3.0       ┆ 3.0       ┆ 0.0       │\n",
       "│            ┆         ┆           ┆ 0         ┆   ┆           ┆           ┆           ┆           │\n",
       "│ 50%        ┆ null    ┆ 5280.0    ┆ 2018-06-0 ┆ … ┆ 270.0     ┆ 4.0       ┆ 3.0       ┆ 0.0       │\n",
       "│            ┆         ┆           ┆ 8         ┆   ┆           ┆           ┆           ┆           │\n",
       "│ 75%        ┆ null    ┆ 6759.0    ┆ 2018-09-2 ┆ … ┆ 308.0     ┆ 5.0       ┆ 5.0       ┆ 0.0       │\n",
       "│            ┆         ┆           ┆ 4         ┆   ┆           ┆           ┆           ┆           │\n",
       "│ max        ┆ U3      ┆ 29555.0   ┆ 2018-12-3 ┆ … ┆ 423.0     ┆ 7.0       ┆ 7.0       ┆ 1.0       │\n",
       "│            ┆         ┆           ┆ 1         ┆   ┆           ┆           ┆           ┆           │\n",
       "└────────────┴─────────┴───────────┴───────────┴───┴───────────┴───────────┴───────────┴───────────┘"
      ]
     },
     "execution_count": 3,
     "metadata": {},
     "output_type": "execute_result"
    }
   ],
   "source": [
    "processed_train_df.describe()"
   ]
  },
  {
   "cell_type": "markdown",
   "metadata": {},
   "source": [
    "## Data processing"
   ]
  },
  {
   "cell_type": "markdown",
   "metadata": {},
   "source": [
    "### Train validation split"
   ]
  },
  {
   "cell_type": "code",
   "execution_count": 4,
   "metadata": {},
   "outputs": [
    {
     "data": {
      "text/html": [
       "<div><style>\n",
       ".dataframe > thead > tr,\n",
       ".dataframe > tbody > tr {\n",
       "  text-align: right;\n",
       "  white-space: pre-wrap;\n",
       "}\n",
       "</style>\n",
       "<small>shape: (1_620_806, 21)</small><table border=\"1\" class=\"dataframe\"><thead><tr><th>carrier</th><th>flt_num</th><th>flt_departure_dt</th><th>observation_date</th><th>total_fare</th><th>days_till_flight</th><th>is_dst</th><th>route_id</th><th>flt_departure_local_time</th><th>flt_arrival_local_time</th><th>dur_min</th><th>tz_min</th><th>over_mn</th><th>dpt_4h_od</th><th>flt_count_dpt_24h</th><th>flt_count_dpt_4h</th><th>scaled_demand</th><th>scaled_share</th><th>origin_id</th><th>destination_id</th><th>flt_info_null</th></tr><tr><td>str</td><td>i64</td><td>date</td><td>date</td><td>i64</td><td>i16</td><td>i8</td><td>u8</td><td>datetime[ns]</td><td>datetime[ns]</td><td>i16</td><td>i16</td><td>i8</td><td>i8</td><td>u8</td><td>u8</td><td>i64</td><td>i64</td><td>u8</td><td>u8</td><td>u8</td></tr></thead><tbody><tr><td>&quot;L2&quot;</td><td>5242</td><td>2018-01-01</td><td>2017-11-27</td><td>846</td><td>35</td><td>0</td><td>4</td><td>2018-01-01 10:49:00</td><td>2018-01-01 12:14:00</td><td>85</td><td>-480</td><td>0</td><td>2</td><td>30</td><td>5</td><td>6659</td><td>212</td><td>3</td><td>4</td><td>0</td></tr><tr><td>&quot;OTH&quot;</td><td>4790</td><td>2018-01-01</td><td>2017-11-27</td><td>937</td><td>35</td><td>0</td><td>4</td><td>2018-01-01 14:57:00</td><td>2018-01-01 16:17:00</td><td>80</td><td>-480</td><td>0</td><td>3</td><td>30</td><td>8</td><td>6659</td><td>316</td><td>3</td><td>4</td><td>0</td></tr><tr><td>&quot;OTH&quot;</td><td>4837</td><td>2018-01-01</td><td>2017-11-27</td><td>281</td><td>35</td><td>0</td><td>6</td><td>2018-01-01 19:38:00</td><td>2018-01-01 20:43:00</td><td>65</td><td>-480</td><td>0</td><td>4</td><td>30</td><td>7</td><td>6659</td><td>316</td><td>4</td><td>3</td><td>0</td></tr><tr><td>&quot;L2&quot;</td><td>5314</td><td>2018-01-01</td><td>2017-11-27</td><td>403</td><td>35</td><td>0</td><td>6</td><td>2018-01-01 19:05:00</td><td>2018-01-01 20:17:00</td><td>72</td><td>-480</td><td>0</td><td>4</td><td>30</td><td>7</td><td>6659</td><td>213</td><td>4</td><td>3</td><td>0</td></tr><tr><td>&quot;OTH&quot;</td><td>6187</td><td>2018-01-01</td><td>2017-11-27</td><td>341</td><td>35</td><td>0</td><td>11</td><td>2018-01-01 20:30:00</td><td>2018-01-01 21:58:00</td><td>88</td><td>-480</td><td>0</td><td>5</td><td>21</td><td>5</td><td>6579</td><td>354</td><td>7</td><td>3</td><td>0</td></tr><tr><td>&quot;U1&quot;</td><td>4771</td><td>2018-01-01</td><td>2017-11-27</td><td>513</td><td>35</td><td>0</td><td>4</td><td>null</td><td>null</td><td>null</td><td>null</td><td>null</td><td>null</td><td>null</td><td>null</td><td>null</td><td>null</td><td>3</td><td>4</td><td>1</td></tr><tr><td>&quot;L3&quot;</td><td>15130</td><td>2018-01-01</td><td>2017-11-27</td><td>1298</td><td>35</td><td>0</td><td>4</td><td>2018-01-01 16:53:00</td><td>2018-01-01 18:19:00</td><td>86</td><td>-480</td><td>0</td><td>4</td><td>30</td><td>7</td><td>6659</td><td>231</td><td>3</td><td>4</td><td>0</td></tr><tr><td>&quot;L1&quot;</td><td>1396</td><td>2018-01-01</td><td>2017-11-27</td><td>372</td><td>35</td><td>0</td><td>11</td><td>2018-01-01 19:35:00</td><td>2018-01-01 21:08:00</td><td>93</td><td>-480</td><td>0</td><td>4</td><td>21</td><td>7</td><td>6579</td><td>262</td><td>7</td><td>3</td><td>0</td></tr><tr><td>&quot;L1&quot;</td><td>6316</td><td>2018-01-01</td><td>2017-11-27</td><td>1119</td><td>35</td><td>0</td><td>1</td><td>2018-01-01 12:31:00</td><td>2018-01-01 15:55:00</td><td>204</td><td>-300</td><td>0</td><td>3</td><td>5</td><td>2</td><td>1468</td><td>360</td><td>1</td><td>5</td><td>0</td></tr><tr><td>&quot;L1&quot;</td><td>4605</td><td>2018-01-01</td><td>2017-11-27</td><td>372</td><td>35</td><td>0</td><td>11</td><td>2018-01-01 17:18:00</td><td>2018-01-01 18:57:00</td><td>99</td><td>-480</td><td>0</td><td>4</td><td>21</td><td>7</td><td>6579</td><td>262</td><td>7</td><td>3</td><td>0</td></tr><tr><td>&hellip;</td><td>&hellip;</td><td>&hellip;</td><td>&hellip;</td><td>&hellip;</td><td>&hellip;</td><td>&hellip;</td><td>&hellip;</td><td>&hellip;</td><td>&hellip;</td><td>&hellip;</td><td>&hellip;</td><td>&hellip;</td><td>&hellip;</td><td>&hellip;</td><td>&hellip;</td><td>&hellip;</td><td>&hellip;</td><td>&hellip;</td><td>&hellip;</td><td>&hellip;</td></tr><tr><td>&quot;U1&quot;</td><td>6128</td><td>2018-12-15</td><td>2018-12-15</td><td>1111</td><td>0</td><td>0</td><td>5</td><td>2018-12-15 09:35:00</td><td>2018-12-15 11:12:00</td><td>97</td><td>-480</td><td>0</td><td>2</td><td>20</td><td>6</td><td>5817</td><td>252</td><td>3</td><td>7</td><td>0</td></tr><tr><td>&quot;L2&quot;</td><td>9051</td><td>2018-12-15</td><td>2018-12-15</td><td>395</td><td>0</td><td>0</td><td>6</td><td>2018-12-15 18:10:00</td><td>2018-12-15 19:22:00</td><td>72</td><td>-480</td><td>0</td><td>4</td><td>33</td><td>11</td><td>7128</td><td>224</td><td>4</td><td>3</td><td>0</td></tr><tr><td>&quot;L1&quot;</td><td>5836</td><td>2018-12-15</td><td>2018-12-15</td><td>395</td><td>0</td><td>0</td><td>4</td><td>2018-12-15 10:40:00</td><td>2018-12-15 11:56:00</td><td>76</td><td>-480</td><td>0</td><td>2</td><td>30</td><td>7</td><td>7128</td><td>189</td><td>3</td><td>4</td><td>0</td></tr><tr><td>&quot;U1&quot;</td><td>6165</td><td>2018-12-15</td><td>2018-12-15</td><td>1111</td><td>0</td><td>0</td><td>5</td><td>2018-12-15 15:05:00</td><td>2018-12-15 16:44:00</td><td>99</td><td>-480</td><td>0</td><td>3</td><td>20</td><td>4</td><td>5817</td><td>252</td><td>3</td><td>7</td><td>0</td></tr><tr><td>&quot;U1&quot;</td><td>6153</td><td>2018-12-15</td><td>2018-12-15</td><td>1111</td><td>0</td><td>0</td><td>5</td><td>2018-12-15 17:00:00</td><td>2018-12-15 18:39:00</td><td>99</td><td>-480</td><td>0</td><td>4</td><td>20</td><td>8</td><td>5817</td><td>252</td><td>3</td><td>7</td><td>0</td></tr><tr><td>&quot;L2&quot;</td><td>7402</td><td>2018-12-15</td><td>2018-12-15</td><td>671</td><td>0</td><td>0</td><td>6</td><td>2018-12-15 14:10:00</td><td>2018-12-15 15:22:00</td><td>72</td><td>-480</td><td>0</td><td>3</td><td>33</td><td>9</td><td>7128</td><td>224</td><td>4</td><td>3</td><td>0</td></tr><tr><td>&quot;U3&quot;</td><td>768</td><td>2018-12-15</td><td>2018-12-15</td><td>357</td><td>0</td><td>0</td><td>0</td><td>2018-12-15 20:20:00</td><td>2018-12-15 23:31:00</td><td>191</td><td>-420</td><td>0</td><td>5</td><td>6</td><td>1</td><td>3070</td><td>179</td><td>0</td><td>5</td><td>0</td></tr><tr><td>&quot;L1&quot;</td><td>10838</td><td>2018-12-15</td><td>2018-12-15</td><td>1346</td><td>0</td><td>0</td><td>8</td><td>2018-12-15 16:15:00</td><td>2018-12-15 20:59:00</td><td>284</td><td>-360</td><td>0</td><td>4</td><td>4</td><td>1</td><td>2164</td><td>373</td><td>5</td><td>1</td><td>0</td></tr><tr><td>&quot;L1&quot;</td><td>4781</td><td>2018-12-15</td><td>2018-12-15</td><td>1067</td><td>0</td><td>0</td><td>7</td><td>2018-12-15 07:40:00</td><td>2018-12-15 08:50:00</td><td>70</td><td>-360</td><td>0</td><td>1</td><td>6</td><td>4</td><td>3070</td><td>272</td><td>5</td><td>0</td><td>0</td></tr><tr><td>&quot;L2&quot;</td><td>5274</td><td>2018-12-15</td><td>2018-12-15</td><td>1742</td><td>0</td><td>0</td><td>9</td><td>2018-12-15 11:03:00</td><td>2018-12-15 13:44:00</td><td>161</td><td>-360</td><td>0</td><td>2</td><td>6</td><td>2</td><td>1618</td><td>310</td><td>5</td><td>6</td><td>0</td></tr></tbody></table></div>"
      ],
      "text/plain": [
       "shape: (1_620_806, 21)\n",
       "┌─────────┬─────────┬────────────┬────────────┬───┬────────────┬───────────┬───────────┬───────────┐\n",
       "│ carrier ┆ flt_num ┆ flt_depart ┆ observatio ┆ … ┆ scaled_sha ┆ origin_id ┆ destinati ┆ flt_info_ │\n",
       "│ ---     ┆ ---     ┆ ure_dt     ┆ n_date     ┆   ┆ re         ┆ ---       ┆ on_id     ┆ null      │\n",
       "│ str     ┆ i64     ┆ ---        ┆ ---        ┆   ┆ ---        ┆ u8        ┆ ---       ┆ ---       │\n",
       "│         ┆         ┆ date       ┆ date       ┆   ┆ i64        ┆           ┆ u8        ┆ u8        │\n",
       "╞═════════╪═════════╪════════════╪════════════╪═══╪════════════╪═══════════╪═══════════╪═══════════╡\n",
       "│ L2      ┆ 5242    ┆ 2018-01-01 ┆ 2017-11-27 ┆ … ┆ 212        ┆ 3         ┆ 4         ┆ 0         │\n",
       "│ OTH     ┆ 4790    ┆ 2018-01-01 ┆ 2017-11-27 ┆ … ┆ 316        ┆ 3         ┆ 4         ┆ 0         │\n",
       "│ OTH     ┆ 4837    ┆ 2018-01-01 ┆ 2017-11-27 ┆ … ┆ 316        ┆ 4         ┆ 3         ┆ 0         │\n",
       "│ L2      ┆ 5314    ┆ 2018-01-01 ┆ 2017-11-27 ┆ … ┆ 213        ┆ 4         ┆ 3         ┆ 0         │\n",
       "│ OTH     ┆ 6187    ┆ 2018-01-01 ┆ 2017-11-27 ┆ … ┆ 354        ┆ 7         ┆ 3         ┆ 0         │\n",
       "│ U1      ┆ 4771    ┆ 2018-01-01 ┆ 2017-11-27 ┆ … ┆ null       ┆ 3         ┆ 4         ┆ 1         │\n",
       "│ L3      ┆ 15130   ┆ 2018-01-01 ┆ 2017-11-27 ┆ … ┆ 231        ┆ 3         ┆ 4         ┆ 0         │\n",
       "│ L1      ┆ 1396    ┆ 2018-01-01 ┆ 2017-11-27 ┆ … ┆ 262        ┆ 7         ┆ 3         ┆ 0         │\n",
       "│ L1      ┆ 6316    ┆ 2018-01-01 ┆ 2017-11-27 ┆ … ┆ 360        ┆ 1         ┆ 5         ┆ 0         │\n",
       "│ L1      ┆ 4605    ┆ 2018-01-01 ┆ 2017-11-27 ┆ … ┆ 262        ┆ 7         ┆ 3         ┆ 0         │\n",
       "│ …       ┆ …       ┆ …          ┆ …          ┆ … ┆ …          ┆ …         ┆ …         ┆ …         │\n",
       "│ U1      ┆ 6128    ┆ 2018-12-15 ┆ 2018-12-15 ┆ … ┆ 252        ┆ 3         ┆ 7         ┆ 0         │\n",
       "│ L2      ┆ 9051    ┆ 2018-12-15 ┆ 2018-12-15 ┆ … ┆ 224        ┆ 4         ┆ 3         ┆ 0         │\n",
       "│ L1      ┆ 5836    ┆ 2018-12-15 ┆ 2018-12-15 ┆ … ┆ 189        ┆ 3         ┆ 4         ┆ 0         │\n",
       "│ U1      ┆ 6165    ┆ 2018-12-15 ┆ 2018-12-15 ┆ … ┆ 252        ┆ 3         ┆ 7         ┆ 0         │\n",
       "│ U1      ┆ 6153    ┆ 2018-12-15 ┆ 2018-12-15 ┆ … ┆ 252        ┆ 3         ┆ 7         ┆ 0         │\n",
       "│ L2      ┆ 7402    ┆ 2018-12-15 ┆ 2018-12-15 ┆ … ┆ 224        ┆ 4         ┆ 3         ┆ 0         │\n",
       "│ U3      ┆ 768     ┆ 2018-12-15 ┆ 2018-12-15 ┆ … ┆ 179        ┆ 0         ┆ 5         ┆ 0         │\n",
       "│ L1      ┆ 10838   ┆ 2018-12-15 ┆ 2018-12-15 ┆ … ┆ 373        ┆ 5         ┆ 1         ┆ 0         │\n",
       "│ L1      ┆ 4781    ┆ 2018-12-15 ┆ 2018-12-15 ┆ … ┆ 272        ┆ 5         ┆ 0         ┆ 0         │\n",
       "│ L2      ┆ 5274    ┆ 2018-12-15 ┆ 2018-12-15 ┆ … ┆ 310        ┆ 5         ┆ 6         ┆ 0         │\n",
       "└─────────┴─────────┴────────────┴────────────┴───┴────────────┴───────────┴───────────┴───────────┘"
      ]
     },
     "execution_count": 4,
     "metadata": {},
     "output_type": "execute_result"
    }
   ],
   "source": [
    "train_df = processed_train_df.filter(\n",
    "    pl.col('flt_departure_dt') <= VALIDATION_CUTOFF\n",
    ")\n",
    "\n",
    "train_df"
   ]
  },
  {
   "cell_type": "code",
   "execution_count": 5,
   "metadata": {},
   "outputs": [
    {
     "data": {
      "text/html": [
       "<div><style>\n",
       ".dataframe > thead > tr,\n",
       ".dataframe > tbody > tr {\n",
       "  text-align: right;\n",
       "  white-space: pre-wrap;\n",
       "}\n",
       "</style>\n",
       "<small>shape: (9, 22)</small><table border=\"1\" class=\"dataframe\"><thead><tr><th>statistic</th><th>carrier</th><th>flt_num</th><th>flt_departure_dt</th><th>observation_date</th><th>total_fare</th><th>days_till_flight</th><th>is_dst</th><th>route_id</th><th>flt_departure_local_time</th><th>flt_arrival_local_time</th><th>dur_min</th><th>tz_min</th><th>over_mn</th><th>dpt_4h_od</th><th>flt_count_dpt_24h</th><th>flt_count_dpt_4h</th><th>scaled_demand</th><th>scaled_share</th><th>origin_id</th><th>destination_id</th><th>flt_info_null</th></tr><tr><td>str</td><td>str</td><td>f64</td><td>str</td><td>str</td><td>f64</td><td>f64</td><td>f64</td><td>f64</td><td>str</td><td>str</td><td>f64</td><td>f64</td><td>f64</td><td>f64</td><td>f64</td><td>f64</td><td>f64</td><td>f64</td><td>f64</td><td>f64</td><td>f64</td></tr></thead><tbody><tr><td>&quot;count&quot;</td><td>&quot;1620806&quot;</td><td>1.620806e6</td><td>&quot;1620806&quot;</td><td>&quot;1620806&quot;</td><td>1.620806e6</td><td>1.620806e6</td><td>1.620806e6</td><td>1.620806e6</td><td>&quot;1523997&quot;</td><td>&quot;1523997&quot;</td><td>1.523997e6</td><td>1.523997e6</td><td>1.523997e6</td><td>1.523997e6</td><td>1.523997e6</td><td>1.523997e6</td><td>1.520493e6</td><td>1.520493e6</td><td>1.620806e6</td><td>1.620806e6</td><td>1.620806e6</td></tr><tr><td>&quot;null_count&quot;</td><td>&quot;0&quot;</td><td>0.0</td><td>&quot;0&quot;</td><td>&quot;0&quot;</td><td>0.0</td><td>0.0</td><td>0.0</td><td>0.0</td><td>&quot;96809&quot;</td><td>&quot;96809&quot;</td><td>96809.0</td><td>96809.0</td><td>96809.0</td><td>96809.0</td><td>96809.0</td><td>96809.0</td><td>100313.0</td><td>100313.0</td><td>0.0</td><td>0.0</td><td>0.0</td></tr><tr><td>&quot;mean&quot;</td><td>null</td><td>5911.562446</td><td>&quot;2018-06-15&quot;</td><td>&quot;2018-05-29&quot;</td><td>697.322285</td><td>17.304704</td><td>0.729042</td><td>5.928195</td><td>&quot;2018-06-22 13:19:10.817422&quot;</td><td>&quot;2018-06-22 15:14:39.224408&quot;</td><td>115.47345</td><td>-403.738236</td><td>0.013599</td><td>2.935314</td><td>23.123328</td><td>5.324437</td><td>5748.60474</td><td>272.050922</td><td>3.950592</td><td>3.838831</td><td>0.059729</td></tr><tr><td>&quot;std&quot;</td><td>null</td><td>4281.640189</td><td>null</td><td>null</td><td>476.82029</td><td>12.891268</td><td>0.444454</td><td>2.967564</td><td>null</td><td>null</td><td>62.571682</td><td>61.889884</td><td>0.11582</td><td>1.260946</td><td>11.935589</td><td>2.988367</td><td>2368.714829</td><td>63.186493</td><td>1.69039</td><td>1.628628</td><td>0.236984</td></tr><tr><td>&quot;min&quot;</td><td>&quot;L1&quot;</td><td>174.0</td><td>&quot;2018-01-01&quot;</td><td>&quot;2017-11-27&quot;</td><td>234.0</td><td>0.0</td><td>0.0</td><td>0.0</td><td>&quot;2018-01-01 05:31:00&quot;</td><td>&quot;2018-01-01 07:02:00&quot;</td><td>60.0</td><td>-480.0</td><td>0.0</td><td>0.0</td><td>2.0</td><td>1.0</td><td>1378.0</td><td>165.0</td><td>0.0</td><td>0.0</td><td>0.0</td></tr><tr><td>&quot;25%&quot;</td><td>null</td><td>2724.0</td><td>&quot;2018-03-28&quot;</td><td>&quot;2018-03-10&quot;</td><td>395.0</td><td>8.0</td><td>0.0</td><td>4.0</td><td>&quot;2018-04-01 19:30:00&quot;</td><td>&quot;2018-04-01 20:59:00&quot;</td><td>78.0</td><td>-420.0</td><td>0.0</td><td>2.0</td><td>9.0</td><td>3.0</td><td>2864.0</td><td>223.0</td><td>3.0</td><td>3.0</td><td>0.0</td></tr><tr><td>&quot;50%&quot;</td><td>null</td><td>5274.0</td><td>&quot;2018-05-29&quot;</td><td>&quot;2018-05-12&quot;</td><td>545.0</td><td>16.0</td><td>1.0</td><td>6.0</td><td>&quot;2018-06-10 08:00:00&quot;</td><td>&quot;2018-06-10 10:13:00&quot;</td><td>89.0</td><td>-420.0</td><td>0.0</td><td>3.0</td><td>23.0</td><td>5.0</td><td>7054.0</td><td>271.0</td><td>4.0</td><td>3.0</td><td>0.0</td></tr><tr><td>&quot;75%&quot;</td><td>null</td><td>6759.0</td><td>&quot;2018-09-09&quot;</td><td>&quot;2018-08-23&quot;</td><td>815.0</td><td>26.0</td><td>1.0</td><td>8.0</td><td>&quot;2018-09-15 14:57:00&quot;</td><td>&quot;2018-09-15 16:44:00&quot;</td><td>105.0</td><td>-360.0</td><td>0.0</td><td>4.0</td><td>35.0</td><td>8.0</td><td>7578.0</td><td>308.0</td><td>5.0</td><td>5.0</td><td>0.0</td></tr><tr><td>&quot;max&quot;</td><td>&quot;U3&quot;</td><td>29555.0</td><td>&quot;2018-12-15&quot;</td><td>&quot;2018-12-15&quot;</td><td>7859.0</td><td>328.0</td><td>1.0</td><td>11.0</td><td>&quot;2018-12-15 22:45:00&quot;</td><td>&quot;2018-12-16 00:02:00&quot;</td><td>304.0</td><td>-240.0</td><td>1.0</td><td>5.0</td><td>43.0</td><td>12.0</td><td>8396.0</td><td>423.0</td><td>7.0</td><td>7.0</td><td>1.0</td></tr></tbody></table></div>"
      ],
      "text/plain": [
       "shape: (9, 22)\n",
       "┌────────────┬─────────┬───────────┬───────────┬───┬───────────┬───────────┬───────────┬───────────┐\n",
       "│ statistic  ┆ carrier ┆ flt_num   ┆ flt_depar ┆ … ┆ scaled_sh ┆ origin_id ┆ destinati ┆ flt_info_ │\n",
       "│ ---        ┆ ---     ┆ ---       ┆ ture_dt   ┆   ┆ are       ┆ ---       ┆ on_id     ┆ null      │\n",
       "│ str        ┆ str     ┆ f64       ┆ ---       ┆   ┆ ---       ┆ f64       ┆ ---       ┆ ---       │\n",
       "│            ┆         ┆           ┆ str       ┆   ┆ f64       ┆           ┆ f64       ┆ f64       │\n",
       "╞════════════╪═════════╪═══════════╪═══════════╪═══╪═══════════╪═══════════╪═══════════╪═══════════╡\n",
       "│ count      ┆ 1620806 ┆ 1.620806e ┆ 1620806   ┆ … ┆ 1.520493e ┆ 1.620806e ┆ 1.620806e ┆ 1.620806e │\n",
       "│            ┆         ┆ 6         ┆           ┆   ┆ 6         ┆ 6         ┆ 6         ┆ 6         │\n",
       "│ null_count ┆ 0       ┆ 0.0       ┆ 0         ┆ … ┆ 100313.0  ┆ 0.0       ┆ 0.0       ┆ 0.0       │\n",
       "│ mean       ┆ null    ┆ 5911.5624 ┆ 2018-06-1 ┆ … ┆ 272.05092 ┆ 3.950592  ┆ 3.838831  ┆ 0.059729  │\n",
       "│            ┆         ┆ 46        ┆ 5         ┆   ┆ 2         ┆           ┆           ┆           │\n",
       "│ std        ┆ null    ┆ 4281.6401 ┆ null      ┆ … ┆ 63.186493 ┆ 1.69039   ┆ 1.628628  ┆ 0.236984  │\n",
       "│            ┆         ┆ 89        ┆           ┆   ┆           ┆           ┆           ┆           │\n",
       "│ min        ┆ L1      ┆ 174.0     ┆ 2018-01-0 ┆ … ┆ 165.0     ┆ 0.0       ┆ 0.0       ┆ 0.0       │\n",
       "│            ┆         ┆           ┆ 1         ┆   ┆           ┆           ┆           ┆           │\n",
       "│ 25%        ┆ null    ┆ 2724.0    ┆ 2018-03-2 ┆ … ┆ 223.0     ┆ 3.0       ┆ 3.0       ┆ 0.0       │\n",
       "│            ┆         ┆           ┆ 8         ┆   ┆           ┆           ┆           ┆           │\n",
       "│ 50%        ┆ null    ┆ 5274.0    ┆ 2018-05-2 ┆ … ┆ 271.0     ┆ 4.0       ┆ 3.0       ┆ 0.0       │\n",
       "│            ┆         ┆           ┆ 9         ┆   ┆           ┆           ┆           ┆           │\n",
       "│ 75%        ┆ null    ┆ 6759.0    ┆ 2018-09-0 ┆ … ┆ 308.0     ┆ 5.0       ┆ 5.0       ┆ 0.0       │\n",
       "│            ┆         ┆           ┆ 9         ┆   ┆           ┆           ┆           ┆           │\n",
       "│ max        ┆ U3      ┆ 29555.0   ┆ 2018-12-1 ┆ … ┆ 423.0     ┆ 7.0       ┆ 7.0       ┆ 1.0       │\n",
       "│            ┆         ┆           ┆ 5         ┆   ┆           ┆           ┆           ┆           │\n",
       "└────────────┴─────────┴───────────┴───────────┴───┴───────────┴───────────┴───────────┴───────────┘"
      ]
     },
     "execution_count": 5,
     "metadata": {},
     "output_type": "execute_result"
    }
   ],
   "source": [
    "train_df.describe()"
   ]
  },
  {
   "cell_type": "code",
   "execution_count": 6,
   "metadata": {},
   "outputs": [
    {
     "data": {
      "text/html": [
       "<div><style>\n",
       ".dataframe > thead > tr,\n",
       ".dataframe > tbody > tr {\n",
       "  text-align: right;\n",
       "  white-space: pre-wrap;\n",
       "}\n",
       "</style>\n",
       "<small>shape: (34_591, 21)</small><table border=\"1\" class=\"dataframe\"><thead><tr><th>carrier</th><th>flt_num</th><th>flt_departure_dt</th><th>observation_date</th><th>total_fare</th><th>days_till_flight</th><th>is_dst</th><th>route_id</th><th>flt_departure_local_time</th><th>flt_arrival_local_time</th><th>dur_min</th><th>tz_min</th><th>over_mn</th><th>dpt_4h_od</th><th>flt_count_dpt_24h</th><th>flt_count_dpt_4h</th><th>scaled_demand</th><th>scaled_share</th><th>origin_id</th><th>destination_id</th><th>flt_info_null</th></tr><tr><td>str</td><td>i64</td><td>date</td><td>date</td><td>i64</td><td>i16</td><td>i8</td><td>u8</td><td>datetime[ns]</td><td>datetime[ns]</td><td>i16</td><td>i16</td><td>i8</td><td>i8</td><td>u8</td><td>u8</td><td>i64</td><td>i64</td><td>u8</td><td>u8</td><td>u8</td></tr></thead><tbody><tr><td>&quot;L1&quot;</td><td>2724</td><td>2018-12-16</td><td>2018-03-26</td><td>783</td><td>265</td><td>0</td><td>8</td><td>2018-12-16 06:35:00</td><td>2018-12-16 11:00:00</td><td>265</td><td>-360</td><td>0</td><td>1</td><td>5</td><td>2</td><td>2164</td><td>373</td><td>5</td><td>1</td><td>0</td></tr><tr><td>&quot;L1&quot;</td><td>6517</td><td>2018-12-16</td><td>2018-03-26</td><td>1436</td><td>265</td><td>0</td><td>8</td><td>2018-12-16 16:15:00</td><td>2018-12-16 20:52:00</td><td>277</td><td>-360</td><td>0</td><td>4</td><td>5</td><td>1</td><td>2164</td><td>373</td><td>5</td><td>1</td><td>0</td></tr><tr><td>&quot;L1&quot;</td><td>2997</td><td>2018-12-16</td><td>2018-03-26</td><td>1066</td><td>265</td><td>0</td><td>8</td><td>2018-12-16 11:34:00</td><td>2018-12-16 16:10:00</td><td>276</td><td>-360</td><td>0</td><td>2</td><td>5</td><td>1</td><td>2164</td><td>373</td><td>5</td><td>1</td><td>0</td></tr><tr><td>&quot;U1&quot;</td><td>6385</td><td>2018-12-16</td><td>2018-10-17</td><td>410</td><td>60</td><td>0</td><td>4</td><td>2018-12-16 07:00:00</td><td>2018-12-16 08:15:00</td><td>75</td><td>-480</td><td>0</td><td>1</td><td>36</td><td>7</td><td>7128</td><td>193</td><td>3</td><td>4</td><td>0</td></tr><tr><td>&quot;U1&quot;</td><td>6128</td><td>2018-12-16</td><td>2018-10-17</td><td>511</td><td>60</td><td>0</td><td>5</td><td>2018-12-16 09:35:00</td><td>2018-12-16 11:12:00</td><td>97</td><td>-480</td><td>0</td><td>2</td><td>21</td><td>6</td><td>5817</td><td>252</td><td>3</td><td>7</td><td>0</td></tr><tr><td>&quot;U1&quot;</td><td>6140</td><td>2018-12-16</td><td>2018-10-17</td><td>658</td><td>60</td><td>0</td><td>5</td><td>2018-12-16 13:38:00</td><td>2018-12-16 15:17:00</td><td>99</td><td>-480</td><td>0</td><td>3</td><td>21</td><td>4</td><td>5817</td><td>252</td><td>3</td><td>7</td><td>0</td></tr><tr><td>&quot;U1&quot;</td><td>3842</td><td>2018-12-16</td><td>2018-10-17</td><td>379</td><td>60</td><td>0</td><td>4</td><td>2018-12-16 06:15:00</td><td>2018-12-16 07:25:00</td><td>70</td><td>-480</td><td>0</td><td>1</td><td>36</td><td>7</td><td>7128</td><td>193</td><td>3</td><td>4</td><td>0</td></tr><tr><td>&quot;U1&quot;</td><td>6153</td><td>2018-12-16</td><td>2018-10-17</td><td>721</td><td>60</td><td>0</td><td>5</td><td>2018-12-16 17:00:00</td><td>2018-12-16 18:39:00</td><td>99</td><td>-480</td><td>0</td><td>4</td><td>21</td><td>7</td><td>5817</td><td>252</td><td>3</td><td>7</td><td>0</td></tr><tr><td>&quot;U1&quot;</td><td>4771</td><td>2018-12-16</td><td>2018-10-17</td><td>457</td><td>60</td><td>0</td><td>4</td><td>2018-12-16 08:15:00</td><td>2018-12-16 09:32:00</td><td>77</td><td>-480</td><td>0</td><td>2</td><td>36</td><td>9</td><td>7128</td><td>193</td><td>3</td><td>4</td><td>0</td></tr><tr><td>&quot;U1&quot;</td><td>6184</td><td>2018-12-16</td><td>2018-10-17</td><td>596</td><td>60</td><td>0</td><td>5</td><td>2018-12-16 20:30:00</td><td>2018-12-16 22:09:00</td><td>99</td><td>-480</td><td>0</td><td>5</td><td>21</td><td>3</td><td>5817</td><td>252</td><td>3</td><td>7</td><td>0</td></tr><tr><td>&hellip;</td><td>&hellip;</td><td>&hellip;</td><td>&hellip;</td><td>&hellip;</td><td>&hellip;</td><td>&hellip;</td><td>&hellip;</td><td>&hellip;</td><td>&hellip;</td><td>&hellip;</td><td>&hellip;</td><td>&hellip;</td><td>&hellip;</td><td>&hellip;</td><td>&hellip;</td><td>&hellip;</td><td>&hellip;</td><td>&hellip;</td><td>&hellip;</td><td>&hellip;</td></tr><tr><td>&quot;U1&quot;</td><td>6165</td><td>2018-12-22</td><td>2018-12-22</td><td>1111</td><td>0</td><td>0</td><td>5</td><td>2018-12-22 15:05:00</td><td>2018-12-22 16:44:00</td><td>99</td><td>-480</td><td>0</td><td>3</td><td>22</td><td>5</td><td>5817</td><td>252</td><td>3</td><td>7</td><td>0</td></tr><tr><td>&quot;L2&quot;</td><td>7067</td><td>2018-12-22</td><td>2018-12-22</td><td>1742</td><td>0</td><td>0</td><td>9</td><td>2018-12-22 13:17:00</td><td>2018-12-22 16:00:00</td><td>163</td><td>-360</td><td>0</td><td>3</td><td>7</td><td>3</td><td>1618</td><td>310</td><td>5</td><td>6</td><td>0</td></tr><tr><td>&quot;L1&quot;</td><td>5927</td><td>2018-12-22</td><td>2018-12-22</td><td>3770</td><td>0</td><td>0</td><td>1</td><td>2018-12-22 20:45:00</td><td>2018-12-22 23:57:00</td><td>192</td><td>-300</td><td>0</td><td>5</td><td>5</td><td>1</td><td>2164</td><td>373</td><td>1</td><td>5</td><td>0</td></tr><tr><td>&quot;L1&quot;</td><td>5135</td><td>2018-12-22</td><td>2018-12-22</td><td>3305</td><td>0</td><td>0</td><td>7</td><td>2018-12-22 07:25:00</td><td>2018-12-22 08:42:00</td><td>77</td><td>-360</td><td>0</td><td>1</td><td>10</td><td>3</td><td>3070</td><td>272</td><td>5</td><td>0</td><td>0</td></tr><tr><td>&quot;L3&quot;</td><td>18214</td><td>2018-12-22</td><td>2018-12-22</td><td>671</td><td>0</td><td>0</td><td>4</td><td>2018-12-22 13:00:00</td><td>2018-12-22 14:18:00</td><td>78</td><td>-480</td><td>0</td><td>3</td><td>33</td><td>8</td><td>7128</td><td>231</td><td>3</td><td>4</td><td>0</td></tr><tr><td>&quot;U1&quot;</td><td>6115</td><td>2018-12-22</td><td>2018-12-22</td><td>1111</td><td>0</td><td>0</td><td>5</td><td>2018-12-22 06:45:00</td><td>2018-12-22 08:22:00</td><td>97</td><td>-480</td><td>0</td><td>1</td><td>22</td><td>4</td><td>5817</td><td>252</td><td>3</td><td>7</td><td>0</td></tr><tr><td>&quot;L2&quot;</td><td>937</td><td>2018-12-22</td><td>2018-12-22</td><td>1742</td><td>0</td><td>0</td><td>9</td><td>2018-12-22 15:33:00</td><td>2018-12-22 18:19:00</td><td>166</td><td>-360</td><td>0</td><td>3</td><td>7</td><td>3</td><td>1618</td><td>310</td><td>5</td><td>6</td><td>0</td></tr><tr><td>&quot;U1&quot;</td><td>6140</td><td>2018-12-22</td><td>2018-12-22</td><td>1111</td><td>0</td><td>0</td><td>5</td><td>2018-12-22 13:38:00</td><td>2018-12-22 15:17:00</td><td>99</td><td>-480</td><td>0</td><td>3</td><td>22</td><td>5</td><td>5817</td><td>252</td><td>3</td><td>7</td><td>0</td></tr><tr><td>&quot;L1&quot;</td><td>2149</td><td>2018-12-22</td><td>2018-12-22</td><td>4169</td><td>0</td><td>0</td><td>3</td><td>2018-12-22 00:51:00</td><td>2018-12-22 05:44:00</td><td>293</td><td>-480</td><td>0</td><td>0</td><td>8</td><td>1</td><td>2790</td><td>405</td><td>3</td><td>2</td><td>0</td></tr><tr><td>&quot;L1&quot;</td><td>5663</td><td>2018-12-22</td><td>2018-12-22</td><td>2037</td><td>0</td><td>0</td><td>3</td><td>2018-12-22 12:20:00</td><td>2018-12-22 17:09:00</td><td>289</td><td>-480</td><td>0</td><td>3</td><td>8</td><td>3</td><td>2790</td><td>405</td><td>3</td><td>2</td><td>0</td></tr></tbody></table></div>"
      ],
      "text/plain": [
       "shape: (34_591, 21)\n",
       "┌─────────┬─────────┬────────────┬────────────┬───┬────────────┬───────────┬───────────┬───────────┐\n",
       "│ carrier ┆ flt_num ┆ flt_depart ┆ observatio ┆ … ┆ scaled_sha ┆ origin_id ┆ destinati ┆ flt_info_ │\n",
       "│ ---     ┆ ---     ┆ ure_dt     ┆ n_date     ┆   ┆ re         ┆ ---       ┆ on_id     ┆ null      │\n",
       "│ str     ┆ i64     ┆ ---        ┆ ---        ┆   ┆ ---        ┆ u8        ┆ ---       ┆ ---       │\n",
       "│         ┆         ┆ date       ┆ date       ┆   ┆ i64        ┆           ┆ u8        ┆ u8        │\n",
       "╞═════════╪═════════╪════════════╪════════════╪═══╪════════════╪═══════════╪═══════════╪═══════════╡\n",
       "│ L1      ┆ 2724    ┆ 2018-12-16 ┆ 2018-03-26 ┆ … ┆ 373        ┆ 5         ┆ 1         ┆ 0         │\n",
       "│ L1      ┆ 6517    ┆ 2018-12-16 ┆ 2018-03-26 ┆ … ┆ 373        ┆ 5         ┆ 1         ┆ 0         │\n",
       "│ L1      ┆ 2997    ┆ 2018-12-16 ┆ 2018-03-26 ┆ … ┆ 373        ┆ 5         ┆ 1         ┆ 0         │\n",
       "│ U1      ┆ 6385    ┆ 2018-12-16 ┆ 2018-10-17 ┆ … ┆ 193        ┆ 3         ┆ 4         ┆ 0         │\n",
       "│ U1      ┆ 6128    ┆ 2018-12-16 ┆ 2018-10-17 ┆ … ┆ 252        ┆ 3         ┆ 7         ┆ 0         │\n",
       "│ U1      ┆ 6140    ┆ 2018-12-16 ┆ 2018-10-17 ┆ … ┆ 252        ┆ 3         ┆ 7         ┆ 0         │\n",
       "│ U1      ┆ 3842    ┆ 2018-12-16 ┆ 2018-10-17 ┆ … ┆ 193        ┆ 3         ┆ 4         ┆ 0         │\n",
       "│ U1      ┆ 6153    ┆ 2018-12-16 ┆ 2018-10-17 ┆ … ┆ 252        ┆ 3         ┆ 7         ┆ 0         │\n",
       "│ U1      ┆ 4771    ┆ 2018-12-16 ┆ 2018-10-17 ┆ … ┆ 193        ┆ 3         ┆ 4         ┆ 0         │\n",
       "│ U1      ┆ 6184    ┆ 2018-12-16 ┆ 2018-10-17 ┆ … ┆ 252        ┆ 3         ┆ 7         ┆ 0         │\n",
       "│ …       ┆ …       ┆ …          ┆ …          ┆ … ┆ …          ┆ …         ┆ …         ┆ …         │\n",
       "│ U1      ┆ 6165    ┆ 2018-12-22 ┆ 2018-12-22 ┆ … ┆ 252        ┆ 3         ┆ 7         ┆ 0         │\n",
       "│ L2      ┆ 7067    ┆ 2018-12-22 ┆ 2018-12-22 ┆ … ┆ 310        ┆ 5         ┆ 6         ┆ 0         │\n",
       "│ L1      ┆ 5927    ┆ 2018-12-22 ┆ 2018-12-22 ┆ … ┆ 373        ┆ 1         ┆ 5         ┆ 0         │\n",
       "│ L1      ┆ 5135    ┆ 2018-12-22 ┆ 2018-12-22 ┆ … ┆ 272        ┆ 5         ┆ 0         ┆ 0         │\n",
       "│ L3      ┆ 18214   ┆ 2018-12-22 ┆ 2018-12-22 ┆ … ┆ 231        ┆ 3         ┆ 4         ┆ 0         │\n",
       "│ U1      ┆ 6115    ┆ 2018-12-22 ┆ 2018-12-22 ┆ … ┆ 252        ┆ 3         ┆ 7         ┆ 0         │\n",
       "│ L2      ┆ 937     ┆ 2018-12-22 ┆ 2018-12-22 ┆ … ┆ 310        ┆ 5         ┆ 6         ┆ 0         │\n",
       "│ U1      ┆ 6140    ┆ 2018-12-22 ┆ 2018-12-22 ┆ … ┆ 252        ┆ 3         ┆ 7         ┆ 0         │\n",
       "│ L1      ┆ 2149    ┆ 2018-12-22 ┆ 2018-12-22 ┆ … ┆ 405        ┆ 3         ┆ 2         ┆ 0         │\n",
       "│ L1      ┆ 5663    ┆ 2018-12-22 ┆ 2018-12-22 ┆ … ┆ 405        ┆ 3         ┆ 2         ┆ 0         │\n",
       "└─────────┴─────────┴────────────┴────────────┴───┴────────────┴───────────┴───────────┴───────────┘"
      ]
     },
     "execution_count": 6,
     "metadata": {},
     "output_type": "execute_result"
    }
   ],
   "source": [
    "val_df = processed_train_df.filter(\n",
    "    (pl.col('flt_departure_dt') > VALIDATION_CUTOFF) & \n",
    "    (\n",
    "        pl.col('flt_departure_dt') <= (VALIDATION_CUTOFF + pl.duration(days = 7))\n",
    "    )\n",
    ")\n",
    "\n",
    "val_df"
   ]
  },
  {
   "cell_type": "code",
   "execution_count": 7,
   "metadata": {},
   "outputs": [
    {
     "data": {
      "text/html": [
       "<div><style>\n",
       ".dataframe > thead > tr,\n",
       ".dataframe > tbody > tr {\n",
       "  text-align: right;\n",
       "  white-space: pre-wrap;\n",
       "}\n",
       "</style>\n",
       "<small>shape: (9, 22)</small><table border=\"1\" class=\"dataframe\"><thead><tr><th>statistic</th><th>carrier</th><th>flt_num</th><th>flt_departure_dt</th><th>observation_date</th><th>total_fare</th><th>days_till_flight</th><th>is_dst</th><th>route_id</th><th>flt_departure_local_time</th><th>flt_arrival_local_time</th><th>dur_min</th><th>tz_min</th><th>over_mn</th><th>dpt_4h_od</th><th>flt_count_dpt_24h</th><th>flt_count_dpt_4h</th><th>scaled_demand</th><th>scaled_share</th><th>origin_id</th><th>destination_id</th><th>flt_info_null</th></tr><tr><td>str</td><td>str</td><td>f64</td><td>str</td><td>str</td><td>f64</td><td>f64</td><td>f64</td><td>f64</td><td>str</td><td>str</td><td>f64</td><td>f64</td><td>f64</td><td>f64</td><td>f64</td><td>f64</td><td>f64</td><td>f64</td><td>f64</td><td>f64</td><td>f64</td></tr></thead><tbody><tr><td>&quot;count&quot;</td><td>&quot;34591&quot;</td><td>34591.0</td><td>&quot;34591&quot;</td><td>&quot;34591&quot;</td><td>34591.0</td><td>34591.0</td><td>34591.0</td><td>34591.0</td><td>&quot;33802&quot;</td><td>&quot;33802&quot;</td><td>33802.0</td><td>33802.0</td><td>33802.0</td><td>33802.0</td><td>33802.0</td><td>33802.0</td><td>34591.0</td><td>34591.0</td><td>34591.0</td><td>34591.0</td><td>34591.0</td></tr><tr><td>&quot;null_count&quot;</td><td>&quot;0&quot;</td><td>0.0</td><td>&quot;0&quot;</td><td>&quot;0&quot;</td><td>0.0</td><td>0.0</td><td>0.0</td><td>0.0</td><td>&quot;789&quot;</td><td>&quot;789&quot;</td><td>789.0</td><td>789.0</td><td>789.0</td><td>789.0</td><td>789.0</td><td>789.0</td><td>0.0</td><td>0.0</td><td>0.0</td><td>0.0</td><td>0.0</td></tr><tr><td>&quot;mean&quot;</td><td>null</td><td>5782.1296</td><td>&quot;2018-12-19&quot;</td><td>&quot;2018-11-29&quot;</td><td>877.248244</td><td>19.615536</td><td>0.0</td><td>5.726865</td><td>&quot;2018-12-19 14:02:30.495236&quot;</td><td>&quot;2018-12-19 16:00:00.319507&quot;</td><td>117.497071</td><td>-446.318561</td><td>0.012425</td><td>2.902195</td><td>21.543134</td><td>4.931395</td><td>5175.658119</td><td>271.06944</td><td>3.837096</td><td>3.866295</td><td>0.022809</td></tr><tr><td>&quot;std&quot;</td><td>null</td><td>4178.46838</td><td>null</td><td>null</td><td>1149.612135</td><td>16.052563</td><td>0.0</td><td>2.986408</td><td>null</td><td>null</td><td>64.655836</td><td>55.28298</td><td>0.110776</td><td>1.255698</td><td>11.121787</td><td>2.609309</td><td>2086.046551</td><td>63.136684</td><td>1.699727</td><td>1.692394</td><td>0.149298</td></tr><tr><td>&quot;min&quot;</td><td>&quot;L1&quot;</td><td>752.0</td><td>&quot;2018-12-16&quot;</td><td>&quot;2018-03-06&quot;</td><td>263.0</td><td>0.0</td><td>0.0</td><td>0.0</td><td>&quot;2018-12-16 01:05:00&quot;</td><td>&quot;2018-12-16 06:00:00&quot;</td><td>63.0</td><td>-480.0</td><td>0.0</td><td>0.0</td><td>4.0</td><td>1.0</td><td>1618.0</td><td>165.0</td><td>0.0</td><td>0.0</td><td>0.0</td></tr><tr><td>&quot;25%&quot;</td><td>null</td><td>2611.0</td><td>&quot;2018-12-17&quot;</td><td>&quot;2018-11-21&quot;</td><td>395.0</td><td>9.0</td><td>0.0</td><td>4.0</td><td>&quot;2018-12-17 18:12:00&quot;</td><td>&quot;2018-12-17 19:56:00&quot;</td><td>77.0</td><td>-480.0</td><td>0.0</td><td>2.0</td><td>9.0</td><td>3.0</td><td>2790.0</td><td>227.0</td><td>3.0</td><td>3.0</td><td>0.0</td></tr><tr><td>&quot;50%&quot;</td><td>null</td><td>5663.0</td><td>&quot;2018-12-19&quot;</td><td>&quot;2018-12-01&quot;</td><td>574.0</td><td>18.0</td><td>0.0</td><td>5.0</td><td>&quot;2018-12-19 14:45:00&quot;</td><td>&quot;2018-12-19 16:44:00&quot;</td><td>90.0</td><td>-480.0</td><td>0.0</td><td>3.0</td><td>22.0</td><td>5.0</td><td>5817.0</td><td>253.0</td><td>3.0</td><td>3.0</td><td>0.0</td></tr><tr><td>&quot;75%&quot;</td><td>null</td><td>6661.0</td><td>&quot;2018-12-21&quot;</td><td>&quot;2018-12-10&quot;</td><td>947.0</td><td>28.0</td><td>0.0</td><td>7.0</td><td>&quot;2018-12-21 09:40:00&quot;</td><td>&quot;2018-12-21 11:18:00&quot;</td><td>153.0</td><td>-420.0</td><td>0.0</td><td>4.0</td><td>33.0</td><td>7.0</td><td>7128.0</td><td>294.0</td><td>5.0</td><td>5.0</td><td>0.0</td></tr><tr><td>&quot;max&quot;</td><td>&quot;U3&quot;</td><td>18973.0</td><td>&quot;2018-12-22&quot;</td><td>&quot;2018-12-22&quot;</td><td>7859.0</td><td>288.0</td><td>0.0</td><td>11.0</td><td>&quot;2018-12-22 22:52:00&quot;</td><td>&quot;2018-12-23 00:32:00&quot;</td><td>302.0</td><td>-300.0</td><td>1.0</td><td>5.0</td><td>36.0</td><td>10.0</td><td>7128.0</td><td>405.0</td><td>7.0</td><td>7.0</td><td>1.0</td></tr></tbody></table></div>"
      ],
      "text/plain": [
       "shape: (9, 22)\n",
       "┌────────────┬─────────┬───────────┬───────────┬───┬───────────┬───────────┬───────────┬───────────┐\n",
       "│ statistic  ┆ carrier ┆ flt_num   ┆ flt_depar ┆ … ┆ scaled_sh ┆ origin_id ┆ destinati ┆ flt_info_ │\n",
       "│ ---        ┆ ---     ┆ ---       ┆ ture_dt   ┆   ┆ are       ┆ ---       ┆ on_id     ┆ null      │\n",
       "│ str        ┆ str     ┆ f64       ┆ ---       ┆   ┆ ---       ┆ f64       ┆ ---       ┆ ---       │\n",
       "│            ┆         ┆           ┆ str       ┆   ┆ f64       ┆           ┆ f64       ┆ f64       │\n",
       "╞════════════╪═════════╪═══════════╪═══════════╪═══╪═══════════╪═══════════╪═══════════╪═══════════╡\n",
       "│ count      ┆ 34591   ┆ 34591.0   ┆ 34591     ┆ … ┆ 34591.0   ┆ 34591.0   ┆ 34591.0   ┆ 34591.0   │\n",
       "│ null_count ┆ 0       ┆ 0.0       ┆ 0         ┆ … ┆ 0.0       ┆ 0.0       ┆ 0.0       ┆ 0.0       │\n",
       "│ mean       ┆ null    ┆ 5782.1296 ┆ 2018-12-1 ┆ … ┆ 271.06944 ┆ 3.837096  ┆ 3.866295  ┆ 0.022809  │\n",
       "│            ┆         ┆           ┆ 9         ┆   ┆           ┆           ┆           ┆           │\n",
       "│ std        ┆ null    ┆ 4178.4683 ┆ null      ┆ … ┆ 63.136684 ┆ 1.699727  ┆ 1.692394  ┆ 0.149298  │\n",
       "│            ┆         ┆ 8         ┆           ┆   ┆           ┆           ┆           ┆           │\n",
       "│ min        ┆ L1      ┆ 752.0     ┆ 2018-12-1 ┆ … ┆ 165.0     ┆ 0.0       ┆ 0.0       ┆ 0.0       │\n",
       "│            ┆         ┆           ┆ 6         ┆   ┆           ┆           ┆           ┆           │\n",
       "│ 25%        ┆ null    ┆ 2611.0    ┆ 2018-12-1 ┆ … ┆ 227.0     ┆ 3.0       ┆ 3.0       ┆ 0.0       │\n",
       "│            ┆         ┆           ┆ 7         ┆   ┆           ┆           ┆           ┆           │\n",
       "│ 50%        ┆ null    ┆ 5663.0    ┆ 2018-12-1 ┆ … ┆ 253.0     ┆ 3.0       ┆ 3.0       ┆ 0.0       │\n",
       "│            ┆         ┆           ┆ 9         ┆   ┆           ┆           ┆           ┆           │\n",
       "│ 75%        ┆ null    ┆ 6661.0    ┆ 2018-12-2 ┆ … ┆ 294.0     ┆ 5.0       ┆ 5.0       ┆ 0.0       │\n",
       "│            ┆         ┆           ┆ 1         ┆   ┆           ┆           ┆           ┆           │\n",
       "│ max        ┆ U3      ┆ 18973.0   ┆ 2018-12-2 ┆ … ┆ 405.0     ┆ 7.0       ┆ 7.0       ┆ 1.0       │\n",
       "│            ┆         ┆           ┆ 2         ┆   ┆           ┆           ┆           ┆           │\n",
       "└────────────┴─────────┴───────────┴───────────┴───┴───────────┴───────────┴───────────┴───────────┘"
      ]
     },
     "execution_count": 7,
     "metadata": {},
     "output_type": "execute_result"
    }
   ],
   "source": [
    "val_df.describe()"
   ]
  },
  {
   "cell_type": "markdown",
   "metadata": {},
   "source": [
    "### Fare rescaling"
   ]
  },
  {
   "cell_type": "markdown",
   "metadata": {},
   "source": [
    "#### Check if any (`route`, `carrier`) pair is missing in `train_df`"
   ]
  },
  {
   "cell_type": "code",
   "execution_count": 8,
   "metadata": {},
   "outputs": [
    {
     "data": {
      "text/html": [
       "<div><style>\n",
       ".dataframe > thead > tr,\n",
       ".dataframe > tbody > tr {\n",
       "  text-align: right;\n",
       "  white-space: pre-wrap;\n",
       "}\n",
       "</style>\n",
       "<small>shape: (1, 4)</small><table border=\"1\" class=\"dataframe\"><thead><tr><th>route_id</th><th>carrier</th><th>route_id_right</th><th>carrier_right</th></tr><tr><td>u32</td><td>u32</td><td>u32</td><td>u32</td></tr></thead><tbody><tr><td>0</td><td>0</td><td>4</td><td>4</td></tr></tbody></table></div>"
      ],
      "text/plain": [
       "shape: (1, 4)\n",
       "┌──────────┬─────────┬────────────────┬───────────────┐\n",
       "│ route_id ┆ carrier ┆ route_id_right ┆ carrier_right │\n",
       "│ ---      ┆ ---     ┆ ---            ┆ ---           │\n",
       "│ u32      ┆ u32     ┆ u32            ┆ u32           │\n",
       "╞══════════╪═════════╪════════════════╪═══════════════╡\n",
       "│ 0        ┆ 0       ┆ 4              ┆ 4             │\n",
       "└──────────┴─────────┴────────────────┴───────────────┘"
      ]
     },
     "execution_count": 8,
     "metadata": {},
     "output_type": "execute_result"
    }
   ],
   "source": [
    "train_df.group_by('route_id', 'carrier').len().drop('len').join(\n",
    "    val_df.group_by('route_id', 'carrier').len().drop('len'),\n",
    "    on = ['route_id', 'carrier'],\n",
    "    how = 'outer'\n",
    ").null_count()"
   ]
  },
  {
   "cell_type": "markdown",
   "metadata": {},
   "source": [
    "#### Calculating range of log of fares by (`route`, `carrier`)"
   ]
  },
  {
   "cell_type": "code",
   "execution_count": 9,
   "metadata": {},
   "outputs": [
    {
     "data": {
      "text/html": [
       "<div><style>\n",
       ".dataframe > thead > tr,\n",
       ".dataframe > tbody > tr {\n",
       "  text-align: right;\n",
       "  white-space: pre-wrap;\n",
       "}\n",
       "</style>\n",
       "<small>shape: (9, 5)</small><table border=\"1\" class=\"dataframe\"><thead><tr><th>statistic</th><th>route_id</th><th>carrier</th><th>up_range</th><th>down_range</th></tr><tr><td>str</td><td>f64</td><td>str</td><td>f64</td><td>f64</td></tr></thead><tbody><tr><td>&quot;count&quot;</td><td>34.0</td><td>&quot;34&quot;</td><td>34.0</td><td>34.0</td></tr><tr><td>&quot;null_count&quot;</td><td>0.0</td><td>&quot;0&quot;</td><td>0.0</td><td>0.0</td></tr><tr><td>&quot;mean&quot;</td><td>5.588235</td><td>null</td><td>5.3674</td><td>0.461658</td></tr><tr><td>&quot;std&quot;</td><td>3.239132</td><td>null</td><td>3.813741</td><td>0.077132</td></tr><tr><td>&quot;min&quot;</td><td>0.0</td><td>&quot;L1&quot;</td><td>2.05318</td><td>0.278793</td></tr><tr><td>&quot;25%&quot;</td><td>3.0</td><td>null</td><td>2.850526</td><td>0.418381</td></tr><tr><td>&quot;50%&quot;</td><td>5.0</td><td>null</td><td>4.500058</td><td>0.466559</td></tr><tr><td>&quot;75%&quot;</td><td>8.0</td><td>null</td><td>6.649254</td><td>0.524528</td></tr><tr><td>&quot;max&quot;</td><td>11.0</td><td>&quot;U3&quot;</td><td>18.683997</td><td>0.584841</td></tr></tbody></table></div>"
      ],
      "text/plain": [
       "shape: (9, 5)\n",
       "┌────────────┬──────────┬─────────┬───────────┬────────────┐\n",
       "│ statistic  ┆ route_id ┆ carrier ┆ up_range  ┆ down_range │\n",
       "│ ---        ┆ ---      ┆ ---     ┆ ---       ┆ ---        │\n",
       "│ str        ┆ f64      ┆ str     ┆ f64       ┆ f64        │\n",
       "╞════════════╪══════════╪═════════╪═══════════╪════════════╡\n",
       "│ count      ┆ 34.0     ┆ 34      ┆ 34.0      ┆ 34.0       │\n",
       "│ null_count ┆ 0.0      ┆ 0       ┆ 0.0       ┆ 0.0        │\n",
       "│ mean       ┆ 5.588235 ┆ null    ┆ 5.3674    ┆ 0.461658   │\n",
       "│ std        ┆ 3.239132 ┆ null    ┆ 3.813741  ┆ 0.077132   │\n",
       "│ min        ┆ 0.0      ┆ L1      ┆ 2.05318   ┆ 0.278793   │\n",
       "│ 25%        ┆ 3.0      ┆ null    ┆ 2.850526  ┆ 0.418381   │\n",
       "│ 50%        ┆ 5.0      ┆ null    ┆ 4.500058  ┆ 0.466559   │\n",
       "│ 75%        ┆ 8.0      ┆ null    ┆ 6.649254  ┆ 0.524528   │\n",
       "│ max        ┆ 11.0     ┆ U3      ┆ 18.683997 ┆ 0.584841   │\n",
       "└────────────┴──────────┴─────────┴───────────┴────────────┘"
      ]
     },
     "execution_count": 9,
     "metadata": {},
     "output_type": "execute_result"
    }
   ],
   "source": [
    "train_df.group_by('route_id', 'carrier').agg(\n",
    "    (pl.col('total_fare').max() / pl.col('total_fare').mean()).alias('up_range'),\n",
    "    (pl.col('total_fare').min() / pl.col('total_fare').mean()).alias('down_range')\n",
    ").describe()"
   ]
  },
  {
   "cell_type": "code",
   "execution_count": 10,
   "metadata": {},
   "outputs": [
    {
     "data": {
      "text/html": [
       "<div><style>\n",
       ".dataframe > thead > tr,\n",
       ".dataframe > tbody > tr {\n",
       "  text-align: right;\n",
       "  white-space: pre-wrap;\n",
       "}\n",
       "</style>\n",
       "<small>shape: (34, 6)</small><table border=\"1\" class=\"dataframe\"><thead><tr><th>route_id</th><th>carrier</th><th>base_fare</th><th>std_fare</th><th>min_fare</th><th>max_fare</th></tr><tr><td>u8</td><td>str</td><td>f64</td><td>f64</td><td>f64</td><td>f64</td></tr></thead><tbody><tr><td>0</td><td>&quot;L1&quot;</td><td>2.871156</td><td>0.195093</td><td>2.472756</td><td>3.764923</td></tr><tr><td>0</td><td>&quot;U3&quot;</td><td>2.72147</td><td>0.141055</td><td>2.468347</td><td>3.099681</td></tr><tr><td>1</td><td>&quot;L1&quot;</td><td>2.986374</td><td>0.197644</td><td>2.638489</td><td>3.749659</td></tr><tr><td>2</td><td>&quot;L1&quot;</td><td>2.931865</td><td>0.207182</td><td>2.472756</td><td>3.725503</td></tr><tr><td>2</td><td>&quot;OTH&quot;</td><td>2.760548</td><td>0.162441</td><td>2.448706</td><td>3.170555</td></tr><tr><td>2</td><td>&quot;U3&quot;</td><td>2.701619</td><td>0.194855</td><td>2.418301</td><td>3.237795</td></tr><tr><td>3</td><td>&quot;L1&quot;</td><td>2.970955</td><td>0.217929</td><td>2.472756</td><td>3.730621</td></tr><tr><td>3</td><td>&quot;OTH&quot;</td><td>2.765197</td><td>0.175297</td><td>2.448706</td><td>3.170555</td></tr><tr><td>3</td><td>&quot;U3&quot;</td><td>2.808008</td><td>0.214577</td><td>2.418301</td><td>3.169674</td></tr><tr><td>4</td><td>&quot;L1&quot;</td><td>2.669455</td><td>0.198676</td><td>2.448706</td><td>3.555215</td></tr><tr><td>&hellip;</td><td>&hellip;</td><td>&hellip;</td><td>&hellip;</td><td>&hellip;</td><td>&hellip;</td></tr><tr><td>7</td><td>&quot;U3&quot;</td><td>2.722171</td><td>0.143548</td><td>2.491362</td><td>3.099681</td></tr><tr><td>8</td><td>&quot;L1&quot;</td><td>3.0167</td><td>0.204467</td><td>2.638489</td><td>3.789087</td></tr><tr><td>9</td><td>&quot;L1&quot;</td><td>2.966849</td><td>0.207307</td><td>2.662758</td><td>3.738622</td></tr><tr><td>9</td><td>&quot;L2&quot;</td><td>2.944469</td><td>0.182726</td><td>2.647383</td><td>3.642662</td></tr><tr><td>10</td><td>&quot;L1&quot;</td><td>2.999638</td><td>0.200068</td><td>2.669317</td><td>3.700963</td></tr><tr><td>10</td><td>&quot;L2&quot;</td><td>2.980826</td><td>0.183566</td><td>2.669317</td><td>3.642662</td></tr><tr><td>11</td><td>&quot;L1&quot;</td><td>2.764388</td><td>0.197297</td><td>2.485721</td><td>3.63789</td></tr><tr><td>11</td><td>&quot;OTH&quot;</td><td>2.72979</td><td>0.161205</td><td>2.489958</td><td>3.274158</td></tr><tr><td>11</td><td>&quot;U1&quot;</td><td>2.754302</td><td>0.177077</td><td>2.489958</td><td>3.295347</td></tr><tr><td>11</td><td>&quot;U3&quot;</td><td>2.61737</td><td>0.162563</td><td>2.369216</td><td>3.059942</td></tr></tbody></table></div>"
      ],
      "text/plain": [
       "shape: (34, 6)\n",
       "┌──────────┬─────────┬───────────┬──────────┬──────────┬──────────┐\n",
       "│ route_id ┆ carrier ┆ base_fare ┆ std_fare ┆ min_fare ┆ max_fare │\n",
       "│ ---      ┆ ---     ┆ ---       ┆ ---      ┆ ---      ┆ ---      │\n",
       "│ u8       ┆ str     ┆ f64       ┆ f64      ┆ f64      ┆ f64      │\n",
       "╞══════════╪═════════╪═══════════╪══════════╪══════════╪══════════╡\n",
       "│ 0        ┆ L1      ┆ 2.871156  ┆ 0.195093 ┆ 2.472756 ┆ 3.764923 │\n",
       "│ 0        ┆ U3      ┆ 2.72147   ┆ 0.141055 ┆ 2.468347 ┆ 3.099681 │\n",
       "│ 1        ┆ L1      ┆ 2.986374  ┆ 0.197644 ┆ 2.638489 ┆ 3.749659 │\n",
       "│ 2        ┆ L1      ┆ 2.931865  ┆ 0.207182 ┆ 2.472756 ┆ 3.725503 │\n",
       "│ 2        ┆ OTH     ┆ 2.760548  ┆ 0.162441 ┆ 2.448706 ┆ 3.170555 │\n",
       "│ 2        ┆ U3      ┆ 2.701619  ┆ 0.194855 ┆ 2.418301 ┆ 3.237795 │\n",
       "│ 3        ┆ L1      ┆ 2.970955  ┆ 0.217929 ┆ 2.472756 ┆ 3.730621 │\n",
       "│ 3        ┆ OTH     ┆ 2.765197  ┆ 0.175297 ┆ 2.448706 ┆ 3.170555 │\n",
       "│ 3        ┆ U3      ┆ 2.808008  ┆ 0.214577 ┆ 2.418301 ┆ 3.169674 │\n",
       "│ 4        ┆ L1      ┆ 2.669455  ┆ 0.198676 ┆ 2.448706 ┆ 3.555215 │\n",
       "│ …        ┆ …       ┆ …         ┆ …        ┆ …        ┆ …        │\n",
       "│ 7        ┆ U3      ┆ 2.722171  ┆ 0.143548 ┆ 2.491362 ┆ 3.099681 │\n",
       "│ 8        ┆ L1      ┆ 3.0167    ┆ 0.204467 ┆ 2.638489 ┆ 3.789087 │\n",
       "│ 9        ┆ L1      ┆ 2.966849  ┆ 0.207307 ┆ 2.662758 ┆ 3.738622 │\n",
       "│ 9        ┆ L2      ┆ 2.944469  ┆ 0.182726 ┆ 2.647383 ┆ 3.642662 │\n",
       "│ 10       ┆ L1      ┆ 2.999638  ┆ 0.200068 ┆ 2.669317 ┆ 3.700963 │\n",
       "│ 10       ┆ L2      ┆ 2.980826  ┆ 0.183566 ┆ 2.669317 ┆ 3.642662 │\n",
       "│ 11       ┆ L1      ┆ 2.764388  ┆ 0.197297 ┆ 2.485721 ┆ 3.63789  │\n",
       "│ 11       ┆ OTH     ┆ 2.72979   ┆ 0.161205 ┆ 2.489958 ┆ 3.274158 │\n",
       "│ 11       ┆ U1      ┆ 2.754302  ┆ 0.177077 ┆ 2.489958 ┆ 3.295347 │\n",
       "│ 11       ┆ U3      ┆ 2.61737   ┆ 0.162563 ┆ 2.369216 ┆ 3.059942 │\n",
       "└──────────┴─────────┴───────────┴──────────┴──────────┴──────────┘"
      ]
     },
     "execution_count": 10,
     "metadata": {},
     "output_type": "execute_result"
    }
   ],
   "source": [
    "base_log10_fares = train_df.group_by('route_id', 'carrier').agg(\n",
    "    pl.col('total_fare').log10().mean().alias('base_fare'),\n",
    "    pl.col('total_fare').log10().std().alias('std_fare'),\n",
    "    pl.col('total_fare').log10().min().alias('min_fare'),\n",
    "    pl.col('total_fare').log10().max().alias('max_fare')\n",
    ").sort('route_id', 'carrier')\n",
    "\n",
    "base_log10_fares"
   ]
  },
  {
   "cell_type": "code",
   "execution_count": 11,
   "metadata": {},
   "outputs": [
    {
     "data": {
      "text/html": [
       "<div><style>\n",
       ".dataframe > thead > tr,\n",
       ".dataframe > tbody > tr {\n",
       "  text-align: right;\n",
       "  white-space: pre-wrap;\n",
       "}\n",
       "</style>\n",
       "<small>shape: (9, 5)</small><table border=\"1\" class=\"dataframe\"><thead><tr><th>statistic</th><th>base_fare</th><th>std_fare</th><th>min_fare</th><th>max_fare</th></tr><tr><td>str</td><td>f64</td><td>f64</td><td>f64</td><td>f64</td></tr></thead><tbody><tr><td>&quot;count&quot;</td><td>34.0</td><td>34.0</td><td>34.0</td><td>34.0</td></tr><tr><td>&quot;null_count&quot;</td><td>0.0</td><td>0.0</td><td>0.0</td><td>0.0</td></tr><tr><td>&quot;mean&quot;</td><td>2.778057</td><td>0.184021</td><td>2.480716</td><td>3.479345</td></tr><tr><td>&quot;std&quot;</td><td>0.131111</td><td>0.027689</td><td>0.089621</td><td>0.267785</td></tr><tr><td>&quot;min&quot;</td><td>2.581777</td><td>0.133646</td><td>2.369216</td><td>3.05423</td></tr><tr><td>&quot;25%&quot;</td><td>2.669455</td><td>0.162441</td><td>2.418301</td><td>3.251881</td></tr><tr><td>&quot;50%&quot;</td><td>2.764205</td><td>0.183566</td><td>2.472756</td><td>3.555215</td></tr><tr><td>&quot;75%&quot;</td><td>2.871156</td><td>0.204111</td><td>2.489958</td><td>3.725503</td></tr><tr><td>&quot;max&quot;</td><td>3.0167</td><td>0.247081</td><td>2.669317</td><td>3.895367</td></tr></tbody></table></div>"
      ],
      "text/plain": [
       "shape: (9, 5)\n",
       "┌────────────┬───────────┬──────────┬──────────┬──────────┐\n",
       "│ statistic  ┆ base_fare ┆ std_fare ┆ min_fare ┆ max_fare │\n",
       "│ ---        ┆ ---       ┆ ---      ┆ ---      ┆ ---      │\n",
       "│ str        ┆ f64       ┆ f64      ┆ f64      ┆ f64      │\n",
       "╞════════════╪═══════════╪══════════╪══════════╪══════════╡\n",
       "│ count      ┆ 34.0      ┆ 34.0     ┆ 34.0     ┆ 34.0     │\n",
       "│ null_count ┆ 0.0       ┆ 0.0      ┆ 0.0      ┆ 0.0      │\n",
       "│ mean       ┆ 2.778057  ┆ 0.184021 ┆ 2.480716 ┆ 3.479345 │\n",
       "│ std        ┆ 0.131111  ┆ 0.027689 ┆ 0.089621 ┆ 0.267785 │\n",
       "│ min        ┆ 2.581777  ┆ 0.133646 ┆ 2.369216 ┆ 3.05423  │\n",
       "│ 25%        ┆ 2.669455  ┆ 0.162441 ┆ 2.418301 ┆ 3.251881 │\n",
       "│ 50%        ┆ 2.764205  ┆ 0.183566 ┆ 2.472756 ┆ 3.555215 │\n",
       "│ 75%        ┆ 2.871156  ┆ 0.204111 ┆ 2.489958 ┆ 3.725503 │\n",
       "│ max        ┆ 3.0167    ┆ 0.247081 ┆ 2.669317 ┆ 3.895367 │\n",
       "└────────────┴───────────┴──────────┴──────────┴──────────┘"
      ]
     },
     "execution_count": 11,
     "metadata": {},
     "output_type": "execute_result"
    }
   ],
   "source": [
    "base_log10_fares.select(pl.col(pl.Float64())).describe()"
   ]
  },
  {
   "cell_type": "code",
   "execution_count": 12,
   "metadata": {},
   "outputs": [
    {
     "data": {
      "text/html": [
       "<div><style>\n",
       ".dataframe > thead > tr,\n",
       ".dataframe > tbody > tr {\n",
       "  text-align: right;\n",
       "  white-space: pre-wrap;\n",
       "}\n",
       "</style>\n",
       "<small>shape: (9, 2)</small><table border=\"1\" class=\"dataframe\"><thead><tr><th>statistic</th><th>value</th></tr><tr><td>str</td><td>f64</td></tr></thead><tbody><tr><td>&quot;count&quot;</td><td>1.620806e6</td></tr><tr><td>&quot;null_count&quot;</td><td>0.0</td></tr><tr><td>&quot;mean&quot;</td><td>-4.2467e-7</td></tr><tr><td>&quot;std&quot;</td><td>0.069398</td></tr><tr><td>&quot;min&quot;</td><td>-0.1677</td></tr><tr><td>&quot;25%&quot;</td><td>-0.0514</td></tr><tr><td>&quot;50%&quot;</td><td>-0.0134</td></tr><tr><td>&quot;75%&quot;</td><td>0.0403</td></tr><tr><td>&quot;max&quot;</td><td>0.5088</td></tr></tbody></table></div>"
      ],
      "text/plain": [
       "shape: (9, 2)\n",
       "┌────────────┬────────────┐\n",
       "│ statistic  ┆ value      │\n",
       "│ ---        ┆ ---        │\n",
       "│ str        ┆ f64        │\n",
       "╞════════════╪════════════╡\n",
       "│ count      ┆ 1.620806e6 │\n",
       "│ null_count ┆ 0.0        │\n",
       "│ mean       ┆ -4.2467e-7 │\n",
       "│ std        ┆ 0.069398   │\n",
       "│ min        ┆ -0.1677    │\n",
       "│ 25%        ┆ -0.0514    │\n",
       "│ 50%        ┆ -0.0134    │\n",
       "│ 75%        ┆ 0.0403     │\n",
       "│ max        ┆ 0.5088     │\n",
       "└────────────┴────────────┘"
      ]
     },
     "execution_count": 12,
     "metadata": {},
     "output_type": "execute_result"
    }
   ],
   "source": [
    "train_df = train_df.join(\n",
    "    base_log10_fares.select('route_id', 'carrier', 'base_fare'),\n",
    "    on = ['route_id', 'carrier'],\n",
    "    how = 'left'\n",
    ").with_columns(\n",
    "    pl.col('total_fare').log10().alias('log_fare')\n",
    ").with_columns(\n",
    "    (\n",
    "        (pl.col('log_fare') - pl.col('base_fare')) / pl.col('base_fare')\n",
    "    ).round(4).alias('scaled_fare')\n",
    ")\n",
    "\n",
    "train_df['scaled_fare'].describe()"
   ]
  },
  {
   "cell_type": "code",
   "execution_count": 13,
   "metadata": {},
   "outputs": [
    {
     "data": {
      "text/html": [
       "<div><style>\n",
       ".dataframe > thead > tr,\n",
       ".dataframe > tbody > tr {\n",
       "  text-align: right;\n",
       "  white-space: pre-wrap;\n",
       "}\n",
       "</style>\n",
       "<small>shape: (9, 2)</small><table border=\"1\" class=\"dataframe\"><thead><tr><th>statistic</th><th>value</th></tr><tr><td>str</td><td>f64</td></tr></thead><tbody><tr><td>&quot;count&quot;</td><td>34591.0</td></tr><tr><td>&quot;null_count&quot;</td><td>0.0</td></tr><tr><td>&quot;mean&quot;</td><td>0.010317</td></tr><tr><td>&quot;std&quot;</td><td>0.105171</td></tr><tr><td>&quot;min&quot;</td><td>-0.1677</td></tr><tr><td>&quot;25%&quot;</td><td>-0.0577</td></tr><tr><td>&quot;50%&quot;</td><td>-0.0191</td></tr><tr><td>&quot;75%&quot;</td><td>0.0569</td></tr><tr><td>&quot;max&quot;</td><td>0.5088</td></tr></tbody></table></div>"
      ],
      "text/plain": [
       "shape: (9, 2)\n",
       "┌────────────┬──────────┐\n",
       "│ statistic  ┆ value    │\n",
       "│ ---        ┆ ---      │\n",
       "│ str        ┆ f64      │\n",
       "╞════════════╪══════════╡\n",
       "│ count      ┆ 34591.0  │\n",
       "│ null_count ┆ 0.0      │\n",
       "│ mean       ┆ 0.010317 │\n",
       "│ std        ┆ 0.105171 │\n",
       "│ min        ┆ -0.1677  │\n",
       "│ 25%        ┆ -0.0577  │\n",
       "│ 50%        ┆ -0.0191  │\n",
       "│ 75%        ┆ 0.0569   │\n",
       "│ max        ┆ 0.5088   │\n",
       "└────────────┴──────────┘"
      ]
     },
     "execution_count": 13,
     "metadata": {},
     "output_type": "execute_result"
    }
   ],
   "source": [
    "val_df = val_df.join(\n",
    "    base_log10_fares.select('route_id', 'carrier', 'base_fare'),\n",
    "    on = ['route_id', 'carrier'],\n",
    "    how = 'left'\n",
    ").with_columns(\n",
    "    pl.col('total_fare').log10().alias('log_fare')\n",
    ").with_columns(\n",
    "    (\n",
    "        (pl.col('log_fare') - pl.col('base_fare')) / pl.col('base_fare')\n",
    "    ).round(4).alias('scaled_fare')\n",
    ")\n",
    "\n",
    "val_df['scaled_fare'].describe()"
   ]
  },
  {
   "cell_type": "code",
   "execution_count": 14,
   "metadata": {},
   "outputs": [
    {
     "data": {
      "text/html": [
       "<div><style>\n",
       ".dataframe > thead > tr,\n",
       ".dataframe > tbody > tr {\n",
       "  text-align: right;\n",
       "  white-space: pre-wrap;\n",
       "}\n",
       "</style>\n",
       "<small>shape: (1_620_806, 24)</small><table border=\"1\" class=\"dataframe\"><thead><tr><th>carrier</th><th>flt_num</th><th>flt_departure_dt</th><th>observation_date</th><th>total_fare</th><th>days_till_flight</th><th>is_dst</th><th>route_id</th><th>flt_departure_local_time</th><th>flt_arrival_local_time</th><th>dur_min</th><th>tz_min</th><th>over_mn</th><th>dpt_4h_od</th><th>flt_count_dpt_24h</th><th>flt_count_dpt_4h</th><th>scaled_demand</th><th>scaled_share</th><th>origin_id</th><th>destination_id</th><th>flt_info_null</th><th>base_fare</th><th>log_fare</th><th>scaled_fare</th></tr><tr><td>str</td><td>i64</td><td>date</td><td>date</td><td>i64</td><td>i16</td><td>i8</td><td>u8</td><td>datetime[ns]</td><td>datetime[ns]</td><td>i16</td><td>i16</td><td>i8</td><td>i8</td><td>u8</td><td>u8</td><td>i64</td><td>i64</td><td>u8</td><td>u8</td><td>u8</td><td>f64</td><td>f64</td><td>f64</td></tr></thead><tbody><tr><td>&quot;L1&quot;</td><td>6523</td><td>2018-03-06</td><td>2018-02-26</td><td>297</td><td>8</td><td>0</td><td>3</td><td>2018-03-06 06:00:00</td><td>2018-03-06 10:58:00</td><td>298</td><td>-480</td><td>0</td><td>1</td><td>8</td><td>1</td><td>2873</td><td>392</td><td>3</td><td>2</td><td>0</td><td>2.970955</td><td>2.472756</td><td>-0.1677</td></tr><tr><td>&quot;L1&quot;</td><td>6523</td><td>2018-03-06</td><td>2018-02-27</td><td>297</td><td>7</td><td>0</td><td>3</td><td>2018-03-06 06:00:00</td><td>2018-03-06 10:58:00</td><td>298</td><td>-480</td><td>0</td><td>1</td><td>8</td><td>1</td><td>2873</td><td>392</td><td>3</td><td>2</td><td>0</td><td>2.970955</td><td>2.472756</td><td>-0.1677</td></tr><tr><td>&quot;L1&quot;</td><td>5663</td><td>2018-03-09</td><td>2018-02-25</td><td>297</td><td>12</td><td>0</td><td>3</td><td>2018-03-09 12:17:00</td><td>2018-03-09 17:16:00</td><td>299</td><td>-480</td><td>0</td><td>3</td><td>8</td><td>3</td><td>2873</td><td>392</td><td>3</td><td>2</td><td>0</td><td>2.970955</td><td>2.472756</td><td>-0.1677</td></tr><tr><td>&quot;L1&quot;</td><td>5663</td><td>2018-03-09</td><td>2018-02-26</td><td>297</td><td>11</td><td>0</td><td>3</td><td>2018-03-09 12:17:00</td><td>2018-03-09 17:16:00</td><td>299</td><td>-480</td><td>0</td><td>3</td><td>8</td><td>3</td><td>2873</td><td>392</td><td>3</td><td>2</td><td>0</td><td>2.970955</td><td>2.472756</td><td>-0.1677</td></tr><tr><td>&quot;L1&quot;</td><td>5663</td><td>2018-03-10</td><td>2018-02-23</td><td>297</td><td>15</td><td>0</td><td>3</td><td>2018-03-10 12:17:00</td><td>2018-03-10 17:16:00</td><td>299</td><td>-480</td><td>0</td><td>3</td><td>8</td><td>3</td><td>2873</td><td>392</td><td>3</td><td>2</td><td>0</td><td>2.970955</td><td>2.472756</td><td>-0.1677</td></tr><tr><td>&quot;L1&quot;</td><td>6294</td><td>2018-03-10</td><td>2018-02-23</td><td>297</td><td>15</td><td>0</td><td>3</td><td>2018-03-10 13:45:00</td><td>2018-03-10 18:43:00</td><td>298</td><td>-480</td><td>0</td><td>3</td><td>8</td><td>3</td><td>2873</td><td>392</td><td>3</td><td>2</td><td>0</td><td>2.970955</td><td>2.472756</td><td>-0.1677</td></tr><tr><td>&quot;L1&quot;</td><td>3861</td><td>2018-03-10</td><td>2018-02-23</td><td>297</td><td>15</td><td>0</td><td>3</td><td>2018-03-10 15:55:00</td><td>2018-03-10 20:52:00</td><td>297</td><td>-480</td><td>0</td><td>3</td><td>8</td><td>3</td><td>2873</td><td>392</td><td>3</td><td>2</td><td>0</td><td>2.970955</td><td>2.472756</td><td>-0.1677</td></tr><tr><td>&quot;L1&quot;</td><td>6523</td><td>2018-03-10</td><td>2018-02-23</td><td>297</td><td>15</td><td>0</td><td>3</td><td>2018-03-10 06:05:00</td><td>2018-03-10 11:03:00</td><td>298</td><td>-480</td><td>0</td><td>1</td><td>8</td><td>1</td><td>2873</td><td>392</td><td>3</td><td>2</td><td>0</td><td>2.970955</td><td>2.472756</td><td>-0.1677</td></tr><tr><td>&quot;L1&quot;</td><td>6523</td><td>2018-03-10</td><td>2018-02-24</td><td>297</td><td>14</td><td>0</td><td>3</td><td>2018-03-10 06:05:00</td><td>2018-03-10 11:03:00</td><td>298</td><td>-480</td><td>0</td><td>1</td><td>8</td><td>1</td><td>2873</td><td>392</td><td>3</td><td>2</td><td>0</td><td>2.970955</td><td>2.472756</td><td>-0.1677</td></tr><tr><td>&quot;L1&quot;</td><td>6294</td><td>2018-03-10</td><td>2018-02-24</td><td>297</td><td>14</td><td>0</td><td>3</td><td>2018-03-10 13:45:00</td><td>2018-03-10 18:43:00</td><td>298</td><td>-480</td><td>0</td><td>3</td><td>8</td><td>3</td><td>2873</td><td>392</td><td>3</td><td>2</td><td>0</td><td>2.970955</td><td>2.472756</td><td>-0.1677</td></tr><tr><td>&hellip;</td><td>&hellip;</td><td>&hellip;</td><td>&hellip;</td><td>&hellip;</td><td>&hellip;</td><td>&hellip;</td><td>&hellip;</td><td>&hellip;</td><td>&hellip;</td><td>&hellip;</td><td>&hellip;</td><td>&hellip;</td><td>&hellip;</td><td>&hellip;</td><td>&hellip;</td><td>&hellip;</td><td>&hellip;</td><td>&hellip;</td><td>&hellip;</td><td>&hellip;</td><td>&hellip;</td><td>&hellip;</td><td>&hellip;</td></tr><tr><td>&quot;OTH&quot;</td><td>5638</td><td>2018-12-15</td><td>2018-12-08</td><td>7859</td><td>7</td><td>0</td><td>6</td><td>null</td><td>null</td><td>null</td><td>null</td><td>null</td><td>null</td><td>null</td><td>null</td><td>7128</td><td>266</td><td>4</td><td>3</td><td>1</td><td>2.581777</td><td>3.895367</td><td>0.5088</td></tr><tr><td>&quot;OTH&quot;</td><td>6005</td><td>2018-12-15</td><td>2018-12-08</td><td>7859</td><td>7</td><td>0</td><td>6</td><td>null</td><td>null</td><td>null</td><td>null</td><td>null</td><td>null</td><td>null</td><td>null</td><td>7128</td><td>266</td><td>4</td><td>3</td><td>1</td><td>2.581777</td><td>3.895367</td><td>0.5088</td></tr><tr><td>&quot;OTH&quot;</td><td>5638</td><td>2018-12-15</td><td>2018-12-09</td><td>7859</td><td>6</td><td>0</td><td>6</td><td>null</td><td>null</td><td>null</td><td>null</td><td>null</td><td>null</td><td>null</td><td>null</td><td>7128</td><td>266</td><td>4</td><td>3</td><td>1</td><td>2.581777</td><td>3.895367</td><td>0.5088</td></tr><tr><td>&quot;OTH&quot;</td><td>6005</td><td>2018-12-15</td><td>2018-12-09</td><td>7859</td><td>6</td><td>0</td><td>6</td><td>null</td><td>null</td><td>null</td><td>null</td><td>null</td><td>null</td><td>null</td><td>null</td><td>7128</td><td>266</td><td>4</td><td>3</td><td>1</td><td>2.581777</td><td>3.895367</td><td>0.5088</td></tr><tr><td>&quot;OTH&quot;</td><td>5292</td><td>2018-12-15</td><td>2018-12-09</td><td>7859</td><td>6</td><td>0</td><td>6</td><td>null</td><td>null</td><td>null</td><td>null</td><td>null</td><td>null</td><td>null</td><td>null</td><td>7128</td><td>266</td><td>4</td><td>3</td><td>1</td><td>2.581777</td><td>3.895367</td><td>0.5088</td></tr><tr><td>&quot;OTH&quot;</td><td>6413</td><td>2018-12-15</td><td>2018-12-09</td><td>7859</td><td>6</td><td>0</td><td>6</td><td>null</td><td>null</td><td>null</td><td>null</td><td>null</td><td>null</td><td>null</td><td>null</td><td>7128</td><td>266</td><td>4</td><td>3</td><td>1</td><td>2.581777</td><td>3.895367</td><td>0.5088</td></tr><tr><td>&quot;OTH&quot;</td><td>5292</td><td>2018-12-15</td><td>2018-12-10</td><td>7859</td><td>5</td><td>0</td><td>6</td><td>null</td><td>null</td><td>null</td><td>null</td><td>null</td><td>null</td><td>null</td><td>null</td><td>7128</td><td>266</td><td>4</td><td>3</td><td>1</td><td>2.581777</td><td>3.895367</td><td>0.5088</td></tr><tr><td>&quot;OTH&quot;</td><td>5638</td><td>2018-12-15</td><td>2018-12-10</td><td>7859</td><td>5</td><td>0</td><td>6</td><td>null</td><td>null</td><td>null</td><td>null</td><td>null</td><td>null</td><td>null</td><td>null</td><td>7128</td><td>266</td><td>4</td><td>3</td><td>1</td><td>2.581777</td><td>3.895367</td><td>0.5088</td></tr><tr><td>&quot;OTH&quot;</td><td>6005</td><td>2018-12-15</td><td>2018-12-10</td><td>7859</td><td>5</td><td>0</td><td>6</td><td>null</td><td>null</td><td>null</td><td>null</td><td>null</td><td>null</td><td>null</td><td>null</td><td>7128</td><td>266</td><td>4</td><td>3</td><td>1</td><td>2.581777</td><td>3.895367</td><td>0.5088</td></tr><tr><td>&quot;OTH&quot;</td><td>6413</td><td>2018-12-15</td><td>2018-12-10</td><td>7859</td><td>5</td><td>0</td><td>6</td><td>null</td><td>null</td><td>null</td><td>null</td><td>null</td><td>null</td><td>null</td><td>null</td><td>7128</td><td>266</td><td>4</td><td>3</td><td>1</td><td>2.581777</td><td>3.895367</td><td>0.5088</td></tr></tbody></table></div>"
      ],
      "text/plain": [
       "shape: (1_620_806, 24)\n",
       "┌─────────┬─────────┬────────────┬────────────┬───┬────────────┬───────────┬──────────┬────────────┐\n",
       "│ carrier ┆ flt_num ┆ flt_depart ┆ observatio ┆ … ┆ flt_info_n ┆ base_fare ┆ log_fare ┆ scaled_far │\n",
       "│ ---     ┆ ---     ┆ ure_dt     ┆ n_date     ┆   ┆ ull        ┆ ---       ┆ ---      ┆ e          │\n",
       "│ str     ┆ i64     ┆ ---        ┆ ---        ┆   ┆ ---        ┆ f64       ┆ f64      ┆ ---        │\n",
       "│         ┆         ┆ date       ┆ date       ┆   ┆ u8         ┆           ┆          ┆ f64        │\n",
       "╞═════════╪═════════╪════════════╪════════════╪═══╪════════════╪═══════════╪══════════╪════════════╡\n",
       "│ L1      ┆ 6523    ┆ 2018-03-06 ┆ 2018-02-26 ┆ … ┆ 0          ┆ 2.970955  ┆ 2.472756 ┆ -0.1677    │\n",
       "│ L1      ┆ 6523    ┆ 2018-03-06 ┆ 2018-02-27 ┆ … ┆ 0          ┆ 2.970955  ┆ 2.472756 ┆ -0.1677    │\n",
       "│ L1      ┆ 5663    ┆ 2018-03-09 ┆ 2018-02-25 ┆ … ┆ 0          ┆ 2.970955  ┆ 2.472756 ┆ -0.1677    │\n",
       "│ L1      ┆ 5663    ┆ 2018-03-09 ┆ 2018-02-26 ┆ … ┆ 0          ┆ 2.970955  ┆ 2.472756 ┆ -0.1677    │\n",
       "│ L1      ┆ 5663    ┆ 2018-03-10 ┆ 2018-02-23 ┆ … ┆ 0          ┆ 2.970955  ┆ 2.472756 ┆ -0.1677    │\n",
       "│ L1      ┆ 6294    ┆ 2018-03-10 ┆ 2018-02-23 ┆ … ┆ 0          ┆ 2.970955  ┆ 2.472756 ┆ -0.1677    │\n",
       "│ L1      ┆ 3861    ┆ 2018-03-10 ┆ 2018-02-23 ┆ … ┆ 0          ┆ 2.970955  ┆ 2.472756 ┆ -0.1677    │\n",
       "│ L1      ┆ 6523    ┆ 2018-03-10 ┆ 2018-02-23 ┆ … ┆ 0          ┆ 2.970955  ┆ 2.472756 ┆ -0.1677    │\n",
       "│ L1      ┆ 6523    ┆ 2018-03-10 ┆ 2018-02-24 ┆ … ┆ 0          ┆ 2.970955  ┆ 2.472756 ┆ -0.1677    │\n",
       "│ L1      ┆ 6294    ┆ 2018-03-10 ┆ 2018-02-24 ┆ … ┆ 0          ┆ 2.970955  ┆ 2.472756 ┆ -0.1677    │\n",
       "│ …       ┆ …       ┆ …          ┆ …          ┆ … ┆ …          ┆ …         ┆ …        ┆ …          │\n",
       "│ OTH     ┆ 5638    ┆ 2018-12-15 ┆ 2018-12-08 ┆ … ┆ 1          ┆ 2.581777  ┆ 3.895367 ┆ 0.5088     │\n",
       "│ OTH     ┆ 6005    ┆ 2018-12-15 ┆ 2018-12-08 ┆ … ┆ 1          ┆ 2.581777  ┆ 3.895367 ┆ 0.5088     │\n",
       "│ OTH     ┆ 5638    ┆ 2018-12-15 ┆ 2018-12-09 ┆ … ┆ 1          ┆ 2.581777  ┆ 3.895367 ┆ 0.5088     │\n",
       "│ OTH     ┆ 6005    ┆ 2018-12-15 ┆ 2018-12-09 ┆ … ┆ 1          ┆ 2.581777  ┆ 3.895367 ┆ 0.5088     │\n",
       "│ OTH     ┆ 5292    ┆ 2018-12-15 ┆ 2018-12-09 ┆ … ┆ 1          ┆ 2.581777  ┆ 3.895367 ┆ 0.5088     │\n",
       "│ OTH     ┆ 6413    ┆ 2018-12-15 ┆ 2018-12-09 ┆ … ┆ 1          ┆ 2.581777  ┆ 3.895367 ┆ 0.5088     │\n",
       "│ OTH     ┆ 5292    ┆ 2018-12-15 ┆ 2018-12-10 ┆ … ┆ 1          ┆ 2.581777  ┆ 3.895367 ┆ 0.5088     │\n",
       "│ OTH     ┆ 5638    ┆ 2018-12-15 ┆ 2018-12-10 ┆ … ┆ 1          ┆ 2.581777  ┆ 3.895367 ┆ 0.5088     │\n",
       "│ OTH     ┆ 6005    ┆ 2018-12-15 ┆ 2018-12-10 ┆ … ┆ 1          ┆ 2.581777  ┆ 3.895367 ┆ 0.5088     │\n",
       "│ OTH     ┆ 6413    ┆ 2018-12-15 ┆ 2018-12-10 ┆ … ┆ 1          ┆ 2.581777  ┆ 3.895367 ┆ 0.5088     │\n",
       "└─────────┴─────────┴────────────┴────────────┴───┴────────────┴───────────┴──────────┴────────────┘"
      ]
     },
     "execution_count": 14,
     "metadata": {},
     "output_type": "execute_result"
    }
   ],
   "source": [
    "train_df.sort('scaled_fare')"
   ]
  },
  {
   "cell_type": "code",
   "execution_count": 15,
   "metadata": {},
   "outputs": [
    {
     "data": {
      "text/html": [
       "<div><style>\n",
       ".dataframe > thead > tr,\n",
       ".dataframe > tbody > tr {\n",
       "  text-align: right;\n",
       "  white-space: pre-wrap;\n",
       "}\n",
       "</style>\n",
       "<small>shape: (34_591, 24)</small><table border=\"1\" class=\"dataframe\"><thead><tr><th>carrier</th><th>flt_num</th><th>flt_departure_dt</th><th>observation_date</th><th>total_fare</th><th>days_till_flight</th><th>is_dst</th><th>route_id</th><th>flt_departure_local_time</th><th>flt_arrival_local_time</th><th>dur_min</th><th>tz_min</th><th>over_mn</th><th>dpt_4h_od</th><th>flt_count_dpt_24h</th><th>flt_count_dpt_4h</th><th>scaled_demand</th><th>scaled_share</th><th>origin_id</th><th>destination_id</th><th>flt_info_null</th><th>base_fare</th><th>log_fare</th><th>scaled_fare</th></tr><tr><td>str</td><td>i64</td><td>date</td><td>date</td><td>i64</td><td>i16</td><td>i8</td><td>u8</td><td>datetime[ns]</td><td>datetime[ns]</td><td>i16</td><td>i16</td><td>i8</td><td>i8</td><td>u8</td><td>u8</td><td>i64</td><td>i64</td><td>u8</td><td>u8</td><td>u8</td><td>f64</td><td>f64</td><td>f64</td></tr></thead><tbody><tr><td>&quot;L1&quot;</td><td>2149</td><td>2018-12-18</td><td>2018-11-05</td><td>297</td><td>43</td><td>0</td><td>3</td><td>2018-12-18 01:00:00</td><td>2018-12-18 05:54:00</td><td>294</td><td>-480</td><td>0</td><td>0</td><td>8</td><td>1</td><td>2790</td><td>405</td><td>3</td><td>2</td><td>0</td><td>2.970955</td><td>2.472756</td><td>-0.1677</td></tr><tr><td>&quot;L1&quot;</td><td>2149</td><td>2018-12-18</td><td>2018-11-09</td><td>297</td><td>39</td><td>0</td><td>3</td><td>2018-12-18 01:00:00</td><td>2018-12-18 05:54:00</td><td>294</td><td>-480</td><td>0</td><td>0</td><td>8</td><td>1</td><td>2790</td><td>405</td><td>3</td><td>2</td><td>0</td><td>2.970955</td><td>2.472756</td><td>-0.1677</td></tr><tr><td>&quot;L1&quot;</td><td>2149</td><td>2018-12-18</td><td>2018-11-16</td><td>297</td><td>32</td><td>0</td><td>3</td><td>2018-12-18 01:00:00</td><td>2018-12-18 05:54:00</td><td>294</td><td>-480</td><td>0</td><td>0</td><td>8</td><td>1</td><td>2790</td><td>405</td><td>3</td><td>2</td><td>0</td><td>2.970955</td><td>2.472756</td><td>-0.1677</td></tr><tr><td>&quot;L1&quot;</td><td>6523</td><td>2018-12-19</td><td>2018-11-09</td><td>297</td><td>40</td><td>0</td><td>3</td><td>2018-12-19 06:00:00</td><td>2018-12-19 10:50:00</td><td>290</td><td>-480</td><td>0</td><td>1</td><td>9</td><td>1</td><td>2790</td><td>405</td><td>3</td><td>2</td><td>0</td><td>2.970955</td><td>2.472756</td><td>-0.1677</td></tr><tr><td>&quot;L1&quot;</td><td>6523</td><td>2018-12-19</td><td>2018-11-12</td><td>297</td><td>37</td><td>0</td><td>3</td><td>2018-12-19 06:00:00</td><td>2018-12-19 10:50:00</td><td>290</td><td>-480</td><td>0</td><td>1</td><td>9</td><td>1</td><td>2790</td><td>405</td><td>3</td><td>2</td><td>0</td><td>2.970955</td><td>2.472756</td><td>-0.1677</td></tr><tr><td>&quot;L1&quot;</td><td>2149</td><td>2018-12-18</td><td>2018-11-20</td><td>310</td><td>28</td><td>0</td><td>3</td><td>2018-12-18 01:00:00</td><td>2018-12-18 05:54:00</td><td>294</td><td>-480</td><td>0</td><td>0</td><td>8</td><td>1</td><td>2790</td><td>405</td><td>3</td><td>2</td><td>0</td><td>2.970955</td><td>2.491362</td><td>-0.1614</td></tr><tr><td>&quot;L1&quot;</td><td>2149</td><td>2018-12-18</td><td>2018-11-21</td><td>310</td><td>27</td><td>0</td><td>3</td><td>2018-12-18 01:00:00</td><td>2018-12-18 05:54:00</td><td>294</td><td>-480</td><td>0</td><td>0</td><td>8</td><td>1</td><td>2790</td><td>405</td><td>3</td><td>2</td><td>0</td><td>2.970955</td><td>2.491362</td><td>-0.1614</td></tr><tr><td>&quot;L1&quot;</td><td>6523</td><td>2018-12-18</td><td>2018-11-22</td><td>310</td><td>26</td><td>0</td><td>3</td><td>2018-12-18 06:00:00</td><td>2018-12-18 10:51:00</td><td>291</td><td>-480</td><td>0</td><td>1</td><td>8</td><td>1</td><td>2790</td><td>405</td><td>3</td><td>2</td><td>0</td><td>2.970955</td><td>2.491362</td><td>-0.1614</td></tr><tr><td>&quot;L1&quot;</td><td>2149</td><td>2018-12-18</td><td>2018-11-22</td><td>310</td><td>26</td><td>0</td><td>3</td><td>2018-12-18 01:00:00</td><td>2018-12-18 05:54:00</td><td>294</td><td>-480</td><td>0</td><td>0</td><td>8</td><td>1</td><td>2790</td><td>405</td><td>3</td><td>2</td><td>0</td><td>2.970955</td><td>2.491362</td><td>-0.1614</td></tr><tr><td>&quot;L1&quot;</td><td>3861</td><td>2018-12-18</td><td>2018-11-27</td><td>310</td><td>21</td><td>0</td><td>3</td><td>2018-12-18 15:48:00</td><td>2018-12-18 20:42:00</td><td>294</td><td>-480</td><td>0</td><td>3</td><td>8</td><td>4</td><td>2790</td><td>405</td><td>3</td><td>2</td><td>0</td><td>2.970955</td><td>2.491362</td><td>-0.1614</td></tr><tr><td>&hellip;</td><td>&hellip;</td><td>&hellip;</td><td>&hellip;</td><td>&hellip;</td><td>&hellip;</td><td>&hellip;</td><td>&hellip;</td><td>&hellip;</td><td>&hellip;</td><td>&hellip;</td><td>&hellip;</td><td>&hellip;</td><td>&hellip;</td><td>&hellip;</td><td>&hellip;</td><td>&hellip;</td><td>&hellip;</td><td>&hellip;</td><td>&hellip;</td><td>&hellip;</td><td>&hellip;</td><td>&hellip;</td><td>&hellip;</td></tr><tr><td>&quot;OTH&quot;</td><td>5292</td><td>2018-12-22</td><td>2018-12-14</td><td>7859</td><td>8</td><td>0</td><td>6</td><td>null</td><td>null</td><td>null</td><td>null</td><td>null</td><td>null</td><td>null</td><td>null</td><td>7128</td><td>266</td><td>4</td><td>3</td><td>1</td><td>2.581777</td><td>3.895367</td><td>0.5088</td></tr><tr><td>&quot;OTH&quot;</td><td>5638</td><td>2018-12-22</td><td>2018-12-14</td><td>7859</td><td>8</td><td>0</td><td>6</td><td>null</td><td>null</td><td>null</td><td>null</td><td>null</td><td>null</td><td>null</td><td>null</td><td>7128</td><td>266</td><td>4</td><td>3</td><td>1</td><td>2.581777</td><td>3.895367</td><td>0.5088</td></tr><tr><td>&quot;OTH&quot;</td><td>5292</td><td>2018-12-22</td><td>2018-12-15</td><td>7859</td><td>7</td><td>0</td><td>6</td><td>null</td><td>null</td><td>null</td><td>null</td><td>null</td><td>null</td><td>null</td><td>null</td><td>7128</td><td>266</td><td>4</td><td>3</td><td>1</td><td>2.581777</td><td>3.895367</td><td>0.5088</td></tr><tr><td>&quot;OTH&quot;</td><td>5638</td><td>2018-12-22</td><td>2018-12-15</td><td>7859</td><td>7</td><td>0</td><td>6</td><td>null</td><td>null</td><td>null</td><td>null</td><td>null</td><td>null</td><td>null</td><td>null</td><td>7128</td><td>266</td><td>4</td><td>3</td><td>1</td><td>2.581777</td><td>3.895367</td><td>0.5088</td></tr><tr><td>&quot;OTH&quot;</td><td>6413</td><td>2018-12-22</td><td>2018-12-15</td><td>7859</td><td>7</td><td>0</td><td>6</td><td>null</td><td>null</td><td>null</td><td>null</td><td>null</td><td>null</td><td>null</td><td>null</td><td>7128</td><td>266</td><td>4</td><td>3</td><td>1</td><td>2.581777</td><td>3.895367</td><td>0.5088</td></tr><tr><td>&quot;OTH&quot;</td><td>6005</td><td>2018-12-22</td><td>2018-12-15</td><td>7859</td><td>7</td><td>0</td><td>6</td><td>null</td><td>null</td><td>null</td><td>null</td><td>null</td><td>null</td><td>null</td><td>null</td><td>7128</td><td>266</td><td>4</td><td>3</td><td>1</td><td>2.581777</td><td>3.895367</td><td>0.5088</td></tr><tr><td>&quot;OTH&quot;</td><td>6413</td><td>2018-12-22</td><td>2018-12-17</td><td>7859</td><td>5</td><td>0</td><td>6</td><td>null</td><td>null</td><td>null</td><td>null</td><td>null</td><td>null</td><td>null</td><td>null</td><td>7128</td><td>266</td><td>4</td><td>3</td><td>1</td><td>2.581777</td><td>3.895367</td><td>0.5088</td></tr><tr><td>&quot;OTH&quot;</td><td>5638</td><td>2018-12-22</td><td>2018-12-17</td><td>7859</td><td>5</td><td>0</td><td>6</td><td>null</td><td>null</td><td>null</td><td>null</td><td>null</td><td>null</td><td>null</td><td>null</td><td>7128</td><td>266</td><td>4</td><td>3</td><td>1</td><td>2.581777</td><td>3.895367</td><td>0.5088</td></tr><tr><td>&quot;OTH&quot;</td><td>6005</td><td>2018-12-22</td><td>2018-12-17</td><td>7859</td><td>5</td><td>0</td><td>6</td><td>null</td><td>null</td><td>null</td><td>null</td><td>null</td><td>null</td><td>null</td><td>null</td><td>7128</td><td>266</td><td>4</td><td>3</td><td>1</td><td>2.581777</td><td>3.895367</td><td>0.5088</td></tr><tr><td>&quot;OTH&quot;</td><td>5292</td><td>2018-12-22</td><td>2018-12-17</td><td>7859</td><td>5</td><td>0</td><td>6</td><td>null</td><td>null</td><td>null</td><td>null</td><td>null</td><td>null</td><td>null</td><td>null</td><td>7128</td><td>266</td><td>4</td><td>3</td><td>1</td><td>2.581777</td><td>3.895367</td><td>0.5088</td></tr></tbody></table></div>"
      ],
      "text/plain": [
       "shape: (34_591, 24)\n",
       "┌─────────┬─────────┬────────────┬────────────┬───┬────────────┬───────────┬──────────┬────────────┐\n",
       "│ carrier ┆ flt_num ┆ flt_depart ┆ observatio ┆ … ┆ flt_info_n ┆ base_fare ┆ log_fare ┆ scaled_far │\n",
       "│ ---     ┆ ---     ┆ ure_dt     ┆ n_date     ┆   ┆ ull        ┆ ---       ┆ ---      ┆ e          │\n",
       "│ str     ┆ i64     ┆ ---        ┆ ---        ┆   ┆ ---        ┆ f64       ┆ f64      ┆ ---        │\n",
       "│         ┆         ┆ date       ┆ date       ┆   ┆ u8         ┆           ┆          ┆ f64        │\n",
       "╞═════════╪═════════╪════════════╪════════════╪═══╪════════════╪═══════════╪══════════╪════════════╡\n",
       "│ L1      ┆ 2149    ┆ 2018-12-18 ┆ 2018-11-05 ┆ … ┆ 0          ┆ 2.970955  ┆ 2.472756 ┆ -0.1677    │\n",
       "│ L1      ┆ 2149    ┆ 2018-12-18 ┆ 2018-11-09 ┆ … ┆ 0          ┆ 2.970955  ┆ 2.472756 ┆ -0.1677    │\n",
       "│ L1      ┆ 2149    ┆ 2018-12-18 ┆ 2018-11-16 ┆ … ┆ 0          ┆ 2.970955  ┆ 2.472756 ┆ -0.1677    │\n",
       "│ L1      ┆ 6523    ┆ 2018-12-19 ┆ 2018-11-09 ┆ … ┆ 0          ┆ 2.970955  ┆ 2.472756 ┆ -0.1677    │\n",
       "│ L1      ┆ 6523    ┆ 2018-12-19 ┆ 2018-11-12 ┆ … ┆ 0          ┆ 2.970955  ┆ 2.472756 ┆ -0.1677    │\n",
       "│ L1      ┆ 2149    ┆ 2018-12-18 ┆ 2018-11-20 ┆ … ┆ 0          ┆ 2.970955  ┆ 2.491362 ┆ -0.1614    │\n",
       "│ L1      ┆ 2149    ┆ 2018-12-18 ┆ 2018-11-21 ┆ … ┆ 0          ┆ 2.970955  ┆ 2.491362 ┆ -0.1614    │\n",
       "│ L1      ┆ 6523    ┆ 2018-12-18 ┆ 2018-11-22 ┆ … ┆ 0          ┆ 2.970955  ┆ 2.491362 ┆ -0.1614    │\n",
       "│ L1      ┆ 2149    ┆ 2018-12-18 ┆ 2018-11-22 ┆ … ┆ 0          ┆ 2.970955  ┆ 2.491362 ┆ -0.1614    │\n",
       "│ L1      ┆ 3861    ┆ 2018-12-18 ┆ 2018-11-27 ┆ … ┆ 0          ┆ 2.970955  ┆ 2.491362 ┆ -0.1614    │\n",
       "│ …       ┆ …       ┆ …          ┆ …          ┆ … ┆ …          ┆ …         ┆ …        ┆ …          │\n",
       "│ OTH     ┆ 5292    ┆ 2018-12-22 ┆ 2018-12-14 ┆ … ┆ 1          ┆ 2.581777  ┆ 3.895367 ┆ 0.5088     │\n",
       "│ OTH     ┆ 5638    ┆ 2018-12-22 ┆ 2018-12-14 ┆ … ┆ 1          ┆ 2.581777  ┆ 3.895367 ┆ 0.5088     │\n",
       "│ OTH     ┆ 5292    ┆ 2018-12-22 ┆ 2018-12-15 ┆ … ┆ 1          ┆ 2.581777  ┆ 3.895367 ┆ 0.5088     │\n",
       "│ OTH     ┆ 5638    ┆ 2018-12-22 ┆ 2018-12-15 ┆ … ┆ 1          ┆ 2.581777  ┆ 3.895367 ┆ 0.5088     │\n",
       "│ OTH     ┆ 6413    ┆ 2018-12-22 ┆ 2018-12-15 ┆ … ┆ 1          ┆ 2.581777  ┆ 3.895367 ┆ 0.5088     │\n",
       "│ OTH     ┆ 6005    ┆ 2018-12-22 ┆ 2018-12-15 ┆ … ┆ 1          ┆ 2.581777  ┆ 3.895367 ┆ 0.5088     │\n",
       "│ OTH     ┆ 6413    ┆ 2018-12-22 ┆ 2018-12-17 ┆ … ┆ 1          ┆ 2.581777  ┆ 3.895367 ┆ 0.5088     │\n",
       "│ OTH     ┆ 5638    ┆ 2018-12-22 ┆ 2018-12-17 ┆ … ┆ 1          ┆ 2.581777  ┆ 3.895367 ┆ 0.5088     │\n",
       "│ OTH     ┆ 6005    ┆ 2018-12-22 ┆ 2018-12-17 ┆ … ┆ 1          ┆ 2.581777  ┆ 3.895367 ┆ 0.5088     │\n",
       "│ OTH     ┆ 5292    ┆ 2018-12-22 ┆ 2018-12-17 ┆ … ┆ 1          ┆ 2.581777  ┆ 3.895367 ┆ 0.5088     │\n",
       "└─────────┴─────────┴────────────┴────────────┴───┴────────────┴───────────┴──────────┴────────────┘"
      ]
     },
     "execution_count": 15,
     "metadata": {},
     "output_type": "execute_result"
    }
   ],
   "source": [
    "val_df.sort('scaled_fare')"
   ]
  },
  {
   "cell_type": "markdown",
   "metadata": {},
   "source": [
    "### Feature generation"
   ]
  },
  {
   "cell_type": "markdown",
   "metadata": {},
   "source": [
    "#### Last week prices"
   ]
  },
  {
   "cell_type": "code",
   "execution_count": 16,
   "metadata": {},
   "outputs": [
    {
     "data": {
      "text/html": [
       "<div><style>\n",
       ".dataframe > thead > tr,\n",
       ".dataframe > tbody > tr {\n",
       "  text-align: right;\n",
       "  white-space: pre-wrap;\n",
       "}\n",
       "</style>\n",
       "<small>shape: (12, 2)</small><table border=\"1\" class=\"dataframe\"><thead><tr><th>route_id</th><th>route_mean_fare</th></tr><tr><td>u8</td><td>f64</td></tr></thead><tbody><tr><td>0</td><td>772.328898</td></tr><tr><td>1</td><td>1085.445653</td></tr><tr><td>2</td><td>870.424992</td></tr><tr><td>3</td><td>951.445763</td></tr><tr><td>4</td><td>559.232688</td></tr><tr><td>5</td><td>699.102823</td></tr><tr><td>6</td><td>516.050055</td></tr><tr><td>7</td><td>757.106133</td></tr><tr><td>8</td><td>1169.430536</td></tr><tr><td>9</td><td>1007.44659</td></tr><tr><td>10</td><td>1084.923464</td></tr><tr><td>11</td><td>627.665446</td></tr></tbody></table></div>"
      ],
      "text/plain": [
       "shape: (12, 2)\n",
       "┌──────────┬─────────────────┐\n",
       "│ route_id ┆ route_mean_fare │\n",
       "│ ---      ┆ ---             │\n",
       "│ u8       ┆ f64             │\n",
       "╞══════════╪═════════════════╡\n",
       "│ 0        ┆ 772.328898      │\n",
       "│ 1        ┆ 1085.445653     │\n",
       "│ 2        ┆ 870.424992      │\n",
       "│ 3        ┆ 951.445763      │\n",
       "│ 4        ┆ 559.232688      │\n",
       "│ 5        ┆ 699.102823      │\n",
       "│ 6        ┆ 516.050055      │\n",
       "│ 7        ┆ 757.106133      │\n",
       "│ 8        ┆ 1169.430536     │\n",
       "│ 9        ┆ 1007.44659      │\n",
       "│ 10       ┆ 1084.923464     │\n",
       "│ 11       ┆ 627.665446      │\n",
       "└──────────┴─────────────────┘"
      ]
     },
     "execution_count": 16,
     "metadata": {},
     "output_type": "execute_result"
    }
   ],
   "source": [
    "route_mean_fares = train_df.group_by('route_id').agg(\n",
    "    pl.col('total_fare').mean().alias('route_mean_fare')\n",
    ").sort('route_id')\n",
    "\n",
    "route_mean_fares"
   ]
  },
  {
   "cell_type": "code",
   "execution_count": 17,
   "metadata": {},
   "outputs": [
    {
     "data": {
      "text/html": [
       "<div><style>\n",
       ".dataframe > thead > tr,\n",
       ".dataframe > tbody > tr {\n",
       "  text-align: right;\n",
       "  white-space: pre-wrap;\n",
       "}\n",
       "</style>\n",
       "<small>shape: (4_124, 3)</small><table border=\"1\" class=\"dataframe\"><thead><tr><th>route_id</th><th>flt_departure_dt</th><th>7d_route_avg</th></tr><tr><td>u8</td><td>date</td><td>f64</td></tr></thead><tbody><tr><td>0</td><td>2018-02-17</td><td>0.957494</td></tr><tr><td>0</td><td>2018-02-18</td><td>0.957494</td></tr><tr><td>0</td><td>2018-02-19</td><td>0.957364</td></tr><tr><td>0</td><td>2018-02-20</td><td>0.957494</td></tr><tr><td>0</td><td>2018-02-21</td><td>0.957494</td></tr><tr><td>0</td><td>2018-02-22</td><td>1.055379</td></tr><tr><td>0</td><td>2018-02-23</td><td>1.007642</td></tr><tr><td>0</td><td>2018-02-24</td><td>0.93449</td></tr><tr><td>0</td><td>2018-02-25</td><td>0.914361</td></tr><tr><td>0</td><td>2018-02-26</td><td>1.192421</td></tr><tr><td>&hellip;</td><td>&hellip;</td><td>&hellip;</td></tr><tr><td>11</td><td>2018-12-29</td><td>1.878877</td></tr><tr><td>11</td><td>2018-12-30</td><td>1.595318</td></tr><tr><td>11</td><td>2018-12-31</td><td>1.395176</td></tr><tr><td>11</td><td>2019-01-01</td><td>1.285237</td></tr><tr><td>11</td><td>2019-01-02</td><td>1.434717</td></tr><tr><td>11</td><td>2019-01-03</td><td>1.289778</td></tr><tr><td>11</td><td>2019-01-04</td><td>1.159714</td></tr><tr><td>11</td><td>2019-01-05</td><td>1.248331</td></tr><tr><td>11</td><td>2019-01-06</td><td>1.200044</td></tr><tr><td>11</td><td>2019-01-07</td><td>0.875134</td></tr></tbody></table></div>"
      ],
      "text/plain": [
       "shape: (4_124, 3)\n",
       "┌──────────┬──────────────────┬──────────────┐\n",
       "│ route_id ┆ flt_departure_dt ┆ 7d_route_avg │\n",
       "│ ---      ┆ ---              ┆ ---          │\n",
       "│ u8       ┆ date             ┆ f64          │\n",
       "╞══════════╪══════════════════╪══════════════╡\n",
       "│ 0        ┆ 2018-02-17       ┆ 0.957494     │\n",
       "│ 0        ┆ 2018-02-18       ┆ 0.957494     │\n",
       "│ 0        ┆ 2018-02-19       ┆ 0.957364     │\n",
       "│ 0        ┆ 2018-02-20       ┆ 0.957494     │\n",
       "│ 0        ┆ 2018-02-21       ┆ 0.957494     │\n",
       "│ 0        ┆ 2018-02-22       ┆ 1.055379     │\n",
       "│ 0        ┆ 2018-02-23       ┆ 1.007642     │\n",
       "│ 0        ┆ 2018-02-24       ┆ 0.93449      │\n",
       "│ 0        ┆ 2018-02-25       ┆ 0.914361     │\n",
       "│ 0        ┆ 2018-02-26       ┆ 1.192421     │\n",
       "│ …        ┆ …                ┆ …            │\n",
       "│ 11       ┆ 2018-12-29       ┆ 1.878877     │\n",
       "│ 11       ┆ 2018-12-30       ┆ 1.595318     │\n",
       "│ 11       ┆ 2018-12-31       ┆ 1.395176     │\n",
       "│ 11       ┆ 2019-01-01       ┆ 1.285237     │\n",
       "│ 11       ┆ 2019-01-02       ┆ 1.434717     │\n",
       "│ 11       ┆ 2019-01-03       ┆ 1.289778     │\n",
       "│ 11       ┆ 2019-01-04       ┆ 1.159714     │\n",
       "│ 11       ┆ 2019-01-05       ┆ 1.248331     │\n",
       "│ 11       ┆ 2019-01-06       ┆ 1.200044     │\n",
       "│ 11       ┆ 2019-01-07       ┆ 0.875134     │\n",
       "└──────────┴──────────────────┴──────────────┘"
      ]
     },
     "execution_count": 17,
     "metadata": {},
     "output_type": "execute_result"
    }
   ],
   "source": [
    "route_week_ago_fare = processed_train_df.group_by(\n",
    "    'route_id', 'flt_departure_dt'\n",
    ").agg(\n",
    "    pl.col('total_fare').mean()\n",
    ").with_columns(\n",
    "    pl.col('flt_departure_dt') + pl.duration(days = 7)\n",
    ").join(\n",
    "    route_mean_fares,\n",
    "    on = \"route_id\",\n",
    "    how = \"left\"\n",
    ").select(\n",
    "    pl.col('route_id'),\n",
    "    pl.col('flt_departure_dt'),\n",
    "    (\n",
    "        pl.col('total_fare') / pl.col('route_mean_fare')\n",
    "    ).alias('7d_route_avg')\n",
    ").sort('route_id', 'flt_departure_dt')\n",
    "\n",
    "route_week_ago_fare"
   ]
  },
  {
   "cell_type": "code",
   "execution_count": 18,
   "metadata": {},
   "outputs": [
    {
     "data": {
      "text/html": [
       "<div><style>\n",
       ".dataframe > thead > tr,\n",
       ".dataframe > tbody > tr {\n",
       "  text-align: right;\n",
       "  white-space: pre-wrap;\n",
       "}\n",
       "</style>\n",
       "<small>shape: (4_124, 3)</small><table border=\"1\" class=\"dataframe\"><thead><tr><th>route_id</th><th>flt_departure_dt</th><th>14d_route_avg</th></tr><tr><td>u8</td><td>date</td><td>f64</td></tr></thead><tbody><tr><td>0</td><td>2018-02-24</td><td>0.957494</td></tr><tr><td>0</td><td>2018-02-25</td><td>0.957494</td></tr><tr><td>0</td><td>2018-02-26</td><td>0.957364</td></tr><tr><td>0</td><td>2018-02-27</td><td>0.957494</td></tr><tr><td>0</td><td>2018-02-28</td><td>0.957494</td></tr><tr><td>0</td><td>2018-03-01</td><td>1.055379</td></tr><tr><td>0</td><td>2018-03-02</td><td>1.007642</td></tr><tr><td>0</td><td>2018-03-03</td><td>0.93449</td></tr><tr><td>0</td><td>2018-03-04</td><td>0.914361</td></tr><tr><td>0</td><td>2018-03-05</td><td>1.192421</td></tr><tr><td>&hellip;</td><td>&hellip;</td><td>&hellip;</td></tr><tr><td>11</td><td>2019-01-05</td><td>1.878877</td></tr><tr><td>11</td><td>2019-01-06</td><td>1.595318</td></tr><tr><td>11</td><td>2019-01-07</td><td>1.395176</td></tr><tr><td>11</td><td>2019-01-08</td><td>1.285237</td></tr><tr><td>11</td><td>2019-01-09</td><td>1.434717</td></tr><tr><td>11</td><td>2019-01-10</td><td>1.289778</td></tr><tr><td>11</td><td>2019-01-11</td><td>1.159714</td></tr><tr><td>11</td><td>2019-01-12</td><td>1.248331</td></tr><tr><td>11</td><td>2019-01-13</td><td>1.200044</td></tr><tr><td>11</td><td>2019-01-14</td><td>0.875134</td></tr></tbody></table></div>"
      ],
      "text/plain": [
       "shape: (4_124, 3)\n",
       "┌──────────┬──────────────────┬───────────────┐\n",
       "│ route_id ┆ flt_departure_dt ┆ 14d_route_avg │\n",
       "│ ---      ┆ ---              ┆ ---           │\n",
       "│ u8       ┆ date             ┆ f64           │\n",
       "╞══════════╪══════════════════╪═══════════════╡\n",
       "│ 0        ┆ 2018-02-24       ┆ 0.957494      │\n",
       "│ 0        ┆ 2018-02-25       ┆ 0.957494      │\n",
       "│ 0        ┆ 2018-02-26       ┆ 0.957364      │\n",
       "│ 0        ┆ 2018-02-27       ┆ 0.957494      │\n",
       "│ 0        ┆ 2018-02-28       ┆ 0.957494      │\n",
       "│ 0        ┆ 2018-03-01       ┆ 1.055379      │\n",
       "│ 0        ┆ 2018-03-02       ┆ 1.007642      │\n",
       "│ 0        ┆ 2018-03-03       ┆ 0.93449       │\n",
       "│ 0        ┆ 2018-03-04       ┆ 0.914361      │\n",
       "│ 0        ┆ 2018-03-05       ┆ 1.192421      │\n",
       "│ …        ┆ …                ┆ …             │\n",
       "│ 11       ┆ 2019-01-05       ┆ 1.878877      │\n",
       "│ 11       ┆ 2019-01-06       ┆ 1.595318      │\n",
       "│ 11       ┆ 2019-01-07       ┆ 1.395176      │\n",
       "│ 11       ┆ 2019-01-08       ┆ 1.285237      │\n",
       "│ 11       ┆ 2019-01-09       ┆ 1.434717      │\n",
       "│ 11       ┆ 2019-01-10       ┆ 1.289778      │\n",
       "│ 11       ┆ 2019-01-11       ┆ 1.159714      │\n",
       "│ 11       ┆ 2019-01-12       ┆ 1.248331      │\n",
       "│ 11       ┆ 2019-01-13       ┆ 1.200044      │\n",
       "│ 11       ┆ 2019-01-14       ┆ 0.875134      │\n",
       "└──────────┴──────────────────┴───────────────┘"
      ]
     },
     "execution_count": 18,
     "metadata": {},
     "output_type": "execute_result"
    }
   ],
   "source": [
    "route_2week_ago_fare = processed_train_df.group_by(\n",
    "    'route_id', 'flt_departure_dt'\n",
    ").agg(\n",
    "    pl.col('total_fare').mean()\n",
    ").with_columns(\n",
    "    pl.col('flt_departure_dt') + pl.duration(days = 14)\n",
    ").join(\n",
    "    route_mean_fares,\n",
    "    on = \"route_id\",\n",
    "    how = \"left\"\n",
    ").select(\n",
    "    pl.col('route_id'),\n",
    "    pl.col('flt_departure_dt'),\n",
    "    (\n",
    "        pl.col('total_fare') / pl.col('route_mean_fare')\n",
    "    ).alias('14d_route_avg')\n",
    ").sort('route_id', 'flt_departure_dt')\n",
    "\n",
    "route_2week_ago_fare"
   ]
  },
  {
   "cell_type": "code",
   "execution_count": 19,
   "metadata": {},
   "outputs": [
    {
     "data": {
      "text/html": [
       "<div><style>\n",
       ".dataframe > thead > tr,\n",
       ".dataframe > tbody > tr {\n",
       "  text-align: right;\n",
       "  white-space: pre-wrap;\n",
       "}\n",
       "</style>\n",
       "<small>shape: (34, 3)</small><table border=\"1\" class=\"dataframe\"><thead><tr><th>route_id</th><th>carrier</th><th>route_carrier_mean_fare</th></tr><tr><td>u8</td><td>str</td><td>f64</td></tr></thead><tbody><tr><td>0</td><td>&quot;L1&quot;</td><td>832.34545</td></tr><tr><td>0</td><td>&quot;U3&quot;</td><td>555.936445</td></tr><tr><td>1</td><td>&quot;L1&quot;</td><td>1085.445653</td></tr><tr><td>2</td><td>&quot;L1&quot;</td><td>966.614477</td></tr><tr><td>2</td><td>&quot;OTH&quot;</td><td>618.916742</td></tr><tr><td>2</td><td>&quot;U3&quot;</td><td>559.28629</td></tr><tr><td>3</td><td>&quot;L1&quot;</td><td>1065.304963</td></tr><tr><td>3</td><td>&quot;OTH&quot;</td><td>632.662761</td></tr><tr><td>3</td><td>&quot;U3&quot;</td><td>719.858787</td></tr><tr><td>4</td><td>&quot;L1&quot;</td><td>530.587521</td></tr><tr><td>&hellip;</td><td>&hellip;</td><td>&hellip;</td></tr><tr><td>7</td><td>&quot;U3&quot;</td><td>558.109504</td></tr><tr><td>8</td><td>&quot;L1&quot;</td><td>1169.430536</td></tr><tr><td>9</td><td>&quot;L1&quot;</td><td>1045.840568</td></tr><tr><td>9</td><td>&quot;L2&quot;</td><td>968.206243</td></tr><tr><td>10</td><td>&quot;L1&quot;</td><td>1116.207829</td></tr><tr><td>10</td><td>&quot;L2&quot;</td><td>1051.223907</td></tr><tr><td>11</td><td>&quot;L1&quot;</td><td>653.306415</td></tr><tr><td>11</td><td>&quot;OTH&quot;</td><td>579.380258</td></tr><tr><td>11</td><td>&quot;U1&quot;</td><td>620.813159</td></tr><tr><td>11</td><td>&quot;U3&quot;</td><td>446.118897</td></tr></tbody></table></div>"
      ],
      "text/plain": [
       "shape: (34, 3)\n",
       "┌──────────┬─────────┬─────────────────────────┐\n",
       "│ route_id ┆ carrier ┆ route_carrier_mean_fare │\n",
       "│ ---      ┆ ---     ┆ ---                     │\n",
       "│ u8       ┆ str     ┆ f64                     │\n",
       "╞══════════╪═════════╪═════════════════════════╡\n",
       "│ 0        ┆ L1      ┆ 832.34545               │\n",
       "│ 0        ┆ U3      ┆ 555.936445              │\n",
       "│ 1        ┆ L1      ┆ 1085.445653             │\n",
       "│ 2        ┆ L1      ┆ 966.614477              │\n",
       "│ 2        ┆ OTH     ┆ 618.916742              │\n",
       "│ 2        ┆ U3      ┆ 559.28629               │\n",
       "│ 3        ┆ L1      ┆ 1065.304963             │\n",
       "│ 3        ┆ OTH     ┆ 632.662761              │\n",
       "│ 3        ┆ U3      ┆ 719.858787              │\n",
       "│ 4        ┆ L1      ┆ 530.587521              │\n",
       "│ …        ┆ …       ┆ …                       │\n",
       "│ 7        ┆ U3      ┆ 558.109504              │\n",
       "│ 8        ┆ L1      ┆ 1169.430536             │\n",
       "│ 9        ┆ L1      ┆ 1045.840568             │\n",
       "│ 9        ┆ L2      ┆ 968.206243              │\n",
       "│ 10       ┆ L1      ┆ 1116.207829             │\n",
       "│ 10       ┆ L2      ┆ 1051.223907             │\n",
       "│ 11       ┆ L1      ┆ 653.306415              │\n",
       "│ 11       ┆ OTH     ┆ 579.380258              │\n",
       "│ 11       ┆ U1      ┆ 620.813159              │\n",
       "│ 11       ┆ U3      ┆ 446.118897              │\n",
       "└──────────┴─────────┴─────────────────────────┘"
      ]
     },
     "execution_count": 19,
     "metadata": {},
     "output_type": "execute_result"
    }
   ],
   "source": [
    "route_carrier_mean_fares = train_df.group_by('route_id', 'carrier').agg(\n",
    "    pl.col('total_fare').mean().alias('route_carrier_mean_fare')\n",
    ").sort('route_id', 'carrier')\n",
    "\n",
    "route_carrier_mean_fares"
   ]
  },
  {
   "cell_type": "code",
   "execution_count": 20,
   "metadata": {},
   "outputs": [
    {
     "data": {
      "text/html": [
       "<div><style>\n",
       ".dataframe > thead > tr,\n",
       ".dataframe > tbody > tr {\n",
       "  text-align: right;\n",
       "  white-space: pre-wrap;\n",
       "}\n",
       "</style>\n",
       "<small>shape: (10_130, 4)</small><table border=\"1\" class=\"dataframe\"><thead><tr><th>route_id</th><th>flt_departure_dt</th><th>carrier</th><th>7d_route_carrier_avg</th></tr><tr><td>u8</td><td>date</td><td>str</td><td>f64</td></tr></thead><tbody><tr><td>0</td><td>2018-02-17</td><td>&quot;U3&quot;</td><td>1.330188</td></tr><tr><td>0</td><td>2018-02-18</td><td>&quot;U3&quot;</td><td>1.330188</td></tr><tr><td>0</td><td>2018-02-19</td><td>&quot;U3&quot;</td><td>1.330008</td></tr><tr><td>0</td><td>2018-02-20</td><td>&quot;U3&quot;</td><td>1.330188</td></tr><tr><td>0</td><td>2018-02-21</td><td>&quot;U3&quot;</td><td>1.330188</td></tr><tr><td>0</td><td>2018-02-22</td><td>&quot;U3&quot;</td><td>1.466175</td></tr><tr><td>0</td><td>2018-02-23</td><td>&quot;U3&quot;</td><td>1.399856</td></tr><tr><td>0</td><td>2018-02-24</td><td>&quot;U3&quot;</td><td>1.29823</td></tr><tr><td>0</td><td>2018-02-25</td><td>&quot;U3&quot;</td><td>1.270267</td></tr><tr><td>0</td><td>2018-02-26</td><td>&quot;U3&quot;</td><td>1.656558</td></tr><tr><td>&hellip;</td><td>&hellip;</td><td>&hellip;</td><td>&hellip;</td></tr><tr><td>11</td><td>2019-01-04</td><td>&quot;U1&quot;</td><td>1.195153</td></tr><tr><td>11</td><td>2019-01-04</td><td>&quot;U3&quot;</td><td>1.242818</td></tr><tr><td>11</td><td>2019-01-05</td><td>&quot;L1&quot;</td><td>1.340629</td></tr><tr><td>11</td><td>2019-01-05</td><td>&quot;U1&quot;</td><td>1.16702</td></tr><tr><td>11</td><td>2019-01-05</td><td>&quot;U3&quot;</td><td>1.258409</td></tr><tr><td>11</td><td>2019-01-06</td><td>&quot;L1&quot;</td><td>1.250893</td></tr><tr><td>11</td><td>2019-01-06</td><td>&quot;U1&quot;</td><td>1.115584</td></tr><tr><td>11</td><td>2019-01-07</td><td>&quot;L1&quot;</td><td>0.865594</td></tr><tr><td>11</td><td>2019-01-07</td><td>&quot;U1&quot;</td><td>0.90686</td></tr><tr><td>11</td><td>2019-01-07</td><td>&quot;U3&quot;</td><td>0.709393</td></tr></tbody></table></div>"
      ],
      "text/plain": [
       "shape: (10_130, 4)\n",
       "┌──────────┬──────────────────┬─────────┬──────────────────────┐\n",
       "│ route_id ┆ flt_departure_dt ┆ carrier ┆ 7d_route_carrier_avg │\n",
       "│ ---      ┆ ---              ┆ ---     ┆ ---                  │\n",
       "│ u8       ┆ date             ┆ str     ┆ f64                  │\n",
       "╞══════════╪══════════════════╪═════════╪══════════════════════╡\n",
       "│ 0        ┆ 2018-02-17       ┆ U3      ┆ 1.330188             │\n",
       "│ 0        ┆ 2018-02-18       ┆ U3      ┆ 1.330188             │\n",
       "│ 0        ┆ 2018-02-19       ┆ U3      ┆ 1.330008             │\n",
       "│ 0        ┆ 2018-02-20       ┆ U3      ┆ 1.330188             │\n",
       "│ 0        ┆ 2018-02-21       ┆ U3      ┆ 1.330188             │\n",
       "│ 0        ┆ 2018-02-22       ┆ U3      ┆ 1.466175             │\n",
       "│ 0        ┆ 2018-02-23       ┆ U3      ┆ 1.399856             │\n",
       "│ 0        ┆ 2018-02-24       ┆ U3      ┆ 1.29823              │\n",
       "│ 0        ┆ 2018-02-25       ┆ U3      ┆ 1.270267             │\n",
       "│ 0        ┆ 2018-02-26       ┆ U3      ┆ 1.656558             │\n",
       "│ …        ┆ …                ┆ …       ┆ …                    │\n",
       "│ 11       ┆ 2019-01-04       ┆ U1      ┆ 1.195153             │\n",
       "│ 11       ┆ 2019-01-04       ┆ U3      ┆ 1.242818             │\n",
       "│ 11       ┆ 2019-01-05       ┆ L1      ┆ 1.340629             │\n",
       "│ 11       ┆ 2019-01-05       ┆ U1      ┆ 1.16702              │\n",
       "│ 11       ┆ 2019-01-05       ┆ U3      ┆ 1.258409             │\n",
       "│ 11       ┆ 2019-01-06       ┆ L1      ┆ 1.250893             │\n",
       "│ 11       ┆ 2019-01-06       ┆ U1      ┆ 1.115584             │\n",
       "│ 11       ┆ 2019-01-07       ┆ L1      ┆ 0.865594             │\n",
       "│ 11       ┆ 2019-01-07       ┆ U1      ┆ 0.90686              │\n",
       "│ 11       ┆ 2019-01-07       ┆ U3      ┆ 0.709393             │\n",
       "└──────────┴──────────────────┴─────────┴──────────────────────┘"
      ]
     },
     "execution_count": 20,
     "metadata": {},
     "output_type": "execute_result"
    }
   ],
   "source": [
    "route_carrier_week_ago_fare = processed_train_df.group_by(\n",
    "    'route_id', 'flt_departure_dt', 'carrier'\n",
    ").agg(\n",
    "    pl.col('total_fare').mean()\n",
    ").with_columns(\n",
    "    pl.col('flt_departure_dt') + pl.duration(days = 7)\n",
    ").join(\n",
    "    route_carrier_mean_fares,\n",
    "    on = ['route_id', 'carrier'],\n",
    "    how = \"left\"\n",
    ").select(\n",
    "    pl.col('route_id'),\n",
    "    pl.col('flt_departure_dt'),\n",
    "    pl.col('carrier'),\n",
    "    (\n",
    "        pl.col('total_fare') / pl.col('route_carrier_mean_fare')\n",
    "    ).alias('7d_route_carrier_avg')\n",
    ").sort('route_id', 'flt_departure_dt', 'carrier')\n",
    "\n",
    "route_carrier_week_ago_fare"
   ]
  },
  {
   "cell_type": "code",
   "execution_count": 21,
   "metadata": {},
   "outputs": [
    {
     "data": {
      "text/html": [
       "<div><style>\n",
       ".dataframe > thead > tr,\n",
       ".dataframe > tbody > tr {\n",
       "  text-align: right;\n",
       "  white-space: pre-wrap;\n",
       "}\n",
       "</style>\n",
       "<small>shape: (1_620_806, 27)</small><table border=\"1\" class=\"dataframe\"><thead><tr><th>carrier</th><th>flt_num</th><th>flt_departure_dt</th><th>observation_date</th><th>total_fare</th><th>days_till_flight</th><th>is_dst</th><th>route_id</th><th>flt_departure_local_time</th><th>flt_arrival_local_time</th><th>dur_min</th><th>tz_min</th><th>over_mn</th><th>dpt_4h_od</th><th>flt_count_dpt_24h</th><th>flt_count_dpt_4h</th><th>scaled_demand</th><th>scaled_share</th><th>origin_id</th><th>destination_id</th><th>flt_info_null</th><th>base_fare</th><th>log_fare</th><th>scaled_fare</th><th>7d_route_avg</th><th>14d_route_avg</th><th>7d_route_carrier_avg</th></tr><tr><td>str</td><td>i64</td><td>date</td><td>date</td><td>i64</td><td>i16</td><td>i8</td><td>u8</td><td>datetime[ns]</td><td>datetime[ns]</td><td>i16</td><td>i16</td><td>i8</td><td>i8</td><td>u8</td><td>u8</td><td>i64</td><td>i64</td><td>u8</td><td>u8</td><td>u8</td><td>f64</td><td>f64</td><td>f64</td><td>f64</td><td>f64</td><td>f64</td></tr></thead><tbody><tr><td>&quot;L2&quot;</td><td>5242</td><td>2018-01-01</td><td>2017-11-27</td><td>846</td><td>35</td><td>0</td><td>4</td><td>2018-01-01 10:49:00</td><td>2018-01-01 12:14:00</td><td>85</td><td>-480</td><td>0</td><td>2</td><td>30</td><td>5</td><td>6659</td><td>212</td><td>3</td><td>4</td><td>0</td><td>2.676879</td><td>2.92737</td><td>0.0936</td><td>1.0</td><td>1.0</td><td>1.0</td></tr><tr><td>&quot;OTH&quot;</td><td>4790</td><td>2018-01-01</td><td>2017-11-27</td><td>937</td><td>35</td><td>0</td><td>4</td><td>2018-01-01 14:57:00</td><td>2018-01-01 16:17:00</td><td>80</td><td>-480</td><td>0</td><td>3</td><td>30</td><td>8</td><td>6659</td><td>316</td><td>3</td><td>4</td><td>0</td><td>2.593901</td><td>2.97174</td><td>0.1457</td><td>1.0</td><td>1.0</td><td>1.0</td></tr><tr><td>&quot;OTH&quot;</td><td>4837</td><td>2018-01-01</td><td>2017-11-27</td><td>281</td><td>35</td><td>0</td><td>6</td><td>2018-01-01 19:38:00</td><td>2018-01-01 20:43:00</td><td>65</td><td>-480</td><td>0</td><td>4</td><td>30</td><td>7</td><td>6659</td><td>316</td><td>4</td><td>3</td><td>0</td><td>2.581777</td><td>2.448706</td><td>-0.0515</td><td>1.0</td><td>1.0</td><td>1.0</td></tr><tr><td>&quot;L2&quot;</td><td>5314</td><td>2018-01-01</td><td>2017-11-27</td><td>403</td><td>35</td><td>0</td><td>6</td><td>2018-01-01 19:05:00</td><td>2018-01-01 20:17:00</td><td>72</td><td>-480</td><td>0</td><td>4</td><td>30</td><td>7</td><td>6659</td><td>213</td><td>4</td><td>3</td><td>0</td><td>2.657775</td><td>2.605305</td><td>-0.0197</td><td>1.0</td><td>1.0</td><td>1.0</td></tr><tr><td>&quot;OTH&quot;</td><td>6187</td><td>2018-01-01</td><td>2017-11-27</td><td>341</td><td>35</td><td>0</td><td>11</td><td>2018-01-01 20:30:00</td><td>2018-01-01 21:58:00</td><td>88</td><td>-480</td><td>0</td><td>5</td><td>21</td><td>5</td><td>6579</td><td>354</td><td>7</td><td>3</td><td>0</td><td>2.72979</td><td>2.532754</td><td>-0.0722</td><td>1.0</td><td>1.0</td><td>1.0</td></tr><tr><td>&quot;U1&quot;</td><td>4771</td><td>2018-01-01</td><td>2017-11-27</td><td>513</td><td>35</td><td>0</td><td>4</td><td>null</td><td>null</td><td>null</td><td>null</td><td>null</td><td>null</td><td>null</td><td>null</td><td>null</td><td>null</td><td>3</td><td>4</td><td>1</td><td>2.637585</td><td>2.710117</td><td>0.0275</td><td>1.0</td><td>1.0</td><td>1.0</td></tr><tr><td>&quot;L3&quot;</td><td>15130</td><td>2018-01-01</td><td>2017-11-27</td><td>1298</td><td>35</td><td>0</td><td>4</td><td>2018-01-01 16:53:00</td><td>2018-01-01 18:19:00</td><td>86</td><td>-480</td><td>0</td><td>4</td><td>30</td><td>7</td><td>6659</td><td>231</td><td>3</td><td>4</td><td>0</td><td>2.764205</td><td>3.113275</td><td>0.1263</td><td>1.0</td><td>1.0</td><td>1.0</td></tr><tr><td>&quot;L1&quot;</td><td>1396</td><td>2018-01-01</td><td>2017-11-27</td><td>372</td><td>35</td><td>0</td><td>11</td><td>2018-01-01 19:35:00</td><td>2018-01-01 21:08:00</td><td>93</td><td>-480</td><td>0</td><td>4</td><td>21</td><td>7</td><td>6579</td><td>262</td><td>7</td><td>3</td><td>0</td><td>2.764388</td><td>2.570543</td><td>-0.0701</td><td>1.0</td><td>1.0</td><td>1.0</td></tr><tr><td>&quot;L1&quot;</td><td>6316</td><td>2018-01-01</td><td>2017-11-27</td><td>1119</td><td>35</td><td>0</td><td>1</td><td>2018-01-01 12:31:00</td><td>2018-01-01 15:55:00</td><td>204</td><td>-300</td><td>0</td><td>3</td><td>5</td><td>2</td><td>1468</td><td>360</td><td>1</td><td>5</td><td>0</td><td>2.986374</td><td>3.04883</td><td>0.0209</td><td>1.0</td><td>1.0</td><td>1.0</td></tr><tr><td>&quot;L1&quot;</td><td>4605</td><td>2018-01-01</td><td>2017-11-27</td><td>372</td><td>35</td><td>0</td><td>11</td><td>2018-01-01 17:18:00</td><td>2018-01-01 18:57:00</td><td>99</td><td>-480</td><td>0</td><td>4</td><td>21</td><td>7</td><td>6579</td><td>262</td><td>7</td><td>3</td><td>0</td><td>2.764388</td><td>2.570543</td><td>-0.0701</td><td>1.0</td><td>1.0</td><td>1.0</td></tr><tr><td>&hellip;</td><td>&hellip;</td><td>&hellip;</td><td>&hellip;</td><td>&hellip;</td><td>&hellip;</td><td>&hellip;</td><td>&hellip;</td><td>&hellip;</td><td>&hellip;</td><td>&hellip;</td><td>&hellip;</td><td>&hellip;</td><td>&hellip;</td><td>&hellip;</td><td>&hellip;</td><td>&hellip;</td><td>&hellip;</td><td>&hellip;</td><td>&hellip;</td><td>&hellip;</td><td>&hellip;</td><td>&hellip;</td><td>&hellip;</td><td>&hellip;</td><td>&hellip;</td><td>&hellip;</td></tr><tr><td>&quot;U1&quot;</td><td>6128</td><td>2018-12-15</td><td>2018-12-15</td><td>1111</td><td>0</td><td>0</td><td>5</td><td>2018-12-15 09:35:00</td><td>2018-12-15 11:12:00</td><td>97</td><td>-480</td><td>0</td><td>2</td><td>20</td><td>6</td><td>5817</td><td>252</td><td>3</td><td>7</td><td>0</td><td>2.794299</td><td>3.045714</td><td>0.09</td><td>0.762317</td><td>1.021279</td><td>0.789983</td></tr><tr><td>&quot;L2&quot;</td><td>9051</td><td>2018-12-15</td><td>2018-12-15</td><td>395</td><td>0</td><td>0</td><td>6</td><td>2018-12-15 18:10:00</td><td>2018-12-15 19:22:00</td><td>72</td><td>-480</td><td>0</td><td>4</td><td>33</td><td>11</td><td>7128</td><td>224</td><td>4</td><td>3</td><td>0</td><td>2.657775</td><td>2.596597</td><td>-0.023</td><td>0.895414</td><td>0.821364</td><td>0.752834</td></tr><tr><td>&quot;L1&quot;</td><td>5836</td><td>2018-12-15</td><td>2018-12-15</td><td>395</td><td>0</td><td>0</td><td>4</td><td>2018-12-15 10:40:00</td><td>2018-12-15 11:56:00</td><td>76</td><td>-480</td><td>0</td><td>2</td><td>30</td><td>7</td><td>7128</td><td>189</td><td>3</td><td>4</td><td>0</td><td>2.669455</td><td>2.596597</td><td>-0.0273</td><td>1.174048</td><td>1.479917</td><td>0.682406</td></tr><tr><td>&quot;U1&quot;</td><td>6165</td><td>2018-12-15</td><td>2018-12-15</td><td>1111</td><td>0</td><td>0</td><td>5</td><td>2018-12-15 15:05:00</td><td>2018-12-15 16:44:00</td><td>99</td><td>-480</td><td>0</td><td>3</td><td>20</td><td>4</td><td>5817</td><td>252</td><td>3</td><td>7</td><td>0</td><td>2.794299</td><td>3.045714</td><td>0.09</td><td>0.762317</td><td>1.021279</td><td>0.789983</td></tr><tr><td>&quot;U1&quot;</td><td>6153</td><td>2018-12-15</td><td>2018-12-15</td><td>1111</td><td>0</td><td>0</td><td>5</td><td>2018-12-15 17:00:00</td><td>2018-12-15 18:39:00</td><td>99</td><td>-480</td><td>0</td><td>4</td><td>20</td><td>8</td><td>5817</td><td>252</td><td>3</td><td>7</td><td>0</td><td>2.794299</td><td>3.045714</td><td>0.09</td><td>0.762317</td><td>1.021279</td><td>0.789983</td></tr><tr><td>&quot;L2&quot;</td><td>7402</td><td>2018-12-15</td><td>2018-12-15</td><td>671</td><td>0</td><td>0</td><td>6</td><td>2018-12-15 14:10:00</td><td>2018-12-15 15:22:00</td><td>72</td><td>-480</td><td>0</td><td>3</td><td>33</td><td>9</td><td>7128</td><td>224</td><td>4</td><td>3</td><td>0</td><td>2.657775</td><td>2.826723</td><td>0.0636</td><td>0.895414</td><td>0.821364</td><td>0.752834</td></tr><tr><td>&quot;U3&quot;</td><td>768</td><td>2018-12-15</td><td>2018-12-15</td><td>357</td><td>0</td><td>0</td><td>0</td><td>2018-12-15 20:20:00</td><td>2018-12-15 23:31:00</td><td>191</td><td>-420</td><td>0</td><td>5</td><td>6</td><td>1</td><td>3070</td><td>179</td><td>0</td><td>5</td><td>0</td><td>2.72147</td><td>2.552668</td><td>-0.062</td><td>0.691084</td><td>0.734515</td><td>0.671502</td></tr><tr><td>&quot;L1&quot;</td><td>10838</td><td>2018-12-15</td><td>2018-12-15</td><td>1346</td><td>0</td><td>0</td><td>8</td><td>2018-12-15 16:15:00</td><td>2018-12-15 20:59:00</td><td>284</td><td>-360</td><td>0</td><td>4</td><td>4</td><td>1</td><td>2164</td><td>373</td><td>5</td><td>1</td><td>0</td><td>3.0167</td><td>3.129045</td><td>0.0372</td><td>0.82141</td><td>0.592169</td><td>0.82141</td></tr><tr><td>&quot;L1&quot;</td><td>4781</td><td>2018-12-15</td><td>2018-12-15</td><td>1067</td><td>0</td><td>0</td><td>7</td><td>2018-12-15 07:40:00</td><td>2018-12-15 08:50:00</td><td>70</td><td>-360</td><td>0</td><td>1</td><td>6</td><td>4</td><td>3070</td><td>272</td><td>5</td><td>0</td><td>0</td><td>2.85592</td><td>3.028164</td><td>0.0603</td><td>0.639658</td><td>0.630274</td><td>0.637189</td></tr><tr><td>&quot;L2&quot;</td><td>5274</td><td>2018-12-15</td><td>2018-12-15</td><td>1742</td><td>0</td><td>0</td><td>9</td><td>2018-12-15 11:03:00</td><td>2018-12-15 13:44:00</td><td>161</td><td>-360</td><td>0</td><td>2</td><td>6</td><td>2</td><td>1618</td><td>310</td><td>5</td><td>6</td><td>0</td><td>2.944469</td><td>3.241048</td><td>0.1007</td><td>0.891693</td><td>0.895634</td><td>0.93872</td></tr></tbody></table></div>"
      ],
      "text/plain": [
       "shape: (1_620_806, 27)\n",
       "┌─────────┬─────────┬────────────┬────────────┬───┬────────────┬───────────┬───────────┬───────────┐\n",
       "│ carrier ┆ flt_num ┆ flt_depart ┆ observatio ┆ … ┆ scaled_far ┆ 7d_route_ ┆ 14d_route ┆ 7d_route_ │\n",
       "│ ---     ┆ ---     ┆ ure_dt     ┆ n_date     ┆   ┆ e          ┆ avg       ┆ _avg      ┆ carrier_a │\n",
       "│ str     ┆ i64     ┆ ---        ┆ ---        ┆   ┆ ---        ┆ ---       ┆ ---       ┆ vg        │\n",
       "│         ┆         ┆ date       ┆ date       ┆   ┆ f64        ┆ f64       ┆ f64       ┆ ---       │\n",
       "│         ┆         ┆            ┆            ┆   ┆            ┆           ┆           ┆ f64       │\n",
       "╞═════════╪═════════╪════════════╪════════════╪═══╪════════════╪═══════════╪═══════════╪═══════════╡\n",
       "│ L2      ┆ 5242    ┆ 2018-01-01 ┆ 2017-11-27 ┆ … ┆ 0.0936     ┆ 1.0       ┆ 1.0       ┆ 1.0       │\n",
       "│ OTH     ┆ 4790    ┆ 2018-01-01 ┆ 2017-11-27 ┆ … ┆ 0.1457     ┆ 1.0       ┆ 1.0       ┆ 1.0       │\n",
       "│ OTH     ┆ 4837    ┆ 2018-01-01 ┆ 2017-11-27 ┆ … ┆ -0.0515    ┆ 1.0       ┆ 1.0       ┆ 1.0       │\n",
       "│ L2      ┆ 5314    ┆ 2018-01-01 ┆ 2017-11-27 ┆ … ┆ -0.0197    ┆ 1.0       ┆ 1.0       ┆ 1.0       │\n",
       "│ OTH     ┆ 6187    ┆ 2018-01-01 ┆ 2017-11-27 ┆ … ┆ -0.0722    ┆ 1.0       ┆ 1.0       ┆ 1.0       │\n",
       "│ U1      ┆ 4771    ┆ 2018-01-01 ┆ 2017-11-27 ┆ … ┆ 0.0275     ┆ 1.0       ┆ 1.0       ┆ 1.0       │\n",
       "│ L3      ┆ 15130   ┆ 2018-01-01 ┆ 2017-11-27 ┆ … ┆ 0.1263     ┆ 1.0       ┆ 1.0       ┆ 1.0       │\n",
       "│ L1      ┆ 1396    ┆ 2018-01-01 ┆ 2017-11-27 ┆ … ┆ -0.0701    ┆ 1.0       ┆ 1.0       ┆ 1.0       │\n",
       "│ L1      ┆ 6316    ┆ 2018-01-01 ┆ 2017-11-27 ┆ … ┆ 0.0209     ┆ 1.0       ┆ 1.0       ┆ 1.0       │\n",
       "│ L1      ┆ 4605    ┆ 2018-01-01 ┆ 2017-11-27 ┆ … ┆ -0.0701    ┆ 1.0       ┆ 1.0       ┆ 1.0       │\n",
       "│ …       ┆ …       ┆ …          ┆ …          ┆ … ┆ …          ┆ …         ┆ …         ┆ …         │\n",
       "│ U1      ┆ 6128    ┆ 2018-12-15 ┆ 2018-12-15 ┆ … ┆ 0.09       ┆ 0.762317  ┆ 1.021279  ┆ 0.789983  │\n",
       "│ L2      ┆ 9051    ┆ 2018-12-15 ┆ 2018-12-15 ┆ … ┆ -0.023     ┆ 0.895414  ┆ 0.821364  ┆ 0.752834  │\n",
       "│ L1      ┆ 5836    ┆ 2018-12-15 ┆ 2018-12-15 ┆ … ┆ -0.0273    ┆ 1.174048  ┆ 1.479917  ┆ 0.682406  │\n",
       "│ U1      ┆ 6165    ┆ 2018-12-15 ┆ 2018-12-15 ┆ … ┆ 0.09       ┆ 0.762317  ┆ 1.021279  ┆ 0.789983  │\n",
       "│ U1      ┆ 6153    ┆ 2018-12-15 ┆ 2018-12-15 ┆ … ┆ 0.09       ┆ 0.762317  ┆ 1.021279  ┆ 0.789983  │\n",
       "│ L2      ┆ 7402    ┆ 2018-12-15 ┆ 2018-12-15 ┆ … ┆ 0.0636     ┆ 0.895414  ┆ 0.821364  ┆ 0.752834  │\n",
       "│ U3      ┆ 768     ┆ 2018-12-15 ┆ 2018-12-15 ┆ … ┆ -0.062     ┆ 0.691084  ┆ 0.734515  ┆ 0.671502  │\n",
       "│ L1      ┆ 10838   ┆ 2018-12-15 ┆ 2018-12-15 ┆ … ┆ 0.0372     ┆ 0.82141   ┆ 0.592169  ┆ 0.82141   │\n",
       "│ L1      ┆ 4781    ┆ 2018-12-15 ┆ 2018-12-15 ┆ … ┆ 0.0603     ┆ 0.639658  ┆ 0.630274  ┆ 0.637189  │\n",
       "│ L2      ┆ 5274    ┆ 2018-12-15 ┆ 2018-12-15 ┆ … ┆ 0.1007     ┆ 0.891693  ┆ 0.895634  ┆ 0.93872   │\n",
       "└─────────┴─────────┴────────────┴────────────┴───┴────────────┴───────────┴───────────┴───────────┘"
      ]
     },
     "execution_count": 21,
     "metadata": {},
     "output_type": "execute_result"
    }
   ],
   "source": [
    "train_df = train_df.join(\n",
    "    route_week_ago_fare,\n",
    "    on = ['route_id', 'flt_departure_dt'],\n",
    "    how = 'left'\n",
    ").join(\n",
    "    route_2week_ago_fare,\n",
    "    on = ['route_id', 'flt_departure_dt'],\n",
    "    how = 'left'\n",
    ").join(\n",
    "    route_carrier_week_ago_fare,\n",
    "    on = ['route_id', 'flt_departure_dt', 'carrier'],\n",
    "    how = 'left'\n",
    ").with_columns(\n",
    "    pl.col('7d_route_avg').fill_null(1),\n",
    "    pl.col('14d_route_avg').fill_null(1),\n",
    "    pl.col('7d_route_carrier_avg').fill_null(1)\n",
    ")\n",
    "\n",
    "train_df"
   ]
  },
  {
   "cell_type": "code",
   "execution_count": 22,
   "metadata": {},
   "outputs": [
    {
     "data": {
      "text/html": [
       "<div><style>\n",
       ".dataframe > thead > tr,\n",
       ".dataframe > tbody > tr {\n",
       "  text-align: right;\n",
       "  white-space: pre-wrap;\n",
       "}\n",
       "</style>\n",
       "<small>shape: (34_591, 27)</small><table border=\"1\" class=\"dataframe\"><thead><tr><th>carrier</th><th>flt_num</th><th>flt_departure_dt</th><th>observation_date</th><th>total_fare</th><th>days_till_flight</th><th>is_dst</th><th>route_id</th><th>flt_departure_local_time</th><th>flt_arrival_local_time</th><th>dur_min</th><th>tz_min</th><th>over_mn</th><th>dpt_4h_od</th><th>flt_count_dpt_24h</th><th>flt_count_dpt_4h</th><th>scaled_demand</th><th>scaled_share</th><th>origin_id</th><th>destination_id</th><th>flt_info_null</th><th>base_fare</th><th>log_fare</th><th>scaled_fare</th><th>7d_route_avg</th><th>14d_route_avg</th><th>7d_route_carrier_avg</th></tr><tr><td>str</td><td>i64</td><td>date</td><td>date</td><td>i64</td><td>i16</td><td>i8</td><td>u8</td><td>datetime[ns]</td><td>datetime[ns]</td><td>i16</td><td>i16</td><td>i8</td><td>i8</td><td>u8</td><td>u8</td><td>i64</td><td>i64</td><td>u8</td><td>u8</td><td>u8</td><td>f64</td><td>f64</td><td>f64</td><td>f64</td><td>f64</td><td>f64</td></tr></thead><tbody><tr><td>&quot;L1&quot;</td><td>2724</td><td>2018-12-16</td><td>2018-03-26</td><td>783</td><td>265</td><td>0</td><td>8</td><td>2018-12-16 06:35:00</td><td>2018-12-16 11:00:00</td><td>265</td><td>-360</td><td>0</td><td>1</td><td>5</td><td>2</td><td>2164</td><td>373</td><td>5</td><td>1</td><td>0</td><td>3.0167</td><td>2.893762</td><td>-0.0408</td><td>0.798736</td><td>0.897825</td><td>0.798736</td></tr><tr><td>&quot;L1&quot;</td><td>6517</td><td>2018-12-16</td><td>2018-03-26</td><td>1436</td><td>265</td><td>0</td><td>8</td><td>2018-12-16 16:15:00</td><td>2018-12-16 20:52:00</td><td>277</td><td>-360</td><td>0</td><td>4</td><td>5</td><td>1</td><td>2164</td><td>373</td><td>5</td><td>1</td><td>0</td><td>3.0167</td><td>3.157154</td><td>0.0466</td><td>0.798736</td><td>0.897825</td><td>0.798736</td></tr><tr><td>&quot;L1&quot;</td><td>2997</td><td>2018-12-16</td><td>2018-03-26</td><td>1066</td><td>265</td><td>0</td><td>8</td><td>2018-12-16 11:34:00</td><td>2018-12-16 16:10:00</td><td>276</td><td>-360</td><td>0</td><td>2</td><td>5</td><td>1</td><td>2164</td><td>373</td><td>5</td><td>1</td><td>0</td><td>3.0167</td><td>3.027757</td><td>0.0037</td><td>0.798736</td><td>0.897825</td><td>0.798736</td></tr><tr><td>&quot;U1&quot;</td><td>6385</td><td>2018-12-16</td><td>2018-10-17</td><td>410</td><td>60</td><td>0</td><td>4</td><td>2018-12-16 07:00:00</td><td>2018-12-16 08:15:00</td><td>75</td><td>-480</td><td>0</td><td>1</td><td>36</td><td>7</td><td>7128</td><td>193</td><td>3</td><td>4</td><td>0</td><td>2.637585</td><td>2.612784</td><td>-0.0094</td><td>1.888463</td><td>1.419032</td><td>1.578655</td></tr><tr><td>&quot;U1&quot;</td><td>6128</td><td>2018-12-16</td><td>2018-10-17</td><td>511</td><td>60</td><td>0</td><td>5</td><td>2018-12-16 09:35:00</td><td>2018-12-16 11:12:00</td><td>97</td><td>-480</td><td>0</td><td>2</td><td>21</td><td>6</td><td>5817</td><td>252</td><td>3</td><td>7</td><td>0</td><td>2.794299</td><td>2.708421</td><td>-0.0307</td><td>1.547979</td><td>1.674178</td><td>1.434252</td></tr><tr><td>&quot;U1&quot;</td><td>6140</td><td>2018-12-16</td><td>2018-10-17</td><td>658</td><td>60</td><td>0</td><td>5</td><td>2018-12-16 13:38:00</td><td>2018-12-16 15:17:00</td><td>99</td><td>-480</td><td>0</td><td>3</td><td>21</td><td>4</td><td>5817</td><td>252</td><td>3</td><td>7</td><td>0</td><td>2.794299</td><td>2.818226</td><td>0.0086</td><td>1.547979</td><td>1.674178</td><td>1.434252</td></tr><tr><td>&quot;U1&quot;</td><td>3842</td><td>2018-12-16</td><td>2018-10-17</td><td>379</td><td>60</td><td>0</td><td>4</td><td>2018-12-16 06:15:00</td><td>2018-12-16 07:25:00</td><td>70</td><td>-480</td><td>0</td><td>1</td><td>36</td><td>7</td><td>7128</td><td>193</td><td>3</td><td>4</td><td>0</td><td>2.637585</td><td>2.578639</td><td>-0.0223</td><td>1.888463</td><td>1.419032</td><td>1.578655</td></tr><tr><td>&quot;U1&quot;</td><td>6153</td><td>2018-12-16</td><td>2018-10-17</td><td>721</td><td>60</td><td>0</td><td>5</td><td>2018-12-16 17:00:00</td><td>2018-12-16 18:39:00</td><td>99</td><td>-480</td><td>0</td><td>4</td><td>21</td><td>7</td><td>5817</td><td>252</td><td>3</td><td>7</td><td>0</td><td>2.794299</td><td>2.857935</td><td>0.0228</td><td>1.547979</td><td>1.674178</td><td>1.434252</td></tr><tr><td>&quot;U1&quot;</td><td>4771</td><td>2018-12-16</td><td>2018-10-17</td><td>457</td><td>60</td><td>0</td><td>4</td><td>2018-12-16 08:15:00</td><td>2018-12-16 09:32:00</td><td>77</td><td>-480</td><td>0</td><td>2</td><td>36</td><td>9</td><td>7128</td><td>193</td><td>3</td><td>4</td><td>0</td><td>2.637585</td><td>2.659916</td><td>0.0085</td><td>1.888463</td><td>1.419032</td><td>1.578655</td></tr><tr><td>&quot;U1&quot;</td><td>6184</td><td>2018-12-16</td><td>2018-10-17</td><td>596</td><td>60</td><td>0</td><td>5</td><td>2018-12-16 20:30:00</td><td>2018-12-16 22:09:00</td><td>99</td><td>-480</td><td>0</td><td>5</td><td>21</td><td>3</td><td>5817</td><td>252</td><td>3</td><td>7</td><td>0</td><td>2.794299</td><td>2.775246</td><td>-0.0068</td><td>1.547979</td><td>1.674178</td><td>1.434252</td></tr><tr><td>&hellip;</td><td>&hellip;</td><td>&hellip;</td><td>&hellip;</td><td>&hellip;</td><td>&hellip;</td><td>&hellip;</td><td>&hellip;</td><td>&hellip;</td><td>&hellip;</td><td>&hellip;</td><td>&hellip;</td><td>&hellip;</td><td>&hellip;</td><td>&hellip;</td><td>&hellip;</td><td>&hellip;</td><td>&hellip;</td><td>&hellip;</td><td>&hellip;</td><td>&hellip;</td><td>&hellip;</td><td>&hellip;</td><td>&hellip;</td><td>&hellip;</td><td>&hellip;</td><td>&hellip;</td></tr><tr><td>&quot;U1&quot;</td><td>6165</td><td>2018-12-22</td><td>2018-12-22</td><td>1111</td><td>0</td><td>0</td><td>5</td><td>2018-12-22 15:05:00</td><td>2018-12-22 16:44:00</td><td>99</td><td>-480</td><td>0</td><td>3</td><td>22</td><td>5</td><td>5817</td><td>252</td><td>3</td><td>7</td><td>0</td><td>2.794299</td><td>3.045714</td><td>0.09</td><td>0.758426</td><td>0.762317</td><td>0.756239</td></tr><tr><td>&quot;L2&quot;</td><td>7067</td><td>2018-12-22</td><td>2018-12-22</td><td>1742</td><td>0</td><td>0</td><td>9</td><td>2018-12-22 13:17:00</td><td>2018-12-22 16:00:00</td><td>163</td><td>-360</td><td>0</td><td>3</td><td>7</td><td>3</td><td>1618</td><td>310</td><td>5</td><td>6</td><td>0</td><td>2.944469</td><td>3.241048</td><td>0.1007</td><td>0.871439</td><td>0.891693</td><td>0.903848</td></tr><tr><td>&quot;L1&quot;</td><td>5927</td><td>2018-12-22</td><td>2018-12-22</td><td>3770</td><td>0</td><td>0</td><td>1</td><td>2018-12-22 20:45:00</td><td>2018-12-22 23:57:00</td><td>192</td><td>-300</td><td>0</td><td>5</td><td>5</td><td>1</td><td>2164</td><td>373</td><td>1</td><td>5</td><td>0</td><td>2.986374</td><td>3.576341</td><td>0.1976</td><td>0.686482</td><td>0.799109</td><td>0.686482</td></tr><tr><td>&quot;L1&quot;</td><td>5135</td><td>2018-12-22</td><td>2018-12-22</td><td>3305</td><td>0</td><td>0</td><td>7</td><td>2018-12-22 07:25:00</td><td>2018-12-22 08:42:00</td><td>77</td><td>-360</td><td>0</td><td>1</td><td>10</td><td>3</td><td>3070</td><td>272</td><td>5</td><td>0</td><td>0</td><td>2.85592</td><td>3.519171</td><td>0.2322</td><td>0.794768</td><td>0.639658</td><td>0.765397</td></tr><tr><td>&quot;L3&quot;</td><td>18214</td><td>2018-12-22</td><td>2018-12-22</td><td>671</td><td>0</td><td>0</td><td>4</td><td>2018-12-22 13:00:00</td><td>2018-12-22 14:18:00</td><td>78</td><td>-480</td><td>0</td><td>3</td><td>33</td><td>8</td><td>7128</td><td>231</td><td>3</td><td>4</td><td>0</td><td>2.764205</td><td>2.826723</td><td>0.0226</td><td>1.453969</td><td>1.174048</td><td>1.009782</td></tr><tr><td>&quot;U1&quot;</td><td>6115</td><td>2018-12-22</td><td>2018-12-22</td><td>1111</td><td>0</td><td>0</td><td>5</td><td>2018-12-22 06:45:00</td><td>2018-12-22 08:22:00</td><td>97</td><td>-480</td><td>0</td><td>1</td><td>22</td><td>4</td><td>5817</td><td>252</td><td>3</td><td>7</td><td>0</td><td>2.794299</td><td>3.045714</td><td>0.09</td><td>0.758426</td><td>0.762317</td><td>0.756239</td></tr><tr><td>&quot;L2&quot;</td><td>937</td><td>2018-12-22</td><td>2018-12-22</td><td>1742</td><td>0</td><td>0</td><td>9</td><td>2018-12-22 15:33:00</td><td>2018-12-22 18:19:00</td><td>166</td><td>-360</td><td>0</td><td>3</td><td>7</td><td>3</td><td>1618</td><td>310</td><td>5</td><td>6</td><td>0</td><td>2.944469</td><td>3.241048</td><td>0.1007</td><td>0.871439</td><td>0.891693</td><td>0.903848</td></tr><tr><td>&quot;U1&quot;</td><td>6140</td><td>2018-12-22</td><td>2018-12-22</td><td>1111</td><td>0</td><td>0</td><td>5</td><td>2018-12-22 13:38:00</td><td>2018-12-22 15:17:00</td><td>99</td><td>-480</td><td>0</td><td>3</td><td>22</td><td>5</td><td>5817</td><td>252</td><td>3</td><td>7</td><td>0</td><td>2.794299</td><td>3.045714</td><td>0.09</td><td>0.758426</td><td>0.762317</td><td>0.756239</td></tr><tr><td>&quot;L1&quot;</td><td>2149</td><td>2018-12-22</td><td>2018-12-22</td><td>4169</td><td>0</td><td>0</td><td>3</td><td>2018-12-22 00:51:00</td><td>2018-12-22 05:44:00</td><td>293</td><td>-480</td><td>0</td><td>0</td><td>8</td><td>1</td><td>2790</td><td>405</td><td>3</td><td>2</td><td>0</td><td>2.970955</td><td>3.620032</td><td>0.2185</td><td>1.003689</td><td>1.028185</td><td>0.962646</td></tr><tr><td>&quot;L1&quot;</td><td>5663</td><td>2018-12-22</td><td>2018-12-22</td><td>2037</td><td>0</td><td>0</td><td>3</td><td>2018-12-22 12:20:00</td><td>2018-12-22 17:09:00</td><td>289</td><td>-480</td><td>0</td><td>3</td><td>8</td><td>3</td><td>2790</td><td>405</td><td>3</td><td>2</td><td>0</td><td>2.970955</td><td>3.308991</td><td>0.1138</td><td>1.003689</td><td>1.028185</td><td>0.962646</td></tr></tbody></table></div>"
      ],
      "text/plain": [
       "shape: (34_591, 27)\n",
       "┌─────────┬─────────┬────────────┬────────────┬───┬────────────┬───────────┬───────────┬───────────┐\n",
       "│ carrier ┆ flt_num ┆ flt_depart ┆ observatio ┆ … ┆ scaled_far ┆ 7d_route_ ┆ 14d_route ┆ 7d_route_ │\n",
       "│ ---     ┆ ---     ┆ ure_dt     ┆ n_date     ┆   ┆ e          ┆ avg       ┆ _avg      ┆ carrier_a │\n",
       "│ str     ┆ i64     ┆ ---        ┆ ---        ┆   ┆ ---        ┆ ---       ┆ ---       ┆ vg        │\n",
       "│         ┆         ┆ date       ┆ date       ┆   ┆ f64        ┆ f64       ┆ f64       ┆ ---       │\n",
       "│         ┆         ┆            ┆            ┆   ┆            ┆           ┆           ┆ f64       │\n",
       "╞═════════╪═════════╪════════════╪════════════╪═══╪════════════╪═══════════╪═══════════╪═══════════╡\n",
       "│ L1      ┆ 2724    ┆ 2018-12-16 ┆ 2018-03-26 ┆ … ┆ -0.0408    ┆ 0.798736  ┆ 0.897825  ┆ 0.798736  │\n",
       "│ L1      ┆ 6517    ┆ 2018-12-16 ┆ 2018-03-26 ┆ … ┆ 0.0466     ┆ 0.798736  ┆ 0.897825  ┆ 0.798736  │\n",
       "│ L1      ┆ 2997    ┆ 2018-12-16 ┆ 2018-03-26 ┆ … ┆ 0.0037     ┆ 0.798736  ┆ 0.897825  ┆ 0.798736  │\n",
       "│ U1      ┆ 6385    ┆ 2018-12-16 ┆ 2018-10-17 ┆ … ┆ -0.0094    ┆ 1.888463  ┆ 1.419032  ┆ 1.578655  │\n",
       "│ U1      ┆ 6128    ┆ 2018-12-16 ┆ 2018-10-17 ┆ … ┆ -0.0307    ┆ 1.547979  ┆ 1.674178  ┆ 1.434252  │\n",
       "│ U1      ┆ 6140    ┆ 2018-12-16 ┆ 2018-10-17 ┆ … ┆ 0.0086     ┆ 1.547979  ┆ 1.674178  ┆ 1.434252  │\n",
       "│ U1      ┆ 3842    ┆ 2018-12-16 ┆ 2018-10-17 ┆ … ┆ -0.0223    ┆ 1.888463  ┆ 1.419032  ┆ 1.578655  │\n",
       "│ U1      ┆ 6153    ┆ 2018-12-16 ┆ 2018-10-17 ┆ … ┆ 0.0228     ┆ 1.547979  ┆ 1.674178  ┆ 1.434252  │\n",
       "│ U1      ┆ 4771    ┆ 2018-12-16 ┆ 2018-10-17 ┆ … ┆ 0.0085     ┆ 1.888463  ┆ 1.419032  ┆ 1.578655  │\n",
       "│ U1      ┆ 6184    ┆ 2018-12-16 ┆ 2018-10-17 ┆ … ┆ -0.0068    ┆ 1.547979  ┆ 1.674178  ┆ 1.434252  │\n",
       "│ …       ┆ …       ┆ …          ┆ …          ┆ … ┆ …          ┆ …         ┆ …         ┆ …         │\n",
       "│ U1      ┆ 6165    ┆ 2018-12-22 ┆ 2018-12-22 ┆ … ┆ 0.09       ┆ 0.758426  ┆ 0.762317  ┆ 0.756239  │\n",
       "│ L2      ┆ 7067    ┆ 2018-12-22 ┆ 2018-12-22 ┆ … ┆ 0.1007     ┆ 0.871439  ┆ 0.891693  ┆ 0.903848  │\n",
       "│ L1      ┆ 5927    ┆ 2018-12-22 ┆ 2018-12-22 ┆ … ┆ 0.1976     ┆ 0.686482  ┆ 0.799109  ┆ 0.686482  │\n",
       "│ L1      ┆ 5135    ┆ 2018-12-22 ┆ 2018-12-22 ┆ … ┆ 0.2322     ┆ 0.794768  ┆ 0.639658  ┆ 0.765397  │\n",
       "│ L3      ┆ 18214   ┆ 2018-12-22 ┆ 2018-12-22 ┆ … ┆ 0.0226     ┆ 1.453969  ┆ 1.174048  ┆ 1.009782  │\n",
       "│ U1      ┆ 6115    ┆ 2018-12-22 ┆ 2018-12-22 ┆ … ┆ 0.09       ┆ 0.758426  ┆ 0.762317  ┆ 0.756239  │\n",
       "│ L2      ┆ 937     ┆ 2018-12-22 ┆ 2018-12-22 ┆ … ┆ 0.1007     ┆ 0.871439  ┆ 0.891693  ┆ 0.903848  │\n",
       "│ U1      ┆ 6140    ┆ 2018-12-22 ┆ 2018-12-22 ┆ … ┆ 0.09       ┆ 0.758426  ┆ 0.762317  ┆ 0.756239  │\n",
       "│ L1      ┆ 2149    ┆ 2018-12-22 ┆ 2018-12-22 ┆ … ┆ 0.2185     ┆ 1.003689  ┆ 1.028185  ┆ 0.962646  │\n",
       "│ L1      ┆ 5663    ┆ 2018-12-22 ┆ 2018-12-22 ┆ … ┆ 0.1138     ┆ 1.003689  ┆ 1.028185  ┆ 0.962646  │\n",
       "└─────────┴─────────┴────────────┴────────────┴───┴────────────┴───────────┴───────────┴───────────┘"
      ]
     },
     "execution_count": 22,
     "metadata": {},
     "output_type": "execute_result"
    }
   ],
   "source": [
    "val_df = val_df.join(\n",
    "    route_week_ago_fare,\n",
    "    on = ['route_id', 'flt_departure_dt'],\n",
    "    how = 'left'\n",
    ").join(\n",
    "    route_2week_ago_fare,\n",
    "    on = ['route_id', 'flt_departure_dt'],\n",
    "    how = 'left'\n",
    ").join(\n",
    "    route_carrier_week_ago_fare,\n",
    "    on = ['route_id', 'flt_departure_dt', 'carrier'],\n",
    "    how = 'left'\n",
    ").with_columns(\n",
    "    pl.col('7d_route_avg').fill_null(1),\n",
    "    pl.col('14d_route_avg').fill_null(1),\n",
    "    pl.col('7d_route_carrier_avg').fill_null(1)\n",
    ")\n",
    "\n",
    "val_df"
   ]
  },
  {
   "cell_type": "markdown",
   "metadata": {},
   "source": [
    "#### Days since start"
   ]
  },
  {
   "cell_type": "code",
   "execution_count": 23,
   "metadata": {},
   "outputs": [
    {
     "data": {
      "text/html": [
       "<div><style>\n",
       ".dataframe > thead > tr,\n",
       ".dataframe > tbody > tr {\n",
       "  text-align: right;\n",
       "  white-space: pre-wrap;\n",
       "}\n",
       "</style>\n",
       "<small>shape: (1_620_806, 28)</small><table border=\"1\" class=\"dataframe\"><thead><tr><th>carrier</th><th>flt_num</th><th>flt_departure_dt</th><th>observation_date</th><th>total_fare</th><th>days_till_flight</th><th>is_dst</th><th>route_id</th><th>flt_departure_local_time</th><th>flt_arrival_local_time</th><th>dur_min</th><th>tz_min</th><th>over_mn</th><th>dpt_4h_od</th><th>flt_count_dpt_24h</th><th>flt_count_dpt_4h</th><th>scaled_demand</th><th>scaled_share</th><th>origin_id</th><th>destination_id</th><th>flt_info_null</th><th>base_fare</th><th>log_fare</th><th>scaled_fare</th><th>7d_route_avg</th><th>14d_route_avg</th><th>7d_route_carrier_avg</th><th>days_since_start</th></tr><tr><td>str</td><td>i64</td><td>date</td><td>date</td><td>i64</td><td>i16</td><td>i8</td><td>u8</td><td>datetime[ns]</td><td>datetime[ns]</td><td>i16</td><td>i16</td><td>i8</td><td>i8</td><td>u8</td><td>u8</td><td>i64</td><td>i64</td><td>u8</td><td>u8</td><td>u8</td><td>f64</td><td>f64</td><td>f64</td><td>f64</td><td>f64</td><td>f64</td><td>i64</td></tr></thead><tbody><tr><td>&quot;L2&quot;</td><td>5242</td><td>2018-01-01</td><td>2017-11-27</td><td>846</td><td>35</td><td>0</td><td>4</td><td>2018-01-01 10:49:00</td><td>2018-01-01 12:14:00</td><td>85</td><td>-480</td><td>0</td><td>2</td><td>30</td><td>5</td><td>6659</td><td>212</td><td>3</td><td>4</td><td>0</td><td>2.676879</td><td>2.92737</td><td>0.0936</td><td>1.0</td><td>1.0</td><td>1.0</td><td>0</td></tr><tr><td>&quot;OTH&quot;</td><td>4790</td><td>2018-01-01</td><td>2017-11-27</td><td>937</td><td>35</td><td>0</td><td>4</td><td>2018-01-01 14:57:00</td><td>2018-01-01 16:17:00</td><td>80</td><td>-480</td><td>0</td><td>3</td><td>30</td><td>8</td><td>6659</td><td>316</td><td>3</td><td>4</td><td>0</td><td>2.593901</td><td>2.97174</td><td>0.1457</td><td>1.0</td><td>1.0</td><td>1.0</td><td>0</td></tr><tr><td>&quot;OTH&quot;</td><td>4837</td><td>2018-01-01</td><td>2017-11-27</td><td>281</td><td>35</td><td>0</td><td>6</td><td>2018-01-01 19:38:00</td><td>2018-01-01 20:43:00</td><td>65</td><td>-480</td><td>0</td><td>4</td><td>30</td><td>7</td><td>6659</td><td>316</td><td>4</td><td>3</td><td>0</td><td>2.581777</td><td>2.448706</td><td>-0.0515</td><td>1.0</td><td>1.0</td><td>1.0</td><td>0</td></tr><tr><td>&quot;L2&quot;</td><td>5314</td><td>2018-01-01</td><td>2017-11-27</td><td>403</td><td>35</td><td>0</td><td>6</td><td>2018-01-01 19:05:00</td><td>2018-01-01 20:17:00</td><td>72</td><td>-480</td><td>0</td><td>4</td><td>30</td><td>7</td><td>6659</td><td>213</td><td>4</td><td>3</td><td>0</td><td>2.657775</td><td>2.605305</td><td>-0.0197</td><td>1.0</td><td>1.0</td><td>1.0</td><td>0</td></tr><tr><td>&quot;OTH&quot;</td><td>6187</td><td>2018-01-01</td><td>2017-11-27</td><td>341</td><td>35</td><td>0</td><td>11</td><td>2018-01-01 20:30:00</td><td>2018-01-01 21:58:00</td><td>88</td><td>-480</td><td>0</td><td>5</td><td>21</td><td>5</td><td>6579</td><td>354</td><td>7</td><td>3</td><td>0</td><td>2.72979</td><td>2.532754</td><td>-0.0722</td><td>1.0</td><td>1.0</td><td>1.0</td><td>0</td></tr><tr><td>&quot;U1&quot;</td><td>4771</td><td>2018-01-01</td><td>2017-11-27</td><td>513</td><td>35</td><td>0</td><td>4</td><td>null</td><td>null</td><td>null</td><td>null</td><td>null</td><td>null</td><td>null</td><td>null</td><td>null</td><td>null</td><td>3</td><td>4</td><td>1</td><td>2.637585</td><td>2.710117</td><td>0.0275</td><td>1.0</td><td>1.0</td><td>1.0</td><td>0</td></tr><tr><td>&quot;L3&quot;</td><td>15130</td><td>2018-01-01</td><td>2017-11-27</td><td>1298</td><td>35</td><td>0</td><td>4</td><td>2018-01-01 16:53:00</td><td>2018-01-01 18:19:00</td><td>86</td><td>-480</td><td>0</td><td>4</td><td>30</td><td>7</td><td>6659</td><td>231</td><td>3</td><td>4</td><td>0</td><td>2.764205</td><td>3.113275</td><td>0.1263</td><td>1.0</td><td>1.0</td><td>1.0</td><td>0</td></tr><tr><td>&quot;L1&quot;</td><td>1396</td><td>2018-01-01</td><td>2017-11-27</td><td>372</td><td>35</td><td>0</td><td>11</td><td>2018-01-01 19:35:00</td><td>2018-01-01 21:08:00</td><td>93</td><td>-480</td><td>0</td><td>4</td><td>21</td><td>7</td><td>6579</td><td>262</td><td>7</td><td>3</td><td>0</td><td>2.764388</td><td>2.570543</td><td>-0.0701</td><td>1.0</td><td>1.0</td><td>1.0</td><td>0</td></tr><tr><td>&quot;L1&quot;</td><td>6316</td><td>2018-01-01</td><td>2017-11-27</td><td>1119</td><td>35</td><td>0</td><td>1</td><td>2018-01-01 12:31:00</td><td>2018-01-01 15:55:00</td><td>204</td><td>-300</td><td>0</td><td>3</td><td>5</td><td>2</td><td>1468</td><td>360</td><td>1</td><td>5</td><td>0</td><td>2.986374</td><td>3.04883</td><td>0.0209</td><td>1.0</td><td>1.0</td><td>1.0</td><td>0</td></tr><tr><td>&quot;L1&quot;</td><td>4605</td><td>2018-01-01</td><td>2017-11-27</td><td>372</td><td>35</td><td>0</td><td>11</td><td>2018-01-01 17:18:00</td><td>2018-01-01 18:57:00</td><td>99</td><td>-480</td><td>0</td><td>4</td><td>21</td><td>7</td><td>6579</td><td>262</td><td>7</td><td>3</td><td>0</td><td>2.764388</td><td>2.570543</td><td>-0.0701</td><td>1.0</td><td>1.0</td><td>1.0</td><td>0</td></tr><tr><td>&hellip;</td><td>&hellip;</td><td>&hellip;</td><td>&hellip;</td><td>&hellip;</td><td>&hellip;</td><td>&hellip;</td><td>&hellip;</td><td>&hellip;</td><td>&hellip;</td><td>&hellip;</td><td>&hellip;</td><td>&hellip;</td><td>&hellip;</td><td>&hellip;</td><td>&hellip;</td><td>&hellip;</td><td>&hellip;</td><td>&hellip;</td><td>&hellip;</td><td>&hellip;</td><td>&hellip;</td><td>&hellip;</td><td>&hellip;</td><td>&hellip;</td><td>&hellip;</td><td>&hellip;</td><td>&hellip;</td></tr><tr><td>&quot;U1&quot;</td><td>6128</td><td>2018-12-15</td><td>2018-12-15</td><td>1111</td><td>0</td><td>0</td><td>5</td><td>2018-12-15 09:35:00</td><td>2018-12-15 11:12:00</td><td>97</td><td>-480</td><td>0</td><td>2</td><td>20</td><td>6</td><td>5817</td><td>252</td><td>3</td><td>7</td><td>0</td><td>2.794299</td><td>3.045714</td><td>0.09</td><td>0.762317</td><td>1.021279</td><td>0.789983</td><td>348</td></tr><tr><td>&quot;L2&quot;</td><td>9051</td><td>2018-12-15</td><td>2018-12-15</td><td>395</td><td>0</td><td>0</td><td>6</td><td>2018-12-15 18:10:00</td><td>2018-12-15 19:22:00</td><td>72</td><td>-480</td><td>0</td><td>4</td><td>33</td><td>11</td><td>7128</td><td>224</td><td>4</td><td>3</td><td>0</td><td>2.657775</td><td>2.596597</td><td>-0.023</td><td>0.895414</td><td>0.821364</td><td>0.752834</td><td>348</td></tr><tr><td>&quot;L1&quot;</td><td>5836</td><td>2018-12-15</td><td>2018-12-15</td><td>395</td><td>0</td><td>0</td><td>4</td><td>2018-12-15 10:40:00</td><td>2018-12-15 11:56:00</td><td>76</td><td>-480</td><td>0</td><td>2</td><td>30</td><td>7</td><td>7128</td><td>189</td><td>3</td><td>4</td><td>0</td><td>2.669455</td><td>2.596597</td><td>-0.0273</td><td>1.174048</td><td>1.479917</td><td>0.682406</td><td>348</td></tr><tr><td>&quot;U1&quot;</td><td>6165</td><td>2018-12-15</td><td>2018-12-15</td><td>1111</td><td>0</td><td>0</td><td>5</td><td>2018-12-15 15:05:00</td><td>2018-12-15 16:44:00</td><td>99</td><td>-480</td><td>0</td><td>3</td><td>20</td><td>4</td><td>5817</td><td>252</td><td>3</td><td>7</td><td>0</td><td>2.794299</td><td>3.045714</td><td>0.09</td><td>0.762317</td><td>1.021279</td><td>0.789983</td><td>348</td></tr><tr><td>&quot;U1&quot;</td><td>6153</td><td>2018-12-15</td><td>2018-12-15</td><td>1111</td><td>0</td><td>0</td><td>5</td><td>2018-12-15 17:00:00</td><td>2018-12-15 18:39:00</td><td>99</td><td>-480</td><td>0</td><td>4</td><td>20</td><td>8</td><td>5817</td><td>252</td><td>3</td><td>7</td><td>0</td><td>2.794299</td><td>3.045714</td><td>0.09</td><td>0.762317</td><td>1.021279</td><td>0.789983</td><td>348</td></tr><tr><td>&quot;L2&quot;</td><td>7402</td><td>2018-12-15</td><td>2018-12-15</td><td>671</td><td>0</td><td>0</td><td>6</td><td>2018-12-15 14:10:00</td><td>2018-12-15 15:22:00</td><td>72</td><td>-480</td><td>0</td><td>3</td><td>33</td><td>9</td><td>7128</td><td>224</td><td>4</td><td>3</td><td>0</td><td>2.657775</td><td>2.826723</td><td>0.0636</td><td>0.895414</td><td>0.821364</td><td>0.752834</td><td>348</td></tr><tr><td>&quot;U3&quot;</td><td>768</td><td>2018-12-15</td><td>2018-12-15</td><td>357</td><td>0</td><td>0</td><td>0</td><td>2018-12-15 20:20:00</td><td>2018-12-15 23:31:00</td><td>191</td><td>-420</td><td>0</td><td>5</td><td>6</td><td>1</td><td>3070</td><td>179</td><td>0</td><td>5</td><td>0</td><td>2.72147</td><td>2.552668</td><td>-0.062</td><td>0.691084</td><td>0.734515</td><td>0.671502</td><td>348</td></tr><tr><td>&quot;L1&quot;</td><td>10838</td><td>2018-12-15</td><td>2018-12-15</td><td>1346</td><td>0</td><td>0</td><td>8</td><td>2018-12-15 16:15:00</td><td>2018-12-15 20:59:00</td><td>284</td><td>-360</td><td>0</td><td>4</td><td>4</td><td>1</td><td>2164</td><td>373</td><td>5</td><td>1</td><td>0</td><td>3.0167</td><td>3.129045</td><td>0.0372</td><td>0.82141</td><td>0.592169</td><td>0.82141</td><td>348</td></tr><tr><td>&quot;L1&quot;</td><td>4781</td><td>2018-12-15</td><td>2018-12-15</td><td>1067</td><td>0</td><td>0</td><td>7</td><td>2018-12-15 07:40:00</td><td>2018-12-15 08:50:00</td><td>70</td><td>-360</td><td>0</td><td>1</td><td>6</td><td>4</td><td>3070</td><td>272</td><td>5</td><td>0</td><td>0</td><td>2.85592</td><td>3.028164</td><td>0.0603</td><td>0.639658</td><td>0.630274</td><td>0.637189</td><td>348</td></tr><tr><td>&quot;L2&quot;</td><td>5274</td><td>2018-12-15</td><td>2018-12-15</td><td>1742</td><td>0</td><td>0</td><td>9</td><td>2018-12-15 11:03:00</td><td>2018-12-15 13:44:00</td><td>161</td><td>-360</td><td>0</td><td>2</td><td>6</td><td>2</td><td>1618</td><td>310</td><td>5</td><td>6</td><td>0</td><td>2.944469</td><td>3.241048</td><td>0.1007</td><td>0.891693</td><td>0.895634</td><td>0.93872</td><td>348</td></tr></tbody></table></div>"
      ],
      "text/plain": [
       "shape: (1_620_806, 28)\n",
       "┌─────────┬─────────┬────────────┬────────────┬───┬────────────┬───────────┬───────────┬───────────┐\n",
       "│ carrier ┆ flt_num ┆ flt_depart ┆ observatio ┆ … ┆ 7d_route_a ┆ 14d_route ┆ 7d_route_ ┆ days_sinc │\n",
       "│ ---     ┆ ---     ┆ ure_dt     ┆ n_date     ┆   ┆ vg         ┆ _avg      ┆ carrier_a ┆ e_start   │\n",
       "│ str     ┆ i64     ┆ ---        ┆ ---        ┆   ┆ ---        ┆ ---       ┆ vg        ┆ ---       │\n",
       "│         ┆         ┆ date       ┆ date       ┆   ┆ f64        ┆ f64       ┆ ---       ┆ i64       │\n",
       "│         ┆         ┆            ┆            ┆   ┆            ┆           ┆ f64       ┆           │\n",
       "╞═════════╪═════════╪════════════╪════════════╪═══╪════════════╪═══════════╪═══════════╪═══════════╡\n",
       "│ L2      ┆ 5242    ┆ 2018-01-01 ┆ 2017-11-27 ┆ … ┆ 1.0        ┆ 1.0       ┆ 1.0       ┆ 0         │\n",
       "│ OTH     ┆ 4790    ┆ 2018-01-01 ┆ 2017-11-27 ┆ … ┆ 1.0        ┆ 1.0       ┆ 1.0       ┆ 0         │\n",
       "│ OTH     ┆ 4837    ┆ 2018-01-01 ┆ 2017-11-27 ┆ … ┆ 1.0        ┆ 1.0       ┆ 1.0       ┆ 0         │\n",
       "│ L2      ┆ 5314    ┆ 2018-01-01 ┆ 2017-11-27 ┆ … ┆ 1.0        ┆ 1.0       ┆ 1.0       ┆ 0         │\n",
       "│ OTH     ┆ 6187    ┆ 2018-01-01 ┆ 2017-11-27 ┆ … ┆ 1.0        ┆ 1.0       ┆ 1.0       ┆ 0         │\n",
       "│ U1      ┆ 4771    ┆ 2018-01-01 ┆ 2017-11-27 ┆ … ┆ 1.0        ┆ 1.0       ┆ 1.0       ┆ 0         │\n",
       "│ L3      ┆ 15130   ┆ 2018-01-01 ┆ 2017-11-27 ┆ … ┆ 1.0        ┆ 1.0       ┆ 1.0       ┆ 0         │\n",
       "│ L1      ┆ 1396    ┆ 2018-01-01 ┆ 2017-11-27 ┆ … ┆ 1.0        ┆ 1.0       ┆ 1.0       ┆ 0         │\n",
       "│ L1      ┆ 6316    ┆ 2018-01-01 ┆ 2017-11-27 ┆ … ┆ 1.0        ┆ 1.0       ┆ 1.0       ┆ 0         │\n",
       "│ L1      ┆ 4605    ┆ 2018-01-01 ┆ 2017-11-27 ┆ … ┆ 1.0        ┆ 1.0       ┆ 1.0       ┆ 0         │\n",
       "│ …       ┆ …       ┆ …          ┆ …          ┆ … ┆ …          ┆ …         ┆ …         ┆ …         │\n",
       "│ U1      ┆ 6128    ┆ 2018-12-15 ┆ 2018-12-15 ┆ … ┆ 0.762317   ┆ 1.021279  ┆ 0.789983  ┆ 348       │\n",
       "│ L2      ┆ 9051    ┆ 2018-12-15 ┆ 2018-12-15 ┆ … ┆ 0.895414   ┆ 0.821364  ┆ 0.752834  ┆ 348       │\n",
       "│ L1      ┆ 5836    ┆ 2018-12-15 ┆ 2018-12-15 ┆ … ┆ 1.174048   ┆ 1.479917  ┆ 0.682406  ┆ 348       │\n",
       "│ U1      ┆ 6165    ┆ 2018-12-15 ┆ 2018-12-15 ┆ … ┆ 0.762317   ┆ 1.021279  ┆ 0.789983  ┆ 348       │\n",
       "│ U1      ┆ 6153    ┆ 2018-12-15 ┆ 2018-12-15 ┆ … ┆ 0.762317   ┆ 1.021279  ┆ 0.789983  ┆ 348       │\n",
       "│ L2      ┆ 7402    ┆ 2018-12-15 ┆ 2018-12-15 ┆ … ┆ 0.895414   ┆ 0.821364  ┆ 0.752834  ┆ 348       │\n",
       "│ U3      ┆ 768     ┆ 2018-12-15 ┆ 2018-12-15 ┆ … ┆ 0.691084   ┆ 0.734515  ┆ 0.671502  ┆ 348       │\n",
       "│ L1      ┆ 10838   ┆ 2018-12-15 ┆ 2018-12-15 ┆ … ┆ 0.82141    ┆ 0.592169  ┆ 0.82141   ┆ 348       │\n",
       "│ L1      ┆ 4781    ┆ 2018-12-15 ┆ 2018-12-15 ┆ … ┆ 0.639658   ┆ 0.630274  ┆ 0.637189  ┆ 348       │\n",
       "│ L2      ┆ 5274    ┆ 2018-12-15 ┆ 2018-12-15 ┆ … ┆ 0.891693   ┆ 0.895634  ┆ 0.93872   ┆ 348       │\n",
       "└─────────┴─────────┴────────────┴────────────┴───┴────────────┴───────────┴───────────┴───────────┘"
      ]
     },
     "execution_count": 23,
     "metadata": {},
     "output_type": "execute_result"
    }
   ],
   "source": [
    "train_df = train_df.with_columns(\n",
    "    (\n",
    "        pl.col('flt_departure_dt') - train_df['flt_departure_dt'].min()\n",
    "    ).dt.total_days().alias(\"days_since_start\")\n",
    ")\n",
    "\n",
    "train_df"
   ]
  },
  {
   "cell_type": "code",
   "execution_count": 24,
   "metadata": {},
   "outputs": [
    {
     "data": {
      "text/html": [
       "<div><style>\n",
       ".dataframe > thead > tr,\n",
       ".dataframe > tbody > tr {\n",
       "  text-align: right;\n",
       "  white-space: pre-wrap;\n",
       "}\n",
       "</style>\n",
       "<small>shape: (34_591, 28)</small><table border=\"1\" class=\"dataframe\"><thead><tr><th>carrier</th><th>flt_num</th><th>flt_departure_dt</th><th>observation_date</th><th>total_fare</th><th>days_till_flight</th><th>is_dst</th><th>route_id</th><th>flt_departure_local_time</th><th>flt_arrival_local_time</th><th>dur_min</th><th>tz_min</th><th>over_mn</th><th>dpt_4h_od</th><th>flt_count_dpt_24h</th><th>flt_count_dpt_4h</th><th>scaled_demand</th><th>scaled_share</th><th>origin_id</th><th>destination_id</th><th>flt_info_null</th><th>base_fare</th><th>log_fare</th><th>scaled_fare</th><th>7d_route_avg</th><th>14d_route_avg</th><th>7d_route_carrier_avg</th><th>days_since_start</th></tr><tr><td>str</td><td>i64</td><td>date</td><td>date</td><td>i64</td><td>i16</td><td>i8</td><td>u8</td><td>datetime[ns]</td><td>datetime[ns]</td><td>i16</td><td>i16</td><td>i8</td><td>i8</td><td>u8</td><td>u8</td><td>i64</td><td>i64</td><td>u8</td><td>u8</td><td>u8</td><td>f64</td><td>f64</td><td>f64</td><td>f64</td><td>f64</td><td>f64</td><td>i64</td></tr></thead><tbody><tr><td>&quot;L1&quot;</td><td>2724</td><td>2018-12-16</td><td>2018-03-26</td><td>783</td><td>265</td><td>0</td><td>8</td><td>2018-12-16 06:35:00</td><td>2018-12-16 11:00:00</td><td>265</td><td>-360</td><td>0</td><td>1</td><td>5</td><td>2</td><td>2164</td><td>373</td><td>5</td><td>1</td><td>0</td><td>3.0167</td><td>2.893762</td><td>-0.0408</td><td>0.798736</td><td>0.897825</td><td>0.798736</td><td>349</td></tr><tr><td>&quot;L1&quot;</td><td>6517</td><td>2018-12-16</td><td>2018-03-26</td><td>1436</td><td>265</td><td>0</td><td>8</td><td>2018-12-16 16:15:00</td><td>2018-12-16 20:52:00</td><td>277</td><td>-360</td><td>0</td><td>4</td><td>5</td><td>1</td><td>2164</td><td>373</td><td>5</td><td>1</td><td>0</td><td>3.0167</td><td>3.157154</td><td>0.0466</td><td>0.798736</td><td>0.897825</td><td>0.798736</td><td>349</td></tr><tr><td>&quot;L1&quot;</td><td>2997</td><td>2018-12-16</td><td>2018-03-26</td><td>1066</td><td>265</td><td>0</td><td>8</td><td>2018-12-16 11:34:00</td><td>2018-12-16 16:10:00</td><td>276</td><td>-360</td><td>0</td><td>2</td><td>5</td><td>1</td><td>2164</td><td>373</td><td>5</td><td>1</td><td>0</td><td>3.0167</td><td>3.027757</td><td>0.0037</td><td>0.798736</td><td>0.897825</td><td>0.798736</td><td>349</td></tr><tr><td>&quot;U1&quot;</td><td>6385</td><td>2018-12-16</td><td>2018-10-17</td><td>410</td><td>60</td><td>0</td><td>4</td><td>2018-12-16 07:00:00</td><td>2018-12-16 08:15:00</td><td>75</td><td>-480</td><td>0</td><td>1</td><td>36</td><td>7</td><td>7128</td><td>193</td><td>3</td><td>4</td><td>0</td><td>2.637585</td><td>2.612784</td><td>-0.0094</td><td>1.888463</td><td>1.419032</td><td>1.578655</td><td>349</td></tr><tr><td>&quot;U1&quot;</td><td>6128</td><td>2018-12-16</td><td>2018-10-17</td><td>511</td><td>60</td><td>0</td><td>5</td><td>2018-12-16 09:35:00</td><td>2018-12-16 11:12:00</td><td>97</td><td>-480</td><td>0</td><td>2</td><td>21</td><td>6</td><td>5817</td><td>252</td><td>3</td><td>7</td><td>0</td><td>2.794299</td><td>2.708421</td><td>-0.0307</td><td>1.547979</td><td>1.674178</td><td>1.434252</td><td>349</td></tr><tr><td>&quot;U1&quot;</td><td>6140</td><td>2018-12-16</td><td>2018-10-17</td><td>658</td><td>60</td><td>0</td><td>5</td><td>2018-12-16 13:38:00</td><td>2018-12-16 15:17:00</td><td>99</td><td>-480</td><td>0</td><td>3</td><td>21</td><td>4</td><td>5817</td><td>252</td><td>3</td><td>7</td><td>0</td><td>2.794299</td><td>2.818226</td><td>0.0086</td><td>1.547979</td><td>1.674178</td><td>1.434252</td><td>349</td></tr><tr><td>&quot;U1&quot;</td><td>3842</td><td>2018-12-16</td><td>2018-10-17</td><td>379</td><td>60</td><td>0</td><td>4</td><td>2018-12-16 06:15:00</td><td>2018-12-16 07:25:00</td><td>70</td><td>-480</td><td>0</td><td>1</td><td>36</td><td>7</td><td>7128</td><td>193</td><td>3</td><td>4</td><td>0</td><td>2.637585</td><td>2.578639</td><td>-0.0223</td><td>1.888463</td><td>1.419032</td><td>1.578655</td><td>349</td></tr><tr><td>&quot;U1&quot;</td><td>6153</td><td>2018-12-16</td><td>2018-10-17</td><td>721</td><td>60</td><td>0</td><td>5</td><td>2018-12-16 17:00:00</td><td>2018-12-16 18:39:00</td><td>99</td><td>-480</td><td>0</td><td>4</td><td>21</td><td>7</td><td>5817</td><td>252</td><td>3</td><td>7</td><td>0</td><td>2.794299</td><td>2.857935</td><td>0.0228</td><td>1.547979</td><td>1.674178</td><td>1.434252</td><td>349</td></tr><tr><td>&quot;U1&quot;</td><td>4771</td><td>2018-12-16</td><td>2018-10-17</td><td>457</td><td>60</td><td>0</td><td>4</td><td>2018-12-16 08:15:00</td><td>2018-12-16 09:32:00</td><td>77</td><td>-480</td><td>0</td><td>2</td><td>36</td><td>9</td><td>7128</td><td>193</td><td>3</td><td>4</td><td>0</td><td>2.637585</td><td>2.659916</td><td>0.0085</td><td>1.888463</td><td>1.419032</td><td>1.578655</td><td>349</td></tr><tr><td>&quot;U1&quot;</td><td>6184</td><td>2018-12-16</td><td>2018-10-17</td><td>596</td><td>60</td><td>0</td><td>5</td><td>2018-12-16 20:30:00</td><td>2018-12-16 22:09:00</td><td>99</td><td>-480</td><td>0</td><td>5</td><td>21</td><td>3</td><td>5817</td><td>252</td><td>3</td><td>7</td><td>0</td><td>2.794299</td><td>2.775246</td><td>-0.0068</td><td>1.547979</td><td>1.674178</td><td>1.434252</td><td>349</td></tr><tr><td>&hellip;</td><td>&hellip;</td><td>&hellip;</td><td>&hellip;</td><td>&hellip;</td><td>&hellip;</td><td>&hellip;</td><td>&hellip;</td><td>&hellip;</td><td>&hellip;</td><td>&hellip;</td><td>&hellip;</td><td>&hellip;</td><td>&hellip;</td><td>&hellip;</td><td>&hellip;</td><td>&hellip;</td><td>&hellip;</td><td>&hellip;</td><td>&hellip;</td><td>&hellip;</td><td>&hellip;</td><td>&hellip;</td><td>&hellip;</td><td>&hellip;</td><td>&hellip;</td><td>&hellip;</td><td>&hellip;</td></tr><tr><td>&quot;U1&quot;</td><td>6165</td><td>2018-12-22</td><td>2018-12-22</td><td>1111</td><td>0</td><td>0</td><td>5</td><td>2018-12-22 15:05:00</td><td>2018-12-22 16:44:00</td><td>99</td><td>-480</td><td>0</td><td>3</td><td>22</td><td>5</td><td>5817</td><td>252</td><td>3</td><td>7</td><td>0</td><td>2.794299</td><td>3.045714</td><td>0.09</td><td>0.758426</td><td>0.762317</td><td>0.756239</td><td>355</td></tr><tr><td>&quot;L2&quot;</td><td>7067</td><td>2018-12-22</td><td>2018-12-22</td><td>1742</td><td>0</td><td>0</td><td>9</td><td>2018-12-22 13:17:00</td><td>2018-12-22 16:00:00</td><td>163</td><td>-360</td><td>0</td><td>3</td><td>7</td><td>3</td><td>1618</td><td>310</td><td>5</td><td>6</td><td>0</td><td>2.944469</td><td>3.241048</td><td>0.1007</td><td>0.871439</td><td>0.891693</td><td>0.903848</td><td>355</td></tr><tr><td>&quot;L1&quot;</td><td>5927</td><td>2018-12-22</td><td>2018-12-22</td><td>3770</td><td>0</td><td>0</td><td>1</td><td>2018-12-22 20:45:00</td><td>2018-12-22 23:57:00</td><td>192</td><td>-300</td><td>0</td><td>5</td><td>5</td><td>1</td><td>2164</td><td>373</td><td>1</td><td>5</td><td>0</td><td>2.986374</td><td>3.576341</td><td>0.1976</td><td>0.686482</td><td>0.799109</td><td>0.686482</td><td>355</td></tr><tr><td>&quot;L1&quot;</td><td>5135</td><td>2018-12-22</td><td>2018-12-22</td><td>3305</td><td>0</td><td>0</td><td>7</td><td>2018-12-22 07:25:00</td><td>2018-12-22 08:42:00</td><td>77</td><td>-360</td><td>0</td><td>1</td><td>10</td><td>3</td><td>3070</td><td>272</td><td>5</td><td>0</td><td>0</td><td>2.85592</td><td>3.519171</td><td>0.2322</td><td>0.794768</td><td>0.639658</td><td>0.765397</td><td>355</td></tr><tr><td>&quot;L3&quot;</td><td>18214</td><td>2018-12-22</td><td>2018-12-22</td><td>671</td><td>0</td><td>0</td><td>4</td><td>2018-12-22 13:00:00</td><td>2018-12-22 14:18:00</td><td>78</td><td>-480</td><td>0</td><td>3</td><td>33</td><td>8</td><td>7128</td><td>231</td><td>3</td><td>4</td><td>0</td><td>2.764205</td><td>2.826723</td><td>0.0226</td><td>1.453969</td><td>1.174048</td><td>1.009782</td><td>355</td></tr><tr><td>&quot;U1&quot;</td><td>6115</td><td>2018-12-22</td><td>2018-12-22</td><td>1111</td><td>0</td><td>0</td><td>5</td><td>2018-12-22 06:45:00</td><td>2018-12-22 08:22:00</td><td>97</td><td>-480</td><td>0</td><td>1</td><td>22</td><td>4</td><td>5817</td><td>252</td><td>3</td><td>7</td><td>0</td><td>2.794299</td><td>3.045714</td><td>0.09</td><td>0.758426</td><td>0.762317</td><td>0.756239</td><td>355</td></tr><tr><td>&quot;L2&quot;</td><td>937</td><td>2018-12-22</td><td>2018-12-22</td><td>1742</td><td>0</td><td>0</td><td>9</td><td>2018-12-22 15:33:00</td><td>2018-12-22 18:19:00</td><td>166</td><td>-360</td><td>0</td><td>3</td><td>7</td><td>3</td><td>1618</td><td>310</td><td>5</td><td>6</td><td>0</td><td>2.944469</td><td>3.241048</td><td>0.1007</td><td>0.871439</td><td>0.891693</td><td>0.903848</td><td>355</td></tr><tr><td>&quot;U1&quot;</td><td>6140</td><td>2018-12-22</td><td>2018-12-22</td><td>1111</td><td>0</td><td>0</td><td>5</td><td>2018-12-22 13:38:00</td><td>2018-12-22 15:17:00</td><td>99</td><td>-480</td><td>0</td><td>3</td><td>22</td><td>5</td><td>5817</td><td>252</td><td>3</td><td>7</td><td>0</td><td>2.794299</td><td>3.045714</td><td>0.09</td><td>0.758426</td><td>0.762317</td><td>0.756239</td><td>355</td></tr><tr><td>&quot;L1&quot;</td><td>2149</td><td>2018-12-22</td><td>2018-12-22</td><td>4169</td><td>0</td><td>0</td><td>3</td><td>2018-12-22 00:51:00</td><td>2018-12-22 05:44:00</td><td>293</td><td>-480</td><td>0</td><td>0</td><td>8</td><td>1</td><td>2790</td><td>405</td><td>3</td><td>2</td><td>0</td><td>2.970955</td><td>3.620032</td><td>0.2185</td><td>1.003689</td><td>1.028185</td><td>0.962646</td><td>355</td></tr><tr><td>&quot;L1&quot;</td><td>5663</td><td>2018-12-22</td><td>2018-12-22</td><td>2037</td><td>0</td><td>0</td><td>3</td><td>2018-12-22 12:20:00</td><td>2018-12-22 17:09:00</td><td>289</td><td>-480</td><td>0</td><td>3</td><td>8</td><td>3</td><td>2790</td><td>405</td><td>3</td><td>2</td><td>0</td><td>2.970955</td><td>3.308991</td><td>0.1138</td><td>1.003689</td><td>1.028185</td><td>0.962646</td><td>355</td></tr></tbody></table></div>"
      ],
      "text/plain": [
       "shape: (34_591, 28)\n",
       "┌─────────┬─────────┬────────────┬────────────┬───┬────────────┬───────────┬───────────┬───────────┐\n",
       "│ carrier ┆ flt_num ┆ flt_depart ┆ observatio ┆ … ┆ 7d_route_a ┆ 14d_route ┆ 7d_route_ ┆ days_sinc │\n",
       "│ ---     ┆ ---     ┆ ure_dt     ┆ n_date     ┆   ┆ vg         ┆ _avg      ┆ carrier_a ┆ e_start   │\n",
       "│ str     ┆ i64     ┆ ---        ┆ ---        ┆   ┆ ---        ┆ ---       ┆ vg        ┆ ---       │\n",
       "│         ┆         ┆ date       ┆ date       ┆   ┆ f64        ┆ f64       ┆ ---       ┆ i64       │\n",
       "│         ┆         ┆            ┆            ┆   ┆            ┆           ┆ f64       ┆           │\n",
       "╞═════════╪═════════╪════════════╪════════════╪═══╪════════════╪═══════════╪═══════════╪═══════════╡\n",
       "│ L1      ┆ 2724    ┆ 2018-12-16 ┆ 2018-03-26 ┆ … ┆ 0.798736   ┆ 0.897825  ┆ 0.798736  ┆ 349       │\n",
       "│ L1      ┆ 6517    ┆ 2018-12-16 ┆ 2018-03-26 ┆ … ┆ 0.798736   ┆ 0.897825  ┆ 0.798736  ┆ 349       │\n",
       "│ L1      ┆ 2997    ┆ 2018-12-16 ┆ 2018-03-26 ┆ … ┆ 0.798736   ┆ 0.897825  ┆ 0.798736  ┆ 349       │\n",
       "│ U1      ┆ 6385    ┆ 2018-12-16 ┆ 2018-10-17 ┆ … ┆ 1.888463   ┆ 1.419032  ┆ 1.578655  ┆ 349       │\n",
       "│ U1      ┆ 6128    ┆ 2018-12-16 ┆ 2018-10-17 ┆ … ┆ 1.547979   ┆ 1.674178  ┆ 1.434252  ┆ 349       │\n",
       "│ U1      ┆ 6140    ┆ 2018-12-16 ┆ 2018-10-17 ┆ … ┆ 1.547979   ┆ 1.674178  ┆ 1.434252  ┆ 349       │\n",
       "│ U1      ┆ 3842    ┆ 2018-12-16 ┆ 2018-10-17 ┆ … ┆ 1.888463   ┆ 1.419032  ┆ 1.578655  ┆ 349       │\n",
       "│ U1      ┆ 6153    ┆ 2018-12-16 ┆ 2018-10-17 ┆ … ┆ 1.547979   ┆ 1.674178  ┆ 1.434252  ┆ 349       │\n",
       "│ U1      ┆ 4771    ┆ 2018-12-16 ┆ 2018-10-17 ┆ … ┆ 1.888463   ┆ 1.419032  ┆ 1.578655  ┆ 349       │\n",
       "│ U1      ┆ 6184    ┆ 2018-12-16 ┆ 2018-10-17 ┆ … ┆ 1.547979   ┆ 1.674178  ┆ 1.434252  ┆ 349       │\n",
       "│ …       ┆ …       ┆ …          ┆ …          ┆ … ┆ …          ┆ …         ┆ …         ┆ …         │\n",
       "│ U1      ┆ 6165    ┆ 2018-12-22 ┆ 2018-12-22 ┆ … ┆ 0.758426   ┆ 0.762317  ┆ 0.756239  ┆ 355       │\n",
       "│ L2      ┆ 7067    ┆ 2018-12-22 ┆ 2018-12-22 ┆ … ┆ 0.871439   ┆ 0.891693  ┆ 0.903848  ┆ 355       │\n",
       "│ L1      ┆ 5927    ┆ 2018-12-22 ┆ 2018-12-22 ┆ … ┆ 0.686482   ┆ 0.799109  ┆ 0.686482  ┆ 355       │\n",
       "│ L1      ┆ 5135    ┆ 2018-12-22 ┆ 2018-12-22 ┆ … ┆ 0.794768   ┆ 0.639658  ┆ 0.765397  ┆ 355       │\n",
       "│ L3      ┆ 18214   ┆ 2018-12-22 ┆ 2018-12-22 ┆ … ┆ 1.453969   ┆ 1.174048  ┆ 1.009782  ┆ 355       │\n",
       "│ U1      ┆ 6115    ┆ 2018-12-22 ┆ 2018-12-22 ┆ … ┆ 0.758426   ┆ 0.762317  ┆ 0.756239  ┆ 355       │\n",
       "│ L2      ┆ 937     ┆ 2018-12-22 ┆ 2018-12-22 ┆ … ┆ 0.871439   ┆ 0.891693  ┆ 0.903848  ┆ 355       │\n",
       "│ U1      ┆ 6140    ┆ 2018-12-22 ┆ 2018-12-22 ┆ … ┆ 0.758426   ┆ 0.762317  ┆ 0.756239  ┆ 355       │\n",
       "│ L1      ┆ 2149    ┆ 2018-12-22 ┆ 2018-12-22 ┆ … ┆ 1.003689   ┆ 1.028185  ┆ 0.962646  ┆ 355       │\n",
       "│ L1      ┆ 5663    ┆ 2018-12-22 ┆ 2018-12-22 ┆ … ┆ 1.003689   ┆ 1.028185  ┆ 0.962646  ┆ 355       │\n",
       "└─────────┴─────────┴────────────┴────────────┴───┴────────────┴───────────┴───────────┴───────────┘"
      ]
     },
     "execution_count": 24,
     "metadata": {},
     "output_type": "execute_result"
    }
   ],
   "source": [
    "val_df = val_df.with_columns(\n",
    "    (\n",
    "        pl.col('flt_departure_dt') - train_df['flt_departure_dt'].min()\n",
    "    ).dt.total_days().alias(\"days_since_start\")\n",
    ")\n",
    "\n",
    "val_df"
   ]
  },
  {
   "cell_type": "markdown",
   "metadata": {},
   "source": [
    "#### Flight date features"
   ]
  },
  {
   "cell_type": "code",
   "execution_count": 25,
   "metadata": {},
   "outputs": [
    {
     "data": {
      "text/html": [
       "<div><style>\n",
       ".dataframe > thead > tr,\n",
       ".dataframe > tbody > tr {\n",
       "  text-align: right;\n",
       "  white-space: pre-wrap;\n",
       "}\n",
       "</style>\n",
       "<small>shape: (1_620_806, 32)</small><table border=\"1\" class=\"dataframe\"><thead><tr><th>carrier</th><th>flt_num</th><th>flt_departure_dt</th><th>observation_date</th><th>total_fare</th><th>days_till_flight</th><th>is_dst</th><th>route_id</th><th>flt_departure_local_time</th><th>flt_arrival_local_time</th><th>dur_min</th><th>tz_min</th><th>over_mn</th><th>dpt_4h_od</th><th>flt_count_dpt_24h</th><th>flt_count_dpt_4h</th><th>scaled_demand</th><th>scaled_share</th><th>origin_id</th><th>destination_id</th><th>flt_info_null</th><th>base_fare</th><th>log_fare</th><th>scaled_fare</th><th>7d_route_avg</th><th>14d_route_avg</th><th>7d_route_carrier_avg</th><th>days_since_start</th><th>flt_departure_month</th><th>flt_departure_day</th><th>flt_departure_week</th><th>flt_departure_weekday</th></tr><tr><td>str</td><td>i64</td><td>date</td><td>date</td><td>i64</td><td>i16</td><td>i8</td><td>u8</td><td>datetime[ns]</td><td>datetime[ns]</td><td>i16</td><td>i16</td><td>i8</td><td>i8</td><td>u8</td><td>u8</td><td>i64</td><td>i64</td><td>u8</td><td>u8</td><td>u8</td><td>f64</td><td>f64</td><td>f64</td><td>f64</td><td>f64</td><td>f64</td><td>i64</td><td>i8</td><td>i8</td><td>i8</td><td>i8</td></tr></thead><tbody><tr><td>&quot;L2&quot;</td><td>5242</td><td>2018-01-01</td><td>2017-11-27</td><td>846</td><td>35</td><td>0</td><td>4</td><td>2018-01-01 10:49:00</td><td>2018-01-01 12:14:00</td><td>85</td><td>-480</td><td>0</td><td>2</td><td>30</td><td>5</td><td>6659</td><td>212</td><td>3</td><td>4</td><td>0</td><td>2.676879</td><td>2.92737</td><td>0.0936</td><td>1.0</td><td>1.0</td><td>1.0</td><td>0</td><td>1</td><td>1</td><td>1</td><td>1</td></tr><tr><td>&quot;OTH&quot;</td><td>4790</td><td>2018-01-01</td><td>2017-11-27</td><td>937</td><td>35</td><td>0</td><td>4</td><td>2018-01-01 14:57:00</td><td>2018-01-01 16:17:00</td><td>80</td><td>-480</td><td>0</td><td>3</td><td>30</td><td>8</td><td>6659</td><td>316</td><td>3</td><td>4</td><td>0</td><td>2.593901</td><td>2.97174</td><td>0.1457</td><td>1.0</td><td>1.0</td><td>1.0</td><td>0</td><td>1</td><td>1</td><td>1</td><td>1</td></tr><tr><td>&quot;OTH&quot;</td><td>4837</td><td>2018-01-01</td><td>2017-11-27</td><td>281</td><td>35</td><td>0</td><td>6</td><td>2018-01-01 19:38:00</td><td>2018-01-01 20:43:00</td><td>65</td><td>-480</td><td>0</td><td>4</td><td>30</td><td>7</td><td>6659</td><td>316</td><td>4</td><td>3</td><td>0</td><td>2.581777</td><td>2.448706</td><td>-0.0515</td><td>1.0</td><td>1.0</td><td>1.0</td><td>0</td><td>1</td><td>1</td><td>1</td><td>1</td></tr><tr><td>&quot;L2&quot;</td><td>5314</td><td>2018-01-01</td><td>2017-11-27</td><td>403</td><td>35</td><td>0</td><td>6</td><td>2018-01-01 19:05:00</td><td>2018-01-01 20:17:00</td><td>72</td><td>-480</td><td>0</td><td>4</td><td>30</td><td>7</td><td>6659</td><td>213</td><td>4</td><td>3</td><td>0</td><td>2.657775</td><td>2.605305</td><td>-0.0197</td><td>1.0</td><td>1.0</td><td>1.0</td><td>0</td><td>1</td><td>1</td><td>1</td><td>1</td></tr><tr><td>&quot;OTH&quot;</td><td>6187</td><td>2018-01-01</td><td>2017-11-27</td><td>341</td><td>35</td><td>0</td><td>11</td><td>2018-01-01 20:30:00</td><td>2018-01-01 21:58:00</td><td>88</td><td>-480</td><td>0</td><td>5</td><td>21</td><td>5</td><td>6579</td><td>354</td><td>7</td><td>3</td><td>0</td><td>2.72979</td><td>2.532754</td><td>-0.0722</td><td>1.0</td><td>1.0</td><td>1.0</td><td>0</td><td>1</td><td>1</td><td>1</td><td>1</td></tr><tr><td>&quot;U1&quot;</td><td>4771</td><td>2018-01-01</td><td>2017-11-27</td><td>513</td><td>35</td><td>0</td><td>4</td><td>null</td><td>null</td><td>null</td><td>null</td><td>null</td><td>null</td><td>null</td><td>null</td><td>null</td><td>null</td><td>3</td><td>4</td><td>1</td><td>2.637585</td><td>2.710117</td><td>0.0275</td><td>1.0</td><td>1.0</td><td>1.0</td><td>0</td><td>1</td><td>1</td><td>1</td><td>1</td></tr><tr><td>&quot;L3&quot;</td><td>15130</td><td>2018-01-01</td><td>2017-11-27</td><td>1298</td><td>35</td><td>0</td><td>4</td><td>2018-01-01 16:53:00</td><td>2018-01-01 18:19:00</td><td>86</td><td>-480</td><td>0</td><td>4</td><td>30</td><td>7</td><td>6659</td><td>231</td><td>3</td><td>4</td><td>0</td><td>2.764205</td><td>3.113275</td><td>0.1263</td><td>1.0</td><td>1.0</td><td>1.0</td><td>0</td><td>1</td><td>1</td><td>1</td><td>1</td></tr><tr><td>&quot;L1&quot;</td><td>1396</td><td>2018-01-01</td><td>2017-11-27</td><td>372</td><td>35</td><td>0</td><td>11</td><td>2018-01-01 19:35:00</td><td>2018-01-01 21:08:00</td><td>93</td><td>-480</td><td>0</td><td>4</td><td>21</td><td>7</td><td>6579</td><td>262</td><td>7</td><td>3</td><td>0</td><td>2.764388</td><td>2.570543</td><td>-0.0701</td><td>1.0</td><td>1.0</td><td>1.0</td><td>0</td><td>1</td><td>1</td><td>1</td><td>1</td></tr><tr><td>&quot;L1&quot;</td><td>6316</td><td>2018-01-01</td><td>2017-11-27</td><td>1119</td><td>35</td><td>0</td><td>1</td><td>2018-01-01 12:31:00</td><td>2018-01-01 15:55:00</td><td>204</td><td>-300</td><td>0</td><td>3</td><td>5</td><td>2</td><td>1468</td><td>360</td><td>1</td><td>5</td><td>0</td><td>2.986374</td><td>3.04883</td><td>0.0209</td><td>1.0</td><td>1.0</td><td>1.0</td><td>0</td><td>1</td><td>1</td><td>1</td><td>1</td></tr><tr><td>&quot;L1&quot;</td><td>4605</td><td>2018-01-01</td><td>2017-11-27</td><td>372</td><td>35</td><td>0</td><td>11</td><td>2018-01-01 17:18:00</td><td>2018-01-01 18:57:00</td><td>99</td><td>-480</td><td>0</td><td>4</td><td>21</td><td>7</td><td>6579</td><td>262</td><td>7</td><td>3</td><td>0</td><td>2.764388</td><td>2.570543</td><td>-0.0701</td><td>1.0</td><td>1.0</td><td>1.0</td><td>0</td><td>1</td><td>1</td><td>1</td><td>1</td></tr><tr><td>&hellip;</td><td>&hellip;</td><td>&hellip;</td><td>&hellip;</td><td>&hellip;</td><td>&hellip;</td><td>&hellip;</td><td>&hellip;</td><td>&hellip;</td><td>&hellip;</td><td>&hellip;</td><td>&hellip;</td><td>&hellip;</td><td>&hellip;</td><td>&hellip;</td><td>&hellip;</td><td>&hellip;</td><td>&hellip;</td><td>&hellip;</td><td>&hellip;</td><td>&hellip;</td><td>&hellip;</td><td>&hellip;</td><td>&hellip;</td><td>&hellip;</td><td>&hellip;</td><td>&hellip;</td><td>&hellip;</td><td>&hellip;</td><td>&hellip;</td><td>&hellip;</td><td>&hellip;</td></tr><tr><td>&quot;U1&quot;</td><td>6128</td><td>2018-12-15</td><td>2018-12-15</td><td>1111</td><td>0</td><td>0</td><td>5</td><td>2018-12-15 09:35:00</td><td>2018-12-15 11:12:00</td><td>97</td><td>-480</td><td>0</td><td>2</td><td>20</td><td>6</td><td>5817</td><td>252</td><td>3</td><td>7</td><td>0</td><td>2.794299</td><td>3.045714</td><td>0.09</td><td>0.762317</td><td>1.021279</td><td>0.789983</td><td>348</td><td>12</td><td>15</td><td>50</td><td>6</td></tr><tr><td>&quot;L2&quot;</td><td>9051</td><td>2018-12-15</td><td>2018-12-15</td><td>395</td><td>0</td><td>0</td><td>6</td><td>2018-12-15 18:10:00</td><td>2018-12-15 19:22:00</td><td>72</td><td>-480</td><td>0</td><td>4</td><td>33</td><td>11</td><td>7128</td><td>224</td><td>4</td><td>3</td><td>0</td><td>2.657775</td><td>2.596597</td><td>-0.023</td><td>0.895414</td><td>0.821364</td><td>0.752834</td><td>348</td><td>12</td><td>15</td><td>50</td><td>6</td></tr><tr><td>&quot;L1&quot;</td><td>5836</td><td>2018-12-15</td><td>2018-12-15</td><td>395</td><td>0</td><td>0</td><td>4</td><td>2018-12-15 10:40:00</td><td>2018-12-15 11:56:00</td><td>76</td><td>-480</td><td>0</td><td>2</td><td>30</td><td>7</td><td>7128</td><td>189</td><td>3</td><td>4</td><td>0</td><td>2.669455</td><td>2.596597</td><td>-0.0273</td><td>1.174048</td><td>1.479917</td><td>0.682406</td><td>348</td><td>12</td><td>15</td><td>50</td><td>6</td></tr><tr><td>&quot;U1&quot;</td><td>6165</td><td>2018-12-15</td><td>2018-12-15</td><td>1111</td><td>0</td><td>0</td><td>5</td><td>2018-12-15 15:05:00</td><td>2018-12-15 16:44:00</td><td>99</td><td>-480</td><td>0</td><td>3</td><td>20</td><td>4</td><td>5817</td><td>252</td><td>3</td><td>7</td><td>0</td><td>2.794299</td><td>3.045714</td><td>0.09</td><td>0.762317</td><td>1.021279</td><td>0.789983</td><td>348</td><td>12</td><td>15</td><td>50</td><td>6</td></tr><tr><td>&quot;U1&quot;</td><td>6153</td><td>2018-12-15</td><td>2018-12-15</td><td>1111</td><td>0</td><td>0</td><td>5</td><td>2018-12-15 17:00:00</td><td>2018-12-15 18:39:00</td><td>99</td><td>-480</td><td>0</td><td>4</td><td>20</td><td>8</td><td>5817</td><td>252</td><td>3</td><td>7</td><td>0</td><td>2.794299</td><td>3.045714</td><td>0.09</td><td>0.762317</td><td>1.021279</td><td>0.789983</td><td>348</td><td>12</td><td>15</td><td>50</td><td>6</td></tr><tr><td>&quot;L2&quot;</td><td>7402</td><td>2018-12-15</td><td>2018-12-15</td><td>671</td><td>0</td><td>0</td><td>6</td><td>2018-12-15 14:10:00</td><td>2018-12-15 15:22:00</td><td>72</td><td>-480</td><td>0</td><td>3</td><td>33</td><td>9</td><td>7128</td><td>224</td><td>4</td><td>3</td><td>0</td><td>2.657775</td><td>2.826723</td><td>0.0636</td><td>0.895414</td><td>0.821364</td><td>0.752834</td><td>348</td><td>12</td><td>15</td><td>50</td><td>6</td></tr><tr><td>&quot;U3&quot;</td><td>768</td><td>2018-12-15</td><td>2018-12-15</td><td>357</td><td>0</td><td>0</td><td>0</td><td>2018-12-15 20:20:00</td><td>2018-12-15 23:31:00</td><td>191</td><td>-420</td><td>0</td><td>5</td><td>6</td><td>1</td><td>3070</td><td>179</td><td>0</td><td>5</td><td>0</td><td>2.72147</td><td>2.552668</td><td>-0.062</td><td>0.691084</td><td>0.734515</td><td>0.671502</td><td>348</td><td>12</td><td>15</td><td>50</td><td>6</td></tr><tr><td>&quot;L1&quot;</td><td>10838</td><td>2018-12-15</td><td>2018-12-15</td><td>1346</td><td>0</td><td>0</td><td>8</td><td>2018-12-15 16:15:00</td><td>2018-12-15 20:59:00</td><td>284</td><td>-360</td><td>0</td><td>4</td><td>4</td><td>1</td><td>2164</td><td>373</td><td>5</td><td>1</td><td>0</td><td>3.0167</td><td>3.129045</td><td>0.0372</td><td>0.82141</td><td>0.592169</td><td>0.82141</td><td>348</td><td>12</td><td>15</td><td>50</td><td>6</td></tr><tr><td>&quot;L1&quot;</td><td>4781</td><td>2018-12-15</td><td>2018-12-15</td><td>1067</td><td>0</td><td>0</td><td>7</td><td>2018-12-15 07:40:00</td><td>2018-12-15 08:50:00</td><td>70</td><td>-360</td><td>0</td><td>1</td><td>6</td><td>4</td><td>3070</td><td>272</td><td>5</td><td>0</td><td>0</td><td>2.85592</td><td>3.028164</td><td>0.0603</td><td>0.639658</td><td>0.630274</td><td>0.637189</td><td>348</td><td>12</td><td>15</td><td>50</td><td>6</td></tr><tr><td>&quot;L2&quot;</td><td>5274</td><td>2018-12-15</td><td>2018-12-15</td><td>1742</td><td>0</td><td>0</td><td>9</td><td>2018-12-15 11:03:00</td><td>2018-12-15 13:44:00</td><td>161</td><td>-360</td><td>0</td><td>2</td><td>6</td><td>2</td><td>1618</td><td>310</td><td>5</td><td>6</td><td>0</td><td>2.944469</td><td>3.241048</td><td>0.1007</td><td>0.891693</td><td>0.895634</td><td>0.93872</td><td>348</td><td>12</td><td>15</td><td>50</td><td>6</td></tr></tbody></table></div>"
      ],
      "text/plain": [
       "shape: (1_620_806, 32)\n",
       "┌─────────┬─────────┬────────────┬────────────┬───┬────────────┬───────────┬───────────┬───────────┐\n",
       "│ carrier ┆ flt_num ┆ flt_depart ┆ observatio ┆ … ┆ flt_depart ┆ flt_depar ┆ flt_depar ┆ flt_depar │\n",
       "│ ---     ┆ ---     ┆ ure_dt     ┆ n_date     ┆   ┆ ure_month  ┆ ture_day  ┆ ture_week ┆ ture_week │\n",
       "│ str     ┆ i64     ┆ ---        ┆ ---        ┆   ┆ ---        ┆ ---       ┆ ---       ┆ day       │\n",
       "│         ┆         ┆ date       ┆ date       ┆   ┆ i8         ┆ i8        ┆ i8        ┆ ---       │\n",
       "│         ┆         ┆            ┆            ┆   ┆            ┆           ┆           ┆ i8        │\n",
       "╞═════════╪═════════╪════════════╪════════════╪═══╪════════════╪═══════════╪═══════════╪═══════════╡\n",
       "│ L2      ┆ 5242    ┆ 2018-01-01 ┆ 2017-11-27 ┆ … ┆ 1          ┆ 1         ┆ 1         ┆ 1         │\n",
       "│ OTH     ┆ 4790    ┆ 2018-01-01 ┆ 2017-11-27 ┆ … ┆ 1          ┆ 1         ┆ 1         ┆ 1         │\n",
       "│ OTH     ┆ 4837    ┆ 2018-01-01 ┆ 2017-11-27 ┆ … ┆ 1          ┆ 1         ┆ 1         ┆ 1         │\n",
       "│ L2      ┆ 5314    ┆ 2018-01-01 ┆ 2017-11-27 ┆ … ┆ 1          ┆ 1         ┆ 1         ┆ 1         │\n",
       "│ OTH     ┆ 6187    ┆ 2018-01-01 ┆ 2017-11-27 ┆ … ┆ 1          ┆ 1         ┆ 1         ┆ 1         │\n",
       "│ U1      ┆ 4771    ┆ 2018-01-01 ┆ 2017-11-27 ┆ … ┆ 1          ┆ 1         ┆ 1         ┆ 1         │\n",
       "│ L3      ┆ 15130   ┆ 2018-01-01 ┆ 2017-11-27 ┆ … ┆ 1          ┆ 1         ┆ 1         ┆ 1         │\n",
       "│ L1      ┆ 1396    ┆ 2018-01-01 ┆ 2017-11-27 ┆ … ┆ 1          ┆ 1         ┆ 1         ┆ 1         │\n",
       "│ L1      ┆ 6316    ┆ 2018-01-01 ┆ 2017-11-27 ┆ … ┆ 1          ┆ 1         ┆ 1         ┆ 1         │\n",
       "│ L1      ┆ 4605    ┆ 2018-01-01 ┆ 2017-11-27 ┆ … ┆ 1          ┆ 1         ┆ 1         ┆ 1         │\n",
       "│ …       ┆ …       ┆ …          ┆ …          ┆ … ┆ …          ┆ …         ┆ …         ┆ …         │\n",
       "│ U1      ┆ 6128    ┆ 2018-12-15 ┆ 2018-12-15 ┆ … ┆ 12         ┆ 15        ┆ 50        ┆ 6         │\n",
       "│ L2      ┆ 9051    ┆ 2018-12-15 ┆ 2018-12-15 ┆ … ┆ 12         ┆ 15        ┆ 50        ┆ 6         │\n",
       "│ L1      ┆ 5836    ┆ 2018-12-15 ┆ 2018-12-15 ┆ … ┆ 12         ┆ 15        ┆ 50        ┆ 6         │\n",
       "│ U1      ┆ 6165    ┆ 2018-12-15 ┆ 2018-12-15 ┆ … ┆ 12         ┆ 15        ┆ 50        ┆ 6         │\n",
       "│ U1      ┆ 6153    ┆ 2018-12-15 ┆ 2018-12-15 ┆ … ┆ 12         ┆ 15        ┆ 50        ┆ 6         │\n",
       "│ L2      ┆ 7402    ┆ 2018-12-15 ┆ 2018-12-15 ┆ … ┆ 12         ┆ 15        ┆ 50        ┆ 6         │\n",
       "│ U3      ┆ 768     ┆ 2018-12-15 ┆ 2018-12-15 ┆ … ┆ 12         ┆ 15        ┆ 50        ┆ 6         │\n",
       "│ L1      ┆ 10838   ┆ 2018-12-15 ┆ 2018-12-15 ┆ … ┆ 12         ┆ 15        ┆ 50        ┆ 6         │\n",
       "│ L1      ┆ 4781    ┆ 2018-12-15 ┆ 2018-12-15 ┆ … ┆ 12         ┆ 15        ┆ 50        ┆ 6         │\n",
       "│ L2      ┆ 5274    ┆ 2018-12-15 ┆ 2018-12-15 ┆ … ┆ 12         ┆ 15        ┆ 50        ┆ 6         │\n",
       "└─────────┴─────────┴────────────┴────────────┴───┴────────────┴───────────┴───────────┴───────────┘"
      ]
     },
     "execution_count": 25,
     "metadata": {},
     "output_type": "execute_result"
    }
   ],
   "source": [
    "train_df = train_df.with_columns(\n",
    "    pl.col('flt_departure_dt').dt.month().alias('flt_departure_month'),\n",
    "    pl.col('flt_departure_dt').dt.day().alias('flt_departure_day'),\n",
    "    pl.col('flt_departure_dt').dt.week().alias('flt_departure_week'),    \n",
    "    pl.col('flt_departure_dt').dt.weekday().alias('flt_departure_weekday')  \n",
    ")\n",
    "train_df"
   ]
  },
  {
   "cell_type": "code",
   "execution_count": 26,
   "metadata": {},
   "outputs": [
    {
     "data": {
      "text/html": [
       "<div><style>\n",
       ".dataframe > thead > tr,\n",
       ".dataframe > tbody > tr {\n",
       "  text-align: right;\n",
       "  white-space: pre-wrap;\n",
       "}\n",
       "</style>\n",
       "<small>shape: (34_591, 32)</small><table border=\"1\" class=\"dataframe\"><thead><tr><th>carrier</th><th>flt_num</th><th>flt_departure_dt</th><th>observation_date</th><th>total_fare</th><th>days_till_flight</th><th>is_dst</th><th>route_id</th><th>flt_departure_local_time</th><th>flt_arrival_local_time</th><th>dur_min</th><th>tz_min</th><th>over_mn</th><th>dpt_4h_od</th><th>flt_count_dpt_24h</th><th>flt_count_dpt_4h</th><th>scaled_demand</th><th>scaled_share</th><th>origin_id</th><th>destination_id</th><th>flt_info_null</th><th>base_fare</th><th>log_fare</th><th>scaled_fare</th><th>7d_route_avg</th><th>14d_route_avg</th><th>7d_route_carrier_avg</th><th>days_since_start</th><th>flt_departure_month</th><th>flt_departure_day</th><th>flt_departure_week</th><th>flt_departure_weekday</th></tr><tr><td>str</td><td>i64</td><td>date</td><td>date</td><td>i64</td><td>i16</td><td>i8</td><td>u8</td><td>datetime[ns]</td><td>datetime[ns]</td><td>i16</td><td>i16</td><td>i8</td><td>i8</td><td>u8</td><td>u8</td><td>i64</td><td>i64</td><td>u8</td><td>u8</td><td>u8</td><td>f64</td><td>f64</td><td>f64</td><td>f64</td><td>f64</td><td>f64</td><td>i64</td><td>i8</td><td>i8</td><td>i8</td><td>i8</td></tr></thead><tbody><tr><td>&quot;L1&quot;</td><td>2724</td><td>2018-12-16</td><td>2018-03-26</td><td>783</td><td>265</td><td>0</td><td>8</td><td>2018-12-16 06:35:00</td><td>2018-12-16 11:00:00</td><td>265</td><td>-360</td><td>0</td><td>1</td><td>5</td><td>2</td><td>2164</td><td>373</td><td>5</td><td>1</td><td>0</td><td>3.0167</td><td>2.893762</td><td>-0.0408</td><td>0.798736</td><td>0.897825</td><td>0.798736</td><td>349</td><td>12</td><td>16</td><td>50</td><td>7</td></tr><tr><td>&quot;L1&quot;</td><td>6517</td><td>2018-12-16</td><td>2018-03-26</td><td>1436</td><td>265</td><td>0</td><td>8</td><td>2018-12-16 16:15:00</td><td>2018-12-16 20:52:00</td><td>277</td><td>-360</td><td>0</td><td>4</td><td>5</td><td>1</td><td>2164</td><td>373</td><td>5</td><td>1</td><td>0</td><td>3.0167</td><td>3.157154</td><td>0.0466</td><td>0.798736</td><td>0.897825</td><td>0.798736</td><td>349</td><td>12</td><td>16</td><td>50</td><td>7</td></tr><tr><td>&quot;L1&quot;</td><td>2997</td><td>2018-12-16</td><td>2018-03-26</td><td>1066</td><td>265</td><td>0</td><td>8</td><td>2018-12-16 11:34:00</td><td>2018-12-16 16:10:00</td><td>276</td><td>-360</td><td>0</td><td>2</td><td>5</td><td>1</td><td>2164</td><td>373</td><td>5</td><td>1</td><td>0</td><td>3.0167</td><td>3.027757</td><td>0.0037</td><td>0.798736</td><td>0.897825</td><td>0.798736</td><td>349</td><td>12</td><td>16</td><td>50</td><td>7</td></tr><tr><td>&quot;U1&quot;</td><td>6385</td><td>2018-12-16</td><td>2018-10-17</td><td>410</td><td>60</td><td>0</td><td>4</td><td>2018-12-16 07:00:00</td><td>2018-12-16 08:15:00</td><td>75</td><td>-480</td><td>0</td><td>1</td><td>36</td><td>7</td><td>7128</td><td>193</td><td>3</td><td>4</td><td>0</td><td>2.637585</td><td>2.612784</td><td>-0.0094</td><td>1.888463</td><td>1.419032</td><td>1.578655</td><td>349</td><td>12</td><td>16</td><td>50</td><td>7</td></tr><tr><td>&quot;U1&quot;</td><td>6128</td><td>2018-12-16</td><td>2018-10-17</td><td>511</td><td>60</td><td>0</td><td>5</td><td>2018-12-16 09:35:00</td><td>2018-12-16 11:12:00</td><td>97</td><td>-480</td><td>0</td><td>2</td><td>21</td><td>6</td><td>5817</td><td>252</td><td>3</td><td>7</td><td>0</td><td>2.794299</td><td>2.708421</td><td>-0.0307</td><td>1.547979</td><td>1.674178</td><td>1.434252</td><td>349</td><td>12</td><td>16</td><td>50</td><td>7</td></tr><tr><td>&quot;U1&quot;</td><td>6140</td><td>2018-12-16</td><td>2018-10-17</td><td>658</td><td>60</td><td>0</td><td>5</td><td>2018-12-16 13:38:00</td><td>2018-12-16 15:17:00</td><td>99</td><td>-480</td><td>0</td><td>3</td><td>21</td><td>4</td><td>5817</td><td>252</td><td>3</td><td>7</td><td>0</td><td>2.794299</td><td>2.818226</td><td>0.0086</td><td>1.547979</td><td>1.674178</td><td>1.434252</td><td>349</td><td>12</td><td>16</td><td>50</td><td>7</td></tr><tr><td>&quot;U1&quot;</td><td>3842</td><td>2018-12-16</td><td>2018-10-17</td><td>379</td><td>60</td><td>0</td><td>4</td><td>2018-12-16 06:15:00</td><td>2018-12-16 07:25:00</td><td>70</td><td>-480</td><td>0</td><td>1</td><td>36</td><td>7</td><td>7128</td><td>193</td><td>3</td><td>4</td><td>0</td><td>2.637585</td><td>2.578639</td><td>-0.0223</td><td>1.888463</td><td>1.419032</td><td>1.578655</td><td>349</td><td>12</td><td>16</td><td>50</td><td>7</td></tr><tr><td>&quot;U1&quot;</td><td>6153</td><td>2018-12-16</td><td>2018-10-17</td><td>721</td><td>60</td><td>0</td><td>5</td><td>2018-12-16 17:00:00</td><td>2018-12-16 18:39:00</td><td>99</td><td>-480</td><td>0</td><td>4</td><td>21</td><td>7</td><td>5817</td><td>252</td><td>3</td><td>7</td><td>0</td><td>2.794299</td><td>2.857935</td><td>0.0228</td><td>1.547979</td><td>1.674178</td><td>1.434252</td><td>349</td><td>12</td><td>16</td><td>50</td><td>7</td></tr><tr><td>&quot;U1&quot;</td><td>4771</td><td>2018-12-16</td><td>2018-10-17</td><td>457</td><td>60</td><td>0</td><td>4</td><td>2018-12-16 08:15:00</td><td>2018-12-16 09:32:00</td><td>77</td><td>-480</td><td>0</td><td>2</td><td>36</td><td>9</td><td>7128</td><td>193</td><td>3</td><td>4</td><td>0</td><td>2.637585</td><td>2.659916</td><td>0.0085</td><td>1.888463</td><td>1.419032</td><td>1.578655</td><td>349</td><td>12</td><td>16</td><td>50</td><td>7</td></tr><tr><td>&quot;U1&quot;</td><td>6184</td><td>2018-12-16</td><td>2018-10-17</td><td>596</td><td>60</td><td>0</td><td>5</td><td>2018-12-16 20:30:00</td><td>2018-12-16 22:09:00</td><td>99</td><td>-480</td><td>0</td><td>5</td><td>21</td><td>3</td><td>5817</td><td>252</td><td>3</td><td>7</td><td>0</td><td>2.794299</td><td>2.775246</td><td>-0.0068</td><td>1.547979</td><td>1.674178</td><td>1.434252</td><td>349</td><td>12</td><td>16</td><td>50</td><td>7</td></tr><tr><td>&hellip;</td><td>&hellip;</td><td>&hellip;</td><td>&hellip;</td><td>&hellip;</td><td>&hellip;</td><td>&hellip;</td><td>&hellip;</td><td>&hellip;</td><td>&hellip;</td><td>&hellip;</td><td>&hellip;</td><td>&hellip;</td><td>&hellip;</td><td>&hellip;</td><td>&hellip;</td><td>&hellip;</td><td>&hellip;</td><td>&hellip;</td><td>&hellip;</td><td>&hellip;</td><td>&hellip;</td><td>&hellip;</td><td>&hellip;</td><td>&hellip;</td><td>&hellip;</td><td>&hellip;</td><td>&hellip;</td><td>&hellip;</td><td>&hellip;</td><td>&hellip;</td><td>&hellip;</td></tr><tr><td>&quot;U1&quot;</td><td>6165</td><td>2018-12-22</td><td>2018-12-22</td><td>1111</td><td>0</td><td>0</td><td>5</td><td>2018-12-22 15:05:00</td><td>2018-12-22 16:44:00</td><td>99</td><td>-480</td><td>0</td><td>3</td><td>22</td><td>5</td><td>5817</td><td>252</td><td>3</td><td>7</td><td>0</td><td>2.794299</td><td>3.045714</td><td>0.09</td><td>0.758426</td><td>0.762317</td><td>0.756239</td><td>355</td><td>12</td><td>22</td><td>51</td><td>6</td></tr><tr><td>&quot;L2&quot;</td><td>7067</td><td>2018-12-22</td><td>2018-12-22</td><td>1742</td><td>0</td><td>0</td><td>9</td><td>2018-12-22 13:17:00</td><td>2018-12-22 16:00:00</td><td>163</td><td>-360</td><td>0</td><td>3</td><td>7</td><td>3</td><td>1618</td><td>310</td><td>5</td><td>6</td><td>0</td><td>2.944469</td><td>3.241048</td><td>0.1007</td><td>0.871439</td><td>0.891693</td><td>0.903848</td><td>355</td><td>12</td><td>22</td><td>51</td><td>6</td></tr><tr><td>&quot;L1&quot;</td><td>5927</td><td>2018-12-22</td><td>2018-12-22</td><td>3770</td><td>0</td><td>0</td><td>1</td><td>2018-12-22 20:45:00</td><td>2018-12-22 23:57:00</td><td>192</td><td>-300</td><td>0</td><td>5</td><td>5</td><td>1</td><td>2164</td><td>373</td><td>1</td><td>5</td><td>0</td><td>2.986374</td><td>3.576341</td><td>0.1976</td><td>0.686482</td><td>0.799109</td><td>0.686482</td><td>355</td><td>12</td><td>22</td><td>51</td><td>6</td></tr><tr><td>&quot;L1&quot;</td><td>5135</td><td>2018-12-22</td><td>2018-12-22</td><td>3305</td><td>0</td><td>0</td><td>7</td><td>2018-12-22 07:25:00</td><td>2018-12-22 08:42:00</td><td>77</td><td>-360</td><td>0</td><td>1</td><td>10</td><td>3</td><td>3070</td><td>272</td><td>5</td><td>0</td><td>0</td><td>2.85592</td><td>3.519171</td><td>0.2322</td><td>0.794768</td><td>0.639658</td><td>0.765397</td><td>355</td><td>12</td><td>22</td><td>51</td><td>6</td></tr><tr><td>&quot;L3&quot;</td><td>18214</td><td>2018-12-22</td><td>2018-12-22</td><td>671</td><td>0</td><td>0</td><td>4</td><td>2018-12-22 13:00:00</td><td>2018-12-22 14:18:00</td><td>78</td><td>-480</td><td>0</td><td>3</td><td>33</td><td>8</td><td>7128</td><td>231</td><td>3</td><td>4</td><td>0</td><td>2.764205</td><td>2.826723</td><td>0.0226</td><td>1.453969</td><td>1.174048</td><td>1.009782</td><td>355</td><td>12</td><td>22</td><td>51</td><td>6</td></tr><tr><td>&quot;U1&quot;</td><td>6115</td><td>2018-12-22</td><td>2018-12-22</td><td>1111</td><td>0</td><td>0</td><td>5</td><td>2018-12-22 06:45:00</td><td>2018-12-22 08:22:00</td><td>97</td><td>-480</td><td>0</td><td>1</td><td>22</td><td>4</td><td>5817</td><td>252</td><td>3</td><td>7</td><td>0</td><td>2.794299</td><td>3.045714</td><td>0.09</td><td>0.758426</td><td>0.762317</td><td>0.756239</td><td>355</td><td>12</td><td>22</td><td>51</td><td>6</td></tr><tr><td>&quot;L2&quot;</td><td>937</td><td>2018-12-22</td><td>2018-12-22</td><td>1742</td><td>0</td><td>0</td><td>9</td><td>2018-12-22 15:33:00</td><td>2018-12-22 18:19:00</td><td>166</td><td>-360</td><td>0</td><td>3</td><td>7</td><td>3</td><td>1618</td><td>310</td><td>5</td><td>6</td><td>0</td><td>2.944469</td><td>3.241048</td><td>0.1007</td><td>0.871439</td><td>0.891693</td><td>0.903848</td><td>355</td><td>12</td><td>22</td><td>51</td><td>6</td></tr><tr><td>&quot;U1&quot;</td><td>6140</td><td>2018-12-22</td><td>2018-12-22</td><td>1111</td><td>0</td><td>0</td><td>5</td><td>2018-12-22 13:38:00</td><td>2018-12-22 15:17:00</td><td>99</td><td>-480</td><td>0</td><td>3</td><td>22</td><td>5</td><td>5817</td><td>252</td><td>3</td><td>7</td><td>0</td><td>2.794299</td><td>3.045714</td><td>0.09</td><td>0.758426</td><td>0.762317</td><td>0.756239</td><td>355</td><td>12</td><td>22</td><td>51</td><td>6</td></tr><tr><td>&quot;L1&quot;</td><td>2149</td><td>2018-12-22</td><td>2018-12-22</td><td>4169</td><td>0</td><td>0</td><td>3</td><td>2018-12-22 00:51:00</td><td>2018-12-22 05:44:00</td><td>293</td><td>-480</td><td>0</td><td>0</td><td>8</td><td>1</td><td>2790</td><td>405</td><td>3</td><td>2</td><td>0</td><td>2.970955</td><td>3.620032</td><td>0.2185</td><td>1.003689</td><td>1.028185</td><td>0.962646</td><td>355</td><td>12</td><td>22</td><td>51</td><td>6</td></tr><tr><td>&quot;L1&quot;</td><td>5663</td><td>2018-12-22</td><td>2018-12-22</td><td>2037</td><td>0</td><td>0</td><td>3</td><td>2018-12-22 12:20:00</td><td>2018-12-22 17:09:00</td><td>289</td><td>-480</td><td>0</td><td>3</td><td>8</td><td>3</td><td>2790</td><td>405</td><td>3</td><td>2</td><td>0</td><td>2.970955</td><td>3.308991</td><td>0.1138</td><td>1.003689</td><td>1.028185</td><td>0.962646</td><td>355</td><td>12</td><td>22</td><td>51</td><td>6</td></tr></tbody></table></div>"
      ],
      "text/plain": [
       "shape: (34_591, 32)\n",
       "┌─────────┬─────────┬────────────┬────────────┬───┬────────────┬───────────┬───────────┬───────────┐\n",
       "│ carrier ┆ flt_num ┆ flt_depart ┆ observatio ┆ … ┆ flt_depart ┆ flt_depar ┆ flt_depar ┆ flt_depar │\n",
       "│ ---     ┆ ---     ┆ ure_dt     ┆ n_date     ┆   ┆ ure_month  ┆ ture_day  ┆ ture_week ┆ ture_week │\n",
       "│ str     ┆ i64     ┆ ---        ┆ ---        ┆   ┆ ---        ┆ ---       ┆ ---       ┆ day       │\n",
       "│         ┆         ┆ date       ┆ date       ┆   ┆ i8         ┆ i8        ┆ i8        ┆ ---       │\n",
       "│         ┆         ┆            ┆            ┆   ┆            ┆           ┆           ┆ i8        │\n",
       "╞═════════╪═════════╪════════════╪════════════╪═══╪════════════╪═══════════╪═══════════╪═══════════╡\n",
       "│ L1      ┆ 2724    ┆ 2018-12-16 ┆ 2018-03-26 ┆ … ┆ 12         ┆ 16        ┆ 50        ┆ 7         │\n",
       "│ L1      ┆ 6517    ┆ 2018-12-16 ┆ 2018-03-26 ┆ … ┆ 12         ┆ 16        ┆ 50        ┆ 7         │\n",
       "│ L1      ┆ 2997    ┆ 2018-12-16 ┆ 2018-03-26 ┆ … ┆ 12         ┆ 16        ┆ 50        ┆ 7         │\n",
       "│ U1      ┆ 6385    ┆ 2018-12-16 ┆ 2018-10-17 ┆ … ┆ 12         ┆ 16        ┆ 50        ┆ 7         │\n",
       "│ U1      ┆ 6128    ┆ 2018-12-16 ┆ 2018-10-17 ┆ … ┆ 12         ┆ 16        ┆ 50        ┆ 7         │\n",
       "│ U1      ┆ 6140    ┆ 2018-12-16 ┆ 2018-10-17 ┆ … ┆ 12         ┆ 16        ┆ 50        ┆ 7         │\n",
       "│ U1      ┆ 3842    ┆ 2018-12-16 ┆ 2018-10-17 ┆ … ┆ 12         ┆ 16        ┆ 50        ┆ 7         │\n",
       "│ U1      ┆ 6153    ┆ 2018-12-16 ┆ 2018-10-17 ┆ … ┆ 12         ┆ 16        ┆ 50        ┆ 7         │\n",
       "│ U1      ┆ 4771    ┆ 2018-12-16 ┆ 2018-10-17 ┆ … ┆ 12         ┆ 16        ┆ 50        ┆ 7         │\n",
       "│ U1      ┆ 6184    ┆ 2018-12-16 ┆ 2018-10-17 ┆ … ┆ 12         ┆ 16        ┆ 50        ┆ 7         │\n",
       "│ …       ┆ …       ┆ …          ┆ …          ┆ … ┆ …          ┆ …         ┆ …         ┆ …         │\n",
       "│ U1      ┆ 6165    ┆ 2018-12-22 ┆ 2018-12-22 ┆ … ┆ 12         ┆ 22        ┆ 51        ┆ 6         │\n",
       "│ L2      ┆ 7067    ┆ 2018-12-22 ┆ 2018-12-22 ┆ … ┆ 12         ┆ 22        ┆ 51        ┆ 6         │\n",
       "│ L1      ┆ 5927    ┆ 2018-12-22 ┆ 2018-12-22 ┆ … ┆ 12         ┆ 22        ┆ 51        ┆ 6         │\n",
       "│ L1      ┆ 5135    ┆ 2018-12-22 ┆ 2018-12-22 ┆ … ┆ 12         ┆ 22        ┆ 51        ┆ 6         │\n",
       "│ L3      ┆ 18214   ┆ 2018-12-22 ┆ 2018-12-22 ┆ … ┆ 12         ┆ 22        ┆ 51        ┆ 6         │\n",
       "│ U1      ┆ 6115    ┆ 2018-12-22 ┆ 2018-12-22 ┆ … ┆ 12         ┆ 22        ┆ 51        ┆ 6         │\n",
       "│ L2      ┆ 937     ┆ 2018-12-22 ┆ 2018-12-22 ┆ … ┆ 12         ┆ 22        ┆ 51        ┆ 6         │\n",
       "│ U1      ┆ 6140    ┆ 2018-12-22 ┆ 2018-12-22 ┆ … ┆ 12         ┆ 22        ┆ 51        ┆ 6         │\n",
       "│ L1      ┆ 2149    ┆ 2018-12-22 ┆ 2018-12-22 ┆ … ┆ 12         ┆ 22        ┆ 51        ┆ 6         │\n",
       "│ L1      ┆ 5663    ┆ 2018-12-22 ┆ 2018-12-22 ┆ … ┆ 12         ┆ 22        ┆ 51        ┆ 6         │\n",
       "└─────────┴─────────┴────────────┴────────────┴───┴────────────┴───────────┴───────────┴───────────┘"
      ]
     },
     "execution_count": 26,
     "metadata": {},
     "output_type": "execute_result"
    }
   ],
   "source": [
    "val_df = val_df.with_columns(\n",
    "    pl.col('flt_departure_dt').dt.month().alias('flt_departure_month'),\n",
    "    pl.col('flt_departure_dt').dt.day().alias('flt_departure_day'),\n",
    "    pl.col('flt_departure_dt').dt.week().alias('flt_departure_week'),    \n",
    "    pl.col('flt_departure_dt').dt.weekday().alias('flt_departure_weekday')  \n",
    ")\n",
    "val_df"
   ]
  },
  {
   "cell_type": "markdown",
   "metadata": {},
   "source": [
    "### Imputation"
   ]
  },
  {
   "cell_type": "markdown",
   "metadata": {},
   "source": [
    "#### Null counts"
   ]
  },
  {
   "cell_type": "code",
   "execution_count": 27,
   "metadata": {},
   "outputs": [
    {
     "data": {
      "text/html": [
       "<div><style>\n",
       ".dataframe > thead > tr,\n",
       ".dataframe > tbody > tr {\n",
       "  text-align: right;\n",
       "  white-space: pre-wrap;\n",
       "}\n",
       "</style>\n",
       "<small>shape: (1, 32)</small><table border=\"1\" class=\"dataframe\"><thead><tr><th>carrier</th><th>flt_num</th><th>flt_departure_dt</th><th>observation_date</th><th>total_fare</th><th>days_till_flight</th><th>is_dst</th><th>route_id</th><th>flt_departure_local_time</th><th>flt_arrival_local_time</th><th>dur_min</th><th>tz_min</th><th>over_mn</th><th>dpt_4h_od</th><th>flt_count_dpt_24h</th><th>flt_count_dpt_4h</th><th>scaled_demand</th><th>scaled_share</th><th>origin_id</th><th>destination_id</th><th>flt_info_null</th><th>base_fare</th><th>log_fare</th><th>scaled_fare</th><th>7d_route_avg</th><th>14d_route_avg</th><th>7d_route_carrier_avg</th><th>days_since_start</th><th>flt_departure_month</th><th>flt_departure_day</th><th>flt_departure_week</th><th>flt_departure_weekday</th></tr><tr><td>u32</td><td>u32</td><td>u32</td><td>u32</td><td>u32</td><td>u32</td><td>u32</td><td>u32</td><td>u32</td><td>u32</td><td>u32</td><td>u32</td><td>u32</td><td>u32</td><td>u32</td><td>u32</td><td>u32</td><td>u32</td><td>u32</td><td>u32</td><td>u32</td><td>u32</td><td>u32</td><td>u32</td><td>u32</td><td>u32</td><td>u32</td><td>u32</td><td>u32</td><td>u32</td><td>u32</td><td>u32</td></tr></thead><tbody><tr><td>0</td><td>0</td><td>0</td><td>0</td><td>0</td><td>0</td><td>0</td><td>0</td><td>96809</td><td>96809</td><td>96809</td><td>96809</td><td>96809</td><td>96809</td><td>96809</td><td>96809</td><td>100313</td><td>100313</td><td>0</td><td>0</td><td>0</td><td>0</td><td>0</td><td>0</td><td>0</td><td>0</td><td>0</td><td>0</td><td>0</td><td>0</td><td>0</td><td>0</td></tr></tbody></table></div>"
      ],
      "text/plain": [
       "shape: (1, 32)\n",
       "┌─────────┬─────────┬────────────┬────────────┬───┬────────────┬───────────┬───────────┬───────────┐\n",
       "│ carrier ┆ flt_num ┆ flt_depart ┆ observatio ┆ … ┆ flt_depart ┆ flt_depar ┆ flt_depar ┆ flt_depar │\n",
       "│ ---     ┆ ---     ┆ ure_dt     ┆ n_date     ┆   ┆ ure_month  ┆ ture_day  ┆ ture_week ┆ ture_week │\n",
       "│ u32     ┆ u32     ┆ ---        ┆ ---        ┆   ┆ ---        ┆ ---       ┆ ---       ┆ day       │\n",
       "│         ┆         ┆ u32        ┆ u32        ┆   ┆ u32        ┆ u32       ┆ u32       ┆ ---       │\n",
       "│         ┆         ┆            ┆            ┆   ┆            ┆           ┆           ┆ u32       │\n",
       "╞═════════╪═════════╪════════════╪════════════╪═══╪════════════╪═══════════╪═══════════╪═══════════╡\n",
       "│ 0       ┆ 0       ┆ 0          ┆ 0          ┆ … ┆ 0          ┆ 0         ┆ 0         ┆ 0         │\n",
       "└─────────┴─────────┴────────────┴────────────┴───┴────────────┴───────────┴───────────┴───────────┘"
      ]
     },
     "execution_count": 27,
     "metadata": {},
     "output_type": "execute_result"
    }
   ],
   "source": [
    "train_df.null_count()"
   ]
  },
  {
   "cell_type": "code",
   "execution_count": 28,
   "metadata": {},
   "outputs": [
    {
     "data": {
      "text/html": [
       "<div><style>\n",
       ".dataframe > thead > tr,\n",
       ".dataframe > tbody > tr {\n",
       "  text-align: right;\n",
       "  white-space: pre-wrap;\n",
       "}\n",
       "</style>\n",
       "<small>shape: (1, 32)</small><table border=\"1\" class=\"dataframe\"><thead><tr><th>carrier</th><th>flt_num</th><th>flt_departure_dt</th><th>observation_date</th><th>total_fare</th><th>days_till_flight</th><th>is_dst</th><th>route_id</th><th>flt_departure_local_time</th><th>flt_arrival_local_time</th><th>dur_min</th><th>tz_min</th><th>over_mn</th><th>dpt_4h_od</th><th>flt_count_dpt_24h</th><th>flt_count_dpt_4h</th><th>scaled_demand</th><th>scaled_share</th><th>origin_id</th><th>destination_id</th><th>flt_info_null</th><th>base_fare</th><th>log_fare</th><th>scaled_fare</th><th>7d_route_avg</th><th>14d_route_avg</th><th>7d_route_carrier_avg</th><th>days_since_start</th><th>flt_departure_month</th><th>flt_departure_day</th><th>flt_departure_week</th><th>flt_departure_weekday</th></tr><tr><td>u32</td><td>u32</td><td>u32</td><td>u32</td><td>u32</td><td>u32</td><td>u32</td><td>u32</td><td>u32</td><td>u32</td><td>u32</td><td>u32</td><td>u32</td><td>u32</td><td>u32</td><td>u32</td><td>u32</td><td>u32</td><td>u32</td><td>u32</td><td>u32</td><td>u32</td><td>u32</td><td>u32</td><td>u32</td><td>u32</td><td>u32</td><td>u32</td><td>u32</td><td>u32</td><td>u32</td><td>u32</td></tr></thead><tbody><tr><td>0</td><td>0</td><td>0</td><td>0</td><td>0</td><td>0</td><td>0</td><td>0</td><td>789</td><td>789</td><td>789</td><td>789</td><td>789</td><td>789</td><td>789</td><td>789</td><td>0</td><td>0</td><td>0</td><td>0</td><td>0</td><td>0</td><td>0</td><td>0</td><td>0</td><td>0</td><td>0</td><td>0</td><td>0</td><td>0</td><td>0</td><td>0</td></tr></tbody></table></div>"
      ],
      "text/plain": [
       "shape: (1, 32)\n",
       "┌─────────┬─────────┬────────────┬────────────┬───┬────────────┬───────────┬───────────┬───────────┐\n",
       "│ carrier ┆ flt_num ┆ flt_depart ┆ observatio ┆ … ┆ flt_depart ┆ flt_depar ┆ flt_depar ┆ flt_depar │\n",
       "│ ---     ┆ ---     ┆ ure_dt     ┆ n_date     ┆   ┆ ure_month  ┆ ture_day  ┆ ture_week ┆ ture_week │\n",
       "│ u32     ┆ u32     ┆ ---        ┆ ---        ┆   ┆ ---        ┆ ---       ┆ ---       ┆ day       │\n",
       "│         ┆         ┆ u32        ┆ u32        ┆   ┆ u32        ┆ u32       ┆ u32       ┆ ---       │\n",
       "│         ┆         ┆            ┆            ┆   ┆            ┆           ┆           ┆ u32       │\n",
       "╞═════════╪═════════╪════════════╪════════════╪═══╪════════════╪═══════════╪═══════════╪═══════════╡\n",
       "│ 0       ┆ 0       ┆ 0          ┆ 0          ┆ … ┆ 0          ┆ 0         ┆ 0         ┆ 0         │\n",
       "└─────────┴─────────┴────────────┴────────────┴───┴────────────┴───────────┴───────────┴───────────┘"
      ]
     },
     "execution_count": 28,
     "metadata": {},
     "output_type": "execute_result"
    }
   ],
   "source": [
    "val_df.null_count()"
   ]
  },
  {
   "cell_type": "markdown",
   "metadata": {},
   "source": [
    "#### Flight duration"
   ]
  },
  {
   "cell_type": "code",
   "execution_count": 29,
   "metadata": {},
   "outputs": [
    {
     "data": {
      "text/html": [
       "<div><style>\n",
       ".dataframe > thead > tr,\n",
       ".dataframe > tbody > tr {\n",
       "  text-align: right;\n",
       "  white-space: pre-wrap;\n",
       "}\n",
       "</style>\n",
       "<small>shape: (34, 4)</small><table border=\"1\" class=\"dataframe\"><thead><tr><th>route_id</th><th>carrier</th><th>dur_mean</th><th>dur_std</th></tr><tr><td>u8</td><td>str</td><td>f64</td><td>f64</td></tr></thead><tbody><tr><td>0</td><td>&quot;L1&quot;</td><td>190.58</td><td>5.38</td></tr><tr><td>0</td><td>&quot;U3&quot;</td><td>193.75</td><td>3.53</td></tr><tr><td>1</td><td>&quot;L1&quot;</td><td>188.01</td><td>14.06</td></tr><tr><td>2</td><td>&quot;L1&quot;</td><td>77.51</td><td>7.38</td></tr><tr><td>2</td><td>&quot;OTH&quot;</td><td>73.61</td><td>7.79</td></tr><tr><td>2</td><td>&quot;U3&quot;</td><td>94.24</td><td>1.8</td></tr><tr><td>3</td><td>&quot;L1&quot;</td><td>296.51</td><td>3.91</td></tr><tr><td>3</td><td>&quot;OTH&quot;</td><td>297.09</td><td>3.35</td></tr><tr><td>3</td><td>&quot;U3&quot;</td><td>301.47</td><td>1.35</td></tr><tr><td>4</td><td>&quot;L1&quot;</td><td>83.43</td><td>6.53</td></tr><tr><td>&hellip;</td><td>&hellip;</td><td>&hellip;</td><td>&hellip;</td></tr><tr><td>7</td><td>&quot;U3&quot;</td><td>80.95</td><td>2.04</td></tr><tr><td>8</td><td>&quot;L1&quot;</td><td>278.01</td><td>6.34</td></tr><tr><td>9</td><td>&quot;L1&quot;</td><td>160.51</td><td>4.92</td></tr><tr><td>9</td><td>&quot;L2&quot;</td><td>164.38</td><td>3.99</td></tr><tr><td>10</td><td>&quot;L1&quot;</td><td>171.05</td><td>7.58</td></tr><tr><td>10</td><td>&quot;L2&quot;</td><td>161.22</td><td>5.89</td></tr><tr><td>11</td><td>&quot;L1&quot;</td><td>95.07</td><td>3.11</td></tr><tr><td>11</td><td>&quot;OTH&quot;</td><td>90.69</td><td>3.13</td></tr><tr><td>11</td><td>&quot;U1&quot;</td><td>94.41</td><td>2.95</td></tr><tr><td>11</td><td>&quot;U3&quot;</td><td>99.16</td><td>1.87</td></tr></tbody></table></div>"
      ],
      "text/plain": [
       "shape: (34, 4)\n",
       "┌──────────┬─────────┬──────────┬─────────┐\n",
       "│ route_id ┆ carrier ┆ dur_mean ┆ dur_std │\n",
       "│ ---      ┆ ---     ┆ ---      ┆ ---     │\n",
       "│ u8       ┆ str     ┆ f64      ┆ f64     │\n",
       "╞══════════╪═════════╪══════════╪═════════╡\n",
       "│ 0        ┆ L1      ┆ 190.58   ┆ 5.38    │\n",
       "│ 0        ┆ U3      ┆ 193.75   ┆ 3.53    │\n",
       "│ 1        ┆ L1      ┆ 188.01   ┆ 14.06   │\n",
       "│ 2        ┆ L1      ┆ 77.51    ┆ 7.38    │\n",
       "│ 2        ┆ OTH     ┆ 73.61    ┆ 7.79    │\n",
       "│ 2        ┆ U3      ┆ 94.24    ┆ 1.8     │\n",
       "│ 3        ┆ L1      ┆ 296.51   ┆ 3.91    │\n",
       "│ 3        ┆ OTH     ┆ 297.09   ┆ 3.35    │\n",
       "│ 3        ┆ U3      ┆ 301.47   ┆ 1.35    │\n",
       "│ 4        ┆ L1      ┆ 83.43    ┆ 6.53    │\n",
       "│ …        ┆ …       ┆ …        ┆ …       │\n",
       "│ 7        ┆ U3      ┆ 80.95    ┆ 2.04    │\n",
       "│ 8        ┆ L1      ┆ 278.01   ┆ 6.34    │\n",
       "│ 9        ┆ L1      ┆ 160.51   ┆ 4.92    │\n",
       "│ 9        ┆ L2      ┆ 164.38   ┆ 3.99    │\n",
       "│ 10       ┆ L1      ┆ 171.05   ┆ 7.58    │\n",
       "│ 10       ┆ L2      ┆ 161.22   ┆ 5.89    │\n",
       "│ 11       ┆ L1      ┆ 95.07    ┆ 3.11    │\n",
       "│ 11       ┆ OTH     ┆ 90.69    ┆ 3.13    │\n",
       "│ 11       ┆ U1      ┆ 94.41    ┆ 2.95    │\n",
       "│ 11       ┆ U3      ┆ 99.16    ┆ 1.87    │\n",
       "└──────────┴─────────┴──────────┴─────────┘"
      ]
     },
     "execution_count": 29,
     "metadata": {},
     "output_type": "execute_result"
    }
   ],
   "source": [
    "mean_durations = train_df.group_by('route_id', 'carrier').agg(\n",
    "    pl.col('dur_min').mean().round(2).alias(\"dur_mean\"),\n",
    "    pl.col('dur_min').std().round(2).alias(\"dur_std\")\n",
    ").sort('route_id', 'carrier')\n",
    "\n",
    "mean_durations"
   ]
  },
  {
   "cell_type": "code",
   "execution_count": 30,
   "metadata": {},
   "outputs": [
    {
     "data": {
      "text/plain": [
       "0"
      ]
     },
     "execution_count": 30,
     "metadata": {},
     "output_type": "execute_result"
    }
   ],
   "source": [
    "train_df = train_df.join(\n",
    "    mean_durations.drop('dur_std'),\n",
    "    on = ['route_id', 'carrier'],\n",
    "    how = 'left'\n",
    ").with_columns(\n",
    "    pl.coalesce(['dur_min', 'dur_mean'])\n",
    ")\n",
    "\n",
    "train_df['dur_min'].null_count()"
   ]
  },
  {
   "cell_type": "code",
   "execution_count": 31,
   "metadata": {},
   "outputs": [
    {
     "data": {
      "text/plain": [
       "0"
      ]
     },
     "execution_count": 31,
     "metadata": {},
     "output_type": "execute_result"
    }
   ],
   "source": [
    "val_df = val_df.join(\n",
    "    mean_durations.drop('dur_std'),\n",
    "    on = ['route_id', 'carrier'],\n",
    "    how = 'left'\n",
    ").with_columns(\n",
    "    pl.coalesce(['dur_min', 'dur_mean'])\n",
    ")\n",
    "\n",
    "val_df['dur_min'].null_count()"
   ]
  },
  {
   "cell_type": "markdown",
   "metadata": {},
   "source": [
    "#### Over midnight"
   ]
  },
  {
   "cell_type": "code",
   "execution_count": 32,
   "metadata": {},
   "outputs": [
    {
     "data": {
      "text/html": [
       "<div><style>\n",
       ".dataframe > thead > tr,\n",
       ".dataframe > tbody > tr {\n",
       "  text-align: right;\n",
       "  white-space: pre-wrap;\n",
       "}\n",
       "</style>\n",
       "<small>shape: (3, 2)</small><table border=\"1\" class=\"dataframe\"><thead><tr><th>over_mn</th><th>count</th></tr><tr><td>i8</td><td>u32</td></tr></thead><tbody><tr><td>1</td><td>20725</td></tr><tr><td>0</td><td>1503272</td></tr><tr><td>-1</td><td>96809</td></tr></tbody></table></div>"
      ],
      "text/plain": [
       "shape: (3, 2)\n",
       "┌─────────┬─────────┐\n",
       "│ over_mn ┆ count   │\n",
       "│ ---     ┆ ---     │\n",
       "│ i8      ┆ u32     │\n",
       "╞═════════╪═════════╡\n",
       "│ 1       ┆ 20725   │\n",
       "│ 0       ┆ 1503272 │\n",
       "│ -1      ┆ 96809   │\n",
       "└─────────┴─────────┘"
      ]
     },
     "execution_count": 32,
     "metadata": {},
     "output_type": "execute_result"
    }
   ],
   "source": [
    "train_df = train_df.with_columns(\n",
    "    pl.col('over_mn').fill_null(-1)\n",
    ")\n",
    "\n",
    "train_df['over_mn'].value_counts()"
   ]
  },
  {
   "cell_type": "code",
   "execution_count": 33,
   "metadata": {},
   "outputs": [
    {
     "data": {
      "text/html": [
       "<div><style>\n",
       ".dataframe > thead > tr,\n",
       ".dataframe > tbody > tr {\n",
       "  text-align: right;\n",
       "  white-space: pre-wrap;\n",
       "}\n",
       "</style>\n",
       "<small>shape: (3, 2)</small><table border=\"1\" class=\"dataframe\"><thead><tr><th>over_mn</th><th>count</th></tr><tr><td>i8</td><td>u32</td></tr></thead><tbody><tr><td>-1</td><td>789</td></tr><tr><td>0</td><td>33382</td></tr><tr><td>1</td><td>420</td></tr></tbody></table></div>"
      ],
      "text/plain": [
       "shape: (3, 2)\n",
       "┌─────────┬───────┐\n",
       "│ over_mn ┆ count │\n",
       "│ ---     ┆ ---   │\n",
       "│ i8      ┆ u32   │\n",
       "╞═════════╪═══════╡\n",
       "│ -1      ┆ 789   │\n",
       "│ 0       ┆ 33382 │\n",
       "│ 1       ┆ 420   │\n",
       "└─────────┴───────┘"
      ]
     },
     "execution_count": 33,
     "metadata": {},
     "output_type": "execute_result"
    }
   ],
   "source": [
    "val_df = val_df.with_columns(\n",
    "    pl.col('over_mn').fill_null(-1)\n",
    ")\n",
    "\n",
    "val_df['over_mn'].value_counts()"
   ]
  },
  {
   "cell_type": "markdown",
   "metadata": {},
   "source": [
    "#### Flight counts"
   ]
  },
  {
   "cell_type": "code",
   "execution_count": 34,
   "metadata": {},
   "outputs": [
    {
     "data": {
      "text/html": [
       "<div><style>\n",
       ".dataframe > thead > tr,\n",
       ".dataframe > tbody > tr {\n",
       "  text-align: right;\n",
       "  white-space: pre-wrap;\n",
       "}\n",
       "</style>\n",
       "<small>shape: (4_124, 3)</small><table border=\"1\" class=\"dataframe\"><thead><tr><th>flt_departure_dt</th><th>route_id</th><th>flt_count_dpt_24h</th></tr><tr><td>date</td><td>u8</td><td>u8</td></tr></thead><tbody><tr><td>2018-01-01</td><td>1</td><td>5</td></tr><tr><td>2018-01-01</td><td>4</td><td>30</td></tr><tr><td>2018-01-01</td><td>6</td><td>30</td></tr><tr><td>2018-01-01</td><td>8</td><td>4</td></tr><tr><td>2018-01-01</td><td>9</td><td>7</td></tr><tr><td>2018-01-01</td><td>11</td><td>21</td></tr><tr><td>2018-01-02</td><td>1</td><td>5</td></tr><tr><td>2018-01-02</td><td>4</td><td>30</td></tr><tr><td>2018-01-02</td><td>6</td><td>30</td></tr><tr><td>2018-01-02</td><td>8</td><td>5</td></tr><tr><td>&hellip;</td><td>&hellip;</td><td>&hellip;</td></tr><tr><td>2018-12-31</td><td>2</td><td>7</td></tr><tr><td>2018-12-31</td><td>3</td><td>7</td></tr><tr><td>2018-12-31</td><td>4</td><td>30</td></tr><tr><td>2018-12-31</td><td>5</td><td>21</td></tr><tr><td>2018-12-31</td><td>6</td><td>30</td></tr><tr><td>2018-12-31</td><td>7</td><td>8</td></tr><tr><td>2018-12-31</td><td>8</td><td>4</td></tr><tr><td>2018-12-31</td><td>9</td><td>5</td></tr><tr><td>2018-12-31</td><td>10</td><td>6</td></tr><tr><td>2018-12-31</td><td>11</td><td>21</td></tr></tbody></table></div>"
      ],
      "text/plain": [
       "shape: (4_124, 3)\n",
       "┌──────────────────┬──────────┬───────────────────┐\n",
       "│ flt_departure_dt ┆ route_id ┆ flt_count_dpt_24h │\n",
       "│ ---              ┆ ---      ┆ ---               │\n",
       "│ date             ┆ u8       ┆ u8                │\n",
       "╞══════════════════╪══════════╪═══════════════════╡\n",
       "│ 2018-01-01       ┆ 1        ┆ 5                 │\n",
       "│ 2018-01-01       ┆ 4        ┆ 30                │\n",
       "│ 2018-01-01       ┆ 6        ┆ 30                │\n",
       "│ 2018-01-01       ┆ 8        ┆ 4                 │\n",
       "│ 2018-01-01       ┆ 9        ┆ 7                 │\n",
       "│ 2018-01-01       ┆ 11       ┆ 21                │\n",
       "│ 2018-01-02       ┆ 1        ┆ 5                 │\n",
       "│ 2018-01-02       ┆ 4        ┆ 30                │\n",
       "│ 2018-01-02       ┆ 6        ┆ 30                │\n",
       "│ 2018-01-02       ┆ 8        ┆ 5                 │\n",
       "│ …                ┆ …        ┆ …                 │\n",
       "│ 2018-12-31       ┆ 2        ┆ 7                 │\n",
       "│ 2018-12-31       ┆ 3        ┆ 7                 │\n",
       "│ 2018-12-31       ┆ 4        ┆ 30                │\n",
       "│ 2018-12-31       ┆ 5        ┆ 21                │\n",
       "│ 2018-12-31       ┆ 6        ┆ 30                │\n",
       "│ 2018-12-31       ┆ 7        ┆ 8                 │\n",
       "│ 2018-12-31       ┆ 8        ┆ 4                 │\n",
       "│ 2018-12-31       ┆ 9        ┆ 5                 │\n",
       "│ 2018-12-31       ┆ 10       ┆ 6                 │\n",
       "│ 2018-12-31       ┆ 11       ┆ 21                │\n",
       "└──────────────────┴──────────┴───────────────────┘"
      ]
     },
     "execution_count": 34,
     "metadata": {},
     "output_type": "execute_result"
    }
   ],
   "source": [
    "flight_counts_daily = processed_train_df.filter(\n",
    "    pl.col('flt_count_dpt_24h').is_not_null()\n",
    ").group_by(\n",
    "    'flt_departure_dt', 'route_id'\n",
    ").agg(\n",
    "    pl.col('flt_count_dpt_24h').first()\n",
    ").sort('flt_departure_dt', 'route_id')\n",
    "\n",
    "flight_counts_daily"
   ]
  },
  {
   "cell_type": "code",
   "execution_count": 35,
   "metadata": {},
   "outputs": [
    {
     "data": {
      "text/html": [
       "<div><style>\n",
       ".dataframe > thead > tr,\n",
       ".dataframe > tbody > tr {\n",
       "  text-align: right;\n",
       "  white-space: pre-wrap;\n",
       "}\n",
       "</style>\n",
       "<small>shape: (1, 3)</small><table border=\"1\" class=\"dataframe\"><thead><tr><th>flt_count_dpt_24h</th><th>flt_count_dpt_4h</th><th>dpt_4h_od</th></tr><tr><td>u32</td><td>u32</td><td>u32</td></tr></thead><tbody><tr><td>0</td><td>0</td><td>0</td></tr></tbody></table></div>"
      ],
      "text/plain": [
       "shape: (1, 3)\n",
       "┌───────────────────┬──────────────────┬───────────┐\n",
       "│ flt_count_dpt_24h ┆ flt_count_dpt_4h ┆ dpt_4h_od │\n",
       "│ ---               ┆ ---              ┆ ---       │\n",
       "│ u32               ┆ u32              ┆ u32       │\n",
       "╞═══════════════════╪══════════════════╪═══════════╡\n",
       "│ 0                 ┆ 0                ┆ 0         │\n",
       "└───────────────────┴──────────────────┴───────────┘"
      ]
     },
     "execution_count": 35,
     "metadata": {},
     "output_type": "execute_result"
    }
   ],
   "source": [
    "train_df = train_df.join(\n",
    "    flight_counts_daily,\n",
    "    on = ['flt_departure_dt', 'route_id'],\n",
    "    how = \"left\"\n",
    ").with_columns(\n",
    "    pl.coalesce(['flt_count_dpt_24h', 'flt_count_dpt_24h_right']),\n",
    "    pl.col('flt_count_dpt_4h').fill_null(-1),\n",
    "    pl.col('dpt_4h_od').fill_null(-1)\n",
    ").drop('flt_count_dpt_24h_right')\n",
    "\n",
    "train_df.select(\n",
    "    pl.col('flt_count_dpt_24h', 'flt_count_dpt_4h', 'dpt_4h_od').null_count()\n",
    ")"
   ]
  },
  {
   "cell_type": "code",
   "execution_count": 36,
   "metadata": {},
   "outputs": [
    {
     "data": {
      "text/html": [
       "<div><style>\n",
       ".dataframe > thead > tr,\n",
       ".dataframe > tbody > tr {\n",
       "  text-align: right;\n",
       "  white-space: pre-wrap;\n",
       "}\n",
       "</style>\n",
       "<small>shape: (1, 3)</small><table border=\"1\" class=\"dataframe\"><thead><tr><th>flt_count_dpt_24h</th><th>flt_count_dpt_4h</th><th>dpt_4h_od</th></tr><tr><td>u32</td><td>u32</td><td>u32</td></tr></thead><tbody><tr><td>0</td><td>0</td><td>0</td></tr></tbody></table></div>"
      ],
      "text/plain": [
       "shape: (1, 3)\n",
       "┌───────────────────┬──────────────────┬───────────┐\n",
       "│ flt_count_dpt_24h ┆ flt_count_dpt_4h ┆ dpt_4h_od │\n",
       "│ ---               ┆ ---              ┆ ---       │\n",
       "│ u32               ┆ u32              ┆ u32       │\n",
       "╞═══════════════════╪══════════════════╪═══════════╡\n",
       "│ 0                 ┆ 0                ┆ 0         │\n",
       "└───────────────────┴──────────────────┴───────────┘"
      ]
     },
     "execution_count": 36,
     "metadata": {},
     "output_type": "execute_result"
    }
   ],
   "source": [
    "val_df = val_df.join(\n",
    "    flight_counts_daily,\n",
    "    on = ['flt_departure_dt', 'route_id'],\n",
    "    how = \"left\"\n",
    ").with_columns(\n",
    "    pl.coalesce(['flt_count_dpt_24h', 'flt_count_dpt_24h_right']),\n",
    "    pl.col('flt_count_dpt_4h').fill_null(-1),\n",
    "    pl.col('dpt_4h_od').fill_null(-1)\n",
    ").drop('flt_count_dpt_24h_right')\n",
    "\n",
    "val_df.select(\n",
    "    pl.col('flt_count_dpt_24h', 'flt_count_dpt_4h', 'dpt_4h_od').null_count()\n",
    ")"
   ]
  },
  {
   "cell_type": "markdown",
   "metadata": {},
   "source": [
    "### Training datasets"
   ]
  },
  {
   "cell_type": "code",
   "execution_count": 37,
   "metadata": {},
   "outputs": [
    {
     "data": {
      "text/plain": [
       "((1620806, 20), (34591, 20), (1620806,), (34591,))"
      ]
     },
     "execution_count": 37,
     "metadata": {},
     "output_type": "execute_result"
    }
   ],
   "source": [
    "TRAINING_COLS = [\n",
    "    'carrier', 'days_till_flight', 'origin_id', 'destination_id', 'route_id',\n",
    "    'dur_min', 'flt_info_null', 'days_since_start', 'is_dst',\n",
    "    'flt_departure_month', 'flt_departure_day',\n",
    "    'flt_departure_week', 'flt_departure_weekday',\n",
    "    '7d_route_avg', '14d_route_avg', '7d_route_carrier_avg', 'over_mn',\n",
    "    'flt_count_dpt_24h', 'flt_count_dpt_4h', 'dpt_4h_od'\n",
    "]\n",
    "\n",
    "X_train = train_df.select(TRAINING_COLS)\n",
    "X_val = val_df.select(TRAINING_COLS)\n",
    "\n",
    "y_train = train_df['scaled_fare']\n",
    "y_val = val_df['scaled_fare']\n",
    "\n",
    "X_train.shape, X_val.shape, y_train.shape, y_val.shape"
   ]
  },
  {
   "cell_type": "code",
   "execution_count": 38,
   "metadata": {},
   "outputs": [
    {
     "data": {
      "text/html": [
       "<div><style>\n",
       ".dataframe > thead > tr,\n",
       ".dataframe > tbody > tr {\n",
       "  text-align: right;\n",
       "  white-space: pre-wrap;\n",
       "}\n",
       "</style>\n",
       "<small>shape: (9, 21)</small><table border=\"1\" class=\"dataframe\"><thead><tr><th>statistic</th><th>carrier</th><th>days_till_flight</th><th>origin_id</th><th>destination_id</th><th>route_id</th><th>dur_min</th><th>flt_info_null</th><th>days_since_start</th><th>is_dst</th><th>flt_departure_month</th><th>flt_departure_day</th><th>flt_departure_week</th><th>flt_departure_weekday</th><th>7d_route_avg</th><th>14d_route_avg</th><th>7d_route_carrier_avg</th><th>over_mn</th><th>flt_count_dpt_24h</th><th>flt_count_dpt_4h</th><th>dpt_4h_od</th></tr><tr><td>str</td><td>str</td><td>f64</td><td>f64</td><td>f64</td><td>f64</td><td>f64</td><td>f64</td><td>f64</td><td>f64</td><td>f64</td><td>f64</td><td>f64</td><td>f64</td><td>f64</td><td>f64</td><td>f64</td><td>f64</td><td>f64</td><td>f64</td><td>f64</td></tr></thead><tbody><tr><td>&quot;count&quot;</td><td>&quot;1620806&quot;</td><td>1.620806e6</td><td>1.620806e6</td><td>1.620806e6</td><td>1.620806e6</td><td>1.620806e6</td><td>1.620806e6</td><td>1.620806e6</td><td>1.620806e6</td><td>1.620806e6</td><td>1.620806e6</td><td>1.620806e6</td><td>1.620806e6</td><td>1.620806e6</td><td>1.620806e6</td><td>1.620806e6</td><td>1.620806e6</td><td>1.620806e6</td><td>1.620806e6</td><td>1.620806e6</td></tr><tr><td>&quot;null_count&quot;</td><td>&quot;0&quot;</td><td>0.0</td><td>0.0</td><td>0.0</td><td>0.0</td><td>0.0</td><td>0.0</td><td>0.0</td><td>0.0</td><td>0.0</td><td>0.0</td><td>0.0</td><td>0.0</td><td>0.0</td><td>0.0</td><td>0.0</td><td>0.0</td><td>0.0</td><td>0.0</td><td>0.0</td></tr><tr><td>&quot;mean&quot;</td><td>null</td><td>17.304704</td><td>3.950592</td><td>3.838831</td><td>5.928195</td><td>113.797411</td><td>0.059729</td><td>165.957657</td><td>0.729042</td><td>6.014772</td><td>15.368825</td><td>24.280423</td><td>3.994698</td><td>1.007821</td><td>1.011601</td><td>1.008596</td><td>-0.046942</td><td>23.370649</td><td>4.946685</td><td>2.700262</td></tr><tr><td>&quot;std&quot;</td><td>null</td><td>12.891268</td><td>1.69039</td><td>1.628628</td><td>2.967564</td><td>61.082257</td><td>0.236984</td><td>97.009138</td><td>0.444454</td><td>3.193435</td><td>8.747148</td><td>13.861955</td><td>1.998729</td><td>0.324581</td><td>0.328008</td><td>0.345847</td><td>0.265165</td><td>11.735545</td><td>3.262408</td><td>1.537781</td></tr><tr><td>&quot;min&quot;</td><td>&quot;L1&quot;</td><td>0.0</td><td>0.0</td><td>0.0</td><td>0.0</td><td>60.0</td><td>0.0</td><td>0.0</td><td>0.0</td><td>1.0</td><td>1.0</td><td>1.0</td><td>1.0</td><td>0.450929</td><td>0.450929</td><td>0.42887</td><td>-1.0</td><td>2.0</td><td>-1.0</td><td>-1.0</td></tr><tr><td>&quot;25%&quot;</td><td>null</td><td>8.0</td><td>3.0</td><td>3.0</td><td>4.0</td><td>78.0</td><td>0.0</td><td>86.0</td><td>0.0</td><td>3.0</td><td>8.0</td><td>13.0</td><td>2.0</td><td>0.804092</td><td>0.807531</td><td>0.791476</td><td>0.0</td><td>9.0</td><td>2.0</td><td>2.0</td></tr><tr><td>&quot;50%&quot;</td><td>null</td><td>16.0</td><td>4.0</td><td>3.0</td><td>6.0</td><td>89.0</td><td>0.0</td><td>148.0</td><td>1.0</td><td>5.0</td><td>15.0</td><td>22.0</td><td>4.0</td><td>0.929223</td><td>0.935142</td><td>0.924417</td><td>0.0</td><td>23.0</td><td>5.0</td><td>3.0</td></tr><tr><td>&quot;75%&quot;</td><td>null</td><td>26.0</td><td>5.0</td><td>5.0</td><td>8.0</td><td>102.0</td><td>0.0</td><td>251.0</td><td>1.0</td><td>9.0</td><td>23.0</td><td>36.0</td><td>6.0</td><td>1.113469</td><td>1.113286</td><td>1.117478</td><td>0.0</td><td>35.0</td><td>8.0</td><td>4.0</td></tr><tr><td>&quot;max&quot;</td><td>&quot;U3&quot;</td><td>328.0</td><td>7.0</td><td>7.0</td><td>11.0</td><td>304.0</td><td>1.0</td><td>348.0</td><td>1.0</td><td>12.0</td><td>31.0</td><td>50.0</td><td>7.0</td><td>5.030655</td><td>5.030655</td><td>4.920919</td><td>1.0</td><td>43.0</td><td>12.0</td><td>5.0</td></tr></tbody></table></div>"
      ],
      "text/plain": [
       "shape: (9, 21)\n",
       "┌────────────┬─────────┬───────────┬───────────┬───┬───────────┬───────────┬───────────┬───────────┐\n",
       "│ statistic  ┆ carrier ┆ days_till ┆ origin_id ┆ … ┆ over_mn   ┆ flt_count ┆ flt_count ┆ dpt_4h_od │\n",
       "│ ---        ┆ ---     ┆ _flight   ┆ ---       ┆   ┆ ---       ┆ _dpt_24h  ┆ _dpt_4h   ┆ ---       │\n",
       "│ str        ┆ str     ┆ ---       ┆ f64       ┆   ┆ f64       ┆ ---       ┆ ---       ┆ f64       │\n",
       "│            ┆         ┆ f64       ┆           ┆   ┆           ┆ f64       ┆ f64       ┆           │\n",
       "╞════════════╪═════════╪═══════════╪═══════════╪═══╪═══════════╪═══════════╪═══════════╪═══════════╡\n",
       "│ count      ┆ 1620806 ┆ 1.620806e ┆ 1.620806e ┆ … ┆ 1.620806e ┆ 1.620806e ┆ 1.620806e ┆ 1.620806e │\n",
       "│            ┆         ┆ 6         ┆ 6         ┆   ┆ 6         ┆ 6         ┆ 6         ┆ 6         │\n",
       "│ null_count ┆ 0       ┆ 0.0       ┆ 0.0       ┆ … ┆ 0.0       ┆ 0.0       ┆ 0.0       ┆ 0.0       │\n",
       "│ mean       ┆ null    ┆ 17.304704 ┆ 3.950592  ┆ … ┆ -0.046942 ┆ 23.370649 ┆ 4.946685  ┆ 2.700262  │\n",
       "│ std        ┆ null    ┆ 12.891268 ┆ 1.69039   ┆ … ┆ 0.265165  ┆ 11.735545 ┆ 3.262408  ┆ 1.537781  │\n",
       "│ min        ┆ L1      ┆ 0.0       ┆ 0.0       ┆ … ┆ -1.0      ┆ 2.0       ┆ -1.0      ┆ -1.0      │\n",
       "│ 25%        ┆ null    ┆ 8.0       ┆ 3.0       ┆ … ┆ 0.0       ┆ 9.0       ┆ 2.0       ┆ 2.0       │\n",
       "│ 50%        ┆ null    ┆ 16.0      ┆ 4.0       ┆ … ┆ 0.0       ┆ 23.0      ┆ 5.0       ┆ 3.0       │\n",
       "│ 75%        ┆ null    ┆ 26.0      ┆ 5.0       ┆ … ┆ 0.0       ┆ 35.0      ┆ 8.0       ┆ 4.0       │\n",
       "│ max        ┆ U3      ┆ 328.0     ┆ 7.0       ┆ … ┆ 1.0       ┆ 43.0      ┆ 12.0      ┆ 5.0       │\n",
       "└────────────┴─────────┴───────────┴───────────┴───┴───────────┴───────────┴───────────┴───────────┘"
      ]
     },
     "execution_count": 38,
     "metadata": {},
     "output_type": "execute_result"
    }
   ],
   "source": [
    "X_train.describe()"
   ]
  },
  {
   "cell_type": "code",
   "execution_count": 39,
   "metadata": {},
   "outputs": [
    {
     "data": {
      "text/html": [
       "<div><style>\n",
       ".dataframe > thead > tr,\n",
       ".dataframe > tbody > tr {\n",
       "  text-align: right;\n",
       "  white-space: pre-wrap;\n",
       "}\n",
       "</style>\n",
       "<small>shape: (9, 21)</small><table border=\"1\" class=\"dataframe\"><thead><tr><th>statistic</th><th>carrier</th><th>days_till_flight</th><th>origin_id</th><th>destination_id</th><th>route_id</th><th>dur_min</th><th>flt_info_null</th><th>days_since_start</th><th>is_dst</th><th>flt_departure_month</th><th>flt_departure_day</th><th>flt_departure_week</th><th>flt_departure_weekday</th><th>7d_route_avg</th><th>14d_route_avg</th><th>7d_route_carrier_avg</th><th>over_mn</th><th>flt_count_dpt_24h</th><th>flt_count_dpt_4h</th><th>dpt_4h_od</th></tr><tr><td>str</td><td>str</td><td>f64</td><td>f64</td><td>f64</td><td>f64</td><td>f64</td><td>f64</td><td>f64</td><td>f64</td><td>f64</td><td>f64</td><td>f64</td><td>f64</td><td>f64</td><td>f64</td><td>f64</td><td>f64</td><td>f64</td><td>f64</td><td>f64</td></tr></thead><tbody><tr><td>&quot;count&quot;</td><td>&quot;34591&quot;</td><td>34591.0</td><td>34591.0</td><td>34591.0</td><td>34591.0</td><td>34591.0</td><td>34591.0</td><td>34591.0</td><td>34591.0</td><td>34591.0</td><td>34591.0</td><td>34591.0</td><td>34591.0</td><td>34591.0</td><td>34591.0</td><td>34591.0</td><td>34591.0</td><td>34591.0</td><td>34591.0</td><td>34591.0</td></tr><tr><td>&quot;null_count&quot;</td><td>&quot;0&quot;</td><td>0.0</td><td>0.0</td><td>0.0</td><td>0.0</td><td>0.0</td><td>0.0</td><td>0.0</td><td>0.0</td><td>0.0</td><td>0.0</td><td>0.0</td><td>0.0</td><td>0.0</td><td>0.0</td><td>0.0</td><td>0.0</td><td>0.0</td><td>0.0</td><td>0.0</td></tr><tr><td>&quot;mean&quot;</td><td>null</td><td>19.615536</td><td>3.837096</td><td>3.866295</td><td>5.726865</td><td>116.566335</td><td>0.022809</td><td>352.020901</td><td>0.0</td><td>12.0</td><td>19.020901</td><td>50.8619</td><td>3.987598</td><td>1.048691</td><td>0.902292</td><td>1.099185</td><td>-0.010668</td><td>21.813564</td><td>4.796103</td><td>2.813188</td></tr><tr><td>&quot;std&quot;</td><td>null</td><td>16.052563</td><td>1.699727</td><td>1.692394</td><td>2.986408</td><td>64.209208</td><td>0.149298</td><td>1.989535</td><td>0.0</td><td>0.0</td><td>1.989535</td><td>0.345009</td><td>1.987469</td><td>0.312414</td><td>0.235341</td><td>0.896156</td><td>0.186651</td><td>11.13866</td><td>2.727156</td><td>1.371211</td></tr><tr><td>&quot;min&quot;</td><td>&quot;L1&quot;</td><td>0.0</td><td>0.0</td><td>0.0</td><td>0.0</td><td>63.0</td><td>0.0</td><td>349.0</td><td>0.0</td><td>12.0</td><td>16.0</td><td>50.0</td><td>1.0</td><td>0.567251</td><td>0.598931</td><td>0.567251</td><td>-1.0</td><td>4.0</td><td>-1.0</td><td>-1.0</td></tr><tr><td>&quot;25%&quot;</td><td>null</td><td>9.0</td><td>3.0</td><td>3.0</td><td>4.0</td><td>77.0</td><td>0.0</td><td>350.0</td><td>0.0</td><td>12.0</td><td>17.0</td><td>51.0</td><td>2.0</td><td>0.832538</td><td>0.763113</td><td>0.725328</td><td>0.0</td><td>9.0</td><td>3.0</td><td>2.0</td></tr><tr><td>&quot;50%&quot;</td><td>null</td><td>18.0</td><td>3.0</td><td>3.0</td><td>5.0</td><td>89.0</td><td>0.0</td><td>352.0</td><td>0.0</td><td>12.0</td><td>19.0</td><td>51.0</td><td>4.0</td><td>0.975769</td><td>0.848769</td><td>0.841999</td><td>0.0</td><td>22.0</td><td>5.0</td><td>3.0</td></tr><tr><td>&quot;75%&quot;</td><td>null</td><td>28.0</td><td>5.0</td><td>5.0</td><td>7.0</td><td>153.0</td><td>0.0</td><td>354.0</td><td>0.0</td><td>12.0</td><td>21.0</td><td>51.0</td><td>6.0</td><td>1.161544</td><td>0.928237</td><td>1.009782</td><td>0.0</td><td>33.0</td><td>7.0</td><td>4.0</td></tr><tr><td>&quot;max&quot;</td><td>&quot;U3&quot;</td><td>288.0</td><td>7.0</td><td>7.0</td><td>11.0</td><td>302.0</td><td>1.0</td><td>355.0</td><td>0.0</td><td>12.0</td><td>22.0</td><td>51.0</td><td>7.0</td><td>2.077213</td><td>1.674178</td><td>5.568013</td><td>1.0</td><td>36.0</td><td>10.0</td><td>5.0</td></tr></tbody></table></div>"
      ],
      "text/plain": [
       "shape: (9, 21)\n",
       "┌────────────┬─────────┬───────────┬───────────┬───┬───────────┬───────────┬───────────┬───────────┐\n",
       "│ statistic  ┆ carrier ┆ days_till ┆ origin_id ┆ … ┆ over_mn   ┆ flt_count ┆ flt_count ┆ dpt_4h_od │\n",
       "│ ---        ┆ ---     ┆ _flight   ┆ ---       ┆   ┆ ---       ┆ _dpt_24h  ┆ _dpt_4h   ┆ ---       │\n",
       "│ str        ┆ str     ┆ ---       ┆ f64       ┆   ┆ f64       ┆ ---       ┆ ---       ┆ f64       │\n",
       "│            ┆         ┆ f64       ┆           ┆   ┆           ┆ f64       ┆ f64       ┆           │\n",
       "╞════════════╪═════════╪═══════════╪═══════════╪═══╪═══════════╪═══════════╪═══════════╪═══════════╡\n",
       "│ count      ┆ 34591   ┆ 34591.0   ┆ 34591.0   ┆ … ┆ 34591.0   ┆ 34591.0   ┆ 34591.0   ┆ 34591.0   │\n",
       "│ null_count ┆ 0       ┆ 0.0       ┆ 0.0       ┆ … ┆ 0.0       ┆ 0.0       ┆ 0.0       ┆ 0.0       │\n",
       "│ mean       ┆ null    ┆ 19.615536 ┆ 3.837096  ┆ … ┆ -0.010668 ┆ 21.813564 ┆ 4.796103  ┆ 2.813188  │\n",
       "│ std        ┆ null    ┆ 16.052563 ┆ 1.699727  ┆ … ┆ 0.186651  ┆ 11.13866  ┆ 2.727156  ┆ 1.371211  │\n",
       "│ min        ┆ L1      ┆ 0.0       ┆ 0.0       ┆ … ┆ -1.0      ┆ 4.0       ┆ -1.0      ┆ -1.0      │\n",
       "│ 25%        ┆ null    ┆ 9.0       ┆ 3.0       ┆ … ┆ 0.0       ┆ 9.0       ┆ 3.0       ┆ 2.0       │\n",
       "│ 50%        ┆ null    ┆ 18.0      ┆ 3.0       ┆ … ┆ 0.0       ┆ 22.0      ┆ 5.0       ┆ 3.0       │\n",
       "│ 75%        ┆ null    ┆ 28.0      ┆ 5.0       ┆ … ┆ 0.0       ┆ 33.0      ┆ 7.0       ┆ 4.0       │\n",
       "│ max        ┆ U3      ┆ 288.0     ┆ 7.0       ┆ … ┆ 1.0       ┆ 36.0      ┆ 10.0      ┆ 5.0       │\n",
       "└────────────┴─────────┴───────────┴───────────┴───┴───────────┴───────────┴───────────┴───────────┘"
      ]
     },
     "execution_count": 39,
     "metadata": {},
     "output_type": "execute_result"
    }
   ],
   "source": [
    "X_val.describe()"
   ]
  },
  {
   "cell_type": "markdown",
   "metadata": {},
   "source": [
    "## Modelling"
   ]
  },
  {
   "cell_type": "markdown",
   "metadata": {},
   "source": [
    "### Training"
   ]
  },
  {
   "cell_type": "code",
   "execution_count": 40,
   "metadata": {},
   "outputs": [
    {
     "name": "stdout",
     "output_type": "stream",
     "text": [
      "{'gbr__n_estimators': 200, 'gbr__loss': 'squared_error', 'gbr__learning_rate': 0.05}\n",
      "0 : 893.776\n",
      "\n",
      "{'gbr__n_estimators': 200, 'gbr__loss': 'absolute_error', 'gbr__learning_rate': 0.2}\n",
      "1 : 861.315\n",
      "\n",
      "{'gbr__n_estimators': 250, 'gbr__loss': 'squared_error', 'gbr__learning_rate': 0.2}\n",
      "2 : 754.619\n",
      "\n",
      "{'gbr__n_estimators': 250, 'gbr__loss': 'squared_error', 'gbr__learning_rate': 0.05}\n",
      "3 : 828.722\n",
      "\n",
      "{'gbr__n_estimators': 150, 'gbr__loss': 'squared_error', 'gbr__learning_rate': 0.2}\n",
      "4 : 755.799\n",
      "\n",
      "{'gbr__n_estimators': 200, 'gbr__loss': 'squared_error', 'gbr__learning_rate': 0.01}\n",
      "5 : 1168.780\n",
      "\n",
      "{'gbr__n_estimators': 250, 'gbr__loss': 'absolute_error', 'gbr__learning_rate': 0.05}\n",
      "6 : 1171.596\n",
      "\n",
      "{'gbr__n_estimators': 250, 'gbr__loss': 'squared_error', 'gbr__learning_rate': 0.01}\n",
      "7 : 1166.908\n",
      "\n",
      "Best params:\n",
      "{'gbr__n_estimators': 250, 'gbr__loss': 'squared_error', 'gbr__learning_rate': 0.2}\n"
     ]
    },
    {
     "data": {
      "text/html": [
       "<style>#sk-container-id-1 {\n",
       "  /* Definition of color scheme common for light and dark mode */\n",
       "  --sklearn-color-text: black;\n",
       "  --sklearn-color-line: gray;\n",
       "  /* Definition of color scheme for unfitted estimators */\n",
       "  --sklearn-color-unfitted-level-0: #fff5e6;\n",
       "  --sklearn-color-unfitted-level-1: #f6e4d2;\n",
       "  --sklearn-color-unfitted-level-2: #ffe0b3;\n",
       "  --sklearn-color-unfitted-level-3: chocolate;\n",
       "  /* Definition of color scheme for fitted estimators */\n",
       "  --sklearn-color-fitted-level-0: #f0f8ff;\n",
       "  --sklearn-color-fitted-level-1: #d4ebff;\n",
       "  --sklearn-color-fitted-level-2: #b3dbfd;\n",
       "  --sklearn-color-fitted-level-3: cornflowerblue;\n",
       "\n",
       "  /* Specific color for light theme */\n",
       "  --sklearn-color-text-on-default-background: var(--sg-text-color, var(--theme-code-foreground, var(--jp-content-font-color1, black)));\n",
       "  --sklearn-color-background: var(--sg-background-color, var(--theme-background, var(--jp-layout-color0, white)));\n",
       "  --sklearn-color-border-box: var(--sg-text-color, var(--theme-code-foreground, var(--jp-content-font-color1, black)));\n",
       "  --sklearn-color-icon: #696969;\n",
       "\n",
       "  @media (prefers-color-scheme: dark) {\n",
       "    /* Redefinition of color scheme for dark theme */\n",
       "    --sklearn-color-text-on-default-background: var(--sg-text-color, var(--theme-code-foreground, var(--jp-content-font-color1, white)));\n",
       "    --sklearn-color-background: var(--sg-background-color, var(--theme-background, var(--jp-layout-color0, #111)));\n",
       "    --sklearn-color-border-box: var(--sg-text-color, var(--theme-code-foreground, var(--jp-content-font-color1, white)));\n",
       "    --sklearn-color-icon: #878787;\n",
       "  }\n",
       "}\n",
       "\n",
       "#sk-container-id-1 {\n",
       "  color: var(--sklearn-color-text);\n",
       "}\n",
       "\n",
       "#sk-container-id-1 pre {\n",
       "  padding: 0;\n",
       "}\n",
       "\n",
       "#sk-container-id-1 input.sk-hidden--visually {\n",
       "  border: 0;\n",
       "  clip: rect(1px 1px 1px 1px);\n",
       "  clip: rect(1px, 1px, 1px, 1px);\n",
       "  height: 1px;\n",
       "  margin: -1px;\n",
       "  overflow: hidden;\n",
       "  padding: 0;\n",
       "  position: absolute;\n",
       "  width: 1px;\n",
       "}\n",
       "\n",
       "#sk-container-id-1 div.sk-dashed-wrapped {\n",
       "  border: 1px dashed var(--sklearn-color-line);\n",
       "  margin: 0 0.4em 0.5em 0.4em;\n",
       "  box-sizing: border-box;\n",
       "  padding-bottom: 0.4em;\n",
       "  background-color: var(--sklearn-color-background);\n",
       "}\n",
       "\n",
       "#sk-container-id-1 div.sk-container {\n",
       "  /* jupyter's `normalize.less` sets `[hidden] { display: none; }`\n",
       "     but bootstrap.min.css set `[hidden] { display: none !important; }`\n",
       "     so we also need the `!important` here to be able to override the\n",
       "     default hidden behavior on the sphinx rendered scikit-learn.org.\n",
       "     See: https://github.com/scikit-learn/scikit-learn/issues/21755 */\n",
       "  display: inline-block !important;\n",
       "  position: relative;\n",
       "}\n",
       "\n",
       "#sk-container-id-1 div.sk-text-repr-fallback {\n",
       "  display: none;\n",
       "}\n",
       "\n",
       "div.sk-parallel-item,\n",
       "div.sk-serial,\n",
       "div.sk-item {\n",
       "  /* draw centered vertical line to link estimators */\n",
       "  background-image: linear-gradient(var(--sklearn-color-text-on-default-background), var(--sklearn-color-text-on-default-background));\n",
       "  background-size: 2px 100%;\n",
       "  background-repeat: no-repeat;\n",
       "  background-position: center center;\n",
       "}\n",
       "\n",
       "/* Parallel-specific style estimator block */\n",
       "\n",
       "#sk-container-id-1 div.sk-parallel-item::after {\n",
       "  content: \"\";\n",
       "  width: 100%;\n",
       "  border-bottom: 2px solid var(--sklearn-color-text-on-default-background);\n",
       "  flex-grow: 1;\n",
       "}\n",
       "\n",
       "#sk-container-id-1 div.sk-parallel {\n",
       "  display: flex;\n",
       "  align-items: stretch;\n",
       "  justify-content: center;\n",
       "  background-color: var(--sklearn-color-background);\n",
       "  position: relative;\n",
       "}\n",
       "\n",
       "#sk-container-id-1 div.sk-parallel-item {\n",
       "  display: flex;\n",
       "  flex-direction: column;\n",
       "}\n",
       "\n",
       "#sk-container-id-1 div.sk-parallel-item:first-child::after {\n",
       "  align-self: flex-end;\n",
       "  width: 50%;\n",
       "}\n",
       "\n",
       "#sk-container-id-1 div.sk-parallel-item:last-child::after {\n",
       "  align-self: flex-start;\n",
       "  width: 50%;\n",
       "}\n",
       "\n",
       "#sk-container-id-1 div.sk-parallel-item:only-child::after {\n",
       "  width: 0;\n",
       "}\n",
       "\n",
       "/* Serial-specific style estimator block */\n",
       "\n",
       "#sk-container-id-1 div.sk-serial {\n",
       "  display: flex;\n",
       "  flex-direction: column;\n",
       "  align-items: center;\n",
       "  background-color: var(--sklearn-color-background);\n",
       "  padding-right: 1em;\n",
       "  padding-left: 1em;\n",
       "}\n",
       "\n",
       "\n",
       "/* Toggleable style: style used for estimator/Pipeline/ColumnTransformer box that is\n",
       "clickable and can be expanded/collapsed.\n",
       "- Pipeline and ColumnTransformer use this feature and define the default style\n",
       "- Estimators will overwrite some part of the style using the `sk-estimator` class\n",
       "*/\n",
       "\n",
       "/* Pipeline and ColumnTransformer style (default) */\n",
       "\n",
       "#sk-container-id-1 div.sk-toggleable {\n",
       "  /* Default theme specific background. It is overwritten whether we have a\n",
       "  specific estimator or a Pipeline/ColumnTransformer */\n",
       "  background-color: var(--sklearn-color-background);\n",
       "}\n",
       "\n",
       "/* Toggleable label */\n",
       "#sk-container-id-1 label.sk-toggleable__label {\n",
       "  cursor: pointer;\n",
       "  display: block;\n",
       "  width: 100%;\n",
       "  margin-bottom: 0;\n",
       "  padding: 0.5em;\n",
       "  box-sizing: border-box;\n",
       "  text-align: center;\n",
       "}\n",
       "\n",
       "#sk-container-id-1 label.sk-toggleable__label-arrow:before {\n",
       "  /* Arrow on the left of the label */\n",
       "  content: \"▸\";\n",
       "  float: left;\n",
       "  margin-right: 0.25em;\n",
       "  color: var(--sklearn-color-icon);\n",
       "}\n",
       "\n",
       "#sk-container-id-1 label.sk-toggleable__label-arrow:hover:before {\n",
       "  color: var(--sklearn-color-text);\n",
       "}\n",
       "\n",
       "/* Toggleable content - dropdown */\n",
       "\n",
       "#sk-container-id-1 div.sk-toggleable__content {\n",
       "  max-height: 0;\n",
       "  max-width: 0;\n",
       "  overflow: hidden;\n",
       "  text-align: left;\n",
       "  /* unfitted */\n",
       "  background-color: var(--sklearn-color-unfitted-level-0);\n",
       "}\n",
       "\n",
       "#sk-container-id-1 div.sk-toggleable__content.fitted {\n",
       "  /* fitted */\n",
       "  background-color: var(--sklearn-color-fitted-level-0);\n",
       "}\n",
       "\n",
       "#sk-container-id-1 div.sk-toggleable__content pre {\n",
       "  margin: 0.2em;\n",
       "  border-radius: 0.25em;\n",
       "  color: var(--sklearn-color-text);\n",
       "  /* unfitted */\n",
       "  background-color: var(--sklearn-color-unfitted-level-0);\n",
       "}\n",
       "\n",
       "#sk-container-id-1 div.sk-toggleable__content.fitted pre {\n",
       "  /* unfitted */\n",
       "  background-color: var(--sklearn-color-fitted-level-0);\n",
       "}\n",
       "\n",
       "#sk-container-id-1 input.sk-toggleable__control:checked~div.sk-toggleable__content {\n",
       "  /* Expand drop-down */\n",
       "  max-height: 200px;\n",
       "  max-width: 100%;\n",
       "  overflow: auto;\n",
       "}\n",
       "\n",
       "#sk-container-id-1 input.sk-toggleable__control:checked~label.sk-toggleable__label-arrow:before {\n",
       "  content: \"▾\";\n",
       "}\n",
       "\n",
       "/* Pipeline/ColumnTransformer-specific style */\n",
       "\n",
       "#sk-container-id-1 div.sk-label input.sk-toggleable__control:checked~label.sk-toggleable__label {\n",
       "  color: var(--sklearn-color-text);\n",
       "  background-color: var(--sklearn-color-unfitted-level-2);\n",
       "}\n",
       "\n",
       "#sk-container-id-1 div.sk-label.fitted input.sk-toggleable__control:checked~label.sk-toggleable__label {\n",
       "  background-color: var(--sklearn-color-fitted-level-2);\n",
       "}\n",
       "\n",
       "/* Estimator-specific style */\n",
       "\n",
       "/* Colorize estimator box */\n",
       "#sk-container-id-1 div.sk-estimator input.sk-toggleable__control:checked~label.sk-toggleable__label {\n",
       "  /* unfitted */\n",
       "  background-color: var(--sklearn-color-unfitted-level-2);\n",
       "}\n",
       "\n",
       "#sk-container-id-1 div.sk-estimator.fitted input.sk-toggleable__control:checked~label.sk-toggleable__label {\n",
       "  /* fitted */\n",
       "  background-color: var(--sklearn-color-fitted-level-2);\n",
       "}\n",
       "\n",
       "#sk-container-id-1 div.sk-label label.sk-toggleable__label,\n",
       "#sk-container-id-1 div.sk-label label {\n",
       "  /* The background is the default theme color */\n",
       "  color: var(--sklearn-color-text-on-default-background);\n",
       "}\n",
       "\n",
       "/* On hover, darken the color of the background */\n",
       "#sk-container-id-1 div.sk-label:hover label.sk-toggleable__label {\n",
       "  color: var(--sklearn-color-text);\n",
       "  background-color: var(--sklearn-color-unfitted-level-2);\n",
       "}\n",
       "\n",
       "/* Label box, darken color on hover, fitted */\n",
       "#sk-container-id-1 div.sk-label.fitted:hover label.sk-toggleable__label.fitted {\n",
       "  color: var(--sklearn-color-text);\n",
       "  background-color: var(--sklearn-color-fitted-level-2);\n",
       "}\n",
       "\n",
       "/* Estimator label */\n",
       "\n",
       "#sk-container-id-1 div.sk-label label {\n",
       "  font-family: monospace;\n",
       "  font-weight: bold;\n",
       "  display: inline-block;\n",
       "  line-height: 1.2em;\n",
       "}\n",
       "\n",
       "#sk-container-id-1 div.sk-label-container {\n",
       "  text-align: center;\n",
       "}\n",
       "\n",
       "/* Estimator-specific */\n",
       "#sk-container-id-1 div.sk-estimator {\n",
       "  font-family: monospace;\n",
       "  border: 1px dotted var(--sklearn-color-border-box);\n",
       "  border-radius: 0.25em;\n",
       "  box-sizing: border-box;\n",
       "  margin-bottom: 0.5em;\n",
       "  /* unfitted */\n",
       "  background-color: var(--sklearn-color-unfitted-level-0);\n",
       "}\n",
       "\n",
       "#sk-container-id-1 div.sk-estimator.fitted {\n",
       "  /* fitted */\n",
       "  background-color: var(--sklearn-color-fitted-level-0);\n",
       "}\n",
       "\n",
       "/* on hover */\n",
       "#sk-container-id-1 div.sk-estimator:hover {\n",
       "  /* unfitted */\n",
       "  background-color: var(--sklearn-color-unfitted-level-2);\n",
       "}\n",
       "\n",
       "#sk-container-id-1 div.sk-estimator.fitted:hover {\n",
       "  /* fitted */\n",
       "  background-color: var(--sklearn-color-fitted-level-2);\n",
       "}\n",
       "\n",
       "/* Specification for estimator info (e.g. \"i\" and \"?\") */\n",
       "\n",
       "/* Common style for \"i\" and \"?\" */\n",
       "\n",
       ".sk-estimator-doc-link,\n",
       "a:link.sk-estimator-doc-link,\n",
       "a:visited.sk-estimator-doc-link {\n",
       "  float: right;\n",
       "  font-size: smaller;\n",
       "  line-height: 1em;\n",
       "  font-family: monospace;\n",
       "  background-color: var(--sklearn-color-background);\n",
       "  border-radius: 1em;\n",
       "  height: 1em;\n",
       "  width: 1em;\n",
       "  text-decoration: none !important;\n",
       "  margin-left: 1ex;\n",
       "  /* unfitted */\n",
       "  border: var(--sklearn-color-unfitted-level-1) 1pt solid;\n",
       "  color: var(--sklearn-color-unfitted-level-1);\n",
       "}\n",
       "\n",
       ".sk-estimator-doc-link.fitted,\n",
       "a:link.sk-estimator-doc-link.fitted,\n",
       "a:visited.sk-estimator-doc-link.fitted {\n",
       "  /* fitted */\n",
       "  border: var(--sklearn-color-fitted-level-1) 1pt solid;\n",
       "  color: var(--sklearn-color-fitted-level-1);\n",
       "}\n",
       "\n",
       "/* On hover */\n",
       "div.sk-estimator:hover .sk-estimator-doc-link:hover,\n",
       ".sk-estimator-doc-link:hover,\n",
       "div.sk-label-container:hover .sk-estimator-doc-link:hover,\n",
       ".sk-estimator-doc-link:hover {\n",
       "  /* unfitted */\n",
       "  background-color: var(--sklearn-color-unfitted-level-3);\n",
       "  color: var(--sklearn-color-background);\n",
       "  text-decoration: none;\n",
       "}\n",
       "\n",
       "div.sk-estimator.fitted:hover .sk-estimator-doc-link.fitted:hover,\n",
       ".sk-estimator-doc-link.fitted:hover,\n",
       "div.sk-label-container:hover .sk-estimator-doc-link.fitted:hover,\n",
       ".sk-estimator-doc-link.fitted:hover {\n",
       "  /* fitted */\n",
       "  background-color: var(--sklearn-color-fitted-level-3);\n",
       "  color: var(--sklearn-color-background);\n",
       "  text-decoration: none;\n",
       "}\n",
       "\n",
       "/* Span, style for the box shown on hovering the info icon */\n",
       ".sk-estimator-doc-link span {\n",
       "  display: none;\n",
       "  z-index: 9999;\n",
       "  position: relative;\n",
       "  font-weight: normal;\n",
       "  right: .2ex;\n",
       "  padding: .5ex;\n",
       "  margin: .5ex;\n",
       "  width: min-content;\n",
       "  min-width: 20ex;\n",
       "  max-width: 50ex;\n",
       "  color: var(--sklearn-color-text);\n",
       "  box-shadow: 2pt 2pt 4pt #999;\n",
       "  /* unfitted */\n",
       "  background: var(--sklearn-color-unfitted-level-0);\n",
       "  border: .5pt solid var(--sklearn-color-unfitted-level-3);\n",
       "}\n",
       "\n",
       ".sk-estimator-doc-link.fitted span {\n",
       "  /* fitted */\n",
       "  background: var(--sklearn-color-fitted-level-0);\n",
       "  border: var(--sklearn-color-fitted-level-3);\n",
       "}\n",
       "\n",
       ".sk-estimator-doc-link:hover span {\n",
       "  display: block;\n",
       "}\n",
       "\n",
       "/* \"?\"-specific style due to the `<a>` HTML tag */\n",
       "\n",
       "#sk-container-id-1 a.estimator_doc_link {\n",
       "  float: right;\n",
       "  font-size: 1rem;\n",
       "  line-height: 1em;\n",
       "  font-family: monospace;\n",
       "  background-color: var(--sklearn-color-background);\n",
       "  border-radius: 1rem;\n",
       "  height: 1rem;\n",
       "  width: 1rem;\n",
       "  text-decoration: none;\n",
       "  /* unfitted */\n",
       "  color: var(--sklearn-color-unfitted-level-1);\n",
       "  border: var(--sklearn-color-unfitted-level-1) 1pt solid;\n",
       "}\n",
       "\n",
       "#sk-container-id-1 a.estimator_doc_link.fitted {\n",
       "  /* fitted */\n",
       "  border: var(--sklearn-color-fitted-level-1) 1pt solid;\n",
       "  color: var(--sklearn-color-fitted-level-1);\n",
       "}\n",
       "\n",
       "/* On hover */\n",
       "#sk-container-id-1 a.estimator_doc_link:hover {\n",
       "  /* unfitted */\n",
       "  background-color: var(--sklearn-color-unfitted-level-3);\n",
       "  color: var(--sklearn-color-background);\n",
       "  text-decoration: none;\n",
       "}\n",
       "\n",
       "#sk-container-id-1 a.estimator_doc_link.fitted:hover {\n",
       "  /* fitted */\n",
       "  background-color: var(--sklearn-color-fitted-level-3);\n",
       "}\n",
       "</style><div id=\"sk-container-id-1\" class=\"sk-top-container\"><div class=\"sk-text-repr-fallback\"><pre>Pipeline(steps=[(&#x27;col_transformer&#x27;,\n",
       "                 ColumnTransformer(remainder=&#x27;passthrough&#x27;, sparse_threshold=0,\n",
       "                                   transformers=[(&#x27;ord&#x27;, OrdinalEncoder(),\n",
       "                                                  [&#x27;carrier&#x27;])])),\n",
       "                (&#x27;gbr&#x27;,\n",
       "                 GradientBoostingRegressor(learning_rate=0.2, max_depth=4,\n",
       "                                           n_estimators=250, random_state=7))])</pre><b>In a Jupyter environment, please rerun this cell to show the HTML representation or trust the notebook. <br />On GitHub, the HTML representation is unable to render, please try loading this page with nbviewer.org.</b></div><div class=\"sk-container\" hidden><div class=\"sk-item sk-dashed-wrapped\"><div class=\"sk-label-container\"><div class=\"sk-label fitted sk-toggleable\"><input class=\"sk-toggleable__control sk-hidden--visually\" id=\"sk-estimator-id-1\" type=\"checkbox\" ><label for=\"sk-estimator-id-1\" class=\"sk-toggleable__label fitted sk-toggleable__label-arrow fitted\">&nbsp;&nbsp;Pipeline<a class=\"sk-estimator-doc-link fitted\" rel=\"noreferrer\" target=\"_blank\" href=\"https://scikit-learn.org/1.4/modules/generated/sklearn.pipeline.Pipeline.html\">?<span>Documentation for Pipeline</span></a><span class=\"sk-estimator-doc-link fitted\">i<span>Fitted</span></span></label><div class=\"sk-toggleable__content fitted\"><pre>Pipeline(steps=[(&#x27;col_transformer&#x27;,\n",
       "                 ColumnTransformer(remainder=&#x27;passthrough&#x27;, sparse_threshold=0,\n",
       "                                   transformers=[(&#x27;ord&#x27;, OrdinalEncoder(),\n",
       "                                                  [&#x27;carrier&#x27;])])),\n",
       "                (&#x27;gbr&#x27;,\n",
       "                 GradientBoostingRegressor(learning_rate=0.2, max_depth=4,\n",
       "                                           n_estimators=250, random_state=7))])</pre></div> </div></div><div class=\"sk-serial\"><div class=\"sk-item sk-dashed-wrapped\"><div class=\"sk-label-container\"><div class=\"sk-label fitted sk-toggleable\"><input class=\"sk-toggleable__control sk-hidden--visually\" id=\"sk-estimator-id-2\" type=\"checkbox\" ><label for=\"sk-estimator-id-2\" class=\"sk-toggleable__label fitted sk-toggleable__label-arrow fitted\">&nbsp;col_transformer: ColumnTransformer<a class=\"sk-estimator-doc-link fitted\" rel=\"noreferrer\" target=\"_blank\" href=\"https://scikit-learn.org/1.4/modules/generated/sklearn.compose.ColumnTransformer.html\">?<span>Documentation for col_transformer: ColumnTransformer</span></a></label><div class=\"sk-toggleable__content fitted\"><pre>ColumnTransformer(remainder=&#x27;passthrough&#x27;, sparse_threshold=0,\n",
       "                  transformers=[(&#x27;ord&#x27;, OrdinalEncoder(), [&#x27;carrier&#x27;])])</pre></div> </div></div><div class=\"sk-parallel\"><div class=\"sk-parallel-item\"><div class=\"sk-item\"><div class=\"sk-label-container\"><div class=\"sk-label fitted sk-toggleable\"><input class=\"sk-toggleable__control sk-hidden--visually\" id=\"sk-estimator-id-3\" type=\"checkbox\" ><label for=\"sk-estimator-id-3\" class=\"sk-toggleable__label fitted sk-toggleable__label-arrow fitted\">ord</label><div class=\"sk-toggleable__content fitted\"><pre>[&#x27;carrier&#x27;]</pre></div> </div></div><div class=\"sk-serial\"><div class=\"sk-item\"><div class=\"sk-estimator fitted sk-toggleable\"><input class=\"sk-toggleable__control sk-hidden--visually\" id=\"sk-estimator-id-4\" type=\"checkbox\" ><label for=\"sk-estimator-id-4\" class=\"sk-toggleable__label fitted sk-toggleable__label-arrow fitted\">&nbsp;OrdinalEncoder<a class=\"sk-estimator-doc-link fitted\" rel=\"noreferrer\" target=\"_blank\" href=\"https://scikit-learn.org/1.4/modules/generated/sklearn.preprocessing.OrdinalEncoder.html\">?<span>Documentation for OrdinalEncoder</span></a></label><div class=\"sk-toggleable__content fitted\"><pre>OrdinalEncoder()</pre></div> </div></div></div></div></div><div class=\"sk-parallel-item\"><div class=\"sk-item\"><div class=\"sk-label-container\"><div class=\"sk-label fitted sk-toggleable\"><input class=\"sk-toggleable__control sk-hidden--visually\" id=\"sk-estimator-id-5\" type=\"checkbox\" ><label for=\"sk-estimator-id-5\" class=\"sk-toggleable__label fitted sk-toggleable__label-arrow fitted\">remainder</label><div class=\"sk-toggleable__content fitted\"><pre>[&#x27;days_till_flight&#x27;, &#x27;origin_id&#x27;, &#x27;destination_id&#x27;, &#x27;route_id&#x27;, &#x27;dur_min&#x27;, &#x27;flt_info_null&#x27;, &#x27;days_since_start&#x27;, &#x27;is_dst&#x27;, &#x27;flt_departure_month&#x27;, &#x27;flt_departure_day&#x27;, &#x27;flt_departure_week&#x27;, &#x27;flt_departure_weekday&#x27;, &#x27;7d_route_avg&#x27;, &#x27;14d_route_avg&#x27;, &#x27;7d_route_carrier_avg&#x27;, &#x27;over_mn&#x27;, &#x27;flt_count_dpt_24h&#x27;, &#x27;flt_count_dpt_4h&#x27;, &#x27;dpt_4h_od&#x27;]</pre></div> </div></div><div class=\"sk-serial\"><div class=\"sk-item\"><div class=\"sk-estimator fitted sk-toggleable\"><input class=\"sk-toggleable__control sk-hidden--visually\" id=\"sk-estimator-id-6\" type=\"checkbox\" ><label for=\"sk-estimator-id-6\" class=\"sk-toggleable__label fitted sk-toggleable__label-arrow fitted\">passthrough</label><div class=\"sk-toggleable__content fitted\"><pre>passthrough</pre></div> </div></div></div></div></div></div></div><div class=\"sk-item\"><div class=\"sk-estimator fitted sk-toggleable\"><input class=\"sk-toggleable__control sk-hidden--visually\" id=\"sk-estimator-id-7\" type=\"checkbox\" ><label for=\"sk-estimator-id-7\" class=\"sk-toggleable__label fitted sk-toggleable__label-arrow fitted\">&nbsp;GradientBoostingRegressor<a class=\"sk-estimator-doc-link fitted\" rel=\"noreferrer\" target=\"_blank\" href=\"https://scikit-learn.org/1.4/modules/generated/sklearn.ensemble.GradientBoostingRegressor.html\">?<span>Documentation for GradientBoostingRegressor</span></a></label><div class=\"sk-toggleable__content fitted\"><pre>GradientBoostingRegressor(learning_rate=0.2, max_depth=4, n_estimators=250,\n",
       "                          random_state=7)</pre></div> </div></div></div></div></div></div>"
      ],
      "text/plain": [
       "Pipeline(steps=[('col_transformer',\n",
       "                 ColumnTransformer(remainder='passthrough', sparse_threshold=0,\n",
       "                                   transformers=[('ord', OrdinalEncoder(),\n",
       "                                                  ['carrier'])])),\n",
       "                ('gbr',\n",
       "                 GradientBoostingRegressor(learning_rate=0.2, max_depth=4,\n",
       "                                           n_estimators=250, random_state=7))])"
      ]
     },
     "execution_count": 40,
     "metadata": {},
     "output_type": "execute_result"
    }
   ],
   "source": [
    "pred_fare_expr = pl.lit(10).pow(\n",
    "    (pl.col('pred_scaled_fare') * pl.col('base_fare')) + pl.col('base_fare')\n",
    ").alias('pred_fare')\n",
    "\n",
    "def get_model():\n",
    "    col_transform = ColumnTransformer(\n",
    "        [\n",
    "            (\n",
    "                'ord', \n",
    "                OrdinalEncoder(),\n",
    "                ['carrier']\n",
    "            )\n",
    "        ],\n",
    "        remainder = 'passthrough',\n",
    "        sparse_threshold = 0\n",
    "    )\n",
    "    \n",
    "    return Pipeline(\n",
    "        [\n",
    "            ('col_transformer', col_transform),\n",
    "            (\n",
    "                'gbr', \n",
    "                GradientBoostingRegressor(\n",
    "                    max_depth = 4,\n",
    "                    random_state = 7\n",
    "                )\n",
    "            )\n",
    "        ]\n",
    "    )\n",
    "\n",
    "def train_model(param_grid, n_iter = 5):\n",
    "    param_sampler = ParameterSampler(\n",
    "        param_grid,\n",
    "        n_iter = n_iter,\n",
    "        random_state = 7\n",
    "    )\n",
    "\n",
    "    best_rmse = float('inf')\n",
    "    best_model = None\n",
    "    best_params = None\n",
    "\n",
    "    for i, params in enumerate(list(param_sampler)):\n",
    "        print(f\"{params}\")\n",
    "        model = get_model()\n",
    "        model.set_params(**params)\n",
    "        model.fit(X_train, y_train)\n",
    "\n",
    "        val_preds = val_df.with_columns(\n",
    "            pred_scaled_fare = model.predict(X_val)\n",
    "        ).with_columns(pred_fare_expr)['pred_fare']\n",
    "\n",
    "        rmse = root_mean_squared_error(val_df['total_fare'], val_preds)\n",
    "        print(f\"{i} : {rmse:.3f}\\n\")\n",
    "        \n",
    "        if rmse < best_rmse:\n",
    "            best_rmse = rmse\n",
    "            best_model = model\n",
    "            best_params = params\n",
    "\n",
    "    print(f\"Best params:\\n{best_params}\")\n",
    "    return best_model\n",
    "\n",
    "param_grid = {\n",
    "    \"gbr__loss\": ['squared_error', 'absolute_error'],\n",
    "    \"gbr__n_estimators\": np.linspace(150, 300, 4, dtype = np.int32),\n",
    "    \"gbr__learning_rate\": [0.01, 0.02, 0.05, 0.1, 0.2]\n",
    "}\n",
    "\n",
    "best_model = train_model(param_grid, n_iter = 8)\n",
    "best_model"
   ]
  },
  {
   "cell_type": "markdown",
   "metadata": {},
   "source": [
    "### Predictions"
   ]
  },
  {
   "cell_type": "code",
   "execution_count": 41,
   "metadata": {},
   "outputs": [
    {
     "data": {
      "text/html": [
       "<div><style>\n",
       ".dataframe > thead > tr,\n",
       ".dataframe > tbody > tr {\n",
       "  text-align: right;\n",
       "  white-space: pre-wrap;\n",
       "}\n",
       "</style>\n",
       "<small>shape: (1_620_806, 35)</small><table border=\"1\" class=\"dataframe\"><thead><tr><th>carrier</th><th>flt_num</th><th>flt_departure_dt</th><th>observation_date</th><th>total_fare</th><th>days_till_flight</th><th>is_dst</th><th>route_id</th><th>flt_departure_local_time</th><th>flt_arrival_local_time</th><th>dur_min</th><th>tz_min</th><th>over_mn</th><th>dpt_4h_od</th><th>flt_count_dpt_24h</th><th>flt_count_dpt_4h</th><th>scaled_demand</th><th>scaled_share</th><th>origin_id</th><th>destination_id</th><th>flt_info_null</th><th>base_fare</th><th>log_fare</th><th>scaled_fare</th><th>7d_route_avg</th><th>14d_route_avg</th><th>7d_route_carrier_avg</th><th>days_since_start</th><th>flt_departure_month</th><th>flt_departure_day</th><th>flt_departure_week</th><th>flt_departure_weekday</th><th>dur_mean</th><th>pred_scaled_fare</th><th>pred_fare</th></tr><tr><td>str</td><td>i64</td><td>date</td><td>date</td><td>i64</td><td>i16</td><td>i8</td><td>u8</td><td>datetime[ns]</td><td>datetime[ns]</td><td>f64</td><td>i16</td><td>i8</td><td>i8</td><td>u8</td><td>i16</td><td>i64</td><td>i64</td><td>u8</td><td>u8</td><td>u8</td><td>f64</td><td>f64</td><td>f64</td><td>f64</td><td>f64</td><td>f64</td><td>i64</td><td>i8</td><td>i8</td><td>i8</td><td>i8</td><td>f64</td><td>f64</td><td>f64</td></tr></thead><tbody><tr><td>&quot;L2&quot;</td><td>5242</td><td>2018-01-01</td><td>2017-11-27</td><td>846</td><td>35</td><td>0</td><td>4</td><td>2018-01-01 10:49:00</td><td>2018-01-01 12:14:00</td><td>85.0</td><td>-480</td><td>0</td><td>2</td><td>30</td><td>5</td><td>6659</td><td>212</td><td>3</td><td>4</td><td>0</td><td>2.676879</td><td>2.92737</td><td>0.0936</td><td>1.0</td><td>1.0</td><td>1.0</td><td>0</td><td>1</td><td>1</td><td>1</td><td>1</td><td>86.22</td><td>0.120204</td><td>996.896858</td></tr><tr><td>&quot;OTH&quot;</td><td>4790</td><td>2018-01-01</td><td>2017-11-27</td><td>937</td><td>35</td><td>0</td><td>4</td><td>2018-01-01 14:57:00</td><td>2018-01-01 16:17:00</td><td>80.0</td><td>-480</td><td>0</td><td>3</td><td>30</td><td>8</td><td>6659</td><td>316</td><td>3</td><td>4</td><td>0</td><td>2.593901</td><td>2.97174</td><td>0.1457</td><td>1.0</td><td>1.0</td><td>1.0</td><td>0</td><td>1</td><td>1</td><td>1</td><td>1</td><td>81.33</td><td>0.120491</td><td>806.199941</td></tr><tr><td>&quot;OTH&quot;</td><td>4837</td><td>2018-01-01</td><td>2017-11-27</td><td>281</td><td>35</td><td>0</td><td>6</td><td>2018-01-01 19:38:00</td><td>2018-01-01 20:43:00</td><td>65.0</td><td>-480</td><td>0</td><td>4</td><td>30</td><td>7</td><td>6659</td><td>316</td><td>4</td><td>3</td><td>0</td><td>2.581777</td><td>2.448706</td><td>-0.0515</td><td>1.0</td><td>1.0</td><td>1.0</td><td>0</td><td>1</td><td>1</td><td>1</td><td>1</td><td>71.29</td><td>0.001853</td><td>385.976224</td></tr><tr><td>&quot;L2&quot;</td><td>5314</td><td>2018-01-01</td><td>2017-11-27</td><td>403</td><td>35</td><td>0</td><td>6</td><td>2018-01-01 19:05:00</td><td>2018-01-01 20:17:00</td><td>72.0</td><td>-480</td><td>0</td><td>4</td><td>30</td><td>7</td><td>6659</td><td>213</td><td>4</td><td>3</td><td>0</td><td>2.657775</td><td>2.605305</td><td>-0.0197</td><td>1.0</td><td>1.0</td><td>1.0</td><td>0</td><td>1</td><td>1</td><td>1</td><td>1</td><td>78.14</td><td>0.010624</td><td>485.300732</td></tr><tr><td>&quot;OTH&quot;</td><td>6187</td><td>2018-01-01</td><td>2017-11-27</td><td>341</td><td>35</td><td>0</td><td>11</td><td>2018-01-01 20:30:00</td><td>2018-01-01 21:58:00</td><td>88.0</td><td>-480</td><td>0</td><td>5</td><td>21</td><td>5</td><td>6579</td><td>354</td><td>7</td><td>3</td><td>0</td><td>2.72979</td><td>2.532754</td><td>-0.0722</td><td>1.0</td><td>1.0</td><td>1.0</td><td>0</td><td>1</td><td>1</td><td>1</td><td>1</td><td>90.69</td><td>-0.073574</td><td>338.024751</td></tr><tr><td>&quot;U1&quot;</td><td>4771</td><td>2018-01-01</td><td>2017-11-27</td><td>513</td><td>35</td><td>0</td><td>4</td><td>null</td><td>null</td><td>79.76</td><td>null</td><td>-1</td><td>-1</td><td>30</td><td>-1</td><td>null</td><td>null</td><td>3</td><td>4</td><td>1</td><td>2.637585</td><td>2.710117</td><td>0.0275</td><td>1.0</td><td>1.0</td><td>1.0</td><td>0</td><td>1</td><td>1</td><td>1</td><td>1</td><td>79.76</td><td>0.098439</td><td>789.269508</td></tr><tr><td>&quot;L3&quot;</td><td>15130</td><td>2018-01-01</td><td>2017-11-27</td><td>1298</td><td>35</td><td>0</td><td>4</td><td>2018-01-01 16:53:00</td><td>2018-01-01 18:19:00</td><td>86.0</td><td>-480</td><td>0</td><td>4</td><td>30</td><td>7</td><td>6659</td><td>231</td><td>3</td><td>4</td><td>0</td><td>2.764205</td><td>3.113275</td><td>0.1263</td><td>1.0</td><td>1.0</td><td>1.0</td><td>0</td><td>1</td><td>1</td><td>1</td><td>1</td><td>79.05</td><td>0.0949</td><td>1062.98546</td></tr><tr><td>&quot;L1&quot;</td><td>1396</td><td>2018-01-01</td><td>2017-11-27</td><td>372</td><td>35</td><td>0</td><td>11</td><td>2018-01-01 19:35:00</td><td>2018-01-01 21:08:00</td><td>93.0</td><td>-480</td><td>0</td><td>4</td><td>21</td><td>7</td><td>6579</td><td>262</td><td>7</td><td>3</td><td>0</td><td>2.764388</td><td>2.570543</td><td>-0.0701</td><td>1.0</td><td>1.0</td><td>1.0</td><td>0</td><td>1</td><td>1</td><td>1</td><td>1</td><td>95.07</td><td>-0.072551</td><td>366.293096</td></tr><tr><td>&quot;L1&quot;</td><td>6316</td><td>2018-01-01</td><td>2017-11-27</td><td>1119</td><td>35</td><td>0</td><td>1</td><td>2018-01-01 12:31:00</td><td>2018-01-01 15:55:00</td><td>204.0</td><td>-300</td><td>0</td><td>3</td><td>5</td><td>2</td><td>1468</td><td>360</td><td>1</td><td>5</td><td>0</td><td>2.986374</td><td>3.04883</td><td>0.0209</td><td>1.0</td><td>1.0</td><td>1.0</td><td>0</td><td>1</td><td>1</td><td>1</td><td>1</td><td>188.01</td><td>0.058317</td><td>1447.206853</td></tr><tr><td>&quot;L1&quot;</td><td>4605</td><td>2018-01-01</td><td>2017-11-27</td><td>372</td><td>35</td><td>0</td><td>11</td><td>2018-01-01 17:18:00</td><td>2018-01-01 18:57:00</td><td>99.0</td><td>-480</td><td>0</td><td>4</td><td>21</td><td>7</td><td>6579</td><td>262</td><td>7</td><td>3</td><td>0</td><td>2.764388</td><td>2.570543</td><td>-0.0701</td><td>1.0</td><td>1.0</td><td>1.0</td><td>0</td><td>1</td><td>1</td><td>1</td><td>1</td><td>95.07</td><td>-0.074423</td><td>361.955323</td></tr><tr><td>&hellip;</td><td>&hellip;</td><td>&hellip;</td><td>&hellip;</td><td>&hellip;</td><td>&hellip;</td><td>&hellip;</td><td>&hellip;</td><td>&hellip;</td><td>&hellip;</td><td>&hellip;</td><td>&hellip;</td><td>&hellip;</td><td>&hellip;</td><td>&hellip;</td><td>&hellip;</td><td>&hellip;</td><td>&hellip;</td><td>&hellip;</td><td>&hellip;</td><td>&hellip;</td><td>&hellip;</td><td>&hellip;</td><td>&hellip;</td><td>&hellip;</td><td>&hellip;</td><td>&hellip;</td><td>&hellip;</td><td>&hellip;</td><td>&hellip;</td><td>&hellip;</td><td>&hellip;</td><td>&hellip;</td><td>&hellip;</td><td>&hellip;</td></tr><tr><td>&quot;U1&quot;</td><td>6128</td><td>2018-12-15</td><td>2018-12-15</td><td>1111</td><td>0</td><td>0</td><td>5</td><td>2018-12-15 09:35:00</td><td>2018-12-15 11:12:00</td><td>97.0</td><td>-480</td><td>0</td><td>2</td><td>20</td><td>6</td><td>5817</td><td>252</td><td>3</td><td>7</td><td>0</td><td>2.794299</td><td>3.045714</td><td>0.09</td><td>0.762317</td><td>1.021279</td><td>0.789983</td><td>348</td><td>12</td><td>15</td><td>50</td><td>6</td><td>97.96</td><td>0.085816</td><td>1081.672483</td></tr><tr><td>&quot;L2&quot;</td><td>9051</td><td>2018-12-15</td><td>2018-12-15</td><td>395</td><td>0</td><td>0</td><td>6</td><td>2018-12-15 18:10:00</td><td>2018-12-15 19:22:00</td><td>72.0</td><td>-480</td><td>0</td><td>4</td><td>33</td><td>11</td><td>7128</td><td>224</td><td>4</td><td>3</td><td>0</td><td>2.657775</td><td>2.596597</td><td>-0.023</td><td>0.895414</td><td>0.821364</td><td>0.752834</td><td>348</td><td>12</td><td>15</td><td>50</td><td>6</td><td>78.14</td><td>-0.007255</td><td>435.003702</td></tr><tr><td>&quot;L1&quot;</td><td>5836</td><td>2018-12-15</td><td>2018-12-15</td><td>395</td><td>0</td><td>0</td><td>4</td><td>2018-12-15 10:40:00</td><td>2018-12-15 11:56:00</td><td>76.0</td><td>-480</td><td>0</td><td>2</td><td>30</td><td>7</td><td>7128</td><td>189</td><td>3</td><td>4</td><td>0</td><td>2.669455</td><td>2.596597</td><td>-0.0273</td><td>1.174048</td><td>1.479917</td><td>0.682406</td><td>348</td><td>12</td><td>15</td><td>50</td><td>6</td><td>83.43</td><td>0.00466</td><td>480.722641</td></tr><tr><td>&quot;U1&quot;</td><td>6165</td><td>2018-12-15</td><td>2018-12-15</td><td>1111</td><td>0</td><td>0</td><td>5</td><td>2018-12-15 15:05:00</td><td>2018-12-15 16:44:00</td><td>99.0</td><td>-480</td><td>0</td><td>3</td><td>20</td><td>4</td><td>5817</td><td>252</td><td>3</td><td>7</td><td>0</td><td>2.794299</td><td>3.045714</td><td>0.09</td><td>0.762317</td><td>1.021279</td><td>0.789983</td><td>348</td><td>12</td><td>15</td><td>50</td><td>6</td><td>97.96</td><td>0.084796</td><td>1074.596345</td></tr><tr><td>&quot;U1&quot;</td><td>6153</td><td>2018-12-15</td><td>2018-12-15</td><td>1111</td><td>0</td><td>0</td><td>5</td><td>2018-12-15 17:00:00</td><td>2018-12-15 18:39:00</td><td>99.0</td><td>-480</td><td>0</td><td>4</td><td>20</td><td>8</td><td>5817</td><td>252</td><td>3</td><td>7</td><td>0</td><td>2.794299</td><td>3.045714</td><td>0.09</td><td>0.762317</td><td>1.021279</td><td>0.789983</td><td>348</td><td>12</td><td>15</td><td>50</td><td>6</td><td>97.96</td><td>0.087014</td><td>1090.038581</td></tr><tr><td>&quot;L2&quot;</td><td>7402</td><td>2018-12-15</td><td>2018-12-15</td><td>671</td><td>0</td><td>0</td><td>6</td><td>2018-12-15 14:10:00</td><td>2018-12-15 15:22:00</td><td>72.0</td><td>-480</td><td>0</td><td>3</td><td>33</td><td>9</td><td>7128</td><td>224</td><td>4</td><td>3</td><td>0</td><td>2.657775</td><td>2.826723</td><td>0.0636</td><td>0.895414</td><td>0.821364</td><td>0.752834</td><td>348</td><td>12</td><td>15</td><td>50</td><td>6</td><td>78.14</td><td>0.015859</td><td>501.100896</td></tr><tr><td>&quot;U3&quot;</td><td>768</td><td>2018-12-15</td><td>2018-12-15</td><td>357</td><td>0</td><td>0</td><td>0</td><td>2018-12-15 20:20:00</td><td>2018-12-15 23:31:00</td><td>191.0</td><td>-420</td><td>0</td><td>5</td><td>6</td><td>1</td><td>3070</td><td>179</td><td>0</td><td>5</td><td>0</td><td>2.72147</td><td>2.552668</td><td>-0.062</td><td>0.691084</td><td>0.734515</td><td>0.671502</td><td>348</td><td>12</td><td>15</td><td>50</td><td>6</td><td>193.75</td><td>0.006</td><td>546.764474</td></tr><tr><td>&quot;L1&quot;</td><td>10838</td><td>2018-12-15</td><td>2018-12-15</td><td>1346</td><td>0</td><td>0</td><td>8</td><td>2018-12-15 16:15:00</td><td>2018-12-15 20:59:00</td><td>284.0</td><td>-360</td><td>0</td><td>4</td><td>4</td><td>1</td><td>2164</td><td>373</td><td>5</td><td>1</td><td>0</td><td>3.0167</td><td>3.129045</td><td>0.0372</td><td>0.82141</td><td>0.592169</td><td>0.82141</td><td>348</td><td>12</td><td>15</td><td>50</td><td>6</td><td>278.01</td><td>0.056072</td><td>1534.099447</td></tr><tr><td>&quot;L1&quot;</td><td>4781</td><td>2018-12-15</td><td>2018-12-15</td><td>1067</td><td>0</td><td>0</td><td>7</td><td>2018-12-15 07:40:00</td><td>2018-12-15 08:50:00</td><td>70.0</td><td>-360</td><td>0</td><td>1</td><td>6</td><td>4</td><td>3070</td><td>272</td><td>5</td><td>0</td><td>0</td><td>2.85592</td><td>3.028164</td><td>0.0603</td><td>0.639658</td><td>0.630274</td><td>0.637189</td><td>348</td><td>12</td><td>15</td><td>50</td><td>6</td><td>74.68</td><td>0.058441</td><td>1053.954733</td></tr><tr><td>&quot;L2&quot;</td><td>5274</td><td>2018-12-15</td><td>2018-12-15</td><td>1742</td><td>0</td><td>0</td><td>9</td><td>2018-12-15 11:03:00</td><td>2018-12-15 13:44:00</td><td>161.0</td><td>-360</td><td>0</td><td>2</td><td>6</td><td>2</td><td>1618</td><td>310</td><td>5</td><td>6</td><td>0</td><td>2.944469</td><td>3.241048</td><td>0.1007</td><td>0.891693</td><td>0.895634</td><td>0.93872</td><td>348</td><td>12</td><td>15</td><td>50</td><td>6</td><td>164.38</td><td>0.113685</td><td>1901.994742</td></tr></tbody></table></div>"
      ],
      "text/plain": [
       "shape: (1_620_806, 35)\n",
       "┌─────────┬─────────┬────────────┬────────────┬───┬────────────┬──────────┬────────────┬───────────┐\n",
       "│ carrier ┆ flt_num ┆ flt_depart ┆ observatio ┆ … ┆ flt_depart ┆ dur_mean ┆ pred_scale ┆ pred_fare │\n",
       "│ ---     ┆ ---     ┆ ure_dt     ┆ n_date     ┆   ┆ ure_weekda ┆ ---      ┆ d_fare     ┆ ---       │\n",
       "│ str     ┆ i64     ┆ ---        ┆ ---        ┆   ┆ y          ┆ f64      ┆ ---        ┆ f64       │\n",
       "│         ┆         ┆ date       ┆ date       ┆   ┆ ---        ┆          ┆ f64        ┆           │\n",
       "│         ┆         ┆            ┆            ┆   ┆ i8         ┆          ┆            ┆           │\n",
       "╞═════════╪═════════╪════════════╪════════════╪═══╪════════════╪══════════╪════════════╪═══════════╡\n",
       "│ L2      ┆ 5242    ┆ 2018-01-01 ┆ 2017-11-27 ┆ … ┆ 1          ┆ 86.22    ┆ 0.120204   ┆ 996.89685 │\n",
       "│         ┆         ┆            ┆            ┆   ┆            ┆          ┆            ┆ 8         │\n",
       "│ OTH     ┆ 4790    ┆ 2018-01-01 ┆ 2017-11-27 ┆ … ┆ 1          ┆ 81.33    ┆ 0.120491   ┆ 806.19994 │\n",
       "│         ┆         ┆            ┆            ┆   ┆            ┆          ┆            ┆ 1         │\n",
       "│ OTH     ┆ 4837    ┆ 2018-01-01 ┆ 2017-11-27 ┆ … ┆ 1          ┆ 71.29    ┆ 0.001853   ┆ 385.97622 │\n",
       "│         ┆         ┆            ┆            ┆   ┆            ┆          ┆            ┆ 4         │\n",
       "│ L2      ┆ 5314    ┆ 2018-01-01 ┆ 2017-11-27 ┆ … ┆ 1          ┆ 78.14    ┆ 0.010624   ┆ 485.30073 │\n",
       "│         ┆         ┆            ┆            ┆   ┆            ┆          ┆            ┆ 2         │\n",
       "│ OTH     ┆ 6187    ┆ 2018-01-01 ┆ 2017-11-27 ┆ … ┆ 1          ┆ 90.69    ┆ -0.073574  ┆ 338.02475 │\n",
       "│         ┆         ┆            ┆            ┆   ┆            ┆          ┆            ┆ 1         │\n",
       "│ U1      ┆ 4771    ┆ 2018-01-01 ┆ 2017-11-27 ┆ … ┆ 1          ┆ 79.76    ┆ 0.098439   ┆ 789.26950 │\n",
       "│         ┆         ┆            ┆            ┆   ┆            ┆          ┆            ┆ 8         │\n",
       "│ L3      ┆ 15130   ┆ 2018-01-01 ┆ 2017-11-27 ┆ … ┆ 1          ┆ 79.05    ┆ 0.0949     ┆ 1062.9854 │\n",
       "│         ┆         ┆            ┆            ┆   ┆            ┆          ┆            ┆ 6         │\n",
       "│ L1      ┆ 1396    ┆ 2018-01-01 ┆ 2017-11-27 ┆ … ┆ 1          ┆ 95.07    ┆ -0.072551  ┆ 366.29309 │\n",
       "│         ┆         ┆            ┆            ┆   ┆            ┆          ┆            ┆ 6         │\n",
       "│ L1      ┆ 6316    ┆ 2018-01-01 ┆ 2017-11-27 ┆ … ┆ 1          ┆ 188.01   ┆ 0.058317   ┆ 1447.2068 │\n",
       "│         ┆         ┆            ┆            ┆   ┆            ┆          ┆            ┆ 53        │\n",
       "│ L1      ┆ 4605    ┆ 2018-01-01 ┆ 2017-11-27 ┆ … ┆ 1          ┆ 95.07    ┆ -0.074423  ┆ 361.95532 │\n",
       "│         ┆         ┆            ┆            ┆   ┆            ┆          ┆            ┆ 3         │\n",
       "│ …       ┆ …       ┆ …          ┆ …          ┆ … ┆ …          ┆ …        ┆ …          ┆ …         │\n",
       "│ U1      ┆ 6128    ┆ 2018-12-15 ┆ 2018-12-15 ┆ … ┆ 6          ┆ 97.96    ┆ 0.085816   ┆ 1081.6724 │\n",
       "│         ┆         ┆            ┆            ┆   ┆            ┆          ┆            ┆ 83        │\n",
       "│ L2      ┆ 9051    ┆ 2018-12-15 ┆ 2018-12-15 ┆ … ┆ 6          ┆ 78.14    ┆ -0.007255  ┆ 435.00370 │\n",
       "│         ┆         ┆            ┆            ┆   ┆            ┆          ┆            ┆ 2         │\n",
       "│ L1      ┆ 5836    ┆ 2018-12-15 ┆ 2018-12-15 ┆ … ┆ 6          ┆ 83.43    ┆ 0.00466    ┆ 480.72264 │\n",
       "│         ┆         ┆            ┆            ┆   ┆            ┆          ┆            ┆ 1         │\n",
       "│ U1      ┆ 6165    ┆ 2018-12-15 ┆ 2018-12-15 ┆ … ┆ 6          ┆ 97.96    ┆ 0.084796   ┆ 1074.5963 │\n",
       "│         ┆         ┆            ┆            ┆   ┆            ┆          ┆            ┆ 45        │\n",
       "│ U1      ┆ 6153    ┆ 2018-12-15 ┆ 2018-12-15 ┆ … ┆ 6          ┆ 97.96    ┆ 0.087014   ┆ 1090.0385 │\n",
       "│         ┆         ┆            ┆            ┆   ┆            ┆          ┆            ┆ 81        │\n",
       "│ L2      ┆ 7402    ┆ 2018-12-15 ┆ 2018-12-15 ┆ … ┆ 6          ┆ 78.14    ┆ 0.015859   ┆ 501.10089 │\n",
       "│         ┆         ┆            ┆            ┆   ┆            ┆          ┆            ┆ 6         │\n",
       "│ U3      ┆ 768     ┆ 2018-12-15 ┆ 2018-12-15 ┆ … ┆ 6          ┆ 193.75   ┆ 0.006      ┆ 546.76447 │\n",
       "│         ┆         ┆            ┆            ┆   ┆            ┆          ┆            ┆ 4         │\n",
       "│ L1      ┆ 10838   ┆ 2018-12-15 ┆ 2018-12-15 ┆ … ┆ 6          ┆ 278.01   ┆ 0.056072   ┆ 1534.0994 │\n",
       "│         ┆         ┆            ┆            ┆   ┆            ┆          ┆            ┆ 47        │\n",
       "│ L1      ┆ 4781    ┆ 2018-12-15 ┆ 2018-12-15 ┆ … ┆ 6          ┆ 74.68    ┆ 0.058441   ┆ 1053.9547 │\n",
       "│         ┆         ┆            ┆            ┆   ┆            ┆          ┆            ┆ 33        │\n",
       "│ L2      ┆ 5274    ┆ 2018-12-15 ┆ 2018-12-15 ┆ … ┆ 6          ┆ 164.38   ┆ 0.113685   ┆ 1901.9947 │\n",
       "│         ┆         ┆            ┆            ┆   ┆            ┆          ┆            ┆ 42        │\n",
       "└─────────┴─────────┴────────────┴────────────┴───┴────────────┴──────────┴────────────┴───────────┘"
      ]
     },
     "execution_count": 41,
     "metadata": {},
     "output_type": "execute_result"
    }
   ],
   "source": [
    "train_df = train_df.with_columns(\n",
    "    pred_scaled_fare = best_model.predict(X_train)\n",
    ").with_columns(pred_fare_expr)\n",
    "\n",
    "train_df"
   ]
  },
  {
   "cell_type": "code",
   "execution_count": 42,
   "metadata": {},
   "outputs": [
    {
     "data": {
      "text/html": [
       "<div><style>\n",
       ".dataframe > thead > tr,\n",
       ".dataframe > tbody > tr {\n",
       "  text-align: right;\n",
       "  white-space: pre-wrap;\n",
       "}\n",
       "</style>\n",
       "<small>shape: (34_591, 35)</small><table border=\"1\" class=\"dataframe\"><thead><tr><th>carrier</th><th>flt_num</th><th>flt_departure_dt</th><th>observation_date</th><th>total_fare</th><th>days_till_flight</th><th>is_dst</th><th>route_id</th><th>flt_departure_local_time</th><th>flt_arrival_local_time</th><th>dur_min</th><th>tz_min</th><th>over_mn</th><th>dpt_4h_od</th><th>flt_count_dpt_24h</th><th>flt_count_dpt_4h</th><th>scaled_demand</th><th>scaled_share</th><th>origin_id</th><th>destination_id</th><th>flt_info_null</th><th>base_fare</th><th>log_fare</th><th>scaled_fare</th><th>7d_route_avg</th><th>14d_route_avg</th><th>7d_route_carrier_avg</th><th>days_since_start</th><th>flt_departure_month</th><th>flt_departure_day</th><th>flt_departure_week</th><th>flt_departure_weekday</th><th>dur_mean</th><th>pred_scaled_fare</th><th>pred_fare</th></tr><tr><td>str</td><td>i64</td><td>date</td><td>date</td><td>i64</td><td>i16</td><td>i8</td><td>u8</td><td>datetime[ns]</td><td>datetime[ns]</td><td>f64</td><td>i16</td><td>i8</td><td>i8</td><td>u8</td><td>i16</td><td>i64</td><td>i64</td><td>u8</td><td>u8</td><td>u8</td><td>f64</td><td>f64</td><td>f64</td><td>f64</td><td>f64</td><td>f64</td><td>i64</td><td>i8</td><td>i8</td><td>i8</td><td>i8</td><td>f64</td><td>f64</td><td>f64</td></tr></thead><tbody><tr><td>&quot;L1&quot;</td><td>2724</td><td>2018-12-16</td><td>2018-03-26</td><td>783</td><td>265</td><td>0</td><td>8</td><td>2018-12-16 06:35:00</td><td>2018-12-16 11:00:00</td><td>265.0</td><td>-360</td><td>0</td><td>1</td><td>5</td><td>2</td><td>2164</td><td>373</td><td>5</td><td>1</td><td>0</td><td>3.0167</td><td>2.893762</td><td>-0.0408</td><td>0.798736</td><td>0.897825</td><td>0.798736</td><td>349</td><td>12</td><td>16</td><td>50</td><td>7</td><td>278.01</td><td>-0.069174</td><td>642.720189</td></tr><tr><td>&quot;L1&quot;</td><td>6517</td><td>2018-12-16</td><td>2018-03-26</td><td>1436</td><td>265</td><td>0</td><td>8</td><td>2018-12-16 16:15:00</td><td>2018-12-16 20:52:00</td><td>277.0</td><td>-360</td><td>0</td><td>4</td><td>5</td><td>1</td><td>2164</td><td>373</td><td>5</td><td>1</td><td>0</td><td>3.0167</td><td>3.157154</td><td>0.0466</td><td>0.798736</td><td>0.897825</td><td>0.798736</td><td>349</td><td>12</td><td>16</td><td>50</td><td>7</td><td>278.01</td><td>-0.026959</td><td>861.734349</td></tr><tr><td>&quot;L1&quot;</td><td>2997</td><td>2018-12-16</td><td>2018-03-26</td><td>1066</td><td>265</td><td>0</td><td>8</td><td>2018-12-16 11:34:00</td><td>2018-12-16 16:10:00</td><td>276.0</td><td>-360</td><td>0</td><td>2</td><td>5</td><td>1</td><td>2164</td><td>373</td><td>5</td><td>1</td><td>0</td><td>3.0167</td><td>3.027757</td><td>0.0037</td><td>0.798736</td><td>0.897825</td><td>0.798736</td><td>349</td><td>12</td><td>16</td><td>50</td><td>7</td><td>278.01</td><td>-0.022301</td><td>890.074357</td></tr><tr><td>&quot;U1&quot;</td><td>6385</td><td>2018-12-16</td><td>2018-10-17</td><td>410</td><td>60</td><td>0</td><td>4</td><td>2018-12-16 07:00:00</td><td>2018-12-16 08:15:00</td><td>75.0</td><td>-480</td><td>0</td><td>1</td><td>36</td><td>7</td><td>7128</td><td>193</td><td>3</td><td>4</td><td>0</td><td>2.637585</td><td>2.612784</td><td>-0.0094</td><td>1.888463</td><td>1.419032</td><td>1.578655</td><td>349</td><td>12</td><td>16</td><td>50</td><td>7</td><td>79.76</td><td>0.003923</td><td>444.561227</td></tr><tr><td>&quot;U1&quot;</td><td>6128</td><td>2018-12-16</td><td>2018-10-17</td><td>511</td><td>60</td><td>0</td><td>5</td><td>2018-12-16 09:35:00</td><td>2018-12-16 11:12:00</td><td>97.0</td><td>-480</td><td>0</td><td>2</td><td>21</td><td>6</td><td>5817</td><td>252</td><td>3</td><td>7</td><td>0</td><td>2.794299</td><td>2.708421</td><td>-0.0307</td><td>1.547979</td><td>1.674178</td><td>1.434252</td><td>349</td><td>12</td><td>16</td><td>50</td><td>7</td><td>97.96</td><td>0.02695</td><td>740.637016</td></tr><tr><td>&quot;U1&quot;</td><td>6140</td><td>2018-12-16</td><td>2018-10-17</td><td>658</td><td>60</td><td>0</td><td>5</td><td>2018-12-16 13:38:00</td><td>2018-12-16 15:17:00</td><td>99.0</td><td>-480</td><td>0</td><td>3</td><td>21</td><td>4</td><td>5817</td><td>252</td><td>3</td><td>7</td><td>0</td><td>2.794299</td><td>2.818226</td><td>0.0086</td><td>1.547979</td><td>1.674178</td><td>1.434252</td><td>349</td><td>12</td><td>16</td><td>50</td><td>7</td><td>97.96</td><td>0.045289</td><td>833.394203</td></tr><tr><td>&quot;U1&quot;</td><td>3842</td><td>2018-12-16</td><td>2018-10-17</td><td>379</td><td>60</td><td>0</td><td>4</td><td>2018-12-16 06:15:00</td><td>2018-12-16 07:25:00</td><td>70.0</td><td>-480</td><td>0</td><td>1</td><td>36</td><td>7</td><td>7128</td><td>193</td><td>3</td><td>4</td><td>0</td><td>2.637585</td><td>2.578639</td><td>-0.0223</td><td>1.888463</td><td>1.419032</td><td>1.578655</td><td>349</td><td>12</td><td>16</td><td>50</td><td>7</td><td>79.76</td><td>0.000083</td><td>434.313767</td></tr><tr><td>&quot;U1&quot;</td><td>6153</td><td>2018-12-16</td><td>2018-10-17</td><td>721</td><td>60</td><td>0</td><td>5</td><td>2018-12-16 17:00:00</td><td>2018-12-16 18:39:00</td><td>99.0</td><td>-480</td><td>0</td><td>4</td><td>21</td><td>7</td><td>5817</td><td>252</td><td>3</td><td>7</td><td>0</td><td>2.794299</td><td>2.857935</td><td>0.0228</td><td>1.547979</td><td>1.674178</td><td>1.434252</td><td>349</td><td>12</td><td>16</td><td>50</td><td>7</td><td>97.96</td><td>0.045057</td><td>832.1523</td></tr><tr><td>&quot;U1&quot;</td><td>4771</td><td>2018-12-16</td><td>2018-10-17</td><td>457</td><td>60</td><td>0</td><td>4</td><td>2018-12-16 08:15:00</td><td>2018-12-16 09:32:00</td><td>77.0</td><td>-480</td><td>0</td><td>2</td><td>36</td><td>9</td><td>7128</td><td>193</td><td>3</td><td>4</td><td>0</td><td>2.637585</td><td>2.659916</td><td>0.0085</td><td>1.888463</td><td>1.419032</td><td>1.578655</td><td>349</td><td>12</td><td>16</td><td>50</td><td>7</td><td>79.76</td><td>0.009961</td><td>461.166718</td></tr><tr><td>&quot;U1&quot;</td><td>6184</td><td>2018-12-16</td><td>2018-10-17</td><td>596</td><td>60</td><td>0</td><td>5</td><td>2018-12-16 20:30:00</td><td>2018-12-16 22:09:00</td><td>99.0</td><td>-480</td><td>0</td><td>5</td><td>21</td><td>3</td><td>5817</td><td>252</td><td>3</td><td>7</td><td>0</td><td>2.794299</td><td>2.775246</td><td>-0.0068</td><td>1.547979</td><td>1.674178</td><td>1.434252</td><td>349</td><td>12</td><td>16</td><td>50</td><td>7</td><td>97.96</td><td>0.037874</td><td>794.565127</td></tr><tr><td>&hellip;</td><td>&hellip;</td><td>&hellip;</td><td>&hellip;</td><td>&hellip;</td><td>&hellip;</td><td>&hellip;</td><td>&hellip;</td><td>&hellip;</td><td>&hellip;</td><td>&hellip;</td><td>&hellip;</td><td>&hellip;</td><td>&hellip;</td><td>&hellip;</td><td>&hellip;</td><td>&hellip;</td><td>&hellip;</td><td>&hellip;</td><td>&hellip;</td><td>&hellip;</td><td>&hellip;</td><td>&hellip;</td><td>&hellip;</td><td>&hellip;</td><td>&hellip;</td><td>&hellip;</td><td>&hellip;</td><td>&hellip;</td><td>&hellip;</td><td>&hellip;</td><td>&hellip;</td><td>&hellip;</td><td>&hellip;</td><td>&hellip;</td></tr><tr><td>&quot;U1&quot;</td><td>6165</td><td>2018-12-22</td><td>2018-12-22</td><td>1111</td><td>0</td><td>0</td><td>5</td><td>2018-12-22 15:05:00</td><td>2018-12-22 16:44:00</td><td>99.0</td><td>-480</td><td>0</td><td>3</td><td>22</td><td>5</td><td>5817</td><td>252</td><td>3</td><td>7</td><td>0</td><td>2.794299</td><td>3.045714</td><td>0.09</td><td>0.758426</td><td>0.762317</td><td>0.756239</td><td>355</td><td>12</td><td>22</td><td>51</td><td>6</td><td>97.96</td><td>0.098607</td><td>1174.45672</td></tr><tr><td>&quot;L2&quot;</td><td>7067</td><td>2018-12-22</td><td>2018-12-22</td><td>1742</td><td>0</td><td>0</td><td>9</td><td>2018-12-22 13:17:00</td><td>2018-12-22 16:00:00</td><td>163.0</td><td>-360</td><td>0</td><td>3</td><td>7</td><td>3</td><td>1618</td><td>310</td><td>5</td><td>6</td><td>0</td><td>2.944469</td><td>3.241048</td><td>0.1007</td><td>0.871439</td><td>0.891693</td><td>0.903848</td><td>355</td><td>12</td><td>22</td><td>51</td><td>6</td><td>164.38</td><td>0.115424</td><td>1924.554448</td></tr><tr><td>&quot;L1&quot;</td><td>5927</td><td>2018-12-22</td><td>2018-12-22</td><td>3770</td><td>0</td><td>0</td><td>1</td><td>2018-12-22 20:45:00</td><td>2018-12-22 23:57:00</td><td>192.0</td><td>-300</td><td>0</td><td>5</td><td>5</td><td>1</td><td>2164</td><td>373</td><td>1</td><td>5</td><td>0</td><td>2.986374</td><td>3.576341</td><td>0.1976</td><td>0.686482</td><td>0.799109</td><td>0.686482</td><td>355</td><td>12</td><td>22</td><td>51</td><td>6</td><td>188.01</td><td>0.058449</td><td>1448.523434</td></tr><tr><td>&quot;L1&quot;</td><td>5135</td><td>2018-12-22</td><td>2018-12-22</td><td>3305</td><td>0</td><td>0</td><td>7</td><td>2018-12-22 07:25:00</td><td>2018-12-22 08:42:00</td><td>77.0</td><td>-360</td><td>0</td><td>1</td><td>10</td><td>3</td><td>3070</td><td>272</td><td>5</td><td>0</td><td>0</td><td>2.85592</td><td>3.519171</td><td>0.2322</td><td>0.794768</td><td>0.639658</td><td>0.765397</td><td>355</td><td>12</td><td>22</td><td>51</td><td>6</td><td>74.68</td><td>0.072297</td><td>1154.504911</td></tr><tr><td>&quot;L3&quot;</td><td>18214</td><td>2018-12-22</td><td>2018-12-22</td><td>671</td><td>0</td><td>0</td><td>4</td><td>2018-12-22 13:00:00</td><td>2018-12-22 14:18:00</td><td>78.0</td><td>-480</td><td>0</td><td>3</td><td>33</td><td>8</td><td>7128</td><td>231</td><td>3</td><td>4</td><td>0</td><td>2.764205</td><td>2.826723</td><td>0.0226</td><td>1.453969</td><td>1.174048</td><td>1.009782</td><td>355</td><td>12</td><td>22</td><td>51</td><td>6</td><td>79.05</td><td>0.137471</td><td>1393.814257</td></tr><tr><td>&quot;U1&quot;</td><td>6115</td><td>2018-12-22</td><td>2018-12-22</td><td>1111</td><td>0</td><td>0</td><td>5</td><td>2018-12-22 06:45:00</td><td>2018-12-22 08:22:00</td><td>97.0</td><td>-480</td><td>0</td><td>1</td><td>22</td><td>4</td><td>5817</td><td>252</td><td>3</td><td>7</td><td>0</td><td>2.794299</td><td>3.045714</td><td>0.09</td><td>0.758426</td><td>0.762317</td><td>0.756239</td><td>355</td><td>12</td><td>22</td><td>51</td><td>6</td><td>97.96</td><td>0.111722</td><td>1277.864787</td></tr><tr><td>&quot;L2&quot;</td><td>937</td><td>2018-12-22</td><td>2018-12-22</td><td>1742</td><td>0</td><td>0</td><td>9</td><td>2018-12-22 15:33:00</td><td>2018-12-22 18:19:00</td><td>166.0</td><td>-360</td><td>0</td><td>3</td><td>7</td><td>3</td><td>1618</td><td>310</td><td>5</td><td>6</td><td>0</td><td>2.944469</td><td>3.241048</td><td>0.1007</td><td>0.871439</td><td>0.891693</td><td>0.903848</td><td>355</td><td>12</td><td>22</td><td>51</td><td>6</td><td>164.38</td><td>0.115424</td><td>1924.554448</td></tr><tr><td>&quot;U1&quot;</td><td>6140</td><td>2018-12-22</td><td>2018-12-22</td><td>1111</td><td>0</td><td>0</td><td>5</td><td>2018-12-22 13:38:00</td><td>2018-12-22 15:17:00</td><td>99.0</td><td>-480</td><td>0</td><td>3</td><td>22</td><td>5</td><td>5817</td><td>252</td><td>3</td><td>7</td><td>0</td><td>2.794299</td><td>3.045714</td><td>0.09</td><td>0.758426</td><td>0.762317</td><td>0.756239</td><td>355</td><td>12</td><td>22</td><td>51</td><td>6</td><td>97.96</td><td>0.098607</td><td>1174.45672</td></tr><tr><td>&quot;L1&quot;</td><td>2149</td><td>2018-12-22</td><td>2018-12-22</td><td>4169</td><td>0</td><td>0</td><td>3</td><td>2018-12-22 00:51:00</td><td>2018-12-22 05:44:00</td><td>293.0</td><td>-480</td><td>0</td><td>0</td><td>8</td><td>1</td><td>2790</td><td>405</td><td>3</td><td>2</td><td>0</td><td>2.970955</td><td>3.620032</td><td>0.2185</td><td>1.003689</td><td>1.028185</td><td>0.962646</td><td>355</td><td>12</td><td>22</td><td>51</td><td>6</td><td>296.51</td><td>0.134339</td><td>2344.605169</td></tr><tr><td>&quot;L1&quot;</td><td>5663</td><td>2018-12-22</td><td>2018-12-22</td><td>2037</td><td>0</td><td>0</td><td>3</td><td>2018-12-22 12:20:00</td><td>2018-12-22 17:09:00</td><td>289.0</td><td>-480</td><td>0</td><td>3</td><td>8</td><td>3</td><td>2790</td><td>405</td><td>3</td><td>2</td><td>0</td><td>2.970955</td><td>3.308991</td><td>0.1138</td><td>1.003689</td><td>1.028185</td><td>0.962646</td><td>355</td><td>12</td><td>22</td><td>51</td><td>6</td><td>296.51</td><td>0.137785</td><td>2400.534947</td></tr></tbody></table></div>"
      ],
      "text/plain": [
       "shape: (34_591, 35)\n",
       "┌─────────┬─────────┬────────────┬────────────┬───┬────────────┬──────────┬────────────┬───────────┐\n",
       "│ carrier ┆ flt_num ┆ flt_depart ┆ observatio ┆ … ┆ flt_depart ┆ dur_mean ┆ pred_scale ┆ pred_fare │\n",
       "│ ---     ┆ ---     ┆ ure_dt     ┆ n_date     ┆   ┆ ure_weekda ┆ ---      ┆ d_fare     ┆ ---       │\n",
       "│ str     ┆ i64     ┆ ---        ┆ ---        ┆   ┆ y          ┆ f64      ┆ ---        ┆ f64       │\n",
       "│         ┆         ┆ date       ┆ date       ┆   ┆ ---        ┆          ┆ f64        ┆           │\n",
       "│         ┆         ┆            ┆            ┆   ┆ i8         ┆          ┆            ┆           │\n",
       "╞═════════╪═════════╪════════════╪════════════╪═══╪════════════╪══════════╪════════════╪═══════════╡\n",
       "│ L1      ┆ 2724    ┆ 2018-12-16 ┆ 2018-03-26 ┆ … ┆ 7          ┆ 278.01   ┆ -0.069174  ┆ 642.72018 │\n",
       "│         ┆         ┆            ┆            ┆   ┆            ┆          ┆            ┆ 9         │\n",
       "│ L1      ┆ 6517    ┆ 2018-12-16 ┆ 2018-03-26 ┆ … ┆ 7          ┆ 278.01   ┆ -0.026959  ┆ 861.73434 │\n",
       "│         ┆         ┆            ┆            ┆   ┆            ┆          ┆            ┆ 9         │\n",
       "│ L1      ┆ 2997    ┆ 2018-12-16 ┆ 2018-03-26 ┆ … ┆ 7          ┆ 278.01   ┆ -0.022301  ┆ 890.07435 │\n",
       "│         ┆         ┆            ┆            ┆   ┆            ┆          ┆            ┆ 7         │\n",
       "│ U1      ┆ 6385    ┆ 2018-12-16 ┆ 2018-10-17 ┆ … ┆ 7          ┆ 79.76    ┆ 0.003923   ┆ 444.56122 │\n",
       "│         ┆         ┆            ┆            ┆   ┆            ┆          ┆            ┆ 7         │\n",
       "│ U1      ┆ 6128    ┆ 2018-12-16 ┆ 2018-10-17 ┆ … ┆ 7          ┆ 97.96    ┆ 0.02695    ┆ 740.63701 │\n",
       "│         ┆         ┆            ┆            ┆   ┆            ┆          ┆            ┆ 6         │\n",
       "│ U1      ┆ 6140    ┆ 2018-12-16 ┆ 2018-10-17 ┆ … ┆ 7          ┆ 97.96    ┆ 0.045289   ┆ 833.39420 │\n",
       "│         ┆         ┆            ┆            ┆   ┆            ┆          ┆            ┆ 3         │\n",
       "│ U1      ┆ 3842    ┆ 2018-12-16 ┆ 2018-10-17 ┆ … ┆ 7          ┆ 79.76    ┆ 0.000083   ┆ 434.31376 │\n",
       "│         ┆         ┆            ┆            ┆   ┆            ┆          ┆            ┆ 7         │\n",
       "│ U1      ┆ 6153    ┆ 2018-12-16 ┆ 2018-10-17 ┆ … ┆ 7          ┆ 97.96    ┆ 0.045057   ┆ 832.1523  │\n",
       "│ U1      ┆ 4771    ┆ 2018-12-16 ┆ 2018-10-17 ┆ … ┆ 7          ┆ 79.76    ┆ 0.009961   ┆ 461.16671 │\n",
       "│         ┆         ┆            ┆            ┆   ┆            ┆          ┆            ┆ 8         │\n",
       "│ U1      ┆ 6184    ┆ 2018-12-16 ┆ 2018-10-17 ┆ … ┆ 7          ┆ 97.96    ┆ 0.037874   ┆ 794.56512 │\n",
       "│         ┆         ┆            ┆            ┆   ┆            ┆          ┆            ┆ 7         │\n",
       "│ …       ┆ …       ┆ …          ┆ …          ┆ … ┆ …          ┆ …        ┆ …          ┆ …         │\n",
       "│ U1      ┆ 6165    ┆ 2018-12-22 ┆ 2018-12-22 ┆ … ┆ 6          ┆ 97.96    ┆ 0.098607   ┆ 1174.4567 │\n",
       "│         ┆         ┆            ┆            ┆   ┆            ┆          ┆            ┆ 2         │\n",
       "│ L2      ┆ 7067    ┆ 2018-12-22 ┆ 2018-12-22 ┆ … ┆ 6          ┆ 164.38   ┆ 0.115424   ┆ 1924.5544 │\n",
       "│         ┆         ┆            ┆            ┆   ┆            ┆          ┆            ┆ 48        │\n",
       "│ L1      ┆ 5927    ┆ 2018-12-22 ┆ 2018-12-22 ┆ … ┆ 6          ┆ 188.01   ┆ 0.058449   ┆ 1448.5234 │\n",
       "│         ┆         ┆            ┆            ┆   ┆            ┆          ┆            ┆ 34        │\n",
       "│ L1      ┆ 5135    ┆ 2018-12-22 ┆ 2018-12-22 ┆ … ┆ 6          ┆ 74.68    ┆ 0.072297   ┆ 1154.5049 │\n",
       "│         ┆         ┆            ┆            ┆   ┆            ┆          ┆            ┆ 11        │\n",
       "│ L3      ┆ 18214   ┆ 2018-12-22 ┆ 2018-12-22 ┆ … ┆ 6          ┆ 79.05    ┆ 0.137471   ┆ 1393.8142 │\n",
       "│         ┆         ┆            ┆            ┆   ┆            ┆          ┆            ┆ 57        │\n",
       "│ U1      ┆ 6115    ┆ 2018-12-22 ┆ 2018-12-22 ┆ … ┆ 6          ┆ 97.96    ┆ 0.111722   ┆ 1277.8647 │\n",
       "│         ┆         ┆            ┆            ┆   ┆            ┆          ┆            ┆ 87        │\n",
       "│ L2      ┆ 937     ┆ 2018-12-22 ┆ 2018-12-22 ┆ … ┆ 6          ┆ 164.38   ┆ 0.115424   ┆ 1924.5544 │\n",
       "│         ┆         ┆            ┆            ┆   ┆            ┆          ┆            ┆ 48        │\n",
       "│ U1      ┆ 6140    ┆ 2018-12-22 ┆ 2018-12-22 ┆ … ┆ 6          ┆ 97.96    ┆ 0.098607   ┆ 1174.4567 │\n",
       "│         ┆         ┆            ┆            ┆   ┆            ┆          ┆            ┆ 2         │\n",
       "│ L1      ┆ 2149    ┆ 2018-12-22 ┆ 2018-12-22 ┆ … ┆ 6          ┆ 296.51   ┆ 0.134339   ┆ 2344.6051 │\n",
       "│         ┆         ┆            ┆            ┆   ┆            ┆          ┆            ┆ 69        │\n",
       "│ L1      ┆ 5663    ┆ 2018-12-22 ┆ 2018-12-22 ┆ … ┆ 6          ┆ 296.51   ┆ 0.137785   ┆ 2400.5349 │\n",
       "│         ┆         ┆            ┆            ┆   ┆            ┆          ┆            ┆ 47        │\n",
       "└─────────┴─────────┴────────────┴────────────┴───┴────────────┴──────────┴────────────┴───────────┘"
      ]
     },
     "execution_count": 42,
     "metadata": {},
     "output_type": "execute_result"
    }
   ],
   "source": [
    "val_df = val_df.with_columns(\n",
    "    pred_scaled_fare = best_model.predict(X_val)\n",
    ").with_columns(pred_fare_expr)\n",
    "\n",
    "val_df"
   ]
  },
  {
   "cell_type": "code",
   "execution_count": 43,
   "metadata": {},
   "outputs": [
    {
     "data": {
      "image/png": "[encoded data removed]",
      "text/plain": [
       "<Figure size 960x600 with 1 Axes>"
      ]
     },
     "metadata": {},
     "output_type": "display_data"
    }
   ],
   "source": [
    "plt.figure(figsize = (8, 5), dpi = 120)\n",
    "sns.lineplot(\n",
    "    data = val_df.group_by('flt_departure_dt').agg(pl.col('total_fare').mean()), \n",
    "    x = \"flt_departure_dt\", \n",
    "    y = \"total_fare\",\n",
    "    label = \"Actual fare\"\n",
    ")\n",
    "\n",
    "sns.lineplot(\n",
    "    data = val_df.group_by('flt_departure_dt').agg(pl.col('pred_fare').mean()), \n",
    "    x = \"flt_departure_dt\", \n",
    "    y = \"pred_fare\",\n",
    "    label = \"Predicted fare\"\n",
    ")\n",
    "\n",
    "locs, labels = plt.xticks()\n",
    "plt.xticks(\n",
    "    locs,\n",
    "    [l.get_text() for l in labels],\n",
    "    rotation = 30,\n",
    "    fontsize = 8\n",
    ")\n",
    "\n",
    "plt.legend()\n",
    "plt.title(\"GBR - Val predictions\", fontsize = 16)\n",
    "plt.xlabel(\"Flight departure date\", fontsize = 14)\n",
    "plt.ylabel(\"Total fare\", fontsize = 14)\n",
    "plt.show()"
   ]
  },
  {
   "cell_type": "code",
   "execution_count": 44,
   "metadata": {},
   "outputs": [
    {
     "data": {
      "image/png": "[encoded data removed]",
      "text/plain": [
       "<Figure size 960x600 with 1 Axes>"
      ]
     },
     "metadata": {},
     "output_type": "display_data"
    }
   ],
   "source": [
    "plt.figure(figsize = (8, 5), dpi = 120)\n",
    "sns.kdeplot(\n",
    "    val_df['total_fare'] - val_df['pred_fare']\n",
    ")\n",
    "plt.title(\"GBR - Density of val residuals\", fontsize = 16)\n",
    "plt.xlabel(\"Fare error\", fontsize = 14)\n",
    "plt.ylabel(\"Density\", fontsize = 14)\n",
    "plt.show()"
   ]
  },
  {
   "cell_type": "markdown",
   "metadata": {},
   "source": [
    "### Metrics"
   ]
  },
  {
   "cell_type": "markdown",
   "metadata": {},
   "source": [
    "#### Overall"
   ]
  },
  {
   "cell_type": "code",
   "execution_count": 45,
   "metadata": {},
   "outputs": [
    {
     "name": "stdout",
     "output_type": "stream",
     "text": [
      "Train - GBR\n",
      "RMSE: 282.2022\n",
      "MAE: 140.9557\n",
      "R2: 64.972%\n",
      "Max error: 7353.4236\n",
      "\n",
      "Val - GBR\n",
      "RMSE: 754.6193\n",
      "MAE: 280.0592\n",
      "R2: 56.911%\n",
      "Max error: 7878.3259\n",
      "\n"
     ]
    }
   ],
   "source": [
    "print_metrics(\n",
    "    train_df['total_fare'], train_df['pred_fare'],\n",
    "    label = 'Train - GBR'\n",
    ")\n",
    "\n",
    "print_metrics(\n",
    "    val_df['total_fare'], val_df['pred_fare'],\n",
    "    label = 'Val - GBR'\n",
    ")"
   ]
  },
  {
   "cell_type": "markdown",
   "metadata": {},
   "source": [
    "#### By carrier"
   ]
  },
  {
   "cell_type": "code",
   "execution_count": 46,
   "metadata": {},
   "outputs": [
    {
     "name": "stdout",
     "output_type": "stream",
     "text": [
      "Val - Carrier OTH\n",
      "RMSE: 166.9343\n",
      "MAE: 81.9248\n",
      "R2: 82.910%\n",
      "Max error: 7353.4236\n",
      "\n",
      "Val - Carrier L1\n",
      "RMSE: 317.5407\n",
      "MAE: 167.0500\n",
      "R2: 64.759%\n",
      "Max error: 4893.1838\n",
      "\n",
      "Val - Carrier U1\n",
      "RMSE: 147.4253\n",
      "MAE: 88.6429\n",
      "R2: 73.850%\n",
      "Max error: 1414.3407\n",
      "\n",
      "Val - Carrier U3\n",
      "RMSE: 133.5698\n",
      "MAE: 93.3330\n",
      "R2: 58.246%\n",
      "Max error: 1259.5788\n",
      "\n",
      "Val - Carrier L2\n",
      "RMSE: 272.8899\n",
      "MAE: 108.4387\n",
      "R2: 62.806%\n",
      "Max error: 3932.0425\n",
      "\n",
      "Val - Carrier L3\n",
      "RMSE: 379.3099\n",
      "MAE: 221.6266\n",
      "R2: 34.090%\n",
      "Max error: 2084.8968\n",
      "\n"
     ]
    }
   ],
   "source": [
    "for carrier, df in train_df.group_by(['carrier']):\n",
    "    print_metrics(\n",
    "        df['total_fare'], df['pred_fare'],\n",
    "        label = f'Val - Carrier {carrier[0]}'\n",
    "    )"
   ]
  },
  {
   "cell_type": "code",
   "execution_count": 47,
   "metadata": {},
   "outputs": [
    {
     "name": "stdout",
     "output_type": "stream",
     "text": [
      "Val - Carrier U1\n",
      "RMSE: 220.7346\n",
      "MAE: 131.3591\n",
      "R2: 51.506%\n",
      "Max error: 1349.6546\n",
      "\n",
      "Val - Carrier U3\n",
      "RMSE: 189.7446\n",
      "MAE: 140.1335\n",
      "R2: -40.322%\n",
      "Max error: 608.8227\n",
      "\n",
      "Val - Carrier L3\n",
      "RMSE: 600.6981\n",
      "MAE: 347.0936\n",
      "R2: 13.297%\n",
      "Max error: 2319.6329\n",
      "\n",
      "Val - Carrier OTH\n",
      "RMSE: 2338.6611\n",
      "MAE: 1112.8253\n",
      "R2: 47.921%\n",
      "Max error: 7878.3259\n",
      "\n",
      "Val - Carrier L2\n",
      "RMSE: 224.5805\n",
      "MAE: 144.7780\n",
      "R2: 56.372%\n",
      "Max error: 2253.1503\n",
      "\n",
      "Val - Carrier L1\n",
      "RMSE: 357.7805\n",
      "MAE: 221.7074\n",
      "R2: 47.494%\n",
      "Max error: 4055.4351\n",
      "\n"
     ]
    }
   ],
   "source": [
    "for carrier, df in val_df.group_by(['carrier']):\n",
    "    print_metrics(\n",
    "        df['total_fare'], df['pred_fare'],\n",
    "        label = f'Val - Carrier {carrier[0]}'\n",
    "    )"
   ]
  },
  {
   "cell_type": "markdown",
   "metadata": {},
   "source": [
    "#### By route"
   ]
  },
  {
   "cell_type": "code",
   "execution_count": 48,
   "metadata": {},
   "outputs": [
    {
     "name": "stdout",
     "output_type": "stream",
     "text": [
      "Val - Route 3\n",
      "RMSE: 286.4435\n",
      "MAE: 179.2743\n",
      "R2: 72.995%\n",
      "Max error: 3706.1293\n",
      "\n",
      "Val - Route 9\n",
      "RMSE: 310.6675\n",
      "MAE: 157.7085\n",
      "R2: 65.392%\n",
      "Max error: 3659.9983\n",
      "\n",
      "Val - Route 6\n",
      "RMSE: 263.7454\n",
      "MAE: 118.6562\n",
      "R2: 48.893%\n",
      "Max error: 7353.4236\n",
      "\n",
      "Val - Route 0\n",
      "RMSE: 295.5358\n",
      "MAE: 159.8558\n",
      "R2: 56.998%\n",
      "Max error: 4333.4197\n",
      "\n",
      "Val - Route 1\n",
      "RMSE: 431.9410\n",
      "MAE: 220.6973\n",
      "R2: 50.222%\n",
      "Max error: 4489.6793\n",
      "\n",
      "Val - Route 4\n",
      "RMSE: 294.5871\n",
      "MAE: 136.1499\n",
      "R2: 51.343%\n",
      "Max error: 4650.5764\n",
      "\n",
      "Val - Route 10\n",
      "RMSE: 309.8764\n",
      "MAE: 163.8032\n",
      "R2: 67.089%\n",
      "Max error: 3500.4662\n",
      "\n",
      "Val - Route 7\n",
      "RMSE: 320.4391\n",
      "MAE: 162.1000\n",
      "R2: 52.676%\n",
      "Max error: 4893.1838\n",
      "\n",
      "Val - Route 2\n",
      "RMSE: 298.2880\n",
      "MAE: 187.6217\n",
      "R2: 64.572%\n",
      "Max error: 4058.9539\n",
      "\n",
      "Val - Route 11\n",
      "RMSE: 207.1121\n",
      "MAE: 109.9112\n",
      "R2: 61.202%\n",
      "Max error: 3058.6978\n",
      "\n",
      "Val - Route 8\n",
      "RMSE: 455.2552\n",
      "MAE: 259.5317\n",
      "R2: 50.573%\n",
      "Max error: 4235.0859\n",
      "\n",
      "Val - Route 5\n",
      "RMSE: 230.1432\n",
      "MAE: 125.0518\n",
      "R2: 65.918%\n",
      "Max error: 3138.5417\n",
      "\n"
     ]
    }
   ],
   "source": [
    "for route_id, df in train_df.group_by(['route_id']):\n",
    "    print_metrics(\n",
    "        df['total_fare'], df['pred_fare'],\n",
    "        label = f'Val - Route {route_id[0]}'\n",
    "    )"
   ]
  },
  {
   "cell_type": "code",
   "execution_count": 49,
   "metadata": {},
   "outputs": [
    {
     "name": "stdout",
     "output_type": "stream",
     "text": [
      "Val - Route 3\n",
      "RMSE: 334.5882\n",
      "MAE: 231.1757\n",
      "R2: 62.891%\n",
      "Max error: 1824.3948\n",
      "\n",
      "Val - Route 0\n",
      "RMSE: 214.8000\n",
      "MAE: 151.5566\n",
      "R2: 12.083%\n",
      "Max error: 1096.3775\n",
      "\n",
      "Val - Route 9\n",
      "RMSE: 288.1406\n",
      "MAE: 210.9293\n",
      "R2: 48.682%\n",
      "Max error: 1387.9705\n",
      "\n",
      "Val - Route 6\n",
      "RMSE: 1011.9095\n",
      "MAE: 381.1667\n",
      "R2: 65.187%\n",
      "Max error: 7878.3259\n",
      "\n",
      "Val - Route 7\n",
      "RMSE: 454.1000\n",
      "MAE: 316.2675\n",
      "R2: -6.385%\n",
      "Max error: 2293.2330\n",
      "\n",
      "Val - Route 10\n",
      "RMSE: 260.4650\n",
      "MAE: 175.7714\n",
      "R2: 56.419%\n",
      "Max error: 1536.5224\n",
      "\n",
      "Val - Route 4\n",
      "RMSE: 1213.0368\n",
      "MAE: 385.7608\n",
      "R2: 50.381%\n",
      "Max error: 7546.9820\n",
      "\n",
      "Val - Route 1\n",
      "RMSE: 668.4519\n",
      "MAE: 473.3454\n",
      "R2: -35.358%\n",
      "Max error: 2921.4479\n",
      "\n",
      "Val - Route 2\n",
      "RMSE: 319.7630\n",
      "MAE: 224.8711\n",
      "R2: 64.765%\n",
      "Max error: 4055.4351\n",
      "\n",
      "Val - Route 5\n",
      "RMSE: 135.8769\n",
      "MAE: 89.2034\n",
      "R2: 80.721%\n",
      "Max error: 1961.5765\n",
      "\n",
      "Val - Route 11\n",
      "RMSE: 351.3696\n",
      "MAE: 217.8054\n",
      "R2: 31.128%\n",
      "Max error: 2573.8456\n",
      "\n",
      "Val - Route 8\n",
      "RMSE: 555.4664\n",
      "MAE: 447.6303\n",
      "R2: -55.199%\n",
      "Max error: 1975.8706\n",
      "\n"
     ]
    }
   ],
   "source": [
    "for route_id, df in val_df.group_by(['route_id']):\n",
    "    print_metrics(\n",
    "        df['total_fare'], df['pred_fare'],\n",
    "        label = f'Val - Route {route_id[0]}'\n",
    "    )"
   ]
  },
  {
   "cell_type": "markdown",
   "metadata": {},
   "source": [
    "### Feature importances"
   ]
  },
  {
   "cell_type": "code",
   "execution_count": 50,
   "metadata": {},
   "outputs": [
    {
     "data": {
      "text/html": [
       "<div><style>\n",
       ".dataframe > thead > tr,\n",
       ".dataframe > tbody > tr {\n",
       "  text-align: right;\n",
       "  white-space: pre-wrap;\n",
       "}\n",
       "</style>\n",
       "<small>shape: (20, 2)</small><table border=\"1\" class=\"dataframe\"><thead><tr><th>Feature</th><th>FI</th></tr><tr><td>str</td><td>f64</td></tr></thead><tbody><tr><td>&quot;remainder__days_till_flight&quot;</td><td>33.12</td></tr><tr><td>&quot;remainder__7d_route_carrier_av…</td><td>13.68</td></tr><tr><td>&quot;remainder__14d_route_avg&quot;</td><td>13.13</td></tr><tr><td>&quot;remainder__days_since_start&quot;</td><td>7.8</td></tr><tr><td>&quot;remainder__flt_count_dpt_24h&quot;</td><td>6.0</td></tr><tr><td>&quot;remainder__7d_route_avg&quot;</td><td>5.34</td></tr><tr><td>&quot;remainder__flt_departure_weekd…</td><td>4.57</td></tr><tr><td>&quot;remainder__dpt_4h_od&quot;</td><td>4.51</td></tr><tr><td>&quot;remainder__dur_min&quot;</td><td>1.95</td></tr><tr><td>&quot;remainder__destination_id&quot;</td><td>1.89</td></tr><tr><td>&quot;ord__carrier&quot;</td><td>1.72</td></tr><tr><td>&quot;remainder__flt_departure_week&quot;</td><td>1.38</td></tr><tr><td>&quot;remainder__flt_departure_day&quot;</td><td>1.31</td></tr><tr><td>&quot;remainder__route_id&quot;</td><td>1.21</td></tr><tr><td>&quot;remainder__origin_id&quot;</td><td>0.65</td></tr><tr><td>&quot;remainder__flt_info_null&quot;</td><td>0.55</td></tr><tr><td>&quot;remainder__flt_count_dpt_4h&quot;</td><td>0.53</td></tr><tr><td>&quot;remainder__over_mn&quot;</td><td>0.47</td></tr><tr><td>&quot;remainder__flt_departure_month&quot;</td><td>0.13</td></tr><tr><td>&quot;remainder__is_dst&quot;</td><td>0.04</td></tr></tbody></table></div>"
      ],
      "text/plain": [
       "shape: (20, 2)\n",
       "┌─────────────────────────────────┬───────┐\n",
       "│ Feature                         ┆ FI    │\n",
       "│ ---                             ┆ ---   │\n",
       "│ str                             ┆ f64   │\n",
       "╞═════════════════════════════════╪═══════╡\n",
       "│ remainder__days_till_flight     ┆ 33.12 │\n",
       "│ remainder__7d_route_carrier_av… ┆ 13.68 │\n",
       "│ remainder__14d_route_avg        ┆ 13.13 │\n",
       "│ remainder__days_since_start     ┆ 7.8   │\n",
       "│ remainder__flt_count_dpt_24h    ┆ 6.0   │\n",
       "│ remainder__7d_route_avg         ┆ 5.34  │\n",
       "│ remainder__flt_departure_weekd… ┆ 4.57  │\n",
       "│ remainder__dpt_4h_od            ┆ 4.51  │\n",
       "│ remainder__dur_min              ┆ 1.95  │\n",
       "│ remainder__destination_id       ┆ 1.89  │\n",
       "│ ord__carrier                    ┆ 1.72  │\n",
       "│ remainder__flt_departure_week   ┆ 1.38  │\n",
       "│ remainder__flt_departure_day    ┆ 1.31  │\n",
       "│ remainder__route_id             ┆ 1.21  │\n",
       "│ remainder__origin_id            ┆ 0.65  │\n",
       "│ remainder__flt_info_null        ┆ 0.55  │\n",
       "│ remainder__flt_count_dpt_4h     ┆ 0.53  │\n",
       "│ remainder__over_mn              ┆ 0.47  │\n",
       "│ remainder__flt_departure_month  ┆ 0.13  │\n",
       "│ remainder__is_dst               ┆ 0.04  │\n",
       "└─────────────────────────────────┴───────┘"
      ]
     },
     "execution_count": 50,
     "metadata": {},
     "output_type": "execute_result"
    }
   ],
   "source": [
    "pl.DataFrame({\n",
    "    \"Feature\": best_model['gbr'].feature_names_in_,\n",
    "    \"FI\": (best_model['gbr'].feature_importances_ * 100).round(2)\n",
    "}).sort(\"FI\", descending = True)"
   ]
  },
  {
   "cell_type": "code",
   "execution_count": null,
   "metadata": {},
   "outputs": [],
   "source": []
  }
 ],
 "metadata": {
  "kernelspec": {
   "display_name": "Python 3",
   "language": "python",
   "name": "python3"
  },
  "language_info": {
   "codemirror_mode": {
    "name": "ipython",
    "version": 3
   },
   "file_extension": ".py",
   "mimetype": "text/x-python",
   "name": "python",
   "nbconvert_exporter": "python",
   "pygments_lexer": "ipython3",
   "version": "3.11.6"
  }
 },
 "nbformat": 4,
 "nbformat_minor": 2
}
