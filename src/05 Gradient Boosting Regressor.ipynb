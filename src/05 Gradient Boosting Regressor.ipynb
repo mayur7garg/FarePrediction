{
 "cells": [
  {
   "cell_type": "markdown",
   "metadata": {},
   "source": [
    "# Gradient boosting regressor"
   ]
  },
  {
   "cell_type": "markdown",
   "metadata": {},
   "source": [
    "## Imports"
   ]
  },
  {
   "cell_type": "code",
   "execution_count": 1,
   "metadata": {},
   "outputs": [],
   "source": [
    "import numpy as np\n",
    "import polars as pl\n",
    "from sklearn.preprocessing import OrdinalEncoder\n",
    "from sklearn.ensemble import GradientBoostingRegressor\n",
    "from sklearn.compose import ColumnTransformer\n",
    "from sklearn.pipeline import Pipeline\n",
    "from sklearn.model_selection import ParameterSampler\n",
    "from sklearn.metrics import root_mean_squared_error\n",
    "from sklearn import set_config\n",
    "\n",
    "from utils import PROCESSED_DATA_DIR, VALIDATION_CUTOFF, print_metrics\n",
    "\n",
    "pl.Config.set_tbl_rows(20)\n",
    "set_config(transform_output = \"pandas\")"
   ]
  },
  {
   "cell_type": "markdown",
   "metadata": {},
   "source": [
    "## Data loading"
   ]
  },
  {
   "cell_type": "code",
   "execution_count": 2,
   "metadata": {},
   "outputs": [
    {
     "data": {
      "text/html": [
       "<div><style>\n",
       ".dataframe > thead > tr,\n",
       ".dataframe > tbody > tr {\n",
       "  text-align: right;\n",
       "  white-space: pre-wrap;\n",
       "}\n",
       "</style>\n",
       "<small>shape: (1_698_818, 21)</small><table border=\"1\" class=\"dataframe\"><thead><tr><th>carrier</th><th>flt_num</th><th>flt_departure_dt</th><th>observation_date</th><th>total_fare</th><th>days_till_flight</th><th>is_dst</th><th>route_id</th><th>flt_departure_local_time</th><th>flt_arrival_local_time</th><th>dur_min</th><th>tz_min</th><th>over_mn</th><th>dpt_4h_od</th><th>flt_count_dpt_24h</th><th>flt_count_dpt_4h</th><th>scaled_demand</th><th>scaled_share</th><th>origin_id</th><th>destination_id</th><th>flt_info_null</th></tr><tr><td>str</td><td>i64</td><td>date</td><td>date</td><td>i64</td><td>i16</td><td>i8</td><td>u8</td><td>datetime[ns]</td><td>datetime[ns]</td><td>i16</td><td>i16</td><td>i8</td><td>i8</td><td>u8</td><td>u8</td><td>i64</td><td>i64</td><td>u8</td><td>u8</td><td>u8</td></tr></thead><tbody><tr><td>&quot;U1&quot;</td><td>6143</td><td>2018-01-01</td><td>2017-11-27</td><td>469</td><td>35</td><td>0</td><td>11</td><td>null</td><td>null</td><td>null</td><td>null</td><td>null</td><td>null</td><td>null</td><td>null</td><td>null</td><td>null</td><td>7</td><td>3</td><td>1</td></tr><tr><td>&quot;L1&quot;</td><td>5927</td><td>2018-01-01</td><td>2017-11-27</td><td>1119</td><td>35</td><td>0</td><td>1</td><td>2018-01-01 20:33:00</td><td>2018-01-01 23:50:00</td><td>197</td><td>-300</td><td>0</td><td>5</td><td>5</td><td>1</td><td>1468</td><td>360</td><td>1</td><td>5</td><td>0</td></tr><tr><td>&quot;L3&quot;</td><td>18075</td><td>2018-01-01</td><td>2017-11-27</td><td>422</td><td>35</td><td>0</td><td>6</td><td>2018-01-01 13:20:00</td><td>2018-01-01 14:35:00</td><td>75</td><td>-480</td><td>0</td><td>3</td><td>30</td><td>9</td><td>6659</td><td>228</td><td>4</td><td>3</td><td>0</td></tr><tr><td>&quot;OTH&quot;</td><td>2416</td><td>2018-01-01</td><td>2017-11-27</td><td>787</td><td>35</td><td>0</td><td>4</td><td>2018-01-01 20:22:00</td><td>2018-01-01 21:46:00</td><td>84</td><td>-480</td><td>0</td><td>5</td><td>30</td><td>4</td><td>6659</td><td>316</td><td>3</td><td>4</td><td>0</td></tr><tr><td>&quot;L3&quot;</td><td>18270</td><td>2018-01-01</td><td>2017-11-27</td><td>1298</td><td>35</td><td>0</td><td>4</td><td>2018-01-01 11:17:00</td><td>2018-01-01 12:40:00</td><td>83</td><td>-480</td><td>0</td><td>2</td><td>30</td><td>5</td><td>6659</td><td>231</td><td>3</td><td>4</td><td>0</td></tr><tr><td>&quot;L1&quot;</td><td>1396</td><td>2018-01-01</td><td>2017-11-27</td><td>372</td><td>35</td><td>0</td><td>11</td><td>2018-01-01 19:35:00</td><td>2018-01-01 21:08:00</td><td>93</td><td>-480</td><td>0</td><td>4</td><td>21</td><td>7</td><td>6579</td><td>262</td><td>7</td><td>3</td><td>0</td></tr><tr><td>&quot;U1&quot;</td><td>4771</td><td>2018-01-01</td><td>2017-11-27</td><td>513</td><td>35</td><td>0</td><td>4</td><td>null</td><td>null</td><td>null</td><td>null</td><td>null</td><td>null</td><td>null</td><td>null</td><td>null</td><td>null</td><td>3</td><td>4</td><td>1</td></tr><tr><td>&quot;OTH&quot;</td><td>4825</td><td>2018-01-01</td><td>2017-11-27</td><td>432</td><td>35</td><td>0</td><td>6</td><td>2018-01-01 12:55:00</td><td>2018-01-01 14:07:00</td><td>72</td><td>-480</td><td>0</td><td>3</td><td>30</td><td>9</td><td>6659</td><td>316</td><td>4</td><td>3</td><td>0</td></tr><tr><td>&quot;OTH&quot;</td><td>6175</td><td>2018-01-01</td><td>2017-11-27</td><td>341</td><td>35</td><td>0</td><td>11</td><td>2018-01-01 18:55:00</td><td>2018-01-01 20:23:00</td><td>88</td><td>-480</td><td>0</td><td>4</td><td>21</td><td>7</td><td>6579</td><td>354</td><td>7</td><td>3</td><td>0</td></tr><tr><td>&quot;U1&quot;</td><td>6187</td><td>2018-01-01</td><td>2017-11-27</td><td>341</td><td>35</td><td>0</td><td>11</td><td>null</td><td>null</td><td>null</td><td>null</td><td>null</td><td>null</td><td>null</td><td>null</td><td>null</td><td>null</td><td>7</td><td>3</td><td>1</td></tr><tr><td>&hellip;</td><td>&hellip;</td><td>&hellip;</td><td>&hellip;</td><td>&hellip;</td><td>&hellip;</td><td>&hellip;</td><td>&hellip;</td><td>&hellip;</td><td>&hellip;</td><td>&hellip;</td><td>&hellip;</td><td>&hellip;</td><td>&hellip;</td><td>&hellip;</td><td>&hellip;</td><td>&hellip;</td><td>&hellip;</td><td>&hellip;</td><td>&hellip;</td><td>&hellip;</td></tr><tr><td>&quot;L1&quot;</td><td>7431</td><td>2018-12-31</td><td>2018-12-31</td><td>1346</td><td>0</td><td>0</td><td>1</td><td>2018-12-31 07:00:00</td><td>2018-12-31 10:11:00</td><td>191</td><td>-300</td><td>0</td><td>1</td><td>4</td><td>1</td><td>2164</td><td>373</td><td>1</td><td>5</td><td>0</td></tr><tr><td>&quot;L1&quot;</td><td>981</td><td>2018-12-31</td><td>2018-12-31</td><td>3142</td><td>0</td><td>0</td><td>10</td><td>2018-12-31 18:49:00</td><td>2018-12-31 21:43:00</td><td>174</td><td>-360</td><td>0</td><td>4</td><td>6</td><td>1</td><td>1618</td><td>317</td><td>6</td><td>5</td><td>0</td></tr><tr><td>&quot;L1&quot;</td><td>1283</td><td>2018-12-31</td><td>2018-12-31</td><td>1111</td><td>0</td><td>0</td><td>11</td><td>2018-12-31 10:50:00</td><td>2018-12-31 12:20:00</td><td>90</td><td>-480</td><td>0</td><td>2</td><td>21</td><td>5</td><td>5817</td><td>288</td><td>7</td><td>3</td><td>0</td></tr><tr><td>&quot;L1&quot;</td><td>7588</td><td>2018-12-31</td><td>2018-12-31</td><td>1111</td><td>0</td><td>0</td><td>11</td><td>2018-12-31 22:52:00</td><td>2019-01-01 00:26:00</td><td>94</td><td>-480</td><td>1</td><td>5</td><td>21</td><td>3</td><td>5817</td><td>288</td><td>7</td><td>3</td><td>0</td></tr><tr><td>&quot;L1&quot;</td><td>5135</td><td>2018-12-31</td><td>2018-12-31</td><td>1924</td><td>0</td><td>0</td><td>7</td><td>2018-12-31 07:25:00</td><td>2018-12-31 08:42:00</td><td>77</td><td>-360</td><td>0</td><td>1</td><td>8</td><td>3</td><td>3070</td><td>272</td><td>5</td><td>0</td><td>0</td></tr><tr><td>&quot;L1&quot;</td><td>3120</td><td>2018-12-31</td><td>2018-12-31</td><td>1111</td><td>0</td><td>0</td><td>11</td><td>2018-12-31 16:28:00</td><td>2018-12-31 17:58:00</td><td>90</td><td>-480</td><td>0</td><td>4</td><td>21</td><td>7</td><td>5817</td><td>288</td><td>7</td><td>3</td><td>0</td></tr><tr><td>&quot;U1&quot;</td><td>2388</td><td>2018-12-31</td><td>2018-12-31</td><td>1111</td><td>0</td><td>0</td><td>11</td><td>2018-12-31 09:25:00</td><td>2018-12-31 10:52:00</td><td>87</td><td>-480</td><td>0</td><td>2</td><td>21</td><td>5</td><td>5817</td><td>253</td><td>7</td><td>3</td><td>0</td></tr><tr><td>&quot;L1&quot;</td><td>6294</td><td>2018-12-31</td><td>2018-12-31</td><td>2037</td><td>0</td><td>0</td><td>3</td><td>2018-12-31 13:43:00</td><td>2018-12-31 18:45:00</td><td>302</td><td>-480</td><td>0</td><td>3</td><td>7</td><td>2</td><td>2790</td><td>405</td><td>3</td><td>2</td><td>0</td></tr><tr><td>&quot;U1&quot;</td><td>6178</td><td>2018-12-31</td><td>2018-12-31</td><td>1111</td><td>0</td><td>0</td><td>5</td><td>2018-12-31 19:05:00</td><td>2018-12-31 20:44:00</td><td>99</td><td>-480</td><td>0</td><td>4</td><td>21</td><td>7</td><td>5817</td><td>252</td><td>3</td><td>7</td><td>0</td></tr><tr><td>&quot;L1&quot;</td><td>10926</td><td>2018-12-31</td><td>2018-12-31</td><td>3142</td><td>0</td><td>0</td><td>10</td><td>2018-12-31 15:50:00</td><td>2018-12-31 18:49:00</td><td>179</td><td>-360</td><td>0</td><td>3</td><td>6</td><td>3</td><td>1618</td><td>317</td><td>6</td><td>5</td><td>0</td></tr></tbody></table></div>"
      ],
      "text/plain": [
       "shape: (1_698_818, 21)\n",
       "┌─────────┬─────────┬────────────┬────────────┬───┬────────────┬───────────┬───────────┬───────────┐\n",
       "│ carrier ┆ flt_num ┆ flt_depart ┆ observatio ┆ … ┆ scaled_sha ┆ origin_id ┆ destinati ┆ flt_info_ │\n",
       "│ ---     ┆ ---     ┆ ure_dt     ┆ n_date     ┆   ┆ re         ┆ ---       ┆ on_id     ┆ null      │\n",
       "│ str     ┆ i64     ┆ ---        ┆ ---        ┆   ┆ ---        ┆ u8        ┆ ---       ┆ ---       │\n",
       "│         ┆         ┆ date       ┆ date       ┆   ┆ i64        ┆           ┆ u8        ┆ u8        │\n",
       "╞═════════╪═════════╪════════════╪════════════╪═══╪════════════╪═══════════╪═══════════╪═══════════╡\n",
       "│ U1      ┆ 6143    ┆ 2018-01-01 ┆ 2017-11-27 ┆ … ┆ null       ┆ 7         ┆ 3         ┆ 1         │\n",
       "│ L1      ┆ 5927    ┆ 2018-01-01 ┆ 2017-11-27 ┆ … ┆ 360        ┆ 1         ┆ 5         ┆ 0         │\n",
       "│ L3      ┆ 18075   ┆ 2018-01-01 ┆ 2017-11-27 ┆ … ┆ 228        ┆ 4         ┆ 3         ┆ 0         │\n",
       "│ OTH     ┆ 2416    ┆ 2018-01-01 ┆ 2017-11-27 ┆ … ┆ 316        ┆ 3         ┆ 4         ┆ 0         │\n",
       "│ L3      ┆ 18270   ┆ 2018-01-01 ┆ 2017-11-27 ┆ … ┆ 231        ┆ 3         ┆ 4         ┆ 0         │\n",
       "│ L1      ┆ 1396    ┆ 2018-01-01 ┆ 2017-11-27 ┆ … ┆ 262        ┆ 7         ┆ 3         ┆ 0         │\n",
       "│ U1      ┆ 4771    ┆ 2018-01-01 ┆ 2017-11-27 ┆ … ┆ null       ┆ 3         ┆ 4         ┆ 1         │\n",
       "│ OTH     ┆ 4825    ┆ 2018-01-01 ┆ 2017-11-27 ┆ … ┆ 316        ┆ 4         ┆ 3         ┆ 0         │\n",
       "│ OTH     ┆ 6175    ┆ 2018-01-01 ┆ 2017-11-27 ┆ … ┆ 354        ┆ 7         ┆ 3         ┆ 0         │\n",
       "│ U1      ┆ 6187    ┆ 2018-01-01 ┆ 2017-11-27 ┆ … ┆ null       ┆ 7         ┆ 3         ┆ 1         │\n",
       "│ …       ┆ …       ┆ …          ┆ …          ┆ … ┆ …          ┆ …         ┆ …         ┆ …         │\n",
       "│ L1      ┆ 7431    ┆ 2018-12-31 ┆ 2018-12-31 ┆ … ┆ 373        ┆ 1         ┆ 5         ┆ 0         │\n",
       "│ L1      ┆ 981     ┆ 2018-12-31 ┆ 2018-12-31 ┆ … ┆ 317        ┆ 6         ┆ 5         ┆ 0         │\n",
       "│ L1      ┆ 1283    ┆ 2018-12-31 ┆ 2018-12-31 ┆ … ┆ 288        ┆ 7         ┆ 3         ┆ 0         │\n",
       "│ L1      ┆ 7588    ┆ 2018-12-31 ┆ 2018-12-31 ┆ … ┆ 288        ┆ 7         ┆ 3         ┆ 0         │\n",
       "│ L1      ┆ 5135    ┆ 2018-12-31 ┆ 2018-12-31 ┆ … ┆ 272        ┆ 5         ┆ 0         ┆ 0         │\n",
       "│ L1      ┆ 3120    ┆ 2018-12-31 ┆ 2018-12-31 ┆ … ┆ 288        ┆ 7         ┆ 3         ┆ 0         │\n",
       "│ U1      ┆ 2388    ┆ 2018-12-31 ┆ 2018-12-31 ┆ … ┆ 253        ┆ 7         ┆ 3         ┆ 0         │\n",
       "│ L1      ┆ 6294    ┆ 2018-12-31 ┆ 2018-12-31 ┆ … ┆ 405        ┆ 3         ┆ 2         ┆ 0         │\n",
       "│ U1      ┆ 6178    ┆ 2018-12-31 ┆ 2018-12-31 ┆ … ┆ 252        ┆ 3         ┆ 7         ┆ 0         │\n",
       "│ L1      ┆ 10926   ┆ 2018-12-31 ┆ 2018-12-31 ┆ … ┆ 317        ┆ 6         ┆ 5         ┆ 0         │\n",
       "└─────────┴─────────┴────────────┴────────────┴───┴────────────┴───────────┴───────────┴───────────┘"
      ]
     },
     "execution_count": 2,
     "metadata": {},
     "output_type": "execute_result"
    }
   ],
   "source": [
    "processed_train_df = pl.read_parquet(\n",
    "    PROCESSED_DATA_DIR.joinpath('training', 'train_full.parquet')\n",
    ")\n",
    "\n",
    "processed_train_df"
   ]
  },
  {
   "cell_type": "code",
   "execution_count": 3,
   "metadata": {},
   "outputs": [
    {
     "data": {
      "text/html": [
       "<div><style>\n",
       ".dataframe > thead > tr,\n",
       ".dataframe > tbody > tr {\n",
       "  text-align: right;\n",
       "  white-space: pre-wrap;\n",
       "}\n",
       "</style>\n",
       "<small>shape: (9, 22)</small><table border=\"1\" class=\"dataframe\"><thead><tr><th>statistic</th><th>carrier</th><th>flt_num</th><th>flt_departure_dt</th><th>observation_date</th><th>total_fare</th><th>days_till_flight</th><th>is_dst</th><th>route_id</th><th>flt_departure_local_time</th><th>flt_arrival_local_time</th><th>dur_min</th><th>tz_min</th><th>over_mn</th><th>dpt_4h_od</th><th>flt_count_dpt_24h</th><th>flt_count_dpt_4h</th><th>scaled_demand</th><th>scaled_share</th><th>origin_id</th><th>destination_id</th><th>flt_info_null</th></tr><tr><td>str</td><td>str</td><td>f64</td><td>str</td><td>str</td><td>f64</td><td>f64</td><td>f64</td><td>f64</td><td>str</td><td>str</td><td>f64</td><td>f64</td><td>f64</td><td>f64</td><td>f64</td><td>f64</td><td>f64</td><td>f64</td><td>f64</td><td>f64</td><td>f64</td></tr></thead><tbody><tr><td>&quot;count&quot;</td><td>&quot;1698818&quot;</td><td>1.698818e6</td><td>&quot;1698818&quot;</td><td>&quot;1698818&quot;</td><td>1.698818e6</td><td>1.698818e6</td><td>1.698818e6</td><td>1.698818e6</td><td>&quot;1599704&quot;</td><td>&quot;1599704&quot;</td><td>1.599704e6</td><td>1.599704e6</td><td>1.599704e6</td><td>1.599704e6</td><td>1.599704e6</td><td>1.599704e6</td><td>1.598505e6</td><td>1.598505e6</td><td>1.698818e6</td><td>1.698818e6</td><td>1.698818e6</td></tr><tr><td>&quot;null_count&quot;</td><td>&quot;0&quot;</td><td>0.0</td><td>&quot;0&quot;</td><td>&quot;0&quot;</td><td>0.0</td><td>0.0</td><td>0.0</td><td>0.0</td><td>&quot;99114&quot;</td><td>&quot;99114&quot;</td><td>99114.0</td><td>99114.0</td><td>99114.0</td><td>99114.0</td><td>99114.0</td><td>99114.0</td><td>100313.0</td><td>100313.0</td><td>0.0</td><td>0.0</td><td>0.0</td></tr><tr><td>&quot;mean&quot;</td><td>null</td><td>5910.75087</td><td>&quot;2018-06-24&quot;</td><td>&quot;2018-06-07&quot;</td><td>710.461822</td><td>17.419005</td><td>0.695564</td><td>5.91818</td><td>&quot;2018-07-01 06:49:28.030135&quot;</td><td>&quot;2018-07-01 08:45:02.581152&quot;</td><td>115.57585</td><td>-405.751189</td><td>0.013588</td><td>2.93231</td><td>23.034132</td><td>5.301361</td><td>5721.521024</td><td>271.993762</td><td>3.944983</td><td>3.839782</td><td>0.058343</td></tr><tr><td>&quot;std&quot;</td><td>null</td><td>4285.440264</td><td>null</td><td>null</td><td>543.207638</td><td>12.959215</td><td>0.460168</td><td>2.968049</td><td>null</td><td>null</td><td>62.670552</td><td>62.255521</td><td>0.115774</td><td>1.260417</td><td>11.898872</td><td>2.971523</td><td>2358.75767</td><td>63.198466</td><td>1.690606</td><td>1.631242</td><td>0.234391</td></tr><tr><td>&quot;min&quot;</td><td>&quot;L1&quot;</td><td>174.0</td><td>&quot;2018-01-01&quot;</td><td>&quot;2017-11-27&quot;</td><td>234.0</td><td>0.0</td><td>0.0</td><td>0.0</td><td>&quot;2018-01-01 05:31:00&quot;</td><td>&quot;2018-01-01 07:02:00&quot;</td><td>60.0</td><td>-480.0</td><td>0.0</td><td>0.0</td><td>2.0</td><td>1.0</td><td>1378.0</td><td>165.0</td><td>0.0</td><td>0.0</td><td>0.0</td></tr><tr><td>&quot;25%&quot;</td><td>null</td><td>2724.0</td><td>&quot;2018-03-30&quot;</td><td>&quot;2018-03-12&quot;</td><td>395.0</td><td>8.0</td><td>0.0</td><td>4.0</td><td>&quot;2018-04-04 08:05:00&quot;</td><td>&quot;2018-04-04 10:37:00&quot;</td><td>78.0</td><td>-420.0</td><td>0.0</td><td>2.0</td><td>9.0</td><td>3.0</td><td>2864.0</td><td>223.0</td><td>3.0</td><td>3.0</td><td>0.0</td></tr><tr><td>&quot;50%&quot;</td><td>null</td><td>5280.0</td><td>&quot;2018-06-08&quot;</td><td>&quot;2018-05-22&quot;</td><td>552.0</td><td>16.0</td><td>1.0</td><td>6.0</td><td>&quot;2018-06-20 06:05:00&quot;</td><td>&quot;2018-06-20 07:57:00&quot;</td><td>89.0</td><td>-420.0</td><td>0.0</td><td>3.0</td><td>22.0</td><td>5.0</td><td>7022.0</td><td>270.0</td><td>4.0</td><td>3.0</td><td>0.0</td></tr><tr><td>&quot;75%&quot;</td><td>null</td><td>6759.0</td><td>&quot;2018-09-24&quot;</td><td>&quot;2018-09-06&quot;</td><td>825.0</td><td>26.0</td><td>1.0</td><td>8.0</td><td>&quot;2018-09-29 10:40:00&quot;</td><td>&quot;2018-09-29 12:28:00&quot;</td><td>106.0</td><td>-360.0</td><td>0.0</td><td>4.0</td><td>35.0</td><td>8.0</td><td>7578.0</td><td>308.0</td><td>5.0</td><td>5.0</td><td>0.0</td></tr><tr><td>&quot;max&quot;</td><td>&quot;U3&quot;</td><td>29555.0</td><td>&quot;2018-12-31&quot;</td><td>&quot;2018-12-31&quot;</td><td>7859.0</td><td>328.0</td><td>1.0</td><td>11.0</td><td>&quot;2018-12-31 22:52:00&quot;</td><td>&quot;2019-01-01 00:26:00&quot;</td><td>304.0</td><td>-240.0</td><td>1.0</td><td>5.0</td><td>43.0</td><td>12.0</td><td>8396.0</td><td>423.0</td><td>7.0</td><td>7.0</td><td>1.0</td></tr></tbody></table></div>"
      ],
      "text/plain": [
       "shape: (9, 22)\n",
       "┌────────────┬─────────┬───────────┬───────────┬───┬───────────┬───────────┬───────────┬───────────┐\n",
       "│ statistic  ┆ carrier ┆ flt_num   ┆ flt_depar ┆ … ┆ scaled_sh ┆ origin_id ┆ destinati ┆ flt_info_ │\n",
       "│ ---        ┆ ---     ┆ ---       ┆ ture_dt   ┆   ┆ are       ┆ ---       ┆ on_id     ┆ null      │\n",
       "│ str        ┆ str     ┆ f64       ┆ ---       ┆   ┆ ---       ┆ f64       ┆ ---       ┆ ---       │\n",
       "│            ┆         ┆           ┆ str       ┆   ┆ f64       ┆           ┆ f64       ┆ f64       │\n",
       "╞════════════╪═════════╪═══════════╪═══════════╪═══╪═══════════╪═══════════╪═══════════╪═══════════╡\n",
       "│ count      ┆ 1698818 ┆ 1.698818e ┆ 1698818   ┆ … ┆ 1.598505e ┆ 1.698818e ┆ 1.698818e ┆ 1.698818e │\n",
       "│            ┆         ┆ 6         ┆           ┆   ┆ 6         ┆ 6         ┆ 6         ┆ 6         │\n",
       "│ null_count ┆ 0       ┆ 0.0       ┆ 0         ┆ … ┆ 100313.0  ┆ 0.0       ┆ 0.0       ┆ 0.0       │\n",
       "│ mean       ┆ null    ┆ 5910.7508 ┆ 2018-06-2 ┆ … ┆ 271.99376 ┆ 3.944983  ┆ 3.839782  ┆ 0.058343  │\n",
       "│            ┆         ┆ 7         ┆ 4         ┆   ┆ 2         ┆           ┆           ┆           │\n",
       "│ std        ┆ null    ┆ 4285.4402 ┆ null      ┆ … ┆ 63.198466 ┆ 1.690606  ┆ 1.631242  ┆ 0.234391  │\n",
       "│            ┆         ┆ 64        ┆           ┆   ┆           ┆           ┆           ┆           │\n",
       "│ min        ┆ L1      ┆ 174.0     ┆ 2018-01-0 ┆ … ┆ 165.0     ┆ 0.0       ┆ 0.0       ┆ 0.0       │\n",
       "│            ┆         ┆           ┆ 1         ┆   ┆           ┆           ┆           ┆           │\n",
       "│ 25%        ┆ null    ┆ 2724.0    ┆ 2018-03-3 ┆ … ┆ 223.0     ┆ 3.0       ┆ 3.0       ┆ 0.0       │\n",
       "│            ┆         ┆           ┆ 0         ┆   ┆           ┆           ┆           ┆           │\n",
       "│ 50%        ┆ null    ┆ 5280.0    ┆ 2018-06-0 ┆ … ┆ 270.0     ┆ 4.0       ┆ 3.0       ┆ 0.0       │\n",
       "│            ┆         ┆           ┆ 8         ┆   ┆           ┆           ┆           ┆           │\n",
       "│ 75%        ┆ null    ┆ 6759.0    ┆ 2018-09-2 ┆ … ┆ 308.0     ┆ 5.0       ┆ 5.0       ┆ 0.0       │\n",
       "│            ┆         ┆           ┆ 4         ┆   ┆           ┆           ┆           ┆           │\n",
       "│ max        ┆ U3      ┆ 29555.0   ┆ 2018-12-3 ┆ … ┆ 423.0     ┆ 7.0       ┆ 7.0       ┆ 1.0       │\n",
       "│            ┆         ┆           ┆ 1         ┆   ┆           ┆           ┆           ┆           │\n",
       "└────────────┴─────────┴───────────┴───────────┴───┴───────────┴───────────┴───────────┴───────────┘"
      ]
     },
     "execution_count": 3,
     "metadata": {},
     "output_type": "execute_result"
    }
   ],
   "source": [
    "processed_train_df.describe()"
   ]
  },
  {
   "cell_type": "markdown",
   "metadata": {},
   "source": [
    "## Data processing"
   ]
  },
  {
   "cell_type": "markdown",
   "metadata": {},
   "source": [
    "### Train validation split"
   ]
  },
  {
   "cell_type": "code",
   "execution_count": 4,
   "metadata": {},
   "outputs": [
    {
     "data": {
      "text/html": [
       "<div><style>\n",
       ".dataframe > thead > tr,\n",
       ".dataframe > tbody > tr {\n",
       "  text-align: right;\n",
       "  white-space: pre-wrap;\n",
       "}\n",
       "</style>\n",
       "<small>shape: (1_430_585, 21)</small><table border=\"1\" class=\"dataframe\"><thead><tr><th>carrier</th><th>flt_num</th><th>flt_departure_dt</th><th>observation_date</th><th>total_fare</th><th>days_till_flight</th><th>is_dst</th><th>route_id</th><th>flt_departure_local_time</th><th>flt_arrival_local_time</th><th>dur_min</th><th>tz_min</th><th>over_mn</th><th>dpt_4h_od</th><th>flt_count_dpt_24h</th><th>flt_count_dpt_4h</th><th>scaled_demand</th><th>scaled_share</th><th>origin_id</th><th>destination_id</th><th>flt_info_null</th></tr><tr><td>str</td><td>i64</td><td>date</td><td>date</td><td>i64</td><td>i16</td><td>i8</td><td>u8</td><td>datetime[ns]</td><td>datetime[ns]</td><td>i16</td><td>i16</td><td>i8</td><td>i8</td><td>u8</td><td>u8</td><td>i64</td><td>i64</td><td>u8</td><td>u8</td><td>u8</td></tr></thead><tbody><tr><td>&quot;U1&quot;</td><td>6143</td><td>2018-01-01</td><td>2017-11-27</td><td>469</td><td>35</td><td>0</td><td>11</td><td>null</td><td>null</td><td>null</td><td>null</td><td>null</td><td>null</td><td>null</td><td>null</td><td>null</td><td>null</td><td>7</td><td>3</td><td>1</td></tr><tr><td>&quot;L1&quot;</td><td>5927</td><td>2018-01-01</td><td>2017-11-27</td><td>1119</td><td>35</td><td>0</td><td>1</td><td>2018-01-01 20:33:00</td><td>2018-01-01 23:50:00</td><td>197</td><td>-300</td><td>0</td><td>5</td><td>5</td><td>1</td><td>1468</td><td>360</td><td>1</td><td>5</td><td>0</td></tr><tr><td>&quot;L3&quot;</td><td>18075</td><td>2018-01-01</td><td>2017-11-27</td><td>422</td><td>35</td><td>0</td><td>6</td><td>2018-01-01 13:20:00</td><td>2018-01-01 14:35:00</td><td>75</td><td>-480</td><td>0</td><td>3</td><td>30</td><td>9</td><td>6659</td><td>228</td><td>4</td><td>3</td><td>0</td></tr><tr><td>&quot;OTH&quot;</td><td>2416</td><td>2018-01-01</td><td>2017-11-27</td><td>787</td><td>35</td><td>0</td><td>4</td><td>2018-01-01 20:22:00</td><td>2018-01-01 21:46:00</td><td>84</td><td>-480</td><td>0</td><td>5</td><td>30</td><td>4</td><td>6659</td><td>316</td><td>3</td><td>4</td><td>0</td></tr><tr><td>&quot;L3&quot;</td><td>18270</td><td>2018-01-01</td><td>2017-11-27</td><td>1298</td><td>35</td><td>0</td><td>4</td><td>2018-01-01 11:17:00</td><td>2018-01-01 12:40:00</td><td>83</td><td>-480</td><td>0</td><td>2</td><td>30</td><td>5</td><td>6659</td><td>231</td><td>3</td><td>4</td><td>0</td></tr><tr><td>&quot;L1&quot;</td><td>1396</td><td>2018-01-01</td><td>2017-11-27</td><td>372</td><td>35</td><td>0</td><td>11</td><td>2018-01-01 19:35:00</td><td>2018-01-01 21:08:00</td><td>93</td><td>-480</td><td>0</td><td>4</td><td>21</td><td>7</td><td>6579</td><td>262</td><td>7</td><td>3</td><td>0</td></tr><tr><td>&quot;U1&quot;</td><td>4771</td><td>2018-01-01</td><td>2017-11-27</td><td>513</td><td>35</td><td>0</td><td>4</td><td>null</td><td>null</td><td>null</td><td>null</td><td>null</td><td>null</td><td>null</td><td>null</td><td>null</td><td>null</td><td>3</td><td>4</td><td>1</td></tr><tr><td>&quot;OTH&quot;</td><td>4825</td><td>2018-01-01</td><td>2017-11-27</td><td>432</td><td>35</td><td>0</td><td>6</td><td>2018-01-01 12:55:00</td><td>2018-01-01 14:07:00</td><td>72</td><td>-480</td><td>0</td><td>3</td><td>30</td><td>9</td><td>6659</td><td>316</td><td>4</td><td>3</td><td>0</td></tr><tr><td>&quot;OTH&quot;</td><td>6175</td><td>2018-01-01</td><td>2017-11-27</td><td>341</td><td>35</td><td>0</td><td>11</td><td>2018-01-01 18:55:00</td><td>2018-01-01 20:23:00</td><td>88</td><td>-480</td><td>0</td><td>4</td><td>21</td><td>7</td><td>6579</td><td>354</td><td>7</td><td>3</td><td>0</td></tr><tr><td>&quot;U1&quot;</td><td>6187</td><td>2018-01-01</td><td>2017-11-27</td><td>341</td><td>35</td><td>0</td><td>11</td><td>null</td><td>null</td><td>null</td><td>null</td><td>null</td><td>null</td><td>null</td><td>null</td><td>null</td><td>null</td><td>7</td><td>3</td><td>1</td></tr><tr><td>&hellip;</td><td>&hellip;</td><td>&hellip;</td><td>&hellip;</td><td>&hellip;</td><td>&hellip;</td><td>&hellip;</td><td>&hellip;</td><td>&hellip;</td><td>&hellip;</td><td>&hellip;</td><td>&hellip;</td><td>&hellip;</td><td>&hellip;</td><td>&hellip;</td><td>&hellip;</td><td>&hellip;</td><td>&hellip;</td><td>&hellip;</td><td>&hellip;</td><td>&hellip;</td></tr><tr><td>&quot;U1&quot;</td><td>6187</td><td>2018-10-31</td><td>2018-10-31</td><td>1111</td><td>0</td><td>1</td><td>11</td><td>2018-10-31 19:55:00</td><td>2018-10-31 21:31:00</td><td>96</td><td>-420</td><td>0</td><td>4</td><td>22</td><td>7</td><td>7120</td><td>238</td><td>7</td><td>3</td><td>0</td></tr><tr><td>&quot;U3&quot;</td><td>758</td><td>2018-10-31</td><td>2018-10-31</td><td>498</td><td>0</td><td>1</td><td>7</td><td>2018-10-31 15:30:00</td><td>2018-10-31 16:47:00</td><td>77</td><td>-300</td><td>0</td><td>3</td><td>8</td><td>1</td><td>3162</td><td>203</td><td>5</td><td>0</td><td>0</td></tr><tr><td>&quot;U1&quot;</td><td>4771</td><td>2018-10-31</td><td>2018-10-31</td><td>395</td><td>0</td><td>1</td><td>4</td><td>2018-10-31 09:10:00</td><td>2018-10-31 10:30:00</td><td>80</td><td>-420</td><td>0</td><td>2</td><td>32</td><td>9</td><td>7704</td><td>197</td><td>3</td><td>4</td><td>0</td></tr><tr><td>&quot;L3&quot;</td><td>11296</td><td>2018-10-31</td><td>2018-10-31</td><td>2492</td><td>0</td><td>1</td><td>6</td><td>2018-10-31 11:00:00</td><td>2018-10-31 12:18:00</td><td>78</td><td>-420</td><td>0</td><td>2</td><td>32</td><td>8</td><td>7704</td><td>224</td><td>4</td><td>3</td><td>0</td></tr><tr><td>&quot;L2&quot;</td><td>5041</td><td>2018-10-31</td><td>2018-10-31</td><td>781</td><td>0</td><td>1</td><td>6</td><td>2018-10-31 12:35:00</td><td>2018-10-31 13:50:00</td><td>75</td><td>-420</td><td>0</td><td>3</td><td>32</td><td>10</td><td>7704</td><td>218</td><td>4</td><td>3</td><td>0</td></tr><tr><td>&quot;L1&quot;</td><td>1763</td><td>2018-10-31</td><td>2018-10-31</td><td>3277</td><td>0</td><td>1</td><td>10</td><td>2018-10-31 19:47:00</td><td>2018-10-31 22:39:00</td><td>172</td><td>-300</td><td>0</td><td>4</td><td>3</td><td>1</td><td>1941</td><td>326</td><td>6</td><td>5</td><td>0</td></tr><tr><td>&quot;L3&quot;</td><td>3845</td><td>2018-10-31</td><td>2018-10-31</td><td>671</td><td>0</td><td>1</td><td>4</td><td>2018-10-31 11:11:00</td><td>2018-10-31 12:31:00</td><td>80</td><td>-420</td><td>0</td><td>2</td><td>32</td><td>9</td><td>7704</td><td>225</td><td>3</td><td>4</td><td>0</td></tr><tr><td>&quot;L1&quot;</td><td>5559</td><td>2018-10-31</td><td>2018-10-31</td><td>2021</td><td>0</td><td>1</td><td>3</td><td>2018-10-31 10:15:00</td><td>2018-10-31 15:06:00</td><td>291</td><td>-420</td><td>0</td><td>2</td><td>8</td><td>1</td><td>2816</td><td>402</td><td>3</td><td>2</td><td>0</td></tr><tr><td>&quot;U1&quot;</td><td>4790</td><td>2018-10-31</td><td>2018-10-31</td><td>395</td><td>0</td><td>1</td><td>4</td><td>2018-10-31 14:25:00</td><td>2018-10-31 15:47:00</td><td>82</td><td>-420</td><td>0</td><td>3</td><td>32</td><td>9</td><td>7704</td><td>197</td><td>3</td><td>4</td><td>0</td></tr><tr><td>&quot;U1&quot;</td><td>3832</td><td>2018-10-31</td><td>2018-10-31</td><td>517</td><td>0</td><td>1</td><td>6</td><td>2018-10-31 07:00:00</td><td>2018-10-31 08:16:00</td><td>76</td><td>-420</td><td>0</td><td>1</td><td>32</td><td>3</td><td>7704</td><td>199</td><td>4</td><td>3</td><td>0</td></tr></tbody></table></div>"
      ],
      "text/plain": [
       "shape: (1_430_585, 21)\n",
       "┌─────────┬─────────┬────────────┬────────────┬───┬────────────┬───────────┬───────────┬───────────┐\n",
       "│ carrier ┆ flt_num ┆ flt_depart ┆ observatio ┆ … ┆ scaled_sha ┆ origin_id ┆ destinati ┆ flt_info_ │\n",
       "│ ---     ┆ ---     ┆ ure_dt     ┆ n_date     ┆   ┆ re         ┆ ---       ┆ on_id     ┆ null      │\n",
       "│ str     ┆ i64     ┆ ---        ┆ ---        ┆   ┆ ---        ┆ u8        ┆ ---       ┆ ---       │\n",
       "│         ┆         ┆ date       ┆ date       ┆   ┆ i64        ┆           ┆ u8        ┆ u8        │\n",
       "╞═════════╪═════════╪════════════╪════════════╪═══╪════════════╪═══════════╪═══════════╪═══════════╡\n",
       "│ U1      ┆ 6143    ┆ 2018-01-01 ┆ 2017-11-27 ┆ … ┆ null       ┆ 7         ┆ 3         ┆ 1         │\n",
       "│ L1      ┆ 5927    ┆ 2018-01-01 ┆ 2017-11-27 ┆ … ┆ 360        ┆ 1         ┆ 5         ┆ 0         │\n",
       "│ L3      ┆ 18075   ┆ 2018-01-01 ┆ 2017-11-27 ┆ … ┆ 228        ┆ 4         ┆ 3         ┆ 0         │\n",
       "│ OTH     ┆ 2416    ┆ 2018-01-01 ┆ 2017-11-27 ┆ … ┆ 316        ┆ 3         ┆ 4         ┆ 0         │\n",
       "│ L3      ┆ 18270   ┆ 2018-01-01 ┆ 2017-11-27 ┆ … ┆ 231        ┆ 3         ┆ 4         ┆ 0         │\n",
       "│ L1      ┆ 1396    ┆ 2018-01-01 ┆ 2017-11-27 ┆ … ┆ 262        ┆ 7         ┆ 3         ┆ 0         │\n",
       "│ U1      ┆ 4771    ┆ 2018-01-01 ┆ 2017-11-27 ┆ … ┆ null       ┆ 3         ┆ 4         ┆ 1         │\n",
       "│ OTH     ┆ 4825    ┆ 2018-01-01 ┆ 2017-11-27 ┆ … ┆ 316        ┆ 4         ┆ 3         ┆ 0         │\n",
       "│ OTH     ┆ 6175    ┆ 2018-01-01 ┆ 2017-11-27 ┆ … ┆ 354        ┆ 7         ┆ 3         ┆ 0         │\n",
       "│ U1      ┆ 6187    ┆ 2018-01-01 ┆ 2017-11-27 ┆ … ┆ null       ┆ 7         ┆ 3         ┆ 1         │\n",
       "│ …       ┆ …       ┆ …          ┆ …          ┆ … ┆ …          ┆ …         ┆ …         ┆ …         │\n",
       "│ U1      ┆ 6187    ┆ 2018-10-31 ┆ 2018-10-31 ┆ … ┆ 238        ┆ 7         ┆ 3         ┆ 0         │\n",
       "│ U3      ┆ 758     ┆ 2018-10-31 ┆ 2018-10-31 ┆ … ┆ 203        ┆ 5         ┆ 0         ┆ 0         │\n",
       "│ U1      ┆ 4771    ┆ 2018-10-31 ┆ 2018-10-31 ┆ … ┆ 197        ┆ 3         ┆ 4         ┆ 0         │\n",
       "│ L3      ┆ 11296   ┆ 2018-10-31 ┆ 2018-10-31 ┆ … ┆ 224        ┆ 4         ┆ 3         ┆ 0         │\n",
       "│ L2      ┆ 5041    ┆ 2018-10-31 ┆ 2018-10-31 ┆ … ┆ 218        ┆ 4         ┆ 3         ┆ 0         │\n",
       "│ L1      ┆ 1763    ┆ 2018-10-31 ┆ 2018-10-31 ┆ … ┆ 326        ┆ 6         ┆ 5         ┆ 0         │\n",
       "│ L3      ┆ 3845    ┆ 2018-10-31 ┆ 2018-10-31 ┆ … ┆ 225        ┆ 3         ┆ 4         ┆ 0         │\n",
       "│ L1      ┆ 5559    ┆ 2018-10-31 ┆ 2018-10-31 ┆ … ┆ 402        ┆ 3         ┆ 2         ┆ 0         │\n",
       "│ U1      ┆ 4790    ┆ 2018-10-31 ┆ 2018-10-31 ┆ … ┆ 197        ┆ 3         ┆ 4         ┆ 0         │\n",
       "│ U1      ┆ 3832    ┆ 2018-10-31 ┆ 2018-10-31 ┆ … ┆ 199        ┆ 4         ┆ 3         ┆ 0         │\n",
       "└─────────┴─────────┴────────────┴────────────┴───┴────────────┴───────────┴───────────┴───────────┘"
      ]
     },
     "execution_count": 4,
     "metadata": {},
     "output_type": "execute_result"
    }
   ],
   "source": [
    "train_df = processed_train_df.filter(\n",
    "    pl.col('flt_departure_dt') <= VALIDATION_CUTOFF\n",
    ")\n",
    "\n",
    "train_df"
   ]
  },
  {
   "cell_type": "code",
   "execution_count": 5,
   "metadata": {},
   "outputs": [
    {
     "data": {
      "text/html": [
       "<div><style>\n",
       ".dataframe > thead > tr,\n",
       ".dataframe > tbody > tr {\n",
       "  text-align: right;\n",
       "  white-space: pre-wrap;\n",
       "}\n",
       "</style>\n",
       "<small>shape: (9, 22)</small><table border=\"1\" class=\"dataframe\"><thead><tr><th>statistic</th><th>carrier</th><th>flt_num</th><th>flt_departure_dt</th><th>observation_date</th><th>total_fare</th><th>days_till_flight</th><th>is_dst</th><th>route_id</th><th>flt_departure_local_time</th><th>flt_arrival_local_time</th><th>dur_min</th><th>tz_min</th><th>over_mn</th><th>dpt_4h_od</th><th>flt_count_dpt_24h</th><th>flt_count_dpt_4h</th><th>scaled_demand</th><th>scaled_share</th><th>origin_id</th><th>destination_id</th><th>flt_info_null</th></tr><tr><td>str</td><td>str</td><td>f64</td><td>str</td><td>str</td><td>f64</td><td>f64</td><td>f64</td><td>f64</td><td>str</td><td>str</td><td>f64</td><td>f64</td><td>f64</td><td>f64</td><td>f64</td><td>f64</td><td>f64</td><td>f64</td><td>f64</td><td>f64</td><td>f64</td></tr></thead><tbody><tr><td>&quot;count&quot;</td><td>&quot;1430585&quot;</td><td>1.430585e6</td><td>&quot;1430585&quot;</td><td>&quot;1430585&quot;</td><td>1.430585e6</td><td>1.430585e6</td><td>1.430585e6</td><td>1.430585e6</td><td>&quot;1334286&quot;</td><td>&quot;1334286&quot;</td><td>1.334286e6</td><td>1.334286e6</td><td>1.334286e6</td><td>1.334286e6</td><td>1.334286e6</td><td>1.334286e6</td><td>1.330272e6</td><td>1.330272e6</td><td>1.430585e6</td><td>1.430585e6</td><td>1.430585e6</td></tr><tr><td>&quot;null_count&quot;</td><td>&quot;0&quot;</td><td>0.0</td><td>&quot;0&quot;</td><td>&quot;0&quot;</td><td>0.0</td><td>0.0</td><td>0.0</td><td>0.0</td><td>&quot;96299&quot;</td><td>&quot;96299&quot;</td><td>96299.0</td><td>96299.0</td><td>96299.0</td><td>96299.0</td><td>96299.0</td><td>96299.0</td><td>100313.0</td><td>100313.0</td><td>0.0</td><td>0.0</td><td>0.0</td></tr><tr><td>&quot;mean&quot;</td><td>null</td><td>5935.910139</td><td>&quot;2018-05-25&quot;</td><td>&quot;2018-05-08&quot;</td><td>693.371445</td><td>17.24151</td><td>0.817043</td><td>5.943453</td><td>&quot;2018-05-31 15:40:39.300480&quot;</td><td>&quot;2018-05-31 17:36:15.812906&quot;</td><td>115.60854</td><td>-398.055364</td><td>0.013749</td><td>2.939778</td><td>23.221803</td><td>5.333864</td><td>5769.208711</td><td>272.781796</td><td>3.959293</td><td>3.83536</td><td>0.067314</td></tr><tr><td>&quot;std&quot;</td><td>null</td><td>4303.897663</td><td>null</td><td>null</td><td>464.029222</td><td>12.550131</td><td>0.386631</td><td>2.967777</td><td>null</td><td>null</td><td>62.478949</td><td>60.514975</td><td>0.116447</td><td>1.264207</td><td>11.936927</td><td>3.006358</td><td>2372.540332</td><td>63.577805</td><td>1.691466</td><td>1.62231</td><td>0.250566</td></tr><tr><td>&quot;min&quot;</td><td>&quot;L1&quot;</td><td>174.0</td><td>&quot;2018-01-01&quot;</td><td>&quot;2017-11-27&quot;</td><td>234.0</td><td>0.0</td><td>0.0</td><td>0.0</td><td>&quot;2018-01-01 05:31:00&quot;</td><td>&quot;2018-01-01 07:02:00&quot;</td><td>60.0</td><td>-480.0</td><td>0.0</td><td>0.0</td><td>2.0</td><td>1.0</td><td>1378.0</td><td>166.0</td><td>0.0</td><td>0.0</td><td>0.0</td></tr><tr><td>&quot;25%&quot;</td><td>null</td><td>2727.0</td><td>&quot;2018-03-22&quot;</td><td>&quot;2018-03-05&quot;</td><td>395.0</td><td>8.0</td><td>1.0</td><td>4.0</td><td>&quot;2018-03-26 21:30:00&quot;</td><td>&quot;2018-03-26 23:35:00&quot;</td><td>79.0</td><td>-420.0</td><td>0.0</td><td>2.0</td><td>9.0</td><td>3.0</td><td>2864.0</td><td>222.0</td><td>3.0</td><td>3.0</td><td>0.0</td></tr><tr><td>&quot;50%&quot;</td><td>null</td><td>5274.0</td><td>&quot;2018-05-06&quot;</td><td>&quot;2018-04-17&quot;</td><td>545.0</td><td>16.0</td><td>1.0</td><td>6.0</td><td>&quot;2018-05-16 19:10:00&quot;</td><td>&quot;2018-05-16 20:52:00&quot;</td><td>90.0</td><td>-420.0</td><td>0.0</td><td>3.0</td><td>23.0</td><td>5.0</td><td>7054.0</td><td>276.0</td><td>4.0</td><td>3.0</td><td>0.0</td></tr><tr><td>&quot;75%&quot;</td><td>null</td><td>6759.0</td><td>&quot;2018-08-05&quot;</td><td>&quot;2018-07-19&quot;</td><td>812.0</td><td>26.0</td><td>1.0</td><td>8.0</td><td>&quot;2018-08-11 07:00:00&quot;</td><td>&quot;2018-08-11 09:09:00&quot;</td><td>104.0</td><td>-360.0</td><td>0.0</td><td>4.0</td><td>35.0</td><td>8.0</td><td>7578.0</td><td>311.0</td><td>5.0</td><td>5.0</td><td>0.0</td></tr><tr><td>&quot;max&quot;</td><td>&quot;U3&quot;</td><td>29555.0</td><td>&quot;2018-10-31&quot;</td><td>&quot;2018-10-31&quot;</td><td>6354.0</td><td>328.0</td><td>1.0</td><td>11.0</td><td>&quot;2018-10-31 22:40:00&quot;</td><td>&quot;2018-10-31 23:51:00&quot;</td><td>304.0</td><td>-240.0</td><td>1.0</td><td>5.0</td><td>43.0</td><td>12.0</td><td>8396.0</td><td>423.0</td><td>7.0</td><td>7.0</td><td>1.0</td></tr></tbody></table></div>"
      ],
      "text/plain": [
       "shape: (9, 22)\n",
       "┌────────────┬─────────┬───────────┬───────────┬───┬───────────┬───────────┬───────────┬───────────┐\n",
       "│ statistic  ┆ carrier ┆ flt_num   ┆ flt_depar ┆ … ┆ scaled_sh ┆ origin_id ┆ destinati ┆ flt_info_ │\n",
       "│ ---        ┆ ---     ┆ ---       ┆ ture_dt   ┆   ┆ are       ┆ ---       ┆ on_id     ┆ null      │\n",
       "│ str        ┆ str     ┆ f64       ┆ ---       ┆   ┆ ---       ┆ f64       ┆ ---       ┆ ---       │\n",
       "│            ┆         ┆           ┆ str       ┆   ┆ f64       ┆           ┆ f64       ┆ f64       │\n",
       "╞════════════╪═════════╪═══════════╪═══════════╪═══╪═══════════╪═══════════╪═══════════╪═══════════╡\n",
       "│ count      ┆ 1430585 ┆ 1.430585e ┆ 1430585   ┆ … ┆ 1.330272e ┆ 1.430585e ┆ 1.430585e ┆ 1.430585e │\n",
       "│            ┆         ┆ 6         ┆           ┆   ┆ 6         ┆ 6         ┆ 6         ┆ 6         │\n",
       "│ null_count ┆ 0       ┆ 0.0       ┆ 0         ┆ … ┆ 100313.0  ┆ 0.0       ┆ 0.0       ┆ 0.0       │\n",
       "│ mean       ┆ null    ┆ 5935.9101 ┆ 2018-05-2 ┆ … ┆ 272.78179 ┆ 3.959293  ┆ 3.83536   ┆ 0.067314  │\n",
       "│            ┆         ┆ 39        ┆ 5         ┆   ┆ 6         ┆           ┆           ┆           │\n",
       "│ std        ┆ null    ┆ 4303.8976 ┆ null      ┆ … ┆ 63.577805 ┆ 1.691466  ┆ 1.62231   ┆ 0.250566  │\n",
       "│            ┆         ┆ 63        ┆           ┆   ┆           ┆           ┆           ┆           │\n",
       "│ min        ┆ L1      ┆ 174.0     ┆ 2018-01-0 ┆ … ┆ 166.0     ┆ 0.0       ┆ 0.0       ┆ 0.0       │\n",
       "│            ┆         ┆           ┆ 1         ┆   ┆           ┆           ┆           ┆           │\n",
       "│ 25%        ┆ null    ┆ 2727.0    ┆ 2018-03-2 ┆ … ┆ 222.0     ┆ 3.0       ┆ 3.0       ┆ 0.0       │\n",
       "│            ┆         ┆           ┆ 2         ┆   ┆           ┆           ┆           ┆           │\n",
       "│ 50%        ┆ null    ┆ 5274.0    ┆ 2018-05-0 ┆ … ┆ 276.0     ┆ 4.0       ┆ 3.0       ┆ 0.0       │\n",
       "│            ┆         ┆           ┆ 6         ┆   ┆           ┆           ┆           ┆           │\n",
       "│ 75%        ┆ null    ┆ 6759.0    ┆ 2018-08-0 ┆ … ┆ 311.0     ┆ 5.0       ┆ 5.0       ┆ 0.0       │\n",
       "│            ┆         ┆           ┆ 5         ┆   ┆           ┆           ┆           ┆           │\n",
       "│ max        ┆ U3      ┆ 29555.0   ┆ 2018-10-3 ┆ … ┆ 423.0     ┆ 7.0       ┆ 7.0       ┆ 1.0       │\n",
       "│            ┆         ┆           ┆ 1         ┆   ┆           ┆           ┆           ┆           │\n",
       "└────────────┴─────────┴───────────┴───────────┴───┴───────────┴───────────┴───────────┴───────────┘"
      ]
     },
     "execution_count": 5,
     "metadata": {},
     "output_type": "execute_result"
    }
   ],
   "source": [
    "train_df.describe()"
   ]
  },
  {
   "cell_type": "code",
   "execution_count": 6,
   "metadata": {},
   "outputs": [
    {
     "data": {
      "text/html": [
       "<div><style>\n",
       ".dataframe > thead > tr,\n",
       ".dataframe > tbody > tr {\n",
       "  text-align: right;\n",
       "  white-space: pre-wrap;\n",
       "}\n",
       "</style>\n",
       "<small>shape: (268_233, 21)</small><table border=\"1\" class=\"dataframe\"><thead><tr><th>carrier</th><th>flt_num</th><th>flt_departure_dt</th><th>observation_date</th><th>total_fare</th><th>days_till_flight</th><th>is_dst</th><th>route_id</th><th>flt_departure_local_time</th><th>flt_arrival_local_time</th><th>dur_min</th><th>tz_min</th><th>over_mn</th><th>dpt_4h_od</th><th>flt_count_dpt_24h</th><th>flt_count_dpt_4h</th><th>scaled_demand</th><th>scaled_share</th><th>origin_id</th><th>destination_id</th><th>flt_info_null</th></tr><tr><td>str</td><td>i64</td><td>date</td><td>date</td><td>i64</td><td>i16</td><td>i8</td><td>u8</td><td>datetime[ns]</td><td>datetime[ns]</td><td>i16</td><td>i16</td><td>i8</td><td>i8</td><td>u8</td><td>u8</td><td>i64</td><td>i64</td><td>u8</td><td>u8</td><td>u8</td></tr></thead><tbody><tr><td>&quot;U1&quot;</td><td>6184</td><td>2018-11-01</td><td>2018-02-14</td><td>397</td><td>260</td><td>1</td><td>5</td><td>2018-11-01 20:20:00</td><td>2018-11-01 22:02:00</td><td>102</td><td>-420</td><td>0</td><td>5</td><td>23</td><td>2</td><td>6396</td><td>250</td><td>3</td><td>7</td><td>0</td></tr><tr><td>&quot;L1&quot;</td><td>2444</td><td>2018-11-01</td><td>2018-02-14</td><td>369</td><td>260</td><td>1</td><td>5</td><td>null</td><td>null</td><td>null</td><td>null</td><td>null</td><td>null</td><td>null</td><td>null</td><td>6396</td><td>292</td><td>3</td><td>7</td><td>1</td></tr><tr><td>&quot;U1&quot;</td><td>6134</td><td>2018-11-01</td><td>2018-02-14</td><td>425</td><td>260</td><td>1</td><td>5</td><td>2018-11-01 10:50:00</td><td>2018-11-01 12:33:00</td><td>103</td><td>-420</td><td>0</td><td>2</td><td>23</td><td>5</td><td>6396</td><td>250</td><td>3</td><td>7</td><td>0</td></tr><tr><td>&quot;L1&quot;</td><td>1575</td><td>2018-11-01</td><td>2018-02-14</td><td>416</td><td>260</td><td>1</td><td>5</td><td>2018-11-01 11:10:00</td><td>2018-11-01 12:46:00</td><td>96</td><td>-420</td><td>0</td><td>2</td><td>23</td><td>5</td><td>6396</td><td>292</td><td>3</td><td>7</td><td>0</td></tr><tr><td>&quot;L1&quot;</td><td>5811</td><td>2018-11-01</td><td>2018-02-14</td><td>564</td><td>260</td><td>1</td><td>5</td><td>2018-11-01 15:15:00</td><td>2018-11-01 16:49:00</td><td>94</td><td>-420</td><td>0</td><td>3</td><td>23</td><td>6</td><td>6396</td><td>292</td><td>3</td><td>7</td><td>0</td></tr><tr><td>&quot;L1&quot;</td><td>18973</td><td>2018-11-01</td><td>2018-02-14</td><td>717</td><td>260</td><td>1</td><td>5</td><td>null</td><td>null</td><td>null</td><td>null</td><td>null</td><td>null</td><td>null</td><td>null</td><td>6396</td><td>292</td><td>3</td><td>7</td><td>1</td></tr><tr><td>&quot;L1&quot;</td><td>5675</td><td>2018-11-01</td><td>2018-02-14</td><td>466</td><td>260</td><td>1</td><td>5</td><td>2018-11-01 13:17:00</td><td>2018-11-01 14:53:00</td><td>96</td><td>-420</td><td>0</td><td>3</td><td>23</td><td>6</td><td>6396</td><td>292</td><td>3</td><td>7</td><td>0</td></tr><tr><td>&quot;U1&quot;</td><td>6153</td><td>2018-11-01</td><td>2018-02-14</td><td>466</td><td>260</td><td>1</td><td>5</td><td>2018-11-01 17:20:00</td><td>2018-11-01 19:02:00</td><td>102</td><td>-420</td><td>0</td><td>4</td><td>23</td><td>7</td><td>6396</td><td>250</td><td>3</td><td>7</td><td>0</td></tr><tr><td>&quot;U1&quot;</td><td>6178</td><td>2018-11-01</td><td>2018-02-14</td><td>425</td><td>260</td><td>1</td><td>5</td><td>2018-11-01 18:30:00</td><td>2018-11-01 20:12:00</td><td>102</td><td>-420</td><td>0</td><td>4</td><td>23</td><td>7</td><td>6396</td><td>250</td><td>3</td><td>7</td><td>0</td></tr><tr><td>&quot;U1&quot;</td><td>6146</td><td>2018-11-01</td><td>2018-02-14</td><td>388</td><td>260</td><td>1</td><td>5</td><td>null</td><td>null</td><td>null</td><td>null</td><td>null</td><td>null</td><td>null</td><td>null</td><td>6396</td><td>250</td><td>3</td><td>7</td><td>1</td></tr><tr><td>&hellip;</td><td>&hellip;</td><td>&hellip;</td><td>&hellip;</td><td>&hellip;</td><td>&hellip;</td><td>&hellip;</td><td>&hellip;</td><td>&hellip;</td><td>&hellip;</td><td>&hellip;</td><td>&hellip;</td><td>&hellip;</td><td>&hellip;</td><td>&hellip;</td><td>&hellip;</td><td>&hellip;</td><td>&hellip;</td><td>&hellip;</td><td>&hellip;</td><td>&hellip;</td></tr><tr><td>&quot;L1&quot;</td><td>7431</td><td>2018-12-31</td><td>2018-12-31</td><td>1346</td><td>0</td><td>0</td><td>1</td><td>2018-12-31 07:00:00</td><td>2018-12-31 10:11:00</td><td>191</td><td>-300</td><td>0</td><td>1</td><td>4</td><td>1</td><td>2164</td><td>373</td><td>1</td><td>5</td><td>0</td></tr><tr><td>&quot;L1&quot;</td><td>981</td><td>2018-12-31</td><td>2018-12-31</td><td>3142</td><td>0</td><td>0</td><td>10</td><td>2018-12-31 18:49:00</td><td>2018-12-31 21:43:00</td><td>174</td><td>-360</td><td>0</td><td>4</td><td>6</td><td>1</td><td>1618</td><td>317</td><td>6</td><td>5</td><td>0</td></tr><tr><td>&quot;L1&quot;</td><td>1283</td><td>2018-12-31</td><td>2018-12-31</td><td>1111</td><td>0</td><td>0</td><td>11</td><td>2018-12-31 10:50:00</td><td>2018-12-31 12:20:00</td><td>90</td><td>-480</td><td>0</td><td>2</td><td>21</td><td>5</td><td>5817</td><td>288</td><td>7</td><td>3</td><td>0</td></tr><tr><td>&quot;L1&quot;</td><td>7588</td><td>2018-12-31</td><td>2018-12-31</td><td>1111</td><td>0</td><td>0</td><td>11</td><td>2018-12-31 22:52:00</td><td>2019-01-01 00:26:00</td><td>94</td><td>-480</td><td>1</td><td>5</td><td>21</td><td>3</td><td>5817</td><td>288</td><td>7</td><td>3</td><td>0</td></tr><tr><td>&quot;L1&quot;</td><td>5135</td><td>2018-12-31</td><td>2018-12-31</td><td>1924</td><td>0</td><td>0</td><td>7</td><td>2018-12-31 07:25:00</td><td>2018-12-31 08:42:00</td><td>77</td><td>-360</td><td>0</td><td>1</td><td>8</td><td>3</td><td>3070</td><td>272</td><td>5</td><td>0</td><td>0</td></tr><tr><td>&quot;L1&quot;</td><td>3120</td><td>2018-12-31</td><td>2018-12-31</td><td>1111</td><td>0</td><td>0</td><td>11</td><td>2018-12-31 16:28:00</td><td>2018-12-31 17:58:00</td><td>90</td><td>-480</td><td>0</td><td>4</td><td>21</td><td>7</td><td>5817</td><td>288</td><td>7</td><td>3</td><td>0</td></tr><tr><td>&quot;U1&quot;</td><td>2388</td><td>2018-12-31</td><td>2018-12-31</td><td>1111</td><td>0</td><td>0</td><td>11</td><td>2018-12-31 09:25:00</td><td>2018-12-31 10:52:00</td><td>87</td><td>-480</td><td>0</td><td>2</td><td>21</td><td>5</td><td>5817</td><td>253</td><td>7</td><td>3</td><td>0</td></tr><tr><td>&quot;L1&quot;</td><td>6294</td><td>2018-12-31</td><td>2018-12-31</td><td>2037</td><td>0</td><td>0</td><td>3</td><td>2018-12-31 13:43:00</td><td>2018-12-31 18:45:00</td><td>302</td><td>-480</td><td>0</td><td>3</td><td>7</td><td>2</td><td>2790</td><td>405</td><td>3</td><td>2</td><td>0</td></tr><tr><td>&quot;U1&quot;</td><td>6178</td><td>2018-12-31</td><td>2018-12-31</td><td>1111</td><td>0</td><td>0</td><td>5</td><td>2018-12-31 19:05:00</td><td>2018-12-31 20:44:00</td><td>99</td><td>-480</td><td>0</td><td>4</td><td>21</td><td>7</td><td>5817</td><td>252</td><td>3</td><td>7</td><td>0</td></tr><tr><td>&quot;L1&quot;</td><td>10926</td><td>2018-12-31</td><td>2018-12-31</td><td>3142</td><td>0</td><td>0</td><td>10</td><td>2018-12-31 15:50:00</td><td>2018-12-31 18:49:00</td><td>179</td><td>-360</td><td>0</td><td>3</td><td>6</td><td>3</td><td>1618</td><td>317</td><td>6</td><td>5</td><td>0</td></tr></tbody></table></div>"
      ],
      "text/plain": [
       "shape: (268_233, 21)\n",
       "┌─────────┬─────────┬────────────┬────────────┬───┬────────────┬───────────┬───────────┬───────────┐\n",
       "│ carrier ┆ flt_num ┆ flt_depart ┆ observatio ┆ … ┆ scaled_sha ┆ origin_id ┆ destinati ┆ flt_info_ │\n",
       "│ ---     ┆ ---     ┆ ure_dt     ┆ n_date     ┆   ┆ re         ┆ ---       ┆ on_id     ┆ null      │\n",
       "│ str     ┆ i64     ┆ ---        ┆ ---        ┆   ┆ ---        ┆ u8        ┆ ---       ┆ ---       │\n",
       "│         ┆         ┆ date       ┆ date       ┆   ┆ i64        ┆           ┆ u8        ┆ u8        │\n",
       "╞═════════╪═════════╪════════════╪════════════╪═══╪════════════╪═══════════╪═══════════╪═══════════╡\n",
       "│ U1      ┆ 6184    ┆ 2018-11-01 ┆ 2018-02-14 ┆ … ┆ 250        ┆ 3         ┆ 7         ┆ 0         │\n",
       "│ L1      ┆ 2444    ┆ 2018-11-01 ┆ 2018-02-14 ┆ … ┆ 292        ┆ 3         ┆ 7         ┆ 1         │\n",
       "│ U1      ┆ 6134    ┆ 2018-11-01 ┆ 2018-02-14 ┆ … ┆ 250        ┆ 3         ┆ 7         ┆ 0         │\n",
       "│ L1      ┆ 1575    ┆ 2018-11-01 ┆ 2018-02-14 ┆ … ┆ 292        ┆ 3         ┆ 7         ┆ 0         │\n",
       "│ L1      ┆ 5811    ┆ 2018-11-01 ┆ 2018-02-14 ┆ … ┆ 292        ┆ 3         ┆ 7         ┆ 0         │\n",
       "│ L1      ┆ 18973   ┆ 2018-11-01 ┆ 2018-02-14 ┆ … ┆ 292        ┆ 3         ┆ 7         ┆ 1         │\n",
       "│ L1      ┆ 5675    ┆ 2018-11-01 ┆ 2018-02-14 ┆ … ┆ 292        ┆ 3         ┆ 7         ┆ 0         │\n",
       "│ U1      ┆ 6153    ┆ 2018-11-01 ┆ 2018-02-14 ┆ … ┆ 250        ┆ 3         ┆ 7         ┆ 0         │\n",
       "│ U1      ┆ 6178    ┆ 2018-11-01 ┆ 2018-02-14 ┆ … ┆ 250        ┆ 3         ┆ 7         ┆ 0         │\n",
       "│ U1      ┆ 6146    ┆ 2018-11-01 ┆ 2018-02-14 ┆ … ┆ 250        ┆ 3         ┆ 7         ┆ 1         │\n",
       "│ …       ┆ …       ┆ …          ┆ …          ┆ … ┆ …          ┆ …         ┆ …         ┆ …         │\n",
       "│ L1      ┆ 7431    ┆ 2018-12-31 ┆ 2018-12-31 ┆ … ┆ 373        ┆ 1         ┆ 5         ┆ 0         │\n",
       "│ L1      ┆ 981     ┆ 2018-12-31 ┆ 2018-12-31 ┆ … ┆ 317        ┆ 6         ┆ 5         ┆ 0         │\n",
       "│ L1      ┆ 1283    ┆ 2018-12-31 ┆ 2018-12-31 ┆ … ┆ 288        ┆ 7         ┆ 3         ┆ 0         │\n",
       "│ L1      ┆ 7588    ┆ 2018-12-31 ┆ 2018-12-31 ┆ … ┆ 288        ┆ 7         ┆ 3         ┆ 0         │\n",
       "│ L1      ┆ 5135    ┆ 2018-12-31 ┆ 2018-12-31 ┆ … ┆ 272        ┆ 5         ┆ 0         ┆ 0         │\n",
       "│ L1      ┆ 3120    ┆ 2018-12-31 ┆ 2018-12-31 ┆ … ┆ 288        ┆ 7         ┆ 3         ┆ 0         │\n",
       "│ U1      ┆ 2388    ┆ 2018-12-31 ┆ 2018-12-31 ┆ … ┆ 253        ┆ 7         ┆ 3         ┆ 0         │\n",
       "│ L1      ┆ 6294    ┆ 2018-12-31 ┆ 2018-12-31 ┆ … ┆ 405        ┆ 3         ┆ 2         ┆ 0         │\n",
       "│ U1      ┆ 6178    ┆ 2018-12-31 ┆ 2018-12-31 ┆ … ┆ 252        ┆ 3         ┆ 7         ┆ 0         │\n",
       "│ L1      ┆ 10926   ┆ 2018-12-31 ┆ 2018-12-31 ┆ … ┆ 317        ┆ 6         ┆ 5         ┆ 0         │\n",
       "└─────────┴─────────┴────────────┴────────────┴───┴────────────┴───────────┴───────────┴───────────┘"
      ]
     },
     "execution_count": 6,
     "metadata": {},
     "output_type": "execute_result"
    }
   ],
   "source": [
    "val_df = processed_train_df.filter(\n",
    "    pl.col('flt_departure_dt') > VALIDATION_CUTOFF\n",
    ")\n",
    "\n",
    "val_df"
   ]
  },
  {
   "cell_type": "code",
   "execution_count": 7,
   "metadata": {},
   "outputs": [
    {
     "data": {
      "text/html": [
       "<div><style>\n",
       ".dataframe > thead > tr,\n",
       ".dataframe > tbody > tr {\n",
       "  text-align: right;\n",
       "  white-space: pre-wrap;\n",
       "}\n",
       "</style>\n",
       "<small>shape: (9, 22)</small><table border=\"1\" class=\"dataframe\"><thead><tr><th>statistic</th><th>carrier</th><th>flt_num</th><th>flt_departure_dt</th><th>observation_date</th><th>total_fare</th><th>days_till_flight</th><th>is_dst</th><th>route_id</th><th>flt_departure_local_time</th><th>flt_arrival_local_time</th><th>dur_min</th><th>tz_min</th><th>over_mn</th><th>dpt_4h_od</th><th>flt_count_dpt_24h</th><th>flt_count_dpt_4h</th><th>scaled_demand</th><th>scaled_share</th><th>origin_id</th><th>destination_id</th><th>flt_info_null</th></tr><tr><td>str</td><td>str</td><td>f64</td><td>str</td><td>str</td><td>f64</td><td>f64</td><td>f64</td><td>f64</td><td>str</td><td>str</td><td>f64</td><td>f64</td><td>f64</td><td>f64</td><td>f64</td><td>f64</td><td>f64</td><td>f64</td><td>f64</td><td>f64</td><td>f64</td></tr></thead><tbody><tr><td>&quot;count&quot;</td><td>&quot;268233&quot;</td><td>268233.0</td><td>&quot;268233&quot;</td><td>&quot;268233&quot;</td><td>268233.0</td><td>268233.0</td><td>268233.0</td><td>268233.0</td><td>&quot;265418&quot;</td><td>&quot;265418&quot;</td><td>265418.0</td><td>265418.0</td><td>265418.0</td><td>265418.0</td><td>265418.0</td><td>265418.0</td><td>268233.0</td><td>268233.0</td><td>268233.0</td><td>268233.0</td><td>268233.0</td></tr><tr><td>&quot;null_count&quot;</td><td>&quot;0&quot;</td><td>0.0</td><td>&quot;0&quot;</td><td>&quot;0&quot;</td><td>0.0</td><td>0.0</td><td>0.0</td><td>0.0</td><td>&quot;2815&quot;</td><td>&quot;2815&quot;</td><td>2815.0</td><td>2815.0</td><td>2815.0</td><td>2815.0</td><td>2815.0</td><td>2815.0</td><td>0.0</td><td>0.0</td><td>0.0</td><td>0.0</td><td>0.0</td></tr><tr><td>&quot;mean&quot;</td><td>null</td><td>5776.567257</td><td>&quot;2018-12-01&quot;</td><td>&quot;2018-11-13&quot;</td><td>801.611077</td><td>18.365656</td><td>0.047668</td><td>5.78339</td><td>&quot;2018-12-02 06:29:24.237542&quot;</td><td>&quot;2018-12-02 08:24:48.928331&quot;</td><td>115.411513</td><td>-444.43896</td><td>0.01278</td><td>2.894766</td><td>22.090687</td><td>5.137964</td><td>5485.019196</td><td>268.085593</td><td>3.868663</td><td>3.863365</td><td>0.010495</td></tr><tr><td>&quot;std&quot;</td><td>null</td><td>4183.078739</td><td>null</td><td>null</td><td>842.94395</td><td>14.917572</td><td>0.213062</td><td>2.96587</td><td>null</td><td>null</td><td>63.624885</td><td>56.17397</td><td>0.112323</td><td>1.240511</td><td>11.660042</td><td>2.784087</td><td>2274.454819</td><td>61.132672</td><td>1.683963</td><td>1.677884</td><td>0.101904</td></tr><tr><td>&quot;min&quot;</td><td>&quot;L1&quot;</td><td>570.0</td><td>&quot;2018-11-01&quot;</td><td>&quot;2017-12-13&quot;</td><td>234.0</td><td>0.0</td><td>0.0</td><td>0.0</td><td>&quot;2018-11-01 00:55:00&quot;</td><td>&quot;2018-11-01 05:49:00&quot;</td><td>61.0</td><td>-480.0</td><td>0.0</td><td>0.0</td><td>3.0</td><td>1.0</td><td>1618.0</td><td>165.0</td><td>0.0</td><td>0.0</td><td>0.0</td></tr><tr><td>&quot;25%&quot;</td><td>null</td><td>2639.0</td><td>&quot;2018-11-16&quot;</td><td>&quot;2018-10-30&quot;</td><td>395.0</td><td>8.0</td><td>0.0</td><td>4.0</td><td>&quot;2018-11-16 14:57:00&quot;</td><td>&quot;2018-11-16 16:59:00&quot;</td><td>76.0</td><td>-480.0</td><td>0.0</td><td>2.0</td><td>9.0</td><td>3.0</td><td>2838.0</td><td>225.0</td><td>3.0</td><td>3.0</td><td>0.0</td></tr><tr><td>&quot;50%&quot;</td><td>null</td><td>5559.0</td><td>&quot;2018-12-02&quot;</td><td>&quot;2018-11-14&quot;</td><td>580.0</td><td>17.0</td><td>0.0</td><td>5.0</td><td>&quot;2018-12-02 16:40:00&quot;</td><td>&quot;2018-12-02 18:40:00&quot;</td><td>87.0</td><td>-480.0</td><td>0.0</td><td>3.0</td><td>22.0</td><td>5.0</td><td>6396.0</td><td>253.0</td><td>3.0</td><td>3.0</td><td>0.0</td></tr><tr><td>&quot;75%&quot;</td><td>null</td><td>6947.0</td><td>&quot;2018-12-18&quot;</td><td>&quot;2018-11-29&quot;</td><td>941.0</td><td>27.0</td><td>0.0</td><td>7.0</td><td>&quot;2018-12-17 20:45:00&quot;</td><td>&quot;2018-12-17 23:11:00&quot;</td><td>113.0</td><td>-420.0</td><td>0.0</td><td>4.0</td><td>34.0</td><td>8.0</td><td>7128.0</td><td>294.0</td><td>5.0</td><td>5.0</td><td>0.0</td></tr><tr><td>&quot;max&quot;</td><td>&quot;U3&quot;</td><td>18973.0</td><td>&quot;2018-12-31&quot;</td><td>&quot;2018-12-31&quot;</td><td>7859.0</td><td>325.0</td><td>1.0</td><td>11.0</td><td>&quot;2018-12-31 22:52:00&quot;</td><td>&quot;2019-01-01 00:26:00&quot;</td><td>302.0</td><td>-240.0</td><td>1.0</td><td>5.0</td><td>39.0</td><td>12.0</td><td>8086.0</td><td>405.0</td><td>7.0</td><td>7.0</td><td>1.0</td></tr></tbody></table></div>"
      ],
      "text/plain": [
       "shape: (9, 22)\n",
       "┌────────────┬─────────┬───────────┬───────────┬───┬───────────┬───────────┬───────────┬───────────┐\n",
       "│ statistic  ┆ carrier ┆ flt_num   ┆ flt_depar ┆ … ┆ scaled_sh ┆ origin_id ┆ destinati ┆ flt_info_ │\n",
       "│ ---        ┆ ---     ┆ ---       ┆ ture_dt   ┆   ┆ are       ┆ ---       ┆ on_id     ┆ null      │\n",
       "│ str        ┆ str     ┆ f64       ┆ ---       ┆   ┆ ---       ┆ f64       ┆ ---       ┆ ---       │\n",
       "│            ┆         ┆           ┆ str       ┆   ┆ f64       ┆           ┆ f64       ┆ f64       │\n",
       "╞════════════╪═════════╪═══════════╪═══════════╪═══╪═══════════╪═══════════╪═══════════╪═══════════╡\n",
       "│ count      ┆ 268233  ┆ 268233.0  ┆ 268233    ┆ … ┆ 268233.0  ┆ 268233.0  ┆ 268233.0  ┆ 268233.0  │\n",
       "│ null_count ┆ 0       ┆ 0.0       ┆ 0         ┆ … ┆ 0.0       ┆ 0.0       ┆ 0.0       ┆ 0.0       │\n",
       "│ mean       ┆ null    ┆ 5776.5672 ┆ 2018-12-0 ┆ … ┆ 268.08559 ┆ 3.868663  ┆ 3.863365  ┆ 0.010495  │\n",
       "│            ┆         ┆ 57        ┆ 1         ┆   ┆ 3         ┆           ┆           ┆           │\n",
       "│ std        ┆ null    ┆ 4183.0787 ┆ null      ┆ … ┆ 61.132672 ┆ 1.683963  ┆ 1.677884  ┆ 0.101904  │\n",
       "│            ┆         ┆ 39        ┆           ┆   ┆           ┆           ┆           ┆           │\n",
       "│ min        ┆ L1      ┆ 570.0     ┆ 2018-11-0 ┆ … ┆ 165.0     ┆ 0.0       ┆ 0.0       ┆ 0.0       │\n",
       "│            ┆         ┆           ┆ 1         ┆   ┆           ┆           ┆           ┆           │\n",
       "│ 25%        ┆ null    ┆ 2639.0    ┆ 2018-11-1 ┆ … ┆ 225.0     ┆ 3.0       ┆ 3.0       ┆ 0.0       │\n",
       "│            ┆         ┆           ┆ 6         ┆   ┆           ┆           ┆           ┆           │\n",
       "│ 50%        ┆ null    ┆ 5559.0    ┆ 2018-12-0 ┆ … ┆ 253.0     ┆ 3.0       ┆ 3.0       ┆ 0.0       │\n",
       "│            ┆         ┆           ┆ 2         ┆   ┆           ┆           ┆           ┆           │\n",
       "│ 75%        ┆ null    ┆ 6947.0    ┆ 2018-12-1 ┆ … ┆ 294.0     ┆ 5.0       ┆ 5.0       ┆ 0.0       │\n",
       "│            ┆         ┆           ┆ 8         ┆   ┆           ┆           ┆           ┆           │\n",
       "│ max        ┆ U3      ┆ 18973.0   ┆ 2018-12-3 ┆ … ┆ 405.0     ┆ 7.0       ┆ 7.0       ┆ 1.0       │\n",
       "│            ┆         ┆           ┆ 1         ┆   ┆           ┆           ┆           ┆           │\n",
       "└────────────┴─────────┴───────────┴───────────┴───┴───────────┴───────────┴───────────┴───────────┘"
      ]
     },
     "execution_count": 7,
     "metadata": {},
     "output_type": "execute_result"
    }
   ],
   "source": [
    "val_df.describe()"
   ]
  },
  {
   "cell_type": "markdown",
   "metadata": {},
   "source": [
    "### Fare rescaling"
   ]
  },
  {
   "cell_type": "markdown",
   "metadata": {},
   "source": [
    "#### Check if any (`route`, `carrier`) pair is missing in `train_df`"
   ]
  },
  {
   "cell_type": "code",
   "execution_count": 8,
   "metadata": {},
   "outputs": [
    {
     "data": {
      "text/html": [
       "<div><style>\n",
       ".dataframe > thead > tr,\n",
       ".dataframe > tbody > tr {\n",
       "  text-align: right;\n",
       "  white-space: pre-wrap;\n",
       "}\n",
       "</style>\n",
       "<small>shape: (1, 4)</small><table border=\"1\" class=\"dataframe\"><thead><tr><th>route_id</th><th>carrier</th><th>route_id_right</th><th>carrier_right</th></tr><tr><td>u32</td><td>u32</td><td>u32</td><td>u32</td></tr></thead><tbody><tr><td>0</td><td>0</td><td>4</td><td>4</td></tr></tbody></table></div>"
      ],
      "text/plain": [
       "shape: (1, 4)\n",
       "┌──────────┬─────────┬────────────────┬───────────────┐\n",
       "│ route_id ┆ carrier ┆ route_id_right ┆ carrier_right │\n",
       "│ ---      ┆ ---     ┆ ---            ┆ ---           │\n",
       "│ u32      ┆ u32     ┆ u32            ┆ u32           │\n",
       "╞══════════╪═════════╪════════════════╪═══════════════╡\n",
       "│ 0        ┆ 0       ┆ 4              ┆ 4             │\n",
       "└──────────┴─────────┴────────────────┴───────────────┘"
      ]
     },
     "execution_count": 8,
     "metadata": {},
     "output_type": "execute_result"
    }
   ],
   "source": [
    "train_df.group_by('route_id', 'carrier').len().drop('len').join(\n",
    "    val_df.group_by('route_id', 'carrier').len().drop('len'),\n",
    "    on = ['route_id', 'carrier'],\n",
    "    how = 'outer'\n",
    ").null_count()"
   ]
  },
  {
   "cell_type": "markdown",
   "metadata": {},
   "source": [
    "#### Calculating range of log of fares by (`route`, `carrier`)"
   ]
  },
  {
   "cell_type": "code",
   "execution_count": 9,
   "metadata": {},
   "outputs": [
    {
     "data": {
      "text/html": [
       "<div><style>\n",
       ".dataframe > thead > tr,\n",
       ".dataframe > tbody > tr {\n",
       "  text-align: right;\n",
       "  white-space: pre-wrap;\n",
       "}\n",
       "</style>\n",
       "<small>shape: (9, 5)</small><table border=\"1\" class=\"dataframe\"><thead><tr><th>statistic</th><th>route_id</th><th>carrier</th><th>up_range</th><th>down_range</th></tr><tr><td>str</td><td>f64</td><td>str</td><td>f64</td><td>f64</td></tr></thead><tbody><tr><td>&quot;count&quot;</td><td>34.0</td><td>&quot;34&quot;</td><td>34.0</td><td>34.0</td></tr><tr><td>&quot;null_count&quot;</td><td>0.0</td><td>&quot;0&quot;</td><td>0.0</td><td>0.0</td></tr><tr><td>&quot;mean&quot;</td><td>5.588235</td><td>null</td><td>4.489822</td><td>0.463753</td></tr><tr><td>&quot;std&quot;</td><td>3.239132</td><td>null</td><td>1.980349</td><td>0.080049</td></tr><tr><td>&quot;min&quot;</td><td>0.0</td><td>&quot;L1&quot;</td><td>2.023936</td><td>0.280482</td></tr><tr><td>&quot;25%&quot;</td><td>3.0</td><td>null</td><td>2.838609</td><td>0.414715</td></tr><tr><td>&quot;50%&quot;</td><td>5.0</td><td>null</td><td>4.24128</td><td>0.466559</td></tr><tr><td>&quot;75%&quot;</td><td>8.0</td><td>null</td><td>5.346239</td><td>0.521593</td></tr><tr><td>&quot;max&quot;</td><td>11.0</td><td>&quot;U3&quot;</td><td>9.477622</td><td>0.621509</td></tr></tbody></table></div>"
      ],
      "text/plain": [
       "shape: (9, 5)\n",
       "┌────────────┬──────────┬─────────┬──────────┬────────────┐\n",
       "│ statistic  ┆ route_id ┆ carrier ┆ up_range ┆ down_range │\n",
       "│ ---        ┆ ---      ┆ ---     ┆ ---      ┆ ---        │\n",
       "│ str        ┆ f64      ┆ str     ┆ f64      ┆ f64        │\n",
       "╞════════════╪══════════╪═════════╪══════════╪════════════╡\n",
       "│ count      ┆ 34.0     ┆ 34      ┆ 34.0     ┆ 34.0       │\n",
       "│ null_count ┆ 0.0      ┆ 0       ┆ 0.0      ┆ 0.0        │\n",
       "│ mean       ┆ 5.588235 ┆ null    ┆ 4.489822 ┆ 0.463753   │\n",
       "│ std        ┆ 3.239132 ┆ null    ┆ 1.980349 ┆ 0.080049   │\n",
       "│ min        ┆ 0.0      ┆ L1      ┆ 2.023936 ┆ 0.280482   │\n",
       "│ 25%        ┆ 3.0      ┆ null    ┆ 2.838609 ┆ 0.414715   │\n",
       "│ 50%        ┆ 5.0      ┆ null    ┆ 4.24128  ┆ 0.466559   │\n",
       "│ 75%        ┆ 8.0      ┆ null    ┆ 5.346239 ┆ 0.521593   │\n",
       "│ max        ┆ 11.0     ┆ U3      ┆ 9.477622 ┆ 0.621509   │\n",
       "└────────────┴──────────┴─────────┴──────────┴────────────┘"
      ]
     },
     "execution_count": 9,
     "metadata": {},
     "output_type": "execute_result"
    }
   ],
   "source": [
    "train_df.group_by('route_id', 'carrier').agg(\n",
    "    (pl.col('total_fare').max() / pl.col('total_fare').mean()).alias('up_range'),\n",
    "    (pl.col('total_fare').min() / pl.col('total_fare').mean()).alias('down_range')\n",
    ").describe()"
   ]
  },
  {
   "cell_type": "code",
   "execution_count": 10,
   "metadata": {},
   "outputs": [
    {
     "data": {
      "text/html": [
       "<div><style>\n",
       ".dataframe > thead > tr,\n",
       ".dataframe > tbody > tr {\n",
       "  text-align: right;\n",
       "  white-space: pre-wrap;\n",
       "}\n",
       "</style>\n",
       "<small>shape: (34, 6)</small><table border=\"1\" class=\"dataframe\"><thead><tr><th>route_id</th><th>carrier</th><th>base_fare</th><th>std_fare</th><th>min_fare</th><th>max_fare</th></tr><tr><td>u8</td><td>str</td><td>f64</td><td>f64</td><td>f64</td><td>f64</td></tr></thead><tbody><tr><td>0</td><td>&quot;L1&quot;</td><td>2.87627</td><td>0.196102</td><td>2.472756</td><td>3.764923</td></tr><tr><td>0</td><td>&quot;U3&quot;</td><td>2.730426</td><td>0.140742</td><td>2.468347</td><td>3.099681</td></tr><tr><td>1</td><td>&quot;L1&quot;</td><td>2.989814</td><td>0.198822</td><td>2.638489</td><td>3.749659</td></tr><tr><td>2</td><td>&quot;L1&quot;</td><td>2.933196</td><td>0.206151</td><td>2.472756</td><td>3.725503</td></tr><tr><td>2</td><td>&quot;OTH&quot;</td><td>2.753779</td><td>0.159175</td><td>2.448706</td><td>3.089905</td></tr><tr><td>2</td><td>&quot;U3&quot;</td><td>2.701619</td><td>0.194855</td><td>2.418301</td><td>3.237795</td></tr><tr><td>3</td><td>&quot;L1&quot;</td><td>2.969416</td><td>0.216036</td><td>2.472756</td><td>3.730621</td></tr><tr><td>3</td><td>&quot;OTH&quot;</td><td>2.75598</td><td>0.170682</td><td>2.448706</td><td>3.111599</td></tr><tr><td>3</td><td>&quot;U3&quot;</td><td>2.808008</td><td>0.214577</td><td>2.418301</td><td>3.169674</td></tr><tr><td>4</td><td>&quot;L1&quot;</td><td>2.668795</td><td>0.198599</td><td>2.448706</td><td>3.555215</td></tr><tr><td>&hellip;</td><td>&hellip;</td><td>&hellip;</td><td>&hellip;</td><td>&hellip;</td><td>&hellip;</td></tr><tr><td>7</td><td>&quot;U3&quot;</td><td>2.733146</td><td>0.144925</td><td>2.491362</td><td>3.099681</td></tr><tr><td>8</td><td>&quot;L1&quot;</td><td>3.019574</td><td>0.205221</td><td>2.638489</td><td>3.789087</td></tr><tr><td>9</td><td>&quot;L1&quot;</td><td>2.967228</td><td>0.209128</td><td>2.662758</td><td>3.738622</td></tr><tr><td>9</td><td>&quot;L2&quot;</td><td>2.943449</td><td>0.181927</td><td>2.647383</td><td>3.642662</td></tr><tr><td>10</td><td>&quot;L1&quot;</td><td>3.002688</td><td>0.201423</td><td>2.669317</td><td>3.700963</td></tr><tr><td>10</td><td>&quot;L2&quot;</td><td>2.98625</td><td>0.182085</td><td>2.669317</td><td>3.642662</td></tr><tr><td>11</td><td>&quot;L1&quot;</td><td>2.764942</td><td>0.196919</td><td>2.485721</td><td>3.63789</td></tr><tr><td>11</td><td>&quot;OTH&quot;</td><td>2.72979</td><td>0.161205</td><td>2.489958</td><td>3.274158</td></tr><tr><td>11</td><td>&quot;U1&quot;</td><td>2.75394</td><td>0.175075</td><td>2.489958</td><td>3.281261</td></tr><tr><td>11</td><td>&quot;U3&quot;</td><td>2.621005</td><td>0.164113</td><td>2.369216</td><td>3.059942</td></tr></tbody></table></div>"
      ],
      "text/plain": [
       "shape: (34, 6)\n",
       "┌──────────┬─────────┬───────────┬──────────┬──────────┬──────────┐\n",
       "│ route_id ┆ carrier ┆ base_fare ┆ std_fare ┆ min_fare ┆ max_fare │\n",
       "│ ---      ┆ ---     ┆ ---       ┆ ---      ┆ ---      ┆ ---      │\n",
       "│ u8       ┆ str     ┆ f64       ┆ f64      ┆ f64      ┆ f64      │\n",
       "╞══════════╪═════════╪═══════════╪══════════╪══════════╪══════════╡\n",
       "│ 0        ┆ L1      ┆ 2.87627   ┆ 0.196102 ┆ 2.472756 ┆ 3.764923 │\n",
       "│ 0        ┆ U3      ┆ 2.730426  ┆ 0.140742 ┆ 2.468347 ┆ 3.099681 │\n",
       "│ 1        ┆ L1      ┆ 2.989814  ┆ 0.198822 ┆ 2.638489 ┆ 3.749659 │\n",
       "│ 2        ┆ L1      ┆ 2.933196  ┆ 0.206151 ┆ 2.472756 ┆ 3.725503 │\n",
       "│ 2        ┆ OTH     ┆ 2.753779  ┆ 0.159175 ┆ 2.448706 ┆ 3.089905 │\n",
       "│ 2        ┆ U3      ┆ 2.701619  ┆ 0.194855 ┆ 2.418301 ┆ 3.237795 │\n",
       "│ 3        ┆ L1      ┆ 2.969416  ┆ 0.216036 ┆ 2.472756 ┆ 3.730621 │\n",
       "│ 3        ┆ OTH     ┆ 2.75598   ┆ 0.170682 ┆ 2.448706 ┆ 3.111599 │\n",
       "│ 3        ┆ U3      ┆ 2.808008  ┆ 0.214577 ┆ 2.418301 ┆ 3.169674 │\n",
       "│ 4        ┆ L1      ┆ 2.668795  ┆ 0.198599 ┆ 2.448706 ┆ 3.555215 │\n",
       "│ …        ┆ …       ┆ …         ┆ …        ┆ …        ┆ …        │\n",
       "│ 7        ┆ U3      ┆ 2.733146  ┆ 0.144925 ┆ 2.491362 ┆ 3.099681 │\n",
       "│ 8        ┆ L1      ┆ 3.019574  ┆ 0.205221 ┆ 2.638489 ┆ 3.789087 │\n",
       "│ 9        ┆ L1      ┆ 2.967228  ┆ 0.209128 ┆ 2.662758 ┆ 3.738622 │\n",
       "│ 9        ┆ L2      ┆ 2.943449  ┆ 0.181927 ┆ 2.647383 ┆ 3.642662 │\n",
       "│ 10       ┆ L1      ┆ 3.002688  ┆ 0.201423 ┆ 2.669317 ┆ 3.700963 │\n",
       "│ 10       ┆ L2      ┆ 2.98625   ┆ 0.182085 ┆ 2.669317 ┆ 3.642662 │\n",
       "│ 11       ┆ L1      ┆ 2.764942  ┆ 0.196919 ┆ 2.485721 ┆ 3.63789  │\n",
       "│ 11       ┆ OTH     ┆ 2.72979   ┆ 0.161205 ┆ 2.489958 ┆ 3.274158 │\n",
       "│ 11       ┆ U1      ┆ 2.75394   ┆ 0.175075 ┆ 2.489958 ┆ 3.281261 │\n",
       "│ 11       ┆ U3      ┆ 2.621005  ┆ 0.164113 ┆ 2.369216 ┆ 3.059942 │\n",
       "└──────────┴─────────┴───────────┴──────────┴──────────┴──────────┘"
      ]
     },
     "execution_count": 10,
     "metadata": {},
     "output_type": "execute_result"
    }
   ],
   "source": [
    "base_log10_fares = train_df.group_by('route_id', 'carrier').agg(\n",
    "    pl.col('total_fare').log10().mean().alias('base_fare'),\n",
    "    pl.col('total_fare').log10().std().alias('std_fare'),\n",
    "    pl.col('total_fare').log10().min().alias('min_fare'),\n",
    "    pl.col('total_fare').log10().max().alias('max_fare')\n",
    ").sort('route_id', 'carrier')\n",
    "\n",
    "base_log10_fares"
   ]
  },
  {
   "cell_type": "code",
   "execution_count": 11,
   "metadata": {},
   "outputs": [
    {
     "data": {
      "text/html": [
       "<div><style>\n",
       ".dataframe > thead > tr,\n",
       ".dataframe > tbody > tr {\n",
       "  text-align: right;\n",
       "  white-space: pre-wrap;\n",
       "}\n",
       "</style>\n",
       "<small>shape: (9, 5)</small><table border=\"1\" class=\"dataframe\"><thead><tr><th>statistic</th><th>base_fare</th><th>std_fare</th><th>min_fare</th><th>max_fare</th></tr><tr><td>str</td><td>f64</td><td>f64</td><td>f64</td><td>f64</td></tr></thead><tbody><tr><td>&quot;count&quot;</td><td>34.0</td><td>34.0</td><td>34.0</td><td>34.0</td></tr><tr><td>&quot;null_count&quot;</td><td>0.0</td><td>0.0</td><td>0.0</td><td>0.0</td></tr><tr><td>&quot;mean&quot;</td><td>2.779038</td><td>0.181906</td><td>2.481561</td><td>3.433907</td></tr><tr><td>&quot;std&quot;</td><td>0.131423</td><td>0.028898</td><td>0.088668</td><td>0.257306</td></tr><tr><td>&quot;min&quot;</td><td>2.578759</td><td>0.119188</td><td>2.369216</td><td>3.05423</td></tr><tr><td>&quot;25%&quot;</td><td>2.668795</td><td>0.161205</td><td>2.418301</td><td>3.24005</td></tr><tr><td>&quot;50%&quot;</td><td>2.754933</td><td>0.182085</td><td>2.472756</td><td>3.396548</td></tr><tr><td>&quot;75%&quot;</td><td>2.87627</td><td>0.205221</td><td>2.489958</td><td>3.672283</td></tr><tr><td>&quot;max&quot;</td><td>3.019574</td><td>0.240367</td><td>2.669317</td><td>3.803047</td></tr></tbody></table></div>"
      ],
      "text/plain": [
       "shape: (9, 5)\n",
       "┌────────────┬───────────┬──────────┬──────────┬──────────┐\n",
       "│ statistic  ┆ base_fare ┆ std_fare ┆ min_fare ┆ max_fare │\n",
       "│ ---        ┆ ---       ┆ ---      ┆ ---      ┆ ---      │\n",
       "│ str        ┆ f64       ┆ f64      ┆ f64      ┆ f64      │\n",
       "╞════════════╪═══════════╪══════════╪══════════╪══════════╡\n",
       "│ count      ┆ 34.0      ┆ 34.0     ┆ 34.0     ┆ 34.0     │\n",
       "│ null_count ┆ 0.0       ┆ 0.0      ┆ 0.0      ┆ 0.0      │\n",
       "│ mean       ┆ 2.779038  ┆ 0.181906 ┆ 2.481561 ┆ 3.433907 │\n",
       "│ std        ┆ 0.131423  ┆ 0.028898 ┆ 0.088668 ┆ 0.257306 │\n",
       "│ min        ┆ 2.578759  ┆ 0.119188 ┆ 2.369216 ┆ 3.05423  │\n",
       "│ 25%        ┆ 2.668795  ┆ 0.161205 ┆ 2.418301 ┆ 3.24005  │\n",
       "│ 50%        ┆ 2.754933  ┆ 0.182085 ┆ 2.472756 ┆ 3.396548 │\n",
       "│ 75%        ┆ 2.87627   ┆ 0.205221 ┆ 2.489958 ┆ 3.672283 │\n",
       "│ max        ┆ 3.019574  ┆ 0.240367 ┆ 2.669317 ┆ 3.803047 │\n",
       "└────────────┴───────────┴──────────┴──────────┴──────────┘"
      ]
     },
     "execution_count": 11,
     "metadata": {},
     "output_type": "execute_result"
    }
   ],
   "source": [
    "base_log10_fares.select(pl.col(pl.Float64())).describe()"
   ]
  },
  {
   "cell_type": "code",
   "execution_count": 12,
   "metadata": {},
   "outputs": [
    {
     "data": {
      "text/html": [
       "<div><style>\n",
       ".dataframe > thead > tr,\n",
       ".dataframe > tbody > tr {\n",
       "  text-align: right;\n",
       "  white-space: pre-wrap;\n",
       "}\n",
       "</style>\n",
       "<small>shape: (9, 2)</small><table border=\"1\" class=\"dataframe\"><thead><tr><th>statistic</th><th>value</th></tr><tr><td>str</td><td>f64</td></tr></thead><tbody><tr><td>&quot;count&quot;</td><td>1.430585e6</td></tr><tr><td>&quot;null_count&quot;</td><td>0.0</td></tr><tr><td>&quot;mean&quot;</td><td>-0.000001</td></tr><tr><td>&quot;std&quot;</td><td>0.068372</td></tr><tr><td>&quot;min&quot;</td><td>-0.1673</td></tr><tr><td>&quot;25%&quot;</td><td>-0.0504</td></tr><tr><td>&quot;50%&quot;</td><td>-0.0131</td></tr><tr><td>&quot;75%&quot;</td><td>0.0395</td></tr><tr><td>&quot;max&quot;</td><td>0.3799</td></tr></tbody></table></div>"
      ],
      "text/plain": [
       "shape: (9, 2)\n",
       "┌────────────┬────────────┐\n",
       "│ statistic  ┆ value      │\n",
       "│ ---        ┆ ---        │\n",
       "│ str        ┆ f64        │\n",
       "╞════════════╪════════════╡\n",
       "│ count      ┆ 1.430585e6 │\n",
       "│ null_count ┆ 0.0        │\n",
       "│ mean       ┆ -0.000001  │\n",
       "│ std        ┆ 0.068372   │\n",
       "│ min        ┆ -0.1673    │\n",
       "│ 25%        ┆ -0.0504    │\n",
       "│ 50%        ┆ -0.0131    │\n",
       "│ 75%        ┆ 0.0395     │\n",
       "│ max        ┆ 0.3799     │\n",
       "└────────────┴────────────┘"
      ]
     },
     "execution_count": 12,
     "metadata": {},
     "output_type": "execute_result"
    }
   ],
   "source": [
    "train_df = train_df.join(\n",
    "    base_log10_fares.select('route_id', 'carrier', 'base_fare'),\n",
    "    on = ['route_id', 'carrier'],\n",
    "    how = 'left'\n",
    ").with_columns(\n",
    "    pl.col('total_fare').log10().alias('log_fare')\n",
    ").with_columns(\n",
    "    (\n",
    "        (pl.col('log_fare') - pl.col('base_fare')) / pl.col('base_fare')\n",
    "    ).round(4).alias('scaled_fare')\n",
    ")\n",
    "\n",
    "train_df['scaled_fare'].describe()"
   ]
  },
  {
   "cell_type": "code",
   "execution_count": 13,
   "metadata": {},
   "outputs": [
    {
     "data": {
      "text/html": [
       "<div><style>\n",
       ".dataframe > thead > tr,\n",
       ".dataframe > tbody > tr {\n",
       "  text-align: right;\n",
       "  white-space: pre-wrap;\n",
       "}\n",
       "</style>\n",
       "<small>shape: (9, 2)</small><table border=\"1\" class=\"dataframe\"><thead><tr><th>statistic</th><th>value</th></tr><tr><td>str</td><td>f64</td></tr></thead><tbody><tr><td>&quot;count&quot;</td><td>268233.0</td></tr><tr><td>&quot;null_count&quot;</td><td>0.0</td></tr><tr><td>&quot;mean&quot;</td><td>0.008269</td></tr><tr><td>&quot;std&quot;</td><td>0.087998</td></tr><tr><td>&quot;min&quot;</td><td>-0.1673</td></tr><tr><td>&quot;25%&quot;</td><td>-0.0521</td></tr><tr><td>&quot;50%&quot;</td><td>-0.0095</td></tr><tr><td>&quot;75%&quot;</td><td>0.053</td></tr><tr><td>&quot;max&quot;</td><td>0.5106</td></tr></tbody></table></div>"
      ],
      "text/plain": [
       "shape: (9, 2)\n",
       "┌────────────┬──────────┐\n",
       "│ statistic  ┆ value    │\n",
       "│ ---        ┆ ---      │\n",
       "│ str        ┆ f64      │\n",
       "╞════════════╪══════════╡\n",
       "│ count      ┆ 268233.0 │\n",
       "│ null_count ┆ 0.0      │\n",
       "│ mean       ┆ 0.008269 │\n",
       "│ std        ┆ 0.087998 │\n",
       "│ min        ┆ -0.1673  │\n",
       "│ 25%        ┆ -0.0521  │\n",
       "│ 50%        ┆ -0.0095  │\n",
       "│ 75%        ┆ 0.053    │\n",
       "│ max        ┆ 0.5106   │\n",
       "└────────────┴──────────┘"
      ]
     },
     "execution_count": 13,
     "metadata": {},
     "output_type": "execute_result"
    }
   ],
   "source": [
    "val_df = val_df.join(\n",
    "    base_log10_fares.select('route_id', 'carrier', 'base_fare'),\n",
    "    on = ['route_id', 'carrier'],\n",
    "    how = 'left'\n",
    ").with_columns(\n",
    "    pl.col('total_fare').log10().alias('log_fare')\n",
    ").with_columns(\n",
    "    (\n",
    "        (pl.col('log_fare') - pl.col('base_fare')) / pl.col('base_fare')\n",
    "    ).round(4).alias('scaled_fare')\n",
    ")\n",
    "\n",
    "val_df['scaled_fare'].describe()"
   ]
  },
  {
   "cell_type": "code",
   "execution_count": 14,
   "metadata": {},
   "outputs": [
    {
     "data": {
      "text/html": [
       "<div><style>\n",
       ".dataframe > thead > tr,\n",
       ".dataframe > tbody > tr {\n",
       "  text-align: right;\n",
       "  white-space: pre-wrap;\n",
       "}\n",
       "</style>\n",
       "<small>shape: (1_430_585, 24)</small><table border=\"1\" class=\"dataframe\"><thead><tr><th>carrier</th><th>flt_num</th><th>flt_departure_dt</th><th>observation_date</th><th>total_fare</th><th>days_till_flight</th><th>is_dst</th><th>route_id</th><th>flt_departure_local_time</th><th>flt_arrival_local_time</th><th>dur_min</th><th>tz_min</th><th>over_mn</th><th>dpt_4h_od</th><th>flt_count_dpt_24h</th><th>flt_count_dpt_4h</th><th>scaled_demand</th><th>scaled_share</th><th>origin_id</th><th>destination_id</th><th>flt_info_null</th><th>base_fare</th><th>log_fare</th><th>scaled_fare</th></tr><tr><td>str</td><td>i64</td><td>date</td><td>date</td><td>i64</td><td>i16</td><td>i8</td><td>u8</td><td>datetime[ns]</td><td>datetime[ns]</td><td>i16</td><td>i16</td><td>i8</td><td>i8</td><td>u8</td><td>u8</td><td>i64</td><td>i64</td><td>u8</td><td>u8</td><td>u8</td><td>f64</td><td>f64</td><td>f64</td></tr></thead><tbody><tr><td>&quot;L1&quot;</td><td>6523</td><td>2018-03-06</td><td>2018-02-26</td><td>297</td><td>8</td><td>0</td><td>3</td><td>2018-03-06 06:00:00</td><td>2018-03-06 10:58:00</td><td>298</td><td>-480</td><td>0</td><td>1</td><td>8</td><td>1</td><td>2873</td><td>392</td><td>3</td><td>2</td><td>0</td><td>2.969416</td><td>2.472756</td><td>-0.1673</td></tr><tr><td>&quot;L1&quot;</td><td>6523</td><td>2018-03-06</td><td>2018-02-27</td><td>297</td><td>7</td><td>0</td><td>3</td><td>2018-03-06 06:00:00</td><td>2018-03-06 10:58:00</td><td>298</td><td>-480</td><td>0</td><td>1</td><td>8</td><td>1</td><td>2873</td><td>392</td><td>3</td><td>2</td><td>0</td><td>2.969416</td><td>2.472756</td><td>-0.1673</td></tr><tr><td>&quot;L1&quot;</td><td>5663</td><td>2018-03-09</td><td>2018-02-25</td><td>297</td><td>12</td><td>0</td><td>3</td><td>2018-03-09 12:17:00</td><td>2018-03-09 17:16:00</td><td>299</td><td>-480</td><td>0</td><td>3</td><td>8</td><td>3</td><td>2873</td><td>392</td><td>3</td><td>2</td><td>0</td><td>2.969416</td><td>2.472756</td><td>-0.1673</td></tr><tr><td>&quot;L1&quot;</td><td>5663</td><td>2018-03-09</td><td>2018-02-26</td><td>297</td><td>11</td><td>0</td><td>3</td><td>2018-03-09 12:17:00</td><td>2018-03-09 17:16:00</td><td>299</td><td>-480</td><td>0</td><td>3</td><td>8</td><td>3</td><td>2873</td><td>392</td><td>3</td><td>2</td><td>0</td><td>2.969416</td><td>2.472756</td><td>-0.1673</td></tr><tr><td>&quot;L1&quot;</td><td>3861</td><td>2018-03-10</td><td>2018-02-23</td><td>297</td><td>15</td><td>0</td><td>3</td><td>2018-03-10 15:55:00</td><td>2018-03-10 20:52:00</td><td>297</td><td>-480</td><td>0</td><td>3</td><td>8</td><td>3</td><td>2873</td><td>392</td><td>3</td><td>2</td><td>0</td><td>2.969416</td><td>2.472756</td><td>-0.1673</td></tr><tr><td>&quot;L1&quot;</td><td>5663</td><td>2018-03-10</td><td>2018-02-23</td><td>297</td><td>15</td><td>0</td><td>3</td><td>2018-03-10 12:17:00</td><td>2018-03-10 17:16:00</td><td>299</td><td>-480</td><td>0</td><td>3</td><td>8</td><td>3</td><td>2873</td><td>392</td><td>3</td><td>2</td><td>0</td><td>2.969416</td><td>2.472756</td><td>-0.1673</td></tr><tr><td>&quot;L1&quot;</td><td>6523</td><td>2018-03-10</td><td>2018-02-23</td><td>297</td><td>15</td><td>0</td><td>3</td><td>2018-03-10 06:05:00</td><td>2018-03-10 11:03:00</td><td>298</td><td>-480</td><td>0</td><td>1</td><td>8</td><td>1</td><td>2873</td><td>392</td><td>3</td><td>2</td><td>0</td><td>2.969416</td><td>2.472756</td><td>-0.1673</td></tr><tr><td>&quot;L1&quot;</td><td>6294</td><td>2018-03-10</td><td>2018-02-23</td><td>297</td><td>15</td><td>0</td><td>3</td><td>2018-03-10 13:45:00</td><td>2018-03-10 18:43:00</td><td>298</td><td>-480</td><td>0</td><td>3</td><td>8</td><td>3</td><td>2873</td><td>392</td><td>3</td><td>2</td><td>0</td><td>2.969416</td><td>2.472756</td><td>-0.1673</td></tr><tr><td>&quot;L1&quot;</td><td>6523</td><td>2018-03-10</td><td>2018-02-24</td><td>297</td><td>14</td><td>0</td><td>3</td><td>2018-03-10 06:05:00</td><td>2018-03-10 11:03:00</td><td>298</td><td>-480</td><td>0</td><td>1</td><td>8</td><td>1</td><td>2873</td><td>392</td><td>3</td><td>2</td><td>0</td><td>2.969416</td><td>2.472756</td><td>-0.1673</td></tr><tr><td>&quot;L1&quot;</td><td>6294</td><td>2018-03-10</td><td>2018-02-24</td><td>297</td><td>14</td><td>0</td><td>3</td><td>2018-03-10 13:45:00</td><td>2018-03-10 18:43:00</td><td>298</td><td>-480</td><td>0</td><td>3</td><td>8</td><td>3</td><td>2873</td><td>392</td><td>3</td><td>2</td><td>0</td><td>2.969416</td><td>2.472756</td><td>-0.1673</td></tr><tr><td>&hellip;</td><td>&hellip;</td><td>&hellip;</td><td>&hellip;</td><td>&hellip;</td><td>&hellip;</td><td>&hellip;</td><td>&hellip;</td><td>&hellip;</td><td>&hellip;</td><td>&hellip;</td><td>&hellip;</td><td>&hellip;</td><td>&hellip;</td><td>&hellip;</td><td>&hellip;</td><td>&hellip;</td><td>&hellip;</td><td>&hellip;</td><td>&hellip;</td><td>&hellip;</td><td>&hellip;</td><td>&hellip;</td><td>&hellip;</td></tr><tr><td>&quot;L2&quot;</td><td>1980</td><td>2018-01-13</td><td>2017-12-24</td><td>4639</td><td>20</td><td>0</td><td>4</td><td>2018-01-13 08:42:00</td><td>2018-01-13 10:30:00</td><td>108</td><td>-480</td><td>0</td><td>2</td><td>33</td><td>7</td><td>6659</td><td>212</td><td>3</td><td>4</td><td>0</td><td>2.679007</td><td>3.666424</td><td>0.3686</td></tr><tr><td>&quot;L2&quot;</td><td>4680</td><td>2018-01-13</td><td>2018-01-13</td><td>4639</td><td>0</td><td>0</td><td>4</td><td>2018-01-13 16:16:00</td><td>2018-01-13 17:42:00</td><td>86</td><td>-480</td><td>0</td><td>4</td><td>33</td><td>9</td><td>6659</td><td>212</td><td>3</td><td>4</td><td>0</td><td>2.679007</td><td>3.666424</td><td>0.3686</td></tr><tr><td>&quot;L2&quot;</td><td>1355</td><td>2018-01-07</td><td>2018-01-06</td><td>4639</td><td>1</td><td>0</td><td>6</td><td>2018-01-07 14:07:00</td><td>2018-01-07 15:20:00</td><td>73</td><td>-480</td><td>0</td><td>3</td><td>36</td><td>8</td><td>6659</td><td>213</td><td>4</td><td>3</td><td>0</td><td>2.661205</td><td>3.666424</td><td>0.3777</td></tr><tr><td>&quot;L2&quot;</td><td>8363</td><td>2018-01-08</td><td>2017-12-22</td><td>4639</td><td>17</td><td>0</td><td>6</td><td>2018-01-08 08:30:00</td><td>2018-01-08 09:59:00</td><td>89</td><td>-480</td><td>0</td><td>2</td><td>43</td><td>9</td><td>6659</td><td>213</td><td>4</td><td>3</td><td>0</td><td>2.661205</td><td>3.666424</td><td>0.3777</td></tr><tr><td>&quot;L2&quot;</td><td>8363</td><td>2018-01-08</td><td>2017-12-23</td><td>4639</td><td>16</td><td>0</td><td>6</td><td>2018-01-08 08:30:00</td><td>2018-01-08 09:59:00</td><td>89</td><td>-480</td><td>0</td><td>2</td><td>43</td><td>9</td><td>6659</td><td>213</td><td>4</td><td>3</td><td>0</td><td>2.661205</td><td>3.666424</td><td>0.3777</td></tr><tr><td>&quot;L2&quot;</td><td>3842</td><td>2018-01-08</td><td>2018-01-06</td><td>4639</td><td>2</td><td>0</td><td>6</td><td>2018-01-08 21:30:00</td><td>2018-01-08 22:48:00</td><td>78</td><td>-480</td><td>0</td><td>5</td><td>43</td><td>10</td><td>6659</td><td>213</td><td>4</td><td>3</td><td>0</td><td>2.661205</td><td>3.666424</td><td>0.3777</td></tr><tr><td>&quot;L2&quot;</td><td>8363</td><td>2018-01-08</td><td>2018-01-07</td><td>4639</td><td>1</td><td>0</td><td>6</td><td>2018-01-08 08:30:00</td><td>2018-01-08 09:59:00</td><td>89</td><td>-480</td><td>0</td><td>2</td><td>43</td><td>9</td><td>6659</td><td>213</td><td>4</td><td>3</td><td>0</td><td>2.661205</td><td>3.666424</td><td>0.3777</td></tr><tr><td>&quot;L2&quot;</td><td>5236</td><td>2018-01-09</td><td>2018-01-06</td><td>4639</td><td>3</td><td>0</td><td>6</td><td>2018-01-09 11:15:00</td><td>2018-01-09 12:38:00</td><td>83</td><td>-480</td><td>0</td><td>2</td><td>33</td><td>8</td><td>6659</td><td>213</td><td>4</td><td>3</td><td>0</td><td>2.661205</td><td>3.666424</td><td>0.3777</td></tr><tr><td>&quot;L2&quot;</td><td>5236</td><td>2018-01-09</td><td>2018-01-08</td><td>4639</td><td>1</td><td>0</td><td>6</td><td>2018-01-09 11:15:00</td><td>2018-01-09 12:38:00</td><td>83</td><td>-480</td><td>0</td><td>2</td><td>33</td><td>8</td><td>6659</td><td>213</td><td>4</td><td>3</td><td>0</td><td>2.661205</td><td>3.666424</td><td>0.3777</td></tr><tr><td>&quot;L2&quot;</td><td>8363</td><td>2018-01-08</td><td>2017-12-06</td><td>4702</td><td>33</td><td>0</td><td>6</td><td>2018-01-08 08:30:00</td><td>2018-01-08 09:59:00</td><td>89</td><td>-480</td><td>0</td><td>2</td><td>43</td><td>9</td><td>6659</td><td>213</td><td>4</td><td>3</td><td>0</td><td>2.661205</td><td>3.672283</td><td>0.3799</td></tr></tbody></table></div>"
      ],
      "text/plain": [
       "shape: (1_430_585, 24)\n",
       "┌─────────┬─────────┬────────────┬────────────┬───┬────────────┬───────────┬──────────┬────────────┐\n",
       "│ carrier ┆ flt_num ┆ flt_depart ┆ observatio ┆ … ┆ flt_info_n ┆ base_fare ┆ log_fare ┆ scaled_far │\n",
       "│ ---     ┆ ---     ┆ ure_dt     ┆ n_date     ┆   ┆ ull        ┆ ---       ┆ ---      ┆ e          │\n",
       "│ str     ┆ i64     ┆ ---        ┆ ---        ┆   ┆ ---        ┆ f64       ┆ f64      ┆ ---        │\n",
       "│         ┆         ┆ date       ┆ date       ┆   ┆ u8         ┆           ┆          ┆ f64        │\n",
       "╞═════════╪═════════╪════════════╪════════════╪═══╪════════════╪═══════════╪══════════╪════════════╡\n",
       "│ L1      ┆ 6523    ┆ 2018-03-06 ┆ 2018-02-26 ┆ … ┆ 0          ┆ 2.969416  ┆ 2.472756 ┆ -0.1673    │\n",
       "│ L1      ┆ 6523    ┆ 2018-03-06 ┆ 2018-02-27 ┆ … ┆ 0          ┆ 2.969416  ┆ 2.472756 ┆ -0.1673    │\n",
       "│ L1      ┆ 5663    ┆ 2018-03-09 ┆ 2018-02-25 ┆ … ┆ 0          ┆ 2.969416  ┆ 2.472756 ┆ -0.1673    │\n",
       "│ L1      ┆ 5663    ┆ 2018-03-09 ┆ 2018-02-26 ┆ … ┆ 0          ┆ 2.969416  ┆ 2.472756 ┆ -0.1673    │\n",
       "│ L1      ┆ 3861    ┆ 2018-03-10 ┆ 2018-02-23 ┆ … ┆ 0          ┆ 2.969416  ┆ 2.472756 ┆ -0.1673    │\n",
       "│ L1      ┆ 5663    ┆ 2018-03-10 ┆ 2018-02-23 ┆ … ┆ 0          ┆ 2.969416  ┆ 2.472756 ┆ -0.1673    │\n",
       "│ L1      ┆ 6523    ┆ 2018-03-10 ┆ 2018-02-23 ┆ … ┆ 0          ┆ 2.969416  ┆ 2.472756 ┆ -0.1673    │\n",
       "│ L1      ┆ 6294    ┆ 2018-03-10 ┆ 2018-02-23 ┆ … ┆ 0          ┆ 2.969416  ┆ 2.472756 ┆ -0.1673    │\n",
       "│ L1      ┆ 6523    ┆ 2018-03-10 ┆ 2018-02-24 ┆ … ┆ 0          ┆ 2.969416  ┆ 2.472756 ┆ -0.1673    │\n",
       "│ L1      ┆ 6294    ┆ 2018-03-10 ┆ 2018-02-24 ┆ … ┆ 0          ┆ 2.969416  ┆ 2.472756 ┆ -0.1673    │\n",
       "│ …       ┆ …       ┆ …          ┆ …          ┆ … ┆ …          ┆ …         ┆ …        ┆ …          │\n",
       "│ L2      ┆ 1980    ┆ 2018-01-13 ┆ 2017-12-24 ┆ … ┆ 0          ┆ 2.679007  ┆ 3.666424 ┆ 0.3686     │\n",
       "│ L2      ┆ 4680    ┆ 2018-01-13 ┆ 2018-01-13 ┆ … ┆ 0          ┆ 2.679007  ┆ 3.666424 ┆ 0.3686     │\n",
       "│ L2      ┆ 1355    ┆ 2018-01-07 ┆ 2018-01-06 ┆ … ┆ 0          ┆ 2.661205  ┆ 3.666424 ┆ 0.3777     │\n",
       "│ L2      ┆ 8363    ┆ 2018-01-08 ┆ 2017-12-22 ┆ … ┆ 0          ┆ 2.661205  ┆ 3.666424 ┆ 0.3777     │\n",
       "│ L2      ┆ 8363    ┆ 2018-01-08 ┆ 2017-12-23 ┆ … ┆ 0          ┆ 2.661205  ┆ 3.666424 ┆ 0.3777     │\n",
       "│ L2      ┆ 3842    ┆ 2018-01-08 ┆ 2018-01-06 ┆ … ┆ 0          ┆ 2.661205  ┆ 3.666424 ┆ 0.3777     │\n",
       "│ L2      ┆ 8363    ┆ 2018-01-08 ┆ 2018-01-07 ┆ … ┆ 0          ┆ 2.661205  ┆ 3.666424 ┆ 0.3777     │\n",
       "│ L2      ┆ 5236    ┆ 2018-01-09 ┆ 2018-01-06 ┆ … ┆ 0          ┆ 2.661205  ┆ 3.666424 ┆ 0.3777     │\n",
       "│ L2      ┆ 5236    ┆ 2018-01-09 ┆ 2018-01-08 ┆ … ┆ 0          ┆ 2.661205  ┆ 3.666424 ┆ 0.3777     │\n",
       "│ L2      ┆ 8363    ┆ 2018-01-08 ┆ 2017-12-06 ┆ … ┆ 0          ┆ 2.661205  ┆ 3.672283 ┆ 0.3799     │\n",
       "└─────────┴─────────┴────────────┴────────────┴───┴────────────┴───────────┴──────────┴────────────┘"
      ]
     },
     "execution_count": 14,
     "metadata": {},
     "output_type": "execute_result"
    }
   ],
   "source": [
    "train_df.sort('scaled_fare')"
   ]
  },
  {
   "cell_type": "code",
   "execution_count": 15,
   "metadata": {},
   "outputs": [
    {
     "data": {
      "text/html": [
       "<div><style>\n",
       ".dataframe > thead > tr,\n",
       ".dataframe > tbody > tr {\n",
       "  text-align: right;\n",
       "  white-space: pre-wrap;\n",
       "}\n",
       "</style>\n",
       "<small>shape: (268_233, 24)</small><table border=\"1\" class=\"dataframe\"><thead><tr><th>carrier</th><th>flt_num</th><th>flt_departure_dt</th><th>observation_date</th><th>total_fare</th><th>days_till_flight</th><th>is_dst</th><th>route_id</th><th>flt_departure_local_time</th><th>flt_arrival_local_time</th><th>dur_min</th><th>tz_min</th><th>over_mn</th><th>dpt_4h_od</th><th>flt_count_dpt_24h</th><th>flt_count_dpt_4h</th><th>scaled_demand</th><th>scaled_share</th><th>origin_id</th><th>destination_id</th><th>flt_info_null</th><th>base_fare</th><th>log_fare</th><th>scaled_fare</th></tr><tr><td>str</td><td>i64</td><td>date</td><td>date</td><td>i64</td><td>i16</td><td>i8</td><td>u8</td><td>datetime[ns]</td><td>datetime[ns]</td><td>i16</td><td>i16</td><td>i8</td><td>i8</td><td>u8</td><td>u8</td><td>i64</td><td>i64</td><td>u8</td><td>u8</td><td>u8</td><td>f64</td><td>f64</td><td>f64</td></tr></thead><tbody><tr><td>&quot;L1&quot;</td><td>2149</td><td>2018-11-06</td><td>2018-10-10</td><td>297</td><td>27</td><td>0</td><td>3</td><td>2018-11-06 01:00:00</td><td>2018-11-06 05:54:00</td><td>294</td><td>-480</td><td>0</td><td>0</td><td>8</td><td>2</td><td>2838</td><td>405</td><td>3</td><td>2</td><td>0</td><td>2.969416</td><td>2.472756</td><td>-0.1673</td></tr><tr><td>&quot;L1&quot;</td><td>2149</td><td>2018-11-06</td><td>2018-10-11</td><td>297</td><td>26</td><td>0</td><td>3</td><td>2018-11-06 01:00:00</td><td>2018-11-06 05:54:00</td><td>294</td><td>-480</td><td>0</td><td>0</td><td>8</td><td>2</td><td>2838</td><td>405</td><td>3</td><td>2</td><td>0</td><td>2.969416</td><td>2.472756</td><td>-0.1673</td></tr><tr><td>&quot;L1&quot;</td><td>2149</td><td>2018-11-06</td><td>2018-10-12</td><td>297</td><td>25</td><td>0</td><td>3</td><td>2018-11-06 01:00:00</td><td>2018-11-06 05:54:00</td><td>294</td><td>-480</td><td>0</td><td>0</td><td>8</td><td>2</td><td>2838</td><td>405</td><td>3</td><td>2</td><td>0</td><td>2.969416</td><td>2.472756</td><td>-0.1673</td></tr><tr><td>&quot;L1&quot;</td><td>2149</td><td>2018-11-06</td><td>2018-10-13</td><td>297</td><td>24</td><td>0</td><td>3</td><td>2018-11-06 01:00:00</td><td>2018-11-06 05:54:00</td><td>294</td><td>-480</td><td>0</td><td>0</td><td>8</td><td>2</td><td>2838</td><td>405</td><td>3</td><td>2</td><td>0</td><td>2.969416</td><td>2.472756</td><td>-0.1673</td></tr><tr><td>&quot;L1&quot;</td><td>2149</td><td>2018-11-07</td><td>2018-09-26</td><td>297</td><td>42</td><td>0</td><td>3</td><td>2018-11-07 01:00:00</td><td>2018-11-07 05:54:00</td><td>294</td><td>-480</td><td>0</td><td>0</td><td>8</td><td>2</td><td>2838</td><td>405</td><td>3</td><td>2</td><td>0</td><td>2.969416</td><td>2.472756</td><td>-0.1673</td></tr><tr><td>&quot;L1&quot;</td><td>2149</td><td>2018-11-07</td><td>2018-10-05</td><td>297</td><td>33</td><td>0</td><td>3</td><td>2018-11-07 01:00:00</td><td>2018-11-07 05:54:00</td><td>294</td><td>-480</td><td>0</td><td>0</td><td>8</td><td>2</td><td>2838</td><td>405</td><td>3</td><td>2</td><td>0</td><td>2.969416</td><td>2.472756</td><td>-0.1673</td></tr><tr><td>&quot;L1&quot;</td><td>2149</td><td>2018-11-07</td><td>2018-10-10</td><td>297</td><td>28</td><td>0</td><td>3</td><td>2018-11-07 01:00:00</td><td>2018-11-07 05:54:00</td><td>294</td><td>-480</td><td>0</td><td>0</td><td>8</td><td>2</td><td>2838</td><td>405</td><td>3</td><td>2</td><td>0</td><td>2.969416</td><td>2.472756</td><td>-0.1673</td></tr><tr><td>&quot;L1&quot;</td><td>2149</td><td>2018-11-07</td><td>2018-10-11</td><td>297</td><td>27</td><td>0</td><td>3</td><td>2018-11-07 01:00:00</td><td>2018-11-07 05:54:00</td><td>294</td><td>-480</td><td>0</td><td>0</td><td>8</td><td>2</td><td>2838</td><td>405</td><td>3</td><td>2</td><td>0</td><td>2.969416</td><td>2.472756</td><td>-0.1673</td></tr><tr><td>&quot;L1&quot;</td><td>2149</td><td>2018-11-07</td><td>2018-10-12</td><td>297</td><td>26</td><td>0</td><td>3</td><td>2018-11-07 01:00:00</td><td>2018-11-07 05:54:00</td><td>294</td><td>-480</td><td>0</td><td>0</td><td>8</td><td>2</td><td>2838</td><td>405</td><td>3</td><td>2</td><td>0</td><td>2.969416</td><td>2.472756</td><td>-0.1673</td></tr><tr><td>&quot;L1&quot;</td><td>2149</td><td>2018-11-07</td><td>2018-10-13</td><td>297</td><td>25</td><td>0</td><td>3</td><td>2018-11-07 01:00:00</td><td>2018-11-07 05:54:00</td><td>294</td><td>-480</td><td>0</td><td>0</td><td>8</td><td>2</td><td>2838</td><td>405</td><td>3</td><td>2</td><td>0</td><td>2.969416</td><td>2.472756</td><td>-0.1673</td></tr><tr><td>&hellip;</td><td>&hellip;</td><td>&hellip;</td><td>&hellip;</td><td>&hellip;</td><td>&hellip;</td><td>&hellip;</td><td>&hellip;</td><td>&hellip;</td><td>&hellip;</td><td>&hellip;</td><td>&hellip;</td><td>&hellip;</td><td>&hellip;</td><td>&hellip;</td><td>&hellip;</td><td>&hellip;</td><td>&hellip;</td><td>&hellip;</td><td>&hellip;</td><td>&hellip;</td><td>&hellip;</td><td>&hellip;</td><td>&hellip;</td></tr><tr><td>&quot;OTH&quot;</td><td>6005</td><td>2018-12-31</td><td>2018-12-18</td><td>7859</td><td>13</td><td>0</td><td>6</td><td>null</td><td>null</td><td>null</td><td>null</td><td>null</td><td>null</td><td>null</td><td>null</td><td>7128</td><td>266</td><td>4</td><td>3</td><td>1</td><td>2.578759</td><td>3.895367</td><td>0.5106</td></tr><tr><td>&quot;OTH&quot;</td><td>5292</td><td>2018-12-31</td><td>2018-12-18</td><td>7859</td><td>13</td><td>0</td><td>6</td><td>null</td><td>null</td><td>null</td><td>null</td><td>null</td><td>null</td><td>null</td><td>null</td><td>7128</td><td>266</td><td>4</td><td>3</td><td>1</td><td>2.578759</td><td>3.895367</td><td>0.5106</td></tr><tr><td>&quot;OTH&quot;</td><td>6005</td><td>2018-12-31</td><td>2018-12-19</td><td>7859</td><td>12</td><td>0</td><td>6</td><td>null</td><td>null</td><td>null</td><td>null</td><td>null</td><td>null</td><td>null</td><td>null</td><td>7128</td><td>266</td><td>4</td><td>3</td><td>1</td><td>2.578759</td><td>3.895367</td><td>0.5106</td></tr><tr><td>&quot;OTH&quot;</td><td>6413</td><td>2018-12-31</td><td>2018-12-19</td><td>7859</td><td>12</td><td>0</td><td>6</td><td>null</td><td>null</td><td>null</td><td>null</td><td>null</td><td>null</td><td>null</td><td>null</td><td>7128</td><td>266</td><td>4</td><td>3</td><td>1</td><td>2.578759</td><td>3.895367</td><td>0.5106</td></tr><tr><td>&quot;OTH&quot;</td><td>5638</td><td>2018-12-31</td><td>2018-12-19</td><td>7859</td><td>12</td><td>0</td><td>6</td><td>null</td><td>null</td><td>null</td><td>null</td><td>null</td><td>null</td><td>null</td><td>null</td><td>7128</td><td>266</td><td>4</td><td>3</td><td>1</td><td>2.578759</td><td>3.895367</td><td>0.5106</td></tr><tr><td>&quot;OTH&quot;</td><td>5292</td><td>2018-12-31</td><td>2018-12-19</td><td>7859</td><td>12</td><td>0</td><td>6</td><td>null</td><td>null</td><td>null</td><td>null</td><td>null</td><td>null</td><td>null</td><td>null</td><td>7128</td><td>266</td><td>4</td><td>3</td><td>1</td><td>2.578759</td><td>3.895367</td><td>0.5106</td></tr><tr><td>&quot;OTH&quot;</td><td>6005</td><td>2018-12-31</td><td>2018-12-20</td><td>7859</td><td>11</td><td>0</td><td>6</td><td>null</td><td>null</td><td>null</td><td>null</td><td>null</td><td>null</td><td>null</td><td>null</td><td>7128</td><td>266</td><td>4</td><td>3</td><td>1</td><td>2.578759</td><td>3.895367</td><td>0.5106</td></tr><tr><td>&quot;OTH&quot;</td><td>5292</td><td>2018-12-31</td><td>2018-12-20</td><td>7859</td><td>11</td><td>0</td><td>6</td><td>null</td><td>null</td><td>null</td><td>null</td><td>null</td><td>null</td><td>null</td><td>null</td><td>7128</td><td>266</td><td>4</td><td>3</td><td>1</td><td>2.578759</td><td>3.895367</td><td>0.5106</td></tr><tr><td>&quot;OTH&quot;</td><td>6413</td><td>2018-12-31</td><td>2018-12-20</td><td>7859</td><td>11</td><td>0</td><td>6</td><td>null</td><td>null</td><td>null</td><td>null</td><td>null</td><td>null</td><td>null</td><td>null</td><td>7128</td><td>266</td><td>4</td><td>3</td><td>1</td><td>2.578759</td><td>3.895367</td><td>0.5106</td></tr><tr><td>&quot;OTH&quot;</td><td>5638</td><td>2018-12-31</td><td>2018-12-20</td><td>7859</td><td>11</td><td>0</td><td>6</td><td>null</td><td>null</td><td>null</td><td>null</td><td>null</td><td>null</td><td>null</td><td>null</td><td>7128</td><td>266</td><td>4</td><td>3</td><td>1</td><td>2.578759</td><td>3.895367</td><td>0.5106</td></tr></tbody></table></div>"
      ],
      "text/plain": [
       "shape: (268_233, 24)\n",
       "┌─────────┬─────────┬────────────┬────────────┬───┬────────────┬───────────┬──────────┬────────────┐\n",
       "│ carrier ┆ flt_num ┆ flt_depart ┆ observatio ┆ … ┆ flt_info_n ┆ base_fare ┆ log_fare ┆ scaled_far │\n",
       "│ ---     ┆ ---     ┆ ure_dt     ┆ n_date     ┆   ┆ ull        ┆ ---       ┆ ---      ┆ e          │\n",
       "│ str     ┆ i64     ┆ ---        ┆ ---        ┆   ┆ ---        ┆ f64       ┆ f64      ┆ ---        │\n",
       "│         ┆         ┆ date       ┆ date       ┆   ┆ u8         ┆           ┆          ┆ f64        │\n",
       "╞═════════╪═════════╪════════════╪════════════╪═══╪════════════╪═══════════╪══════════╪════════════╡\n",
       "│ L1      ┆ 2149    ┆ 2018-11-06 ┆ 2018-10-10 ┆ … ┆ 0          ┆ 2.969416  ┆ 2.472756 ┆ -0.1673    │\n",
       "│ L1      ┆ 2149    ┆ 2018-11-06 ┆ 2018-10-11 ┆ … ┆ 0          ┆ 2.969416  ┆ 2.472756 ┆ -0.1673    │\n",
       "│ L1      ┆ 2149    ┆ 2018-11-06 ┆ 2018-10-12 ┆ … ┆ 0          ┆ 2.969416  ┆ 2.472756 ┆ -0.1673    │\n",
       "│ L1      ┆ 2149    ┆ 2018-11-06 ┆ 2018-10-13 ┆ … ┆ 0          ┆ 2.969416  ┆ 2.472756 ┆ -0.1673    │\n",
       "│ L1      ┆ 2149    ┆ 2018-11-07 ┆ 2018-09-26 ┆ … ┆ 0          ┆ 2.969416  ┆ 2.472756 ┆ -0.1673    │\n",
       "│ L1      ┆ 2149    ┆ 2018-11-07 ┆ 2018-10-05 ┆ … ┆ 0          ┆ 2.969416  ┆ 2.472756 ┆ -0.1673    │\n",
       "│ L1      ┆ 2149    ┆ 2018-11-07 ┆ 2018-10-10 ┆ … ┆ 0          ┆ 2.969416  ┆ 2.472756 ┆ -0.1673    │\n",
       "│ L1      ┆ 2149    ┆ 2018-11-07 ┆ 2018-10-11 ┆ … ┆ 0          ┆ 2.969416  ┆ 2.472756 ┆ -0.1673    │\n",
       "│ L1      ┆ 2149    ┆ 2018-11-07 ┆ 2018-10-12 ┆ … ┆ 0          ┆ 2.969416  ┆ 2.472756 ┆ -0.1673    │\n",
       "│ L1      ┆ 2149    ┆ 2018-11-07 ┆ 2018-10-13 ┆ … ┆ 0          ┆ 2.969416  ┆ 2.472756 ┆ -0.1673    │\n",
       "│ …       ┆ …       ┆ …          ┆ …          ┆ … ┆ …          ┆ …         ┆ …        ┆ …          │\n",
       "│ OTH     ┆ 6005    ┆ 2018-12-31 ┆ 2018-12-18 ┆ … ┆ 1          ┆ 2.578759  ┆ 3.895367 ┆ 0.5106     │\n",
       "│ OTH     ┆ 5292    ┆ 2018-12-31 ┆ 2018-12-18 ┆ … ┆ 1          ┆ 2.578759  ┆ 3.895367 ┆ 0.5106     │\n",
       "│ OTH     ┆ 6005    ┆ 2018-12-31 ┆ 2018-12-19 ┆ … ┆ 1          ┆ 2.578759  ┆ 3.895367 ┆ 0.5106     │\n",
       "│ OTH     ┆ 6413    ┆ 2018-12-31 ┆ 2018-12-19 ┆ … ┆ 1          ┆ 2.578759  ┆ 3.895367 ┆ 0.5106     │\n",
       "│ OTH     ┆ 5638    ┆ 2018-12-31 ┆ 2018-12-19 ┆ … ┆ 1          ┆ 2.578759  ┆ 3.895367 ┆ 0.5106     │\n",
       "│ OTH     ┆ 5292    ┆ 2018-12-31 ┆ 2018-12-19 ┆ … ┆ 1          ┆ 2.578759  ┆ 3.895367 ┆ 0.5106     │\n",
       "│ OTH     ┆ 6005    ┆ 2018-12-31 ┆ 2018-12-20 ┆ … ┆ 1          ┆ 2.578759  ┆ 3.895367 ┆ 0.5106     │\n",
       "│ OTH     ┆ 5292    ┆ 2018-12-31 ┆ 2018-12-20 ┆ … ┆ 1          ┆ 2.578759  ┆ 3.895367 ┆ 0.5106     │\n",
       "│ OTH     ┆ 6413    ┆ 2018-12-31 ┆ 2018-12-20 ┆ … ┆ 1          ┆ 2.578759  ┆ 3.895367 ┆ 0.5106     │\n",
       "│ OTH     ┆ 5638    ┆ 2018-12-31 ┆ 2018-12-20 ┆ … ┆ 1          ┆ 2.578759  ┆ 3.895367 ┆ 0.5106     │\n",
       "└─────────┴─────────┴────────────┴────────────┴───┴────────────┴───────────┴──────────┴────────────┘"
      ]
     },
     "execution_count": 15,
     "metadata": {},
     "output_type": "execute_result"
    }
   ],
   "source": [
    "val_df.sort('scaled_fare')"
   ]
  },
  {
   "cell_type": "markdown",
   "metadata": {},
   "source": [
    "#### Metrics when predicting `base_fare`"
   ]
  },
  {
   "cell_type": "code",
   "execution_count": 16,
   "metadata": {},
   "outputs": [
    {
     "name": "stdout",
     "output_type": "stream",
     "text": [
      "Train - Mean Baseline\n",
      "RMSE: 418.2143\n",
      "MAE: 253.7485\n",
      "R2: 18.772%\n",
      "\n",
      "Val - Mean Baseline\n",
      "RMSE: 857.1785\n",
      "MAE: 354.5263\n",
      "R2: -3.406%\n",
      "\n"
     ]
    }
   ],
   "source": [
    "print_metrics(\n",
    "    train_df['total_fare'], train_df.select(pl.lit(10).pow('base_fare')),\n",
    "    label = 'Train - Mean Baseline'\n",
    ")\n",
    "\n",
    "print_metrics(\n",
    "    val_df['total_fare'], val_df.select(pl.lit(10).pow('base_fare')),\n",
    "    label = 'Val - Mean Baseline'\n",
    ")"
   ]
  },
  {
   "cell_type": "markdown",
   "metadata": {},
   "source": [
    "### Feature generation"
   ]
  },
  {
   "cell_type": "markdown",
   "metadata": {},
   "source": [
    "#### Last week prices"
   ]
  },
  {
   "cell_type": "code",
   "execution_count": 17,
   "metadata": {},
   "outputs": [
    {
     "data": {
      "text/html": [
       "<div><style>\n",
       ".dataframe > thead > tr,\n",
       ".dataframe > tbody > tr {\n",
       "  text-align: right;\n",
       "  white-space: pre-wrap;\n",
       "}\n",
       "</style>\n",
       "<small>shape: (12, 2)</small><table border=\"1\" class=\"dataframe\"><thead><tr><th>route_id</th><th>route_mean_fare</th></tr><tr><td>u8</td><td>f64</td></tr></thead><tbody><tr><td>0</td><td>783.391726</td></tr><tr><td>1</td><td>1096.165243</td></tr><tr><td>2</td><td>867.414364</td></tr><tr><td>3</td><td>943.123206</td></tr><tr><td>4</td><td>549.199302</td></tr><tr><td>5</td><td>696.104599</td></tr><tr><td>6</td><td>511.615142</td></tr><tr><td>7</td><td>768.142252</td></tr><tr><td>8</td><td>1178.555753</td></tr><tr><td>9</td><td>1007.832604</td></tr><tr><td>10</td><td>1095.990724</td></tr><tr><td>11</td><td>627.061509</td></tr></tbody></table></div>"
      ],
      "text/plain": [
       "shape: (12, 2)\n",
       "┌──────────┬─────────────────┐\n",
       "│ route_id ┆ route_mean_fare │\n",
       "│ ---      ┆ ---             │\n",
       "│ u8       ┆ f64             │\n",
       "╞══════════╪═════════════════╡\n",
       "│ 0        ┆ 783.391726      │\n",
       "│ 1        ┆ 1096.165243     │\n",
       "│ 2        ┆ 867.414364      │\n",
       "│ 3        ┆ 943.123206      │\n",
       "│ 4        ┆ 549.199302      │\n",
       "│ 5        ┆ 696.104599      │\n",
       "│ 6        ┆ 511.615142      │\n",
       "│ 7        ┆ 768.142252      │\n",
       "│ 8        ┆ 1178.555753     │\n",
       "│ 9        ┆ 1007.832604     │\n",
       "│ 10       ┆ 1095.990724     │\n",
       "│ 11       ┆ 627.061509      │\n",
       "└──────────┴─────────────────┘"
      ]
     },
     "execution_count": 17,
     "metadata": {},
     "output_type": "execute_result"
    }
   ],
   "source": [
    "route_mean_fares = train_df.group_by('route_id').agg(\n",
    "    pl.col('total_fare').mean().alias('route_mean_fare')\n",
    ").sort('route_id')\n",
    "\n",
    "route_mean_fares"
   ]
  },
  {
   "cell_type": "code",
   "execution_count": 18,
   "metadata": {},
   "outputs": [
    {
     "data": {
      "text/html": [
       "<div><style>\n",
       ".dataframe > thead > tr,\n",
       ".dataframe > tbody > tr {\n",
       "  text-align: right;\n",
       "  white-space: pre-wrap;\n",
       "}\n",
       "</style>\n",
       "<small>shape: (4_124, 3)</small><table border=\"1\" class=\"dataframe\"><thead><tr><th>route_id</th><th>flt_departure_dt</th><th>7d_route_avg</th></tr><tr><td>u8</td><td>date</td><td>f64</td></tr></thead><tbody><tr><td>0</td><td>2018-02-17</td><td>0.943972</td></tr><tr><td>0</td><td>2018-02-18</td><td>0.943972</td></tr><tr><td>0</td><td>2018-02-19</td><td>0.943845</td></tr><tr><td>0</td><td>2018-02-20</td><td>0.943972</td></tr><tr><td>0</td><td>2018-02-21</td><td>0.943972</td></tr><tr><td>0</td><td>2018-02-22</td><td>1.040476</td></tr><tr><td>0</td><td>2018-02-23</td><td>0.993412</td></tr><tr><td>0</td><td>2018-02-24</td><td>0.921293</td></tr><tr><td>0</td><td>2018-02-25</td><td>0.901449</td></tr><tr><td>0</td><td>2018-02-26</td><td>1.175582</td></tr><tr><td>&hellip;</td><td>&hellip;</td><td>&hellip;</td></tr><tr><td>11</td><td>2018-12-29</td><td>1.880687</td></tr><tr><td>11</td><td>2018-12-30</td><td>1.596854</td></tr><tr><td>11</td><td>2018-12-31</td><td>1.39652</td></tr><tr><td>11</td><td>2019-01-01</td><td>1.286475</td></tr><tr><td>11</td><td>2019-01-02</td><td>1.436099</td></tr><tr><td>11</td><td>2019-01-03</td><td>1.29102</td></tr><tr><td>11</td><td>2019-01-04</td><td>1.160831</td></tr><tr><td>11</td><td>2019-01-05</td><td>1.249533</td></tr><tr><td>11</td><td>2019-01-06</td><td>1.2012</td></tr><tr><td>11</td><td>2019-01-07</td><td>0.875976</td></tr></tbody></table></div>"
      ],
      "text/plain": [
       "shape: (4_124, 3)\n",
       "┌──────────┬──────────────────┬──────────────┐\n",
       "│ route_id ┆ flt_departure_dt ┆ 7d_route_avg │\n",
       "│ ---      ┆ ---              ┆ ---          │\n",
       "│ u8       ┆ date             ┆ f64          │\n",
       "╞══════════╪══════════════════╪══════════════╡\n",
       "│ 0        ┆ 2018-02-17       ┆ 0.943972     │\n",
       "│ 0        ┆ 2018-02-18       ┆ 0.943972     │\n",
       "│ 0        ┆ 2018-02-19       ┆ 0.943845     │\n",
       "│ 0        ┆ 2018-02-20       ┆ 0.943972     │\n",
       "│ 0        ┆ 2018-02-21       ┆ 0.943972     │\n",
       "│ 0        ┆ 2018-02-22       ┆ 1.040476     │\n",
       "│ 0        ┆ 2018-02-23       ┆ 0.993412     │\n",
       "│ 0        ┆ 2018-02-24       ┆ 0.921293     │\n",
       "│ 0        ┆ 2018-02-25       ┆ 0.901449     │\n",
       "│ 0        ┆ 2018-02-26       ┆ 1.175582     │\n",
       "│ …        ┆ …                ┆ …            │\n",
       "│ 11       ┆ 2018-12-29       ┆ 1.880687     │\n",
       "│ 11       ┆ 2018-12-30       ┆ 1.596854     │\n",
       "│ 11       ┆ 2018-12-31       ┆ 1.39652      │\n",
       "│ 11       ┆ 2019-01-01       ┆ 1.286475     │\n",
       "│ 11       ┆ 2019-01-02       ┆ 1.436099     │\n",
       "│ 11       ┆ 2019-01-03       ┆ 1.29102      │\n",
       "│ 11       ┆ 2019-01-04       ┆ 1.160831     │\n",
       "│ 11       ┆ 2019-01-05       ┆ 1.249533     │\n",
       "│ 11       ┆ 2019-01-06       ┆ 1.2012       │\n",
       "│ 11       ┆ 2019-01-07       ┆ 0.875976     │\n",
       "└──────────┴──────────────────┴──────────────┘"
      ]
     },
     "execution_count": 18,
     "metadata": {},
     "output_type": "execute_result"
    }
   ],
   "source": [
    "route_week_ago_fare = processed_train_df.group_by(\n",
    "    'route_id', 'flt_departure_dt'\n",
    ").agg(\n",
    "    pl.col('total_fare').mean()\n",
    ").with_columns(\n",
    "    pl.col('flt_departure_dt') + pl.duration(days = 7)\n",
    ").join(\n",
    "    route_mean_fares,\n",
    "    on = \"route_id\",\n",
    "    how = \"left\"\n",
    ").select(\n",
    "    pl.col('route_id'),\n",
    "    pl.col('flt_departure_dt'),\n",
    "    (\n",
    "        pl.col('total_fare') / pl.col('route_mean_fare')\n",
    "    ).alias('7d_route_avg')\n",
    ").sort('route_id', 'flt_departure_dt')\n",
    "\n",
    "route_week_ago_fare"
   ]
  },
  {
   "cell_type": "code",
   "execution_count": 19,
   "metadata": {},
   "outputs": [
    {
     "data": {
      "text/html": [
       "<div><style>\n",
       ".dataframe > thead > tr,\n",
       ".dataframe > tbody > tr {\n",
       "  text-align: right;\n",
       "  white-space: pre-wrap;\n",
       "}\n",
       "</style>\n",
       "<small>shape: (34, 3)</small><table border=\"1\" class=\"dataframe\"><thead><tr><th>route_id</th><th>carrier</th><th>route_carrier_mean_fare</th></tr><tr><td>u8</td><td>str</td><td>f64</td></tr></thead><tbody><tr><td>0</td><td>&quot;L1&quot;</td><td>843.834908</td></tr><tr><td>0</td><td>&quot;U3&quot;</td><td>567.096642</td></tr><tr><td>1</td><td>&quot;L1&quot;</td><td>1096.165243</td></tr><tr><td>2</td><td>&quot;L1&quot;</td><td>968.072142</td></tr><tr><td>2</td><td>&quot;OTH&quot;</td><td>607.726771</td></tr><tr><td>2</td><td>&quot;U3&quot;</td><td>559.28629</td></tr><tr><td>3</td><td>&quot;L1&quot;</td><td>1058.892393</td></tr><tr><td>3</td><td>&quot;OTH&quot;</td><td>617.07395</td></tr><tr><td>3</td><td>&quot;U3&quot;</td><td>719.858787</td></tr><tr><td>4</td><td>&quot;L1&quot;</td><td>530.047676</td></tr><tr><td>&hellip;</td><td>&hellip;</td><td>&hellip;</td></tr><tr><td>7</td><td>&quot;U3&quot;</td><td>572.66755</td></tr><tr><td>8</td><td>&quot;L1&quot;</td><td>1178.555753</td></tr><tr><td>9</td><td>&quot;L1&quot;</td><td>1049.228613</td></tr><tr><td>9</td><td>&quot;L2&quot;</td><td>965.557192</td></tr><tr><td>10</td><td>&quot;L1&quot;</td><td>1126.075143</td></tr><tr><td>10</td><td>&quot;L2&quot;</td><td>1063.081131</td></tr><tr><td>11</td><td>&quot;L1&quot;</td><td>654.648794</td></tr><tr><td>11</td><td>&quot;OTH&quot;</td><td>579.380258</td></tr><tr><td>11</td><td>&quot;U1&quot;</td><td>619.319673</td></tr><tr><td>11</td><td>&quot;U3&quot;</td><td>450.477592</td></tr></tbody></table></div>"
      ],
      "text/plain": [
       "shape: (34, 3)\n",
       "┌──────────┬─────────┬─────────────────────────┐\n",
       "│ route_id ┆ carrier ┆ route_carrier_mean_fare │\n",
       "│ ---      ┆ ---     ┆ ---                     │\n",
       "│ u8       ┆ str     ┆ f64                     │\n",
       "╞══════════╪═════════╪═════════════════════════╡\n",
       "│ 0        ┆ L1      ┆ 843.834908              │\n",
       "│ 0        ┆ U3      ┆ 567.096642              │\n",
       "│ 1        ┆ L1      ┆ 1096.165243             │\n",
       "│ 2        ┆ L1      ┆ 968.072142              │\n",
       "│ 2        ┆ OTH     ┆ 607.726771              │\n",
       "│ 2        ┆ U3      ┆ 559.28629               │\n",
       "│ 3        ┆ L1      ┆ 1058.892393             │\n",
       "│ 3        ┆ OTH     ┆ 617.07395               │\n",
       "│ 3        ┆ U3      ┆ 719.858787              │\n",
       "│ 4        ┆ L1      ┆ 530.047676              │\n",
       "│ …        ┆ …       ┆ …                       │\n",
       "│ 7        ┆ U3      ┆ 572.66755               │\n",
       "│ 8        ┆ L1      ┆ 1178.555753             │\n",
       "│ 9        ┆ L1      ┆ 1049.228613             │\n",
       "│ 9        ┆ L2      ┆ 965.557192              │\n",
       "│ 10       ┆ L1      ┆ 1126.075143             │\n",
       "│ 10       ┆ L2      ┆ 1063.081131             │\n",
       "│ 11       ┆ L1      ┆ 654.648794              │\n",
       "│ 11       ┆ OTH     ┆ 579.380258              │\n",
       "│ 11       ┆ U1      ┆ 619.319673              │\n",
       "│ 11       ┆ U3      ┆ 450.477592              │\n",
       "└──────────┴─────────┴─────────────────────────┘"
      ]
     },
     "execution_count": 19,
     "metadata": {},
     "output_type": "execute_result"
    }
   ],
   "source": [
    "route_carrier_mean_fares = train_df.group_by('route_id', 'carrier').agg(\n",
    "    pl.col('total_fare').mean().alias('route_carrier_mean_fare')\n",
    ").sort('route_id', 'carrier')\n",
    "\n",
    "route_carrier_mean_fares"
   ]
  },
  {
   "cell_type": "code",
   "execution_count": 20,
   "metadata": {},
   "outputs": [
    {
     "data": {
      "text/html": [
       "<div><style>\n",
       ".dataframe > thead > tr,\n",
       ".dataframe > tbody > tr {\n",
       "  text-align: right;\n",
       "  white-space: pre-wrap;\n",
       "}\n",
       "</style>\n",
       "<small>shape: (10_130, 4)</small><table border=\"1\" class=\"dataframe\"><thead><tr><th>route_id</th><th>flt_departure_dt</th><th>carrier</th><th>7d_route_carrier_avg</th></tr><tr><td>u8</td><td>date</td><td>str</td><td>f64</td></tr></thead><tbody><tr><td>0</td><td>2018-02-17</td><td>&quot;U3&quot;</td><td>1.304011</td></tr><tr><td>0</td><td>2018-02-18</td><td>&quot;U3&quot;</td><td>1.304011</td></tr><tr><td>0</td><td>2018-02-19</td><td>&quot;U3&quot;</td><td>1.303834</td></tr><tr><td>0</td><td>2018-02-20</td><td>&quot;U3&quot;</td><td>1.304011</td></tr><tr><td>0</td><td>2018-02-21</td><td>&quot;U3&quot;</td><td>1.304011</td></tr><tr><td>0</td><td>2018-02-22</td><td>&quot;U3&quot;</td><td>1.437321</td></tr><tr><td>0</td><td>2018-02-23</td><td>&quot;U3&quot;</td><td>1.372307</td></tr><tr><td>0</td><td>2018-02-24</td><td>&quot;U3&quot;</td><td>1.272681</td></tr><tr><td>0</td><td>2018-02-25</td><td>&quot;U3&quot;</td><td>1.245268</td></tr><tr><td>0</td><td>2018-02-26</td><td>&quot;U3&quot;</td><td>1.623958</td></tr><tr><td>&hellip;</td><td>&hellip;</td><td>&hellip;</td><td>&hellip;</td></tr><tr><td>11</td><td>2019-01-04</td><td>&quot;U1&quot;</td><td>1.198036</td></tr><tr><td>11</td><td>2019-01-04</td><td>&quot;U3&quot;</td><td>1.230793</td></tr><tr><td>11</td><td>2019-01-05</td><td>&quot;L1&quot;</td><td>1.33788</td></tr><tr><td>11</td><td>2019-01-05</td><td>&quot;U1&quot;</td><td>1.169835</td></tr><tr><td>11</td><td>2019-01-05</td><td>&quot;U3&quot;</td><td>1.246233</td></tr><tr><td>11</td><td>2019-01-06</td><td>&quot;L1&quot;</td><td>1.248328</td></tr><tr><td>11</td><td>2019-01-06</td><td>&quot;U1&quot;</td><td>1.118275</td></tr><tr><td>11</td><td>2019-01-07</td><td>&quot;L1&quot;</td><td>0.863819</td></tr><tr><td>11</td><td>2019-01-07</td><td>&quot;U1&quot;</td><td>0.909046</td></tr><tr><td>11</td><td>2019-01-07</td><td>&quot;U3&quot;</td><td>0.702529</td></tr></tbody></table></div>"
      ],
      "text/plain": [
       "shape: (10_130, 4)\n",
       "┌──────────┬──────────────────┬─────────┬──────────────────────┐\n",
       "│ route_id ┆ flt_departure_dt ┆ carrier ┆ 7d_route_carrier_avg │\n",
       "│ ---      ┆ ---              ┆ ---     ┆ ---                  │\n",
       "│ u8       ┆ date             ┆ str     ┆ f64                  │\n",
       "╞══════════╪══════════════════╪═════════╪══════════════════════╡\n",
       "│ 0        ┆ 2018-02-17       ┆ U3      ┆ 1.304011             │\n",
       "│ 0        ┆ 2018-02-18       ┆ U3      ┆ 1.304011             │\n",
       "│ 0        ┆ 2018-02-19       ┆ U3      ┆ 1.303834             │\n",
       "│ 0        ┆ 2018-02-20       ┆ U3      ┆ 1.304011             │\n",
       "│ 0        ┆ 2018-02-21       ┆ U3      ┆ 1.304011             │\n",
       "│ 0        ┆ 2018-02-22       ┆ U3      ┆ 1.437321             │\n",
       "│ 0        ┆ 2018-02-23       ┆ U3      ┆ 1.372307             │\n",
       "│ 0        ┆ 2018-02-24       ┆ U3      ┆ 1.272681             │\n",
       "│ 0        ┆ 2018-02-25       ┆ U3      ┆ 1.245268             │\n",
       "│ 0        ┆ 2018-02-26       ┆ U3      ┆ 1.623958             │\n",
       "│ …        ┆ …                ┆ …       ┆ …                    │\n",
       "│ 11       ┆ 2019-01-04       ┆ U1      ┆ 1.198036             │\n",
       "│ 11       ┆ 2019-01-04       ┆ U3      ┆ 1.230793             │\n",
       "│ 11       ┆ 2019-01-05       ┆ L1      ┆ 1.33788              │\n",
       "│ 11       ┆ 2019-01-05       ┆ U1      ┆ 1.169835             │\n",
       "│ 11       ┆ 2019-01-05       ┆ U3      ┆ 1.246233             │\n",
       "│ 11       ┆ 2019-01-06       ┆ L1      ┆ 1.248328             │\n",
       "│ 11       ┆ 2019-01-06       ┆ U1      ┆ 1.118275             │\n",
       "│ 11       ┆ 2019-01-07       ┆ L1      ┆ 0.863819             │\n",
       "│ 11       ┆ 2019-01-07       ┆ U1      ┆ 0.909046             │\n",
       "│ 11       ┆ 2019-01-07       ┆ U3      ┆ 0.702529             │\n",
       "└──────────┴──────────────────┴─────────┴──────────────────────┘"
      ]
     },
     "execution_count": 20,
     "metadata": {},
     "output_type": "execute_result"
    }
   ],
   "source": [
    "route_carrier_week_ago_fare = processed_train_df.group_by(\n",
    "    'route_id', 'flt_departure_dt', 'carrier'\n",
    ").agg(\n",
    "    pl.col('total_fare').mean()\n",
    ").with_columns(\n",
    "    pl.col('flt_departure_dt') + pl.duration(days = 7)\n",
    ").join(\n",
    "    route_carrier_mean_fares,\n",
    "    on = ['route_id', 'carrier'],\n",
    "    how = \"left\"\n",
    ").select(\n",
    "    pl.col('route_id'),\n",
    "    pl.col('flt_departure_dt'),\n",
    "    pl.col('carrier'),\n",
    "    (\n",
    "        pl.col('total_fare') / pl.col('route_carrier_mean_fare')\n",
    "    ).alias('7d_route_carrier_avg')\n",
    ").sort('route_id', 'flt_departure_dt', 'carrier')\n",
    "\n",
    "route_carrier_week_ago_fare"
   ]
  },
  {
   "cell_type": "code",
   "execution_count": 21,
   "metadata": {},
   "outputs": [
    {
     "data": {
      "text/html": [
       "<div><style>\n",
       ".dataframe > thead > tr,\n",
       ".dataframe > tbody > tr {\n",
       "  text-align: right;\n",
       "  white-space: pre-wrap;\n",
       "}\n",
       "</style>\n",
       "<small>shape: (1_430_585, 26)</small><table border=\"1\" class=\"dataframe\"><thead><tr><th>carrier</th><th>flt_num</th><th>flt_departure_dt</th><th>observation_date</th><th>total_fare</th><th>days_till_flight</th><th>is_dst</th><th>route_id</th><th>flt_departure_local_time</th><th>flt_arrival_local_time</th><th>dur_min</th><th>tz_min</th><th>over_mn</th><th>dpt_4h_od</th><th>flt_count_dpt_24h</th><th>flt_count_dpt_4h</th><th>scaled_demand</th><th>scaled_share</th><th>origin_id</th><th>destination_id</th><th>flt_info_null</th><th>base_fare</th><th>log_fare</th><th>scaled_fare</th><th>7d_route_avg</th><th>7d_route_carrier_avg</th></tr><tr><td>str</td><td>i64</td><td>date</td><td>date</td><td>i64</td><td>i16</td><td>i8</td><td>u8</td><td>datetime[ns]</td><td>datetime[ns]</td><td>i16</td><td>i16</td><td>i8</td><td>i8</td><td>u8</td><td>u8</td><td>i64</td><td>i64</td><td>u8</td><td>u8</td><td>u8</td><td>f64</td><td>f64</td><td>f64</td><td>f64</td><td>f64</td></tr></thead><tbody><tr><td>&quot;U1&quot;</td><td>6143</td><td>2018-01-01</td><td>2017-11-27</td><td>469</td><td>35</td><td>0</td><td>11</td><td>null</td><td>null</td><td>null</td><td>null</td><td>null</td><td>null</td><td>null</td><td>null</td><td>null</td><td>null</td><td>7</td><td>3</td><td>1</td><td>2.75394</td><td>2.671173</td><td>-0.0301</td><td>1.0</td><td>1.0</td></tr><tr><td>&quot;L1&quot;</td><td>5927</td><td>2018-01-01</td><td>2017-11-27</td><td>1119</td><td>35</td><td>0</td><td>1</td><td>2018-01-01 20:33:00</td><td>2018-01-01 23:50:00</td><td>197</td><td>-300</td><td>0</td><td>5</td><td>5</td><td>1</td><td>1468</td><td>360</td><td>1</td><td>5</td><td>0</td><td>2.989814</td><td>3.04883</td><td>0.0197</td><td>1.0</td><td>1.0</td></tr><tr><td>&quot;L3&quot;</td><td>18075</td><td>2018-01-01</td><td>2017-11-27</td><td>422</td><td>35</td><td>0</td><td>6</td><td>2018-01-01 13:20:00</td><td>2018-01-01 14:35:00</td><td>75</td><td>-480</td><td>0</td><td>3</td><td>30</td><td>9</td><td>6659</td><td>228</td><td>4</td><td>3</td><td>0</td><td>2.729752</td><td>2.625312</td><td>-0.0383</td><td>1.0</td><td>1.0</td></tr><tr><td>&quot;OTH&quot;</td><td>2416</td><td>2018-01-01</td><td>2017-11-27</td><td>787</td><td>35</td><td>0</td><td>4</td><td>2018-01-01 20:22:00</td><td>2018-01-01 21:46:00</td><td>84</td><td>-480</td><td>0</td><td>5</td><td>30</td><td>4</td><td>6659</td><td>316</td><td>3</td><td>4</td><td>0</td><td>2.589536</td><td>2.895975</td><td>0.1183</td><td>1.0</td><td>1.0</td></tr><tr><td>&quot;L3&quot;</td><td>18270</td><td>2018-01-01</td><td>2017-11-27</td><td>1298</td><td>35</td><td>0</td><td>4</td><td>2018-01-01 11:17:00</td><td>2018-01-01 12:40:00</td><td>83</td><td>-480</td><td>0</td><td>2</td><td>30</td><td>5</td><td>6659</td><td>231</td><td>3</td><td>4</td><td>0</td><td>2.754933</td><td>3.113275</td><td>0.1301</td><td>1.0</td><td>1.0</td></tr><tr><td>&quot;L1&quot;</td><td>1396</td><td>2018-01-01</td><td>2017-11-27</td><td>372</td><td>35</td><td>0</td><td>11</td><td>2018-01-01 19:35:00</td><td>2018-01-01 21:08:00</td><td>93</td><td>-480</td><td>0</td><td>4</td><td>21</td><td>7</td><td>6579</td><td>262</td><td>7</td><td>3</td><td>0</td><td>2.764942</td><td>2.570543</td><td>-0.0703</td><td>1.0</td><td>1.0</td></tr><tr><td>&quot;U1&quot;</td><td>4771</td><td>2018-01-01</td><td>2017-11-27</td><td>513</td><td>35</td><td>0</td><td>4</td><td>null</td><td>null</td><td>null</td><td>null</td><td>null</td><td>null</td><td>null</td><td>null</td><td>null</td><td>null</td><td>3</td><td>4</td><td>1</td><td>2.637849</td><td>2.710117</td><td>0.0274</td><td>1.0</td><td>1.0</td></tr><tr><td>&quot;OTH&quot;</td><td>4825</td><td>2018-01-01</td><td>2017-11-27</td><td>432</td><td>35</td><td>0</td><td>6</td><td>2018-01-01 12:55:00</td><td>2018-01-01 14:07:00</td><td>72</td><td>-480</td><td>0</td><td>3</td><td>30</td><td>9</td><td>6659</td><td>316</td><td>4</td><td>3</td><td>0</td><td>2.578759</td><td>2.635484</td><td>0.022</td><td>1.0</td><td>1.0</td></tr><tr><td>&quot;OTH&quot;</td><td>6175</td><td>2018-01-01</td><td>2017-11-27</td><td>341</td><td>35</td><td>0</td><td>11</td><td>2018-01-01 18:55:00</td><td>2018-01-01 20:23:00</td><td>88</td><td>-480</td><td>0</td><td>4</td><td>21</td><td>7</td><td>6579</td><td>354</td><td>7</td><td>3</td><td>0</td><td>2.72979</td><td>2.532754</td><td>-0.0722</td><td>1.0</td><td>1.0</td></tr><tr><td>&quot;U1&quot;</td><td>6187</td><td>2018-01-01</td><td>2017-11-27</td><td>341</td><td>35</td><td>0</td><td>11</td><td>null</td><td>null</td><td>null</td><td>null</td><td>null</td><td>null</td><td>null</td><td>null</td><td>null</td><td>null</td><td>7</td><td>3</td><td>1</td><td>2.75394</td><td>2.532754</td><td>-0.0803</td><td>1.0</td><td>1.0</td></tr><tr><td>&hellip;</td><td>&hellip;</td><td>&hellip;</td><td>&hellip;</td><td>&hellip;</td><td>&hellip;</td><td>&hellip;</td><td>&hellip;</td><td>&hellip;</td><td>&hellip;</td><td>&hellip;</td><td>&hellip;</td><td>&hellip;</td><td>&hellip;</td><td>&hellip;</td><td>&hellip;</td><td>&hellip;</td><td>&hellip;</td><td>&hellip;</td><td>&hellip;</td><td>&hellip;</td><td>&hellip;</td><td>&hellip;</td><td>&hellip;</td><td>&hellip;</td><td>&hellip;</td></tr><tr><td>&quot;U1&quot;</td><td>6187</td><td>2018-10-31</td><td>2018-10-31</td><td>1111</td><td>0</td><td>1</td><td>11</td><td>2018-10-31 19:55:00</td><td>2018-10-31 21:31:00</td><td>96</td><td>-420</td><td>0</td><td>4</td><td>22</td><td>7</td><td>7120</td><td>238</td><td>7</td><td>3</td><td>0</td><td>2.75394</td><td>3.045714</td><td>0.1059</td><td>0.902995</td><td>0.866816</td></tr><tr><td>&quot;U3&quot;</td><td>758</td><td>2018-10-31</td><td>2018-10-31</td><td>498</td><td>0</td><td>1</td><td>7</td><td>2018-10-31 15:30:00</td><td>2018-10-31 16:47:00</td><td>77</td><td>-300</td><td>0</td><td>3</td><td>8</td><td>1</td><td>3162</td><td>203</td><td>5</td><td>0</td><td>0</td><td>2.733146</td><td>2.697229</td><td>-0.0131</td><td>0.808286</td><td>0.653224</td></tr><tr><td>&quot;U1&quot;</td><td>4771</td><td>2018-10-31</td><td>2018-10-31</td><td>395</td><td>0</td><td>1</td><td>4</td><td>2018-10-31 09:10:00</td><td>2018-10-31 10:30:00</td><td>80</td><td>-420</td><td>0</td><td>2</td><td>32</td><td>9</td><td>7704</td><td>197</td><td>3</td><td>4</td><td>0</td><td>2.637849</td><td>2.596597</td><td>-0.0156</td><td>0.801045</td><td>0.753122</td></tr><tr><td>&quot;L3&quot;</td><td>11296</td><td>2018-10-31</td><td>2018-10-31</td><td>2492</td><td>0</td><td>1</td><td>6</td><td>2018-10-31 11:00:00</td><td>2018-10-31 12:18:00</td><td>78</td><td>-420</td><td>0</td><td>2</td><td>32</td><td>8</td><td>7704</td><td>224</td><td>4</td><td>3</td><td>0</td><td>2.729752</td><td>3.396548</td><td>0.2443</td><td>0.927804</td><td>1.092157</td></tr><tr><td>&quot;L2&quot;</td><td>5041</td><td>2018-10-31</td><td>2018-10-31</td><td>781</td><td>0</td><td>1</td><td>6</td><td>2018-10-31 12:35:00</td><td>2018-10-31 13:50:00</td><td>75</td><td>-420</td><td>0</td><td>3</td><td>32</td><td>10</td><td>7704</td><td>218</td><td>4</td><td>3</td><td>0</td><td>2.661205</td><td>2.892651</td><td>0.087</td><td>0.927804</td><td>0.731396</td></tr><tr><td>&quot;L1&quot;</td><td>1763</td><td>2018-10-31</td><td>2018-10-31</td><td>3277</td><td>0</td><td>1</td><td>10</td><td>2018-10-31 19:47:00</td><td>2018-10-31 22:39:00</td><td>172</td><td>-300</td><td>0</td><td>4</td><td>3</td><td>1</td><td>1941</td><td>326</td><td>6</td><td>5</td><td>0</td><td>3.002688</td><td>3.515476</td><td>0.1708</td><td>0.882456</td><td>0.867847</td></tr><tr><td>&quot;L3&quot;</td><td>3845</td><td>2018-10-31</td><td>2018-10-31</td><td>671</td><td>0</td><td>1</td><td>4</td><td>2018-10-31 11:11:00</td><td>2018-10-31 12:31:00</td><td>80</td><td>-420</td><td>0</td><td>2</td><td>32</td><td>9</td><td>7704</td><td>225</td><td>3</td><td>4</td><td>0</td><td>2.754933</td><td>2.826723</td><td>0.0261</td><td>0.801045</td><td>0.884803</td></tr><tr><td>&quot;L1&quot;</td><td>5559</td><td>2018-10-31</td><td>2018-10-31</td><td>2021</td><td>0</td><td>1</td><td>3</td><td>2018-10-31 10:15:00</td><td>2018-10-31 15:06:00</td><td>291</td><td>-420</td><td>0</td><td>2</td><td>8</td><td>1</td><td>2816</td><td>402</td><td>3</td><td>2</td><td>0</td><td>2.969416</td><td>3.305566</td><td>0.1132</td><td>0.950646</td><td>0.94203</td></tr><tr><td>&quot;U1&quot;</td><td>4790</td><td>2018-10-31</td><td>2018-10-31</td><td>395</td><td>0</td><td>1</td><td>4</td><td>2018-10-31 14:25:00</td><td>2018-10-31 15:47:00</td><td>82</td><td>-420</td><td>0</td><td>3</td><td>32</td><td>9</td><td>7704</td><td>197</td><td>3</td><td>4</td><td>0</td><td>2.637849</td><td>2.596597</td><td>-0.0156</td><td>0.801045</td><td>0.753122</td></tr><tr><td>&quot;U1&quot;</td><td>3832</td><td>2018-10-31</td><td>2018-10-31</td><td>517</td><td>0</td><td>1</td><td>6</td><td>2018-10-31 07:00:00</td><td>2018-10-31 08:16:00</td><td>76</td><td>-420</td><td>0</td><td>1</td><td>32</td><td>3</td><td>7704</td><td>199</td><td>4</td><td>3</td><td>0</td><td>2.617467</td><td>2.713491</td><td>0.0367</td><td>0.927804</td><td>0.816841</td></tr></tbody></table></div>"
      ],
      "text/plain": [
       "shape: (1_430_585, 26)\n",
       "┌─────────┬─────────┬────────────┬────────────┬───┬──────────┬────────────┬────────────┬───────────┐\n",
       "│ carrier ┆ flt_num ┆ flt_depart ┆ observatio ┆ … ┆ log_fare ┆ scaled_far ┆ 7d_route_a ┆ 7d_route_ │\n",
       "│ ---     ┆ ---     ┆ ure_dt     ┆ n_date     ┆   ┆ ---      ┆ e          ┆ vg         ┆ carrier_a │\n",
       "│ str     ┆ i64     ┆ ---        ┆ ---        ┆   ┆ f64      ┆ ---        ┆ ---        ┆ vg        │\n",
       "│         ┆         ┆ date       ┆ date       ┆   ┆          ┆ f64        ┆ f64        ┆ ---       │\n",
       "│         ┆         ┆            ┆            ┆   ┆          ┆            ┆            ┆ f64       │\n",
       "╞═════════╪═════════╪════════════╪════════════╪═══╪══════════╪════════════╪════════════╪═══════════╡\n",
       "│ U1      ┆ 6143    ┆ 2018-01-01 ┆ 2017-11-27 ┆ … ┆ 2.671173 ┆ -0.0301    ┆ 1.0        ┆ 1.0       │\n",
       "│ L1      ┆ 5927    ┆ 2018-01-01 ┆ 2017-11-27 ┆ … ┆ 3.04883  ┆ 0.0197     ┆ 1.0        ┆ 1.0       │\n",
       "│ L3      ┆ 18075   ┆ 2018-01-01 ┆ 2017-11-27 ┆ … ┆ 2.625312 ┆ -0.0383    ┆ 1.0        ┆ 1.0       │\n",
       "│ OTH     ┆ 2416    ┆ 2018-01-01 ┆ 2017-11-27 ┆ … ┆ 2.895975 ┆ 0.1183     ┆ 1.0        ┆ 1.0       │\n",
       "│ L3      ┆ 18270   ┆ 2018-01-01 ┆ 2017-11-27 ┆ … ┆ 3.113275 ┆ 0.1301     ┆ 1.0        ┆ 1.0       │\n",
       "│ L1      ┆ 1396    ┆ 2018-01-01 ┆ 2017-11-27 ┆ … ┆ 2.570543 ┆ -0.0703    ┆ 1.0        ┆ 1.0       │\n",
       "│ U1      ┆ 4771    ┆ 2018-01-01 ┆ 2017-11-27 ┆ … ┆ 2.710117 ┆ 0.0274     ┆ 1.0        ┆ 1.0       │\n",
       "│ OTH     ┆ 4825    ┆ 2018-01-01 ┆ 2017-11-27 ┆ … ┆ 2.635484 ┆ 0.022      ┆ 1.0        ┆ 1.0       │\n",
       "│ OTH     ┆ 6175    ┆ 2018-01-01 ┆ 2017-11-27 ┆ … ┆ 2.532754 ┆ -0.0722    ┆ 1.0        ┆ 1.0       │\n",
       "│ U1      ┆ 6187    ┆ 2018-01-01 ┆ 2017-11-27 ┆ … ┆ 2.532754 ┆ -0.0803    ┆ 1.0        ┆ 1.0       │\n",
       "│ …       ┆ …       ┆ …          ┆ …          ┆ … ┆ …        ┆ …          ┆ …          ┆ …         │\n",
       "│ U1      ┆ 6187    ┆ 2018-10-31 ┆ 2018-10-31 ┆ … ┆ 3.045714 ┆ 0.1059     ┆ 0.902995   ┆ 0.866816  │\n",
       "│ U3      ┆ 758     ┆ 2018-10-31 ┆ 2018-10-31 ┆ … ┆ 2.697229 ┆ -0.0131    ┆ 0.808286   ┆ 0.653224  │\n",
       "│ U1      ┆ 4771    ┆ 2018-10-31 ┆ 2018-10-31 ┆ … ┆ 2.596597 ┆ -0.0156    ┆ 0.801045   ┆ 0.753122  │\n",
       "│ L3      ┆ 11296   ┆ 2018-10-31 ┆ 2018-10-31 ┆ … ┆ 3.396548 ┆ 0.2443     ┆ 0.927804   ┆ 1.092157  │\n",
       "│ L2      ┆ 5041    ┆ 2018-10-31 ┆ 2018-10-31 ┆ … ┆ 2.892651 ┆ 0.087      ┆ 0.927804   ┆ 0.731396  │\n",
       "│ L1      ┆ 1763    ┆ 2018-10-31 ┆ 2018-10-31 ┆ … ┆ 3.515476 ┆ 0.1708     ┆ 0.882456   ┆ 0.867847  │\n",
       "│ L3      ┆ 3845    ┆ 2018-10-31 ┆ 2018-10-31 ┆ … ┆ 2.826723 ┆ 0.0261     ┆ 0.801045   ┆ 0.884803  │\n",
       "│ L1      ┆ 5559    ┆ 2018-10-31 ┆ 2018-10-31 ┆ … ┆ 3.305566 ┆ 0.1132     ┆ 0.950646   ┆ 0.94203   │\n",
       "│ U1      ┆ 4790    ┆ 2018-10-31 ┆ 2018-10-31 ┆ … ┆ 2.596597 ┆ -0.0156    ┆ 0.801045   ┆ 0.753122  │\n",
       "│ U1      ┆ 3832    ┆ 2018-10-31 ┆ 2018-10-31 ┆ … ┆ 2.713491 ┆ 0.0367     ┆ 0.927804   ┆ 0.816841  │\n",
       "└─────────┴─────────┴────────────┴────────────┴───┴──────────┴────────────┴────────────┴───────────┘"
      ]
     },
     "execution_count": 21,
     "metadata": {},
     "output_type": "execute_result"
    }
   ],
   "source": [
    "train_df = train_df.join(\n",
    "    route_week_ago_fare,\n",
    "    on = ['route_id', 'flt_departure_dt'],\n",
    "    how = 'left'\n",
    ").join(\n",
    "    route_carrier_week_ago_fare,\n",
    "    on = ['route_id', 'flt_departure_dt', 'carrier'],\n",
    "    how = 'left'\n",
    ").with_columns(\n",
    "    pl.col('7d_route_avg').fill_null(1),\n",
    "    pl.col('7d_route_carrier_avg').fill_null(1)\n",
    ")\n",
    "\n",
    "train_df"
   ]
  },
  {
   "cell_type": "code",
   "execution_count": 22,
   "metadata": {},
   "outputs": [
    {
     "data": {
      "text/html": [
       "<div><style>\n",
       ".dataframe > thead > tr,\n",
       ".dataframe > tbody > tr {\n",
       "  text-align: right;\n",
       "  white-space: pre-wrap;\n",
       "}\n",
       "</style>\n",
       "<small>shape: (268_233, 26)</small><table border=\"1\" class=\"dataframe\"><thead><tr><th>carrier</th><th>flt_num</th><th>flt_departure_dt</th><th>observation_date</th><th>total_fare</th><th>days_till_flight</th><th>is_dst</th><th>route_id</th><th>flt_departure_local_time</th><th>flt_arrival_local_time</th><th>dur_min</th><th>tz_min</th><th>over_mn</th><th>dpt_4h_od</th><th>flt_count_dpt_24h</th><th>flt_count_dpt_4h</th><th>scaled_demand</th><th>scaled_share</th><th>origin_id</th><th>destination_id</th><th>flt_info_null</th><th>base_fare</th><th>log_fare</th><th>scaled_fare</th><th>7d_route_avg</th><th>7d_route_carrier_avg</th></tr><tr><td>str</td><td>i64</td><td>date</td><td>date</td><td>i64</td><td>i16</td><td>i8</td><td>u8</td><td>datetime[ns]</td><td>datetime[ns]</td><td>i16</td><td>i16</td><td>i8</td><td>i8</td><td>u8</td><td>u8</td><td>i64</td><td>i64</td><td>u8</td><td>u8</td><td>u8</td><td>f64</td><td>f64</td><td>f64</td><td>f64</td><td>f64</td></tr></thead><tbody><tr><td>&quot;U1&quot;</td><td>6184</td><td>2018-11-01</td><td>2018-02-14</td><td>397</td><td>260</td><td>1</td><td>5</td><td>2018-11-01 20:20:00</td><td>2018-11-01 22:02:00</td><td>102</td><td>-420</td><td>0</td><td>5</td><td>23</td><td>2</td><td>6396</td><td>250</td><td>3</td><td>7</td><td>0</td><td>2.794668</td><td>2.598791</td><td>-0.0701</td><td>0.916033</td><td>0.966251</td></tr><tr><td>&quot;L1&quot;</td><td>2444</td><td>2018-11-01</td><td>2018-02-14</td><td>369</td><td>260</td><td>1</td><td>5</td><td>null</td><td>null</td><td>null</td><td>null</td><td>null</td><td>null</td><td>null</td><td>null</td><td>6396</td><td>292</td><td>3</td><td>7</td><td>1</td><td>2.795584</td><td>2.567026</td><td>-0.0818</td><td>0.916033</td><td>0.868502</td></tr><tr><td>&quot;U1&quot;</td><td>6134</td><td>2018-11-01</td><td>2018-02-14</td><td>425</td><td>260</td><td>1</td><td>5</td><td>2018-11-01 10:50:00</td><td>2018-11-01 12:33:00</td><td>103</td><td>-420</td><td>0</td><td>2</td><td>23</td><td>5</td><td>6396</td><td>250</td><td>3</td><td>7</td><td>0</td><td>2.794668</td><td>2.628389</td><td>-0.0595</td><td>0.916033</td><td>0.966251</td></tr><tr><td>&quot;L1&quot;</td><td>1575</td><td>2018-11-01</td><td>2018-02-14</td><td>416</td><td>260</td><td>1</td><td>5</td><td>2018-11-01 11:10:00</td><td>2018-11-01 12:46:00</td><td>96</td><td>-420</td><td>0</td><td>2</td><td>23</td><td>5</td><td>6396</td><td>292</td><td>3</td><td>7</td><td>0</td><td>2.795584</td><td>2.619093</td><td>-0.0631</td><td>0.916033</td><td>0.868502</td></tr><tr><td>&quot;L1&quot;</td><td>5811</td><td>2018-11-01</td><td>2018-02-14</td><td>564</td><td>260</td><td>1</td><td>5</td><td>2018-11-01 15:15:00</td><td>2018-11-01 16:49:00</td><td>94</td><td>-420</td><td>0</td><td>3</td><td>23</td><td>6</td><td>6396</td><td>292</td><td>3</td><td>7</td><td>0</td><td>2.795584</td><td>2.751279</td><td>-0.0158</td><td>0.916033</td><td>0.868502</td></tr><tr><td>&quot;L1&quot;</td><td>18973</td><td>2018-11-01</td><td>2018-02-14</td><td>717</td><td>260</td><td>1</td><td>5</td><td>null</td><td>null</td><td>null</td><td>null</td><td>null</td><td>null</td><td>null</td><td>null</td><td>6396</td><td>292</td><td>3</td><td>7</td><td>1</td><td>2.795584</td><td>2.855519</td><td>0.0214</td><td>0.916033</td><td>0.868502</td></tr><tr><td>&quot;L1&quot;</td><td>5675</td><td>2018-11-01</td><td>2018-02-14</td><td>466</td><td>260</td><td>1</td><td>5</td><td>2018-11-01 13:17:00</td><td>2018-11-01 14:53:00</td><td>96</td><td>-420</td><td>0</td><td>3</td><td>23</td><td>6</td><td>6396</td><td>292</td><td>3</td><td>7</td><td>0</td><td>2.795584</td><td>2.668386</td><td>-0.0455</td><td>0.916033</td><td>0.868502</td></tr><tr><td>&quot;U1&quot;</td><td>6153</td><td>2018-11-01</td><td>2018-02-14</td><td>466</td><td>260</td><td>1</td><td>5</td><td>2018-11-01 17:20:00</td><td>2018-11-01 19:02:00</td><td>102</td><td>-420</td><td>0</td><td>4</td><td>23</td><td>7</td><td>6396</td><td>250</td><td>3</td><td>7</td><td>0</td><td>2.794668</td><td>2.668386</td><td>-0.0452</td><td>0.916033</td><td>0.966251</td></tr><tr><td>&quot;U1&quot;</td><td>6178</td><td>2018-11-01</td><td>2018-02-14</td><td>425</td><td>260</td><td>1</td><td>5</td><td>2018-11-01 18:30:00</td><td>2018-11-01 20:12:00</td><td>102</td><td>-420</td><td>0</td><td>4</td><td>23</td><td>7</td><td>6396</td><td>250</td><td>3</td><td>7</td><td>0</td><td>2.794668</td><td>2.628389</td><td>-0.0595</td><td>0.916033</td><td>0.966251</td></tr><tr><td>&quot;U1&quot;</td><td>6146</td><td>2018-11-01</td><td>2018-02-14</td><td>388</td><td>260</td><td>1</td><td>5</td><td>null</td><td>null</td><td>null</td><td>null</td><td>null</td><td>null</td><td>null</td><td>null</td><td>6396</td><td>250</td><td>3</td><td>7</td><td>1</td><td>2.794668</td><td>2.588832</td><td>-0.0737</td><td>0.916033</td><td>0.966251</td></tr><tr><td>&hellip;</td><td>&hellip;</td><td>&hellip;</td><td>&hellip;</td><td>&hellip;</td><td>&hellip;</td><td>&hellip;</td><td>&hellip;</td><td>&hellip;</td><td>&hellip;</td><td>&hellip;</td><td>&hellip;</td><td>&hellip;</td><td>&hellip;</td><td>&hellip;</td><td>&hellip;</td><td>&hellip;</td><td>&hellip;</td><td>&hellip;</td><td>&hellip;</td><td>&hellip;</td><td>&hellip;</td><td>&hellip;</td><td>&hellip;</td><td>&hellip;</td><td>&hellip;</td></tr><tr><td>&quot;L1&quot;</td><td>7431</td><td>2018-12-31</td><td>2018-12-31</td><td>1346</td><td>0</td><td>0</td><td>1</td><td>2018-12-31 07:00:00</td><td>2018-12-31 10:11:00</td><td>191</td><td>-300</td><td>0</td><td>1</td><td>4</td><td>1</td><td>2164</td><td>373</td><td>1</td><td>5</td><td>0</td><td>2.989814</td><td>3.129045</td><td>0.0466</td><td>1.18903</td><td>1.18903</td></tr><tr><td>&quot;L1&quot;</td><td>981</td><td>2018-12-31</td><td>2018-12-31</td><td>3142</td><td>0</td><td>0</td><td>10</td><td>2018-12-31 18:49:00</td><td>2018-12-31 21:43:00</td><td>174</td><td>-360</td><td>0</td><td>4</td><td>6</td><td>1</td><td>1618</td><td>317</td><td>6</td><td>5</td><td>0</td><td>3.002688</td><td>3.497206</td><td>0.1647</td><td>0.765755</td><td>0.750565</td></tr><tr><td>&quot;L1&quot;</td><td>1283</td><td>2018-12-31</td><td>2018-12-31</td><td>1111</td><td>0</td><td>0</td><td>11</td><td>2018-12-31 10:50:00</td><td>2018-12-31 12:20:00</td><td>90</td><td>-480</td><td>0</td><td>2</td><td>21</td><td>5</td><td>5817</td><td>288</td><td>7</td><td>3</td><td>0</td><td>2.764942</td><td>3.045714</td><td>0.1015</td><td>1.39652</td><td>1.437817</td></tr><tr><td>&quot;L1&quot;</td><td>7588</td><td>2018-12-31</td><td>2018-12-31</td><td>1111</td><td>0</td><td>0</td><td>11</td><td>2018-12-31 22:52:00</td><td>2019-01-01 00:26:00</td><td>94</td><td>-480</td><td>1</td><td>5</td><td>21</td><td>3</td><td>5817</td><td>288</td><td>7</td><td>3</td><td>0</td><td>2.764942</td><td>3.045714</td><td>0.1015</td><td>1.39652</td><td>1.437817</td></tr><tr><td>&quot;L1&quot;</td><td>5135</td><td>2018-12-31</td><td>2018-12-31</td><td>1924</td><td>0</td><td>0</td><td>7</td><td>2018-12-31 07:25:00</td><td>2018-12-31 08:42:00</td><td>77</td><td>-360</td><td>0</td><td>1</td><td>8</td><td>3</td><td>3070</td><td>272</td><td>5</td><td>0</td><td>0</td><td>2.860323</td><td>3.284205</td><td>0.1482</td><td>0.955206</td><td>0.941661</td></tr><tr><td>&quot;L1&quot;</td><td>3120</td><td>2018-12-31</td><td>2018-12-31</td><td>1111</td><td>0</td><td>0</td><td>11</td><td>2018-12-31 16:28:00</td><td>2018-12-31 17:58:00</td><td>90</td><td>-480</td><td>0</td><td>4</td><td>21</td><td>7</td><td>5817</td><td>288</td><td>7</td><td>3</td><td>0</td><td>2.764942</td><td>3.045714</td><td>0.1015</td><td>1.39652</td><td>1.437817</td></tr><tr><td>&quot;U1&quot;</td><td>2388</td><td>2018-12-31</td><td>2018-12-31</td><td>1111</td><td>0</td><td>0</td><td>11</td><td>2018-12-31 09:25:00</td><td>2018-12-31 10:52:00</td><td>87</td><td>-480</td><td>0</td><td>2</td><td>21</td><td>5</td><td>5817</td><td>253</td><td>7</td><td>3</td><td>0</td><td>2.75394</td><td>3.045714</td><td>0.1059</td><td>1.39652</td><td>1.361866</td></tr><tr><td>&quot;L1&quot;</td><td>6294</td><td>2018-12-31</td><td>2018-12-31</td><td>2037</td><td>0</td><td>0</td><td>3</td><td>2018-12-31 13:43:00</td><td>2018-12-31 18:45:00</td><td>302</td><td>-480</td><td>0</td><td>3</td><td>7</td><td>2</td><td>2790</td><td>405</td><td>3</td><td>2</td><td>0</td><td>2.969416</td><td>3.308991</td><td>0.1144</td><td>0.742479</td><td>0.679592</td></tr><tr><td>&quot;U1&quot;</td><td>6178</td><td>2018-12-31</td><td>2018-12-31</td><td>1111</td><td>0</td><td>0</td><td>5</td><td>2018-12-31 19:05:00</td><td>2018-12-31 20:44:00</td><td>99</td><td>-480</td><td>0</td><td>4</td><td>21</td><td>7</td><td>5817</td><td>252</td><td>3</td><td>7</td><td>0</td><td>2.794668</td><td>3.045714</td><td>0.0898</td><td>0.761084</td><td>0.800342</td></tr><tr><td>&quot;L1&quot;</td><td>10926</td><td>2018-12-31</td><td>2018-12-31</td><td>3142</td><td>0</td><td>0</td><td>10</td><td>2018-12-31 15:50:00</td><td>2018-12-31 18:49:00</td><td>179</td><td>-360</td><td>0</td><td>3</td><td>6</td><td>3</td><td>1618</td><td>317</td><td>6</td><td>5</td><td>0</td><td>3.002688</td><td>3.497206</td><td>0.1647</td><td>0.765755</td><td>0.750565</td></tr></tbody></table></div>"
      ],
      "text/plain": [
       "shape: (268_233, 26)\n",
       "┌─────────┬─────────┬────────────┬────────────┬───┬──────────┬────────────┬────────────┬───────────┐\n",
       "│ carrier ┆ flt_num ┆ flt_depart ┆ observatio ┆ … ┆ log_fare ┆ scaled_far ┆ 7d_route_a ┆ 7d_route_ │\n",
       "│ ---     ┆ ---     ┆ ure_dt     ┆ n_date     ┆   ┆ ---      ┆ e          ┆ vg         ┆ carrier_a │\n",
       "│ str     ┆ i64     ┆ ---        ┆ ---        ┆   ┆ f64      ┆ ---        ┆ ---        ┆ vg        │\n",
       "│         ┆         ┆ date       ┆ date       ┆   ┆          ┆ f64        ┆ f64        ┆ ---       │\n",
       "│         ┆         ┆            ┆            ┆   ┆          ┆            ┆            ┆ f64       │\n",
       "╞═════════╪═════════╪════════════╪════════════╪═══╪══════════╪════════════╪════════════╪═══════════╡\n",
       "│ U1      ┆ 6184    ┆ 2018-11-01 ┆ 2018-02-14 ┆ … ┆ 2.598791 ┆ -0.0701    ┆ 0.916033   ┆ 0.966251  │\n",
       "│ L1      ┆ 2444    ┆ 2018-11-01 ┆ 2018-02-14 ┆ … ┆ 2.567026 ┆ -0.0818    ┆ 0.916033   ┆ 0.868502  │\n",
       "│ U1      ┆ 6134    ┆ 2018-11-01 ┆ 2018-02-14 ┆ … ┆ 2.628389 ┆ -0.0595    ┆ 0.916033   ┆ 0.966251  │\n",
       "│ L1      ┆ 1575    ┆ 2018-11-01 ┆ 2018-02-14 ┆ … ┆ 2.619093 ┆ -0.0631    ┆ 0.916033   ┆ 0.868502  │\n",
       "│ L1      ┆ 5811    ┆ 2018-11-01 ┆ 2018-02-14 ┆ … ┆ 2.751279 ┆ -0.0158    ┆ 0.916033   ┆ 0.868502  │\n",
       "│ L1      ┆ 18973   ┆ 2018-11-01 ┆ 2018-02-14 ┆ … ┆ 2.855519 ┆ 0.0214     ┆ 0.916033   ┆ 0.868502  │\n",
       "│ L1      ┆ 5675    ┆ 2018-11-01 ┆ 2018-02-14 ┆ … ┆ 2.668386 ┆ -0.0455    ┆ 0.916033   ┆ 0.868502  │\n",
       "│ U1      ┆ 6153    ┆ 2018-11-01 ┆ 2018-02-14 ┆ … ┆ 2.668386 ┆ -0.0452    ┆ 0.916033   ┆ 0.966251  │\n",
       "│ U1      ┆ 6178    ┆ 2018-11-01 ┆ 2018-02-14 ┆ … ┆ 2.628389 ┆ -0.0595    ┆ 0.916033   ┆ 0.966251  │\n",
       "│ U1      ┆ 6146    ┆ 2018-11-01 ┆ 2018-02-14 ┆ … ┆ 2.588832 ┆ -0.0737    ┆ 0.916033   ┆ 0.966251  │\n",
       "│ …       ┆ …       ┆ …          ┆ …          ┆ … ┆ …        ┆ …          ┆ …          ┆ …         │\n",
       "│ L1      ┆ 7431    ┆ 2018-12-31 ┆ 2018-12-31 ┆ … ┆ 3.129045 ┆ 0.0466     ┆ 1.18903    ┆ 1.18903   │\n",
       "│ L1      ┆ 981     ┆ 2018-12-31 ┆ 2018-12-31 ┆ … ┆ 3.497206 ┆ 0.1647     ┆ 0.765755   ┆ 0.750565  │\n",
       "│ L1      ┆ 1283    ┆ 2018-12-31 ┆ 2018-12-31 ┆ … ┆ 3.045714 ┆ 0.1015     ┆ 1.39652    ┆ 1.437817  │\n",
       "│ L1      ┆ 7588    ┆ 2018-12-31 ┆ 2018-12-31 ┆ … ┆ 3.045714 ┆ 0.1015     ┆ 1.39652    ┆ 1.437817  │\n",
       "│ L1      ┆ 5135    ┆ 2018-12-31 ┆ 2018-12-31 ┆ … ┆ 3.284205 ┆ 0.1482     ┆ 0.955206   ┆ 0.941661  │\n",
       "│ L1      ┆ 3120    ┆ 2018-12-31 ┆ 2018-12-31 ┆ … ┆ 3.045714 ┆ 0.1015     ┆ 1.39652    ┆ 1.437817  │\n",
       "│ U1      ┆ 2388    ┆ 2018-12-31 ┆ 2018-12-31 ┆ … ┆ 3.045714 ┆ 0.1059     ┆ 1.39652    ┆ 1.361866  │\n",
       "│ L1      ┆ 6294    ┆ 2018-12-31 ┆ 2018-12-31 ┆ … ┆ 3.308991 ┆ 0.1144     ┆ 0.742479   ┆ 0.679592  │\n",
       "│ U1      ┆ 6178    ┆ 2018-12-31 ┆ 2018-12-31 ┆ … ┆ 3.045714 ┆ 0.0898     ┆ 0.761084   ┆ 0.800342  │\n",
       "│ L1      ┆ 10926   ┆ 2018-12-31 ┆ 2018-12-31 ┆ … ┆ 3.497206 ┆ 0.1647     ┆ 0.765755   ┆ 0.750565  │\n",
       "└─────────┴─────────┴────────────┴────────────┴───┴──────────┴────────────┴────────────┴───────────┘"
      ]
     },
     "execution_count": 22,
     "metadata": {},
     "output_type": "execute_result"
    }
   ],
   "source": [
    "val_df = val_df.join(\n",
    "    route_week_ago_fare,\n",
    "    on = ['route_id', 'flt_departure_dt'],\n",
    "    how = 'left'\n",
    ").join(\n",
    "    route_carrier_week_ago_fare,\n",
    "    on = ['route_id', 'flt_departure_dt', 'carrier'],\n",
    "    how = 'left'\n",
    ").with_columns(\n",
    "    pl.col('7d_route_avg').fill_null(1),\n",
    "    pl.col('7d_route_carrier_avg').fill_null(1)\n",
    ")\n",
    "\n",
    "val_df"
   ]
  },
  {
   "cell_type": "markdown",
   "metadata": {},
   "source": [
    "#### Days since start"
   ]
  },
  {
   "cell_type": "code",
   "execution_count": 23,
   "metadata": {},
   "outputs": [
    {
     "data": {
      "text/html": [
       "<div><style>\n",
       ".dataframe > thead > tr,\n",
       ".dataframe > tbody > tr {\n",
       "  text-align: right;\n",
       "  white-space: pre-wrap;\n",
       "}\n",
       "</style>\n",
       "<small>shape: (1_430_585, 27)</small><table border=\"1\" class=\"dataframe\"><thead><tr><th>carrier</th><th>flt_num</th><th>flt_departure_dt</th><th>observation_date</th><th>total_fare</th><th>days_till_flight</th><th>is_dst</th><th>route_id</th><th>flt_departure_local_time</th><th>flt_arrival_local_time</th><th>dur_min</th><th>tz_min</th><th>over_mn</th><th>dpt_4h_od</th><th>flt_count_dpt_24h</th><th>flt_count_dpt_4h</th><th>scaled_demand</th><th>scaled_share</th><th>origin_id</th><th>destination_id</th><th>flt_info_null</th><th>base_fare</th><th>log_fare</th><th>scaled_fare</th><th>7d_route_avg</th><th>7d_route_carrier_avg</th><th>days_since_start</th></tr><tr><td>str</td><td>i64</td><td>date</td><td>date</td><td>i64</td><td>i16</td><td>i8</td><td>u8</td><td>datetime[ns]</td><td>datetime[ns]</td><td>i16</td><td>i16</td><td>i8</td><td>i8</td><td>u8</td><td>u8</td><td>i64</td><td>i64</td><td>u8</td><td>u8</td><td>u8</td><td>f64</td><td>f64</td><td>f64</td><td>f64</td><td>f64</td><td>i64</td></tr></thead><tbody><tr><td>&quot;U1&quot;</td><td>6143</td><td>2018-01-01</td><td>2017-11-27</td><td>469</td><td>35</td><td>0</td><td>11</td><td>null</td><td>null</td><td>null</td><td>null</td><td>null</td><td>null</td><td>null</td><td>null</td><td>null</td><td>null</td><td>7</td><td>3</td><td>1</td><td>2.75394</td><td>2.671173</td><td>-0.0301</td><td>1.0</td><td>1.0</td><td>0</td></tr><tr><td>&quot;L1&quot;</td><td>5927</td><td>2018-01-01</td><td>2017-11-27</td><td>1119</td><td>35</td><td>0</td><td>1</td><td>2018-01-01 20:33:00</td><td>2018-01-01 23:50:00</td><td>197</td><td>-300</td><td>0</td><td>5</td><td>5</td><td>1</td><td>1468</td><td>360</td><td>1</td><td>5</td><td>0</td><td>2.989814</td><td>3.04883</td><td>0.0197</td><td>1.0</td><td>1.0</td><td>0</td></tr><tr><td>&quot;L3&quot;</td><td>18075</td><td>2018-01-01</td><td>2017-11-27</td><td>422</td><td>35</td><td>0</td><td>6</td><td>2018-01-01 13:20:00</td><td>2018-01-01 14:35:00</td><td>75</td><td>-480</td><td>0</td><td>3</td><td>30</td><td>9</td><td>6659</td><td>228</td><td>4</td><td>3</td><td>0</td><td>2.729752</td><td>2.625312</td><td>-0.0383</td><td>1.0</td><td>1.0</td><td>0</td></tr><tr><td>&quot;OTH&quot;</td><td>2416</td><td>2018-01-01</td><td>2017-11-27</td><td>787</td><td>35</td><td>0</td><td>4</td><td>2018-01-01 20:22:00</td><td>2018-01-01 21:46:00</td><td>84</td><td>-480</td><td>0</td><td>5</td><td>30</td><td>4</td><td>6659</td><td>316</td><td>3</td><td>4</td><td>0</td><td>2.589536</td><td>2.895975</td><td>0.1183</td><td>1.0</td><td>1.0</td><td>0</td></tr><tr><td>&quot;L3&quot;</td><td>18270</td><td>2018-01-01</td><td>2017-11-27</td><td>1298</td><td>35</td><td>0</td><td>4</td><td>2018-01-01 11:17:00</td><td>2018-01-01 12:40:00</td><td>83</td><td>-480</td><td>0</td><td>2</td><td>30</td><td>5</td><td>6659</td><td>231</td><td>3</td><td>4</td><td>0</td><td>2.754933</td><td>3.113275</td><td>0.1301</td><td>1.0</td><td>1.0</td><td>0</td></tr><tr><td>&quot;L1&quot;</td><td>1396</td><td>2018-01-01</td><td>2017-11-27</td><td>372</td><td>35</td><td>0</td><td>11</td><td>2018-01-01 19:35:00</td><td>2018-01-01 21:08:00</td><td>93</td><td>-480</td><td>0</td><td>4</td><td>21</td><td>7</td><td>6579</td><td>262</td><td>7</td><td>3</td><td>0</td><td>2.764942</td><td>2.570543</td><td>-0.0703</td><td>1.0</td><td>1.0</td><td>0</td></tr><tr><td>&quot;U1&quot;</td><td>4771</td><td>2018-01-01</td><td>2017-11-27</td><td>513</td><td>35</td><td>0</td><td>4</td><td>null</td><td>null</td><td>null</td><td>null</td><td>null</td><td>null</td><td>null</td><td>null</td><td>null</td><td>null</td><td>3</td><td>4</td><td>1</td><td>2.637849</td><td>2.710117</td><td>0.0274</td><td>1.0</td><td>1.0</td><td>0</td></tr><tr><td>&quot;OTH&quot;</td><td>4825</td><td>2018-01-01</td><td>2017-11-27</td><td>432</td><td>35</td><td>0</td><td>6</td><td>2018-01-01 12:55:00</td><td>2018-01-01 14:07:00</td><td>72</td><td>-480</td><td>0</td><td>3</td><td>30</td><td>9</td><td>6659</td><td>316</td><td>4</td><td>3</td><td>0</td><td>2.578759</td><td>2.635484</td><td>0.022</td><td>1.0</td><td>1.0</td><td>0</td></tr><tr><td>&quot;OTH&quot;</td><td>6175</td><td>2018-01-01</td><td>2017-11-27</td><td>341</td><td>35</td><td>0</td><td>11</td><td>2018-01-01 18:55:00</td><td>2018-01-01 20:23:00</td><td>88</td><td>-480</td><td>0</td><td>4</td><td>21</td><td>7</td><td>6579</td><td>354</td><td>7</td><td>3</td><td>0</td><td>2.72979</td><td>2.532754</td><td>-0.0722</td><td>1.0</td><td>1.0</td><td>0</td></tr><tr><td>&quot;U1&quot;</td><td>6187</td><td>2018-01-01</td><td>2017-11-27</td><td>341</td><td>35</td><td>0</td><td>11</td><td>null</td><td>null</td><td>null</td><td>null</td><td>null</td><td>null</td><td>null</td><td>null</td><td>null</td><td>null</td><td>7</td><td>3</td><td>1</td><td>2.75394</td><td>2.532754</td><td>-0.0803</td><td>1.0</td><td>1.0</td><td>0</td></tr><tr><td>&hellip;</td><td>&hellip;</td><td>&hellip;</td><td>&hellip;</td><td>&hellip;</td><td>&hellip;</td><td>&hellip;</td><td>&hellip;</td><td>&hellip;</td><td>&hellip;</td><td>&hellip;</td><td>&hellip;</td><td>&hellip;</td><td>&hellip;</td><td>&hellip;</td><td>&hellip;</td><td>&hellip;</td><td>&hellip;</td><td>&hellip;</td><td>&hellip;</td><td>&hellip;</td><td>&hellip;</td><td>&hellip;</td><td>&hellip;</td><td>&hellip;</td><td>&hellip;</td><td>&hellip;</td></tr><tr><td>&quot;U1&quot;</td><td>6187</td><td>2018-10-31</td><td>2018-10-31</td><td>1111</td><td>0</td><td>1</td><td>11</td><td>2018-10-31 19:55:00</td><td>2018-10-31 21:31:00</td><td>96</td><td>-420</td><td>0</td><td>4</td><td>22</td><td>7</td><td>7120</td><td>238</td><td>7</td><td>3</td><td>0</td><td>2.75394</td><td>3.045714</td><td>0.1059</td><td>0.902995</td><td>0.866816</td><td>303</td></tr><tr><td>&quot;U3&quot;</td><td>758</td><td>2018-10-31</td><td>2018-10-31</td><td>498</td><td>0</td><td>1</td><td>7</td><td>2018-10-31 15:30:00</td><td>2018-10-31 16:47:00</td><td>77</td><td>-300</td><td>0</td><td>3</td><td>8</td><td>1</td><td>3162</td><td>203</td><td>5</td><td>0</td><td>0</td><td>2.733146</td><td>2.697229</td><td>-0.0131</td><td>0.808286</td><td>0.653224</td><td>303</td></tr><tr><td>&quot;U1&quot;</td><td>4771</td><td>2018-10-31</td><td>2018-10-31</td><td>395</td><td>0</td><td>1</td><td>4</td><td>2018-10-31 09:10:00</td><td>2018-10-31 10:30:00</td><td>80</td><td>-420</td><td>0</td><td>2</td><td>32</td><td>9</td><td>7704</td><td>197</td><td>3</td><td>4</td><td>0</td><td>2.637849</td><td>2.596597</td><td>-0.0156</td><td>0.801045</td><td>0.753122</td><td>303</td></tr><tr><td>&quot;L3&quot;</td><td>11296</td><td>2018-10-31</td><td>2018-10-31</td><td>2492</td><td>0</td><td>1</td><td>6</td><td>2018-10-31 11:00:00</td><td>2018-10-31 12:18:00</td><td>78</td><td>-420</td><td>0</td><td>2</td><td>32</td><td>8</td><td>7704</td><td>224</td><td>4</td><td>3</td><td>0</td><td>2.729752</td><td>3.396548</td><td>0.2443</td><td>0.927804</td><td>1.092157</td><td>303</td></tr><tr><td>&quot;L2&quot;</td><td>5041</td><td>2018-10-31</td><td>2018-10-31</td><td>781</td><td>0</td><td>1</td><td>6</td><td>2018-10-31 12:35:00</td><td>2018-10-31 13:50:00</td><td>75</td><td>-420</td><td>0</td><td>3</td><td>32</td><td>10</td><td>7704</td><td>218</td><td>4</td><td>3</td><td>0</td><td>2.661205</td><td>2.892651</td><td>0.087</td><td>0.927804</td><td>0.731396</td><td>303</td></tr><tr><td>&quot;L1&quot;</td><td>1763</td><td>2018-10-31</td><td>2018-10-31</td><td>3277</td><td>0</td><td>1</td><td>10</td><td>2018-10-31 19:47:00</td><td>2018-10-31 22:39:00</td><td>172</td><td>-300</td><td>0</td><td>4</td><td>3</td><td>1</td><td>1941</td><td>326</td><td>6</td><td>5</td><td>0</td><td>3.002688</td><td>3.515476</td><td>0.1708</td><td>0.882456</td><td>0.867847</td><td>303</td></tr><tr><td>&quot;L3&quot;</td><td>3845</td><td>2018-10-31</td><td>2018-10-31</td><td>671</td><td>0</td><td>1</td><td>4</td><td>2018-10-31 11:11:00</td><td>2018-10-31 12:31:00</td><td>80</td><td>-420</td><td>0</td><td>2</td><td>32</td><td>9</td><td>7704</td><td>225</td><td>3</td><td>4</td><td>0</td><td>2.754933</td><td>2.826723</td><td>0.0261</td><td>0.801045</td><td>0.884803</td><td>303</td></tr><tr><td>&quot;L1&quot;</td><td>5559</td><td>2018-10-31</td><td>2018-10-31</td><td>2021</td><td>0</td><td>1</td><td>3</td><td>2018-10-31 10:15:00</td><td>2018-10-31 15:06:00</td><td>291</td><td>-420</td><td>0</td><td>2</td><td>8</td><td>1</td><td>2816</td><td>402</td><td>3</td><td>2</td><td>0</td><td>2.969416</td><td>3.305566</td><td>0.1132</td><td>0.950646</td><td>0.94203</td><td>303</td></tr><tr><td>&quot;U1&quot;</td><td>4790</td><td>2018-10-31</td><td>2018-10-31</td><td>395</td><td>0</td><td>1</td><td>4</td><td>2018-10-31 14:25:00</td><td>2018-10-31 15:47:00</td><td>82</td><td>-420</td><td>0</td><td>3</td><td>32</td><td>9</td><td>7704</td><td>197</td><td>3</td><td>4</td><td>0</td><td>2.637849</td><td>2.596597</td><td>-0.0156</td><td>0.801045</td><td>0.753122</td><td>303</td></tr><tr><td>&quot;U1&quot;</td><td>3832</td><td>2018-10-31</td><td>2018-10-31</td><td>517</td><td>0</td><td>1</td><td>6</td><td>2018-10-31 07:00:00</td><td>2018-10-31 08:16:00</td><td>76</td><td>-420</td><td>0</td><td>1</td><td>32</td><td>3</td><td>7704</td><td>199</td><td>4</td><td>3</td><td>0</td><td>2.617467</td><td>2.713491</td><td>0.0367</td><td>0.927804</td><td>0.816841</td><td>303</td></tr></tbody></table></div>"
      ],
      "text/plain": [
       "shape: (1_430_585, 27)\n",
       "┌─────────┬─────────┬────────────┬────────────┬───┬────────────┬───────────┬───────────┬───────────┐\n",
       "│ carrier ┆ flt_num ┆ flt_depart ┆ observatio ┆ … ┆ scaled_far ┆ 7d_route_ ┆ 7d_route_ ┆ days_sinc │\n",
       "│ ---     ┆ ---     ┆ ure_dt     ┆ n_date     ┆   ┆ e          ┆ avg       ┆ carrier_a ┆ e_start   │\n",
       "│ str     ┆ i64     ┆ ---        ┆ ---        ┆   ┆ ---        ┆ ---       ┆ vg        ┆ ---       │\n",
       "│         ┆         ┆ date       ┆ date       ┆   ┆ f64        ┆ f64       ┆ ---       ┆ i64       │\n",
       "│         ┆         ┆            ┆            ┆   ┆            ┆           ┆ f64       ┆           │\n",
       "╞═════════╪═════════╪════════════╪════════════╪═══╪════════════╪═══════════╪═══════════╪═══════════╡\n",
       "│ U1      ┆ 6143    ┆ 2018-01-01 ┆ 2017-11-27 ┆ … ┆ -0.0301    ┆ 1.0       ┆ 1.0       ┆ 0         │\n",
       "│ L1      ┆ 5927    ┆ 2018-01-01 ┆ 2017-11-27 ┆ … ┆ 0.0197     ┆ 1.0       ┆ 1.0       ┆ 0         │\n",
       "│ L3      ┆ 18075   ┆ 2018-01-01 ┆ 2017-11-27 ┆ … ┆ -0.0383    ┆ 1.0       ┆ 1.0       ┆ 0         │\n",
       "│ OTH     ┆ 2416    ┆ 2018-01-01 ┆ 2017-11-27 ┆ … ┆ 0.1183     ┆ 1.0       ┆ 1.0       ┆ 0         │\n",
       "│ L3      ┆ 18270   ┆ 2018-01-01 ┆ 2017-11-27 ┆ … ┆ 0.1301     ┆ 1.0       ┆ 1.0       ┆ 0         │\n",
       "│ L1      ┆ 1396    ┆ 2018-01-01 ┆ 2017-11-27 ┆ … ┆ -0.0703    ┆ 1.0       ┆ 1.0       ┆ 0         │\n",
       "│ U1      ┆ 4771    ┆ 2018-01-01 ┆ 2017-11-27 ┆ … ┆ 0.0274     ┆ 1.0       ┆ 1.0       ┆ 0         │\n",
       "│ OTH     ┆ 4825    ┆ 2018-01-01 ┆ 2017-11-27 ┆ … ┆ 0.022      ┆ 1.0       ┆ 1.0       ┆ 0         │\n",
       "│ OTH     ┆ 6175    ┆ 2018-01-01 ┆ 2017-11-27 ┆ … ┆ -0.0722    ┆ 1.0       ┆ 1.0       ┆ 0         │\n",
       "│ U1      ┆ 6187    ┆ 2018-01-01 ┆ 2017-11-27 ┆ … ┆ -0.0803    ┆ 1.0       ┆ 1.0       ┆ 0         │\n",
       "│ …       ┆ …       ┆ …          ┆ …          ┆ … ┆ …          ┆ …         ┆ …         ┆ …         │\n",
       "│ U1      ┆ 6187    ┆ 2018-10-31 ┆ 2018-10-31 ┆ … ┆ 0.1059     ┆ 0.902995  ┆ 0.866816  ┆ 303       │\n",
       "│ U3      ┆ 758     ┆ 2018-10-31 ┆ 2018-10-31 ┆ … ┆ -0.0131    ┆ 0.808286  ┆ 0.653224  ┆ 303       │\n",
       "│ U1      ┆ 4771    ┆ 2018-10-31 ┆ 2018-10-31 ┆ … ┆ -0.0156    ┆ 0.801045  ┆ 0.753122  ┆ 303       │\n",
       "│ L3      ┆ 11296   ┆ 2018-10-31 ┆ 2018-10-31 ┆ … ┆ 0.2443     ┆ 0.927804  ┆ 1.092157  ┆ 303       │\n",
       "│ L2      ┆ 5041    ┆ 2018-10-31 ┆ 2018-10-31 ┆ … ┆ 0.087      ┆ 0.927804  ┆ 0.731396  ┆ 303       │\n",
       "│ L1      ┆ 1763    ┆ 2018-10-31 ┆ 2018-10-31 ┆ … ┆ 0.1708     ┆ 0.882456  ┆ 0.867847  ┆ 303       │\n",
       "│ L3      ┆ 3845    ┆ 2018-10-31 ┆ 2018-10-31 ┆ … ┆ 0.0261     ┆ 0.801045  ┆ 0.884803  ┆ 303       │\n",
       "│ L1      ┆ 5559    ┆ 2018-10-31 ┆ 2018-10-31 ┆ … ┆ 0.1132     ┆ 0.950646  ┆ 0.94203   ┆ 303       │\n",
       "│ U1      ┆ 4790    ┆ 2018-10-31 ┆ 2018-10-31 ┆ … ┆ -0.0156    ┆ 0.801045  ┆ 0.753122  ┆ 303       │\n",
       "│ U1      ┆ 3832    ┆ 2018-10-31 ┆ 2018-10-31 ┆ … ┆ 0.0367     ┆ 0.927804  ┆ 0.816841  ┆ 303       │\n",
       "└─────────┴─────────┴────────────┴────────────┴───┴────────────┴───────────┴───────────┴───────────┘"
      ]
     },
     "execution_count": 23,
     "metadata": {},
     "output_type": "execute_result"
    }
   ],
   "source": [
    "train_df = train_df.with_columns(\n",
    "    (\n",
    "        pl.col('flt_departure_dt') - train_df['flt_departure_dt'].min()\n",
    "    ).dt.total_days().alias(\"days_since_start\")\n",
    ")\n",
    "\n",
    "train_df"
   ]
  },
  {
   "cell_type": "code",
   "execution_count": 24,
   "metadata": {},
   "outputs": [
    {
     "data": {
      "text/html": [
       "<div><style>\n",
       ".dataframe > thead > tr,\n",
       ".dataframe > tbody > tr {\n",
       "  text-align: right;\n",
       "  white-space: pre-wrap;\n",
       "}\n",
       "</style>\n",
       "<small>shape: (268_233, 27)</small><table border=\"1\" class=\"dataframe\"><thead><tr><th>carrier</th><th>flt_num</th><th>flt_departure_dt</th><th>observation_date</th><th>total_fare</th><th>days_till_flight</th><th>is_dst</th><th>route_id</th><th>flt_departure_local_time</th><th>flt_arrival_local_time</th><th>dur_min</th><th>tz_min</th><th>over_mn</th><th>dpt_4h_od</th><th>flt_count_dpt_24h</th><th>flt_count_dpt_4h</th><th>scaled_demand</th><th>scaled_share</th><th>origin_id</th><th>destination_id</th><th>flt_info_null</th><th>base_fare</th><th>log_fare</th><th>scaled_fare</th><th>7d_route_avg</th><th>7d_route_carrier_avg</th><th>days_since_start</th></tr><tr><td>str</td><td>i64</td><td>date</td><td>date</td><td>i64</td><td>i16</td><td>i8</td><td>u8</td><td>datetime[ns]</td><td>datetime[ns]</td><td>i16</td><td>i16</td><td>i8</td><td>i8</td><td>u8</td><td>u8</td><td>i64</td><td>i64</td><td>u8</td><td>u8</td><td>u8</td><td>f64</td><td>f64</td><td>f64</td><td>f64</td><td>f64</td><td>i64</td></tr></thead><tbody><tr><td>&quot;U1&quot;</td><td>6184</td><td>2018-11-01</td><td>2018-02-14</td><td>397</td><td>260</td><td>1</td><td>5</td><td>2018-11-01 20:20:00</td><td>2018-11-01 22:02:00</td><td>102</td><td>-420</td><td>0</td><td>5</td><td>23</td><td>2</td><td>6396</td><td>250</td><td>3</td><td>7</td><td>0</td><td>2.794668</td><td>2.598791</td><td>-0.0701</td><td>0.916033</td><td>0.966251</td><td>304</td></tr><tr><td>&quot;L1&quot;</td><td>2444</td><td>2018-11-01</td><td>2018-02-14</td><td>369</td><td>260</td><td>1</td><td>5</td><td>null</td><td>null</td><td>null</td><td>null</td><td>null</td><td>null</td><td>null</td><td>null</td><td>6396</td><td>292</td><td>3</td><td>7</td><td>1</td><td>2.795584</td><td>2.567026</td><td>-0.0818</td><td>0.916033</td><td>0.868502</td><td>304</td></tr><tr><td>&quot;U1&quot;</td><td>6134</td><td>2018-11-01</td><td>2018-02-14</td><td>425</td><td>260</td><td>1</td><td>5</td><td>2018-11-01 10:50:00</td><td>2018-11-01 12:33:00</td><td>103</td><td>-420</td><td>0</td><td>2</td><td>23</td><td>5</td><td>6396</td><td>250</td><td>3</td><td>7</td><td>0</td><td>2.794668</td><td>2.628389</td><td>-0.0595</td><td>0.916033</td><td>0.966251</td><td>304</td></tr><tr><td>&quot;L1&quot;</td><td>1575</td><td>2018-11-01</td><td>2018-02-14</td><td>416</td><td>260</td><td>1</td><td>5</td><td>2018-11-01 11:10:00</td><td>2018-11-01 12:46:00</td><td>96</td><td>-420</td><td>0</td><td>2</td><td>23</td><td>5</td><td>6396</td><td>292</td><td>3</td><td>7</td><td>0</td><td>2.795584</td><td>2.619093</td><td>-0.0631</td><td>0.916033</td><td>0.868502</td><td>304</td></tr><tr><td>&quot;L1&quot;</td><td>5811</td><td>2018-11-01</td><td>2018-02-14</td><td>564</td><td>260</td><td>1</td><td>5</td><td>2018-11-01 15:15:00</td><td>2018-11-01 16:49:00</td><td>94</td><td>-420</td><td>0</td><td>3</td><td>23</td><td>6</td><td>6396</td><td>292</td><td>3</td><td>7</td><td>0</td><td>2.795584</td><td>2.751279</td><td>-0.0158</td><td>0.916033</td><td>0.868502</td><td>304</td></tr><tr><td>&quot;L1&quot;</td><td>18973</td><td>2018-11-01</td><td>2018-02-14</td><td>717</td><td>260</td><td>1</td><td>5</td><td>null</td><td>null</td><td>null</td><td>null</td><td>null</td><td>null</td><td>null</td><td>null</td><td>6396</td><td>292</td><td>3</td><td>7</td><td>1</td><td>2.795584</td><td>2.855519</td><td>0.0214</td><td>0.916033</td><td>0.868502</td><td>304</td></tr><tr><td>&quot;L1&quot;</td><td>5675</td><td>2018-11-01</td><td>2018-02-14</td><td>466</td><td>260</td><td>1</td><td>5</td><td>2018-11-01 13:17:00</td><td>2018-11-01 14:53:00</td><td>96</td><td>-420</td><td>0</td><td>3</td><td>23</td><td>6</td><td>6396</td><td>292</td><td>3</td><td>7</td><td>0</td><td>2.795584</td><td>2.668386</td><td>-0.0455</td><td>0.916033</td><td>0.868502</td><td>304</td></tr><tr><td>&quot;U1&quot;</td><td>6153</td><td>2018-11-01</td><td>2018-02-14</td><td>466</td><td>260</td><td>1</td><td>5</td><td>2018-11-01 17:20:00</td><td>2018-11-01 19:02:00</td><td>102</td><td>-420</td><td>0</td><td>4</td><td>23</td><td>7</td><td>6396</td><td>250</td><td>3</td><td>7</td><td>0</td><td>2.794668</td><td>2.668386</td><td>-0.0452</td><td>0.916033</td><td>0.966251</td><td>304</td></tr><tr><td>&quot;U1&quot;</td><td>6178</td><td>2018-11-01</td><td>2018-02-14</td><td>425</td><td>260</td><td>1</td><td>5</td><td>2018-11-01 18:30:00</td><td>2018-11-01 20:12:00</td><td>102</td><td>-420</td><td>0</td><td>4</td><td>23</td><td>7</td><td>6396</td><td>250</td><td>3</td><td>7</td><td>0</td><td>2.794668</td><td>2.628389</td><td>-0.0595</td><td>0.916033</td><td>0.966251</td><td>304</td></tr><tr><td>&quot;U1&quot;</td><td>6146</td><td>2018-11-01</td><td>2018-02-14</td><td>388</td><td>260</td><td>1</td><td>5</td><td>null</td><td>null</td><td>null</td><td>null</td><td>null</td><td>null</td><td>null</td><td>null</td><td>6396</td><td>250</td><td>3</td><td>7</td><td>1</td><td>2.794668</td><td>2.588832</td><td>-0.0737</td><td>0.916033</td><td>0.966251</td><td>304</td></tr><tr><td>&hellip;</td><td>&hellip;</td><td>&hellip;</td><td>&hellip;</td><td>&hellip;</td><td>&hellip;</td><td>&hellip;</td><td>&hellip;</td><td>&hellip;</td><td>&hellip;</td><td>&hellip;</td><td>&hellip;</td><td>&hellip;</td><td>&hellip;</td><td>&hellip;</td><td>&hellip;</td><td>&hellip;</td><td>&hellip;</td><td>&hellip;</td><td>&hellip;</td><td>&hellip;</td><td>&hellip;</td><td>&hellip;</td><td>&hellip;</td><td>&hellip;</td><td>&hellip;</td><td>&hellip;</td></tr><tr><td>&quot;L1&quot;</td><td>7431</td><td>2018-12-31</td><td>2018-12-31</td><td>1346</td><td>0</td><td>0</td><td>1</td><td>2018-12-31 07:00:00</td><td>2018-12-31 10:11:00</td><td>191</td><td>-300</td><td>0</td><td>1</td><td>4</td><td>1</td><td>2164</td><td>373</td><td>1</td><td>5</td><td>0</td><td>2.989814</td><td>3.129045</td><td>0.0466</td><td>1.18903</td><td>1.18903</td><td>364</td></tr><tr><td>&quot;L1&quot;</td><td>981</td><td>2018-12-31</td><td>2018-12-31</td><td>3142</td><td>0</td><td>0</td><td>10</td><td>2018-12-31 18:49:00</td><td>2018-12-31 21:43:00</td><td>174</td><td>-360</td><td>0</td><td>4</td><td>6</td><td>1</td><td>1618</td><td>317</td><td>6</td><td>5</td><td>0</td><td>3.002688</td><td>3.497206</td><td>0.1647</td><td>0.765755</td><td>0.750565</td><td>364</td></tr><tr><td>&quot;L1&quot;</td><td>1283</td><td>2018-12-31</td><td>2018-12-31</td><td>1111</td><td>0</td><td>0</td><td>11</td><td>2018-12-31 10:50:00</td><td>2018-12-31 12:20:00</td><td>90</td><td>-480</td><td>0</td><td>2</td><td>21</td><td>5</td><td>5817</td><td>288</td><td>7</td><td>3</td><td>0</td><td>2.764942</td><td>3.045714</td><td>0.1015</td><td>1.39652</td><td>1.437817</td><td>364</td></tr><tr><td>&quot;L1&quot;</td><td>7588</td><td>2018-12-31</td><td>2018-12-31</td><td>1111</td><td>0</td><td>0</td><td>11</td><td>2018-12-31 22:52:00</td><td>2019-01-01 00:26:00</td><td>94</td><td>-480</td><td>1</td><td>5</td><td>21</td><td>3</td><td>5817</td><td>288</td><td>7</td><td>3</td><td>0</td><td>2.764942</td><td>3.045714</td><td>0.1015</td><td>1.39652</td><td>1.437817</td><td>364</td></tr><tr><td>&quot;L1&quot;</td><td>5135</td><td>2018-12-31</td><td>2018-12-31</td><td>1924</td><td>0</td><td>0</td><td>7</td><td>2018-12-31 07:25:00</td><td>2018-12-31 08:42:00</td><td>77</td><td>-360</td><td>0</td><td>1</td><td>8</td><td>3</td><td>3070</td><td>272</td><td>5</td><td>0</td><td>0</td><td>2.860323</td><td>3.284205</td><td>0.1482</td><td>0.955206</td><td>0.941661</td><td>364</td></tr><tr><td>&quot;L1&quot;</td><td>3120</td><td>2018-12-31</td><td>2018-12-31</td><td>1111</td><td>0</td><td>0</td><td>11</td><td>2018-12-31 16:28:00</td><td>2018-12-31 17:58:00</td><td>90</td><td>-480</td><td>0</td><td>4</td><td>21</td><td>7</td><td>5817</td><td>288</td><td>7</td><td>3</td><td>0</td><td>2.764942</td><td>3.045714</td><td>0.1015</td><td>1.39652</td><td>1.437817</td><td>364</td></tr><tr><td>&quot;U1&quot;</td><td>2388</td><td>2018-12-31</td><td>2018-12-31</td><td>1111</td><td>0</td><td>0</td><td>11</td><td>2018-12-31 09:25:00</td><td>2018-12-31 10:52:00</td><td>87</td><td>-480</td><td>0</td><td>2</td><td>21</td><td>5</td><td>5817</td><td>253</td><td>7</td><td>3</td><td>0</td><td>2.75394</td><td>3.045714</td><td>0.1059</td><td>1.39652</td><td>1.361866</td><td>364</td></tr><tr><td>&quot;L1&quot;</td><td>6294</td><td>2018-12-31</td><td>2018-12-31</td><td>2037</td><td>0</td><td>0</td><td>3</td><td>2018-12-31 13:43:00</td><td>2018-12-31 18:45:00</td><td>302</td><td>-480</td><td>0</td><td>3</td><td>7</td><td>2</td><td>2790</td><td>405</td><td>3</td><td>2</td><td>0</td><td>2.969416</td><td>3.308991</td><td>0.1144</td><td>0.742479</td><td>0.679592</td><td>364</td></tr><tr><td>&quot;U1&quot;</td><td>6178</td><td>2018-12-31</td><td>2018-12-31</td><td>1111</td><td>0</td><td>0</td><td>5</td><td>2018-12-31 19:05:00</td><td>2018-12-31 20:44:00</td><td>99</td><td>-480</td><td>0</td><td>4</td><td>21</td><td>7</td><td>5817</td><td>252</td><td>3</td><td>7</td><td>0</td><td>2.794668</td><td>3.045714</td><td>0.0898</td><td>0.761084</td><td>0.800342</td><td>364</td></tr><tr><td>&quot;L1&quot;</td><td>10926</td><td>2018-12-31</td><td>2018-12-31</td><td>3142</td><td>0</td><td>0</td><td>10</td><td>2018-12-31 15:50:00</td><td>2018-12-31 18:49:00</td><td>179</td><td>-360</td><td>0</td><td>3</td><td>6</td><td>3</td><td>1618</td><td>317</td><td>6</td><td>5</td><td>0</td><td>3.002688</td><td>3.497206</td><td>0.1647</td><td>0.765755</td><td>0.750565</td><td>364</td></tr></tbody></table></div>"
      ],
      "text/plain": [
       "shape: (268_233, 27)\n",
       "┌─────────┬─────────┬────────────┬────────────┬───┬────────────┬───────────┬───────────┬───────────┐\n",
       "│ carrier ┆ flt_num ┆ flt_depart ┆ observatio ┆ … ┆ scaled_far ┆ 7d_route_ ┆ 7d_route_ ┆ days_sinc │\n",
       "│ ---     ┆ ---     ┆ ure_dt     ┆ n_date     ┆   ┆ e          ┆ avg       ┆ carrier_a ┆ e_start   │\n",
       "│ str     ┆ i64     ┆ ---        ┆ ---        ┆   ┆ ---        ┆ ---       ┆ vg        ┆ ---       │\n",
       "│         ┆         ┆ date       ┆ date       ┆   ┆ f64        ┆ f64       ┆ ---       ┆ i64       │\n",
       "│         ┆         ┆            ┆            ┆   ┆            ┆           ┆ f64       ┆           │\n",
       "╞═════════╪═════════╪════════════╪════════════╪═══╪════════════╪═══════════╪═══════════╪═══════════╡\n",
       "│ U1      ┆ 6184    ┆ 2018-11-01 ┆ 2018-02-14 ┆ … ┆ -0.0701    ┆ 0.916033  ┆ 0.966251  ┆ 304       │\n",
       "│ L1      ┆ 2444    ┆ 2018-11-01 ┆ 2018-02-14 ┆ … ┆ -0.0818    ┆ 0.916033  ┆ 0.868502  ┆ 304       │\n",
       "│ U1      ┆ 6134    ┆ 2018-11-01 ┆ 2018-02-14 ┆ … ┆ -0.0595    ┆ 0.916033  ┆ 0.966251  ┆ 304       │\n",
       "│ L1      ┆ 1575    ┆ 2018-11-01 ┆ 2018-02-14 ┆ … ┆ -0.0631    ┆ 0.916033  ┆ 0.868502  ┆ 304       │\n",
       "│ L1      ┆ 5811    ┆ 2018-11-01 ┆ 2018-02-14 ┆ … ┆ -0.0158    ┆ 0.916033  ┆ 0.868502  ┆ 304       │\n",
       "│ L1      ┆ 18973   ┆ 2018-11-01 ┆ 2018-02-14 ┆ … ┆ 0.0214     ┆ 0.916033  ┆ 0.868502  ┆ 304       │\n",
       "│ L1      ┆ 5675    ┆ 2018-11-01 ┆ 2018-02-14 ┆ … ┆ -0.0455    ┆ 0.916033  ┆ 0.868502  ┆ 304       │\n",
       "│ U1      ┆ 6153    ┆ 2018-11-01 ┆ 2018-02-14 ┆ … ┆ -0.0452    ┆ 0.916033  ┆ 0.966251  ┆ 304       │\n",
       "│ U1      ┆ 6178    ┆ 2018-11-01 ┆ 2018-02-14 ┆ … ┆ -0.0595    ┆ 0.916033  ┆ 0.966251  ┆ 304       │\n",
       "│ U1      ┆ 6146    ┆ 2018-11-01 ┆ 2018-02-14 ┆ … ┆ -0.0737    ┆ 0.916033  ┆ 0.966251  ┆ 304       │\n",
       "│ …       ┆ …       ┆ …          ┆ …          ┆ … ┆ …          ┆ …         ┆ …         ┆ …         │\n",
       "│ L1      ┆ 7431    ┆ 2018-12-31 ┆ 2018-12-31 ┆ … ┆ 0.0466     ┆ 1.18903   ┆ 1.18903   ┆ 364       │\n",
       "│ L1      ┆ 981     ┆ 2018-12-31 ┆ 2018-12-31 ┆ … ┆ 0.1647     ┆ 0.765755  ┆ 0.750565  ┆ 364       │\n",
       "│ L1      ┆ 1283    ┆ 2018-12-31 ┆ 2018-12-31 ┆ … ┆ 0.1015     ┆ 1.39652   ┆ 1.437817  ┆ 364       │\n",
       "│ L1      ┆ 7588    ┆ 2018-12-31 ┆ 2018-12-31 ┆ … ┆ 0.1015     ┆ 1.39652   ┆ 1.437817  ┆ 364       │\n",
       "│ L1      ┆ 5135    ┆ 2018-12-31 ┆ 2018-12-31 ┆ … ┆ 0.1482     ┆ 0.955206  ┆ 0.941661  ┆ 364       │\n",
       "│ L1      ┆ 3120    ┆ 2018-12-31 ┆ 2018-12-31 ┆ … ┆ 0.1015     ┆ 1.39652   ┆ 1.437817  ┆ 364       │\n",
       "│ U1      ┆ 2388    ┆ 2018-12-31 ┆ 2018-12-31 ┆ … ┆ 0.1059     ┆ 1.39652   ┆ 1.361866  ┆ 364       │\n",
       "│ L1      ┆ 6294    ┆ 2018-12-31 ┆ 2018-12-31 ┆ … ┆ 0.1144     ┆ 0.742479  ┆ 0.679592  ┆ 364       │\n",
       "│ U1      ┆ 6178    ┆ 2018-12-31 ┆ 2018-12-31 ┆ … ┆ 0.0898     ┆ 0.761084  ┆ 0.800342  ┆ 364       │\n",
       "│ L1      ┆ 10926   ┆ 2018-12-31 ┆ 2018-12-31 ┆ … ┆ 0.1647     ┆ 0.765755  ┆ 0.750565  ┆ 364       │\n",
       "└─────────┴─────────┴────────────┴────────────┴───┴────────────┴───────────┴───────────┴───────────┘"
      ]
     },
     "execution_count": 24,
     "metadata": {},
     "output_type": "execute_result"
    }
   ],
   "source": [
    "val_df = val_df.with_columns(\n",
    "    (\n",
    "        pl.col('flt_departure_dt') - train_df['flt_departure_dt'].min()\n",
    "    ).dt.total_days().alias(\"days_since_start\")\n",
    ")\n",
    "\n",
    "val_df"
   ]
  },
  {
   "cell_type": "markdown",
   "metadata": {},
   "source": [
    "#### Flight date features"
   ]
  },
  {
   "cell_type": "code",
   "execution_count": 25,
   "metadata": {},
   "outputs": [
    {
     "data": {
      "text/html": [
       "<div><style>\n",
       ".dataframe > thead > tr,\n",
       ".dataframe > tbody > tr {\n",
       "  text-align: right;\n",
       "  white-space: pre-wrap;\n",
       "}\n",
       "</style>\n",
       "<small>shape: (1_430_585, 31)</small><table border=\"1\" class=\"dataframe\"><thead><tr><th>carrier</th><th>flt_num</th><th>flt_departure_dt</th><th>observation_date</th><th>total_fare</th><th>days_till_flight</th><th>is_dst</th><th>route_id</th><th>flt_departure_local_time</th><th>flt_arrival_local_time</th><th>dur_min</th><th>tz_min</th><th>over_mn</th><th>dpt_4h_od</th><th>flt_count_dpt_24h</th><th>flt_count_dpt_4h</th><th>scaled_demand</th><th>scaled_share</th><th>origin_id</th><th>destination_id</th><th>flt_info_null</th><th>base_fare</th><th>log_fare</th><th>scaled_fare</th><th>7d_route_avg</th><th>7d_route_carrier_avg</th><th>days_since_start</th><th>flt_departure_month</th><th>flt_departure_day</th><th>flt_departure_week</th><th>flt_departure_weekday</th></tr><tr><td>str</td><td>i64</td><td>date</td><td>date</td><td>i64</td><td>i16</td><td>i8</td><td>u8</td><td>datetime[ns]</td><td>datetime[ns]</td><td>i16</td><td>i16</td><td>i8</td><td>i8</td><td>u8</td><td>u8</td><td>i64</td><td>i64</td><td>u8</td><td>u8</td><td>u8</td><td>f64</td><td>f64</td><td>f64</td><td>f64</td><td>f64</td><td>i64</td><td>i8</td><td>i8</td><td>i8</td><td>i8</td></tr></thead><tbody><tr><td>&quot;U1&quot;</td><td>6143</td><td>2018-01-01</td><td>2017-11-27</td><td>469</td><td>35</td><td>0</td><td>11</td><td>null</td><td>null</td><td>null</td><td>null</td><td>null</td><td>null</td><td>null</td><td>null</td><td>null</td><td>null</td><td>7</td><td>3</td><td>1</td><td>2.75394</td><td>2.671173</td><td>-0.0301</td><td>1.0</td><td>1.0</td><td>0</td><td>1</td><td>1</td><td>1</td><td>1</td></tr><tr><td>&quot;L1&quot;</td><td>5927</td><td>2018-01-01</td><td>2017-11-27</td><td>1119</td><td>35</td><td>0</td><td>1</td><td>2018-01-01 20:33:00</td><td>2018-01-01 23:50:00</td><td>197</td><td>-300</td><td>0</td><td>5</td><td>5</td><td>1</td><td>1468</td><td>360</td><td>1</td><td>5</td><td>0</td><td>2.989814</td><td>3.04883</td><td>0.0197</td><td>1.0</td><td>1.0</td><td>0</td><td>1</td><td>1</td><td>1</td><td>1</td></tr><tr><td>&quot;L3&quot;</td><td>18075</td><td>2018-01-01</td><td>2017-11-27</td><td>422</td><td>35</td><td>0</td><td>6</td><td>2018-01-01 13:20:00</td><td>2018-01-01 14:35:00</td><td>75</td><td>-480</td><td>0</td><td>3</td><td>30</td><td>9</td><td>6659</td><td>228</td><td>4</td><td>3</td><td>0</td><td>2.729752</td><td>2.625312</td><td>-0.0383</td><td>1.0</td><td>1.0</td><td>0</td><td>1</td><td>1</td><td>1</td><td>1</td></tr><tr><td>&quot;OTH&quot;</td><td>2416</td><td>2018-01-01</td><td>2017-11-27</td><td>787</td><td>35</td><td>0</td><td>4</td><td>2018-01-01 20:22:00</td><td>2018-01-01 21:46:00</td><td>84</td><td>-480</td><td>0</td><td>5</td><td>30</td><td>4</td><td>6659</td><td>316</td><td>3</td><td>4</td><td>0</td><td>2.589536</td><td>2.895975</td><td>0.1183</td><td>1.0</td><td>1.0</td><td>0</td><td>1</td><td>1</td><td>1</td><td>1</td></tr><tr><td>&quot;L3&quot;</td><td>18270</td><td>2018-01-01</td><td>2017-11-27</td><td>1298</td><td>35</td><td>0</td><td>4</td><td>2018-01-01 11:17:00</td><td>2018-01-01 12:40:00</td><td>83</td><td>-480</td><td>0</td><td>2</td><td>30</td><td>5</td><td>6659</td><td>231</td><td>3</td><td>4</td><td>0</td><td>2.754933</td><td>3.113275</td><td>0.1301</td><td>1.0</td><td>1.0</td><td>0</td><td>1</td><td>1</td><td>1</td><td>1</td></tr><tr><td>&quot;L1&quot;</td><td>1396</td><td>2018-01-01</td><td>2017-11-27</td><td>372</td><td>35</td><td>0</td><td>11</td><td>2018-01-01 19:35:00</td><td>2018-01-01 21:08:00</td><td>93</td><td>-480</td><td>0</td><td>4</td><td>21</td><td>7</td><td>6579</td><td>262</td><td>7</td><td>3</td><td>0</td><td>2.764942</td><td>2.570543</td><td>-0.0703</td><td>1.0</td><td>1.0</td><td>0</td><td>1</td><td>1</td><td>1</td><td>1</td></tr><tr><td>&quot;U1&quot;</td><td>4771</td><td>2018-01-01</td><td>2017-11-27</td><td>513</td><td>35</td><td>0</td><td>4</td><td>null</td><td>null</td><td>null</td><td>null</td><td>null</td><td>null</td><td>null</td><td>null</td><td>null</td><td>null</td><td>3</td><td>4</td><td>1</td><td>2.637849</td><td>2.710117</td><td>0.0274</td><td>1.0</td><td>1.0</td><td>0</td><td>1</td><td>1</td><td>1</td><td>1</td></tr><tr><td>&quot;OTH&quot;</td><td>4825</td><td>2018-01-01</td><td>2017-11-27</td><td>432</td><td>35</td><td>0</td><td>6</td><td>2018-01-01 12:55:00</td><td>2018-01-01 14:07:00</td><td>72</td><td>-480</td><td>0</td><td>3</td><td>30</td><td>9</td><td>6659</td><td>316</td><td>4</td><td>3</td><td>0</td><td>2.578759</td><td>2.635484</td><td>0.022</td><td>1.0</td><td>1.0</td><td>0</td><td>1</td><td>1</td><td>1</td><td>1</td></tr><tr><td>&quot;OTH&quot;</td><td>6175</td><td>2018-01-01</td><td>2017-11-27</td><td>341</td><td>35</td><td>0</td><td>11</td><td>2018-01-01 18:55:00</td><td>2018-01-01 20:23:00</td><td>88</td><td>-480</td><td>0</td><td>4</td><td>21</td><td>7</td><td>6579</td><td>354</td><td>7</td><td>3</td><td>0</td><td>2.72979</td><td>2.532754</td><td>-0.0722</td><td>1.0</td><td>1.0</td><td>0</td><td>1</td><td>1</td><td>1</td><td>1</td></tr><tr><td>&quot;U1&quot;</td><td>6187</td><td>2018-01-01</td><td>2017-11-27</td><td>341</td><td>35</td><td>0</td><td>11</td><td>null</td><td>null</td><td>null</td><td>null</td><td>null</td><td>null</td><td>null</td><td>null</td><td>null</td><td>null</td><td>7</td><td>3</td><td>1</td><td>2.75394</td><td>2.532754</td><td>-0.0803</td><td>1.0</td><td>1.0</td><td>0</td><td>1</td><td>1</td><td>1</td><td>1</td></tr><tr><td>&hellip;</td><td>&hellip;</td><td>&hellip;</td><td>&hellip;</td><td>&hellip;</td><td>&hellip;</td><td>&hellip;</td><td>&hellip;</td><td>&hellip;</td><td>&hellip;</td><td>&hellip;</td><td>&hellip;</td><td>&hellip;</td><td>&hellip;</td><td>&hellip;</td><td>&hellip;</td><td>&hellip;</td><td>&hellip;</td><td>&hellip;</td><td>&hellip;</td><td>&hellip;</td><td>&hellip;</td><td>&hellip;</td><td>&hellip;</td><td>&hellip;</td><td>&hellip;</td><td>&hellip;</td><td>&hellip;</td><td>&hellip;</td><td>&hellip;</td><td>&hellip;</td></tr><tr><td>&quot;U1&quot;</td><td>6187</td><td>2018-10-31</td><td>2018-10-31</td><td>1111</td><td>0</td><td>1</td><td>11</td><td>2018-10-31 19:55:00</td><td>2018-10-31 21:31:00</td><td>96</td><td>-420</td><td>0</td><td>4</td><td>22</td><td>7</td><td>7120</td><td>238</td><td>7</td><td>3</td><td>0</td><td>2.75394</td><td>3.045714</td><td>0.1059</td><td>0.902995</td><td>0.866816</td><td>303</td><td>10</td><td>31</td><td>44</td><td>3</td></tr><tr><td>&quot;U3&quot;</td><td>758</td><td>2018-10-31</td><td>2018-10-31</td><td>498</td><td>0</td><td>1</td><td>7</td><td>2018-10-31 15:30:00</td><td>2018-10-31 16:47:00</td><td>77</td><td>-300</td><td>0</td><td>3</td><td>8</td><td>1</td><td>3162</td><td>203</td><td>5</td><td>0</td><td>0</td><td>2.733146</td><td>2.697229</td><td>-0.0131</td><td>0.808286</td><td>0.653224</td><td>303</td><td>10</td><td>31</td><td>44</td><td>3</td></tr><tr><td>&quot;U1&quot;</td><td>4771</td><td>2018-10-31</td><td>2018-10-31</td><td>395</td><td>0</td><td>1</td><td>4</td><td>2018-10-31 09:10:00</td><td>2018-10-31 10:30:00</td><td>80</td><td>-420</td><td>0</td><td>2</td><td>32</td><td>9</td><td>7704</td><td>197</td><td>3</td><td>4</td><td>0</td><td>2.637849</td><td>2.596597</td><td>-0.0156</td><td>0.801045</td><td>0.753122</td><td>303</td><td>10</td><td>31</td><td>44</td><td>3</td></tr><tr><td>&quot;L3&quot;</td><td>11296</td><td>2018-10-31</td><td>2018-10-31</td><td>2492</td><td>0</td><td>1</td><td>6</td><td>2018-10-31 11:00:00</td><td>2018-10-31 12:18:00</td><td>78</td><td>-420</td><td>0</td><td>2</td><td>32</td><td>8</td><td>7704</td><td>224</td><td>4</td><td>3</td><td>0</td><td>2.729752</td><td>3.396548</td><td>0.2443</td><td>0.927804</td><td>1.092157</td><td>303</td><td>10</td><td>31</td><td>44</td><td>3</td></tr><tr><td>&quot;L2&quot;</td><td>5041</td><td>2018-10-31</td><td>2018-10-31</td><td>781</td><td>0</td><td>1</td><td>6</td><td>2018-10-31 12:35:00</td><td>2018-10-31 13:50:00</td><td>75</td><td>-420</td><td>0</td><td>3</td><td>32</td><td>10</td><td>7704</td><td>218</td><td>4</td><td>3</td><td>0</td><td>2.661205</td><td>2.892651</td><td>0.087</td><td>0.927804</td><td>0.731396</td><td>303</td><td>10</td><td>31</td><td>44</td><td>3</td></tr><tr><td>&quot;L1&quot;</td><td>1763</td><td>2018-10-31</td><td>2018-10-31</td><td>3277</td><td>0</td><td>1</td><td>10</td><td>2018-10-31 19:47:00</td><td>2018-10-31 22:39:00</td><td>172</td><td>-300</td><td>0</td><td>4</td><td>3</td><td>1</td><td>1941</td><td>326</td><td>6</td><td>5</td><td>0</td><td>3.002688</td><td>3.515476</td><td>0.1708</td><td>0.882456</td><td>0.867847</td><td>303</td><td>10</td><td>31</td><td>44</td><td>3</td></tr><tr><td>&quot;L3&quot;</td><td>3845</td><td>2018-10-31</td><td>2018-10-31</td><td>671</td><td>0</td><td>1</td><td>4</td><td>2018-10-31 11:11:00</td><td>2018-10-31 12:31:00</td><td>80</td><td>-420</td><td>0</td><td>2</td><td>32</td><td>9</td><td>7704</td><td>225</td><td>3</td><td>4</td><td>0</td><td>2.754933</td><td>2.826723</td><td>0.0261</td><td>0.801045</td><td>0.884803</td><td>303</td><td>10</td><td>31</td><td>44</td><td>3</td></tr><tr><td>&quot;L1&quot;</td><td>5559</td><td>2018-10-31</td><td>2018-10-31</td><td>2021</td><td>0</td><td>1</td><td>3</td><td>2018-10-31 10:15:00</td><td>2018-10-31 15:06:00</td><td>291</td><td>-420</td><td>0</td><td>2</td><td>8</td><td>1</td><td>2816</td><td>402</td><td>3</td><td>2</td><td>0</td><td>2.969416</td><td>3.305566</td><td>0.1132</td><td>0.950646</td><td>0.94203</td><td>303</td><td>10</td><td>31</td><td>44</td><td>3</td></tr><tr><td>&quot;U1&quot;</td><td>4790</td><td>2018-10-31</td><td>2018-10-31</td><td>395</td><td>0</td><td>1</td><td>4</td><td>2018-10-31 14:25:00</td><td>2018-10-31 15:47:00</td><td>82</td><td>-420</td><td>0</td><td>3</td><td>32</td><td>9</td><td>7704</td><td>197</td><td>3</td><td>4</td><td>0</td><td>2.637849</td><td>2.596597</td><td>-0.0156</td><td>0.801045</td><td>0.753122</td><td>303</td><td>10</td><td>31</td><td>44</td><td>3</td></tr><tr><td>&quot;U1&quot;</td><td>3832</td><td>2018-10-31</td><td>2018-10-31</td><td>517</td><td>0</td><td>1</td><td>6</td><td>2018-10-31 07:00:00</td><td>2018-10-31 08:16:00</td><td>76</td><td>-420</td><td>0</td><td>1</td><td>32</td><td>3</td><td>7704</td><td>199</td><td>4</td><td>3</td><td>0</td><td>2.617467</td><td>2.713491</td><td>0.0367</td><td>0.927804</td><td>0.816841</td><td>303</td><td>10</td><td>31</td><td>44</td><td>3</td></tr></tbody></table></div>"
      ],
      "text/plain": [
       "shape: (1_430_585, 31)\n",
       "┌─────────┬─────────┬────────────┬────────────┬───┬────────────┬───────────┬───────────┬───────────┐\n",
       "│ carrier ┆ flt_num ┆ flt_depart ┆ observatio ┆ … ┆ flt_depart ┆ flt_depar ┆ flt_depar ┆ flt_depar │\n",
       "│ ---     ┆ ---     ┆ ure_dt     ┆ n_date     ┆   ┆ ure_month  ┆ ture_day  ┆ ture_week ┆ ture_week │\n",
       "│ str     ┆ i64     ┆ ---        ┆ ---        ┆   ┆ ---        ┆ ---       ┆ ---       ┆ day       │\n",
       "│         ┆         ┆ date       ┆ date       ┆   ┆ i8         ┆ i8        ┆ i8        ┆ ---       │\n",
       "│         ┆         ┆            ┆            ┆   ┆            ┆           ┆           ┆ i8        │\n",
       "╞═════════╪═════════╪════════════╪════════════╪═══╪════════════╪═══════════╪═══════════╪═══════════╡\n",
       "│ U1      ┆ 6143    ┆ 2018-01-01 ┆ 2017-11-27 ┆ … ┆ 1          ┆ 1         ┆ 1         ┆ 1         │\n",
       "│ L1      ┆ 5927    ┆ 2018-01-01 ┆ 2017-11-27 ┆ … ┆ 1          ┆ 1         ┆ 1         ┆ 1         │\n",
       "│ L3      ┆ 18075   ┆ 2018-01-01 ┆ 2017-11-27 ┆ … ┆ 1          ┆ 1         ┆ 1         ┆ 1         │\n",
       "│ OTH     ┆ 2416    ┆ 2018-01-01 ┆ 2017-11-27 ┆ … ┆ 1          ┆ 1         ┆ 1         ┆ 1         │\n",
       "│ L3      ┆ 18270   ┆ 2018-01-01 ┆ 2017-11-27 ┆ … ┆ 1          ┆ 1         ┆ 1         ┆ 1         │\n",
       "│ L1      ┆ 1396    ┆ 2018-01-01 ┆ 2017-11-27 ┆ … ┆ 1          ┆ 1         ┆ 1         ┆ 1         │\n",
       "│ U1      ┆ 4771    ┆ 2018-01-01 ┆ 2017-11-27 ┆ … ┆ 1          ┆ 1         ┆ 1         ┆ 1         │\n",
       "│ OTH     ┆ 4825    ┆ 2018-01-01 ┆ 2017-11-27 ┆ … ┆ 1          ┆ 1         ┆ 1         ┆ 1         │\n",
       "│ OTH     ┆ 6175    ┆ 2018-01-01 ┆ 2017-11-27 ┆ … ┆ 1          ┆ 1         ┆ 1         ┆ 1         │\n",
       "│ U1      ┆ 6187    ┆ 2018-01-01 ┆ 2017-11-27 ┆ … ┆ 1          ┆ 1         ┆ 1         ┆ 1         │\n",
       "│ …       ┆ …       ┆ …          ┆ …          ┆ … ┆ …          ┆ …         ┆ …         ┆ …         │\n",
       "│ U1      ┆ 6187    ┆ 2018-10-31 ┆ 2018-10-31 ┆ … ┆ 10         ┆ 31        ┆ 44        ┆ 3         │\n",
       "│ U3      ┆ 758     ┆ 2018-10-31 ┆ 2018-10-31 ┆ … ┆ 10         ┆ 31        ┆ 44        ┆ 3         │\n",
       "│ U1      ┆ 4771    ┆ 2018-10-31 ┆ 2018-10-31 ┆ … ┆ 10         ┆ 31        ┆ 44        ┆ 3         │\n",
       "│ L3      ┆ 11296   ┆ 2018-10-31 ┆ 2018-10-31 ┆ … ┆ 10         ┆ 31        ┆ 44        ┆ 3         │\n",
       "│ L2      ┆ 5041    ┆ 2018-10-31 ┆ 2018-10-31 ┆ … ┆ 10         ┆ 31        ┆ 44        ┆ 3         │\n",
       "│ L1      ┆ 1763    ┆ 2018-10-31 ┆ 2018-10-31 ┆ … ┆ 10         ┆ 31        ┆ 44        ┆ 3         │\n",
       "│ L3      ┆ 3845    ┆ 2018-10-31 ┆ 2018-10-31 ┆ … ┆ 10         ┆ 31        ┆ 44        ┆ 3         │\n",
       "│ L1      ┆ 5559    ┆ 2018-10-31 ┆ 2018-10-31 ┆ … ┆ 10         ┆ 31        ┆ 44        ┆ 3         │\n",
       "│ U1      ┆ 4790    ┆ 2018-10-31 ┆ 2018-10-31 ┆ … ┆ 10         ┆ 31        ┆ 44        ┆ 3         │\n",
       "│ U1      ┆ 3832    ┆ 2018-10-31 ┆ 2018-10-31 ┆ … ┆ 10         ┆ 31        ┆ 44        ┆ 3         │\n",
       "└─────────┴─────────┴────────────┴────────────┴───┴────────────┴───────────┴───────────┴───────────┘"
      ]
     },
     "execution_count": 25,
     "metadata": {},
     "output_type": "execute_result"
    }
   ],
   "source": [
    "train_df = train_df.with_columns(\n",
    "    pl.col('flt_departure_dt').dt.month().alias('flt_departure_month'),\n",
    "    pl.col('flt_departure_dt').dt.day().alias('flt_departure_day'),\n",
    "    pl.col('flt_departure_dt').dt.week().alias('flt_departure_week'),    \n",
    "    pl.col('flt_departure_dt').dt.weekday().alias('flt_departure_weekday')  \n",
    ")\n",
    "train_df"
   ]
  },
  {
   "cell_type": "code",
   "execution_count": 26,
   "metadata": {},
   "outputs": [
    {
     "data": {
      "text/html": [
       "<div><style>\n",
       ".dataframe > thead > tr,\n",
       ".dataframe > tbody > tr {\n",
       "  text-align: right;\n",
       "  white-space: pre-wrap;\n",
       "}\n",
       "</style>\n",
       "<small>shape: (268_233, 31)</small><table border=\"1\" class=\"dataframe\"><thead><tr><th>carrier</th><th>flt_num</th><th>flt_departure_dt</th><th>observation_date</th><th>total_fare</th><th>days_till_flight</th><th>is_dst</th><th>route_id</th><th>flt_departure_local_time</th><th>flt_arrival_local_time</th><th>dur_min</th><th>tz_min</th><th>over_mn</th><th>dpt_4h_od</th><th>flt_count_dpt_24h</th><th>flt_count_dpt_4h</th><th>scaled_demand</th><th>scaled_share</th><th>origin_id</th><th>destination_id</th><th>flt_info_null</th><th>base_fare</th><th>log_fare</th><th>scaled_fare</th><th>7d_route_avg</th><th>7d_route_carrier_avg</th><th>days_since_start</th><th>flt_departure_month</th><th>flt_departure_day</th><th>flt_departure_week</th><th>flt_departure_weekday</th></tr><tr><td>str</td><td>i64</td><td>date</td><td>date</td><td>i64</td><td>i16</td><td>i8</td><td>u8</td><td>datetime[ns]</td><td>datetime[ns]</td><td>i16</td><td>i16</td><td>i8</td><td>i8</td><td>u8</td><td>u8</td><td>i64</td><td>i64</td><td>u8</td><td>u8</td><td>u8</td><td>f64</td><td>f64</td><td>f64</td><td>f64</td><td>f64</td><td>i64</td><td>i8</td><td>i8</td><td>i8</td><td>i8</td></tr></thead><tbody><tr><td>&quot;U1&quot;</td><td>6184</td><td>2018-11-01</td><td>2018-02-14</td><td>397</td><td>260</td><td>1</td><td>5</td><td>2018-11-01 20:20:00</td><td>2018-11-01 22:02:00</td><td>102</td><td>-420</td><td>0</td><td>5</td><td>23</td><td>2</td><td>6396</td><td>250</td><td>3</td><td>7</td><td>0</td><td>2.794668</td><td>2.598791</td><td>-0.0701</td><td>0.916033</td><td>0.966251</td><td>304</td><td>11</td><td>1</td><td>44</td><td>4</td></tr><tr><td>&quot;L1&quot;</td><td>2444</td><td>2018-11-01</td><td>2018-02-14</td><td>369</td><td>260</td><td>1</td><td>5</td><td>null</td><td>null</td><td>null</td><td>null</td><td>null</td><td>null</td><td>null</td><td>null</td><td>6396</td><td>292</td><td>3</td><td>7</td><td>1</td><td>2.795584</td><td>2.567026</td><td>-0.0818</td><td>0.916033</td><td>0.868502</td><td>304</td><td>11</td><td>1</td><td>44</td><td>4</td></tr><tr><td>&quot;U1&quot;</td><td>6134</td><td>2018-11-01</td><td>2018-02-14</td><td>425</td><td>260</td><td>1</td><td>5</td><td>2018-11-01 10:50:00</td><td>2018-11-01 12:33:00</td><td>103</td><td>-420</td><td>0</td><td>2</td><td>23</td><td>5</td><td>6396</td><td>250</td><td>3</td><td>7</td><td>0</td><td>2.794668</td><td>2.628389</td><td>-0.0595</td><td>0.916033</td><td>0.966251</td><td>304</td><td>11</td><td>1</td><td>44</td><td>4</td></tr><tr><td>&quot;L1&quot;</td><td>1575</td><td>2018-11-01</td><td>2018-02-14</td><td>416</td><td>260</td><td>1</td><td>5</td><td>2018-11-01 11:10:00</td><td>2018-11-01 12:46:00</td><td>96</td><td>-420</td><td>0</td><td>2</td><td>23</td><td>5</td><td>6396</td><td>292</td><td>3</td><td>7</td><td>0</td><td>2.795584</td><td>2.619093</td><td>-0.0631</td><td>0.916033</td><td>0.868502</td><td>304</td><td>11</td><td>1</td><td>44</td><td>4</td></tr><tr><td>&quot;L1&quot;</td><td>5811</td><td>2018-11-01</td><td>2018-02-14</td><td>564</td><td>260</td><td>1</td><td>5</td><td>2018-11-01 15:15:00</td><td>2018-11-01 16:49:00</td><td>94</td><td>-420</td><td>0</td><td>3</td><td>23</td><td>6</td><td>6396</td><td>292</td><td>3</td><td>7</td><td>0</td><td>2.795584</td><td>2.751279</td><td>-0.0158</td><td>0.916033</td><td>0.868502</td><td>304</td><td>11</td><td>1</td><td>44</td><td>4</td></tr><tr><td>&quot;L1&quot;</td><td>18973</td><td>2018-11-01</td><td>2018-02-14</td><td>717</td><td>260</td><td>1</td><td>5</td><td>null</td><td>null</td><td>null</td><td>null</td><td>null</td><td>null</td><td>null</td><td>null</td><td>6396</td><td>292</td><td>3</td><td>7</td><td>1</td><td>2.795584</td><td>2.855519</td><td>0.0214</td><td>0.916033</td><td>0.868502</td><td>304</td><td>11</td><td>1</td><td>44</td><td>4</td></tr><tr><td>&quot;L1&quot;</td><td>5675</td><td>2018-11-01</td><td>2018-02-14</td><td>466</td><td>260</td><td>1</td><td>5</td><td>2018-11-01 13:17:00</td><td>2018-11-01 14:53:00</td><td>96</td><td>-420</td><td>0</td><td>3</td><td>23</td><td>6</td><td>6396</td><td>292</td><td>3</td><td>7</td><td>0</td><td>2.795584</td><td>2.668386</td><td>-0.0455</td><td>0.916033</td><td>0.868502</td><td>304</td><td>11</td><td>1</td><td>44</td><td>4</td></tr><tr><td>&quot;U1&quot;</td><td>6153</td><td>2018-11-01</td><td>2018-02-14</td><td>466</td><td>260</td><td>1</td><td>5</td><td>2018-11-01 17:20:00</td><td>2018-11-01 19:02:00</td><td>102</td><td>-420</td><td>0</td><td>4</td><td>23</td><td>7</td><td>6396</td><td>250</td><td>3</td><td>7</td><td>0</td><td>2.794668</td><td>2.668386</td><td>-0.0452</td><td>0.916033</td><td>0.966251</td><td>304</td><td>11</td><td>1</td><td>44</td><td>4</td></tr><tr><td>&quot;U1&quot;</td><td>6178</td><td>2018-11-01</td><td>2018-02-14</td><td>425</td><td>260</td><td>1</td><td>5</td><td>2018-11-01 18:30:00</td><td>2018-11-01 20:12:00</td><td>102</td><td>-420</td><td>0</td><td>4</td><td>23</td><td>7</td><td>6396</td><td>250</td><td>3</td><td>7</td><td>0</td><td>2.794668</td><td>2.628389</td><td>-0.0595</td><td>0.916033</td><td>0.966251</td><td>304</td><td>11</td><td>1</td><td>44</td><td>4</td></tr><tr><td>&quot;U1&quot;</td><td>6146</td><td>2018-11-01</td><td>2018-02-14</td><td>388</td><td>260</td><td>1</td><td>5</td><td>null</td><td>null</td><td>null</td><td>null</td><td>null</td><td>null</td><td>null</td><td>null</td><td>6396</td><td>250</td><td>3</td><td>7</td><td>1</td><td>2.794668</td><td>2.588832</td><td>-0.0737</td><td>0.916033</td><td>0.966251</td><td>304</td><td>11</td><td>1</td><td>44</td><td>4</td></tr><tr><td>&hellip;</td><td>&hellip;</td><td>&hellip;</td><td>&hellip;</td><td>&hellip;</td><td>&hellip;</td><td>&hellip;</td><td>&hellip;</td><td>&hellip;</td><td>&hellip;</td><td>&hellip;</td><td>&hellip;</td><td>&hellip;</td><td>&hellip;</td><td>&hellip;</td><td>&hellip;</td><td>&hellip;</td><td>&hellip;</td><td>&hellip;</td><td>&hellip;</td><td>&hellip;</td><td>&hellip;</td><td>&hellip;</td><td>&hellip;</td><td>&hellip;</td><td>&hellip;</td><td>&hellip;</td><td>&hellip;</td><td>&hellip;</td><td>&hellip;</td><td>&hellip;</td></tr><tr><td>&quot;L1&quot;</td><td>7431</td><td>2018-12-31</td><td>2018-12-31</td><td>1346</td><td>0</td><td>0</td><td>1</td><td>2018-12-31 07:00:00</td><td>2018-12-31 10:11:00</td><td>191</td><td>-300</td><td>0</td><td>1</td><td>4</td><td>1</td><td>2164</td><td>373</td><td>1</td><td>5</td><td>0</td><td>2.989814</td><td>3.129045</td><td>0.0466</td><td>1.18903</td><td>1.18903</td><td>364</td><td>12</td><td>31</td><td>1</td><td>1</td></tr><tr><td>&quot;L1&quot;</td><td>981</td><td>2018-12-31</td><td>2018-12-31</td><td>3142</td><td>0</td><td>0</td><td>10</td><td>2018-12-31 18:49:00</td><td>2018-12-31 21:43:00</td><td>174</td><td>-360</td><td>0</td><td>4</td><td>6</td><td>1</td><td>1618</td><td>317</td><td>6</td><td>5</td><td>0</td><td>3.002688</td><td>3.497206</td><td>0.1647</td><td>0.765755</td><td>0.750565</td><td>364</td><td>12</td><td>31</td><td>1</td><td>1</td></tr><tr><td>&quot;L1&quot;</td><td>1283</td><td>2018-12-31</td><td>2018-12-31</td><td>1111</td><td>0</td><td>0</td><td>11</td><td>2018-12-31 10:50:00</td><td>2018-12-31 12:20:00</td><td>90</td><td>-480</td><td>0</td><td>2</td><td>21</td><td>5</td><td>5817</td><td>288</td><td>7</td><td>3</td><td>0</td><td>2.764942</td><td>3.045714</td><td>0.1015</td><td>1.39652</td><td>1.437817</td><td>364</td><td>12</td><td>31</td><td>1</td><td>1</td></tr><tr><td>&quot;L1&quot;</td><td>7588</td><td>2018-12-31</td><td>2018-12-31</td><td>1111</td><td>0</td><td>0</td><td>11</td><td>2018-12-31 22:52:00</td><td>2019-01-01 00:26:00</td><td>94</td><td>-480</td><td>1</td><td>5</td><td>21</td><td>3</td><td>5817</td><td>288</td><td>7</td><td>3</td><td>0</td><td>2.764942</td><td>3.045714</td><td>0.1015</td><td>1.39652</td><td>1.437817</td><td>364</td><td>12</td><td>31</td><td>1</td><td>1</td></tr><tr><td>&quot;L1&quot;</td><td>5135</td><td>2018-12-31</td><td>2018-12-31</td><td>1924</td><td>0</td><td>0</td><td>7</td><td>2018-12-31 07:25:00</td><td>2018-12-31 08:42:00</td><td>77</td><td>-360</td><td>0</td><td>1</td><td>8</td><td>3</td><td>3070</td><td>272</td><td>5</td><td>0</td><td>0</td><td>2.860323</td><td>3.284205</td><td>0.1482</td><td>0.955206</td><td>0.941661</td><td>364</td><td>12</td><td>31</td><td>1</td><td>1</td></tr><tr><td>&quot;L1&quot;</td><td>3120</td><td>2018-12-31</td><td>2018-12-31</td><td>1111</td><td>0</td><td>0</td><td>11</td><td>2018-12-31 16:28:00</td><td>2018-12-31 17:58:00</td><td>90</td><td>-480</td><td>0</td><td>4</td><td>21</td><td>7</td><td>5817</td><td>288</td><td>7</td><td>3</td><td>0</td><td>2.764942</td><td>3.045714</td><td>0.1015</td><td>1.39652</td><td>1.437817</td><td>364</td><td>12</td><td>31</td><td>1</td><td>1</td></tr><tr><td>&quot;U1&quot;</td><td>2388</td><td>2018-12-31</td><td>2018-12-31</td><td>1111</td><td>0</td><td>0</td><td>11</td><td>2018-12-31 09:25:00</td><td>2018-12-31 10:52:00</td><td>87</td><td>-480</td><td>0</td><td>2</td><td>21</td><td>5</td><td>5817</td><td>253</td><td>7</td><td>3</td><td>0</td><td>2.75394</td><td>3.045714</td><td>0.1059</td><td>1.39652</td><td>1.361866</td><td>364</td><td>12</td><td>31</td><td>1</td><td>1</td></tr><tr><td>&quot;L1&quot;</td><td>6294</td><td>2018-12-31</td><td>2018-12-31</td><td>2037</td><td>0</td><td>0</td><td>3</td><td>2018-12-31 13:43:00</td><td>2018-12-31 18:45:00</td><td>302</td><td>-480</td><td>0</td><td>3</td><td>7</td><td>2</td><td>2790</td><td>405</td><td>3</td><td>2</td><td>0</td><td>2.969416</td><td>3.308991</td><td>0.1144</td><td>0.742479</td><td>0.679592</td><td>364</td><td>12</td><td>31</td><td>1</td><td>1</td></tr><tr><td>&quot;U1&quot;</td><td>6178</td><td>2018-12-31</td><td>2018-12-31</td><td>1111</td><td>0</td><td>0</td><td>5</td><td>2018-12-31 19:05:00</td><td>2018-12-31 20:44:00</td><td>99</td><td>-480</td><td>0</td><td>4</td><td>21</td><td>7</td><td>5817</td><td>252</td><td>3</td><td>7</td><td>0</td><td>2.794668</td><td>3.045714</td><td>0.0898</td><td>0.761084</td><td>0.800342</td><td>364</td><td>12</td><td>31</td><td>1</td><td>1</td></tr><tr><td>&quot;L1&quot;</td><td>10926</td><td>2018-12-31</td><td>2018-12-31</td><td>3142</td><td>0</td><td>0</td><td>10</td><td>2018-12-31 15:50:00</td><td>2018-12-31 18:49:00</td><td>179</td><td>-360</td><td>0</td><td>3</td><td>6</td><td>3</td><td>1618</td><td>317</td><td>6</td><td>5</td><td>0</td><td>3.002688</td><td>3.497206</td><td>0.1647</td><td>0.765755</td><td>0.750565</td><td>364</td><td>12</td><td>31</td><td>1</td><td>1</td></tr></tbody></table></div>"
      ],
      "text/plain": [
       "shape: (268_233, 31)\n",
       "┌─────────┬─────────┬────────────┬────────────┬───┬────────────┬───────────┬───────────┬───────────┐\n",
       "│ carrier ┆ flt_num ┆ flt_depart ┆ observatio ┆ … ┆ flt_depart ┆ flt_depar ┆ flt_depar ┆ flt_depar │\n",
       "│ ---     ┆ ---     ┆ ure_dt     ┆ n_date     ┆   ┆ ure_month  ┆ ture_day  ┆ ture_week ┆ ture_week │\n",
       "│ str     ┆ i64     ┆ ---        ┆ ---        ┆   ┆ ---        ┆ ---       ┆ ---       ┆ day       │\n",
       "│         ┆         ┆ date       ┆ date       ┆   ┆ i8         ┆ i8        ┆ i8        ┆ ---       │\n",
       "│         ┆         ┆            ┆            ┆   ┆            ┆           ┆           ┆ i8        │\n",
       "╞═════════╪═════════╪════════════╪════════════╪═══╪════════════╪═══════════╪═══════════╪═══════════╡\n",
       "│ U1      ┆ 6184    ┆ 2018-11-01 ┆ 2018-02-14 ┆ … ┆ 11         ┆ 1         ┆ 44        ┆ 4         │\n",
       "│ L1      ┆ 2444    ┆ 2018-11-01 ┆ 2018-02-14 ┆ … ┆ 11         ┆ 1         ┆ 44        ┆ 4         │\n",
       "│ U1      ┆ 6134    ┆ 2018-11-01 ┆ 2018-02-14 ┆ … ┆ 11         ┆ 1         ┆ 44        ┆ 4         │\n",
       "│ L1      ┆ 1575    ┆ 2018-11-01 ┆ 2018-02-14 ┆ … ┆ 11         ┆ 1         ┆ 44        ┆ 4         │\n",
       "│ L1      ┆ 5811    ┆ 2018-11-01 ┆ 2018-02-14 ┆ … ┆ 11         ┆ 1         ┆ 44        ┆ 4         │\n",
       "│ L1      ┆ 18973   ┆ 2018-11-01 ┆ 2018-02-14 ┆ … ┆ 11         ┆ 1         ┆ 44        ┆ 4         │\n",
       "│ L1      ┆ 5675    ┆ 2018-11-01 ┆ 2018-02-14 ┆ … ┆ 11         ┆ 1         ┆ 44        ┆ 4         │\n",
       "│ U1      ┆ 6153    ┆ 2018-11-01 ┆ 2018-02-14 ┆ … ┆ 11         ┆ 1         ┆ 44        ┆ 4         │\n",
       "│ U1      ┆ 6178    ┆ 2018-11-01 ┆ 2018-02-14 ┆ … ┆ 11         ┆ 1         ┆ 44        ┆ 4         │\n",
       "│ U1      ┆ 6146    ┆ 2018-11-01 ┆ 2018-02-14 ┆ … ┆ 11         ┆ 1         ┆ 44        ┆ 4         │\n",
       "│ …       ┆ …       ┆ …          ┆ …          ┆ … ┆ …          ┆ …         ┆ …         ┆ …         │\n",
       "│ L1      ┆ 7431    ┆ 2018-12-31 ┆ 2018-12-31 ┆ … ┆ 12         ┆ 31        ┆ 1         ┆ 1         │\n",
       "│ L1      ┆ 981     ┆ 2018-12-31 ┆ 2018-12-31 ┆ … ┆ 12         ┆ 31        ┆ 1         ┆ 1         │\n",
       "│ L1      ┆ 1283    ┆ 2018-12-31 ┆ 2018-12-31 ┆ … ┆ 12         ┆ 31        ┆ 1         ┆ 1         │\n",
       "│ L1      ┆ 7588    ┆ 2018-12-31 ┆ 2018-12-31 ┆ … ┆ 12         ┆ 31        ┆ 1         ┆ 1         │\n",
       "│ L1      ┆ 5135    ┆ 2018-12-31 ┆ 2018-12-31 ┆ … ┆ 12         ┆ 31        ┆ 1         ┆ 1         │\n",
       "│ L1      ┆ 3120    ┆ 2018-12-31 ┆ 2018-12-31 ┆ … ┆ 12         ┆ 31        ┆ 1         ┆ 1         │\n",
       "│ U1      ┆ 2388    ┆ 2018-12-31 ┆ 2018-12-31 ┆ … ┆ 12         ┆ 31        ┆ 1         ┆ 1         │\n",
       "│ L1      ┆ 6294    ┆ 2018-12-31 ┆ 2018-12-31 ┆ … ┆ 12         ┆ 31        ┆ 1         ┆ 1         │\n",
       "│ U1      ┆ 6178    ┆ 2018-12-31 ┆ 2018-12-31 ┆ … ┆ 12         ┆ 31        ┆ 1         ┆ 1         │\n",
       "│ L1      ┆ 10926   ┆ 2018-12-31 ┆ 2018-12-31 ┆ … ┆ 12         ┆ 31        ┆ 1         ┆ 1         │\n",
       "└─────────┴─────────┴────────────┴────────────┴───┴────────────┴───────────┴───────────┴───────────┘"
      ]
     },
     "execution_count": 26,
     "metadata": {},
     "output_type": "execute_result"
    }
   ],
   "source": [
    "val_df = val_df.with_columns(\n",
    "    pl.col('flt_departure_dt').dt.month().alias('flt_departure_month'),\n",
    "    pl.col('flt_departure_dt').dt.day().alias('flt_departure_day'),\n",
    "    pl.col('flt_departure_dt').dt.week().alias('flt_departure_week'),    \n",
    "    pl.col('flt_departure_dt').dt.weekday().alias('flt_departure_weekday')  \n",
    ")\n",
    "val_df"
   ]
  },
  {
   "cell_type": "markdown",
   "metadata": {},
   "source": [
    "### Imputation"
   ]
  },
  {
   "cell_type": "markdown",
   "metadata": {},
   "source": [
    "#### Null counts"
   ]
  },
  {
   "cell_type": "code",
   "execution_count": 27,
   "metadata": {},
   "outputs": [
    {
     "data": {
      "text/html": [
       "<div><style>\n",
       ".dataframe > thead > tr,\n",
       ".dataframe > tbody > tr {\n",
       "  text-align: right;\n",
       "  white-space: pre-wrap;\n",
       "}\n",
       "</style>\n",
       "<small>shape: (1, 31)</small><table border=\"1\" class=\"dataframe\"><thead><tr><th>carrier</th><th>flt_num</th><th>flt_departure_dt</th><th>observation_date</th><th>total_fare</th><th>days_till_flight</th><th>is_dst</th><th>route_id</th><th>flt_departure_local_time</th><th>flt_arrival_local_time</th><th>dur_min</th><th>tz_min</th><th>over_mn</th><th>dpt_4h_od</th><th>flt_count_dpt_24h</th><th>flt_count_dpt_4h</th><th>scaled_demand</th><th>scaled_share</th><th>origin_id</th><th>destination_id</th><th>flt_info_null</th><th>base_fare</th><th>log_fare</th><th>scaled_fare</th><th>7d_route_avg</th><th>7d_route_carrier_avg</th><th>days_since_start</th><th>flt_departure_month</th><th>flt_departure_day</th><th>flt_departure_week</th><th>flt_departure_weekday</th></tr><tr><td>u32</td><td>u32</td><td>u32</td><td>u32</td><td>u32</td><td>u32</td><td>u32</td><td>u32</td><td>u32</td><td>u32</td><td>u32</td><td>u32</td><td>u32</td><td>u32</td><td>u32</td><td>u32</td><td>u32</td><td>u32</td><td>u32</td><td>u32</td><td>u32</td><td>u32</td><td>u32</td><td>u32</td><td>u32</td><td>u32</td><td>u32</td><td>u32</td><td>u32</td><td>u32</td><td>u32</td></tr></thead><tbody><tr><td>0</td><td>0</td><td>0</td><td>0</td><td>0</td><td>0</td><td>0</td><td>0</td><td>96299</td><td>96299</td><td>96299</td><td>96299</td><td>96299</td><td>96299</td><td>96299</td><td>96299</td><td>100313</td><td>100313</td><td>0</td><td>0</td><td>0</td><td>0</td><td>0</td><td>0</td><td>0</td><td>0</td><td>0</td><td>0</td><td>0</td><td>0</td><td>0</td></tr></tbody></table></div>"
      ],
      "text/plain": [
       "shape: (1, 31)\n",
       "┌─────────┬─────────┬────────────┬────────────┬───┬────────────┬───────────┬───────────┬───────────┐\n",
       "│ carrier ┆ flt_num ┆ flt_depart ┆ observatio ┆ … ┆ flt_depart ┆ flt_depar ┆ flt_depar ┆ flt_depar │\n",
       "│ ---     ┆ ---     ┆ ure_dt     ┆ n_date     ┆   ┆ ure_month  ┆ ture_day  ┆ ture_week ┆ ture_week │\n",
       "│ u32     ┆ u32     ┆ ---        ┆ ---        ┆   ┆ ---        ┆ ---       ┆ ---       ┆ day       │\n",
       "│         ┆         ┆ u32        ┆ u32        ┆   ┆ u32        ┆ u32       ┆ u32       ┆ ---       │\n",
       "│         ┆         ┆            ┆            ┆   ┆            ┆           ┆           ┆ u32       │\n",
       "╞═════════╪═════════╪════════════╪════════════╪═══╪════════════╪═══════════╪═══════════╪═══════════╡\n",
       "│ 0       ┆ 0       ┆ 0          ┆ 0          ┆ … ┆ 0          ┆ 0         ┆ 0         ┆ 0         │\n",
       "└─────────┴─────────┴────────────┴────────────┴───┴────────────┴───────────┴───────────┴───────────┘"
      ]
     },
     "execution_count": 27,
     "metadata": {},
     "output_type": "execute_result"
    }
   ],
   "source": [
    "train_df.null_count()"
   ]
  },
  {
   "cell_type": "code",
   "execution_count": 28,
   "metadata": {},
   "outputs": [
    {
     "data": {
      "text/html": [
       "<div><style>\n",
       ".dataframe > thead > tr,\n",
       ".dataframe > tbody > tr {\n",
       "  text-align: right;\n",
       "  white-space: pre-wrap;\n",
       "}\n",
       "</style>\n",
       "<small>shape: (1, 31)</small><table border=\"1\" class=\"dataframe\"><thead><tr><th>carrier</th><th>flt_num</th><th>flt_departure_dt</th><th>observation_date</th><th>total_fare</th><th>days_till_flight</th><th>is_dst</th><th>route_id</th><th>flt_departure_local_time</th><th>flt_arrival_local_time</th><th>dur_min</th><th>tz_min</th><th>over_mn</th><th>dpt_4h_od</th><th>flt_count_dpt_24h</th><th>flt_count_dpt_4h</th><th>scaled_demand</th><th>scaled_share</th><th>origin_id</th><th>destination_id</th><th>flt_info_null</th><th>base_fare</th><th>log_fare</th><th>scaled_fare</th><th>7d_route_avg</th><th>7d_route_carrier_avg</th><th>days_since_start</th><th>flt_departure_month</th><th>flt_departure_day</th><th>flt_departure_week</th><th>flt_departure_weekday</th></tr><tr><td>u32</td><td>u32</td><td>u32</td><td>u32</td><td>u32</td><td>u32</td><td>u32</td><td>u32</td><td>u32</td><td>u32</td><td>u32</td><td>u32</td><td>u32</td><td>u32</td><td>u32</td><td>u32</td><td>u32</td><td>u32</td><td>u32</td><td>u32</td><td>u32</td><td>u32</td><td>u32</td><td>u32</td><td>u32</td><td>u32</td><td>u32</td><td>u32</td><td>u32</td><td>u32</td><td>u32</td></tr></thead><tbody><tr><td>0</td><td>0</td><td>0</td><td>0</td><td>0</td><td>0</td><td>0</td><td>0</td><td>2815</td><td>2815</td><td>2815</td><td>2815</td><td>2815</td><td>2815</td><td>2815</td><td>2815</td><td>0</td><td>0</td><td>0</td><td>0</td><td>0</td><td>0</td><td>0</td><td>0</td><td>0</td><td>0</td><td>0</td><td>0</td><td>0</td><td>0</td><td>0</td></tr></tbody></table></div>"
      ],
      "text/plain": [
       "shape: (1, 31)\n",
       "┌─────────┬─────────┬────────────┬────────────┬───┬────────────┬───────────┬───────────┬───────────┐\n",
       "│ carrier ┆ flt_num ┆ flt_depart ┆ observatio ┆ … ┆ flt_depart ┆ flt_depar ┆ flt_depar ┆ flt_depar │\n",
       "│ ---     ┆ ---     ┆ ure_dt     ┆ n_date     ┆   ┆ ure_month  ┆ ture_day  ┆ ture_week ┆ ture_week │\n",
       "│ u32     ┆ u32     ┆ ---        ┆ ---        ┆   ┆ ---        ┆ ---       ┆ ---       ┆ day       │\n",
       "│         ┆         ┆ u32        ┆ u32        ┆   ┆ u32        ┆ u32       ┆ u32       ┆ ---       │\n",
       "│         ┆         ┆            ┆            ┆   ┆            ┆           ┆           ┆ u32       │\n",
       "╞═════════╪═════════╪════════════╪════════════╪═══╪════════════╪═══════════╪═══════════╪═══════════╡\n",
       "│ 0       ┆ 0       ┆ 0          ┆ 0          ┆ … ┆ 0          ┆ 0         ┆ 0         ┆ 0         │\n",
       "└─────────┴─────────┴────────────┴────────────┴───┴────────────┴───────────┴───────────┴───────────┘"
      ]
     },
     "execution_count": 28,
     "metadata": {},
     "output_type": "execute_result"
    }
   ],
   "source": [
    "val_df.null_count()"
   ]
  },
  {
   "cell_type": "markdown",
   "metadata": {},
   "source": [
    "#### Flight duration"
   ]
  },
  {
   "cell_type": "code",
   "execution_count": 29,
   "metadata": {},
   "outputs": [
    {
     "data": {
      "text/html": [
       "<div><style>\n",
       ".dataframe > thead > tr,\n",
       ".dataframe > tbody > tr {\n",
       "  text-align: right;\n",
       "  white-space: pre-wrap;\n",
       "}\n",
       "</style>\n",
       "<small>shape: (34, 4)</small><table border=\"1\" class=\"dataframe\"><thead><tr><th>route_id</th><th>carrier</th><th>dur_mean</th><th>dur_std</th></tr><tr><td>u8</td><td>str</td><td>f64</td><td>f64</td></tr></thead><tbody><tr><td>0</td><td>&quot;L1&quot;</td><td>191.37</td><td>5.19</td></tr><tr><td>0</td><td>&quot;U3&quot;</td><td>193.94</td><td>3.58</td></tr><tr><td>1</td><td>&quot;L1&quot;</td><td>187.97</td><td>14.84</td></tr><tr><td>2</td><td>&quot;L1&quot;</td><td>77.15</td><td>7.87</td></tr><tr><td>2</td><td>&quot;OTH&quot;</td><td>72.73</td><td>7.93</td></tr><tr><td>2</td><td>&quot;U3&quot;</td><td>94.24</td><td>1.8</td></tr><tr><td>3</td><td>&quot;L1&quot;</td><td>297.2</td><td>3.41</td></tr><tr><td>3</td><td>&quot;OTH&quot;</td><td>297.12</td><td>2.19</td></tr><tr><td>3</td><td>&quot;U3&quot;</td><td>301.47</td><td>1.35</td></tr><tr><td>4</td><td>&quot;L1&quot;</td><td>84.28</td><td>6.39</td></tr><tr><td>&hellip;</td><td>&hellip;</td><td>&hellip;</td><td>&hellip;</td></tr><tr><td>7</td><td>&quot;U3&quot;</td><td>80.92</td><td>2.1</td></tr><tr><td>8</td><td>&quot;L1&quot;</td><td>278.53</td><td>6.13</td></tr><tr><td>9</td><td>&quot;L1&quot;</td><td>160.3</td><td>5.16</td></tr><tr><td>9</td><td>&quot;L2&quot;</td><td>164.59</td><td>4.13</td></tr><tr><td>10</td><td>&quot;L1&quot;</td><td>169.94</td><td>6.89</td></tr><tr><td>10</td><td>&quot;L2&quot;</td><td>160.37</td><td>5.93</td></tr><tr><td>11</td><td>&quot;L1&quot;</td><td>95.68</td><td>2.75</td></tr><tr><td>11</td><td>&quot;OTH&quot;</td><td>90.69</td><td>3.13</td></tr><tr><td>11</td><td>&quot;U1&quot;</td><td>94.73</td><td>2.69</td></tr><tr><td>11</td><td>&quot;U3&quot;</td><td>98.9</td><td>1.74</td></tr></tbody></table></div>"
      ],
      "text/plain": [
       "shape: (34, 4)\n",
       "┌──────────┬─────────┬──────────┬─────────┐\n",
       "│ route_id ┆ carrier ┆ dur_mean ┆ dur_std │\n",
       "│ ---      ┆ ---     ┆ ---      ┆ ---     │\n",
       "│ u8       ┆ str     ┆ f64      ┆ f64     │\n",
       "╞══════════╪═════════╪══════════╪═════════╡\n",
       "│ 0        ┆ L1      ┆ 191.37   ┆ 5.19    │\n",
       "│ 0        ┆ U3      ┆ 193.94   ┆ 3.58    │\n",
       "│ 1        ┆ L1      ┆ 187.97   ┆ 14.84   │\n",
       "│ 2        ┆ L1      ┆ 77.15    ┆ 7.87    │\n",
       "│ 2        ┆ OTH     ┆ 72.73    ┆ 7.93    │\n",
       "│ 2        ┆ U3      ┆ 94.24    ┆ 1.8     │\n",
       "│ 3        ┆ L1      ┆ 297.2    ┆ 3.41    │\n",
       "│ 3        ┆ OTH     ┆ 297.12   ┆ 2.19    │\n",
       "│ 3        ┆ U3      ┆ 301.47   ┆ 1.35    │\n",
       "│ 4        ┆ L1      ┆ 84.28    ┆ 6.39    │\n",
       "│ …        ┆ …       ┆ …        ┆ …       │\n",
       "│ 7        ┆ U3      ┆ 80.92    ┆ 2.1     │\n",
       "│ 8        ┆ L1      ┆ 278.53   ┆ 6.13    │\n",
       "│ 9        ┆ L1      ┆ 160.3    ┆ 5.16    │\n",
       "│ 9        ┆ L2      ┆ 164.59   ┆ 4.13    │\n",
       "│ 10       ┆ L1      ┆ 169.94   ┆ 6.89    │\n",
       "│ 10       ┆ L2      ┆ 160.37   ┆ 5.93    │\n",
       "│ 11       ┆ L1      ┆ 95.68    ┆ 2.75    │\n",
       "│ 11       ┆ OTH     ┆ 90.69    ┆ 3.13    │\n",
       "│ 11       ┆ U1      ┆ 94.73    ┆ 2.69    │\n",
       "│ 11       ┆ U3      ┆ 98.9     ┆ 1.74    │\n",
       "└──────────┴─────────┴──────────┴─────────┘"
      ]
     },
     "execution_count": 29,
     "metadata": {},
     "output_type": "execute_result"
    }
   ],
   "source": [
    "mean_durations = train_df.group_by('route_id', 'carrier').agg(\n",
    "    pl.col('dur_min').mean().round(2).alias(\"dur_mean\"),\n",
    "    pl.col('dur_min').std().round(2).alias(\"dur_std\")\n",
    ").sort('route_id', 'carrier')\n",
    "\n",
    "mean_durations"
   ]
  },
  {
   "cell_type": "code",
   "execution_count": 30,
   "metadata": {},
   "outputs": [
    {
     "data": {
      "text/plain": [
       "0"
      ]
     },
     "execution_count": 30,
     "metadata": {},
     "output_type": "execute_result"
    }
   ],
   "source": [
    "train_df = train_df.join(\n",
    "    mean_durations.drop('dur_std'),\n",
    "    on = ['route_id', 'carrier'],\n",
    "    how = 'left'\n",
    ").with_columns(\n",
    "    pl.coalesce(['dur_min', 'dur_mean'])\n",
    ")\n",
    "\n",
    "train_df['dur_min'].null_count()"
   ]
  },
  {
   "cell_type": "code",
   "execution_count": 31,
   "metadata": {},
   "outputs": [
    {
     "data": {
      "text/plain": [
       "0"
      ]
     },
     "execution_count": 31,
     "metadata": {},
     "output_type": "execute_result"
    }
   ],
   "source": [
    "val_df = val_df.join(\n",
    "    mean_durations.drop('dur_std'),\n",
    "    on = ['route_id', 'carrier'],\n",
    "    how = 'left'\n",
    ").with_columns(\n",
    "    pl.coalesce(['dur_min', 'dur_mean'])\n",
    ")\n",
    "\n",
    "val_df['dur_min'].null_count()"
   ]
  },
  {
   "cell_type": "markdown",
   "metadata": {},
   "source": [
    "### Training datasets"
   ]
  },
  {
   "cell_type": "code",
   "execution_count": 32,
   "metadata": {},
   "outputs": [
    {
     "data": {
      "text/plain": [
       "((1430585, 14), (268233, 14), (1430585,), (268233,))"
      ]
     },
     "execution_count": 32,
     "metadata": {},
     "output_type": "execute_result"
    }
   ],
   "source": [
    "TRAINING_COLS = [\n",
    "    'carrier', 'days_till_flight', 'origin_id', 'destination_id', \n",
    "    'dur_min', 'flt_info_null', 'days_since_start', 'is_dst',\n",
    "    'flt_departure_month', 'flt_departure_day',\n",
    "    'flt_departure_week', 'flt_departure_weekday',\n",
    "    '7d_route_avg', '7d_route_carrier_avg'\n",
    "]\n",
    "\n",
    "X_train = train_df.select(TRAINING_COLS)\n",
    "X_val = val_df.select(TRAINING_COLS)\n",
    "\n",
    "y_train = train_df['scaled_fare']\n",
    "y_val = val_df['scaled_fare']\n",
    "\n",
    "X_train.shape, X_val.shape, y_train.shape, y_val.shape"
   ]
  },
  {
   "cell_type": "code",
   "execution_count": 33,
   "metadata": {},
   "outputs": [
    {
     "data": {
      "text/html": [
       "<div><style>\n",
       ".dataframe > thead > tr,\n",
       ".dataframe > tbody > tr {\n",
       "  text-align: right;\n",
       "  white-space: pre-wrap;\n",
       "}\n",
       "</style>\n",
       "<small>shape: (9, 15)</small><table border=\"1\" class=\"dataframe\"><thead><tr><th>statistic</th><th>carrier</th><th>days_till_flight</th><th>origin_id</th><th>destination_id</th><th>dur_min</th><th>flt_info_null</th><th>days_since_start</th><th>is_dst</th><th>flt_departure_month</th><th>flt_departure_day</th><th>flt_departure_week</th><th>flt_departure_weekday</th><th>7d_route_avg</th><th>7d_route_carrier_avg</th></tr><tr><td>str</td><td>str</td><td>f64</td><td>f64</td><td>f64</td><td>f64</td><td>f64</td><td>f64</td><td>f64</td><td>f64</td><td>f64</td><td>f64</td><td>f64</td><td>f64</td><td>f64</td></tr></thead><tbody><tr><td>&quot;count&quot;</td><td>&quot;1430585&quot;</td><td>1.430585e6</td><td>1.430585e6</td><td>1.430585e6</td><td>1.430585e6</td><td>1.430585e6</td><td>1.430585e6</td><td>1.430585e6</td><td>1.430585e6</td><td>1.430585e6</td><td>1.430585e6</td><td>1.430585e6</td><td>1.430585e6</td><td>1.430585e6</td></tr><tr><td>&quot;null_count&quot;</td><td>&quot;0&quot;</td><td>0.0</td><td>0.0</td><td>0.0</td><td>0.0</td><td>0.0</td><td>0.0</td><td>0.0</td><td>0.0</td><td>0.0</td><td>0.0</td><td>0.0</td><td>0.0</td><td>0.0</td></tr><tr><td>&quot;mean&quot;</td><td>null</td><td>17.24151</td><td>3.959293</td><td>3.83536</td><td>113.737794</td><td>0.067314</td><td>144.668573</td><td>0.817043</td><td>5.307069</td><td>15.690378</td><td>21.240302</td><td>3.986461</td><td>1.009065</td><td>1.010416</td></tr><tr><td>&quot;std&quot;</td><td>null</td><td>12.550131</td><td>1.691466</td><td>1.62231</td><td>60.788012</td><td>0.250566</td><td>82.325781</td><td>0.386631</td><td>2.693844</td><td>8.761799</td><td>11.767583</td><td>2.002056</td><td>0.328626</td><td>0.347131</td></tr><tr><td>&quot;min&quot;</td><td>&quot;L1&quot;</td><td>0.0</td><td>0.0</td><td>0.0</td><td>60.0</td><td>0.0</td><td>0.0</td><td>0.0</td><td>1.0</td><td>1.0</td><td>1.0</td><td>1.0</td><td>0.452494</td><td>0.44239</td></tr><tr><td>&quot;25%&quot;</td><td>null</td><td>8.0</td><td>3.0</td><td>3.0</td><td>79.0</td><td>0.0</td><td>80.0</td><td>1.0</td><td>3.0</td><td>8.0</td><td>12.0</td><td>2.0</td><td>0.803503</td><td>0.796068</td></tr><tr><td>&quot;50%&quot;</td><td>null</td><td>16.0</td><td>4.0</td><td>3.0</td><td>90.0</td><td>0.0</td><td>125.0</td><td>1.0</td><td>5.0</td><td>16.0</td><td>18.0</td><td>4.0</td><td>0.930732</td><td>0.926797</td></tr><tr><td>&quot;75%&quot;</td><td>null</td><td>26.0</td><td>5.0</td><td>5.0</td><td>101.0</td><td>0.0</td><td>216.0</td><td>1.0</td><td>8.0</td><td>23.0</td><td>31.0</td><td>6.0</td><td>1.106613</td><td>1.115278</td></tr><tr><td>&quot;max&quot;</td><td>&quot;U3&quot;</td><td>328.0</td><td>7.0</td><td>7.0</td><td>304.0</td><td>1.0</td><td>303.0</td><td>1.0</td><td>10.0</td><td>31.0</td><td>44.0</td><td>7.0</td><td>4.958378</td><td>4.878813</td></tr></tbody></table></div>"
      ],
      "text/plain": [
       "shape: (9, 15)\n",
       "┌────────────┬─────────┬───────────┬───────────┬───┬───────────┬───────────┬───────────┬───────────┐\n",
       "│ statistic  ┆ carrier ┆ days_till ┆ origin_id ┆ … ┆ flt_depar ┆ flt_depar ┆ 7d_route_ ┆ 7d_route_ │\n",
       "│ ---        ┆ ---     ┆ _flight   ┆ ---       ┆   ┆ ture_week ┆ ture_week ┆ avg       ┆ carrier_a │\n",
       "│ str        ┆ str     ┆ ---       ┆ f64       ┆   ┆ ---       ┆ day       ┆ ---       ┆ vg        │\n",
       "│            ┆         ┆ f64       ┆           ┆   ┆ f64       ┆ ---       ┆ f64       ┆ ---       │\n",
       "│            ┆         ┆           ┆           ┆   ┆           ┆ f64       ┆           ┆ f64       │\n",
       "╞════════════╪═════════╪═══════════╪═══════════╪═══╪═══════════╪═══════════╪═══════════╪═══════════╡\n",
       "│ count      ┆ 1430585 ┆ 1.430585e ┆ 1.430585e ┆ … ┆ 1.430585e ┆ 1.430585e ┆ 1.430585e ┆ 1.430585e │\n",
       "│            ┆         ┆ 6         ┆ 6         ┆   ┆ 6         ┆ 6         ┆ 6         ┆ 6         │\n",
       "│ null_count ┆ 0       ┆ 0.0       ┆ 0.0       ┆ … ┆ 0.0       ┆ 0.0       ┆ 0.0       ┆ 0.0       │\n",
       "│ mean       ┆ null    ┆ 17.24151  ┆ 3.959293  ┆ … ┆ 21.240302 ┆ 3.986461  ┆ 1.009065  ┆ 1.010416  │\n",
       "│ std        ┆ null    ┆ 12.550131 ┆ 1.691466  ┆ … ┆ 11.767583 ┆ 2.002056  ┆ 0.328626  ┆ 0.347131  │\n",
       "│ min        ┆ L1      ┆ 0.0       ┆ 0.0       ┆ … ┆ 1.0       ┆ 1.0       ┆ 0.452494  ┆ 0.44239   │\n",
       "│ 25%        ┆ null    ┆ 8.0       ┆ 3.0       ┆ … ┆ 12.0      ┆ 2.0       ┆ 0.803503  ┆ 0.796068  │\n",
       "│ 50%        ┆ null    ┆ 16.0      ┆ 4.0       ┆ … ┆ 18.0      ┆ 4.0       ┆ 0.930732  ┆ 0.926797  │\n",
       "│ 75%        ┆ null    ┆ 26.0      ┆ 5.0       ┆ … ┆ 31.0      ┆ 6.0       ┆ 1.106613  ┆ 1.115278  │\n",
       "│ max        ┆ U3      ┆ 328.0     ┆ 7.0       ┆ … ┆ 44.0      ┆ 7.0       ┆ 4.958378  ┆ 4.878813  │\n",
       "└────────────┴─────────┴───────────┴───────────┴───┴───────────┴───────────┴───────────┴───────────┘"
      ]
     },
     "execution_count": 33,
     "metadata": {},
     "output_type": "execute_result"
    }
   ],
   "source": [
    "X_train.describe()"
   ]
  },
  {
   "cell_type": "code",
   "execution_count": 34,
   "metadata": {},
   "outputs": [
    {
     "data": {
      "text/html": [
       "<div><style>\n",
       ".dataframe > thead > tr,\n",
       ".dataframe > tbody > tr {\n",
       "  text-align: right;\n",
       "  white-space: pre-wrap;\n",
       "}\n",
       "</style>\n",
       "<small>shape: (9, 15)</small><table border=\"1\" class=\"dataframe\"><thead><tr><th>statistic</th><th>carrier</th><th>days_till_flight</th><th>origin_id</th><th>destination_id</th><th>dur_min</th><th>flt_info_null</th><th>days_since_start</th><th>is_dst</th><th>flt_departure_month</th><th>flt_departure_day</th><th>flt_departure_week</th><th>flt_departure_weekday</th><th>7d_route_avg</th><th>7d_route_carrier_avg</th></tr><tr><td>str</td><td>str</td><td>f64</td><td>f64</td><td>f64</td><td>f64</td><td>f64</td><td>f64</td><td>f64</td><td>f64</td><td>f64</td><td>f64</td><td>f64</td><td>f64</td><td>f64</td></tr></thead><tbody><tr><td>&quot;count&quot;</td><td>&quot;268233&quot;</td><td>268233.0</td><td>268233.0</td><td>268233.0</td><td>268233.0</td><td>268233.0</td><td>268233.0</td><td>268233.0</td><td>268233.0</td><td>268233.0</td><td>268233.0</td><td>268233.0</td><td>268233.0</td><td>268233.0</td></tr><tr><td>&quot;null_count&quot;</td><td>&quot;0&quot;</td><td>0.0</td><td>0.0</td><td>0.0</td><td>0.0</td><td>0.0</td><td>0.0</td><td>0.0</td><td>0.0</td><td>0.0</td><td>0.0</td><td>0.0</td><td>0.0</td><td>0.0</td></tr><tr><td>&quot;mean&quot;</td><td>null</td><td>18.365656</td><td>3.868663</td><td>3.863365</td><td>115.013129</td><td>0.010495</td><td>334.909023</td><td>0.047668</td><td>11.529939</td><td>16.010867</td><td>47.545902</td><td>4.054356</td><td>1.101796</td><td>1.127907</td></tr><tr><td>&quot;std&quot;</td><td>null</td><td>14.917572</td><td>1.683963</td><td>1.677884</td><td>63.412597</td><td>0.101904</td><td>17.844018</td><td>0.213062</td><td>0.499104</td><td>8.78535</td><td>6.537651</td><td>2.018013</td><td>0.392428</td><td>0.920611</td></tr><tr><td>&quot;min&quot;</td><td>&quot;L1&quot;</td><td>0.0</td><td>0.0</td><td>0.0</td><td>61.0</td><td>0.0</td><td>304.0</td><td>0.0</td><td>11.0</td><td>1.0</td><td>1.0</td><td>1.0</td><td>0.562859</td><td>0.562859</td></tr><tr><td>&quot;25%&quot;</td><td>null</td><td>8.0</td><td>3.0</td><td>3.0</td><td>76.0</td><td>0.0</td><td>319.0</td><td>0.0</td><td>11.0</td><td>8.0</td><td>46.0</td><td>2.0</td><td>0.831873</td><td>0.790917</td></tr><tr><td>&quot;50%&quot;</td><td>null</td><td>17.0</td><td>3.0</td><td>3.0</td><td>87.0</td><td>0.0</td><td>335.0</td><td>0.0</td><td>12.0</td><td>16.0</td><td>48.0</td><td>4.0</td><td>0.975949</td><td>0.917094</td></tr><tr><td>&quot;75%&quot;</td><td>null</td><td>27.0</td><td>5.0</td><td>5.0</td><td>108.0</td><td>0.0</td><td>351.0</td><td>0.0</td><td>12.0</td><td>24.0</td><td>51.0</td><td>6.0</td><td>1.250046</td><td>1.185776</td></tr><tr><td>&quot;max&quot;</td><td>&quot;U3&quot;</td><td>325.0</td><td>7.0</td><td>7.0</td><td>302.0</td><td>1.0</td><td>364.0</td><td>1.0</td><td>12.0</td><td>31.0</td><td>52.0</td><td>7.0</td><td>2.790646</td><td>10.219768</td></tr></tbody></table></div>"
      ],
      "text/plain": [
       "shape: (9, 15)\n",
       "┌────────────┬─────────┬───────────┬───────────┬───┬───────────┬───────────┬───────────┬───────────┐\n",
       "│ statistic  ┆ carrier ┆ days_till ┆ origin_id ┆ … ┆ flt_depar ┆ flt_depar ┆ 7d_route_ ┆ 7d_route_ │\n",
       "│ ---        ┆ ---     ┆ _flight   ┆ ---       ┆   ┆ ture_week ┆ ture_week ┆ avg       ┆ carrier_a │\n",
       "│ str        ┆ str     ┆ ---       ┆ f64       ┆   ┆ ---       ┆ day       ┆ ---       ┆ vg        │\n",
       "│            ┆         ┆ f64       ┆           ┆   ┆ f64       ┆ ---       ┆ f64       ┆ ---       │\n",
       "│            ┆         ┆           ┆           ┆   ┆           ┆ f64       ┆           ┆ f64       │\n",
       "╞════════════╪═════════╪═══════════╪═══════════╪═══╪═══════════╪═══════════╪═══════════╪═══════════╡\n",
       "│ count      ┆ 268233  ┆ 268233.0  ┆ 268233.0  ┆ … ┆ 268233.0  ┆ 268233.0  ┆ 268233.0  ┆ 268233.0  │\n",
       "│ null_count ┆ 0       ┆ 0.0       ┆ 0.0       ┆ … ┆ 0.0       ┆ 0.0       ┆ 0.0       ┆ 0.0       │\n",
       "│ mean       ┆ null    ┆ 18.365656 ┆ 3.868663  ┆ … ┆ 47.545902 ┆ 4.054356  ┆ 1.101796  ┆ 1.127907  │\n",
       "│ std        ┆ null    ┆ 14.917572 ┆ 1.683963  ┆ … ┆ 6.537651  ┆ 2.018013  ┆ 0.392428  ┆ 0.920611  │\n",
       "│ min        ┆ L1      ┆ 0.0       ┆ 0.0       ┆ … ┆ 1.0       ┆ 1.0       ┆ 0.562859  ┆ 0.562859  │\n",
       "│ 25%        ┆ null    ┆ 8.0       ┆ 3.0       ┆ … ┆ 46.0      ┆ 2.0       ┆ 0.831873  ┆ 0.790917  │\n",
       "│ 50%        ┆ null    ┆ 17.0      ┆ 3.0       ┆ … ┆ 48.0      ┆ 4.0       ┆ 0.975949  ┆ 0.917094  │\n",
       "│ 75%        ┆ null    ┆ 27.0      ┆ 5.0       ┆ … ┆ 51.0      ┆ 6.0       ┆ 1.250046  ┆ 1.185776  │\n",
       "│ max        ┆ U3      ┆ 325.0     ┆ 7.0       ┆ … ┆ 52.0      ┆ 7.0       ┆ 2.790646  ┆ 10.219768 │\n",
       "└────────────┴─────────┴───────────┴───────────┴───┴───────────┴───────────┴───────────┴───────────┘"
      ]
     },
     "execution_count": 34,
     "metadata": {},
     "output_type": "execute_result"
    }
   ],
   "source": [
    "X_val.describe()"
   ]
  },
  {
   "cell_type": "markdown",
   "metadata": {},
   "source": [
    "## Modelling"
   ]
  },
  {
   "cell_type": "markdown",
   "metadata": {},
   "source": [
    "### Training"
   ]
  },
  {
   "cell_type": "code",
   "execution_count": 35,
   "metadata": {},
   "outputs": [
    {
     "name": "stdout",
     "output_type": "stream",
     "text": [
      "0 : 813.184\n",
      "1 : 832.736\n",
      "2 : 811.229\n",
      "3 : 813.702\n",
      "4 : 810.296\n",
      "Best params:\n",
      "{'gbr__n_estimators': 50, 'gbr__loss': 'squared_error', 'gbr__learning_rate': 0.1}\n"
     ]
    },
    {
     "data": {
      "text/html": [
       "<style>#sk-container-id-1 {\n",
       "  /* Definition of color scheme common for light and dark mode */\n",
       "  --sklearn-color-text: black;\n",
       "  --sklearn-color-line: gray;\n",
       "  /* Definition of color scheme for unfitted estimators */\n",
       "  --sklearn-color-unfitted-level-0: #fff5e6;\n",
       "  --sklearn-color-unfitted-level-1: #f6e4d2;\n",
       "  --sklearn-color-unfitted-level-2: #ffe0b3;\n",
       "  --sklearn-color-unfitted-level-3: chocolate;\n",
       "  /* Definition of color scheme for fitted estimators */\n",
       "  --sklearn-color-fitted-level-0: #f0f8ff;\n",
       "  --sklearn-color-fitted-level-1: #d4ebff;\n",
       "  --sklearn-color-fitted-level-2: #b3dbfd;\n",
       "  --sklearn-color-fitted-level-3: cornflowerblue;\n",
       "\n",
       "  /* Specific color for light theme */\n",
       "  --sklearn-color-text-on-default-background: var(--sg-text-color, var(--theme-code-foreground, var(--jp-content-font-color1, black)));\n",
       "  --sklearn-color-background: var(--sg-background-color, var(--theme-background, var(--jp-layout-color0, white)));\n",
       "  --sklearn-color-border-box: var(--sg-text-color, var(--theme-code-foreground, var(--jp-content-font-color1, black)));\n",
       "  --sklearn-color-icon: #696969;\n",
       "\n",
       "  @media (prefers-color-scheme: dark) {\n",
       "    /* Redefinition of color scheme for dark theme */\n",
       "    --sklearn-color-text-on-default-background: var(--sg-text-color, var(--theme-code-foreground, var(--jp-content-font-color1, white)));\n",
       "    --sklearn-color-background: var(--sg-background-color, var(--theme-background, var(--jp-layout-color0, #111)));\n",
       "    --sklearn-color-border-box: var(--sg-text-color, var(--theme-code-foreground, var(--jp-content-font-color1, white)));\n",
       "    --sklearn-color-icon: #878787;\n",
       "  }\n",
       "}\n",
       "\n",
       "#sk-container-id-1 {\n",
       "  color: var(--sklearn-color-text);\n",
       "}\n",
       "\n",
       "#sk-container-id-1 pre {\n",
       "  padding: 0;\n",
       "}\n",
       "\n",
       "#sk-container-id-1 input.sk-hidden--visually {\n",
       "  border: 0;\n",
       "  clip: rect(1px 1px 1px 1px);\n",
       "  clip: rect(1px, 1px, 1px, 1px);\n",
       "  height: 1px;\n",
       "  margin: -1px;\n",
       "  overflow: hidden;\n",
       "  padding: 0;\n",
       "  position: absolute;\n",
       "  width: 1px;\n",
       "}\n",
       "\n",
       "#sk-container-id-1 div.sk-dashed-wrapped {\n",
       "  border: 1px dashed var(--sklearn-color-line);\n",
       "  margin: 0 0.4em 0.5em 0.4em;\n",
       "  box-sizing: border-box;\n",
       "  padding-bottom: 0.4em;\n",
       "  background-color: var(--sklearn-color-background);\n",
       "}\n",
       "\n",
       "#sk-container-id-1 div.sk-container {\n",
       "  /* jupyter's `normalize.less` sets `[hidden] { display: none; }`\n",
       "     but bootstrap.min.css set `[hidden] { display: none !important; }`\n",
       "     so we also need the `!important` here to be able to override the\n",
       "     default hidden behavior on the sphinx rendered scikit-learn.org.\n",
       "     See: https://github.com/scikit-learn/scikit-learn/issues/21755 */\n",
       "  display: inline-block !important;\n",
       "  position: relative;\n",
       "}\n",
       "\n",
       "#sk-container-id-1 div.sk-text-repr-fallback {\n",
       "  display: none;\n",
       "}\n",
       "\n",
       "div.sk-parallel-item,\n",
       "div.sk-serial,\n",
       "div.sk-item {\n",
       "  /* draw centered vertical line to link estimators */\n",
       "  background-image: linear-gradient(var(--sklearn-color-text-on-default-background), var(--sklearn-color-text-on-default-background));\n",
       "  background-size: 2px 100%;\n",
       "  background-repeat: no-repeat;\n",
       "  background-position: center center;\n",
       "}\n",
       "\n",
       "/* Parallel-specific style estimator block */\n",
       "\n",
       "#sk-container-id-1 div.sk-parallel-item::after {\n",
       "  content: \"\";\n",
       "  width: 100%;\n",
       "  border-bottom: 2px solid var(--sklearn-color-text-on-default-background);\n",
       "  flex-grow: 1;\n",
       "}\n",
       "\n",
       "#sk-container-id-1 div.sk-parallel {\n",
       "  display: flex;\n",
       "  align-items: stretch;\n",
       "  justify-content: center;\n",
       "  background-color: var(--sklearn-color-background);\n",
       "  position: relative;\n",
       "}\n",
       "\n",
       "#sk-container-id-1 div.sk-parallel-item {\n",
       "  display: flex;\n",
       "  flex-direction: column;\n",
       "}\n",
       "\n",
       "#sk-container-id-1 div.sk-parallel-item:first-child::after {\n",
       "  align-self: flex-end;\n",
       "  width: 50%;\n",
       "}\n",
       "\n",
       "#sk-container-id-1 div.sk-parallel-item:last-child::after {\n",
       "  align-self: flex-start;\n",
       "  width: 50%;\n",
       "}\n",
       "\n",
       "#sk-container-id-1 div.sk-parallel-item:only-child::after {\n",
       "  width: 0;\n",
       "}\n",
       "\n",
       "/* Serial-specific style estimator block */\n",
       "\n",
       "#sk-container-id-1 div.sk-serial {\n",
       "  display: flex;\n",
       "  flex-direction: column;\n",
       "  align-items: center;\n",
       "  background-color: var(--sklearn-color-background);\n",
       "  padding-right: 1em;\n",
       "  padding-left: 1em;\n",
       "}\n",
       "\n",
       "\n",
       "/* Toggleable style: style used for estimator/Pipeline/ColumnTransformer box that is\n",
       "clickable and can be expanded/collapsed.\n",
       "- Pipeline and ColumnTransformer use this feature and define the default style\n",
       "- Estimators will overwrite some part of the style using the `sk-estimator` class\n",
       "*/\n",
       "\n",
       "/* Pipeline and ColumnTransformer style (default) */\n",
       "\n",
       "#sk-container-id-1 div.sk-toggleable {\n",
       "  /* Default theme specific background. It is overwritten whether we have a\n",
       "  specific estimator or a Pipeline/ColumnTransformer */\n",
       "  background-color: var(--sklearn-color-background);\n",
       "}\n",
       "\n",
       "/* Toggleable label */\n",
       "#sk-container-id-1 label.sk-toggleable__label {\n",
       "  cursor: pointer;\n",
       "  display: block;\n",
       "  width: 100%;\n",
       "  margin-bottom: 0;\n",
       "  padding: 0.5em;\n",
       "  box-sizing: border-box;\n",
       "  text-align: center;\n",
       "}\n",
       "\n",
       "#sk-container-id-1 label.sk-toggleable__label-arrow:before {\n",
       "  /* Arrow on the left of the label */\n",
       "  content: \"▸\";\n",
       "  float: left;\n",
       "  margin-right: 0.25em;\n",
       "  color: var(--sklearn-color-icon);\n",
       "}\n",
       "\n",
       "#sk-container-id-1 label.sk-toggleable__label-arrow:hover:before {\n",
       "  color: var(--sklearn-color-text);\n",
       "}\n",
       "\n",
       "/* Toggleable content - dropdown */\n",
       "\n",
       "#sk-container-id-1 div.sk-toggleable__content {\n",
       "  max-height: 0;\n",
       "  max-width: 0;\n",
       "  overflow: hidden;\n",
       "  text-align: left;\n",
       "  /* unfitted */\n",
       "  background-color: var(--sklearn-color-unfitted-level-0);\n",
       "}\n",
       "\n",
       "#sk-container-id-1 div.sk-toggleable__content.fitted {\n",
       "  /* fitted */\n",
       "  background-color: var(--sklearn-color-fitted-level-0);\n",
       "}\n",
       "\n",
       "#sk-container-id-1 div.sk-toggleable__content pre {\n",
       "  margin: 0.2em;\n",
       "  border-radius: 0.25em;\n",
       "  color: var(--sklearn-color-text);\n",
       "  /* unfitted */\n",
       "  background-color: var(--sklearn-color-unfitted-level-0);\n",
       "}\n",
       "\n",
       "#sk-container-id-1 div.sk-toggleable__content.fitted pre {\n",
       "  /* unfitted */\n",
       "  background-color: var(--sklearn-color-fitted-level-0);\n",
       "}\n",
       "\n",
       "#sk-container-id-1 input.sk-toggleable__control:checked~div.sk-toggleable__content {\n",
       "  /* Expand drop-down */\n",
       "  max-height: 200px;\n",
       "  max-width: 100%;\n",
       "  overflow: auto;\n",
       "}\n",
       "\n",
       "#sk-container-id-1 input.sk-toggleable__control:checked~label.sk-toggleable__label-arrow:before {\n",
       "  content: \"▾\";\n",
       "}\n",
       "\n",
       "/* Pipeline/ColumnTransformer-specific style */\n",
       "\n",
       "#sk-container-id-1 div.sk-label input.sk-toggleable__control:checked~label.sk-toggleable__label {\n",
       "  color: var(--sklearn-color-text);\n",
       "  background-color: var(--sklearn-color-unfitted-level-2);\n",
       "}\n",
       "\n",
       "#sk-container-id-1 div.sk-label.fitted input.sk-toggleable__control:checked~label.sk-toggleable__label {\n",
       "  background-color: var(--sklearn-color-fitted-level-2);\n",
       "}\n",
       "\n",
       "/* Estimator-specific style */\n",
       "\n",
       "/* Colorize estimator box */\n",
       "#sk-container-id-1 div.sk-estimator input.sk-toggleable__control:checked~label.sk-toggleable__label {\n",
       "  /* unfitted */\n",
       "  background-color: var(--sklearn-color-unfitted-level-2);\n",
       "}\n",
       "\n",
       "#sk-container-id-1 div.sk-estimator.fitted input.sk-toggleable__control:checked~label.sk-toggleable__label {\n",
       "  /* fitted */\n",
       "  background-color: var(--sklearn-color-fitted-level-2);\n",
       "}\n",
       "\n",
       "#sk-container-id-1 div.sk-label label.sk-toggleable__label,\n",
       "#sk-container-id-1 div.sk-label label {\n",
       "  /* The background is the default theme color */\n",
       "  color: var(--sklearn-color-text-on-default-background);\n",
       "}\n",
       "\n",
       "/* On hover, darken the color of the background */\n",
       "#sk-container-id-1 div.sk-label:hover label.sk-toggleable__label {\n",
       "  color: var(--sklearn-color-text);\n",
       "  background-color: var(--sklearn-color-unfitted-level-2);\n",
       "}\n",
       "\n",
       "/* Label box, darken color on hover, fitted */\n",
       "#sk-container-id-1 div.sk-label.fitted:hover label.sk-toggleable__label.fitted {\n",
       "  color: var(--sklearn-color-text);\n",
       "  background-color: var(--sklearn-color-fitted-level-2);\n",
       "}\n",
       "\n",
       "/* Estimator label */\n",
       "\n",
       "#sk-container-id-1 div.sk-label label {\n",
       "  font-family: monospace;\n",
       "  font-weight: bold;\n",
       "  display: inline-block;\n",
       "  line-height: 1.2em;\n",
       "}\n",
       "\n",
       "#sk-container-id-1 div.sk-label-container {\n",
       "  text-align: center;\n",
       "}\n",
       "\n",
       "/* Estimator-specific */\n",
       "#sk-container-id-1 div.sk-estimator {\n",
       "  font-family: monospace;\n",
       "  border: 1px dotted var(--sklearn-color-border-box);\n",
       "  border-radius: 0.25em;\n",
       "  box-sizing: border-box;\n",
       "  margin-bottom: 0.5em;\n",
       "  /* unfitted */\n",
       "  background-color: var(--sklearn-color-unfitted-level-0);\n",
       "}\n",
       "\n",
       "#sk-container-id-1 div.sk-estimator.fitted {\n",
       "  /* fitted */\n",
       "  background-color: var(--sklearn-color-fitted-level-0);\n",
       "}\n",
       "\n",
       "/* on hover */\n",
       "#sk-container-id-1 div.sk-estimator:hover {\n",
       "  /* unfitted */\n",
       "  background-color: var(--sklearn-color-unfitted-level-2);\n",
       "}\n",
       "\n",
       "#sk-container-id-1 div.sk-estimator.fitted:hover {\n",
       "  /* fitted */\n",
       "  background-color: var(--sklearn-color-fitted-level-2);\n",
       "}\n",
       "\n",
       "/* Specification for estimator info (e.g. \"i\" and \"?\") */\n",
       "\n",
       "/* Common style for \"i\" and \"?\" */\n",
       "\n",
       ".sk-estimator-doc-link,\n",
       "a:link.sk-estimator-doc-link,\n",
       "a:visited.sk-estimator-doc-link {\n",
       "  float: right;\n",
       "  font-size: smaller;\n",
       "  line-height: 1em;\n",
       "  font-family: monospace;\n",
       "  background-color: var(--sklearn-color-background);\n",
       "  border-radius: 1em;\n",
       "  height: 1em;\n",
       "  width: 1em;\n",
       "  text-decoration: none !important;\n",
       "  margin-left: 1ex;\n",
       "  /* unfitted */\n",
       "  border: var(--sklearn-color-unfitted-level-1) 1pt solid;\n",
       "  color: var(--sklearn-color-unfitted-level-1);\n",
       "}\n",
       "\n",
       ".sk-estimator-doc-link.fitted,\n",
       "a:link.sk-estimator-doc-link.fitted,\n",
       "a:visited.sk-estimator-doc-link.fitted {\n",
       "  /* fitted */\n",
       "  border: var(--sklearn-color-fitted-level-1) 1pt solid;\n",
       "  color: var(--sklearn-color-fitted-level-1);\n",
       "}\n",
       "\n",
       "/* On hover */\n",
       "div.sk-estimator:hover .sk-estimator-doc-link:hover,\n",
       ".sk-estimator-doc-link:hover,\n",
       "div.sk-label-container:hover .sk-estimator-doc-link:hover,\n",
       ".sk-estimator-doc-link:hover {\n",
       "  /* unfitted */\n",
       "  background-color: var(--sklearn-color-unfitted-level-3);\n",
       "  color: var(--sklearn-color-background);\n",
       "  text-decoration: none;\n",
       "}\n",
       "\n",
       "div.sk-estimator.fitted:hover .sk-estimator-doc-link.fitted:hover,\n",
       ".sk-estimator-doc-link.fitted:hover,\n",
       "div.sk-label-container:hover .sk-estimator-doc-link.fitted:hover,\n",
       ".sk-estimator-doc-link.fitted:hover {\n",
       "  /* fitted */\n",
       "  background-color: var(--sklearn-color-fitted-level-3);\n",
       "  color: var(--sklearn-color-background);\n",
       "  text-decoration: none;\n",
       "}\n",
       "\n",
       "/* Span, style for the box shown on hovering the info icon */\n",
       ".sk-estimator-doc-link span {\n",
       "  display: none;\n",
       "  z-index: 9999;\n",
       "  position: relative;\n",
       "  font-weight: normal;\n",
       "  right: .2ex;\n",
       "  padding: .5ex;\n",
       "  margin: .5ex;\n",
       "  width: min-content;\n",
       "  min-width: 20ex;\n",
       "  max-width: 50ex;\n",
       "  color: var(--sklearn-color-text);\n",
       "  box-shadow: 2pt 2pt 4pt #999;\n",
       "  /* unfitted */\n",
       "  background: var(--sklearn-color-unfitted-level-0);\n",
       "  border: .5pt solid var(--sklearn-color-unfitted-level-3);\n",
       "}\n",
       "\n",
       ".sk-estimator-doc-link.fitted span {\n",
       "  /* fitted */\n",
       "  background: var(--sklearn-color-fitted-level-0);\n",
       "  border: var(--sklearn-color-fitted-level-3);\n",
       "}\n",
       "\n",
       ".sk-estimator-doc-link:hover span {\n",
       "  display: block;\n",
       "}\n",
       "\n",
       "/* \"?\"-specific style due to the `<a>` HTML tag */\n",
       "\n",
       "#sk-container-id-1 a.estimator_doc_link {\n",
       "  float: right;\n",
       "  font-size: 1rem;\n",
       "  line-height: 1em;\n",
       "  font-family: monospace;\n",
       "  background-color: var(--sklearn-color-background);\n",
       "  border-radius: 1rem;\n",
       "  height: 1rem;\n",
       "  width: 1rem;\n",
       "  text-decoration: none;\n",
       "  /* unfitted */\n",
       "  color: var(--sklearn-color-unfitted-level-1);\n",
       "  border: var(--sklearn-color-unfitted-level-1) 1pt solid;\n",
       "}\n",
       "\n",
       "#sk-container-id-1 a.estimator_doc_link.fitted {\n",
       "  /* fitted */\n",
       "  border: var(--sklearn-color-fitted-level-1) 1pt solid;\n",
       "  color: var(--sklearn-color-fitted-level-1);\n",
       "}\n",
       "\n",
       "/* On hover */\n",
       "#sk-container-id-1 a.estimator_doc_link:hover {\n",
       "  /* unfitted */\n",
       "  background-color: var(--sklearn-color-unfitted-level-3);\n",
       "  color: var(--sklearn-color-background);\n",
       "  text-decoration: none;\n",
       "}\n",
       "\n",
       "#sk-container-id-1 a.estimator_doc_link.fitted:hover {\n",
       "  /* fitted */\n",
       "  background-color: var(--sklearn-color-fitted-level-3);\n",
       "}\n",
       "</style><div id=\"sk-container-id-1\" class=\"sk-top-container\"><div class=\"sk-text-repr-fallback\"><pre>Pipeline(steps=[(&#x27;col_transformer&#x27;,\n",
       "                 ColumnTransformer(remainder=&#x27;passthrough&#x27;, sparse_threshold=0,\n",
       "                                   transformers=[(&#x27;ord&#x27;, OrdinalEncoder(),\n",
       "                                                  [&#x27;carrier&#x27;])])),\n",
       "                (&#x27;gbr&#x27;,\n",
       "                 GradientBoostingRegressor(max_depth=4, n_estimators=50,\n",
       "                                           random_state=7))])</pre><b>In a Jupyter environment, please rerun this cell to show the HTML representation or trust the notebook. <br />On GitHub, the HTML representation is unable to render, please try loading this page with nbviewer.org.</b></div><div class=\"sk-container\" hidden><div class=\"sk-item sk-dashed-wrapped\"><div class=\"sk-label-container\"><div class=\"sk-label fitted sk-toggleable\"><input class=\"sk-toggleable__control sk-hidden--visually\" id=\"sk-estimator-id-1\" type=\"checkbox\" ><label for=\"sk-estimator-id-1\" class=\"sk-toggleable__label fitted sk-toggleable__label-arrow fitted\">&nbsp;&nbsp;Pipeline<a class=\"sk-estimator-doc-link fitted\" rel=\"noreferrer\" target=\"_blank\" href=\"https://scikit-learn.org/1.4/modules/generated/sklearn.pipeline.Pipeline.html\">?<span>Documentation for Pipeline</span></a><span class=\"sk-estimator-doc-link fitted\">i<span>Fitted</span></span></label><div class=\"sk-toggleable__content fitted\"><pre>Pipeline(steps=[(&#x27;col_transformer&#x27;,\n",
       "                 ColumnTransformer(remainder=&#x27;passthrough&#x27;, sparse_threshold=0,\n",
       "                                   transformers=[(&#x27;ord&#x27;, OrdinalEncoder(),\n",
       "                                                  [&#x27;carrier&#x27;])])),\n",
       "                (&#x27;gbr&#x27;,\n",
       "                 GradientBoostingRegressor(max_depth=4, n_estimators=50,\n",
       "                                           random_state=7))])</pre></div> </div></div><div class=\"sk-serial\"><div class=\"sk-item sk-dashed-wrapped\"><div class=\"sk-label-container\"><div class=\"sk-label fitted sk-toggleable\"><input class=\"sk-toggleable__control sk-hidden--visually\" id=\"sk-estimator-id-2\" type=\"checkbox\" ><label for=\"sk-estimator-id-2\" class=\"sk-toggleable__label fitted sk-toggleable__label-arrow fitted\">&nbsp;col_transformer: ColumnTransformer<a class=\"sk-estimator-doc-link fitted\" rel=\"noreferrer\" target=\"_blank\" href=\"https://scikit-learn.org/1.4/modules/generated/sklearn.compose.ColumnTransformer.html\">?<span>Documentation for col_transformer: ColumnTransformer</span></a></label><div class=\"sk-toggleable__content fitted\"><pre>ColumnTransformer(remainder=&#x27;passthrough&#x27;, sparse_threshold=0,\n",
       "                  transformers=[(&#x27;ord&#x27;, OrdinalEncoder(), [&#x27;carrier&#x27;])])</pre></div> </div></div><div class=\"sk-parallel\"><div class=\"sk-parallel-item\"><div class=\"sk-item\"><div class=\"sk-label-container\"><div class=\"sk-label fitted sk-toggleable\"><input class=\"sk-toggleable__control sk-hidden--visually\" id=\"sk-estimator-id-3\" type=\"checkbox\" ><label for=\"sk-estimator-id-3\" class=\"sk-toggleable__label fitted sk-toggleable__label-arrow fitted\">ord</label><div class=\"sk-toggleable__content fitted\"><pre>[&#x27;carrier&#x27;]</pre></div> </div></div><div class=\"sk-serial\"><div class=\"sk-item\"><div class=\"sk-estimator fitted sk-toggleable\"><input class=\"sk-toggleable__control sk-hidden--visually\" id=\"sk-estimator-id-4\" type=\"checkbox\" ><label for=\"sk-estimator-id-4\" class=\"sk-toggleable__label fitted sk-toggleable__label-arrow fitted\">&nbsp;OrdinalEncoder<a class=\"sk-estimator-doc-link fitted\" rel=\"noreferrer\" target=\"_blank\" href=\"https://scikit-learn.org/1.4/modules/generated/sklearn.preprocessing.OrdinalEncoder.html\">?<span>Documentation for OrdinalEncoder</span></a></label><div class=\"sk-toggleable__content fitted\"><pre>OrdinalEncoder()</pre></div> </div></div></div></div></div><div class=\"sk-parallel-item\"><div class=\"sk-item\"><div class=\"sk-label-container\"><div class=\"sk-label fitted sk-toggleable\"><input class=\"sk-toggleable__control sk-hidden--visually\" id=\"sk-estimator-id-5\" type=\"checkbox\" ><label for=\"sk-estimator-id-5\" class=\"sk-toggleable__label fitted sk-toggleable__label-arrow fitted\">remainder</label><div class=\"sk-toggleable__content fitted\"><pre>[&#x27;days_till_flight&#x27;, &#x27;origin_id&#x27;, &#x27;destination_id&#x27;, &#x27;dur_min&#x27;, &#x27;flt_info_null&#x27;, &#x27;days_since_start&#x27;, &#x27;is_dst&#x27;, &#x27;flt_departure_month&#x27;, &#x27;flt_departure_day&#x27;, &#x27;flt_departure_week&#x27;, &#x27;flt_departure_weekday&#x27;, &#x27;7d_route_avg&#x27;, &#x27;7d_route_carrier_avg&#x27;]</pre></div> </div></div><div class=\"sk-serial\"><div class=\"sk-item\"><div class=\"sk-estimator fitted sk-toggleable\"><input class=\"sk-toggleable__control sk-hidden--visually\" id=\"sk-estimator-id-6\" type=\"checkbox\" ><label for=\"sk-estimator-id-6\" class=\"sk-toggleable__label fitted sk-toggleable__label-arrow fitted\">passthrough</label><div class=\"sk-toggleable__content fitted\"><pre>passthrough</pre></div> </div></div></div></div></div></div></div><div class=\"sk-item\"><div class=\"sk-estimator fitted sk-toggleable\"><input class=\"sk-toggleable__control sk-hidden--visually\" id=\"sk-estimator-id-7\" type=\"checkbox\" ><label for=\"sk-estimator-id-7\" class=\"sk-toggleable__label fitted sk-toggleable__label-arrow fitted\">&nbsp;GradientBoostingRegressor<a class=\"sk-estimator-doc-link fitted\" rel=\"noreferrer\" target=\"_blank\" href=\"https://scikit-learn.org/1.4/modules/generated/sklearn.ensemble.GradientBoostingRegressor.html\">?<span>Documentation for GradientBoostingRegressor</span></a></label><div class=\"sk-toggleable__content fitted\"><pre>GradientBoostingRegressor(max_depth=4, n_estimators=50, random_state=7)</pre></div> </div></div></div></div></div></div>"
      ],
      "text/plain": [
       "Pipeline(steps=[('col_transformer',\n",
       "                 ColumnTransformer(remainder='passthrough', sparse_threshold=0,\n",
       "                                   transformers=[('ord', OrdinalEncoder(),\n",
       "                                                  ['carrier'])])),\n",
       "                ('gbr',\n",
       "                 GradientBoostingRegressor(max_depth=4, n_estimators=50,\n",
       "                                           random_state=7))])"
      ]
     },
     "execution_count": 35,
     "metadata": {},
     "output_type": "execute_result"
    }
   ],
   "source": [
    "pred_fare_expr = pl.lit(10).pow(\n",
    "    (pl.col('pred_scaled_fare') * pl.col('base_fare')) + pl.col('base_fare')\n",
    ").alias('pred_fare')\n",
    "\n",
    "def get_model():\n",
    "    col_transform = ColumnTransformer(\n",
    "        [\n",
    "            (\n",
    "                'ord', \n",
    "                OrdinalEncoder(),\n",
    "                ['carrier']\n",
    "            )\n",
    "        ],\n",
    "        remainder = 'passthrough',\n",
    "        sparse_threshold = 0\n",
    "    )\n",
    "    \n",
    "    return Pipeline(\n",
    "        [\n",
    "            ('col_transformer', col_transform),\n",
    "            (\n",
    "                'gbr', \n",
    "                GradientBoostingRegressor(\n",
    "                    max_depth = 4,\n",
    "                    random_state = 7\n",
    "                )\n",
    "            )\n",
    "        ]\n",
    "    )\n",
    "\n",
    "def train_model(param_grid, n_iter = 5):\n",
    "    param_sampler = ParameterSampler(\n",
    "        param_grid,\n",
    "        n_iter = n_iter,\n",
    "        random_state = 7\n",
    "    )\n",
    "\n",
    "    best_rmse = float('inf')\n",
    "    best_model = None\n",
    "    best_params = None\n",
    "\n",
    "    for i, params in enumerate(list(param_sampler)):\n",
    "        model = get_model()\n",
    "        model.set_params(**params)\n",
    "        model.fit(X_train, y_train)\n",
    "\n",
    "        val_preds = val_df.with_columns(\n",
    "            pred_scaled_fare = model.predict(X_val)\n",
    "        ).with_columns(pred_fare_expr)['pred_fare']\n",
    "\n",
    "        rmse = root_mean_squared_error(val_df['total_fare'], val_preds)\n",
    "        print(f\"{i} : {rmse:.3f}\")\n",
    "        \n",
    "        if rmse < best_rmse:\n",
    "            best_rmse = rmse\n",
    "            best_model = model\n",
    "            best_params = params\n",
    "\n",
    "    print(f\"Best params:\\n{best_params}\")\n",
    "    return best_model\n",
    "\n",
    "param_grid = {\n",
    "    \"gbr__loss\": ['squared_error', 'absolute_error'],\n",
    "    \"gbr__n_estimators\": np.linspace(50, 250, 5, dtype = np.int32),\n",
    "    \"gbr__learning_rate\": [0.01, 0.02, 0.05, 0.1, 0.2]\n",
    "}\n",
    "\n",
    "best_model = train_model(param_grid, n_iter = 5)\n",
    "best_model"
   ]
  },
  {
   "cell_type": "markdown",
   "metadata": {},
   "source": [
    "### Predictions"
   ]
  },
  {
   "cell_type": "code",
   "execution_count": 36,
   "metadata": {},
   "outputs": [
    {
     "data": {
      "text/html": [
       "<div><style>\n",
       ".dataframe > thead > tr,\n",
       ".dataframe > tbody > tr {\n",
       "  text-align: right;\n",
       "  white-space: pre-wrap;\n",
       "}\n",
       "</style>\n",
       "<small>shape: (1_430_585, 34)</small><table border=\"1\" class=\"dataframe\"><thead><tr><th>carrier</th><th>flt_num</th><th>flt_departure_dt</th><th>observation_date</th><th>total_fare</th><th>days_till_flight</th><th>is_dst</th><th>route_id</th><th>flt_departure_local_time</th><th>flt_arrival_local_time</th><th>dur_min</th><th>tz_min</th><th>over_mn</th><th>dpt_4h_od</th><th>flt_count_dpt_24h</th><th>flt_count_dpt_4h</th><th>scaled_demand</th><th>scaled_share</th><th>origin_id</th><th>destination_id</th><th>flt_info_null</th><th>base_fare</th><th>log_fare</th><th>scaled_fare</th><th>7d_route_avg</th><th>7d_route_carrier_avg</th><th>days_since_start</th><th>flt_departure_month</th><th>flt_departure_day</th><th>flt_departure_week</th><th>flt_departure_weekday</th><th>dur_mean</th><th>pred_scaled_fare</th><th>pred_fare</th></tr><tr><td>str</td><td>i64</td><td>date</td><td>date</td><td>i64</td><td>i16</td><td>i8</td><td>u8</td><td>datetime[ns]</td><td>datetime[ns]</td><td>f64</td><td>i16</td><td>i8</td><td>i8</td><td>u8</td><td>u8</td><td>i64</td><td>i64</td><td>u8</td><td>u8</td><td>u8</td><td>f64</td><td>f64</td><td>f64</td><td>f64</td><td>f64</td><td>i64</td><td>i8</td><td>i8</td><td>i8</td><td>i8</td><td>f64</td><td>f64</td><td>f64</td></tr></thead><tbody><tr><td>&quot;U1&quot;</td><td>6143</td><td>2018-01-01</td><td>2017-11-27</td><td>469</td><td>35</td><td>0</td><td>11</td><td>null</td><td>null</td><td>94.73</td><td>null</td><td>null</td><td>null</td><td>null</td><td>null</td><td>null</td><td>null</td><td>7</td><td>3</td><td>1</td><td>2.75394</td><td>2.671173</td><td>-0.0301</td><td>1.0</td><td>1.0</td><td>0</td><td>1</td><td>1</td><td>1</td><td>1</td><td>94.73</td><td>-0.023229</td><td>489.742321</td></tr><tr><td>&quot;L1&quot;</td><td>5927</td><td>2018-01-01</td><td>2017-11-27</td><td>1119</td><td>35</td><td>0</td><td>1</td><td>2018-01-01 20:33:00</td><td>2018-01-01 23:50:00</td><td>197.0</td><td>-300</td><td>0</td><td>5</td><td>5</td><td>1</td><td>1468</td><td>360</td><td>1</td><td>5</td><td>0</td><td>2.989814</td><td>3.04883</td><td>0.0197</td><td>1.0</td><td>1.0</td><td>0</td><td>1</td><td>1</td><td>1</td><td>1</td><td>187.97</td><td>0.003732</td><td>1002.236805</td></tr><tr><td>&quot;L3&quot;</td><td>18075</td><td>2018-01-01</td><td>2017-11-27</td><td>422</td><td>35</td><td>0</td><td>6</td><td>2018-01-01 13:20:00</td><td>2018-01-01 14:35:00</td><td>75.0</td><td>-480</td><td>0</td><td>3</td><td>30</td><td>9</td><td>6659</td><td>228</td><td>4</td><td>3</td><td>0</td><td>2.729752</td><td>2.625312</td><td>-0.0383</td><td>1.0</td><td>1.0</td><td>0</td><td>1</td><td>1</td><td>1</td><td>1</td><td>78.68</td><td>0.017571</td><td>599.399018</td></tr><tr><td>&quot;OTH&quot;</td><td>2416</td><td>2018-01-01</td><td>2017-11-27</td><td>787</td><td>35</td><td>0</td><td>4</td><td>2018-01-01 20:22:00</td><td>2018-01-01 21:46:00</td><td>84.0</td><td>-480</td><td>0</td><td>5</td><td>30</td><td>4</td><td>6659</td><td>316</td><td>3</td><td>4</td><td>0</td><td>2.589536</td><td>2.895975</td><td>0.1183</td><td>1.0</td><td>1.0</td><td>0</td><td>1</td><td>1</td><td>1</td><td>1</td><td>81.99</td><td>0.031194</td><td>468.074784</td></tr><tr><td>&quot;L3&quot;</td><td>18270</td><td>2018-01-01</td><td>2017-11-27</td><td>1298</td><td>35</td><td>0</td><td>4</td><td>2018-01-01 11:17:00</td><td>2018-01-01 12:40:00</td><td>83.0</td><td>-480</td><td>0</td><td>2</td><td>30</td><td>5</td><td>6659</td><td>231</td><td>3</td><td>4</td><td>0</td><td>2.754933</td><td>3.113275</td><td>0.1301</td><td>1.0</td><td>1.0</td><td>0</td><td>1</td><td>1</td><td>1</td><td>1</td><td>79.35</td><td>0.031194</td><td>693.22106</td></tr><tr><td>&quot;L1&quot;</td><td>1396</td><td>2018-01-01</td><td>2017-11-27</td><td>372</td><td>35</td><td>0</td><td>11</td><td>2018-01-01 19:35:00</td><td>2018-01-01 21:08:00</td><td>93.0</td><td>-480</td><td>0</td><td>4</td><td>21</td><td>7</td><td>6579</td><td>262</td><td>7</td><td>3</td><td>0</td><td>2.764942</td><td>2.570543</td><td>-0.0703</td><td>1.0</td><td>1.0</td><td>0</td><td>1</td><td>1</td><td>1</td><td>1</td><td>95.68</td><td>-0.014823</td><td>529.612225</td></tr><tr><td>&quot;U1&quot;</td><td>4771</td><td>2018-01-01</td><td>2017-11-27</td><td>513</td><td>35</td><td>0</td><td>4</td><td>null</td><td>null</td><td>80.87</td><td>null</td><td>null</td><td>null</td><td>null</td><td>null</td><td>null</td><td>null</td><td>3</td><td>4</td><td>1</td><td>2.637849</td><td>2.710117</td><td>0.0274</td><td>1.0</td><td>1.0</td><td>0</td><td>1</td><td>1</td><td>1</td><td>1</td><td>80.87</td><td>0.031194</td><td>524.971017</td></tr><tr><td>&quot;OTH&quot;</td><td>4825</td><td>2018-01-01</td><td>2017-11-27</td><td>432</td><td>35</td><td>0</td><td>6</td><td>2018-01-01 12:55:00</td><td>2018-01-01 14:07:00</td><td>72.0</td><td>-480</td><td>0</td><td>3</td><td>30</td><td>9</td><td>6659</td><td>316</td><td>4</td><td>3</td><td>0</td><td>2.578759</td><td>2.635484</td><td>0.022</td><td>1.0</td><td>1.0</td><td>0</td><td>1</td><td>1</td><td>1</td><td>1</td><td>71.43</td><td>0.016615</td><td>418.413171</td></tr><tr><td>&quot;OTH&quot;</td><td>6175</td><td>2018-01-01</td><td>2017-11-27</td><td>341</td><td>35</td><td>0</td><td>11</td><td>2018-01-01 18:55:00</td><td>2018-01-01 20:23:00</td><td>88.0</td><td>-480</td><td>0</td><td>4</td><td>21</td><td>7</td><td>6579</td><td>354</td><td>7</td><td>3</td><td>0</td><td>2.72979</td><td>2.532754</td><td>-0.0722</td><td>1.0</td><td>1.0</td><td>0</td><td>1</td><td>1</td><td>1</td><td>1</td><td>90.69</td><td>-0.013399</td><td>493.417371</td></tr><tr><td>&quot;U1&quot;</td><td>6187</td><td>2018-01-01</td><td>2017-11-27</td><td>341</td><td>35</td><td>0</td><td>11</td><td>null</td><td>null</td><td>94.73</td><td>null</td><td>null</td><td>null</td><td>null</td><td>null</td><td>null</td><td>null</td><td>7</td><td>3</td><td>1</td><td>2.75394</td><td>2.532754</td><td>-0.0803</td><td>1.0</td><td>1.0</td><td>0</td><td>1</td><td>1</td><td>1</td><td>1</td><td>94.73</td><td>-0.023229</td><td>489.742321</td></tr><tr><td>&hellip;</td><td>&hellip;</td><td>&hellip;</td><td>&hellip;</td><td>&hellip;</td><td>&hellip;</td><td>&hellip;</td><td>&hellip;</td><td>&hellip;</td><td>&hellip;</td><td>&hellip;</td><td>&hellip;</td><td>&hellip;</td><td>&hellip;</td><td>&hellip;</td><td>&hellip;</td><td>&hellip;</td><td>&hellip;</td><td>&hellip;</td><td>&hellip;</td><td>&hellip;</td><td>&hellip;</td><td>&hellip;</td><td>&hellip;</td><td>&hellip;</td><td>&hellip;</td><td>&hellip;</td><td>&hellip;</td><td>&hellip;</td><td>&hellip;</td><td>&hellip;</td><td>&hellip;</td><td>&hellip;</td><td>&hellip;</td></tr><tr><td>&quot;U1&quot;</td><td>6187</td><td>2018-10-31</td><td>2018-10-31</td><td>1111</td><td>0</td><td>1</td><td>11</td><td>2018-10-31 19:55:00</td><td>2018-10-31 21:31:00</td><td>96.0</td><td>-420</td><td>0</td><td>4</td><td>22</td><td>7</td><td>7120</td><td>238</td><td>7</td><td>3</td><td>0</td><td>2.75394</td><td>3.045714</td><td>0.1059</td><td>0.902995</td><td>0.866816</td><td>303</td><td>10</td><td>31</td><td>44</td><td>3</td><td>94.73</td><td>0.092004</td><td>1016.980115</td></tr><tr><td>&quot;U3&quot;</td><td>758</td><td>2018-10-31</td><td>2018-10-31</td><td>498</td><td>0</td><td>1</td><td>7</td><td>2018-10-31 15:30:00</td><td>2018-10-31 16:47:00</td><td>77.0</td><td>-300</td><td>0</td><td>3</td><td>8</td><td>1</td><td>3162</td><td>203</td><td>5</td><td>0</td><td>0</td><td>2.733146</td><td>2.697229</td><td>-0.0131</td><td>0.808286</td><td>0.653224</td><td>303</td><td>10</td><td>31</td><td>44</td><td>3</td><td>80.92</td><td>0.040862</td><td>699.563413</td></tr><tr><td>&quot;U1&quot;</td><td>4771</td><td>2018-10-31</td><td>2018-10-31</td><td>395</td><td>0</td><td>1</td><td>4</td><td>2018-10-31 09:10:00</td><td>2018-10-31 10:30:00</td><td>80.0</td><td>-420</td><td>0</td><td>2</td><td>32</td><td>9</td><td>7704</td><td>197</td><td>3</td><td>4</td><td>0</td><td>2.637849</td><td>2.596597</td><td>-0.0156</td><td>0.801045</td><td>0.753122</td><td>303</td><td>10</td><td>31</td><td>44</td><td>3</td><td>80.87</td><td>0.037537</td><td>545.589586</td></tr><tr><td>&quot;L3&quot;</td><td>11296</td><td>2018-10-31</td><td>2018-10-31</td><td>2492</td><td>0</td><td>1</td><td>6</td><td>2018-10-31 11:00:00</td><td>2018-10-31 12:18:00</td><td>78.0</td><td>-420</td><td>0</td><td>2</td><td>32</td><td>8</td><td>7704</td><td>224</td><td>4</td><td>3</td><td>0</td><td>2.729752</td><td>3.396548</td><td>0.2443</td><td>0.927804</td><td>1.092157</td><td>303</td><td>10</td><td>31</td><td>44</td><td>3</td><td>78.68</td><td>0.10136</td><td>1014.935989</td></tr><tr><td>&quot;L2&quot;</td><td>5041</td><td>2018-10-31</td><td>2018-10-31</td><td>781</td><td>0</td><td>1</td><td>6</td><td>2018-10-31 12:35:00</td><td>2018-10-31 13:50:00</td><td>75.0</td><td>-420</td><td>0</td><td>3</td><td>32</td><td>10</td><td>7704</td><td>218</td><td>4</td><td>3</td><td>0</td><td>2.661205</td><td>2.892651</td><td>0.087</td><td>0.927804</td><td>0.731396</td><td>303</td><td>10</td><td>31</td><td>44</td><td>3</td><td>78.63</td><td>0.02044</td><td>519.517824</td></tr><tr><td>&quot;L1&quot;</td><td>1763</td><td>2018-10-31</td><td>2018-10-31</td><td>3277</td><td>0</td><td>1</td><td>10</td><td>2018-10-31 19:47:00</td><td>2018-10-31 22:39:00</td><td>172.0</td><td>-300</td><td>0</td><td>4</td><td>3</td><td>1</td><td>1941</td><td>326</td><td>6</td><td>5</td><td>0</td><td>3.002688</td><td>3.515476</td><td>0.1708</td><td>0.882456</td><td>0.867847</td><td>303</td><td>10</td><td>31</td><td>44</td><td>3</td><td>169.94</td><td>0.098425</td><td>1987.140039</td></tr><tr><td>&quot;L3&quot;</td><td>3845</td><td>2018-10-31</td><td>2018-10-31</td><td>671</td><td>0</td><td>1</td><td>4</td><td>2018-10-31 11:11:00</td><td>2018-10-31 12:31:00</td><td>80.0</td><td>-420</td><td>0</td><td>2</td><td>32</td><td>9</td><td>7704</td><td>225</td><td>3</td><td>4</td><td>0</td><td>2.754933</td><td>2.826723</td><td>0.0261</td><td>0.801045</td><td>0.884803</td><td>303</td><td>10</td><td>31</td><td>44</td><td>3</td><td>79.35</td><td>0.075061</td><td>915.631271</td></tr><tr><td>&quot;L1&quot;</td><td>5559</td><td>2018-10-31</td><td>2018-10-31</td><td>2021</td><td>0</td><td>1</td><td>3</td><td>2018-10-31 10:15:00</td><td>2018-10-31 15:06:00</td><td>291.0</td><td>-420</td><td>0</td><td>2</td><td>8</td><td>1</td><td>2816</td><td>402</td><td>3</td><td>2</td><td>0</td><td>2.969416</td><td>3.305566</td><td>0.1132</td><td>0.950646</td><td>0.94203</td><td>303</td><td>10</td><td>31</td><td>44</td><td>3</td><td>297.2</td><td>0.101037</td><td>1859.670541</td></tr><tr><td>&quot;U1&quot;</td><td>4790</td><td>2018-10-31</td><td>2018-10-31</td><td>395</td><td>0</td><td>1</td><td>4</td><td>2018-10-31 14:25:00</td><td>2018-10-31 15:47:00</td><td>82.0</td><td>-420</td><td>0</td><td>3</td><td>32</td><td>9</td><td>7704</td><td>197</td><td>3</td><td>4</td><td>0</td><td>2.637849</td><td>2.596597</td><td>-0.0156</td><td>0.801045</td><td>0.753122</td><td>303</td><td>10</td><td>31</td><td>44</td><td>3</td><td>80.87</td><td>0.037537</td><td>545.589586</td></tr><tr><td>&quot;U1&quot;</td><td>3832</td><td>2018-10-31</td><td>2018-10-31</td><td>517</td><td>0</td><td>1</td><td>6</td><td>2018-10-31 07:00:00</td><td>2018-10-31 08:16:00</td><td>76.0</td><td>-420</td><td>0</td><td>1</td><td>32</td><td>3</td><td>7704</td><td>199</td><td>4</td><td>3</td><td>0</td><td>2.617467</td><td>2.713491</td><td>0.0367</td><td>0.927804</td><td>0.816841</td><td>303</td><td>10</td><td>31</td><td>44</td><td>3</td><td>75.25</td><td>0.046385</td><td>548.122979</td></tr></tbody></table></div>"
      ],
      "text/plain": [
       "shape: (1_430_585, 34)\n",
       "┌─────────┬─────────┬────────────┬────────────┬───┬────────────┬──────────┬────────────┬───────────┐\n",
       "│ carrier ┆ flt_num ┆ flt_depart ┆ observatio ┆ … ┆ flt_depart ┆ dur_mean ┆ pred_scale ┆ pred_fare │\n",
       "│ ---     ┆ ---     ┆ ure_dt     ┆ n_date     ┆   ┆ ure_weekda ┆ ---      ┆ d_fare     ┆ ---       │\n",
       "│ str     ┆ i64     ┆ ---        ┆ ---        ┆   ┆ y          ┆ f64      ┆ ---        ┆ f64       │\n",
       "│         ┆         ┆ date       ┆ date       ┆   ┆ ---        ┆          ┆ f64        ┆           │\n",
       "│         ┆         ┆            ┆            ┆   ┆ i8         ┆          ┆            ┆           │\n",
       "╞═════════╪═════════╪════════════╪════════════╪═══╪════════════╪══════════╪════════════╪═══════════╡\n",
       "│ U1      ┆ 6143    ┆ 2018-01-01 ┆ 2017-11-27 ┆ … ┆ 1          ┆ 94.73    ┆ -0.023229  ┆ 489.74232 │\n",
       "│         ┆         ┆            ┆            ┆   ┆            ┆          ┆            ┆ 1         │\n",
       "│ L1      ┆ 5927    ┆ 2018-01-01 ┆ 2017-11-27 ┆ … ┆ 1          ┆ 187.97   ┆ 0.003732   ┆ 1002.2368 │\n",
       "│         ┆         ┆            ┆            ┆   ┆            ┆          ┆            ┆ 05        │\n",
       "│ L3      ┆ 18075   ┆ 2018-01-01 ┆ 2017-11-27 ┆ … ┆ 1          ┆ 78.68    ┆ 0.017571   ┆ 599.39901 │\n",
       "│         ┆         ┆            ┆            ┆   ┆            ┆          ┆            ┆ 8         │\n",
       "│ OTH     ┆ 2416    ┆ 2018-01-01 ┆ 2017-11-27 ┆ … ┆ 1          ┆ 81.99    ┆ 0.031194   ┆ 468.07478 │\n",
       "│         ┆         ┆            ┆            ┆   ┆            ┆          ┆            ┆ 4         │\n",
       "│ L3      ┆ 18270   ┆ 2018-01-01 ┆ 2017-11-27 ┆ … ┆ 1          ┆ 79.35    ┆ 0.031194   ┆ 693.22106 │\n",
       "│ L1      ┆ 1396    ┆ 2018-01-01 ┆ 2017-11-27 ┆ … ┆ 1          ┆ 95.68    ┆ -0.014823  ┆ 529.61222 │\n",
       "│         ┆         ┆            ┆            ┆   ┆            ┆          ┆            ┆ 5         │\n",
       "│ U1      ┆ 4771    ┆ 2018-01-01 ┆ 2017-11-27 ┆ … ┆ 1          ┆ 80.87    ┆ 0.031194   ┆ 524.97101 │\n",
       "│         ┆         ┆            ┆            ┆   ┆            ┆          ┆            ┆ 7         │\n",
       "│ OTH     ┆ 4825    ┆ 2018-01-01 ┆ 2017-11-27 ┆ … ┆ 1          ┆ 71.43    ┆ 0.016615   ┆ 418.41317 │\n",
       "│         ┆         ┆            ┆            ┆   ┆            ┆          ┆            ┆ 1         │\n",
       "│ OTH     ┆ 6175    ┆ 2018-01-01 ┆ 2017-11-27 ┆ … ┆ 1          ┆ 90.69    ┆ -0.013399  ┆ 493.41737 │\n",
       "│         ┆         ┆            ┆            ┆   ┆            ┆          ┆            ┆ 1         │\n",
       "│ U1      ┆ 6187    ┆ 2018-01-01 ┆ 2017-11-27 ┆ … ┆ 1          ┆ 94.73    ┆ -0.023229  ┆ 489.74232 │\n",
       "│         ┆         ┆            ┆            ┆   ┆            ┆          ┆            ┆ 1         │\n",
       "│ …       ┆ …       ┆ …          ┆ …          ┆ … ┆ …          ┆ …        ┆ …          ┆ …         │\n",
       "│ U1      ┆ 6187    ┆ 2018-10-31 ┆ 2018-10-31 ┆ … ┆ 3          ┆ 94.73    ┆ 0.092004   ┆ 1016.9801 │\n",
       "│         ┆         ┆            ┆            ┆   ┆            ┆          ┆            ┆ 15        │\n",
       "│ U3      ┆ 758     ┆ 2018-10-31 ┆ 2018-10-31 ┆ … ┆ 3          ┆ 80.92    ┆ 0.040862   ┆ 699.56341 │\n",
       "│         ┆         ┆            ┆            ┆   ┆            ┆          ┆            ┆ 3         │\n",
       "│ U1      ┆ 4771    ┆ 2018-10-31 ┆ 2018-10-31 ┆ … ┆ 3          ┆ 80.87    ┆ 0.037537   ┆ 545.58958 │\n",
       "│         ┆         ┆            ┆            ┆   ┆            ┆          ┆            ┆ 6         │\n",
       "│ L3      ┆ 11296   ┆ 2018-10-31 ┆ 2018-10-31 ┆ … ┆ 3          ┆ 78.68    ┆ 0.10136    ┆ 1014.9359 │\n",
       "│         ┆         ┆            ┆            ┆   ┆            ┆          ┆            ┆ 89        │\n",
       "│ L2      ┆ 5041    ┆ 2018-10-31 ┆ 2018-10-31 ┆ … ┆ 3          ┆ 78.63    ┆ 0.02044    ┆ 519.51782 │\n",
       "│         ┆         ┆            ┆            ┆   ┆            ┆          ┆            ┆ 4         │\n",
       "│ L1      ┆ 1763    ┆ 2018-10-31 ┆ 2018-10-31 ┆ … ┆ 3          ┆ 169.94   ┆ 0.098425   ┆ 1987.1400 │\n",
       "│         ┆         ┆            ┆            ┆   ┆            ┆          ┆            ┆ 39        │\n",
       "│ L3      ┆ 3845    ┆ 2018-10-31 ┆ 2018-10-31 ┆ … ┆ 3          ┆ 79.35    ┆ 0.075061   ┆ 915.63127 │\n",
       "│         ┆         ┆            ┆            ┆   ┆            ┆          ┆            ┆ 1         │\n",
       "│ L1      ┆ 5559    ┆ 2018-10-31 ┆ 2018-10-31 ┆ … ┆ 3          ┆ 297.2    ┆ 0.101037   ┆ 1859.6705 │\n",
       "│         ┆         ┆            ┆            ┆   ┆            ┆          ┆            ┆ 41        │\n",
       "│ U1      ┆ 4790    ┆ 2018-10-31 ┆ 2018-10-31 ┆ … ┆ 3          ┆ 80.87    ┆ 0.037537   ┆ 545.58958 │\n",
       "│         ┆         ┆            ┆            ┆   ┆            ┆          ┆            ┆ 6         │\n",
       "│ U1      ┆ 3832    ┆ 2018-10-31 ┆ 2018-10-31 ┆ … ┆ 3          ┆ 75.25    ┆ 0.046385   ┆ 548.12297 │\n",
       "│         ┆         ┆            ┆            ┆   ┆            ┆          ┆            ┆ 9         │\n",
       "└─────────┴─────────┴────────────┴────────────┴───┴────────────┴──────────┴────────────┴───────────┘"
      ]
     },
     "execution_count": 36,
     "metadata": {},
     "output_type": "execute_result"
    }
   ],
   "source": [
    "train_df = train_df.with_columns(\n",
    "    pred_scaled_fare = best_model.predict(X_train)\n",
    ").with_columns(pred_fare_expr)\n",
    "\n",
    "train_df"
   ]
  },
  {
   "cell_type": "code",
   "execution_count": 37,
   "metadata": {},
   "outputs": [
    {
     "data": {
      "text/html": [
       "<div><style>\n",
       ".dataframe > thead > tr,\n",
       ".dataframe > tbody > tr {\n",
       "  text-align: right;\n",
       "  white-space: pre-wrap;\n",
       "}\n",
       "</style>\n",
       "<small>shape: (268_233, 34)</small><table border=\"1\" class=\"dataframe\"><thead><tr><th>carrier</th><th>flt_num</th><th>flt_departure_dt</th><th>observation_date</th><th>total_fare</th><th>days_till_flight</th><th>is_dst</th><th>route_id</th><th>flt_departure_local_time</th><th>flt_arrival_local_time</th><th>dur_min</th><th>tz_min</th><th>over_mn</th><th>dpt_4h_od</th><th>flt_count_dpt_24h</th><th>flt_count_dpt_4h</th><th>scaled_demand</th><th>scaled_share</th><th>origin_id</th><th>destination_id</th><th>flt_info_null</th><th>base_fare</th><th>log_fare</th><th>scaled_fare</th><th>7d_route_avg</th><th>7d_route_carrier_avg</th><th>days_since_start</th><th>flt_departure_month</th><th>flt_departure_day</th><th>flt_departure_week</th><th>flt_departure_weekday</th><th>dur_mean</th><th>pred_scaled_fare</th><th>pred_fare</th></tr><tr><td>str</td><td>i64</td><td>date</td><td>date</td><td>i64</td><td>i16</td><td>i8</td><td>u8</td><td>datetime[ns]</td><td>datetime[ns]</td><td>f64</td><td>i16</td><td>i8</td><td>i8</td><td>u8</td><td>u8</td><td>i64</td><td>i64</td><td>u8</td><td>u8</td><td>u8</td><td>f64</td><td>f64</td><td>f64</td><td>f64</td><td>f64</td><td>i64</td><td>i8</td><td>i8</td><td>i8</td><td>i8</td><td>f64</td><td>f64</td><td>f64</td></tr></thead><tbody><tr><td>&quot;U1&quot;</td><td>6184</td><td>2018-11-01</td><td>2018-02-14</td><td>397</td><td>260</td><td>1</td><td>5</td><td>2018-11-01 20:20:00</td><td>2018-11-01 22:02:00</td><td>102.0</td><td>-420</td><td>0</td><td>5</td><td>23</td><td>2</td><td>6396</td><td>250</td><td>3</td><td>7</td><td>0</td><td>2.794668</td><td>2.598791</td><td>-0.0701</td><td>0.916033</td><td>0.966251</td><td>304</td><td>11</td><td>1</td><td>44</td><td>4</td><td>97.77</td><td>-0.04227</td><td>474.830047</td></tr><tr><td>&quot;L1&quot;</td><td>2444</td><td>2018-11-01</td><td>2018-02-14</td><td>369</td><td>260</td><td>1</td><td>5</td><td>null</td><td>null</td><td>97.69</td><td>null</td><td>null</td><td>null</td><td>null</td><td>null</td><td>6396</td><td>292</td><td>3</td><td>7</td><td>1</td><td>2.795584</td><td>2.567026</td><td>-0.0818</td><td>0.916033</td><td>0.868502</td><td>304</td><td>11</td><td>1</td><td>44</td><td>4</td><td>97.69</td><td>-0.045792</td><td>465.123654</td></tr><tr><td>&quot;U1&quot;</td><td>6134</td><td>2018-11-01</td><td>2018-02-14</td><td>425</td><td>260</td><td>1</td><td>5</td><td>2018-11-01 10:50:00</td><td>2018-11-01 12:33:00</td><td>103.0</td><td>-420</td><td>0</td><td>2</td><td>23</td><td>5</td><td>6396</td><td>250</td><td>3</td><td>7</td><td>0</td><td>2.794668</td><td>2.628389</td><td>-0.0595</td><td>0.916033</td><td>0.966251</td><td>304</td><td>11</td><td>1</td><td>44</td><td>4</td><td>97.77</td><td>-0.04227</td><td>474.830047</td></tr><tr><td>&quot;L1&quot;</td><td>1575</td><td>2018-11-01</td><td>2018-02-14</td><td>416</td><td>260</td><td>1</td><td>5</td><td>2018-11-01 11:10:00</td><td>2018-11-01 12:46:00</td><td>96.0</td><td>-420</td><td>0</td><td>2</td><td>23</td><td>5</td><td>6396</td><td>292</td><td>3</td><td>7</td><td>0</td><td>2.795584</td><td>2.619093</td><td>-0.0631</td><td>0.916033</td><td>0.868502</td><td>304</td><td>11</td><td>1</td><td>44</td><td>4</td><td>97.69</td><td>-0.045792</td><td>465.123654</td></tr><tr><td>&quot;L1&quot;</td><td>5811</td><td>2018-11-01</td><td>2018-02-14</td><td>564</td><td>260</td><td>1</td><td>5</td><td>2018-11-01 15:15:00</td><td>2018-11-01 16:49:00</td><td>94.0</td><td>-420</td><td>0</td><td>3</td><td>23</td><td>6</td><td>6396</td><td>292</td><td>3</td><td>7</td><td>0</td><td>2.795584</td><td>2.751279</td><td>-0.0158</td><td>0.916033</td><td>0.868502</td><td>304</td><td>11</td><td>1</td><td>44</td><td>4</td><td>97.69</td><td>-0.045792</td><td>465.123654</td></tr><tr><td>&quot;L1&quot;</td><td>18973</td><td>2018-11-01</td><td>2018-02-14</td><td>717</td><td>260</td><td>1</td><td>5</td><td>null</td><td>null</td><td>97.69</td><td>null</td><td>null</td><td>null</td><td>null</td><td>null</td><td>6396</td><td>292</td><td>3</td><td>7</td><td>1</td><td>2.795584</td><td>2.855519</td><td>0.0214</td><td>0.916033</td><td>0.868502</td><td>304</td><td>11</td><td>1</td><td>44</td><td>4</td><td>97.69</td><td>-0.045792</td><td>465.123654</td></tr><tr><td>&quot;L1&quot;</td><td>5675</td><td>2018-11-01</td><td>2018-02-14</td><td>466</td><td>260</td><td>1</td><td>5</td><td>2018-11-01 13:17:00</td><td>2018-11-01 14:53:00</td><td>96.0</td><td>-420</td><td>0</td><td>3</td><td>23</td><td>6</td><td>6396</td><td>292</td><td>3</td><td>7</td><td>0</td><td>2.795584</td><td>2.668386</td><td>-0.0455</td><td>0.916033</td><td>0.868502</td><td>304</td><td>11</td><td>1</td><td>44</td><td>4</td><td>97.69</td><td>-0.045792</td><td>465.123654</td></tr><tr><td>&quot;U1&quot;</td><td>6153</td><td>2018-11-01</td><td>2018-02-14</td><td>466</td><td>260</td><td>1</td><td>5</td><td>2018-11-01 17:20:00</td><td>2018-11-01 19:02:00</td><td>102.0</td><td>-420</td><td>0</td><td>4</td><td>23</td><td>7</td><td>6396</td><td>250</td><td>3</td><td>7</td><td>0</td><td>2.794668</td><td>2.668386</td><td>-0.0452</td><td>0.916033</td><td>0.966251</td><td>304</td><td>11</td><td>1</td><td>44</td><td>4</td><td>97.77</td><td>-0.04227</td><td>474.830047</td></tr><tr><td>&quot;U1&quot;</td><td>6178</td><td>2018-11-01</td><td>2018-02-14</td><td>425</td><td>260</td><td>1</td><td>5</td><td>2018-11-01 18:30:00</td><td>2018-11-01 20:12:00</td><td>102.0</td><td>-420</td><td>0</td><td>4</td><td>23</td><td>7</td><td>6396</td><td>250</td><td>3</td><td>7</td><td>0</td><td>2.794668</td><td>2.628389</td><td>-0.0595</td><td>0.916033</td><td>0.966251</td><td>304</td><td>11</td><td>1</td><td>44</td><td>4</td><td>97.77</td><td>-0.04227</td><td>474.830047</td></tr><tr><td>&quot;U1&quot;</td><td>6146</td><td>2018-11-01</td><td>2018-02-14</td><td>388</td><td>260</td><td>1</td><td>5</td><td>null</td><td>null</td><td>97.77</td><td>null</td><td>null</td><td>null</td><td>null</td><td>null</td><td>6396</td><td>250</td><td>3</td><td>7</td><td>1</td><td>2.794668</td><td>2.588832</td><td>-0.0737</td><td>0.916033</td><td>0.966251</td><td>304</td><td>11</td><td>1</td><td>44</td><td>4</td><td>97.77</td><td>-0.04227</td><td>474.830047</td></tr><tr><td>&hellip;</td><td>&hellip;</td><td>&hellip;</td><td>&hellip;</td><td>&hellip;</td><td>&hellip;</td><td>&hellip;</td><td>&hellip;</td><td>&hellip;</td><td>&hellip;</td><td>&hellip;</td><td>&hellip;</td><td>&hellip;</td><td>&hellip;</td><td>&hellip;</td><td>&hellip;</td><td>&hellip;</td><td>&hellip;</td><td>&hellip;</td><td>&hellip;</td><td>&hellip;</td><td>&hellip;</td><td>&hellip;</td><td>&hellip;</td><td>&hellip;</td><td>&hellip;</td><td>&hellip;</td><td>&hellip;</td><td>&hellip;</td><td>&hellip;</td><td>&hellip;</td><td>&hellip;</td><td>&hellip;</td><td>&hellip;</td></tr><tr><td>&quot;L1&quot;</td><td>7431</td><td>2018-12-31</td><td>2018-12-31</td><td>1346</td><td>0</td><td>0</td><td>1</td><td>2018-12-31 07:00:00</td><td>2018-12-31 10:11:00</td><td>191.0</td><td>-300</td><td>0</td><td>1</td><td>4</td><td>1</td><td>2164</td><td>373</td><td>1</td><td>5</td><td>0</td><td>2.989814</td><td>3.129045</td><td>0.0466</td><td>1.18903</td><td>1.18903</td><td>364</td><td>12</td><td>31</td><td>1</td><td>1</td><td>187.97</td><td>0.098255</td><td>1921.217288</td></tr><tr><td>&quot;L1&quot;</td><td>981</td><td>2018-12-31</td><td>2018-12-31</td><td>3142</td><td>0</td><td>0</td><td>10</td><td>2018-12-31 18:49:00</td><td>2018-12-31 21:43:00</td><td>174.0</td><td>-360</td><td>0</td><td>4</td><td>6</td><td>1</td><td>1618</td><td>317</td><td>6</td><td>5</td><td>0</td><td>3.002688</td><td>3.497206</td><td>0.1647</td><td>0.765755</td><td>0.750565</td><td>364</td><td>12</td><td>31</td><td>1</td><td>1</td><td>169.94</td><td>0.083302</td><td>1789.859271</td></tr><tr><td>&quot;L1&quot;</td><td>1283</td><td>2018-12-31</td><td>2018-12-31</td><td>1111</td><td>0</td><td>0</td><td>11</td><td>2018-12-31 10:50:00</td><td>2018-12-31 12:20:00</td><td>90.0</td><td>-480</td><td>0</td><td>2</td><td>21</td><td>5</td><td>5817</td><td>288</td><td>7</td><td>3</td><td>0</td><td>2.764942</td><td>3.045714</td><td>0.1015</td><td>1.39652</td><td>1.437817</td><td>364</td><td>12</td><td>31</td><td>1</td><td>1</td><td>95.68</td><td>0.107079</td><td>1150.82886</td></tr><tr><td>&quot;L1&quot;</td><td>7588</td><td>2018-12-31</td><td>2018-12-31</td><td>1111</td><td>0</td><td>0</td><td>11</td><td>2018-12-31 22:52:00</td><td>2019-01-01 00:26:00</td><td>94.0</td><td>-480</td><td>1</td><td>5</td><td>21</td><td>3</td><td>5817</td><td>288</td><td>7</td><td>3</td><td>0</td><td>2.764942</td><td>3.045714</td><td>0.1015</td><td>1.39652</td><td>1.437817</td><td>364</td><td>12</td><td>31</td><td>1</td><td>1</td><td>95.68</td><td>0.108987</td><td>1164.892572</td></tr><tr><td>&quot;L1&quot;</td><td>5135</td><td>2018-12-31</td><td>2018-12-31</td><td>1924</td><td>0</td><td>0</td><td>7</td><td>2018-12-31 07:25:00</td><td>2018-12-31 08:42:00</td><td>77.0</td><td>-360</td><td>0</td><td>1</td><td>8</td><td>3</td><td>3070</td><td>272</td><td>5</td><td>0</td><td>0</td><td>2.860323</td><td>3.284205</td><td>0.1482</td><td>0.955206</td><td>0.941661</td><td>364</td><td>12</td><td>31</td><td>1</td><td>1</td><td>74.72</td><td>0.087399</td><td>1289.174101</td></tr><tr><td>&quot;L1&quot;</td><td>3120</td><td>2018-12-31</td><td>2018-12-31</td><td>1111</td><td>0</td><td>0</td><td>11</td><td>2018-12-31 16:28:00</td><td>2018-12-31 17:58:00</td><td>90.0</td><td>-480</td><td>0</td><td>4</td><td>21</td><td>7</td><td>5817</td><td>288</td><td>7</td><td>3</td><td>0</td><td>2.764942</td><td>3.045714</td><td>0.1015</td><td>1.39652</td><td>1.437817</td><td>364</td><td>12</td><td>31</td><td>1</td><td>1</td><td>95.68</td><td>0.107079</td><td>1150.82886</td></tr><tr><td>&quot;U1&quot;</td><td>2388</td><td>2018-12-31</td><td>2018-12-31</td><td>1111</td><td>0</td><td>0</td><td>11</td><td>2018-12-31 09:25:00</td><td>2018-12-31 10:52:00</td><td>87.0</td><td>-480</td><td>0</td><td>2</td><td>21</td><td>5</td><td>5817</td><td>253</td><td>7</td><td>3</td><td>0</td><td>2.75394</td><td>3.045714</td><td>0.1059</td><td>1.39652</td><td>1.361866</td><td>364</td><td>12</td><td>31</td><td>1</td><td>1</td><td>94.73</td><td>0.110301</td><td>1142.095341</td></tr><tr><td>&quot;L1&quot;</td><td>6294</td><td>2018-12-31</td><td>2018-12-31</td><td>2037</td><td>0</td><td>0</td><td>3</td><td>2018-12-31 13:43:00</td><td>2018-12-31 18:45:00</td><td>302.0</td><td>-480</td><td>0</td><td>3</td><td>7</td><td>2</td><td>2790</td><td>405</td><td>3</td><td>2</td><td>0</td><td>2.969416</td><td>3.308991</td><td>0.1144</td><td>0.742479</td><td>0.679592</td><td>364</td><td>12</td><td>31</td><td>1</td><td>1</td><td>297.2</td><td>0.087063</td><td>1690.211574</td></tr><tr><td>&quot;U1&quot;</td><td>6178</td><td>2018-12-31</td><td>2018-12-31</td><td>1111</td><td>0</td><td>0</td><td>5</td><td>2018-12-31 19:05:00</td><td>2018-12-31 20:44:00</td><td>99.0</td><td>-480</td><td>0</td><td>4</td><td>21</td><td>7</td><td>5817</td><td>252</td><td>3</td><td>7</td><td>0</td><td>2.794668</td><td>3.045714</td><td>0.0898</td><td>0.761084</td><td>0.800342</td><td>364</td><td>12</td><td>31</td><td>1</td><td>1</td><td>97.77</td><td>0.077469</td><td>1026.049491</td></tr><tr><td>&quot;L1&quot;</td><td>10926</td><td>2018-12-31</td><td>2018-12-31</td><td>3142</td><td>0</td><td>0</td><td>10</td><td>2018-12-31 15:50:00</td><td>2018-12-31 18:49:00</td><td>179.0</td><td>-360</td><td>0</td><td>3</td><td>6</td><td>3</td><td>1618</td><td>317</td><td>6</td><td>5</td><td>0</td><td>3.002688</td><td>3.497206</td><td>0.1647</td><td>0.765755</td><td>0.750565</td><td>364</td><td>12</td><td>31</td><td>1</td><td>1</td><td>169.94</td><td>0.083302</td><td>1789.859271</td></tr></tbody></table></div>"
      ],
      "text/plain": [
       "shape: (268_233, 34)\n",
       "┌─────────┬─────────┬────────────┬────────────┬───┬────────────┬──────────┬────────────┬───────────┐\n",
       "│ carrier ┆ flt_num ┆ flt_depart ┆ observatio ┆ … ┆ flt_depart ┆ dur_mean ┆ pred_scale ┆ pred_fare │\n",
       "│ ---     ┆ ---     ┆ ure_dt     ┆ n_date     ┆   ┆ ure_weekda ┆ ---      ┆ d_fare     ┆ ---       │\n",
       "│ str     ┆ i64     ┆ ---        ┆ ---        ┆   ┆ y          ┆ f64      ┆ ---        ┆ f64       │\n",
       "│         ┆         ┆ date       ┆ date       ┆   ┆ ---        ┆          ┆ f64        ┆           │\n",
       "│         ┆         ┆            ┆            ┆   ┆ i8         ┆          ┆            ┆           │\n",
       "╞═════════╪═════════╪════════════╪════════════╪═══╪════════════╪══════════╪════════════╪═══════════╡\n",
       "│ U1      ┆ 6184    ┆ 2018-11-01 ┆ 2018-02-14 ┆ … ┆ 4          ┆ 97.77    ┆ -0.04227   ┆ 474.83004 │\n",
       "│         ┆         ┆            ┆            ┆   ┆            ┆          ┆            ┆ 7         │\n",
       "│ L1      ┆ 2444    ┆ 2018-11-01 ┆ 2018-02-14 ┆ … ┆ 4          ┆ 97.69    ┆ -0.045792  ┆ 465.12365 │\n",
       "│         ┆         ┆            ┆            ┆   ┆            ┆          ┆            ┆ 4         │\n",
       "│ U1      ┆ 6134    ┆ 2018-11-01 ┆ 2018-02-14 ┆ … ┆ 4          ┆ 97.77    ┆ -0.04227   ┆ 474.83004 │\n",
       "│         ┆         ┆            ┆            ┆   ┆            ┆          ┆            ┆ 7         │\n",
       "│ L1      ┆ 1575    ┆ 2018-11-01 ┆ 2018-02-14 ┆ … ┆ 4          ┆ 97.69    ┆ -0.045792  ┆ 465.12365 │\n",
       "│         ┆         ┆            ┆            ┆   ┆            ┆          ┆            ┆ 4         │\n",
       "│ L1      ┆ 5811    ┆ 2018-11-01 ┆ 2018-02-14 ┆ … ┆ 4          ┆ 97.69    ┆ -0.045792  ┆ 465.12365 │\n",
       "│         ┆         ┆            ┆            ┆   ┆            ┆          ┆            ┆ 4         │\n",
       "│ L1      ┆ 18973   ┆ 2018-11-01 ┆ 2018-02-14 ┆ … ┆ 4          ┆ 97.69    ┆ -0.045792  ┆ 465.12365 │\n",
       "│         ┆         ┆            ┆            ┆   ┆            ┆          ┆            ┆ 4         │\n",
       "│ L1      ┆ 5675    ┆ 2018-11-01 ┆ 2018-02-14 ┆ … ┆ 4          ┆ 97.69    ┆ -0.045792  ┆ 465.12365 │\n",
       "│         ┆         ┆            ┆            ┆   ┆            ┆          ┆            ┆ 4         │\n",
       "│ U1      ┆ 6153    ┆ 2018-11-01 ┆ 2018-02-14 ┆ … ┆ 4          ┆ 97.77    ┆ -0.04227   ┆ 474.83004 │\n",
       "│         ┆         ┆            ┆            ┆   ┆            ┆          ┆            ┆ 7         │\n",
       "│ U1      ┆ 6178    ┆ 2018-11-01 ┆ 2018-02-14 ┆ … ┆ 4          ┆ 97.77    ┆ -0.04227   ┆ 474.83004 │\n",
       "│         ┆         ┆            ┆            ┆   ┆            ┆          ┆            ┆ 7         │\n",
       "│ U1      ┆ 6146    ┆ 2018-11-01 ┆ 2018-02-14 ┆ … ┆ 4          ┆ 97.77    ┆ -0.04227   ┆ 474.83004 │\n",
       "│         ┆         ┆            ┆            ┆   ┆            ┆          ┆            ┆ 7         │\n",
       "│ …       ┆ …       ┆ …          ┆ …          ┆ … ┆ …          ┆ …        ┆ …          ┆ …         │\n",
       "│ L1      ┆ 7431    ┆ 2018-12-31 ┆ 2018-12-31 ┆ … ┆ 1          ┆ 187.97   ┆ 0.098255   ┆ 1921.2172 │\n",
       "│         ┆         ┆            ┆            ┆   ┆            ┆          ┆            ┆ 88        │\n",
       "│ L1      ┆ 981     ┆ 2018-12-31 ┆ 2018-12-31 ┆ … ┆ 1          ┆ 169.94   ┆ 0.083302   ┆ 1789.8592 │\n",
       "│         ┆         ┆            ┆            ┆   ┆            ┆          ┆            ┆ 71        │\n",
       "│ L1      ┆ 1283    ┆ 2018-12-31 ┆ 2018-12-31 ┆ … ┆ 1          ┆ 95.68    ┆ 0.107079   ┆ 1150.8288 │\n",
       "│         ┆         ┆            ┆            ┆   ┆            ┆          ┆            ┆ 6         │\n",
       "│ L1      ┆ 7588    ┆ 2018-12-31 ┆ 2018-12-31 ┆ … ┆ 1          ┆ 95.68    ┆ 0.108987   ┆ 1164.8925 │\n",
       "│         ┆         ┆            ┆            ┆   ┆            ┆          ┆            ┆ 72        │\n",
       "│ L1      ┆ 5135    ┆ 2018-12-31 ┆ 2018-12-31 ┆ … ┆ 1          ┆ 74.72    ┆ 0.087399   ┆ 1289.1741 │\n",
       "│         ┆         ┆            ┆            ┆   ┆            ┆          ┆            ┆ 01        │\n",
       "│ L1      ┆ 3120    ┆ 2018-12-31 ┆ 2018-12-31 ┆ … ┆ 1          ┆ 95.68    ┆ 0.107079   ┆ 1150.8288 │\n",
       "│         ┆         ┆            ┆            ┆   ┆            ┆          ┆            ┆ 6         │\n",
       "│ U1      ┆ 2388    ┆ 2018-12-31 ┆ 2018-12-31 ┆ … ┆ 1          ┆ 94.73    ┆ 0.110301   ┆ 1142.0953 │\n",
       "│         ┆         ┆            ┆            ┆   ┆            ┆          ┆            ┆ 41        │\n",
       "│ L1      ┆ 6294    ┆ 2018-12-31 ┆ 2018-12-31 ┆ … ┆ 1          ┆ 297.2    ┆ 0.087063   ┆ 1690.2115 │\n",
       "│         ┆         ┆            ┆            ┆   ┆            ┆          ┆            ┆ 74        │\n",
       "│ U1      ┆ 6178    ┆ 2018-12-31 ┆ 2018-12-31 ┆ … ┆ 1          ┆ 97.77    ┆ 0.077469   ┆ 1026.0494 │\n",
       "│         ┆         ┆            ┆            ┆   ┆            ┆          ┆            ┆ 91        │\n",
       "│ L1      ┆ 10926   ┆ 2018-12-31 ┆ 2018-12-31 ┆ … ┆ 1          ┆ 169.94   ┆ 0.083302   ┆ 1789.8592 │\n",
       "│         ┆         ┆            ┆            ┆   ┆            ┆          ┆            ┆ 71        │\n",
       "└─────────┴─────────┴────────────┴────────────┴───┴────────────┴──────────┴────────────┴───────────┘"
      ]
     },
     "execution_count": 37,
     "metadata": {},
     "output_type": "execute_result"
    }
   ],
   "source": [
    "val_df = val_df.with_columns(\n",
    "    pred_scaled_fare = best_model.predict(X_val)\n",
    ").with_columns(pred_fare_expr)\n",
    "\n",
    "val_df"
   ]
  },
  {
   "cell_type": "markdown",
   "metadata": {},
   "source": [
    "#### Metrics"
   ]
  },
  {
   "cell_type": "code",
   "execution_count": 38,
   "metadata": {},
   "outputs": [
    {
     "name": "stdout",
     "output_type": "stream",
     "text": [
      "Train - LR\n",
      "RMSE: 324.9103\n",
      "MAE: 171.7108\n",
      "R2: 50.973%\n",
      "\n",
      "Val - LR\n",
      "RMSE: 810.2965\n",
      "MAE: 282.0851\n",
      "R2: 7.596%\n",
      "\n"
     ]
    }
   ],
   "source": [
    "print_metrics(\n",
    "    train_df['total_fare'], train_df['pred_fare'],\n",
    "    label = 'Train - LR'\n",
    ")\n",
    "\n",
    "print_metrics(\n",
    "    val_df['total_fare'], val_df['pred_fare'],\n",
    "    label = 'Val - LR'\n",
    ")"
   ]
  },
  {
   "cell_type": "code",
   "execution_count": 39,
   "metadata": {},
   "outputs": [
    {
     "data": {
      "text/html": [
       "<div><style>\n",
       ".dataframe > thead > tr,\n",
       ".dataframe > tbody > tr {\n",
       "  text-align: right;\n",
       "  white-space: pre-wrap;\n",
       "}\n",
       "</style>\n",
       "<small>shape: (14, 2)</small><table border=\"1\" class=\"dataframe\"><thead><tr><th>Feature</th><th>FI</th></tr><tr><td>str</td><td>f64</td></tr></thead><tbody><tr><td>&quot;remainder__flt_info_null&quot;</td><td>0.0</td></tr><tr><td>&quot;remainder__is_dst&quot;</td><td>0.0</td></tr><tr><td>&quot;remainder__flt_departure_month&quot;</td><td>0.000586</td></tr><tr><td>&quot;remainder__flt_departure_week&quot;</td><td>0.002109</td></tr><tr><td>&quot;remainder__flt_departure_day&quot;</td><td>0.003088</td></tr><tr><td>&quot;ord__carrier&quot;</td><td>0.009426</td></tr><tr><td>&quot;remainder__destination_id&quot;</td><td>0.0151</td></tr><tr><td>&quot;remainder__origin_id&quot;</td><td>0.029959</td></tr><tr><td>&quot;remainder__dur_min&quot;</td><td>0.046449</td></tr><tr><td>&quot;remainder__days_since_start&quot;</td><td>0.086919</td></tr><tr><td>&quot;remainder__flt_departure_weekd…</td><td>0.088384</td></tr><tr><td>&quot;remainder__7d_route_avg&quot;</td><td>0.136488</td></tr><tr><td>&quot;remainder__7d_route_carrier_av…</td><td>0.145158</td></tr><tr><td>&quot;remainder__days_till_flight&quot;</td><td>0.436335</td></tr></tbody></table></div>"
      ],
      "text/plain": [
       "shape: (14, 2)\n",
       "┌─────────────────────────────────┬──────────┐\n",
       "│ Feature                         ┆ FI       │\n",
       "│ ---                             ┆ ---      │\n",
       "│ str                             ┆ f64      │\n",
       "╞═════════════════════════════════╪══════════╡\n",
       "│ remainder__flt_info_null        ┆ 0.0      │\n",
       "│ remainder__is_dst               ┆ 0.0      │\n",
       "│ remainder__flt_departure_month  ┆ 0.000586 │\n",
       "│ remainder__flt_departure_week   ┆ 0.002109 │\n",
       "│ remainder__flt_departure_day    ┆ 0.003088 │\n",
       "│ ord__carrier                    ┆ 0.009426 │\n",
       "│ remainder__destination_id       ┆ 0.0151   │\n",
       "│ remainder__origin_id            ┆ 0.029959 │\n",
       "│ remainder__dur_min              ┆ 0.046449 │\n",
       "│ remainder__days_since_start     ┆ 0.086919 │\n",
       "│ remainder__flt_departure_weekd… ┆ 0.088384 │\n",
       "│ remainder__7d_route_avg         ┆ 0.136488 │\n",
       "│ remainder__7d_route_carrier_av… ┆ 0.145158 │\n",
       "│ remainder__days_till_flight     ┆ 0.436335 │\n",
       "└─────────────────────────────────┴──────────┘"
      ]
     },
     "execution_count": 39,
     "metadata": {},
     "output_type": "execute_result"
    }
   ],
   "source": [
    "pl.DataFrame({\n",
    "    \"Feature\": best_model['gbr'].feature_names_in_,\n",
    "    \"FI\": best_model['gbr'].feature_importances_\n",
    "}).sort(\"FI\")"
   ]
  },
  {
   "cell_type": "code",
   "execution_count": null,
   "metadata": {},
   "outputs": [],
   "source": []
  }
 ],
 "metadata": {
  "kernelspec": {
   "display_name": "Python 3",
   "language": "python",
   "name": "python3"
  },
  "language_info": {
   "codemirror_mode": {
    "name": "ipython",
    "version": 3
   },
   "file_extension": ".py",
   "mimetype": "text/x-python",
   "name": "python",
   "nbconvert_exporter": "python",
   "pygments_lexer": "ipython3",
   "version": "3.11.6"
  }
 },
 "nbformat": 4,
 "nbformat_minor": 2
}
