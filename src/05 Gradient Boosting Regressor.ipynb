{
 "cells": [
  {
   "cell_type": "markdown",
   "metadata": {},
   "source": [
    "# Gradient boosting regressor"
   ]
  },
  {
   "cell_type": "markdown",
   "metadata": {},
   "source": [
    "## Imports"
   ]
  },
  {
   "cell_type": "code",
   "execution_count": 1,
   "metadata": {},
   "outputs": [],
   "source": [
    "import numpy as np\n",
    "import polars as pl\n",
    "import seaborn as sns\n",
    "from matplotlib import pyplot as plt\n",
    "from sklearn.preprocessing import OrdinalEncoder\n",
    "from sklearn.ensemble import GradientBoostingRegressor\n",
    "from sklearn.compose import ColumnTransformer\n",
    "from sklearn.pipeline import Pipeline\n",
    "from sklearn.model_selection import ParameterSampler\n",
    "from sklearn.metrics import root_mean_squared_error\n",
    "from sklearn import set_config\n",
    "\n",
    "from utils import PROCESSED_DATA_DIR, VALIDATION_CUTOFF, print_metrics\n",
    "\n",
    "pl.Config.set_tbl_rows(20)\n",
    "set_config(transform_output = \"pandas\")"
   ]
  },
  {
   "cell_type": "markdown",
   "metadata": {},
   "source": [
    "## Data loading"
   ]
  },
  {
   "cell_type": "code",
   "execution_count": 2,
   "metadata": {},
   "outputs": [
    {
     "data": {
      "text/html": [
       "<div><style>\n",
       ".dataframe > thead > tr,\n",
       ".dataframe > tbody > tr {\n",
       "  text-align: right;\n",
       "  white-space: pre-wrap;\n",
       "}\n",
       "</style>\n",
       "<small>shape: (1_698_818, 21)</small><table border=\"1\" class=\"dataframe\"><thead><tr><th>carrier</th><th>flt_num</th><th>flt_departure_dt</th><th>observation_date</th><th>total_fare</th><th>days_till_flight</th><th>is_dst</th><th>route_id</th><th>flt_departure_local_time</th><th>flt_arrival_local_time</th><th>dur_min</th><th>tz_min</th><th>over_mn</th><th>dpt_4h_od</th><th>flt_count_dpt_24h</th><th>flt_count_dpt_4h</th><th>scaled_demand</th><th>scaled_share</th><th>origin_id</th><th>destination_id</th><th>flt_info_null</th></tr><tr><td>str</td><td>i64</td><td>date</td><td>date</td><td>i64</td><td>i16</td><td>i8</td><td>u8</td><td>datetime[ns]</td><td>datetime[ns]</td><td>i16</td><td>i16</td><td>i8</td><td>i8</td><td>u8</td><td>u8</td><td>i64</td><td>i64</td><td>u8</td><td>u8</td><td>u8</td></tr></thead><tbody><tr><td>&quot;U1&quot;</td><td>6143</td><td>2018-01-01</td><td>2017-11-27</td><td>469</td><td>35</td><td>0</td><td>11</td><td>null</td><td>null</td><td>null</td><td>null</td><td>null</td><td>null</td><td>null</td><td>null</td><td>null</td><td>null</td><td>7</td><td>3</td><td>1</td></tr><tr><td>&quot;L1&quot;</td><td>5927</td><td>2018-01-01</td><td>2017-11-27</td><td>1119</td><td>35</td><td>0</td><td>1</td><td>2018-01-01 20:33:00</td><td>2018-01-01 23:50:00</td><td>197</td><td>-300</td><td>0</td><td>5</td><td>5</td><td>1</td><td>1468</td><td>360</td><td>1</td><td>5</td><td>0</td></tr><tr><td>&quot;L3&quot;</td><td>18075</td><td>2018-01-01</td><td>2017-11-27</td><td>422</td><td>35</td><td>0</td><td>6</td><td>2018-01-01 13:20:00</td><td>2018-01-01 14:35:00</td><td>75</td><td>-480</td><td>0</td><td>3</td><td>30</td><td>9</td><td>6659</td><td>228</td><td>4</td><td>3</td><td>0</td></tr><tr><td>&quot;OTH&quot;</td><td>2416</td><td>2018-01-01</td><td>2017-11-27</td><td>787</td><td>35</td><td>0</td><td>4</td><td>2018-01-01 20:22:00</td><td>2018-01-01 21:46:00</td><td>84</td><td>-480</td><td>0</td><td>5</td><td>30</td><td>4</td><td>6659</td><td>316</td><td>3</td><td>4</td><td>0</td></tr><tr><td>&quot;L3&quot;</td><td>18270</td><td>2018-01-01</td><td>2017-11-27</td><td>1298</td><td>35</td><td>0</td><td>4</td><td>2018-01-01 11:17:00</td><td>2018-01-01 12:40:00</td><td>83</td><td>-480</td><td>0</td><td>2</td><td>30</td><td>5</td><td>6659</td><td>231</td><td>3</td><td>4</td><td>0</td></tr><tr><td>&quot;L1&quot;</td><td>1396</td><td>2018-01-01</td><td>2017-11-27</td><td>372</td><td>35</td><td>0</td><td>11</td><td>2018-01-01 19:35:00</td><td>2018-01-01 21:08:00</td><td>93</td><td>-480</td><td>0</td><td>4</td><td>21</td><td>7</td><td>6579</td><td>262</td><td>7</td><td>3</td><td>0</td></tr><tr><td>&quot;U1&quot;</td><td>4771</td><td>2018-01-01</td><td>2017-11-27</td><td>513</td><td>35</td><td>0</td><td>4</td><td>null</td><td>null</td><td>null</td><td>null</td><td>null</td><td>null</td><td>null</td><td>null</td><td>null</td><td>null</td><td>3</td><td>4</td><td>1</td></tr><tr><td>&quot;OTH&quot;</td><td>4825</td><td>2018-01-01</td><td>2017-11-27</td><td>432</td><td>35</td><td>0</td><td>6</td><td>2018-01-01 12:55:00</td><td>2018-01-01 14:07:00</td><td>72</td><td>-480</td><td>0</td><td>3</td><td>30</td><td>9</td><td>6659</td><td>316</td><td>4</td><td>3</td><td>0</td></tr><tr><td>&quot;OTH&quot;</td><td>6175</td><td>2018-01-01</td><td>2017-11-27</td><td>341</td><td>35</td><td>0</td><td>11</td><td>2018-01-01 18:55:00</td><td>2018-01-01 20:23:00</td><td>88</td><td>-480</td><td>0</td><td>4</td><td>21</td><td>7</td><td>6579</td><td>354</td><td>7</td><td>3</td><td>0</td></tr><tr><td>&quot;U1&quot;</td><td>6187</td><td>2018-01-01</td><td>2017-11-27</td><td>341</td><td>35</td><td>0</td><td>11</td><td>null</td><td>null</td><td>null</td><td>null</td><td>null</td><td>null</td><td>null</td><td>null</td><td>null</td><td>null</td><td>7</td><td>3</td><td>1</td></tr><tr><td>&hellip;</td><td>&hellip;</td><td>&hellip;</td><td>&hellip;</td><td>&hellip;</td><td>&hellip;</td><td>&hellip;</td><td>&hellip;</td><td>&hellip;</td><td>&hellip;</td><td>&hellip;</td><td>&hellip;</td><td>&hellip;</td><td>&hellip;</td><td>&hellip;</td><td>&hellip;</td><td>&hellip;</td><td>&hellip;</td><td>&hellip;</td><td>&hellip;</td><td>&hellip;</td></tr><tr><td>&quot;L1&quot;</td><td>7431</td><td>2018-12-31</td><td>2018-12-31</td><td>1346</td><td>0</td><td>0</td><td>1</td><td>2018-12-31 07:00:00</td><td>2018-12-31 10:11:00</td><td>191</td><td>-300</td><td>0</td><td>1</td><td>4</td><td>1</td><td>2164</td><td>373</td><td>1</td><td>5</td><td>0</td></tr><tr><td>&quot;L1&quot;</td><td>981</td><td>2018-12-31</td><td>2018-12-31</td><td>3142</td><td>0</td><td>0</td><td>10</td><td>2018-12-31 18:49:00</td><td>2018-12-31 21:43:00</td><td>174</td><td>-360</td><td>0</td><td>4</td><td>6</td><td>1</td><td>1618</td><td>317</td><td>6</td><td>5</td><td>0</td></tr><tr><td>&quot;L1&quot;</td><td>1283</td><td>2018-12-31</td><td>2018-12-31</td><td>1111</td><td>0</td><td>0</td><td>11</td><td>2018-12-31 10:50:00</td><td>2018-12-31 12:20:00</td><td>90</td><td>-480</td><td>0</td><td>2</td><td>21</td><td>5</td><td>5817</td><td>288</td><td>7</td><td>3</td><td>0</td></tr><tr><td>&quot;L1&quot;</td><td>7588</td><td>2018-12-31</td><td>2018-12-31</td><td>1111</td><td>0</td><td>0</td><td>11</td><td>2018-12-31 22:52:00</td><td>2019-01-01 00:26:00</td><td>94</td><td>-480</td><td>1</td><td>5</td><td>21</td><td>3</td><td>5817</td><td>288</td><td>7</td><td>3</td><td>0</td></tr><tr><td>&quot;L1&quot;</td><td>5135</td><td>2018-12-31</td><td>2018-12-31</td><td>1924</td><td>0</td><td>0</td><td>7</td><td>2018-12-31 07:25:00</td><td>2018-12-31 08:42:00</td><td>77</td><td>-360</td><td>0</td><td>1</td><td>8</td><td>3</td><td>3070</td><td>272</td><td>5</td><td>0</td><td>0</td></tr><tr><td>&quot;L1&quot;</td><td>3120</td><td>2018-12-31</td><td>2018-12-31</td><td>1111</td><td>0</td><td>0</td><td>11</td><td>2018-12-31 16:28:00</td><td>2018-12-31 17:58:00</td><td>90</td><td>-480</td><td>0</td><td>4</td><td>21</td><td>7</td><td>5817</td><td>288</td><td>7</td><td>3</td><td>0</td></tr><tr><td>&quot;U1&quot;</td><td>2388</td><td>2018-12-31</td><td>2018-12-31</td><td>1111</td><td>0</td><td>0</td><td>11</td><td>2018-12-31 09:25:00</td><td>2018-12-31 10:52:00</td><td>87</td><td>-480</td><td>0</td><td>2</td><td>21</td><td>5</td><td>5817</td><td>253</td><td>7</td><td>3</td><td>0</td></tr><tr><td>&quot;L1&quot;</td><td>6294</td><td>2018-12-31</td><td>2018-12-31</td><td>2037</td><td>0</td><td>0</td><td>3</td><td>2018-12-31 13:43:00</td><td>2018-12-31 18:45:00</td><td>302</td><td>-480</td><td>0</td><td>3</td><td>7</td><td>2</td><td>2790</td><td>405</td><td>3</td><td>2</td><td>0</td></tr><tr><td>&quot;U1&quot;</td><td>6178</td><td>2018-12-31</td><td>2018-12-31</td><td>1111</td><td>0</td><td>0</td><td>5</td><td>2018-12-31 19:05:00</td><td>2018-12-31 20:44:00</td><td>99</td><td>-480</td><td>0</td><td>4</td><td>21</td><td>7</td><td>5817</td><td>252</td><td>3</td><td>7</td><td>0</td></tr><tr><td>&quot;L1&quot;</td><td>10926</td><td>2018-12-31</td><td>2018-12-31</td><td>3142</td><td>0</td><td>0</td><td>10</td><td>2018-12-31 15:50:00</td><td>2018-12-31 18:49:00</td><td>179</td><td>-360</td><td>0</td><td>3</td><td>6</td><td>3</td><td>1618</td><td>317</td><td>6</td><td>5</td><td>0</td></tr></tbody></table></div>"
      ],
      "text/plain": [
       "shape: (1_698_818, 21)\n",
       "┌─────────┬─────────┬────────────┬────────────┬───┬────────────┬───────────┬───────────┬───────────┐\n",
       "│ carrier ┆ flt_num ┆ flt_depart ┆ observatio ┆ … ┆ scaled_sha ┆ origin_id ┆ destinati ┆ flt_info_ │\n",
       "│ ---     ┆ ---     ┆ ure_dt     ┆ n_date     ┆   ┆ re         ┆ ---       ┆ on_id     ┆ null      │\n",
       "│ str     ┆ i64     ┆ ---        ┆ ---        ┆   ┆ ---        ┆ u8        ┆ ---       ┆ ---       │\n",
       "│         ┆         ┆ date       ┆ date       ┆   ┆ i64        ┆           ┆ u8        ┆ u8        │\n",
       "╞═════════╪═════════╪════════════╪════════════╪═══╪════════════╪═══════════╪═══════════╪═══════════╡\n",
       "│ U1      ┆ 6143    ┆ 2018-01-01 ┆ 2017-11-27 ┆ … ┆ null       ┆ 7         ┆ 3         ┆ 1         │\n",
       "│ L1      ┆ 5927    ┆ 2018-01-01 ┆ 2017-11-27 ┆ … ┆ 360        ┆ 1         ┆ 5         ┆ 0         │\n",
       "│ L3      ┆ 18075   ┆ 2018-01-01 ┆ 2017-11-27 ┆ … ┆ 228        ┆ 4         ┆ 3         ┆ 0         │\n",
       "│ OTH     ┆ 2416    ┆ 2018-01-01 ┆ 2017-11-27 ┆ … ┆ 316        ┆ 3         ┆ 4         ┆ 0         │\n",
       "│ L3      ┆ 18270   ┆ 2018-01-01 ┆ 2017-11-27 ┆ … ┆ 231        ┆ 3         ┆ 4         ┆ 0         │\n",
       "│ L1      ┆ 1396    ┆ 2018-01-01 ┆ 2017-11-27 ┆ … ┆ 262        ┆ 7         ┆ 3         ┆ 0         │\n",
       "│ U1      ┆ 4771    ┆ 2018-01-01 ┆ 2017-11-27 ┆ … ┆ null       ┆ 3         ┆ 4         ┆ 1         │\n",
       "│ OTH     ┆ 4825    ┆ 2018-01-01 ┆ 2017-11-27 ┆ … ┆ 316        ┆ 4         ┆ 3         ┆ 0         │\n",
       "│ OTH     ┆ 6175    ┆ 2018-01-01 ┆ 2017-11-27 ┆ … ┆ 354        ┆ 7         ┆ 3         ┆ 0         │\n",
       "│ U1      ┆ 6187    ┆ 2018-01-01 ┆ 2017-11-27 ┆ … ┆ null       ┆ 7         ┆ 3         ┆ 1         │\n",
       "│ …       ┆ …       ┆ …          ┆ …          ┆ … ┆ …          ┆ …         ┆ …         ┆ …         │\n",
       "│ L1      ┆ 7431    ┆ 2018-12-31 ┆ 2018-12-31 ┆ … ┆ 373        ┆ 1         ┆ 5         ┆ 0         │\n",
       "│ L1      ┆ 981     ┆ 2018-12-31 ┆ 2018-12-31 ┆ … ┆ 317        ┆ 6         ┆ 5         ┆ 0         │\n",
       "│ L1      ┆ 1283    ┆ 2018-12-31 ┆ 2018-12-31 ┆ … ┆ 288        ┆ 7         ┆ 3         ┆ 0         │\n",
       "│ L1      ┆ 7588    ┆ 2018-12-31 ┆ 2018-12-31 ┆ … ┆ 288        ┆ 7         ┆ 3         ┆ 0         │\n",
       "│ L1      ┆ 5135    ┆ 2018-12-31 ┆ 2018-12-31 ┆ … ┆ 272        ┆ 5         ┆ 0         ┆ 0         │\n",
       "│ L1      ┆ 3120    ┆ 2018-12-31 ┆ 2018-12-31 ┆ … ┆ 288        ┆ 7         ┆ 3         ┆ 0         │\n",
       "│ U1      ┆ 2388    ┆ 2018-12-31 ┆ 2018-12-31 ┆ … ┆ 253        ┆ 7         ┆ 3         ┆ 0         │\n",
       "│ L1      ┆ 6294    ┆ 2018-12-31 ┆ 2018-12-31 ┆ … ┆ 405        ┆ 3         ┆ 2         ┆ 0         │\n",
       "│ U1      ┆ 6178    ┆ 2018-12-31 ┆ 2018-12-31 ┆ … ┆ 252        ┆ 3         ┆ 7         ┆ 0         │\n",
       "│ L1      ┆ 10926   ┆ 2018-12-31 ┆ 2018-12-31 ┆ … ┆ 317        ┆ 6         ┆ 5         ┆ 0         │\n",
       "└─────────┴─────────┴────────────┴────────────┴───┴────────────┴───────────┴───────────┴───────────┘"
      ]
     },
     "execution_count": 2,
     "metadata": {},
     "output_type": "execute_result"
    }
   ],
   "source": [
    "processed_train_df = pl.read_parquet(\n",
    "    PROCESSED_DATA_DIR.joinpath('training', 'train_full.parquet')\n",
    ")\n",
    "\n",
    "processed_train_df"
   ]
  },
  {
   "cell_type": "code",
   "execution_count": 3,
   "metadata": {},
   "outputs": [
    {
     "data": {
      "text/html": [
       "<div><style>\n",
       ".dataframe > thead > tr,\n",
       ".dataframe > tbody > tr {\n",
       "  text-align: right;\n",
       "  white-space: pre-wrap;\n",
       "}\n",
       "</style>\n",
       "<small>shape: (9, 22)</small><table border=\"1\" class=\"dataframe\"><thead><tr><th>statistic</th><th>carrier</th><th>flt_num</th><th>flt_departure_dt</th><th>observation_date</th><th>total_fare</th><th>days_till_flight</th><th>is_dst</th><th>route_id</th><th>flt_departure_local_time</th><th>flt_arrival_local_time</th><th>dur_min</th><th>tz_min</th><th>over_mn</th><th>dpt_4h_od</th><th>flt_count_dpt_24h</th><th>flt_count_dpt_4h</th><th>scaled_demand</th><th>scaled_share</th><th>origin_id</th><th>destination_id</th><th>flt_info_null</th></tr><tr><td>str</td><td>str</td><td>f64</td><td>str</td><td>str</td><td>f64</td><td>f64</td><td>f64</td><td>f64</td><td>str</td><td>str</td><td>f64</td><td>f64</td><td>f64</td><td>f64</td><td>f64</td><td>f64</td><td>f64</td><td>f64</td><td>f64</td><td>f64</td><td>f64</td></tr></thead><tbody><tr><td>&quot;count&quot;</td><td>&quot;1698818&quot;</td><td>1.698818e6</td><td>&quot;1698818&quot;</td><td>&quot;1698818&quot;</td><td>1.698818e6</td><td>1.698818e6</td><td>1.698818e6</td><td>1.698818e6</td><td>&quot;1599704&quot;</td><td>&quot;1599704&quot;</td><td>1.599704e6</td><td>1.599704e6</td><td>1.599704e6</td><td>1.599704e6</td><td>1.599704e6</td><td>1.599704e6</td><td>1.598505e6</td><td>1.598505e6</td><td>1.698818e6</td><td>1.698818e6</td><td>1.698818e6</td></tr><tr><td>&quot;null_count&quot;</td><td>&quot;0&quot;</td><td>0.0</td><td>&quot;0&quot;</td><td>&quot;0&quot;</td><td>0.0</td><td>0.0</td><td>0.0</td><td>0.0</td><td>&quot;99114&quot;</td><td>&quot;99114&quot;</td><td>99114.0</td><td>99114.0</td><td>99114.0</td><td>99114.0</td><td>99114.0</td><td>99114.0</td><td>100313.0</td><td>100313.0</td><td>0.0</td><td>0.0</td><td>0.0</td></tr><tr><td>&quot;mean&quot;</td><td>null</td><td>5910.75087</td><td>&quot;2018-06-24&quot;</td><td>&quot;2018-06-07&quot;</td><td>710.461822</td><td>17.419005</td><td>0.695564</td><td>5.91818</td><td>&quot;2018-07-01 06:49:28.030135&quot;</td><td>&quot;2018-07-01 08:45:02.581152&quot;</td><td>115.57585</td><td>-405.751189</td><td>0.013588</td><td>2.93231</td><td>23.034132</td><td>5.301361</td><td>5721.521024</td><td>271.993762</td><td>3.944983</td><td>3.839782</td><td>0.058343</td></tr><tr><td>&quot;std&quot;</td><td>null</td><td>4285.440264</td><td>null</td><td>null</td><td>543.207638</td><td>12.959215</td><td>0.460168</td><td>2.968049</td><td>null</td><td>null</td><td>62.670552</td><td>62.255521</td><td>0.115774</td><td>1.260417</td><td>11.898872</td><td>2.971523</td><td>2358.75767</td><td>63.198466</td><td>1.690606</td><td>1.631242</td><td>0.234391</td></tr><tr><td>&quot;min&quot;</td><td>&quot;L1&quot;</td><td>174.0</td><td>&quot;2018-01-01&quot;</td><td>&quot;2017-11-27&quot;</td><td>234.0</td><td>0.0</td><td>0.0</td><td>0.0</td><td>&quot;2018-01-01 05:31:00&quot;</td><td>&quot;2018-01-01 07:02:00&quot;</td><td>60.0</td><td>-480.0</td><td>0.0</td><td>0.0</td><td>2.0</td><td>1.0</td><td>1378.0</td><td>165.0</td><td>0.0</td><td>0.0</td><td>0.0</td></tr><tr><td>&quot;25%&quot;</td><td>null</td><td>2724.0</td><td>&quot;2018-03-30&quot;</td><td>&quot;2018-03-12&quot;</td><td>395.0</td><td>8.0</td><td>0.0</td><td>4.0</td><td>&quot;2018-04-04 08:05:00&quot;</td><td>&quot;2018-04-04 10:37:00&quot;</td><td>78.0</td><td>-420.0</td><td>0.0</td><td>2.0</td><td>9.0</td><td>3.0</td><td>2864.0</td><td>223.0</td><td>3.0</td><td>3.0</td><td>0.0</td></tr><tr><td>&quot;50%&quot;</td><td>null</td><td>5280.0</td><td>&quot;2018-06-08&quot;</td><td>&quot;2018-05-22&quot;</td><td>552.0</td><td>16.0</td><td>1.0</td><td>6.0</td><td>&quot;2018-06-20 06:05:00&quot;</td><td>&quot;2018-06-20 07:57:00&quot;</td><td>89.0</td><td>-420.0</td><td>0.0</td><td>3.0</td><td>22.0</td><td>5.0</td><td>7022.0</td><td>270.0</td><td>4.0</td><td>3.0</td><td>0.0</td></tr><tr><td>&quot;75%&quot;</td><td>null</td><td>6759.0</td><td>&quot;2018-09-24&quot;</td><td>&quot;2018-09-06&quot;</td><td>825.0</td><td>26.0</td><td>1.0</td><td>8.0</td><td>&quot;2018-09-29 10:40:00&quot;</td><td>&quot;2018-09-29 12:28:00&quot;</td><td>106.0</td><td>-360.0</td><td>0.0</td><td>4.0</td><td>35.0</td><td>8.0</td><td>7578.0</td><td>308.0</td><td>5.0</td><td>5.0</td><td>0.0</td></tr><tr><td>&quot;max&quot;</td><td>&quot;U3&quot;</td><td>29555.0</td><td>&quot;2018-12-31&quot;</td><td>&quot;2018-12-31&quot;</td><td>7859.0</td><td>328.0</td><td>1.0</td><td>11.0</td><td>&quot;2018-12-31 22:52:00&quot;</td><td>&quot;2019-01-01 00:26:00&quot;</td><td>304.0</td><td>-240.0</td><td>1.0</td><td>5.0</td><td>43.0</td><td>12.0</td><td>8396.0</td><td>423.0</td><td>7.0</td><td>7.0</td><td>1.0</td></tr></tbody></table></div>"
      ],
      "text/plain": [
       "shape: (9, 22)\n",
       "┌────────────┬─────────┬───────────┬───────────┬───┬───────────┬───────────┬───────────┬───────────┐\n",
       "│ statistic  ┆ carrier ┆ flt_num   ┆ flt_depar ┆ … ┆ scaled_sh ┆ origin_id ┆ destinati ┆ flt_info_ │\n",
       "│ ---        ┆ ---     ┆ ---       ┆ ture_dt   ┆   ┆ are       ┆ ---       ┆ on_id     ┆ null      │\n",
       "│ str        ┆ str     ┆ f64       ┆ ---       ┆   ┆ ---       ┆ f64       ┆ ---       ┆ ---       │\n",
       "│            ┆         ┆           ┆ str       ┆   ┆ f64       ┆           ┆ f64       ┆ f64       │\n",
       "╞════════════╪═════════╪═══════════╪═══════════╪═══╪═══════════╪═══════════╪═══════════╪═══════════╡\n",
       "│ count      ┆ 1698818 ┆ 1.698818e ┆ 1698818   ┆ … ┆ 1.598505e ┆ 1.698818e ┆ 1.698818e ┆ 1.698818e │\n",
       "│            ┆         ┆ 6         ┆           ┆   ┆ 6         ┆ 6         ┆ 6         ┆ 6         │\n",
       "│ null_count ┆ 0       ┆ 0.0       ┆ 0         ┆ … ┆ 100313.0  ┆ 0.0       ┆ 0.0       ┆ 0.0       │\n",
       "│ mean       ┆ null    ┆ 5910.7508 ┆ 2018-06-2 ┆ … ┆ 271.99376 ┆ 3.944983  ┆ 3.839782  ┆ 0.058343  │\n",
       "│            ┆         ┆ 7         ┆ 4         ┆   ┆ 2         ┆           ┆           ┆           │\n",
       "│ std        ┆ null    ┆ 4285.4402 ┆ null      ┆ … ┆ 63.198466 ┆ 1.690606  ┆ 1.631242  ┆ 0.234391  │\n",
       "│            ┆         ┆ 64        ┆           ┆   ┆           ┆           ┆           ┆           │\n",
       "│ min        ┆ L1      ┆ 174.0     ┆ 2018-01-0 ┆ … ┆ 165.0     ┆ 0.0       ┆ 0.0       ┆ 0.0       │\n",
       "│            ┆         ┆           ┆ 1         ┆   ┆           ┆           ┆           ┆           │\n",
       "│ 25%        ┆ null    ┆ 2724.0    ┆ 2018-03-3 ┆ … ┆ 223.0     ┆ 3.0       ┆ 3.0       ┆ 0.0       │\n",
       "│            ┆         ┆           ┆ 0         ┆   ┆           ┆           ┆           ┆           │\n",
       "│ 50%        ┆ null    ┆ 5280.0    ┆ 2018-06-0 ┆ … ┆ 270.0     ┆ 4.0       ┆ 3.0       ┆ 0.0       │\n",
       "│            ┆         ┆           ┆ 8         ┆   ┆           ┆           ┆           ┆           │\n",
       "│ 75%        ┆ null    ┆ 6759.0    ┆ 2018-09-2 ┆ … ┆ 308.0     ┆ 5.0       ┆ 5.0       ┆ 0.0       │\n",
       "│            ┆         ┆           ┆ 4         ┆   ┆           ┆           ┆           ┆           │\n",
       "│ max        ┆ U3      ┆ 29555.0   ┆ 2018-12-3 ┆ … ┆ 423.0     ┆ 7.0       ┆ 7.0       ┆ 1.0       │\n",
       "│            ┆         ┆           ┆ 1         ┆   ┆           ┆           ┆           ┆           │\n",
       "└────────────┴─────────┴───────────┴───────────┴───┴───────────┴───────────┴───────────┴───────────┘"
      ]
     },
     "execution_count": 3,
     "metadata": {},
     "output_type": "execute_result"
    }
   ],
   "source": [
    "processed_train_df.describe()"
   ]
  },
  {
   "cell_type": "markdown",
   "metadata": {},
   "source": [
    "## Data processing"
   ]
  },
  {
   "cell_type": "markdown",
   "metadata": {},
   "source": [
    "### Train validation split"
   ]
  },
  {
   "cell_type": "code",
   "execution_count": 4,
   "metadata": {},
   "outputs": [
    {
     "data": {
      "text/html": [
       "<div><style>\n",
       ".dataframe > thead > tr,\n",
       ".dataframe > tbody > tr {\n",
       "  text-align: right;\n",
       "  white-space: pre-wrap;\n",
       "}\n",
       "</style>\n",
       "<small>shape: (1_556_671, 21)</small><table border=\"1\" class=\"dataframe\"><thead><tr><th>carrier</th><th>flt_num</th><th>flt_departure_dt</th><th>observation_date</th><th>total_fare</th><th>days_till_flight</th><th>is_dst</th><th>route_id</th><th>flt_departure_local_time</th><th>flt_arrival_local_time</th><th>dur_min</th><th>tz_min</th><th>over_mn</th><th>dpt_4h_od</th><th>flt_count_dpt_24h</th><th>flt_count_dpt_4h</th><th>scaled_demand</th><th>scaled_share</th><th>origin_id</th><th>destination_id</th><th>flt_info_null</th></tr><tr><td>str</td><td>i64</td><td>date</td><td>date</td><td>i64</td><td>i16</td><td>i8</td><td>u8</td><td>datetime[ns]</td><td>datetime[ns]</td><td>i16</td><td>i16</td><td>i8</td><td>i8</td><td>u8</td><td>u8</td><td>i64</td><td>i64</td><td>u8</td><td>u8</td><td>u8</td></tr></thead><tbody><tr><td>&quot;U1&quot;</td><td>6143</td><td>2018-01-01</td><td>2017-11-27</td><td>469</td><td>35</td><td>0</td><td>11</td><td>null</td><td>null</td><td>null</td><td>null</td><td>null</td><td>null</td><td>null</td><td>null</td><td>null</td><td>null</td><td>7</td><td>3</td><td>1</td></tr><tr><td>&quot;L1&quot;</td><td>5927</td><td>2018-01-01</td><td>2017-11-27</td><td>1119</td><td>35</td><td>0</td><td>1</td><td>2018-01-01 20:33:00</td><td>2018-01-01 23:50:00</td><td>197</td><td>-300</td><td>0</td><td>5</td><td>5</td><td>1</td><td>1468</td><td>360</td><td>1</td><td>5</td><td>0</td></tr><tr><td>&quot;L3&quot;</td><td>18075</td><td>2018-01-01</td><td>2017-11-27</td><td>422</td><td>35</td><td>0</td><td>6</td><td>2018-01-01 13:20:00</td><td>2018-01-01 14:35:00</td><td>75</td><td>-480</td><td>0</td><td>3</td><td>30</td><td>9</td><td>6659</td><td>228</td><td>4</td><td>3</td><td>0</td></tr><tr><td>&quot;OTH&quot;</td><td>2416</td><td>2018-01-01</td><td>2017-11-27</td><td>787</td><td>35</td><td>0</td><td>4</td><td>2018-01-01 20:22:00</td><td>2018-01-01 21:46:00</td><td>84</td><td>-480</td><td>0</td><td>5</td><td>30</td><td>4</td><td>6659</td><td>316</td><td>3</td><td>4</td><td>0</td></tr><tr><td>&quot;L3&quot;</td><td>18270</td><td>2018-01-01</td><td>2017-11-27</td><td>1298</td><td>35</td><td>0</td><td>4</td><td>2018-01-01 11:17:00</td><td>2018-01-01 12:40:00</td><td>83</td><td>-480</td><td>0</td><td>2</td><td>30</td><td>5</td><td>6659</td><td>231</td><td>3</td><td>4</td><td>0</td></tr><tr><td>&quot;L1&quot;</td><td>1396</td><td>2018-01-01</td><td>2017-11-27</td><td>372</td><td>35</td><td>0</td><td>11</td><td>2018-01-01 19:35:00</td><td>2018-01-01 21:08:00</td><td>93</td><td>-480</td><td>0</td><td>4</td><td>21</td><td>7</td><td>6579</td><td>262</td><td>7</td><td>3</td><td>0</td></tr><tr><td>&quot;U1&quot;</td><td>4771</td><td>2018-01-01</td><td>2017-11-27</td><td>513</td><td>35</td><td>0</td><td>4</td><td>null</td><td>null</td><td>null</td><td>null</td><td>null</td><td>null</td><td>null</td><td>null</td><td>null</td><td>null</td><td>3</td><td>4</td><td>1</td></tr><tr><td>&quot;OTH&quot;</td><td>4825</td><td>2018-01-01</td><td>2017-11-27</td><td>432</td><td>35</td><td>0</td><td>6</td><td>2018-01-01 12:55:00</td><td>2018-01-01 14:07:00</td><td>72</td><td>-480</td><td>0</td><td>3</td><td>30</td><td>9</td><td>6659</td><td>316</td><td>4</td><td>3</td><td>0</td></tr><tr><td>&quot;OTH&quot;</td><td>6175</td><td>2018-01-01</td><td>2017-11-27</td><td>341</td><td>35</td><td>0</td><td>11</td><td>2018-01-01 18:55:00</td><td>2018-01-01 20:23:00</td><td>88</td><td>-480</td><td>0</td><td>4</td><td>21</td><td>7</td><td>6579</td><td>354</td><td>7</td><td>3</td><td>0</td></tr><tr><td>&quot;U1&quot;</td><td>6187</td><td>2018-01-01</td><td>2017-11-27</td><td>341</td><td>35</td><td>0</td><td>11</td><td>null</td><td>null</td><td>null</td><td>null</td><td>null</td><td>null</td><td>null</td><td>null</td><td>null</td><td>null</td><td>7</td><td>3</td><td>1</td></tr><tr><td>&hellip;</td><td>&hellip;</td><td>&hellip;</td><td>&hellip;</td><td>&hellip;</td><td>&hellip;</td><td>&hellip;</td><td>&hellip;</td><td>&hellip;</td><td>&hellip;</td><td>&hellip;</td><td>&hellip;</td><td>&hellip;</td><td>&hellip;</td><td>&hellip;</td><td>&hellip;</td><td>&hellip;</td><td>&hellip;</td><td>&hellip;</td><td>&hellip;</td><td>&hellip;</td></tr><tr><td>&quot;OTH&quot;</td><td>2972</td><td>2018-11-30</td><td>2018-11-30</td><td>696</td><td>0</td><td>0</td><td>6</td><td>2018-11-30 11:30:00</td><td>2018-11-30 12:43:00</td><td>73</td><td>-480</td><td>0</td><td>2</td><td>35</td><td>9</td><td>8086</td><td>264</td><td>4</td><td>3</td><td>0</td></tr><tr><td>&quot;L1&quot;</td><td>3437</td><td>2018-11-30</td><td>2018-11-30</td><td>2037</td><td>0</td><td>0</td><td>2</td><td>2018-11-30 18:18:00</td><td>2018-11-30 19:38:00</td><td>80</td><td>-360</td><td>0</td><td>4</td><td>8</td><td>3</td><td>2838</td><td>403</td><td>2</td><td>3</td><td>0</td></tr><tr><td>&quot;L1&quot;</td><td>1992</td><td>2018-11-30</td><td>2018-11-30</td><td>1167</td><td>0</td><td>0</td><td>4</td><td>2018-11-30 18:53:00</td><td>2018-11-30 20:05:00</td><td>72</td><td>-480</td><td>0</td><td>4</td><td>35</td><td>10</td><td>8086</td><td>199</td><td>3</td><td>4</td><td>0</td></tr><tr><td>&quot;OTH&quot;</td><td>1075</td><td>2018-11-30</td><td>2018-11-30</td><td>1073</td><td>0</td><td>0</td><td>3</td><td>2018-11-30 18:45:00</td><td>2018-11-30 23:42:00</td><td>297</td><td>-480</td><td>0</td><td>4</td><td>8</td><td>1</td><td>2838</td><td>214</td><td>3</td><td>2</td><td>0</td></tr><tr><td>&quot;L1&quot;</td><td>7136</td><td>2018-11-30</td><td>2018-11-30</td><td>1067</td><td>0</td><td>0</td><td>7</td><td>2018-11-30 19:49:00</td><td>2018-11-30 21:05:00</td><td>76</td><td>-360</td><td>0</td><td>4</td><td>10</td><td>4</td><td>3099</td><td>276</td><td>5</td><td>0</td><td>0</td></tr><tr><td>&quot;U1&quot;</td><td>6178</td><td>2018-11-30</td><td>2018-11-30</td><td>1111</td><td>0</td><td>0</td><td>5</td><td>2018-11-30 18:55:00</td><td>2018-11-30 20:35:00</td><td>100</td><td>-480</td><td>0</td><td>4</td><td>22</td><td>7</td><td>6396</td><td>250</td><td>3</td><td>7</td><td>0</td></tr><tr><td>&quot;L1&quot;</td><td>6294</td><td>2018-11-30</td><td>2018-11-30</td><td>2037</td><td>0</td><td>0</td><td>3</td><td>2018-11-30 14:03:00</td><td>2018-11-30 18:57:00</td><td>294</td><td>-480</td><td>0</td><td>3</td><td>8</td><td>4</td><td>2838</td><td>405</td><td>3</td><td>2</td><td>0</td></tr><tr><td>&quot;L3&quot;</td><td>11152</td><td>2018-11-30</td><td>2018-11-30</td><td>1911</td><td>0</td><td>0</td><td>4</td><td>2018-11-30 16:45:00</td><td>2018-11-30 18:05:00</td><td>80</td><td>-480</td><td>0</td><td>4</td><td>35</td><td>10</td><td>8086</td><td>228</td><td>3</td><td>4</td><td>0</td></tr><tr><td>&quot;L1&quot;</td><td>5701</td><td>2018-11-30</td><td>2018-11-30</td><td>2037</td><td>0</td><td>0</td><td>2</td><td>2018-11-30 21:59:00</td><td>2018-11-30 23:20:00</td><td>81</td><td>-360</td><td>0</td><td>5</td><td>8</td><td>1</td><td>2838</td><td>403</td><td>2</td><td>3</td><td>0</td></tr><tr><td>&quot;L3&quot;</td><td>6523</td><td>2018-11-30</td><td>2018-11-30</td><td>1911</td><td>0</td><td>0</td><td>6</td><td>2018-11-30 21:15:00</td><td>2018-11-30 22:25:00</td><td>70</td><td>-480</td><td>0</td><td>5</td><td>35</td><td>5</td><td>8086</td><td>226</td><td>4</td><td>3</td><td>0</td></tr></tbody></table></div>"
      ],
      "text/plain": [
       "shape: (1_556_671, 21)\n",
       "┌─────────┬─────────┬────────────┬────────────┬───┬────────────┬───────────┬───────────┬───────────┐\n",
       "│ carrier ┆ flt_num ┆ flt_depart ┆ observatio ┆ … ┆ scaled_sha ┆ origin_id ┆ destinati ┆ flt_info_ │\n",
       "│ ---     ┆ ---     ┆ ure_dt     ┆ n_date     ┆   ┆ re         ┆ ---       ┆ on_id     ┆ null      │\n",
       "│ str     ┆ i64     ┆ ---        ┆ ---        ┆   ┆ ---        ┆ u8        ┆ ---       ┆ ---       │\n",
       "│         ┆         ┆ date       ┆ date       ┆   ┆ i64        ┆           ┆ u8        ┆ u8        │\n",
       "╞═════════╪═════════╪════════════╪════════════╪═══╪════════════╪═══════════╪═══════════╪═══════════╡\n",
       "│ U1      ┆ 6143    ┆ 2018-01-01 ┆ 2017-11-27 ┆ … ┆ null       ┆ 7         ┆ 3         ┆ 1         │\n",
       "│ L1      ┆ 5927    ┆ 2018-01-01 ┆ 2017-11-27 ┆ … ┆ 360        ┆ 1         ┆ 5         ┆ 0         │\n",
       "│ L3      ┆ 18075   ┆ 2018-01-01 ┆ 2017-11-27 ┆ … ┆ 228        ┆ 4         ┆ 3         ┆ 0         │\n",
       "│ OTH     ┆ 2416    ┆ 2018-01-01 ┆ 2017-11-27 ┆ … ┆ 316        ┆ 3         ┆ 4         ┆ 0         │\n",
       "│ L3      ┆ 18270   ┆ 2018-01-01 ┆ 2017-11-27 ┆ … ┆ 231        ┆ 3         ┆ 4         ┆ 0         │\n",
       "│ L1      ┆ 1396    ┆ 2018-01-01 ┆ 2017-11-27 ┆ … ┆ 262        ┆ 7         ┆ 3         ┆ 0         │\n",
       "│ U1      ┆ 4771    ┆ 2018-01-01 ┆ 2017-11-27 ┆ … ┆ null       ┆ 3         ┆ 4         ┆ 1         │\n",
       "│ OTH     ┆ 4825    ┆ 2018-01-01 ┆ 2017-11-27 ┆ … ┆ 316        ┆ 4         ┆ 3         ┆ 0         │\n",
       "│ OTH     ┆ 6175    ┆ 2018-01-01 ┆ 2017-11-27 ┆ … ┆ 354        ┆ 7         ┆ 3         ┆ 0         │\n",
       "│ U1      ┆ 6187    ┆ 2018-01-01 ┆ 2017-11-27 ┆ … ┆ null       ┆ 7         ┆ 3         ┆ 1         │\n",
       "│ …       ┆ …       ┆ …          ┆ …          ┆ … ┆ …          ┆ …         ┆ …         ┆ …         │\n",
       "│ OTH     ┆ 2972    ┆ 2018-11-30 ┆ 2018-11-30 ┆ … ┆ 264        ┆ 4         ┆ 3         ┆ 0         │\n",
       "│ L1      ┆ 3437    ┆ 2018-11-30 ┆ 2018-11-30 ┆ … ┆ 403        ┆ 2         ┆ 3         ┆ 0         │\n",
       "│ L1      ┆ 1992    ┆ 2018-11-30 ┆ 2018-11-30 ┆ … ┆ 199        ┆ 3         ┆ 4         ┆ 0         │\n",
       "│ OTH     ┆ 1075    ┆ 2018-11-30 ┆ 2018-11-30 ┆ … ┆ 214        ┆ 3         ┆ 2         ┆ 0         │\n",
       "│ L1      ┆ 7136    ┆ 2018-11-30 ┆ 2018-11-30 ┆ … ┆ 276        ┆ 5         ┆ 0         ┆ 0         │\n",
       "│ U1      ┆ 6178    ┆ 2018-11-30 ┆ 2018-11-30 ┆ … ┆ 250        ┆ 3         ┆ 7         ┆ 0         │\n",
       "│ L1      ┆ 6294    ┆ 2018-11-30 ┆ 2018-11-30 ┆ … ┆ 405        ┆ 3         ┆ 2         ┆ 0         │\n",
       "│ L3      ┆ 11152   ┆ 2018-11-30 ┆ 2018-11-30 ┆ … ┆ 228        ┆ 3         ┆ 4         ┆ 0         │\n",
       "│ L1      ┆ 5701    ┆ 2018-11-30 ┆ 2018-11-30 ┆ … ┆ 403        ┆ 2         ┆ 3         ┆ 0         │\n",
       "│ L3      ┆ 6523    ┆ 2018-11-30 ┆ 2018-11-30 ┆ … ┆ 226        ┆ 4         ┆ 3         ┆ 0         │\n",
       "└─────────┴─────────┴────────────┴────────────┴───┴────────────┴───────────┴───────────┴───────────┘"
      ]
     },
     "execution_count": 4,
     "metadata": {},
     "output_type": "execute_result"
    }
   ],
   "source": [
    "train_df = processed_train_df.filter(\n",
    "    pl.col('flt_departure_dt') <= VALIDATION_CUTOFF\n",
    ")\n",
    "\n",
    "train_df"
   ]
  },
  {
   "cell_type": "code",
   "execution_count": 5,
   "metadata": {},
   "outputs": [
    {
     "data": {
      "text/html": [
       "<div><style>\n",
       ".dataframe > thead > tr,\n",
       ".dataframe > tbody > tr {\n",
       "  text-align: right;\n",
       "  white-space: pre-wrap;\n",
       "}\n",
       "</style>\n",
       "<small>shape: (9, 22)</small><table border=\"1\" class=\"dataframe\"><thead><tr><th>statistic</th><th>carrier</th><th>flt_num</th><th>flt_departure_dt</th><th>observation_date</th><th>total_fare</th><th>days_till_flight</th><th>is_dst</th><th>route_id</th><th>flt_departure_local_time</th><th>flt_arrival_local_time</th><th>dur_min</th><th>tz_min</th><th>over_mn</th><th>dpt_4h_od</th><th>flt_count_dpt_24h</th><th>flt_count_dpt_4h</th><th>scaled_demand</th><th>scaled_share</th><th>origin_id</th><th>destination_id</th><th>flt_info_null</th></tr><tr><td>str</td><td>str</td><td>f64</td><td>str</td><td>str</td><td>f64</td><td>f64</td><td>f64</td><td>f64</td><td>str</td><td>str</td><td>f64</td><td>f64</td><td>f64</td><td>f64</td><td>f64</td><td>f64</td><td>f64</td><td>f64</td><td>f64</td><td>f64</td><td>f64</td></tr></thead><tbody><tr><td>&quot;count&quot;</td><td>&quot;1556671&quot;</td><td>1.556671e6</td><td>&quot;1556671&quot;</td><td>&quot;1556671&quot;</td><td>1.556671e6</td><td>1.556671e6</td><td>1.556671e6</td><td>1.556671e6</td><td>&quot;1460289&quot;</td><td>&quot;1460289&quot;</td><td>1.460289e6</td><td>1.460289e6</td><td>1.460289e6</td><td>1.460289e6</td><td>1.460289e6</td><td>1.460289e6</td><td>1.456358e6</td><td>1.456358e6</td><td>1.556671e6</td><td>1.556671e6</td><td>1.556671e6</td></tr><tr><td>&quot;null_count&quot;</td><td>&quot;0&quot;</td><td>0.0</td><td>&quot;0&quot;</td><td>&quot;0&quot;</td><td>0.0</td><td>0.0</td><td>0.0</td><td>0.0</td><td>&quot;96382&quot;</td><td>&quot;96382&quot;</td><td>96382.0</td><td>96382.0</td><td>96382.0</td><td>96382.0</td><td>96382.0</td><td>96382.0</td><td>100313.0</td><td>100313.0</td><td>0.0</td><td>0.0</td><td>0.0</td></tr><tr><td>&quot;mean&quot;</td><td>null</td><td>5911.454399</td><td>&quot;2018-06-08&quot;</td><td>&quot;2018-05-22&quot;</td><td>698.183723</td><td>17.265929</td><td>0.759079</td><td>5.935386</td><td>&quot;2018-06-15 04:15:06.345305&quot;</td><td>&quot;2018-06-15 06:10:36.537699&quot;</td><td>115.503207</td><td>-401.853921</td><td>0.013829</td><td>2.936193</td><td>23.187674</td><td>5.327998</td><td>5772.255902</td><td>272.205624</td><td>3.954633</td><td>3.838421</td><td>0.061915</td></tr><tr><td>&quot;std&quot;</td><td>null</td><td>4283.113936</td><td>null</td><td>null</td><td>466.055604</td><td>12.725705</td><td>0.427643</td><td>2.968212</td><td>null</td><td>null</td><td>62.531057</td><td>61.484587</td><td>0.116783</td><td>1.262305</td><td>11.932692</td><td>2.9922</td><td>2377.101806</td><td>63.219415</td><td>1.691103</td><td>1.626951</td><td>0.241002</td></tr><tr><td>&quot;min&quot;</td><td>&quot;L1&quot;</td><td>174.0</td><td>&quot;2018-01-01&quot;</td><td>&quot;2017-11-27&quot;</td><td>234.0</td><td>0.0</td><td>0.0</td><td>0.0</td><td>&quot;2018-01-01 05:31:00&quot;</td><td>&quot;2018-01-01 07:02:00&quot;</td><td>60.0</td><td>-480.0</td><td>0.0</td><td>0.0</td><td>2.0</td><td>1.0</td><td>1378.0</td><td>165.0</td><td>0.0</td><td>0.0</td><td>0.0</td></tr><tr><td>&quot;25%&quot;</td><td>null</td><td>2724.0</td><td>&quot;2018-03-26&quot;</td><td>&quot;2018-03-09&quot;</td><td>395.0</td><td>8.0</td><td>1.0</td><td>4.0</td><td>&quot;2018-03-30 18:40:00&quot;</td><td>&quot;2018-03-30 20:37:00&quot;</td><td>79.0</td><td>-420.0</td><td>0.0</td><td>2.0</td><td>9.0</td><td>3.0</td><td>2864.0</td><td>222.0</td><td>3.0</td><td>3.0</td><td>0.0</td></tr><tr><td>&quot;50%&quot;</td><td>null</td><td>5274.0</td><td>&quot;2018-05-20&quot;</td><td>&quot;2018-05-04&quot;</td><td>552.0</td><td>16.0</td><td>1.0</td><td>6.0</td><td>&quot;2018-06-01 22:56:00&quot;</td><td>&quot;2018-06-02 00:11:00&quot;</td><td>89.0</td><td>-420.0</td><td>0.0</td><td>3.0</td><td>23.0</td><td>5.0</td><td>7054.0</td><td>273.0</td><td>4.0</td><td>3.0</td><td>0.0</td></tr><tr><td>&quot;75%&quot;</td><td>null</td><td>6759.0</td><td>&quot;2018-08-28&quot;</td><td>&quot;2018-08-11&quot;</td><td>819.0</td><td>26.0</td><td>1.0</td><td>8.0</td><td>&quot;2018-09-03 20:52:00&quot;</td><td>&quot;2018-09-03 22:38:00&quot;</td><td>105.0</td><td>-360.0</td><td>0.0</td><td>4.0</td><td>35.0</td><td>8.0</td><td>7578.0</td><td>308.0</td><td>5.0</td><td>5.0</td><td>0.0</td></tr><tr><td>&quot;max&quot;</td><td>&quot;U3&quot;</td><td>29555.0</td><td>&quot;2018-11-30&quot;</td><td>&quot;2018-11-30&quot;</td><td>6354.0</td><td>328.0</td><td>1.0</td><td>11.0</td><td>&quot;2018-11-30 22:45:00&quot;</td><td>&quot;2018-12-01 00:02:00&quot;</td><td>304.0</td><td>-240.0</td><td>1.0</td><td>5.0</td><td>43.0</td><td>12.0</td><td>8396.0</td><td>423.0</td><td>7.0</td><td>7.0</td><td>1.0</td></tr></tbody></table></div>"
      ],
      "text/plain": [
       "shape: (9, 22)\n",
       "┌────────────┬─────────┬───────────┬───────────┬───┬───────────┬───────────┬───────────┬───────────┐\n",
       "│ statistic  ┆ carrier ┆ flt_num   ┆ flt_depar ┆ … ┆ scaled_sh ┆ origin_id ┆ destinati ┆ flt_info_ │\n",
       "│ ---        ┆ ---     ┆ ---       ┆ ture_dt   ┆   ┆ are       ┆ ---       ┆ on_id     ┆ null      │\n",
       "│ str        ┆ str     ┆ f64       ┆ ---       ┆   ┆ ---       ┆ f64       ┆ ---       ┆ ---       │\n",
       "│            ┆         ┆           ┆ str       ┆   ┆ f64       ┆           ┆ f64       ┆ f64       │\n",
       "╞════════════╪═════════╪═══════════╪═══════════╪═══╪═══════════╪═══════════╪═══════════╪═══════════╡\n",
       "│ count      ┆ 1556671 ┆ 1.556671e ┆ 1556671   ┆ … ┆ 1.456358e ┆ 1.556671e ┆ 1.556671e ┆ 1.556671e │\n",
       "│            ┆         ┆ 6         ┆           ┆   ┆ 6         ┆ 6         ┆ 6         ┆ 6         │\n",
       "│ null_count ┆ 0       ┆ 0.0       ┆ 0         ┆ … ┆ 100313.0  ┆ 0.0       ┆ 0.0       ┆ 0.0       │\n",
       "│ mean       ┆ null    ┆ 5911.4543 ┆ 2018-06-0 ┆ … ┆ 272.20562 ┆ 3.954633  ┆ 3.838421  ┆ 0.061915  │\n",
       "│            ┆         ┆ 99        ┆ 8         ┆   ┆ 4         ┆           ┆           ┆           │\n",
       "│ std        ┆ null    ┆ 4283.1139 ┆ null      ┆ … ┆ 63.219415 ┆ 1.691103  ┆ 1.626951  ┆ 0.241002  │\n",
       "│            ┆         ┆ 36        ┆           ┆   ┆           ┆           ┆           ┆           │\n",
       "│ min        ┆ L1      ┆ 174.0     ┆ 2018-01-0 ┆ … ┆ 165.0     ┆ 0.0       ┆ 0.0       ┆ 0.0       │\n",
       "│            ┆         ┆           ┆ 1         ┆   ┆           ┆           ┆           ┆           │\n",
       "│ 25%        ┆ null    ┆ 2724.0    ┆ 2018-03-2 ┆ … ┆ 222.0     ┆ 3.0       ┆ 3.0       ┆ 0.0       │\n",
       "│            ┆         ┆           ┆ 6         ┆   ┆           ┆           ┆           ┆           │\n",
       "│ 50%        ┆ null    ┆ 5274.0    ┆ 2018-05-2 ┆ … ┆ 273.0     ┆ 4.0       ┆ 3.0       ┆ 0.0       │\n",
       "│            ┆         ┆           ┆ 0         ┆   ┆           ┆           ┆           ┆           │\n",
       "│ 75%        ┆ null    ┆ 6759.0    ┆ 2018-08-2 ┆ … ┆ 308.0     ┆ 5.0       ┆ 5.0       ┆ 0.0       │\n",
       "│            ┆         ┆           ┆ 8         ┆   ┆           ┆           ┆           ┆           │\n",
       "│ max        ┆ U3      ┆ 29555.0   ┆ 2018-11-3 ┆ … ┆ 423.0     ┆ 7.0       ┆ 7.0       ┆ 1.0       │\n",
       "│            ┆         ┆           ┆ 0         ┆   ┆           ┆           ┆           ┆           │\n",
       "└────────────┴─────────┴───────────┴───────────┴───┴───────────┴───────────┴───────────┴───────────┘"
      ]
     },
     "execution_count": 5,
     "metadata": {},
     "output_type": "execute_result"
    }
   ],
   "source": [
    "train_df.describe()"
   ]
  },
  {
   "cell_type": "code",
   "execution_count": 6,
   "metadata": {},
   "outputs": [
    {
     "data": {
      "text/html": [
       "<div><style>\n",
       ".dataframe > thead > tr,\n",
       ".dataframe > tbody > tr {\n",
       "  text-align: right;\n",
       "  white-space: pre-wrap;\n",
       "}\n",
       "</style>\n",
       "<small>shape: (29_492, 21)</small><table border=\"1\" class=\"dataframe\"><thead><tr><th>carrier</th><th>flt_num</th><th>flt_departure_dt</th><th>observation_date</th><th>total_fare</th><th>days_till_flight</th><th>is_dst</th><th>route_id</th><th>flt_departure_local_time</th><th>flt_arrival_local_time</th><th>dur_min</th><th>tz_min</th><th>over_mn</th><th>dpt_4h_od</th><th>flt_count_dpt_24h</th><th>flt_count_dpt_4h</th><th>scaled_demand</th><th>scaled_share</th><th>origin_id</th><th>destination_id</th><th>flt_info_null</th></tr><tr><td>str</td><td>i64</td><td>date</td><td>date</td><td>i64</td><td>i16</td><td>i8</td><td>u8</td><td>datetime[ns]</td><td>datetime[ns]</td><td>i16</td><td>i16</td><td>i8</td><td>i8</td><td>u8</td><td>u8</td><td>i64</td><td>i64</td><td>u8</td><td>u8</td><td>u8</td></tr></thead><tbody><tr><td>&quot;L2&quot;</td><td>7220</td><td>2018-12-01</td><td>2018-10-02</td><td>476</td><td>60</td><td>0</td><td>6</td><td>2018-12-01 10:15:00</td><td>2018-12-01 11:27:00</td><td>72</td><td>-480</td><td>0</td><td>2</td><td>32</td><td>9</td><td>7128</td><td>224</td><td>4</td><td>3</td><td>0</td></tr><tr><td>&quot;L2&quot;</td><td>4448</td><td>2018-12-01</td><td>2018-10-02</td><td>476</td><td>60</td><td>0</td><td>6</td><td>2018-12-01 08:40:00</td><td>2018-12-01 10:04:00</td><td>84</td><td>-480</td><td>0</td><td>2</td><td>32</td><td>9</td><td>7128</td><td>224</td><td>4</td><td>3</td><td>0</td></tr><tr><td>&quot;L2&quot;</td><td>7402</td><td>2018-12-01</td><td>2018-10-02</td><td>476</td><td>60</td><td>0</td><td>6</td><td>2018-12-01 14:10:00</td><td>2018-12-01 15:22:00</td><td>72</td><td>-480</td><td>0</td><td>3</td><td>32</td><td>9</td><td>7128</td><td>224</td><td>4</td><td>3</td><td>0</td></tr><tr><td>&quot;L2&quot;</td><td>2200</td><td>2018-12-01</td><td>2018-10-02</td><td>285</td><td>60</td><td>0</td><td>6</td><td>2018-12-01 19:50:00</td><td>2018-12-01 21:02:00</td><td>72</td><td>-480</td><td>0</td><td>4</td><td>32</td><td>10</td><td>7128</td><td>224</td><td>4</td><td>3</td><td>0</td></tr><tr><td>&quot;L2&quot;</td><td>8903</td><td>2018-12-01</td><td>2018-10-02</td><td>285</td><td>60</td><td>0</td><td>6</td><td>2018-12-01 22:45:00</td><td>2018-12-02 00:02:00</td><td>77</td><td>-480</td><td>1</td><td>5</td><td>32</td><td>1</td><td>7128</td><td>224</td><td>4</td><td>3</td><td>0</td></tr><tr><td>&quot;L2&quot;</td><td>5041</td><td>2018-12-01</td><td>2018-10-02</td><td>476</td><td>60</td><td>0</td><td>6</td><td>2018-12-01 12:40:00</td><td>2018-12-01 13:52:00</td><td>72</td><td>-480</td><td>0</td><td>3</td><td>32</td><td>9</td><td>7128</td><td>224</td><td>4</td><td>3</td><td>0</td></tr><tr><td>&quot;L2&quot;</td><td>1732</td><td>2018-12-01</td><td>2018-10-02</td><td>395</td><td>60</td><td>0</td><td>6</td><td>2018-12-01 16:50:00</td><td>2018-12-01 18:02:00</td><td>72</td><td>-480</td><td>0</td><td>4</td><td>32</td><td>10</td><td>7128</td><td>224</td><td>4</td><td>3</td><td>0</td></tr><tr><td>&quot;L1&quot;</td><td>5927</td><td>2018-12-01</td><td>2018-10-05</td><td>530</td><td>57</td><td>0</td><td>1</td><td>2018-12-01 20:30:00</td><td>2018-12-01 23:37:00</td><td>187</td><td>-300</td><td>0</td><td>5</td><td>4</td><td>1</td><td>2164</td><td>373</td><td>1</td><td>5</td><td>0</td></tr><tr><td>&quot;L1&quot;</td><td>11158</td><td>2018-12-01</td><td>2018-10-05</td><td>800</td><td>57</td><td>0</td><td>1</td><td>2018-12-01 12:03:00</td><td>2018-12-01 15:20:00</td><td>197</td><td>-300</td><td>0</td><td>3</td><td>4</td><td>1</td><td>2164</td><td>373</td><td>1</td><td>5</td><td>0</td></tr><tr><td>&quot;L1&quot;</td><td>7431</td><td>2018-12-01</td><td>2018-10-05</td><td>737</td><td>57</td><td>0</td><td>1</td><td>2018-12-01 07:29:00</td><td>2018-12-01 10:36:00</td><td>187</td><td>-300</td><td>0</td><td>1</td><td>4</td><td>1</td><td>2164</td><td>373</td><td>1</td><td>5</td><td>0</td></tr><tr><td>&hellip;</td><td>&hellip;</td><td>&hellip;</td><td>&hellip;</td><td>&hellip;</td><td>&hellip;</td><td>&hellip;</td><td>&hellip;</td><td>&hellip;</td><td>&hellip;</td><td>&hellip;</td><td>&hellip;</td><td>&hellip;</td><td>&hellip;</td><td>&hellip;</td><td>&hellip;</td><td>&hellip;</td><td>&hellip;</td><td>&hellip;</td><td>&hellip;</td><td>&hellip;</td></tr><tr><td>&quot;U1&quot;</td><td>6250</td><td>2018-12-07</td><td>2018-12-07</td><td>1283</td><td>0</td><td>0</td><td>11</td><td>2018-12-07 19:35:00</td><td>2018-12-07 21:09:00</td><td>94</td><td>-480</td><td>0</td><td>4</td><td>22</td><td>6</td><td>5817</td><td>253</td><td>7</td><td>3</td><td>0</td></tr><tr><td>&quot;L1&quot;</td><td>6278</td><td>2018-12-07</td><td>2018-12-07</td><td>1067</td><td>0</td><td>0</td><td>0</td><td>2018-12-07 15:30:00</td><td>2018-12-07 18:35:00</td><td>185</td><td>-420</td><td>0</td><td>3</td><td>10</td><td>4</td><td>3070</td><td>281</td><td>0</td><td>5</td><td>0</td></tr><tr><td>&quot;L3&quot;</td><td>11152</td><td>2018-12-07</td><td>2018-12-07</td><td>671</td><td>0</td><td>0</td><td>4</td><td>2018-12-07 16:45:00</td><td>2018-12-07 18:05:00</td><td>80</td><td>-480</td><td>0</td><td>4</td><td>35</td><td>10</td><td>7128</td><td>231</td><td>3</td><td>4</td><td>0</td></tr><tr><td>&quot;L1&quot;</td><td>2997</td><td>2018-12-07</td><td>2018-12-07</td><td>1346</td><td>0</td><td>0</td><td>8</td><td>2018-12-07 11:34:00</td><td>2018-12-07 16:10:00</td><td>276</td><td>-360</td><td>0</td><td>2</td><td>4</td><td>1</td><td>2164</td><td>373</td><td>5</td><td>1</td><td>0</td></tr><tr><td>&quot;L1&quot;</td><td>1176</td><td>2018-12-07</td><td>2018-12-07</td><td>395</td><td>0</td><td>0</td><td>4</td><td>2018-12-07 06:05:00</td><td>2018-12-07 07:21:00</td><td>76</td><td>-480</td><td>0</td><td>1</td><td>35</td><td>6</td><td>7128</td><td>189</td><td>3</td><td>4</td><td>0</td></tr><tr><td>&quot;U1&quot;</td><td>6162</td><td>2018-12-07</td><td>2018-12-07</td><td>1111</td><td>0</td><td>0</td><td>11</td><td>2018-12-07 16:20:00</td><td>2018-12-07 17:54:00</td><td>94</td><td>-480</td><td>0</td><td>4</td><td>22</td><td>6</td><td>5817</td><td>253</td><td>7</td><td>3</td><td>0</td></tr><tr><td>&quot;U1&quot;</td><td>6128</td><td>2018-12-07</td><td>2018-12-07</td><td>1111</td><td>0</td><td>0</td><td>5</td><td>2018-12-07 09:35:00</td><td>2018-12-07 11:12:00</td><td>97</td><td>-480</td><td>0</td><td>2</td><td>22</td><td>6</td><td>5817</td><td>252</td><td>3</td><td>7</td><td>0</td></tr><tr><td>&quot;L1&quot;</td><td>5701</td><td>2018-12-07</td><td>2018-12-07</td><td>2037</td><td>0</td><td>0</td><td>2</td><td>2018-12-07 21:59:00</td><td>2018-12-07 23:20:00</td><td>81</td><td>-360</td><td>0</td><td>5</td><td>8</td><td>1</td><td>2790</td><td>405</td><td>2</td><td>3</td><td>0</td></tr><tr><td>&quot;L2&quot;</td><td>5274</td><td>2018-12-07</td><td>2018-12-07</td><td>1742</td><td>0</td><td>0</td><td>9</td><td>2018-12-07 11:03:00</td><td>2018-12-07 13:44:00</td><td>161</td><td>-360</td><td>0</td><td>2</td><td>7</td><td>3</td><td>1618</td><td>310</td><td>5</td><td>6</td><td>0</td></tr><tr><td>&quot;L1&quot;</td><td>6517</td><td>2018-12-07</td><td>2018-12-07</td><td>1346</td><td>0</td><td>0</td><td>8</td><td>2018-12-07 16:15:00</td><td>2018-12-07 20:52:00</td><td>277</td><td>-360</td><td>0</td><td>4</td><td>4</td><td>1</td><td>2164</td><td>373</td><td>5</td><td>1</td><td>0</td></tr></tbody></table></div>"
      ],
      "text/plain": [
       "shape: (29_492, 21)\n",
       "┌─────────┬─────────┬────────────┬────────────┬───┬────────────┬───────────┬───────────┬───────────┐\n",
       "│ carrier ┆ flt_num ┆ flt_depart ┆ observatio ┆ … ┆ scaled_sha ┆ origin_id ┆ destinati ┆ flt_info_ │\n",
       "│ ---     ┆ ---     ┆ ure_dt     ┆ n_date     ┆   ┆ re         ┆ ---       ┆ on_id     ┆ null      │\n",
       "│ str     ┆ i64     ┆ ---        ┆ ---        ┆   ┆ ---        ┆ u8        ┆ ---       ┆ ---       │\n",
       "│         ┆         ┆ date       ┆ date       ┆   ┆ i64        ┆           ┆ u8        ┆ u8        │\n",
       "╞═════════╪═════════╪════════════╪════════════╪═══╪════════════╪═══════════╪═══════════╪═══════════╡\n",
       "│ L2      ┆ 7220    ┆ 2018-12-01 ┆ 2018-10-02 ┆ … ┆ 224        ┆ 4         ┆ 3         ┆ 0         │\n",
       "│ L2      ┆ 4448    ┆ 2018-12-01 ┆ 2018-10-02 ┆ … ┆ 224        ┆ 4         ┆ 3         ┆ 0         │\n",
       "│ L2      ┆ 7402    ┆ 2018-12-01 ┆ 2018-10-02 ┆ … ┆ 224        ┆ 4         ┆ 3         ┆ 0         │\n",
       "│ L2      ┆ 2200    ┆ 2018-12-01 ┆ 2018-10-02 ┆ … ┆ 224        ┆ 4         ┆ 3         ┆ 0         │\n",
       "│ L2      ┆ 8903    ┆ 2018-12-01 ┆ 2018-10-02 ┆ … ┆ 224        ┆ 4         ┆ 3         ┆ 0         │\n",
       "│ L2      ┆ 5041    ┆ 2018-12-01 ┆ 2018-10-02 ┆ … ┆ 224        ┆ 4         ┆ 3         ┆ 0         │\n",
       "│ L2      ┆ 1732    ┆ 2018-12-01 ┆ 2018-10-02 ┆ … ┆ 224        ┆ 4         ┆ 3         ┆ 0         │\n",
       "│ L1      ┆ 5927    ┆ 2018-12-01 ┆ 2018-10-05 ┆ … ┆ 373        ┆ 1         ┆ 5         ┆ 0         │\n",
       "│ L1      ┆ 11158   ┆ 2018-12-01 ┆ 2018-10-05 ┆ … ┆ 373        ┆ 1         ┆ 5         ┆ 0         │\n",
       "│ L1      ┆ 7431    ┆ 2018-12-01 ┆ 2018-10-05 ┆ … ┆ 373        ┆ 1         ┆ 5         ┆ 0         │\n",
       "│ …       ┆ …       ┆ …          ┆ …          ┆ … ┆ …          ┆ …         ┆ …         ┆ …         │\n",
       "│ U1      ┆ 6250    ┆ 2018-12-07 ┆ 2018-12-07 ┆ … ┆ 253        ┆ 7         ┆ 3         ┆ 0         │\n",
       "│ L1      ┆ 6278    ┆ 2018-12-07 ┆ 2018-12-07 ┆ … ┆ 281        ┆ 0         ┆ 5         ┆ 0         │\n",
       "│ L3      ┆ 11152   ┆ 2018-12-07 ┆ 2018-12-07 ┆ … ┆ 231        ┆ 3         ┆ 4         ┆ 0         │\n",
       "│ L1      ┆ 2997    ┆ 2018-12-07 ┆ 2018-12-07 ┆ … ┆ 373        ┆ 5         ┆ 1         ┆ 0         │\n",
       "│ L1      ┆ 1176    ┆ 2018-12-07 ┆ 2018-12-07 ┆ … ┆ 189        ┆ 3         ┆ 4         ┆ 0         │\n",
       "│ U1      ┆ 6162    ┆ 2018-12-07 ┆ 2018-12-07 ┆ … ┆ 253        ┆ 7         ┆ 3         ┆ 0         │\n",
       "│ U1      ┆ 6128    ┆ 2018-12-07 ┆ 2018-12-07 ┆ … ┆ 252        ┆ 3         ┆ 7         ┆ 0         │\n",
       "│ L1      ┆ 5701    ┆ 2018-12-07 ┆ 2018-12-07 ┆ … ┆ 405        ┆ 2         ┆ 3         ┆ 0         │\n",
       "│ L2      ┆ 5274    ┆ 2018-12-07 ┆ 2018-12-07 ┆ … ┆ 310        ┆ 5         ┆ 6         ┆ 0         │\n",
       "│ L1      ┆ 6517    ┆ 2018-12-07 ┆ 2018-12-07 ┆ … ┆ 373        ┆ 5         ┆ 1         ┆ 0         │\n",
       "└─────────┴─────────┴────────────┴────────────┴───┴────────────┴───────────┴───────────┴───────────┘"
      ]
     },
     "execution_count": 6,
     "metadata": {},
     "output_type": "execute_result"
    }
   ],
   "source": [
    "val_df = processed_train_df.filter(\n",
    "    (pl.col('flt_departure_dt') > VALIDATION_CUTOFF) & \n",
    "    (\n",
    "        pl.col('flt_departure_dt') <= (VALIDATION_CUTOFF + pl.duration(days = 7))\n",
    "    )\n",
    ")\n",
    "\n",
    "val_df"
   ]
  },
  {
   "cell_type": "code",
   "execution_count": 7,
   "metadata": {},
   "outputs": [
    {
     "data": {
      "text/html": [
       "<div><style>\n",
       ".dataframe > thead > tr,\n",
       ".dataframe > tbody > tr {\n",
       "  text-align: right;\n",
       "  white-space: pre-wrap;\n",
       "}\n",
       "</style>\n",
       "<small>shape: (9, 22)</small><table border=\"1\" class=\"dataframe\"><thead><tr><th>statistic</th><th>carrier</th><th>flt_num</th><th>flt_departure_dt</th><th>observation_date</th><th>total_fare</th><th>days_till_flight</th><th>is_dst</th><th>route_id</th><th>flt_departure_local_time</th><th>flt_arrival_local_time</th><th>dur_min</th><th>tz_min</th><th>over_mn</th><th>dpt_4h_od</th><th>flt_count_dpt_24h</th><th>flt_count_dpt_4h</th><th>scaled_demand</th><th>scaled_share</th><th>origin_id</th><th>destination_id</th><th>flt_info_null</th></tr><tr><td>str</td><td>str</td><td>f64</td><td>str</td><td>str</td><td>f64</td><td>f64</td><td>f64</td><td>f64</td><td>str</td><td>str</td><td>f64</td><td>f64</td><td>f64</td><td>f64</td><td>f64</td><td>f64</td><td>f64</td><td>f64</td><td>f64</td><td>f64</td><td>f64</td></tr></thead><tbody><tr><td>&quot;count&quot;</td><td>&quot;29492&quot;</td><td>29492.0</td><td>&quot;29492&quot;</td><td>&quot;29492&quot;</td><td>29492.0</td><td>29492.0</td><td>29492.0</td><td>29492.0</td><td>&quot;29462&quot;</td><td>&quot;29462&quot;</td><td>29462.0</td><td>29462.0</td><td>29462.0</td><td>29462.0</td><td>29462.0</td><td>29462.0</td><td>29492.0</td><td>29492.0</td><td>29492.0</td><td>29492.0</td><td>29492.0</td></tr><tr><td>&quot;null_count&quot;</td><td>&quot;0&quot;</td><td>0.0</td><td>&quot;0&quot;</td><td>&quot;0&quot;</td><td>0.0</td><td>0.0</td><td>0.0</td><td>0.0</td><td>&quot;30&quot;</td><td>&quot;30&quot;</td><td>30.0</td><td>30.0</td><td>30.0</td><td>30.0</td><td>30.0</td><td>30.0</td><td>0.0</td><td>0.0</td><td>0.0</td><td>0.0</td><td>0.0</td></tr><tr><td>&quot;mean&quot;</td><td>null</td><td>5931.477418</td><td>&quot;2018-12-04&quot;</td><td>&quot;2018-11-16&quot;</td><td>636.639767</td><td>17.878611</td><td>0.0</td><td>5.770005</td><td>&quot;2018-12-04 15:19:48.756364&quot;</td><td>&quot;2018-12-04 17:13:48.900956&quot;</td><td>114.00241</td><td>-447.238477</td><td>0.00818</td><td>2.917792</td><td>22.015613</td><td>5.295771</td><td>5224.45097</td><td>268.025397</td><td>3.864946</td><td>3.839278</td><td>0.001017</td></tr><tr><td>&quot;std&quot;</td><td>null</td><td>4253.523118</td><td>null</td><td>null</td><td>426.948517</td><td>14.627672</td><td>0.0</td><td>2.947329</td><td>null</td><td>null</td><td>63.011074</td><td>54.955176</td><td>0.090074</td><td>1.230295</td><td>12.075227</td><td>2.892415</td><td>2099.212104</td><td>62.301247</td><td>1.66831</td><td>1.65516</td><td>0.031878</td></tr><tr><td>&quot;min&quot;</td><td>&quot;L1&quot;</td><td>752.0</td><td>&quot;2018-12-01&quot;</td><td>&quot;2018-03-04&quot;</td><td>263.0</td><td>0.0</td><td>0.0</td><td>0.0</td><td>&quot;2018-12-01 00:40:00&quot;</td><td>&quot;2018-12-01 05:34:00&quot;</td><td>61.0</td><td>-480.0</td><td>0.0</td><td>0.0</td><td>4.0</td><td>1.0</td><td>1618.0</td><td>165.0</td><td>0.0</td><td>0.0</td><td>0.0</td></tr><tr><td>&quot;25%&quot;</td><td>null</td><td>2667.0</td><td>&quot;2018-12-02&quot;</td><td>&quot;2018-11-08&quot;</td><td>360.0</td><td>8.0</td><td>0.0</td><td>4.0</td><td>&quot;2018-12-02 19:35:00&quot;</td><td>&quot;2018-12-02 21:05:00&quot;</td><td>77.0</td><td>-480.0</td><td>0.0</td><td>2.0</td><td>8.0</td><td>3.0</td><td>2790.0</td><td>227.0</td><td>3.0</td><td>3.0</td><td>0.0</td></tr><tr><td>&quot;50%&quot;</td><td>null</td><td>5663.0</td><td>&quot;2018-12-04&quot;</td><td>&quot;2018-11-18&quot;</td><td>505.0</td><td>16.0</td><td>0.0</td><td>5.0</td><td>&quot;2018-12-04 15:10:00&quot;</td><td>&quot;2018-12-04 17:06:00&quot;</td><td>85.0</td><td>-480.0</td><td>0.0</td><td>3.0</td><td>21.0</td><td>5.0</td><td>5817.0</td><td>253.0</td><td>3.0</td><td>3.0</td><td>0.0</td></tr><tr><td>&quot;75%&quot;</td><td>null</td><td>7019.0</td><td>&quot;2018-12-06&quot;</td><td>&quot;2018-11-26&quot;</td><td>724.0</td><td>26.0</td><td>0.0</td><td>7.0</td><td>&quot;2018-12-06 11:05:00&quot;</td><td>&quot;2018-12-06 12:38:00&quot;</td><td>107.0</td><td>-420.0</td><td>0.0</td><td>4.0</td><td>35.0</td><td>8.0</td><td>7128.0</td><td>294.0</td><td>5.0</td><td>5.0</td><td>0.0</td></tr><tr><td>&quot;max&quot;</td><td>&quot;U3&quot;</td><td>18769.0</td><td>&quot;2018-12-07&quot;</td><td>&quot;2018-12-07&quot;</td><td>7859.0</td><td>276.0</td><td>0.0</td><td>11.0</td><td>&quot;2018-12-07 22:45:00&quot;</td><td>&quot;2018-12-08 00:02:00&quot;</td><td>301.0</td><td>-300.0</td><td>1.0</td><td>5.0</td><td>37.0</td><td>11.0</td><td>7128.0</td><td>405.0</td><td>7.0</td><td>7.0</td><td>1.0</td></tr></tbody></table></div>"
      ],
      "text/plain": [
       "shape: (9, 22)\n",
       "┌────────────┬─────────┬───────────┬───────────┬───┬───────────┬───────────┬───────────┬───────────┐\n",
       "│ statistic  ┆ carrier ┆ flt_num   ┆ flt_depar ┆ … ┆ scaled_sh ┆ origin_id ┆ destinati ┆ flt_info_ │\n",
       "│ ---        ┆ ---     ┆ ---       ┆ ture_dt   ┆   ┆ are       ┆ ---       ┆ on_id     ┆ null      │\n",
       "│ str        ┆ str     ┆ f64       ┆ ---       ┆   ┆ ---       ┆ f64       ┆ ---       ┆ ---       │\n",
       "│            ┆         ┆           ┆ str       ┆   ┆ f64       ┆           ┆ f64       ┆ f64       │\n",
       "╞════════════╪═════════╪═══════════╪═══════════╪═══╪═══════════╪═══════════╪═══════════╪═══════════╡\n",
       "│ count      ┆ 29492   ┆ 29492.0   ┆ 29492     ┆ … ┆ 29492.0   ┆ 29492.0   ┆ 29492.0   ┆ 29492.0   │\n",
       "│ null_count ┆ 0       ┆ 0.0       ┆ 0         ┆ … ┆ 0.0       ┆ 0.0       ┆ 0.0       ┆ 0.0       │\n",
       "│ mean       ┆ null    ┆ 5931.4774 ┆ 2018-12-0 ┆ … ┆ 268.02539 ┆ 3.864946  ┆ 3.839278  ┆ 0.001017  │\n",
       "│            ┆         ┆ 18        ┆ 4         ┆   ┆ 7         ┆           ┆           ┆           │\n",
       "│ std        ┆ null    ┆ 4253.5231 ┆ null      ┆ … ┆ 62.301247 ┆ 1.66831   ┆ 1.65516   ┆ 0.031878  │\n",
       "│            ┆         ┆ 18        ┆           ┆   ┆           ┆           ┆           ┆           │\n",
       "│ min        ┆ L1      ┆ 752.0     ┆ 2018-12-0 ┆ … ┆ 165.0     ┆ 0.0       ┆ 0.0       ┆ 0.0       │\n",
       "│            ┆         ┆           ┆ 1         ┆   ┆           ┆           ┆           ┆           │\n",
       "│ 25%        ┆ null    ┆ 2667.0    ┆ 2018-12-0 ┆ … ┆ 227.0     ┆ 3.0       ┆ 3.0       ┆ 0.0       │\n",
       "│            ┆         ┆           ┆ 2         ┆   ┆           ┆           ┆           ┆           │\n",
       "│ 50%        ┆ null    ┆ 5663.0    ┆ 2018-12-0 ┆ … ┆ 253.0     ┆ 3.0       ┆ 3.0       ┆ 0.0       │\n",
       "│            ┆         ┆           ┆ 4         ┆   ┆           ┆           ┆           ┆           │\n",
       "│ 75%        ┆ null    ┆ 7019.0    ┆ 2018-12-0 ┆ … ┆ 294.0     ┆ 5.0       ┆ 5.0       ┆ 0.0       │\n",
       "│            ┆         ┆           ┆ 6         ┆   ┆           ┆           ┆           ┆           │\n",
       "│ max        ┆ U3      ┆ 18769.0   ┆ 2018-12-0 ┆ … ┆ 405.0     ┆ 7.0       ┆ 7.0       ┆ 1.0       │\n",
       "│            ┆         ┆           ┆ 7         ┆   ┆           ┆           ┆           ┆           │\n",
       "└────────────┴─────────┴───────────┴───────────┴───┴───────────┴───────────┴───────────┴───────────┘"
      ]
     },
     "execution_count": 7,
     "metadata": {},
     "output_type": "execute_result"
    }
   ],
   "source": [
    "val_df.describe()"
   ]
  },
  {
   "cell_type": "markdown",
   "metadata": {},
   "source": [
    "### Fare rescaling"
   ]
  },
  {
   "cell_type": "markdown",
   "metadata": {},
   "source": [
    "#### Check if any (`route`, `carrier`) pair is missing in `train_df`"
   ]
  },
  {
   "cell_type": "code",
   "execution_count": 8,
   "metadata": {},
   "outputs": [
    {
     "data": {
      "text/html": [
       "<div><style>\n",
       ".dataframe > thead > tr,\n",
       ".dataframe > tbody > tr {\n",
       "  text-align: right;\n",
       "  white-space: pre-wrap;\n",
       "}\n",
       "</style>\n",
       "<small>shape: (1, 4)</small><table border=\"1\" class=\"dataframe\"><thead><tr><th>route_id</th><th>carrier</th><th>route_id_right</th><th>carrier_right</th></tr><tr><td>u32</td><td>u32</td><td>u32</td><td>u32</td></tr></thead><tbody><tr><td>0</td><td>0</td><td>4</td><td>4</td></tr></tbody></table></div>"
      ],
      "text/plain": [
       "shape: (1, 4)\n",
       "┌──────────┬─────────┬────────────────┬───────────────┐\n",
       "│ route_id ┆ carrier ┆ route_id_right ┆ carrier_right │\n",
       "│ ---      ┆ ---     ┆ ---            ┆ ---           │\n",
       "│ u32      ┆ u32     ┆ u32            ┆ u32           │\n",
       "╞══════════╪═════════╪════════════════╪═══════════════╡\n",
       "│ 0        ┆ 0       ┆ 4              ┆ 4             │\n",
       "└──────────┴─────────┴────────────────┴───────────────┘"
      ]
     },
     "execution_count": 8,
     "metadata": {},
     "output_type": "execute_result"
    }
   ],
   "source": [
    "train_df.group_by('route_id', 'carrier').len().drop('len').join(\n",
    "    val_df.group_by('route_id', 'carrier').len().drop('len'),\n",
    "    on = ['route_id', 'carrier'],\n",
    "    how = 'outer'\n",
    ").null_count()"
   ]
  },
  {
   "cell_type": "markdown",
   "metadata": {},
   "source": [
    "#### Calculating range of log of fares by (`route`, `carrier`)"
   ]
  },
  {
   "cell_type": "code",
   "execution_count": 9,
   "metadata": {},
   "outputs": [
    {
     "data": {
      "text/html": [
       "<div><style>\n",
       ".dataframe > thead > tr,\n",
       ".dataframe > tbody > tr {\n",
       "  text-align: right;\n",
       "  white-space: pre-wrap;\n",
       "}\n",
       "</style>\n",
       "<small>shape: (9, 5)</small><table border=\"1\" class=\"dataframe\"><thead><tr><th>statistic</th><th>route_id</th><th>carrier</th><th>up_range</th><th>down_range</th></tr><tr><td>str</td><td>f64</td><td>str</td><td>f64</td><td>f64</td></tr></thead><tbody><tr><td>&quot;count&quot;</td><td>34.0</td><td>&quot;34&quot;</td><td>34.0</td><td>34.0</td></tr><tr><td>&quot;null_count&quot;</td><td>0.0</td><td>&quot;0&quot;</td><td>0.0</td><td>0.0</td></tr><tr><td>&quot;mean&quot;</td><td>5.588235</td><td>null</td><td>4.523691</td><td>0.462604</td></tr><tr><td>&quot;std&quot;</td><td>3.239132</td><td>null</td><td>1.945465</td><td>0.081088</td></tr><tr><td>&quot;min&quot;</td><td>0.0</td><td>&quot;L1&quot;</td><td>2.05318</td><td>0.278275</td></tr><tr><td>&quot;25%&quot;</td><td>3.0</td><td>null</td><td>2.838609</td><td>0.415042</td></tr><tr><td>&quot;50%&quot;</td><td>5.0</td><td>null</td><td>4.284137</td><td>0.46635</td></tr><tr><td>&quot;75%&quot;</td><td>8.0</td><td>null</td><td>5.292899</td><td>0.521188</td></tr><tr><td>&quot;max&quot;</td><td>11.0</td><td>&quot;U3&quot;</td><td>9.486336</td><td>0.623127</td></tr></tbody></table></div>"
      ],
      "text/plain": [
       "shape: (9, 5)\n",
       "┌────────────┬──────────┬─────────┬──────────┬────────────┐\n",
       "│ statistic  ┆ route_id ┆ carrier ┆ up_range ┆ down_range │\n",
       "│ ---        ┆ ---      ┆ ---     ┆ ---      ┆ ---        │\n",
       "│ str        ┆ f64      ┆ str     ┆ f64      ┆ f64        │\n",
       "╞════════════╪══════════╪═════════╪══════════╪════════════╡\n",
       "│ count      ┆ 34.0     ┆ 34      ┆ 34.0     ┆ 34.0       │\n",
       "│ null_count ┆ 0.0      ┆ 0       ┆ 0.0      ┆ 0.0        │\n",
       "│ mean       ┆ 5.588235 ┆ null    ┆ 4.523691 ┆ 0.462604   │\n",
       "│ std        ┆ 3.239132 ┆ null    ┆ 1.945465 ┆ 0.081088   │\n",
       "│ min        ┆ 0.0      ┆ L1      ┆ 2.05318  ┆ 0.278275   │\n",
       "│ 25%        ┆ 3.0      ┆ null    ┆ 2.838609 ┆ 0.415042   │\n",
       "│ 50%        ┆ 5.0      ┆ null    ┆ 4.284137 ┆ 0.46635    │\n",
       "│ 75%        ┆ 8.0      ┆ null    ┆ 5.292899 ┆ 0.521188   │\n",
       "│ max        ┆ 11.0     ┆ U3      ┆ 9.486336 ┆ 0.623127   │\n",
       "└────────────┴──────────┴─────────┴──────────┴────────────┘"
      ]
     },
     "execution_count": 9,
     "metadata": {},
     "output_type": "execute_result"
    }
   ],
   "source": [
    "train_df.group_by('route_id', 'carrier').agg(\n",
    "    (pl.col('total_fare').max() / pl.col('total_fare').mean()).alias('up_range'),\n",
    "    (pl.col('total_fare').min() / pl.col('total_fare').mean()).alias('down_range')\n",
    ").describe()"
   ]
  },
  {
   "cell_type": "code",
   "execution_count": 10,
   "metadata": {},
   "outputs": [
    {
     "data": {
      "text/html": [
       "<div><style>\n",
       ".dataframe > thead > tr,\n",
       ".dataframe > tbody > tr {\n",
       "  text-align: right;\n",
       "  white-space: pre-wrap;\n",
       "}\n",
       "</style>\n",
       "<small>shape: (34, 6)</small><table border=\"1\" class=\"dataframe\"><thead><tr><th>route_id</th><th>carrier</th><th>base_fare</th><th>std_fare</th><th>min_fare</th><th>max_fare</th></tr><tr><td>u8</td><td>str</td><td>f64</td><td>f64</td><td>f64</td><td>f64</td></tr></thead><tbody><tr><td>0</td><td>&quot;L1&quot;</td><td>2.877514</td><td>0.194479</td><td>2.472756</td><td>3.764923</td></tr><tr><td>0</td><td>&quot;U3&quot;</td><td>2.728148</td><td>0.140458</td><td>2.468347</td><td>3.099681</td></tr><tr><td>1</td><td>&quot;L1&quot;</td><td>2.991069</td><td>0.197935</td><td>2.638489</td><td>3.749659</td></tr><tr><td>2</td><td>&quot;L1&quot;</td><td>2.931838</td><td>0.205985</td><td>2.472756</td><td>3.725503</td></tr><tr><td>2</td><td>&quot;OTH&quot;</td><td>2.758927</td><td>0.160084</td><td>2.448706</td><td>3.170555</td></tr><tr><td>2</td><td>&quot;U3&quot;</td><td>2.701619</td><td>0.194855</td><td>2.418301</td><td>3.237795</td></tr><tr><td>3</td><td>&quot;L1&quot;</td><td>2.972533</td><td>0.216676</td><td>2.472756</td><td>3.730621</td></tr><tr><td>3</td><td>&quot;OTH&quot;</td><td>2.763481</td><td>0.173673</td><td>2.448706</td><td>3.170555</td></tr><tr><td>3</td><td>&quot;U3&quot;</td><td>2.808008</td><td>0.214577</td><td>2.418301</td><td>3.169674</td></tr><tr><td>4</td><td>&quot;L1&quot;</td><td>2.671029</td><td>0.199066</td><td>2.448706</td><td>3.555215</td></tr><tr><td>&hellip;</td><td>&hellip;</td><td>&hellip;</td><td>&hellip;</td><td>&hellip;</td><td>&hellip;</td></tr><tr><td>7</td><td>&quot;U3&quot;</td><td>2.727758</td><td>0.143512</td><td>2.491362</td><td>3.099681</td></tr><tr><td>8</td><td>&quot;L1&quot;</td><td>3.021101</td><td>0.204874</td><td>2.638489</td><td>3.789087</td></tr><tr><td>9</td><td>&quot;L1&quot;</td><td>2.969039</td><td>0.207485</td><td>2.662758</td><td>3.738622</td></tr><tr><td>9</td><td>&quot;L2&quot;</td><td>2.945677</td><td>0.182095</td><td>2.647383</td><td>3.642662</td></tr><tr><td>10</td><td>&quot;L1&quot;</td><td>3.003434</td><td>0.199444</td><td>2.669317</td><td>3.700963</td></tr><tr><td>10</td><td>&quot;L2&quot;</td><td>2.985401</td><td>0.181883</td><td>2.669317</td><td>3.642662</td></tr><tr><td>11</td><td>&quot;L1&quot;</td><td>2.766269</td><td>0.197139</td><td>2.485721</td><td>3.63789</td></tr><tr><td>11</td><td>&quot;OTH&quot;</td><td>2.72979</td><td>0.161205</td><td>2.489958</td><td>3.274158</td></tr><tr><td>11</td><td>&quot;U1&quot;</td><td>2.755964</td><td>0.176399</td><td>2.489958</td><td>3.295347</td></tr><tr><td>11</td><td>&quot;U3&quot;</td><td>2.621846</td><td>0.162245</td><td>2.369216</td><td>3.059942</td></tr></tbody></table></div>"
      ],
      "text/plain": [
       "shape: (34, 6)\n",
       "┌──────────┬─────────┬───────────┬──────────┬──────────┬──────────┐\n",
       "│ route_id ┆ carrier ┆ base_fare ┆ std_fare ┆ min_fare ┆ max_fare │\n",
       "│ ---      ┆ ---     ┆ ---       ┆ ---      ┆ ---      ┆ ---      │\n",
       "│ u8       ┆ str     ┆ f64       ┆ f64      ┆ f64      ┆ f64      │\n",
       "╞══════════╪═════════╪═══════════╪══════════╪══════════╪══════════╡\n",
       "│ 0        ┆ L1      ┆ 2.877514  ┆ 0.194479 ┆ 2.472756 ┆ 3.764923 │\n",
       "│ 0        ┆ U3      ┆ 2.728148  ┆ 0.140458 ┆ 2.468347 ┆ 3.099681 │\n",
       "│ 1        ┆ L1      ┆ 2.991069  ┆ 0.197935 ┆ 2.638489 ┆ 3.749659 │\n",
       "│ 2        ┆ L1      ┆ 2.931838  ┆ 0.205985 ┆ 2.472756 ┆ 3.725503 │\n",
       "│ 2        ┆ OTH     ┆ 2.758927  ┆ 0.160084 ┆ 2.448706 ┆ 3.170555 │\n",
       "│ 2        ┆ U3      ┆ 2.701619  ┆ 0.194855 ┆ 2.418301 ┆ 3.237795 │\n",
       "│ 3        ┆ L1      ┆ 2.972533  ┆ 0.216676 ┆ 2.472756 ┆ 3.730621 │\n",
       "│ 3        ┆ OTH     ┆ 2.763481  ┆ 0.173673 ┆ 2.448706 ┆ 3.170555 │\n",
       "│ 3        ┆ U3      ┆ 2.808008  ┆ 0.214577 ┆ 2.418301 ┆ 3.169674 │\n",
       "│ 4        ┆ L1      ┆ 2.671029  ┆ 0.199066 ┆ 2.448706 ┆ 3.555215 │\n",
       "│ …        ┆ …       ┆ …         ┆ …        ┆ …        ┆ …        │\n",
       "│ 7        ┆ U3      ┆ 2.727758  ┆ 0.143512 ┆ 2.491362 ┆ 3.099681 │\n",
       "│ 8        ┆ L1      ┆ 3.021101  ┆ 0.204874 ┆ 2.638489 ┆ 3.789087 │\n",
       "│ 9        ┆ L1      ┆ 2.969039  ┆ 0.207485 ┆ 2.662758 ┆ 3.738622 │\n",
       "│ 9        ┆ L2      ┆ 2.945677  ┆ 0.182095 ┆ 2.647383 ┆ 3.642662 │\n",
       "│ 10       ┆ L1      ┆ 3.003434  ┆ 0.199444 ┆ 2.669317 ┆ 3.700963 │\n",
       "│ 10       ┆ L2      ┆ 2.985401  ┆ 0.181883 ┆ 2.669317 ┆ 3.642662 │\n",
       "│ 11       ┆ L1      ┆ 2.766269  ┆ 0.197139 ┆ 2.485721 ┆ 3.63789  │\n",
       "│ 11       ┆ OTH     ┆ 2.72979   ┆ 0.161205 ┆ 2.489958 ┆ 3.274158 │\n",
       "│ 11       ┆ U1      ┆ 2.755964  ┆ 0.176399 ┆ 2.489958 ┆ 3.295347 │\n",
       "│ 11       ┆ U3      ┆ 2.621846  ┆ 0.162245 ┆ 2.369216 ┆ 3.059942 │\n",
       "└──────────┴─────────┴───────────┴──────────┴──────────┴──────────┘"
      ]
     },
     "execution_count": 10,
     "metadata": {},
     "output_type": "execute_result"
    }
   ],
   "source": [
    "base_log10_fares = train_df.group_by('route_id', 'carrier').agg(\n",
    "    pl.col('total_fare').log10().mean().alias('base_fare'),\n",
    "    pl.col('total_fare').log10().std().alias('std_fare'),\n",
    "    pl.col('total_fare').log10().min().alias('min_fare'),\n",
    "    pl.col('total_fare').log10().max().alias('max_fare')\n",
    ").sort('route_id', 'carrier')\n",
    "\n",
    "base_log10_fares"
   ]
  },
  {
   "cell_type": "code",
   "execution_count": 11,
   "metadata": {},
   "outputs": [
    {
     "data": {
      "text/html": [
       "<div><style>\n",
       ".dataframe > thead > tr,\n",
       ".dataframe > tbody > tr {\n",
       "  text-align: right;\n",
       "  white-space: pre-wrap;\n",
       "}\n",
       "</style>\n",
       "<small>shape: (9, 5)</small><table border=\"1\" class=\"dataframe\"><thead><tr><th>statistic</th><th>base_fare</th><th>std_fare</th><th>min_fare</th><th>max_fare</th></tr><tr><td>str</td><td>f64</td><td>f64</td><td>f64</td><td>f64</td></tr></thead><tbody><tr><td>&quot;count&quot;</td><td>34.0</td><td>34.0</td><td>34.0</td><td>34.0</td></tr><tr><td>&quot;null_count&quot;</td><td>0.0</td><td>0.0</td><td>0.0</td><td>0.0</td></tr><tr><td>&quot;mean&quot;</td><td>2.780166</td><td>0.182301</td><td>2.481561</td><td>3.440914</td></tr><tr><td>&quot;std&quot;</td><td>0.131822</td><td>0.029635</td><td>0.088668</td><td>0.251219</td></tr><tr><td>&quot;min&quot;</td><td>2.578117</td><td>0.11764</td><td>2.369216</td><td>3.05423</td></tr><tr><td>&quot;25%&quot;</td><td>2.671029</td><td>0.161205</td><td>2.418301</td><td>3.24005</td></tr><tr><td>&quot;50%&quot;</td><td>2.763481</td><td>0.182345</td><td>2.472756</td><td>3.438226</td></tr><tr><td>&quot;75%&quot;</td><td>2.877514</td><td>0.20389</td><td>2.489958</td><td>3.672283</td></tr><tr><td>&quot;max&quot;</td><td>3.021101</td><td>0.24627</td><td>2.669317</td><td>3.803047</td></tr></tbody></table></div>"
      ],
      "text/plain": [
       "shape: (9, 5)\n",
       "┌────────────┬───────────┬──────────┬──────────┬──────────┐\n",
       "│ statistic  ┆ base_fare ┆ std_fare ┆ min_fare ┆ max_fare │\n",
       "│ ---        ┆ ---       ┆ ---      ┆ ---      ┆ ---      │\n",
       "│ str        ┆ f64       ┆ f64      ┆ f64      ┆ f64      │\n",
       "╞════════════╪═══════════╪══════════╪══════════╪══════════╡\n",
       "│ count      ┆ 34.0      ┆ 34.0     ┆ 34.0     ┆ 34.0     │\n",
       "│ null_count ┆ 0.0       ┆ 0.0      ┆ 0.0      ┆ 0.0      │\n",
       "│ mean       ┆ 2.780166  ┆ 0.182301 ┆ 2.481561 ┆ 3.440914 │\n",
       "│ std        ┆ 0.131822  ┆ 0.029635 ┆ 0.088668 ┆ 0.251219 │\n",
       "│ min        ┆ 2.578117  ┆ 0.11764  ┆ 2.369216 ┆ 3.05423  │\n",
       "│ 25%        ┆ 2.671029  ┆ 0.161205 ┆ 2.418301 ┆ 3.24005  │\n",
       "│ 50%        ┆ 2.763481  ┆ 0.182345 ┆ 2.472756 ┆ 3.438226 │\n",
       "│ 75%        ┆ 2.877514  ┆ 0.20389  ┆ 2.489958 ┆ 3.672283 │\n",
       "│ max        ┆ 3.021101  ┆ 0.24627  ┆ 2.669317 ┆ 3.803047 │\n",
       "└────────────┴───────────┴──────────┴──────────┴──────────┘"
      ]
     },
     "execution_count": 11,
     "metadata": {},
     "output_type": "execute_result"
    }
   ],
   "source": [
    "base_log10_fares.select(pl.col(pl.Float64())).describe()"
   ]
  },
  {
   "cell_type": "code",
   "execution_count": 12,
   "metadata": {},
   "outputs": [
    {
     "data": {
      "text/html": [
       "<div><style>\n",
       ".dataframe > thead > tr,\n",
       ".dataframe > tbody > tr {\n",
       "  text-align: right;\n",
       "  white-space: pre-wrap;\n",
       "}\n",
       "</style>\n",
       "<small>shape: (9, 2)</small><table border=\"1\" class=\"dataframe\"><thead><tr><th>statistic</th><th>value</th></tr><tr><td>str</td><td>f64</td></tr></thead><tbody><tr><td>&quot;count&quot;</td><td>1.556671e6</td></tr><tr><td>&quot;null_count&quot;</td><td>0.0</td></tr><tr><td>&quot;mean&quot;</td><td>-0.000001</td></tr><tr><td>&quot;std&quot;</td><td>0.068808</td></tr><tr><td>&quot;min&quot;</td><td>-0.1681</td></tr><tr><td>&quot;25%&quot;</td><td>-0.0505</td></tr><tr><td>&quot;50%&quot;</td><td>-0.013</td></tr><tr><td>&quot;75%&quot;</td><td>0.0407</td></tr><tr><td>&quot;max&quot;</td><td>0.3802</td></tr></tbody></table></div>"
      ],
      "text/plain": [
       "shape: (9, 2)\n",
       "┌────────────┬────────────┐\n",
       "│ statistic  ┆ value      │\n",
       "│ ---        ┆ ---        │\n",
       "│ str        ┆ f64        │\n",
       "╞════════════╪════════════╡\n",
       "│ count      ┆ 1.556671e6 │\n",
       "│ null_count ┆ 0.0        │\n",
       "│ mean       ┆ -0.000001  │\n",
       "│ std        ┆ 0.068808   │\n",
       "│ min        ┆ -0.1681    │\n",
       "│ 25%        ┆ -0.0505    │\n",
       "│ 50%        ┆ -0.013     │\n",
       "│ 75%        ┆ 0.0407     │\n",
       "│ max        ┆ 0.3802     │\n",
       "└────────────┴────────────┘"
      ]
     },
     "execution_count": 12,
     "metadata": {},
     "output_type": "execute_result"
    }
   ],
   "source": [
    "train_df = train_df.join(\n",
    "    base_log10_fares.select('route_id', 'carrier', 'base_fare'),\n",
    "    on = ['route_id', 'carrier'],\n",
    "    how = 'left'\n",
    ").with_columns(\n",
    "    pl.col('total_fare').log10().alias('log_fare')\n",
    ").with_columns(\n",
    "    (\n",
    "        (pl.col('log_fare') - pl.col('base_fare')) / pl.col('base_fare')\n",
    "    ).round(4).alias('scaled_fare')\n",
    ")\n",
    "\n",
    "train_df['scaled_fare'].describe()"
   ]
  },
  {
   "cell_type": "code",
   "execution_count": 13,
   "metadata": {},
   "outputs": [
    {
     "data": {
      "text/html": [
       "<div><style>\n",
       ".dataframe > thead > tr,\n",
       ".dataframe > tbody > tr {\n",
       "  text-align: right;\n",
       "  white-space: pre-wrap;\n",
       "}\n",
       "</style>\n",
       "<small>shape: (9, 2)</small><table border=\"1\" class=\"dataframe\"><thead><tr><th>statistic</th><th>value</th></tr><tr><td>str</td><td>f64</td></tr></thead><tbody><tr><td>&quot;count&quot;</td><td>29492.0</td></tr><tr><td>&quot;null_count&quot;</td><td>0.0</td></tr><tr><td>&quot;mean&quot;</td><td>-0.017314</td></tr><tr><td>&quot;std&quot;</td><td>0.070193</td></tr><tr><td>&quot;min&quot;</td><td>-0.1681</td></tr><tr><td>&quot;25%&quot;</td><td>-0.0707</td></tr><tr><td>&quot;50%&quot;</td><td>-0.0312</td></tr><tr><td>&quot;75%&quot;</td><td>0.0229</td></tr><tr><td>&quot;max&quot;</td><td>0.5109</td></tr></tbody></table></div>"
      ],
      "text/plain": [
       "shape: (9, 2)\n",
       "┌────────────┬───────────┐\n",
       "│ statistic  ┆ value     │\n",
       "│ ---        ┆ ---       │\n",
       "│ str        ┆ f64       │\n",
       "╞════════════╪═══════════╡\n",
       "│ count      ┆ 29492.0   │\n",
       "│ null_count ┆ 0.0       │\n",
       "│ mean       ┆ -0.017314 │\n",
       "│ std        ┆ 0.070193  │\n",
       "│ min        ┆ -0.1681   │\n",
       "│ 25%        ┆ -0.0707   │\n",
       "│ 50%        ┆ -0.0312   │\n",
       "│ 75%        ┆ 0.0229    │\n",
       "│ max        ┆ 0.5109    │\n",
       "└────────────┴───────────┘"
      ]
     },
     "execution_count": 13,
     "metadata": {},
     "output_type": "execute_result"
    }
   ],
   "source": [
    "val_df = val_df.join(\n",
    "    base_log10_fares.select('route_id', 'carrier', 'base_fare'),\n",
    "    on = ['route_id', 'carrier'],\n",
    "    how = 'left'\n",
    ").with_columns(\n",
    "    pl.col('total_fare').log10().alias('log_fare')\n",
    ").with_columns(\n",
    "    (\n",
    "        (pl.col('log_fare') - pl.col('base_fare')) / pl.col('base_fare')\n",
    "    ).round(4).alias('scaled_fare')\n",
    ")\n",
    "\n",
    "val_df['scaled_fare'].describe()"
   ]
  },
  {
   "cell_type": "code",
   "execution_count": 14,
   "metadata": {},
   "outputs": [
    {
     "data": {
      "text/html": [
       "<div><style>\n",
       ".dataframe > thead > tr,\n",
       ".dataframe > tbody > tr {\n",
       "  text-align: right;\n",
       "  white-space: pre-wrap;\n",
       "}\n",
       "</style>\n",
       "<small>shape: (1_556_671, 24)</small><table border=\"1\" class=\"dataframe\"><thead><tr><th>carrier</th><th>flt_num</th><th>flt_departure_dt</th><th>observation_date</th><th>total_fare</th><th>days_till_flight</th><th>is_dst</th><th>route_id</th><th>flt_departure_local_time</th><th>flt_arrival_local_time</th><th>dur_min</th><th>tz_min</th><th>over_mn</th><th>dpt_4h_od</th><th>flt_count_dpt_24h</th><th>flt_count_dpt_4h</th><th>scaled_demand</th><th>scaled_share</th><th>origin_id</th><th>destination_id</th><th>flt_info_null</th><th>base_fare</th><th>log_fare</th><th>scaled_fare</th></tr><tr><td>str</td><td>i64</td><td>date</td><td>date</td><td>i64</td><td>i16</td><td>i8</td><td>u8</td><td>datetime[ns]</td><td>datetime[ns]</td><td>i16</td><td>i16</td><td>i8</td><td>i8</td><td>u8</td><td>u8</td><td>i64</td><td>i64</td><td>u8</td><td>u8</td><td>u8</td><td>f64</td><td>f64</td><td>f64</td></tr></thead><tbody><tr><td>&quot;L1&quot;</td><td>6523</td><td>2018-03-06</td><td>2018-02-26</td><td>297</td><td>8</td><td>0</td><td>3</td><td>2018-03-06 06:00:00</td><td>2018-03-06 10:58:00</td><td>298</td><td>-480</td><td>0</td><td>1</td><td>8</td><td>1</td><td>2873</td><td>392</td><td>3</td><td>2</td><td>0</td><td>2.972533</td><td>2.472756</td><td>-0.1681</td></tr><tr><td>&quot;L1&quot;</td><td>6523</td><td>2018-03-06</td><td>2018-02-27</td><td>297</td><td>7</td><td>0</td><td>3</td><td>2018-03-06 06:00:00</td><td>2018-03-06 10:58:00</td><td>298</td><td>-480</td><td>0</td><td>1</td><td>8</td><td>1</td><td>2873</td><td>392</td><td>3</td><td>2</td><td>0</td><td>2.972533</td><td>2.472756</td><td>-0.1681</td></tr><tr><td>&quot;L1&quot;</td><td>5663</td><td>2018-03-09</td><td>2018-02-25</td><td>297</td><td>12</td><td>0</td><td>3</td><td>2018-03-09 12:17:00</td><td>2018-03-09 17:16:00</td><td>299</td><td>-480</td><td>0</td><td>3</td><td>8</td><td>3</td><td>2873</td><td>392</td><td>3</td><td>2</td><td>0</td><td>2.972533</td><td>2.472756</td><td>-0.1681</td></tr><tr><td>&quot;L1&quot;</td><td>5663</td><td>2018-03-09</td><td>2018-02-26</td><td>297</td><td>11</td><td>0</td><td>3</td><td>2018-03-09 12:17:00</td><td>2018-03-09 17:16:00</td><td>299</td><td>-480</td><td>0</td><td>3</td><td>8</td><td>3</td><td>2873</td><td>392</td><td>3</td><td>2</td><td>0</td><td>2.972533</td><td>2.472756</td><td>-0.1681</td></tr><tr><td>&quot;L1&quot;</td><td>3861</td><td>2018-03-10</td><td>2018-02-23</td><td>297</td><td>15</td><td>0</td><td>3</td><td>2018-03-10 15:55:00</td><td>2018-03-10 20:52:00</td><td>297</td><td>-480</td><td>0</td><td>3</td><td>8</td><td>3</td><td>2873</td><td>392</td><td>3</td><td>2</td><td>0</td><td>2.972533</td><td>2.472756</td><td>-0.1681</td></tr><tr><td>&quot;L1&quot;</td><td>5663</td><td>2018-03-10</td><td>2018-02-23</td><td>297</td><td>15</td><td>0</td><td>3</td><td>2018-03-10 12:17:00</td><td>2018-03-10 17:16:00</td><td>299</td><td>-480</td><td>0</td><td>3</td><td>8</td><td>3</td><td>2873</td><td>392</td><td>3</td><td>2</td><td>0</td><td>2.972533</td><td>2.472756</td><td>-0.1681</td></tr><tr><td>&quot;L1&quot;</td><td>6523</td><td>2018-03-10</td><td>2018-02-23</td><td>297</td><td>15</td><td>0</td><td>3</td><td>2018-03-10 06:05:00</td><td>2018-03-10 11:03:00</td><td>298</td><td>-480</td><td>0</td><td>1</td><td>8</td><td>1</td><td>2873</td><td>392</td><td>3</td><td>2</td><td>0</td><td>2.972533</td><td>2.472756</td><td>-0.1681</td></tr><tr><td>&quot;L1&quot;</td><td>6294</td><td>2018-03-10</td><td>2018-02-23</td><td>297</td><td>15</td><td>0</td><td>3</td><td>2018-03-10 13:45:00</td><td>2018-03-10 18:43:00</td><td>298</td><td>-480</td><td>0</td><td>3</td><td>8</td><td>3</td><td>2873</td><td>392</td><td>3</td><td>2</td><td>0</td><td>2.972533</td><td>2.472756</td><td>-0.1681</td></tr><tr><td>&quot;L1&quot;</td><td>6523</td><td>2018-03-10</td><td>2018-02-24</td><td>297</td><td>14</td><td>0</td><td>3</td><td>2018-03-10 06:05:00</td><td>2018-03-10 11:03:00</td><td>298</td><td>-480</td><td>0</td><td>1</td><td>8</td><td>1</td><td>2873</td><td>392</td><td>3</td><td>2</td><td>0</td><td>2.972533</td><td>2.472756</td><td>-0.1681</td></tr><tr><td>&quot;L1&quot;</td><td>6294</td><td>2018-03-10</td><td>2018-02-24</td><td>297</td><td>14</td><td>0</td><td>3</td><td>2018-03-10 13:45:00</td><td>2018-03-10 18:43:00</td><td>298</td><td>-480</td><td>0</td><td>3</td><td>8</td><td>3</td><td>2873</td><td>392</td><td>3</td><td>2</td><td>0</td><td>2.972533</td><td>2.472756</td><td>-0.1681</td></tr><tr><td>&hellip;</td><td>&hellip;</td><td>&hellip;</td><td>&hellip;</td><td>&hellip;</td><td>&hellip;</td><td>&hellip;</td><td>&hellip;</td><td>&hellip;</td><td>&hellip;</td><td>&hellip;</td><td>&hellip;</td><td>&hellip;</td><td>&hellip;</td><td>&hellip;</td><td>&hellip;</td><td>&hellip;</td><td>&hellip;</td><td>&hellip;</td><td>&hellip;</td><td>&hellip;</td><td>&hellip;</td><td>&hellip;</td><td>&hellip;</td></tr><tr><td>&quot;L2&quot;</td><td>1980</td><td>2018-01-13</td><td>2017-12-24</td><td>4639</td><td>20</td><td>0</td><td>4</td><td>2018-01-13 08:42:00</td><td>2018-01-13 10:30:00</td><td>108</td><td>-480</td><td>0</td><td>2</td><td>33</td><td>7</td><td>6659</td><td>212</td><td>3</td><td>4</td><td>0</td><td>2.680285</td><td>3.666424</td><td>0.3679</td></tr><tr><td>&quot;L2&quot;</td><td>4680</td><td>2018-01-13</td><td>2018-01-13</td><td>4639</td><td>0</td><td>0</td><td>4</td><td>2018-01-13 16:16:00</td><td>2018-01-13 17:42:00</td><td>86</td><td>-480</td><td>0</td><td>4</td><td>33</td><td>9</td><td>6659</td><td>212</td><td>3</td><td>4</td><td>0</td><td>2.680285</td><td>3.666424</td><td>0.3679</td></tr><tr><td>&quot;L2&quot;</td><td>1355</td><td>2018-01-07</td><td>2018-01-06</td><td>4639</td><td>1</td><td>0</td><td>6</td><td>2018-01-07 14:07:00</td><td>2018-01-07 15:20:00</td><td>73</td><td>-480</td><td>0</td><td>3</td><td>36</td><td>8</td><td>6659</td><td>213</td><td>4</td><td>3</td><td>0</td><td>2.660753</td><td>3.666424</td><td>0.378</td></tr><tr><td>&quot;L2&quot;</td><td>8363</td><td>2018-01-08</td><td>2017-12-22</td><td>4639</td><td>17</td><td>0</td><td>6</td><td>2018-01-08 08:30:00</td><td>2018-01-08 09:59:00</td><td>89</td><td>-480</td><td>0</td><td>2</td><td>43</td><td>9</td><td>6659</td><td>213</td><td>4</td><td>3</td><td>0</td><td>2.660753</td><td>3.666424</td><td>0.378</td></tr><tr><td>&quot;L2&quot;</td><td>8363</td><td>2018-01-08</td><td>2017-12-23</td><td>4639</td><td>16</td><td>0</td><td>6</td><td>2018-01-08 08:30:00</td><td>2018-01-08 09:59:00</td><td>89</td><td>-480</td><td>0</td><td>2</td><td>43</td><td>9</td><td>6659</td><td>213</td><td>4</td><td>3</td><td>0</td><td>2.660753</td><td>3.666424</td><td>0.378</td></tr><tr><td>&quot;L2&quot;</td><td>3842</td><td>2018-01-08</td><td>2018-01-06</td><td>4639</td><td>2</td><td>0</td><td>6</td><td>2018-01-08 21:30:00</td><td>2018-01-08 22:48:00</td><td>78</td><td>-480</td><td>0</td><td>5</td><td>43</td><td>10</td><td>6659</td><td>213</td><td>4</td><td>3</td><td>0</td><td>2.660753</td><td>3.666424</td><td>0.378</td></tr><tr><td>&quot;L2&quot;</td><td>8363</td><td>2018-01-08</td><td>2018-01-07</td><td>4639</td><td>1</td><td>0</td><td>6</td><td>2018-01-08 08:30:00</td><td>2018-01-08 09:59:00</td><td>89</td><td>-480</td><td>0</td><td>2</td><td>43</td><td>9</td><td>6659</td><td>213</td><td>4</td><td>3</td><td>0</td><td>2.660753</td><td>3.666424</td><td>0.378</td></tr><tr><td>&quot;L2&quot;</td><td>5236</td><td>2018-01-09</td><td>2018-01-06</td><td>4639</td><td>3</td><td>0</td><td>6</td><td>2018-01-09 11:15:00</td><td>2018-01-09 12:38:00</td><td>83</td><td>-480</td><td>0</td><td>2</td><td>33</td><td>8</td><td>6659</td><td>213</td><td>4</td><td>3</td><td>0</td><td>2.660753</td><td>3.666424</td><td>0.378</td></tr><tr><td>&quot;L2&quot;</td><td>5236</td><td>2018-01-09</td><td>2018-01-08</td><td>4639</td><td>1</td><td>0</td><td>6</td><td>2018-01-09 11:15:00</td><td>2018-01-09 12:38:00</td><td>83</td><td>-480</td><td>0</td><td>2</td><td>33</td><td>8</td><td>6659</td><td>213</td><td>4</td><td>3</td><td>0</td><td>2.660753</td><td>3.666424</td><td>0.378</td></tr><tr><td>&quot;L2&quot;</td><td>8363</td><td>2018-01-08</td><td>2017-12-06</td><td>4702</td><td>33</td><td>0</td><td>6</td><td>2018-01-08 08:30:00</td><td>2018-01-08 09:59:00</td><td>89</td><td>-480</td><td>0</td><td>2</td><td>43</td><td>9</td><td>6659</td><td>213</td><td>4</td><td>3</td><td>0</td><td>2.660753</td><td>3.672283</td><td>0.3802</td></tr></tbody></table></div>"
      ],
      "text/plain": [
       "shape: (1_556_671, 24)\n",
       "┌─────────┬─────────┬────────────┬────────────┬───┬────────────┬───────────┬──────────┬────────────┐\n",
       "│ carrier ┆ flt_num ┆ flt_depart ┆ observatio ┆ … ┆ flt_info_n ┆ base_fare ┆ log_fare ┆ scaled_far │\n",
       "│ ---     ┆ ---     ┆ ure_dt     ┆ n_date     ┆   ┆ ull        ┆ ---       ┆ ---      ┆ e          │\n",
       "│ str     ┆ i64     ┆ ---        ┆ ---        ┆   ┆ ---        ┆ f64       ┆ f64      ┆ ---        │\n",
       "│         ┆         ┆ date       ┆ date       ┆   ┆ u8         ┆           ┆          ┆ f64        │\n",
       "╞═════════╪═════════╪════════════╪════════════╪═══╪════════════╪═══════════╪══════════╪════════════╡\n",
       "│ L1      ┆ 6523    ┆ 2018-03-06 ┆ 2018-02-26 ┆ … ┆ 0          ┆ 2.972533  ┆ 2.472756 ┆ -0.1681    │\n",
       "│ L1      ┆ 6523    ┆ 2018-03-06 ┆ 2018-02-27 ┆ … ┆ 0          ┆ 2.972533  ┆ 2.472756 ┆ -0.1681    │\n",
       "│ L1      ┆ 5663    ┆ 2018-03-09 ┆ 2018-02-25 ┆ … ┆ 0          ┆ 2.972533  ┆ 2.472756 ┆ -0.1681    │\n",
       "│ L1      ┆ 5663    ┆ 2018-03-09 ┆ 2018-02-26 ┆ … ┆ 0          ┆ 2.972533  ┆ 2.472756 ┆ -0.1681    │\n",
       "│ L1      ┆ 3861    ┆ 2018-03-10 ┆ 2018-02-23 ┆ … ┆ 0          ┆ 2.972533  ┆ 2.472756 ┆ -0.1681    │\n",
       "│ L1      ┆ 5663    ┆ 2018-03-10 ┆ 2018-02-23 ┆ … ┆ 0          ┆ 2.972533  ┆ 2.472756 ┆ -0.1681    │\n",
       "│ L1      ┆ 6523    ┆ 2018-03-10 ┆ 2018-02-23 ┆ … ┆ 0          ┆ 2.972533  ┆ 2.472756 ┆ -0.1681    │\n",
       "│ L1      ┆ 6294    ┆ 2018-03-10 ┆ 2018-02-23 ┆ … ┆ 0          ┆ 2.972533  ┆ 2.472756 ┆ -0.1681    │\n",
       "│ L1      ┆ 6523    ┆ 2018-03-10 ┆ 2018-02-24 ┆ … ┆ 0          ┆ 2.972533  ┆ 2.472756 ┆ -0.1681    │\n",
       "│ L1      ┆ 6294    ┆ 2018-03-10 ┆ 2018-02-24 ┆ … ┆ 0          ┆ 2.972533  ┆ 2.472756 ┆ -0.1681    │\n",
       "│ …       ┆ …       ┆ …          ┆ …          ┆ … ┆ …          ┆ …         ┆ …        ┆ …          │\n",
       "│ L2      ┆ 1980    ┆ 2018-01-13 ┆ 2017-12-24 ┆ … ┆ 0          ┆ 2.680285  ┆ 3.666424 ┆ 0.3679     │\n",
       "│ L2      ┆ 4680    ┆ 2018-01-13 ┆ 2018-01-13 ┆ … ┆ 0          ┆ 2.680285  ┆ 3.666424 ┆ 0.3679     │\n",
       "│ L2      ┆ 1355    ┆ 2018-01-07 ┆ 2018-01-06 ┆ … ┆ 0          ┆ 2.660753  ┆ 3.666424 ┆ 0.378      │\n",
       "│ L2      ┆ 8363    ┆ 2018-01-08 ┆ 2017-12-22 ┆ … ┆ 0          ┆ 2.660753  ┆ 3.666424 ┆ 0.378      │\n",
       "│ L2      ┆ 8363    ┆ 2018-01-08 ┆ 2017-12-23 ┆ … ┆ 0          ┆ 2.660753  ┆ 3.666424 ┆ 0.378      │\n",
       "│ L2      ┆ 3842    ┆ 2018-01-08 ┆ 2018-01-06 ┆ … ┆ 0          ┆ 2.660753  ┆ 3.666424 ┆ 0.378      │\n",
       "│ L2      ┆ 8363    ┆ 2018-01-08 ┆ 2018-01-07 ┆ … ┆ 0          ┆ 2.660753  ┆ 3.666424 ┆ 0.378      │\n",
       "│ L2      ┆ 5236    ┆ 2018-01-09 ┆ 2018-01-06 ┆ … ┆ 0          ┆ 2.660753  ┆ 3.666424 ┆ 0.378      │\n",
       "│ L2      ┆ 5236    ┆ 2018-01-09 ┆ 2018-01-08 ┆ … ┆ 0          ┆ 2.660753  ┆ 3.666424 ┆ 0.378      │\n",
       "│ L2      ┆ 8363    ┆ 2018-01-08 ┆ 2017-12-06 ┆ … ┆ 0          ┆ 2.660753  ┆ 3.672283 ┆ 0.3802     │\n",
       "└─────────┴─────────┴────────────┴────────────┴───┴────────────┴───────────┴──────────┴────────────┘"
      ]
     },
     "execution_count": 14,
     "metadata": {},
     "output_type": "execute_result"
    }
   ],
   "source": [
    "train_df.sort('scaled_fare')"
   ]
  },
  {
   "cell_type": "code",
   "execution_count": 15,
   "metadata": {},
   "outputs": [
    {
     "data": {
      "text/html": [
       "<div><style>\n",
       ".dataframe > thead > tr,\n",
       ".dataframe > tbody > tr {\n",
       "  text-align: right;\n",
       "  white-space: pre-wrap;\n",
       "}\n",
       "</style>\n",
       "<small>shape: (29_492, 24)</small><table border=\"1\" class=\"dataframe\"><thead><tr><th>carrier</th><th>flt_num</th><th>flt_departure_dt</th><th>observation_date</th><th>total_fare</th><th>days_till_flight</th><th>is_dst</th><th>route_id</th><th>flt_departure_local_time</th><th>flt_arrival_local_time</th><th>dur_min</th><th>tz_min</th><th>over_mn</th><th>dpt_4h_od</th><th>flt_count_dpt_24h</th><th>flt_count_dpt_4h</th><th>scaled_demand</th><th>scaled_share</th><th>origin_id</th><th>destination_id</th><th>flt_info_null</th><th>base_fare</th><th>log_fare</th><th>scaled_fare</th></tr><tr><td>str</td><td>i64</td><td>date</td><td>date</td><td>i64</td><td>i16</td><td>i8</td><td>u8</td><td>datetime[ns]</td><td>datetime[ns]</td><td>i16</td><td>i16</td><td>i8</td><td>i8</td><td>u8</td><td>u8</td><td>i64</td><td>i64</td><td>u8</td><td>u8</td><td>u8</td><td>f64</td><td>f64</td><td>f64</td></tr></thead><tbody><tr><td>&quot;L1&quot;</td><td>2149</td><td>2018-12-04</td><td>2018-11-13</td><td>297</td><td>21</td><td>0</td><td>3</td><td>2018-12-04 01:05:00</td><td>2018-12-04 05:59:00</td><td>294</td><td>-480</td><td>0</td><td>0</td><td>8</td><td>1</td><td>2790</td><td>405</td><td>3</td><td>2</td><td>0</td><td>2.972533</td><td>2.472756</td><td>-0.1681</td></tr><tr><td>&quot;L1&quot;</td><td>2149</td><td>2018-12-05</td><td>2018-10-24</td><td>297</td><td>42</td><td>0</td><td>3</td><td>2018-12-05 01:05:00</td><td>2018-12-05 05:59:00</td><td>294</td><td>-480</td><td>0</td><td>0</td><td>8</td><td>1</td><td>2790</td><td>405</td><td>3</td><td>2</td><td>0</td><td>2.972533</td><td>2.472756</td><td>-0.1681</td></tr><tr><td>&quot;L1&quot;</td><td>2149</td><td>2018-12-05</td><td>2018-10-27</td><td>297</td><td>39</td><td>0</td><td>3</td><td>2018-12-05 01:05:00</td><td>2018-12-05 05:59:00</td><td>294</td><td>-480</td><td>0</td><td>0</td><td>8</td><td>1</td><td>2790</td><td>405</td><td>3</td><td>2</td><td>0</td><td>2.972533</td><td>2.472756</td><td>-0.1681</td></tr><tr><td>&quot;L1&quot;</td><td>2149</td><td>2018-12-05</td><td>2018-10-31</td><td>297</td><td>35</td><td>0</td><td>3</td><td>2018-12-05 01:05:00</td><td>2018-12-05 05:59:00</td><td>294</td><td>-480</td><td>0</td><td>0</td><td>8</td><td>1</td><td>2790</td><td>405</td><td>3</td><td>2</td><td>0</td><td>2.972533</td><td>2.472756</td><td>-0.1681</td></tr><tr><td>&quot;L1&quot;</td><td>2149</td><td>2018-12-05</td><td>2018-11-01</td><td>297</td><td>34</td><td>0</td><td>3</td><td>2018-12-05 01:05:00</td><td>2018-12-05 05:59:00</td><td>294</td><td>-480</td><td>0</td><td>0</td><td>8</td><td>1</td><td>2790</td><td>405</td><td>3</td><td>2</td><td>0</td><td>2.972533</td><td>2.472756</td><td>-0.1681</td></tr><tr><td>&quot;L1&quot;</td><td>2149</td><td>2018-12-05</td><td>2018-11-02</td><td>297</td><td>33</td><td>0</td><td>3</td><td>2018-12-05 01:05:00</td><td>2018-12-05 05:59:00</td><td>294</td><td>-480</td><td>0</td><td>0</td><td>8</td><td>1</td><td>2790</td><td>405</td><td>3</td><td>2</td><td>0</td><td>2.972533</td><td>2.472756</td><td>-0.1681</td></tr><tr><td>&quot;L1&quot;</td><td>2149</td><td>2018-12-05</td><td>2018-11-04</td><td>297</td><td>31</td><td>0</td><td>3</td><td>2018-12-05 01:05:00</td><td>2018-12-05 05:59:00</td><td>294</td><td>-480</td><td>0</td><td>0</td><td>8</td><td>1</td><td>2790</td><td>405</td><td>3</td><td>2</td><td>0</td><td>2.972533</td><td>2.472756</td><td>-0.1681</td></tr><tr><td>&quot;L1&quot;</td><td>6523</td><td>2018-12-05</td><td>2018-11-12</td><td>297</td><td>23</td><td>0</td><td>3</td><td>2018-12-05 06:00:00</td><td>2018-12-05 10:51:00</td><td>291</td><td>-480</td><td>0</td><td>1</td><td>8</td><td>1</td><td>2790</td><td>405</td><td>3</td><td>2</td><td>0</td><td>2.972533</td><td>2.472756</td><td>-0.1681</td></tr><tr><td>&quot;L1&quot;</td><td>2149</td><td>2018-12-05</td><td>2018-11-13</td><td>297</td><td>22</td><td>0</td><td>3</td><td>2018-12-05 01:05:00</td><td>2018-12-05 05:59:00</td><td>294</td><td>-480</td><td>0</td><td>0</td><td>8</td><td>1</td><td>2790</td><td>405</td><td>3</td><td>2</td><td>0</td><td>2.972533</td><td>2.472756</td><td>-0.1681</td></tr><tr><td>&quot;L1&quot;</td><td>2149</td><td>2018-12-06</td><td>2018-10-24</td><td>316</td><td>43</td><td>0</td><td>3</td><td>2018-12-06 01:05:00</td><td>2018-12-06 05:59:00</td><td>294</td><td>-480</td><td>0</td><td>0</td><td>8</td><td>1</td><td>2790</td><td>405</td><td>3</td><td>2</td><td>0</td><td>2.972533</td><td>2.499687</td><td>-0.1591</td></tr><tr><td>&hellip;</td><td>&hellip;</td><td>&hellip;</td><td>&hellip;</td><td>&hellip;</td><td>&hellip;</td><td>&hellip;</td><td>&hellip;</td><td>&hellip;</td><td>&hellip;</td><td>&hellip;</td><td>&hellip;</td><td>&hellip;</td><td>&hellip;</td><td>&hellip;</td><td>&hellip;</td><td>&hellip;</td><td>&hellip;</td><td>&hellip;</td><td>&hellip;</td><td>&hellip;</td><td>&hellip;</td><td>&hellip;</td><td>&hellip;</td></tr><tr><td>&quot;L2&quot;</td><td>8103</td><td>2018-12-01</td><td>2018-11-14</td><td>2765</td><td>17</td><td>0</td><td>4</td><td>2018-12-01 07:00:00</td><td>2018-12-01 08:25:00</td><td>85</td><td>-480</td><td>0</td><td>1</td><td>30</td><td>5</td><td>7128</td><td>227</td><td>3</td><td>4</td><td>0</td><td>2.680285</td><td>3.441695</td><td>0.2841</td></tr><tr><td>&quot;L2&quot;</td><td>2200</td><td>2018-12-06</td><td>2018-12-06</td><td>2765</td><td>0</td><td>0</td><td>6</td><td>2018-12-06 19:50:00</td><td>2018-12-06 21:02:00</td><td>72</td><td>-480</td><td>0</td><td>4</td><td>35</td><td>8</td><td>7128</td><td>224</td><td>4</td><td>3</td><td>0</td><td>2.660753</td><td>3.441695</td><td>0.2935</td></tr><tr><td>&quot;OTH&quot;</td><td>5465</td><td>2018-12-07</td><td>2018-12-02</td><td>7859</td><td>5</td><td>0</td><td>4</td><td>null</td><td>null</td><td>null</td><td>null</td><td>null</td><td>null</td><td>null</td><td>null</td><td>7128</td><td>265</td><td>3</td><td>4</td><td>1</td><td>2.589739</td><td>3.895367</td><td>0.5042</td></tr><tr><td>&quot;OTH&quot;</td><td>5811</td><td>2018-12-07</td><td>2018-12-02</td><td>7859</td><td>5</td><td>0</td><td>4</td><td>null</td><td>null</td><td>null</td><td>null</td><td>null</td><td>null</td><td>null</td><td>null</td><td>7128</td><td>265</td><td>3</td><td>4</td><td>1</td><td>2.589739</td><td>3.895367</td><td>0.5042</td></tr><tr><td>&quot;OTH&quot;</td><td>6206</td><td>2018-12-07</td><td>2018-12-02</td><td>7859</td><td>5</td><td>0</td><td>4</td><td>null</td><td>null</td><td>null</td><td>null</td><td>null</td><td>null</td><td>null</td><td>null</td><td>7128</td><td>265</td><td>3</td><td>4</td><td>1</td><td>2.589739</td><td>3.895367</td><td>0.5042</td></tr><tr><td>&quot;OTH&quot;</td><td>6614</td><td>2018-12-07</td><td>2018-12-02</td><td>7859</td><td>5</td><td>0</td><td>4</td><td>null</td><td>null</td><td>null</td><td>null</td><td>null</td><td>null</td><td>null</td><td>null</td><td>7128</td><td>265</td><td>3</td><td>4</td><td>1</td><td>2.589739</td><td>3.895367</td><td>0.5042</td></tr><tr><td>&quot;OTH&quot;</td><td>6005</td><td>2018-12-07</td><td>2018-12-02</td><td>7859</td><td>5</td><td>0</td><td>6</td><td>null</td><td>null</td><td>null</td><td>null</td><td>null</td><td>null</td><td>null</td><td>null</td><td>7128</td><td>266</td><td>4</td><td>3</td><td>1</td><td>2.578117</td><td>3.895367</td><td>0.5109</td></tr><tr><td>&quot;OTH&quot;</td><td>6413</td><td>2018-12-07</td><td>2018-12-02</td><td>7859</td><td>5</td><td>0</td><td>6</td><td>null</td><td>null</td><td>null</td><td>null</td><td>null</td><td>null</td><td>null</td><td>null</td><td>7128</td><td>266</td><td>4</td><td>3</td><td>1</td><td>2.578117</td><td>3.895367</td><td>0.5109</td></tr><tr><td>&quot;OTH&quot;</td><td>5638</td><td>2018-12-07</td><td>2018-12-02</td><td>7859</td><td>5</td><td>0</td><td>6</td><td>null</td><td>null</td><td>null</td><td>null</td><td>null</td><td>null</td><td>null</td><td>null</td><td>7128</td><td>266</td><td>4</td><td>3</td><td>1</td><td>2.578117</td><td>3.895367</td><td>0.5109</td></tr><tr><td>&quot;OTH&quot;</td><td>5292</td><td>2018-12-07</td><td>2018-12-02</td><td>7859</td><td>5</td><td>0</td><td>6</td><td>null</td><td>null</td><td>null</td><td>null</td><td>null</td><td>null</td><td>null</td><td>null</td><td>7128</td><td>266</td><td>4</td><td>3</td><td>1</td><td>2.578117</td><td>3.895367</td><td>0.5109</td></tr></tbody></table></div>"
      ],
      "text/plain": [
       "shape: (29_492, 24)\n",
       "┌─────────┬─────────┬────────────┬────────────┬───┬────────────┬───────────┬──────────┬────────────┐\n",
       "│ carrier ┆ flt_num ┆ flt_depart ┆ observatio ┆ … ┆ flt_info_n ┆ base_fare ┆ log_fare ┆ scaled_far │\n",
       "│ ---     ┆ ---     ┆ ure_dt     ┆ n_date     ┆   ┆ ull        ┆ ---       ┆ ---      ┆ e          │\n",
       "│ str     ┆ i64     ┆ ---        ┆ ---        ┆   ┆ ---        ┆ f64       ┆ f64      ┆ ---        │\n",
       "│         ┆         ┆ date       ┆ date       ┆   ┆ u8         ┆           ┆          ┆ f64        │\n",
       "╞═════════╪═════════╪════════════╪════════════╪═══╪════════════╪═══════════╪══════════╪════════════╡\n",
       "│ L1      ┆ 2149    ┆ 2018-12-04 ┆ 2018-11-13 ┆ … ┆ 0          ┆ 2.972533  ┆ 2.472756 ┆ -0.1681    │\n",
       "│ L1      ┆ 2149    ┆ 2018-12-05 ┆ 2018-10-24 ┆ … ┆ 0          ┆ 2.972533  ┆ 2.472756 ┆ -0.1681    │\n",
       "│ L1      ┆ 2149    ┆ 2018-12-05 ┆ 2018-10-27 ┆ … ┆ 0          ┆ 2.972533  ┆ 2.472756 ┆ -0.1681    │\n",
       "│ L1      ┆ 2149    ┆ 2018-12-05 ┆ 2018-10-31 ┆ … ┆ 0          ┆ 2.972533  ┆ 2.472756 ┆ -0.1681    │\n",
       "│ L1      ┆ 2149    ┆ 2018-12-05 ┆ 2018-11-01 ┆ … ┆ 0          ┆ 2.972533  ┆ 2.472756 ┆ -0.1681    │\n",
       "│ L1      ┆ 2149    ┆ 2018-12-05 ┆ 2018-11-02 ┆ … ┆ 0          ┆ 2.972533  ┆ 2.472756 ┆ -0.1681    │\n",
       "│ L1      ┆ 2149    ┆ 2018-12-05 ┆ 2018-11-04 ┆ … ┆ 0          ┆ 2.972533  ┆ 2.472756 ┆ -0.1681    │\n",
       "│ L1      ┆ 6523    ┆ 2018-12-05 ┆ 2018-11-12 ┆ … ┆ 0          ┆ 2.972533  ┆ 2.472756 ┆ -0.1681    │\n",
       "│ L1      ┆ 2149    ┆ 2018-12-05 ┆ 2018-11-13 ┆ … ┆ 0          ┆ 2.972533  ┆ 2.472756 ┆ -0.1681    │\n",
       "│ L1      ┆ 2149    ┆ 2018-12-06 ┆ 2018-10-24 ┆ … ┆ 0          ┆ 2.972533  ┆ 2.499687 ┆ -0.1591    │\n",
       "│ …       ┆ …       ┆ …          ┆ …          ┆ … ┆ …          ┆ …         ┆ …        ┆ …          │\n",
       "│ L2      ┆ 8103    ┆ 2018-12-01 ┆ 2018-11-14 ┆ … ┆ 0          ┆ 2.680285  ┆ 3.441695 ┆ 0.2841     │\n",
       "│ L2      ┆ 2200    ┆ 2018-12-06 ┆ 2018-12-06 ┆ … ┆ 0          ┆ 2.660753  ┆ 3.441695 ┆ 0.2935     │\n",
       "│ OTH     ┆ 5465    ┆ 2018-12-07 ┆ 2018-12-02 ┆ … ┆ 1          ┆ 2.589739  ┆ 3.895367 ┆ 0.5042     │\n",
       "│ OTH     ┆ 5811    ┆ 2018-12-07 ┆ 2018-12-02 ┆ … ┆ 1          ┆ 2.589739  ┆ 3.895367 ┆ 0.5042     │\n",
       "│ OTH     ┆ 6206    ┆ 2018-12-07 ┆ 2018-12-02 ┆ … ┆ 1          ┆ 2.589739  ┆ 3.895367 ┆ 0.5042     │\n",
       "│ OTH     ┆ 6614    ┆ 2018-12-07 ┆ 2018-12-02 ┆ … ┆ 1          ┆ 2.589739  ┆ 3.895367 ┆ 0.5042     │\n",
       "│ OTH     ┆ 6005    ┆ 2018-12-07 ┆ 2018-12-02 ┆ … ┆ 1          ┆ 2.578117  ┆ 3.895367 ┆ 0.5109     │\n",
       "│ OTH     ┆ 6413    ┆ 2018-12-07 ┆ 2018-12-02 ┆ … ┆ 1          ┆ 2.578117  ┆ 3.895367 ┆ 0.5109     │\n",
       "│ OTH     ┆ 5638    ┆ 2018-12-07 ┆ 2018-12-02 ┆ … ┆ 1          ┆ 2.578117  ┆ 3.895367 ┆ 0.5109     │\n",
       "│ OTH     ┆ 5292    ┆ 2018-12-07 ┆ 2018-12-02 ┆ … ┆ 1          ┆ 2.578117  ┆ 3.895367 ┆ 0.5109     │\n",
       "└─────────┴─────────┴────────────┴────────────┴───┴────────────┴───────────┴──────────┴────────────┘"
      ]
     },
     "execution_count": 15,
     "metadata": {},
     "output_type": "execute_result"
    }
   ],
   "source": [
    "val_df.sort('scaled_fare')"
   ]
  },
  {
   "cell_type": "markdown",
   "metadata": {},
   "source": [
    "### Feature generation"
   ]
  },
  {
   "cell_type": "markdown",
   "metadata": {},
   "source": [
    "#### Last week prices"
   ]
  },
  {
   "cell_type": "code",
   "execution_count": 16,
   "metadata": {},
   "outputs": [
    {
     "data": {
      "text/html": [
       "<div><style>\n",
       ".dataframe > thead > tr,\n",
       ".dataframe > tbody > tr {\n",
       "  text-align: right;\n",
       "  white-space: pre-wrap;\n",
       "}\n",
       "</style>\n",
       "<small>shape: (12, 2)</small><table border=\"1\" class=\"dataframe\"><thead><tr><th>route_id</th><th>route_mean_fare</th></tr><tr><td>u8</td><td>f64</td></tr></thead><tbody><tr><td>0</td><td>783.14774</td></tr><tr><td>1</td><td>1097.415019</td></tr><tr><td>2</td><td>868.048674</td></tr><tr><td>3</td><td>952.040323</td></tr><tr><td>4</td><td>556.355987</td></tr><tr><td>5</td><td>701.940073</td></tr><tr><td>6</td><td>514.156024</td></tr><tr><td>7</td><td>767.79568</td></tr><tr><td>8</td><td>1181.633669</td></tr><tr><td>9</td><td>1011.228984</td></tr><tr><td>10</td><td>1094.24438</td></tr><tr><td>11</td><td>629.608285</td></tr></tbody></table></div>"
      ],
      "text/plain": [
       "shape: (12, 2)\n",
       "┌──────────┬─────────────────┐\n",
       "│ route_id ┆ route_mean_fare │\n",
       "│ ---      ┆ ---             │\n",
       "│ u8       ┆ f64             │\n",
       "╞══════════╪═════════════════╡\n",
       "│ 0        ┆ 783.14774       │\n",
       "│ 1        ┆ 1097.415019     │\n",
       "│ 2        ┆ 868.048674      │\n",
       "│ 3        ┆ 952.040323      │\n",
       "│ 4        ┆ 556.355987      │\n",
       "│ 5        ┆ 701.940073      │\n",
       "│ 6        ┆ 514.156024      │\n",
       "│ 7        ┆ 767.79568       │\n",
       "│ 8        ┆ 1181.633669     │\n",
       "│ 9        ┆ 1011.228984     │\n",
       "│ 10       ┆ 1094.24438      │\n",
       "│ 11       ┆ 629.608285      │\n",
       "└──────────┴─────────────────┘"
      ]
     },
     "execution_count": 16,
     "metadata": {},
     "output_type": "execute_result"
    }
   ],
   "source": [
    "route_mean_fares = train_df.group_by('route_id').agg(\n",
    "    pl.col('total_fare').mean().alias('route_mean_fare')\n",
    ").sort('route_id')\n",
    "\n",
    "route_mean_fares"
   ]
  },
  {
   "cell_type": "code",
   "execution_count": 17,
   "metadata": {},
   "outputs": [
    {
     "data": {
      "text/html": [
       "<div><style>\n",
       ".dataframe > thead > tr,\n",
       ".dataframe > tbody > tr {\n",
       "  text-align: right;\n",
       "  white-space: pre-wrap;\n",
       "}\n",
       "</style>\n",
       "<small>shape: (4_124, 3)</small><table border=\"1\" class=\"dataframe\"><thead><tr><th>route_id</th><th>flt_departure_dt</th><th>7d_route_avg</th></tr><tr><td>u8</td><td>date</td><td>f64</td></tr></thead><tbody><tr><td>0</td><td>2018-02-17</td><td>0.944266</td></tr><tr><td>0</td><td>2018-02-18</td><td>0.944266</td></tr><tr><td>0</td><td>2018-02-19</td><td>0.944139</td></tr><tr><td>0</td><td>2018-02-20</td><td>0.944266</td></tr><tr><td>0</td><td>2018-02-21</td><td>0.944266</td></tr><tr><td>0</td><td>2018-02-22</td><td>1.0408</td></tr><tr><td>0</td><td>2018-02-23</td><td>0.993722</td></tr><tr><td>0</td><td>2018-02-24</td><td>0.92158</td></tr><tr><td>0</td><td>2018-02-25</td><td>0.90173</td></tr><tr><td>0</td><td>2018-02-26</td><td>1.175948</td></tr><tr><td>&hellip;</td><td>&hellip;</td><td>&hellip;</td></tr><tr><td>11</td><td>2018-12-29</td><td>1.87308</td></tr><tr><td>11</td><td>2018-12-30</td><td>1.590395</td></tr><tr><td>11</td><td>2018-12-31</td><td>1.390871</td></tr><tr><td>11</td><td>2019-01-01</td><td>1.281271</td></tr><tr><td>11</td><td>2019-01-02</td><td>1.43029</td></tr><tr><td>11</td><td>2019-01-03</td><td>1.285798</td></tr><tr><td>11</td><td>2019-01-04</td><td>1.156135</td></tr><tr><td>11</td><td>2019-01-05</td><td>1.244479</td></tr><tr><td>11</td><td>2019-01-06</td><td>1.196341</td></tr><tr><td>11</td><td>2019-01-07</td><td>0.872433</td></tr></tbody></table></div>"
      ],
      "text/plain": [
       "shape: (4_124, 3)\n",
       "┌──────────┬──────────────────┬──────────────┐\n",
       "│ route_id ┆ flt_departure_dt ┆ 7d_route_avg │\n",
       "│ ---      ┆ ---              ┆ ---          │\n",
       "│ u8       ┆ date             ┆ f64          │\n",
       "╞══════════╪══════════════════╪══════════════╡\n",
       "│ 0        ┆ 2018-02-17       ┆ 0.944266     │\n",
       "│ 0        ┆ 2018-02-18       ┆ 0.944266     │\n",
       "│ 0        ┆ 2018-02-19       ┆ 0.944139     │\n",
       "│ 0        ┆ 2018-02-20       ┆ 0.944266     │\n",
       "│ 0        ┆ 2018-02-21       ┆ 0.944266     │\n",
       "│ 0        ┆ 2018-02-22       ┆ 1.0408       │\n",
       "│ 0        ┆ 2018-02-23       ┆ 0.993722     │\n",
       "│ 0        ┆ 2018-02-24       ┆ 0.92158      │\n",
       "│ 0        ┆ 2018-02-25       ┆ 0.90173      │\n",
       "│ 0        ┆ 2018-02-26       ┆ 1.175948     │\n",
       "│ …        ┆ …                ┆ …            │\n",
       "│ 11       ┆ 2018-12-29       ┆ 1.87308      │\n",
       "│ 11       ┆ 2018-12-30       ┆ 1.590395     │\n",
       "│ 11       ┆ 2018-12-31       ┆ 1.390871     │\n",
       "│ 11       ┆ 2019-01-01       ┆ 1.281271     │\n",
       "│ 11       ┆ 2019-01-02       ┆ 1.43029      │\n",
       "│ 11       ┆ 2019-01-03       ┆ 1.285798     │\n",
       "│ 11       ┆ 2019-01-04       ┆ 1.156135     │\n",
       "│ 11       ┆ 2019-01-05       ┆ 1.244479     │\n",
       "│ 11       ┆ 2019-01-06       ┆ 1.196341     │\n",
       "│ 11       ┆ 2019-01-07       ┆ 0.872433     │\n",
       "└──────────┴──────────────────┴──────────────┘"
      ]
     },
     "execution_count": 17,
     "metadata": {},
     "output_type": "execute_result"
    }
   ],
   "source": [
    "route_week_ago_fare = processed_train_df.group_by(\n",
    "    'route_id', 'flt_departure_dt'\n",
    ").agg(\n",
    "    pl.col('total_fare').mean()\n",
    ").with_columns(\n",
    "    pl.col('flt_departure_dt') + pl.duration(days = 7)\n",
    ").join(\n",
    "    route_mean_fares,\n",
    "    on = \"route_id\",\n",
    "    how = \"left\"\n",
    ").select(\n",
    "    pl.col('route_id'),\n",
    "    pl.col('flt_departure_dt'),\n",
    "    (\n",
    "        pl.col('total_fare') / pl.col('route_mean_fare')\n",
    "    ).alias('7d_route_avg')\n",
    ").sort('route_id', 'flt_departure_dt')\n",
    "\n",
    "route_week_ago_fare"
   ]
  },
  {
   "cell_type": "code",
   "execution_count": 18,
   "metadata": {},
   "outputs": [
    {
     "data": {
      "text/html": [
       "<div><style>\n",
       ".dataframe > thead > tr,\n",
       ".dataframe > tbody > tr {\n",
       "  text-align: right;\n",
       "  white-space: pre-wrap;\n",
       "}\n",
       "</style>\n",
       "<small>shape: (4_124, 3)</small><table border=\"1\" class=\"dataframe\"><thead><tr><th>route_id</th><th>flt_departure_dt</th><th>14d_route_avg</th></tr><tr><td>u8</td><td>date</td><td>f64</td></tr></thead><tbody><tr><td>0</td><td>2018-02-24</td><td>0.944266</td></tr><tr><td>0</td><td>2018-02-25</td><td>0.944266</td></tr><tr><td>0</td><td>2018-02-26</td><td>0.944139</td></tr><tr><td>0</td><td>2018-02-27</td><td>0.944266</td></tr><tr><td>0</td><td>2018-02-28</td><td>0.944266</td></tr><tr><td>0</td><td>2018-03-01</td><td>1.0408</td></tr><tr><td>0</td><td>2018-03-02</td><td>0.993722</td></tr><tr><td>0</td><td>2018-03-03</td><td>0.92158</td></tr><tr><td>0</td><td>2018-03-04</td><td>0.90173</td></tr><tr><td>0</td><td>2018-03-05</td><td>1.175948</td></tr><tr><td>&hellip;</td><td>&hellip;</td><td>&hellip;</td></tr><tr><td>11</td><td>2019-01-05</td><td>1.87308</td></tr><tr><td>11</td><td>2019-01-06</td><td>1.590395</td></tr><tr><td>11</td><td>2019-01-07</td><td>1.390871</td></tr><tr><td>11</td><td>2019-01-08</td><td>1.281271</td></tr><tr><td>11</td><td>2019-01-09</td><td>1.43029</td></tr><tr><td>11</td><td>2019-01-10</td><td>1.285798</td></tr><tr><td>11</td><td>2019-01-11</td><td>1.156135</td></tr><tr><td>11</td><td>2019-01-12</td><td>1.244479</td></tr><tr><td>11</td><td>2019-01-13</td><td>1.196341</td></tr><tr><td>11</td><td>2019-01-14</td><td>0.872433</td></tr></tbody></table></div>"
      ],
      "text/plain": [
       "shape: (4_124, 3)\n",
       "┌──────────┬──────────────────┬───────────────┐\n",
       "│ route_id ┆ flt_departure_dt ┆ 14d_route_avg │\n",
       "│ ---      ┆ ---              ┆ ---           │\n",
       "│ u8       ┆ date             ┆ f64           │\n",
       "╞══════════╪══════════════════╪═══════════════╡\n",
       "│ 0        ┆ 2018-02-24       ┆ 0.944266      │\n",
       "│ 0        ┆ 2018-02-25       ┆ 0.944266      │\n",
       "│ 0        ┆ 2018-02-26       ┆ 0.944139      │\n",
       "│ 0        ┆ 2018-02-27       ┆ 0.944266      │\n",
       "│ 0        ┆ 2018-02-28       ┆ 0.944266      │\n",
       "│ 0        ┆ 2018-03-01       ┆ 1.0408        │\n",
       "│ 0        ┆ 2018-03-02       ┆ 0.993722      │\n",
       "│ 0        ┆ 2018-03-03       ┆ 0.92158       │\n",
       "│ 0        ┆ 2018-03-04       ┆ 0.90173       │\n",
       "│ 0        ┆ 2018-03-05       ┆ 1.175948      │\n",
       "│ …        ┆ …                ┆ …             │\n",
       "│ 11       ┆ 2019-01-05       ┆ 1.87308       │\n",
       "│ 11       ┆ 2019-01-06       ┆ 1.590395      │\n",
       "│ 11       ┆ 2019-01-07       ┆ 1.390871      │\n",
       "│ 11       ┆ 2019-01-08       ┆ 1.281271      │\n",
       "│ 11       ┆ 2019-01-09       ┆ 1.43029       │\n",
       "│ 11       ┆ 2019-01-10       ┆ 1.285798      │\n",
       "│ 11       ┆ 2019-01-11       ┆ 1.156135      │\n",
       "│ 11       ┆ 2019-01-12       ┆ 1.244479      │\n",
       "│ 11       ┆ 2019-01-13       ┆ 1.196341      │\n",
       "│ 11       ┆ 2019-01-14       ┆ 0.872433      │\n",
       "└──────────┴──────────────────┴───────────────┘"
      ]
     },
     "execution_count": 18,
     "metadata": {},
     "output_type": "execute_result"
    }
   ],
   "source": [
    "route_2week_ago_fare = processed_train_df.group_by(\n",
    "    'route_id', 'flt_departure_dt'\n",
    ").agg(\n",
    "    pl.col('total_fare').mean()\n",
    ").with_columns(\n",
    "    pl.col('flt_departure_dt') + pl.duration(days = 14)\n",
    ").join(\n",
    "    route_mean_fares,\n",
    "    on = \"route_id\",\n",
    "    how = \"left\"\n",
    ").select(\n",
    "    pl.col('route_id'),\n",
    "    pl.col('flt_departure_dt'),\n",
    "    (\n",
    "        pl.col('total_fare') / pl.col('route_mean_fare')\n",
    "    ).alias('14d_route_avg')\n",
    ").sort('route_id', 'flt_departure_dt')\n",
    "\n",
    "route_2week_ago_fare"
   ]
  },
  {
   "cell_type": "code",
   "execution_count": 19,
   "metadata": {},
   "outputs": [
    {
     "data": {
      "text/html": [
       "<div><style>\n",
       ".dataframe > thead > tr,\n",
       ".dataframe > tbody > tr {\n",
       "  text-align: right;\n",
       "  white-space: pre-wrap;\n",
       "}\n",
       "</style>\n",
       "<small>shape: (34, 3)</small><table border=\"1\" class=\"dataframe\"><thead><tr><th>route_id</th><th>carrier</th><th>route_carrier_mean_fare</th></tr><tr><td>u8</td><td>str</td><td>f64</td></tr></thead><tbody><tr><td>0</td><td>&quot;L1&quot;</td><td>844.096034</td></tr><tr><td>0</td><td>&quot;U3&quot;</td><td>564.095514</td></tr><tr><td>1</td><td>&quot;L1&quot;</td><td>1097.415019</td></tr><tr><td>2</td><td>&quot;L1&quot;</td><td>965.296259</td></tr><tr><td>2</td><td>&quot;OTH&quot;</td><td>615.358735</td></tr><tr><td>2</td><td>&quot;U3&quot;</td><td>559.28629</td></tr><tr><td>3</td><td>&quot;L1&quot;</td><td>1067.290113</td></tr><tr><td>3</td><td>&quot;OTH&quot;</td><td>629.309001</td></tr><tr><td>3</td><td>&quot;U3&quot;</td><td>719.858787</td></tr><tr><td>4</td><td>&quot;L1&quot;</td><td>532.760727</td></tr><tr><td>&hellip;</td><td>&hellip;</td><td>&hellip;</td></tr><tr><td>7</td><td>&quot;U3&quot;</td><td>565.135681</td></tr><tr><td>8</td><td>&quot;L1&quot;</td><td>1181.633669</td></tr><tr><td>9</td><td>&quot;L1&quot;</td><td>1051.210187</td></tr><tr><td>9</td><td>&quot;L2&quot;</td><td>970.285894</td></tr><tr><td>10</td><td>&quot;L1&quot;</td><td>1125.186307</td></tr><tr><td>10</td><td>&quot;L2&quot;</td><td>1060.529242</td></tr><tr><td>11</td><td>&quot;L1&quot;</td><td>656.159018</td></tr><tr><td>11</td><td>&quot;OTH&quot;</td><td>579.380258</td></tr><tr><td>11</td><td>&quot;U1&quot;</td><td>622.763504</td></tr><tr><td>11</td><td>&quot;U3&quot;</td><td>450.544223</td></tr></tbody></table></div>"
      ],
      "text/plain": [
       "shape: (34, 3)\n",
       "┌──────────┬─────────┬─────────────────────────┐\n",
       "│ route_id ┆ carrier ┆ route_carrier_mean_fare │\n",
       "│ ---      ┆ ---     ┆ ---                     │\n",
       "│ u8       ┆ str     ┆ f64                     │\n",
       "╞══════════╪═════════╪═════════════════════════╡\n",
       "│ 0        ┆ L1      ┆ 844.096034              │\n",
       "│ 0        ┆ U3      ┆ 564.095514              │\n",
       "│ 1        ┆ L1      ┆ 1097.415019             │\n",
       "│ 2        ┆ L1      ┆ 965.296259              │\n",
       "│ 2        ┆ OTH     ┆ 615.358735              │\n",
       "│ 2        ┆ U3      ┆ 559.28629               │\n",
       "│ 3        ┆ L1      ┆ 1067.290113             │\n",
       "│ 3        ┆ OTH     ┆ 629.309001              │\n",
       "│ 3        ┆ U3      ┆ 719.858787              │\n",
       "│ 4        ┆ L1      ┆ 532.760727              │\n",
       "│ …        ┆ …       ┆ …                       │\n",
       "│ 7        ┆ U3      ┆ 565.135681              │\n",
       "│ 8        ┆ L1      ┆ 1181.633669             │\n",
       "│ 9        ┆ L1      ┆ 1051.210187             │\n",
       "│ 9        ┆ L2      ┆ 970.285894              │\n",
       "│ 10       ┆ L1      ┆ 1125.186307             │\n",
       "│ 10       ┆ L2      ┆ 1060.529242             │\n",
       "│ 11       ┆ L1      ┆ 656.159018              │\n",
       "│ 11       ┆ OTH     ┆ 579.380258              │\n",
       "│ 11       ┆ U1      ┆ 622.763504              │\n",
       "│ 11       ┆ U3      ┆ 450.544223              │\n",
       "└──────────┴─────────┴─────────────────────────┘"
      ]
     },
     "execution_count": 19,
     "metadata": {},
     "output_type": "execute_result"
    }
   ],
   "source": [
    "route_carrier_mean_fares = train_df.group_by('route_id', 'carrier').agg(\n",
    "    pl.col('total_fare').mean().alias('route_carrier_mean_fare')\n",
    ").sort('route_id', 'carrier')\n",
    "\n",
    "route_carrier_mean_fares"
   ]
  },
  {
   "cell_type": "code",
   "execution_count": 20,
   "metadata": {},
   "outputs": [
    {
     "data": {
      "text/html": [
       "<div><style>\n",
       ".dataframe > thead > tr,\n",
       ".dataframe > tbody > tr {\n",
       "  text-align: right;\n",
       "  white-space: pre-wrap;\n",
       "}\n",
       "</style>\n",
       "<small>shape: (10_130, 4)</small><table border=\"1\" class=\"dataframe\"><thead><tr><th>route_id</th><th>flt_departure_dt</th><th>carrier</th><th>7d_route_carrier_avg</th></tr><tr><td>u8</td><td>date</td><td>str</td><td>f64</td></tr></thead><tbody><tr><td>0</td><td>2018-02-17</td><td>&quot;U3&quot;</td><td>1.310948</td></tr><tr><td>0</td><td>2018-02-18</td><td>&quot;U3&quot;</td><td>1.310948</td></tr><tr><td>0</td><td>2018-02-19</td><td>&quot;U3&quot;</td><td>1.310771</td></tr><tr><td>0</td><td>2018-02-20</td><td>&quot;U3&quot;</td><td>1.310948</td></tr><tr><td>0</td><td>2018-02-21</td><td>&quot;U3&quot;</td><td>1.310948</td></tr><tr><td>0</td><td>2018-02-22</td><td>&quot;U3&quot;</td><td>1.444968</td></tr><tr><td>0</td><td>2018-02-23</td><td>&quot;U3&quot;</td><td>1.379608</td></tr><tr><td>0</td><td>2018-02-24</td><td>&quot;U3&quot;</td><td>1.279452</td></tr><tr><td>0</td><td>2018-02-25</td><td>&quot;U3&quot;</td><td>1.251893</td></tr><tr><td>0</td><td>2018-02-26</td><td>&quot;U3&quot;</td><td>1.632598</td></tr><tr><td>&hellip;</td><td>&hellip;</td><td>&hellip;</td><td>&hellip;</td></tr><tr><td>11</td><td>2019-01-04</td><td>&quot;U1&quot;</td><td>1.191411</td></tr><tr><td>11</td><td>2019-01-04</td><td>&quot;U3&quot;</td><td>1.23061</td></tr><tr><td>11</td><td>2019-01-05</td><td>&quot;L1&quot;</td><td>1.334801</td></tr><tr><td>11</td><td>2019-01-05</td><td>&quot;U1&quot;</td><td>1.163366</td></tr><tr><td>11</td><td>2019-01-05</td><td>&quot;U3&quot;</td><td>1.246049</td></tr><tr><td>11</td><td>2019-01-06</td><td>&quot;L1&quot;</td><td>1.245454</td></tr><tr><td>11</td><td>2019-01-06</td><td>&quot;U1&quot;</td><td>1.112091</td></tr><tr><td>11</td><td>2019-01-07</td><td>&quot;L1&quot;</td><td>0.861831</td></tr><tr><td>11</td><td>2019-01-07</td><td>&quot;U1&quot;</td><td>0.90402</td></tr><tr><td>11</td><td>2019-01-07</td><td>&quot;U3&quot;</td><td>0.702425</td></tr></tbody></table></div>"
      ],
      "text/plain": [
       "shape: (10_130, 4)\n",
       "┌──────────┬──────────────────┬─────────┬──────────────────────┐\n",
       "│ route_id ┆ flt_departure_dt ┆ carrier ┆ 7d_route_carrier_avg │\n",
       "│ ---      ┆ ---              ┆ ---     ┆ ---                  │\n",
       "│ u8       ┆ date             ┆ str     ┆ f64                  │\n",
       "╞══════════╪══════════════════╪═════════╪══════════════════════╡\n",
       "│ 0        ┆ 2018-02-17       ┆ U3      ┆ 1.310948             │\n",
       "│ 0        ┆ 2018-02-18       ┆ U3      ┆ 1.310948             │\n",
       "│ 0        ┆ 2018-02-19       ┆ U3      ┆ 1.310771             │\n",
       "│ 0        ┆ 2018-02-20       ┆ U3      ┆ 1.310948             │\n",
       "│ 0        ┆ 2018-02-21       ┆ U3      ┆ 1.310948             │\n",
       "│ 0        ┆ 2018-02-22       ┆ U3      ┆ 1.444968             │\n",
       "│ 0        ┆ 2018-02-23       ┆ U3      ┆ 1.379608             │\n",
       "│ 0        ┆ 2018-02-24       ┆ U3      ┆ 1.279452             │\n",
       "│ 0        ┆ 2018-02-25       ┆ U3      ┆ 1.251893             │\n",
       "│ 0        ┆ 2018-02-26       ┆ U3      ┆ 1.632598             │\n",
       "│ …        ┆ …                ┆ …       ┆ …                    │\n",
       "│ 11       ┆ 2019-01-04       ┆ U1      ┆ 1.191411             │\n",
       "│ 11       ┆ 2019-01-04       ┆ U3      ┆ 1.23061              │\n",
       "│ 11       ┆ 2019-01-05       ┆ L1      ┆ 1.334801             │\n",
       "│ 11       ┆ 2019-01-05       ┆ U1      ┆ 1.163366             │\n",
       "│ 11       ┆ 2019-01-05       ┆ U3      ┆ 1.246049             │\n",
       "│ 11       ┆ 2019-01-06       ┆ L1      ┆ 1.245454             │\n",
       "│ 11       ┆ 2019-01-06       ┆ U1      ┆ 1.112091             │\n",
       "│ 11       ┆ 2019-01-07       ┆ L1      ┆ 0.861831             │\n",
       "│ 11       ┆ 2019-01-07       ┆ U1      ┆ 0.90402              │\n",
       "│ 11       ┆ 2019-01-07       ┆ U3      ┆ 0.702425             │\n",
       "└──────────┴──────────────────┴─────────┴──────────────────────┘"
      ]
     },
     "execution_count": 20,
     "metadata": {},
     "output_type": "execute_result"
    }
   ],
   "source": [
    "route_carrier_week_ago_fare = processed_train_df.group_by(\n",
    "    'route_id', 'flt_departure_dt', 'carrier'\n",
    ").agg(\n",
    "    pl.col('total_fare').mean()\n",
    ").with_columns(\n",
    "    pl.col('flt_departure_dt') + pl.duration(days = 7)\n",
    ").join(\n",
    "    route_carrier_mean_fares,\n",
    "    on = ['route_id', 'carrier'],\n",
    "    how = \"left\"\n",
    ").select(\n",
    "    pl.col('route_id'),\n",
    "    pl.col('flt_departure_dt'),\n",
    "    pl.col('carrier'),\n",
    "    (\n",
    "        pl.col('total_fare') / pl.col('route_carrier_mean_fare')\n",
    "    ).alias('7d_route_carrier_avg')\n",
    ").sort('route_id', 'flt_departure_dt', 'carrier')\n",
    "\n",
    "route_carrier_week_ago_fare"
   ]
  },
  {
   "cell_type": "code",
   "execution_count": 21,
   "metadata": {},
   "outputs": [
    {
     "data": {
      "text/html": [
       "<div><style>\n",
       ".dataframe > thead > tr,\n",
       ".dataframe > tbody > tr {\n",
       "  text-align: right;\n",
       "  white-space: pre-wrap;\n",
       "}\n",
       "</style>\n",
       "<small>shape: (1_556_671, 27)</small><table border=\"1\" class=\"dataframe\"><thead><tr><th>carrier</th><th>flt_num</th><th>flt_departure_dt</th><th>observation_date</th><th>total_fare</th><th>days_till_flight</th><th>is_dst</th><th>route_id</th><th>flt_departure_local_time</th><th>flt_arrival_local_time</th><th>dur_min</th><th>tz_min</th><th>over_mn</th><th>dpt_4h_od</th><th>flt_count_dpt_24h</th><th>flt_count_dpt_4h</th><th>scaled_demand</th><th>scaled_share</th><th>origin_id</th><th>destination_id</th><th>flt_info_null</th><th>base_fare</th><th>log_fare</th><th>scaled_fare</th><th>7d_route_avg</th><th>14d_route_avg</th><th>7d_route_carrier_avg</th></tr><tr><td>str</td><td>i64</td><td>date</td><td>date</td><td>i64</td><td>i16</td><td>i8</td><td>u8</td><td>datetime[ns]</td><td>datetime[ns]</td><td>i16</td><td>i16</td><td>i8</td><td>i8</td><td>u8</td><td>u8</td><td>i64</td><td>i64</td><td>u8</td><td>u8</td><td>u8</td><td>f64</td><td>f64</td><td>f64</td><td>f64</td><td>f64</td><td>f64</td></tr></thead><tbody><tr><td>&quot;U1&quot;</td><td>6143</td><td>2018-01-01</td><td>2017-11-27</td><td>469</td><td>35</td><td>0</td><td>11</td><td>null</td><td>null</td><td>null</td><td>null</td><td>null</td><td>null</td><td>null</td><td>null</td><td>null</td><td>null</td><td>7</td><td>3</td><td>1</td><td>2.755964</td><td>2.671173</td><td>-0.0308</td><td>1.0</td><td>1.0</td><td>1.0</td></tr><tr><td>&quot;L1&quot;</td><td>5927</td><td>2018-01-01</td><td>2017-11-27</td><td>1119</td><td>35</td><td>0</td><td>1</td><td>2018-01-01 20:33:00</td><td>2018-01-01 23:50:00</td><td>197</td><td>-300</td><td>0</td><td>5</td><td>5</td><td>1</td><td>1468</td><td>360</td><td>1</td><td>5</td><td>0</td><td>2.991069</td><td>3.04883</td><td>0.0193</td><td>1.0</td><td>1.0</td><td>1.0</td></tr><tr><td>&quot;L3&quot;</td><td>18075</td><td>2018-01-01</td><td>2017-11-27</td><td>422</td><td>35</td><td>0</td><td>6</td><td>2018-01-01 13:20:00</td><td>2018-01-01 14:35:00</td><td>75</td><td>-480</td><td>0</td><td>3</td><td>30</td><td>9</td><td>6659</td><td>228</td><td>4</td><td>3</td><td>0</td><td>2.733692</td><td>2.625312</td><td>-0.0396</td><td>1.0</td><td>1.0</td><td>1.0</td></tr><tr><td>&quot;OTH&quot;</td><td>2416</td><td>2018-01-01</td><td>2017-11-27</td><td>787</td><td>35</td><td>0</td><td>4</td><td>2018-01-01 20:22:00</td><td>2018-01-01 21:46:00</td><td>84</td><td>-480</td><td>0</td><td>5</td><td>30</td><td>4</td><td>6659</td><td>316</td><td>3</td><td>4</td><td>0</td><td>2.589739</td><td>2.895975</td><td>0.1182</td><td>1.0</td><td>1.0</td><td>1.0</td></tr><tr><td>&quot;L3&quot;</td><td>18270</td><td>2018-01-01</td><td>2017-11-27</td><td>1298</td><td>35</td><td>0</td><td>4</td><td>2018-01-01 11:17:00</td><td>2018-01-01 12:40:00</td><td>83</td><td>-480</td><td>0</td><td>2</td><td>30</td><td>5</td><td>6659</td><td>231</td><td>3</td><td>4</td><td>0</td><td>2.763495</td><td>3.113275</td><td>0.1266</td><td>1.0</td><td>1.0</td><td>1.0</td></tr><tr><td>&quot;L1&quot;</td><td>1396</td><td>2018-01-01</td><td>2017-11-27</td><td>372</td><td>35</td><td>0</td><td>11</td><td>2018-01-01 19:35:00</td><td>2018-01-01 21:08:00</td><td>93</td><td>-480</td><td>0</td><td>4</td><td>21</td><td>7</td><td>6579</td><td>262</td><td>7</td><td>3</td><td>0</td><td>2.766269</td><td>2.570543</td><td>-0.0708</td><td>1.0</td><td>1.0</td><td>1.0</td></tr><tr><td>&quot;U1&quot;</td><td>4771</td><td>2018-01-01</td><td>2017-11-27</td><td>513</td><td>35</td><td>0</td><td>4</td><td>null</td><td>null</td><td>null</td><td>null</td><td>null</td><td>null</td><td>null</td><td>null</td><td>null</td><td>null</td><td>3</td><td>4</td><td>1</td><td>2.638819</td><td>2.710117</td><td>0.027</td><td>1.0</td><td>1.0</td><td>1.0</td></tr><tr><td>&quot;OTH&quot;</td><td>4825</td><td>2018-01-01</td><td>2017-11-27</td><td>432</td><td>35</td><td>0</td><td>6</td><td>2018-01-01 12:55:00</td><td>2018-01-01 14:07:00</td><td>72</td><td>-480</td><td>0</td><td>3</td><td>30</td><td>9</td><td>6659</td><td>316</td><td>4</td><td>3</td><td>0</td><td>2.578117</td><td>2.635484</td><td>0.0223</td><td>1.0</td><td>1.0</td><td>1.0</td></tr><tr><td>&quot;OTH&quot;</td><td>6175</td><td>2018-01-01</td><td>2017-11-27</td><td>341</td><td>35</td><td>0</td><td>11</td><td>2018-01-01 18:55:00</td><td>2018-01-01 20:23:00</td><td>88</td><td>-480</td><td>0</td><td>4</td><td>21</td><td>7</td><td>6579</td><td>354</td><td>7</td><td>3</td><td>0</td><td>2.72979</td><td>2.532754</td><td>-0.0722</td><td>1.0</td><td>1.0</td><td>1.0</td></tr><tr><td>&quot;U1&quot;</td><td>6187</td><td>2018-01-01</td><td>2017-11-27</td><td>341</td><td>35</td><td>0</td><td>11</td><td>null</td><td>null</td><td>null</td><td>null</td><td>null</td><td>null</td><td>null</td><td>null</td><td>null</td><td>null</td><td>7</td><td>3</td><td>1</td><td>2.755964</td><td>2.532754</td><td>-0.081</td><td>1.0</td><td>1.0</td><td>1.0</td></tr><tr><td>&hellip;</td><td>&hellip;</td><td>&hellip;</td><td>&hellip;</td><td>&hellip;</td><td>&hellip;</td><td>&hellip;</td><td>&hellip;</td><td>&hellip;</td><td>&hellip;</td><td>&hellip;</td><td>&hellip;</td><td>&hellip;</td><td>&hellip;</td><td>&hellip;</td><td>&hellip;</td><td>&hellip;</td><td>&hellip;</td><td>&hellip;</td><td>&hellip;</td><td>&hellip;</td><td>&hellip;</td><td>&hellip;</td><td>&hellip;</td><td>&hellip;</td><td>&hellip;</td><td>&hellip;</td></tr><tr><td>&quot;OTH&quot;</td><td>2972</td><td>2018-11-30</td><td>2018-11-30</td><td>696</td><td>0</td><td>0</td><td>6</td><td>2018-11-30 11:30:00</td><td>2018-11-30 12:43:00</td><td>73</td><td>-480</td><td>0</td><td>2</td><td>35</td><td>9</td><td>8086</td><td>264</td><td>4</td><td>3</td><td>0</td><td>2.578117</td><td>2.842609</td><td>0.1026</td><td>1.243868</td><td>1.324809</td><td>0.952421</td></tr><tr><td>&quot;L1&quot;</td><td>3437</td><td>2018-11-30</td><td>2018-11-30</td><td>2037</td><td>0</td><td>0</td><td>2</td><td>2018-11-30 18:18:00</td><td>2018-11-30 19:38:00</td><td>80</td><td>-360</td><td>0</td><td>4</td><td>8</td><td>3</td><td>2838</td><td>403</td><td>2</td><td>3</td><td>0</td><td>2.931838</td><td>3.308991</td><td>0.1286</td><td>0.991846</td><td>1.226841</td><td>0.952547</td></tr><tr><td>&quot;L1&quot;</td><td>1992</td><td>2018-11-30</td><td>2018-11-30</td><td>1167</td><td>0</td><td>0</td><td>4</td><td>2018-11-30 18:53:00</td><td>2018-11-30 20:05:00</td><td>72</td><td>-480</td><td>0</td><td>4</td><td>35</td><td>10</td><td>8086</td><td>199</td><td>3</td><td>4</td><td>0</td><td>2.671029</td><td>3.067071</td><td>0.1483</td><td>1.211233</td><td>1.044012</td><td>0.928264</td></tr><tr><td>&quot;OTH&quot;</td><td>1075</td><td>2018-11-30</td><td>2018-11-30</td><td>1073</td><td>0</td><td>0</td><td>3</td><td>2018-11-30 18:45:00</td><td>2018-11-30 23:42:00</td><td>297</td><td>-480</td><td>0</td><td>4</td><td>8</td><td>1</td><td>2838</td><td>214</td><td>3</td><td>2</td><td>0</td><td>2.763481</td><td>3.0306</td><td>0.0967</td><td>1.081598</td><td>0.974624</td><td>1.150222</td></tr><tr><td>&quot;L1&quot;</td><td>7136</td><td>2018-11-30</td><td>2018-11-30</td><td>1067</td><td>0</td><td>0</td><td>7</td><td>2018-11-30 19:49:00</td><td>2018-11-30 21:05:00</td><td>76</td><td>-360</td><td>0</td><td>4</td><td>10</td><td>4</td><td>3099</td><td>276</td><td>5</td><td>0</td><td>0</td><td>2.862502</td><td>3.028164</td><td>0.0579</td><td>1.195414</td><td>1.169753</td><td>1.273483</td></tr><tr><td>&quot;U1&quot;</td><td>6178</td><td>2018-11-30</td><td>2018-11-30</td><td>1111</td><td>0</td><td>0</td><td>5</td><td>2018-11-30 18:55:00</td><td>2018-11-30 20:35:00</td><td>100</td><td>-480</td><td>0</td><td>4</td><td>22</td><td>7</td><td>6396</td><td>250</td><td>3</td><td>7</td><td>0</td><td>2.796569</td><td>3.045714</td><td>0.0891</td><td>1.087039</td><td>0.857126</td><td>1.077092</td></tr><tr><td>&quot;L1&quot;</td><td>6294</td><td>2018-11-30</td><td>2018-11-30</td><td>2037</td><td>0</td><td>0</td><td>3</td><td>2018-11-30 14:03:00</td><td>2018-11-30 18:57:00</td><td>294</td><td>-480</td><td>0</td><td>3</td><td>8</td><td>4</td><td>2838</td><td>405</td><td>3</td><td>2</td><td>0</td><td>2.972533</td><td>3.308991</td><td>0.1132</td><td>1.081598</td><td>0.974624</td><td>1.046286</td></tr><tr><td>&quot;L3&quot;</td><td>11152</td><td>2018-11-30</td><td>2018-11-30</td><td>1911</td><td>0</td><td>0</td><td>4</td><td>2018-11-30 16:45:00</td><td>2018-11-30 18:05:00</td><td>80</td><td>-480</td><td>0</td><td>4</td><td>35</td><td>10</td><td>8086</td><td>228</td><td>3</td><td>4</td><td>0</td><td>2.763495</td><td>3.281261</td><td>0.1874</td><td>1.211233</td><td>1.044012</td><td>1.672692</td></tr><tr><td>&quot;L1&quot;</td><td>5701</td><td>2018-11-30</td><td>2018-11-30</td><td>2037</td><td>0</td><td>0</td><td>2</td><td>2018-11-30 21:59:00</td><td>2018-11-30 23:20:00</td><td>81</td><td>-360</td><td>0</td><td>5</td><td>8</td><td>1</td><td>2838</td><td>403</td><td>2</td><td>3</td><td>0</td><td>2.931838</td><td>3.308991</td><td>0.1286</td><td>0.991846</td><td>1.226841</td><td>0.952547</td></tr><tr><td>&quot;L3&quot;</td><td>6523</td><td>2018-11-30</td><td>2018-11-30</td><td>1911</td><td>0</td><td>0</td><td>6</td><td>2018-11-30 21:15:00</td><td>2018-11-30 22:25:00</td><td>70</td><td>-480</td><td>0</td><td>5</td><td>35</td><td>5</td><td>8086</td><td>226</td><td>4</td><td>3</td><td>0</td><td>2.733692</td><td>3.281261</td><td>0.2003</td><td>1.243868</td><td>1.324809</td><td>1.735409</td></tr></tbody></table></div>"
      ],
      "text/plain": [
       "shape: (1_556_671, 27)\n",
       "┌─────────┬─────────┬────────────┬────────────┬───┬────────────┬───────────┬───────────┬───────────┐\n",
       "│ carrier ┆ flt_num ┆ flt_depart ┆ observatio ┆ … ┆ scaled_far ┆ 7d_route_ ┆ 14d_route ┆ 7d_route_ │\n",
       "│ ---     ┆ ---     ┆ ure_dt     ┆ n_date     ┆   ┆ e          ┆ avg       ┆ _avg      ┆ carrier_a │\n",
       "│ str     ┆ i64     ┆ ---        ┆ ---        ┆   ┆ ---        ┆ ---       ┆ ---       ┆ vg        │\n",
       "│         ┆         ┆ date       ┆ date       ┆   ┆ f64        ┆ f64       ┆ f64       ┆ ---       │\n",
       "│         ┆         ┆            ┆            ┆   ┆            ┆           ┆           ┆ f64       │\n",
       "╞═════════╪═════════╪════════════╪════════════╪═══╪════════════╪═══════════╪═══════════╪═══════════╡\n",
       "│ U1      ┆ 6143    ┆ 2018-01-01 ┆ 2017-11-27 ┆ … ┆ -0.0308    ┆ 1.0       ┆ 1.0       ┆ 1.0       │\n",
       "│ L1      ┆ 5927    ┆ 2018-01-01 ┆ 2017-11-27 ┆ … ┆ 0.0193     ┆ 1.0       ┆ 1.0       ┆ 1.0       │\n",
       "│ L3      ┆ 18075   ┆ 2018-01-01 ┆ 2017-11-27 ┆ … ┆ -0.0396    ┆ 1.0       ┆ 1.0       ┆ 1.0       │\n",
       "│ OTH     ┆ 2416    ┆ 2018-01-01 ┆ 2017-11-27 ┆ … ┆ 0.1182     ┆ 1.0       ┆ 1.0       ┆ 1.0       │\n",
       "│ L3      ┆ 18270   ┆ 2018-01-01 ┆ 2017-11-27 ┆ … ┆ 0.1266     ┆ 1.0       ┆ 1.0       ┆ 1.0       │\n",
       "│ L1      ┆ 1396    ┆ 2018-01-01 ┆ 2017-11-27 ┆ … ┆ -0.0708    ┆ 1.0       ┆ 1.0       ┆ 1.0       │\n",
       "│ U1      ┆ 4771    ┆ 2018-01-01 ┆ 2017-11-27 ┆ … ┆ 0.027      ┆ 1.0       ┆ 1.0       ┆ 1.0       │\n",
       "│ OTH     ┆ 4825    ┆ 2018-01-01 ┆ 2017-11-27 ┆ … ┆ 0.0223     ┆ 1.0       ┆ 1.0       ┆ 1.0       │\n",
       "│ OTH     ┆ 6175    ┆ 2018-01-01 ┆ 2017-11-27 ┆ … ┆ -0.0722    ┆ 1.0       ┆ 1.0       ┆ 1.0       │\n",
       "│ U1      ┆ 6187    ┆ 2018-01-01 ┆ 2017-11-27 ┆ … ┆ -0.081     ┆ 1.0       ┆ 1.0       ┆ 1.0       │\n",
       "│ …       ┆ …       ┆ …          ┆ …          ┆ … ┆ …          ┆ …         ┆ …         ┆ …         │\n",
       "│ OTH     ┆ 2972    ┆ 2018-11-30 ┆ 2018-11-30 ┆ … ┆ 0.1026     ┆ 1.243868  ┆ 1.324809  ┆ 0.952421  │\n",
       "│ L1      ┆ 3437    ┆ 2018-11-30 ┆ 2018-11-30 ┆ … ┆ 0.1286     ┆ 0.991846  ┆ 1.226841  ┆ 0.952547  │\n",
       "│ L1      ┆ 1992    ┆ 2018-11-30 ┆ 2018-11-30 ┆ … ┆ 0.1483     ┆ 1.211233  ┆ 1.044012  ┆ 0.928264  │\n",
       "│ OTH     ┆ 1075    ┆ 2018-11-30 ┆ 2018-11-30 ┆ … ┆ 0.0967     ┆ 1.081598  ┆ 0.974624  ┆ 1.150222  │\n",
       "│ L1      ┆ 7136    ┆ 2018-11-30 ┆ 2018-11-30 ┆ … ┆ 0.0579     ┆ 1.195414  ┆ 1.169753  ┆ 1.273483  │\n",
       "│ U1      ┆ 6178    ┆ 2018-11-30 ┆ 2018-11-30 ┆ … ┆ 0.0891     ┆ 1.087039  ┆ 0.857126  ┆ 1.077092  │\n",
       "│ L1      ┆ 6294    ┆ 2018-11-30 ┆ 2018-11-30 ┆ … ┆ 0.1132     ┆ 1.081598  ┆ 0.974624  ┆ 1.046286  │\n",
       "│ L3      ┆ 11152   ┆ 2018-11-30 ┆ 2018-11-30 ┆ … ┆ 0.1874     ┆ 1.211233  ┆ 1.044012  ┆ 1.672692  │\n",
       "│ L1      ┆ 5701    ┆ 2018-11-30 ┆ 2018-11-30 ┆ … ┆ 0.1286     ┆ 0.991846  ┆ 1.226841  ┆ 0.952547  │\n",
       "│ L3      ┆ 6523    ┆ 2018-11-30 ┆ 2018-11-30 ┆ … ┆ 0.2003     ┆ 1.243868  ┆ 1.324809  ┆ 1.735409  │\n",
       "└─────────┴─────────┴────────────┴────────────┴───┴────────────┴───────────┴───────────┴───────────┘"
      ]
     },
     "execution_count": 21,
     "metadata": {},
     "output_type": "execute_result"
    }
   ],
   "source": [
    "train_df = train_df.join(\n",
    "    route_week_ago_fare,\n",
    "    on = ['route_id', 'flt_departure_dt'],\n",
    "    how = 'left'\n",
    ").join(\n",
    "    route_2week_ago_fare,\n",
    "    on = ['route_id', 'flt_departure_dt'],\n",
    "    how = 'left'\n",
    ").join(\n",
    "    route_carrier_week_ago_fare,\n",
    "    on = ['route_id', 'flt_departure_dt', 'carrier'],\n",
    "    how = 'left'\n",
    ").with_columns(\n",
    "    pl.col('7d_route_avg').fill_null(1),\n",
    "    pl.col('14d_route_avg').fill_null(1),\n",
    "    pl.col('7d_route_carrier_avg').fill_null(1)\n",
    ")\n",
    "\n",
    "train_df"
   ]
  },
  {
   "cell_type": "code",
   "execution_count": 22,
   "metadata": {},
   "outputs": [
    {
     "data": {
      "text/html": [
       "<div><style>\n",
       ".dataframe > thead > tr,\n",
       ".dataframe > tbody > tr {\n",
       "  text-align: right;\n",
       "  white-space: pre-wrap;\n",
       "}\n",
       "</style>\n",
       "<small>shape: (29_492, 27)</small><table border=\"1\" class=\"dataframe\"><thead><tr><th>carrier</th><th>flt_num</th><th>flt_departure_dt</th><th>observation_date</th><th>total_fare</th><th>days_till_flight</th><th>is_dst</th><th>route_id</th><th>flt_departure_local_time</th><th>flt_arrival_local_time</th><th>dur_min</th><th>tz_min</th><th>over_mn</th><th>dpt_4h_od</th><th>flt_count_dpt_24h</th><th>flt_count_dpt_4h</th><th>scaled_demand</th><th>scaled_share</th><th>origin_id</th><th>destination_id</th><th>flt_info_null</th><th>base_fare</th><th>log_fare</th><th>scaled_fare</th><th>7d_route_avg</th><th>14d_route_avg</th><th>7d_route_carrier_avg</th></tr><tr><td>str</td><td>i64</td><td>date</td><td>date</td><td>i64</td><td>i16</td><td>i8</td><td>u8</td><td>datetime[ns]</td><td>datetime[ns]</td><td>i16</td><td>i16</td><td>i8</td><td>i8</td><td>u8</td><td>u8</td><td>i64</td><td>i64</td><td>u8</td><td>u8</td><td>u8</td><td>f64</td><td>f64</td><td>f64</td><td>f64</td><td>f64</td><td>f64</td></tr></thead><tbody><tr><td>&quot;L2&quot;</td><td>7220</td><td>2018-12-01</td><td>2018-10-02</td><td>476</td><td>60</td><td>0</td><td>6</td><td>2018-12-01 10:15:00</td><td>2018-12-01 11:27:00</td><td>72</td><td>-480</td><td>0</td><td>2</td><td>32</td><td>9</td><td>7128</td><td>224</td><td>4</td><td>3</td><td>0</td><td>2.660753</td><td>2.677607</td><td>0.0063</td><td>1.179192</td><td>0.996404</td><td>0.931051</td></tr><tr><td>&quot;L2&quot;</td><td>4448</td><td>2018-12-01</td><td>2018-10-02</td><td>476</td><td>60</td><td>0</td><td>6</td><td>2018-12-01 08:40:00</td><td>2018-12-01 10:04:00</td><td>84</td><td>-480</td><td>0</td><td>2</td><td>32</td><td>9</td><td>7128</td><td>224</td><td>4</td><td>3</td><td>0</td><td>2.660753</td><td>2.677607</td><td>0.0063</td><td>1.179192</td><td>0.996404</td><td>0.931051</td></tr><tr><td>&quot;L2&quot;</td><td>7402</td><td>2018-12-01</td><td>2018-10-02</td><td>476</td><td>60</td><td>0</td><td>6</td><td>2018-12-01 14:10:00</td><td>2018-12-01 15:22:00</td><td>72</td><td>-480</td><td>0</td><td>3</td><td>32</td><td>9</td><td>7128</td><td>224</td><td>4</td><td>3</td><td>0</td><td>2.660753</td><td>2.677607</td><td>0.0063</td><td>1.179192</td><td>0.996404</td><td>0.931051</td></tr><tr><td>&quot;L2&quot;</td><td>2200</td><td>2018-12-01</td><td>2018-10-02</td><td>285</td><td>60</td><td>0</td><td>6</td><td>2018-12-01 19:50:00</td><td>2018-12-01 21:02:00</td><td>72</td><td>-480</td><td>0</td><td>4</td><td>32</td><td>10</td><td>7128</td><td>224</td><td>4</td><td>3</td><td>0</td><td>2.660753</td><td>2.454845</td><td>-0.0774</td><td>1.179192</td><td>0.996404</td><td>0.931051</td></tr><tr><td>&quot;L2&quot;</td><td>8903</td><td>2018-12-01</td><td>2018-10-02</td><td>285</td><td>60</td><td>0</td><td>6</td><td>2018-12-01 22:45:00</td><td>2018-12-02 00:02:00</td><td>77</td><td>-480</td><td>1</td><td>5</td><td>32</td><td>1</td><td>7128</td><td>224</td><td>4</td><td>3</td><td>0</td><td>2.660753</td><td>2.454845</td><td>-0.0774</td><td>1.179192</td><td>0.996404</td><td>0.931051</td></tr><tr><td>&quot;L2&quot;</td><td>5041</td><td>2018-12-01</td><td>2018-10-02</td><td>476</td><td>60</td><td>0</td><td>6</td><td>2018-12-01 12:40:00</td><td>2018-12-01 13:52:00</td><td>72</td><td>-480</td><td>0</td><td>3</td><td>32</td><td>9</td><td>7128</td><td>224</td><td>4</td><td>3</td><td>0</td><td>2.660753</td><td>2.677607</td><td>0.0063</td><td>1.179192</td><td>0.996404</td><td>0.931051</td></tr><tr><td>&quot;L2&quot;</td><td>1732</td><td>2018-12-01</td><td>2018-10-02</td><td>395</td><td>60</td><td>0</td><td>6</td><td>2018-12-01 16:50:00</td><td>2018-12-01 18:02:00</td><td>72</td><td>-480</td><td>0</td><td>4</td><td>32</td><td>10</td><td>7128</td><td>224</td><td>4</td><td>3</td><td>0</td><td>2.660753</td><td>2.596597</td><td>-0.0241</td><td>1.179192</td><td>0.996404</td><td>0.931051</td></tr><tr><td>&quot;L1&quot;</td><td>5927</td><td>2018-12-01</td><td>2018-10-05</td><td>530</td><td>57</td><td>0</td><td>1</td><td>2018-12-01 20:30:00</td><td>2018-12-01 23:37:00</td><td>187</td><td>-300</td><td>0</td><td>5</td><td>4</td><td>1</td><td>2164</td><td>373</td><td>1</td><td>5</td><td>0</td><td>2.991069</td><td>2.724276</td><td>-0.0892</td><td>1.68593</td><td>0.848971</td><td>1.68593</td></tr><tr><td>&quot;L1&quot;</td><td>11158</td><td>2018-12-01</td><td>2018-10-05</td><td>800</td><td>57</td><td>0</td><td>1</td><td>2018-12-01 12:03:00</td><td>2018-12-01 15:20:00</td><td>197</td><td>-300</td><td>0</td><td>3</td><td>4</td><td>1</td><td>2164</td><td>373</td><td>1</td><td>5</td><td>0</td><td>2.991069</td><td>2.90309</td><td>-0.0294</td><td>1.68593</td><td>0.848971</td><td>1.68593</td></tr><tr><td>&quot;L1&quot;</td><td>7431</td><td>2018-12-01</td><td>2018-10-05</td><td>737</td><td>57</td><td>0</td><td>1</td><td>2018-12-01 07:29:00</td><td>2018-12-01 10:36:00</td><td>187</td><td>-300</td><td>0</td><td>1</td><td>4</td><td>1</td><td>2164</td><td>373</td><td>1</td><td>5</td><td>0</td><td>2.991069</td><td>2.867467</td><td>-0.0413</td><td>1.68593</td><td>0.848971</td><td>1.68593</td></tr><tr><td>&hellip;</td><td>&hellip;</td><td>&hellip;</td><td>&hellip;</td><td>&hellip;</td><td>&hellip;</td><td>&hellip;</td><td>&hellip;</td><td>&hellip;</td><td>&hellip;</td><td>&hellip;</td><td>&hellip;</td><td>&hellip;</td><td>&hellip;</td><td>&hellip;</td><td>&hellip;</td><td>&hellip;</td><td>&hellip;</td><td>&hellip;</td><td>&hellip;</td><td>&hellip;</td><td>&hellip;</td><td>&hellip;</td><td>&hellip;</td><td>&hellip;</td><td>&hellip;</td><td>&hellip;</td></tr><tr><td>&quot;U1&quot;</td><td>6250</td><td>2018-12-07</td><td>2018-12-07</td><td>1283</td><td>0</td><td>0</td><td>11</td><td>2018-12-07 19:35:00</td><td>2018-12-07 21:09:00</td><td>94</td><td>-480</td><td>0</td><td>4</td><td>22</td><td>6</td><td>5817</td><td>253</td><td>7</td><td>3</td><td>0</td><td>2.755964</td><td>3.108227</td><td>0.1278</td><td>1.167987</td><td>0.932419</td><td>1.253507</td></tr><tr><td>&quot;L1&quot;</td><td>6278</td><td>2018-12-07</td><td>2018-12-07</td><td>1067</td><td>0</td><td>0</td><td>0</td><td>2018-12-07 15:30:00</td><td>2018-12-07 18:35:00</td><td>185</td><td>-420</td><td>0</td><td>3</td><td>10</td><td>4</td><td>3070</td><td>281</td><td>0</td><td>5</td><td>0</td><td>2.877514</td><td>3.028164</td><td>0.0524</td><td>0.736157</td><td>1.055912</td><td>0.743854</td></tr><tr><td>&quot;L3&quot;</td><td>11152</td><td>2018-12-07</td><td>2018-12-07</td><td>671</td><td>0</td><td>0</td><td>4</td><td>2018-12-07 16:45:00</td><td>2018-12-07 18:05:00</td><td>80</td><td>-480</td><td>0</td><td>4</td><td>35</td><td>10</td><td>7128</td><td>231</td><td>3</td><td>4</td><td>0</td><td>2.763495</td><td>2.826723</td><td>0.0229</td><td>2.362383</td><td>1.211233</td><td>2.909392</td></tr><tr><td>&quot;L1&quot;</td><td>2997</td><td>2018-12-07</td><td>2018-12-07</td><td>1346</td><td>0</td><td>0</td><td>8</td><td>2018-12-07 11:34:00</td><td>2018-12-07 16:10:00</td><td>276</td><td>-360</td><td>0</td><td>2</td><td>4</td><td>1</td><td>2164</td><td>373</td><td>5</td><td>1</td><td>0</td><td>3.021101</td><td>3.129045</td><td>0.0357</td><td>0.633902</td><td>0.768974</td><td>0.633902</td></tr><tr><td>&quot;L1&quot;</td><td>1176</td><td>2018-12-07</td><td>2018-12-07</td><td>395</td><td>0</td><td>0</td><td>4</td><td>2018-12-07 06:05:00</td><td>2018-12-07 07:21:00</td><td>76</td><td>-480</td><td>0</td><td>1</td><td>35</td><td>6</td><td>7128</td><td>189</td><td>3</td><td>4</td><td>0</td><td>2.671029</td><td>2.596597</td><td>-0.0279</td><td>2.362383</td><td>1.211233</td><td>2.625553</td></tr><tr><td>&quot;U1&quot;</td><td>6162</td><td>2018-12-07</td><td>2018-12-07</td><td>1111</td><td>0</td><td>0</td><td>11</td><td>2018-12-07 16:20:00</td><td>2018-12-07 17:54:00</td><td>94</td><td>-480</td><td>0</td><td>4</td><td>22</td><td>6</td><td>5817</td><td>253</td><td>7</td><td>3</td><td>0</td><td>2.755964</td><td>3.045714</td><td>0.1051</td><td>1.167987</td><td>0.932419</td><td>1.253507</td></tr><tr><td>&quot;U1&quot;</td><td>6128</td><td>2018-12-07</td><td>2018-12-07</td><td>1111</td><td>0</td><td>0</td><td>5</td><td>2018-12-07 09:35:00</td><td>2018-12-07 11:12:00</td><td>97</td><td>-480</td><td>0</td><td>2</td><td>22</td><td>6</td><td>5817</td><td>252</td><td>3</td><td>7</td><td>0</td><td>2.796569</td><td>3.045714</td><td>0.0891</td><td>2.33368</td><td>1.087039</td><td>1.602604</td></tr><tr><td>&quot;L1&quot;</td><td>5701</td><td>2018-12-07</td><td>2018-12-07</td><td>2037</td><td>0</td><td>0</td><td>2</td><td>2018-12-07 21:59:00</td><td>2018-12-07 23:20:00</td><td>81</td><td>-360</td><td>0</td><td>5</td><td>8</td><td>1</td><td>2790</td><td>405</td><td>2</td><td>3</td><td>0</td><td>2.931838</td><td>3.308991</td><td>0.1286</td><td>1.040541</td><td>0.991846</td><td>0.963441</td></tr><tr><td>&quot;L2&quot;</td><td>5274</td><td>2018-12-07</td><td>2018-12-07</td><td>1742</td><td>0</td><td>0</td><td>9</td><td>2018-12-07 11:03:00</td><td>2018-12-07 13:44:00</td><td>161</td><td>-360</td><td>0</td><td>2</td><td>7</td><td>3</td><td>1618</td><td>310</td><td>5</td><td>6</td><td>0</td><td>2.945677</td><td>3.241048</td><td>0.1003</td><td>0.916825</td><td>0.919801</td><td>0.960292</td></tr><tr><td>&quot;L1&quot;</td><td>6517</td><td>2018-12-07</td><td>2018-12-07</td><td>1346</td><td>0</td><td>0</td><td>8</td><td>2018-12-07 16:15:00</td><td>2018-12-07 20:52:00</td><td>277</td><td>-360</td><td>0</td><td>4</td><td>4</td><td>1</td><td>2164</td><td>373</td><td>5</td><td>1</td><td>0</td><td>3.021101</td><td>3.129045</td><td>0.0357</td><td>0.633902</td><td>0.768974</td><td>0.633902</td></tr></tbody></table></div>"
      ],
      "text/plain": [
       "shape: (29_492, 27)\n",
       "┌─────────┬─────────┬────────────┬────────────┬───┬────────────┬───────────┬───────────┬───────────┐\n",
       "│ carrier ┆ flt_num ┆ flt_depart ┆ observatio ┆ … ┆ scaled_far ┆ 7d_route_ ┆ 14d_route ┆ 7d_route_ │\n",
       "│ ---     ┆ ---     ┆ ure_dt     ┆ n_date     ┆   ┆ e          ┆ avg       ┆ _avg      ┆ carrier_a │\n",
       "│ str     ┆ i64     ┆ ---        ┆ ---        ┆   ┆ ---        ┆ ---       ┆ ---       ┆ vg        │\n",
       "│         ┆         ┆ date       ┆ date       ┆   ┆ f64        ┆ f64       ┆ f64       ┆ ---       │\n",
       "│         ┆         ┆            ┆            ┆   ┆            ┆           ┆           ┆ f64       │\n",
       "╞═════════╪═════════╪════════════╪════════════╪═══╪════════════╪═══════════╪═══════════╪═══════════╡\n",
       "│ L2      ┆ 7220    ┆ 2018-12-01 ┆ 2018-10-02 ┆ … ┆ 0.0063     ┆ 1.179192  ┆ 0.996404  ┆ 0.931051  │\n",
       "│ L2      ┆ 4448    ┆ 2018-12-01 ┆ 2018-10-02 ┆ … ┆ 0.0063     ┆ 1.179192  ┆ 0.996404  ┆ 0.931051  │\n",
       "│ L2      ┆ 7402    ┆ 2018-12-01 ┆ 2018-10-02 ┆ … ┆ 0.0063     ┆ 1.179192  ┆ 0.996404  ┆ 0.931051  │\n",
       "│ L2      ┆ 2200    ┆ 2018-12-01 ┆ 2018-10-02 ┆ … ┆ -0.0774    ┆ 1.179192  ┆ 0.996404  ┆ 0.931051  │\n",
       "│ L2      ┆ 8903    ┆ 2018-12-01 ┆ 2018-10-02 ┆ … ┆ -0.0774    ┆ 1.179192  ┆ 0.996404  ┆ 0.931051  │\n",
       "│ L2      ┆ 5041    ┆ 2018-12-01 ┆ 2018-10-02 ┆ … ┆ 0.0063     ┆ 1.179192  ┆ 0.996404  ┆ 0.931051  │\n",
       "│ L2      ┆ 1732    ┆ 2018-12-01 ┆ 2018-10-02 ┆ … ┆ -0.0241    ┆ 1.179192  ┆ 0.996404  ┆ 0.931051  │\n",
       "│ L1      ┆ 5927    ┆ 2018-12-01 ┆ 2018-10-05 ┆ … ┆ -0.0892    ┆ 1.68593   ┆ 0.848971  ┆ 1.68593   │\n",
       "│ L1      ┆ 11158   ┆ 2018-12-01 ┆ 2018-10-05 ┆ … ┆ -0.0294    ┆ 1.68593   ┆ 0.848971  ┆ 1.68593   │\n",
       "│ L1      ┆ 7431    ┆ 2018-12-01 ┆ 2018-10-05 ┆ … ┆ -0.0413    ┆ 1.68593   ┆ 0.848971  ┆ 1.68593   │\n",
       "│ …       ┆ …       ┆ …          ┆ …          ┆ … ┆ …          ┆ …         ┆ …         ┆ …         │\n",
       "│ U1      ┆ 6250    ┆ 2018-12-07 ┆ 2018-12-07 ┆ … ┆ 0.1278     ┆ 1.167987  ┆ 0.932419  ┆ 1.253507  │\n",
       "│ L1      ┆ 6278    ┆ 2018-12-07 ┆ 2018-12-07 ┆ … ┆ 0.0524     ┆ 0.736157  ┆ 1.055912  ┆ 0.743854  │\n",
       "│ L3      ┆ 11152   ┆ 2018-12-07 ┆ 2018-12-07 ┆ … ┆ 0.0229     ┆ 2.362383  ┆ 1.211233  ┆ 2.909392  │\n",
       "│ L1      ┆ 2997    ┆ 2018-12-07 ┆ 2018-12-07 ┆ … ┆ 0.0357     ┆ 0.633902  ┆ 0.768974  ┆ 0.633902  │\n",
       "│ L1      ┆ 1176    ┆ 2018-12-07 ┆ 2018-12-07 ┆ … ┆ -0.0279    ┆ 2.362383  ┆ 1.211233  ┆ 2.625553  │\n",
       "│ U1      ┆ 6162    ┆ 2018-12-07 ┆ 2018-12-07 ┆ … ┆ 0.1051     ┆ 1.167987  ┆ 0.932419  ┆ 1.253507  │\n",
       "│ U1      ┆ 6128    ┆ 2018-12-07 ┆ 2018-12-07 ┆ … ┆ 0.0891     ┆ 2.33368   ┆ 1.087039  ┆ 1.602604  │\n",
       "│ L1      ┆ 5701    ┆ 2018-12-07 ┆ 2018-12-07 ┆ … ┆ 0.1286     ┆ 1.040541  ┆ 0.991846  ┆ 0.963441  │\n",
       "│ L2      ┆ 5274    ┆ 2018-12-07 ┆ 2018-12-07 ┆ … ┆ 0.1003     ┆ 0.916825  ┆ 0.919801  ┆ 0.960292  │\n",
       "│ L1      ┆ 6517    ┆ 2018-12-07 ┆ 2018-12-07 ┆ … ┆ 0.0357     ┆ 0.633902  ┆ 0.768974  ┆ 0.633902  │\n",
       "└─────────┴─────────┴────────────┴────────────┴───┴────────────┴───────────┴───────────┴───────────┘"
      ]
     },
     "execution_count": 22,
     "metadata": {},
     "output_type": "execute_result"
    }
   ],
   "source": [
    "val_df = val_df.join(\n",
    "    route_week_ago_fare,\n",
    "    on = ['route_id', 'flt_departure_dt'],\n",
    "    how = 'left'\n",
    ").join(\n",
    "    route_2week_ago_fare,\n",
    "    on = ['route_id', 'flt_departure_dt'],\n",
    "    how = 'left'\n",
    ").join(\n",
    "    route_carrier_week_ago_fare,\n",
    "    on = ['route_id', 'flt_departure_dt', 'carrier'],\n",
    "    how = 'left'\n",
    ").with_columns(\n",
    "    pl.col('7d_route_avg').fill_null(1),\n",
    "    pl.col('14d_route_avg').fill_null(1),\n",
    "    pl.col('7d_route_carrier_avg').fill_null(1)\n",
    ")\n",
    "\n",
    "val_df"
   ]
  },
  {
   "cell_type": "markdown",
   "metadata": {},
   "source": [
    "#### Days since start"
   ]
  },
  {
   "cell_type": "code",
   "execution_count": 23,
   "metadata": {},
   "outputs": [
    {
     "data": {
      "text/html": [
       "<div><style>\n",
       ".dataframe > thead > tr,\n",
       ".dataframe > tbody > tr {\n",
       "  text-align: right;\n",
       "  white-space: pre-wrap;\n",
       "}\n",
       "</style>\n",
       "<small>shape: (1_556_671, 28)</small><table border=\"1\" class=\"dataframe\"><thead><tr><th>carrier</th><th>flt_num</th><th>flt_departure_dt</th><th>observation_date</th><th>total_fare</th><th>days_till_flight</th><th>is_dst</th><th>route_id</th><th>flt_departure_local_time</th><th>flt_arrival_local_time</th><th>dur_min</th><th>tz_min</th><th>over_mn</th><th>dpt_4h_od</th><th>flt_count_dpt_24h</th><th>flt_count_dpt_4h</th><th>scaled_demand</th><th>scaled_share</th><th>origin_id</th><th>destination_id</th><th>flt_info_null</th><th>base_fare</th><th>log_fare</th><th>scaled_fare</th><th>7d_route_avg</th><th>14d_route_avg</th><th>7d_route_carrier_avg</th><th>days_since_start</th></tr><tr><td>str</td><td>i64</td><td>date</td><td>date</td><td>i64</td><td>i16</td><td>i8</td><td>u8</td><td>datetime[ns]</td><td>datetime[ns]</td><td>i16</td><td>i16</td><td>i8</td><td>i8</td><td>u8</td><td>u8</td><td>i64</td><td>i64</td><td>u8</td><td>u8</td><td>u8</td><td>f64</td><td>f64</td><td>f64</td><td>f64</td><td>f64</td><td>f64</td><td>i64</td></tr></thead><tbody><tr><td>&quot;U1&quot;</td><td>6143</td><td>2018-01-01</td><td>2017-11-27</td><td>469</td><td>35</td><td>0</td><td>11</td><td>null</td><td>null</td><td>null</td><td>null</td><td>null</td><td>null</td><td>null</td><td>null</td><td>null</td><td>null</td><td>7</td><td>3</td><td>1</td><td>2.755964</td><td>2.671173</td><td>-0.0308</td><td>1.0</td><td>1.0</td><td>1.0</td><td>0</td></tr><tr><td>&quot;L1&quot;</td><td>5927</td><td>2018-01-01</td><td>2017-11-27</td><td>1119</td><td>35</td><td>0</td><td>1</td><td>2018-01-01 20:33:00</td><td>2018-01-01 23:50:00</td><td>197</td><td>-300</td><td>0</td><td>5</td><td>5</td><td>1</td><td>1468</td><td>360</td><td>1</td><td>5</td><td>0</td><td>2.991069</td><td>3.04883</td><td>0.0193</td><td>1.0</td><td>1.0</td><td>1.0</td><td>0</td></tr><tr><td>&quot;L3&quot;</td><td>18075</td><td>2018-01-01</td><td>2017-11-27</td><td>422</td><td>35</td><td>0</td><td>6</td><td>2018-01-01 13:20:00</td><td>2018-01-01 14:35:00</td><td>75</td><td>-480</td><td>0</td><td>3</td><td>30</td><td>9</td><td>6659</td><td>228</td><td>4</td><td>3</td><td>0</td><td>2.733692</td><td>2.625312</td><td>-0.0396</td><td>1.0</td><td>1.0</td><td>1.0</td><td>0</td></tr><tr><td>&quot;OTH&quot;</td><td>2416</td><td>2018-01-01</td><td>2017-11-27</td><td>787</td><td>35</td><td>0</td><td>4</td><td>2018-01-01 20:22:00</td><td>2018-01-01 21:46:00</td><td>84</td><td>-480</td><td>0</td><td>5</td><td>30</td><td>4</td><td>6659</td><td>316</td><td>3</td><td>4</td><td>0</td><td>2.589739</td><td>2.895975</td><td>0.1182</td><td>1.0</td><td>1.0</td><td>1.0</td><td>0</td></tr><tr><td>&quot;L3&quot;</td><td>18270</td><td>2018-01-01</td><td>2017-11-27</td><td>1298</td><td>35</td><td>0</td><td>4</td><td>2018-01-01 11:17:00</td><td>2018-01-01 12:40:00</td><td>83</td><td>-480</td><td>0</td><td>2</td><td>30</td><td>5</td><td>6659</td><td>231</td><td>3</td><td>4</td><td>0</td><td>2.763495</td><td>3.113275</td><td>0.1266</td><td>1.0</td><td>1.0</td><td>1.0</td><td>0</td></tr><tr><td>&quot;L1&quot;</td><td>1396</td><td>2018-01-01</td><td>2017-11-27</td><td>372</td><td>35</td><td>0</td><td>11</td><td>2018-01-01 19:35:00</td><td>2018-01-01 21:08:00</td><td>93</td><td>-480</td><td>0</td><td>4</td><td>21</td><td>7</td><td>6579</td><td>262</td><td>7</td><td>3</td><td>0</td><td>2.766269</td><td>2.570543</td><td>-0.0708</td><td>1.0</td><td>1.0</td><td>1.0</td><td>0</td></tr><tr><td>&quot;U1&quot;</td><td>4771</td><td>2018-01-01</td><td>2017-11-27</td><td>513</td><td>35</td><td>0</td><td>4</td><td>null</td><td>null</td><td>null</td><td>null</td><td>null</td><td>null</td><td>null</td><td>null</td><td>null</td><td>null</td><td>3</td><td>4</td><td>1</td><td>2.638819</td><td>2.710117</td><td>0.027</td><td>1.0</td><td>1.0</td><td>1.0</td><td>0</td></tr><tr><td>&quot;OTH&quot;</td><td>4825</td><td>2018-01-01</td><td>2017-11-27</td><td>432</td><td>35</td><td>0</td><td>6</td><td>2018-01-01 12:55:00</td><td>2018-01-01 14:07:00</td><td>72</td><td>-480</td><td>0</td><td>3</td><td>30</td><td>9</td><td>6659</td><td>316</td><td>4</td><td>3</td><td>0</td><td>2.578117</td><td>2.635484</td><td>0.0223</td><td>1.0</td><td>1.0</td><td>1.0</td><td>0</td></tr><tr><td>&quot;OTH&quot;</td><td>6175</td><td>2018-01-01</td><td>2017-11-27</td><td>341</td><td>35</td><td>0</td><td>11</td><td>2018-01-01 18:55:00</td><td>2018-01-01 20:23:00</td><td>88</td><td>-480</td><td>0</td><td>4</td><td>21</td><td>7</td><td>6579</td><td>354</td><td>7</td><td>3</td><td>0</td><td>2.72979</td><td>2.532754</td><td>-0.0722</td><td>1.0</td><td>1.0</td><td>1.0</td><td>0</td></tr><tr><td>&quot;U1&quot;</td><td>6187</td><td>2018-01-01</td><td>2017-11-27</td><td>341</td><td>35</td><td>0</td><td>11</td><td>null</td><td>null</td><td>null</td><td>null</td><td>null</td><td>null</td><td>null</td><td>null</td><td>null</td><td>null</td><td>7</td><td>3</td><td>1</td><td>2.755964</td><td>2.532754</td><td>-0.081</td><td>1.0</td><td>1.0</td><td>1.0</td><td>0</td></tr><tr><td>&hellip;</td><td>&hellip;</td><td>&hellip;</td><td>&hellip;</td><td>&hellip;</td><td>&hellip;</td><td>&hellip;</td><td>&hellip;</td><td>&hellip;</td><td>&hellip;</td><td>&hellip;</td><td>&hellip;</td><td>&hellip;</td><td>&hellip;</td><td>&hellip;</td><td>&hellip;</td><td>&hellip;</td><td>&hellip;</td><td>&hellip;</td><td>&hellip;</td><td>&hellip;</td><td>&hellip;</td><td>&hellip;</td><td>&hellip;</td><td>&hellip;</td><td>&hellip;</td><td>&hellip;</td><td>&hellip;</td></tr><tr><td>&quot;OTH&quot;</td><td>2972</td><td>2018-11-30</td><td>2018-11-30</td><td>696</td><td>0</td><td>0</td><td>6</td><td>2018-11-30 11:30:00</td><td>2018-11-30 12:43:00</td><td>73</td><td>-480</td><td>0</td><td>2</td><td>35</td><td>9</td><td>8086</td><td>264</td><td>4</td><td>3</td><td>0</td><td>2.578117</td><td>2.842609</td><td>0.1026</td><td>1.243868</td><td>1.324809</td><td>0.952421</td><td>333</td></tr><tr><td>&quot;L1&quot;</td><td>3437</td><td>2018-11-30</td><td>2018-11-30</td><td>2037</td><td>0</td><td>0</td><td>2</td><td>2018-11-30 18:18:00</td><td>2018-11-30 19:38:00</td><td>80</td><td>-360</td><td>0</td><td>4</td><td>8</td><td>3</td><td>2838</td><td>403</td><td>2</td><td>3</td><td>0</td><td>2.931838</td><td>3.308991</td><td>0.1286</td><td>0.991846</td><td>1.226841</td><td>0.952547</td><td>333</td></tr><tr><td>&quot;L1&quot;</td><td>1992</td><td>2018-11-30</td><td>2018-11-30</td><td>1167</td><td>0</td><td>0</td><td>4</td><td>2018-11-30 18:53:00</td><td>2018-11-30 20:05:00</td><td>72</td><td>-480</td><td>0</td><td>4</td><td>35</td><td>10</td><td>8086</td><td>199</td><td>3</td><td>4</td><td>0</td><td>2.671029</td><td>3.067071</td><td>0.1483</td><td>1.211233</td><td>1.044012</td><td>0.928264</td><td>333</td></tr><tr><td>&quot;OTH&quot;</td><td>1075</td><td>2018-11-30</td><td>2018-11-30</td><td>1073</td><td>0</td><td>0</td><td>3</td><td>2018-11-30 18:45:00</td><td>2018-11-30 23:42:00</td><td>297</td><td>-480</td><td>0</td><td>4</td><td>8</td><td>1</td><td>2838</td><td>214</td><td>3</td><td>2</td><td>0</td><td>2.763481</td><td>3.0306</td><td>0.0967</td><td>1.081598</td><td>0.974624</td><td>1.150222</td><td>333</td></tr><tr><td>&quot;L1&quot;</td><td>7136</td><td>2018-11-30</td><td>2018-11-30</td><td>1067</td><td>0</td><td>0</td><td>7</td><td>2018-11-30 19:49:00</td><td>2018-11-30 21:05:00</td><td>76</td><td>-360</td><td>0</td><td>4</td><td>10</td><td>4</td><td>3099</td><td>276</td><td>5</td><td>0</td><td>0</td><td>2.862502</td><td>3.028164</td><td>0.0579</td><td>1.195414</td><td>1.169753</td><td>1.273483</td><td>333</td></tr><tr><td>&quot;U1&quot;</td><td>6178</td><td>2018-11-30</td><td>2018-11-30</td><td>1111</td><td>0</td><td>0</td><td>5</td><td>2018-11-30 18:55:00</td><td>2018-11-30 20:35:00</td><td>100</td><td>-480</td><td>0</td><td>4</td><td>22</td><td>7</td><td>6396</td><td>250</td><td>3</td><td>7</td><td>0</td><td>2.796569</td><td>3.045714</td><td>0.0891</td><td>1.087039</td><td>0.857126</td><td>1.077092</td><td>333</td></tr><tr><td>&quot;L1&quot;</td><td>6294</td><td>2018-11-30</td><td>2018-11-30</td><td>2037</td><td>0</td><td>0</td><td>3</td><td>2018-11-30 14:03:00</td><td>2018-11-30 18:57:00</td><td>294</td><td>-480</td><td>0</td><td>3</td><td>8</td><td>4</td><td>2838</td><td>405</td><td>3</td><td>2</td><td>0</td><td>2.972533</td><td>3.308991</td><td>0.1132</td><td>1.081598</td><td>0.974624</td><td>1.046286</td><td>333</td></tr><tr><td>&quot;L3&quot;</td><td>11152</td><td>2018-11-30</td><td>2018-11-30</td><td>1911</td><td>0</td><td>0</td><td>4</td><td>2018-11-30 16:45:00</td><td>2018-11-30 18:05:00</td><td>80</td><td>-480</td><td>0</td><td>4</td><td>35</td><td>10</td><td>8086</td><td>228</td><td>3</td><td>4</td><td>0</td><td>2.763495</td><td>3.281261</td><td>0.1874</td><td>1.211233</td><td>1.044012</td><td>1.672692</td><td>333</td></tr><tr><td>&quot;L1&quot;</td><td>5701</td><td>2018-11-30</td><td>2018-11-30</td><td>2037</td><td>0</td><td>0</td><td>2</td><td>2018-11-30 21:59:00</td><td>2018-11-30 23:20:00</td><td>81</td><td>-360</td><td>0</td><td>5</td><td>8</td><td>1</td><td>2838</td><td>403</td><td>2</td><td>3</td><td>0</td><td>2.931838</td><td>3.308991</td><td>0.1286</td><td>0.991846</td><td>1.226841</td><td>0.952547</td><td>333</td></tr><tr><td>&quot;L3&quot;</td><td>6523</td><td>2018-11-30</td><td>2018-11-30</td><td>1911</td><td>0</td><td>0</td><td>6</td><td>2018-11-30 21:15:00</td><td>2018-11-30 22:25:00</td><td>70</td><td>-480</td><td>0</td><td>5</td><td>35</td><td>5</td><td>8086</td><td>226</td><td>4</td><td>3</td><td>0</td><td>2.733692</td><td>3.281261</td><td>0.2003</td><td>1.243868</td><td>1.324809</td><td>1.735409</td><td>333</td></tr></tbody></table></div>"
      ],
      "text/plain": [
       "shape: (1_556_671, 28)\n",
       "┌─────────┬─────────┬────────────┬────────────┬───┬────────────┬───────────┬───────────┬───────────┐\n",
       "│ carrier ┆ flt_num ┆ flt_depart ┆ observatio ┆ … ┆ 7d_route_a ┆ 14d_route ┆ 7d_route_ ┆ days_sinc │\n",
       "│ ---     ┆ ---     ┆ ure_dt     ┆ n_date     ┆   ┆ vg         ┆ _avg      ┆ carrier_a ┆ e_start   │\n",
       "│ str     ┆ i64     ┆ ---        ┆ ---        ┆   ┆ ---        ┆ ---       ┆ vg        ┆ ---       │\n",
       "│         ┆         ┆ date       ┆ date       ┆   ┆ f64        ┆ f64       ┆ ---       ┆ i64       │\n",
       "│         ┆         ┆            ┆            ┆   ┆            ┆           ┆ f64       ┆           │\n",
       "╞═════════╪═════════╪════════════╪════════════╪═══╪════════════╪═══════════╪═══════════╪═══════════╡\n",
       "│ U1      ┆ 6143    ┆ 2018-01-01 ┆ 2017-11-27 ┆ … ┆ 1.0        ┆ 1.0       ┆ 1.0       ┆ 0         │\n",
       "│ L1      ┆ 5927    ┆ 2018-01-01 ┆ 2017-11-27 ┆ … ┆ 1.0        ┆ 1.0       ┆ 1.0       ┆ 0         │\n",
       "│ L3      ┆ 18075   ┆ 2018-01-01 ┆ 2017-11-27 ┆ … ┆ 1.0        ┆ 1.0       ┆ 1.0       ┆ 0         │\n",
       "│ OTH     ┆ 2416    ┆ 2018-01-01 ┆ 2017-11-27 ┆ … ┆ 1.0        ┆ 1.0       ┆ 1.0       ┆ 0         │\n",
       "│ L3      ┆ 18270   ┆ 2018-01-01 ┆ 2017-11-27 ┆ … ┆ 1.0        ┆ 1.0       ┆ 1.0       ┆ 0         │\n",
       "│ L1      ┆ 1396    ┆ 2018-01-01 ┆ 2017-11-27 ┆ … ┆ 1.0        ┆ 1.0       ┆ 1.0       ┆ 0         │\n",
       "│ U1      ┆ 4771    ┆ 2018-01-01 ┆ 2017-11-27 ┆ … ┆ 1.0        ┆ 1.0       ┆ 1.0       ┆ 0         │\n",
       "│ OTH     ┆ 4825    ┆ 2018-01-01 ┆ 2017-11-27 ┆ … ┆ 1.0        ┆ 1.0       ┆ 1.0       ┆ 0         │\n",
       "│ OTH     ┆ 6175    ┆ 2018-01-01 ┆ 2017-11-27 ┆ … ┆ 1.0        ┆ 1.0       ┆ 1.0       ┆ 0         │\n",
       "│ U1      ┆ 6187    ┆ 2018-01-01 ┆ 2017-11-27 ┆ … ┆ 1.0        ┆ 1.0       ┆ 1.0       ┆ 0         │\n",
       "│ …       ┆ …       ┆ …          ┆ …          ┆ … ┆ …          ┆ …         ┆ …         ┆ …         │\n",
       "│ OTH     ┆ 2972    ┆ 2018-11-30 ┆ 2018-11-30 ┆ … ┆ 1.243868   ┆ 1.324809  ┆ 0.952421  ┆ 333       │\n",
       "│ L1      ┆ 3437    ┆ 2018-11-30 ┆ 2018-11-30 ┆ … ┆ 0.991846   ┆ 1.226841  ┆ 0.952547  ┆ 333       │\n",
       "│ L1      ┆ 1992    ┆ 2018-11-30 ┆ 2018-11-30 ┆ … ┆ 1.211233   ┆ 1.044012  ┆ 0.928264  ┆ 333       │\n",
       "│ OTH     ┆ 1075    ┆ 2018-11-30 ┆ 2018-11-30 ┆ … ┆ 1.081598   ┆ 0.974624  ┆ 1.150222  ┆ 333       │\n",
       "│ L1      ┆ 7136    ┆ 2018-11-30 ┆ 2018-11-30 ┆ … ┆ 1.195414   ┆ 1.169753  ┆ 1.273483  ┆ 333       │\n",
       "│ U1      ┆ 6178    ┆ 2018-11-30 ┆ 2018-11-30 ┆ … ┆ 1.087039   ┆ 0.857126  ┆ 1.077092  ┆ 333       │\n",
       "│ L1      ┆ 6294    ┆ 2018-11-30 ┆ 2018-11-30 ┆ … ┆ 1.081598   ┆ 0.974624  ┆ 1.046286  ┆ 333       │\n",
       "│ L3      ┆ 11152   ┆ 2018-11-30 ┆ 2018-11-30 ┆ … ┆ 1.211233   ┆ 1.044012  ┆ 1.672692  ┆ 333       │\n",
       "│ L1      ┆ 5701    ┆ 2018-11-30 ┆ 2018-11-30 ┆ … ┆ 0.991846   ┆ 1.226841  ┆ 0.952547  ┆ 333       │\n",
       "│ L3      ┆ 6523    ┆ 2018-11-30 ┆ 2018-11-30 ┆ … ┆ 1.243868   ┆ 1.324809  ┆ 1.735409  ┆ 333       │\n",
       "└─────────┴─────────┴────────────┴────────────┴───┴────────────┴───────────┴───────────┴───────────┘"
      ]
     },
     "execution_count": 23,
     "metadata": {},
     "output_type": "execute_result"
    }
   ],
   "source": [
    "train_df = train_df.with_columns(\n",
    "    (\n",
    "        pl.col('flt_departure_dt') - train_df['flt_departure_dt'].min()\n",
    "    ).dt.total_days().alias(\"days_since_start\")\n",
    ")\n",
    "\n",
    "train_df"
   ]
  },
  {
   "cell_type": "code",
   "execution_count": 24,
   "metadata": {},
   "outputs": [
    {
     "data": {
      "text/html": [
       "<div><style>\n",
       ".dataframe > thead > tr,\n",
       ".dataframe > tbody > tr {\n",
       "  text-align: right;\n",
       "  white-space: pre-wrap;\n",
       "}\n",
       "</style>\n",
       "<small>shape: (29_492, 28)</small><table border=\"1\" class=\"dataframe\"><thead><tr><th>carrier</th><th>flt_num</th><th>flt_departure_dt</th><th>observation_date</th><th>total_fare</th><th>days_till_flight</th><th>is_dst</th><th>route_id</th><th>flt_departure_local_time</th><th>flt_arrival_local_time</th><th>dur_min</th><th>tz_min</th><th>over_mn</th><th>dpt_4h_od</th><th>flt_count_dpt_24h</th><th>flt_count_dpt_4h</th><th>scaled_demand</th><th>scaled_share</th><th>origin_id</th><th>destination_id</th><th>flt_info_null</th><th>base_fare</th><th>log_fare</th><th>scaled_fare</th><th>7d_route_avg</th><th>14d_route_avg</th><th>7d_route_carrier_avg</th><th>days_since_start</th></tr><tr><td>str</td><td>i64</td><td>date</td><td>date</td><td>i64</td><td>i16</td><td>i8</td><td>u8</td><td>datetime[ns]</td><td>datetime[ns]</td><td>i16</td><td>i16</td><td>i8</td><td>i8</td><td>u8</td><td>u8</td><td>i64</td><td>i64</td><td>u8</td><td>u8</td><td>u8</td><td>f64</td><td>f64</td><td>f64</td><td>f64</td><td>f64</td><td>f64</td><td>i64</td></tr></thead><tbody><tr><td>&quot;L2&quot;</td><td>7220</td><td>2018-12-01</td><td>2018-10-02</td><td>476</td><td>60</td><td>0</td><td>6</td><td>2018-12-01 10:15:00</td><td>2018-12-01 11:27:00</td><td>72</td><td>-480</td><td>0</td><td>2</td><td>32</td><td>9</td><td>7128</td><td>224</td><td>4</td><td>3</td><td>0</td><td>2.660753</td><td>2.677607</td><td>0.0063</td><td>1.179192</td><td>0.996404</td><td>0.931051</td><td>334</td></tr><tr><td>&quot;L2&quot;</td><td>4448</td><td>2018-12-01</td><td>2018-10-02</td><td>476</td><td>60</td><td>0</td><td>6</td><td>2018-12-01 08:40:00</td><td>2018-12-01 10:04:00</td><td>84</td><td>-480</td><td>0</td><td>2</td><td>32</td><td>9</td><td>7128</td><td>224</td><td>4</td><td>3</td><td>0</td><td>2.660753</td><td>2.677607</td><td>0.0063</td><td>1.179192</td><td>0.996404</td><td>0.931051</td><td>334</td></tr><tr><td>&quot;L2&quot;</td><td>7402</td><td>2018-12-01</td><td>2018-10-02</td><td>476</td><td>60</td><td>0</td><td>6</td><td>2018-12-01 14:10:00</td><td>2018-12-01 15:22:00</td><td>72</td><td>-480</td><td>0</td><td>3</td><td>32</td><td>9</td><td>7128</td><td>224</td><td>4</td><td>3</td><td>0</td><td>2.660753</td><td>2.677607</td><td>0.0063</td><td>1.179192</td><td>0.996404</td><td>0.931051</td><td>334</td></tr><tr><td>&quot;L2&quot;</td><td>2200</td><td>2018-12-01</td><td>2018-10-02</td><td>285</td><td>60</td><td>0</td><td>6</td><td>2018-12-01 19:50:00</td><td>2018-12-01 21:02:00</td><td>72</td><td>-480</td><td>0</td><td>4</td><td>32</td><td>10</td><td>7128</td><td>224</td><td>4</td><td>3</td><td>0</td><td>2.660753</td><td>2.454845</td><td>-0.0774</td><td>1.179192</td><td>0.996404</td><td>0.931051</td><td>334</td></tr><tr><td>&quot;L2&quot;</td><td>8903</td><td>2018-12-01</td><td>2018-10-02</td><td>285</td><td>60</td><td>0</td><td>6</td><td>2018-12-01 22:45:00</td><td>2018-12-02 00:02:00</td><td>77</td><td>-480</td><td>1</td><td>5</td><td>32</td><td>1</td><td>7128</td><td>224</td><td>4</td><td>3</td><td>0</td><td>2.660753</td><td>2.454845</td><td>-0.0774</td><td>1.179192</td><td>0.996404</td><td>0.931051</td><td>334</td></tr><tr><td>&quot;L2&quot;</td><td>5041</td><td>2018-12-01</td><td>2018-10-02</td><td>476</td><td>60</td><td>0</td><td>6</td><td>2018-12-01 12:40:00</td><td>2018-12-01 13:52:00</td><td>72</td><td>-480</td><td>0</td><td>3</td><td>32</td><td>9</td><td>7128</td><td>224</td><td>4</td><td>3</td><td>0</td><td>2.660753</td><td>2.677607</td><td>0.0063</td><td>1.179192</td><td>0.996404</td><td>0.931051</td><td>334</td></tr><tr><td>&quot;L2&quot;</td><td>1732</td><td>2018-12-01</td><td>2018-10-02</td><td>395</td><td>60</td><td>0</td><td>6</td><td>2018-12-01 16:50:00</td><td>2018-12-01 18:02:00</td><td>72</td><td>-480</td><td>0</td><td>4</td><td>32</td><td>10</td><td>7128</td><td>224</td><td>4</td><td>3</td><td>0</td><td>2.660753</td><td>2.596597</td><td>-0.0241</td><td>1.179192</td><td>0.996404</td><td>0.931051</td><td>334</td></tr><tr><td>&quot;L1&quot;</td><td>5927</td><td>2018-12-01</td><td>2018-10-05</td><td>530</td><td>57</td><td>0</td><td>1</td><td>2018-12-01 20:30:00</td><td>2018-12-01 23:37:00</td><td>187</td><td>-300</td><td>0</td><td>5</td><td>4</td><td>1</td><td>2164</td><td>373</td><td>1</td><td>5</td><td>0</td><td>2.991069</td><td>2.724276</td><td>-0.0892</td><td>1.68593</td><td>0.848971</td><td>1.68593</td><td>334</td></tr><tr><td>&quot;L1&quot;</td><td>11158</td><td>2018-12-01</td><td>2018-10-05</td><td>800</td><td>57</td><td>0</td><td>1</td><td>2018-12-01 12:03:00</td><td>2018-12-01 15:20:00</td><td>197</td><td>-300</td><td>0</td><td>3</td><td>4</td><td>1</td><td>2164</td><td>373</td><td>1</td><td>5</td><td>0</td><td>2.991069</td><td>2.90309</td><td>-0.0294</td><td>1.68593</td><td>0.848971</td><td>1.68593</td><td>334</td></tr><tr><td>&quot;L1&quot;</td><td>7431</td><td>2018-12-01</td><td>2018-10-05</td><td>737</td><td>57</td><td>0</td><td>1</td><td>2018-12-01 07:29:00</td><td>2018-12-01 10:36:00</td><td>187</td><td>-300</td><td>0</td><td>1</td><td>4</td><td>1</td><td>2164</td><td>373</td><td>1</td><td>5</td><td>0</td><td>2.991069</td><td>2.867467</td><td>-0.0413</td><td>1.68593</td><td>0.848971</td><td>1.68593</td><td>334</td></tr><tr><td>&hellip;</td><td>&hellip;</td><td>&hellip;</td><td>&hellip;</td><td>&hellip;</td><td>&hellip;</td><td>&hellip;</td><td>&hellip;</td><td>&hellip;</td><td>&hellip;</td><td>&hellip;</td><td>&hellip;</td><td>&hellip;</td><td>&hellip;</td><td>&hellip;</td><td>&hellip;</td><td>&hellip;</td><td>&hellip;</td><td>&hellip;</td><td>&hellip;</td><td>&hellip;</td><td>&hellip;</td><td>&hellip;</td><td>&hellip;</td><td>&hellip;</td><td>&hellip;</td><td>&hellip;</td><td>&hellip;</td></tr><tr><td>&quot;U1&quot;</td><td>6250</td><td>2018-12-07</td><td>2018-12-07</td><td>1283</td><td>0</td><td>0</td><td>11</td><td>2018-12-07 19:35:00</td><td>2018-12-07 21:09:00</td><td>94</td><td>-480</td><td>0</td><td>4</td><td>22</td><td>6</td><td>5817</td><td>253</td><td>7</td><td>3</td><td>0</td><td>2.755964</td><td>3.108227</td><td>0.1278</td><td>1.167987</td><td>0.932419</td><td>1.253507</td><td>340</td></tr><tr><td>&quot;L1&quot;</td><td>6278</td><td>2018-12-07</td><td>2018-12-07</td><td>1067</td><td>0</td><td>0</td><td>0</td><td>2018-12-07 15:30:00</td><td>2018-12-07 18:35:00</td><td>185</td><td>-420</td><td>0</td><td>3</td><td>10</td><td>4</td><td>3070</td><td>281</td><td>0</td><td>5</td><td>0</td><td>2.877514</td><td>3.028164</td><td>0.0524</td><td>0.736157</td><td>1.055912</td><td>0.743854</td><td>340</td></tr><tr><td>&quot;L3&quot;</td><td>11152</td><td>2018-12-07</td><td>2018-12-07</td><td>671</td><td>0</td><td>0</td><td>4</td><td>2018-12-07 16:45:00</td><td>2018-12-07 18:05:00</td><td>80</td><td>-480</td><td>0</td><td>4</td><td>35</td><td>10</td><td>7128</td><td>231</td><td>3</td><td>4</td><td>0</td><td>2.763495</td><td>2.826723</td><td>0.0229</td><td>2.362383</td><td>1.211233</td><td>2.909392</td><td>340</td></tr><tr><td>&quot;L1&quot;</td><td>2997</td><td>2018-12-07</td><td>2018-12-07</td><td>1346</td><td>0</td><td>0</td><td>8</td><td>2018-12-07 11:34:00</td><td>2018-12-07 16:10:00</td><td>276</td><td>-360</td><td>0</td><td>2</td><td>4</td><td>1</td><td>2164</td><td>373</td><td>5</td><td>1</td><td>0</td><td>3.021101</td><td>3.129045</td><td>0.0357</td><td>0.633902</td><td>0.768974</td><td>0.633902</td><td>340</td></tr><tr><td>&quot;L1&quot;</td><td>1176</td><td>2018-12-07</td><td>2018-12-07</td><td>395</td><td>0</td><td>0</td><td>4</td><td>2018-12-07 06:05:00</td><td>2018-12-07 07:21:00</td><td>76</td><td>-480</td><td>0</td><td>1</td><td>35</td><td>6</td><td>7128</td><td>189</td><td>3</td><td>4</td><td>0</td><td>2.671029</td><td>2.596597</td><td>-0.0279</td><td>2.362383</td><td>1.211233</td><td>2.625553</td><td>340</td></tr><tr><td>&quot;U1&quot;</td><td>6162</td><td>2018-12-07</td><td>2018-12-07</td><td>1111</td><td>0</td><td>0</td><td>11</td><td>2018-12-07 16:20:00</td><td>2018-12-07 17:54:00</td><td>94</td><td>-480</td><td>0</td><td>4</td><td>22</td><td>6</td><td>5817</td><td>253</td><td>7</td><td>3</td><td>0</td><td>2.755964</td><td>3.045714</td><td>0.1051</td><td>1.167987</td><td>0.932419</td><td>1.253507</td><td>340</td></tr><tr><td>&quot;U1&quot;</td><td>6128</td><td>2018-12-07</td><td>2018-12-07</td><td>1111</td><td>0</td><td>0</td><td>5</td><td>2018-12-07 09:35:00</td><td>2018-12-07 11:12:00</td><td>97</td><td>-480</td><td>0</td><td>2</td><td>22</td><td>6</td><td>5817</td><td>252</td><td>3</td><td>7</td><td>0</td><td>2.796569</td><td>3.045714</td><td>0.0891</td><td>2.33368</td><td>1.087039</td><td>1.602604</td><td>340</td></tr><tr><td>&quot;L1&quot;</td><td>5701</td><td>2018-12-07</td><td>2018-12-07</td><td>2037</td><td>0</td><td>0</td><td>2</td><td>2018-12-07 21:59:00</td><td>2018-12-07 23:20:00</td><td>81</td><td>-360</td><td>0</td><td>5</td><td>8</td><td>1</td><td>2790</td><td>405</td><td>2</td><td>3</td><td>0</td><td>2.931838</td><td>3.308991</td><td>0.1286</td><td>1.040541</td><td>0.991846</td><td>0.963441</td><td>340</td></tr><tr><td>&quot;L2&quot;</td><td>5274</td><td>2018-12-07</td><td>2018-12-07</td><td>1742</td><td>0</td><td>0</td><td>9</td><td>2018-12-07 11:03:00</td><td>2018-12-07 13:44:00</td><td>161</td><td>-360</td><td>0</td><td>2</td><td>7</td><td>3</td><td>1618</td><td>310</td><td>5</td><td>6</td><td>0</td><td>2.945677</td><td>3.241048</td><td>0.1003</td><td>0.916825</td><td>0.919801</td><td>0.960292</td><td>340</td></tr><tr><td>&quot;L1&quot;</td><td>6517</td><td>2018-12-07</td><td>2018-12-07</td><td>1346</td><td>0</td><td>0</td><td>8</td><td>2018-12-07 16:15:00</td><td>2018-12-07 20:52:00</td><td>277</td><td>-360</td><td>0</td><td>4</td><td>4</td><td>1</td><td>2164</td><td>373</td><td>5</td><td>1</td><td>0</td><td>3.021101</td><td>3.129045</td><td>0.0357</td><td>0.633902</td><td>0.768974</td><td>0.633902</td><td>340</td></tr></tbody></table></div>"
      ],
      "text/plain": [
       "shape: (29_492, 28)\n",
       "┌─────────┬─────────┬────────────┬────────────┬───┬────────────┬───────────┬───────────┬───────────┐\n",
       "│ carrier ┆ flt_num ┆ flt_depart ┆ observatio ┆ … ┆ 7d_route_a ┆ 14d_route ┆ 7d_route_ ┆ days_sinc │\n",
       "│ ---     ┆ ---     ┆ ure_dt     ┆ n_date     ┆   ┆ vg         ┆ _avg      ┆ carrier_a ┆ e_start   │\n",
       "│ str     ┆ i64     ┆ ---        ┆ ---        ┆   ┆ ---        ┆ ---       ┆ vg        ┆ ---       │\n",
       "│         ┆         ┆ date       ┆ date       ┆   ┆ f64        ┆ f64       ┆ ---       ┆ i64       │\n",
       "│         ┆         ┆            ┆            ┆   ┆            ┆           ┆ f64       ┆           │\n",
       "╞═════════╪═════════╪════════════╪════════════╪═══╪════════════╪═══════════╪═══════════╪═══════════╡\n",
       "│ L2      ┆ 7220    ┆ 2018-12-01 ┆ 2018-10-02 ┆ … ┆ 1.179192   ┆ 0.996404  ┆ 0.931051  ┆ 334       │\n",
       "│ L2      ┆ 4448    ┆ 2018-12-01 ┆ 2018-10-02 ┆ … ┆ 1.179192   ┆ 0.996404  ┆ 0.931051  ┆ 334       │\n",
       "│ L2      ┆ 7402    ┆ 2018-12-01 ┆ 2018-10-02 ┆ … ┆ 1.179192   ┆ 0.996404  ┆ 0.931051  ┆ 334       │\n",
       "│ L2      ┆ 2200    ┆ 2018-12-01 ┆ 2018-10-02 ┆ … ┆ 1.179192   ┆ 0.996404  ┆ 0.931051  ┆ 334       │\n",
       "│ L2      ┆ 8903    ┆ 2018-12-01 ┆ 2018-10-02 ┆ … ┆ 1.179192   ┆ 0.996404  ┆ 0.931051  ┆ 334       │\n",
       "│ L2      ┆ 5041    ┆ 2018-12-01 ┆ 2018-10-02 ┆ … ┆ 1.179192   ┆ 0.996404  ┆ 0.931051  ┆ 334       │\n",
       "│ L2      ┆ 1732    ┆ 2018-12-01 ┆ 2018-10-02 ┆ … ┆ 1.179192   ┆ 0.996404  ┆ 0.931051  ┆ 334       │\n",
       "│ L1      ┆ 5927    ┆ 2018-12-01 ┆ 2018-10-05 ┆ … ┆ 1.68593    ┆ 0.848971  ┆ 1.68593   ┆ 334       │\n",
       "│ L1      ┆ 11158   ┆ 2018-12-01 ┆ 2018-10-05 ┆ … ┆ 1.68593    ┆ 0.848971  ┆ 1.68593   ┆ 334       │\n",
       "│ L1      ┆ 7431    ┆ 2018-12-01 ┆ 2018-10-05 ┆ … ┆ 1.68593    ┆ 0.848971  ┆ 1.68593   ┆ 334       │\n",
       "│ …       ┆ …       ┆ …          ┆ …          ┆ … ┆ …          ┆ …         ┆ …         ┆ …         │\n",
       "│ U1      ┆ 6250    ┆ 2018-12-07 ┆ 2018-12-07 ┆ … ┆ 1.167987   ┆ 0.932419  ┆ 1.253507  ┆ 340       │\n",
       "│ L1      ┆ 6278    ┆ 2018-12-07 ┆ 2018-12-07 ┆ … ┆ 0.736157   ┆ 1.055912  ┆ 0.743854  ┆ 340       │\n",
       "│ L3      ┆ 11152   ┆ 2018-12-07 ┆ 2018-12-07 ┆ … ┆ 2.362383   ┆ 1.211233  ┆ 2.909392  ┆ 340       │\n",
       "│ L1      ┆ 2997    ┆ 2018-12-07 ┆ 2018-12-07 ┆ … ┆ 0.633902   ┆ 0.768974  ┆ 0.633902  ┆ 340       │\n",
       "│ L1      ┆ 1176    ┆ 2018-12-07 ┆ 2018-12-07 ┆ … ┆ 2.362383   ┆ 1.211233  ┆ 2.625553  ┆ 340       │\n",
       "│ U1      ┆ 6162    ┆ 2018-12-07 ┆ 2018-12-07 ┆ … ┆ 1.167987   ┆ 0.932419  ┆ 1.253507  ┆ 340       │\n",
       "│ U1      ┆ 6128    ┆ 2018-12-07 ┆ 2018-12-07 ┆ … ┆ 2.33368    ┆ 1.087039  ┆ 1.602604  ┆ 340       │\n",
       "│ L1      ┆ 5701    ┆ 2018-12-07 ┆ 2018-12-07 ┆ … ┆ 1.040541   ┆ 0.991846  ┆ 0.963441  ┆ 340       │\n",
       "│ L2      ┆ 5274    ┆ 2018-12-07 ┆ 2018-12-07 ┆ … ┆ 0.916825   ┆ 0.919801  ┆ 0.960292  ┆ 340       │\n",
       "│ L1      ┆ 6517    ┆ 2018-12-07 ┆ 2018-12-07 ┆ … ┆ 0.633902   ┆ 0.768974  ┆ 0.633902  ┆ 340       │\n",
       "└─────────┴─────────┴────────────┴────────────┴───┴────────────┴───────────┴───────────┴───────────┘"
      ]
     },
     "execution_count": 24,
     "metadata": {},
     "output_type": "execute_result"
    }
   ],
   "source": [
    "val_df = val_df.with_columns(\n",
    "    (\n",
    "        pl.col('flt_departure_dt') - train_df['flt_departure_dt'].min()\n",
    "    ).dt.total_days().alias(\"days_since_start\")\n",
    ")\n",
    "\n",
    "val_df"
   ]
  },
  {
   "cell_type": "markdown",
   "metadata": {},
   "source": [
    "#### Flight date features"
   ]
  },
  {
   "cell_type": "code",
   "execution_count": 25,
   "metadata": {},
   "outputs": [
    {
     "data": {
      "text/html": [
       "<div><style>\n",
       ".dataframe > thead > tr,\n",
       ".dataframe > tbody > tr {\n",
       "  text-align: right;\n",
       "  white-space: pre-wrap;\n",
       "}\n",
       "</style>\n",
       "<small>shape: (1_556_671, 32)</small><table border=\"1\" class=\"dataframe\"><thead><tr><th>carrier</th><th>flt_num</th><th>flt_departure_dt</th><th>observation_date</th><th>total_fare</th><th>days_till_flight</th><th>is_dst</th><th>route_id</th><th>flt_departure_local_time</th><th>flt_arrival_local_time</th><th>dur_min</th><th>tz_min</th><th>over_mn</th><th>dpt_4h_od</th><th>flt_count_dpt_24h</th><th>flt_count_dpt_4h</th><th>scaled_demand</th><th>scaled_share</th><th>origin_id</th><th>destination_id</th><th>flt_info_null</th><th>base_fare</th><th>log_fare</th><th>scaled_fare</th><th>7d_route_avg</th><th>14d_route_avg</th><th>7d_route_carrier_avg</th><th>days_since_start</th><th>flt_departure_month</th><th>flt_departure_day</th><th>flt_departure_week</th><th>flt_departure_weekday</th></tr><tr><td>str</td><td>i64</td><td>date</td><td>date</td><td>i64</td><td>i16</td><td>i8</td><td>u8</td><td>datetime[ns]</td><td>datetime[ns]</td><td>i16</td><td>i16</td><td>i8</td><td>i8</td><td>u8</td><td>u8</td><td>i64</td><td>i64</td><td>u8</td><td>u8</td><td>u8</td><td>f64</td><td>f64</td><td>f64</td><td>f64</td><td>f64</td><td>f64</td><td>i64</td><td>i8</td><td>i8</td><td>i8</td><td>i8</td></tr></thead><tbody><tr><td>&quot;U1&quot;</td><td>6143</td><td>2018-01-01</td><td>2017-11-27</td><td>469</td><td>35</td><td>0</td><td>11</td><td>null</td><td>null</td><td>null</td><td>null</td><td>null</td><td>null</td><td>null</td><td>null</td><td>null</td><td>null</td><td>7</td><td>3</td><td>1</td><td>2.755964</td><td>2.671173</td><td>-0.0308</td><td>1.0</td><td>1.0</td><td>1.0</td><td>0</td><td>1</td><td>1</td><td>1</td><td>1</td></tr><tr><td>&quot;L1&quot;</td><td>5927</td><td>2018-01-01</td><td>2017-11-27</td><td>1119</td><td>35</td><td>0</td><td>1</td><td>2018-01-01 20:33:00</td><td>2018-01-01 23:50:00</td><td>197</td><td>-300</td><td>0</td><td>5</td><td>5</td><td>1</td><td>1468</td><td>360</td><td>1</td><td>5</td><td>0</td><td>2.991069</td><td>3.04883</td><td>0.0193</td><td>1.0</td><td>1.0</td><td>1.0</td><td>0</td><td>1</td><td>1</td><td>1</td><td>1</td></tr><tr><td>&quot;L3&quot;</td><td>18075</td><td>2018-01-01</td><td>2017-11-27</td><td>422</td><td>35</td><td>0</td><td>6</td><td>2018-01-01 13:20:00</td><td>2018-01-01 14:35:00</td><td>75</td><td>-480</td><td>0</td><td>3</td><td>30</td><td>9</td><td>6659</td><td>228</td><td>4</td><td>3</td><td>0</td><td>2.733692</td><td>2.625312</td><td>-0.0396</td><td>1.0</td><td>1.0</td><td>1.0</td><td>0</td><td>1</td><td>1</td><td>1</td><td>1</td></tr><tr><td>&quot;OTH&quot;</td><td>2416</td><td>2018-01-01</td><td>2017-11-27</td><td>787</td><td>35</td><td>0</td><td>4</td><td>2018-01-01 20:22:00</td><td>2018-01-01 21:46:00</td><td>84</td><td>-480</td><td>0</td><td>5</td><td>30</td><td>4</td><td>6659</td><td>316</td><td>3</td><td>4</td><td>0</td><td>2.589739</td><td>2.895975</td><td>0.1182</td><td>1.0</td><td>1.0</td><td>1.0</td><td>0</td><td>1</td><td>1</td><td>1</td><td>1</td></tr><tr><td>&quot;L3&quot;</td><td>18270</td><td>2018-01-01</td><td>2017-11-27</td><td>1298</td><td>35</td><td>0</td><td>4</td><td>2018-01-01 11:17:00</td><td>2018-01-01 12:40:00</td><td>83</td><td>-480</td><td>0</td><td>2</td><td>30</td><td>5</td><td>6659</td><td>231</td><td>3</td><td>4</td><td>0</td><td>2.763495</td><td>3.113275</td><td>0.1266</td><td>1.0</td><td>1.0</td><td>1.0</td><td>0</td><td>1</td><td>1</td><td>1</td><td>1</td></tr><tr><td>&quot;L1&quot;</td><td>1396</td><td>2018-01-01</td><td>2017-11-27</td><td>372</td><td>35</td><td>0</td><td>11</td><td>2018-01-01 19:35:00</td><td>2018-01-01 21:08:00</td><td>93</td><td>-480</td><td>0</td><td>4</td><td>21</td><td>7</td><td>6579</td><td>262</td><td>7</td><td>3</td><td>0</td><td>2.766269</td><td>2.570543</td><td>-0.0708</td><td>1.0</td><td>1.0</td><td>1.0</td><td>0</td><td>1</td><td>1</td><td>1</td><td>1</td></tr><tr><td>&quot;U1&quot;</td><td>4771</td><td>2018-01-01</td><td>2017-11-27</td><td>513</td><td>35</td><td>0</td><td>4</td><td>null</td><td>null</td><td>null</td><td>null</td><td>null</td><td>null</td><td>null</td><td>null</td><td>null</td><td>null</td><td>3</td><td>4</td><td>1</td><td>2.638819</td><td>2.710117</td><td>0.027</td><td>1.0</td><td>1.0</td><td>1.0</td><td>0</td><td>1</td><td>1</td><td>1</td><td>1</td></tr><tr><td>&quot;OTH&quot;</td><td>4825</td><td>2018-01-01</td><td>2017-11-27</td><td>432</td><td>35</td><td>0</td><td>6</td><td>2018-01-01 12:55:00</td><td>2018-01-01 14:07:00</td><td>72</td><td>-480</td><td>0</td><td>3</td><td>30</td><td>9</td><td>6659</td><td>316</td><td>4</td><td>3</td><td>0</td><td>2.578117</td><td>2.635484</td><td>0.0223</td><td>1.0</td><td>1.0</td><td>1.0</td><td>0</td><td>1</td><td>1</td><td>1</td><td>1</td></tr><tr><td>&quot;OTH&quot;</td><td>6175</td><td>2018-01-01</td><td>2017-11-27</td><td>341</td><td>35</td><td>0</td><td>11</td><td>2018-01-01 18:55:00</td><td>2018-01-01 20:23:00</td><td>88</td><td>-480</td><td>0</td><td>4</td><td>21</td><td>7</td><td>6579</td><td>354</td><td>7</td><td>3</td><td>0</td><td>2.72979</td><td>2.532754</td><td>-0.0722</td><td>1.0</td><td>1.0</td><td>1.0</td><td>0</td><td>1</td><td>1</td><td>1</td><td>1</td></tr><tr><td>&quot;U1&quot;</td><td>6187</td><td>2018-01-01</td><td>2017-11-27</td><td>341</td><td>35</td><td>0</td><td>11</td><td>null</td><td>null</td><td>null</td><td>null</td><td>null</td><td>null</td><td>null</td><td>null</td><td>null</td><td>null</td><td>7</td><td>3</td><td>1</td><td>2.755964</td><td>2.532754</td><td>-0.081</td><td>1.0</td><td>1.0</td><td>1.0</td><td>0</td><td>1</td><td>1</td><td>1</td><td>1</td></tr><tr><td>&hellip;</td><td>&hellip;</td><td>&hellip;</td><td>&hellip;</td><td>&hellip;</td><td>&hellip;</td><td>&hellip;</td><td>&hellip;</td><td>&hellip;</td><td>&hellip;</td><td>&hellip;</td><td>&hellip;</td><td>&hellip;</td><td>&hellip;</td><td>&hellip;</td><td>&hellip;</td><td>&hellip;</td><td>&hellip;</td><td>&hellip;</td><td>&hellip;</td><td>&hellip;</td><td>&hellip;</td><td>&hellip;</td><td>&hellip;</td><td>&hellip;</td><td>&hellip;</td><td>&hellip;</td><td>&hellip;</td><td>&hellip;</td><td>&hellip;</td><td>&hellip;</td><td>&hellip;</td></tr><tr><td>&quot;OTH&quot;</td><td>2972</td><td>2018-11-30</td><td>2018-11-30</td><td>696</td><td>0</td><td>0</td><td>6</td><td>2018-11-30 11:30:00</td><td>2018-11-30 12:43:00</td><td>73</td><td>-480</td><td>0</td><td>2</td><td>35</td><td>9</td><td>8086</td><td>264</td><td>4</td><td>3</td><td>0</td><td>2.578117</td><td>2.842609</td><td>0.1026</td><td>1.243868</td><td>1.324809</td><td>0.952421</td><td>333</td><td>11</td><td>30</td><td>48</td><td>5</td></tr><tr><td>&quot;L1&quot;</td><td>3437</td><td>2018-11-30</td><td>2018-11-30</td><td>2037</td><td>0</td><td>0</td><td>2</td><td>2018-11-30 18:18:00</td><td>2018-11-30 19:38:00</td><td>80</td><td>-360</td><td>0</td><td>4</td><td>8</td><td>3</td><td>2838</td><td>403</td><td>2</td><td>3</td><td>0</td><td>2.931838</td><td>3.308991</td><td>0.1286</td><td>0.991846</td><td>1.226841</td><td>0.952547</td><td>333</td><td>11</td><td>30</td><td>48</td><td>5</td></tr><tr><td>&quot;L1&quot;</td><td>1992</td><td>2018-11-30</td><td>2018-11-30</td><td>1167</td><td>0</td><td>0</td><td>4</td><td>2018-11-30 18:53:00</td><td>2018-11-30 20:05:00</td><td>72</td><td>-480</td><td>0</td><td>4</td><td>35</td><td>10</td><td>8086</td><td>199</td><td>3</td><td>4</td><td>0</td><td>2.671029</td><td>3.067071</td><td>0.1483</td><td>1.211233</td><td>1.044012</td><td>0.928264</td><td>333</td><td>11</td><td>30</td><td>48</td><td>5</td></tr><tr><td>&quot;OTH&quot;</td><td>1075</td><td>2018-11-30</td><td>2018-11-30</td><td>1073</td><td>0</td><td>0</td><td>3</td><td>2018-11-30 18:45:00</td><td>2018-11-30 23:42:00</td><td>297</td><td>-480</td><td>0</td><td>4</td><td>8</td><td>1</td><td>2838</td><td>214</td><td>3</td><td>2</td><td>0</td><td>2.763481</td><td>3.0306</td><td>0.0967</td><td>1.081598</td><td>0.974624</td><td>1.150222</td><td>333</td><td>11</td><td>30</td><td>48</td><td>5</td></tr><tr><td>&quot;L1&quot;</td><td>7136</td><td>2018-11-30</td><td>2018-11-30</td><td>1067</td><td>0</td><td>0</td><td>7</td><td>2018-11-30 19:49:00</td><td>2018-11-30 21:05:00</td><td>76</td><td>-360</td><td>0</td><td>4</td><td>10</td><td>4</td><td>3099</td><td>276</td><td>5</td><td>0</td><td>0</td><td>2.862502</td><td>3.028164</td><td>0.0579</td><td>1.195414</td><td>1.169753</td><td>1.273483</td><td>333</td><td>11</td><td>30</td><td>48</td><td>5</td></tr><tr><td>&quot;U1&quot;</td><td>6178</td><td>2018-11-30</td><td>2018-11-30</td><td>1111</td><td>0</td><td>0</td><td>5</td><td>2018-11-30 18:55:00</td><td>2018-11-30 20:35:00</td><td>100</td><td>-480</td><td>0</td><td>4</td><td>22</td><td>7</td><td>6396</td><td>250</td><td>3</td><td>7</td><td>0</td><td>2.796569</td><td>3.045714</td><td>0.0891</td><td>1.087039</td><td>0.857126</td><td>1.077092</td><td>333</td><td>11</td><td>30</td><td>48</td><td>5</td></tr><tr><td>&quot;L1&quot;</td><td>6294</td><td>2018-11-30</td><td>2018-11-30</td><td>2037</td><td>0</td><td>0</td><td>3</td><td>2018-11-30 14:03:00</td><td>2018-11-30 18:57:00</td><td>294</td><td>-480</td><td>0</td><td>3</td><td>8</td><td>4</td><td>2838</td><td>405</td><td>3</td><td>2</td><td>0</td><td>2.972533</td><td>3.308991</td><td>0.1132</td><td>1.081598</td><td>0.974624</td><td>1.046286</td><td>333</td><td>11</td><td>30</td><td>48</td><td>5</td></tr><tr><td>&quot;L3&quot;</td><td>11152</td><td>2018-11-30</td><td>2018-11-30</td><td>1911</td><td>0</td><td>0</td><td>4</td><td>2018-11-30 16:45:00</td><td>2018-11-30 18:05:00</td><td>80</td><td>-480</td><td>0</td><td>4</td><td>35</td><td>10</td><td>8086</td><td>228</td><td>3</td><td>4</td><td>0</td><td>2.763495</td><td>3.281261</td><td>0.1874</td><td>1.211233</td><td>1.044012</td><td>1.672692</td><td>333</td><td>11</td><td>30</td><td>48</td><td>5</td></tr><tr><td>&quot;L1&quot;</td><td>5701</td><td>2018-11-30</td><td>2018-11-30</td><td>2037</td><td>0</td><td>0</td><td>2</td><td>2018-11-30 21:59:00</td><td>2018-11-30 23:20:00</td><td>81</td><td>-360</td><td>0</td><td>5</td><td>8</td><td>1</td><td>2838</td><td>403</td><td>2</td><td>3</td><td>0</td><td>2.931838</td><td>3.308991</td><td>0.1286</td><td>0.991846</td><td>1.226841</td><td>0.952547</td><td>333</td><td>11</td><td>30</td><td>48</td><td>5</td></tr><tr><td>&quot;L3&quot;</td><td>6523</td><td>2018-11-30</td><td>2018-11-30</td><td>1911</td><td>0</td><td>0</td><td>6</td><td>2018-11-30 21:15:00</td><td>2018-11-30 22:25:00</td><td>70</td><td>-480</td><td>0</td><td>5</td><td>35</td><td>5</td><td>8086</td><td>226</td><td>4</td><td>3</td><td>0</td><td>2.733692</td><td>3.281261</td><td>0.2003</td><td>1.243868</td><td>1.324809</td><td>1.735409</td><td>333</td><td>11</td><td>30</td><td>48</td><td>5</td></tr></tbody></table></div>"
      ],
      "text/plain": [
       "shape: (1_556_671, 32)\n",
       "┌─────────┬─────────┬────────────┬────────────┬───┬────────────┬───────────┬───────────┬───────────┐\n",
       "│ carrier ┆ flt_num ┆ flt_depart ┆ observatio ┆ … ┆ flt_depart ┆ flt_depar ┆ flt_depar ┆ flt_depar │\n",
       "│ ---     ┆ ---     ┆ ure_dt     ┆ n_date     ┆   ┆ ure_month  ┆ ture_day  ┆ ture_week ┆ ture_week │\n",
       "│ str     ┆ i64     ┆ ---        ┆ ---        ┆   ┆ ---        ┆ ---       ┆ ---       ┆ day       │\n",
       "│         ┆         ┆ date       ┆ date       ┆   ┆ i8         ┆ i8        ┆ i8        ┆ ---       │\n",
       "│         ┆         ┆            ┆            ┆   ┆            ┆           ┆           ┆ i8        │\n",
       "╞═════════╪═════════╪════════════╪════════════╪═══╪════════════╪═══════════╪═══════════╪═══════════╡\n",
       "│ U1      ┆ 6143    ┆ 2018-01-01 ┆ 2017-11-27 ┆ … ┆ 1          ┆ 1         ┆ 1         ┆ 1         │\n",
       "│ L1      ┆ 5927    ┆ 2018-01-01 ┆ 2017-11-27 ┆ … ┆ 1          ┆ 1         ┆ 1         ┆ 1         │\n",
       "│ L3      ┆ 18075   ┆ 2018-01-01 ┆ 2017-11-27 ┆ … ┆ 1          ┆ 1         ┆ 1         ┆ 1         │\n",
       "│ OTH     ┆ 2416    ┆ 2018-01-01 ┆ 2017-11-27 ┆ … ┆ 1          ┆ 1         ┆ 1         ┆ 1         │\n",
       "│ L3      ┆ 18270   ┆ 2018-01-01 ┆ 2017-11-27 ┆ … ┆ 1          ┆ 1         ┆ 1         ┆ 1         │\n",
       "│ L1      ┆ 1396    ┆ 2018-01-01 ┆ 2017-11-27 ┆ … ┆ 1          ┆ 1         ┆ 1         ┆ 1         │\n",
       "│ U1      ┆ 4771    ┆ 2018-01-01 ┆ 2017-11-27 ┆ … ┆ 1          ┆ 1         ┆ 1         ┆ 1         │\n",
       "│ OTH     ┆ 4825    ┆ 2018-01-01 ┆ 2017-11-27 ┆ … ┆ 1          ┆ 1         ┆ 1         ┆ 1         │\n",
       "│ OTH     ┆ 6175    ┆ 2018-01-01 ┆ 2017-11-27 ┆ … ┆ 1          ┆ 1         ┆ 1         ┆ 1         │\n",
       "│ U1      ┆ 6187    ┆ 2018-01-01 ┆ 2017-11-27 ┆ … ┆ 1          ┆ 1         ┆ 1         ┆ 1         │\n",
       "│ …       ┆ …       ┆ …          ┆ …          ┆ … ┆ …          ┆ …         ┆ …         ┆ …         │\n",
       "│ OTH     ┆ 2972    ┆ 2018-11-30 ┆ 2018-11-30 ┆ … ┆ 11         ┆ 30        ┆ 48        ┆ 5         │\n",
       "│ L1      ┆ 3437    ┆ 2018-11-30 ┆ 2018-11-30 ┆ … ┆ 11         ┆ 30        ┆ 48        ┆ 5         │\n",
       "│ L1      ┆ 1992    ┆ 2018-11-30 ┆ 2018-11-30 ┆ … ┆ 11         ┆ 30        ┆ 48        ┆ 5         │\n",
       "│ OTH     ┆ 1075    ┆ 2018-11-30 ┆ 2018-11-30 ┆ … ┆ 11         ┆ 30        ┆ 48        ┆ 5         │\n",
       "│ L1      ┆ 7136    ┆ 2018-11-30 ┆ 2018-11-30 ┆ … ┆ 11         ┆ 30        ┆ 48        ┆ 5         │\n",
       "│ U1      ┆ 6178    ┆ 2018-11-30 ┆ 2018-11-30 ┆ … ┆ 11         ┆ 30        ┆ 48        ┆ 5         │\n",
       "│ L1      ┆ 6294    ┆ 2018-11-30 ┆ 2018-11-30 ┆ … ┆ 11         ┆ 30        ┆ 48        ┆ 5         │\n",
       "│ L3      ┆ 11152   ┆ 2018-11-30 ┆ 2018-11-30 ┆ … ┆ 11         ┆ 30        ┆ 48        ┆ 5         │\n",
       "│ L1      ┆ 5701    ┆ 2018-11-30 ┆ 2018-11-30 ┆ … ┆ 11         ┆ 30        ┆ 48        ┆ 5         │\n",
       "│ L3      ┆ 6523    ┆ 2018-11-30 ┆ 2018-11-30 ┆ … ┆ 11         ┆ 30        ┆ 48        ┆ 5         │\n",
       "└─────────┴─────────┴────────────┴────────────┴───┴────────────┴───────────┴───────────┴───────────┘"
      ]
     },
     "execution_count": 25,
     "metadata": {},
     "output_type": "execute_result"
    }
   ],
   "source": [
    "train_df = train_df.with_columns(\n",
    "    pl.col('flt_departure_dt').dt.month().alias('flt_departure_month'),\n",
    "    pl.col('flt_departure_dt').dt.day().alias('flt_departure_day'),\n",
    "    pl.col('flt_departure_dt').dt.week().alias('flt_departure_week'),    \n",
    "    pl.col('flt_departure_dt').dt.weekday().alias('flt_departure_weekday')  \n",
    ")\n",
    "train_df"
   ]
  },
  {
   "cell_type": "code",
   "execution_count": 26,
   "metadata": {},
   "outputs": [
    {
     "data": {
      "text/html": [
       "<div><style>\n",
       ".dataframe > thead > tr,\n",
       ".dataframe > tbody > tr {\n",
       "  text-align: right;\n",
       "  white-space: pre-wrap;\n",
       "}\n",
       "</style>\n",
       "<small>shape: (29_492, 32)</small><table border=\"1\" class=\"dataframe\"><thead><tr><th>carrier</th><th>flt_num</th><th>flt_departure_dt</th><th>observation_date</th><th>total_fare</th><th>days_till_flight</th><th>is_dst</th><th>route_id</th><th>flt_departure_local_time</th><th>flt_arrival_local_time</th><th>dur_min</th><th>tz_min</th><th>over_mn</th><th>dpt_4h_od</th><th>flt_count_dpt_24h</th><th>flt_count_dpt_4h</th><th>scaled_demand</th><th>scaled_share</th><th>origin_id</th><th>destination_id</th><th>flt_info_null</th><th>base_fare</th><th>log_fare</th><th>scaled_fare</th><th>7d_route_avg</th><th>14d_route_avg</th><th>7d_route_carrier_avg</th><th>days_since_start</th><th>flt_departure_month</th><th>flt_departure_day</th><th>flt_departure_week</th><th>flt_departure_weekday</th></tr><tr><td>str</td><td>i64</td><td>date</td><td>date</td><td>i64</td><td>i16</td><td>i8</td><td>u8</td><td>datetime[ns]</td><td>datetime[ns]</td><td>i16</td><td>i16</td><td>i8</td><td>i8</td><td>u8</td><td>u8</td><td>i64</td><td>i64</td><td>u8</td><td>u8</td><td>u8</td><td>f64</td><td>f64</td><td>f64</td><td>f64</td><td>f64</td><td>f64</td><td>i64</td><td>i8</td><td>i8</td><td>i8</td><td>i8</td></tr></thead><tbody><tr><td>&quot;L2&quot;</td><td>7220</td><td>2018-12-01</td><td>2018-10-02</td><td>476</td><td>60</td><td>0</td><td>6</td><td>2018-12-01 10:15:00</td><td>2018-12-01 11:27:00</td><td>72</td><td>-480</td><td>0</td><td>2</td><td>32</td><td>9</td><td>7128</td><td>224</td><td>4</td><td>3</td><td>0</td><td>2.660753</td><td>2.677607</td><td>0.0063</td><td>1.179192</td><td>0.996404</td><td>0.931051</td><td>334</td><td>12</td><td>1</td><td>48</td><td>6</td></tr><tr><td>&quot;L2&quot;</td><td>4448</td><td>2018-12-01</td><td>2018-10-02</td><td>476</td><td>60</td><td>0</td><td>6</td><td>2018-12-01 08:40:00</td><td>2018-12-01 10:04:00</td><td>84</td><td>-480</td><td>0</td><td>2</td><td>32</td><td>9</td><td>7128</td><td>224</td><td>4</td><td>3</td><td>0</td><td>2.660753</td><td>2.677607</td><td>0.0063</td><td>1.179192</td><td>0.996404</td><td>0.931051</td><td>334</td><td>12</td><td>1</td><td>48</td><td>6</td></tr><tr><td>&quot;L2&quot;</td><td>7402</td><td>2018-12-01</td><td>2018-10-02</td><td>476</td><td>60</td><td>0</td><td>6</td><td>2018-12-01 14:10:00</td><td>2018-12-01 15:22:00</td><td>72</td><td>-480</td><td>0</td><td>3</td><td>32</td><td>9</td><td>7128</td><td>224</td><td>4</td><td>3</td><td>0</td><td>2.660753</td><td>2.677607</td><td>0.0063</td><td>1.179192</td><td>0.996404</td><td>0.931051</td><td>334</td><td>12</td><td>1</td><td>48</td><td>6</td></tr><tr><td>&quot;L2&quot;</td><td>2200</td><td>2018-12-01</td><td>2018-10-02</td><td>285</td><td>60</td><td>0</td><td>6</td><td>2018-12-01 19:50:00</td><td>2018-12-01 21:02:00</td><td>72</td><td>-480</td><td>0</td><td>4</td><td>32</td><td>10</td><td>7128</td><td>224</td><td>4</td><td>3</td><td>0</td><td>2.660753</td><td>2.454845</td><td>-0.0774</td><td>1.179192</td><td>0.996404</td><td>0.931051</td><td>334</td><td>12</td><td>1</td><td>48</td><td>6</td></tr><tr><td>&quot;L2&quot;</td><td>8903</td><td>2018-12-01</td><td>2018-10-02</td><td>285</td><td>60</td><td>0</td><td>6</td><td>2018-12-01 22:45:00</td><td>2018-12-02 00:02:00</td><td>77</td><td>-480</td><td>1</td><td>5</td><td>32</td><td>1</td><td>7128</td><td>224</td><td>4</td><td>3</td><td>0</td><td>2.660753</td><td>2.454845</td><td>-0.0774</td><td>1.179192</td><td>0.996404</td><td>0.931051</td><td>334</td><td>12</td><td>1</td><td>48</td><td>6</td></tr><tr><td>&quot;L2&quot;</td><td>5041</td><td>2018-12-01</td><td>2018-10-02</td><td>476</td><td>60</td><td>0</td><td>6</td><td>2018-12-01 12:40:00</td><td>2018-12-01 13:52:00</td><td>72</td><td>-480</td><td>0</td><td>3</td><td>32</td><td>9</td><td>7128</td><td>224</td><td>4</td><td>3</td><td>0</td><td>2.660753</td><td>2.677607</td><td>0.0063</td><td>1.179192</td><td>0.996404</td><td>0.931051</td><td>334</td><td>12</td><td>1</td><td>48</td><td>6</td></tr><tr><td>&quot;L2&quot;</td><td>1732</td><td>2018-12-01</td><td>2018-10-02</td><td>395</td><td>60</td><td>0</td><td>6</td><td>2018-12-01 16:50:00</td><td>2018-12-01 18:02:00</td><td>72</td><td>-480</td><td>0</td><td>4</td><td>32</td><td>10</td><td>7128</td><td>224</td><td>4</td><td>3</td><td>0</td><td>2.660753</td><td>2.596597</td><td>-0.0241</td><td>1.179192</td><td>0.996404</td><td>0.931051</td><td>334</td><td>12</td><td>1</td><td>48</td><td>6</td></tr><tr><td>&quot;L1&quot;</td><td>5927</td><td>2018-12-01</td><td>2018-10-05</td><td>530</td><td>57</td><td>0</td><td>1</td><td>2018-12-01 20:30:00</td><td>2018-12-01 23:37:00</td><td>187</td><td>-300</td><td>0</td><td>5</td><td>4</td><td>1</td><td>2164</td><td>373</td><td>1</td><td>5</td><td>0</td><td>2.991069</td><td>2.724276</td><td>-0.0892</td><td>1.68593</td><td>0.848971</td><td>1.68593</td><td>334</td><td>12</td><td>1</td><td>48</td><td>6</td></tr><tr><td>&quot;L1&quot;</td><td>11158</td><td>2018-12-01</td><td>2018-10-05</td><td>800</td><td>57</td><td>0</td><td>1</td><td>2018-12-01 12:03:00</td><td>2018-12-01 15:20:00</td><td>197</td><td>-300</td><td>0</td><td>3</td><td>4</td><td>1</td><td>2164</td><td>373</td><td>1</td><td>5</td><td>0</td><td>2.991069</td><td>2.90309</td><td>-0.0294</td><td>1.68593</td><td>0.848971</td><td>1.68593</td><td>334</td><td>12</td><td>1</td><td>48</td><td>6</td></tr><tr><td>&quot;L1&quot;</td><td>7431</td><td>2018-12-01</td><td>2018-10-05</td><td>737</td><td>57</td><td>0</td><td>1</td><td>2018-12-01 07:29:00</td><td>2018-12-01 10:36:00</td><td>187</td><td>-300</td><td>0</td><td>1</td><td>4</td><td>1</td><td>2164</td><td>373</td><td>1</td><td>5</td><td>0</td><td>2.991069</td><td>2.867467</td><td>-0.0413</td><td>1.68593</td><td>0.848971</td><td>1.68593</td><td>334</td><td>12</td><td>1</td><td>48</td><td>6</td></tr><tr><td>&hellip;</td><td>&hellip;</td><td>&hellip;</td><td>&hellip;</td><td>&hellip;</td><td>&hellip;</td><td>&hellip;</td><td>&hellip;</td><td>&hellip;</td><td>&hellip;</td><td>&hellip;</td><td>&hellip;</td><td>&hellip;</td><td>&hellip;</td><td>&hellip;</td><td>&hellip;</td><td>&hellip;</td><td>&hellip;</td><td>&hellip;</td><td>&hellip;</td><td>&hellip;</td><td>&hellip;</td><td>&hellip;</td><td>&hellip;</td><td>&hellip;</td><td>&hellip;</td><td>&hellip;</td><td>&hellip;</td><td>&hellip;</td><td>&hellip;</td><td>&hellip;</td><td>&hellip;</td></tr><tr><td>&quot;U1&quot;</td><td>6250</td><td>2018-12-07</td><td>2018-12-07</td><td>1283</td><td>0</td><td>0</td><td>11</td><td>2018-12-07 19:35:00</td><td>2018-12-07 21:09:00</td><td>94</td><td>-480</td><td>0</td><td>4</td><td>22</td><td>6</td><td>5817</td><td>253</td><td>7</td><td>3</td><td>0</td><td>2.755964</td><td>3.108227</td><td>0.1278</td><td>1.167987</td><td>0.932419</td><td>1.253507</td><td>340</td><td>12</td><td>7</td><td>49</td><td>5</td></tr><tr><td>&quot;L1&quot;</td><td>6278</td><td>2018-12-07</td><td>2018-12-07</td><td>1067</td><td>0</td><td>0</td><td>0</td><td>2018-12-07 15:30:00</td><td>2018-12-07 18:35:00</td><td>185</td><td>-420</td><td>0</td><td>3</td><td>10</td><td>4</td><td>3070</td><td>281</td><td>0</td><td>5</td><td>0</td><td>2.877514</td><td>3.028164</td><td>0.0524</td><td>0.736157</td><td>1.055912</td><td>0.743854</td><td>340</td><td>12</td><td>7</td><td>49</td><td>5</td></tr><tr><td>&quot;L3&quot;</td><td>11152</td><td>2018-12-07</td><td>2018-12-07</td><td>671</td><td>0</td><td>0</td><td>4</td><td>2018-12-07 16:45:00</td><td>2018-12-07 18:05:00</td><td>80</td><td>-480</td><td>0</td><td>4</td><td>35</td><td>10</td><td>7128</td><td>231</td><td>3</td><td>4</td><td>0</td><td>2.763495</td><td>2.826723</td><td>0.0229</td><td>2.362383</td><td>1.211233</td><td>2.909392</td><td>340</td><td>12</td><td>7</td><td>49</td><td>5</td></tr><tr><td>&quot;L1&quot;</td><td>2997</td><td>2018-12-07</td><td>2018-12-07</td><td>1346</td><td>0</td><td>0</td><td>8</td><td>2018-12-07 11:34:00</td><td>2018-12-07 16:10:00</td><td>276</td><td>-360</td><td>0</td><td>2</td><td>4</td><td>1</td><td>2164</td><td>373</td><td>5</td><td>1</td><td>0</td><td>3.021101</td><td>3.129045</td><td>0.0357</td><td>0.633902</td><td>0.768974</td><td>0.633902</td><td>340</td><td>12</td><td>7</td><td>49</td><td>5</td></tr><tr><td>&quot;L1&quot;</td><td>1176</td><td>2018-12-07</td><td>2018-12-07</td><td>395</td><td>0</td><td>0</td><td>4</td><td>2018-12-07 06:05:00</td><td>2018-12-07 07:21:00</td><td>76</td><td>-480</td><td>0</td><td>1</td><td>35</td><td>6</td><td>7128</td><td>189</td><td>3</td><td>4</td><td>0</td><td>2.671029</td><td>2.596597</td><td>-0.0279</td><td>2.362383</td><td>1.211233</td><td>2.625553</td><td>340</td><td>12</td><td>7</td><td>49</td><td>5</td></tr><tr><td>&quot;U1&quot;</td><td>6162</td><td>2018-12-07</td><td>2018-12-07</td><td>1111</td><td>0</td><td>0</td><td>11</td><td>2018-12-07 16:20:00</td><td>2018-12-07 17:54:00</td><td>94</td><td>-480</td><td>0</td><td>4</td><td>22</td><td>6</td><td>5817</td><td>253</td><td>7</td><td>3</td><td>0</td><td>2.755964</td><td>3.045714</td><td>0.1051</td><td>1.167987</td><td>0.932419</td><td>1.253507</td><td>340</td><td>12</td><td>7</td><td>49</td><td>5</td></tr><tr><td>&quot;U1&quot;</td><td>6128</td><td>2018-12-07</td><td>2018-12-07</td><td>1111</td><td>0</td><td>0</td><td>5</td><td>2018-12-07 09:35:00</td><td>2018-12-07 11:12:00</td><td>97</td><td>-480</td><td>0</td><td>2</td><td>22</td><td>6</td><td>5817</td><td>252</td><td>3</td><td>7</td><td>0</td><td>2.796569</td><td>3.045714</td><td>0.0891</td><td>2.33368</td><td>1.087039</td><td>1.602604</td><td>340</td><td>12</td><td>7</td><td>49</td><td>5</td></tr><tr><td>&quot;L1&quot;</td><td>5701</td><td>2018-12-07</td><td>2018-12-07</td><td>2037</td><td>0</td><td>0</td><td>2</td><td>2018-12-07 21:59:00</td><td>2018-12-07 23:20:00</td><td>81</td><td>-360</td><td>0</td><td>5</td><td>8</td><td>1</td><td>2790</td><td>405</td><td>2</td><td>3</td><td>0</td><td>2.931838</td><td>3.308991</td><td>0.1286</td><td>1.040541</td><td>0.991846</td><td>0.963441</td><td>340</td><td>12</td><td>7</td><td>49</td><td>5</td></tr><tr><td>&quot;L2&quot;</td><td>5274</td><td>2018-12-07</td><td>2018-12-07</td><td>1742</td><td>0</td><td>0</td><td>9</td><td>2018-12-07 11:03:00</td><td>2018-12-07 13:44:00</td><td>161</td><td>-360</td><td>0</td><td>2</td><td>7</td><td>3</td><td>1618</td><td>310</td><td>5</td><td>6</td><td>0</td><td>2.945677</td><td>3.241048</td><td>0.1003</td><td>0.916825</td><td>0.919801</td><td>0.960292</td><td>340</td><td>12</td><td>7</td><td>49</td><td>5</td></tr><tr><td>&quot;L1&quot;</td><td>6517</td><td>2018-12-07</td><td>2018-12-07</td><td>1346</td><td>0</td><td>0</td><td>8</td><td>2018-12-07 16:15:00</td><td>2018-12-07 20:52:00</td><td>277</td><td>-360</td><td>0</td><td>4</td><td>4</td><td>1</td><td>2164</td><td>373</td><td>5</td><td>1</td><td>0</td><td>3.021101</td><td>3.129045</td><td>0.0357</td><td>0.633902</td><td>0.768974</td><td>0.633902</td><td>340</td><td>12</td><td>7</td><td>49</td><td>5</td></tr></tbody></table></div>"
      ],
      "text/plain": [
       "shape: (29_492, 32)\n",
       "┌─────────┬─────────┬────────────┬────────────┬───┬────────────┬───────────┬───────────┬───────────┐\n",
       "│ carrier ┆ flt_num ┆ flt_depart ┆ observatio ┆ … ┆ flt_depart ┆ flt_depar ┆ flt_depar ┆ flt_depar │\n",
       "│ ---     ┆ ---     ┆ ure_dt     ┆ n_date     ┆   ┆ ure_month  ┆ ture_day  ┆ ture_week ┆ ture_week │\n",
       "│ str     ┆ i64     ┆ ---        ┆ ---        ┆   ┆ ---        ┆ ---       ┆ ---       ┆ day       │\n",
       "│         ┆         ┆ date       ┆ date       ┆   ┆ i8         ┆ i8        ┆ i8        ┆ ---       │\n",
       "│         ┆         ┆            ┆            ┆   ┆            ┆           ┆           ┆ i8        │\n",
       "╞═════════╪═════════╪════════════╪════════════╪═══╪════════════╪═══════════╪═══════════╪═══════════╡\n",
       "│ L2      ┆ 7220    ┆ 2018-12-01 ┆ 2018-10-02 ┆ … ┆ 12         ┆ 1         ┆ 48        ┆ 6         │\n",
       "│ L2      ┆ 4448    ┆ 2018-12-01 ┆ 2018-10-02 ┆ … ┆ 12         ┆ 1         ┆ 48        ┆ 6         │\n",
       "│ L2      ┆ 7402    ┆ 2018-12-01 ┆ 2018-10-02 ┆ … ┆ 12         ┆ 1         ┆ 48        ┆ 6         │\n",
       "│ L2      ┆ 2200    ┆ 2018-12-01 ┆ 2018-10-02 ┆ … ┆ 12         ┆ 1         ┆ 48        ┆ 6         │\n",
       "│ L2      ┆ 8903    ┆ 2018-12-01 ┆ 2018-10-02 ┆ … ┆ 12         ┆ 1         ┆ 48        ┆ 6         │\n",
       "│ L2      ┆ 5041    ┆ 2018-12-01 ┆ 2018-10-02 ┆ … ┆ 12         ┆ 1         ┆ 48        ┆ 6         │\n",
       "│ L2      ┆ 1732    ┆ 2018-12-01 ┆ 2018-10-02 ┆ … ┆ 12         ┆ 1         ┆ 48        ┆ 6         │\n",
       "│ L1      ┆ 5927    ┆ 2018-12-01 ┆ 2018-10-05 ┆ … ┆ 12         ┆ 1         ┆ 48        ┆ 6         │\n",
       "│ L1      ┆ 11158   ┆ 2018-12-01 ┆ 2018-10-05 ┆ … ┆ 12         ┆ 1         ┆ 48        ┆ 6         │\n",
       "│ L1      ┆ 7431    ┆ 2018-12-01 ┆ 2018-10-05 ┆ … ┆ 12         ┆ 1         ┆ 48        ┆ 6         │\n",
       "│ …       ┆ …       ┆ …          ┆ …          ┆ … ┆ …          ┆ …         ┆ …         ┆ …         │\n",
       "│ U1      ┆ 6250    ┆ 2018-12-07 ┆ 2018-12-07 ┆ … ┆ 12         ┆ 7         ┆ 49        ┆ 5         │\n",
       "│ L1      ┆ 6278    ┆ 2018-12-07 ┆ 2018-12-07 ┆ … ┆ 12         ┆ 7         ┆ 49        ┆ 5         │\n",
       "│ L3      ┆ 11152   ┆ 2018-12-07 ┆ 2018-12-07 ┆ … ┆ 12         ┆ 7         ┆ 49        ┆ 5         │\n",
       "│ L1      ┆ 2997    ┆ 2018-12-07 ┆ 2018-12-07 ┆ … ┆ 12         ┆ 7         ┆ 49        ┆ 5         │\n",
       "│ L1      ┆ 1176    ┆ 2018-12-07 ┆ 2018-12-07 ┆ … ┆ 12         ┆ 7         ┆ 49        ┆ 5         │\n",
       "│ U1      ┆ 6162    ┆ 2018-12-07 ┆ 2018-12-07 ┆ … ┆ 12         ┆ 7         ┆ 49        ┆ 5         │\n",
       "│ U1      ┆ 6128    ┆ 2018-12-07 ┆ 2018-12-07 ┆ … ┆ 12         ┆ 7         ┆ 49        ┆ 5         │\n",
       "│ L1      ┆ 5701    ┆ 2018-12-07 ┆ 2018-12-07 ┆ … ┆ 12         ┆ 7         ┆ 49        ┆ 5         │\n",
       "│ L2      ┆ 5274    ┆ 2018-12-07 ┆ 2018-12-07 ┆ … ┆ 12         ┆ 7         ┆ 49        ┆ 5         │\n",
       "│ L1      ┆ 6517    ┆ 2018-12-07 ┆ 2018-12-07 ┆ … ┆ 12         ┆ 7         ┆ 49        ┆ 5         │\n",
       "└─────────┴─────────┴────────────┴────────────┴───┴────────────┴───────────┴───────────┴───────────┘"
      ]
     },
     "execution_count": 26,
     "metadata": {},
     "output_type": "execute_result"
    }
   ],
   "source": [
    "val_df = val_df.with_columns(\n",
    "    pl.col('flt_departure_dt').dt.month().alias('flt_departure_month'),\n",
    "    pl.col('flt_departure_dt').dt.day().alias('flt_departure_day'),\n",
    "    pl.col('flt_departure_dt').dt.week().alias('flt_departure_week'),    \n",
    "    pl.col('flt_departure_dt').dt.weekday().alias('flt_departure_weekday')  \n",
    ")\n",
    "val_df"
   ]
  },
  {
   "cell_type": "markdown",
   "metadata": {},
   "source": [
    "### Imputation"
   ]
  },
  {
   "cell_type": "markdown",
   "metadata": {},
   "source": [
    "#### Null counts"
   ]
  },
  {
   "cell_type": "code",
   "execution_count": 27,
   "metadata": {},
   "outputs": [
    {
     "data": {
      "text/html": [
       "<div><style>\n",
       ".dataframe > thead > tr,\n",
       ".dataframe > tbody > tr {\n",
       "  text-align: right;\n",
       "  white-space: pre-wrap;\n",
       "}\n",
       "</style>\n",
       "<small>shape: (1, 32)</small><table border=\"1\" class=\"dataframe\"><thead><tr><th>carrier</th><th>flt_num</th><th>flt_departure_dt</th><th>observation_date</th><th>total_fare</th><th>days_till_flight</th><th>is_dst</th><th>route_id</th><th>flt_departure_local_time</th><th>flt_arrival_local_time</th><th>dur_min</th><th>tz_min</th><th>over_mn</th><th>dpt_4h_od</th><th>flt_count_dpt_24h</th><th>flt_count_dpt_4h</th><th>scaled_demand</th><th>scaled_share</th><th>origin_id</th><th>destination_id</th><th>flt_info_null</th><th>base_fare</th><th>log_fare</th><th>scaled_fare</th><th>7d_route_avg</th><th>14d_route_avg</th><th>7d_route_carrier_avg</th><th>days_since_start</th><th>flt_departure_month</th><th>flt_departure_day</th><th>flt_departure_week</th><th>flt_departure_weekday</th></tr><tr><td>u32</td><td>u32</td><td>u32</td><td>u32</td><td>u32</td><td>u32</td><td>u32</td><td>u32</td><td>u32</td><td>u32</td><td>u32</td><td>u32</td><td>u32</td><td>u32</td><td>u32</td><td>u32</td><td>u32</td><td>u32</td><td>u32</td><td>u32</td><td>u32</td><td>u32</td><td>u32</td><td>u32</td><td>u32</td><td>u32</td><td>u32</td><td>u32</td><td>u32</td><td>u32</td><td>u32</td><td>u32</td></tr></thead><tbody><tr><td>0</td><td>0</td><td>0</td><td>0</td><td>0</td><td>0</td><td>0</td><td>0</td><td>96382</td><td>96382</td><td>96382</td><td>96382</td><td>96382</td><td>96382</td><td>96382</td><td>96382</td><td>100313</td><td>100313</td><td>0</td><td>0</td><td>0</td><td>0</td><td>0</td><td>0</td><td>0</td><td>0</td><td>0</td><td>0</td><td>0</td><td>0</td><td>0</td><td>0</td></tr></tbody></table></div>"
      ],
      "text/plain": [
       "shape: (1, 32)\n",
       "┌─────────┬─────────┬────────────┬────────────┬───┬────────────┬───────────┬───────────┬───────────┐\n",
       "│ carrier ┆ flt_num ┆ flt_depart ┆ observatio ┆ … ┆ flt_depart ┆ flt_depar ┆ flt_depar ┆ flt_depar │\n",
       "│ ---     ┆ ---     ┆ ure_dt     ┆ n_date     ┆   ┆ ure_month  ┆ ture_day  ┆ ture_week ┆ ture_week │\n",
       "│ u32     ┆ u32     ┆ ---        ┆ ---        ┆   ┆ ---        ┆ ---       ┆ ---       ┆ day       │\n",
       "│         ┆         ┆ u32        ┆ u32        ┆   ┆ u32        ┆ u32       ┆ u32       ┆ ---       │\n",
       "│         ┆         ┆            ┆            ┆   ┆            ┆           ┆           ┆ u32       │\n",
       "╞═════════╪═════════╪════════════╪════════════╪═══╪════════════╪═══════════╪═══════════╪═══════════╡\n",
       "│ 0       ┆ 0       ┆ 0          ┆ 0          ┆ … ┆ 0          ┆ 0         ┆ 0         ┆ 0         │\n",
       "└─────────┴─────────┴────────────┴────────────┴───┴────────────┴───────────┴───────────┴───────────┘"
      ]
     },
     "execution_count": 27,
     "metadata": {},
     "output_type": "execute_result"
    }
   ],
   "source": [
    "train_df.null_count()"
   ]
  },
  {
   "cell_type": "code",
   "execution_count": 28,
   "metadata": {},
   "outputs": [
    {
     "data": {
      "text/html": [
       "<div><style>\n",
       ".dataframe > thead > tr,\n",
       ".dataframe > tbody > tr {\n",
       "  text-align: right;\n",
       "  white-space: pre-wrap;\n",
       "}\n",
       "</style>\n",
       "<small>shape: (1, 32)</small><table border=\"1\" class=\"dataframe\"><thead><tr><th>carrier</th><th>flt_num</th><th>flt_departure_dt</th><th>observation_date</th><th>total_fare</th><th>days_till_flight</th><th>is_dst</th><th>route_id</th><th>flt_departure_local_time</th><th>flt_arrival_local_time</th><th>dur_min</th><th>tz_min</th><th>over_mn</th><th>dpt_4h_od</th><th>flt_count_dpt_24h</th><th>flt_count_dpt_4h</th><th>scaled_demand</th><th>scaled_share</th><th>origin_id</th><th>destination_id</th><th>flt_info_null</th><th>base_fare</th><th>log_fare</th><th>scaled_fare</th><th>7d_route_avg</th><th>14d_route_avg</th><th>7d_route_carrier_avg</th><th>days_since_start</th><th>flt_departure_month</th><th>flt_departure_day</th><th>flt_departure_week</th><th>flt_departure_weekday</th></tr><tr><td>u32</td><td>u32</td><td>u32</td><td>u32</td><td>u32</td><td>u32</td><td>u32</td><td>u32</td><td>u32</td><td>u32</td><td>u32</td><td>u32</td><td>u32</td><td>u32</td><td>u32</td><td>u32</td><td>u32</td><td>u32</td><td>u32</td><td>u32</td><td>u32</td><td>u32</td><td>u32</td><td>u32</td><td>u32</td><td>u32</td><td>u32</td><td>u32</td><td>u32</td><td>u32</td><td>u32</td><td>u32</td></tr></thead><tbody><tr><td>0</td><td>0</td><td>0</td><td>0</td><td>0</td><td>0</td><td>0</td><td>0</td><td>30</td><td>30</td><td>30</td><td>30</td><td>30</td><td>30</td><td>30</td><td>30</td><td>0</td><td>0</td><td>0</td><td>0</td><td>0</td><td>0</td><td>0</td><td>0</td><td>0</td><td>0</td><td>0</td><td>0</td><td>0</td><td>0</td><td>0</td><td>0</td></tr></tbody></table></div>"
      ],
      "text/plain": [
       "shape: (1, 32)\n",
       "┌─────────┬─────────┬────────────┬────────────┬───┬────────────┬───────────┬───────────┬───────────┐\n",
       "│ carrier ┆ flt_num ┆ flt_depart ┆ observatio ┆ … ┆ flt_depart ┆ flt_depar ┆ flt_depar ┆ flt_depar │\n",
       "│ ---     ┆ ---     ┆ ure_dt     ┆ n_date     ┆   ┆ ure_month  ┆ ture_day  ┆ ture_week ┆ ture_week │\n",
       "│ u32     ┆ u32     ┆ ---        ┆ ---        ┆   ┆ ---        ┆ ---       ┆ ---       ┆ day       │\n",
       "│         ┆         ┆ u32        ┆ u32        ┆   ┆ u32        ┆ u32       ┆ u32       ┆ ---       │\n",
       "│         ┆         ┆            ┆            ┆   ┆            ┆           ┆           ┆ u32       │\n",
       "╞═════════╪═════════╪════════════╪════════════╪═══╪════════════╪═══════════╪═══════════╪═══════════╡\n",
       "│ 0       ┆ 0       ┆ 0          ┆ 0          ┆ … ┆ 0          ┆ 0         ┆ 0         ┆ 0         │\n",
       "└─────────┴─────────┴────────────┴────────────┴───┴────────────┴───────────┴───────────┴───────────┘"
      ]
     },
     "execution_count": 28,
     "metadata": {},
     "output_type": "execute_result"
    }
   ],
   "source": [
    "val_df.null_count()"
   ]
  },
  {
   "cell_type": "markdown",
   "metadata": {},
   "source": [
    "#### Flight duration"
   ]
  },
  {
   "cell_type": "code",
   "execution_count": 29,
   "metadata": {},
   "outputs": [
    {
     "data": {
      "text/html": [
       "<div><style>\n",
       ".dataframe > thead > tr,\n",
       ".dataframe > tbody > tr {\n",
       "  text-align: right;\n",
       "  white-space: pre-wrap;\n",
       "}\n",
       "</style>\n",
       "<small>shape: (34, 4)</small><table border=\"1\" class=\"dataframe\"><thead><tr><th>route_id</th><th>carrier</th><th>dur_mean</th><th>dur_std</th></tr><tr><td>u8</td><td>str</td><td>f64</td><td>f64</td></tr></thead><tbody><tr><td>0</td><td>&quot;L1&quot;</td><td>190.82</td><td>5.32</td></tr><tr><td>0</td><td>&quot;U3&quot;</td><td>193.89</td><td>3.55</td></tr><tr><td>1</td><td>&quot;L1&quot;</td><td>187.99</td><td>14.32</td></tr><tr><td>2</td><td>&quot;L1&quot;</td><td>77.39</td><td>7.55</td></tr><tr><td>2</td><td>&quot;OTH&quot;</td><td>73.2</td><td>7.75</td></tr><tr><td>2</td><td>&quot;U3&quot;</td><td>94.24</td><td>1.8</td></tr><tr><td>3</td><td>&quot;L1&quot;</td><td>296.7</td><td>3.88</td></tr><tr><td>3</td><td>&quot;OTH&quot;</td><td>297.0</td><td>3.37</td></tr><tr><td>3</td><td>&quot;U3&quot;</td><td>301.47</td><td>1.35</td></tr><tr><td>4</td><td>&quot;L1&quot;</td><td>83.71</td><td>6.44</td></tr><tr><td>&hellip;</td><td>&hellip;</td><td>&hellip;</td><td>&hellip;</td></tr><tr><td>7</td><td>&quot;U3&quot;</td><td>80.9</td><td>2.01</td></tr><tr><td>8</td><td>&quot;L1&quot;</td><td>278.19</td><td>6.27</td></tr><tr><td>9</td><td>&quot;L1&quot;</td><td>160.48</td><td>4.99</td></tr><tr><td>9</td><td>&quot;L2&quot;</td><td>164.45</td><td>4.03</td></tr><tr><td>10</td><td>&quot;L1&quot;</td><td>170.72</td><td>7.47</td></tr><tr><td>10</td><td>&quot;L2&quot;</td><td>160.91</td><td>5.9</td></tr><tr><td>11</td><td>&quot;L1&quot;</td><td>95.27</td><td>2.98</td></tr><tr><td>11</td><td>&quot;OTH&quot;</td><td>90.69</td><td>3.13</td></tr><tr><td>11</td><td>&quot;U1&quot;</td><td>94.43</td><td>2.89</td></tr><tr><td>11</td><td>&quot;U3&quot;</td><td>99.07</td><td>1.83</td></tr></tbody></table></div>"
      ],
      "text/plain": [
       "shape: (34, 4)\n",
       "┌──────────┬─────────┬──────────┬─────────┐\n",
       "│ route_id ┆ carrier ┆ dur_mean ┆ dur_std │\n",
       "│ ---      ┆ ---     ┆ ---      ┆ ---     │\n",
       "│ u8       ┆ str     ┆ f64      ┆ f64     │\n",
       "╞══════════╪═════════╪══════════╪═════════╡\n",
       "│ 0        ┆ L1      ┆ 190.82   ┆ 5.32    │\n",
       "│ 0        ┆ U3      ┆ 193.89   ┆ 3.55    │\n",
       "│ 1        ┆ L1      ┆ 187.99   ┆ 14.32   │\n",
       "│ 2        ┆ L1      ┆ 77.39    ┆ 7.55    │\n",
       "│ 2        ┆ OTH     ┆ 73.2     ┆ 7.75    │\n",
       "│ 2        ┆ U3      ┆ 94.24    ┆ 1.8     │\n",
       "│ 3        ┆ L1      ┆ 296.7    ┆ 3.88    │\n",
       "│ 3        ┆ OTH     ┆ 297.0    ┆ 3.37    │\n",
       "│ 3        ┆ U3      ┆ 301.47   ┆ 1.35    │\n",
       "│ 4        ┆ L1      ┆ 83.71    ┆ 6.44    │\n",
       "│ …        ┆ …       ┆ …        ┆ …       │\n",
       "│ 7        ┆ U3      ┆ 80.9     ┆ 2.01    │\n",
       "│ 8        ┆ L1      ┆ 278.19   ┆ 6.27    │\n",
       "│ 9        ┆ L1      ┆ 160.48   ┆ 4.99    │\n",
       "│ 9        ┆ L2      ┆ 164.45   ┆ 4.03    │\n",
       "│ 10       ┆ L1      ┆ 170.72   ┆ 7.47    │\n",
       "│ 10       ┆ L2      ┆ 160.91   ┆ 5.9     │\n",
       "│ 11       ┆ L1      ┆ 95.27    ┆ 2.98    │\n",
       "│ 11       ┆ OTH     ┆ 90.69    ┆ 3.13    │\n",
       "│ 11       ┆ U1      ┆ 94.43    ┆ 2.89    │\n",
       "│ 11       ┆ U3      ┆ 99.07    ┆ 1.83    │\n",
       "└──────────┴─────────┴──────────┴─────────┘"
      ]
     },
     "execution_count": 29,
     "metadata": {},
     "output_type": "execute_result"
    }
   ],
   "source": [
    "mean_durations = train_df.group_by('route_id', 'carrier').agg(\n",
    "    pl.col('dur_min').mean().round(2).alias(\"dur_mean\"),\n",
    "    pl.col('dur_min').std().round(2).alias(\"dur_std\")\n",
    ").sort('route_id', 'carrier')\n",
    "\n",
    "mean_durations"
   ]
  },
  {
   "cell_type": "code",
   "execution_count": 30,
   "metadata": {},
   "outputs": [
    {
     "data": {
      "text/plain": [
       "0"
      ]
     },
     "execution_count": 30,
     "metadata": {},
     "output_type": "execute_result"
    }
   ],
   "source": [
    "train_df = train_df.join(\n",
    "    mean_durations.drop('dur_std'),\n",
    "    on = ['route_id', 'carrier'],\n",
    "    how = 'left'\n",
    ").with_columns(\n",
    "    pl.coalesce(['dur_min', 'dur_mean'])\n",
    ")\n",
    "\n",
    "train_df['dur_min'].null_count()"
   ]
  },
  {
   "cell_type": "code",
   "execution_count": 31,
   "metadata": {},
   "outputs": [
    {
     "data": {
      "text/plain": [
       "0"
      ]
     },
     "execution_count": 31,
     "metadata": {},
     "output_type": "execute_result"
    }
   ],
   "source": [
    "val_df = val_df.join(\n",
    "    mean_durations.drop('dur_std'),\n",
    "    on = ['route_id', 'carrier'],\n",
    "    how = 'left'\n",
    ").with_columns(\n",
    "    pl.coalesce(['dur_min', 'dur_mean'])\n",
    ")\n",
    "\n",
    "val_df['dur_min'].null_count()"
   ]
  },
  {
   "cell_type": "markdown",
   "metadata": {},
   "source": [
    "#### Over midnight"
   ]
  },
  {
   "cell_type": "code",
   "execution_count": 32,
   "metadata": {},
   "outputs": [
    {
     "data": {
      "text/html": [
       "<div><style>\n",
       ".dataframe > thead > tr,\n",
       ".dataframe > tbody > tr {\n",
       "  text-align: right;\n",
       "  white-space: pre-wrap;\n",
       "}\n",
       "</style>\n",
       "<small>shape: (3, 2)</small><table border=\"1\" class=\"dataframe\"><thead><tr><th>over_mn</th><th>count</th></tr><tr><td>i8</td><td>u32</td></tr></thead><tbody><tr><td>0</td><td>1440094</td></tr><tr><td>1</td><td>20195</td></tr><tr><td>-1</td><td>96382</td></tr></tbody></table></div>"
      ],
      "text/plain": [
       "shape: (3, 2)\n",
       "┌─────────┬─────────┐\n",
       "│ over_mn ┆ count   │\n",
       "│ ---     ┆ ---     │\n",
       "│ i8      ┆ u32     │\n",
       "╞═════════╪═════════╡\n",
       "│ 0       ┆ 1440094 │\n",
       "│ 1       ┆ 20195   │\n",
       "│ -1      ┆ 96382   │\n",
       "└─────────┴─────────┘"
      ]
     },
     "execution_count": 32,
     "metadata": {},
     "output_type": "execute_result"
    }
   ],
   "source": [
    "train_df = train_df.with_columns(\n",
    "    pl.col('over_mn').fill_null(-1)\n",
    ")\n",
    "\n",
    "train_df['over_mn'].value_counts()"
   ]
  },
  {
   "cell_type": "code",
   "execution_count": 33,
   "metadata": {},
   "outputs": [
    {
     "data": {
      "text/html": [
       "<div><style>\n",
       ".dataframe > thead > tr,\n",
       ".dataframe > tbody > tr {\n",
       "  text-align: right;\n",
       "  white-space: pre-wrap;\n",
       "}\n",
       "</style>\n",
       "<small>shape: (3, 2)</small><table border=\"1\" class=\"dataframe\"><thead><tr><th>over_mn</th><th>count</th></tr><tr><td>i8</td><td>u32</td></tr></thead><tbody><tr><td>1</td><td>241</td></tr><tr><td>0</td><td>29221</td></tr><tr><td>-1</td><td>30</td></tr></tbody></table></div>"
      ],
      "text/plain": [
       "shape: (3, 2)\n",
       "┌─────────┬───────┐\n",
       "│ over_mn ┆ count │\n",
       "│ ---     ┆ ---   │\n",
       "│ i8      ┆ u32   │\n",
       "╞═════════╪═══════╡\n",
       "│ 1       ┆ 241   │\n",
       "│ 0       ┆ 29221 │\n",
       "│ -1      ┆ 30    │\n",
       "└─────────┴───────┘"
      ]
     },
     "execution_count": 33,
     "metadata": {},
     "output_type": "execute_result"
    }
   ],
   "source": [
    "val_df = val_df.with_columns(\n",
    "    pl.col('over_mn').fill_null(-1)\n",
    ")\n",
    "\n",
    "val_df['over_mn'].value_counts()"
   ]
  },
  {
   "cell_type": "markdown",
   "metadata": {},
   "source": [
    "#### Flight counts"
   ]
  },
  {
   "cell_type": "code",
   "execution_count": 34,
   "metadata": {},
   "outputs": [
    {
     "data": {
      "text/html": [
       "<div><style>\n",
       ".dataframe > thead > tr,\n",
       ".dataframe > tbody > tr {\n",
       "  text-align: right;\n",
       "  white-space: pre-wrap;\n",
       "}\n",
       "</style>\n",
       "<small>shape: (4_124, 3)</small><table border=\"1\" class=\"dataframe\"><thead><tr><th>flt_departure_dt</th><th>route_id</th><th>flt_count_dpt_24h</th></tr><tr><td>date</td><td>u8</td><td>u8</td></tr></thead><tbody><tr><td>2018-01-01</td><td>1</td><td>5</td></tr><tr><td>2018-01-01</td><td>4</td><td>30</td></tr><tr><td>2018-01-01</td><td>6</td><td>30</td></tr><tr><td>2018-01-01</td><td>8</td><td>4</td></tr><tr><td>2018-01-01</td><td>9</td><td>7</td></tr><tr><td>2018-01-01</td><td>11</td><td>21</td></tr><tr><td>2018-01-02</td><td>1</td><td>5</td></tr><tr><td>2018-01-02</td><td>4</td><td>30</td></tr><tr><td>2018-01-02</td><td>6</td><td>30</td></tr><tr><td>2018-01-02</td><td>8</td><td>5</td></tr><tr><td>&hellip;</td><td>&hellip;</td><td>&hellip;</td></tr><tr><td>2018-12-31</td><td>2</td><td>7</td></tr><tr><td>2018-12-31</td><td>3</td><td>7</td></tr><tr><td>2018-12-31</td><td>4</td><td>30</td></tr><tr><td>2018-12-31</td><td>5</td><td>21</td></tr><tr><td>2018-12-31</td><td>6</td><td>30</td></tr><tr><td>2018-12-31</td><td>7</td><td>8</td></tr><tr><td>2018-12-31</td><td>8</td><td>4</td></tr><tr><td>2018-12-31</td><td>9</td><td>5</td></tr><tr><td>2018-12-31</td><td>10</td><td>6</td></tr><tr><td>2018-12-31</td><td>11</td><td>21</td></tr></tbody></table></div>"
      ],
      "text/plain": [
       "shape: (4_124, 3)\n",
       "┌──────────────────┬──────────┬───────────────────┐\n",
       "│ flt_departure_dt ┆ route_id ┆ flt_count_dpt_24h │\n",
       "│ ---              ┆ ---      ┆ ---               │\n",
       "│ date             ┆ u8       ┆ u8                │\n",
       "╞══════════════════╪══════════╪═══════════════════╡\n",
       "│ 2018-01-01       ┆ 1        ┆ 5                 │\n",
       "│ 2018-01-01       ┆ 4        ┆ 30                │\n",
       "│ 2018-01-01       ┆ 6        ┆ 30                │\n",
       "│ 2018-01-01       ┆ 8        ┆ 4                 │\n",
       "│ 2018-01-01       ┆ 9        ┆ 7                 │\n",
       "│ 2018-01-01       ┆ 11       ┆ 21                │\n",
       "│ 2018-01-02       ┆ 1        ┆ 5                 │\n",
       "│ 2018-01-02       ┆ 4        ┆ 30                │\n",
       "│ 2018-01-02       ┆ 6        ┆ 30                │\n",
       "│ 2018-01-02       ┆ 8        ┆ 5                 │\n",
       "│ …                ┆ …        ┆ …                 │\n",
       "│ 2018-12-31       ┆ 2        ┆ 7                 │\n",
       "│ 2018-12-31       ┆ 3        ┆ 7                 │\n",
       "│ 2018-12-31       ┆ 4        ┆ 30                │\n",
       "│ 2018-12-31       ┆ 5        ┆ 21                │\n",
       "│ 2018-12-31       ┆ 6        ┆ 30                │\n",
       "│ 2018-12-31       ┆ 7        ┆ 8                 │\n",
       "│ 2018-12-31       ┆ 8        ┆ 4                 │\n",
       "│ 2018-12-31       ┆ 9        ┆ 5                 │\n",
       "│ 2018-12-31       ┆ 10       ┆ 6                 │\n",
       "│ 2018-12-31       ┆ 11       ┆ 21                │\n",
       "└──────────────────┴──────────┴───────────────────┘"
      ]
     },
     "execution_count": 34,
     "metadata": {},
     "output_type": "execute_result"
    }
   ],
   "source": [
    "flight_counts_daily = processed_train_df.filter(\n",
    "    pl.col('flt_count_dpt_24h').is_not_null()\n",
    ").group_by(\n",
    "    'flt_departure_dt', 'route_id'\n",
    ").agg(\n",
    "    pl.col('flt_count_dpt_24h').first()\n",
    ").sort('flt_departure_dt', 'route_id')\n",
    "\n",
    "flight_counts_daily"
   ]
  },
  {
   "cell_type": "code",
   "execution_count": 35,
   "metadata": {},
   "outputs": [
    {
     "data": {
      "text/html": [
       "<div><style>\n",
       ".dataframe > thead > tr,\n",
       ".dataframe > tbody > tr {\n",
       "  text-align: right;\n",
       "  white-space: pre-wrap;\n",
       "}\n",
       "</style>\n",
       "<small>shape: (1, 3)</small><table border=\"1\" class=\"dataframe\"><thead><tr><th>flt_count_dpt_24h</th><th>flt_count_dpt_4h</th><th>dpt_4h_od</th></tr><tr><td>u32</td><td>u32</td><td>u32</td></tr></thead><tbody><tr><td>0</td><td>0</td><td>0</td></tr></tbody></table></div>"
      ],
      "text/plain": [
       "shape: (1, 3)\n",
       "┌───────────────────┬──────────────────┬───────────┐\n",
       "│ flt_count_dpt_24h ┆ flt_count_dpt_4h ┆ dpt_4h_od │\n",
       "│ ---               ┆ ---              ┆ ---       │\n",
       "│ u32               ┆ u32              ┆ u32       │\n",
       "╞═══════════════════╪══════════════════╪═══════════╡\n",
       "│ 0                 ┆ 0                ┆ 0         │\n",
       "└───────────────────┴──────────────────┴───────────┘"
      ]
     },
     "execution_count": 35,
     "metadata": {},
     "output_type": "execute_result"
    }
   ],
   "source": [
    "train_df = train_df.join(\n",
    "    flight_counts_daily,\n",
    "    on = ['flt_departure_dt', 'route_id'],\n",
    "    how = \"left\"\n",
    ").with_columns(\n",
    "    pl.coalesce(['flt_count_dpt_24h', 'flt_count_dpt_24h_right']),\n",
    "    pl.col('flt_count_dpt_4h').fill_null(-1),\n",
    "    pl.col('dpt_4h_od').fill_null(-1)\n",
    ").drop('flt_count_dpt_24h_right')\n",
    "\n",
    "train_df.select(\n",
    "    pl.col('flt_count_dpt_24h', 'flt_count_dpt_4h', 'dpt_4h_od').null_count()\n",
    ")"
   ]
  },
  {
   "cell_type": "code",
   "execution_count": 36,
   "metadata": {},
   "outputs": [
    {
     "data": {
      "text/html": [
       "<div><style>\n",
       ".dataframe > thead > tr,\n",
       ".dataframe > tbody > tr {\n",
       "  text-align: right;\n",
       "  white-space: pre-wrap;\n",
       "}\n",
       "</style>\n",
       "<small>shape: (1, 3)</small><table border=\"1\" class=\"dataframe\"><thead><tr><th>flt_count_dpt_24h</th><th>flt_count_dpt_4h</th><th>dpt_4h_od</th></tr><tr><td>u32</td><td>u32</td><td>u32</td></tr></thead><tbody><tr><td>0</td><td>0</td><td>0</td></tr></tbody></table></div>"
      ],
      "text/plain": [
       "shape: (1, 3)\n",
       "┌───────────────────┬──────────────────┬───────────┐\n",
       "│ flt_count_dpt_24h ┆ flt_count_dpt_4h ┆ dpt_4h_od │\n",
       "│ ---               ┆ ---              ┆ ---       │\n",
       "│ u32               ┆ u32              ┆ u32       │\n",
       "╞═══════════════════╪══════════════════╪═══════════╡\n",
       "│ 0                 ┆ 0                ┆ 0         │\n",
       "└───────────────────┴──────────────────┴───────────┘"
      ]
     },
     "execution_count": 36,
     "metadata": {},
     "output_type": "execute_result"
    }
   ],
   "source": [
    "val_df = val_df.join(\n",
    "    flight_counts_daily,\n",
    "    on = ['flt_departure_dt', 'route_id'],\n",
    "    how = \"left\"\n",
    ").with_columns(\n",
    "    pl.coalesce(['flt_count_dpt_24h', 'flt_count_dpt_24h_right']),\n",
    "    pl.col('flt_count_dpt_4h').fill_null(-1),\n",
    "    pl.col('dpt_4h_od').fill_null(-1)\n",
    ").drop('flt_count_dpt_24h_right')\n",
    "\n",
    "val_df.select(\n",
    "    pl.col('flt_count_dpt_24h', 'flt_count_dpt_4h', 'dpt_4h_od').null_count()\n",
    ")"
   ]
  },
  {
   "cell_type": "markdown",
   "metadata": {},
   "source": [
    "### Training datasets"
   ]
  },
  {
   "cell_type": "code",
   "execution_count": 37,
   "metadata": {},
   "outputs": [
    {
     "data": {
      "text/plain": [
       "((1556671, 20), (29492, 20), (1556671,), (29492,))"
      ]
     },
     "execution_count": 37,
     "metadata": {},
     "output_type": "execute_result"
    }
   ],
   "source": [
    "TRAINING_COLS = [\n",
    "    'carrier', 'days_till_flight', 'origin_id', 'destination_id', 'route_id',\n",
    "    'dur_min', 'flt_info_null', 'days_since_start', 'is_dst',\n",
    "    'flt_departure_month', 'flt_departure_day',\n",
    "    'flt_departure_week', 'flt_departure_weekday',\n",
    "    '7d_route_avg', '14d_route_avg', '7d_route_carrier_avg', 'over_mn',\n",
    "    'flt_count_dpt_24h', 'flt_count_dpt_4h', 'dpt_4h_od'\n",
    "]\n",
    "\n",
    "X_train = train_df.select(TRAINING_COLS)\n",
    "X_val = val_df.select(TRAINING_COLS)\n",
    "\n",
    "y_train = train_df['scaled_fare']\n",
    "y_val = val_df['scaled_fare']\n",
    "\n",
    "X_train.shape, X_val.shape, y_train.shape, y_val.shape"
   ]
  },
  {
   "cell_type": "code",
   "execution_count": 38,
   "metadata": {},
   "outputs": [
    {
     "data": {
      "text/html": [
       "<div><style>\n",
       ".dataframe > thead > tr,\n",
       ".dataframe > tbody > tr {\n",
       "  text-align: right;\n",
       "  white-space: pre-wrap;\n",
       "}\n",
       "</style>\n",
       "<small>shape: (9, 21)</small><table border=\"1\" class=\"dataframe\"><thead><tr><th>statistic</th><th>carrier</th><th>days_till_flight</th><th>origin_id</th><th>destination_id</th><th>route_id</th><th>dur_min</th><th>flt_info_null</th><th>days_since_start</th><th>is_dst</th><th>flt_departure_month</th><th>flt_departure_day</th><th>flt_departure_week</th><th>flt_departure_weekday</th><th>7d_route_avg</th><th>14d_route_avg</th><th>7d_route_carrier_avg</th><th>over_mn</th><th>flt_count_dpt_24h</th><th>flt_count_dpt_4h</th><th>dpt_4h_od</th></tr><tr><td>str</td><td>str</td><td>f64</td><td>f64</td><td>f64</td><td>f64</td><td>f64</td><td>f64</td><td>f64</td><td>f64</td><td>f64</td><td>f64</td><td>f64</td><td>f64</td><td>f64</td><td>f64</td><td>f64</td><td>f64</td><td>f64</td><td>f64</td><td>f64</td></tr></thead><tbody><tr><td>&quot;count&quot;</td><td>&quot;1556671&quot;</td><td>1.556671e6</td><td>1.556671e6</td><td>1.556671e6</td><td>1.556671e6</td><td>1.556671e6</td><td>1.556671e6</td><td>1.556671e6</td><td>1.556671e6</td><td>1.556671e6</td><td>1.556671e6</td><td>1.556671e6</td><td>1.556671e6</td><td>1.556671e6</td><td>1.556671e6</td><td>1.556671e6</td><td>1.556671e6</td><td>1.556671e6</td><td>1.556671e6</td><td>1.556671e6</td></tr><tr><td>&quot;null_count&quot;</td><td>&quot;0&quot;</td><td>0.0</td><td>0.0</td><td>0.0</td><td>0.0</td><td>0.0</td><td>0.0</td><td>0.0</td><td>0.0</td><td>0.0</td><td>0.0</td><td>0.0</td><td>0.0</td><td>0.0</td><td>0.0</td><td>0.0</td><td>0.0</td><td>0.0</td><td>0.0</td><td>0.0</td></tr><tr><td>&quot;mean&quot;</td><td>null</td><td>17.265929</td><td>3.954633</td><td>3.838421</td><td>5.935386</td><td>113.770862</td><td>0.061915</td><td>158.740897</td><td>0.759079</td><td>5.76818</td><td>15.667422</td><td>23.250227</td><td>3.989309</td><td>1.00659</td><td>1.006215</td><td>1.008206</td><td>-0.048942</td><td>23.438395</td><td>4.936197</td><td>2.692482</td></tr><tr><td>&quot;std&quot;</td><td>null</td><td>12.725705</td><td>1.691103</td><td>1.626951</td><td>2.968212</td><td>60.984253</td><td>0.241002</td><td>92.095246</td><td>0.427643</td><td>3.013548</td><td>8.7547</td><td>13.161716</td><td>1.998812</td><td>0.321856</td><td>0.324903</td><td>0.341546</td><td>0.269246</td><td>11.723448</td><td>3.274862</td><td>1.547468</td></tr><tr><td>&quot;min&quot;</td><td>&quot;L1&quot;</td><td>0.0</td><td>0.0</td><td>0.0</td><td>0.0</td><td>60.0</td><td>0.0</td><td>0.0</td><td>0.0</td><td>1.0</td><td>1.0</td><td>1.0</td><td>1.0</td><td>0.452164</td><td>0.452164</td><td>0.43012</td><td>-1.0</td><td>2.0</td><td>-1.0</td><td>-1.0</td></tr><tr><td>&quot;25%&quot;</td><td>null</td><td>8.0</td><td>3.0</td><td>3.0</td><td>4.0</td><td>79.0</td><td>0.0</td><td>84.0</td><td>1.0</td><td>3.0</td><td>8.0</td><td>13.0</td><td>2.0</td><td>0.803245</td><td>0.803705</td><td>0.796147</td><td>0.0</td><td>9.0</td><td>2.0</td><td>2.0</td></tr><tr><td>&quot;50%&quot;</td><td>null</td><td>16.0</td><td>4.0</td><td>3.0</td><td>6.0</td><td>90.0</td><td>0.0</td><td>139.0</td><td>1.0</td><td>5.0</td><td>16.0</td><td>20.0</td><td>4.0</td><td>0.930686</td><td>0.932234</td><td>0.925562</td><td>0.0</td><td>23.0</td><td>5.0</td><td>3.0</td></tr><tr><td>&quot;75%&quot;</td><td>null</td><td>26.0</td><td>5.0</td><td>5.0</td><td>8.0</td><td>102.0</td><td>0.0</td><td>239.0</td><td>1.0</td><td>8.0</td><td>23.0</td><td>35.0</td><td>6.0</td><td>1.113075</td><td>1.102213</td><td>1.118423</td><td>0.0</td><td>35.0</td><td>8.0</td><td>4.0</td></tr><tr><td>&quot;max&quot;</td><td>&quot;U3&quot;</td><td>328.0</td><td>7.0</td><td>7.0</td><td>11.0</td><td>304.0</td><td>1.0</td><td>333.0</td><td>1.0</td><td>11.0</td><td>31.0</td><td>48.0</td><td>7.0</td><td>4.960616</td><td>4.960616</td><td>4.883298</td><td>1.0</td><td>43.0</td><td>12.0</td><td>5.0</td></tr></tbody></table></div>"
      ],
      "text/plain": [
       "shape: (9, 21)\n",
       "┌────────────┬─────────┬───────────┬───────────┬───┬───────────┬───────────┬───────────┬───────────┐\n",
       "│ statistic  ┆ carrier ┆ days_till ┆ origin_id ┆ … ┆ over_mn   ┆ flt_count ┆ flt_count ┆ dpt_4h_od │\n",
       "│ ---        ┆ ---     ┆ _flight   ┆ ---       ┆   ┆ ---       ┆ _dpt_24h  ┆ _dpt_4h   ┆ ---       │\n",
       "│ str        ┆ str     ┆ ---       ┆ f64       ┆   ┆ f64       ┆ ---       ┆ ---       ┆ f64       │\n",
       "│            ┆         ┆ f64       ┆           ┆   ┆           ┆ f64       ┆ f64       ┆           │\n",
       "╞════════════╪═════════╪═══════════╪═══════════╪═══╪═══════════╪═══════════╪═══════════╪═══════════╡\n",
       "│ count      ┆ 1556671 ┆ 1.556671e ┆ 1.556671e ┆ … ┆ 1.556671e ┆ 1.556671e ┆ 1.556671e ┆ 1.556671e │\n",
       "│            ┆         ┆ 6         ┆ 6         ┆   ┆ 6         ┆ 6         ┆ 6         ┆ 6         │\n",
       "│ null_count ┆ 0       ┆ 0.0       ┆ 0.0       ┆ … ┆ 0.0       ┆ 0.0       ┆ 0.0       ┆ 0.0       │\n",
       "│ mean       ┆ null    ┆ 17.265929 ┆ 3.954633  ┆ … ┆ -0.048942 ┆ 23.438395 ┆ 4.936197  ┆ 2.692482  │\n",
       "│ std        ┆ null    ┆ 12.725705 ┆ 1.691103  ┆ … ┆ 0.269246  ┆ 11.723448 ┆ 3.274862  ┆ 1.547468  │\n",
       "│ min        ┆ L1      ┆ 0.0       ┆ 0.0       ┆ … ┆ -1.0      ┆ 2.0       ┆ -1.0      ┆ -1.0      │\n",
       "│ 25%        ┆ null    ┆ 8.0       ┆ 3.0       ┆ … ┆ 0.0       ┆ 9.0       ┆ 2.0       ┆ 2.0       │\n",
       "│ 50%        ┆ null    ┆ 16.0      ┆ 4.0       ┆ … ┆ 0.0       ┆ 23.0      ┆ 5.0       ┆ 3.0       │\n",
       "│ 75%        ┆ null    ┆ 26.0      ┆ 5.0       ┆ … ┆ 0.0       ┆ 35.0      ┆ 8.0       ┆ 4.0       │\n",
       "│ max        ┆ U3      ┆ 328.0     ┆ 7.0       ┆ … ┆ 1.0       ┆ 43.0      ┆ 12.0      ┆ 5.0       │\n",
       "└────────────┴─────────┴───────────┴───────────┴───┴───────────┴───────────┴───────────┴───────────┘"
      ]
     },
     "execution_count": 38,
     "metadata": {},
     "output_type": "execute_result"
    }
   ],
   "source": [
    "X_train.describe()"
   ]
  },
  {
   "cell_type": "code",
   "execution_count": 39,
   "metadata": {},
   "outputs": [
    {
     "data": {
      "text/html": [
       "<div><style>\n",
       ".dataframe > thead > tr,\n",
       ".dataframe > tbody > tr {\n",
       "  text-align: right;\n",
       "  white-space: pre-wrap;\n",
       "}\n",
       "</style>\n",
       "<small>shape: (9, 21)</small><table border=\"1\" class=\"dataframe\"><thead><tr><th>statistic</th><th>carrier</th><th>days_till_flight</th><th>origin_id</th><th>destination_id</th><th>route_id</th><th>dur_min</th><th>flt_info_null</th><th>days_since_start</th><th>is_dst</th><th>flt_departure_month</th><th>flt_departure_day</th><th>flt_departure_week</th><th>flt_departure_weekday</th><th>7d_route_avg</th><th>14d_route_avg</th><th>7d_route_carrier_avg</th><th>over_mn</th><th>flt_count_dpt_24h</th><th>flt_count_dpt_4h</th><th>dpt_4h_od</th></tr><tr><td>str</td><td>str</td><td>f64</td><td>f64</td><td>f64</td><td>f64</td><td>f64</td><td>f64</td><td>f64</td><td>f64</td><td>f64</td><td>f64</td><td>f64</td><td>f64</td><td>f64</td><td>f64</td><td>f64</td><td>f64</td><td>f64</td><td>f64</td><td>f64</td></tr></thead><tbody><tr><td>&quot;count&quot;</td><td>&quot;29492&quot;</td><td>29492.0</td><td>29492.0</td><td>29492.0</td><td>29492.0</td><td>29492.0</td><td>29492.0</td><td>29492.0</td><td>29492.0</td><td>29492.0</td><td>29492.0</td><td>29492.0</td><td>29492.0</td><td>29492.0</td><td>29492.0</td><td>29492.0</td><td>29492.0</td><td>29492.0</td><td>29492.0</td><td>29492.0</td></tr><tr><td>&quot;null_count&quot;</td><td>&quot;0&quot;</td><td>0.0</td><td>0.0</td><td>0.0</td><td>0.0</td><td>0.0</td><td>0.0</td><td>0.0</td><td>0.0</td><td>0.0</td><td>0.0</td><td>0.0</td><td>0.0</td><td>0.0</td><td>0.0</td><td>0.0</td><td>0.0</td><td>0.0</td><td>0.0</td><td>0.0</td></tr><tr><td>&quot;mean&quot;</td><td>null</td><td>17.878611</td><td>3.864946</td><td>3.839278</td><td>5.770005</td><td>113.968694</td><td>0.001017</td><td>337.069917</td><td>0.0</td><td>12.0</td><td>4.069917</td><td>48.727316</td><td>3.978706</td><td>1.138156</td><td>1.109976</td><td>1.124204</td><td>0.007154</td><td>22.025634</td><td>5.289367</td><td>2.913807</td></tr><tr><td>&quot;std&quot;</td><td>null</td><td>14.627672</td><td>1.66831</td><td>1.65516</td><td>2.947329</td><td>62.988338</td><td>0.031878</td><td>1.992678</td><td>0.0</td><td>0.0</td><td>1.992678</td><td>0.445347</td><td>1.995592</td><td>0.454317</td><td>0.240076</td><td>0.494194</td><td>0.095593</td><td>12.074201</td><td>2.897902</td><td>1.235995</td></tr><tr><td>&quot;min&quot;</td><td>&quot;L1&quot;</td><td>0.0</td><td>0.0</td><td>0.0</td><td>0.0</td><td>61.0</td><td>0.0</td><td>334.0</td><td>0.0</td><td>12.0</td><td>1.0</td><td>48.0</td><td>1.0</td><td>0.620425</td><td>0.686443</td><td>0.564198</td><td>-1.0</td><td>4.0</td><td>-1.0</td><td>-1.0</td></tr><tr><td>&quot;25%&quot;</td><td>null</td><td>8.0</td><td>3.0</td><td>3.0</td><td>4.0</td><td>77.0</td><td>0.0</td><td>335.0</td><td>0.0</td><td>12.0</td><td>2.0</td><td>48.0</td><td>2.0</td><td>0.838411</td><td>0.95073</td><td>0.800935</td><td>0.0</td><td>8.0</td><td>3.0</td><td>2.0</td></tr><tr><td>&quot;50%&quot;</td><td>null</td><td>16.0</td><td>3.0</td><td>3.0</td><td>5.0</td><td>85.0</td><td>0.0</td><td>337.0</td><td>0.0</td><td>12.0</td><td>4.0</td><td>49.0</td><td>4.0</td><td>0.974839</td><td>1.081598</td><td>0.964027</td><td>0.0</td><td>21.0</td><td>5.0</td><td>3.0</td></tr><tr><td>&quot;75%&quot;</td><td>null</td><td>26.0</td><td>5.0</td><td>5.0</td><td>7.0</td><td>106.0</td><td>0.0</td><td>339.0</td><td>0.0</td><td>12.0</td><td>6.0</td><td>49.0</td><td>6.0</td><td>1.28687</td><td>1.221928</td><td>1.307751</td><td>0.0</td><td>35.0</td><td>8.0</td><td>4.0</td></tr><tr><td>&quot;max&quot;</td><td>&quot;U3&quot;</td><td>276.0</td><td>7.0</td><td>7.0</td><td>11.0</td><td>301.0</td><td>1.0</td><td>340.0</td><td>0.0</td><td>12.0</td><td>7.0</td><td>49.0</td><td>7.0</td><td>2.362383</td><td>1.687138</td><td>3.023078</td><td>1.0</td><td>37.0</td><td>11.0</td><td>5.0</td></tr></tbody></table></div>"
      ],
      "text/plain": [
       "shape: (9, 21)\n",
       "┌────────────┬─────────┬────────────┬───────────┬───┬──────────┬───────────┬───────────┬───────────┐\n",
       "│ statistic  ┆ carrier ┆ days_till_ ┆ origin_id ┆ … ┆ over_mn  ┆ flt_count ┆ flt_count ┆ dpt_4h_od │\n",
       "│ ---        ┆ ---     ┆ flight     ┆ ---       ┆   ┆ ---      ┆ _dpt_24h  ┆ _dpt_4h   ┆ ---       │\n",
       "│ str        ┆ str     ┆ ---        ┆ f64       ┆   ┆ f64      ┆ ---       ┆ ---       ┆ f64       │\n",
       "│            ┆         ┆ f64        ┆           ┆   ┆          ┆ f64       ┆ f64       ┆           │\n",
       "╞════════════╪═════════╪════════════╪═══════════╪═══╪══════════╪═══════════╪═══════════╪═══════════╡\n",
       "│ count      ┆ 29492   ┆ 29492.0    ┆ 29492.0   ┆ … ┆ 29492.0  ┆ 29492.0   ┆ 29492.0   ┆ 29492.0   │\n",
       "│ null_count ┆ 0       ┆ 0.0        ┆ 0.0       ┆ … ┆ 0.0      ┆ 0.0       ┆ 0.0       ┆ 0.0       │\n",
       "│ mean       ┆ null    ┆ 17.878611  ┆ 3.864946  ┆ … ┆ 0.007154 ┆ 22.025634 ┆ 5.289367  ┆ 2.913807  │\n",
       "│ std        ┆ null    ┆ 14.627672  ┆ 1.66831   ┆ … ┆ 0.095593 ┆ 12.074201 ┆ 2.897902  ┆ 1.235995  │\n",
       "│ min        ┆ L1      ┆ 0.0        ┆ 0.0       ┆ … ┆ -1.0     ┆ 4.0       ┆ -1.0      ┆ -1.0      │\n",
       "│ 25%        ┆ null    ┆ 8.0        ┆ 3.0       ┆ … ┆ 0.0      ┆ 8.0       ┆ 3.0       ┆ 2.0       │\n",
       "│ 50%        ┆ null    ┆ 16.0       ┆ 3.0       ┆ … ┆ 0.0      ┆ 21.0      ┆ 5.0       ┆ 3.0       │\n",
       "│ 75%        ┆ null    ┆ 26.0       ┆ 5.0       ┆ … ┆ 0.0      ┆ 35.0      ┆ 8.0       ┆ 4.0       │\n",
       "│ max        ┆ U3      ┆ 276.0      ┆ 7.0       ┆ … ┆ 1.0      ┆ 37.0      ┆ 11.0      ┆ 5.0       │\n",
       "└────────────┴─────────┴────────────┴───────────┴───┴──────────┴───────────┴───────────┴───────────┘"
      ]
     },
     "execution_count": 39,
     "metadata": {},
     "output_type": "execute_result"
    }
   ],
   "source": [
    "X_val.describe()"
   ]
  },
  {
   "cell_type": "markdown",
   "metadata": {},
   "source": [
    "## Modelling"
   ]
  },
  {
   "cell_type": "markdown",
   "metadata": {},
   "source": [
    "### Training"
   ]
  },
  {
   "cell_type": "code",
   "execution_count": 40,
   "metadata": {},
   "outputs": [
    {
     "name": "stdout",
     "output_type": "stream",
     "text": [
      "{'gbr__n_estimators': 200, 'gbr__loss': 'squared_error', 'gbr__learning_rate': 0.05}\n",
      "0 : 327.012\n",
      "\n",
      "{'gbr__n_estimators': 200, 'gbr__loss': 'absolute_error', 'gbr__learning_rate': 0.2}\n",
      "1 : 310.545\n",
      "\n",
      "{'gbr__n_estimators': 250, 'gbr__loss': 'squared_error', 'gbr__learning_rate': 0.2}\n",
      "2 : 417.232\n",
      "\n",
      "{'gbr__n_estimators': 250, 'gbr__loss': 'squared_error', 'gbr__learning_rate': 0.05}\n",
      "3 : 329.883\n",
      "\n",
      "{'gbr__n_estimators': 150, 'gbr__loss': 'squared_error', 'gbr__learning_rate': 0.2}\n",
      "4 : 398.114\n",
      "\n",
      "{'gbr__n_estimators': 200, 'gbr__loss': 'squared_error', 'gbr__learning_rate': 0.01}\n",
      "5 : 317.800\n",
      "\n",
      "{'gbr__n_estimators': 250, 'gbr__loss': 'absolute_error', 'gbr__learning_rate': 0.05}\n",
      "6 : 296.264\n",
      "\n",
      "{'gbr__n_estimators': 250, 'gbr__loss': 'squared_error', 'gbr__learning_rate': 0.01}\n",
      "7 : 314.173\n",
      "\n",
      "Best params:\n",
      "{'gbr__n_estimators': 250, 'gbr__loss': 'absolute_error', 'gbr__learning_rate': 0.05}\n"
     ]
    },
    {
     "data": {
      "text/html": [
       "<style>#sk-container-id-1 {\n",
       "  /* Definition of color scheme common for light and dark mode */\n",
       "  --sklearn-color-text: black;\n",
       "  --sklearn-color-line: gray;\n",
       "  /* Definition of color scheme for unfitted estimators */\n",
       "  --sklearn-color-unfitted-level-0: #fff5e6;\n",
       "  --sklearn-color-unfitted-level-1: #f6e4d2;\n",
       "  --sklearn-color-unfitted-level-2: #ffe0b3;\n",
       "  --sklearn-color-unfitted-level-3: chocolate;\n",
       "  /* Definition of color scheme for fitted estimators */\n",
       "  --sklearn-color-fitted-level-0: #f0f8ff;\n",
       "  --sklearn-color-fitted-level-1: #d4ebff;\n",
       "  --sklearn-color-fitted-level-2: #b3dbfd;\n",
       "  --sklearn-color-fitted-level-3: cornflowerblue;\n",
       "\n",
       "  /* Specific color for light theme */\n",
       "  --sklearn-color-text-on-default-background: var(--sg-text-color, var(--theme-code-foreground, var(--jp-content-font-color1, black)));\n",
       "  --sklearn-color-background: var(--sg-background-color, var(--theme-background, var(--jp-layout-color0, white)));\n",
       "  --sklearn-color-border-box: var(--sg-text-color, var(--theme-code-foreground, var(--jp-content-font-color1, black)));\n",
       "  --sklearn-color-icon: #696969;\n",
       "\n",
       "  @media (prefers-color-scheme: dark) {\n",
       "    /* Redefinition of color scheme for dark theme */\n",
       "    --sklearn-color-text-on-default-background: var(--sg-text-color, var(--theme-code-foreground, var(--jp-content-font-color1, white)));\n",
       "    --sklearn-color-background: var(--sg-background-color, var(--theme-background, var(--jp-layout-color0, #111)));\n",
       "    --sklearn-color-border-box: var(--sg-text-color, var(--theme-code-foreground, var(--jp-content-font-color1, white)));\n",
       "    --sklearn-color-icon: #878787;\n",
       "  }\n",
       "}\n",
       "\n",
       "#sk-container-id-1 {\n",
       "  color: var(--sklearn-color-text);\n",
       "}\n",
       "\n",
       "#sk-container-id-1 pre {\n",
       "  padding: 0;\n",
       "}\n",
       "\n",
       "#sk-container-id-1 input.sk-hidden--visually {\n",
       "  border: 0;\n",
       "  clip: rect(1px 1px 1px 1px);\n",
       "  clip: rect(1px, 1px, 1px, 1px);\n",
       "  height: 1px;\n",
       "  margin: -1px;\n",
       "  overflow: hidden;\n",
       "  padding: 0;\n",
       "  position: absolute;\n",
       "  width: 1px;\n",
       "}\n",
       "\n",
       "#sk-container-id-1 div.sk-dashed-wrapped {\n",
       "  border: 1px dashed var(--sklearn-color-line);\n",
       "  margin: 0 0.4em 0.5em 0.4em;\n",
       "  box-sizing: border-box;\n",
       "  padding-bottom: 0.4em;\n",
       "  background-color: var(--sklearn-color-background);\n",
       "}\n",
       "\n",
       "#sk-container-id-1 div.sk-container {\n",
       "  /* jupyter's `normalize.less` sets `[hidden] { display: none; }`\n",
       "     but bootstrap.min.css set `[hidden] { display: none !important; }`\n",
       "     so we also need the `!important` here to be able to override the\n",
       "     default hidden behavior on the sphinx rendered scikit-learn.org.\n",
       "     See: https://github.com/scikit-learn/scikit-learn/issues/21755 */\n",
       "  display: inline-block !important;\n",
       "  position: relative;\n",
       "}\n",
       "\n",
       "#sk-container-id-1 div.sk-text-repr-fallback {\n",
       "  display: none;\n",
       "}\n",
       "\n",
       "div.sk-parallel-item,\n",
       "div.sk-serial,\n",
       "div.sk-item {\n",
       "  /* draw centered vertical line to link estimators */\n",
       "  background-image: linear-gradient(var(--sklearn-color-text-on-default-background), var(--sklearn-color-text-on-default-background));\n",
       "  background-size: 2px 100%;\n",
       "  background-repeat: no-repeat;\n",
       "  background-position: center center;\n",
       "}\n",
       "\n",
       "/* Parallel-specific style estimator block */\n",
       "\n",
       "#sk-container-id-1 div.sk-parallel-item::after {\n",
       "  content: \"\";\n",
       "  width: 100%;\n",
       "  border-bottom: 2px solid var(--sklearn-color-text-on-default-background);\n",
       "  flex-grow: 1;\n",
       "}\n",
       "\n",
       "#sk-container-id-1 div.sk-parallel {\n",
       "  display: flex;\n",
       "  align-items: stretch;\n",
       "  justify-content: center;\n",
       "  background-color: var(--sklearn-color-background);\n",
       "  position: relative;\n",
       "}\n",
       "\n",
       "#sk-container-id-1 div.sk-parallel-item {\n",
       "  display: flex;\n",
       "  flex-direction: column;\n",
       "}\n",
       "\n",
       "#sk-container-id-1 div.sk-parallel-item:first-child::after {\n",
       "  align-self: flex-end;\n",
       "  width: 50%;\n",
       "}\n",
       "\n",
       "#sk-container-id-1 div.sk-parallel-item:last-child::after {\n",
       "  align-self: flex-start;\n",
       "  width: 50%;\n",
       "}\n",
       "\n",
       "#sk-container-id-1 div.sk-parallel-item:only-child::after {\n",
       "  width: 0;\n",
       "}\n",
       "\n",
       "/* Serial-specific style estimator block */\n",
       "\n",
       "#sk-container-id-1 div.sk-serial {\n",
       "  display: flex;\n",
       "  flex-direction: column;\n",
       "  align-items: center;\n",
       "  background-color: var(--sklearn-color-background);\n",
       "  padding-right: 1em;\n",
       "  padding-left: 1em;\n",
       "}\n",
       "\n",
       "\n",
       "/* Toggleable style: style used for estimator/Pipeline/ColumnTransformer box that is\n",
       "clickable and can be expanded/collapsed.\n",
       "- Pipeline and ColumnTransformer use this feature and define the default style\n",
       "- Estimators will overwrite some part of the style using the `sk-estimator` class\n",
       "*/\n",
       "\n",
       "/* Pipeline and ColumnTransformer style (default) */\n",
       "\n",
       "#sk-container-id-1 div.sk-toggleable {\n",
       "  /* Default theme specific background. It is overwritten whether we have a\n",
       "  specific estimator or a Pipeline/ColumnTransformer */\n",
       "  background-color: var(--sklearn-color-background);\n",
       "}\n",
       "\n",
       "/* Toggleable label */\n",
       "#sk-container-id-1 label.sk-toggleable__label {\n",
       "  cursor: pointer;\n",
       "  display: block;\n",
       "  width: 100%;\n",
       "  margin-bottom: 0;\n",
       "  padding: 0.5em;\n",
       "  box-sizing: border-box;\n",
       "  text-align: center;\n",
       "}\n",
       "\n",
       "#sk-container-id-1 label.sk-toggleable__label-arrow:before {\n",
       "  /* Arrow on the left of the label */\n",
       "  content: \"▸\";\n",
       "  float: left;\n",
       "  margin-right: 0.25em;\n",
       "  color: var(--sklearn-color-icon);\n",
       "}\n",
       "\n",
       "#sk-container-id-1 label.sk-toggleable__label-arrow:hover:before {\n",
       "  color: var(--sklearn-color-text);\n",
       "}\n",
       "\n",
       "/* Toggleable content - dropdown */\n",
       "\n",
       "#sk-container-id-1 div.sk-toggleable__content {\n",
       "  max-height: 0;\n",
       "  max-width: 0;\n",
       "  overflow: hidden;\n",
       "  text-align: left;\n",
       "  /* unfitted */\n",
       "  background-color: var(--sklearn-color-unfitted-level-0);\n",
       "}\n",
       "\n",
       "#sk-container-id-1 div.sk-toggleable__content.fitted {\n",
       "  /* fitted */\n",
       "  background-color: var(--sklearn-color-fitted-level-0);\n",
       "}\n",
       "\n",
       "#sk-container-id-1 div.sk-toggleable__content pre {\n",
       "  margin: 0.2em;\n",
       "  border-radius: 0.25em;\n",
       "  color: var(--sklearn-color-text);\n",
       "  /* unfitted */\n",
       "  background-color: var(--sklearn-color-unfitted-level-0);\n",
       "}\n",
       "\n",
       "#sk-container-id-1 div.sk-toggleable__content.fitted pre {\n",
       "  /* unfitted */\n",
       "  background-color: var(--sklearn-color-fitted-level-0);\n",
       "}\n",
       "\n",
       "#sk-container-id-1 input.sk-toggleable__control:checked~div.sk-toggleable__content {\n",
       "  /* Expand drop-down */\n",
       "  max-height: 200px;\n",
       "  max-width: 100%;\n",
       "  overflow: auto;\n",
       "}\n",
       "\n",
       "#sk-container-id-1 input.sk-toggleable__control:checked~label.sk-toggleable__label-arrow:before {\n",
       "  content: \"▾\";\n",
       "}\n",
       "\n",
       "/* Pipeline/ColumnTransformer-specific style */\n",
       "\n",
       "#sk-container-id-1 div.sk-label input.sk-toggleable__control:checked~label.sk-toggleable__label {\n",
       "  color: var(--sklearn-color-text);\n",
       "  background-color: var(--sklearn-color-unfitted-level-2);\n",
       "}\n",
       "\n",
       "#sk-container-id-1 div.sk-label.fitted input.sk-toggleable__control:checked~label.sk-toggleable__label {\n",
       "  background-color: var(--sklearn-color-fitted-level-2);\n",
       "}\n",
       "\n",
       "/* Estimator-specific style */\n",
       "\n",
       "/* Colorize estimator box */\n",
       "#sk-container-id-1 div.sk-estimator input.sk-toggleable__control:checked~label.sk-toggleable__label {\n",
       "  /* unfitted */\n",
       "  background-color: var(--sklearn-color-unfitted-level-2);\n",
       "}\n",
       "\n",
       "#sk-container-id-1 div.sk-estimator.fitted input.sk-toggleable__control:checked~label.sk-toggleable__label {\n",
       "  /* fitted */\n",
       "  background-color: var(--sklearn-color-fitted-level-2);\n",
       "}\n",
       "\n",
       "#sk-container-id-1 div.sk-label label.sk-toggleable__label,\n",
       "#sk-container-id-1 div.sk-label label {\n",
       "  /* The background is the default theme color */\n",
       "  color: var(--sklearn-color-text-on-default-background);\n",
       "}\n",
       "\n",
       "/* On hover, darken the color of the background */\n",
       "#sk-container-id-1 div.sk-label:hover label.sk-toggleable__label {\n",
       "  color: var(--sklearn-color-text);\n",
       "  background-color: var(--sklearn-color-unfitted-level-2);\n",
       "}\n",
       "\n",
       "/* Label box, darken color on hover, fitted */\n",
       "#sk-container-id-1 div.sk-label.fitted:hover label.sk-toggleable__label.fitted {\n",
       "  color: var(--sklearn-color-text);\n",
       "  background-color: var(--sklearn-color-fitted-level-2);\n",
       "}\n",
       "\n",
       "/* Estimator label */\n",
       "\n",
       "#sk-container-id-1 div.sk-label label {\n",
       "  font-family: monospace;\n",
       "  font-weight: bold;\n",
       "  display: inline-block;\n",
       "  line-height: 1.2em;\n",
       "}\n",
       "\n",
       "#sk-container-id-1 div.sk-label-container {\n",
       "  text-align: center;\n",
       "}\n",
       "\n",
       "/* Estimator-specific */\n",
       "#sk-container-id-1 div.sk-estimator {\n",
       "  font-family: monospace;\n",
       "  border: 1px dotted var(--sklearn-color-border-box);\n",
       "  border-radius: 0.25em;\n",
       "  box-sizing: border-box;\n",
       "  margin-bottom: 0.5em;\n",
       "  /* unfitted */\n",
       "  background-color: var(--sklearn-color-unfitted-level-0);\n",
       "}\n",
       "\n",
       "#sk-container-id-1 div.sk-estimator.fitted {\n",
       "  /* fitted */\n",
       "  background-color: var(--sklearn-color-fitted-level-0);\n",
       "}\n",
       "\n",
       "/* on hover */\n",
       "#sk-container-id-1 div.sk-estimator:hover {\n",
       "  /* unfitted */\n",
       "  background-color: var(--sklearn-color-unfitted-level-2);\n",
       "}\n",
       "\n",
       "#sk-container-id-1 div.sk-estimator.fitted:hover {\n",
       "  /* fitted */\n",
       "  background-color: var(--sklearn-color-fitted-level-2);\n",
       "}\n",
       "\n",
       "/* Specification for estimator info (e.g. \"i\" and \"?\") */\n",
       "\n",
       "/* Common style for \"i\" and \"?\" */\n",
       "\n",
       ".sk-estimator-doc-link,\n",
       "a:link.sk-estimator-doc-link,\n",
       "a:visited.sk-estimator-doc-link {\n",
       "  float: right;\n",
       "  font-size: smaller;\n",
       "  line-height: 1em;\n",
       "  font-family: monospace;\n",
       "  background-color: var(--sklearn-color-background);\n",
       "  border-radius: 1em;\n",
       "  height: 1em;\n",
       "  width: 1em;\n",
       "  text-decoration: none !important;\n",
       "  margin-left: 1ex;\n",
       "  /* unfitted */\n",
       "  border: var(--sklearn-color-unfitted-level-1) 1pt solid;\n",
       "  color: var(--sklearn-color-unfitted-level-1);\n",
       "}\n",
       "\n",
       ".sk-estimator-doc-link.fitted,\n",
       "a:link.sk-estimator-doc-link.fitted,\n",
       "a:visited.sk-estimator-doc-link.fitted {\n",
       "  /* fitted */\n",
       "  border: var(--sklearn-color-fitted-level-1) 1pt solid;\n",
       "  color: var(--sklearn-color-fitted-level-1);\n",
       "}\n",
       "\n",
       "/* On hover */\n",
       "div.sk-estimator:hover .sk-estimator-doc-link:hover,\n",
       ".sk-estimator-doc-link:hover,\n",
       "div.sk-label-container:hover .sk-estimator-doc-link:hover,\n",
       ".sk-estimator-doc-link:hover {\n",
       "  /* unfitted */\n",
       "  background-color: var(--sklearn-color-unfitted-level-3);\n",
       "  color: var(--sklearn-color-background);\n",
       "  text-decoration: none;\n",
       "}\n",
       "\n",
       "div.sk-estimator.fitted:hover .sk-estimator-doc-link.fitted:hover,\n",
       ".sk-estimator-doc-link.fitted:hover,\n",
       "div.sk-label-container:hover .sk-estimator-doc-link.fitted:hover,\n",
       ".sk-estimator-doc-link.fitted:hover {\n",
       "  /* fitted */\n",
       "  background-color: var(--sklearn-color-fitted-level-3);\n",
       "  color: var(--sklearn-color-background);\n",
       "  text-decoration: none;\n",
       "}\n",
       "\n",
       "/* Span, style for the box shown on hovering the info icon */\n",
       ".sk-estimator-doc-link span {\n",
       "  display: none;\n",
       "  z-index: 9999;\n",
       "  position: relative;\n",
       "  font-weight: normal;\n",
       "  right: .2ex;\n",
       "  padding: .5ex;\n",
       "  margin: .5ex;\n",
       "  width: min-content;\n",
       "  min-width: 20ex;\n",
       "  max-width: 50ex;\n",
       "  color: var(--sklearn-color-text);\n",
       "  box-shadow: 2pt 2pt 4pt #999;\n",
       "  /* unfitted */\n",
       "  background: var(--sklearn-color-unfitted-level-0);\n",
       "  border: .5pt solid var(--sklearn-color-unfitted-level-3);\n",
       "}\n",
       "\n",
       ".sk-estimator-doc-link.fitted span {\n",
       "  /* fitted */\n",
       "  background: var(--sklearn-color-fitted-level-0);\n",
       "  border: var(--sklearn-color-fitted-level-3);\n",
       "}\n",
       "\n",
       ".sk-estimator-doc-link:hover span {\n",
       "  display: block;\n",
       "}\n",
       "\n",
       "/* \"?\"-specific style due to the `<a>` HTML tag */\n",
       "\n",
       "#sk-container-id-1 a.estimator_doc_link {\n",
       "  float: right;\n",
       "  font-size: 1rem;\n",
       "  line-height: 1em;\n",
       "  font-family: monospace;\n",
       "  background-color: var(--sklearn-color-background);\n",
       "  border-radius: 1rem;\n",
       "  height: 1rem;\n",
       "  width: 1rem;\n",
       "  text-decoration: none;\n",
       "  /* unfitted */\n",
       "  color: var(--sklearn-color-unfitted-level-1);\n",
       "  border: var(--sklearn-color-unfitted-level-1) 1pt solid;\n",
       "}\n",
       "\n",
       "#sk-container-id-1 a.estimator_doc_link.fitted {\n",
       "  /* fitted */\n",
       "  border: var(--sklearn-color-fitted-level-1) 1pt solid;\n",
       "  color: var(--sklearn-color-fitted-level-1);\n",
       "}\n",
       "\n",
       "/* On hover */\n",
       "#sk-container-id-1 a.estimator_doc_link:hover {\n",
       "  /* unfitted */\n",
       "  background-color: var(--sklearn-color-unfitted-level-3);\n",
       "  color: var(--sklearn-color-background);\n",
       "  text-decoration: none;\n",
       "}\n",
       "\n",
       "#sk-container-id-1 a.estimator_doc_link.fitted:hover {\n",
       "  /* fitted */\n",
       "  background-color: var(--sklearn-color-fitted-level-3);\n",
       "}\n",
       "</style><div id=\"sk-container-id-1\" class=\"sk-top-container\"><div class=\"sk-text-repr-fallback\"><pre>Pipeline(steps=[(&#x27;col_transformer&#x27;,\n",
       "                 ColumnTransformer(remainder=&#x27;passthrough&#x27;, sparse_threshold=0,\n",
       "                                   transformers=[(&#x27;ord&#x27;, OrdinalEncoder(),\n",
       "                                                  [&#x27;carrier&#x27;])])),\n",
       "                (&#x27;gbr&#x27;,\n",
       "                 GradientBoostingRegressor(learning_rate=0.05,\n",
       "                                           loss=&#x27;absolute_error&#x27;, max_depth=4,\n",
       "                                           n_estimators=250, random_state=7))])</pre><b>In a Jupyter environment, please rerun this cell to show the HTML representation or trust the notebook. <br />On GitHub, the HTML representation is unable to render, please try loading this page with nbviewer.org.</b></div><div class=\"sk-container\" hidden><div class=\"sk-item sk-dashed-wrapped\"><div class=\"sk-label-container\"><div class=\"sk-label fitted sk-toggleable\"><input class=\"sk-toggleable__control sk-hidden--visually\" id=\"sk-estimator-id-1\" type=\"checkbox\" ><label for=\"sk-estimator-id-1\" class=\"sk-toggleable__label fitted sk-toggleable__label-arrow fitted\">&nbsp;&nbsp;Pipeline<a class=\"sk-estimator-doc-link fitted\" rel=\"noreferrer\" target=\"_blank\" href=\"https://scikit-learn.org/1.4/modules/generated/sklearn.pipeline.Pipeline.html\">?<span>Documentation for Pipeline</span></a><span class=\"sk-estimator-doc-link fitted\">i<span>Fitted</span></span></label><div class=\"sk-toggleable__content fitted\"><pre>Pipeline(steps=[(&#x27;col_transformer&#x27;,\n",
       "                 ColumnTransformer(remainder=&#x27;passthrough&#x27;, sparse_threshold=0,\n",
       "                                   transformers=[(&#x27;ord&#x27;, OrdinalEncoder(),\n",
       "                                                  [&#x27;carrier&#x27;])])),\n",
       "                (&#x27;gbr&#x27;,\n",
       "                 GradientBoostingRegressor(learning_rate=0.05,\n",
       "                                           loss=&#x27;absolute_error&#x27;, max_depth=4,\n",
       "                                           n_estimators=250, random_state=7))])</pre></div> </div></div><div class=\"sk-serial\"><div class=\"sk-item sk-dashed-wrapped\"><div class=\"sk-label-container\"><div class=\"sk-label fitted sk-toggleable\"><input class=\"sk-toggleable__control sk-hidden--visually\" id=\"sk-estimator-id-2\" type=\"checkbox\" ><label for=\"sk-estimator-id-2\" class=\"sk-toggleable__label fitted sk-toggleable__label-arrow fitted\">&nbsp;col_transformer: ColumnTransformer<a class=\"sk-estimator-doc-link fitted\" rel=\"noreferrer\" target=\"_blank\" href=\"https://scikit-learn.org/1.4/modules/generated/sklearn.compose.ColumnTransformer.html\">?<span>Documentation for col_transformer: ColumnTransformer</span></a></label><div class=\"sk-toggleable__content fitted\"><pre>ColumnTransformer(remainder=&#x27;passthrough&#x27;, sparse_threshold=0,\n",
       "                  transformers=[(&#x27;ord&#x27;, OrdinalEncoder(), [&#x27;carrier&#x27;])])</pre></div> </div></div><div class=\"sk-parallel\"><div class=\"sk-parallel-item\"><div class=\"sk-item\"><div class=\"sk-label-container\"><div class=\"sk-label fitted sk-toggleable\"><input class=\"sk-toggleable__control sk-hidden--visually\" id=\"sk-estimator-id-3\" type=\"checkbox\" ><label for=\"sk-estimator-id-3\" class=\"sk-toggleable__label fitted sk-toggleable__label-arrow fitted\">ord</label><div class=\"sk-toggleable__content fitted\"><pre>[&#x27;carrier&#x27;]</pre></div> </div></div><div class=\"sk-serial\"><div class=\"sk-item\"><div class=\"sk-estimator fitted sk-toggleable\"><input class=\"sk-toggleable__control sk-hidden--visually\" id=\"sk-estimator-id-4\" type=\"checkbox\" ><label for=\"sk-estimator-id-4\" class=\"sk-toggleable__label fitted sk-toggleable__label-arrow fitted\">&nbsp;OrdinalEncoder<a class=\"sk-estimator-doc-link fitted\" rel=\"noreferrer\" target=\"_blank\" href=\"https://scikit-learn.org/1.4/modules/generated/sklearn.preprocessing.OrdinalEncoder.html\">?<span>Documentation for OrdinalEncoder</span></a></label><div class=\"sk-toggleable__content fitted\"><pre>OrdinalEncoder()</pre></div> </div></div></div></div></div><div class=\"sk-parallel-item\"><div class=\"sk-item\"><div class=\"sk-label-container\"><div class=\"sk-label fitted sk-toggleable\"><input class=\"sk-toggleable__control sk-hidden--visually\" id=\"sk-estimator-id-5\" type=\"checkbox\" ><label for=\"sk-estimator-id-5\" class=\"sk-toggleable__label fitted sk-toggleable__label-arrow fitted\">remainder</label><div class=\"sk-toggleable__content fitted\"><pre>[&#x27;days_till_flight&#x27;, &#x27;origin_id&#x27;, &#x27;destination_id&#x27;, &#x27;route_id&#x27;, &#x27;dur_min&#x27;, &#x27;flt_info_null&#x27;, &#x27;days_since_start&#x27;, &#x27;is_dst&#x27;, &#x27;flt_departure_month&#x27;, &#x27;flt_departure_day&#x27;, &#x27;flt_departure_week&#x27;, &#x27;flt_departure_weekday&#x27;, &#x27;7d_route_avg&#x27;, &#x27;14d_route_avg&#x27;, &#x27;7d_route_carrier_avg&#x27;, &#x27;over_mn&#x27;, &#x27;flt_count_dpt_24h&#x27;, &#x27;flt_count_dpt_4h&#x27;, &#x27;dpt_4h_od&#x27;]</pre></div> </div></div><div class=\"sk-serial\"><div class=\"sk-item\"><div class=\"sk-estimator fitted sk-toggleable\"><input class=\"sk-toggleable__control sk-hidden--visually\" id=\"sk-estimator-id-6\" type=\"checkbox\" ><label for=\"sk-estimator-id-6\" class=\"sk-toggleable__label fitted sk-toggleable__label-arrow fitted\">passthrough</label><div class=\"sk-toggleable__content fitted\"><pre>passthrough</pre></div> </div></div></div></div></div></div></div><div class=\"sk-item\"><div class=\"sk-estimator fitted sk-toggleable\"><input class=\"sk-toggleable__control sk-hidden--visually\" id=\"sk-estimator-id-7\" type=\"checkbox\" ><label for=\"sk-estimator-id-7\" class=\"sk-toggleable__label fitted sk-toggleable__label-arrow fitted\">&nbsp;GradientBoostingRegressor<a class=\"sk-estimator-doc-link fitted\" rel=\"noreferrer\" target=\"_blank\" href=\"https://scikit-learn.org/1.4/modules/generated/sklearn.ensemble.GradientBoostingRegressor.html\">?<span>Documentation for GradientBoostingRegressor</span></a></label><div class=\"sk-toggleable__content fitted\"><pre>GradientBoostingRegressor(learning_rate=0.05, loss=&#x27;absolute_error&#x27;,\n",
       "                          max_depth=4, n_estimators=250, random_state=7)</pre></div> </div></div></div></div></div></div>"
      ],
      "text/plain": [
       "Pipeline(steps=[('col_transformer',\n",
       "                 ColumnTransformer(remainder='passthrough', sparse_threshold=0,\n",
       "                                   transformers=[('ord', OrdinalEncoder(),\n",
       "                                                  ['carrier'])])),\n",
       "                ('gbr',\n",
       "                 GradientBoostingRegressor(learning_rate=0.05,\n",
       "                                           loss='absolute_error', max_depth=4,\n",
       "                                           n_estimators=250, random_state=7))])"
      ]
     },
     "execution_count": 40,
     "metadata": {},
     "output_type": "execute_result"
    }
   ],
   "source": [
    "pred_fare_expr = pl.lit(10).pow(\n",
    "    (pl.col('pred_scaled_fare') * pl.col('base_fare')) + pl.col('base_fare')\n",
    ").alias('pred_fare')\n",
    "\n",
    "def get_model():\n",
    "    col_transform = ColumnTransformer(\n",
    "        [\n",
    "            (\n",
    "                'ord', \n",
    "                OrdinalEncoder(),\n",
    "                ['carrier']\n",
    "            )\n",
    "        ],\n",
    "        remainder = 'passthrough',\n",
    "        sparse_threshold = 0\n",
    "    )\n",
    "    \n",
    "    return Pipeline(\n",
    "        [\n",
    "            ('col_transformer', col_transform),\n",
    "            (\n",
    "                'gbr', \n",
    "                GradientBoostingRegressor(\n",
    "                    max_depth = 4,\n",
    "                    random_state = 7\n",
    "                )\n",
    "            )\n",
    "        ]\n",
    "    )\n",
    "\n",
    "def train_model(param_grid, n_iter = 5):\n",
    "    param_sampler = ParameterSampler(\n",
    "        param_grid,\n",
    "        n_iter = n_iter,\n",
    "        random_state = 7\n",
    "    )\n",
    "\n",
    "    best_rmse = float('inf')\n",
    "    best_model = None\n",
    "    best_params = None\n",
    "\n",
    "    for i, params in enumerate(list(param_sampler)):\n",
    "        print(f\"{params}\")\n",
    "        model = get_model()\n",
    "        model.set_params(**params)\n",
    "        model.fit(X_train, y_train)\n",
    "\n",
    "        val_preds = val_df.with_columns(\n",
    "            pred_scaled_fare = model.predict(X_val)\n",
    "        ).with_columns(pred_fare_expr)['pred_fare']\n",
    "\n",
    "        rmse = root_mean_squared_error(val_df['total_fare'], val_preds)\n",
    "        print(f\"{i} : {rmse:.3f}\\n\")\n",
    "        \n",
    "        if rmse < best_rmse:\n",
    "            best_rmse = rmse\n",
    "            best_model = model\n",
    "            best_params = params\n",
    "\n",
    "    print(f\"Best params:\\n{best_params}\")\n",
    "    return best_model\n",
    "\n",
    "param_grid = {\n",
    "    \"gbr__loss\": ['squared_error', 'absolute_error'],\n",
    "    \"gbr__n_estimators\": np.linspace(150, 300, 4, dtype = np.int32),\n",
    "    \"gbr__learning_rate\": [0.01, 0.02, 0.05, 0.1, 0.2]\n",
    "}\n",
    "\n",
    "best_model = train_model(param_grid, n_iter = 8)\n",
    "best_model"
   ]
  },
  {
   "cell_type": "markdown",
   "metadata": {},
   "source": [
    "### Predictions"
   ]
  },
  {
   "cell_type": "code",
   "execution_count": 41,
   "metadata": {},
   "outputs": [
    {
     "data": {
      "text/html": [
       "<div><style>\n",
       ".dataframe > thead > tr,\n",
       ".dataframe > tbody > tr {\n",
       "  text-align: right;\n",
       "  white-space: pre-wrap;\n",
       "}\n",
       "</style>\n",
       "<small>shape: (1_556_671, 35)</small><table border=\"1\" class=\"dataframe\"><thead><tr><th>carrier</th><th>flt_num</th><th>flt_departure_dt</th><th>observation_date</th><th>total_fare</th><th>days_till_flight</th><th>is_dst</th><th>route_id</th><th>flt_departure_local_time</th><th>flt_arrival_local_time</th><th>dur_min</th><th>tz_min</th><th>over_mn</th><th>dpt_4h_od</th><th>flt_count_dpt_24h</th><th>flt_count_dpt_4h</th><th>scaled_demand</th><th>scaled_share</th><th>origin_id</th><th>destination_id</th><th>flt_info_null</th><th>base_fare</th><th>log_fare</th><th>scaled_fare</th><th>7d_route_avg</th><th>14d_route_avg</th><th>7d_route_carrier_avg</th><th>days_since_start</th><th>flt_departure_month</th><th>flt_departure_day</th><th>flt_departure_week</th><th>flt_departure_weekday</th><th>dur_mean</th><th>pred_scaled_fare</th><th>pred_fare</th></tr><tr><td>str</td><td>i64</td><td>date</td><td>date</td><td>i64</td><td>i16</td><td>i8</td><td>u8</td><td>datetime[ns]</td><td>datetime[ns]</td><td>f64</td><td>i16</td><td>i8</td><td>i8</td><td>u8</td><td>i16</td><td>i64</td><td>i64</td><td>u8</td><td>u8</td><td>u8</td><td>f64</td><td>f64</td><td>f64</td><td>f64</td><td>f64</td><td>f64</td><td>i64</td><td>i8</td><td>i8</td><td>i8</td><td>i8</td><td>f64</td><td>f64</td><td>f64</td></tr></thead><tbody><tr><td>&quot;U1&quot;</td><td>6143</td><td>2018-01-01</td><td>2017-11-27</td><td>469</td><td>35</td><td>0</td><td>11</td><td>null</td><td>null</td><td>94.43</td><td>null</td><td>-1</td><td>-1</td><td>21</td><td>-1</td><td>null</td><td>null</td><td>7</td><td>3</td><td>1</td><td>2.755964</td><td>2.671173</td><td>-0.0308</td><td>1.0</td><td>1.0</td><td>1.0</td><td>0</td><td>1</td><td>1</td><td>1</td><td>1</td><td>94.43</td><td>-0.026428</td><td>482.090294</td></tr><tr><td>&quot;L1&quot;</td><td>5927</td><td>2018-01-01</td><td>2017-11-27</td><td>1119</td><td>35</td><td>0</td><td>1</td><td>2018-01-01 20:33:00</td><td>2018-01-01 23:50:00</td><td>197.0</td><td>-300</td><td>0</td><td>5</td><td>5</td><td>1</td><td>1468</td><td>360</td><td>1</td><td>5</td><td>0</td><td>2.991069</td><td>3.04883</td><td>0.0193</td><td>1.0</td><td>1.0</td><td>1.0</td><td>0</td><td>1</td><td>1</td><td>1</td><td>1</td><td>187.99</td><td>-0.03959</td><td>745.849752</td></tr><tr><td>&quot;L3&quot;</td><td>18075</td><td>2018-01-01</td><td>2017-11-27</td><td>422</td><td>35</td><td>0</td><td>6</td><td>2018-01-01 13:20:00</td><td>2018-01-01 14:35:00</td><td>75.0</td><td>-480</td><td>0</td><td>3</td><td>30</td><td>9</td><td>6659</td><td>228</td><td>4</td><td>3</td><td>0</td><td>2.733692</td><td>2.625312</td><td>-0.0396</td><td>1.0</td><td>1.0</td><td>1.0</td><td>0</td><td>1</td><td>1</td><td>1</td><td>1</td><td>78.38</td><td>0.004194</td><td>556.10393</td></tr><tr><td>&quot;OTH&quot;</td><td>2416</td><td>2018-01-01</td><td>2017-11-27</td><td>787</td><td>35</td><td>0</td><td>4</td><td>2018-01-01 20:22:00</td><td>2018-01-01 21:46:00</td><td>84.0</td><td>-480</td><td>0</td><td>5</td><td>30</td><td>4</td><td>6659</td><td>316</td><td>3</td><td>4</td><td>0</td><td>2.589739</td><td>2.895975</td><td>0.1182</td><td>1.0</td><td>1.0</td><td>1.0</td><td>0</td><td>1</td><td>1</td><td>1</td><td>1</td><td>81.52</td><td>-0.01839</td><td>348.427923</td></tr><tr><td>&quot;L3&quot;</td><td>18270</td><td>2018-01-01</td><td>2017-11-27</td><td>1298</td><td>35</td><td>0</td><td>4</td><td>2018-01-01 11:17:00</td><td>2018-01-01 12:40:00</td><td>83.0</td><td>-480</td><td>0</td><td>2</td><td>30</td><td>5</td><td>6659</td><td>231</td><td>3</td><td>4</td><td>0</td><td>2.763495</td><td>3.113275</td><td>0.1266</td><td>1.0</td><td>1.0</td><td>1.0</td><td>0</td><td>1</td><td>1</td><td>1</td><td>1</td><td>79.11</td><td>0.005888</td><td>602.237141</td></tr><tr><td>&quot;L1&quot;</td><td>1396</td><td>2018-01-01</td><td>2017-11-27</td><td>372</td><td>35</td><td>0</td><td>11</td><td>2018-01-01 19:35:00</td><td>2018-01-01 21:08:00</td><td>93.0</td><td>-480</td><td>0</td><td>4</td><td>21</td><td>7</td><td>6579</td><td>262</td><td>7</td><td>3</td><td>0</td><td>2.766269</td><td>2.570543</td><td>-0.0708</td><td>1.0</td><td>1.0</td><td>1.0</td><td>0</td><td>1</td><td>1</td><td>1</td><td>1</td><td>95.27</td><td>-0.03994</td><td>452.673849</td></tr><tr><td>&quot;U1&quot;</td><td>4771</td><td>2018-01-01</td><td>2017-11-27</td><td>513</td><td>35</td><td>0</td><td>4</td><td>null</td><td>null</td><td>80.14</td><td>null</td><td>-1</td><td>-1</td><td>30</td><td>-1</td><td>null</td><td>null</td><td>3</td><td>4</td><td>1</td><td>2.638819</td><td>2.710117</td><td>0.027</td><td>1.0</td><td>1.0</td><td>1.0</td><td>0</td><td>1</td><td>1</td><td>1</td><td>1</td><td>80.14</td><td>-0.002394</td><td>429.04332</td></tr><tr><td>&quot;OTH&quot;</td><td>4825</td><td>2018-01-01</td><td>2017-11-27</td><td>432</td><td>35</td><td>0</td><td>6</td><td>2018-01-01 12:55:00</td><td>2018-01-01 14:07:00</td><td>72.0</td><td>-480</td><td>0</td><td>3</td><td>30</td><td>9</td><td>6659</td><td>316</td><td>4</td><td>3</td><td>0</td><td>2.578117</td><td>2.635484</td><td>0.0223</td><td>1.0</td><td>1.0</td><td>1.0</td><td>0</td><td>1</td><td>1</td><td>1</td><td>1</td><td>71.32</td><td>0.006842</td><td>394.236079</td></tr><tr><td>&quot;OTH&quot;</td><td>6175</td><td>2018-01-01</td><td>2017-11-27</td><td>341</td><td>35</td><td>0</td><td>11</td><td>2018-01-01 18:55:00</td><td>2018-01-01 20:23:00</td><td>88.0</td><td>-480</td><td>0</td><td>4</td><td>21</td><td>7</td><td>6579</td><td>354</td><td>7</td><td>3</td><td>0</td><td>2.72979</td><td>2.532754</td><td>-0.0722</td><td>1.0</td><td>1.0</td><td>1.0</td><td>0</td><td>1</td><td>1</td><td>1</td><td>1</td><td>90.69</td><td>-0.036007</td><td>428.054695</td></tr><tr><td>&quot;U1&quot;</td><td>6187</td><td>2018-01-01</td><td>2017-11-27</td><td>341</td><td>35</td><td>0</td><td>11</td><td>null</td><td>null</td><td>94.43</td><td>null</td><td>-1</td><td>-1</td><td>21</td><td>-1</td><td>null</td><td>null</td><td>7</td><td>3</td><td>1</td><td>2.755964</td><td>2.532754</td><td>-0.081</td><td>1.0</td><td>1.0</td><td>1.0</td><td>0</td><td>1</td><td>1</td><td>1</td><td>1</td><td>94.43</td><td>-0.026428</td><td>482.090294</td></tr><tr><td>&hellip;</td><td>&hellip;</td><td>&hellip;</td><td>&hellip;</td><td>&hellip;</td><td>&hellip;</td><td>&hellip;</td><td>&hellip;</td><td>&hellip;</td><td>&hellip;</td><td>&hellip;</td><td>&hellip;</td><td>&hellip;</td><td>&hellip;</td><td>&hellip;</td><td>&hellip;</td><td>&hellip;</td><td>&hellip;</td><td>&hellip;</td><td>&hellip;</td><td>&hellip;</td><td>&hellip;</td><td>&hellip;</td><td>&hellip;</td><td>&hellip;</td><td>&hellip;</td><td>&hellip;</td><td>&hellip;</td><td>&hellip;</td><td>&hellip;</td><td>&hellip;</td><td>&hellip;</td><td>&hellip;</td><td>&hellip;</td><td>&hellip;</td></tr><tr><td>&quot;OTH&quot;</td><td>2972</td><td>2018-11-30</td><td>2018-11-30</td><td>696</td><td>0</td><td>0</td><td>6</td><td>2018-11-30 11:30:00</td><td>2018-11-30 12:43:00</td><td>73.0</td><td>-480</td><td>0</td><td>2</td><td>35</td><td>9</td><td>8086</td><td>264</td><td>4</td><td>3</td><td>0</td><td>2.578117</td><td>2.842609</td><td>0.1026</td><td>1.243868</td><td>1.324809</td><td>0.952421</td><td>333</td><td>11</td><td>30</td><td>48</td><td>5</td><td>71.32</td><td>0.083051</td><td>619.771213</td></tr><tr><td>&quot;L1&quot;</td><td>3437</td><td>2018-11-30</td><td>2018-11-30</td><td>2037</td><td>0</td><td>0</td><td>2</td><td>2018-11-30 18:18:00</td><td>2018-11-30 19:38:00</td><td>80.0</td><td>-360</td><td>0</td><td>4</td><td>8</td><td>3</td><td>2838</td><td>403</td><td>2</td><td>3</td><td>0</td><td>2.931838</td><td>3.308991</td><td>0.1286</td><td>0.991846</td><td>1.226841</td><td>0.952547</td><td>333</td><td>11</td><td>30</td><td>48</td><td>5</td><td>77.39</td><td>0.11154</td><td>1814.912623</td></tr><tr><td>&quot;L1&quot;</td><td>1992</td><td>2018-11-30</td><td>2018-11-30</td><td>1167</td><td>0</td><td>0</td><td>4</td><td>2018-11-30 18:53:00</td><td>2018-11-30 20:05:00</td><td>72.0</td><td>-480</td><td>0</td><td>4</td><td>35</td><td>10</td><td>8086</td><td>199</td><td>3</td><td>4</td><td>0</td><td>2.671029</td><td>3.067071</td><td>0.1483</td><td>1.211233</td><td>1.044012</td><td>0.928264</td><td>333</td><td>11</td><td>30</td><td>48</td><td>5</td><td>83.71</td><td>0.075384</td><td>745.387613</td></tr><tr><td>&quot;OTH&quot;</td><td>1075</td><td>2018-11-30</td><td>2018-11-30</td><td>1073</td><td>0</td><td>0</td><td>3</td><td>2018-11-30 18:45:00</td><td>2018-11-30 23:42:00</td><td>297.0</td><td>-480</td><td>0</td><td>4</td><td>8</td><td>1</td><td>2838</td><td>214</td><td>3</td><td>2</td><td>0</td><td>2.763481</td><td>3.0306</td><td>0.0967</td><td>1.081598</td><td>0.974624</td><td>1.150222</td><td>333</td><td>11</td><td>30</td><td>48</td><td>5</td><td>297.0</td><td>0.126715</td><td>1299.138463</td></tr><tr><td>&quot;L1&quot;</td><td>7136</td><td>2018-11-30</td><td>2018-11-30</td><td>1067</td><td>0</td><td>0</td><td>7</td><td>2018-11-30 19:49:00</td><td>2018-11-30 21:05:00</td><td>76.0</td><td>-360</td><td>0</td><td>4</td><td>10</td><td>4</td><td>3099</td><td>276</td><td>5</td><td>0</td><td>0</td><td>2.862502</td><td>3.028164</td><td>0.0579</td><td>1.195414</td><td>1.169753</td><td>1.273483</td><td>333</td><td>11</td><td>30</td><td>48</td><td>5</td><td>74.65</td><td>0.067462</td><td>1136.607627</td></tr><tr><td>&quot;U1&quot;</td><td>6178</td><td>2018-11-30</td><td>2018-11-30</td><td>1111</td><td>0</td><td>0</td><td>5</td><td>2018-11-30 18:55:00</td><td>2018-11-30 20:35:00</td><td>100.0</td><td>-480</td><td>0</td><td>4</td><td>22</td><td>7</td><td>6396</td><td>250</td><td>3</td><td>7</td><td>0</td><td>2.796569</td><td>3.045714</td><td>0.0891</td><td>1.087039</td><td>0.857126</td><td>1.077092</td><td>333</td><td>11</td><td>30</td><td>48</td><td>5</td><td>97.9</td><td>0.141408</td><td>1556.061406</td></tr><tr><td>&quot;L1&quot;</td><td>6294</td><td>2018-11-30</td><td>2018-11-30</td><td>2037</td><td>0</td><td>0</td><td>3</td><td>2018-11-30 14:03:00</td><td>2018-11-30 18:57:00</td><td>294.0</td><td>-480</td><td>0</td><td>3</td><td>8</td><td>4</td><td>2838</td><td>405</td><td>3</td><td>2</td><td>0</td><td>2.972533</td><td>3.308991</td><td>0.1132</td><td>1.081598</td><td>0.974624</td><td>1.046286</td><td>333</td><td>11</td><td>30</td><td>48</td><td>5</td><td>296.7</td><td>0.130443</td><td>2292.337828</td></tr><tr><td>&quot;L3&quot;</td><td>11152</td><td>2018-11-30</td><td>2018-11-30</td><td>1911</td><td>0</td><td>0</td><td>4</td><td>2018-11-30 16:45:00</td><td>2018-11-30 18:05:00</td><td>80.0</td><td>-480</td><td>0</td><td>4</td><td>35</td><td>10</td><td>8086</td><td>228</td><td>3</td><td>4</td><td>0</td><td>2.763495</td><td>3.281261</td><td>0.1874</td><td>1.211233</td><td>1.044012</td><td>1.672692</td><td>333</td><td>11</td><td>30</td><td>48</td><td>5</td><td>79.11</td><td>0.091776</td><td>1040.199784</td></tr><tr><td>&quot;L1&quot;</td><td>5701</td><td>2018-11-30</td><td>2018-11-30</td><td>2037</td><td>0</td><td>0</td><td>2</td><td>2018-11-30 21:59:00</td><td>2018-11-30 23:20:00</td><td>81.0</td><td>-360</td><td>0</td><td>5</td><td>8</td><td>1</td><td>2838</td><td>403</td><td>2</td><td>3</td><td>0</td><td>2.931838</td><td>3.308991</td><td>0.1286</td><td>0.991846</td><td>1.226841</td><td>0.952547</td><td>333</td><td>11</td><td>30</td><td>48</td><td>5</td><td>77.39</td><td>0.107999</td><td>1772.043283</td></tr><tr><td>&quot;L3&quot;</td><td>6523</td><td>2018-11-30</td><td>2018-11-30</td><td>1911</td><td>0</td><td>0</td><td>6</td><td>2018-11-30 21:15:00</td><td>2018-11-30 22:25:00</td><td>70.0</td><td>-480</td><td>0</td><td>5</td><td>35</td><td>5</td><td>8086</td><td>226</td><td>4</td><td>3</td><td>0</td><td>2.733692</td><td>3.281261</td><td>0.2003</td><td>1.243868</td><td>1.324809</td><td>1.735409</td><td>333</td><td>11</td><td>30</td><td>48</td><td>5</td><td>78.38</td><td>0.05812</td><td>780.858981</td></tr></tbody></table></div>"
      ],
      "text/plain": [
       "shape: (1_556_671, 35)\n",
       "┌─────────┬─────────┬────────────┬────────────┬───┬────────────┬──────────┬────────────┬───────────┐\n",
       "│ carrier ┆ flt_num ┆ flt_depart ┆ observatio ┆ … ┆ flt_depart ┆ dur_mean ┆ pred_scale ┆ pred_fare │\n",
       "│ ---     ┆ ---     ┆ ure_dt     ┆ n_date     ┆   ┆ ure_weekda ┆ ---      ┆ d_fare     ┆ ---       │\n",
       "│ str     ┆ i64     ┆ ---        ┆ ---        ┆   ┆ y          ┆ f64      ┆ ---        ┆ f64       │\n",
       "│         ┆         ┆ date       ┆ date       ┆   ┆ ---        ┆          ┆ f64        ┆           │\n",
       "│         ┆         ┆            ┆            ┆   ┆ i8         ┆          ┆            ┆           │\n",
       "╞═════════╪═════════╪════════════╪════════════╪═══╪════════════╪══════════╪════════════╪═══════════╡\n",
       "│ U1      ┆ 6143    ┆ 2018-01-01 ┆ 2017-11-27 ┆ … ┆ 1          ┆ 94.43    ┆ -0.026428  ┆ 482.09029 │\n",
       "│         ┆         ┆            ┆            ┆   ┆            ┆          ┆            ┆ 4         │\n",
       "│ L1      ┆ 5927    ┆ 2018-01-01 ┆ 2017-11-27 ┆ … ┆ 1          ┆ 187.99   ┆ -0.03959   ┆ 745.84975 │\n",
       "│         ┆         ┆            ┆            ┆   ┆            ┆          ┆            ┆ 2         │\n",
       "│ L3      ┆ 18075   ┆ 2018-01-01 ┆ 2017-11-27 ┆ … ┆ 1          ┆ 78.38    ┆ 0.004194   ┆ 556.10393 │\n",
       "│ OTH     ┆ 2416    ┆ 2018-01-01 ┆ 2017-11-27 ┆ … ┆ 1          ┆ 81.52    ┆ -0.01839   ┆ 348.42792 │\n",
       "│         ┆         ┆            ┆            ┆   ┆            ┆          ┆            ┆ 3         │\n",
       "│ L3      ┆ 18270   ┆ 2018-01-01 ┆ 2017-11-27 ┆ … ┆ 1          ┆ 79.11    ┆ 0.005888   ┆ 602.23714 │\n",
       "│         ┆         ┆            ┆            ┆   ┆            ┆          ┆            ┆ 1         │\n",
       "│ L1      ┆ 1396    ┆ 2018-01-01 ┆ 2017-11-27 ┆ … ┆ 1          ┆ 95.27    ┆ -0.03994   ┆ 452.67384 │\n",
       "│         ┆         ┆            ┆            ┆   ┆            ┆          ┆            ┆ 9         │\n",
       "│ U1      ┆ 4771    ┆ 2018-01-01 ┆ 2017-11-27 ┆ … ┆ 1          ┆ 80.14    ┆ -0.002394  ┆ 429.04332 │\n",
       "│ OTH     ┆ 4825    ┆ 2018-01-01 ┆ 2017-11-27 ┆ … ┆ 1          ┆ 71.32    ┆ 0.006842   ┆ 394.23607 │\n",
       "│         ┆         ┆            ┆            ┆   ┆            ┆          ┆            ┆ 9         │\n",
       "│ OTH     ┆ 6175    ┆ 2018-01-01 ┆ 2017-11-27 ┆ … ┆ 1          ┆ 90.69    ┆ -0.036007  ┆ 428.05469 │\n",
       "│         ┆         ┆            ┆            ┆   ┆            ┆          ┆            ┆ 5         │\n",
       "│ U1      ┆ 6187    ┆ 2018-01-01 ┆ 2017-11-27 ┆ … ┆ 1          ┆ 94.43    ┆ -0.026428  ┆ 482.09029 │\n",
       "│         ┆         ┆            ┆            ┆   ┆            ┆          ┆            ┆ 4         │\n",
       "│ …       ┆ …       ┆ …          ┆ …          ┆ … ┆ …          ┆ …        ┆ …          ┆ …         │\n",
       "│ OTH     ┆ 2972    ┆ 2018-11-30 ┆ 2018-11-30 ┆ … ┆ 5          ┆ 71.32    ┆ 0.083051   ┆ 619.77121 │\n",
       "│         ┆         ┆            ┆            ┆   ┆            ┆          ┆            ┆ 3         │\n",
       "│ L1      ┆ 3437    ┆ 2018-11-30 ┆ 2018-11-30 ┆ … ┆ 5          ┆ 77.39    ┆ 0.11154    ┆ 1814.9126 │\n",
       "│         ┆         ┆            ┆            ┆   ┆            ┆          ┆            ┆ 23        │\n",
       "│ L1      ┆ 1992    ┆ 2018-11-30 ┆ 2018-11-30 ┆ … ┆ 5          ┆ 83.71    ┆ 0.075384   ┆ 745.38761 │\n",
       "│         ┆         ┆            ┆            ┆   ┆            ┆          ┆            ┆ 3         │\n",
       "│ OTH     ┆ 1075    ┆ 2018-11-30 ┆ 2018-11-30 ┆ … ┆ 5          ┆ 297.0    ┆ 0.126715   ┆ 1299.1384 │\n",
       "│         ┆         ┆            ┆            ┆   ┆            ┆          ┆            ┆ 63        │\n",
       "│ L1      ┆ 7136    ┆ 2018-11-30 ┆ 2018-11-30 ┆ … ┆ 5          ┆ 74.65    ┆ 0.067462   ┆ 1136.6076 │\n",
       "│         ┆         ┆            ┆            ┆   ┆            ┆          ┆            ┆ 27        │\n",
       "│ U1      ┆ 6178    ┆ 2018-11-30 ┆ 2018-11-30 ┆ … ┆ 5          ┆ 97.9     ┆ 0.141408   ┆ 1556.0614 │\n",
       "│         ┆         ┆            ┆            ┆   ┆            ┆          ┆            ┆ 06        │\n",
       "│ L1      ┆ 6294    ┆ 2018-11-30 ┆ 2018-11-30 ┆ … ┆ 5          ┆ 296.7    ┆ 0.130443   ┆ 2292.3378 │\n",
       "│         ┆         ┆            ┆            ┆   ┆            ┆          ┆            ┆ 28        │\n",
       "│ L3      ┆ 11152   ┆ 2018-11-30 ┆ 2018-11-30 ┆ … ┆ 5          ┆ 79.11    ┆ 0.091776   ┆ 1040.1997 │\n",
       "│         ┆         ┆            ┆            ┆   ┆            ┆          ┆            ┆ 84        │\n",
       "│ L1      ┆ 5701    ┆ 2018-11-30 ┆ 2018-11-30 ┆ … ┆ 5          ┆ 77.39    ┆ 0.107999   ┆ 1772.0432 │\n",
       "│         ┆         ┆            ┆            ┆   ┆            ┆          ┆            ┆ 83        │\n",
       "│ L3      ┆ 6523    ┆ 2018-11-30 ┆ 2018-11-30 ┆ … ┆ 5          ┆ 78.38    ┆ 0.05812    ┆ 780.85898 │\n",
       "│         ┆         ┆            ┆            ┆   ┆            ┆          ┆            ┆ 1         │\n",
       "└─────────┴─────────┴────────────┴────────────┴───┴────────────┴──────────┴────────────┴───────────┘"
      ]
     },
     "execution_count": 41,
     "metadata": {},
     "output_type": "execute_result"
    }
   ],
   "source": [
    "train_df = train_df.with_columns(\n",
    "    pred_scaled_fare = best_model.predict(X_train)\n",
    ").with_columns(pred_fare_expr)\n",
    "\n",
    "train_df"
   ]
  },
  {
   "cell_type": "code",
   "execution_count": 42,
   "metadata": {},
   "outputs": [
    {
     "data": {
      "text/html": [
       "<div><style>\n",
       ".dataframe > thead > tr,\n",
       ".dataframe > tbody > tr {\n",
       "  text-align: right;\n",
       "  white-space: pre-wrap;\n",
       "}\n",
       "</style>\n",
       "<small>shape: (29_492, 35)</small><table border=\"1\" class=\"dataframe\"><thead><tr><th>carrier</th><th>flt_num</th><th>flt_departure_dt</th><th>observation_date</th><th>total_fare</th><th>days_till_flight</th><th>is_dst</th><th>route_id</th><th>flt_departure_local_time</th><th>flt_arrival_local_time</th><th>dur_min</th><th>tz_min</th><th>over_mn</th><th>dpt_4h_od</th><th>flt_count_dpt_24h</th><th>flt_count_dpt_4h</th><th>scaled_demand</th><th>scaled_share</th><th>origin_id</th><th>destination_id</th><th>flt_info_null</th><th>base_fare</th><th>log_fare</th><th>scaled_fare</th><th>7d_route_avg</th><th>14d_route_avg</th><th>7d_route_carrier_avg</th><th>days_since_start</th><th>flt_departure_month</th><th>flt_departure_day</th><th>flt_departure_week</th><th>flt_departure_weekday</th><th>dur_mean</th><th>pred_scaled_fare</th><th>pred_fare</th></tr><tr><td>str</td><td>i64</td><td>date</td><td>date</td><td>i64</td><td>i16</td><td>i8</td><td>u8</td><td>datetime[ns]</td><td>datetime[ns]</td><td>f64</td><td>i16</td><td>i8</td><td>i8</td><td>u8</td><td>i16</td><td>i64</td><td>i64</td><td>u8</td><td>u8</td><td>u8</td><td>f64</td><td>f64</td><td>f64</td><td>f64</td><td>f64</td><td>f64</td><td>i64</td><td>i8</td><td>i8</td><td>i8</td><td>i8</td><td>f64</td><td>f64</td><td>f64</td></tr></thead><tbody><tr><td>&quot;L2&quot;</td><td>7220</td><td>2018-12-01</td><td>2018-10-02</td><td>476</td><td>60</td><td>0</td><td>6</td><td>2018-12-01 10:15:00</td><td>2018-12-01 11:27:00</td><td>72.0</td><td>-480</td><td>0</td><td>2</td><td>32</td><td>9</td><td>7128</td><td>224</td><td>4</td><td>3</td><td>0</td><td>2.660753</td><td>2.677607</td><td>0.0063</td><td>1.179192</td><td>0.996404</td><td>0.931051</td><td>334</td><td>12</td><td>1</td><td>48</td><td>6</td><td>78.3</td><td>0.007373</td><td>479.039565</td></tr><tr><td>&quot;L2&quot;</td><td>4448</td><td>2018-12-01</td><td>2018-10-02</td><td>476</td><td>60</td><td>0</td><td>6</td><td>2018-12-01 08:40:00</td><td>2018-12-01 10:04:00</td><td>84.0</td><td>-480</td><td>0</td><td>2</td><td>32</td><td>9</td><td>7128</td><td>224</td><td>4</td><td>3</td><td>0</td><td>2.660753</td><td>2.677607</td><td>0.0063</td><td>1.179192</td><td>0.996404</td><td>0.931051</td><td>334</td><td>12</td><td>1</td><td>48</td><td>6</td><td>78.3</td><td>0.009538</td><td>485.434353</td></tr><tr><td>&quot;L2&quot;</td><td>7402</td><td>2018-12-01</td><td>2018-10-02</td><td>476</td><td>60</td><td>0</td><td>6</td><td>2018-12-01 14:10:00</td><td>2018-12-01 15:22:00</td><td>72.0</td><td>-480</td><td>0</td><td>3</td><td>32</td><td>9</td><td>7128</td><td>224</td><td>4</td><td>3</td><td>0</td><td>2.660753</td><td>2.677607</td><td>0.0063</td><td>1.179192</td><td>0.996404</td><td>0.931051</td><td>334</td><td>12</td><td>1</td><td>48</td><td>6</td><td>78.3</td><td>0.007373</td><td>479.039565</td></tr><tr><td>&quot;L2&quot;</td><td>2200</td><td>2018-12-01</td><td>2018-10-02</td><td>285</td><td>60</td><td>0</td><td>6</td><td>2018-12-01 19:50:00</td><td>2018-12-01 21:02:00</td><td>72.0</td><td>-480</td><td>0</td><td>4</td><td>32</td><td>10</td><td>7128</td><td>224</td><td>4</td><td>3</td><td>0</td><td>2.660753</td><td>2.454845</td><td>-0.0774</td><td>1.179192</td><td>0.996404</td><td>0.931051</td><td>334</td><td>12</td><td>1</td><td>48</td><td>6</td><td>78.3</td><td>-0.013223</td><td>422.250982</td></tr><tr><td>&quot;L2&quot;</td><td>8903</td><td>2018-12-01</td><td>2018-10-02</td><td>285</td><td>60</td><td>0</td><td>6</td><td>2018-12-01 22:45:00</td><td>2018-12-02 00:02:00</td><td>77.0</td><td>-480</td><td>1</td><td>5</td><td>32</td><td>1</td><td>7128</td><td>224</td><td>4</td><td>3</td><td>0</td><td>2.660753</td><td>2.454845</td><td>-0.0774</td><td>1.179192</td><td>0.996404</td><td>0.931051</td><td>334</td><td>12</td><td>1</td><td>48</td><td>6</td><td>78.3</td><td>-0.030263</td><td>380.391492</td></tr><tr><td>&quot;L2&quot;</td><td>5041</td><td>2018-12-01</td><td>2018-10-02</td><td>476</td><td>60</td><td>0</td><td>6</td><td>2018-12-01 12:40:00</td><td>2018-12-01 13:52:00</td><td>72.0</td><td>-480</td><td>0</td><td>3</td><td>32</td><td>9</td><td>7128</td><td>224</td><td>4</td><td>3</td><td>0</td><td>2.660753</td><td>2.677607</td><td>0.0063</td><td>1.179192</td><td>0.996404</td><td>0.931051</td><td>334</td><td>12</td><td>1</td><td>48</td><td>6</td><td>78.3</td><td>0.007373</td><td>479.039565</td></tr><tr><td>&quot;L2&quot;</td><td>1732</td><td>2018-12-01</td><td>2018-10-02</td><td>395</td><td>60</td><td>0</td><td>6</td><td>2018-12-01 16:50:00</td><td>2018-12-01 18:02:00</td><td>72.0</td><td>-480</td><td>0</td><td>4</td><td>32</td><td>10</td><td>7128</td><td>224</td><td>4</td><td>3</td><td>0</td><td>2.660753</td><td>2.596597</td><td>-0.0241</td><td>1.179192</td><td>0.996404</td><td>0.931051</td><td>334</td><td>12</td><td>1</td><td>48</td><td>6</td><td>78.3</td><td>-0.013223</td><td>422.250982</td></tr><tr><td>&quot;L1&quot;</td><td>5927</td><td>2018-12-01</td><td>2018-10-05</td><td>530</td><td>57</td><td>0</td><td>1</td><td>2018-12-01 20:30:00</td><td>2018-12-01 23:37:00</td><td>187.0</td><td>-300</td><td>0</td><td>5</td><td>4</td><td>1</td><td>2164</td><td>373</td><td>1</td><td>5</td><td>0</td><td>2.991069</td><td>2.724276</td><td>-0.0892</td><td>1.68593</td><td>0.848971</td><td>1.68593</td><td>334</td><td>12</td><td>1</td><td>48</td><td>6</td><td>187.99</td><td>-0.053019</td><td>679.96145</td></tr><tr><td>&quot;L1&quot;</td><td>11158</td><td>2018-12-01</td><td>2018-10-05</td><td>800</td><td>57</td><td>0</td><td>1</td><td>2018-12-01 12:03:00</td><td>2018-12-01 15:20:00</td><td>197.0</td><td>-300</td><td>0</td><td>3</td><td>4</td><td>1</td><td>2164</td><td>373</td><td>1</td><td>5</td><td>0</td><td>2.991069</td><td>2.90309</td><td>-0.0294</td><td>1.68593</td><td>0.848971</td><td>1.68593</td><td>334</td><td>12</td><td>1</td><td>48</td><td>6</td><td>187.99</td><td>-0.034505</td><td>772.436935</td></tr><tr><td>&quot;L1&quot;</td><td>7431</td><td>2018-12-01</td><td>2018-10-05</td><td>737</td><td>57</td><td>0</td><td>1</td><td>2018-12-01 07:29:00</td><td>2018-12-01 10:36:00</td><td>187.0</td><td>-300</td><td>0</td><td>1</td><td>4</td><td>1</td><td>2164</td><td>373</td><td>1</td><td>5</td><td>0</td><td>2.991069</td><td>2.867467</td><td>-0.0413</td><td>1.68593</td><td>0.848971</td><td>1.68593</td><td>334</td><td>12</td><td>1</td><td>48</td><td>6</td><td>187.99</td><td>-0.053557</td><td>677.448085</td></tr><tr><td>&hellip;</td><td>&hellip;</td><td>&hellip;</td><td>&hellip;</td><td>&hellip;</td><td>&hellip;</td><td>&hellip;</td><td>&hellip;</td><td>&hellip;</td><td>&hellip;</td><td>&hellip;</td><td>&hellip;</td><td>&hellip;</td><td>&hellip;</td><td>&hellip;</td><td>&hellip;</td><td>&hellip;</td><td>&hellip;</td><td>&hellip;</td><td>&hellip;</td><td>&hellip;</td><td>&hellip;</td><td>&hellip;</td><td>&hellip;</td><td>&hellip;</td><td>&hellip;</td><td>&hellip;</td><td>&hellip;</td><td>&hellip;</td><td>&hellip;</td><td>&hellip;</td><td>&hellip;</td><td>&hellip;</td><td>&hellip;</td><td>&hellip;</td></tr><tr><td>&quot;U1&quot;</td><td>6250</td><td>2018-12-07</td><td>2018-12-07</td><td>1283</td><td>0</td><td>0</td><td>11</td><td>2018-12-07 19:35:00</td><td>2018-12-07 21:09:00</td><td>94.0</td><td>-480</td><td>0</td><td>4</td><td>22</td><td>6</td><td>5817</td><td>253</td><td>7</td><td>3</td><td>0</td><td>2.755964</td><td>3.108227</td><td>0.1278</td><td>1.167987</td><td>0.932419</td><td>1.253507</td><td>340</td><td>12</td><td>7</td><td>49</td><td>5</td><td>94.43</td><td>0.131465</td><td>1313.038225</td></tr><tr><td>&quot;L1&quot;</td><td>6278</td><td>2018-12-07</td><td>2018-12-07</td><td>1067</td><td>0</td><td>0</td><td>0</td><td>2018-12-07 15:30:00</td><td>2018-12-07 18:35:00</td><td>185.0</td><td>-420</td><td>0</td><td>3</td><td>10</td><td>4</td><td>3070</td><td>281</td><td>0</td><td>5</td><td>0</td><td>2.877514</td><td>3.028164</td><td>0.0524</td><td>0.736157</td><td>1.055912</td><td>0.743854</td><td>340</td><td>12</td><td>7</td><td>49</td><td>5</td><td>190.82</td><td>0.073217</td><td>1225.170331</td></tr><tr><td>&quot;L3&quot;</td><td>11152</td><td>2018-12-07</td><td>2018-12-07</td><td>671</td><td>0</td><td>0</td><td>4</td><td>2018-12-07 16:45:00</td><td>2018-12-07 18:05:00</td><td>80.0</td><td>-480</td><td>0</td><td>4</td><td>35</td><td>10</td><td>7128</td><td>231</td><td>3</td><td>4</td><td>0</td><td>2.763495</td><td>2.826723</td><td>0.0229</td><td>2.362383</td><td>1.211233</td><td>2.909392</td><td>340</td><td>12</td><td>7</td><td>49</td><td>5</td><td>79.11</td><td>0.104689</td><td>1129.282148</td></tr><tr><td>&quot;L1&quot;</td><td>2997</td><td>2018-12-07</td><td>2018-12-07</td><td>1346</td><td>0</td><td>0</td><td>8</td><td>2018-12-07 11:34:00</td><td>2018-12-07 16:10:00</td><td>276.0</td><td>-360</td><td>0</td><td>2</td><td>4</td><td>1</td><td>2164</td><td>373</td><td>5</td><td>1</td><td>0</td><td>3.021101</td><td>3.129045</td><td>0.0357</td><td>0.633902</td><td>0.768974</td><td>0.633902</td><td>340</td><td>12</td><td>7</td><td>49</td><td>5</td><td>278.19</td><td>0.061052</td><td>1605.256718</td></tr><tr><td>&quot;L1&quot;</td><td>1176</td><td>2018-12-07</td><td>2018-12-07</td><td>395</td><td>0</td><td>0</td><td>4</td><td>2018-12-07 06:05:00</td><td>2018-12-07 07:21:00</td><td>76.0</td><td>-480</td><td>0</td><td>1</td><td>35</td><td>6</td><td>7128</td><td>189</td><td>3</td><td>4</td><td>0</td><td>2.671029</td><td>2.596597</td><td>-0.0279</td><td>2.362383</td><td>1.211233</td><td>2.625553</td><td>340</td><td>12</td><td>7</td><td>49</td><td>5</td><td>83.71</td><td>0.09361</td><td>833.802106</td></tr><tr><td>&quot;U1&quot;</td><td>6162</td><td>2018-12-07</td><td>2018-12-07</td><td>1111</td><td>0</td><td>0</td><td>11</td><td>2018-12-07 16:20:00</td><td>2018-12-07 17:54:00</td><td>94.0</td><td>-480</td><td>0</td><td>4</td><td>22</td><td>6</td><td>5817</td><td>253</td><td>7</td><td>3</td><td>0</td><td>2.755964</td><td>3.045714</td><td>0.1051</td><td>1.167987</td><td>0.932419</td><td>1.253507</td><td>340</td><td>12</td><td>7</td><td>49</td><td>5</td><td>94.43</td><td>0.131465</td><td>1313.038225</td></tr><tr><td>&quot;U1&quot;</td><td>6128</td><td>2018-12-07</td><td>2018-12-07</td><td>1111</td><td>0</td><td>0</td><td>5</td><td>2018-12-07 09:35:00</td><td>2018-12-07 11:12:00</td><td>97.0</td><td>-480</td><td>0</td><td>2</td><td>22</td><td>6</td><td>5817</td><td>252</td><td>3</td><td>7</td><td>0</td><td>2.796569</td><td>3.045714</td><td>0.0891</td><td>2.33368</td><td>1.087039</td><td>1.602604</td><td>340</td><td>12</td><td>7</td><td>49</td><td>5</td><td>97.9</td><td>0.144574</td><td>1588.110146</td></tr><tr><td>&quot;L1&quot;</td><td>5701</td><td>2018-12-07</td><td>2018-12-07</td><td>2037</td><td>0</td><td>0</td><td>2</td><td>2018-12-07 21:59:00</td><td>2018-12-07 23:20:00</td><td>81.0</td><td>-360</td><td>0</td><td>5</td><td>8</td><td>1</td><td>2790</td><td>405</td><td>2</td><td>3</td><td>0</td><td>2.931838</td><td>3.308991</td><td>0.1286</td><td>1.040541</td><td>0.991846</td><td>0.963441</td><td>340</td><td>12</td><td>7</td><td>49</td><td>5</td><td>77.39</td><td>0.114172</td><td>1847.448576</td></tr><tr><td>&quot;L2&quot;</td><td>5274</td><td>2018-12-07</td><td>2018-12-07</td><td>1742</td><td>0</td><td>0</td><td>9</td><td>2018-12-07 11:03:00</td><td>2018-12-07 13:44:00</td><td>161.0</td><td>-360</td><td>0</td><td>2</td><td>7</td><td>3</td><td>1618</td><td>310</td><td>5</td><td>6</td><td>0</td><td>2.945677</td><td>3.241048</td><td>0.1003</td><td>0.916825</td><td>0.919801</td><td>0.960292</td><td>340</td><td>12</td><td>7</td><td>49</td><td>5</td><td>164.45</td><td>0.106074</td><td>1811.910152</td></tr><tr><td>&quot;L1&quot;</td><td>6517</td><td>2018-12-07</td><td>2018-12-07</td><td>1346</td><td>0</td><td>0</td><td>8</td><td>2018-12-07 16:15:00</td><td>2018-12-07 20:52:00</td><td>277.0</td><td>-360</td><td>0</td><td>4</td><td>4</td><td>1</td><td>2164</td><td>373</td><td>5</td><td>1</td><td>0</td><td>3.021101</td><td>3.129045</td><td>0.0357</td><td>0.633902</td><td>0.768974</td><td>0.633902</td><td>340</td><td>12</td><td>7</td><td>49</td><td>5</td><td>278.19</td><td>0.062285</td><td>1619.089215</td></tr></tbody></table></div>"
      ],
      "text/plain": [
       "shape: (29_492, 35)\n",
       "┌─────────┬─────────┬────────────┬────────────┬───┬────────────┬──────────┬────────────┬───────────┐\n",
       "│ carrier ┆ flt_num ┆ flt_depart ┆ observatio ┆ … ┆ flt_depart ┆ dur_mean ┆ pred_scale ┆ pred_fare │\n",
       "│ ---     ┆ ---     ┆ ure_dt     ┆ n_date     ┆   ┆ ure_weekda ┆ ---      ┆ d_fare     ┆ ---       │\n",
       "│ str     ┆ i64     ┆ ---        ┆ ---        ┆   ┆ y          ┆ f64      ┆ ---        ┆ f64       │\n",
       "│         ┆         ┆ date       ┆ date       ┆   ┆ ---        ┆          ┆ f64        ┆           │\n",
       "│         ┆         ┆            ┆            ┆   ┆ i8         ┆          ┆            ┆           │\n",
       "╞═════════╪═════════╪════════════╪════════════╪═══╪════════════╪══════════╪════════════╪═══════════╡\n",
       "│ L2      ┆ 7220    ┆ 2018-12-01 ┆ 2018-10-02 ┆ … ┆ 6          ┆ 78.3     ┆ 0.007373   ┆ 479.03956 │\n",
       "│         ┆         ┆            ┆            ┆   ┆            ┆          ┆            ┆ 5         │\n",
       "│ L2      ┆ 4448    ┆ 2018-12-01 ┆ 2018-10-02 ┆ … ┆ 6          ┆ 78.3     ┆ 0.009538   ┆ 485.43435 │\n",
       "│         ┆         ┆            ┆            ┆   ┆            ┆          ┆            ┆ 3         │\n",
       "│ L2      ┆ 7402    ┆ 2018-12-01 ┆ 2018-10-02 ┆ … ┆ 6          ┆ 78.3     ┆ 0.007373   ┆ 479.03956 │\n",
       "│         ┆         ┆            ┆            ┆   ┆            ┆          ┆            ┆ 5         │\n",
       "│ L2      ┆ 2200    ┆ 2018-12-01 ┆ 2018-10-02 ┆ … ┆ 6          ┆ 78.3     ┆ -0.013223  ┆ 422.25098 │\n",
       "│         ┆         ┆            ┆            ┆   ┆            ┆          ┆            ┆ 2         │\n",
       "│ L2      ┆ 8903    ┆ 2018-12-01 ┆ 2018-10-02 ┆ … ┆ 6          ┆ 78.3     ┆ -0.030263  ┆ 380.39149 │\n",
       "│         ┆         ┆            ┆            ┆   ┆            ┆          ┆            ┆ 2         │\n",
       "│ L2      ┆ 5041    ┆ 2018-12-01 ┆ 2018-10-02 ┆ … ┆ 6          ┆ 78.3     ┆ 0.007373   ┆ 479.03956 │\n",
       "│         ┆         ┆            ┆            ┆   ┆            ┆          ┆            ┆ 5         │\n",
       "│ L2      ┆ 1732    ┆ 2018-12-01 ┆ 2018-10-02 ┆ … ┆ 6          ┆ 78.3     ┆ -0.013223  ┆ 422.25098 │\n",
       "│         ┆         ┆            ┆            ┆   ┆            ┆          ┆            ┆ 2         │\n",
       "│ L1      ┆ 5927    ┆ 2018-12-01 ┆ 2018-10-05 ┆ … ┆ 6          ┆ 187.99   ┆ -0.053019  ┆ 679.96145 │\n",
       "│ L1      ┆ 11158   ┆ 2018-12-01 ┆ 2018-10-05 ┆ … ┆ 6          ┆ 187.99   ┆ -0.034505  ┆ 772.43693 │\n",
       "│         ┆         ┆            ┆            ┆   ┆            ┆          ┆            ┆ 5         │\n",
       "│ L1      ┆ 7431    ┆ 2018-12-01 ┆ 2018-10-05 ┆ … ┆ 6          ┆ 187.99   ┆ -0.053557  ┆ 677.44808 │\n",
       "│         ┆         ┆            ┆            ┆   ┆            ┆          ┆            ┆ 5         │\n",
       "│ …       ┆ …       ┆ …          ┆ …          ┆ … ┆ …          ┆ …        ┆ …          ┆ …         │\n",
       "│ U1      ┆ 6250    ┆ 2018-12-07 ┆ 2018-12-07 ┆ … ┆ 5          ┆ 94.43    ┆ 0.131465   ┆ 1313.0382 │\n",
       "│         ┆         ┆            ┆            ┆   ┆            ┆          ┆            ┆ 25        │\n",
       "│ L1      ┆ 6278    ┆ 2018-12-07 ┆ 2018-12-07 ┆ … ┆ 5          ┆ 190.82   ┆ 0.073217   ┆ 1225.1703 │\n",
       "│         ┆         ┆            ┆            ┆   ┆            ┆          ┆            ┆ 31        │\n",
       "│ L3      ┆ 11152   ┆ 2018-12-07 ┆ 2018-12-07 ┆ … ┆ 5          ┆ 79.11    ┆ 0.104689   ┆ 1129.2821 │\n",
       "│         ┆         ┆            ┆            ┆   ┆            ┆          ┆            ┆ 48        │\n",
       "│ L1      ┆ 2997    ┆ 2018-12-07 ┆ 2018-12-07 ┆ … ┆ 5          ┆ 278.19   ┆ 0.061052   ┆ 1605.2567 │\n",
       "│         ┆         ┆            ┆            ┆   ┆            ┆          ┆            ┆ 18        │\n",
       "│ L1      ┆ 1176    ┆ 2018-12-07 ┆ 2018-12-07 ┆ … ┆ 5          ┆ 83.71    ┆ 0.09361    ┆ 833.80210 │\n",
       "│         ┆         ┆            ┆            ┆   ┆            ┆          ┆            ┆ 6         │\n",
       "│ U1      ┆ 6162    ┆ 2018-12-07 ┆ 2018-12-07 ┆ … ┆ 5          ┆ 94.43    ┆ 0.131465   ┆ 1313.0382 │\n",
       "│         ┆         ┆            ┆            ┆   ┆            ┆          ┆            ┆ 25        │\n",
       "│ U1      ┆ 6128    ┆ 2018-12-07 ┆ 2018-12-07 ┆ … ┆ 5          ┆ 97.9     ┆ 0.144574   ┆ 1588.1101 │\n",
       "│         ┆         ┆            ┆            ┆   ┆            ┆          ┆            ┆ 46        │\n",
       "│ L1      ┆ 5701    ┆ 2018-12-07 ┆ 2018-12-07 ┆ … ┆ 5          ┆ 77.39    ┆ 0.114172   ┆ 1847.4485 │\n",
       "│         ┆         ┆            ┆            ┆   ┆            ┆          ┆            ┆ 76        │\n",
       "│ L2      ┆ 5274    ┆ 2018-12-07 ┆ 2018-12-07 ┆ … ┆ 5          ┆ 164.45   ┆ 0.106074   ┆ 1811.9101 │\n",
       "│         ┆         ┆            ┆            ┆   ┆            ┆          ┆            ┆ 52        │\n",
       "│ L1      ┆ 6517    ┆ 2018-12-07 ┆ 2018-12-07 ┆ … ┆ 5          ┆ 278.19   ┆ 0.062285   ┆ 1619.0892 │\n",
       "│         ┆         ┆            ┆            ┆   ┆            ┆          ┆            ┆ 15        │\n",
       "└─────────┴─────────┴────────────┴────────────┴───┴────────────┴──────────┴────────────┴───────────┘"
      ]
     },
     "execution_count": 42,
     "metadata": {},
     "output_type": "execute_result"
    }
   ],
   "source": [
    "val_df = val_df.with_columns(\n",
    "    pred_scaled_fare = best_model.predict(X_val)\n",
    ").with_columns(pred_fare_expr)\n",
    "\n",
    "val_df"
   ]
  },
  {
   "cell_type": "code",
   "execution_count": 43,
   "metadata": {},
   "outputs": [
    {
     "data": {
      "image/png": "[encoded data removed]",
      "text/plain": [
       "<Figure size 960x600 with 1 Axes>"
      ]
     },
     "metadata": {},
     "output_type": "display_data"
    }
   ],
   "source": [
    "plt.figure(figsize = (8, 5), dpi = 120)\n",
    "sns.lineplot(\n",
    "    data = val_df.group_by('flt_departure_dt').agg(pl.col('total_fare').mean()), \n",
    "    x = \"flt_departure_dt\", \n",
    "    y = \"total_fare\",\n",
    "    label = \"Actual fare\"\n",
    ")\n",
    "\n",
    "sns.lineplot(\n",
    "    data = val_df.group_by('flt_departure_dt').agg(pl.col('pred_fare').mean()), \n",
    "    x = \"flt_departure_dt\", \n",
    "    y = \"pred_fare\",\n",
    "    label = \"Predicted fare\"\n",
    ")\n",
    "\n",
    "locs, labels = plt.xticks()\n",
    "plt.xticks(\n",
    "    locs,\n",
    "    [l.get_text() for l in labels],\n",
    "    rotation = 30,\n",
    "    fontsize = 8\n",
    ")\n",
    "\n",
    "plt.legend()\n",
    "plt.title(\"GBR - Val predictions\", fontsize = 16)\n",
    "plt.xlabel(\"Flight departure date\", fontsize = 14)\n",
    "plt.ylabel(\"Total fare\", fontsize = 14)\n",
    "plt.show()"
   ]
  },
  {
   "cell_type": "code",
   "execution_count": 44,
   "metadata": {},
   "outputs": [
    {
     "data": {
      "image/png": "[encoded data removed]",
      "text/plain": [
       "<Figure size 960x600 with 1 Axes>"
      ]
     },
     "metadata": {},
     "output_type": "display_data"
    }
   ],
   "source": [
    "plt.figure(figsize = (8, 5), dpi = 120)\n",
    "sns.kdeplot(\n",
    "    val_df['total_fare'] - val_df['pred_fare']\n",
    ")\n",
    "plt.title(\"GBR - Density of val residuals\", fontsize = 16)\n",
    "plt.xlabel(\"Fare error\", fontsize = 14)\n",
    "plt.ylabel(\"Density\", fontsize = 14)\n",
    "plt.show()"
   ]
  },
  {
   "cell_type": "markdown",
   "metadata": {},
   "source": [
    "### Metrics"
   ]
  },
  {
   "cell_type": "markdown",
   "metadata": {},
   "source": [
    "#### Overall"
   ]
  },
  {
   "cell_type": "code",
   "execution_count": 45,
   "metadata": {},
   "outputs": [
    {
     "name": "stdout",
     "output_type": "stream",
     "text": [
      "Train - GBR\n",
      "RMSE: 324.3798\n",
      "MAE: 156.2625\n",
      "R2: 51.557%\n",
      "Max error: 5349.8381\n",
      "\n",
      "Val - GBR\n",
      "RMSE: 296.2643\n",
      "MAE: 162.2268\n",
      "R2: 51.847%\n",
      "Max error: 7321.3755\n",
      "\n"
     ]
    }
   ],
   "source": [
    "print_metrics(\n",
    "    train_df['total_fare'], train_df['pred_fare'],\n",
    "    label = 'Train - GBR'\n",
    ")\n",
    "\n",
    "print_metrics(\n",
    "    val_df['total_fare'], val_df['pred_fare'],\n",
    "    label = 'Val - GBR'\n",
    ")"
   ]
  },
  {
   "cell_type": "markdown",
   "metadata": {},
   "source": [
    "#### By carrier"
   ]
  },
  {
   "cell_type": "code",
   "execution_count": 46,
   "metadata": {},
   "outputs": [
    {
     "name": "stdout",
     "output_type": "stream",
     "text": [
      "Val - Carrier U3\n",
      "RMSE: 174.6003\n",
      "MAE: 117.0481\n",
      "R2: 29.273%\n",
      "Max error: 1324.2239\n",
      "\n",
      "Val - Carrier OTH\n",
      "RMSE: 154.4804\n",
      "MAE: 89.2614\n",
      "R2: 59.760%\n",
      "Max error: 1426.2325\n",
      "\n",
      "Val - Carrier L3\n",
      "RMSE: 433.1739\n",
      "MAE: 243.6964\n",
      "R2: 12.978%\n",
      "Max error: 2125.0514\n",
      "\n",
      "Val - Carrier U1\n",
      "RMSE: 171.5753\n",
      "MAE: 97.7006\n",
      "R2: 64.697%\n",
      "Max error: 1457.1596\n",
      "\n",
      "Val - Carrier L1\n",
      "RMSE: 369.7344\n",
      "MAE: 185.7305\n",
      "R2: 52.732%\n",
      "Max error: 5349.8381\n",
      "\n",
      "Val - Carrier L2\n",
      "RMSE: 315.9585\n",
      "MAE: 120.8453\n",
      "R2: 50.674%\n",
      "Max error: 4234.6431\n",
      "\n"
     ]
    }
   ],
   "source": [
    "for carrier, df in train_df.group_by(['carrier']):\n",
    "    print_metrics(\n",
    "        df['total_fare'], df['pred_fare'],\n",
    "        label = f'Val - Carrier {carrier[0]}'\n",
    "    )"
   ]
  },
  {
   "cell_type": "code",
   "execution_count": 47,
   "metadata": {},
   "outputs": [
    {
     "name": "stdout",
     "output_type": "stream",
     "text": [
      "Val - Carrier L1\n",
      "RMSE: 268.1917\n",
      "MAE: 179.7084\n",
      "R2: 61.719%\n",
      "Max error: 2558.4547\n",
      "\n",
      "Val - Carrier U3\n",
      "RMSE: 181.9219\n",
      "MAE: 130.8621\n",
      "R2: -432.798%\n",
      "Max error: 591.3549\n",
      "\n",
      "Val - Carrier L3\n",
      "RMSE: 489.8773\n",
      "MAE: 280.4268\n",
      "R2: 12.392%\n",
      "Max error: 1987.1045\n",
      "\n",
      "Val - Carrier U1\n",
      "RMSE: 148.4836\n",
      "MAE: 103.2294\n",
      "R2: 72.128%\n",
      "Max error: 1058.8006\n",
      "\n",
      "Val - Carrier L2\n",
      "RMSE: 167.0693\n",
      "MAE: 107.7207\n",
      "R2: 79.891%\n",
      "Max error: 2291.2357\n",
      "\n",
      "Val - Carrier OTH\n",
      "RMSE: 469.5526\n",
      "MAE: 126.5230\n",
      "R2: 14.637%\n",
      "Max error: 7321.3755\n",
      "\n"
     ]
    }
   ],
   "source": [
    "for carrier, df in val_df.group_by(['carrier']):\n",
    "    print_metrics(\n",
    "        df['total_fare'], df['pred_fare'],\n",
    "        label = f'Val - Carrier {carrier[0]}'\n",
    "    )"
   ]
  },
  {
   "cell_type": "markdown",
   "metadata": {},
   "source": [
    "#### By route"
   ]
  },
  {
   "cell_type": "code",
   "execution_count": 48,
   "metadata": {},
   "outputs": [
    {
     "name": "stdout",
     "output_type": "stream",
     "text": [
      "Val - Route 0\n",
      "RMSE: 372.9809\n",
      "MAE: 190.5064\n",
      "R2: 33.062%\n",
      "Max error: 4671.0631\n",
      "\n",
      "Val - Route 3\n",
      "RMSE: 322.9884\n",
      "MAE: 200.3776\n",
      "R2: 65.338%\n",
      "Max error: 3699.5345\n",
      "\n",
      "Val - Route 6\n",
      "RMSE: 290.2993\n",
      "MAE: 128.4736\n",
      "R2: 22.801%\n",
      "Max error: 4147.0707\n",
      "\n",
      "Val - Route 9\n",
      "RMSE: 350.4191\n",
      "MAE: 164.4591\n",
      "R2: 56.313%\n",
      "Max error: 4030.2883\n",
      "\n",
      "Val - Route 4\n",
      "RMSE: 344.1222\n",
      "MAE: 155.8250\n",
      "R2: 20.733%\n",
      "Max error: 4234.6431\n",
      "\n",
      "Val - Route 10\n",
      "RMSE: 339.0174\n",
      "MAE: 165.3762\n",
      "R2: 60.957%\n",
      "Max error: 3527.6575\n",
      "\n",
      "Val - Route 1\n",
      "RMSE: 496.2161\n",
      "MAE: 244.8044\n",
      "R2: 35.631%\n",
      "Max error: 4798.8304\n",
      "\n",
      "Val - Route 7\n",
      "RMSE: 397.8392\n",
      "MAE: 194.7486\n",
      "R2: 28.836%\n",
      "Max error: 5349.8381\n",
      "\n",
      "Val - Route 2\n",
      "RMSE: 314.2664\n",
      "MAE: 200.3059\n",
      "R2: 60.282%\n",
      "Max error: 4335.0057\n",
      "\n",
      "Val - Route 11\n",
      "RMSE: 242.5002\n",
      "MAE: 123.6262\n",
      "R2: 47.209%\n",
      "Max error: 3686.7430\n",
      "\n",
      "Val - Route 5\n",
      "RMSE: 274.5072\n",
      "MAE: 139.6230\n",
      "R2: 51.885%\n",
      "Max error: 3206.4001\n",
      "\n",
      "Val - Route 8\n",
      "RMSE: 540.2566\n",
      "MAE: 286.3444\n",
      "R2: 31.700%\n",
      "Max error: 4624.5581\n",
      "\n"
     ]
    }
   ],
   "source": [
    "for route_id, df in train_df.group_by(['route_id']):\n",
    "    print_metrics(\n",
    "        df['total_fare'], df['pred_fare'],\n",
    "        label = f'Val - Route {route_id[0]}'\n",
    "    )"
   ]
  },
  {
   "cell_type": "code",
   "execution_count": 49,
   "metadata": {},
   "outputs": [
    {
     "name": "stdout",
     "output_type": "stream",
     "text": [
      "Val - Route 6\n",
      "RMSE: 354.5555\n",
      "MAE: 150.6395\n",
      "R2: 17.079%\n",
      "Max error: 7304.3440\n",
      "\n",
      "Val - Route 0\n",
      "RMSE: 224.7743\n",
      "MAE: 161.3539\n",
      "R2: 25.132%\n",
      "Max error: 1005.9776\n",
      "\n",
      "Val - Route 3\n",
      "RMSE: 262.6364\n",
      "MAE: 188.4083\n",
      "R2: 71.220%\n",
      "Max error: 1059.3702\n",
      "\n",
      "Val - Route 9\n",
      "RMSE: 129.1479\n",
      "MAE: 99.8007\n",
      "R2: 92.226%\n",
      "Max error: 395.3674\n",
      "\n",
      "Val - Route 1\n",
      "RMSE: 260.1469\n",
      "MAE: 190.0605\n",
      "R2: -1.142%\n",
      "Max error: 882.7333\n",
      "\n",
      "Val - Route 4\n",
      "RMSE: 359.9035\n",
      "MAE: 174.8356\n",
      "R2: 21.609%\n",
      "Max error: 7321.3755\n",
      "\n",
      "Val - Route 10\n",
      "RMSE: 127.5997\n",
      "MAE: 94.9096\n",
      "R2: 92.152%\n",
      "Max error: 680.4383\n",
      "\n",
      "Val - Route 7\n",
      "RMSE: 222.6836\n",
      "MAE: 156.1755\n",
      "R2: 14.179%\n",
      "Max error: 1022.1092\n",
      "\n",
      "Val - Route 2\n",
      "RMSE: 458.8553\n",
      "MAE: 328.3271\n",
      "R2: 37.745%\n",
      "Max error: 2558.4547\n",
      "\n",
      "Val - Route 5\n",
      "RMSE: 234.9499\n",
      "MAE: 172.7725\n",
      "R2: 57.752%\n",
      "Max error: 2270.3040\n",
      "\n",
      "Val - Route 11\n",
      "RMSE: 118.2386\n",
      "MAE: 90.9019\n",
      "R2: 83.046%\n",
      "Max error: 930.3414\n",
      "\n",
      "Val - Route 8\n",
      "RMSE: 315.6454\n",
      "MAE: 256.3836\n",
      "R2: -12.549%\n",
      "Max error: 708.4974\n",
      "\n"
     ]
    }
   ],
   "source": [
    "for route_id, df in val_df.group_by(['route_id']):\n",
    "    print_metrics(\n",
    "        df['total_fare'], df['pred_fare'],\n",
    "        label = f'Val - Route {route_id[0]}'\n",
    "    )"
   ]
  },
  {
   "cell_type": "markdown",
   "metadata": {},
   "source": [
    "### Feature importances"
   ]
  },
  {
   "cell_type": "code",
   "execution_count": 50,
   "metadata": {},
   "outputs": [
    {
     "data": {
      "text/html": [
       "<div><style>\n",
       ".dataframe > thead > tr,\n",
       ".dataframe > tbody > tr {\n",
       "  text-align: right;\n",
       "  white-space: pre-wrap;\n",
       "}\n",
       "</style>\n",
       "<small>shape: (20, 2)</small><table border=\"1\" class=\"dataframe\"><thead><tr><th>Feature</th><th>FI</th></tr><tr><td>str</td><td>f64</td></tr></thead><tbody><tr><td>&quot;remainder__days_till_flight&quot;</td><td>27.85</td></tr><tr><td>&quot;remainder__14d_route_avg&quot;</td><td>14.49</td></tr><tr><td>&quot;remainder__7d_route_carrier_av…</td><td>12.57</td></tr><tr><td>&quot;remainder__flt_count_dpt_24h&quot;</td><td>9.43</td></tr><tr><td>&quot;remainder__dpt_4h_od&quot;</td><td>6.5</td></tr><tr><td>&quot;remainder__7d_route_avg&quot;</td><td>6.37</td></tr><tr><td>&quot;remainder__days_since_start&quot;</td><td>6.17</td></tr><tr><td>&quot;remainder__flt_departure_weekd…</td><td>5.59</td></tr><tr><td>&quot;remainder__destination_id&quot;</td><td>2.28</td></tr><tr><td>&quot;remainder__dur_min&quot;</td><td>2.17</td></tr><tr><td>&quot;ord__carrier&quot;</td><td>2.05</td></tr><tr><td>&quot;remainder__route_id&quot;</td><td>1.91</td></tr><tr><td>&quot;remainder__origin_id&quot;</td><td>0.87</td></tr><tr><td>&quot;remainder__flt_departure_day&quot;</td><td>0.76</td></tr><tr><td>&quot;remainder__flt_count_dpt_4h&quot;</td><td>0.57</td></tr><tr><td>&quot;remainder__flt_departure_week&quot;</td><td>0.23</td></tr><tr><td>&quot;remainder__flt_departure_month&quot;</td><td>0.07</td></tr><tr><td>&quot;remainder__flt_info_null&quot;</td><td>0.05</td></tr><tr><td>&quot;remainder__over_mn&quot;</td><td>0.05</td></tr><tr><td>&quot;remainder__is_dst&quot;</td><td>0.01</td></tr></tbody></table></div>"
      ],
      "text/plain": [
       "shape: (20, 2)\n",
       "┌─────────────────────────────────┬───────┐\n",
       "│ Feature                         ┆ FI    │\n",
       "│ ---                             ┆ ---   │\n",
       "│ str                             ┆ f64   │\n",
       "╞═════════════════════════════════╪═══════╡\n",
       "│ remainder__days_till_flight     ┆ 27.85 │\n",
       "│ remainder__14d_route_avg        ┆ 14.49 │\n",
       "│ remainder__7d_route_carrier_av… ┆ 12.57 │\n",
       "│ remainder__flt_count_dpt_24h    ┆ 9.43  │\n",
       "│ remainder__dpt_4h_od            ┆ 6.5   │\n",
       "│ remainder__7d_route_avg         ┆ 6.37  │\n",
       "│ remainder__days_since_start     ┆ 6.17  │\n",
       "│ remainder__flt_departure_weekd… ┆ 5.59  │\n",
       "│ remainder__destination_id       ┆ 2.28  │\n",
       "│ remainder__dur_min              ┆ 2.17  │\n",
       "│ ord__carrier                    ┆ 2.05  │\n",
       "│ remainder__route_id             ┆ 1.91  │\n",
       "│ remainder__origin_id            ┆ 0.87  │\n",
       "│ remainder__flt_departure_day    ┆ 0.76  │\n",
       "│ remainder__flt_count_dpt_4h     ┆ 0.57  │\n",
       "│ remainder__flt_departure_week   ┆ 0.23  │\n",
       "│ remainder__flt_departure_month  ┆ 0.07  │\n",
       "│ remainder__flt_info_null        ┆ 0.05  │\n",
       "│ remainder__over_mn              ┆ 0.05  │\n",
       "│ remainder__is_dst               ┆ 0.01  │\n",
       "└─────────────────────────────────┴───────┘"
      ]
     },
     "execution_count": 50,
     "metadata": {},
     "output_type": "execute_result"
    }
   ],
   "source": [
    "pl.DataFrame({\n",
    "    \"Feature\": best_model['gbr'].feature_names_in_,\n",
    "    \"FI\": (best_model['gbr'].feature_importances_ * 100).round(2)\n",
    "}).sort(\"FI\", descending = True)"
   ]
  },
  {
   "cell_type": "code",
   "execution_count": null,
   "metadata": {},
   "outputs": [],
   "source": []
  }
 ],
 "metadata": {
  "kernelspec": {
   "display_name": "Python 3",
   "language": "python",
   "name": "python3"
  },
  "language_info": {
   "codemirror_mode": {
    "name": "ipython",
    "version": 3
   },
   "file_extension": ".py",
   "mimetype": "text/x-python",
   "name": "python",
   "nbconvert_exporter": "python",
   "pygments_lexer": "ipython3",
   "version": "3.11.6"
  }
 },
 "nbformat": 4,
 "nbformat_minor": 2
}
