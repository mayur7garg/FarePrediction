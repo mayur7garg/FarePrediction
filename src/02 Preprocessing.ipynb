{
 "cells": [
  {
   "cell_type": "markdown",
   "metadata": {},
   "source": [
    "# Data Preprocessing"
   ]
  },
  {
   "cell_type": "markdown",
   "metadata": {},
   "source": [
    "## Imports"
   ]
  },
  {
   "cell_type": "code",
   "execution_count": 1,
   "metadata": {},
   "outputs": [],
   "source": [
    "from pathlib import Path\n",
    "import polars as pl\n",
    "\n",
    "from IPython.display import display"
   ]
  },
  {
   "cell_type": "markdown",
   "metadata": {},
   "source": [
    "## Constants"
   ]
  },
  {
   "cell_type": "code",
   "execution_count": 2,
   "metadata": {},
   "outputs": [
    {
     "data": {
      "text/plain": [
       "True"
      ]
     },
     "execution_count": 2,
     "metadata": {},
     "output_type": "execute_result"
    }
   ],
   "source": [
    "RAW_DATA_DIR = Path(\"..\", \"data\", \"parquet\")\n",
    "PROCESSED_DATA_DIR = Path(\"..\", \"data\", \"processed\")\n",
    "\n",
    "PROCESSED_DATA_DIR.mkdir(exist_ok = True)\n",
    "\n",
    "RAW_DATA_DIR.exists() and RAW_DATA_DIR.is_dir()"
   ]
  },
  {
   "cell_type": "markdown",
   "metadata": {},
   "source": [
    "## Loading data"
   ]
  },
  {
   "cell_type": "markdown",
   "metadata": {},
   "source": [
    "### Train fares"
   ]
  },
  {
   "cell_type": "code",
   "execution_count": 3,
   "metadata": {},
   "outputs": [
    {
     "data": {
      "text/html": [
       "<div><style>\n",
       ".dataframe > thead > tr,\n",
       ".dataframe > tbody > tr {\n",
       "  text-align: right;\n",
       "  white-space: pre-wrap;\n",
       "}\n",
       "</style>\n",
       "<small>shape: (2_160_016, 10)</small><table border=\"1\" class=\"dataframe\"><thead><tr><th></th><th>origin</th><th>destination</th><th>carrier</th><th>flt_num</th><th>flt_departure_dt</th><th>observation_date</th><th>total_fare</th><th>origin_city</th><th>destination_city</th></tr><tr><td>i64</td><td>str</td><td>str</td><td>str</td><td>i64</td><td>str</td><td>str</td><td>i64</td><td>str</td><td>str</td></tr></thead><tbody><tr><td>1</td><td>&quot;Airport4&quot;</td><td>&quot;Airport43&quot;</td><td>&quot;L1&quot;</td><td>5911</td><td>&quot;2018-01-03&quot;</td><td>&quot;2017-11-29&quot;</td><td>538</td><td>&quot;City4&quot;</td><td>&quot;City39&quot;</td></tr><tr><td>2</td><td>&quot;Airport4&quot;</td><td>&quot;Airport43&quot;</td><td>&quot;L1&quot;</td><td>6589</td><td>&quot;2018-01-03&quot;</td><td>&quot;2017-11-29&quot;</td><td>538</td><td>&quot;City4&quot;</td><td>&quot;City39&quot;</td></tr><tr><td>3</td><td>&quot;Airport4&quot;</td><td>&quot;Airport43&quot;</td><td>&quot;L1&quot;</td><td>2689</td><td>&quot;2018-01-03&quot;</td><td>&quot;2017-11-29&quot;</td><td>538</td><td>&quot;City4&quot;</td><td>&quot;City39&quot;</td></tr><tr><td>4</td><td>&quot;Airport4&quot;</td><td>&quot;Airport43&quot;</td><td>&quot;L2&quot;</td><td>8244</td><td>&quot;2018-01-03&quot;</td><td>&quot;2017-11-29&quot;</td><td>557</td><td>&quot;City4&quot;</td><td>&quot;City39&quot;</td></tr><tr><td>5</td><td>&quot;Airport4&quot;</td><td>&quot;Airport43&quot;</td><td>&quot;L2&quot;</td><td>8523</td><td>&quot;2018-01-03&quot;</td><td>&quot;2017-11-29&quot;</td><td>557</td><td>&quot;City4&quot;</td><td>&quot;City39&quot;</td></tr><tr><td>&hellip;</td><td>&hellip;</td><td>&hellip;</td><td>&hellip;</td><td>&hellip;</td><td>&hellip;</td><td>&hellip;</td><td>&hellip;</td><td>&hellip;</td><td>&hellip;</td></tr><tr><td>2160012</td><td>&quot;Airport20&quot;</td><td>&quot;Airport4&quot;</td><td>&quot;L1&quot;</td><td>7431</td><td>&quot;2018-10-20&quot;</td><td>&quot;2018-09-19&quot;</td><td>737</td><td>&quot;City19&quot;</td><td>&quot;City4&quot;</td></tr><tr><td>2160013</td><td>&quot;Airport20&quot;</td><td>&quot;Airport4&quot;</td><td>&quot;L1&quot;</td><td>5927</td><td>&quot;2018-10-20&quot;</td><td>&quot;2018-09-19&quot;</td><td>498</td><td>&quot;City19&quot;</td><td>&quot;City4&quot;</td></tr><tr><td>2160014</td><td>&quot;Airport20&quot;</td><td>&quot;Airport4&quot;</td><td>&quot;L1&quot;</td><td>7431</td><td>&quot;2018-10-21&quot;</td><td>&quot;2018-09-19&quot;</td><td>599</td><td>&quot;City19&quot;</td><td>&quot;City4&quot;</td></tr><tr><td>2160015</td><td>&quot;Airport20&quot;</td><td>&quot;Airport4&quot;</td><td>&quot;L1&quot;</td><td>7434</td><td>&quot;2018-10-21&quot;</td><td>&quot;2018-09-19&quot;</td><td>1428</td><td>&quot;City19&quot;</td><td>&quot;City4&quot;</td></tr><tr><td>2160016</td><td>&quot;Airport20&quot;</td><td>&quot;Airport4&quot;</td><td>&quot;L1&quot;</td><td>5927</td><td>&quot;2018-10-21&quot;</td><td>&quot;2018-09-19&quot;</td><td>916</td><td>&quot;City19&quot;</td><td>&quot;City4&quot;</td></tr></tbody></table></div>"
      ],
      "text/plain": [
       "shape: (2_160_016, 10)\n",
       "┌─────────┬───────────┬────────────┬─────────┬───┬────────────┬────────────┬───────────┬───────────┐\n",
       "│         ┆ origin    ┆ destinatio ┆ carrier ┆ … ┆ observatio ┆ total_fare ┆ origin_ci ┆ destinati │\n",
       "│ ---     ┆ ---       ┆ n          ┆ ---     ┆   ┆ n_date     ┆ ---        ┆ ty        ┆ on_city   │\n",
       "│ i64     ┆ str       ┆ ---        ┆ str     ┆   ┆ ---        ┆ i64        ┆ ---       ┆ ---       │\n",
       "│         ┆           ┆ str        ┆         ┆   ┆ str        ┆            ┆ str       ┆ str       │\n",
       "╞═════════╪═══════════╪════════════╪═════════╪═══╪════════════╪════════════╪═══════════╪═══════════╡\n",
       "│ 1       ┆ Airport4  ┆ Airport43  ┆ L1      ┆ … ┆ 2017-11-29 ┆ 538        ┆ City4     ┆ City39    │\n",
       "│ 2       ┆ Airport4  ┆ Airport43  ┆ L1      ┆ … ┆ 2017-11-29 ┆ 538        ┆ City4     ┆ City39    │\n",
       "│ 3       ┆ Airport4  ┆ Airport43  ┆ L1      ┆ … ┆ 2017-11-29 ┆ 538        ┆ City4     ┆ City39    │\n",
       "│ 4       ┆ Airport4  ┆ Airport43  ┆ L2      ┆ … ┆ 2017-11-29 ┆ 557        ┆ City4     ┆ City39    │\n",
       "│ 5       ┆ Airport4  ┆ Airport43  ┆ L2      ┆ … ┆ 2017-11-29 ┆ 557        ┆ City4     ┆ City39    │\n",
       "│ …       ┆ …         ┆ …          ┆ …       ┆ … ┆ …          ┆ …          ┆ …         ┆ …         │\n",
       "│ 2160012 ┆ Airport20 ┆ Airport4   ┆ L1      ┆ … ┆ 2018-09-19 ┆ 737        ┆ City19    ┆ City4     │\n",
       "│ 2160013 ┆ Airport20 ┆ Airport4   ┆ L1      ┆ … ┆ 2018-09-19 ┆ 498        ┆ City19    ┆ City4     │\n",
       "│ 2160014 ┆ Airport20 ┆ Airport4   ┆ L1      ┆ … ┆ 2018-09-19 ┆ 599        ┆ City19    ┆ City4     │\n",
       "│ 2160015 ┆ Airport20 ┆ Airport4   ┆ L1      ┆ … ┆ 2018-09-19 ┆ 1428       ┆ City19    ┆ City4     │\n",
       "│ 2160016 ┆ Airport20 ┆ Airport4   ┆ L1      ┆ … ┆ 2018-09-19 ┆ 916        ┆ City19    ┆ City4     │\n",
       "└─────────┴───────────┴────────────┴─────────┴───┴────────────┴────────────┴───────────┴───────────┘"
      ]
     },
     "metadata": {},
     "output_type": "display_data"
    },
    {
     "name": "stdout",
     "output_type": "stream",
     "text": [
      "Null counts\n"
     ]
    },
    {
     "data": {
      "text/html": [
       "<div><style>\n",
       ".dataframe > thead > tr,\n",
       ".dataframe > tbody > tr {\n",
       "  text-align: right;\n",
       "  white-space: pre-wrap;\n",
       "}\n",
       "</style>\n",
       "<small>shape: (1, 10)</small><table border=\"1\" class=\"dataframe\"><thead><tr><th></th><th>origin</th><th>destination</th><th>carrier</th><th>flt_num</th><th>flt_departure_dt</th><th>observation_date</th><th>total_fare</th><th>origin_city</th><th>destination_city</th></tr><tr><td>u32</td><td>u32</td><td>u32</td><td>u32</td><td>u32</td><td>u32</td><td>u32</td><td>u32</td><td>u32</td><td>u32</td></tr></thead><tbody><tr><td>0</td><td>0</td><td>0</td><td>0</td><td>0</td><td>0</td><td>0</td><td>0</td><td>0</td><td>0</td></tr></tbody></table></div>"
      ],
      "text/plain": [
       "shape: (1, 10)\n",
       "┌─────┬────────┬─────────────┬─────────┬───┬──────────────┬────────────┬─────────────┬─────────────┐\n",
       "│     ┆ origin ┆ destination ┆ carrier ┆ … ┆ observation_ ┆ total_fare ┆ origin_city ┆ destination │\n",
       "│ --- ┆ ---    ┆ ---         ┆ ---     ┆   ┆ date         ┆ ---        ┆ ---         ┆ _city       │\n",
       "│ u32 ┆ u32    ┆ u32         ┆ u32     ┆   ┆ ---          ┆ u32        ┆ u32         ┆ ---         │\n",
       "│     ┆        ┆             ┆         ┆   ┆ u32          ┆            ┆             ┆ u32         │\n",
       "╞═════╪════════╪═════════════╪═════════╪═══╪══════════════╪════════════╪═════════════╪═════════════╡\n",
       "│ 0   ┆ 0      ┆ 0           ┆ 0       ┆ … ┆ 0            ┆ 0          ┆ 0           ┆ 0           │\n",
       "└─────┴────────┴─────────────┴─────────┴───┴──────────────┴────────────┴─────────────┴─────────────┘"
      ]
     },
     "metadata": {},
     "output_type": "display_data"
    },
    {
     "name": "stdout",
     "output_type": "stream",
     "text": [
      "Count of unique values\n"
     ]
    },
    {
     "data": {
      "text/html": [
       "<div><style>\n",
       ".dataframe > thead > tr,\n",
       ".dataframe > tbody > tr {\n",
       "  text-align: right;\n",
       "  white-space: pre-wrap;\n",
       "}\n",
       "</style>\n",
       "<small>shape: (1, 10)</small><table border=\"1\" class=\"dataframe\"><thead><tr><th></th><th>origin</th><th>destination</th><th>carrier</th><th>flt_num</th><th>flt_departure_dt</th><th>observation_date</th><th>total_fare</th><th>origin_city</th><th>destination_city</th></tr><tr><td>u32</td><td>u32</td><td>u32</td><td>u32</td><td>u32</td><td>u32</td><td>u32</td><td>u32</td><td>u32</td><td>u32</td></tr></thead><tbody><tr><td>2160016</td><td>8</td><td>8</td><td>6</td><td>788</td><td>365</td><td>399</td><td>1390</td><td>8</td><td>8</td></tr></tbody></table></div>"
      ],
      "text/plain": [
       "shape: (1, 10)\n",
       "┌─────────┬────────┬─────────────┬─────────┬───┬────────────┬────────────┬────────────┬────────────┐\n",
       "│         ┆ origin ┆ destination ┆ carrier ┆ … ┆ observatio ┆ total_fare ┆ origin_cit ┆ destinatio │\n",
       "│ ---     ┆ ---    ┆ ---         ┆ ---     ┆   ┆ n_date     ┆ ---        ┆ y          ┆ n_city     │\n",
       "│ u32     ┆ u32    ┆ u32         ┆ u32     ┆   ┆ ---        ┆ u32        ┆ ---        ┆ ---        │\n",
       "│         ┆        ┆             ┆         ┆   ┆ u32        ┆            ┆ u32        ┆ u32        │\n",
       "╞═════════╪════════╪═════════════╪═════════╪═══╪════════════╪════════════╪════════════╪════════════╡\n",
       "│ 2160016 ┆ 8      ┆ 8           ┆ 6       ┆ … ┆ 399        ┆ 1390       ┆ 8          ┆ 8          │\n",
       "└─────────┴────────┴─────────────┴─────────┴───┴────────────┴────────────┴────────────┴────────────┘"
      ]
     },
     "metadata": {},
     "output_type": "display_data"
    }
   ],
   "source": [
    "def load_parquet_df(df_path: Path):\n",
    "    df = pl.read_parquet(df_path)\n",
    "    display(df)\n",
    "    \n",
    "    print(\"Null counts\")\n",
    "    display(df.null_count())\n",
    "\n",
    "    print(\"Count of unique values\")\n",
    "    display(df.select(\n",
    "        pl.all().n_unique()\n",
    "    ))\n",
    "    return df\n",
    "\n",
    "train_fares_df = load_parquet_df(RAW_DATA_DIR.joinpath(\"training\", \"train_fares.parquet\"))"
   ]
  },
  {
   "cell_type": "markdown",
   "metadata": {},
   "source": [
    "### Test fares"
   ]
  },
  {
   "cell_type": "code",
   "execution_count": 4,
   "metadata": {},
   "outputs": [
    {
     "data": {
      "text/html": [
       "<div><style>\n",
       ".dataframe > thead > tr,\n",
       ".dataframe > tbody > tr {\n",
       "  text-align: right;\n",
       "  white-space: pre-wrap;\n",
       "}\n",
       "</style>\n",
       "<small>shape: (29_825, 9)</small><table border=\"1\" class=\"dataframe\"><thead><tr><th></th><th>origin</th><th>destination</th><th>carrier</th><th>flt_num</th><th>flt_departure_dt</th><th>observation_date</th><th>origin_city</th><th>destination_city</th></tr><tr><td>i64</td><td>str</td><td>str</td><td>str</td><td>i64</td><td>str</td><td>str</td><td>str</td><td>str</td></tr></thead><tbody><tr><td>1</td><td>&quot;Airport4&quot;</td><td>&quot;Airport43&quot;</td><td>&quot;L2&quot;</td><td>7465</td><td>&quot;1/1/2019&quot;</td><td>&quot;11/27/2018&quot;</td><td>&quot;City4&quot;</td><td>&quot;City39&quot;</td></tr><tr><td>2</td><td>&quot;Airport4&quot;</td><td>&quot;Airport43&quot;</td><td>&quot;L2&quot;</td><td>7067</td><td>&quot;1/1/2019&quot;</td><td>&quot;11/27/2018&quot;</td><td>&quot;City4&quot;</td><td>&quot;City39&quot;</td></tr><tr><td>3</td><td>&quot;Airport4&quot;</td><td>&quot;Airport43&quot;</td><td>&quot;L2&quot;</td><td>1232</td><td>&quot;1/1/2019&quot;</td><td>&quot;11/27/2018&quot;</td><td>&quot;City4&quot;</td><td>&quot;City39&quot;</td></tr><tr><td>4</td><td>&quot;Airport43&quot;</td><td>&quot;Airport4&quot;</td><td>&quot;L1&quot;</td><td>17783</td><td>&quot;1/3/2019&quot;</td><td>&quot;11/29/2018&quot;</td><td>&quot;City39&quot;</td><td>&quot;City4&quot;</td></tr><tr><td>5</td><td>&quot;Airport43&quot;</td><td>&quot;Airport4&quot;</td><td>&quot;L1&quot;</td><td>5823</td><td>&quot;1/3/2019&quot;</td><td>&quot;11/29/2018&quot;</td><td>&quot;City39&quot;</td><td>&quot;City4&quot;</td></tr><tr><td>&hellip;</td><td>&hellip;</td><td>&hellip;</td><td>&hellip;</td><td>&hellip;</td><td>&hellip;</td><td>&hellip;</td><td>&hellip;</td><td>&hellip;</td></tr><tr><td>29821</td><td>&quot;Airport4&quot;</td><td>&quot;Airport43&quot;</td><td>&quot;L2&quot;</td><td>7067</td><td>&quot;1/6/2019&quot;</td><td>&quot;12/31/2018&quot;</td><td>&quot;City4&quot;</td><td>&quot;City39&quot;</td></tr><tr><td>29822</td><td>&quot;Airport4&quot;</td><td>&quot;Airport43&quot;</td><td>&quot;L2&quot;</td><td>1232</td><td>&quot;1/6/2019&quot;</td><td>&quot;12/31/2018&quot;</td><td>&quot;City4&quot;</td><td>&quot;City39&quot;</td></tr><tr><td>29823</td><td>&quot;Airport17&quot;</td><td>&quot;Airport4&quot;</td><td>&quot;L1&quot;</td><td>1484</td><td>&quot;1/7/2019&quot;</td><td>&quot;12/31/2018&quot;</td><td>&quot;City17&quot;</td><td>&quot;City4&quot;</td></tr><tr><td>29824</td><td>&quot;Airport17&quot;</td><td>&quot;Airport4&quot;</td><td>&quot;L1&quot;</td><td>18471</td><td>&quot;1/7/2019&quot;</td><td>&quot;12/31/2018&quot;</td><td>&quot;City17&quot;</td><td>&quot;City4&quot;</td></tr><tr><td>29825</td><td>&quot;Airport17&quot;</td><td>&quot;Airport4&quot;</td><td>&quot;L1&quot;</td><td>1487</td><td>&quot;1/7/2019&quot;</td><td>&quot;12/31/2018&quot;</td><td>&quot;City17&quot;</td><td>&quot;City4&quot;</td></tr></tbody></table></div>"
      ],
      "text/plain": [
       "shape: (29_825, 9)\n",
       "┌───────┬───────────┬────────────┬─────────┬───┬────────────┬────────────┬────────────┬────────────┐\n",
       "│       ┆ origin    ┆ destinatio ┆ carrier ┆ … ┆ flt_depart ┆ observatio ┆ origin_cit ┆ destinatio │\n",
       "│ ---   ┆ ---       ┆ n          ┆ ---     ┆   ┆ ure_dt     ┆ n_date     ┆ y          ┆ n_city     │\n",
       "│ i64   ┆ str       ┆ ---        ┆ str     ┆   ┆ ---        ┆ ---        ┆ ---        ┆ ---        │\n",
       "│       ┆           ┆ str        ┆         ┆   ┆ str        ┆ str        ┆ str        ┆ str        │\n",
       "╞═══════╪═══════════╪════════════╪═════════╪═══╪════════════╪════════════╪════════════╪════════════╡\n",
       "│ 1     ┆ Airport4  ┆ Airport43  ┆ L2      ┆ … ┆ 1/1/2019   ┆ 11/27/2018 ┆ City4      ┆ City39     │\n",
       "│ 2     ┆ Airport4  ┆ Airport43  ┆ L2      ┆ … ┆ 1/1/2019   ┆ 11/27/2018 ┆ City4      ┆ City39     │\n",
       "│ 3     ┆ Airport4  ┆ Airport43  ┆ L2      ┆ … ┆ 1/1/2019   ┆ 11/27/2018 ┆ City4      ┆ City39     │\n",
       "│ 4     ┆ Airport43 ┆ Airport4   ┆ L1      ┆ … ┆ 1/3/2019   ┆ 11/29/2018 ┆ City39     ┆ City4      │\n",
       "│ 5     ┆ Airport43 ┆ Airport4   ┆ L1      ┆ … ┆ 1/3/2019   ┆ 11/29/2018 ┆ City39     ┆ City4      │\n",
       "│ …     ┆ …         ┆ …          ┆ …       ┆ … ┆ …          ┆ …          ┆ …          ┆ …          │\n",
       "│ 29821 ┆ Airport4  ┆ Airport43  ┆ L2      ┆ … ┆ 1/6/2019   ┆ 12/31/2018 ┆ City4      ┆ City39     │\n",
       "│ 29822 ┆ Airport4  ┆ Airport43  ┆ L2      ┆ … ┆ 1/6/2019   ┆ 12/31/2018 ┆ City4      ┆ City39     │\n",
       "│ 29823 ┆ Airport17 ┆ Airport4   ┆ L1      ┆ … ┆ 1/7/2019   ┆ 12/31/2018 ┆ City17     ┆ City4      │\n",
       "│ 29824 ┆ Airport17 ┆ Airport4   ┆ L1      ┆ … ┆ 1/7/2019   ┆ 12/31/2018 ┆ City17     ┆ City4      │\n",
       "│ 29825 ┆ Airport17 ┆ Airport4   ┆ L1      ┆ … ┆ 1/7/2019   ┆ 12/31/2018 ┆ City17     ┆ City4      │\n",
       "└───────┴───────────┴────────────┴─────────┴───┴────────────┴────────────┴────────────┴────────────┘"
      ]
     },
     "metadata": {},
     "output_type": "display_data"
    },
    {
     "name": "stdout",
     "output_type": "stream",
     "text": [
      "Null counts\n"
     ]
    },
    {
     "data": {
      "text/html": [
       "<div><style>\n",
       ".dataframe > thead > tr,\n",
       ".dataframe > tbody > tr {\n",
       "  text-align: right;\n",
       "  white-space: pre-wrap;\n",
       "}\n",
       "</style>\n",
       "<small>shape: (1, 9)</small><table border=\"1\" class=\"dataframe\"><thead><tr><th></th><th>origin</th><th>destination</th><th>carrier</th><th>flt_num</th><th>flt_departure_dt</th><th>observation_date</th><th>origin_city</th><th>destination_city</th></tr><tr><td>u32</td><td>u32</td><td>u32</td><td>u32</td><td>u32</td><td>u32</td><td>u32</td><td>u32</td><td>u32</td></tr></thead><tbody><tr><td>0</td><td>0</td><td>0</td><td>0</td><td>0</td><td>0</td><td>0</td><td>0</td><td>0</td></tr></tbody></table></div>"
      ],
      "text/plain": [
       "shape: (1, 9)\n",
       "┌─────┬────────┬─────────────┬─────────┬───┬─────────────┬─────────────┬─────────────┬─────────────┐\n",
       "│     ┆ origin ┆ destination ┆ carrier ┆ … ┆ flt_departu ┆ observation ┆ origin_city ┆ destination │\n",
       "│ --- ┆ ---    ┆ ---         ┆ ---     ┆   ┆ re_dt       ┆ _date       ┆ ---         ┆ _city       │\n",
       "│ u32 ┆ u32    ┆ u32         ┆ u32     ┆   ┆ ---         ┆ ---         ┆ u32         ┆ ---         │\n",
       "│     ┆        ┆             ┆         ┆   ┆ u32         ┆ u32         ┆             ┆ u32         │\n",
       "╞═════╪════════╪═════════════╪═════════╪═══╪═════════════╪═════════════╪═════════════╪═════════════╡\n",
       "│ 0   ┆ 0      ┆ 0           ┆ 0       ┆ … ┆ 0           ┆ 0           ┆ 0           ┆ 0           │\n",
       "└─────┴────────┴─────────────┴─────────┴───┴─────────────┴─────────────┴─────────────┴─────────────┘"
      ]
     },
     "metadata": {},
     "output_type": "display_data"
    },
    {
     "name": "stdout",
     "output_type": "stream",
     "text": [
      "Count of unique values\n"
     ]
    },
    {
     "data": {
      "text/html": [
       "<div><style>\n",
       ".dataframe > thead > tr,\n",
       ".dataframe > tbody > tr {\n",
       "  text-align: right;\n",
       "  white-space: pre-wrap;\n",
       "}\n",
       "</style>\n",
       "<small>shape: (1, 9)</small><table border=\"1\" class=\"dataframe\"><thead><tr><th></th><th>origin</th><th>destination</th><th>carrier</th><th>flt_num</th><th>flt_departure_dt</th><th>observation_date</th><th>origin_city</th><th>destination_city</th></tr><tr><td>u32</td><td>u32</td><td>u32</td><td>u32</td><td>u32</td><td>u32</td><td>u32</td><td>u32</td><td>u32</td></tr></thead><tbody><tr><td>29825</td><td>8</td><td>8</td><td>6</td><td>225</td><td>7</td><td>35</td><td>8</td><td>8</td></tr></tbody></table></div>"
      ],
      "text/plain": [
       "shape: (1, 9)\n",
       "┌───────┬────────┬─────────────┬─────────┬───┬─────────────┬─────────────┬────────────┬────────────┐\n",
       "│       ┆ origin ┆ destination ┆ carrier ┆ … ┆ flt_departu ┆ observation ┆ origin_cit ┆ destinatio │\n",
       "│ ---   ┆ ---    ┆ ---         ┆ ---     ┆   ┆ re_dt       ┆ _date       ┆ y          ┆ n_city     │\n",
       "│ u32   ┆ u32    ┆ u32         ┆ u32     ┆   ┆ ---         ┆ ---         ┆ ---        ┆ ---        │\n",
       "│       ┆        ┆             ┆         ┆   ┆ u32         ┆ u32         ┆ u32        ┆ u32        │\n",
       "╞═══════╪════════╪═════════════╪═════════╪═══╪═════════════╪═════════════╪════════════╪════════════╡\n",
       "│ 29825 ┆ 8      ┆ 8           ┆ 6       ┆ … ┆ 7           ┆ 35          ┆ 8          ┆ 8          │\n",
       "└───────┴────────┴─────────────┴─────────┴───┴─────────────┴─────────────┴────────────┴────────────┘"
      ]
     },
     "metadata": {},
     "output_type": "display_data"
    }
   ],
   "source": [
    "test_fares_df = load_parquet_df(RAW_DATA_DIR.joinpath(\"test\", \"test_fares_data.parquet\"))"
   ]
  },
  {
   "cell_type": "markdown",
   "metadata": {},
   "source": [
    "### Train schedule"
   ]
  },
  {
   "cell_type": "code",
   "execution_count": 5,
   "metadata": {},
   "outputs": [
    {
     "data": {
      "text/html": [
       "<div><style>\n",
       ".dataframe > thead > tr,\n",
       ".dataframe > tbody > tr {\n",
       "  text-align: right;\n",
       "  white-space: pre-wrap;\n",
       "}\n",
       "</style>\n",
       "<small>shape: (63_584, 10)</small><table border=\"1\" class=\"dataframe\"><thead><tr><th></th><th>carrier</th><th>flt_num</th><th>origin</th><th>destination</th><th>flt_departure_dt</th><th>flt_departure_local_time</th><th>flt_arrival_local_time</th><th>flt_departure_gmt</th><th>flt_arrival_gmt</th></tr><tr><td>i64</td><td>str</td><td>i64</td><td>str</td><td>str</td><td>str</td><td>str</td><td>str</td><td>str</td><td>str</td></tr></thead><tbody><tr><td>1</td><td>&quot;L1&quot;</td><td>6800</td><td>&quot;Airport26&quot;</td><td>&quot;Airport30&quot;</td><td>&quot;2018-02-01&quot;</td><td>&quot;2018-02-01 18:43:00.0&quot;</td><td>&quot;2018-02-01 20:09:00.0&quot;</td><td>&quot;2018-02-02 00:43:00.0&quot;</td><td>&quot;2018-02-02 04:09:00.0&quot;</td></tr><tr><td>2</td><td>&quot;OTH&quot;</td><td>783</td><td>&quot;Airport26&quot;</td><td>&quot;Airport30&quot;</td><td>&quot;2018-02-01&quot;</td><td>&quot;2018-02-01 19:45:00.0&quot;</td><td>&quot;2018-02-01 21:05:00.0&quot;</td><td>&quot;2018-02-02 01:45:00.0&quot;</td><td>&quot;2018-02-02 05:05:00.0&quot;</td></tr><tr><td>3</td><td>&quot;L1&quot;</td><td>799</td><td>&quot;Airport26&quot;</td><td>&quot;Airport30&quot;</td><td>&quot;2018-02-01&quot;</td><td>&quot;2018-02-01 12:00:00.0&quot;</td><td>&quot;2018-02-01 13:26:00.0&quot;</td><td>&quot;2018-02-01 18:00:00.0&quot;</td><td>&quot;2018-02-01 21:26:00.0&quot;</td></tr><tr><td>4</td><td>&quot;L1&quot;</td><td>7760</td><td>&quot;Airport26&quot;</td><td>&quot;Airport30&quot;</td><td>&quot;2018-02-01&quot;</td><td>&quot;2018-02-01 07:35:00.0&quot;</td><td>&quot;2018-02-01 09:02:00.0&quot;</td><td>&quot;2018-02-01 13:35:00.0&quot;</td><td>&quot;2018-02-01 17:02:00.0&quot;</td></tr><tr><td>5</td><td>&quot;L1&quot;</td><td>3443</td><td>&quot;Airport26&quot;</td><td>&quot;Airport30&quot;</td><td>&quot;2018-02-01&quot;</td><td>&quot;2018-02-01 09:48:00.0&quot;</td><td>&quot;2018-02-01 11:14:00.0&quot;</td><td>&quot;2018-02-01 15:48:00.0&quot;</td><td>&quot;2018-02-01 19:14:00.0&quot;</td></tr><tr><td>&hellip;</td><td>&hellip;</td><td>&hellip;</td><td>&hellip;</td><td>&hellip;</td><td>&hellip;</td><td>&hellip;</td><td>&hellip;</td><td>&hellip;</td><td>&hellip;</td></tr><tr><td>63580</td><td>&quot;L1&quot;</td><td>5675</td><td>&quot;Airport30&quot;</td><td>&quot;Airport60&quot;</td><td>&quot;2018-10-31&quot;</td><td>&quot;2018-10-31 13:17:00.0&quot;</td><td>&quot;2018-10-31 14:53:00.0&quot;</td><td>&quot;2018-10-31 20:17:00.0&quot;</td><td>&quot;2018-10-31 21:53:00.0&quot;</td></tr><tr><td>63581</td><td>&quot;U1&quot;</td><td>6115</td><td>&quot;Airport30&quot;</td><td>&quot;Airport60&quot;</td><td>&quot;2018-10-31&quot;</td><td>&quot;2018-10-31 06:50:00.0&quot;</td><td>&quot;2018-10-31 08:24:00.0&quot;</td><td>&quot;2018-10-31 13:50:00.0&quot;</td><td>&quot;2018-10-31 15:24:00.0&quot;</td></tr><tr><td>63582</td><td>&quot;U1&quot;</td><td>6184</td><td>&quot;Airport30&quot;</td><td>&quot;Airport60&quot;</td><td>&quot;2018-10-31&quot;</td><td>&quot;2018-10-31 20:20:00.0&quot;</td><td>&quot;2018-10-31 22:02:00.0&quot;</td><td>&quot;2018-11-01 03:20:00.0&quot;</td><td>&quot;2018-11-01 05:02:00.0&quot;</td></tr><tr><td>63583</td><td>&quot;OTH&quot;</td><td>7010</td><td>&quot;Airport30&quot;</td><td>&quot;Airport60&quot;</td><td>&quot;2018-10-31&quot;</td><td>&quot;2018-10-31 08:45:00.0&quot;</td><td>&quot;2018-10-31 10:20:00.0&quot;</td><td>&quot;2018-10-31 15:45:00.0&quot;</td><td>&quot;2018-10-31 17:20:00.0&quot;</td></tr><tr><td>63584</td><td>&quot;L1&quot;</td><td>1292</td><td>&quot;Airport30&quot;</td><td>&quot;Airport60&quot;</td><td>&quot;2018-10-31&quot;</td><td>&quot;2018-10-31 16:53:00.0&quot;</td><td>&quot;2018-10-31 18:32:00.0&quot;</td><td>&quot;2018-10-31 23:53:00.0&quot;</td><td>&quot;2018-11-01 01:32:00.0&quot;</td></tr></tbody></table></div>"
      ],
      "text/plain": [
       "shape: (63_584, 10)\n",
       "┌───────┬─────────┬─────────┬───────────┬───┬─────────────┬─────────────┬─────────────┬────────────┐\n",
       "│       ┆ carrier ┆ flt_num ┆ origin    ┆ … ┆ flt_departu ┆ flt_arrival ┆ flt_departu ┆ flt_arriva │\n",
       "│ ---   ┆ ---     ┆ ---     ┆ ---       ┆   ┆ re_local_ti ┆ _local_time ┆ re_gmt      ┆ l_gmt      │\n",
       "│ i64   ┆ str     ┆ i64     ┆ str       ┆   ┆ me          ┆ ---         ┆ ---         ┆ ---        │\n",
       "│       ┆         ┆         ┆           ┆   ┆ ---         ┆ str         ┆ str         ┆ str        │\n",
       "│       ┆         ┆         ┆           ┆   ┆ str         ┆             ┆             ┆            │\n",
       "╞═══════╪═════════╪═════════╪═══════════╪═══╪═════════════╪═════════════╪═════════════╪════════════╡\n",
       "│ 1     ┆ L1      ┆ 6800    ┆ Airport26 ┆ … ┆ 2018-02-01  ┆ 2018-02-01  ┆ 2018-02-02  ┆ 2018-02-02 │\n",
       "│       ┆         ┆         ┆           ┆   ┆ 18:43:00.0  ┆ 20:09:00.0  ┆ 00:43:00.0  ┆ 04:09:00.0 │\n",
       "│ 2     ┆ OTH     ┆ 783     ┆ Airport26 ┆ … ┆ 2018-02-01  ┆ 2018-02-01  ┆ 2018-02-02  ┆ 2018-02-02 │\n",
       "│       ┆         ┆         ┆           ┆   ┆ 19:45:00.0  ┆ 21:05:00.0  ┆ 01:45:00.0  ┆ 05:05:00.0 │\n",
       "│ 3     ┆ L1      ┆ 799     ┆ Airport26 ┆ … ┆ 2018-02-01  ┆ 2018-02-01  ┆ 2018-02-01  ┆ 2018-02-01 │\n",
       "│       ┆         ┆         ┆           ┆   ┆ 12:00:00.0  ┆ 13:26:00.0  ┆ 18:00:00.0  ┆ 21:26:00.0 │\n",
       "│ 4     ┆ L1      ┆ 7760    ┆ Airport26 ┆ … ┆ 2018-02-01  ┆ 2018-02-01  ┆ 2018-02-01  ┆ 2018-02-01 │\n",
       "│       ┆         ┆         ┆           ┆   ┆ 07:35:00.0  ┆ 09:02:00.0  ┆ 13:35:00.0  ┆ 17:02:00.0 │\n",
       "│ 5     ┆ L1      ┆ 3443    ┆ Airport26 ┆ … ┆ 2018-02-01  ┆ 2018-02-01  ┆ 2018-02-01  ┆ 2018-02-01 │\n",
       "│       ┆         ┆         ┆           ┆   ┆ 09:48:00.0  ┆ 11:14:00.0  ┆ 15:48:00.0  ┆ 19:14:00.0 │\n",
       "│ …     ┆ …       ┆ …       ┆ …         ┆ … ┆ …           ┆ …           ┆ …           ┆ …          │\n",
       "│ 63580 ┆ L1      ┆ 5675    ┆ Airport30 ┆ … ┆ 2018-10-31  ┆ 2018-10-31  ┆ 2018-10-31  ┆ 2018-10-31 │\n",
       "│       ┆         ┆         ┆           ┆   ┆ 13:17:00.0  ┆ 14:53:00.0  ┆ 20:17:00.0  ┆ 21:53:00.0 │\n",
       "│ 63581 ┆ U1      ┆ 6115    ┆ Airport30 ┆ … ┆ 2018-10-31  ┆ 2018-10-31  ┆ 2018-10-31  ┆ 2018-10-31 │\n",
       "│       ┆         ┆         ┆           ┆   ┆ 06:50:00.0  ┆ 08:24:00.0  ┆ 13:50:00.0  ┆ 15:24:00.0 │\n",
       "│ 63582 ┆ U1      ┆ 6184    ┆ Airport30 ┆ … ┆ 2018-10-31  ┆ 2018-10-31  ┆ 2018-11-01  ┆ 2018-11-01 │\n",
       "│       ┆         ┆         ┆           ┆   ┆ 20:20:00.0  ┆ 22:02:00.0  ┆ 03:20:00.0  ┆ 05:02:00.0 │\n",
       "│ 63583 ┆ OTH     ┆ 7010    ┆ Airport30 ┆ … ┆ 2018-10-31  ┆ 2018-10-31  ┆ 2018-10-31  ┆ 2018-10-31 │\n",
       "│       ┆         ┆         ┆           ┆   ┆ 08:45:00.0  ┆ 10:20:00.0  ┆ 15:45:00.0  ┆ 17:20:00.0 │\n",
       "│ 63584 ┆ L1      ┆ 1292    ┆ Airport30 ┆ … ┆ 2018-10-31  ┆ 2018-10-31  ┆ 2018-10-31  ┆ 2018-11-01 │\n",
       "│       ┆         ┆         ┆           ┆   ┆ 16:53:00.0  ┆ 18:32:00.0  ┆ 23:53:00.0  ┆ 01:32:00.0 │\n",
       "└───────┴─────────┴─────────┴───────────┴───┴─────────────┴─────────────┴─────────────┴────────────┘"
      ]
     },
     "metadata": {},
     "output_type": "display_data"
    },
    {
     "name": "stdout",
     "output_type": "stream",
     "text": [
      "Null counts\n"
     ]
    },
    {
     "data": {
      "text/html": [
       "<div><style>\n",
       ".dataframe > thead > tr,\n",
       ".dataframe > tbody > tr {\n",
       "  text-align: right;\n",
       "  white-space: pre-wrap;\n",
       "}\n",
       "</style>\n",
       "<small>shape: (1, 10)</small><table border=\"1\" class=\"dataframe\"><thead><tr><th></th><th>carrier</th><th>flt_num</th><th>origin</th><th>destination</th><th>flt_departure_dt</th><th>flt_departure_local_time</th><th>flt_arrival_local_time</th><th>flt_departure_gmt</th><th>flt_arrival_gmt</th></tr><tr><td>u32</td><td>u32</td><td>u32</td><td>u32</td><td>u32</td><td>u32</td><td>u32</td><td>u32</td><td>u32</td><td>u32</td></tr></thead><tbody><tr><td>0</td><td>0</td><td>0</td><td>0</td><td>0</td><td>0</td><td>0</td><td>0</td><td>0</td><td>0</td></tr></tbody></table></div>"
      ],
      "text/plain": [
       "shape: (1, 10)\n",
       "┌─────┬─────────┬─────────┬────────┬───┬──────────────┬──────────────┬──────────────┬──────────────┐\n",
       "│     ┆ carrier ┆ flt_num ┆ origin ┆ … ┆ flt_departur ┆ flt_arrival_ ┆ flt_departur ┆ flt_arrival_ │\n",
       "│ --- ┆ ---     ┆ ---     ┆ ---    ┆   ┆ e_local_time ┆ local_time   ┆ e_gmt        ┆ gmt          │\n",
       "│ u32 ┆ u32     ┆ u32     ┆ u32    ┆   ┆ ---          ┆ ---          ┆ ---          ┆ ---          │\n",
       "│     ┆         ┆         ┆        ┆   ┆ u32          ┆ u32          ┆ u32          ┆ u32          │\n",
       "╞═════╪═════════╪═════════╪════════╪═══╪══════════════╪══════════════╪══════════════╪══════════════╡\n",
       "│ 0   ┆ 0       ┆ 0       ┆ 0      ┆ … ┆ 0            ┆ 0            ┆ 0            ┆ 0            │\n",
       "└─────┴─────────┴─────────┴────────┴───┴──────────────┴──────────────┴──────────────┴──────────────┘"
      ]
     },
     "metadata": {},
     "output_type": "display_data"
    },
    {
     "name": "stdout",
     "output_type": "stream",
     "text": [
      "Count of unique values\n"
     ]
    },
    {
     "data": {
      "text/html": [
       "<div><style>\n",
       ".dataframe > thead > tr,\n",
       ".dataframe > tbody > tr {\n",
       "  text-align: right;\n",
       "  white-space: pre-wrap;\n",
       "}\n",
       "</style>\n",
       "<small>shape: (1, 10)</small><table border=\"1\" class=\"dataframe\"><thead><tr><th></th><th>carrier</th><th>flt_num</th><th>origin</th><th>destination</th><th>flt_departure_dt</th><th>flt_departure_local_time</th><th>flt_arrival_local_time</th><th>flt_departure_gmt</th><th>flt_arrival_gmt</th></tr><tr><td>u32</td><td>u32</td><td>u32</td><td>u32</td><td>u32</td><td>u32</td><td>u32</td><td>u32</td><td>u32</td><td>u32</td></tr></thead><tbody><tr><td>63584</td><td>6</td><td>2084</td><td>8</td><td>8</td><td>365</td><td>50747</td><td>56523</td><td>51015</td><td>57113</td></tr></tbody></table></div>"
      ],
      "text/plain": [
       "shape: (1, 10)\n",
       "┌───────┬─────────┬─────────┬────────┬───┬──────────────┬──────────────┬─────────────┬─────────────┐\n",
       "│       ┆ carrier ┆ flt_num ┆ origin ┆ … ┆ flt_departur ┆ flt_arrival_ ┆ flt_departu ┆ flt_arrival │\n",
       "│ ---   ┆ ---     ┆ ---     ┆ ---    ┆   ┆ e_local_time ┆ local_time   ┆ re_gmt      ┆ _gmt        │\n",
       "│ u32   ┆ u32     ┆ u32     ┆ u32    ┆   ┆ ---          ┆ ---          ┆ ---         ┆ ---         │\n",
       "│       ┆         ┆         ┆        ┆   ┆ u32          ┆ u32          ┆ u32         ┆ u32         │\n",
       "╞═══════╪═════════╪═════════╪════════╪═══╪══════════════╪══════════════╪═════════════╪═════════════╡\n",
       "│ 63584 ┆ 6       ┆ 2084    ┆ 8      ┆ … ┆ 50747        ┆ 56523        ┆ 51015       ┆ 57113       │\n",
       "└───────┴─────────┴─────────┴────────┴───┴──────────────┴──────────────┴─────────────┴─────────────┘"
      ]
     },
     "metadata": {},
     "output_type": "display_data"
    }
   ],
   "source": [
    "train_sch_df = load_parquet_df(RAW_DATA_DIR.joinpath(\"training\", \"train_schedules.parquet\"))"
   ]
  },
  {
   "cell_type": "markdown",
   "metadata": {},
   "source": [
    "### Test schedule"
   ]
  },
  {
   "cell_type": "code",
   "execution_count": 6,
   "metadata": {},
   "outputs": [
    {
     "data": {
      "text/html": [
       "<div><style>\n",
       ".dataframe > thead > tr,\n",
       ".dataframe > tbody > tr {\n",
       "  text-align: right;\n",
       "  white-space: pre-wrap;\n",
       "}\n",
       "</style>\n",
       "<small>shape: (1_234, 10)</small><table border=\"1\" class=\"dataframe\"><thead><tr><th></th><th>carrier</th><th>flt_num</th><th>origin</th><th>destination</th><th>flt_departure_dt</th><th>flt_departure_local_time</th><th>flt_arrival_local_time</th><th>flt_departure_gmt</th><th>flt_arrival_gmt</th></tr><tr><td>i64</td><td>str</td><td>i64</td><td>str</td><td>str</td><td>str</td><td>str</td><td>str</td><td>str</td><td>str</td></tr></thead><tbody><tr><td>1</td><td>&quot;L1&quot;</td><td>3437</td><td>&quot;Airport26&quot;</td><td>&quot;Airport30&quot;</td><td>&quot;2019-01-01&quot;</td><td>&quot;2019-01-01 18:28:00.0&quot;</td><td>&quot;2019-01-01 19:49:00.0&quot;</td><td>&quot;2019-01-02 00:28:00.0&quot;</td><td>&quot;2019-01-02 03:49:00.0&quot;</td></tr><tr><td>2</td><td>&quot;L1&quot;</td><td>7760</td><td>&quot;Airport26&quot;</td><td>&quot;Airport30&quot;</td><td>&quot;2019-01-01&quot;</td><td>&quot;2019-01-01 07:50:00.0&quot;</td><td>&quot;2019-01-01 09:12:00.0&quot;</td><td>&quot;2019-01-01 13:50:00.0&quot;</td><td>&quot;2019-01-01 17:12:00.0&quot;</td></tr><tr><td>3</td><td>&quot;L1&quot;</td><td>1609</td><td>&quot;Airport26&quot;</td><td>&quot;Airport30&quot;</td><td>&quot;2019-01-01&quot;</td><td>&quot;2019-01-01 11:55:00.0&quot;</td><td>&quot;2019-01-01 13:19:00.0&quot;</td><td>&quot;2019-01-01 17:55:00.0&quot;</td><td>&quot;2019-01-01 21:19:00.0&quot;</td></tr><tr><td>4</td><td>&quot;L1&quot;</td><td>1487</td><td>&quot;Airport26&quot;</td><td>&quot;Airport30&quot;</td><td>&quot;2019-01-01&quot;</td><td>&quot;2019-01-01 14:20:00.0&quot;</td><td>&quot;2019-01-01 15:41:00.0&quot;</td><td>&quot;2019-01-01 20:20:00.0&quot;</td><td>&quot;2019-01-01 23:41:00.0&quot;</td></tr><tr><td>5</td><td>&quot;L1&quot;</td><td>5701</td><td>&quot;Airport26&quot;</td><td>&quot;Airport30&quot;</td><td>&quot;2019-01-01&quot;</td><td>&quot;2019-01-01 22:05:00.0&quot;</td><td>&quot;2019-01-01 23:26:00.0&quot;</td><td>&quot;2019-01-02 04:05:00.0&quot;</td><td>&quot;2019-01-02 07:26:00.0&quot;</td></tr><tr><td>&hellip;</td><td>&hellip;</td><td>&hellip;</td><td>&hellip;</td><td>&hellip;</td><td>&hellip;</td><td>&hellip;</td><td>&hellip;</td><td>&hellip;</td><td>&hellip;</td></tr><tr><td>1230</td><td>&quot;L2&quot;</td><td>3795</td><td>&quot;Airport43&quot;</td><td>&quot;Airport4&quot;</td><td>&quot;2019-01-07&quot;</td><td>&quot;2019-01-07 17:55:00.0&quot;</td><td>&quot;2019-01-07 20:42:00.0&quot;</td><td>&quot;2019-01-07 23:55:00.0&quot;</td><td>&quot;2019-01-08 02:42:00.0&quot;</td></tr><tr><td>1231</td><td>&quot;L1&quot;</td><td>1763</td><td>&quot;Airport43&quot;</td><td>&quot;Airport4&quot;</td><td>&quot;2019-01-07&quot;</td><td>&quot;2019-01-07 19:49:00.0&quot;</td><td>&quot;2019-01-07 22:47:00.0&quot;</td><td>&quot;2019-01-08 01:49:00.0&quot;</td><td>&quot;2019-01-08 04:47:00.0&quot;</td></tr><tr><td>1232</td><td>&quot;L1&quot;</td><td>11466</td><td>&quot;Airport43&quot;</td><td>&quot;Airport4&quot;</td><td>&quot;2019-01-07&quot;</td><td>&quot;2019-01-07 07:48:00.0&quot;</td><td>&quot;2019-01-07 10:50:00.0&quot;</td><td>&quot;2019-01-07 13:48:00.0&quot;</td><td>&quot;2019-01-07 16:50:00.0&quot;</td></tr><tr><td>1233</td><td>&quot;L2&quot;</td><td>8018</td><td>&quot;Airport43&quot;</td><td>&quot;Airport4&quot;</td><td>&quot;2019-01-07&quot;</td><td>&quot;2019-01-07 09:56:00.0&quot;</td><td>&quot;2019-01-07 12:47:00.0&quot;</td><td>&quot;2019-01-07 15:56:00.0&quot;</td><td>&quot;2019-01-07 18:47:00.0&quot;</td></tr><tr><td>1234</td><td>&quot;L1&quot;</td><td>5823</td><td>&quot;Airport43&quot;</td><td>&quot;Airport4&quot;</td><td>&quot;2019-01-07&quot;</td><td>&quot;2019-01-07 15:55:00.0&quot;</td><td>&quot;2019-01-07 18:51:00.0&quot;</td><td>&quot;2019-01-07 21:55:00.0&quot;</td><td>&quot;2019-01-08 00:51:00.0&quot;</td></tr></tbody></table></div>"
      ],
      "text/plain": [
       "shape: (1_234, 10)\n",
       "┌──────┬─────────┬─────────┬───────────┬───┬─────────────┬─────────────┬─────────────┬─────────────┐\n",
       "│      ┆ carrier ┆ flt_num ┆ origin    ┆ … ┆ flt_departu ┆ flt_arrival ┆ flt_departu ┆ flt_arrival │\n",
       "│ ---  ┆ ---     ┆ ---     ┆ ---       ┆   ┆ re_local_ti ┆ _local_time ┆ re_gmt      ┆ _gmt        │\n",
       "│ i64  ┆ str     ┆ i64     ┆ str       ┆   ┆ me          ┆ ---         ┆ ---         ┆ ---         │\n",
       "│      ┆         ┆         ┆           ┆   ┆ ---         ┆ str         ┆ str         ┆ str         │\n",
       "│      ┆         ┆         ┆           ┆   ┆ str         ┆             ┆             ┆             │\n",
       "╞══════╪═════════╪═════════╪═══════════╪═══╪═════════════╪═════════════╪═════════════╪═════════════╡\n",
       "│ 1    ┆ L1      ┆ 3437    ┆ Airport26 ┆ … ┆ 2019-01-01  ┆ 2019-01-01  ┆ 2019-01-02  ┆ 2019-01-02  │\n",
       "│      ┆         ┆         ┆           ┆   ┆ 18:28:00.0  ┆ 19:49:00.0  ┆ 00:28:00.0  ┆ 03:49:00.0  │\n",
       "│ 2    ┆ L1      ┆ 7760    ┆ Airport26 ┆ … ┆ 2019-01-01  ┆ 2019-01-01  ┆ 2019-01-01  ┆ 2019-01-01  │\n",
       "│      ┆         ┆         ┆           ┆   ┆ 07:50:00.0  ┆ 09:12:00.0  ┆ 13:50:00.0  ┆ 17:12:00.0  │\n",
       "│ 3    ┆ L1      ┆ 1609    ┆ Airport26 ┆ … ┆ 2019-01-01  ┆ 2019-01-01  ┆ 2019-01-01  ┆ 2019-01-01  │\n",
       "│      ┆         ┆         ┆           ┆   ┆ 11:55:00.0  ┆ 13:19:00.0  ┆ 17:55:00.0  ┆ 21:19:00.0  │\n",
       "│ 4    ┆ L1      ┆ 1487    ┆ Airport26 ┆ … ┆ 2019-01-01  ┆ 2019-01-01  ┆ 2019-01-01  ┆ 2019-01-01  │\n",
       "│      ┆         ┆         ┆           ┆   ┆ 14:20:00.0  ┆ 15:41:00.0  ┆ 20:20:00.0  ┆ 23:41:00.0  │\n",
       "│ 5    ┆ L1      ┆ 5701    ┆ Airport26 ┆ … ┆ 2019-01-01  ┆ 2019-01-01  ┆ 2019-01-02  ┆ 2019-01-02  │\n",
       "│      ┆         ┆         ┆           ┆   ┆ 22:05:00.0  ┆ 23:26:00.0  ┆ 04:05:00.0  ┆ 07:26:00.0  │\n",
       "│ …    ┆ …       ┆ …       ┆ …         ┆ … ┆ …           ┆ …           ┆ …           ┆ …           │\n",
       "│ 1230 ┆ L2      ┆ 3795    ┆ Airport43 ┆ … ┆ 2019-01-07  ┆ 2019-01-07  ┆ 2019-01-07  ┆ 2019-01-08  │\n",
       "│      ┆         ┆         ┆           ┆   ┆ 17:55:00.0  ┆ 20:42:00.0  ┆ 23:55:00.0  ┆ 02:42:00.0  │\n",
       "│ 1231 ┆ L1      ┆ 1763    ┆ Airport43 ┆ … ┆ 2019-01-07  ┆ 2019-01-07  ┆ 2019-01-08  ┆ 2019-01-08  │\n",
       "│      ┆         ┆         ┆           ┆   ┆ 19:49:00.0  ┆ 22:47:00.0  ┆ 01:49:00.0  ┆ 04:47:00.0  │\n",
       "│ 1232 ┆ L1      ┆ 11466   ┆ Airport43 ┆ … ┆ 2019-01-07  ┆ 2019-01-07  ┆ 2019-01-07  ┆ 2019-01-07  │\n",
       "│      ┆         ┆         ┆           ┆   ┆ 07:48:00.0  ┆ 10:50:00.0  ┆ 13:48:00.0  ┆ 16:50:00.0  │\n",
       "│ 1233 ┆ L2      ┆ 8018    ┆ Airport43 ┆ … ┆ 2019-01-07  ┆ 2019-01-07  ┆ 2019-01-07  ┆ 2019-01-07  │\n",
       "│      ┆         ┆         ┆           ┆   ┆ 09:56:00.0  ┆ 12:47:00.0  ┆ 15:56:00.0  ┆ 18:47:00.0  │\n",
       "│ 1234 ┆ L1      ┆ 5823    ┆ Airport43 ┆ … ┆ 2019-01-07  ┆ 2019-01-07  ┆ 2019-01-07  ┆ 2019-01-08  │\n",
       "│      ┆         ┆         ┆           ┆   ┆ 15:55:00.0  ┆ 18:51:00.0  ┆ 21:55:00.0  ┆ 00:51:00.0  │\n",
       "└──────┴─────────┴─────────┴───────────┴───┴─────────────┴─────────────┴─────────────┴─────────────┘"
      ]
     },
     "metadata": {},
     "output_type": "display_data"
    },
    {
     "name": "stdout",
     "output_type": "stream",
     "text": [
      "Null counts\n"
     ]
    },
    {
     "data": {
      "text/html": [
       "<div><style>\n",
       ".dataframe > thead > tr,\n",
       ".dataframe > tbody > tr {\n",
       "  text-align: right;\n",
       "  white-space: pre-wrap;\n",
       "}\n",
       "</style>\n",
       "<small>shape: (1, 10)</small><table border=\"1\" class=\"dataframe\"><thead><tr><th></th><th>carrier</th><th>flt_num</th><th>origin</th><th>destination</th><th>flt_departure_dt</th><th>flt_departure_local_time</th><th>flt_arrival_local_time</th><th>flt_departure_gmt</th><th>flt_arrival_gmt</th></tr><tr><td>u32</td><td>u32</td><td>u32</td><td>u32</td><td>u32</td><td>u32</td><td>u32</td><td>u32</td><td>u32</td><td>u32</td></tr></thead><tbody><tr><td>0</td><td>0</td><td>0</td><td>0</td><td>0</td><td>0</td><td>0</td><td>0</td><td>0</td><td>0</td></tr></tbody></table></div>"
      ],
      "text/plain": [
       "shape: (1, 10)\n",
       "┌─────┬─────────┬─────────┬────────┬───┬──────────────┬──────────────┬──────────────┬──────────────┐\n",
       "│     ┆ carrier ┆ flt_num ┆ origin ┆ … ┆ flt_departur ┆ flt_arrival_ ┆ flt_departur ┆ flt_arrival_ │\n",
       "│ --- ┆ ---     ┆ ---     ┆ ---    ┆   ┆ e_local_time ┆ local_time   ┆ e_gmt        ┆ gmt          │\n",
       "│ u32 ┆ u32     ┆ u32     ┆ u32    ┆   ┆ ---          ┆ ---          ┆ ---          ┆ ---          │\n",
       "│     ┆         ┆         ┆        ┆   ┆ u32          ┆ u32          ┆ u32          ┆ u32          │\n",
       "╞═════╪═════════╪═════════╪════════╪═══╪══════════════╪══════════════╪══════════════╪══════════════╡\n",
       "│ 0   ┆ 0       ┆ 0       ┆ 0      ┆ … ┆ 0            ┆ 0            ┆ 0            ┆ 0            │\n",
       "└─────┴─────────┴─────────┴────────┴───┴──────────────┴──────────────┴──────────────┴──────────────┘"
      ]
     },
     "metadata": {},
     "output_type": "display_data"
    },
    {
     "name": "stdout",
     "output_type": "stream",
     "text": [
      "Count of unique values\n"
     ]
    },
    {
     "data": {
      "text/html": [
       "<div><style>\n",
       ".dataframe > thead > tr,\n",
       ".dataframe > tbody > tr {\n",
       "  text-align: right;\n",
       "  white-space: pre-wrap;\n",
       "}\n",
       "</style>\n",
       "<small>shape: (1, 10)</small><table border=\"1\" class=\"dataframe\"><thead><tr><th></th><th>carrier</th><th>flt_num</th><th>origin</th><th>destination</th><th>flt_departure_dt</th><th>flt_departure_local_time</th><th>flt_arrival_local_time</th><th>flt_departure_gmt</th><th>flt_arrival_gmt</th></tr><tr><td>u32</td><td>u32</td><td>u32</td><td>u32</td><td>u32</td><td>u32</td><td>u32</td><td>u32</td><td>u32</td><td>u32</td></tr></thead><tbody><tr><td>1234</td><td>6</td><td>445</td><td>8</td><td>8</td><td>7</td><td>1016</td><td>1106</td><td>1019</td><td>1105</td></tr></tbody></table></div>"
      ],
      "text/plain": [
       "shape: (1, 10)\n",
       "┌──────┬─────────┬─────────┬────────┬───┬──────────────┬──────────────┬──────────────┬─────────────┐\n",
       "│      ┆ carrier ┆ flt_num ┆ origin ┆ … ┆ flt_departur ┆ flt_arrival_ ┆ flt_departur ┆ flt_arrival │\n",
       "│ ---  ┆ ---     ┆ ---     ┆ ---    ┆   ┆ e_local_time ┆ local_time   ┆ e_gmt        ┆ _gmt        │\n",
       "│ u32  ┆ u32     ┆ u32     ┆ u32    ┆   ┆ ---          ┆ ---          ┆ ---          ┆ ---         │\n",
       "│      ┆         ┆         ┆        ┆   ┆ u32          ┆ u32          ┆ u32          ┆ u32         │\n",
       "╞══════╪═════════╪═════════╪════════╪═══╪══════════════╪══════════════╪══════════════╪═════════════╡\n",
       "│ 1234 ┆ 6       ┆ 445     ┆ 8      ┆ … ┆ 1016         ┆ 1106         ┆ 1019         ┆ 1105        │\n",
       "└──────┴─────────┴─────────┴────────┴───┴──────────────┴──────────────┴──────────────┴─────────────┘"
      ]
     },
     "metadata": {},
     "output_type": "display_data"
    }
   ],
   "source": [
    "test_sch_df = load_parquet_df(RAW_DATA_DIR.joinpath(\"test\", \"test_schedules.parquet\"))"
   ]
  },
  {
   "cell_type": "markdown",
   "metadata": {},
   "source": [
    "### Services index"
   ]
  },
  {
   "cell_type": "code",
   "execution_count": 7,
   "metadata": {},
   "outputs": [
    {
     "data": {
      "text/html": [
       "<div><style>\n",
       ".dataframe > thead > tr,\n",
       ".dataframe > tbody > tr {\n",
       "  text-align: right;\n",
       "  white-space: pre-wrap;\n",
       "}\n",
       "</style>\n",
       "<small>shape: (18_657, 8)</small><table border=\"1\" class=\"dataframe\"><thead><tr><th></th><th>yr</th><th>mo</th><th>origin</th><th>destination</th><th>carrier</th><th>scaled_demand</th><th>scaled_share</th></tr><tr><td>i64</td><td>i64</td><td>i64</td><td>str</td><td>str</td><td>str</td><td>i64</td><td>i64</td></tr></thead><tbody><tr><td>1</td><td>2017</td><td>12</td><td>&quot;Airport10&quot;</td><td>&quot;Airport31&quot;</td><td>&quot;U2&quot;</td><td>2820</td><td>160</td></tr><tr><td>2</td><td>2017</td><td>12</td><td>&quot;Airport10&quot;</td><td>&quot;Airport43&quot;</td><td>&quot;L3&quot;</td><td>1708</td><td>169</td></tr><tr><td>3</td><td>2017</td><td>12</td><td>&quot;Airport10&quot;</td><td>&quot;Airport60&quot;</td><td>&quot;L2&quot;</td><td>1071</td><td>180</td></tr><tr><td>4</td><td>2017</td><td>12</td><td>&quot;Airport16&quot;</td><td>&quot;Airport60&quot;</td><td>&quot;U1&quot;</td><td>1633</td><td>160</td></tr><tr><td>5</td><td>2017</td><td>12</td><td>&quot;Airport17&quot;</td><td>&quot;Airport1&quot;</td><td>&quot;OTH&quot;</td><td>988</td><td>275</td></tr><tr><td>&hellip;</td><td>&hellip;</td><td>&hellip;</td><td>&hellip;</td><td>&hellip;</td><td>&hellip;</td><td>&hellip;</td><td>&hellip;</td></tr><tr><td>18653</td><td>2018</td><td>12</td><td>&quot;Airport63&quot;</td><td>&quot;Airport31&quot;</td><td>&quot;L2&quot;</td><td>3193</td><td>224</td></tr><tr><td>18654</td><td>2018</td><td>12</td><td>&quot;Airport63&quot;</td><td>&quot;Airport43&quot;</td><td>&quot;U1&quot;</td><td>765</td><td>161</td></tr><tr><td>18655</td><td>2018</td><td>12</td><td>&quot;Airport64&quot;</td><td>&quot;Airport17&quot;</td><td>&quot;OTH&quot;</td><td>2912</td><td>313</td></tr><tr><td>18656</td><td>2018</td><td>12</td><td>&quot;Airport66&quot;</td><td>&quot;Airport43&quot;</td><td>&quot;L3&quot;</td><td>3374</td><td>168</td></tr><tr><td>18657</td><td>2018</td><td>12</td><td>&quot;Airport8&quot;</td><td>&quot;Airport20&quot;</td><td>&quot;U2&quot;</td><td>2600</td><td>279</td></tr></tbody></table></div>"
      ],
      "text/plain": [
       "shape: (18_657, 8)\n",
       "┌───────┬──────┬─────┬───────────┬─────────────┬─────────┬───────────────┬──────────────┐\n",
       "│       ┆ yr   ┆ mo  ┆ origin    ┆ destination ┆ carrier ┆ scaled_demand ┆ scaled_share │\n",
       "│ ---   ┆ ---  ┆ --- ┆ ---       ┆ ---         ┆ ---     ┆ ---           ┆ ---          │\n",
       "│ i64   ┆ i64  ┆ i64 ┆ str       ┆ str         ┆ str     ┆ i64           ┆ i64          │\n",
       "╞═══════╪══════╪═════╪═══════════╪═════════════╪═════════╪═══════════════╪══════════════╡\n",
       "│ 1     ┆ 2017 ┆ 12  ┆ Airport10 ┆ Airport31   ┆ U2      ┆ 2820          ┆ 160          │\n",
       "│ 2     ┆ 2017 ┆ 12  ┆ Airport10 ┆ Airport43   ┆ L3      ┆ 1708          ┆ 169          │\n",
       "│ 3     ┆ 2017 ┆ 12  ┆ Airport10 ┆ Airport60   ┆ L2      ┆ 1071          ┆ 180          │\n",
       "│ 4     ┆ 2017 ┆ 12  ┆ Airport16 ┆ Airport60   ┆ U1      ┆ 1633          ┆ 160          │\n",
       "│ 5     ┆ 2017 ┆ 12  ┆ Airport17 ┆ Airport1    ┆ OTH     ┆ 988           ┆ 275          │\n",
       "│ …     ┆ …    ┆ …   ┆ …         ┆ …           ┆ …       ┆ …             ┆ …            │\n",
       "│ 18653 ┆ 2018 ┆ 12  ┆ Airport63 ┆ Airport31   ┆ L2      ┆ 3193          ┆ 224          │\n",
       "│ 18654 ┆ 2018 ┆ 12  ┆ Airport63 ┆ Airport43   ┆ U1      ┆ 765           ┆ 161          │\n",
       "│ 18655 ┆ 2018 ┆ 12  ┆ Airport64 ┆ Airport17   ┆ OTH     ┆ 2912          ┆ 313          │\n",
       "│ 18656 ┆ 2018 ┆ 12  ┆ Airport66 ┆ Airport43   ┆ L3      ┆ 3374          ┆ 168          │\n",
       "│ 18657 ┆ 2018 ┆ 12  ┆ Airport8  ┆ Airport20   ┆ U2      ┆ 2600          ┆ 279          │\n",
       "└───────┴──────┴─────┴───────────┴─────────────┴─────────┴───────────────┴──────────────┘"
      ]
     },
     "metadata": {},
     "output_type": "display_data"
    },
    {
     "name": "stdout",
     "output_type": "stream",
     "text": [
      "Null counts\n"
     ]
    },
    {
     "data": {
      "text/html": [
       "<div><style>\n",
       ".dataframe > thead > tr,\n",
       ".dataframe > tbody > tr {\n",
       "  text-align: right;\n",
       "  white-space: pre-wrap;\n",
       "}\n",
       "</style>\n",
       "<small>shape: (1, 8)</small><table border=\"1\" class=\"dataframe\"><thead><tr><th></th><th>yr</th><th>mo</th><th>origin</th><th>destination</th><th>carrier</th><th>scaled_demand</th><th>scaled_share</th></tr><tr><td>u32</td><td>u32</td><td>u32</td><td>u32</td><td>u32</td><td>u32</td><td>u32</td><td>u32</td></tr></thead><tbody><tr><td>0</td><td>0</td><td>0</td><td>0</td><td>0</td><td>0</td><td>0</td><td>0</td></tr></tbody></table></div>"
      ],
      "text/plain": [
       "shape: (1, 8)\n",
       "┌─────┬─────┬─────┬────────┬─────────────┬─────────┬───────────────┬──────────────┐\n",
       "│     ┆ yr  ┆ mo  ┆ origin ┆ destination ┆ carrier ┆ scaled_demand ┆ scaled_share │\n",
       "│ --- ┆ --- ┆ --- ┆ ---    ┆ ---         ┆ ---     ┆ ---           ┆ ---          │\n",
       "│ u32 ┆ u32 ┆ u32 ┆ u32    ┆ u32         ┆ u32     ┆ u32           ┆ u32          │\n",
       "╞═════╪═════╪═════╪════════╪═════════════╪═════════╪═══════════════╪══════════════╡\n",
       "│ 0   ┆ 0   ┆ 0   ┆ 0      ┆ 0           ┆ 0       ┆ 0             ┆ 0            │\n",
       "└─────┴─────┴─────┴────────┴─────────────┴─────────┴───────────────┴──────────────┘"
      ]
     },
     "metadata": {},
     "output_type": "display_data"
    },
    {
     "name": "stdout",
     "output_type": "stream",
     "text": [
      "Count of unique values\n"
     ]
    },
    {
     "data": {
      "text/html": [
       "<div><style>\n",
       ".dataframe > thead > tr,\n",
       ".dataframe > tbody > tr {\n",
       "  text-align: right;\n",
       "  white-space: pre-wrap;\n",
       "}\n",
       "</style>\n",
       "<small>shape: (1, 8)</small><table border=\"1\" class=\"dataframe\"><thead><tr><th></th><th>yr</th><th>mo</th><th>origin</th><th>destination</th><th>carrier</th><th>scaled_demand</th><th>scaled_share</th></tr><tr><td>u32</td><td>u32</td><td>u32</td><td>u32</td><td>u32</td><td>u32</td><td>u32</td><td>u32</td></tr></thead><tbody><tr><td>18657</td><td>2</td><td>12</td><td>66</td><td>66</td><td>7</td><td>1563</td><td>313</td></tr></tbody></table></div>"
      ],
      "text/plain": [
       "shape: (1, 8)\n",
       "┌───────┬─────┬─────┬────────┬─────────────┬─────────┬───────────────┬──────────────┐\n",
       "│       ┆ yr  ┆ mo  ┆ origin ┆ destination ┆ carrier ┆ scaled_demand ┆ scaled_share │\n",
       "│ ---   ┆ --- ┆ --- ┆ ---    ┆ ---         ┆ ---     ┆ ---           ┆ ---          │\n",
       "│ u32   ┆ u32 ┆ u32 ┆ u32    ┆ u32         ┆ u32     ┆ u32           ┆ u32          │\n",
       "╞═══════╪═════╪═════╪════════╪═════════════╪═════════╪═══════════════╪══════════════╡\n",
       "│ 18657 ┆ 2   ┆ 12  ┆ 66     ┆ 66          ┆ 7       ┆ 1563          ┆ 313          │\n",
       "└───────┴─────┴─────┴────────┴─────────────┴─────────┴───────────────┴──────────────┘"
      ]
     },
     "metadata": {},
     "output_type": "display_data"
    }
   ],
   "source": [
    "services_df = load_parquet_df(RAW_DATA_DIR.joinpath(\"training\", \"service_index.parquet\"))"
   ]
  },
  {
   "cell_type": "markdown",
   "metadata": {},
   "source": [
    "## Preprocessing"
   ]
  },
  {
   "cell_type": "markdown",
   "metadata": {},
   "source": [
    "### Datetime formatting\n",
    "\n",
    "[Chrono format specification](https://docs.rs/chrono/latest/chrono/format/strftime/index.html)"
   ]
  },
  {
   "cell_type": "code",
   "execution_count": 8,
   "metadata": {},
   "outputs": [
    {
     "data": {
      "text/html": [
       "<div><style>\n",
       ".dataframe > thead > tr,\n",
       ".dataframe > tbody > tr {\n",
       "  text-align: right;\n",
       "  white-space: pre-wrap;\n",
       "}\n",
       "</style>\n",
       "<small>shape: (2_160_016, 10)</small><table border=\"1\" class=\"dataframe\"><thead><tr><th></th><th>origin</th><th>destination</th><th>carrier</th><th>flt_num</th><th>flt_departure_dt</th><th>observation_date</th><th>total_fare</th><th>origin_city</th><th>destination_city</th></tr><tr><td>i64</td><td>str</td><td>str</td><td>str</td><td>i64</td><td>date</td><td>date</td><td>i64</td><td>str</td><td>str</td></tr></thead><tbody><tr><td>1</td><td>&quot;Airport4&quot;</td><td>&quot;Airport43&quot;</td><td>&quot;L1&quot;</td><td>5911</td><td>2018-01-03</td><td>2017-11-29</td><td>538</td><td>&quot;City4&quot;</td><td>&quot;City39&quot;</td></tr><tr><td>2</td><td>&quot;Airport4&quot;</td><td>&quot;Airport43&quot;</td><td>&quot;L1&quot;</td><td>6589</td><td>2018-01-03</td><td>2017-11-29</td><td>538</td><td>&quot;City4&quot;</td><td>&quot;City39&quot;</td></tr><tr><td>3</td><td>&quot;Airport4&quot;</td><td>&quot;Airport43&quot;</td><td>&quot;L1&quot;</td><td>2689</td><td>2018-01-03</td><td>2017-11-29</td><td>538</td><td>&quot;City4&quot;</td><td>&quot;City39&quot;</td></tr><tr><td>4</td><td>&quot;Airport4&quot;</td><td>&quot;Airport43&quot;</td><td>&quot;L2&quot;</td><td>8244</td><td>2018-01-03</td><td>2017-11-29</td><td>557</td><td>&quot;City4&quot;</td><td>&quot;City39&quot;</td></tr><tr><td>5</td><td>&quot;Airport4&quot;</td><td>&quot;Airport43&quot;</td><td>&quot;L2&quot;</td><td>8523</td><td>2018-01-03</td><td>2017-11-29</td><td>557</td><td>&quot;City4&quot;</td><td>&quot;City39&quot;</td></tr><tr><td>&hellip;</td><td>&hellip;</td><td>&hellip;</td><td>&hellip;</td><td>&hellip;</td><td>&hellip;</td><td>&hellip;</td><td>&hellip;</td><td>&hellip;</td><td>&hellip;</td></tr><tr><td>2160012</td><td>&quot;Airport20&quot;</td><td>&quot;Airport4&quot;</td><td>&quot;L1&quot;</td><td>7431</td><td>2018-10-20</td><td>2018-09-19</td><td>737</td><td>&quot;City19&quot;</td><td>&quot;City4&quot;</td></tr><tr><td>2160013</td><td>&quot;Airport20&quot;</td><td>&quot;Airport4&quot;</td><td>&quot;L1&quot;</td><td>5927</td><td>2018-10-20</td><td>2018-09-19</td><td>498</td><td>&quot;City19&quot;</td><td>&quot;City4&quot;</td></tr><tr><td>2160014</td><td>&quot;Airport20&quot;</td><td>&quot;Airport4&quot;</td><td>&quot;L1&quot;</td><td>7431</td><td>2018-10-21</td><td>2018-09-19</td><td>599</td><td>&quot;City19&quot;</td><td>&quot;City4&quot;</td></tr><tr><td>2160015</td><td>&quot;Airport20&quot;</td><td>&quot;Airport4&quot;</td><td>&quot;L1&quot;</td><td>7434</td><td>2018-10-21</td><td>2018-09-19</td><td>1428</td><td>&quot;City19&quot;</td><td>&quot;City4&quot;</td></tr><tr><td>2160016</td><td>&quot;Airport20&quot;</td><td>&quot;Airport4&quot;</td><td>&quot;L1&quot;</td><td>5927</td><td>2018-10-21</td><td>2018-09-19</td><td>916</td><td>&quot;City19&quot;</td><td>&quot;City4&quot;</td></tr></tbody></table></div>"
      ],
      "text/plain": [
       "shape: (2_160_016, 10)\n",
       "┌─────────┬───────────┬────────────┬─────────┬───┬────────────┬────────────┬───────────┬───────────┐\n",
       "│         ┆ origin    ┆ destinatio ┆ carrier ┆ … ┆ observatio ┆ total_fare ┆ origin_ci ┆ destinati │\n",
       "│ ---     ┆ ---       ┆ n          ┆ ---     ┆   ┆ n_date     ┆ ---        ┆ ty        ┆ on_city   │\n",
       "│ i64     ┆ str       ┆ ---        ┆ str     ┆   ┆ ---        ┆ i64        ┆ ---       ┆ ---       │\n",
       "│         ┆           ┆ str        ┆         ┆   ┆ date       ┆            ┆ str       ┆ str       │\n",
       "╞═════════╪═══════════╪════════════╪═════════╪═══╪════════════╪════════════╪═══════════╪═══════════╡\n",
       "│ 1       ┆ Airport4  ┆ Airport43  ┆ L1      ┆ … ┆ 2017-11-29 ┆ 538        ┆ City4     ┆ City39    │\n",
       "│ 2       ┆ Airport4  ┆ Airport43  ┆ L1      ┆ … ┆ 2017-11-29 ┆ 538        ┆ City4     ┆ City39    │\n",
       "│ 3       ┆ Airport4  ┆ Airport43  ┆ L1      ┆ … ┆ 2017-11-29 ┆ 538        ┆ City4     ┆ City39    │\n",
       "│ 4       ┆ Airport4  ┆ Airport43  ┆ L2      ┆ … ┆ 2017-11-29 ┆ 557        ┆ City4     ┆ City39    │\n",
       "│ 5       ┆ Airport4  ┆ Airport43  ┆ L2      ┆ … ┆ 2017-11-29 ┆ 557        ┆ City4     ┆ City39    │\n",
       "│ …       ┆ …         ┆ …          ┆ …       ┆ … ┆ …          ┆ …          ┆ …         ┆ …         │\n",
       "│ 2160012 ┆ Airport20 ┆ Airport4   ┆ L1      ┆ … ┆ 2018-09-19 ┆ 737        ┆ City19    ┆ City4     │\n",
       "│ 2160013 ┆ Airport20 ┆ Airport4   ┆ L1      ┆ … ┆ 2018-09-19 ┆ 498        ┆ City19    ┆ City4     │\n",
       "│ 2160014 ┆ Airport20 ┆ Airport4   ┆ L1      ┆ … ┆ 2018-09-19 ┆ 599        ┆ City19    ┆ City4     │\n",
       "│ 2160015 ┆ Airport20 ┆ Airport4   ┆ L1      ┆ … ┆ 2018-09-19 ┆ 1428       ┆ City19    ┆ City4     │\n",
       "│ 2160016 ┆ Airport20 ┆ Airport4   ┆ L1      ┆ … ┆ 2018-09-19 ┆ 916        ┆ City19    ┆ City4     │\n",
       "└─────────┴───────────┴────────────┴─────────┴───┴────────────┴────────────┴───────────┴───────────┘"
      ]
     },
     "execution_count": 8,
     "metadata": {},
     "output_type": "execute_result"
    }
   ],
   "source": [
    "train_fares_df = train_fares_df.with_columns(\n",
    "    pl.col(\n",
    "        ['flt_departure_dt', 'observation_date']\n",
    "    ).str.strptime(\n",
    "        pl.Date,\n",
    "        format = r\"%Y-%m-%d\"\n",
    "    )\n",
    ")\n",
    "train_fares_df"
   ]
  },
  {
   "cell_type": "code",
   "execution_count": 9,
   "metadata": {},
   "outputs": [
    {
     "data": {
      "text/html": [
       "<div><style>\n",
       ".dataframe > thead > tr,\n",
       ".dataframe > tbody > tr {\n",
       "  text-align: right;\n",
       "  white-space: pre-wrap;\n",
       "}\n",
       "</style>\n",
       "<small>shape: (29_825, 9)</small><table border=\"1\" class=\"dataframe\"><thead><tr><th></th><th>origin</th><th>destination</th><th>carrier</th><th>flt_num</th><th>flt_departure_dt</th><th>observation_date</th><th>origin_city</th><th>destination_city</th></tr><tr><td>i64</td><td>str</td><td>str</td><td>str</td><td>i64</td><td>date</td><td>date</td><td>str</td><td>str</td></tr></thead><tbody><tr><td>1</td><td>&quot;Airport4&quot;</td><td>&quot;Airport43&quot;</td><td>&quot;L2&quot;</td><td>7465</td><td>2019-01-01</td><td>2018-11-27</td><td>&quot;City4&quot;</td><td>&quot;City39&quot;</td></tr><tr><td>2</td><td>&quot;Airport4&quot;</td><td>&quot;Airport43&quot;</td><td>&quot;L2&quot;</td><td>7067</td><td>2019-01-01</td><td>2018-11-27</td><td>&quot;City4&quot;</td><td>&quot;City39&quot;</td></tr><tr><td>3</td><td>&quot;Airport4&quot;</td><td>&quot;Airport43&quot;</td><td>&quot;L2&quot;</td><td>1232</td><td>2019-01-01</td><td>2018-11-27</td><td>&quot;City4&quot;</td><td>&quot;City39&quot;</td></tr><tr><td>4</td><td>&quot;Airport43&quot;</td><td>&quot;Airport4&quot;</td><td>&quot;L1&quot;</td><td>17783</td><td>2019-01-03</td><td>2018-11-29</td><td>&quot;City39&quot;</td><td>&quot;City4&quot;</td></tr><tr><td>5</td><td>&quot;Airport43&quot;</td><td>&quot;Airport4&quot;</td><td>&quot;L1&quot;</td><td>5823</td><td>2019-01-03</td><td>2018-11-29</td><td>&quot;City39&quot;</td><td>&quot;City4&quot;</td></tr><tr><td>&hellip;</td><td>&hellip;</td><td>&hellip;</td><td>&hellip;</td><td>&hellip;</td><td>&hellip;</td><td>&hellip;</td><td>&hellip;</td><td>&hellip;</td></tr><tr><td>29821</td><td>&quot;Airport4&quot;</td><td>&quot;Airport43&quot;</td><td>&quot;L2&quot;</td><td>7067</td><td>2019-01-06</td><td>2018-12-31</td><td>&quot;City4&quot;</td><td>&quot;City39&quot;</td></tr><tr><td>29822</td><td>&quot;Airport4&quot;</td><td>&quot;Airport43&quot;</td><td>&quot;L2&quot;</td><td>1232</td><td>2019-01-06</td><td>2018-12-31</td><td>&quot;City4&quot;</td><td>&quot;City39&quot;</td></tr><tr><td>29823</td><td>&quot;Airport17&quot;</td><td>&quot;Airport4&quot;</td><td>&quot;L1&quot;</td><td>1484</td><td>2019-01-07</td><td>2018-12-31</td><td>&quot;City17&quot;</td><td>&quot;City4&quot;</td></tr><tr><td>29824</td><td>&quot;Airport17&quot;</td><td>&quot;Airport4&quot;</td><td>&quot;L1&quot;</td><td>18471</td><td>2019-01-07</td><td>2018-12-31</td><td>&quot;City17&quot;</td><td>&quot;City4&quot;</td></tr><tr><td>29825</td><td>&quot;Airport17&quot;</td><td>&quot;Airport4&quot;</td><td>&quot;L1&quot;</td><td>1487</td><td>2019-01-07</td><td>2018-12-31</td><td>&quot;City17&quot;</td><td>&quot;City4&quot;</td></tr></tbody></table></div>"
      ],
      "text/plain": [
       "shape: (29_825, 9)\n",
       "┌───────┬───────────┬────────────┬─────────┬───┬────────────┬────────────┬────────────┬────────────┐\n",
       "│       ┆ origin    ┆ destinatio ┆ carrier ┆ … ┆ flt_depart ┆ observatio ┆ origin_cit ┆ destinatio │\n",
       "│ ---   ┆ ---       ┆ n          ┆ ---     ┆   ┆ ure_dt     ┆ n_date     ┆ y          ┆ n_city     │\n",
       "│ i64   ┆ str       ┆ ---        ┆ str     ┆   ┆ ---        ┆ ---        ┆ ---        ┆ ---        │\n",
       "│       ┆           ┆ str        ┆         ┆   ┆ date       ┆ date       ┆ str        ┆ str        │\n",
       "╞═══════╪═══════════╪════════════╪═════════╪═══╪════════════╪════════════╪════════════╪════════════╡\n",
       "│ 1     ┆ Airport4  ┆ Airport43  ┆ L2      ┆ … ┆ 2019-01-01 ┆ 2018-11-27 ┆ City4      ┆ City39     │\n",
       "│ 2     ┆ Airport4  ┆ Airport43  ┆ L2      ┆ … ┆ 2019-01-01 ┆ 2018-11-27 ┆ City4      ┆ City39     │\n",
       "│ 3     ┆ Airport4  ┆ Airport43  ┆ L2      ┆ … ┆ 2019-01-01 ┆ 2018-11-27 ┆ City4      ┆ City39     │\n",
       "│ 4     ┆ Airport43 ┆ Airport4   ┆ L1      ┆ … ┆ 2019-01-03 ┆ 2018-11-29 ┆ City39     ┆ City4      │\n",
       "│ 5     ┆ Airport43 ┆ Airport4   ┆ L1      ┆ … ┆ 2019-01-03 ┆ 2018-11-29 ┆ City39     ┆ City4      │\n",
       "│ …     ┆ …         ┆ …          ┆ …       ┆ … ┆ …          ┆ …          ┆ …          ┆ …          │\n",
       "│ 29821 ┆ Airport4  ┆ Airport43  ┆ L2      ┆ … ┆ 2019-01-06 ┆ 2018-12-31 ┆ City4      ┆ City39     │\n",
       "│ 29822 ┆ Airport4  ┆ Airport43  ┆ L2      ┆ … ┆ 2019-01-06 ┆ 2018-12-31 ┆ City4      ┆ City39     │\n",
       "│ 29823 ┆ Airport17 ┆ Airport4   ┆ L1      ┆ … ┆ 2019-01-07 ┆ 2018-12-31 ┆ City17     ┆ City4      │\n",
       "│ 29824 ┆ Airport17 ┆ Airport4   ┆ L1      ┆ … ┆ 2019-01-07 ┆ 2018-12-31 ┆ City17     ┆ City4      │\n",
       "│ 29825 ┆ Airport17 ┆ Airport4   ┆ L1      ┆ … ┆ 2019-01-07 ┆ 2018-12-31 ┆ City17     ┆ City4      │\n",
       "└───────┴───────────┴────────────┴─────────┴───┴────────────┴────────────┴────────────┴────────────┘"
      ]
     },
     "execution_count": 9,
     "metadata": {},
     "output_type": "execute_result"
    }
   ],
   "source": [
    "test_fares_df = test_fares_df.with_columns(\n",
    "    pl.col(\n",
    "        ['flt_departure_dt', 'observation_date']\n",
    "    ).str.strptime(\n",
    "        pl.Date,\n",
    "        format = r\"%-m/%-d/%Y\"\n",
    "    )\n",
    ")\n",
    "test_fares_df"
   ]
  },
  {
   "cell_type": "code",
   "execution_count": 10,
   "metadata": {},
   "outputs": [
    {
     "data": {
      "text/html": [
       "<div><style>\n",
       ".dataframe > thead > tr,\n",
       ".dataframe > tbody > tr {\n",
       "  text-align: right;\n",
       "  white-space: pre-wrap;\n",
       "}\n",
       "</style>\n",
       "<small>shape: (63_584, 10)</small><table border=\"1\" class=\"dataframe\"><thead><tr><th></th><th>carrier</th><th>flt_num</th><th>origin</th><th>destination</th><th>flt_departure_dt</th><th>flt_departure_local_time</th><th>flt_arrival_local_time</th><th>flt_departure_gmt</th><th>flt_arrival_gmt</th></tr><tr><td>i64</td><td>str</td><td>i64</td><td>str</td><td>str</td><td>date</td><td>datetime[ns]</td><td>datetime[ns]</td><td>datetime[ns]</td><td>datetime[ns]</td></tr></thead><tbody><tr><td>1</td><td>&quot;L1&quot;</td><td>6800</td><td>&quot;Airport26&quot;</td><td>&quot;Airport30&quot;</td><td>2018-02-01</td><td>2018-02-01 18:43:00</td><td>2018-02-01 20:09:00</td><td>2018-02-02 00:43:00</td><td>2018-02-02 04:09:00</td></tr><tr><td>2</td><td>&quot;OTH&quot;</td><td>783</td><td>&quot;Airport26&quot;</td><td>&quot;Airport30&quot;</td><td>2018-02-01</td><td>2018-02-01 19:45:00</td><td>2018-02-01 21:05:00</td><td>2018-02-02 01:45:00</td><td>2018-02-02 05:05:00</td></tr><tr><td>3</td><td>&quot;L1&quot;</td><td>799</td><td>&quot;Airport26&quot;</td><td>&quot;Airport30&quot;</td><td>2018-02-01</td><td>2018-02-01 12:00:00</td><td>2018-02-01 13:26:00</td><td>2018-02-01 18:00:00</td><td>2018-02-01 21:26:00</td></tr><tr><td>4</td><td>&quot;L1&quot;</td><td>7760</td><td>&quot;Airport26&quot;</td><td>&quot;Airport30&quot;</td><td>2018-02-01</td><td>2018-02-01 07:35:00</td><td>2018-02-01 09:02:00</td><td>2018-02-01 13:35:00</td><td>2018-02-01 17:02:00</td></tr><tr><td>5</td><td>&quot;L1&quot;</td><td>3443</td><td>&quot;Airport26&quot;</td><td>&quot;Airport30&quot;</td><td>2018-02-01</td><td>2018-02-01 09:48:00</td><td>2018-02-01 11:14:00</td><td>2018-02-01 15:48:00</td><td>2018-02-01 19:14:00</td></tr><tr><td>&hellip;</td><td>&hellip;</td><td>&hellip;</td><td>&hellip;</td><td>&hellip;</td><td>&hellip;</td><td>&hellip;</td><td>&hellip;</td><td>&hellip;</td><td>&hellip;</td></tr><tr><td>63580</td><td>&quot;L1&quot;</td><td>5675</td><td>&quot;Airport30&quot;</td><td>&quot;Airport60&quot;</td><td>2018-10-31</td><td>2018-10-31 13:17:00</td><td>2018-10-31 14:53:00</td><td>2018-10-31 20:17:00</td><td>2018-10-31 21:53:00</td></tr><tr><td>63581</td><td>&quot;U1&quot;</td><td>6115</td><td>&quot;Airport30&quot;</td><td>&quot;Airport60&quot;</td><td>2018-10-31</td><td>2018-10-31 06:50:00</td><td>2018-10-31 08:24:00</td><td>2018-10-31 13:50:00</td><td>2018-10-31 15:24:00</td></tr><tr><td>63582</td><td>&quot;U1&quot;</td><td>6184</td><td>&quot;Airport30&quot;</td><td>&quot;Airport60&quot;</td><td>2018-10-31</td><td>2018-10-31 20:20:00</td><td>2018-10-31 22:02:00</td><td>2018-11-01 03:20:00</td><td>2018-11-01 05:02:00</td></tr><tr><td>63583</td><td>&quot;OTH&quot;</td><td>7010</td><td>&quot;Airport30&quot;</td><td>&quot;Airport60&quot;</td><td>2018-10-31</td><td>2018-10-31 08:45:00</td><td>2018-10-31 10:20:00</td><td>2018-10-31 15:45:00</td><td>2018-10-31 17:20:00</td></tr><tr><td>63584</td><td>&quot;L1&quot;</td><td>1292</td><td>&quot;Airport30&quot;</td><td>&quot;Airport60&quot;</td><td>2018-10-31</td><td>2018-10-31 16:53:00</td><td>2018-10-31 18:32:00</td><td>2018-10-31 23:53:00</td><td>2018-11-01 01:32:00</td></tr></tbody></table></div>"
      ],
      "text/plain": [
       "shape: (63_584, 10)\n",
       "┌───────┬─────────┬─────────┬───────────┬───┬─────────────┬─────────────┬─────────────┬────────────┐\n",
       "│       ┆ carrier ┆ flt_num ┆ origin    ┆ … ┆ flt_departu ┆ flt_arrival ┆ flt_departu ┆ flt_arriva │\n",
       "│ ---   ┆ ---     ┆ ---     ┆ ---       ┆   ┆ re_local_ti ┆ _local_time ┆ re_gmt      ┆ l_gmt      │\n",
       "│ i64   ┆ str     ┆ i64     ┆ str       ┆   ┆ me          ┆ ---         ┆ ---         ┆ ---        │\n",
       "│       ┆         ┆         ┆           ┆   ┆ ---         ┆ datetime[ns ┆ datetime[ns ┆ datetime[n │\n",
       "│       ┆         ┆         ┆           ┆   ┆ datetime[ns ┆ ]           ┆ ]           ┆ s]         │\n",
       "│       ┆         ┆         ┆           ┆   ┆ ]           ┆             ┆             ┆            │\n",
       "╞═══════╪═════════╪═════════╪═══════════╪═══╪═════════════╪═════════════╪═════════════╪════════════╡\n",
       "│ 1     ┆ L1      ┆ 6800    ┆ Airport26 ┆ … ┆ 2018-02-01  ┆ 2018-02-01  ┆ 2018-02-02  ┆ 2018-02-02 │\n",
       "│       ┆         ┆         ┆           ┆   ┆ 18:43:00    ┆ 20:09:00    ┆ 00:43:00    ┆ 04:09:00   │\n",
       "│ 2     ┆ OTH     ┆ 783     ┆ Airport26 ┆ … ┆ 2018-02-01  ┆ 2018-02-01  ┆ 2018-02-02  ┆ 2018-02-02 │\n",
       "│       ┆         ┆         ┆           ┆   ┆ 19:45:00    ┆ 21:05:00    ┆ 01:45:00    ┆ 05:05:00   │\n",
       "│ 3     ┆ L1      ┆ 799     ┆ Airport26 ┆ … ┆ 2018-02-01  ┆ 2018-02-01  ┆ 2018-02-01  ┆ 2018-02-01 │\n",
       "│       ┆         ┆         ┆           ┆   ┆ 12:00:00    ┆ 13:26:00    ┆ 18:00:00    ┆ 21:26:00   │\n",
       "│ 4     ┆ L1      ┆ 7760    ┆ Airport26 ┆ … ┆ 2018-02-01  ┆ 2018-02-01  ┆ 2018-02-01  ┆ 2018-02-01 │\n",
       "│       ┆         ┆         ┆           ┆   ┆ 07:35:00    ┆ 09:02:00    ┆ 13:35:00    ┆ 17:02:00   │\n",
       "│ 5     ┆ L1      ┆ 3443    ┆ Airport26 ┆ … ┆ 2018-02-01  ┆ 2018-02-01  ┆ 2018-02-01  ┆ 2018-02-01 │\n",
       "│       ┆         ┆         ┆           ┆   ┆ 09:48:00    ┆ 11:14:00    ┆ 15:48:00    ┆ 19:14:00   │\n",
       "│ …     ┆ …       ┆ …       ┆ …         ┆ … ┆ …           ┆ …           ┆ …           ┆ …          │\n",
       "│ 63580 ┆ L1      ┆ 5675    ┆ Airport30 ┆ … ┆ 2018-10-31  ┆ 2018-10-31  ┆ 2018-10-31  ┆ 2018-10-31 │\n",
       "│       ┆         ┆         ┆           ┆   ┆ 13:17:00    ┆ 14:53:00    ┆ 20:17:00    ┆ 21:53:00   │\n",
       "│ 63581 ┆ U1      ┆ 6115    ┆ Airport30 ┆ … ┆ 2018-10-31  ┆ 2018-10-31  ┆ 2018-10-31  ┆ 2018-10-31 │\n",
       "│       ┆         ┆         ┆           ┆   ┆ 06:50:00    ┆ 08:24:00    ┆ 13:50:00    ┆ 15:24:00   │\n",
       "│ 63582 ┆ U1      ┆ 6184    ┆ Airport30 ┆ … ┆ 2018-10-31  ┆ 2018-10-31  ┆ 2018-11-01  ┆ 2018-11-01 │\n",
       "│       ┆         ┆         ┆           ┆   ┆ 20:20:00    ┆ 22:02:00    ┆ 03:20:00    ┆ 05:02:00   │\n",
       "│ 63583 ┆ OTH     ┆ 7010    ┆ Airport30 ┆ … ┆ 2018-10-31  ┆ 2018-10-31  ┆ 2018-10-31  ┆ 2018-10-31 │\n",
       "│       ┆         ┆         ┆           ┆   ┆ 08:45:00    ┆ 10:20:00    ┆ 15:45:00    ┆ 17:20:00   │\n",
       "│ 63584 ┆ L1      ┆ 1292    ┆ Airport30 ┆ … ┆ 2018-10-31  ┆ 2018-10-31  ┆ 2018-10-31  ┆ 2018-11-01 │\n",
       "│       ┆         ┆         ┆           ┆   ┆ 16:53:00    ┆ 18:32:00    ┆ 23:53:00    ┆ 01:32:00   │\n",
       "└───────┴─────────┴─────────┴───────────┴───┴─────────────┴─────────────┴─────────────┴────────────┘"
      ]
     },
     "execution_count": 10,
     "metadata": {},
     "output_type": "execute_result"
    }
   ],
   "source": [
    "train_sch_df = train_sch_df.with_columns(\n",
    "    pl.col('flt_departure_dt').str.strptime(\n",
    "        pl.Date,\n",
    "        format = r\"%Y-%m-%d\"\n",
    "    ),\n",
    "    pl.col(\n",
    "        ['flt_departure_local_time', 'flt_arrival_local_time', 'flt_departure_gmt', 'flt_arrival_gmt']\n",
    "    ).str.strptime(\n",
    "        pl.Datetime,\n",
    "        format = r\"%Y-%m-%d %H:%M:%S%.f\"\n",
    "    )\n",
    ")\n",
    "train_sch_df"
   ]
  },
  {
   "cell_type": "code",
   "execution_count": 11,
   "metadata": {},
   "outputs": [
    {
     "data": {
      "text/html": [
       "<div><style>\n",
       ".dataframe > thead > tr,\n",
       ".dataframe > tbody > tr {\n",
       "  text-align: right;\n",
       "  white-space: pre-wrap;\n",
       "}\n",
       "</style>\n",
       "<small>shape: (1_234, 10)</small><table border=\"1\" class=\"dataframe\"><thead><tr><th></th><th>carrier</th><th>flt_num</th><th>origin</th><th>destination</th><th>flt_departure_dt</th><th>flt_departure_local_time</th><th>flt_arrival_local_time</th><th>flt_departure_gmt</th><th>flt_arrival_gmt</th></tr><tr><td>i64</td><td>str</td><td>i64</td><td>str</td><td>str</td><td>date</td><td>datetime[ns]</td><td>datetime[ns]</td><td>datetime[ns]</td><td>datetime[ns]</td></tr></thead><tbody><tr><td>1</td><td>&quot;L1&quot;</td><td>3437</td><td>&quot;Airport26&quot;</td><td>&quot;Airport30&quot;</td><td>2019-01-01</td><td>2019-01-01 18:28:00</td><td>2019-01-01 19:49:00</td><td>2019-01-02 00:28:00</td><td>2019-01-02 03:49:00</td></tr><tr><td>2</td><td>&quot;L1&quot;</td><td>7760</td><td>&quot;Airport26&quot;</td><td>&quot;Airport30&quot;</td><td>2019-01-01</td><td>2019-01-01 07:50:00</td><td>2019-01-01 09:12:00</td><td>2019-01-01 13:50:00</td><td>2019-01-01 17:12:00</td></tr><tr><td>3</td><td>&quot;L1&quot;</td><td>1609</td><td>&quot;Airport26&quot;</td><td>&quot;Airport30&quot;</td><td>2019-01-01</td><td>2019-01-01 11:55:00</td><td>2019-01-01 13:19:00</td><td>2019-01-01 17:55:00</td><td>2019-01-01 21:19:00</td></tr><tr><td>4</td><td>&quot;L1&quot;</td><td>1487</td><td>&quot;Airport26&quot;</td><td>&quot;Airport30&quot;</td><td>2019-01-01</td><td>2019-01-01 14:20:00</td><td>2019-01-01 15:41:00</td><td>2019-01-01 20:20:00</td><td>2019-01-01 23:41:00</td></tr><tr><td>5</td><td>&quot;L1&quot;</td><td>5701</td><td>&quot;Airport26&quot;</td><td>&quot;Airport30&quot;</td><td>2019-01-01</td><td>2019-01-01 22:05:00</td><td>2019-01-01 23:26:00</td><td>2019-01-02 04:05:00</td><td>2019-01-02 07:26:00</td></tr><tr><td>&hellip;</td><td>&hellip;</td><td>&hellip;</td><td>&hellip;</td><td>&hellip;</td><td>&hellip;</td><td>&hellip;</td><td>&hellip;</td><td>&hellip;</td><td>&hellip;</td></tr><tr><td>1230</td><td>&quot;L2&quot;</td><td>3795</td><td>&quot;Airport43&quot;</td><td>&quot;Airport4&quot;</td><td>2019-01-07</td><td>2019-01-07 17:55:00</td><td>2019-01-07 20:42:00</td><td>2019-01-07 23:55:00</td><td>2019-01-08 02:42:00</td></tr><tr><td>1231</td><td>&quot;L1&quot;</td><td>1763</td><td>&quot;Airport43&quot;</td><td>&quot;Airport4&quot;</td><td>2019-01-07</td><td>2019-01-07 19:49:00</td><td>2019-01-07 22:47:00</td><td>2019-01-08 01:49:00</td><td>2019-01-08 04:47:00</td></tr><tr><td>1232</td><td>&quot;L1&quot;</td><td>11466</td><td>&quot;Airport43&quot;</td><td>&quot;Airport4&quot;</td><td>2019-01-07</td><td>2019-01-07 07:48:00</td><td>2019-01-07 10:50:00</td><td>2019-01-07 13:48:00</td><td>2019-01-07 16:50:00</td></tr><tr><td>1233</td><td>&quot;L2&quot;</td><td>8018</td><td>&quot;Airport43&quot;</td><td>&quot;Airport4&quot;</td><td>2019-01-07</td><td>2019-01-07 09:56:00</td><td>2019-01-07 12:47:00</td><td>2019-01-07 15:56:00</td><td>2019-01-07 18:47:00</td></tr><tr><td>1234</td><td>&quot;L1&quot;</td><td>5823</td><td>&quot;Airport43&quot;</td><td>&quot;Airport4&quot;</td><td>2019-01-07</td><td>2019-01-07 15:55:00</td><td>2019-01-07 18:51:00</td><td>2019-01-07 21:55:00</td><td>2019-01-08 00:51:00</td></tr></tbody></table></div>"
      ],
      "text/plain": [
       "shape: (1_234, 10)\n",
       "┌──────┬─────────┬─────────┬───────────┬───┬─────────────┬─────────────┬─────────────┬─────────────┐\n",
       "│      ┆ carrier ┆ flt_num ┆ origin    ┆ … ┆ flt_departu ┆ flt_arrival ┆ flt_departu ┆ flt_arrival │\n",
       "│ ---  ┆ ---     ┆ ---     ┆ ---       ┆   ┆ re_local_ti ┆ _local_time ┆ re_gmt      ┆ _gmt        │\n",
       "│ i64  ┆ str     ┆ i64     ┆ str       ┆   ┆ me          ┆ ---         ┆ ---         ┆ ---         │\n",
       "│      ┆         ┆         ┆           ┆   ┆ ---         ┆ datetime[ns ┆ datetime[ns ┆ datetime[ns │\n",
       "│      ┆         ┆         ┆           ┆   ┆ datetime[ns ┆ ]           ┆ ]           ┆ ]           │\n",
       "│      ┆         ┆         ┆           ┆   ┆ ]           ┆             ┆             ┆             │\n",
       "╞══════╪═════════╪═════════╪═══════════╪═══╪═════════════╪═════════════╪═════════════╪═════════════╡\n",
       "│ 1    ┆ L1      ┆ 3437    ┆ Airport26 ┆ … ┆ 2019-01-01  ┆ 2019-01-01  ┆ 2019-01-02  ┆ 2019-01-02  │\n",
       "│      ┆         ┆         ┆           ┆   ┆ 18:28:00    ┆ 19:49:00    ┆ 00:28:00    ┆ 03:49:00    │\n",
       "│ 2    ┆ L1      ┆ 7760    ┆ Airport26 ┆ … ┆ 2019-01-01  ┆ 2019-01-01  ┆ 2019-01-01  ┆ 2019-01-01  │\n",
       "│      ┆         ┆         ┆           ┆   ┆ 07:50:00    ┆ 09:12:00    ┆ 13:50:00    ┆ 17:12:00    │\n",
       "│ 3    ┆ L1      ┆ 1609    ┆ Airport26 ┆ … ┆ 2019-01-01  ┆ 2019-01-01  ┆ 2019-01-01  ┆ 2019-01-01  │\n",
       "│      ┆         ┆         ┆           ┆   ┆ 11:55:00    ┆ 13:19:00    ┆ 17:55:00    ┆ 21:19:00    │\n",
       "│ 4    ┆ L1      ┆ 1487    ┆ Airport26 ┆ … ┆ 2019-01-01  ┆ 2019-01-01  ┆ 2019-01-01  ┆ 2019-01-01  │\n",
       "│      ┆         ┆         ┆           ┆   ┆ 14:20:00    ┆ 15:41:00    ┆ 20:20:00    ┆ 23:41:00    │\n",
       "│ 5    ┆ L1      ┆ 5701    ┆ Airport26 ┆ … ┆ 2019-01-01  ┆ 2019-01-01  ┆ 2019-01-02  ┆ 2019-01-02  │\n",
       "│      ┆         ┆         ┆           ┆   ┆ 22:05:00    ┆ 23:26:00    ┆ 04:05:00    ┆ 07:26:00    │\n",
       "│ …    ┆ …       ┆ …       ┆ …         ┆ … ┆ …           ┆ …           ┆ …           ┆ …           │\n",
       "│ 1230 ┆ L2      ┆ 3795    ┆ Airport43 ┆ … ┆ 2019-01-07  ┆ 2019-01-07  ┆ 2019-01-07  ┆ 2019-01-08  │\n",
       "│      ┆         ┆         ┆           ┆   ┆ 17:55:00    ┆ 20:42:00    ┆ 23:55:00    ┆ 02:42:00    │\n",
       "│ 1231 ┆ L1      ┆ 1763    ┆ Airport43 ┆ … ┆ 2019-01-07  ┆ 2019-01-07  ┆ 2019-01-08  ┆ 2019-01-08  │\n",
       "│      ┆         ┆         ┆           ┆   ┆ 19:49:00    ┆ 22:47:00    ┆ 01:49:00    ┆ 04:47:00    │\n",
       "│ 1232 ┆ L1      ┆ 11466   ┆ Airport43 ┆ … ┆ 2019-01-07  ┆ 2019-01-07  ┆ 2019-01-07  ┆ 2019-01-07  │\n",
       "│      ┆         ┆         ┆           ┆   ┆ 07:48:00    ┆ 10:50:00    ┆ 13:48:00    ┆ 16:50:00    │\n",
       "│ 1233 ┆ L2      ┆ 8018    ┆ Airport43 ┆ … ┆ 2019-01-07  ┆ 2019-01-07  ┆ 2019-01-07  ┆ 2019-01-07  │\n",
       "│      ┆         ┆         ┆           ┆   ┆ 09:56:00    ┆ 12:47:00    ┆ 15:56:00    ┆ 18:47:00    │\n",
       "│ 1234 ┆ L1      ┆ 5823    ┆ Airport43 ┆ … ┆ 2019-01-07  ┆ 2019-01-07  ┆ 2019-01-07  ┆ 2019-01-08  │\n",
       "│      ┆         ┆         ┆           ┆   ┆ 15:55:00    ┆ 18:51:00    ┆ 21:55:00    ┆ 00:51:00    │\n",
       "└──────┴─────────┴─────────┴───────────┴───┴─────────────┴─────────────┴─────────────┴─────────────┘"
      ]
     },
     "execution_count": 11,
     "metadata": {},
     "output_type": "execute_result"
    }
   ],
   "source": [
    "test_sch_df = test_sch_df.with_columns(\n",
    "    pl.col('flt_departure_dt').str.strptime(\n",
    "        pl.Date,\n",
    "        format = r\"%Y-%m-%d\"\n",
    "    ),\n",
    "    pl.col(\n",
    "        ['flt_departure_local_time', 'flt_arrival_local_time', 'flt_departure_gmt', 'flt_arrival_gmt']\n",
    "    ).str.strptime(\n",
    "        pl.Datetime,\n",
    "        format = r\"%Y-%m-%d %H:%M:%S%.f\"\n",
    "    )\n",
    ")\n",
    "test_sch_df"
   ]
  },
  {
   "cell_type": "markdown",
   "metadata": {},
   "source": [
    "### Datetime features"
   ]
  },
  {
   "cell_type": "markdown",
   "metadata": {},
   "source": [
    "#### Days till flight\n",
    "\n",
    "Number of days between the `flt_departure_dt` and `days_till_flight`"
   ]
  },
  {
   "cell_type": "code",
   "execution_count": 12,
   "metadata": {},
   "outputs": [
    {
     "data": {
      "text/html": [
       "<div><style>\n",
       ".dataframe > thead > tr,\n",
       ".dataframe > tbody > tr {\n",
       "  text-align: right;\n",
       "  white-space: pre-wrap;\n",
       "}\n",
       "</style>\n",
       "<small>shape: (2_160_016, 11)</small><table border=\"1\" class=\"dataframe\"><thead><tr><th></th><th>origin</th><th>destination</th><th>carrier</th><th>flt_num</th><th>flt_departure_dt</th><th>observation_date</th><th>total_fare</th><th>origin_city</th><th>destination_city</th><th>days_till_flight</th></tr><tr><td>i64</td><td>str</td><td>str</td><td>str</td><td>i64</td><td>date</td><td>date</td><td>i64</td><td>str</td><td>str</td><td>i64</td></tr></thead><tbody><tr><td>1</td><td>&quot;Airport4&quot;</td><td>&quot;Airport43&quot;</td><td>&quot;L1&quot;</td><td>5911</td><td>2018-01-03</td><td>2017-11-29</td><td>538</td><td>&quot;City4&quot;</td><td>&quot;City39&quot;</td><td>35</td></tr><tr><td>2</td><td>&quot;Airport4&quot;</td><td>&quot;Airport43&quot;</td><td>&quot;L1&quot;</td><td>6589</td><td>2018-01-03</td><td>2017-11-29</td><td>538</td><td>&quot;City4&quot;</td><td>&quot;City39&quot;</td><td>35</td></tr><tr><td>3</td><td>&quot;Airport4&quot;</td><td>&quot;Airport43&quot;</td><td>&quot;L1&quot;</td><td>2689</td><td>2018-01-03</td><td>2017-11-29</td><td>538</td><td>&quot;City4&quot;</td><td>&quot;City39&quot;</td><td>35</td></tr><tr><td>4</td><td>&quot;Airport4&quot;</td><td>&quot;Airport43&quot;</td><td>&quot;L2&quot;</td><td>8244</td><td>2018-01-03</td><td>2017-11-29</td><td>557</td><td>&quot;City4&quot;</td><td>&quot;City39&quot;</td><td>35</td></tr><tr><td>5</td><td>&quot;Airport4&quot;</td><td>&quot;Airport43&quot;</td><td>&quot;L2&quot;</td><td>8523</td><td>2018-01-03</td><td>2017-11-29</td><td>557</td><td>&quot;City4&quot;</td><td>&quot;City39&quot;</td><td>35</td></tr><tr><td>&hellip;</td><td>&hellip;</td><td>&hellip;</td><td>&hellip;</td><td>&hellip;</td><td>&hellip;</td><td>&hellip;</td><td>&hellip;</td><td>&hellip;</td><td>&hellip;</td><td>&hellip;</td></tr><tr><td>2160012</td><td>&quot;Airport20&quot;</td><td>&quot;Airport4&quot;</td><td>&quot;L1&quot;</td><td>7431</td><td>2018-10-20</td><td>2018-09-19</td><td>737</td><td>&quot;City19&quot;</td><td>&quot;City4&quot;</td><td>31</td></tr><tr><td>2160013</td><td>&quot;Airport20&quot;</td><td>&quot;Airport4&quot;</td><td>&quot;L1&quot;</td><td>5927</td><td>2018-10-20</td><td>2018-09-19</td><td>498</td><td>&quot;City19&quot;</td><td>&quot;City4&quot;</td><td>31</td></tr><tr><td>2160014</td><td>&quot;Airport20&quot;</td><td>&quot;Airport4&quot;</td><td>&quot;L1&quot;</td><td>7431</td><td>2018-10-21</td><td>2018-09-19</td><td>599</td><td>&quot;City19&quot;</td><td>&quot;City4&quot;</td><td>32</td></tr><tr><td>2160015</td><td>&quot;Airport20&quot;</td><td>&quot;Airport4&quot;</td><td>&quot;L1&quot;</td><td>7434</td><td>2018-10-21</td><td>2018-09-19</td><td>1428</td><td>&quot;City19&quot;</td><td>&quot;City4&quot;</td><td>32</td></tr><tr><td>2160016</td><td>&quot;Airport20&quot;</td><td>&quot;Airport4&quot;</td><td>&quot;L1&quot;</td><td>5927</td><td>2018-10-21</td><td>2018-09-19</td><td>916</td><td>&quot;City19&quot;</td><td>&quot;City4&quot;</td><td>32</td></tr></tbody></table></div>"
      ],
      "text/plain": [
       "shape: (2_160_016, 11)\n",
       "┌─────────┬───────────┬────────────┬─────────┬───┬────────────┬────────────┬───────────┬───────────┐\n",
       "│         ┆ origin    ┆ destinatio ┆ carrier ┆ … ┆ total_fare ┆ origin_cit ┆ destinati ┆ days_till │\n",
       "│ ---     ┆ ---       ┆ n          ┆ ---     ┆   ┆ ---        ┆ y          ┆ on_city   ┆ _flight   │\n",
       "│ i64     ┆ str       ┆ ---        ┆ str     ┆   ┆ i64        ┆ ---        ┆ ---       ┆ ---       │\n",
       "│         ┆           ┆ str        ┆         ┆   ┆            ┆ str        ┆ str       ┆ i64       │\n",
       "╞═════════╪═══════════╪════════════╪═════════╪═══╪════════════╪════════════╪═══════════╪═══════════╡\n",
       "│ 1       ┆ Airport4  ┆ Airport43  ┆ L1      ┆ … ┆ 538        ┆ City4      ┆ City39    ┆ 35        │\n",
       "│ 2       ┆ Airport4  ┆ Airport43  ┆ L1      ┆ … ┆ 538        ┆ City4      ┆ City39    ┆ 35        │\n",
       "│ 3       ┆ Airport4  ┆ Airport43  ┆ L1      ┆ … ┆ 538        ┆ City4      ┆ City39    ┆ 35        │\n",
       "│ 4       ┆ Airport4  ┆ Airport43  ┆ L2      ┆ … ┆ 557        ┆ City4      ┆ City39    ┆ 35        │\n",
       "│ 5       ┆ Airport4  ┆ Airport43  ┆ L2      ┆ … ┆ 557        ┆ City4      ┆ City39    ┆ 35        │\n",
       "│ …       ┆ …         ┆ …          ┆ …       ┆ … ┆ …          ┆ …          ┆ …         ┆ …         │\n",
       "│ 2160012 ┆ Airport20 ┆ Airport4   ┆ L1      ┆ … ┆ 737        ┆ City19     ┆ City4     ┆ 31        │\n",
       "│ 2160013 ┆ Airport20 ┆ Airport4   ┆ L1      ┆ … ┆ 498        ┆ City19     ┆ City4     ┆ 31        │\n",
       "│ 2160014 ┆ Airport20 ┆ Airport4   ┆ L1      ┆ … ┆ 599        ┆ City19     ┆ City4     ┆ 32        │\n",
       "│ 2160015 ┆ Airport20 ┆ Airport4   ┆ L1      ┆ … ┆ 1428       ┆ City19     ┆ City4     ┆ 32        │\n",
       "│ 2160016 ┆ Airport20 ┆ Airport4   ┆ L1      ┆ … ┆ 916        ┆ City19     ┆ City4     ┆ 32        │\n",
       "└─────────┴───────────┴────────────┴─────────┴───┴────────────┴────────────┴───────────┴───────────┘"
      ]
     },
     "execution_count": 12,
     "metadata": {},
     "output_type": "execute_result"
    }
   ],
   "source": [
    "train_fares_df = train_fares_df.with_columns(\n",
    "    (pl.col('flt_departure_dt') - pl.col('observation_date')).dt.total_days().alias(\"days_till_flight\")\n",
    ")\n",
    "\n",
    "train_fares_df"
   ]
  },
  {
   "cell_type": "code",
   "execution_count": 13,
   "metadata": {},
   "outputs": [
    {
     "data": {
      "text/html": [
       "<div><style>\n",
       ".dataframe > thead > tr,\n",
       ".dataframe > tbody > tr {\n",
       "  text-align: right;\n",
       "  white-space: pre-wrap;\n",
       "}\n",
       "</style>\n",
       "<small>shape: (29_825, 10)</small><table border=\"1\" class=\"dataframe\"><thead><tr><th></th><th>origin</th><th>destination</th><th>carrier</th><th>flt_num</th><th>flt_departure_dt</th><th>observation_date</th><th>origin_city</th><th>destination_city</th><th>days_till_flight</th></tr><tr><td>i64</td><td>str</td><td>str</td><td>str</td><td>i64</td><td>date</td><td>date</td><td>str</td><td>str</td><td>i64</td></tr></thead><tbody><tr><td>1</td><td>&quot;Airport4&quot;</td><td>&quot;Airport43&quot;</td><td>&quot;L2&quot;</td><td>7465</td><td>2019-01-01</td><td>2018-11-27</td><td>&quot;City4&quot;</td><td>&quot;City39&quot;</td><td>35</td></tr><tr><td>2</td><td>&quot;Airport4&quot;</td><td>&quot;Airport43&quot;</td><td>&quot;L2&quot;</td><td>7067</td><td>2019-01-01</td><td>2018-11-27</td><td>&quot;City4&quot;</td><td>&quot;City39&quot;</td><td>35</td></tr><tr><td>3</td><td>&quot;Airport4&quot;</td><td>&quot;Airport43&quot;</td><td>&quot;L2&quot;</td><td>1232</td><td>2019-01-01</td><td>2018-11-27</td><td>&quot;City4&quot;</td><td>&quot;City39&quot;</td><td>35</td></tr><tr><td>4</td><td>&quot;Airport43&quot;</td><td>&quot;Airport4&quot;</td><td>&quot;L1&quot;</td><td>17783</td><td>2019-01-03</td><td>2018-11-29</td><td>&quot;City39&quot;</td><td>&quot;City4&quot;</td><td>35</td></tr><tr><td>5</td><td>&quot;Airport43&quot;</td><td>&quot;Airport4&quot;</td><td>&quot;L1&quot;</td><td>5823</td><td>2019-01-03</td><td>2018-11-29</td><td>&quot;City39&quot;</td><td>&quot;City4&quot;</td><td>35</td></tr><tr><td>&hellip;</td><td>&hellip;</td><td>&hellip;</td><td>&hellip;</td><td>&hellip;</td><td>&hellip;</td><td>&hellip;</td><td>&hellip;</td><td>&hellip;</td><td>&hellip;</td></tr><tr><td>29821</td><td>&quot;Airport4&quot;</td><td>&quot;Airport43&quot;</td><td>&quot;L2&quot;</td><td>7067</td><td>2019-01-06</td><td>2018-12-31</td><td>&quot;City4&quot;</td><td>&quot;City39&quot;</td><td>6</td></tr><tr><td>29822</td><td>&quot;Airport4&quot;</td><td>&quot;Airport43&quot;</td><td>&quot;L2&quot;</td><td>1232</td><td>2019-01-06</td><td>2018-12-31</td><td>&quot;City4&quot;</td><td>&quot;City39&quot;</td><td>6</td></tr><tr><td>29823</td><td>&quot;Airport17&quot;</td><td>&quot;Airport4&quot;</td><td>&quot;L1&quot;</td><td>1484</td><td>2019-01-07</td><td>2018-12-31</td><td>&quot;City17&quot;</td><td>&quot;City4&quot;</td><td>7</td></tr><tr><td>29824</td><td>&quot;Airport17&quot;</td><td>&quot;Airport4&quot;</td><td>&quot;L1&quot;</td><td>18471</td><td>2019-01-07</td><td>2018-12-31</td><td>&quot;City17&quot;</td><td>&quot;City4&quot;</td><td>7</td></tr><tr><td>29825</td><td>&quot;Airport17&quot;</td><td>&quot;Airport4&quot;</td><td>&quot;L1&quot;</td><td>1487</td><td>2019-01-07</td><td>2018-12-31</td><td>&quot;City17&quot;</td><td>&quot;City4&quot;</td><td>7</td></tr></tbody></table></div>"
      ],
      "text/plain": [
       "shape: (29_825, 10)\n",
       "┌───────┬───────────┬────────────┬─────────┬───┬────────────┬────────────┬────────────┬────────────┐\n",
       "│       ┆ origin    ┆ destinatio ┆ carrier ┆ … ┆ observatio ┆ origin_cit ┆ destinatio ┆ days_till_ │\n",
       "│ ---   ┆ ---       ┆ n          ┆ ---     ┆   ┆ n_date     ┆ y          ┆ n_city     ┆ flight     │\n",
       "│ i64   ┆ str       ┆ ---        ┆ str     ┆   ┆ ---        ┆ ---        ┆ ---        ┆ ---        │\n",
       "│       ┆           ┆ str        ┆         ┆   ┆ date       ┆ str        ┆ str        ┆ i64        │\n",
       "╞═══════╪═══════════╪════════════╪═════════╪═══╪════════════╪════════════╪════════════╪════════════╡\n",
       "│ 1     ┆ Airport4  ┆ Airport43  ┆ L2      ┆ … ┆ 2018-11-27 ┆ City4      ┆ City39     ┆ 35         │\n",
       "│ 2     ┆ Airport4  ┆ Airport43  ┆ L2      ┆ … ┆ 2018-11-27 ┆ City4      ┆ City39     ┆ 35         │\n",
       "│ 3     ┆ Airport4  ┆ Airport43  ┆ L2      ┆ … ┆ 2018-11-27 ┆ City4      ┆ City39     ┆ 35         │\n",
       "│ 4     ┆ Airport43 ┆ Airport4   ┆ L1      ┆ … ┆ 2018-11-29 ┆ City39     ┆ City4      ┆ 35         │\n",
       "│ 5     ┆ Airport43 ┆ Airport4   ┆ L1      ┆ … ┆ 2018-11-29 ┆ City39     ┆ City4      ┆ 35         │\n",
       "│ …     ┆ …         ┆ …          ┆ …       ┆ … ┆ …          ┆ …          ┆ …          ┆ …          │\n",
       "│ 29821 ┆ Airport4  ┆ Airport43  ┆ L2      ┆ … ┆ 2018-12-31 ┆ City4      ┆ City39     ┆ 6          │\n",
       "│ 29822 ┆ Airport4  ┆ Airport43  ┆ L2      ┆ … ┆ 2018-12-31 ┆ City4      ┆ City39     ┆ 6          │\n",
       "│ 29823 ┆ Airport17 ┆ Airport4   ┆ L1      ┆ … ┆ 2018-12-31 ┆ City17     ┆ City4      ┆ 7          │\n",
       "│ 29824 ┆ Airport17 ┆ Airport4   ┆ L1      ┆ … ┆ 2018-12-31 ┆ City17     ┆ City4      ┆ 7          │\n",
       "│ 29825 ┆ Airport17 ┆ Airport4   ┆ L1      ┆ … ┆ 2018-12-31 ┆ City17     ┆ City4      ┆ 7          │\n",
       "└───────┴───────────┴────────────┴─────────┴───┴────────────┴────────────┴────────────┴────────────┘"
      ]
     },
     "execution_count": 13,
     "metadata": {},
     "output_type": "execute_result"
    }
   ],
   "source": [
    "test_fares_df = test_fares_df.with_columns(\n",
    "    (pl.col('flt_departure_dt') - pl.col('observation_date')).dt.total_days().alias(\"days_till_flight\")\n",
    ")\n",
    "test_fares_df"
   ]
  },
  {
   "cell_type": "markdown",
   "metadata": {},
   "source": [
    "#### Flight duration and timezone"
   ]
  },
  {
   "cell_type": "code",
   "execution_count": 14,
   "metadata": {},
   "outputs": [
    {
     "data": {
      "text/html": [
       "<div><style>\n",
       ".dataframe > thead > tr,\n",
       ".dataframe > tbody > tr {\n",
       "  text-align: right;\n",
       "  white-space: pre-wrap;\n",
       "}\n",
       "</style>\n",
       "<small>shape: (63_584, 12)</small><table border=\"1\" class=\"dataframe\"><thead><tr><th></th><th>carrier</th><th>flt_num</th><th>origin</th><th>destination</th><th>flt_departure_dt</th><th>flt_departure_local_time</th><th>flt_arrival_local_time</th><th>flt_departure_gmt</th><th>flt_arrival_gmt</th><th>dur_min</th><th>tz_min</th></tr><tr><td>i64</td><td>str</td><td>i64</td><td>str</td><td>str</td><td>date</td><td>datetime[ns]</td><td>datetime[ns]</td><td>datetime[ns]</td><td>datetime[ns]</td><td>i64</td><td>i64</td></tr></thead><tbody><tr><td>1</td><td>&quot;L1&quot;</td><td>6800</td><td>&quot;Airport26&quot;</td><td>&quot;Airport30&quot;</td><td>2018-02-01</td><td>2018-02-01 18:43:00</td><td>2018-02-01 20:09:00</td><td>2018-02-02 00:43:00</td><td>2018-02-02 04:09:00</td><td>86</td><td>-360</td></tr><tr><td>2</td><td>&quot;OTH&quot;</td><td>783</td><td>&quot;Airport26&quot;</td><td>&quot;Airport30&quot;</td><td>2018-02-01</td><td>2018-02-01 19:45:00</td><td>2018-02-01 21:05:00</td><td>2018-02-02 01:45:00</td><td>2018-02-02 05:05:00</td><td>80</td><td>-360</td></tr><tr><td>3</td><td>&quot;L1&quot;</td><td>799</td><td>&quot;Airport26&quot;</td><td>&quot;Airport30&quot;</td><td>2018-02-01</td><td>2018-02-01 12:00:00</td><td>2018-02-01 13:26:00</td><td>2018-02-01 18:00:00</td><td>2018-02-01 21:26:00</td><td>86</td><td>-360</td></tr><tr><td>4</td><td>&quot;L1&quot;</td><td>7760</td><td>&quot;Airport26&quot;</td><td>&quot;Airport30&quot;</td><td>2018-02-01</td><td>2018-02-01 07:35:00</td><td>2018-02-01 09:02:00</td><td>2018-02-01 13:35:00</td><td>2018-02-01 17:02:00</td><td>87</td><td>-360</td></tr><tr><td>5</td><td>&quot;L1&quot;</td><td>3443</td><td>&quot;Airport26&quot;</td><td>&quot;Airport30&quot;</td><td>2018-02-01</td><td>2018-02-01 09:48:00</td><td>2018-02-01 11:14:00</td><td>2018-02-01 15:48:00</td><td>2018-02-01 19:14:00</td><td>86</td><td>-360</td></tr><tr><td>&hellip;</td><td>&hellip;</td><td>&hellip;</td><td>&hellip;</td><td>&hellip;</td><td>&hellip;</td><td>&hellip;</td><td>&hellip;</td><td>&hellip;</td><td>&hellip;</td><td>&hellip;</td><td>&hellip;</td></tr><tr><td>63580</td><td>&quot;L1&quot;</td><td>5675</td><td>&quot;Airport30&quot;</td><td>&quot;Airport60&quot;</td><td>2018-10-31</td><td>2018-10-31 13:17:00</td><td>2018-10-31 14:53:00</td><td>2018-10-31 20:17:00</td><td>2018-10-31 21:53:00</td><td>96</td><td>-420</td></tr><tr><td>63581</td><td>&quot;U1&quot;</td><td>6115</td><td>&quot;Airport30&quot;</td><td>&quot;Airport60&quot;</td><td>2018-10-31</td><td>2018-10-31 06:50:00</td><td>2018-10-31 08:24:00</td><td>2018-10-31 13:50:00</td><td>2018-10-31 15:24:00</td><td>94</td><td>-420</td></tr><tr><td>63582</td><td>&quot;U1&quot;</td><td>6184</td><td>&quot;Airport30&quot;</td><td>&quot;Airport60&quot;</td><td>2018-10-31</td><td>2018-10-31 20:20:00</td><td>2018-10-31 22:02:00</td><td>2018-11-01 03:20:00</td><td>2018-11-01 05:02:00</td><td>102</td><td>-420</td></tr><tr><td>63583</td><td>&quot;OTH&quot;</td><td>7010</td><td>&quot;Airport30&quot;</td><td>&quot;Airport60&quot;</td><td>2018-10-31</td><td>2018-10-31 08:45:00</td><td>2018-10-31 10:20:00</td><td>2018-10-31 15:45:00</td><td>2018-10-31 17:20:00</td><td>95</td><td>-420</td></tr><tr><td>63584</td><td>&quot;L1&quot;</td><td>1292</td><td>&quot;Airport30&quot;</td><td>&quot;Airport60&quot;</td><td>2018-10-31</td><td>2018-10-31 16:53:00</td><td>2018-10-31 18:32:00</td><td>2018-10-31 23:53:00</td><td>2018-11-01 01:32:00</td><td>99</td><td>-420</td></tr></tbody></table></div>"
      ],
      "text/plain": [
       "shape: (63_584, 12)\n",
       "┌───────┬─────────┬─────────┬───────────┬───┬─────────────────┬─────────────────┬─────────┬────────┐\n",
       "│       ┆ carrier ┆ flt_num ┆ origin    ┆ … ┆ flt_departure_g ┆ flt_arrival_gmt ┆ dur_min ┆ tz_min │\n",
       "│ ---   ┆ ---     ┆ ---     ┆ ---       ┆   ┆ mt              ┆ ---             ┆ ---     ┆ ---    │\n",
       "│ i64   ┆ str     ┆ i64     ┆ str       ┆   ┆ ---             ┆ datetime[ns]    ┆ i64     ┆ i64    │\n",
       "│       ┆         ┆         ┆           ┆   ┆ datetime[ns]    ┆                 ┆         ┆        │\n",
       "╞═══════╪═════════╪═════════╪═══════════╪═══╪═════════════════╪═════════════════╪═════════╪════════╡\n",
       "│ 1     ┆ L1      ┆ 6800    ┆ Airport26 ┆ … ┆ 2018-02-02      ┆ 2018-02-02      ┆ 86      ┆ -360   │\n",
       "│       ┆         ┆         ┆           ┆   ┆ 00:43:00        ┆ 04:09:00        ┆         ┆        │\n",
       "│ 2     ┆ OTH     ┆ 783     ┆ Airport26 ┆ … ┆ 2018-02-02      ┆ 2018-02-02      ┆ 80      ┆ -360   │\n",
       "│       ┆         ┆         ┆           ┆   ┆ 01:45:00        ┆ 05:05:00        ┆         ┆        │\n",
       "│ 3     ┆ L1      ┆ 799     ┆ Airport26 ┆ … ┆ 2018-02-01      ┆ 2018-02-01      ┆ 86      ┆ -360   │\n",
       "│       ┆         ┆         ┆           ┆   ┆ 18:00:00        ┆ 21:26:00        ┆         ┆        │\n",
       "│ 4     ┆ L1      ┆ 7760    ┆ Airport26 ┆ … ┆ 2018-02-01      ┆ 2018-02-01      ┆ 87      ┆ -360   │\n",
       "│       ┆         ┆         ┆           ┆   ┆ 13:35:00        ┆ 17:02:00        ┆         ┆        │\n",
       "│ 5     ┆ L1      ┆ 3443    ┆ Airport26 ┆ … ┆ 2018-02-01      ┆ 2018-02-01      ┆ 86      ┆ -360   │\n",
       "│       ┆         ┆         ┆           ┆   ┆ 15:48:00        ┆ 19:14:00        ┆         ┆        │\n",
       "│ …     ┆ …       ┆ …       ┆ …         ┆ … ┆ …               ┆ …               ┆ …       ┆ …      │\n",
       "│ 63580 ┆ L1      ┆ 5675    ┆ Airport30 ┆ … ┆ 2018-10-31      ┆ 2018-10-31      ┆ 96      ┆ -420   │\n",
       "│       ┆         ┆         ┆           ┆   ┆ 20:17:00        ┆ 21:53:00        ┆         ┆        │\n",
       "│ 63581 ┆ U1      ┆ 6115    ┆ Airport30 ┆ … ┆ 2018-10-31      ┆ 2018-10-31      ┆ 94      ┆ -420   │\n",
       "│       ┆         ┆         ┆           ┆   ┆ 13:50:00        ┆ 15:24:00        ┆         ┆        │\n",
       "│ 63582 ┆ U1      ┆ 6184    ┆ Airport30 ┆ … ┆ 2018-11-01      ┆ 2018-11-01      ┆ 102     ┆ -420   │\n",
       "│       ┆         ┆         ┆           ┆   ┆ 03:20:00        ┆ 05:02:00        ┆         ┆        │\n",
       "│ 63583 ┆ OTH     ┆ 7010    ┆ Airport30 ┆ … ┆ 2018-10-31      ┆ 2018-10-31      ┆ 95      ┆ -420   │\n",
       "│       ┆         ┆         ┆           ┆   ┆ 15:45:00        ┆ 17:20:00        ┆         ┆        │\n",
       "│ 63584 ┆ L1      ┆ 1292    ┆ Airport30 ┆ … ┆ 2018-10-31      ┆ 2018-11-01      ┆ 99      ┆ -420   │\n",
       "│       ┆         ┆         ┆           ┆   ┆ 23:53:00        ┆ 01:32:00        ┆         ┆        │\n",
       "└───────┴─────────┴─────────┴───────────┴───┴─────────────────┴─────────────────┴─────────┴────────┘"
      ]
     },
     "execution_count": 14,
     "metadata": {},
     "output_type": "execute_result"
    }
   ],
   "source": [
    "train_sch_df = train_sch_df.with_columns(\n",
    "    (pl.col('flt_arrival_local_time') - pl.col('flt_departure_local_time')).dt.total_minutes().alias(\"dur_min\")\n",
    ")\n",
    "train_sch_df = train_sch_df.with_columns(\n",
    "    (pl.col('flt_departure_local_time') - pl.col('flt_departure_gmt')).dt.total_minutes().alias(\"tz_min\")\n",
    ")\n",
    "train_sch_df"
   ]
  },
  {
   "cell_type": "code",
   "execution_count": 15,
   "metadata": {},
   "outputs": [
    {
     "data": {
      "text/html": [
       "<div><style>\n",
       ".dataframe > thead > tr,\n",
       ".dataframe > tbody > tr {\n",
       "  text-align: right;\n",
       "  white-space: pre-wrap;\n",
       "}\n",
       "</style>\n",
       "<small>shape: (5, 3)</small><table border=\"1\" class=\"dataframe\"><thead><tr><th>tz_min</th><th>tz_start</th><th>tz_end</th></tr><tr><td>i64</td><td>datetime[ns]</td><td>datetime[ns]</td></tr></thead><tbody><tr><td>-480</td><td>2018-01-01 01:00:00</td><td>2018-12-31 22:52:00</td></tr><tr><td>-420</td><td>2018-01-01 07:15:00</td><td>2018-12-31 17:10:00</td></tr><tr><td>-360</td><td>2018-01-01 06:00:00</td><td>2018-12-31 18:49:00</td></tr><tr><td>-300</td><td>2018-01-01 05:15:00</td><td>2018-12-31 19:10:00</td></tr><tr><td>-240</td><td>2018-03-11 06:00:00</td><td>2018-11-03 20:17:00</td></tr></tbody></table></div>"
      ],
      "text/plain": [
       "shape: (5, 3)\n",
       "┌────────┬─────────────────────┬─────────────────────┐\n",
       "│ tz_min ┆ tz_start            ┆ tz_end              │\n",
       "│ ---    ┆ ---                 ┆ ---                 │\n",
       "│ i64    ┆ datetime[ns]        ┆ datetime[ns]        │\n",
       "╞════════╪═════════════════════╪═════════════════════╡\n",
       "│ -480   ┆ 2018-01-01 01:00:00 ┆ 2018-12-31 22:52:00 │\n",
       "│ -420   ┆ 2018-01-01 07:15:00 ┆ 2018-12-31 17:10:00 │\n",
       "│ -360   ┆ 2018-01-01 06:00:00 ┆ 2018-12-31 18:49:00 │\n",
       "│ -300   ┆ 2018-01-01 05:15:00 ┆ 2018-12-31 19:10:00 │\n",
       "│ -240   ┆ 2018-03-11 06:00:00 ┆ 2018-11-03 20:17:00 │\n",
       "└────────┴─────────────────────┴─────────────────────┘"
      ]
     },
     "execution_count": 15,
     "metadata": {},
     "output_type": "execute_result"
    }
   ],
   "source": [
    "train_sch_df.group_by('tz_min').agg(\n",
    "    pl.col('flt_departure_local_time').min().alias('tz_start'), \n",
    "    pl.col('flt_departure_local_time').max().alias('tz_end')\n",
    ").sort('tz_min')"
   ]
  },
  {
   "cell_type": "code",
   "execution_count": 16,
   "metadata": {},
   "outputs": [
    {
     "data": {
      "text/html": [
       "<div><style>\n",
       ".dataframe > thead > tr,\n",
       ".dataframe > tbody > tr {\n",
       "  text-align: right;\n",
       "  white-space: pre-wrap;\n",
       "}\n",
       "</style>\n",
       "<small>shape: (1_234, 12)</small><table border=\"1\" class=\"dataframe\"><thead><tr><th></th><th>carrier</th><th>flt_num</th><th>origin</th><th>destination</th><th>flt_departure_dt</th><th>flt_departure_local_time</th><th>flt_arrival_local_time</th><th>flt_departure_gmt</th><th>flt_arrival_gmt</th><th>dur_min</th><th>tz_min</th></tr><tr><td>i64</td><td>str</td><td>i64</td><td>str</td><td>str</td><td>date</td><td>datetime[ns]</td><td>datetime[ns]</td><td>datetime[ns]</td><td>datetime[ns]</td><td>i64</td><td>i64</td></tr></thead><tbody><tr><td>1</td><td>&quot;L1&quot;</td><td>3437</td><td>&quot;Airport26&quot;</td><td>&quot;Airport30&quot;</td><td>2019-01-01</td><td>2019-01-01 18:28:00</td><td>2019-01-01 19:49:00</td><td>2019-01-02 00:28:00</td><td>2019-01-02 03:49:00</td><td>81</td><td>-360</td></tr><tr><td>2</td><td>&quot;L1&quot;</td><td>7760</td><td>&quot;Airport26&quot;</td><td>&quot;Airport30&quot;</td><td>2019-01-01</td><td>2019-01-01 07:50:00</td><td>2019-01-01 09:12:00</td><td>2019-01-01 13:50:00</td><td>2019-01-01 17:12:00</td><td>82</td><td>-360</td></tr><tr><td>3</td><td>&quot;L1&quot;</td><td>1609</td><td>&quot;Airport26&quot;</td><td>&quot;Airport30&quot;</td><td>2019-01-01</td><td>2019-01-01 11:55:00</td><td>2019-01-01 13:19:00</td><td>2019-01-01 17:55:00</td><td>2019-01-01 21:19:00</td><td>84</td><td>-360</td></tr><tr><td>4</td><td>&quot;L1&quot;</td><td>1487</td><td>&quot;Airport26&quot;</td><td>&quot;Airport30&quot;</td><td>2019-01-01</td><td>2019-01-01 14:20:00</td><td>2019-01-01 15:41:00</td><td>2019-01-01 20:20:00</td><td>2019-01-01 23:41:00</td><td>81</td><td>-360</td></tr><tr><td>5</td><td>&quot;L1&quot;</td><td>5701</td><td>&quot;Airport26&quot;</td><td>&quot;Airport30&quot;</td><td>2019-01-01</td><td>2019-01-01 22:05:00</td><td>2019-01-01 23:26:00</td><td>2019-01-02 04:05:00</td><td>2019-01-02 07:26:00</td><td>81</td><td>-360</td></tr><tr><td>&hellip;</td><td>&hellip;</td><td>&hellip;</td><td>&hellip;</td><td>&hellip;</td><td>&hellip;</td><td>&hellip;</td><td>&hellip;</td><td>&hellip;</td><td>&hellip;</td><td>&hellip;</td><td>&hellip;</td></tr><tr><td>1230</td><td>&quot;L2&quot;</td><td>3795</td><td>&quot;Airport43&quot;</td><td>&quot;Airport4&quot;</td><td>2019-01-07</td><td>2019-01-07 17:55:00</td><td>2019-01-07 20:42:00</td><td>2019-01-07 23:55:00</td><td>2019-01-08 02:42:00</td><td>167</td><td>-360</td></tr><tr><td>1231</td><td>&quot;L1&quot;</td><td>1763</td><td>&quot;Airport43&quot;</td><td>&quot;Airport4&quot;</td><td>2019-01-07</td><td>2019-01-07 19:49:00</td><td>2019-01-07 22:47:00</td><td>2019-01-08 01:49:00</td><td>2019-01-08 04:47:00</td><td>178</td><td>-360</td></tr><tr><td>1232</td><td>&quot;L1&quot;</td><td>11466</td><td>&quot;Airport43&quot;</td><td>&quot;Airport4&quot;</td><td>2019-01-07</td><td>2019-01-07 07:48:00</td><td>2019-01-07 10:50:00</td><td>2019-01-07 13:48:00</td><td>2019-01-07 16:50:00</td><td>182</td><td>-360</td></tr><tr><td>1233</td><td>&quot;L2&quot;</td><td>8018</td><td>&quot;Airport43&quot;</td><td>&quot;Airport4&quot;</td><td>2019-01-07</td><td>2019-01-07 09:56:00</td><td>2019-01-07 12:47:00</td><td>2019-01-07 15:56:00</td><td>2019-01-07 18:47:00</td><td>171</td><td>-360</td></tr><tr><td>1234</td><td>&quot;L1&quot;</td><td>5823</td><td>&quot;Airport43&quot;</td><td>&quot;Airport4&quot;</td><td>2019-01-07</td><td>2019-01-07 15:55:00</td><td>2019-01-07 18:51:00</td><td>2019-01-07 21:55:00</td><td>2019-01-08 00:51:00</td><td>176</td><td>-360</td></tr></tbody></table></div>"
      ],
      "text/plain": [
       "shape: (1_234, 12)\n",
       "┌──────┬─────────┬─────────┬───────────┬───┬──────────────────┬─────────────────┬─────────┬────────┐\n",
       "│      ┆ carrier ┆ flt_num ┆ origin    ┆ … ┆ flt_departure_gm ┆ flt_arrival_gmt ┆ dur_min ┆ tz_min │\n",
       "│ ---  ┆ ---     ┆ ---     ┆ ---       ┆   ┆ t                ┆ ---             ┆ ---     ┆ ---    │\n",
       "│ i64  ┆ str     ┆ i64     ┆ str       ┆   ┆ ---              ┆ datetime[ns]    ┆ i64     ┆ i64    │\n",
       "│      ┆         ┆         ┆           ┆   ┆ datetime[ns]     ┆                 ┆         ┆        │\n",
       "╞══════╪═════════╪═════════╪═══════════╪═══╪══════════════════╪═════════════════╪═════════╪════════╡\n",
       "│ 1    ┆ L1      ┆ 3437    ┆ Airport26 ┆ … ┆ 2019-01-02       ┆ 2019-01-02      ┆ 81      ┆ -360   │\n",
       "│      ┆         ┆         ┆           ┆   ┆ 00:28:00         ┆ 03:49:00        ┆         ┆        │\n",
       "│ 2    ┆ L1      ┆ 7760    ┆ Airport26 ┆ … ┆ 2019-01-01       ┆ 2019-01-01      ┆ 82      ┆ -360   │\n",
       "│      ┆         ┆         ┆           ┆   ┆ 13:50:00         ┆ 17:12:00        ┆         ┆        │\n",
       "│ 3    ┆ L1      ┆ 1609    ┆ Airport26 ┆ … ┆ 2019-01-01       ┆ 2019-01-01      ┆ 84      ┆ -360   │\n",
       "│      ┆         ┆         ┆           ┆   ┆ 17:55:00         ┆ 21:19:00        ┆         ┆        │\n",
       "│ 4    ┆ L1      ┆ 1487    ┆ Airport26 ┆ … ┆ 2019-01-01       ┆ 2019-01-01      ┆ 81      ┆ -360   │\n",
       "│      ┆         ┆         ┆           ┆   ┆ 20:20:00         ┆ 23:41:00        ┆         ┆        │\n",
       "│ 5    ┆ L1      ┆ 5701    ┆ Airport26 ┆ … ┆ 2019-01-02       ┆ 2019-01-02      ┆ 81      ┆ -360   │\n",
       "│      ┆         ┆         ┆           ┆   ┆ 04:05:00         ┆ 07:26:00        ┆         ┆        │\n",
       "│ …    ┆ …       ┆ …       ┆ …         ┆ … ┆ …                ┆ …               ┆ …       ┆ …      │\n",
       "│ 1230 ┆ L2      ┆ 3795    ┆ Airport43 ┆ … ┆ 2019-01-07       ┆ 2019-01-08      ┆ 167     ┆ -360   │\n",
       "│      ┆         ┆         ┆           ┆   ┆ 23:55:00         ┆ 02:42:00        ┆         ┆        │\n",
       "│ 1231 ┆ L1      ┆ 1763    ┆ Airport43 ┆ … ┆ 2019-01-08       ┆ 2019-01-08      ┆ 178     ┆ -360   │\n",
       "│      ┆         ┆         ┆           ┆   ┆ 01:49:00         ┆ 04:47:00        ┆         ┆        │\n",
       "│ 1232 ┆ L1      ┆ 11466   ┆ Airport43 ┆ … ┆ 2019-01-07       ┆ 2019-01-07      ┆ 182     ┆ -360   │\n",
       "│      ┆         ┆         ┆           ┆   ┆ 13:48:00         ┆ 16:50:00        ┆         ┆        │\n",
       "│ 1233 ┆ L2      ┆ 8018    ┆ Airport43 ┆ … ┆ 2019-01-07       ┆ 2019-01-07      ┆ 171     ┆ -360   │\n",
       "│      ┆         ┆         ┆           ┆   ┆ 15:56:00         ┆ 18:47:00        ┆         ┆        │\n",
       "│ 1234 ┆ L1      ┆ 5823    ┆ Airport43 ┆ … ┆ 2019-01-07       ┆ 2019-01-08      ┆ 176     ┆ -360   │\n",
       "│      ┆         ┆         ┆           ┆   ┆ 21:55:00         ┆ 00:51:00        ┆         ┆        │\n",
       "└──────┴─────────┴─────────┴───────────┴───┴──────────────────┴─────────────────┴─────────┴────────┘"
      ]
     },
     "execution_count": 16,
     "metadata": {},
     "output_type": "execute_result"
    }
   ],
   "source": [
    "test_sch_df = test_sch_df.with_columns(\n",
    "    (pl.col('flt_arrival_local_time') - pl.col('flt_departure_local_time')).dt.total_minutes().alias(\"dur_min\")\n",
    ")\n",
    "test_sch_df = test_sch_df.with_columns(\n",
    "    (pl.col('flt_departure_local_time') - pl.col('flt_departure_gmt')).dt.total_minutes().alias(\"tz_min\")\n",
    ")\n",
    "test_sch_df"
   ]
  },
  {
   "cell_type": "code",
   "execution_count": 17,
   "metadata": {},
   "outputs": [
    {
     "data": {
      "text/html": [
       "<div><style>\n",
       ".dataframe > thead > tr,\n",
       ".dataframe > tbody > tr {\n",
       "  text-align: right;\n",
       "  white-space: pre-wrap;\n",
       "}\n",
       "</style>\n",
       "<small>shape: (4, 3)</small><table border=\"1\" class=\"dataframe\"><thead><tr><th>tz_min</th><th>tz_start</th><th>tz_end</th></tr><tr><td>i64</td><td>datetime[ns]</td><td>datetime[ns]</td></tr></thead><tbody><tr><td>-480</td><td>2019-01-01 01:00:00</td><td>2019-01-07 23:00:00</td></tr><tr><td>-420</td><td>2019-01-01 05:40:00</td><td>2019-01-07 20:50:00</td></tr><tr><td>-360</td><td>2019-01-01 05:35:00</td><td>2019-01-07 22:15:00</td></tr><tr><td>-300</td><td>2019-01-01 06:30:00</td><td>2019-01-07 19:30:00</td></tr></tbody></table></div>"
      ],
      "text/plain": [
       "shape: (4, 3)\n",
       "┌────────┬─────────────────────┬─────────────────────┐\n",
       "│ tz_min ┆ tz_start            ┆ tz_end              │\n",
       "│ ---    ┆ ---                 ┆ ---                 │\n",
       "│ i64    ┆ datetime[ns]        ┆ datetime[ns]        │\n",
       "╞════════╪═════════════════════╪═════════════════════╡\n",
       "│ -480   ┆ 2019-01-01 01:00:00 ┆ 2019-01-07 23:00:00 │\n",
       "│ -420   ┆ 2019-01-01 05:40:00 ┆ 2019-01-07 20:50:00 │\n",
       "│ -360   ┆ 2019-01-01 05:35:00 ┆ 2019-01-07 22:15:00 │\n",
       "│ -300   ┆ 2019-01-01 06:30:00 ┆ 2019-01-07 19:30:00 │\n",
       "└────────┴─────────────────────┴─────────────────────┘"
      ]
     },
     "execution_count": 17,
     "metadata": {},
     "output_type": "execute_result"
    }
   ],
   "source": [
    "test_sch_df.group_by('tz_min').agg(\n",
    "    pl.col('flt_departure_local_time').min().alias('tz_start'), \n",
    "    pl.col('flt_departure_local_time').max().alias('tz_end')\n",
    ").sort('tz_min')"
   ]
  },
  {
   "cell_type": "markdown",
   "metadata": {},
   "source": [
    "#### Whether flight is during DST"
   ]
  },
  {
   "cell_type": "code",
   "execution_count": 18,
   "metadata": {},
   "outputs": [
    {
     "data": {
      "text/html": [
       "<div><style>\n",
       ".dataframe > thead > tr,\n",
       ".dataframe > tbody > tr {\n",
       "  text-align: right;\n",
       "  white-space: pre-wrap;\n",
       "}\n",
       "</style>\n",
       "<small>shape: (2_160_016, 12)</small><table border=\"1\" class=\"dataframe\"><thead><tr><th></th><th>origin</th><th>destination</th><th>carrier</th><th>flt_num</th><th>flt_departure_dt</th><th>observation_date</th><th>total_fare</th><th>origin_city</th><th>destination_city</th><th>days_till_flight</th><th>is_dst</th></tr><tr><td>i64</td><td>str</td><td>str</td><td>str</td><td>i64</td><td>date</td><td>date</td><td>i64</td><td>str</td><td>str</td><td>i64</td><td>i32</td></tr></thead><tbody><tr><td>1</td><td>&quot;Airport4&quot;</td><td>&quot;Airport43&quot;</td><td>&quot;L1&quot;</td><td>5911</td><td>2018-01-03</td><td>2017-11-29</td><td>538</td><td>&quot;City4&quot;</td><td>&quot;City39&quot;</td><td>35</td><td>0</td></tr><tr><td>2</td><td>&quot;Airport4&quot;</td><td>&quot;Airport43&quot;</td><td>&quot;L1&quot;</td><td>6589</td><td>2018-01-03</td><td>2017-11-29</td><td>538</td><td>&quot;City4&quot;</td><td>&quot;City39&quot;</td><td>35</td><td>0</td></tr><tr><td>3</td><td>&quot;Airport4&quot;</td><td>&quot;Airport43&quot;</td><td>&quot;L1&quot;</td><td>2689</td><td>2018-01-03</td><td>2017-11-29</td><td>538</td><td>&quot;City4&quot;</td><td>&quot;City39&quot;</td><td>35</td><td>0</td></tr><tr><td>4</td><td>&quot;Airport4&quot;</td><td>&quot;Airport43&quot;</td><td>&quot;L2&quot;</td><td>8244</td><td>2018-01-03</td><td>2017-11-29</td><td>557</td><td>&quot;City4&quot;</td><td>&quot;City39&quot;</td><td>35</td><td>0</td></tr><tr><td>5</td><td>&quot;Airport4&quot;</td><td>&quot;Airport43&quot;</td><td>&quot;L2&quot;</td><td>8523</td><td>2018-01-03</td><td>2017-11-29</td><td>557</td><td>&quot;City4&quot;</td><td>&quot;City39&quot;</td><td>35</td><td>0</td></tr><tr><td>&hellip;</td><td>&hellip;</td><td>&hellip;</td><td>&hellip;</td><td>&hellip;</td><td>&hellip;</td><td>&hellip;</td><td>&hellip;</td><td>&hellip;</td><td>&hellip;</td><td>&hellip;</td><td>&hellip;</td></tr><tr><td>2160012</td><td>&quot;Airport20&quot;</td><td>&quot;Airport4&quot;</td><td>&quot;L1&quot;</td><td>7431</td><td>2018-10-20</td><td>2018-09-19</td><td>737</td><td>&quot;City19&quot;</td><td>&quot;City4&quot;</td><td>31</td><td>1</td></tr><tr><td>2160013</td><td>&quot;Airport20&quot;</td><td>&quot;Airport4&quot;</td><td>&quot;L1&quot;</td><td>5927</td><td>2018-10-20</td><td>2018-09-19</td><td>498</td><td>&quot;City19&quot;</td><td>&quot;City4&quot;</td><td>31</td><td>1</td></tr><tr><td>2160014</td><td>&quot;Airport20&quot;</td><td>&quot;Airport4&quot;</td><td>&quot;L1&quot;</td><td>7431</td><td>2018-10-21</td><td>2018-09-19</td><td>599</td><td>&quot;City19&quot;</td><td>&quot;City4&quot;</td><td>32</td><td>1</td></tr><tr><td>2160015</td><td>&quot;Airport20&quot;</td><td>&quot;Airport4&quot;</td><td>&quot;L1&quot;</td><td>7434</td><td>2018-10-21</td><td>2018-09-19</td><td>1428</td><td>&quot;City19&quot;</td><td>&quot;City4&quot;</td><td>32</td><td>1</td></tr><tr><td>2160016</td><td>&quot;Airport20&quot;</td><td>&quot;Airport4&quot;</td><td>&quot;L1&quot;</td><td>5927</td><td>2018-10-21</td><td>2018-09-19</td><td>916</td><td>&quot;City19&quot;</td><td>&quot;City4&quot;</td><td>32</td><td>1</td></tr></tbody></table></div>"
      ],
      "text/plain": [
       "shape: (2_160_016, 12)\n",
       "┌─────────┬───────────┬─────────────┬─────────┬───┬─────────────┬────────────┬────────────┬────────┐\n",
       "│         ┆ origin    ┆ destination ┆ carrier ┆ … ┆ origin_city ┆ destinatio ┆ days_till_ ┆ is_dst │\n",
       "│ ---     ┆ ---       ┆ ---         ┆ ---     ┆   ┆ ---         ┆ n_city     ┆ flight     ┆ ---    │\n",
       "│ i64     ┆ str       ┆ str         ┆ str     ┆   ┆ str         ┆ ---        ┆ ---        ┆ i32    │\n",
       "│         ┆           ┆             ┆         ┆   ┆             ┆ str        ┆ i64        ┆        │\n",
       "╞═════════╪═══════════╪═════════════╪═════════╪═══╪═════════════╪════════════╪════════════╪════════╡\n",
       "│ 1       ┆ Airport4  ┆ Airport43   ┆ L1      ┆ … ┆ City4       ┆ City39     ┆ 35         ┆ 0      │\n",
       "│ 2       ┆ Airport4  ┆ Airport43   ┆ L1      ┆ … ┆ City4       ┆ City39     ┆ 35         ┆ 0      │\n",
       "│ 3       ┆ Airport4  ┆ Airport43   ┆ L1      ┆ … ┆ City4       ┆ City39     ┆ 35         ┆ 0      │\n",
       "│ 4       ┆ Airport4  ┆ Airport43   ┆ L2      ┆ … ┆ City4       ┆ City39     ┆ 35         ┆ 0      │\n",
       "│ 5       ┆ Airport4  ┆ Airport43   ┆ L2      ┆ … ┆ City4       ┆ City39     ┆ 35         ┆ 0      │\n",
       "│ …       ┆ …         ┆ …           ┆ …       ┆ … ┆ …           ┆ …          ┆ …          ┆ …      │\n",
       "│ 2160012 ┆ Airport20 ┆ Airport4    ┆ L1      ┆ … ┆ City19      ┆ City4      ┆ 31         ┆ 1      │\n",
       "│ 2160013 ┆ Airport20 ┆ Airport4    ┆ L1      ┆ … ┆ City19      ┆ City4      ┆ 31         ┆ 1      │\n",
       "│ 2160014 ┆ Airport20 ┆ Airport4    ┆ L1      ┆ … ┆ City19      ┆ City4      ┆ 32         ┆ 1      │\n",
       "│ 2160015 ┆ Airport20 ┆ Airport4    ┆ L1      ┆ … ┆ City19      ┆ City4      ┆ 32         ┆ 1      │\n",
       "│ 2160016 ┆ Airport20 ┆ Airport4    ┆ L1      ┆ … ┆ City19      ┆ City4      ┆ 32         ┆ 1      │\n",
       "└─────────┴───────────┴─────────────┴─────────┴───┴─────────────┴────────────┴────────────┴────────┘"
      ]
     },
     "execution_count": 18,
     "metadata": {},
     "output_type": "execute_result"
    }
   ],
   "source": [
    "train_fares_df = train_fares_df.with_columns(\n",
    "    pl.when(\n",
    "        (pl.col('flt_departure_dt') >= pl.date(2018, 3, 11)) &\n",
    "        (pl.col('flt_departure_dt') <= pl.date(2018, 11, 3))\n",
    "    ).then(1).otherwise(0).alias('is_dst')\n",
    ")\n",
    "train_fares_df"
   ]
  },
  {
   "cell_type": "code",
   "execution_count": 19,
   "metadata": {},
   "outputs": [
    {
     "data": {
      "text/html": [
       "<div><style>\n",
       ".dataframe > thead > tr,\n",
       ".dataframe > tbody > tr {\n",
       "  text-align: right;\n",
       "  white-space: pre-wrap;\n",
       "}\n",
       "</style>\n",
       "<small>shape: (29_825, 11)</small><table border=\"1\" class=\"dataframe\"><thead><tr><th></th><th>origin</th><th>destination</th><th>carrier</th><th>flt_num</th><th>flt_departure_dt</th><th>observation_date</th><th>origin_city</th><th>destination_city</th><th>days_till_flight</th><th>is_dst</th></tr><tr><td>i64</td><td>str</td><td>str</td><td>str</td><td>i64</td><td>date</td><td>date</td><td>str</td><td>str</td><td>i64</td><td>i32</td></tr></thead><tbody><tr><td>1</td><td>&quot;Airport4&quot;</td><td>&quot;Airport43&quot;</td><td>&quot;L2&quot;</td><td>7465</td><td>2019-01-01</td><td>2018-11-27</td><td>&quot;City4&quot;</td><td>&quot;City39&quot;</td><td>35</td><td>0</td></tr><tr><td>2</td><td>&quot;Airport4&quot;</td><td>&quot;Airport43&quot;</td><td>&quot;L2&quot;</td><td>7067</td><td>2019-01-01</td><td>2018-11-27</td><td>&quot;City4&quot;</td><td>&quot;City39&quot;</td><td>35</td><td>0</td></tr><tr><td>3</td><td>&quot;Airport4&quot;</td><td>&quot;Airport43&quot;</td><td>&quot;L2&quot;</td><td>1232</td><td>2019-01-01</td><td>2018-11-27</td><td>&quot;City4&quot;</td><td>&quot;City39&quot;</td><td>35</td><td>0</td></tr><tr><td>4</td><td>&quot;Airport43&quot;</td><td>&quot;Airport4&quot;</td><td>&quot;L1&quot;</td><td>17783</td><td>2019-01-03</td><td>2018-11-29</td><td>&quot;City39&quot;</td><td>&quot;City4&quot;</td><td>35</td><td>0</td></tr><tr><td>5</td><td>&quot;Airport43&quot;</td><td>&quot;Airport4&quot;</td><td>&quot;L1&quot;</td><td>5823</td><td>2019-01-03</td><td>2018-11-29</td><td>&quot;City39&quot;</td><td>&quot;City4&quot;</td><td>35</td><td>0</td></tr><tr><td>&hellip;</td><td>&hellip;</td><td>&hellip;</td><td>&hellip;</td><td>&hellip;</td><td>&hellip;</td><td>&hellip;</td><td>&hellip;</td><td>&hellip;</td><td>&hellip;</td><td>&hellip;</td></tr><tr><td>29821</td><td>&quot;Airport4&quot;</td><td>&quot;Airport43&quot;</td><td>&quot;L2&quot;</td><td>7067</td><td>2019-01-06</td><td>2018-12-31</td><td>&quot;City4&quot;</td><td>&quot;City39&quot;</td><td>6</td><td>0</td></tr><tr><td>29822</td><td>&quot;Airport4&quot;</td><td>&quot;Airport43&quot;</td><td>&quot;L2&quot;</td><td>1232</td><td>2019-01-06</td><td>2018-12-31</td><td>&quot;City4&quot;</td><td>&quot;City39&quot;</td><td>6</td><td>0</td></tr><tr><td>29823</td><td>&quot;Airport17&quot;</td><td>&quot;Airport4&quot;</td><td>&quot;L1&quot;</td><td>1484</td><td>2019-01-07</td><td>2018-12-31</td><td>&quot;City17&quot;</td><td>&quot;City4&quot;</td><td>7</td><td>0</td></tr><tr><td>29824</td><td>&quot;Airport17&quot;</td><td>&quot;Airport4&quot;</td><td>&quot;L1&quot;</td><td>18471</td><td>2019-01-07</td><td>2018-12-31</td><td>&quot;City17&quot;</td><td>&quot;City4&quot;</td><td>7</td><td>0</td></tr><tr><td>29825</td><td>&quot;Airport17&quot;</td><td>&quot;Airport4&quot;</td><td>&quot;L1&quot;</td><td>1487</td><td>2019-01-07</td><td>2018-12-31</td><td>&quot;City17&quot;</td><td>&quot;City4&quot;</td><td>7</td><td>0</td></tr></tbody></table></div>"
      ],
      "text/plain": [
       "shape: (29_825, 11)\n",
       "┌───────┬───────────┬─────────────┬─────────┬───┬─────────────┬─────────────┬─────────────┬────────┐\n",
       "│       ┆ origin    ┆ destination ┆ carrier ┆ … ┆ origin_city ┆ destination ┆ days_till_f ┆ is_dst │\n",
       "│ ---   ┆ ---       ┆ ---         ┆ ---     ┆   ┆ ---         ┆ _city       ┆ light       ┆ ---    │\n",
       "│ i64   ┆ str       ┆ str         ┆ str     ┆   ┆ str         ┆ ---         ┆ ---         ┆ i32    │\n",
       "│       ┆           ┆             ┆         ┆   ┆             ┆ str         ┆ i64         ┆        │\n",
       "╞═══════╪═══════════╪═════════════╪═════════╪═══╪═════════════╪═════════════╪═════════════╪════════╡\n",
       "│ 1     ┆ Airport4  ┆ Airport43   ┆ L2      ┆ … ┆ City4       ┆ City39      ┆ 35          ┆ 0      │\n",
       "│ 2     ┆ Airport4  ┆ Airport43   ┆ L2      ┆ … ┆ City4       ┆ City39      ┆ 35          ┆ 0      │\n",
       "│ 3     ┆ Airport4  ┆ Airport43   ┆ L2      ┆ … ┆ City4       ┆ City39      ┆ 35          ┆ 0      │\n",
       "│ 4     ┆ Airport43 ┆ Airport4    ┆ L1      ┆ … ┆ City39      ┆ City4       ┆ 35          ┆ 0      │\n",
       "│ 5     ┆ Airport43 ┆ Airport4    ┆ L1      ┆ … ┆ City39      ┆ City4       ┆ 35          ┆ 0      │\n",
       "│ …     ┆ …         ┆ …           ┆ …       ┆ … ┆ …           ┆ …           ┆ …           ┆ …      │\n",
       "│ 29821 ┆ Airport4  ┆ Airport43   ┆ L2      ┆ … ┆ City4       ┆ City39      ┆ 6           ┆ 0      │\n",
       "│ 29822 ┆ Airport4  ┆ Airport43   ┆ L2      ┆ … ┆ City4       ┆ City39      ┆ 6           ┆ 0      │\n",
       "│ 29823 ┆ Airport17 ┆ Airport4    ┆ L1      ┆ … ┆ City17      ┆ City4       ┆ 7           ┆ 0      │\n",
       "│ 29824 ┆ Airport17 ┆ Airport4    ┆ L1      ┆ … ┆ City17      ┆ City4       ┆ 7           ┆ 0      │\n",
       "│ 29825 ┆ Airport17 ┆ Airport4    ┆ L1      ┆ … ┆ City17      ┆ City4       ┆ 7           ┆ 0      │\n",
       "└───────┴───────────┴─────────────┴─────────┴───┴─────────────┴─────────────┴─────────────┴────────┘"
      ]
     },
     "execution_count": 19,
     "metadata": {},
     "output_type": "execute_result"
    }
   ],
   "source": [
    "test_fares_df = test_fares_df.with_columns(\n",
    "    pl.when(\n",
    "        (pl.col('flt_departure_dt') >= pl.date(2018, 3, 11)) &\n",
    "        (pl.col('flt_departure_dt') <= pl.date(2018, 11, 3))\n",
    "    ).then(1).otherwise(0).alias('is_dst')\n",
    ")\n",
    "test_fares_df"
   ]
  },
  {
   "cell_type": "markdown",
   "metadata": {},
   "source": [
    "### Airports and cities"
   ]
  },
  {
   "cell_type": "code",
   "execution_count": 20,
   "metadata": {},
   "outputs": [
    {
     "data": {
      "text/html": [
       "<div><style>\n",
       ".dataframe > thead > tr,\n",
       ".dataframe > tbody > tr {\n",
       "  text-align: right;\n",
       "  white-space: pre-wrap;\n",
       "}\n",
       "</style>\n",
       "<small>shape: (8, 3)</small><table border=\"1\" class=\"dataframe\"><thead><tr><th>origin_city</th><th>Unique airports train</th><th>Unique airports test</th></tr><tr><td>str</td><td>list[str]</td><td>list[str]</td></tr></thead><tbody><tr><td>&quot;City17&quot;</td><td>[&quot;Airport17&quot;]</td><td>[&quot;Airport17&quot;]</td></tr><tr><td>&quot;City19&quot;</td><td>[&quot;Airport20&quot;]</td><td>[&quot;Airport20&quot;]</td></tr><tr><td>&quot;City24&quot;</td><td>[&quot;Airport26&quot;]</td><td>[&quot;Airport26&quot;]</td></tr><tr><td>&quot;City27&quot;</td><td>[&quot;Airport30&quot;]</td><td>[&quot;Airport30&quot;]</td></tr><tr><td>&quot;City28&quot;</td><td>[&quot;Airport31&quot;]</td><td>[&quot;Airport31&quot;]</td></tr><tr><td>&quot;City39&quot;</td><td>[&quot;Airport43&quot;]</td><td>[&quot;Airport43&quot;]</td></tr><tr><td>&quot;City4&quot;</td><td>[&quot;Airport4&quot;]</td><td>[&quot;Airport4&quot;]</td></tr><tr><td>&quot;City56&quot;</td><td>[&quot;Airport60&quot;]</td><td>[&quot;Airport60&quot;]</td></tr></tbody></table></div>"
      ],
      "text/plain": [
       "shape: (8, 3)\n",
       "┌─────────────┬───────────────────────┬──────────────────────┐\n",
       "│ origin_city ┆ Unique airports train ┆ Unique airports test │\n",
       "│ ---         ┆ ---                   ┆ ---                  │\n",
       "│ str         ┆ list[str]             ┆ list[str]            │\n",
       "╞═════════════╪═══════════════════════╪══════════════════════╡\n",
       "│ City17      ┆ [\"Airport17\"]         ┆ [\"Airport17\"]        │\n",
       "│ City19      ┆ [\"Airport20\"]         ┆ [\"Airport20\"]        │\n",
       "│ City24      ┆ [\"Airport26\"]         ┆ [\"Airport26\"]        │\n",
       "│ City27      ┆ [\"Airport30\"]         ┆ [\"Airport30\"]        │\n",
       "│ City28      ┆ [\"Airport31\"]         ┆ [\"Airport31\"]        │\n",
       "│ City39      ┆ [\"Airport43\"]         ┆ [\"Airport43\"]        │\n",
       "│ City4       ┆ [\"Airport4\"]          ┆ [\"Airport4\"]         │\n",
       "│ City56      ┆ [\"Airport60\"]         ┆ [\"Airport60\"]        │\n",
       "└─────────────┴───────────────────────┴──────────────────────┘"
      ]
     },
     "execution_count": 20,
     "metadata": {},
     "output_type": "execute_result"
    }
   ],
   "source": [
    "train_fares_df.group_by('origin_city').agg(\n",
    "    pl.col('origin').unique().alias('Unique airports train')\n",
    ").sort('origin_city').join(\n",
    "    test_fares_df.group_by('origin_city').agg(\n",
    "        pl.col('origin').unique().alias('Unique airports test')\n",
    "    ).sort('origin_city'),\n",
    "    on = \"origin_city\"\n",
    ")"
   ]
  },
  {
   "cell_type": "code",
   "execution_count": 21,
   "metadata": {},
   "outputs": [
    {
     "data": {
      "text/html": [
       "<div><style>\n",
       ".dataframe > thead > tr,\n",
       ".dataframe > tbody > tr {\n",
       "  text-align: right;\n",
       "  white-space: pre-wrap;\n",
       "}\n",
       "</style>\n",
       "<small>shape: (8, 3)</small><table border=\"1\" class=\"dataframe\"><thead><tr><th>destination_city</th><th>Unique airports train</th><th>Unique airports test</th></tr><tr><td>str</td><td>list[str]</td><td>list[str]</td></tr></thead><tbody><tr><td>&quot;City17&quot;</td><td>[&quot;Airport17&quot;]</td><td>[&quot;Airport17&quot;]</td></tr><tr><td>&quot;City19&quot;</td><td>[&quot;Airport20&quot;]</td><td>[&quot;Airport20&quot;]</td></tr><tr><td>&quot;City24&quot;</td><td>[&quot;Airport26&quot;]</td><td>[&quot;Airport26&quot;]</td></tr><tr><td>&quot;City27&quot;</td><td>[&quot;Airport30&quot;]</td><td>[&quot;Airport30&quot;]</td></tr><tr><td>&quot;City28&quot;</td><td>[&quot;Airport31&quot;]</td><td>[&quot;Airport31&quot;]</td></tr><tr><td>&quot;City39&quot;</td><td>[&quot;Airport43&quot;]</td><td>[&quot;Airport43&quot;]</td></tr><tr><td>&quot;City4&quot;</td><td>[&quot;Airport4&quot;]</td><td>[&quot;Airport4&quot;]</td></tr><tr><td>&quot;City56&quot;</td><td>[&quot;Airport60&quot;]</td><td>[&quot;Airport60&quot;]</td></tr></tbody></table></div>"
      ],
      "text/plain": [
       "shape: (8, 3)\n",
       "┌──────────────────┬───────────────────────┬──────────────────────┐\n",
       "│ destination_city ┆ Unique airports train ┆ Unique airports test │\n",
       "│ ---              ┆ ---                   ┆ ---                  │\n",
       "│ str              ┆ list[str]             ┆ list[str]            │\n",
       "╞══════════════════╪═══════════════════════╪══════════════════════╡\n",
       "│ City17           ┆ [\"Airport17\"]         ┆ [\"Airport17\"]        │\n",
       "│ City19           ┆ [\"Airport20\"]         ┆ [\"Airport20\"]        │\n",
       "│ City24           ┆ [\"Airport26\"]         ┆ [\"Airport26\"]        │\n",
       "│ City27           ┆ [\"Airport30\"]         ┆ [\"Airport30\"]        │\n",
       "│ City28           ┆ [\"Airport31\"]         ┆ [\"Airport31\"]        │\n",
       "│ City39           ┆ [\"Airport43\"]         ┆ [\"Airport43\"]        │\n",
       "│ City4            ┆ [\"Airport4\"]          ┆ [\"Airport4\"]         │\n",
       "│ City56           ┆ [\"Airport60\"]         ┆ [\"Airport60\"]        │\n",
       "└──────────────────┴───────────────────────┴──────────────────────┘"
      ]
     },
     "execution_count": 21,
     "metadata": {},
     "output_type": "execute_result"
    }
   ],
   "source": [
    "train_fares_df.group_by('destination_city').agg(\n",
    "    pl.col('destination').unique().alias('Unique airports train')\n",
    ").sort('destination_city').join(\n",
    "    test_fares_df.group_by('destination_city').agg(\n",
    "        pl.col('destination').unique().alias('Unique airports test')\n",
    "    ).sort('destination_city'),\n",
    "    on = \"destination_city\"\n",
    ")"
   ]
  },
  {
   "cell_type": "code",
   "execution_count": 22,
   "metadata": {},
   "outputs": [
    {
     "name": "stdout",
     "output_type": "stream",
     "text": [
      "Same\n",
      "Same\n",
      "Same\n"
     ]
    }
   ],
   "source": [
    "for airports in [\n",
    "    set(train_fares_df['destination']),\n",
    "    set(test_fares_df['origin']),\n",
    "    set(test_fares_df['destination'])\n",
    "]:\n",
    "    if airports == set(train_fares_df['origin']):\n",
    "        print('Same')\n",
    "    else:\n",
    "        print('Different airport found')"
   ]
  },
  {
   "cell_type": "markdown",
   "metadata": {},
   "source": [
    "### Routes"
   ]
  },
  {
   "cell_type": "code",
   "execution_count": 23,
   "metadata": {},
   "outputs": [
    {
     "data": {
      "text/html": [
       "<div><style>\n",
       ".dataframe > thead > tr,\n",
       ".dataframe > tbody > tr {\n",
       "  text-align: right;\n",
       "  white-space: pre-wrap;\n",
       "}\n",
       "</style>\n",
       "<small>shape: (12, 3)</small><table border=\"1\" class=\"dataframe\"><thead><tr><th>route_id</th><th>origin</th><th>destination</th></tr><tr><td>u32</td><td>str</td><td>str</td></tr></thead><tbody><tr><td>0</td><td>&quot;Airport17&quot;</td><td>&quot;Airport4&quot;</td></tr><tr><td>1</td><td>&quot;Airport20&quot;</td><td>&quot;Airport4&quot;</td></tr><tr><td>2</td><td>&quot;Airport26&quot;</td><td>&quot;Airport30&quot;</td></tr><tr><td>3</td><td>&quot;Airport30&quot;</td><td>&quot;Airport26&quot;</td></tr><tr><td>4</td><td>&quot;Airport30&quot;</td><td>&quot;Airport31&quot;</td></tr><tr><td>&hellip;</td><td>&hellip;</td><td>&hellip;</td></tr><tr><td>7</td><td>&quot;Airport4&quot;</td><td>&quot;Airport17&quot;</td></tr><tr><td>8</td><td>&quot;Airport4&quot;</td><td>&quot;Airport20&quot;</td></tr><tr><td>9</td><td>&quot;Airport4&quot;</td><td>&quot;Airport43&quot;</td></tr><tr><td>10</td><td>&quot;Airport43&quot;</td><td>&quot;Airport4&quot;</td></tr><tr><td>11</td><td>&quot;Airport60&quot;</td><td>&quot;Airport30&quot;</td></tr></tbody></table></div>"
      ],
      "text/plain": [
       "shape: (12, 3)\n",
       "┌──────────┬───────────┬─────────────┐\n",
       "│ route_id ┆ origin    ┆ destination │\n",
       "│ ---      ┆ ---       ┆ ---         │\n",
       "│ u32      ┆ str       ┆ str         │\n",
       "╞══════════╪═══════════╪═════════════╡\n",
       "│ 0        ┆ Airport17 ┆ Airport4    │\n",
       "│ 1        ┆ Airport20 ┆ Airport4    │\n",
       "│ 2        ┆ Airport26 ┆ Airport30   │\n",
       "│ 3        ┆ Airport30 ┆ Airport26   │\n",
       "│ 4        ┆ Airport30 ┆ Airport31   │\n",
       "│ …        ┆ …         ┆ …           │\n",
       "│ 7        ┆ Airport4  ┆ Airport17   │\n",
       "│ 8        ┆ Airport4  ┆ Airport20   │\n",
       "│ 9        ┆ Airport4  ┆ Airport43   │\n",
       "│ 10       ┆ Airport43 ┆ Airport4    │\n",
       "│ 11       ┆ Airport60 ┆ Airport30   │\n",
       "└──────────┴───────────┴─────────────┘"
      ]
     },
     "execution_count": 23,
     "metadata": {},
     "output_type": "execute_result"
    }
   ],
   "source": [
    "route_mapping = train_fares_df.select(\n",
    "    pl.col(['origin', 'destination'])\n",
    ").unique().sort(['origin', 'destination']).with_row_index(name = \"route_id\")\n",
    "\n",
    "route_mapping"
   ]
  },
  {
   "cell_type": "code",
   "execution_count": 24,
   "metadata": {},
   "outputs": [
    {
     "data": {
      "text/html": [
       "<div><style>\n",
       ".dataframe > thead > tr,\n",
       ".dataframe > tbody > tr {\n",
       "  text-align: right;\n",
       "  white-space: pre-wrap;\n",
       "}\n",
       "</style>\n",
       "<small>shape: (2_160_016, 13)</small><table border=\"1\" class=\"dataframe\"><thead><tr><th></th><th>origin</th><th>destination</th><th>carrier</th><th>flt_num</th><th>flt_departure_dt</th><th>observation_date</th><th>total_fare</th><th>origin_city</th><th>destination_city</th><th>days_till_flight</th><th>is_dst</th><th>route_id</th></tr><tr><td>i64</td><td>str</td><td>str</td><td>str</td><td>i64</td><td>date</td><td>date</td><td>i64</td><td>str</td><td>str</td><td>i64</td><td>i32</td><td>u32</td></tr></thead><tbody><tr><td>1</td><td>&quot;Airport4&quot;</td><td>&quot;Airport43&quot;</td><td>&quot;L1&quot;</td><td>5911</td><td>2018-01-03</td><td>2017-11-29</td><td>538</td><td>&quot;City4&quot;</td><td>&quot;City39&quot;</td><td>35</td><td>0</td><td>9</td></tr><tr><td>2</td><td>&quot;Airport4&quot;</td><td>&quot;Airport43&quot;</td><td>&quot;L1&quot;</td><td>6589</td><td>2018-01-03</td><td>2017-11-29</td><td>538</td><td>&quot;City4&quot;</td><td>&quot;City39&quot;</td><td>35</td><td>0</td><td>9</td></tr><tr><td>3</td><td>&quot;Airport4&quot;</td><td>&quot;Airport43&quot;</td><td>&quot;L1&quot;</td><td>2689</td><td>2018-01-03</td><td>2017-11-29</td><td>538</td><td>&quot;City4&quot;</td><td>&quot;City39&quot;</td><td>35</td><td>0</td><td>9</td></tr><tr><td>4</td><td>&quot;Airport4&quot;</td><td>&quot;Airport43&quot;</td><td>&quot;L2&quot;</td><td>8244</td><td>2018-01-03</td><td>2017-11-29</td><td>557</td><td>&quot;City4&quot;</td><td>&quot;City39&quot;</td><td>35</td><td>0</td><td>9</td></tr><tr><td>5</td><td>&quot;Airport4&quot;</td><td>&quot;Airport43&quot;</td><td>&quot;L2&quot;</td><td>8523</td><td>2018-01-03</td><td>2017-11-29</td><td>557</td><td>&quot;City4&quot;</td><td>&quot;City39&quot;</td><td>35</td><td>0</td><td>9</td></tr><tr><td>&hellip;</td><td>&hellip;</td><td>&hellip;</td><td>&hellip;</td><td>&hellip;</td><td>&hellip;</td><td>&hellip;</td><td>&hellip;</td><td>&hellip;</td><td>&hellip;</td><td>&hellip;</td><td>&hellip;</td><td>&hellip;</td></tr><tr><td>2160012</td><td>&quot;Airport20&quot;</td><td>&quot;Airport4&quot;</td><td>&quot;L1&quot;</td><td>7431</td><td>2018-10-20</td><td>2018-09-19</td><td>737</td><td>&quot;City19&quot;</td><td>&quot;City4&quot;</td><td>31</td><td>1</td><td>1</td></tr><tr><td>2160013</td><td>&quot;Airport20&quot;</td><td>&quot;Airport4&quot;</td><td>&quot;L1&quot;</td><td>5927</td><td>2018-10-20</td><td>2018-09-19</td><td>498</td><td>&quot;City19&quot;</td><td>&quot;City4&quot;</td><td>31</td><td>1</td><td>1</td></tr><tr><td>2160014</td><td>&quot;Airport20&quot;</td><td>&quot;Airport4&quot;</td><td>&quot;L1&quot;</td><td>7431</td><td>2018-10-21</td><td>2018-09-19</td><td>599</td><td>&quot;City19&quot;</td><td>&quot;City4&quot;</td><td>32</td><td>1</td><td>1</td></tr><tr><td>2160015</td><td>&quot;Airport20&quot;</td><td>&quot;Airport4&quot;</td><td>&quot;L1&quot;</td><td>7434</td><td>2018-10-21</td><td>2018-09-19</td><td>1428</td><td>&quot;City19&quot;</td><td>&quot;City4&quot;</td><td>32</td><td>1</td><td>1</td></tr><tr><td>2160016</td><td>&quot;Airport20&quot;</td><td>&quot;Airport4&quot;</td><td>&quot;L1&quot;</td><td>5927</td><td>2018-10-21</td><td>2018-09-19</td><td>916</td><td>&quot;City19&quot;</td><td>&quot;City4&quot;</td><td>32</td><td>1</td><td>1</td></tr></tbody></table></div>"
      ],
      "text/plain": [
       "shape: (2_160_016, 13)\n",
       "┌─────────┬───────────┬─────────────┬─────────┬───┬──────────────┬─────────────┬────────┬──────────┐\n",
       "│         ┆ origin    ┆ destination ┆ carrier ┆ … ┆ destination_ ┆ days_till_f ┆ is_dst ┆ route_id │\n",
       "│ ---     ┆ ---       ┆ ---         ┆ ---     ┆   ┆ city         ┆ light       ┆ ---    ┆ ---      │\n",
       "│ i64     ┆ str       ┆ str         ┆ str     ┆   ┆ ---          ┆ ---         ┆ i32    ┆ u32      │\n",
       "│         ┆           ┆             ┆         ┆   ┆ str          ┆ i64         ┆        ┆          │\n",
       "╞═════════╪═══════════╪═════════════╪═════════╪═══╪══════════════╪═════════════╪════════╪══════════╡\n",
       "│ 1       ┆ Airport4  ┆ Airport43   ┆ L1      ┆ … ┆ City39       ┆ 35          ┆ 0      ┆ 9        │\n",
       "│ 2       ┆ Airport4  ┆ Airport43   ┆ L1      ┆ … ┆ City39       ┆ 35          ┆ 0      ┆ 9        │\n",
       "│ 3       ┆ Airport4  ┆ Airport43   ┆ L1      ┆ … ┆ City39       ┆ 35          ┆ 0      ┆ 9        │\n",
       "│ 4       ┆ Airport4  ┆ Airport43   ┆ L2      ┆ … ┆ City39       ┆ 35          ┆ 0      ┆ 9        │\n",
       "│ 5       ┆ Airport4  ┆ Airport43   ┆ L2      ┆ … ┆ City39       ┆ 35          ┆ 0      ┆ 9        │\n",
       "│ …       ┆ …         ┆ …           ┆ …       ┆ … ┆ …            ┆ …           ┆ …      ┆ …        │\n",
       "│ 2160012 ┆ Airport20 ┆ Airport4    ┆ L1      ┆ … ┆ City4        ┆ 31          ┆ 1      ┆ 1        │\n",
       "│ 2160013 ┆ Airport20 ┆ Airport4    ┆ L1      ┆ … ┆ City4        ┆ 31          ┆ 1      ┆ 1        │\n",
       "│ 2160014 ┆ Airport20 ┆ Airport4    ┆ L1      ┆ … ┆ City4        ┆ 32          ┆ 1      ┆ 1        │\n",
       "│ 2160015 ┆ Airport20 ┆ Airport4    ┆ L1      ┆ … ┆ City4        ┆ 32          ┆ 1      ┆ 1        │\n",
       "│ 2160016 ┆ Airport20 ┆ Airport4    ┆ L1      ┆ … ┆ City4        ┆ 32          ┆ 1      ┆ 1        │\n",
       "└─────────┴───────────┴─────────────┴─────────┴───┴──────────────┴─────────────┴────────┴──────────┘"
      ]
     },
     "execution_count": 24,
     "metadata": {},
     "output_type": "execute_result"
    }
   ],
   "source": [
    "train_fares_df = train_fares_df.join(\n",
    "    route_mapping, \n",
    "    on = ['origin', 'destination'], \n",
    "    how = 'left'\n",
    ")\n",
    "train_fares_df"
   ]
  },
  {
   "cell_type": "code",
   "execution_count": 25,
   "metadata": {},
   "outputs": [
    {
     "data": {
      "text/html": [
       "<div><style>\n",
       ".dataframe > thead > tr,\n",
       ".dataframe > tbody > tr {\n",
       "  text-align: right;\n",
       "  white-space: pre-wrap;\n",
       "}\n",
       "</style>\n",
       "<small>shape: (29_825, 12)</small><table border=\"1\" class=\"dataframe\"><thead><tr><th></th><th>origin</th><th>destination</th><th>carrier</th><th>flt_num</th><th>flt_departure_dt</th><th>observation_date</th><th>origin_city</th><th>destination_city</th><th>days_till_flight</th><th>is_dst</th><th>route_id</th></tr><tr><td>i64</td><td>str</td><td>str</td><td>str</td><td>i64</td><td>date</td><td>date</td><td>str</td><td>str</td><td>i64</td><td>i32</td><td>u32</td></tr></thead><tbody><tr><td>1</td><td>&quot;Airport4&quot;</td><td>&quot;Airport43&quot;</td><td>&quot;L2&quot;</td><td>7465</td><td>2019-01-01</td><td>2018-11-27</td><td>&quot;City4&quot;</td><td>&quot;City39&quot;</td><td>35</td><td>0</td><td>9</td></tr><tr><td>2</td><td>&quot;Airport4&quot;</td><td>&quot;Airport43&quot;</td><td>&quot;L2&quot;</td><td>7067</td><td>2019-01-01</td><td>2018-11-27</td><td>&quot;City4&quot;</td><td>&quot;City39&quot;</td><td>35</td><td>0</td><td>9</td></tr><tr><td>3</td><td>&quot;Airport4&quot;</td><td>&quot;Airport43&quot;</td><td>&quot;L2&quot;</td><td>1232</td><td>2019-01-01</td><td>2018-11-27</td><td>&quot;City4&quot;</td><td>&quot;City39&quot;</td><td>35</td><td>0</td><td>9</td></tr><tr><td>4</td><td>&quot;Airport43&quot;</td><td>&quot;Airport4&quot;</td><td>&quot;L1&quot;</td><td>17783</td><td>2019-01-03</td><td>2018-11-29</td><td>&quot;City39&quot;</td><td>&quot;City4&quot;</td><td>35</td><td>0</td><td>10</td></tr><tr><td>5</td><td>&quot;Airport43&quot;</td><td>&quot;Airport4&quot;</td><td>&quot;L1&quot;</td><td>5823</td><td>2019-01-03</td><td>2018-11-29</td><td>&quot;City39&quot;</td><td>&quot;City4&quot;</td><td>35</td><td>0</td><td>10</td></tr><tr><td>&hellip;</td><td>&hellip;</td><td>&hellip;</td><td>&hellip;</td><td>&hellip;</td><td>&hellip;</td><td>&hellip;</td><td>&hellip;</td><td>&hellip;</td><td>&hellip;</td><td>&hellip;</td><td>&hellip;</td></tr><tr><td>29821</td><td>&quot;Airport4&quot;</td><td>&quot;Airport43&quot;</td><td>&quot;L2&quot;</td><td>7067</td><td>2019-01-06</td><td>2018-12-31</td><td>&quot;City4&quot;</td><td>&quot;City39&quot;</td><td>6</td><td>0</td><td>9</td></tr><tr><td>29822</td><td>&quot;Airport4&quot;</td><td>&quot;Airport43&quot;</td><td>&quot;L2&quot;</td><td>1232</td><td>2019-01-06</td><td>2018-12-31</td><td>&quot;City4&quot;</td><td>&quot;City39&quot;</td><td>6</td><td>0</td><td>9</td></tr><tr><td>29823</td><td>&quot;Airport17&quot;</td><td>&quot;Airport4&quot;</td><td>&quot;L1&quot;</td><td>1484</td><td>2019-01-07</td><td>2018-12-31</td><td>&quot;City17&quot;</td><td>&quot;City4&quot;</td><td>7</td><td>0</td><td>0</td></tr><tr><td>29824</td><td>&quot;Airport17&quot;</td><td>&quot;Airport4&quot;</td><td>&quot;L1&quot;</td><td>18471</td><td>2019-01-07</td><td>2018-12-31</td><td>&quot;City17&quot;</td><td>&quot;City4&quot;</td><td>7</td><td>0</td><td>0</td></tr><tr><td>29825</td><td>&quot;Airport17&quot;</td><td>&quot;Airport4&quot;</td><td>&quot;L1&quot;</td><td>1487</td><td>2019-01-07</td><td>2018-12-31</td><td>&quot;City17&quot;</td><td>&quot;City4&quot;</td><td>7</td><td>0</td><td>0</td></tr></tbody></table></div>"
      ],
      "text/plain": [
       "shape: (29_825, 12)\n",
       "┌───────┬───────────┬─────────────┬─────────┬───┬───────────────┬──────────────┬────────┬──────────┐\n",
       "│       ┆ origin    ┆ destination ┆ carrier ┆ … ┆ destination_c ┆ days_till_fl ┆ is_dst ┆ route_id │\n",
       "│ ---   ┆ ---       ┆ ---         ┆ ---     ┆   ┆ ity           ┆ ight         ┆ ---    ┆ ---      │\n",
       "│ i64   ┆ str       ┆ str         ┆ str     ┆   ┆ ---           ┆ ---          ┆ i32    ┆ u32      │\n",
       "│       ┆           ┆             ┆         ┆   ┆ str           ┆ i64          ┆        ┆          │\n",
       "╞═══════╪═══════════╪═════════════╪═════════╪═══╪═══════════════╪══════════════╪════════╪══════════╡\n",
       "│ 1     ┆ Airport4  ┆ Airport43   ┆ L2      ┆ … ┆ City39        ┆ 35           ┆ 0      ┆ 9        │\n",
       "│ 2     ┆ Airport4  ┆ Airport43   ┆ L2      ┆ … ┆ City39        ┆ 35           ┆ 0      ┆ 9        │\n",
       "│ 3     ┆ Airport4  ┆ Airport43   ┆ L2      ┆ … ┆ City39        ┆ 35           ┆ 0      ┆ 9        │\n",
       "│ 4     ┆ Airport43 ┆ Airport4    ┆ L1      ┆ … ┆ City4         ┆ 35           ┆ 0      ┆ 10       │\n",
       "│ 5     ┆ Airport43 ┆ Airport4    ┆ L1      ┆ … ┆ City4         ┆ 35           ┆ 0      ┆ 10       │\n",
       "│ …     ┆ …         ┆ …           ┆ …       ┆ … ┆ …             ┆ …            ┆ …      ┆ …        │\n",
       "│ 29821 ┆ Airport4  ┆ Airport43   ┆ L2      ┆ … ┆ City39        ┆ 6            ┆ 0      ┆ 9        │\n",
       "│ 29822 ┆ Airport4  ┆ Airport43   ┆ L2      ┆ … ┆ City39        ┆ 6            ┆ 0      ┆ 9        │\n",
       "│ 29823 ┆ Airport17 ┆ Airport4    ┆ L1      ┆ … ┆ City4         ┆ 7            ┆ 0      ┆ 0        │\n",
       "│ 29824 ┆ Airport17 ┆ Airport4    ┆ L1      ┆ … ┆ City4         ┆ 7            ┆ 0      ┆ 0        │\n",
       "│ 29825 ┆ Airport17 ┆ Airport4    ┆ L1      ┆ … ┆ City4         ┆ 7            ┆ 0      ┆ 0        │\n",
       "└───────┴───────────┴─────────────┴─────────┴───┴───────────────┴──────────────┴────────┴──────────┘"
      ]
     },
     "execution_count": 25,
     "metadata": {},
     "output_type": "execute_result"
    }
   ],
   "source": [
    "test_fares_df = test_fares_df.join(\n",
    "    route_mapping, \n",
    "    on = ['origin', 'destination'], \n",
    "    how = 'left'\n",
    ")\n",
    "test_fares_df"
   ]
  },
  {
   "cell_type": "code",
   "execution_count": 26,
   "metadata": {},
   "outputs": [
    {
     "data": {
      "text/plain": [
       "(0, 0)"
      ]
     },
     "execution_count": 26,
     "metadata": {},
     "output_type": "execute_result"
    }
   ],
   "source": [
    "train_fares_df['route_id'].null_count(), test_fares_df['route_id'].null_count()"
   ]
  },
  {
   "cell_type": "code",
   "execution_count": null,
   "metadata": {},
   "outputs": [],
   "source": []
  }
 ],
 "metadata": {
  "kernelspec": {
   "display_name": "Python 3",
   "language": "python",
   "name": "python3"
  },
  "language_info": {
   "codemirror_mode": {
    "name": "ipython",
    "version": 3
   },
   "file_extension": ".py",
   "mimetype": "text/x-python",
   "name": "python",
   "nbconvert_exporter": "python",
   "pygments_lexer": "ipython3",
   "version": "3.11.6"
  }
 },
 "nbformat": 4,
 "nbformat_minor": 2
}
