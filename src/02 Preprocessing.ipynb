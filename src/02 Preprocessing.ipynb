{
 "cells": [
  {
   "cell_type": "markdown",
   "metadata": {},
   "source": [
    "# Data Preprocessing"
   ]
  },
  {
   "cell_type": "markdown",
   "metadata": {},
   "source": [
    "## Imports"
   ]
  },
  {
   "cell_type": "code",
   "execution_count": 1,
   "metadata": {},
   "outputs": [],
   "source": [
    "from pathlib import Path\n",
    "\n",
    "import polars as pl\n",
    "from IPython.display import display\n",
    "\n",
    "from utils import RAW_DATA_DIR, PROCESSED_DATA_DIR"
   ]
  },
  {
   "cell_type": "code",
   "execution_count": 2,
   "metadata": {},
   "outputs": [
    {
     "data": {
      "text/plain": [
       "True"
      ]
     },
     "execution_count": 2,
     "metadata": {},
     "output_type": "execute_result"
    }
   ],
   "source": [
    "RAW_DATA_DIR.is_dir() and PROCESSED_DATA_DIR.is_dir()"
   ]
  },
  {
   "cell_type": "markdown",
   "metadata": {},
   "source": [
    "## Loading data"
   ]
  },
  {
   "cell_type": "markdown",
   "metadata": {},
   "source": [
    "### Train fares"
   ]
  },
  {
   "cell_type": "code",
   "execution_count": 3,
   "metadata": {},
   "outputs": [
    {
     "data": {
      "text/html": [
       "<div><style>\n",
       ".dataframe > thead > tr,\n",
       ".dataframe > tbody > tr {\n",
       "  text-align: right;\n",
       "  white-space: pre-wrap;\n",
       "}\n",
       "</style>\n",
       "<small>shape: (2_160_016, 9)</small><table border=\"1\" class=\"dataframe\"><thead><tr><th>origin</th><th>destination</th><th>carrier</th><th>flt_num</th><th>flt_departure_dt</th><th>observation_date</th><th>total_fare</th><th>origin_city</th><th>destination_city</th></tr><tr><td>str</td><td>str</td><td>str</td><td>i64</td><td>str</td><td>str</td><td>i64</td><td>str</td><td>str</td></tr></thead><tbody><tr><td>&quot;Airport4&quot;</td><td>&quot;Airport43&quot;</td><td>&quot;L1&quot;</td><td>5911</td><td>&quot;2018-01-03&quot;</td><td>&quot;2017-11-29&quot;</td><td>538</td><td>&quot;City4&quot;</td><td>&quot;City39&quot;</td></tr><tr><td>&quot;Airport4&quot;</td><td>&quot;Airport43&quot;</td><td>&quot;L1&quot;</td><td>6589</td><td>&quot;2018-01-03&quot;</td><td>&quot;2017-11-29&quot;</td><td>538</td><td>&quot;City4&quot;</td><td>&quot;City39&quot;</td></tr><tr><td>&quot;Airport4&quot;</td><td>&quot;Airport43&quot;</td><td>&quot;L1&quot;</td><td>2689</td><td>&quot;2018-01-03&quot;</td><td>&quot;2017-11-29&quot;</td><td>538</td><td>&quot;City4&quot;</td><td>&quot;City39&quot;</td></tr><tr><td>&quot;Airport4&quot;</td><td>&quot;Airport43&quot;</td><td>&quot;L2&quot;</td><td>8244</td><td>&quot;2018-01-03&quot;</td><td>&quot;2017-11-29&quot;</td><td>557</td><td>&quot;City4&quot;</td><td>&quot;City39&quot;</td></tr><tr><td>&quot;Airport4&quot;</td><td>&quot;Airport43&quot;</td><td>&quot;L2&quot;</td><td>8523</td><td>&quot;2018-01-03&quot;</td><td>&quot;2017-11-29&quot;</td><td>557</td><td>&quot;City4&quot;</td><td>&quot;City39&quot;</td></tr><tr><td>&hellip;</td><td>&hellip;</td><td>&hellip;</td><td>&hellip;</td><td>&hellip;</td><td>&hellip;</td><td>&hellip;</td><td>&hellip;</td><td>&hellip;</td></tr><tr><td>&quot;Airport20&quot;</td><td>&quot;Airport4&quot;</td><td>&quot;L1&quot;</td><td>7431</td><td>&quot;2018-10-20&quot;</td><td>&quot;2018-09-19&quot;</td><td>737</td><td>&quot;City19&quot;</td><td>&quot;City4&quot;</td></tr><tr><td>&quot;Airport20&quot;</td><td>&quot;Airport4&quot;</td><td>&quot;L1&quot;</td><td>5927</td><td>&quot;2018-10-20&quot;</td><td>&quot;2018-09-19&quot;</td><td>498</td><td>&quot;City19&quot;</td><td>&quot;City4&quot;</td></tr><tr><td>&quot;Airport20&quot;</td><td>&quot;Airport4&quot;</td><td>&quot;L1&quot;</td><td>7431</td><td>&quot;2018-10-21&quot;</td><td>&quot;2018-09-19&quot;</td><td>599</td><td>&quot;City19&quot;</td><td>&quot;City4&quot;</td></tr><tr><td>&quot;Airport20&quot;</td><td>&quot;Airport4&quot;</td><td>&quot;L1&quot;</td><td>7434</td><td>&quot;2018-10-21&quot;</td><td>&quot;2018-09-19&quot;</td><td>1428</td><td>&quot;City19&quot;</td><td>&quot;City4&quot;</td></tr><tr><td>&quot;Airport20&quot;</td><td>&quot;Airport4&quot;</td><td>&quot;L1&quot;</td><td>5927</td><td>&quot;2018-10-21&quot;</td><td>&quot;2018-09-19&quot;</td><td>916</td><td>&quot;City19&quot;</td><td>&quot;City4&quot;</td></tr></tbody></table></div>"
      ],
      "text/plain": [
       "shape: (2_160_016, 9)\n",
       "┌───────────┬────────────┬─────────┬─────────┬───┬────────────┬────────────┬───────────┬───────────┐\n",
       "│ origin    ┆ destinatio ┆ carrier ┆ flt_num ┆ … ┆ observatio ┆ total_fare ┆ origin_ci ┆ destinati │\n",
       "│ ---       ┆ n          ┆ ---     ┆ ---     ┆   ┆ n_date     ┆ ---        ┆ ty        ┆ on_city   │\n",
       "│ str       ┆ ---        ┆ str     ┆ i64     ┆   ┆ ---        ┆ i64        ┆ ---       ┆ ---       │\n",
       "│           ┆ str        ┆         ┆         ┆   ┆ str        ┆            ┆ str       ┆ str       │\n",
       "╞═══════════╪════════════╪═════════╪═════════╪═══╪════════════╪════════════╪═══════════╪═══════════╡\n",
       "│ Airport4  ┆ Airport43  ┆ L1      ┆ 5911    ┆ … ┆ 2017-11-29 ┆ 538        ┆ City4     ┆ City39    │\n",
       "│ Airport4  ┆ Airport43  ┆ L1      ┆ 6589    ┆ … ┆ 2017-11-29 ┆ 538        ┆ City4     ┆ City39    │\n",
       "│ Airport4  ┆ Airport43  ┆ L1      ┆ 2689    ┆ … ┆ 2017-11-29 ┆ 538        ┆ City4     ┆ City39    │\n",
       "│ Airport4  ┆ Airport43  ┆ L2      ┆ 8244    ┆ … ┆ 2017-11-29 ┆ 557        ┆ City4     ┆ City39    │\n",
       "│ Airport4  ┆ Airport43  ┆ L2      ┆ 8523    ┆ … ┆ 2017-11-29 ┆ 557        ┆ City4     ┆ City39    │\n",
       "│ …         ┆ …          ┆ …       ┆ …       ┆ … ┆ …          ┆ …          ┆ …         ┆ …         │\n",
       "│ Airport20 ┆ Airport4   ┆ L1      ┆ 7431    ┆ … ┆ 2018-09-19 ┆ 737        ┆ City19    ┆ City4     │\n",
       "│ Airport20 ┆ Airport4   ┆ L1      ┆ 5927    ┆ … ┆ 2018-09-19 ┆ 498        ┆ City19    ┆ City4     │\n",
       "│ Airport20 ┆ Airport4   ┆ L1      ┆ 7431    ┆ … ┆ 2018-09-19 ┆ 599        ┆ City19    ┆ City4     │\n",
       "│ Airport20 ┆ Airport4   ┆ L1      ┆ 7434    ┆ … ┆ 2018-09-19 ┆ 1428       ┆ City19    ┆ City4     │\n",
       "│ Airport20 ┆ Airport4   ┆ L1      ┆ 5927    ┆ … ┆ 2018-09-19 ┆ 916        ┆ City19    ┆ City4     │\n",
       "└───────────┴────────────┴─────────┴─────────┴───┴────────────┴────────────┴───────────┴───────────┘"
      ]
     },
     "metadata": {},
     "output_type": "display_data"
    },
    {
     "name": "stdout",
     "output_type": "stream",
     "text": [
      "Null counts\n"
     ]
    },
    {
     "data": {
      "text/html": [
       "<div><style>\n",
       ".dataframe > thead > tr,\n",
       ".dataframe > tbody > tr {\n",
       "  text-align: right;\n",
       "  white-space: pre-wrap;\n",
       "}\n",
       "</style>\n",
       "<small>shape: (1, 9)</small><table border=\"1\" class=\"dataframe\"><thead><tr><th>origin</th><th>destination</th><th>carrier</th><th>flt_num</th><th>flt_departure_dt</th><th>observation_date</th><th>total_fare</th><th>origin_city</th><th>destination_city</th></tr><tr><td>u32</td><td>u32</td><td>u32</td><td>u32</td><td>u32</td><td>u32</td><td>u32</td><td>u32</td><td>u32</td></tr></thead><tbody><tr><td>0</td><td>0</td><td>0</td><td>0</td><td>0</td><td>0</td><td>0</td><td>0</td><td>0</td></tr></tbody></table></div>"
      ],
      "text/plain": [
       "shape: (1, 9)\n",
       "┌────────┬─────────────┬─────────┬─────────┬───┬────────────┬────────────┬────────────┬────────────┐\n",
       "│ origin ┆ destination ┆ carrier ┆ flt_num ┆ … ┆ observatio ┆ total_fare ┆ origin_cit ┆ destinatio │\n",
       "│ ---    ┆ ---         ┆ ---     ┆ ---     ┆   ┆ n_date     ┆ ---        ┆ y          ┆ n_city     │\n",
       "│ u32    ┆ u32         ┆ u32     ┆ u32     ┆   ┆ ---        ┆ u32        ┆ ---        ┆ ---        │\n",
       "│        ┆             ┆         ┆         ┆   ┆ u32        ┆            ┆ u32        ┆ u32        │\n",
       "╞════════╪═════════════╪═════════╪═════════╪═══╪════════════╪════════════╪════════════╪════════════╡\n",
       "│ 0      ┆ 0           ┆ 0       ┆ 0       ┆ … ┆ 0          ┆ 0          ┆ 0          ┆ 0          │\n",
       "└────────┴─────────────┴─────────┴─────────┴───┴────────────┴────────────┴────────────┴────────────┘"
      ]
     },
     "metadata": {},
     "output_type": "display_data"
    },
    {
     "name": "stdout",
     "output_type": "stream",
     "text": [
      "Count of unique values\n"
     ]
    },
    {
     "data": {
      "text/html": [
       "<div><style>\n",
       ".dataframe > thead > tr,\n",
       ".dataframe > tbody > tr {\n",
       "  text-align: right;\n",
       "  white-space: pre-wrap;\n",
       "}\n",
       "</style>\n",
       "<small>shape: (1, 9)</small><table border=\"1\" class=\"dataframe\"><thead><tr><th>origin</th><th>destination</th><th>carrier</th><th>flt_num</th><th>flt_departure_dt</th><th>observation_date</th><th>total_fare</th><th>origin_city</th><th>destination_city</th></tr><tr><td>u32</td><td>u32</td><td>u32</td><td>u32</td><td>u32</td><td>u32</td><td>u32</td><td>u32</td><td>u32</td></tr></thead><tbody><tr><td>8</td><td>8</td><td>6</td><td>788</td><td>365</td><td>399</td><td>1390</td><td>8</td><td>8</td></tr></tbody></table></div>"
      ],
      "text/plain": [
       "shape: (1, 9)\n",
       "┌────────┬─────────────┬─────────┬─────────┬───┬────────────┬────────────┬────────────┬────────────┐\n",
       "│ origin ┆ destination ┆ carrier ┆ flt_num ┆ … ┆ observatio ┆ total_fare ┆ origin_cit ┆ destinatio │\n",
       "│ ---    ┆ ---         ┆ ---     ┆ ---     ┆   ┆ n_date     ┆ ---        ┆ y          ┆ n_city     │\n",
       "│ u32    ┆ u32         ┆ u32     ┆ u32     ┆   ┆ ---        ┆ u32        ┆ ---        ┆ ---        │\n",
       "│        ┆             ┆         ┆         ┆   ┆ u32        ┆            ┆ u32        ┆ u32        │\n",
       "╞════════╪═════════════╪═════════╪═════════╪═══╪════════════╪════════════╪════════════╪════════════╡\n",
       "│ 8      ┆ 8           ┆ 6       ┆ 788     ┆ … ┆ 399        ┆ 1390       ┆ 8          ┆ 8          │\n",
       "└────────┴─────────────┴─────────┴─────────┴───┴────────────┴────────────┴────────────┴────────────┘"
      ]
     },
     "metadata": {},
     "output_type": "display_data"
    },
    {
     "name": "stdout",
     "output_type": "stream",
     "text": [
      "Duplicated rows\n"
     ]
    },
    {
     "data": {
      "text/html": [
       "<div><style>\n",
       ".dataframe > thead > tr,\n",
       ".dataframe > tbody > tr {\n",
       "  text-align: right;\n",
       "  white-space: pre-wrap;\n",
       "}\n",
       "</style>\n",
       "<small>shape: (797_965, 9)</small><table border=\"1\" class=\"dataframe\"><thead><tr><th>origin</th><th>destination</th><th>carrier</th><th>flt_num</th><th>flt_departure_dt</th><th>observation_date</th><th>total_fare</th><th>origin_city</th><th>destination_city</th></tr><tr><td>str</td><td>str</td><td>str</td><td>i64</td><td>str</td><td>str</td><td>i64</td><td>str</td><td>str</td></tr></thead><tbody><tr><td>&quot;Airport17&quot;</td><td>&quot;Airport4&quot;</td><td>&quot;L1&quot;</td><td>944</td><td>&quot;2018-03-05&quot;</td><td>&quot;2018-03-02&quot;</td><td>787</td><td>&quot;City17&quot;</td><td>&quot;City4&quot;</td></tr><tr><td>&quot;Airport17&quot;</td><td>&quot;Airport4&quot;</td><td>&quot;L1&quot;</td><td>944</td><td>&quot;2018-03-05&quot;</td><td>&quot;2018-03-02&quot;</td><td>787</td><td>&quot;City17&quot;</td><td>&quot;City4&quot;</td></tr><tr><td>&quot;Airport17&quot;</td><td>&quot;Airport4&quot;</td><td>&quot;L1&quot;</td><td>944</td><td>&quot;2018-03-08&quot;</td><td>&quot;2018-02-24&quot;</td><td>787</td><td>&quot;City17&quot;</td><td>&quot;City4&quot;</td></tr><tr><td>&quot;Airport17&quot;</td><td>&quot;Airport4&quot;</td><td>&quot;L1&quot;</td><td>944</td><td>&quot;2018-03-08&quot;</td><td>&quot;2018-02-24&quot;</td><td>787</td><td>&quot;City17&quot;</td><td>&quot;City4&quot;</td></tr><tr><td>&quot;Airport17&quot;</td><td>&quot;Airport4&quot;</td><td>&quot;L1&quot;</td><td>944</td><td>&quot;2018-03-08&quot;</td><td>&quot;2018-02-25&quot;</td><td>787</td><td>&quot;City17&quot;</td><td>&quot;City4&quot;</td></tr><tr><td>&hellip;</td><td>&hellip;</td><td>&hellip;</td><td>&hellip;</td><td>&hellip;</td><td>&hellip;</td><td>&hellip;</td><td>&hellip;</td><td>&hellip;</td></tr><tr><td>&quot;Airport60&quot;</td><td>&quot;Airport30&quot;</td><td>&quot;U3&quot;</td><td>6432</td><td>&quot;2018-04-07&quot;</td><td>&quot;2018-04-04&quot;</td><td>765</td><td>&quot;City56&quot;</td><td>&quot;City27&quot;</td></tr><tr><td>&quot;Airport60&quot;</td><td>&quot;Airport30&quot;</td><td>&quot;U3&quot;</td><td>6432</td><td>&quot;2018-04-07&quot;</td><td>&quot;2018-04-04&quot;</td><td>765</td><td>&quot;City56&quot;</td><td>&quot;City27&quot;</td></tr><tr><td>&quot;Airport60&quot;</td><td>&quot;Airport30&quot;</td><td>&quot;U3&quot;</td><td>6432</td><td>&quot;2018-04-07&quot;</td><td>&quot;2018-04-04&quot;</td><td>765</td><td>&quot;City56&quot;</td><td>&quot;City27&quot;</td></tr><tr><td>&quot;Airport60&quot;</td><td>&quot;Airport30&quot;</td><td>&quot;U3&quot;</td><td>6432</td><td>&quot;2018-04-07&quot;</td><td>&quot;2018-04-05&quot;</td><td>765</td><td>&quot;City56&quot;</td><td>&quot;City27&quot;</td></tr><tr><td>&quot;Airport60&quot;</td><td>&quot;Airport30&quot;</td><td>&quot;U3&quot;</td><td>6432</td><td>&quot;2018-04-07&quot;</td><td>&quot;2018-04-05&quot;</td><td>765</td><td>&quot;City56&quot;</td><td>&quot;City27&quot;</td></tr></tbody></table></div>"
      ],
      "text/plain": [
       "shape: (797_965, 9)\n",
       "┌───────────┬────────────┬─────────┬─────────┬───┬────────────┬────────────┬───────────┬───────────┐\n",
       "│ origin    ┆ destinatio ┆ carrier ┆ flt_num ┆ … ┆ observatio ┆ total_fare ┆ origin_ci ┆ destinati │\n",
       "│ ---       ┆ n          ┆ ---     ┆ ---     ┆   ┆ n_date     ┆ ---        ┆ ty        ┆ on_city   │\n",
       "│ str       ┆ ---        ┆ str     ┆ i64     ┆   ┆ ---        ┆ i64        ┆ ---       ┆ ---       │\n",
       "│           ┆ str        ┆         ┆         ┆   ┆ str        ┆            ┆ str       ┆ str       │\n",
       "╞═══════════╪════════════╪═════════╪═════════╪═══╪════════════╪════════════╪═══════════╪═══════════╡\n",
       "│ Airport17 ┆ Airport4   ┆ L1      ┆ 944     ┆ … ┆ 2018-03-02 ┆ 787        ┆ City17    ┆ City4     │\n",
       "│ Airport17 ┆ Airport4   ┆ L1      ┆ 944     ┆ … ┆ 2018-03-02 ┆ 787        ┆ City17    ┆ City4     │\n",
       "│ Airport17 ┆ Airport4   ┆ L1      ┆ 944     ┆ … ┆ 2018-02-24 ┆ 787        ┆ City17    ┆ City4     │\n",
       "│ Airport17 ┆ Airport4   ┆ L1      ┆ 944     ┆ … ┆ 2018-02-24 ┆ 787        ┆ City17    ┆ City4     │\n",
       "│ Airport17 ┆ Airport4   ┆ L1      ┆ 944     ┆ … ┆ 2018-02-25 ┆ 787        ┆ City17    ┆ City4     │\n",
       "│ …         ┆ …          ┆ …       ┆ …       ┆ … ┆ …          ┆ …          ┆ …         ┆ …         │\n",
       "│ Airport60 ┆ Airport30  ┆ U3      ┆ 6432    ┆ … ┆ 2018-04-04 ┆ 765        ┆ City56    ┆ City27    │\n",
       "│ Airport60 ┆ Airport30  ┆ U3      ┆ 6432    ┆ … ┆ 2018-04-04 ┆ 765        ┆ City56    ┆ City27    │\n",
       "│ Airport60 ┆ Airport30  ┆ U3      ┆ 6432    ┆ … ┆ 2018-04-04 ┆ 765        ┆ City56    ┆ City27    │\n",
       "│ Airport60 ┆ Airport30  ┆ U3      ┆ 6432    ┆ … ┆ 2018-04-05 ┆ 765        ┆ City56    ┆ City27    │\n",
       "│ Airport60 ┆ Airport30  ┆ U3      ┆ 6432    ┆ … ┆ 2018-04-05 ┆ 765        ┆ City56    ┆ City27    │\n",
       "└───────────┴────────────┴─────────┴─────────┴───┴────────────┴────────────┴───────────┴───────────┘"
      ]
     },
     "metadata": {},
     "output_type": "display_data"
    }
   ],
   "source": [
    "def load_parquet_df(df_path: Path):\n",
    "    df = pl.read_parquet(df_path)\n",
    "\n",
    "    if '' in df.columns:\n",
    "        df = df.drop('')\n",
    "\n",
    "    display(df)\n",
    "    \n",
    "    print(\"Null counts\")\n",
    "    display(df.null_count())\n",
    "\n",
    "    print(\"Count of unique values\")\n",
    "    display(\n",
    "        df.select(pl.all().n_unique())\n",
    "    )\n",
    "\n",
    "    print(\"Duplicated rows\")\n",
    "    display(\n",
    "        df.filter(\n",
    "            df.is_duplicated()\n",
    "        ).sort(df.columns)\n",
    "    )\n",
    "    return df\n",
    "\n",
    "train_fares_df = load_parquet_df(RAW_DATA_DIR.joinpath(\"training\", \"train_fares.parquet\"))"
   ]
  },
  {
   "cell_type": "markdown",
   "metadata": {},
   "source": [
    "### Test fares"
   ]
  },
  {
   "cell_type": "code",
   "execution_count": 4,
   "metadata": {},
   "outputs": [
    {
     "data": {
      "text/html": [
       "<div><style>\n",
       ".dataframe > thead > tr,\n",
       ".dataframe > tbody > tr {\n",
       "  text-align: right;\n",
       "  white-space: pre-wrap;\n",
       "}\n",
       "</style>\n",
       "<small>shape: (29_825, 8)</small><table border=\"1\" class=\"dataframe\"><thead><tr><th>origin</th><th>destination</th><th>carrier</th><th>flt_num</th><th>flt_departure_dt</th><th>observation_date</th><th>origin_city</th><th>destination_city</th></tr><tr><td>str</td><td>str</td><td>str</td><td>i64</td><td>str</td><td>str</td><td>str</td><td>str</td></tr></thead><tbody><tr><td>&quot;Airport4&quot;</td><td>&quot;Airport43&quot;</td><td>&quot;L2&quot;</td><td>7465</td><td>&quot;1/1/2019&quot;</td><td>&quot;11/27/2018&quot;</td><td>&quot;City4&quot;</td><td>&quot;City39&quot;</td></tr><tr><td>&quot;Airport4&quot;</td><td>&quot;Airport43&quot;</td><td>&quot;L2&quot;</td><td>7067</td><td>&quot;1/1/2019&quot;</td><td>&quot;11/27/2018&quot;</td><td>&quot;City4&quot;</td><td>&quot;City39&quot;</td></tr><tr><td>&quot;Airport4&quot;</td><td>&quot;Airport43&quot;</td><td>&quot;L2&quot;</td><td>1232</td><td>&quot;1/1/2019&quot;</td><td>&quot;11/27/2018&quot;</td><td>&quot;City4&quot;</td><td>&quot;City39&quot;</td></tr><tr><td>&quot;Airport43&quot;</td><td>&quot;Airport4&quot;</td><td>&quot;L1&quot;</td><td>17783</td><td>&quot;1/3/2019&quot;</td><td>&quot;11/29/2018&quot;</td><td>&quot;City39&quot;</td><td>&quot;City4&quot;</td></tr><tr><td>&quot;Airport43&quot;</td><td>&quot;Airport4&quot;</td><td>&quot;L1&quot;</td><td>5823</td><td>&quot;1/3/2019&quot;</td><td>&quot;11/29/2018&quot;</td><td>&quot;City39&quot;</td><td>&quot;City4&quot;</td></tr><tr><td>&hellip;</td><td>&hellip;</td><td>&hellip;</td><td>&hellip;</td><td>&hellip;</td><td>&hellip;</td><td>&hellip;</td><td>&hellip;</td></tr><tr><td>&quot;Airport4&quot;</td><td>&quot;Airport43&quot;</td><td>&quot;L2&quot;</td><td>7067</td><td>&quot;1/6/2019&quot;</td><td>&quot;12/31/2018&quot;</td><td>&quot;City4&quot;</td><td>&quot;City39&quot;</td></tr><tr><td>&quot;Airport4&quot;</td><td>&quot;Airport43&quot;</td><td>&quot;L2&quot;</td><td>1232</td><td>&quot;1/6/2019&quot;</td><td>&quot;12/31/2018&quot;</td><td>&quot;City4&quot;</td><td>&quot;City39&quot;</td></tr><tr><td>&quot;Airport17&quot;</td><td>&quot;Airport4&quot;</td><td>&quot;L1&quot;</td><td>1484</td><td>&quot;1/7/2019&quot;</td><td>&quot;12/31/2018&quot;</td><td>&quot;City17&quot;</td><td>&quot;City4&quot;</td></tr><tr><td>&quot;Airport17&quot;</td><td>&quot;Airport4&quot;</td><td>&quot;L1&quot;</td><td>18471</td><td>&quot;1/7/2019&quot;</td><td>&quot;12/31/2018&quot;</td><td>&quot;City17&quot;</td><td>&quot;City4&quot;</td></tr><tr><td>&quot;Airport17&quot;</td><td>&quot;Airport4&quot;</td><td>&quot;L1&quot;</td><td>1487</td><td>&quot;1/7/2019&quot;</td><td>&quot;12/31/2018&quot;</td><td>&quot;City17&quot;</td><td>&quot;City4&quot;</td></tr></tbody></table></div>"
      ],
      "text/plain": [
       "shape: (29_825, 8)\n",
       "┌───────────┬─────────────┬─────────┬─────────┬─────────────┬────────────┬────────────┬────────────┐\n",
       "│ origin    ┆ destination ┆ carrier ┆ flt_num ┆ flt_departu ┆ observatio ┆ origin_cit ┆ destinatio │\n",
       "│ ---       ┆ ---         ┆ ---     ┆ ---     ┆ re_dt       ┆ n_date     ┆ y          ┆ n_city     │\n",
       "│ str       ┆ str         ┆ str     ┆ i64     ┆ ---         ┆ ---        ┆ ---        ┆ ---        │\n",
       "│           ┆             ┆         ┆         ┆ str         ┆ str        ┆ str        ┆ str        │\n",
       "╞═══════════╪═════════════╪═════════╪═════════╪═════════════╪════════════╪════════════╪════════════╡\n",
       "│ Airport4  ┆ Airport43   ┆ L2      ┆ 7465    ┆ 1/1/2019    ┆ 11/27/2018 ┆ City4      ┆ City39     │\n",
       "│ Airport4  ┆ Airport43   ┆ L2      ┆ 7067    ┆ 1/1/2019    ┆ 11/27/2018 ┆ City4      ┆ City39     │\n",
       "│ Airport4  ┆ Airport43   ┆ L2      ┆ 1232    ┆ 1/1/2019    ┆ 11/27/2018 ┆ City4      ┆ City39     │\n",
       "│ Airport43 ┆ Airport4    ┆ L1      ┆ 17783   ┆ 1/3/2019    ┆ 11/29/2018 ┆ City39     ┆ City4      │\n",
       "│ Airport43 ┆ Airport4    ┆ L1      ┆ 5823    ┆ 1/3/2019    ┆ 11/29/2018 ┆ City39     ┆ City4      │\n",
       "│ …         ┆ …           ┆ …       ┆ …       ┆ …           ┆ …          ┆ …          ┆ …          │\n",
       "│ Airport4  ┆ Airport43   ┆ L2      ┆ 7067    ┆ 1/6/2019    ┆ 12/31/2018 ┆ City4      ┆ City39     │\n",
       "│ Airport4  ┆ Airport43   ┆ L2      ┆ 1232    ┆ 1/6/2019    ┆ 12/31/2018 ┆ City4      ┆ City39     │\n",
       "│ Airport17 ┆ Airport4    ┆ L1      ┆ 1484    ┆ 1/7/2019    ┆ 12/31/2018 ┆ City17     ┆ City4      │\n",
       "│ Airport17 ┆ Airport4    ┆ L1      ┆ 18471   ┆ 1/7/2019    ┆ 12/31/2018 ┆ City17     ┆ City4      │\n",
       "│ Airport17 ┆ Airport4    ┆ L1      ┆ 1487    ┆ 1/7/2019    ┆ 12/31/2018 ┆ City17     ┆ City4      │\n",
       "└───────────┴─────────────┴─────────┴─────────┴─────────────┴────────────┴────────────┴────────────┘"
      ]
     },
     "metadata": {},
     "output_type": "display_data"
    },
    {
     "name": "stdout",
     "output_type": "stream",
     "text": [
      "Null counts\n"
     ]
    },
    {
     "data": {
      "text/html": [
       "<div><style>\n",
       ".dataframe > thead > tr,\n",
       ".dataframe > tbody > tr {\n",
       "  text-align: right;\n",
       "  white-space: pre-wrap;\n",
       "}\n",
       "</style>\n",
       "<small>shape: (1, 8)</small><table border=\"1\" class=\"dataframe\"><thead><tr><th>origin</th><th>destination</th><th>carrier</th><th>flt_num</th><th>flt_departure_dt</th><th>observation_date</th><th>origin_city</th><th>destination_city</th></tr><tr><td>u32</td><td>u32</td><td>u32</td><td>u32</td><td>u32</td><td>u32</td><td>u32</td><td>u32</td></tr></thead><tbody><tr><td>0</td><td>0</td><td>0</td><td>0</td><td>0</td><td>0</td><td>0</td><td>0</td></tr></tbody></table></div>"
      ],
      "text/plain": [
       "shape: (1, 8)\n",
       "┌────────┬─────────────┬─────────┬─────────┬─────────────┬─────────────┬─────────────┬─────────────┐\n",
       "│ origin ┆ destination ┆ carrier ┆ flt_num ┆ flt_departu ┆ observation ┆ origin_city ┆ destination │\n",
       "│ ---    ┆ ---         ┆ ---     ┆ ---     ┆ re_dt       ┆ _date       ┆ ---         ┆ _city       │\n",
       "│ u32    ┆ u32         ┆ u32     ┆ u32     ┆ ---         ┆ ---         ┆ u32         ┆ ---         │\n",
       "│        ┆             ┆         ┆         ┆ u32         ┆ u32         ┆             ┆ u32         │\n",
       "╞════════╪═════════════╪═════════╪═════════╪═════════════╪═════════════╪═════════════╪═════════════╡\n",
       "│ 0      ┆ 0           ┆ 0       ┆ 0       ┆ 0           ┆ 0           ┆ 0           ┆ 0           │\n",
       "└────────┴─────────────┴─────────┴─────────┴─────────────┴─────────────┴─────────────┴─────────────┘"
      ]
     },
     "metadata": {},
     "output_type": "display_data"
    },
    {
     "name": "stdout",
     "output_type": "stream",
     "text": [
      "Count of unique values\n"
     ]
    },
    {
     "data": {
      "text/html": [
       "<div><style>\n",
       ".dataframe > thead > tr,\n",
       ".dataframe > tbody > tr {\n",
       "  text-align: right;\n",
       "  white-space: pre-wrap;\n",
       "}\n",
       "</style>\n",
       "<small>shape: (1, 8)</small><table border=\"1\" class=\"dataframe\"><thead><tr><th>origin</th><th>destination</th><th>carrier</th><th>flt_num</th><th>flt_departure_dt</th><th>observation_date</th><th>origin_city</th><th>destination_city</th></tr><tr><td>u32</td><td>u32</td><td>u32</td><td>u32</td><td>u32</td><td>u32</td><td>u32</td><td>u32</td></tr></thead><tbody><tr><td>8</td><td>8</td><td>6</td><td>225</td><td>7</td><td>35</td><td>8</td><td>8</td></tr></tbody></table></div>"
      ],
      "text/plain": [
       "shape: (1, 8)\n",
       "┌────────┬─────────────┬─────────┬─────────┬─────────────┬─────────────┬─────────────┬─────────────┐\n",
       "│ origin ┆ destination ┆ carrier ┆ flt_num ┆ flt_departu ┆ observation ┆ origin_city ┆ destination │\n",
       "│ ---    ┆ ---         ┆ ---     ┆ ---     ┆ re_dt       ┆ _date       ┆ ---         ┆ _city       │\n",
       "│ u32    ┆ u32         ┆ u32     ┆ u32     ┆ ---         ┆ ---         ┆ u32         ┆ ---         │\n",
       "│        ┆             ┆         ┆         ┆ u32         ┆ u32         ┆             ┆ u32         │\n",
       "╞════════╪═════════════╪═════════╪═════════╪═════════════╪═════════════╪═════════════╪═════════════╡\n",
       "│ 8      ┆ 8           ┆ 6       ┆ 225     ┆ 7           ┆ 35          ┆ 8           ┆ 8           │\n",
       "└────────┴─────────────┴─────────┴─────────┴─────────────┴─────────────┴─────────────┴─────────────┘"
      ]
     },
     "metadata": {},
     "output_type": "display_data"
    },
    {
     "name": "stdout",
     "output_type": "stream",
     "text": [
      "Duplicated rows\n"
     ]
    },
    {
     "data": {
      "text/html": [
       "<div><style>\n",
       ".dataframe > thead > tr,\n",
       ".dataframe > tbody > tr {\n",
       "  text-align: right;\n",
       "  white-space: pre-wrap;\n",
       "}\n",
       "</style>\n",
       "<small>shape: (0, 8)</small><table border=\"1\" class=\"dataframe\"><thead><tr><th>origin</th><th>destination</th><th>carrier</th><th>flt_num</th><th>flt_departure_dt</th><th>observation_date</th><th>origin_city</th><th>destination_city</th></tr><tr><td>str</td><td>str</td><td>str</td><td>i64</td><td>str</td><td>str</td><td>str</td><td>str</td></tr></thead><tbody></tbody></table></div>"
      ],
      "text/plain": [
       "shape: (0, 8)\n",
       "┌────────┬─────────────┬─────────┬─────────┬─────────────┬─────────────┬─────────────┬─────────────┐\n",
       "│ origin ┆ destination ┆ carrier ┆ flt_num ┆ flt_departu ┆ observation ┆ origin_city ┆ destination │\n",
       "│ ---    ┆ ---         ┆ ---     ┆ ---     ┆ re_dt       ┆ _date       ┆ ---         ┆ _city       │\n",
       "│ str    ┆ str         ┆ str     ┆ i64     ┆ ---         ┆ ---         ┆ str         ┆ ---         │\n",
       "│        ┆             ┆         ┆         ┆ str         ┆ str         ┆             ┆ str         │\n",
       "╞════════╪═════════════╪═════════╪═════════╪═════════════╪═════════════╪═════════════╪═════════════╡\n",
       "└────────┴─────────────┴─────────┴─────────┴─────────────┴─────────────┴─────────────┴─────────────┘"
      ]
     },
     "metadata": {},
     "output_type": "display_data"
    }
   ],
   "source": [
    "test_fares_df = load_parquet_df(RAW_DATA_DIR.joinpath(\"test\", \"test_fares_data.parquet\"))"
   ]
  },
  {
   "cell_type": "markdown",
   "metadata": {},
   "source": [
    "### Train schedule"
   ]
  },
  {
   "cell_type": "code",
   "execution_count": 5,
   "metadata": {},
   "outputs": [
    {
     "data": {
      "text/html": [
       "<div><style>\n",
       ".dataframe > thead > tr,\n",
       ".dataframe > tbody > tr {\n",
       "  text-align: right;\n",
       "  white-space: pre-wrap;\n",
       "}\n",
       "</style>\n",
       "<small>shape: (63_584, 9)</small><table border=\"1\" class=\"dataframe\"><thead><tr><th>carrier</th><th>flt_num</th><th>origin</th><th>destination</th><th>flt_departure_dt</th><th>flt_departure_local_time</th><th>flt_arrival_local_time</th><th>flt_departure_gmt</th><th>flt_arrival_gmt</th></tr><tr><td>str</td><td>i64</td><td>str</td><td>str</td><td>str</td><td>str</td><td>str</td><td>str</td><td>str</td></tr></thead><tbody><tr><td>&quot;L1&quot;</td><td>6800</td><td>&quot;Airport26&quot;</td><td>&quot;Airport30&quot;</td><td>&quot;2018-02-01&quot;</td><td>&quot;2018-02-01 18:43:00.0&quot;</td><td>&quot;2018-02-01 20:09:00.0&quot;</td><td>&quot;2018-02-02 00:43:00.0&quot;</td><td>&quot;2018-02-02 04:09:00.0&quot;</td></tr><tr><td>&quot;OTH&quot;</td><td>783</td><td>&quot;Airport26&quot;</td><td>&quot;Airport30&quot;</td><td>&quot;2018-02-01&quot;</td><td>&quot;2018-02-01 19:45:00.0&quot;</td><td>&quot;2018-02-01 21:05:00.0&quot;</td><td>&quot;2018-02-02 01:45:00.0&quot;</td><td>&quot;2018-02-02 05:05:00.0&quot;</td></tr><tr><td>&quot;L1&quot;</td><td>799</td><td>&quot;Airport26&quot;</td><td>&quot;Airport30&quot;</td><td>&quot;2018-02-01&quot;</td><td>&quot;2018-02-01 12:00:00.0&quot;</td><td>&quot;2018-02-01 13:26:00.0&quot;</td><td>&quot;2018-02-01 18:00:00.0&quot;</td><td>&quot;2018-02-01 21:26:00.0&quot;</td></tr><tr><td>&quot;L1&quot;</td><td>7760</td><td>&quot;Airport26&quot;</td><td>&quot;Airport30&quot;</td><td>&quot;2018-02-01&quot;</td><td>&quot;2018-02-01 07:35:00.0&quot;</td><td>&quot;2018-02-01 09:02:00.0&quot;</td><td>&quot;2018-02-01 13:35:00.0&quot;</td><td>&quot;2018-02-01 17:02:00.0&quot;</td></tr><tr><td>&quot;L1&quot;</td><td>3443</td><td>&quot;Airport26&quot;</td><td>&quot;Airport30&quot;</td><td>&quot;2018-02-01&quot;</td><td>&quot;2018-02-01 09:48:00.0&quot;</td><td>&quot;2018-02-01 11:14:00.0&quot;</td><td>&quot;2018-02-01 15:48:00.0&quot;</td><td>&quot;2018-02-01 19:14:00.0&quot;</td></tr><tr><td>&hellip;</td><td>&hellip;</td><td>&hellip;</td><td>&hellip;</td><td>&hellip;</td><td>&hellip;</td><td>&hellip;</td><td>&hellip;</td><td>&hellip;</td></tr><tr><td>&quot;L1&quot;</td><td>5675</td><td>&quot;Airport30&quot;</td><td>&quot;Airport60&quot;</td><td>&quot;2018-10-31&quot;</td><td>&quot;2018-10-31 13:17:00.0&quot;</td><td>&quot;2018-10-31 14:53:00.0&quot;</td><td>&quot;2018-10-31 20:17:00.0&quot;</td><td>&quot;2018-10-31 21:53:00.0&quot;</td></tr><tr><td>&quot;U1&quot;</td><td>6115</td><td>&quot;Airport30&quot;</td><td>&quot;Airport60&quot;</td><td>&quot;2018-10-31&quot;</td><td>&quot;2018-10-31 06:50:00.0&quot;</td><td>&quot;2018-10-31 08:24:00.0&quot;</td><td>&quot;2018-10-31 13:50:00.0&quot;</td><td>&quot;2018-10-31 15:24:00.0&quot;</td></tr><tr><td>&quot;U1&quot;</td><td>6184</td><td>&quot;Airport30&quot;</td><td>&quot;Airport60&quot;</td><td>&quot;2018-10-31&quot;</td><td>&quot;2018-10-31 20:20:00.0&quot;</td><td>&quot;2018-10-31 22:02:00.0&quot;</td><td>&quot;2018-11-01 03:20:00.0&quot;</td><td>&quot;2018-11-01 05:02:00.0&quot;</td></tr><tr><td>&quot;OTH&quot;</td><td>7010</td><td>&quot;Airport30&quot;</td><td>&quot;Airport60&quot;</td><td>&quot;2018-10-31&quot;</td><td>&quot;2018-10-31 08:45:00.0&quot;</td><td>&quot;2018-10-31 10:20:00.0&quot;</td><td>&quot;2018-10-31 15:45:00.0&quot;</td><td>&quot;2018-10-31 17:20:00.0&quot;</td></tr><tr><td>&quot;L1&quot;</td><td>1292</td><td>&quot;Airport30&quot;</td><td>&quot;Airport60&quot;</td><td>&quot;2018-10-31&quot;</td><td>&quot;2018-10-31 16:53:00.0&quot;</td><td>&quot;2018-10-31 18:32:00.0&quot;</td><td>&quot;2018-10-31 23:53:00.0&quot;</td><td>&quot;2018-11-01 01:32:00.0&quot;</td></tr></tbody></table></div>"
      ],
      "text/plain": [
       "shape: (63_584, 9)\n",
       "┌─────────┬─────────┬───────────┬────────────┬───┬────────────┬────────────┬───────────┬───────────┐\n",
       "│ carrier ┆ flt_num ┆ origin    ┆ destinatio ┆ … ┆ flt_depart ┆ flt_arriva ┆ flt_depar ┆ flt_arriv │\n",
       "│ ---     ┆ ---     ┆ ---       ┆ n          ┆   ┆ ure_local_ ┆ l_local_ti ┆ ture_gmt  ┆ al_gmt    │\n",
       "│ str     ┆ i64     ┆ str       ┆ ---        ┆   ┆ time       ┆ me         ┆ ---       ┆ ---       │\n",
       "│         ┆         ┆           ┆ str        ┆   ┆ ---        ┆ ---        ┆ str       ┆ str       │\n",
       "│         ┆         ┆           ┆            ┆   ┆ str        ┆ str        ┆           ┆           │\n",
       "╞═════════╪═════════╪═══════════╪════════════╪═══╪════════════╪════════════╪═══════════╪═══════════╡\n",
       "│ L1      ┆ 6800    ┆ Airport26 ┆ Airport30  ┆ … ┆ 2018-02-01 ┆ 2018-02-01 ┆ 2018-02-0 ┆ 2018-02-0 │\n",
       "│         ┆         ┆           ┆            ┆   ┆ 18:43:00.0 ┆ 20:09:00.0 ┆ 2 00:43:0 ┆ 2 04:09:0 │\n",
       "│         ┆         ┆           ┆            ┆   ┆            ┆            ┆ 0.0       ┆ 0.0       │\n",
       "│ OTH     ┆ 783     ┆ Airport26 ┆ Airport30  ┆ … ┆ 2018-02-01 ┆ 2018-02-01 ┆ 2018-02-0 ┆ 2018-02-0 │\n",
       "│         ┆         ┆           ┆            ┆   ┆ 19:45:00.0 ┆ 21:05:00.0 ┆ 2 01:45:0 ┆ 2 05:05:0 │\n",
       "│         ┆         ┆           ┆            ┆   ┆            ┆            ┆ 0.0       ┆ 0.0       │\n",
       "│ L1      ┆ 799     ┆ Airport26 ┆ Airport30  ┆ … ┆ 2018-02-01 ┆ 2018-02-01 ┆ 2018-02-0 ┆ 2018-02-0 │\n",
       "│         ┆         ┆           ┆            ┆   ┆ 12:00:00.0 ┆ 13:26:00.0 ┆ 1 18:00:0 ┆ 1 21:26:0 │\n",
       "│         ┆         ┆           ┆            ┆   ┆            ┆            ┆ 0.0       ┆ 0.0       │\n",
       "│ L1      ┆ 7760    ┆ Airport26 ┆ Airport30  ┆ … ┆ 2018-02-01 ┆ 2018-02-01 ┆ 2018-02-0 ┆ 2018-02-0 │\n",
       "│         ┆         ┆           ┆            ┆   ┆ 07:35:00.0 ┆ 09:02:00.0 ┆ 1 13:35:0 ┆ 1 17:02:0 │\n",
       "│         ┆         ┆           ┆            ┆   ┆            ┆            ┆ 0.0       ┆ 0.0       │\n",
       "│ L1      ┆ 3443    ┆ Airport26 ┆ Airport30  ┆ … ┆ 2018-02-01 ┆ 2018-02-01 ┆ 2018-02-0 ┆ 2018-02-0 │\n",
       "│         ┆         ┆           ┆            ┆   ┆ 09:48:00.0 ┆ 11:14:00.0 ┆ 1 15:48:0 ┆ 1 19:14:0 │\n",
       "│         ┆         ┆           ┆            ┆   ┆            ┆            ┆ 0.0       ┆ 0.0       │\n",
       "│ …       ┆ …       ┆ …         ┆ …          ┆ … ┆ …          ┆ …          ┆ …         ┆ …         │\n",
       "│ L1      ┆ 5675    ┆ Airport30 ┆ Airport60  ┆ … ┆ 2018-10-31 ┆ 2018-10-31 ┆ 2018-10-3 ┆ 2018-10-3 │\n",
       "│         ┆         ┆           ┆            ┆   ┆ 13:17:00.0 ┆ 14:53:00.0 ┆ 1 20:17:0 ┆ 1 21:53:0 │\n",
       "│         ┆         ┆           ┆            ┆   ┆            ┆            ┆ 0.0       ┆ 0.0       │\n",
       "│ U1      ┆ 6115    ┆ Airport30 ┆ Airport60  ┆ … ┆ 2018-10-31 ┆ 2018-10-31 ┆ 2018-10-3 ┆ 2018-10-3 │\n",
       "│         ┆         ┆           ┆            ┆   ┆ 06:50:00.0 ┆ 08:24:00.0 ┆ 1 13:50:0 ┆ 1 15:24:0 │\n",
       "│         ┆         ┆           ┆            ┆   ┆            ┆            ┆ 0.0       ┆ 0.0       │\n",
       "│ U1      ┆ 6184    ┆ Airport30 ┆ Airport60  ┆ … ┆ 2018-10-31 ┆ 2018-10-31 ┆ 2018-11-0 ┆ 2018-11-0 │\n",
       "│         ┆         ┆           ┆            ┆   ┆ 20:20:00.0 ┆ 22:02:00.0 ┆ 1 03:20:0 ┆ 1 05:02:0 │\n",
       "│         ┆         ┆           ┆            ┆   ┆            ┆            ┆ 0.0       ┆ 0.0       │\n",
       "│ OTH     ┆ 7010    ┆ Airport30 ┆ Airport60  ┆ … ┆ 2018-10-31 ┆ 2018-10-31 ┆ 2018-10-3 ┆ 2018-10-3 │\n",
       "│         ┆         ┆           ┆            ┆   ┆ 08:45:00.0 ┆ 10:20:00.0 ┆ 1 15:45:0 ┆ 1 17:20:0 │\n",
       "│         ┆         ┆           ┆            ┆   ┆            ┆            ┆ 0.0       ┆ 0.0       │\n",
       "│ L1      ┆ 1292    ┆ Airport30 ┆ Airport60  ┆ … ┆ 2018-10-31 ┆ 2018-10-31 ┆ 2018-10-3 ┆ 2018-11-0 │\n",
       "│         ┆         ┆           ┆            ┆   ┆ 16:53:00.0 ┆ 18:32:00.0 ┆ 1 23:53:0 ┆ 1 01:32:0 │\n",
       "│         ┆         ┆           ┆            ┆   ┆            ┆            ┆ 0.0       ┆ 0.0       │\n",
       "└─────────┴─────────┴───────────┴────────────┴───┴────────────┴────────────┴───────────┴───────────┘"
      ]
     },
     "metadata": {},
     "output_type": "display_data"
    },
    {
     "name": "stdout",
     "output_type": "stream",
     "text": [
      "Null counts\n"
     ]
    },
    {
     "data": {
      "text/html": [
       "<div><style>\n",
       ".dataframe > thead > tr,\n",
       ".dataframe > tbody > tr {\n",
       "  text-align: right;\n",
       "  white-space: pre-wrap;\n",
       "}\n",
       "</style>\n",
       "<small>shape: (1, 9)</small><table border=\"1\" class=\"dataframe\"><thead><tr><th>carrier</th><th>flt_num</th><th>origin</th><th>destination</th><th>flt_departure_dt</th><th>flt_departure_local_time</th><th>flt_arrival_local_time</th><th>flt_departure_gmt</th><th>flt_arrival_gmt</th></tr><tr><td>u32</td><td>u32</td><td>u32</td><td>u32</td><td>u32</td><td>u32</td><td>u32</td><td>u32</td><td>u32</td></tr></thead><tbody><tr><td>0</td><td>0</td><td>0</td><td>0</td><td>0</td><td>0</td><td>0</td><td>0</td><td>0</td></tr></tbody></table></div>"
      ],
      "text/plain": [
       "shape: (1, 9)\n",
       "┌─────────┬─────────┬────────┬─────────────┬───┬────────────┬────────────┬────────────┬────────────┐\n",
       "│ carrier ┆ flt_num ┆ origin ┆ destination ┆ … ┆ flt_depart ┆ flt_arriva ┆ flt_depart ┆ flt_arriva │\n",
       "│ ---     ┆ ---     ┆ ---    ┆ ---         ┆   ┆ ure_local_ ┆ l_local_ti ┆ ure_gmt    ┆ l_gmt      │\n",
       "│ u32     ┆ u32     ┆ u32    ┆ u32         ┆   ┆ time       ┆ me         ┆ ---        ┆ ---        │\n",
       "│         ┆         ┆        ┆             ┆   ┆ ---        ┆ ---        ┆ u32        ┆ u32        │\n",
       "│         ┆         ┆        ┆             ┆   ┆ u32        ┆ u32        ┆            ┆            │\n",
       "╞═════════╪═════════╪════════╪═════════════╪═══╪════════════╪════════════╪════════════╪════════════╡\n",
       "│ 0       ┆ 0       ┆ 0      ┆ 0           ┆ … ┆ 0          ┆ 0          ┆ 0          ┆ 0          │\n",
       "└─────────┴─────────┴────────┴─────────────┴───┴────────────┴────────────┴────────────┴────────────┘"
      ]
     },
     "metadata": {},
     "output_type": "display_data"
    },
    {
     "name": "stdout",
     "output_type": "stream",
     "text": [
      "Count of unique values\n"
     ]
    },
    {
     "data": {
      "text/html": [
       "<div><style>\n",
       ".dataframe > thead > tr,\n",
       ".dataframe > tbody > tr {\n",
       "  text-align: right;\n",
       "  white-space: pre-wrap;\n",
       "}\n",
       "</style>\n",
       "<small>shape: (1, 9)</small><table border=\"1\" class=\"dataframe\"><thead><tr><th>carrier</th><th>flt_num</th><th>origin</th><th>destination</th><th>flt_departure_dt</th><th>flt_departure_local_time</th><th>flt_arrival_local_time</th><th>flt_departure_gmt</th><th>flt_arrival_gmt</th></tr><tr><td>u32</td><td>u32</td><td>u32</td><td>u32</td><td>u32</td><td>u32</td><td>u32</td><td>u32</td><td>u32</td></tr></thead><tbody><tr><td>6</td><td>2084</td><td>8</td><td>8</td><td>365</td><td>50747</td><td>56523</td><td>51015</td><td>57113</td></tr></tbody></table></div>"
      ],
      "text/plain": [
       "shape: (1, 9)\n",
       "┌─────────┬─────────┬────────┬─────────────┬───┬────────────┬────────────┬────────────┬────────────┐\n",
       "│ carrier ┆ flt_num ┆ origin ┆ destination ┆ … ┆ flt_depart ┆ flt_arriva ┆ flt_depart ┆ flt_arriva │\n",
       "│ ---     ┆ ---     ┆ ---    ┆ ---         ┆   ┆ ure_local_ ┆ l_local_ti ┆ ure_gmt    ┆ l_gmt      │\n",
       "│ u32     ┆ u32     ┆ u32    ┆ u32         ┆   ┆ time       ┆ me         ┆ ---        ┆ ---        │\n",
       "│         ┆         ┆        ┆             ┆   ┆ ---        ┆ ---        ┆ u32        ┆ u32        │\n",
       "│         ┆         ┆        ┆             ┆   ┆ u32        ┆ u32        ┆            ┆            │\n",
       "╞═════════╪═════════╪════════╪═════════════╪═══╪════════════╪════════════╪════════════╪════════════╡\n",
       "│ 6       ┆ 2084    ┆ 8      ┆ 8           ┆ … ┆ 50747      ┆ 56523      ┆ 51015      ┆ 57113      │\n",
       "└─────────┴─────────┴────────┴─────────────┴───┴────────────┴────────────┴────────────┴────────────┘"
      ]
     },
     "metadata": {},
     "output_type": "display_data"
    },
    {
     "name": "stdout",
     "output_type": "stream",
     "text": [
      "Duplicated rows\n"
     ]
    },
    {
     "data": {
      "text/html": [
       "<div><style>\n",
       ".dataframe > thead > tr,\n",
       ".dataframe > tbody > tr {\n",
       "  text-align: right;\n",
       "  white-space: pre-wrap;\n",
       "}\n",
       "</style>\n",
       "<small>shape: (0, 9)</small><table border=\"1\" class=\"dataframe\"><thead><tr><th>carrier</th><th>flt_num</th><th>origin</th><th>destination</th><th>flt_departure_dt</th><th>flt_departure_local_time</th><th>flt_arrival_local_time</th><th>flt_departure_gmt</th><th>flt_arrival_gmt</th></tr><tr><td>str</td><td>i64</td><td>str</td><td>str</td><td>str</td><td>str</td><td>str</td><td>str</td><td>str</td></tr></thead><tbody></tbody></table></div>"
      ],
      "text/plain": [
       "shape: (0, 9)\n",
       "┌─────────┬─────────┬────────┬─────────────┬───┬────────────┬────────────┬────────────┬────────────┐\n",
       "│ carrier ┆ flt_num ┆ origin ┆ destination ┆ … ┆ flt_depart ┆ flt_arriva ┆ flt_depart ┆ flt_arriva │\n",
       "│ ---     ┆ ---     ┆ ---    ┆ ---         ┆   ┆ ure_local_ ┆ l_local_ti ┆ ure_gmt    ┆ l_gmt      │\n",
       "│ str     ┆ i64     ┆ str    ┆ str         ┆   ┆ time       ┆ me         ┆ ---        ┆ ---        │\n",
       "│         ┆         ┆        ┆             ┆   ┆ ---        ┆ ---        ┆ str        ┆ str        │\n",
       "│         ┆         ┆        ┆             ┆   ┆ str        ┆ str        ┆            ┆            │\n",
       "╞═════════╪═════════╪════════╪═════════════╪═══╪════════════╪════════════╪════════════╪════════════╡\n",
       "└─────────┴─────────┴────────┴─────────────┴───┴────────────┴────────────┴────────────┴────────────┘"
      ]
     },
     "metadata": {},
     "output_type": "display_data"
    }
   ],
   "source": [
    "train_sch_df = load_parquet_df(RAW_DATA_DIR.joinpath(\"training\", \"train_schedules.parquet\"))"
   ]
  },
  {
   "cell_type": "markdown",
   "metadata": {},
   "source": [
    "### Test schedule"
   ]
  },
  {
   "cell_type": "code",
   "execution_count": 6,
   "metadata": {},
   "outputs": [
    {
     "data": {
      "text/html": [
       "<div><style>\n",
       ".dataframe > thead > tr,\n",
       ".dataframe > tbody > tr {\n",
       "  text-align: right;\n",
       "  white-space: pre-wrap;\n",
       "}\n",
       "</style>\n",
       "<small>shape: (1_234, 9)</small><table border=\"1\" class=\"dataframe\"><thead><tr><th>carrier</th><th>flt_num</th><th>origin</th><th>destination</th><th>flt_departure_dt</th><th>flt_departure_local_time</th><th>flt_arrival_local_time</th><th>flt_departure_gmt</th><th>flt_arrival_gmt</th></tr><tr><td>str</td><td>i64</td><td>str</td><td>str</td><td>str</td><td>str</td><td>str</td><td>str</td><td>str</td></tr></thead><tbody><tr><td>&quot;L1&quot;</td><td>3437</td><td>&quot;Airport26&quot;</td><td>&quot;Airport30&quot;</td><td>&quot;2019-01-01&quot;</td><td>&quot;2019-01-01 18:28:00.0&quot;</td><td>&quot;2019-01-01 19:49:00.0&quot;</td><td>&quot;2019-01-02 00:28:00.0&quot;</td><td>&quot;2019-01-02 03:49:00.0&quot;</td></tr><tr><td>&quot;L1&quot;</td><td>7760</td><td>&quot;Airport26&quot;</td><td>&quot;Airport30&quot;</td><td>&quot;2019-01-01&quot;</td><td>&quot;2019-01-01 07:50:00.0&quot;</td><td>&quot;2019-01-01 09:12:00.0&quot;</td><td>&quot;2019-01-01 13:50:00.0&quot;</td><td>&quot;2019-01-01 17:12:00.0&quot;</td></tr><tr><td>&quot;L1&quot;</td><td>1609</td><td>&quot;Airport26&quot;</td><td>&quot;Airport30&quot;</td><td>&quot;2019-01-01&quot;</td><td>&quot;2019-01-01 11:55:00.0&quot;</td><td>&quot;2019-01-01 13:19:00.0&quot;</td><td>&quot;2019-01-01 17:55:00.0&quot;</td><td>&quot;2019-01-01 21:19:00.0&quot;</td></tr><tr><td>&quot;L1&quot;</td><td>1487</td><td>&quot;Airport26&quot;</td><td>&quot;Airport30&quot;</td><td>&quot;2019-01-01&quot;</td><td>&quot;2019-01-01 14:20:00.0&quot;</td><td>&quot;2019-01-01 15:41:00.0&quot;</td><td>&quot;2019-01-01 20:20:00.0&quot;</td><td>&quot;2019-01-01 23:41:00.0&quot;</td></tr><tr><td>&quot;L1&quot;</td><td>5701</td><td>&quot;Airport26&quot;</td><td>&quot;Airport30&quot;</td><td>&quot;2019-01-01&quot;</td><td>&quot;2019-01-01 22:05:00.0&quot;</td><td>&quot;2019-01-01 23:26:00.0&quot;</td><td>&quot;2019-01-02 04:05:00.0&quot;</td><td>&quot;2019-01-02 07:26:00.0&quot;</td></tr><tr><td>&hellip;</td><td>&hellip;</td><td>&hellip;</td><td>&hellip;</td><td>&hellip;</td><td>&hellip;</td><td>&hellip;</td><td>&hellip;</td><td>&hellip;</td></tr><tr><td>&quot;L2&quot;</td><td>3795</td><td>&quot;Airport43&quot;</td><td>&quot;Airport4&quot;</td><td>&quot;2019-01-07&quot;</td><td>&quot;2019-01-07 17:55:00.0&quot;</td><td>&quot;2019-01-07 20:42:00.0&quot;</td><td>&quot;2019-01-07 23:55:00.0&quot;</td><td>&quot;2019-01-08 02:42:00.0&quot;</td></tr><tr><td>&quot;L1&quot;</td><td>1763</td><td>&quot;Airport43&quot;</td><td>&quot;Airport4&quot;</td><td>&quot;2019-01-07&quot;</td><td>&quot;2019-01-07 19:49:00.0&quot;</td><td>&quot;2019-01-07 22:47:00.0&quot;</td><td>&quot;2019-01-08 01:49:00.0&quot;</td><td>&quot;2019-01-08 04:47:00.0&quot;</td></tr><tr><td>&quot;L1&quot;</td><td>11466</td><td>&quot;Airport43&quot;</td><td>&quot;Airport4&quot;</td><td>&quot;2019-01-07&quot;</td><td>&quot;2019-01-07 07:48:00.0&quot;</td><td>&quot;2019-01-07 10:50:00.0&quot;</td><td>&quot;2019-01-07 13:48:00.0&quot;</td><td>&quot;2019-01-07 16:50:00.0&quot;</td></tr><tr><td>&quot;L2&quot;</td><td>8018</td><td>&quot;Airport43&quot;</td><td>&quot;Airport4&quot;</td><td>&quot;2019-01-07&quot;</td><td>&quot;2019-01-07 09:56:00.0&quot;</td><td>&quot;2019-01-07 12:47:00.0&quot;</td><td>&quot;2019-01-07 15:56:00.0&quot;</td><td>&quot;2019-01-07 18:47:00.0&quot;</td></tr><tr><td>&quot;L1&quot;</td><td>5823</td><td>&quot;Airport43&quot;</td><td>&quot;Airport4&quot;</td><td>&quot;2019-01-07&quot;</td><td>&quot;2019-01-07 15:55:00.0&quot;</td><td>&quot;2019-01-07 18:51:00.0&quot;</td><td>&quot;2019-01-07 21:55:00.0&quot;</td><td>&quot;2019-01-08 00:51:00.0&quot;</td></tr></tbody></table></div>"
      ],
      "text/plain": [
       "shape: (1_234, 9)\n",
       "┌─────────┬─────────┬───────────┬────────────┬───┬────────────┬────────────┬───────────┬───────────┐\n",
       "│ carrier ┆ flt_num ┆ origin    ┆ destinatio ┆ … ┆ flt_depart ┆ flt_arriva ┆ flt_depar ┆ flt_arriv │\n",
       "│ ---     ┆ ---     ┆ ---       ┆ n          ┆   ┆ ure_local_ ┆ l_local_ti ┆ ture_gmt  ┆ al_gmt    │\n",
       "│ str     ┆ i64     ┆ str       ┆ ---        ┆   ┆ time       ┆ me         ┆ ---       ┆ ---       │\n",
       "│         ┆         ┆           ┆ str        ┆   ┆ ---        ┆ ---        ┆ str       ┆ str       │\n",
       "│         ┆         ┆           ┆            ┆   ┆ str        ┆ str        ┆           ┆           │\n",
       "╞═════════╪═════════╪═══════════╪════════════╪═══╪════════════╪════════════╪═══════════╪═══════════╡\n",
       "│ L1      ┆ 3437    ┆ Airport26 ┆ Airport30  ┆ … ┆ 2019-01-01 ┆ 2019-01-01 ┆ 2019-01-0 ┆ 2019-01-0 │\n",
       "│         ┆         ┆           ┆            ┆   ┆ 18:28:00.0 ┆ 19:49:00.0 ┆ 2 00:28:0 ┆ 2 03:49:0 │\n",
       "│         ┆         ┆           ┆            ┆   ┆            ┆            ┆ 0.0       ┆ 0.0       │\n",
       "│ L1      ┆ 7760    ┆ Airport26 ┆ Airport30  ┆ … ┆ 2019-01-01 ┆ 2019-01-01 ┆ 2019-01-0 ┆ 2019-01-0 │\n",
       "│         ┆         ┆           ┆            ┆   ┆ 07:50:00.0 ┆ 09:12:00.0 ┆ 1 13:50:0 ┆ 1 17:12:0 │\n",
       "│         ┆         ┆           ┆            ┆   ┆            ┆            ┆ 0.0       ┆ 0.0       │\n",
       "│ L1      ┆ 1609    ┆ Airport26 ┆ Airport30  ┆ … ┆ 2019-01-01 ┆ 2019-01-01 ┆ 2019-01-0 ┆ 2019-01-0 │\n",
       "│         ┆         ┆           ┆            ┆   ┆ 11:55:00.0 ┆ 13:19:00.0 ┆ 1 17:55:0 ┆ 1 21:19:0 │\n",
       "│         ┆         ┆           ┆            ┆   ┆            ┆            ┆ 0.0       ┆ 0.0       │\n",
       "│ L1      ┆ 1487    ┆ Airport26 ┆ Airport30  ┆ … ┆ 2019-01-01 ┆ 2019-01-01 ┆ 2019-01-0 ┆ 2019-01-0 │\n",
       "│         ┆         ┆           ┆            ┆   ┆ 14:20:00.0 ┆ 15:41:00.0 ┆ 1 20:20:0 ┆ 1 23:41:0 │\n",
       "│         ┆         ┆           ┆            ┆   ┆            ┆            ┆ 0.0       ┆ 0.0       │\n",
       "│ L1      ┆ 5701    ┆ Airport26 ┆ Airport30  ┆ … ┆ 2019-01-01 ┆ 2019-01-01 ┆ 2019-01-0 ┆ 2019-01-0 │\n",
       "│         ┆         ┆           ┆            ┆   ┆ 22:05:00.0 ┆ 23:26:00.0 ┆ 2 04:05:0 ┆ 2 07:26:0 │\n",
       "│         ┆         ┆           ┆            ┆   ┆            ┆            ┆ 0.0       ┆ 0.0       │\n",
       "│ …       ┆ …       ┆ …         ┆ …          ┆ … ┆ …          ┆ …          ┆ …         ┆ …         │\n",
       "│ L2      ┆ 3795    ┆ Airport43 ┆ Airport4   ┆ … ┆ 2019-01-07 ┆ 2019-01-07 ┆ 2019-01-0 ┆ 2019-01-0 │\n",
       "│         ┆         ┆           ┆            ┆   ┆ 17:55:00.0 ┆ 20:42:00.0 ┆ 7 23:55:0 ┆ 8 02:42:0 │\n",
       "│         ┆         ┆           ┆            ┆   ┆            ┆            ┆ 0.0       ┆ 0.0       │\n",
       "│ L1      ┆ 1763    ┆ Airport43 ┆ Airport4   ┆ … ┆ 2019-01-07 ┆ 2019-01-07 ┆ 2019-01-0 ┆ 2019-01-0 │\n",
       "│         ┆         ┆           ┆            ┆   ┆ 19:49:00.0 ┆ 22:47:00.0 ┆ 8 01:49:0 ┆ 8 04:47:0 │\n",
       "│         ┆         ┆           ┆            ┆   ┆            ┆            ┆ 0.0       ┆ 0.0       │\n",
       "│ L1      ┆ 11466   ┆ Airport43 ┆ Airport4   ┆ … ┆ 2019-01-07 ┆ 2019-01-07 ┆ 2019-01-0 ┆ 2019-01-0 │\n",
       "│         ┆         ┆           ┆            ┆   ┆ 07:48:00.0 ┆ 10:50:00.0 ┆ 7 13:48:0 ┆ 7 16:50:0 │\n",
       "│         ┆         ┆           ┆            ┆   ┆            ┆            ┆ 0.0       ┆ 0.0       │\n",
       "│ L2      ┆ 8018    ┆ Airport43 ┆ Airport4   ┆ … ┆ 2019-01-07 ┆ 2019-01-07 ┆ 2019-01-0 ┆ 2019-01-0 │\n",
       "│         ┆         ┆           ┆            ┆   ┆ 09:56:00.0 ┆ 12:47:00.0 ┆ 7 15:56:0 ┆ 7 18:47:0 │\n",
       "│         ┆         ┆           ┆            ┆   ┆            ┆            ┆ 0.0       ┆ 0.0       │\n",
       "│ L1      ┆ 5823    ┆ Airport43 ┆ Airport4   ┆ … ┆ 2019-01-07 ┆ 2019-01-07 ┆ 2019-01-0 ┆ 2019-01-0 │\n",
       "│         ┆         ┆           ┆            ┆   ┆ 15:55:00.0 ┆ 18:51:00.0 ┆ 7 21:55:0 ┆ 8 00:51:0 │\n",
       "│         ┆         ┆           ┆            ┆   ┆            ┆            ┆ 0.0       ┆ 0.0       │\n",
       "└─────────┴─────────┴───────────┴────────────┴───┴────────────┴────────────┴───────────┴───────────┘"
      ]
     },
     "metadata": {},
     "output_type": "display_data"
    },
    {
     "name": "stdout",
     "output_type": "stream",
     "text": [
      "Null counts\n"
     ]
    },
    {
     "data": {
      "text/html": [
       "<div><style>\n",
       ".dataframe > thead > tr,\n",
       ".dataframe > tbody > tr {\n",
       "  text-align: right;\n",
       "  white-space: pre-wrap;\n",
       "}\n",
       "</style>\n",
       "<small>shape: (1, 9)</small><table border=\"1\" class=\"dataframe\"><thead><tr><th>carrier</th><th>flt_num</th><th>origin</th><th>destination</th><th>flt_departure_dt</th><th>flt_departure_local_time</th><th>flt_arrival_local_time</th><th>flt_departure_gmt</th><th>flt_arrival_gmt</th></tr><tr><td>u32</td><td>u32</td><td>u32</td><td>u32</td><td>u32</td><td>u32</td><td>u32</td><td>u32</td><td>u32</td></tr></thead><tbody><tr><td>0</td><td>0</td><td>0</td><td>0</td><td>0</td><td>0</td><td>0</td><td>0</td><td>0</td></tr></tbody></table></div>"
      ],
      "text/plain": [
       "shape: (1, 9)\n",
       "┌─────────┬─────────┬────────┬─────────────┬───┬────────────┬────────────┬────────────┬────────────┐\n",
       "│ carrier ┆ flt_num ┆ origin ┆ destination ┆ … ┆ flt_depart ┆ flt_arriva ┆ flt_depart ┆ flt_arriva │\n",
       "│ ---     ┆ ---     ┆ ---    ┆ ---         ┆   ┆ ure_local_ ┆ l_local_ti ┆ ure_gmt    ┆ l_gmt      │\n",
       "│ u32     ┆ u32     ┆ u32    ┆ u32         ┆   ┆ time       ┆ me         ┆ ---        ┆ ---        │\n",
       "│         ┆         ┆        ┆             ┆   ┆ ---        ┆ ---        ┆ u32        ┆ u32        │\n",
       "│         ┆         ┆        ┆             ┆   ┆ u32        ┆ u32        ┆            ┆            │\n",
       "╞═════════╪═════════╪════════╪═════════════╪═══╪════════════╪════════════╪════════════╪════════════╡\n",
       "│ 0       ┆ 0       ┆ 0      ┆ 0           ┆ … ┆ 0          ┆ 0          ┆ 0          ┆ 0          │\n",
       "└─────────┴─────────┴────────┴─────────────┴───┴────────────┴────────────┴────────────┴────────────┘"
      ]
     },
     "metadata": {},
     "output_type": "display_data"
    },
    {
     "name": "stdout",
     "output_type": "stream",
     "text": [
      "Count of unique values\n"
     ]
    },
    {
     "data": {
      "text/html": [
       "<div><style>\n",
       ".dataframe > thead > tr,\n",
       ".dataframe > tbody > tr {\n",
       "  text-align: right;\n",
       "  white-space: pre-wrap;\n",
       "}\n",
       "</style>\n",
       "<small>shape: (1, 9)</small><table border=\"1\" class=\"dataframe\"><thead><tr><th>carrier</th><th>flt_num</th><th>origin</th><th>destination</th><th>flt_departure_dt</th><th>flt_departure_local_time</th><th>flt_arrival_local_time</th><th>flt_departure_gmt</th><th>flt_arrival_gmt</th></tr><tr><td>u32</td><td>u32</td><td>u32</td><td>u32</td><td>u32</td><td>u32</td><td>u32</td><td>u32</td><td>u32</td></tr></thead><tbody><tr><td>6</td><td>445</td><td>8</td><td>8</td><td>7</td><td>1016</td><td>1106</td><td>1019</td><td>1105</td></tr></tbody></table></div>"
      ],
      "text/plain": [
       "shape: (1, 9)\n",
       "┌─────────┬─────────┬────────┬─────────────┬───┬────────────┬────────────┬────────────┬────────────┐\n",
       "│ carrier ┆ flt_num ┆ origin ┆ destination ┆ … ┆ flt_depart ┆ flt_arriva ┆ flt_depart ┆ flt_arriva │\n",
       "│ ---     ┆ ---     ┆ ---    ┆ ---         ┆   ┆ ure_local_ ┆ l_local_ti ┆ ure_gmt    ┆ l_gmt      │\n",
       "│ u32     ┆ u32     ┆ u32    ┆ u32         ┆   ┆ time       ┆ me         ┆ ---        ┆ ---        │\n",
       "│         ┆         ┆        ┆             ┆   ┆ ---        ┆ ---        ┆ u32        ┆ u32        │\n",
       "│         ┆         ┆        ┆             ┆   ┆ u32        ┆ u32        ┆            ┆            │\n",
       "╞═════════╪═════════╪════════╪═════════════╪═══╪════════════╪════════════╪════════════╪════════════╡\n",
       "│ 6       ┆ 445     ┆ 8      ┆ 8           ┆ … ┆ 1016       ┆ 1106       ┆ 1019       ┆ 1105       │\n",
       "└─────────┴─────────┴────────┴─────────────┴───┴────────────┴────────────┴────────────┴────────────┘"
      ]
     },
     "metadata": {},
     "output_type": "display_data"
    },
    {
     "name": "stdout",
     "output_type": "stream",
     "text": [
      "Duplicated rows\n"
     ]
    },
    {
     "data": {
      "text/html": [
       "<div><style>\n",
       ".dataframe > thead > tr,\n",
       ".dataframe > tbody > tr {\n",
       "  text-align: right;\n",
       "  white-space: pre-wrap;\n",
       "}\n",
       "</style>\n",
       "<small>shape: (0, 9)</small><table border=\"1\" class=\"dataframe\"><thead><tr><th>carrier</th><th>flt_num</th><th>origin</th><th>destination</th><th>flt_departure_dt</th><th>flt_departure_local_time</th><th>flt_arrival_local_time</th><th>flt_departure_gmt</th><th>flt_arrival_gmt</th></tr><tr><td>str</td><td>i64</td><td>str</td><td>str</td><td>str</td><td>str</td><td>str</td><td>str</td><td>str</td></tr></thead><tbody></tbody></table></div>"
      ],
      "text/plain": [
       "shape: (0, 9)\n",
       "┌─────────┬─────────┬────────┬─────────────┬───┬────────────┬────────────┬────────────┬────────────┐\n",
       "│ carrier ┆ flt_num ┆ origin ┆ destination ┆ … ┆ flt_depart ┆ flt_arriva ┆ flt_depart ┆ flt_arriva │\n",
       "│ ---     ┆ ---     ┆ ---    ┆ ---         ┆   ┆ ure_local_ ┆ l_local_ti ┆ ure_gmt    ┆ l_gmt      │\n",
       "│ str     ┆ i64     ┆ str    ┆ str         ┆   ┆ time       ┆ me         ┆ ---        ┆ ---        │\n",
       "│         ┆         ┆        ┆             ┆   ┆ ---        ┆ ---        ┆ str        ┆ str        │\n",
       "│         ┆         ┆        ┆             ┆   ┆ str        ┆ str        ┆            ┆            │\n",
       "╞═════════╪═════════╪════════╪═════════════╪═══╪════════════╪════════════╪════════════╪════════════╡\n",
       "└─────────┴─────────┴────────┴─────────────┴───┴────────────┴────────────┴────────────┴────────────┘"
      ]
     },
     "metadata": {},
     "output_type": "display_data"
    }
   ],
   "source": [
    "test_sch_df = load_parquet_df(RAW_DATA_DIR.joinpath(\"test\", \"test_schedules.parquet\"))"
   ]
  },
  {
   "cell_type": "markdown",
   "metadata": {},
   "source": [
    "### Services index"
   ]
  },
  {
   "cell_type": "code",
   "execution_count": 7,
   "metadata": {},
   "outputs": [
    {
     "data": {
      "text/html": [
       "<div><style>\n",
       ".dataframe > thead > tr,\n",
       ".dataframe > tbody > tr {\n",
       "  text-align: right;\n",
       "  white-space: pre-wrap;\n",
       "}\n",
       "</style>\n",
       "<small>shape: (18_657, 7)</small><table border=\"1\" class=\"dataframe\"><thead><tr><th>yr</th><th>mo</th><th>origin</th><th>destination</th><th>carrier</th><th>scaled_demand</th><th>scaled_share</th></tr><tr><td>i64</td><td>i64</td><td>str</td><td>str</td><td>str</td><td>i64</td><td>i64</td></tr></thead><tbody><tr><td>2017</td><td>12</td><td>&quot;Airport10&quot;</td><td>&quot;Airport31&quot;</td><td>&quot;U2&quot;</td><td>2820</td><td>160</td></tr><tr><td>2017</td><td>12</td><td>&quot;Airport10&quot;</td><td>&quot;Airport43&quot;</td><td>&quot;L3&quot;</td><td>1708</td><td>169</td></tr><tr><td>2017</td><td>12</td><td>&quot;Airport10&quot;</td><td>&quot;Airport60&quot;</td><td>&quot;L2&quot;</td><td>1071</td><td>180</td></tr><tr><td>2017</td><td>12</td><td>&quot;Airport16&quot;</td><td>&quot;Airport60&quot;</td><td>&quot;U1&quot;</td><td>1633</td><td>160</td></tr><tr><td>2017</td><td>12</td><td>&quot;Airport17&quot;</td><td>&quot;Airport1&quot;</td><td>&quot;OTH&quot;</td><td>988</td><td>275</td></tr><tr><td>&hellip;</td><td>&hellip;</td><td>&hellip;</td><td>&hellip;</td><td>&hellip;</td><td>&hellip;</td><td>&hellip;</td></tr><tr><td>2018</td><td>12</td><td>&quot;Airport63&quot;</td><td>&quot;Airport31&quot;</td><td>&quot;L2&quot;</td><td>3193</td><td>224</td></tr><tr><td>2018</td><td>12</td><td>&quot;Airport63&quot;</td><td>&quot;Airport43&quot;</td><td>&quot;U1&quot;</td><td>765</td><td>161</td></tr><tr><td>2018</td><td>12</td><td>&quot;Airport64&quot;</td><td>&quot;Airport17&quot;</td><td>&quot;OTH&quot;</td><td>2912</td><td>313</td></tr><tr><td>2018</td><td>12</td><td>&quot;Airport66&quot;</td><td>&quot;Airport43&quot;</td><td>&quot;L3&quot;</td><td>3374</td><td>168</td></tr><tr><td>2018</td><td>12</td><td>&quot;Airport8&quot;</td><td>&quot;Airport20&quot;</td><td>&quot;U2&quot;</td><td>2600</td><td>279</td></tr></tbody></table></div>"
      ],
      "text/plain": [
       "shape: (18_657, 7)\n",
       "┌──────┬─────┬───────────┬─────────────┬─────────┬───────────────┬──────────────┐\n",
       "│ yr   ┆ mo  ┆ origin    ┆ destination ┆ carrier ┆ scaled_demand ┆ scaled_share │\n",
       "│ ---  ┆ --- ┆ ---       ┆ ---         ┆ ---     ┆ ---           ┆ ---          │\n",
       "│ i64  ┆ i64 ┆ str       ┆ str         ┆ str     ┆ i64           ┆ i64          │\n",
       "╞══════╪═════╪═══════════╪═════════════╪═════════╪═══════════════╪══════════════╡\n",
       "│ 2017 ┆ 12  ┆ Airport10 ┆ Airport31   ┆ U2      ┆ 2820          ┆ 160          │\n",
       "│ 2017 ┆ 12  ┆ Airport10 ┆ Airport43   ┆ L3      ┆ 1708          ┆ 169          │\n",
       "│ 2017 ┆ 12  ┆ Airport10 ┆ Airport60   ┆ L2      ┆ 1071          ┆ 180          │\n",
       "│ 2017 ┆ 12  ┆ Airport16 ┆ Airport60   ┆ U1      ┆ 1633          ┆ 160          │\n",
       "│ 2017 ┆ 12  ┆ Airport17 ┆ Airport1    ┆ OTH     ┆ 988           ┆ 275          │\n",
       "│ …    ┆ …   ┆ …         ┆ …           ┆ …       ┆ …             ┆ …            │\n",
       "│ 2018 ┆ 12  ┆ Airport63 ┆ Airport31   ┆ L2      ┆ 3193          ┆ 224          │\n",
       "│ 2018 ┆ 12  ┆ Airport63 ┆ Airport43   ┆ U1      ┆ 765           ┆ 161          │\n",
       "│ 2018 ┆ 12  ┆ Airport64 ┆ Airport17   ┆ OTH     ┆ 2912          ┆ 313          │\n",
       "│ 2018 ┆ 12  ┆ Airport66 ┆ Airport43   ┆ L3      ┆ 3374          ┆ 168          │\n",
       "│ 2018 ┆ 12  ┆ Airport8  ┆ Airport20   ┆ U2      ┆ 2600          ┆ 279          │\n",
       "└──────┴─────┴───────────┴─────────────┴─────────┴───────────────┴──────────────┘"
      ]
     },
     "metadata": {},
     "output_type": "display_data"
    },
    {
     "name": "stdout",
     "output_type": "stream",
     "text": [
      "Null counts\n"
     ]
    },
    {
     "data": {
      "text/html": [
       "<div><style>\n",
       ".dataframe > thead > tr,\n",
       ".dataframe > tbody > tr {\n",
       "  text-align: right;\n",
       "  white-space: pre-wrap;\n",
       "}\n",
       "</style>\n",
       "<small>shape: (1, 7)</small><table border=\"1\" class=\"dataframe\"><thead><tr><th>yr</th><th>mo</th><th>origin</th><th>destination</th><th>carrier</th><th>scaled_demand</th><th>scaled_share</th></tr><tr><td>u32</td><td>u32</td><td>u32</td><td>u32</td><td>u32</td><td>u32</td><td>u32</td></tr></thead><tbody><tr><td>0</td><td>0</td><td>0</td><td>0</td><td>0</td><td>0</td><td>0</td></tr></tbody></table></div>"
      ],
      "text/plain": [
       "shape: (1, 7)\n",
       "┌─────┬─────┬────────┬─────────────┬─────────┬───────────────┬──────────────┐\n",
       "│ yr  ┆ mo  ┆ origin ┆ destination ┆ carrier ┆ scaled_demand ┆ scaled_share │\n",
       "│ --- ┆ --- ┆ ---    ┆ ---         ┆ ---     ┆ ---           ┆ ---          │\n",
       "│ u32 ┆ u32 ┆ u32    ┆ u32         ┆ u32     ┆ u32           ┆ u32          │\n",
       "╞═════╪═════╪════════╪═════════════╪═════════╪═══════════════╪══════════════╡\n",
       "│ 0   ┆ 0   ┆ 0      ┆ 0           ┆ 0       ┆ 0             ┆ 0            │\n",
       "└─────┴─────┴────────┴─────────────┴─────────┴───────────────┴──────────────┘"
      ]
     },
     "metadata": {},
     "output_type": "display_data"
    },
    {
     "name": "stdout",
     "output_type": "stream",
     "text": [
      "Count of unique values\n"
     ]
    },
    {
     "data": {
      "text/html": [
       "<div><style>\n",
       ".dataframe > thead > tr,\n",
       ".dataframe > tbody > tr {\n",
       "  text-align: right;\n",
       "  white-space: pre-wrap;\n",
       "}\n",
       "</style>\n",
       "<small>shape: (1, 7)</small><table border=\"1\" class=\"dataframe\"><thead><tr><th>yr</th><th>mo</th><th>origin</th><th>destination</th><th>carrier</th><th>scaled_demand</th><th>scaled_share</th></tr><tr><td>u32</td><td>u32</td><td>u32</td><td>u32</td><td>u32</td><td>u32</td><td>u32</td></tr></thead><tbody><tr><td>2</td><td>12</td><td>66</td><td>66</td><td>7</td><td>1563</td><td>313</td></tr></tbody></table></div>"
      ],
      "text/plain": [
       "shape: (1, 7)\n",
       "┌─────┬─────┬────────┬─────────────┬─────────┬───────────────┬──────────────┐\n",
       "│ yr  ┆ mo  ┆ origin ┆ destination ┆ carrier ┆ scaled_demand ┆ scaled_share │\n",
       "│ --- ┆ --- ┆ ---    ┆ ---         ┆ ---     ┆ ---           ┆ ---          │\n",
       "│ u32 ┆ u32 ┆ u32    ┆ u32         ┆ u32     ┆ u32           ┆ u32          │\n",
       "╞═════╪═════╪════════╪═════════════╪═════════╪═══════════════╪══════════════╡\n",
       "│ 2   ┆ 12  ┆ 66     ┆ 66          ┆ 7       ┆ 1563          ┆ 313          │\n",
       "└─────┴─────┴────────┴─────────────┴─────────┴───────────────┴──────────────┘"
      ]
     },
     "metadata": {},
     "output_type": "display_data"
    },
    {
     "name": "stdout",
     "output_type": "stream",
     "text": [
      "Duplicated rows\n"
     ]
    },
    {
     "data": {
      "text/html": [
       "<div><style>\n",
       ".dataframe > thead > tr,\n",
       ".dataframe > tbody > tr {\n",
       "  text-align: right;\n",
       "  white-space: pre-wrap;\n",
       "}\n",
       "</style>\n",
       "<small>shape: (0, 7)</small><table border=\"1\" class=\"dataframe\"><thead><tr><th>yr</th><th>mo</th><th>origin</th><th>destination</th><th>carrier</th><th>scaled_demand</th><th>scaled_share</th></tr><tr><td>i64</td><td>i64</td><td>str</td><td>str</td><td>str</td><td>i64</td><td>i64</td></tr></thead><tbody></tbody></table></div>"
      ],
      "text/plain": [
       "shape: (0, 7)\n",
       "┌─────┬─────┬────────┬─────────────┬─────────┬───────────────┬──────────────┐\n",
       "│ yr  ┆ mo  ┆ origin ┆ destination ┆ carrier ┆ scaled_demand ┆ scaled_share │\n",
       "│ --- ┆ --- ┆ ---    ┆ ---         ┆ ---     ┆ ---           ┆ ---          │\n",
       "│ i64 ┆ i64 ┆ str    ┆ str         ┆ str     ┆ i64           ┆ i64          │\n",
       "╞═════╪═════╪════════╪═════════════╪═════════╪═══════════════╪══════════════╡\n",
       "└─────┴─────┴────────┴─────────────┴─────────┴───────────────┴──────────────┘"
      ]
     },
     "metadata": {},
     "output_type": "display_data"
    }
   ],
   "source": [
    "services_df = load_parquet_df(RAW_DATA_DIR.joinpath(\"training\", \"service_index.parquet\"))"
   ]
  },
  {
   "cell_type": "markdown",
   "metadata": {},
   "source": [
    "## Preprocessing"
   ]
  },
  {
   "cell_type": "markdown",
   "metadata": {},
   "source": [
    "### Duplicates"
   ]
  },
  {
   "cell_type": "code",
   "execution_count": 8,
   "metadata": {},
   "outputs": [
    {
     "data": {
      "text/html": [
       "<div><style>\n",
       ".dataframe > thead > tr,\n",
       ".dataframe > tbody > tr {\n",
       "  text-align: right;\n",
       "  white-space: pre-wrap;\n",
       "}\n",
       "</style>\n",
       "<small>shape: (1_697_443, 9)</small><table border=\"1\" class=\"dataframe\"><thead><tr><th>origin</th><th>destination</th><th>carrier</th><th>flt_num</th><th>flt_departure_dt</th><th>observation_date</th><th>total_fare</th><th>origin_city</th><th>destination_city</th></tr><tr><td>str</td><td>str</td><td>str</td><td>i64</td><td>str</td><td>str</td><td>i64</td><td>str</td><td>str</td></tr></thead><tbody><tr><td>&quot;Airport4&quot;</td><td>&quot;Airport43&quot;</td><td>&quot;L2&quot;</td><td>8018</td><td>&quot;2018-11-10&quot;</td><td>&quot;2018-11-02&quot;</td><td>1192</td><td>&quot;City4&quot;</td><td>&quot;City39&quot;</td></tr><tr><td>&quot;Airport31&quot;</td><td>&quot;Airport30&quot;</td><td>&quot;L2&quot;</td><td>5314</td><td>&quot;2018-01-15&quot;</td><td>&quot;2017-12-15&quot;</td><td>281</td><td>&quot;City28&quot;</td><td>&quot;City27&quot;</td></tr><tr><td>&quot;Airport4&quot;</td><td>&quot;Airport43&quot;</td><td>&quot;L2&quot;</td><td>7852</td><td>&quot;2018-01-18&quot;</td><td>&quot;2018-01-01&quot;</td><td>557</td><td>&quot;City4&quot;</td><td>&quot;City39&quot;</td></tr><tr><td>&quot;Airport30&quot;</td><td>&quot;Airport26&quot;</td><td>&quot;L1&quot;</td><td>6294</td><td>&quot;2018-09-29&quot;</td><td>&quot;2018-09-25&quot;</td><td>2021</td><td>&quot;City27&quot;</td><td>&quot;City24&quot;</td></tr><tr><td>&quot;Airport30&quot;</td><td>&quot;Airport31&quot;</td><td>&quot;L3&quot;</td><td>18273</td><td>&quot;2018-03-28&quot;</td><td>&quot;2018-03-02&quot;</td><td>298</td><td>&quot;City27&quot;</td><td>&quot;City28&quot;</td></tr><tr><td>&hellip;</td><td>&hellip;</td><td>&hellip;</td><td>&hellip;</td><td>&hellip;</td><td>&hellip;</td><td>&hellip;</td><td>&hellip;</td><td>&hellip;</td></tr><tr><td>&quot;Airport30&quot;</td><td>&quot;Airport60&quot;</td><td>&quot;OTH&quot;</td><td>6178</td><td>&quot;2018-03-11&quot;</td><td>&quot;2018-03-09&quot;</td><td>1879</td><td>&quot;City27&quot;</td><td>&quot;City56&quot;</td></tr><tr><td>&quot;Airport30&quot;</td><td>&quot;Airport31&quot;</td><td>&quot;L3&quot;</td><td>18349</td><td>&quot;2018-03-28&quot;</td><td>&quot;2018-02-23&quot;</td><td>281</td><td>&quot;City27&quot;</td><td>&quot;City28&quot;</td></tr><tr><td>&quot;Airport4&quot;</td><td>&quot;Airport43&quot;</td><td>&quot;L1&quot;</td><td>1528</td><td>&quot;2018-03-08&quot;</td><td>&quot;2018-02-24&quot;</td><td>896</td><td>&quot;City4&quot;</td><td>&quot;City39&quot;</td></tr><tr><td>&quot;Airport4&quot;</td><td>&quot;Airport43&quot;</td><td>&quot;L2&quot;</td><td>8018</td><td>&quot;2018-10-18&quot;</td><td>&quot;2018-09-17&quot;</td><td>614</td><td>&quot;City4&quot;</td><td>&quot;City39&quot;</td></tr><tr><td>&quot;Airport30&quot;</td><td>&quot;Airport31&quot;</td><td>&quot;U1&quot;</td><td>4771</td><td>&quot;2018-02-27&quot;</td><td>&quot;2018-02-10&quot;</td><td>294</td><td>&quot;City27&quot;</td><td>&quot;City28&quot;</td></tr></tbody></table></div>"
      ],
      "text/plain": [
       "shape: (1_697_443, 9)\n",
       "┌───────────┬────────────┬─────────┬─────────┬───┬────────────┬────────────┬───────────┬───────────┐\n",
       "│ origin    ┆ destinatio ┆ carrier ┆ flt_num ┆ … ┆ observatio ┆ total_fare ┆ origin_ci ┆ destinati │\n",
       "│ ---       ┆ n          ┆ ---     ┆ ---     ┆   ┆ n_date     ┆ ---        ┆ ty        ┆ on_city   │\n",
       "│ str       ┆ ---        ┆ str     ┆ i64     ┆   ┆ ---        ┆ i64        ┆ ---       ┆ ---       │\n",
       "│           ┆ str        ┆         ┆         ┆   ┆ str        ┆            ┆ str       ┆ str       │\n",
       "╞═══════════╪════════════╪═════════╪═════════╪═══╪════════════╪════════════╪═══════════╪═══════════╡\n",
       "│ Airport4  ┆ Airport43  ┆ L2      ┆ 8018    ┆ … ┆ 2018-11-02 ┆ 1192       ┆ City4     ┆ City39    │\n",
       "│ Airport31 ┆ Airport30  ┆ L2      ┆ 5314    ┆ … ┆ 2017-12-15 ┆ 281        ┆ City28    ┆ City27    │\n",
       "│ Airport4  ┆ Airport43  ┆ L2      ┆ 7852    ┆ … ┆ 2018-01-01 ┆ 557        ┆ City4     ┆ City39    │\n",
       "│ Airport30 ┆ Airport26  ┆ L1      ┆ 6294    ┆ … ┆ 2018-09-25 ┆ 2021       ┆ City27    ┆ City24    │\n",
       "│ Airport30 ┆ Airport31  ┆ L3      ┆ 18273   ┆ … ┆ 2018-03-02 ┆ 298        ┆ City27    ┆ City28    │\n",
       "│ …         ┆ …          ┆ …       ┆ …       ┆ … ┆ …          ┆ …          ┆ …         ┆ …         │\n",
       "│ Airport30 ┆ Airport60  ┆ OTH     ┆ 6178    ┆ … ┆ 2018-03-09 ┆ 1879       ┆ City27    ┆ City56    │\n",
       "│ Airport30 ┆ Airport31  ┆ L3      ┆ 18349   ┆ … ┆ 2018-02-23 ┆ 281        ┆ City27    ┆ City28    │\n",
       "│ Airport4  ┆ Airport43  ┆ L1      ┆ 1528    ┆ … ┆ 2018-02-24 ┆ 896        ┆ City4     ┆ City39    │\n",
       "│ Airport4  ┆ Airport43  ┆ L2      ┆ 8018    ┆ … ┆ 2018-09-17 ┆ 614        ┆ City4     ┆ City39    │\n",
       "│ Airport30 ┆ Airport31  ┆ U1      ┆ 4771    ┆ … ┆ 2018-02-10 ┆ 294        ┆ City27    ┆ City28    │\n",
       "└───────────┴────────────┴─────────┴─────────┴───┴────────────┴────────────┴───────────┴───────────┘"
      ]
     },
     "execution_count": 8,
     "metadata": {},
     "output_type": "execute_result"
    }
   ],
   "source": [
    "train_fares_df = train_fares_df.unique()\n",
    "train_fares_df"
   ]
  },
  {
   "cell_type": "code",
   "execution_count": 9,
   "metadata": {},
   "outputs": [
    {
     "data": {
      "text/html": [
       "<div><style>\n",
       ".dataframe > thead > tr,\n",
       ".dataframe > tbody > tr {\n",
       "  text-align: right;\n",
       "  white-space: pre-wrap;\n",
       "}\n",
       "</style>\n",
       "<small>shape: (44, 9)</small><table border=\"1\" class=\"dataframe\"><thead><tr><th>carrier</th><th>flt_num</th><th>origin</th><th>destination</th><th>flt_departure_dt</th><th>flt_departure_local_time</th><th>flt_arrival_local_time</th><th>flt_departure_gmt</th><th>flt_arrival_gmt</th></tr><tr><td>str</td><td>i64</td><td>str</td><td>str</td><td>str</td><td>str</td><td>str</td><td>str</td><td>str</td></tr></thead><tbody><tr><td>&quot;OTH&quot;</td><td>6112</td><td>&quot;Airport60&quot;</td><td>&quot;Airport30&quot;</td><td>&quot;2018-03-08&quot;</td><td>&quot;2018-03-08 06:45:00.0&quot;</td><td>&quot;2018-03-08 08:10:00.0&quot;</td><td>&quot;2018-03-08 14:45:00.0&quot;</td><td>&quot;2018-03-08 16:10:00.0&quot;</td></tr><tr><td>&quot;OTH&quot;</td><td>6112</td><td>&quot;Airport60&quot;</td><td>&quot;Airport30&quot;</td><td>&quot;2018-03-08&quot;</td><td>&quot;2018-03-08 12:05:00.0&quot;</td><td>&quot;2018-03-08 13:36:00.0&quot;</td><td>&quot;2018-03-08 20:05:00.0&quot;</td><td>&quot;2018-03-08 21:36:00.0&quot;</td></tr><tr><td>&quot;OTH&quot;</td><td>6112</td><td>&quot;Airport60&quot;</td><td>&quot;Airport30&quot;</td><td>&quot;2018-03-09&quot;</td><td>&quot;2018-03-09 07:05:00.0&quot;</td><td>&quot;2018-03-09 08:30:00.0&quot;</td><td>&quot;2018-03-09 15:05:00.0&quot;</td><td>&quot;2018-03-09 16:30:00.0&quot;</td></tr><tr><td>&quot;OTH&quot;</td><td>6112</td><td>&quot;Airport60&quot;</td><td>&quot;Airport30&quot;</td><td>&quot;2018-03-09&quot;</td><td>&quot;2018-03-09 12:05:00.0&quot;</td><td>&quot;2018-03-09 13:36:00.0&quot;</td><td>&quot;2018-03-09 20:05:00.0&quot;</td><td>&quot;2018-03-09 21:36:00.0&quot;</td></tr><tr><td>&quot;OTH&quot;</td><td>6112</td><td>&quot;Airport60&quot;</td><td>&quot;Airport30&quot;</td><td>&quot;2018-03-12&quot;</td><td>&quot;2018-03-12 07:05:00.0&quot;</td><td>&quot;2018-03-12 08:30:00.0&quot;</td><td>&quot;2018-03-12 14:05:00.0&quot;</td><td>&quot;2018-03-12 15:30:00.0&quot;</td></tr><tr><td>&hellip;</td><td>&hellip;</td><td>&hellip;</td><td>&hellip;</td><td>&hellip;</td><td>&hellip;</td><td>&hellip;</td><td>&hellip;</td><td>&hellip;</td></tr><tr><td>&quot;OTH&quot;</td><td>6112</td><td>&quot;Airport60&quot;</td><td>&quot;Airport30&quot;</td><td>&quot;2018-04-04&quot;</td><td>&quot;2018-04-04 11:20:00.0&quot;</td><td>&quot;2018-04-04 12:53:00.0&quot;</td><td>&quot;2018-04-04 18:20:00.0&quot;</td><td>&quot;2018-04-04 19:53:00.0&quot;</td></tr><tr><td>&quot;OTH&quot;</td><td>6112</td><td>&quot;Airport60&quot;</td><td>&quot;Airport30&quot;</td><td>&quot;2018-04-05&quot;</td><td>&quot;2018-04-05 07:05:00.0&quot;</td><td>&quot;2018-04-05 08:30:00.0&quot;</td><td>&quot;2018-04-05 14:05:00.0&quot;</td><td>&quot;2018-04-05 15:30:00.0&quot;</td></tr><tr><td>&quot;OTH&quot;</td><td>6112</td><td>&quot;Airport60&quot;</td><td>&quot;Airport30&quot;</td><td>&quot;2018-04-05&quot;</td><td>&quot;2018-04-05 11:20:00.0&quot;</td><td>&quot;2018-04-05 12:53:00.0&quot;</td><td>&quot;2018-04-05 18:20:00.0&quot;</td><td>&quot;2018-04-05 19:53:00.0&quot;</td></tr><tr><td>&quot;OTH&quot;</td><td>6112</td><td>&quot;Airport60&quot;</td><td>&quot;Airport30&quot;</td><td>&quot;2018-04-06&quot;</td><td>&quot;2018-04-06 07:05:00.0&quot;</td><td>&quot;2018-04-06 08:30:00.0&quot;</td><td>&quot;2018-04-06 14:05:00.0&quot;</td><td>&quot;2018-04-06 15:30:00.0&quot;</td></tr><tr><td>&quot;OTH&quot;</td><td>6112</td><td>&quot;Airport60&quot;</td><td>&quot;Airport30&quot;</td><td>&quot;2018-04-06&quot;</td><td>&quot;2018-04-06 11:20:00.0&quot;</td><td>&quot;2018-04-06 12:53:00.0&quot;</td><td>&quot;2018-04-06 18:20:00.0&quot;</td><td>&quot;2018-04-06 19:53:00.0&quot;</td></tr></tbody></table></div>"
      ],
      "text/plain": [
       "shape: (44, 9)\n",
       "┌─────────┬─────────┬───────────┬────────────┬───┬────────────┬────────────┬───────────┬───────────┐\n",
       "│ carrier ┆ flt_num ┆ origin    ┆ destinatio ┆ … ┆ flt_depart ┆ flt_arriva ┆ flt_depar ┆ flt_arriv │\n",
       "│ ---     ┆ ---     ┆ ---       ┆ n          ┆   ┆ ure_local_ ┆ l_local_ti ┆ ture_gmt  ┆ al_gmt    │\n",
       "│ str     ┆ i64     ┆ str       ┆ ---        ┆   ┆ time       ┆ me         ┆ ---       ┆ ---       │\n",
       "│         ┆         ┆           ┆ str        ┆   ┆ ---        ┆ ---        ┆ str       ┆ str       │\n",
       "│         ┆         ┆           ┆            ┆   ┆ str        ┆ str        ┆           ┆           │\n",
       "╞═════════╪═════════╪═══════════╪════════════╪═══╪════════════╪════════════╪═══════════╪═══════════╡\n",
       "│ OTH     ┆ 6112    ┆ Airport60 ┆ Airport30  ┆ … ┆ 2018-03-08 ┆ 2018-03-08 ┆ 2018-03-0 ┆ 2018-03-0 │\n",
       "│         ┆         ┆           ┆            ┆   ┆ 06:45:00.0 ┆ 08:10:00.0 ┆ 8 14:45:0 ┆ 8 16:10:0 │\n",
       "│         ┆         ┆           ┆            ┆   ┆            ┆            ┆ 0.0       ┆ 0.0       │\n",
       "│ OTH     ┆ 6112    ┆ Airport60 ┆ Airport30  ┆ … ┆ 2018-03-08 ┆ 2018-03-08 ┆ 2018-03-0 ┆ 2018-03-0 │\n",
       "│         ┆         ┆           ┆            ┆   ┆ 12:05:00.0 ┆ 13:36:00.0 ┆ 8 20:05:0 ┆ 8 21:36:0 │\n",
       "│         ┆         ┆           ┆            ┆   ┆            ┆            ┆ 0.0       ┆ 0.0       │\n",
       "│ OTH     ┆ 6112    ┆ Airport60 ┆ Airport30  ┆ … ┆ 2018-03-09 ┆ 2018-03-09 ┆ 2018-03-0 ┆ 2018-03-0 │\n",
       "│         ┆         ┆           ┆            ┆   ┆ 07:05:00.0 ┆ 08:30:00.0 ┆ 9 15:05:0 ┆ 9 16:30:0 │\n",
       "│         ┆         ┆           ┆            ┆   ┆            ┆            ┆ 0.0       ┆ 0.0       │\n",
       "│ OTH     ┆ 6112    ┆ Airport60 ┆ Airport30  ┆ … ┆ 2018-03-09 ┆ 2018-03-09 ┆ 2018-03-0 ┆ 2018-03-0 │\n",
       "│         ┆         ┆           ┆            ┆   ┆ 12:05:00.0 ┆ 13:36:00.0 ┆ 9 20:05:0 ┆ 9 21:36:0 │\n",
       "│         ┆         ┆           ┆            ┆   ┆            ┆            ┆ 0.0       ┆ 0.0       │\n",
       "│ OTH     ┆ 6112    ┆ Airport60 ┆ Airport30  ┆ … ┆ 2018-03-12 ┆ 2018-03-12 ┆ 2018-03-1 ┆ 2018-03-1 │\n",
       "│         ┆         ┆           ┆            ┆   ┆ 07:05:00.0 ┆ 08:30:00.0 ┆ 2 14:05:0 ┆ 2 15:30:0 │\n",
       "│         ┆         ┆           ┆            ┆   ┆            ┆            ┆ 0.0       ┆ 0.0       │\n",
       "│ …       ┆ …       ┆ …         ┆ …          ┆ … ┆ …          ┆ …          ┆ …         ┆ …         │\n",
       "│ OTH     ┆ 6112    ┆ Airport60 ┆ Airport30  ┆ … ┆ 2018-04-04 ┆ 2018-04-04 ┆ 2018-04-0 ┆ 2018-04-0 │\n",
       "│         ┆         ┆           ┆            ┆   ┆ 11:20:00.0 ┆ 12:53:00.0 ┆ 4 18:20:0 ┆ 4 19:53:0 │\n",
       "│         ┆         ┆           ┆            ┆   ┆            ┆            ┆ 0.0       ┆ 0.0       │\n",
       "│ OTH     ┆ 6112    ┆ Airport60 ┆ Airport30  ┆ … ┆ 2018-04-05 ┆ 2018-04-05 ┆ 2018-04-0 ┆ 2018-04-0 │\n",
       "│         ┆         ┆           ┆            ┆   ┆ 07:05:00.0 ┆ 08:30:00.0 ┆ 5 14:05:0 ┆ 5 15:30:0 │\n",
       "│         ┆         ┆           ┆            ┆   ┆            ┆            ┆ 0.0       ┆ 0.0       │\n",
       "│ OTH     ┆ 6112    ┆ Airport60 ┆ Airport30  ┆ … ┆ 2018-04-05 ┆ 2018-04-05 ┆ 2018-04-0 ┆ 2018-04-0 │\n",
       "│         ┆         ┆           ┆            ┆   ┆ 11:20:00.0 ┆ 12:53:00.0 ┆ 5 18:20:0 ┆ 5 19:53:0 │\n",
       "│         ┆         ┆           ┆            ┆   ┆            ┆            ┆ 0.0       ┆ 0.0       │\n",
       "│ OTH     ┆ 6112    ┆ Airport60 ┆ Airport30  ┆ … ┆ 2018-04-06 ┆ 2018-04-06 ┆ 2018-04-0 ┆ 2018-04-0 │\n",
       "│         ┆         ┆           ┆            ┆   ┆ 07:05:00.0 ┆ 08:30:00.0 ┆ 6 14:05:0 ┆ 6 15:30:0 │\n",
       "│         ┆         ┆           ┆            ┆   ┆            ┆            ┆ 0.0       ┆ 0.0       │\n",
       "│ OTH     ┆ 6112    ┆ Airport60 ┆ Airport30  ┆ … ┆ 2018-04-06 ┆ 2018-04-06 ┆ 2018-04-0 ┆ 2018-04-0 │\n",
       "│         ┆         ┆           ┆            ┆   ┆ 11:20:00.0 ┆ 12:53:00.0 ┆ 6 18:20:0 ┆ 6 19:53:0 │\n",
       "│         ┆         ┆           ┆            ┆   ┆            ┆            ┆ 0.0       ┆ 0.0       │\n",
       "└─────────┴─────────┴───────────┴────────────┴───┴────────────┴────────────┴───────────┴───────────┘"
      ]
     },
     "execution_count": 9,
     "metadata": {},
     "output_type": "execute_result"
    }
   ],
   "source": [
    "train_sch_df.filter(\n",
    "    train_sch_df.select(\n",
    "        ['flt_departure_dt', 'carrier', 'flt_num', 'origin', 'destination']\n",
    "    ).is_duplicated()\n",
    ").sort('flt_departure_local_time')"
   ]
  },
  {
   "cell_type": "code",
   "execution_count": 10,
   "metadata": {},
   "outputs": [
    {
     "data": {
      "text/html": [
       "<div><style>\n",
       ".dataframe > thead > tr,\n",
       ".dataframe > tbody > tr {\n",
       "  text-align: right;\n",
       "  white-space: pre-wrap;\n",
       "}\n",
       "</style>\n",
       "<small>shape: (1, 2)</small><table border=\"1\" class=\"dataframe\"><thead><tr><th>flt_num</th><th>count</th></tr><tr><td>i64</td><td>u32</td></tr></thead><tbody><tr><td>6112</td><td>44</td></tr></tbody></table></div>"
      ],
      "text/plain": [
       "shape: (1, 2)\n",
       "┌─────────┬───────┐\n",
       "│ flt_num ┆ count │\n",
       "│ ---     ┆ ---   │\n",
       "│ i64     ┆ u32   │\n",
       "╞═════════╪═══════╡\n",
       "│ 6112    ┆ 44    │\n",
       "└─────────┴───────┘"
      ]
     },
     "execution_count": 10,
     "metadata": {},
     "output_type": "execute_result"
    }
   ],
   "source": [
    "train_sch_df.filter(\n",
    "    train_sch_df.select(\n",
    "        ['flt_departure_dt', 'carrier', 'flt_num', 'origin', 'destination']\n",
    "    ).is_duplicated()\n",
    ")['flt_num'].value_counts()"
   ]
  },
  {
   "cell_type": "code",
   "execution_count": 11,
   "metadata": {},
   "outputs": [
    {
     "data": {
      "text/html": [
       "<div><style>\n",
       ".dataframe > thead > tr,\n",
       ".dataframe > tbody > tr {\n",
       "  text-align: right;\n",
       "  white-space: pre-wrap;\n",
       "}\n",
       "</style>\n",
       "<small>shape: (0, 9)</small><table border=\"1\" class=\"dataframe\"><thead><tr><th>carrier</th><th>flt_num</th><th>origin</th><th>destination</th><th>flt_departure_dt</th><th>flt_departure_local_time</th><th>flt_arrival_local_time</th><th>flt_departure_gmt</th><th>flt_arrival_gmt</th></tr><tr><td>str</td><td>i64</td><td>str</td><td>str</td><td>str</td><td>str</td><td>str</td><td>str</td><td>str</td></tr></thead><tbody></tbody></table></div>"
      ],
      "text/plain": [
       "shape: (0, 9)\n",
       "┌─────────┬─────────┬────────┬─────────────┬───┬────────────┬────────────┬────────────┬────────────┐\n",
       "│ carrier ┆ flt_num ┆ origin ┆ destination ┆ … ┆ flt_depart ┆ flt_arriva ┆ flt_depart ┆ flt_arriva │\n",
       "│ ---     ┆ ---     ┆ ---    ┆ ---         ┆   ┆ ure_local_ ┆ l_local_ti ┆ ure_gmt    ┆ l_gmt      │\n",
       "│ str     ┆ i64     ┆ str    ┆ str         ┆   ┆ time       ┆ me         ┆ ---        ┆ ---        │\n",
       "│         ┆         ┆        ┆             ┆   ┆ ---        ┆ ---        ┆ str        ┆ str        │\n",
       "│         ┆         ┆        ┆             ┆   ┆ str        ┆ str        ┆            ┆            │\n",
       "╞═════════╪═════════╪════════╪═════════════╪═══╪════════════╪════════════╪════════════╪════════════╡\n",
       "└─────────┴─────────┴────────┴─────────────┴───┴────────────┴────────────┴────────────┴────────────┘"
      ]
     },
     "execution_count": 11,
     "metadata": {},
     "output_type": "execute_result"
    }
   ],
   "source": [
    "test_sch_df.filter(\n",
    "    test_sch_df.select(\n",
    "        ['flt_departure_dt', 'carrier', 'flt_num', 'origin', 'destination']\n",
    "    ).is_duplicated()\n",
    ").sort('flt_departure_local_time')"
   ]
  },
  {
   "cell_type": "markdown",
   "metadata": {},
   "source": [
    "### Datetime formatting\n",
    "\n",
    "[Chrono format specification](https://docs.rs/chrono/latest/chrono/format/strftime/index.html)"
   ]
  },
  {
   "cell_type": "code",
   "execution_count": 12,
   "metadata": {},
   "outputs": [
    {
     "data": {
      "text/html": [
       "<div><style>\n",
       ".dataframe > thead > tr,\n",
       ".dataframe > tbody > tr {\n",
       "  text-align: right;\n",
       "  white-space: pre-wrap;\n",
       "}\n",
       "</style>\n",
       "<small>shape: (1_697_443, 9)</small><table border=\"1\" class=\"dataframe\"><thead><tr><th>origin</th><th>destination</th><th>carrier</th><th>flt_num</th><th>flt_departure_dt</th><th>observation_date</th><th>total_fare</th><th>origin_city</th><th>destination_city</th></tr><tr><td>str</td><td>str</td><td>str</td><td>i64</td><td>date</td><td>date</td><td>i64</td><td>str</td><td>str</td></tr></thead><tbody><tr><td>&quot;Airport30&quot;</td><td>&quot;Airport31&quot;</td><td>&quot;L2&quot;</td><td>4680</td><td>2018-01-01</td><td>2017-12-10</td><td>846</td><td>&quot;City27&quot;</td><td>&quot;City28&quot;</td></tr><tr><td>&quot;Airport60&quot;</td><td>&quot;Airport30&quot;</td><td>&quot;L1&quot;</td><td>1587</td><td>2018-01-01</td><td>2017-12-13</td><td>331</td><td>&quot;City56&quot;</td><td>&quot;City27&quot;</td></tr><tr><td>&quot;Airport60&quot;</td><td>&quot;Airport30&quot;</td><td>&quot;U1&quot;</td><td>6143</td><td>2018-01-01</td><td>2017-12-01</td><td>419</td><td>&quot;City56&quot;</td><td>&quot;City27&quot;</td></tr><tr><td>&quot;Airport4&quot;</td><td>&quot;Airport43&quot;</td><td>&quot;L1&quot;</td><td>5911</td><td>2018-01-01</td><td>2017-12-23</td><td>746</td><td>&quot;City4&quot;</td><td>&quot;City39&quot;</td></tr><tr><td>&quot;Airport4&quot;</td><td>&quot;Airport43&quot;</td><td>&quot;L1&quot;</td><td>5911</td><td>2018-01-01</td><td>2017-12-28</td><td>1060</td><td>&quot;City4&quot;</td><td>&quot;City39&quot;</td></tr><tr><td>&hellip;</td><td>&hellip;</td><td>&hellip;</td><td>&hellip;</td><td>&hellip;</td><td>&hellip;</td><td>&hellip;</td><td>&hellip;</td><td>&hellip;</td></tr><tr><td>&quot;Airport4&quot;</td><td>&quot;Airport20&quot;</td><td>&quot;L1&quot;</td><td>2997</td><td>2018-12-31</td><td>2018-12-20</td><td>2345</td><td>&quot;City4&quot;</td><td>&quot;City19&quot;</td></tr><tr><td>&quot;Airport30&quot;</td><td>&quot;Airport26&quot;</td><td>&quot;L1&quot;</td><td>6294</td><td>2018-12-31</td><td>2018-12-24</td><td>580</td><td>&quot;City27&quot;</td><td>&quot;City24&quot;</td></tr><tr><td>&quot;Airport60&quot;</td><td>&quot;Airport30&quot;</td><td>&quot;U1&quot;</td><td>6175</td><td>2018-12-31</td><td>2018-12-15</td><td>410</td><td>&quot;City56&quot;</td><td>&quot;City27&quot;</td></tr><tr><td>&quot;Airport30&quot;</td><td>&quot;Airport31&quot;</td><td>&quot;L3&quot;</td><td>7120</td><td>2018-12-31</td><td>2018-11-28</td><td>536</td><td>&quot;City27&quot;</td><td>&quot;City28&quot;</td></tr><tr><td>&quot;Airport30&quot;</td><td>&quot;Airport60&quot;</td><td>&quot;U1&quot;</td><td>6128</td><td>2018-12-31</td><td>2018-12-26</td><td>1070</td><td>&quot;City27&quot;</td><td>&quot;City56&quot;</td></tr></tbody></table></div>"
      ],
      "text/plain": [
       "shape: (1_697_443, 9)\n",
       "┌───────────┬────────────┬─────────┬─────────┬───┬────────────┬────────────┬───────────┬───────────┐\n",
       "│ origin    ┆ destinatio ┆ carrier ┆ flt_num ┆ … ┆ observatio ┆ total_fare ┆ origin_ci ┆ destinati │\n",
       "│ ---       ┆ n          ┆ ---     ┆ ---     ┆   ┆ n_date     ┆ ---        ┆ ty        ┆ on_city   │\n",
       "│ str       ┆ ---        ┆ str     ┆ i64     ┆   ┆ ---        ┆ i64        ┆ ---       ┆ ---       │\n",
       "│           ┆ str        ┆         ┆         ┆   ┆ date       ┆            ┆ str       ┆ str       │\n",
       "╞═══════════╪════════════╪═════════╪═════════╪═══╪════════════╪════════════╪═══════════╪═══════════╡\n",
       "│ Airport30 ┆ Airport31  ┆ L2      ┆ 4680    ┆ … ┆ 2017-12-10 ┆ 846        ┆ City27    ┆ City28    │\n",
       "│ Airport60 ┆ Airport30  ┆ L1      ┆ 1587    ┆ … ┆ 2017-12-13 ┆ 331        ┆ City56    ┆ City27    │\n",
       "│ Airport60 ┆ Airport30  ┆ U1      ┆ 6143    ┆ … ┆ 2017-12-01 ┆ 419        ┆ City56    ┆ City27    │\n",
       "│ Airport4  ┆ Airport43  ┆ L1      ┆ 5911    ┆ … ┆ 2017-12-23 ┆ 746        ┆ City4     ┆ City39    │\n",
       "│ Airport4  ┆ Airport43  ┆ L1      ┆ 5911    ┆ … ┆ 2017-12-28 ┆ 1060       ┆ City4     ┆ City39    │\n",
       "│ …         ┆ …          ┆ …       ┆ …       ┆ … ┆ …          ┆ …          ┆ …         ┆ …         │\n",
       "│ Airport4  ┆ Airport20  ┆ L1      ┆ 2997    ┆ … ┆ 2018-12-20 ┆ 2345       ┆ City4     ┆ City19    │\n",
       "│ Airport30 ┆ Airport26  ┆ L1      ┆ 6294    ┆ … ┆ 2018-12-24 ┆ 580        ┆ City27    ┆ City24    │\n",
       "│ Airport60 ┆ Airport30  ┆ U1      ┆ 6175    ┆ … ┆ 2018-12-15 ┆ 410        ┆ City56    ┆ City27    │\n",
       "│ Airport30 ┆ Airport31  ┆ L3      ┆ 7120    ┆ … ┆ 2018-11-28 ┆ 536        ┆ City27    ┆ City28    │\n",
       "│ Airport30 ┆ Airport60  ┆ U1      ┆ 6128    ┆ … ┆ 2018-12-26 ┆ 1070       ┆ City27    ┆ City56    │\n",
       "└───────────┴────────────┴─────────┴─────────┴───┴────────────┴────────────┴───────────┴───────────┘"
      ]
     },
     "execution_count": 12,
     "metadata": {},
     "output_type": "execute_result"
    }
   ],
   "source": [
    "train_fares_df = train_fares_df.with_columns(\n",
    "    pl.col(\n",
    "        ['flt_departure_dt', 'observation_date']\n",
    "    ).str.strptime(\n",
    "        pl.Date,\n",
    "        format = r\"%Y-%m-%d\"\n",
    "    )\n",
    ")\n",
    "train_fares_df.sort('flt_departure_dt')"
   ]
  },
  {
   "cell_type": "code",
   "execution_count": 13,
   "metadata": {},
   "outputs": [
    {
     "data": {
      "text/html": [
       "<div><style>\n",
       ".dataframe > thead > tr,\n",
       ".dataframe > tbody > tr {\n",
       "  text-align: right;\n",
       "  white-space: pre-wrap;\n",
       "}\n",
       "</style>\n",
       "<small>shape: (29_825, 8)</small><table border=\"1\" class=\"dataframe\"><thead><tr><th>origin</th><th>destination</th><th>carrier</th><th>flt_num</th><th>flt_departure_dt</th><th>observation_date</th><th>origin_city</th><th>destination_city</th></tr><tr><td>str</td><td>str</td><td>str</td><td>i64</td><td>date</td><td>date</td><td>str</td><td>str</td></tr></thead><tbody><tr><td>&quot;Airport4&quot;</td><td>&quot;Airport43&quot;</td><td>&quot;L2&quot;</td><td>7465</td><td>2019-01-01</td><td>2018-11-27</td><td>&quot;City4&quot;</td><td>&quot;City39&quot;</td></tr><tr><td>&quot;Airport4&quot;</td><td>&quot;Airport43&quot;</td><td>&quot;L2&quot;</td><td>7067</td><td>2019-01-01</td><td>2018-11-27</td><td>&quot;City4&quot;</td><td>&quot;City39&quot;</td></tr><tr><td>&quot;Airport4&quot;</td><td>&quot;Airport43&quot;</td><td>&quot;L2&quot;</td><td>1232</td><td>2019-01-01</td><td>2018-11-27</td><td>&quot;City4&quot;</td><td>&quot;City39&quot;</td></tr><tr><td>&quot;Airport4&quot;</td><td>&quot;Airport17&quot;</td><td>&quot;U3&quot;</td><td>752</td><td>2019-01-01</td><td>2018-11-30</td><td>&quot;City4&quot;</td><td>&quot;City17&quot;</td></tr><tr><td>&quot;Airport60&quot;</td><td>&quot;Airport30&quot;</td><td>&quot;U1&quot;</td><td>6131</td><td>2019-01-01</td><td>2018-11-28</td><td>&quot;City56&quot;</td><td>&quot;City27&quot;</td></tr><tr><td>&hellip;</td><td>&hellip;</td><td>&hellip;</td><td>&hellip;</td><td>&hellip;</td><td>&hellip;</td><td>&hellip;</td><td>&hellip;</td></tr><tr><td>&quot;Airport30&quot;</td><td>&quot;Airport31&quot;</td><td>&quot;L2&quot;</td><td>1732</td><td>2019-01-07</td><td>2018-12-31</td><td>&quot;City27&quot;</td><td>&quot;City28&quot;</td></tr><tr><td>&quot;Airport30&quot;</td><td>&quot;Airport31&quot;</td><td>&quot;L2&quot;</td><td>1741</td><td>2019-01-07</td><td>2018-12-31</td><td>&quot;City27&quot;</td><td>&quot;City28&quot;</td></tr><tr><td>&quot;Airport17&quot;</td><td>&quot;Airport4&quot;</td><td>&quot;L1&quot;</td><td>1484</td><td>2019-01-07</td><td>2018-12-31</td><td>&quot;City17&quot;</td><td>&quot;City4&quot;</td></tr><tr><td>&quot;Airport17&quot;</td><td>&quot;Airport4&quot;</td><td>&quot;L1&quot;</td><td>18471</td><td>2019-01-07</td><td>2018-12-31</td><td>&quot;City17&quot;</td><td>&quot;City4&quot;</td></tr><tr><td>&quot;Airport17&quot;</td><td>&quot;Airport4&quot;</td><td>&quot;L1&quot;</td><td>1487</td><td>2019-01-07</td><td>2018-12-31</td><td>&quot;City17&quot;</td><td>&quot;City4&quot;</td></tr></tbody></table></div>"
      ],
      "text/plain": [
       "shape: (29_825, 8)\n",
       "┌───────────┬─────────────┬─────────┬─────────┬─────────────┬────────────┬────────────┬────────────┐\n",
       "│ origin    ┆ destination ┆ carrier ┆ flt_num ┆ flt_departu ┆ observatio ┆ origin_cit ┆ destinatio │\n",
       "│ ---       ┆ ---         ┆ ---     ┆ ---     ┆ re_dt       ┆ n_date     ┆ y          ┆ n_city     │\n",
       "│ str       ┆ str         ┆ str     ┆ i64     ┆ ---         ┆ ---        ┆ ---        ┆ ---        │\n",
       "│           ┆             ┆         ┆         ┆ date        ┆ date       ┆ str        ┆ str        │\n",
       "╞═══════════╪═════════════╪═════════╪═════════╪═════════════╪════════════╪════════════╪════════════╡\n",
       "│ Airport4  ┆ Airport43   ┆ L2      ┆ 7465    ┆ 2019-01-01  ┆ 2018-11-27 ┆ City4      ┆ City39     │\n",
       "│ Airport4  ┆ Airport43   ┆ L2      ┆ 7067    ┆ 2019-01-01  ┆ 2018-11-27 ┆ City4      ┆ City39     │\n",
       "│ Airport4  ┆ Airport43   ┆ L2      ┆ 1232    ┆ 2019-01-01  ┆ 2018-11-27 ┆ City4      ┆ City39     │\n",
       "│ Airport4  ┆ Airport17   ┆ U3      ┆ 752     ┆ 2019-01-01  ┆ 2018-11-30 ┆ City4      ┆ City17     │\n",
       "│ Airport60 ┆ Airport30   ┆ U1      ┆ 6131    ┆ 2019-01-01  ┆ 2018-11-28 ┆ City56     ┆ City27     │\n",
       "│ …         ┆ …           ┆ …       ┆ …       ┆ …           ┆ …          ┆ …          ┆ …          │\n",
       "│ Airport30 ┆ Airport31   ┆ L2      ┆ 1732    ┆ 2019-01-07  ┆ 2018-12-31 ┆ City27     ┆ City28     │\n",
       "│ Airport30 ┆ Airport31   ┆ L2      ┆ 1741    ┆ 2019-01-07  ┆ 2018-12-31 ┆ City27     ┆ City28     │\n",
       "│ Airport17 ┆ Airport4    ┆ L1      ┆ 1484    ┆ 2019-01-07  ┆ 2018-12-31 ┆ City17     ┆ City4      │\n",
       "│ Airport17 ┆ Airport4    ┆ L1      ┆ 18471   ┆ 2019-01-07  ┆ 2018-12-31 ┆ City17     ┆ City4      │\n",
       "│ Airport17 ┆ Airport4    ┆ L1      ┆ 1487    ┆ 2019-01-07  ┆ 2018-12-31 ┆ City17     ┆ City4      │\n",
       "└───────────┴─────────────┴─────────┴─────────┴─────────────┴────────────┴────────────┴────────────┘"
      ]
     },
     "execution_count": 13,
     "metadata": {},
     "output_type": "execute_result"
    }
   ],
   "source": [
    "test_fares_df = test_fares_df.with_columns(\n",
    "    pl.col(\n",
    "        ['flt_departure_dt', 'observation_date']\n",
    "    ).str.strptime(\n",
    "        pl.Date,\n",
    "        format = r\"%-m/%-d/%Y\"\n",
    "    )\n",
    ")\n",
    "test_fares_df.sort('flt_departure_dt')"
   ]
  },
  {
   "cell_type": "code",
   "execution_count": 14,
   "metadata": {},
   "outputs": [
    {
     "data": {
      "text/html": [
       "<div><style>\n",
       ".dataframe > thead > tr,\n",
       ".dataframe > tbody > tr {\n",
       "  text-align: right;\n",
       "  white-space: pre-wrap;\n",
       "}\n",
       "</style>\n",
       "<small>shape: (63_584, 9)</small><table border=\"1\" class=\"dataframe\"><thead><tr><th>carrier</th><th>flt_num</th><th>origin</th><th>destination</th><th>flt_departure_dt</th><th>flt_departure_local_time</th><th>flt_arrival_local_time</th><th>flt_departure_gmt</th><th>flt_arrival_gmt</th></tr><tr><td>str</td><td>i64</td><td>str</td><td>str</td><td>date</td><td>datetime[ns]</td><td>datetime[ns]</td><td>datetime[ns]</td><td>datetime[ns]</td></tr></thead><tbody><tr><td>&quot;L1&quot;</td><td>2149</td><td>&quot;Airport30&quot;</td><td>&quot;Airport26&quot;</td><td>2018-01-01</td><td>2018-01-01 01:00:00</td><td>2018-01-01 05:47:00</td><td>2018-01-01 09:00:00</td><td>2018-01-01 11:47:00</td></tr><tr><td>&quot;OTH&quot;</td><td>5782</td><td>&quot;Airport20&quot;</td><td>&quot;Airport4&quot;</td><td>2018-01-01</td><td>2018-01-01 05:15:00</td><td>2018-01-01 08:35:00</td><td>2018-01-01 10:15:00</td><td>2018-01-01 14:35:00</td></tr><tr><td>&quot;OTH&quot;</td><td>5792</td><td>&quot;Airport30&quot;</td><td>&quot;Airport60&quot;</td><td>2018-01-01</td><td>2018-01-01 05:15:00</td><td>2018-01-01 06:50:00</td><td>2018-01-01 13:15:00</td><td>2018-01-01 14:50:00</td></tr><tr><td>&quot;L1&quot;</td><td>1176</td><td>&quot;Airport30&quot;</td><td>&quot;Airport31&quot;</td><td>2018-01-01</td><td>2018-01-01 05:31:00</td><td>2018-01-01 07:02:00</td><td>2018-01-01 13:31:00</td><td>2018-01-01 15:02:00</td></tr><tr><td>&quot;OTH&quot;</td><td>6068</td><td>&quot;Airport30&quot;</td><td>&quot;Airport31&quot;</td><td>2018-01-01</td><td>2018-01-01 05:40:00</td><td>2018-01-01 06:50:00</td><td>2018-01-01 13:40:00</td><td>2018-01-01 14:50:00</td></tr><tr><td>&hellip;</td><td>&hellip;</td><td>&hellip;</td><td>&hellip;</td><td>&hellip;</td><td>&hellip;</td><td>&hellip;</td><td>&hellip;</td><td>&hellip;</td></tr><tr><td>&quot;OTH&quot;</td><td>2416</td><td>&quot;Airport30&quot;</td><td>&quot;Airport31&quot;</td><td>2018-12-31</td><td>2018-12-31 20:35:00</td><td>2018-12-31 21:51:00</td><td>2019-01-01 04:35:00</td><td>2019-01-01 05:51:00</td></tr><tr><td>&quot;L2&quot;</td><td>1741</td><td>&quot;Airport30&quot;</td><td>&quot;Airport31&quot;</td><td>2018-12-31</td><td>2018-12-31 20:50:00</td><td>2018-12-31 22:14:00</td><td>2019-01-01 04:50:00</td><td>2019-01-01 06:14:00</td></tr><tr><td>&quot;U1&quot;</td><td>6175</td><td>&quot;Airport60&quot;</td><td>&quot;Airport30&quot;</td><td>2018-12-31</td><td>2018-12-31 21:30:00</td><td>2018-12-31 23:04:00</td><td>2019-01-01 05:30:00</td><td>2019-01-01 07:04:00</td></tr><tr><td>&quot;L2&quot;</td><td>8903</td><td>&quot;Airport31&quot;</td><td>&quot;Airport30&quot;</td><td>2018-12-31</td><td>2018-12-31 22:40:00</td><td>2018-12-31 23:53:00</td><td>2019-01-01 06:40:00</td><td>2019-01-01 07:53:00</td></tr><tr><td>&quot;L1&quot;</td><td>7588</td><td>&quot;Airport60&quot;</td><td>&quot;Airport30&quot;</td><td>2018-12-31</td><td>2018-12-31 22:52:00</td><td>2019-01-01 00:26:00</td><td>2019-01-01 06:52:00</td><td>2019-01-01 08:26:00</td></tr></tbody></table></div>"
      ],
      "text/plain": [
       "shape: (63_584, 9)\n",
       "┌─────────┬─────────┬───────────┬────────────┬───┬────────────┬────────────┬───────────┬───────────┐\n",
       "│ carrier ┆ flt_num ┆ origin    ┆ destinatio ┆ … ┆ flt_depart ┆ flt_arriva ┆ flt_depar ┆ flt_arriv │\n",
       "│ ---     ┆ ---     ┆ ---       ┆ n          ┆   ┆ ure_local_ ┆ l_local_ti ┆ ture_gmt  ┆ al_gmt    │\n",
       "│ str     ┆ i64     ┆ str       ┆ ---        ┆   ┆ time       ┆ me         ┆ ---       ┆ ---       │\n",
       "│         ┆         ┆           ┆ str        ┆   ┆ ---        ┆ ---        ┆ datetime[ ┆ datetime[ │\n",
       "│         ┆         ┆           ┆            ┆   ┆ datetime[n ┆ datetime[n ┆ ns]       ┆ ns]       │\n",
       "│         ┆         ┆           ┆            ┆   ┆ s]         ┆ s]         ┆           ┆           │\n",
       "╞═════════╪═════════╪═══════════╪════════════╪═══╪════════════╪════════════╪═══════════╪═══════════╡\n",
       "│ L1      ┆ 2149    ┆ Airport30 ┆ Airport26  ┆ … ┆ 2018-01-01 ┆ 2018-01-01 ┆ 2018-01-0 ┆ 2018-01-0 │\n",
       "│         ┆         ┆           ┆            ┆   ┆ 01:00:00   ┆ 05:47:00   ┆ 1         ┆ 1         │\n",
       "│         ┆         ┆           ┆            ┆   ┆            ┆            ┆ 09:00:00  ┆ 11:47:00  │\n",
       "│ OTH     ┆ 5782    ┆ Airport20 ┆ Airport4   ┆ … ┆ 2018-01-01 ┆ 2018-01-01 ┆ 2018-01-0 ┆ 2018-01-0 │\n",
       "│         ┆         ┆           ┆            ┆   ┆ 05:15:00   ┆ 08:35:00   ┆ 1         ┆ 1         │\n",
       "│         ┆         ┆           ┆            ┆   ┆            ┆            ┆ 10:15:00  ┆ 14:35:00  │\n",
       "│ OTH     ┆ 5792    ┆ Airport30 ┆ Airport60  ┆ … ┆ 2018-01-01 ┆ 2018-01-01 ┆ 2018-01-0 ┆ 2018-01-0 │\n",
       "│         ┆         ┆           ┆            ┆   ┆ 05:15:00   ┆ 06:50:00   ┆ 1         ┆ 1         │\n",
       "│         ┆         ┆           ┆            ┆   ┆            ┆            ┆ 13:15:00  ┆ 14:50:00  │\n",
       "│ L1      ┆ 1176    ┆ Airport30 ┆ Airport31  ┆ … ┆ 2018-01-01 ┆ 2018-01-01 ┆ 2018-01-0 ┆ 2018-01-0 │\n",
       "│         ┆         ┆           ┆            ┆   ┆ 05:31:00   ┆ 07:02:00   ┆ 1         ┆ 1         │\n",
       "│         ┆         ┆           ┆            ┆   ┆            ┆            ┆ 13:31:00  ┆ 15:02:00  │\n",
       "│ OTH     ┆ 6068    ┆ Airport30 ┆ Airport31  ┆ … ┆ 2018-01-01 ┆ 2018-01-01 ┆ 2018-01-0 ┆ 2018-01-0 │\n",
       "│         ┆         ┆           ┆            ┆   ┆ 05:40:00   ┆ 06:50:00   ┆ 1         ┆ 1         │\n",
       "│         ┆         ┆           ┆            ┆   ┆            ┆            ┆ 13:40:00  ┆ 14:50:00  │\n",
       "│ …       ┆ …       ┆ …         ┆ …          ┆ … ┆ …          ┆ …          ┆ …         ┆ …         │\n",
       "│ OTH     ┆ 2416    ┆ Airport30 ┆ Airport31  ┆ … ┆ 2018-12-31 ┆ 2018-12-31 ┆ 2019-01-0 ┆ 2019-01-0 │\n",
       "│         ┆         ┆           ┆            ┆   ┆ 20:35:00   ┆ 21:51:00   ┆ 1         ┆ 1         │\n",
       "│         ┆         ┆           ┆            ┆   ┆            ┆            ┆ 04:35:00  ┆ 05:51:00  │\n",
       "│ L2      ┆ 1741    ┆ Airport30 ┆ Airport31  ┆ … ┆ 2018-12-31 ┆ 2018-12-31 ┆ 2019-01-0 ┆ 2019-01-0 │\n",
       "│         ┆         ┆           ┆            ┆   ┆ 20:50:00   ┆ 22:14:00   ┆ 1         ┆ 1         │\n",
       "│         ┆         ┆           ┆            ┆   ┆            ┆            ┆ 04:50:00  ┆ 06:14:00  │\n",
       "│ U1      ┆ 6175    ┆ Airport60 ┆ Airport30  ┆ … ┆ 2018-12-31 ┆ 2018-12-31 ┆ 2019-01-0 ┆ 2019-01-0 │\n",
       "│         ┆         ┆           ┆            ┆   ┆ 21:30:00   ┆ 23:04:00   ┆ 1         ┆ 1         │\n",
       "│         ┆         ┆           ┆            ┆   ┆            ┆            ┆ 05:30:00  ┆ 07:04:00  │\n",
       "│ L2      ┆ 8903    ┆ Airport31 ┆ Airport30  ┆ … ┆ 2018-12-31 ┆ 2018-12-31 ┆ 2019-01-0 ┆ 2019-01-0 │\n",
       "│         ┆         ┆           ┆            ┆   ┆ 22:40:00   ┆ 23:53:00   ┆ 1         ┆ 1         │\n",
       "│         ┆         ┆           ┆            ┆   ┆            ┆            ┆ 06:40:00  ┆ 07:53:00  │\n",
       "│ L1      ┆ 7588    ┆ Airport60 ┆ Airport30  ┆ … ┆ 2018-12-31 ┆ 2019-01-01 ┆ 2019-01-0 ┆ 2019-01-0 │\n",
       "│         ┆         ┆           ┆            ┆   ┆ 22:52:00   ┆ 00:26:00   ┆ 1         ┆ 1         │\n",
       "│         ┆         ┆           ┆            ┆   ┆            ┆            ┆ 06:52:00  ┆ 08:26:00  │\n",
       "└─────────┴─────────┴───────────┴────────────┴───┴────────────┴────────────┴───────────┴───────────┘"
      ]
     },
     "execution_count": 14,
     "metadata": {},
     "output_type": "execute_result"
    }
   ],
   "source": [
    "train_sch_df = train_sch_df.with_columns(\n",
    "    pl.col('flt_departure_dt').str.strptime(\n",
    "        pl.Date,\n",
    "        format = r\"%Y-%m-%d\"\n",
    "    ),\n",
    "    pl.col(\n",
    "        ['flt_departure_local_time', 'flt_arrival_local_time', 'flt_departure_gmt', 'flt_arrival_gmt']\n",
    "    ).str.strptime(\n",
    "        pl.Datetime,\n",
    "        format = r\"%Y-%m-%d %H:%M:%S%.f\"\n",
    "    )\n",
    ")\n",
    "train_sch_df.sort('flt_departure_local_time')"
   ]
  },
  {
   "cell_type": "code",
   "execution_count": 15,
   "metadata": {},
   "outputs": [
    {
     "data": {
      "text/html": [
       "<div><style>\n",
       ".dataframe > thead > tr,\n",
       ".dataframe > tbody > tr {\n",
       "  text-align: right;\n",
       "  white-space: pre-wrap;\n",
       "}\n",
       "</style>\n",
       "<small>shape: (1_234, 9)</small><table border=\"1\" class=\"dataframe\"><thead><tr><th>carrier</th><th>flt_num</th><th>origin</th><th>destination</th><th>flt_departure_dt</th><th>flt_departure_local_time</th><th>flt_arrival_local_time</th><th>flt_departure_gmt</th><th>flt_arrival_gmt</th></tr><tr><td>str</td><td>i64</td><td>str</td><td>str</td><td>date</td><td>datetime[ns]</td><td>datetime[ns]</td><td>datetime[ns]</td><td>datetime[ns]</td></tr></thead><tbody><tr><td>&quot;L1&quot;</td><td>2149</td><td>&quot;Airport30&quot;</td><td>&quot;Airport26&quot;</td><td>2019-01-01</td><td>2019-01-01 01:00:00</td><td>2019-01-01 05:53:00</td><td>2019-01-01 09:00:00</td><td>2019-01-01 11:53:00</td></tr><tr><td>&quot;OTH&quot;</td><td>4611</td><td>&quot;Airport31&quot;</td><td>&quot;Airport30&quot;</td><td>2019-01-01</td><td>2019-01-01 05:20:00</td><td>2019-01-01 06:25:00</td><td>2019-01-01 13:20:00</td><td>2019-01-01 14:25:00</td></tr><tr><td>&quot;OTH&quot;</td><td>10071</td><td>&quot;Airport60&quot;</td><td>&quot;Airport30&quot;</td><td>2019-01-01</td><td>2019-01-01 05:20:00</td><td>2019-01-01 06:45:00</td><td>2019-01-01 13:20:00</td><td>2019-01-01 14:45:00</td></tr><tr><td>&quot;OTH&quot;</td><td>5770</td><td>&quot;Airport30&quot;</td><td>&quot;Airport60&quot;</td><td>2019-01-01</td><td>2019-01-01 05:30:00</td><td>2019-01-01 07:00:00</td><td>2019-01-01 13:30:00</td><td>2019-01-01 15:00:00</td></tr><tr><td>&quot;OTH&quot;</td><td>5327</td><td>&quot;Airport4&quot;</td><td>&quot;Airport20&quot;</td><td>2019-01-01</td><td>2019-01-01 05:35:00</td><td>2019-01-01 10:05:00</td><td>2019-01-01 11:35:00</td><td>2019-01-01 15:05:00</td></tr><tr><td>&hellip;</td><td>&hellip;</td><td>&hellip;</td><td>&hellip;</td><td>&hellip;</td><td>&hellip;</td><td>&hellip;</td><td>&hellip;</td><td>&hellip;</td></tr><tr><td>&quot;L2&quot;</td><td>8903</td><td>&quot;Airport31&quot;</td><td>&quot;Airport30&quot;</td><td>2019-01-07</td><td>2019-01-07 22:40:00</td><td>2019-01-07 23:52:00</td><td>2019-01-08 06:40:00</td><td>2019-01-08 07:52:00</td></tr><tr><td>&quot;L1&quot;</td><td>4934</td><td>&quot;Airport31&quot;</td><td>&quot;Airport30&quot;</td><td>2019-01-07</td><td>2019-01-07 22:45:00</td><td>2019-01-07 23:58:00</td><td>2019-01-08 06:45:00</td><td>2019-01-08 07:58:00</td></tr><tr><td>&quot;L1&quot;</td><td>7588</td><td>&quot;Airport60&quot;</td><td>&quot;Airport30&quot;</td><td>2019-01-07</td><td>2019-01-07 22:50:00</td><td>2019-01-08 00:28:00</td><td>2019-01-08 06:50:00</td><td>2019-01-08 08:28:00</td></tr><tr><td>&quot;L1&quot;</td><td>5581</td><td>&quot;Airport30&quot;</td><td>&quot;Airport31&quot;</td><td>2019-01-07</td><td>2019-01-07 23:00:00</td><td>2019-01-08 00:23:00</td><td>2019-01-08 07:00:00</td><td>2019-01-08 08:23:00</td></tr><tr><td>&quot;L1&quot;</td><td>18298</td><td>&quot;Airport30&quot;</td><td>&quot;Airport60&quot;</td><td>2019-01-07</td><td>2019-01-07 23:00:00</td><td>2019-01-08 00:44:00</td><td>2019-01-08 07:00:00</td><td>2019-01-08 08:44:00</td></tr></tbody></table></div>"
      ],
      "text/plain": [
       "shape: (1_234, 9)\n",
       "┌─────────┬─────────┬───────────┬────────────┬───┬────────────┬────────────┬───────────┬───────────┐\n",
       "│ carrier ┆ flt_num ┆ origin    ┆ destinatio ┆ … ┆ flt_depart ┆ flt_arriva ┆ flt_depar ┆ flt_arriv │\n",
       "│ ---     ┆ ---     ┆ ---       ┆ n          ┆   ┆ ure_local_ ┆ l_local_ti ┆ ture_gmt  ┆ al_gmt    │\n",
       "│ str     ┆ i64     ┆ str       ┆ ---        ┆   ┆ time       ┆ me         ┆ ---       ┆ ---       │\n",
       "│         ┆         ┆           ┆ str        ┆   ┆ ---        ┆ ---        ┆ datetime[ ┆ datetime[ │\n",
       "│         ┆         ┆           ┆            ┆   ┆ datetime[n ┆ datetime[n ┆ ns]       ┆ ns]       │\n",
       "│         ┆         ┆           ┆            ┆   ┆ s]         ┆ s]         ┆           ┆           │\n",
       "╞═════════╪═════════╪═══════════╪════════════╪═══╪════════════╪════════════╪═══════════╪═══════════╡\n",
       "│ L1      ┆ 2149    ┆ Airport30 ┆ Airport26  ┆ … ┆ 2019-01-01 ┆ 2019-01-01 ┆ 2019-01-0 ┆ 2019-01-0 │\n",
       "│         ┆         ┆           ┆            ┆   ┆ 01:00:00   ┆ 05:53:00   ┆ 1         ┆ 1         │\n",
       "│         ┆         ┆           ┆            ┆   ┆            ┆            ┆ 09:00:00  ┆ 11:53:00  │\n",
       "│ OTH     ┆ 4611    ┆ Airport31 ┆ Airport30  ┆ … ┆ 2019-01-01 ┆ 2019-01-01 ┆ 2019-01-0 ┆ 2019-01-0 │\n",
       "│         ┆         ┆           ┆            ┆   ┆ 05:20:00   ┆ 06:25:00   ┆ 1         ┆ 1         │\n",
       "│         ┆         ┆           ┆            ┆   ┆            ┆            ┆ 13:20:00  ┆ 14:25:00  │\n",
       "│ OTH     ┆ 10071   ┆ Airport60 ┆ Airport30  ┆ … ┆ 2019-01-01 ┆ 2019-01-01 ┆ 2019-01-0 ┆ 2019-01-0 │\n",
       "│         ┆         ┆           ┆            ┆   ┆ 05:20:00   ┆ 06:45:00   ┆ 1         ┆ 1         │\n",
       "│         ┆         ┆           ┆            ┆   ┆            ┆            ┆ 13:20:00  ┆ 14:45:00  │\n",
       "│ OTH     ┆ 5770    ┆ Airport30 ┆ Airport60  ┆ … ┆ 2019-01-01 ┆ 2019-01-01 ┆ 2019-01-0 ┆ 2019-01-0 │\n",
       "│         ┆         ┆           ┆            ┆   ┆ 05:30:00   ┆ 07:00:00   ┆ 1         ┆ 1         │\n",
       "│         ┆         ┆           ┆            ┆   ┆            ┆            ┆ 13:30:00  ┆ 15:00:00  │\n",
       "│ OTH     ┆ 5327    ┆ Airport4  ┆ Airport20  ┆ … ┆ 2019-01-01 ┆ 2019-01-01 ┆ 2019-01-0 ┆ 2019-01-0 │\n",
       "│         ┆         ┆           ┆            ┆   ┆ 05:35:00   ┆ 10:05:00   ┆ 1         ┆ 1         │\n",
       "│         ┆         ┆           ┆            ┆   ┆            ┆            ┆ 11:35:00  ┆ 15:05:00  │\n",
       "│ …       ┆ …       ┆ …         ┆ …          ┆ … ┆ …          ┆ …          ┆ …         ┆ …         │\n",
       "│ L2      ┆ 8903    ┆ Airport31 ┆ Airport30  ┆ … ┆ 2019-01-07 ┆ 2019-01-07 ┆ 2019-01-0 ┆ 2019-01-0 │\n",
       "│         ┆         ┆           ┆            ┆   ┆ 22:40:00   ┆ 23:52:00   ┆ 8         ┆ 8         │\n",
       "│         ┆         ┆           ┆            ┆   ┆            ┆            ┆ 06:40:00  ┆ 07:52:00  │\n",
       "│ L1      ┆ 4934    ┆ Airport31 ┆ Airport30  ┆ … ┆ 2019-01-07 ┆ 2019-01-07 ┆ 2019-01-0 ┆ 2019-01-0 │\n",
       "│         ┆         ┆           ┆            ┆   ┆ 22:45:00   ┆ 23:58:00   ┆ 8         ┆ 8         │\n",
       "│         ┆         ┆           ┆            ┆   ┆            ┆            ┆ 06:45:00  ┆ 07:58:00  │\n",
       "│ L1      ┆ 7588    ┆ Airport60 ┆ Airport30  ┆ … ┆ 2019-01-07 ┆ 2019-01-08 ┆ 2019-01-0 ┆ 2019-01-0 │\n",
       "│         ┆         ┆           ┆            ┆   ┆ 22:50:00   ┆ 00:28:00   ┆ 8         ┆ 8         │\n",
       "│         ┆         ┆           ┆            ┆   ┆            ┆            ┆ 06:50:00  ┆ 08:28:00  │\n",
       "│ L1      ┆ 5581    ┆ Airport30 ┆ Airport31  ┆ … ┆ 2019-01-07 ┆ 2019-01-08 ┆ 2019-01-0 ┆ 2019-01-0 │\n",
       "│         ┆         ┆           ┆            ┆   ┆ 23:00:00   ┆ 00:23:00   ┆ 8         ┆ 8         │\n",
       "│         ┆         ┆           ┆            ┆   ┆            ┆            ┆ 07:00:00  ┆ 08:23:00  │\n",
       "│ L1      ┆ 18298   ┆ Airport30 ┆ Airport60  ┆ … ┆ 2019-01-07 ┆ 2019-01-08 ┆ 2019-01-0 ┆ 2019-01-0 │\n",
       "│         ┆         ┆           ┆            ┆   ┆ 23:00:00   ┆ 00:44:00   ┆ 8         ┆ 8         │\n",
       "│         ┆         ┆           ┆            ┆   ┆            ┆            ┆ 07:00:00  ┆ 08:44:00  │\n",
       "└─────────┴─────────┴───────────┴────────────┴───┴────────────┴────────────┴───────────┴───────────┘"
      ]
     },
     "execution_count": 15,
     "metadata": {},
     "output_type": "execute_result"
    }
   ],
   "source": [
    "test_sch_df = test_sch_df.with_columns(\n",
    "    pl.col('flt_departure_dt').str.strptime(\n",
    "        pl.Date,\n",
    "        format = r\"%Y-%m-%d\"\n",
    "    ),\n",
    "    pl.col(\n",
    "        ['flt_departure_local_time', 'flt_arrival_local_time', 'flt_departure_gmt', 'flt_arrival_gmt']\n",
    "    ).str.strptime(\n",
    "        pl.Datetime,\n",
    "        format = r\"%Y-%m-%d %H:%M:%S%.f\"\n",
    "    )\n",
    ")\n",
    "test_sch_df.sort('flt_departure_local_time')"
   ]
  },
  {
   "cell_type": "markdown",
   "metadata": {},
   "source": [
    "### Datetime features"
   ]
  },
  {
   "cell_type": "markdown",
   "metadata": {},
   "source": [
    "#### Days till flight\n",
    "\n",
    "Number of days between the `flt_departure_dt` and `days_till_flight`"
   ]
  },
  {
   "cell_type": "code",
   "execution_count": 16,
   "metadata": {},
   "outputs": [
    {
     "data": {
      "text/html": [
       "<div><style>\n",
       ".dataframe > thead > tr,\n",
       ".dataframe > tbody > tr {\n",
       "  text-align: right;\n",
       "  white-space: pre-wrap;\n",
       "}\n",
       "</style>\n",
       "<small>shape: (1_697_443, 10)</small><table border=\"1\" class=\"dataframe\"><thead><tr><th>origin</th><th>destination</th><th>carrier</th><th>flt_num</th><th>flt_departure_dt</th><th>observation_date</th><th>total_fare</th><th>origin_city</th><th>destination_city</th><th>days_till_flight</th></tr><tr><td>str</td><td>str</td><td>str</td><td>i64</td><td>date</td><td>date</td><td>i64</td><td>str</td><td>str</td><td>i16</td></tr></thead><tbody><tr><td>&quot;Airport4&quot;</td><td>&quot;Airport43&quot;</td><td>&quot;L2&quot;</td><td>8018</td><td>2018-11-10</td><td>2018-11-02</td><td>1192</td><td>&quot;City4&quot;</td><td>&quot;City39&quot;</td><td>8</td></tr><tr><td>&quot;Airport31&quot;</td><td>&quot;Airport30&quot;</td><td>&quot;L2&quot;</td><td>5314</td><td>2018-01-15</td><td>2017-12-15</td><td>281</td><td>&quot;City28&quot;</td><td>&quot;City27&quot;</td><td>31</td></tr><tr><td>&quot;Airport4&quot;</td><td>&quot;Airport43&quot;</td><td>&quot;L2&quot;</td><td>7852</td><td>2018-01-18</td><td>2018-01-01</td><td>557</td><td>&quot;City4&quot;</td><td>&quot;City39&quot;</td><td>17</td></tr><tr><td>&quot;Airport30&quot;</td><td>&quot;Airport26&quot;</td><td>&quot;L1&quot;</td><td>6294</td><td>2018-09-29</td><td>2018-09-25</td><td>2021</td><td>&quot;City27&quot;</td><td>&quot;City24&quot;</td><td>4</td></tr><tr><td>&quot;Airport30&quot;</td><td>&quot;Airport31&quot;</td><td>&quot;L3&quot;</td><td>18273</td><td>2018-03-28</td><td>2018-03-02</td><td>298</td><td>&quot;City27&quot;</td><td>&quot;City28&quot;</td><td>26</td></tr><tr><td>&hellip;</td><td>&hellip;</td><td>&hellip;</td><td>&hellip;</td><td>&hellip;</td><td>&hellip;</td><td>&hellip;</td><td>&hellip;</td><td>&hellip;</td><td>&hellip;</td></tr><tr><td>&quot;Airport30&quot;</td><td>&quot;Airport60&quot;</td><td>&quot;OTH&quot;</td><td>6178</td><td>2018-03-11</td><td>2018-03-09</td><td>1879</td><td>&quot;City27&quot;</td><td>&quot;City56&quot;</td><td>2</td></tr><tr><td>&quot;Airport30&quot;</td><td>&quot;Airport31&quot;</td><td>&quot;L3&quot;</td><td>18349</td><td>2018-03-28</td><td>2018-02-23</td><td>281</td><td>&quot;City27&quot;</td><td>&quot;City28&quot;</td><td>33</td></tr><tr><td>&quot;Airport4&quot;</td><td>&quot;Airport43&quot;</td><td>&quot;L1&quot;</td><td>1528</td><td>2018-03-08</td><td>2018-02-24</td><td>896</td><td>&quot;City4&quot;</td><td>&quot;City39&quot;</td><td>12</td></tr><tr><td>&quot;Airport4&quot;</td><td>&quot;Airport43&quot;</td><td>&quot;L2&quot;</td><td>8018</td><td>2018-10-18</td><td>2018-09-17</td><td>614</td><td>&quot;City4&quot;</td><td>&quot;City39&quot;</td><td>31</td></tr><tr><td>&quot;Airport30&quot;</td><td>&quot;Airport31&quot;</td><td>&quot;U1&quot;</td><td>4771</td><td>2018-02-27</td><td>2018-02-10</td><td>294</td><td>&quot;City27&quot;</td><td>&quot;City28&quot;</td><td>17</td></tr></tbody></table></div>"
      ],
      "text/plain": [
       "shape: (1_697_443, 10)\n",
       "┌───────────┬────────────┬─────────┬─────────┬───┬────────────┬────────────┬───────────┬───────────┐\n",
       "│ origin    ┆ destinatio ┆ carrier ┆ flt_num ┆ … ┆ total_fare ┆ origin_cit ┆ destinati ┆ days_till │\n",
       "│ ---       ┆ n          ┆ ---     ┆ ---     ┆   ┆ ---        ┆ y          ┆ on_city   ┆ _flight   │\n",
       "│ str       ┆ ---        ┆ str     ┆ i64     ┆   ┆ i64        ┆ ---        ┆ ---       ┆ ---       │\n",
       "│           ┆ str        ┆         ┆         ┆   ┆            ┆ str        ┆ str       ┆ i16       │\n",
       "╞═══════════╪════════════╪═════════╪═════════╪═══╪════════════╪════════════╪═══════════╪═══════════╡\n",
       "│ Airport4  ┆ Airport43  ┆ L2      ┆ 8018    ┆ … ┆ 1192       ┆ City4      ┆ City39    ┆ 8         │\n",
       "│ Airport31 ┆ Airport30  ┆ L2      ┆ 5314    ┆ … ┆ 281        ┆ City28     ┆ City27    ┆ 31        │\n",
       "│ Airport4  ┆ Airport43  ┆ L2      ┆ 7852    ┆ … ┆ 557        ┆ City4      ┆ City39    ┆ 17        │\n",
       "│ Airport30 ┆ Airport26  ┆ L1      ┆ 6294    ┆ … ┆ 2021       ┆ City27     ┆ City24    ┆ 4         │\n",
       "│ Airport30 ┆ Airport31  ┆ L3      ┆ 18273   ┆ … ┆ 298        ┆ City27     ┆ City28    ┆ 26        │\n",
       "│ …         ┆ …          ┆ …       ┆ …       ┆ … ┆ …          ┆ …          ┆ …         ┆ …         │\n",
       "│ Airport30 ┆ Airport60  ┆ OTH     ┆ 6178    ┆ … ┆ 1879       ┆ City27     ┆ City56    ┆ 2         │\n",
       "│ Airport30 ┆ Airport31  ┆ L3      ┆ 18349   ┆ … ┆ 281        ┆ City27     ┆ City28    ┆ 33        │\n",
       "│ Airport4  ┆ Airport43  ┆ L1      ┆ 1528    ┆ … ┆ 896        ┆ City4      ┆ City39    ┆ 12        │\n",
       "│ Airport4  ┆ Airport43  ┆ L2      ┆ 8018    ┆ … ┆ 614        ┆ City4      ┆ City39    ┆ 31        │\n",
       "│ Airport30 ┆ Airport31  ┆ U1      ┆ 4771    ┆ … ┆ 294        ┆ City27     ┆ City28    ┆ 17        │\n",
       "└───────────┴────────────┴─────────┴─────────┴───┴────────────┴────────────┴───────────┴───────────┘"
      ]
     },
     "execution_count": 16,
     "metadata": {},
     "output_type": "execute_result"
    }
   ],
   "source": [
    "train_fares_df = train_fares_df.with_columns(\n",
    "    (\n",
    "        pl.col('flt_departure_dt') - pl.col('observation_date')\n",
    "    ).dt.total_days().cast(pl.Int16()).alias(\"days_till_flight\")\n",
    ")\n",
    "\n",
    "train_fares_df"
   ]
  },
  {
   "cell_type": "code",
   "execution_count": 17,
   "metadata": {},
   "outputs": [
    {
     "data": {
      "text/html": [
       "<div><style>\n",
       ".dataframe > thead > tr,\n",
       ".dataframe > tbody > tr {\n",
       "  text-align: right;\n",
       "  white-space: pre-wrap;\n",
       "}\n",
       "</style>\n",
       "<small>shape: (29_825, 9)</small><table border=\"1\" class=\"dataframe\"><thead><tr><th>origin</th><th>destination</th><th>carrier</th><th>flt_num</th><th>flt_departure_dt</th><th>observation_date</th><th>origin_city</th><th>destination_city</th><th>days_till_flight</th></tr><tr><td>str</td><td>str</td><td>str</td><td>i64</td><td>date</td><td>date</td><td>str</td><td>str</td><td>i16</td></tr></thead><tbody><tr><td>&quot;Airport4&quot;</td><td>&quot;Airport43&quot;</td><td>&quot;L2&quot;</td><td>7465</td><td>2019-01-01</td><td>2018-11-27</td><td>&quot;City4&quot;</td><td>&quot;City39&quot;</td><td>35</td></tr><tr><td>&quot;Airport4&quot;</td><td>&quot;Airport43&quot;</td><td>&quot;L2&quot;</td><td>7067</td><td>2019-01-01</td><td>2018-11-27</td><td>&quot;City4&quot;</td><td>&quot;City39&quot;</td><td>35</td></tr><tr><td>&quot;Airport4&quot;</td><td>&quot;Airport43&quot;</td><td>&quot;L2&quot;</td><td>1232</td><td>2019-01-01</td><td>2018-11-27</td><td>&quot;City4&quot;</td><td>&quot;City39&quot;</td><td>35</td></tr><tr><td>&quot;Airport43&quot;</td><td>&quot;Airport4&quot;</td><td>&quot;L1&quot;</td><td>17783</td><td>2019-01-03</td><td>2018-11-29</td><td>&quot;City39&quot;</td><td>&quot;City4&quot;</td><td>35</td></tr><tr><td>&quot;Airport43&quot;</td><td>&quot;Airport4&quot;</td><td>&quot;L1&quot;</td><td>5823</td><td>2019-01-03</td><td>2018-11-29</td><td>&quot;City39&quot;</td><td>&quot;City4&quot;</td><td>35</td></tr><tr><td>&hellip;</td><td>&hellip;</td><td>&hellip;</td><td>&hellip;</td><td>&hellip;</td><td>&hellip;</td><td>&hellip;</td><td>&hellip;</td><td>&hellip;</td></tr><tr><td>&quot;Airport4&quot;</td><td>&quot;Airport43&quot;</td><td>&quot;L2&quot;</td><td>7067</td><td>2019-01-06</td><td>2018-12-31</td><td>&quot;City4&quot;</td><td>&quot;City39&quot;</td><td>6</td></tr><tr><td>&quot;Airport4&quot;</td><td>&quot;Airport43&quot;</td><td>&quot;L2&quot;</td><td>1232</td><td>2019-01-06</td><td>2018-12-31</td><td>&quot;City4&quot;</td><td>&quot;City39&quot;</td><td>6</td></tr><tr><td>&quot;Airport17&quot;</td><td>&quot;Airport4&quot;</td><td>&quot;L1&quot;</td><td>1484</td><td>2019-01-07</td><td>2018-12-31</td><td>&quot;City17&quot;</td><td>&quot;City4&quot;</td><td>7</td></tr><tr><td>&quot;Airport17&quot;</td><td>&quot;Airport4&quot;</td><td>&quot;L1&quot;</td><td>18471</td><td>2019-01-07</td><td>2018-12-31</td><td>&quot;City17&quot;</td><td>&quot;City4&quot;</td><td>7</td></tr><tr><td>&quot;Airport17&quot;</td><td>&quot;Airport4&quot;</td><td>&quot;L1&quot;</td><td>1487</td><td>2019-01-07</td><td>2018-12-31</td><td>&quot;City17&quot;</td><td>&quot;City4&quot;</td><td>7</td></tr></tbody></table></div>"
      ],
      "text/plain": [
       "shape: (29_825, 9)\n",
       "┌───────────┬────────────┬─────────┬─────────┬───┬────────────┬────────────┬───────────┬───────────┐\n",
       "│ origin    ┆ destinatio ┆ carrier ┆ flt_num ┆ … ┆ observatio ┆ origin_cit ┆ destinati ┆ days_till │\n",
       "│ ---       ┆ n          ┆ ---     ┆ ---     ┆   ┆ n_date     ┆ y          ┆ on_city   ┆ _flight   │\n",
       "│ str       ┆ ---        ┆ str     ┆ i64     ┆   ┆ ---        ┆ ---        ┆ ---       ┆ ---       │\n",
       "│           ┆ str        ┆         ┆         ┆   ┆ date       ┆ str        ┆ str       ┆ i16       │\n",
       "╞═══════════╪════════════╪═════════╪═════════╪═══╪════════════╪════════════╪═══════════╪═══════════╡\n",
       "│ Airport4  ┆ Airport43  ┆ L2      ┆ 7465    ┆ … ┆ 2018-11-27 ┆ City4      ┆ City39    ┆ 35        │\n",
       "│ Airport4  ┆ Airport43  ┆ L2      ┆ 7067    ┆ … ┆ 2018-11-27 ┆ City4      ┆ City39    ┆ 35        │\n",
       "│ Airport4  ┆ Airport43  ┆ L2      ┆ 1232    ┆ … ┆ 2018-11-27 ┆ City4      ┆ City39    ┆ 35        │\n",
       "│ Airport43 ┆ Airport4   ┆ L1      ┆ 17783   ┆ … ┆ 2018-11-29 ┆ City39     ┆ City4     ┆ 35        │\n",
       "│ Airport43 ┆ Airport4   ┆ L1      ┆ 5823    ┆ … ┆ 2018-11-29 ┆ City39     ┆ City4     ┆ 35        │\n",
       "│ …         ┆ …          ┆ …       ┆ …       ┆ … ┆ …          ┆ …          ┆ …         ┆ …         │\n",
       "│ Airport4  ┆ Airport43  ┆ L2      ┆ 7067    ┆ … ┆ 2018-12-31 ┆ City4      ┆ City39    ┆ 6         │\n",
       "│ Airport4  ┆ Airport43  ┆ L2      ┆ 1232    ┆ … ┆ 2018-12-31 ┆ City4      ┆ City39    ┆ 6         │\n",
       "│ Airport17 ┆ Airport4   ┆ L1      ┆ 1484    ┆ … ┆ 2018-12-31 ┆ City17     ┆ City4     ┆ 7         │\n",
       "│ Airport17 ┆ Airport4   ┆ L1      ┆ 18471   ┆ … ┆ 2018-12-31 ┆ City17     ┆ City4     ┆ 7         │\n",
       "│ Airport17 ┆ Airport4   ┆ L1      ┆ 1487    ┆ … ┆ 2018-12-31 ┆ City17     ┆ City4     ┆ 7         │\n",
       "└───────────┴────────────┴─────────┴─────────┴───┴────────────┴────────────┴───────────┴───────────┘"
      ]
     },
     "execution_count": 17,
     "metadata": {},
     "output_type": "execute_result"
    }
   ],
   "source": [
    "test_fares_df = test_fares_df.with_columns(\n",
    "    (\n",
    "        pl.col('flt_departure_dt') - pl.col('observation_date')\n",
    "    ).dt.total_days().cast(pl.Int16()).alias(\"days_till_flight\")\n",
    ")\n",
    "test_fares_df"
   ]
  },
  {
   "cell_type": "markdown",
   "metadata": {},
   "source": [
    "#### Flight duration and timezone"
   ]
  },
  {
   "cell_type": "code",
   "execution_count": 18,
   "metadata": {},
   "outputs": [
    {
     "data": {
      "text/html": [
       "<div><style>\n",
       ".dataframe > thead > tr,\n",
       ".dataframe > tbody > tr {\n",
       "  text-align: right;\n",
       "  white-space: pre-wrap;\n",
       "}\n",
       "</style>\n",
       "<small>shape: (63_584, 11)</small><table border=\"1\" class=\"dataframe\"><thead><tr><th>carrier</th><th>flt_num</th><th>origin</th><th>destination</th><th>flt_departure_dt</th><th>flt_departure_local_time</th><th>flt_arrival_local_time</th><th>flt_departure_gmt</th><th>flt_arrival_gmt</th><th>dur_min</th><th>tz_min</th></tr><tr><td>str</td><td>i64</td><td>str</td><td>str</td><td>date</td><td>datetime[ns]</td><td>datetime[ns]</td><td>datetime[ns]</td><td>datetime[ns]</td><td>i16</td><td>i16</td></tr></thead><tbody><tr><td>&quot;L1&quot;</td><td>6800</td><td>&quot;Airport26&quot;</td><td>&quot;Airport30&quot;</td><td>2018-02-01</td><td>2018-02-01 18:43:00</td><td>2018-02-01 20:09:00</td><td>2018-02-02 00:43:00</td><td>2018-02-02 04:09:00</td><td>86</td><td>-360</td></tr><tr><td>&quot;OTH&quot;</td><td>783</td><td>&quot;Airport26&quot;</td><td>&quot;Airport30&quot;</td><td>2018-02-01</td><td>2018-02-01 19:45:00</td><td>2018-02-01 21:05:00</td><td>2018-02-02 01:45:00</td><td>2018-02-02 05:05:00</td><td>80</td><td>-360</td></tr><tr><td>&quot;L1&quot;</td><td>799</td><td>&quot;Airport26&quot;</td><td>&quot;Airport30&quot;</td><td>2018-02-01</td><td>2018-02-01 12:00:00</td><td>2018-02-01 13:26:00</td><td>2018-02-01 18:00:00</td><td>2018-02-01 21:26:00</td><td>86</td><td>-360</td></tr><tr><td>&quot;L1&quot;</td><td>7760</td><td>&quot;Airport26&quot;</td><td>&quot;Airport30&quot;</td><td>2018-02-01</td><td>2018-02-01 07:35:00</td><td>2018-02-01 09:02:00</td><td>2018-02-01 13:35:00</td><td>2018-02-01 17:02:00</td><td>87</td><td>-360</td></tr><tr><td>&quot;L1&quot;</td><td>3443</td><td>&quot;Airport26&quot;</td><td>&quot;Airport30&quot;</td><td>2018-02-01</td><td>2018-02-01 09:48:00</td><td>2018-02-01 11:14:00</td><td>2018-02-01 15:48:00</td><td>2018-02-01 19:14:00</td><td>86</td><td>-360</td></tr><tr><td>&hellip;</td><td>&hellip;</td><td>&hellip;</td><td>&hellip;</td><td>&hellip;</td><td>&hellip;</td><td>&hellip;</td><td>&hellip;</td><td>&hellip;</td><td>&hellip;</td><td>&hellip;</td></tr><tr><td>&quot;L1&quot;</td><td>5675</td><td>&quot;Airport30&quot;</td><td>&quot;Airport60&quot;</td><td>2018-10-31</td><td>2018-10-31 13:17:00</td><td>2018-10-31 14:53:00</td><td>2018-10-31 20:17:00</td><td>2018-10-31 21:53:00</td><td>96</td><td>-420</td></tr><tr><td>&quot;U1&quot;</td><td>6115</td><td>&quot;Airport30&quot;</td><td>&quot;Airport60&quot;</td><td>2018-10-31</td><td>2018-10-31 06:50:00</td><td>2018-10-31 08:24:00</td><td>2018-10-31 13:50:00</td><td>2018-10-31 15:24:00</td><td>94</td><td>-420</td></tr><tr><td>&quot;U1&quot;</td><td>6184</td><td>&quot;Airport30&quot;</td><td>&quot;Airport60&quot;</td><td>2018-10-31</td><td>2018-10-31 20:20:00</td><td>2018-10-31 22:02:00</td><td>2018-11-01 03:20:00</td><td>2018-11-01 05:02:00</td><td>102</td><td>-420</td></tr><tr><td>&quot;OTH&quot;</td><td>7010</td><td>&quot;Airport30&quot;</td><td>&quot;Airport60&quot;</td><td>2018-10-31</td><td>2018-10-31 08:45:00</td><td>2018-10-31 10:20:00</td><td>2018-10-31 15:45:00</td><td>2018-10-31 17:20:00</td><td>95</td><td>-420</td></tr><tr><td>&quot;L1&quot;</td><td>1292</td><td>&quot;Airport30&quot;</td><td>&quot;Airport60&quot;</td><td>2018-10-31</td><td>2018-10-31 16:53:00</td><td>2018-10-31 18:32:00</td><td>2018-10-31 23:53:00</td><td>2018-11-01 01:32:00</td><td>99</td><td>-420</td></tr></tbody></table></div>"
      ],
      "text/plain": [
       "shape: (63_584, 11)\n",
       "┌─────────┬─────────┬───────────┬─────────────┬───┬──────────────┬──────────────┬─────────┬────────┐\n",
       "│ carrier ┆ flt_num ┆ origin    ┆ destination ┆ … ┆ flt_departur ┆ flt_arrival_ ┆ dur_min ┆ tz_min │\n",
       "│ ---     ┆ ---     ┆ ---       ┆ ---         ┆   ┆ e_gmt        ┆ gmt          ┆ ---     ┆ ---    │\n",
       "│ str     ┆ i64     ┆ str       ┆ str         ┆   ┆ ---          ┆ ---          ┆ i16     ┆ i16    │\n",
       "│         ┆         ┆           ┆             ┆   ┆ datetime[ns] ┆ datetime[ns] ┆         ┆        │\n",
       "╞═════════╪═════════╪═══════════╪═════════════╪═══╪══════════════╪══════════════╪═════════╪════════╡\n",
       "│ L1      ┆ 6800    ┆ Airport26 ┆ Airport30   ┆ … ┆ 2018-02-02   ┆ 2018-02-02   ┆ 86      ┆ -360   │\n",
       "│         ┆         ┆           ┆             ┆   ┆ 00:43:00     ┆ 04:09:00     ┆         ┆        │\n",
       "│ OTH     ┆ 783     ┆ Airport26 ┆ Airport30   ┆ … ┆ 2018-02-02   ┆ 2018-02-02   ┆ 80      ┆ -360   │\n",
       "│         ┆         ┆           ┆             ┆   ┆ 01:45:00     ┆ 05:05:00     ┆         ┆        │\n",
       "│ L1      ┆ 799     ┆ Airport26 ┆ Airport30   ┆ … ┆ 2018-02-01   ┆ 2018-02-01   ┆ 86      ┆ -360   │\n",
       "│         ┆         ┆           ┆             ┆   ┆ 18:00:00     ┆ 21:26:00     ┆         ┆        │\n",
       "│ L1      ┆ 7760    ┆ Airport26 ┆ Airport30   ┆ … ┆ 2018-02-01   ┆ 2018-02-01   ┆ 87      ┆ -360   │\n",
       "│         ┆         ┆           ┆             ┆   ┆ 13:35:00     ┆ 17:02:00     ┆         ┆        │\n",
       "│ L1      ┆ 3443    ┆ Airport26 ┆ Airport30   ┆ … ┆ 2018-02-01   ┆ 2018-02-01   ┆ 86      ┆ -360   │\n",
       "│         ┆         ┆           ┆             ┆   ┆ 15:48:00     ┆ 19:14:00     ┆         ┆        │\n",
       "│ …       ┆ …       ┆ …         ┆ …           ┆ … ┆ …            ┆ …            ┆ …       ┆ …      │\n",
       "│ L1      ┆ 5675    ┆ Airport30 ┆ Airport60   ┆ … ┆ 2018-10-31   ┆ 2018-10-31   ┆ 96      ┆ -420   │\n",
       "│         ┆         ┆           ┆             ┆   ┆ 20:17:00     ┆ 21:53:00     ┆         ┆        │\n",
       "│ U1      ┆ 6115    ┆ Airport30 ┆ Airport60   ┆ … ┆ 2018-10-31   ┆ 2018-10-31   ┆ 94      ┆ -420   │\n",
       "│         ┆         ┆           ┆             ┆   ┆ 13:50:00     ┆ 15:24:00     ┆         ┆        │\n",
       "│ U1      ┆ 6184    ┆ Airport30 ┆ Airport60   ┆ … ┆ 2018-11-01   ┆ 2018-11-01   ┆ 102     ┆ -420   │\n",
       "│         ┆         ┆           ┆             ┆   ┆ 03:20:00     ┆ 05:02:00     ┆         ┆        │\n",
       "│ OTH     ┆ 7010    ┆ Airport30 ┆ Airport60   ┆ … ┆ 2018-10-31   ┆ 2018-10-31   ┆ 95      ┆ -420   │\n",
       "│         ┆         ┆           ┆             ┆   ┆ 15:45:00     ┆ 17:20:00     ┆         ┆        │\n",
       "│ L1      ┆ 1292    ┆ Airport30 ┆ Airport60   ┆ … ┆ 2018-10-31   ┆ 2018-11-01   ┆ 99      ┆ -420   │\n",
       "│         ┆         ┆           ┆             ┆   ┆ 23:53:00     ┆ 01:32:00     ┆         ┆        │\n",
       "└─────────┴─────────┴───────────┴─────────────┴───┴──────────────┴──────────────┴─────────┴────────┘"
      ]
     },
     "execution_count": 18,
     "metadata": {},
     "output_type": "execute_result"
    }
   ],
   "source": [
    "train_sch_df = train_sch_df.with_columns(\n",
    "    (\n",
    "        pl.col('flt_arrival_local_time') - pl.col('flt_departure_local_time')\n",
    "    ).dt.total_minutes().cast(pl.Int16()).alias(\"dur_min\")\n",
    ")\n",
    "train_sch_df = train_sch_df.with_columns(\n",
    "    (\n",
    "        pl.col('flt_departure_local_time') - pl.col('flt_departure_gmt')\n",
    "    ).dt.total_minutes().cast(pl.Int16()).alias(\"tz_min\")\n",
    ")\n",
    "train_sch_df"
   ]
  },
  {
   "cell_type": "code",
   "execution_count": 19,
   "metadata": {},
   "outputs": [
    {
     "data": {
      "text/html": [
       "<div><style>\n",
       ".dataframe > thead > tr,\n",
       ".dataframe > tbody > tr {\n",
       "  text-align: right;\n",
       "  white-space: pre-wrap;\n",
       "}\n",
       "</style>\n",
       "<small>shape: (5, 3)</small><table border=\"1\" class=\"dataframe\"><thead><tr><th>tz_min</th><th>tz_start</th><th>tz_end</th></tr><tr><td>i16</td><td>datetime[ns]</td><td>datetime[ns]</td></tr></thead><tbody><tr><td>-480</td><td>2018-01-01 01:00:00</td><td>2018-12-31 22:52:00</td></tr><tr><td>-420</td><td>2018-01-01 07:15:00</td><td>2018-12-31 17:10:00</td></tr><tr><td>-360</td><td>2018-01-01 06:00:00</td><td>2018-12-31 18:49:00</td></tr><tr><td>-300</td><td>2018-01-01 05:15:00</td><td>2018-12-31 19:10:00</td></tr><tr><td>-240</td><td>2018-03-11 06:00:00</td><td>2018-11-03 20:17:00</td></tr></tbody></table></div>"
      ],
      "text/plain": [
       "shape: (5, 3)\n",
       "┌────────┬─────────────────────┬─────────────────────┐\n",
       "│ tz_min ┆ tz_start            ┆ tz_end              │\n",
       "│ ---    ┆ ---                 ┆ ---                 │\n",
       "│ i16    ┆ datetime[ns]        ┆ datetime[ns]        │\n",
       "╞════════╪═════════════════════╪═════════════════════╡\n",
       "│ -480   ┆ 2018-01-01 01:00:00 ┆ 2018-12-31 22:52:00 │\n",
       "│ -420   ┆ 2018-01-01 07:15:00 ┆ 2018-12-31 17:10:00 │\n",
       "│ -360   ┆ 2018-01-01 06:00:00 ┆ 2018-12-31 18:49:00 │\n",
       "│ -300   ┆ 2018-01-01 05:15:00 ┆ 2018-12-31 19:10:00 │\n",
       "│ -240   ┆ 2018-03-11 06:00:00 ┆ 2018-11-03 20:17:00 │\n",
       "└────────┴─────────────────────┴─────────────────────┘"
      ]
     },
     "execution_count": 19,
     "metadata": {},
     "output_type": "execute_result"
    }
   ],
   "source": [
    "train_sch_df.group_by('tz_min').agg(\n",
    "    pl.col('flt_departure_local_time').min().alias('tz_start'), \n",
    "    pl.col('flt_departure_local_time').max().alias('tz_end')\n",
    ").sort('tz_min')"
   ]
  },
  {
   "cell_type": "code",
   "execution_count": 20,
   "metadata": {},
   "outputs": [
    {
     "data": {
      "text/html": [
       "<div><style>\n",
       ".dataframe > thead > tr,\n",
       ".dataframe > tbody > tr {\n",
       "  text-align: right;\n",
       "  white-space: pre-wrap;\n",
       "}\n",
       "</style>\n",
       "<small>shape: (1_234, 11)</small><table border=\"1\" class=\"dataframe\"><thead><tr><th>carrier</th><th>flt_num</th><th>origin</th><th>destination</th><th>flt_departure_dt</th><th>flt_departure_local_time</th><th>flt_arrival_local_time</th><th>flt_departure_gmt</th><th>flt_arrival_gmt</th><th>dur_min</th><th>tz_min</th></tr><tr><td>str</td><td>i64</td><td>str</td><td>str</td><td>date</td><td>datetime[ns]</td><td>datetime[ns]</td><td>datetime[ns]</td><td>datetime[ns]</td><td>i16</td><td>i16</td></tr></thead><tbody><tr><td>&quot;L1&quot;</td><td>3437</td><td>&quot;Airport26&quot;</td><td>&quot;Airport30&quot;</td><td>2019-01-01</td><td>2019-01-01 18:28:00</td><td>2019-01-01 19:49:00</td><td>2019-01-02 00:28:00</td><td>2019-01-02 03:49:00</td><td>81</td><td>-360</td></tr><tr><td>&quot;L1&quot;</td><td>7760</td><td>&quot;Airport26&quot;</td><td>&quot;Airport30&quot;</td><td>2019-01-01</td><td>2019-01-01 07:50:00</td><td>2019-01-01 09:12:00</td><td>2019-01-01 13:50:00</td><td>2019-01-01 17:12:00</td><td>82</td><td>-360</td></tr><tr><td>&quot;L1&quot;</td><td>1609</td><td>&quot;Airport26&quot;</td><td>&quot;Airport30&quot;</td><td>2019-01-01</td><td>2019-01-01 11:55:00</td><td>2019-01-01 13:19:00</td><td>2019-01-01 17:55:00</td><td>2019-01-01 21:19:00</td><td>84</td><td>-360</td></tr><tr><td>&quot;L1&quot;</td><td>1487</td><td>&quot;Airport26&quot;</td><td>&quot;Airport30&quot;</td><td>2019-01-01</td><td>2019-01-01 14:20:00</td><td>2019-01-01 15:41:00</td><td>2019-01-01 20:20:00</td><td>2019-01-01 23:41:00</td><td>81</td><td>-360</td></tr><tr><td>&quot;L1&quot;</td><td>5701</td><td>&quot;Airport26&quot;</td><td>&quot;Airport30&quot;</td><td>2019-01-01</td><td>2019-01-01 22:05:00</td><td>2019-01-01 23:26:00</td><td>2019-01-02 04:05:00</td><td>2019-01-02 07:26:00</td><td>81</td><td>-360</td></tr><tr><td>&hellip;</td><td>&hellip;</td><td>&hellip;</td><td>&hellip;</td><td>&hellip;</td><td>&hellip;</td><td>&hellip;</td><td>&hellip;</td><td>&hellip;</td><td>&hellip;</td><td>&hellip;</td></tr><tr><td>&quot;L2&quot;</td><td>3795</td><td>&quot;Airport43&quot;</td><td>&quot;Airport4&quot;</td><td>2019-01-07</td><td>2019-01-07 17:55:00</td><td>2019-01-07 20:42:00</td><td>2019-01-07 23:55:00</td><td>2019-01-08 02:42:00</td><td>167</td><td>-360</td></tr><tr><td>&quot;L1&quot;</td><td>1763</td><td>&quot;Airport43&quot;</td><td>&quot;Airport4&quot;</td><td>2019-01-07</td><td>2019-01-07 19:49:00</td><td>2019-01-07 22:47:00</td><td>2019-01-08 01:49:00</td><td>2019-01-08 04:47:00</td><td>178</td><td>-360</td></tr><tr><td>&quot;L1&quot;</td><td>11466</td><td>&quot;Airport43&quot;</td><td>&quot;Airport4&quot;</td><td>2019-01-07</td><td>2019-01-07 07:48:00</td><td>2019-01-07 10:50:00</td><td>2019-01-07 13:48:00</td><td>2019-01-07 16:50:00</td><td>182</td><td>-360</td></tr><tr><td>&quot;L2&quot;</td><td>8018</td><td>&quot;Airport43&quot;</td><td>&quot;Airport4&quot;</td><td>2019-01-07</td><td>2019-01-07 09:56:00</td><td>2019-01-07 12:47:00</td><td>2019-01-07 15:56:00</td><td>2019-01-07 18:47:00</td><td>171</td><td>-360</td></tr><tr><td>&quot;L1&quot;</td><td>5823</td><td>&quot;Airport43&quot;</td><td>&quot;Airport4&quot;</td><td>2019-01-07</td><td>2019-01-07 15:55:00</td><td>2019-01-07 18:51:00</td><td>2019-01-07 21:55:00</td><td>2019-01-08 00:51:00</td><td>176</td><td>-360</td></tr></tbody></table></div>"
      ],
      "text/plain": [
       "shape: (1_234, 11)\n",
       "┌─────────┬─────────┬───────────┬─────────────┬───┬──────────────┬──────────────┬─────────┬────────┐\n",
       "│ carrier ┆ flt_num ┆ origin    ┆ destination ┆ … ┆ flt_departur ┆ flt_arrival_ ┆ dur_min ┆ tz_min │\n",
       "│ ---     ┆ ---     ┆ ---       ┆ ---         ┆   ┆ e_gmt        ┆ gmt          ┆ ---     ┆ ---    │\n",
       "│ str     ┆ i64     ┆ str       ┆ str         ┆   ┆ ---          ┆ ---          ┆ i16     ┆ i16    │\n",
       "│         ┆         ┆           ┆             ┆   ┆ datetime[ns] ┆ datetime[ns] ┆         ┆        │\n",
       "╞═════════╪═════════╪═══════════╪═════════════╪═══╪══════════════╪══════════════╪═════════╪════════╡\n",
       "│ L1      ┆ 3437    ┆ Airport26 ┆ Airport30   ┆ … ┆ 2019-01-02   ┆ 2019-01-02   ┆ 81      ┆ -360   │\n",
       "│         ┆         ┆           ┆             ┆   ┆ 00:28:00     ┆ 03:49:00     ┆         ┆        │\n",
       "│ L1      ┆ 7760    ┆ Airport26 ┆ Airport30   ┆ … ┆ 2019-01-01   ┆ 2019-01-01   ┆ 82      ┆ -360   │\n",
       "│         ┆         ┆           ┆             ┆   ┆ 13:50:00     ┆ 17:12:00     ┆         ┆        │\n",
       "│ L1      ┆ 1609    ┆ Airport26 ┆ Airport30   ┆ … ┆ 2019-01-01   ┆ 2019-01-01   ┆ 84      ┆ -360   │\n",
       "│         ┆         ┆           ┆             ┆   ┆ 17:55:00     ┆ 21:19:00     ┆         ┆        │\n",
       "│ L1      ┆ 1487    ┆ Airport26 ┆ Airport30   ┆ … ┆ 2019-01-01   ┆ 2019-01-01   ┆ 81      ┆ -360   │\n",
       "│         ┆         ┆           ┆             ┆   ┆ 20:20:00     ┆ 23:41:00     ┆         ┆        │\n",
       "│ L1      ┆ 5701    ┆ Airport26 ┆ Airport30   ┆ … ┆ 2019-01-02   ┆ 2019-01-02   ┆ 81      ┆ -360   │\n",
       "│         ┆         ┆           ┆             ┆   ┆ 04:05:00     ┆ 07:26:00     ┆         ┆        │\n",
       "│ …       ┆ …       ┆ …         ┆ …           ┆ … ┆ …            ┆ …            ┆ …       ┆ …      │\n",
       "│ L2      ┆ 3795    ┆ Airport43 ┆ Airport4    ┆ … ┆ 2019-01-07   ┆ 2019-01-08   ┆ 167     ┆ -360   │\n",
       "│         ┆         ┆           ┆             ┆   ┆ 23:55:00     ┆ 02:42:00     ┆         ┆        │\n",
       "│ L1      ┆ 1763    ┆ Airport43 ┆ Airport4    ┆ … ┆ 2019-01-08   ┆ 2019-01-08   ┆ 178     ┆ -360   │\n",
       "│         ┆         ┆           ┆             ┆   ┆ 01:49:00     ┆ 04:47:00     ┆         ┆        │\n",
       "│ L1      ┆ 11466   ┆ Airport43 ┆ Airport4    ┆ … ┆ 2019-01-07   ┆ 2019-01-07   ┆ 182     ┆ -360   │\n",
       "│         ┆         ┆           ┆             ┆   ┆ 13:48:00     ┆ 16:50:00     ┆         ┆        │\n",
       "│ L2      ┆ 8018    ┆ Airport43 ┆ Airport4    ┆ … ┆ 2019-01-07   ┆ 2019-01-07   ┆ 171     ┆ -360   │\n",
       "│         ┆         ┆           ┆             ┆   ┆ 15:56:00     ┆ 18:47:00     ┆         ┆        │\n",
       "│ L1      ┆ 5823    ┆ Airport43 ┆ Airport4    ┆ … ┆ 2019-01-07   ┆ 2019-01-08   ┆ 176     ┆ -360   │\n",
       "│         ┆         ┆           ┆             ┆   ┆ 21:55:00     ┆ 00:51:00     ┆         ┆        │\n",
       "└─────────┴─────────┴───────────┴─────────────┴───┴──────────────┴──────────────┴─────────┴────────┘"
      ]
     },
     "execution_count": 20,
     "metadata": {},
     "output_type": "execute_result"
    }
   ],
   "source": [
    "test_sch_df = test_sch_df.with_columns(\n",
    "    (\n",
    "        pl.col('flt_arrival_local_time') - pl.col('flt_departure_local_time')\n",
    "    ).dt.total_minutes().cast(pl.Int16()).alias(\"dur_min\")\n",
    ")\n",
    "test_sch_df = test_sch_df.with_columns(\n",
    "    (\n",
    "        pl.col('flt_departure_local_time') - pl.col('flt_departure_gmt')\n",
    "    ).dt.total_minutes().cast(pl.Int16()).alias(\"tz_min\")\n",
    ")\n",
    "test_sch_df"
   ]
  },
  {
   "cell_type": "code",
   "execution_count": 21,
   "metadata": {},
   "outputs": [
    {
     "data": {
      "text/html": [
       "<div><style>\n",
       ".dataframe > thead > tr,\n",
       ".dataframe > tbody > tr {\n",
       "  text-align: right;\n",
       "  white-space: pre-wrap;\n",
       "}\n",
       "</style>\n",
       "<small>shape: (4, 3)</small><table border=\"1\" class=\"dataframe\"><thead><tr><th>tz_min</th><th>tz_start</th><th>tz_end</th></tr><tr><td>i16</td><td>datetime[ns]</td><td>datetime[ns]</td></tr></thead><tbody><tr><td>-480</td><td>2019-01-01 01:00:00</td><td>2019-01-07 23:00:00</td></tr><tr><td>-420</td><td>2019-01-01 05:40:00</td><td>2019-01-07 20:50:00</td></tr><tr><td>-360</td><td>2019-01-01 05:35:00</td><td>2019-01-07 22:15:00</td></tr><tr><td>-300</td><td>2019-01-01 06:30:00</td><td>2019-01-07 19:30:00</td></tr></tbody></table></div>"
      ],
      "text/plain": [
       "shape: (4, 3)\n",
       "┌────────┬─────────────────────┬─────────────────────┐\n",
       "│ tz_min ┆ tz_start            ┆ tz_end              │\n",
       "│ ---    ┆ ---                 ┆ ---                 │\n",
       "│ i16    ┆ datetime[ns]        ┆ datetime[ns]        │\n",
       "╞════════╪═════════════════════╪═════════════════════╡\n",
       "│ -480   ┆ 2019-01-01 01:00:00 ┆ 2019-01-07 23:00:00 │\n",
       "│ -420   ┆ 2019-01-01 05:40:00 ┆ 2019-01-07 20:50:00 │\n",
       "│ -360   ┆ 2019-01-01 05:35:00 ┆ 2019-01-07 22:15:00 │\n",
       "│ -300   ┆ 2019-01-01 06:30:00 ┆ 2019-01-07 19:30:00 │\n",
       "└────────┴─────────────────────┴─────────────────────┘"
      ]
     },
     "execution_count": 21,
     "metadata": {},
     "output_type": "execute_result"
    }
   ],
   "source": [
    "test_sch_df.group_by('tz_min').agg(\n",
    "    pl.col('flt_departure_local_time').min().alias('tz_start'), \n",
    "    pl.col('flt_departure_local_time').max().alias('tz_end')\n",
    ").sort('tz_min')"
   ]
  },
  {
   "cell_type": "markdown",
   "metadata": {},
   "source": [
    "#### Whether flight is during DST"
   ]
  },
  {
   "cell_type": "code",
   "execution_count": 22,
   "metadata": {},
   "outputs": [
    {
     "data": {
      "text/html": [
       "<div><style>\n",
       ".dataframe > thead > tr,\n",
       ".dataframe > tbody > tr {\n",
       "  text-align: right;\n",
       "  white-space: pre-wrap;\n",
       "}\n",
       "</style>\n",
       "<small>shape: (1_697_443, 11)</small><table border=\"1\" class=\"dataframe\"><thead><tr><th>origin</th><th>destination</th><th>carrier</th><th>flt_num</th><th>flt_departure_dt</th><th>observation_date</th><th>total_fare</th><th>origin_city</th><th>destination_city</th><th>days_till_flight</th><th>is_dst</th></tr><tr><td>str</td><td>str</td><td>str</td><td>i64</td><td>date</td><td>date</td><td>i64</td><td>str</td><td>str</td><td>i16</td><td>i8</td></tr></thead><tbody><tr><td>&quot;Airport4&quot;</td><td>&quot;Airport43&quot;</td><td>&quot;L2&quot;</td><td>8018</td><td>2018-11-10</td><td>2018-11-02</td><td>1192</td><td>&quot;City4&quot;</td><td>&quot;City39&quot;</td><td>8</td><td>0</td></tr><tr><td>&quot;Airport31&quot;</td><td>&quot;Airport30&quot;</td><td>&quot;L2&quot;</td><td>5314</td><td>2018-01-15</td><td>2017-12-15</td><td>281</td><td>&quot;City28&quot;</td><td>&quot;City27&quot;</td><td>31</td><td>0</td></tr><tr><td>&quot;Airport4&quot;</td><td>&quot;Airport43&quot;</td><td>&quot;L2&quot;</td><td>7852</td><td>2018-01-18</td><td>2018-01-01</td><td>557</td><td>&quot;City4&quot;</td><td>&quot;City39&quot;</td><td>17</td><td>0</td></tr><tr><td>&quot;Airport30&quot;</td><td>&quot;Airport26&quot;</td><td>&quot;L1&quot;</td><td>6294</td><td>2018-09-29</td><td>2018-09-25</td><td>2021</td><td>&quot;City27&quot;</td><td>&quot;City24&quot;</td><td>4</td><td>1</td></tr><tr><td>&quot;Airport30&quot;</td><td>&quot;Airport31&quot;</td><td>&quot;L3&quot;</td><td>18273</td><td>2018-03-28</td><td>2018-03-02</td><td>298</td><td>&quot;City27&quot;</td><td>&quot;City28&quot;</td><td>26</td><td>1</td></tr><tr><td>&hellip;</td><td>&hellip;</td><td>&hellip;</td><td>&hellip;</td><td>&hellip;</td><td>&hellip;</td><td>&hellip;</td><td>&hellip;</td><td>&hellip;</td><td>&hellip;</td><td>&hellip;</td></tr><tr><td>&quot;Airport30&quot;</td><td>&quot;Airport60&quot;</td><td>&quot;OTH&quot;</td><td>6178</td><td>2018-03-11</td><td>2018-03-09</td><td>1879</td><td>&quot;City27&quot;</td><td>&quot;City56&quot;</td><td>2</td><td>1</td></tr><tr><td>&quot;Airport30&quot;</td><td>&quot;Airport31&quot;</td><td>&quot;L3&quot;</td><td>18349</td><td>2018-03-28</td><td>2018-02-23</td><td>281</td><td>&quot;City27&quot;</td><td>&quot;City28&quot;</td><td>33</td><td>1</td></tr><tr><td>&quot;Airport4&quot;</td><td>&quot;Airport43&quot;</td><td>&quot;L1&quot;</td><td>1528</td><td>2018-03-08</td><td>2018-02-24</td><td>896</td><td>&quot;City4&quot;</td><td>&quot;City39&quot;</td><td>12</td><td>0</td></tr><tr><td>&quot;Airport4&quot;</td><td>&quot;Airport43&quot;</td><td>&quot;L2&quot;</td><td>8018</td><td>2018-10-18</td><td>2018-09-17</td><td>614</td><td>&quot;City4&quot;</td><td>&quot;City39&quot;</td><td>31</td><td>1</td></tr><tr><td>&quot;Airport30&quot;</td><td>&quot;Airport31&quot;</td><td>&quot;U1&quot;</td><td>4771</td><td>2018-02-27</td><td>2018-02-10</td><td>294</td><td>&quot;City27&quot;</td><td>&quot;City28&quot;</td><td>17</td><td>0</td></tr></tbody></table></div>"
      ],
      "text/plain": [
       "shape: (1_697_443, 11)\n",
       "┌───────────┬─────────────┬─────────┬─────────┬───┬─────────────┬────────────┬────────────┬────────┐\n",
       "│ origin    ┆ destination ┆ carrier ┆ flt_num ┆ … ┆ origin_city ┆ destinatio ┆ days_till_ ┆ is_dst │\n",
       "│ ---       ┆ ---         ┆ ---     ┆ ---     ┆   ┆ ---         ┆ n_city     ┆ flight     ┆ ---    │\n",
       "│ str       ┆ str         ┆ str     ┆ i64     ┆   ┆ str         ┆ ---        ┆ ---        ┆ i8     │\n",
       "│           ┆             ┆         ┆         ┆   ┆             ┆ str        ┆ i16        ┆        │\n",
       "╞═══════════╪═════════════╪═════════╪═════════╪═══╪═════════════╪════════════╪════════════╪════════╡\n",
       "│ Airport4  ┆ Airport43   ┆ L2      ┆ 8018    ┆ … ┆ City4       ┆ City39     ┆ 8          ┆ 0      │\n",
       "│ Airport31 ┆ Airport30   ┆ L2      ┆ 5314    ┆ … ┆ City28      ┆ City27     ┆ 31         ┆ 0      │\n",
       "│ Airport4  ┆ Airport43   ┆ L2      ┆ 7852    ┆ … ┆ City4       ┆ City39     ┆ 17         ┆ 0      │\n",
       "│ Airport30 ┆ Airport26   ┆ L1      ┆ 6294    ┆ … ┆ City27      ┆ City24     ┆ 4          ┆ 1      │\n",
       "│ Airport30 ┆ Airport31   ┆ L3      ┆ 18273   ┆ … ┆ City27      ┆ City28     ┆ 26         ┆ 1      │\n",
       "│ …         ┆ …           ┆ …       ┆ …       ┆ … ┆ …           ┆ …          ┆ …          ┆ …      │\n",
       "│ Airport30 ┆ Airport60   ┆ OTH     ┆ 6178    ┆ … ┆ City27      ┆ City56     ┆ 2          ┆ 1      │\n",
       "│ Airport30 ┆ Airport31   ┆ L3      ┆ 18349   ┆ … ┆ City27      ┆ City28     ┆ 33         ┆ 1      │\n",
       "│ Airport4  ┆ Airport43   ┆ L1      ┆ 1528    ┆ … ┆ City4       ┆ City39     ┆ 12         ┆ 0      │\n",
       "│ Airport4  ┆ Airport43   ┆ L2      ┆ 8018    ┆ … ┆ City4       ┆ City39     ┆ 31         ┆ 1      │\n",
       "│ Airport30 ┆ Airport31   ┆ U1      ┆ 4771    ┆ … ┆ City27      ┆ City28     ┆ 17         ┆ 0      │\n",
       "└───────────┴─────────────┴─────────┴─────────┴───┴─────────────┴────────────┴────────────┴────────┘"
      ]
     },
     "execution_count": 22,
     "metadata": {},
     "output_type": "execute_result"
    }
   ],
   "source": [
    "train_fares_df = train_fares_df.with_columns(\n",
    "    pl.when(\n",
    "        (pl.col('flt_departure_dt') >= pl.date(2018, 3, 11)) &\n",
    "        (pl.col('flt_departure_dt') <= pl.date(2018, 11, 3))\n",
    "    ).then(1).otherwise(0).cast(pl.Int8()).alias('is_dst')\n",
    ")\n",
    "train_fares_df"
   ]
  },
  {
   "cell_type": "code",
   "execution_count": 23,
   "metadata": {},
   "outputs": [
    {
     "data": {
      "text/html": [
       "<div><style>\n",
       ".dataframe > thead > tr,\n",
       ".dataframe > tbody > tr {\n",
       "  text-align: right;\n",
       "  white-space: pre-wrap;\n",
       "}\n",
       "</style>\n",
       "<small>shape: (29_825, 10)</small><table border=\"1\" class=\"dataframe\"><thead><tr><th>origin</th><th>destination</th><th>carrier</th><th>flt_num</th><th>flt_departure_dt</th><th>observation_date</th><th>origin_city</th><th>destination_city</th><th>days_till_flight</th><th>is_dst</th></tr><tr><td>str</td><td>str</td><td>str</td><td>i64</td><td>date</td><td>date</td><td>str</td><td>str</td><td>i16</td><td>i8</td></tr></thead><tbody><tr><td>&quot;Airport4&quot;</td><td>&quot;Airport43&quot;</td><td>&quot;L2&quot;</td><td>7465</td><td>2019-01-01</td><td>2018-11-27</td><td>&quot;City4&quot;</td><td>&quot;City39&quot;</td><td>35</td><td>0</td></tr><tr><td>&quot;Airport4&quot;</td><td>&quot;Airport43&quot;</td><td>&quot;L2&quot;</td><td>7067</td><td>2019-01-01</td><td>2018-11-27</td><td>&quot;City4&quot;</td><td>&quot;City39&quot;</td><td>35</td><td>0</td></tr><tr><td>&quot;Airport4&quot;</td><td>&quot;Airport43&quot;</td><td>&quot;L2&quot;</td><td>1232</td><td>2019-01-01</td><td>2018-11-27</td><td>&quot;City4&quot;</td><td>&quot;City39&quot;</td><td>35</td><td>0</td></tr><tr><td>&quot;Airport43&quot;</td><td>&quot;Airport4&quot;</td><td>&quot;L1&quot;</td><td>17783</td><td>2019-01-03</td><td>2018-11-29</td><td>&quot;City39&quot;</td><td>&quot;City4&quot;</td><td>35</td><td>0</td></tr><tr><td>&quot;Airport43&quot;</td><td>&quot;Airport4&quot;</td><td>&quot;L1&quot;</td><td>5823</td><td>2019-01-03</td><td>2018-11-29</td><td>&quot;City39&quot;</td><td>&quot;City4&quot;</td><td>35</td><td>0</td></tr><tr><td>&hellip;</td><td>&hellip;</td><td>&hellip;</td><td>&hellip;</td><td>&hellip;</td><td>&hellip;</td><td>&hellip;</td><td>&hellip;</td><td>&hellip;</td><td>&hellip;</td></tr><tr><td>&quot;Airport4&quot;</td><td>&quot;Airport43&quot;</td><td>&quot;L2&quot;</td><td>7067</td><td>2019-01-06</td><td>2018-12-31</td><td>&quot;City4&quot;</td><td>&quot;City39&quot;</td><td>6</td><td>0</td></tr><tr><td>&quot;Airport4&quot;</td><td>&quot;Airport43&quot;</td><td>&quot;L2&quot;</td><td>1232</td><td>2019-01-06</td><td>2018-12-31</td><td>&quot;City4&quot;</td><td>&quot;City39&quot;</td><td>6</td><td>0</td></tr><tr><td>&quot;Airport17&quot;</td><td>&quot;Airport4&quot;</td><td>&quot;L1&quot;</td><td>1484</td><td>2019-01-07</td><td>2018-12-31</td><td>&quot;City17&quot;</td><td>&quot;City4&quot;</td><td>7</td><td>0</td></tr><tr><td>&quot;Airport17&quot;</td><td>&quot;Airport4&quot;</td><td>&quot;L1&quot;</td><td>18471</td><td>2019-01-07</td><td>2018-12-31</td><td>&quot;City17&quot;</td><td>&quot;City4&quot;</td><td>7</td><td>0</td></tr><tr><td>&quot;Airport17&quot;</td><td>&quot;Airport4&quot;</td><td>&quot;L1&quot;</td><td>1487</td><td>2019-01-07</td><td>2018-12-31</td><td>&quot;City17&quot;</td><td>&quot;City4&quot;</td><td>7</td><td>0</td></tr></tbody></table></div>"
      ],
      "text/plain": [
       "shape: (29_825, 10)\n",
       "┌───────────┬─────────────┬─────────┬─────────┬───┬─────────────┬────────────┬────────────┬────────┐\n",
       "│ origin    ┆ destination ┆ carrier ┆ flt_num ┆ … ┆ origin_city ┆ destinatio ┆ days_till_ ┆ is_dst │\n",
       "│ ---       ┆ ---         ┆ ---     ┆ ---     ┆   ┆ ---         ┆ n_city     ┆ flight     ┆ ---    │\n",
       "│ str       ┆ str         ┆ str     ┆ i64     ┆   ┆ str         ┆ ---        ┆ ---        ┆ i8     │\n",
       "│           ┆             ┆         ┆         ┆   ┆             ┆ str        ┆ i16        ┆        │\n",
       "╞═══════════╪═════════════╪═════════╪═════════╪═══╪═════════════╪════════════╪════════════╪════════╡\n",
       "│ Airport4  ┆ Airport43   ┆ L2      ┆ 7465    ┆ … ┆ City4       ┆ City39     ┆ 35         ┆ 0      │\n",
       "│ Airport4  ┆ Airport43   ┆ L2      ┆ 7067    ┆ … ┆ City4       ┆ City39     ┆ 35         ┆ 0      │\n",
       "│ Airport4  ┆ Airport43   ┆ L2      ┆ 1232    ┆ … ┆ City4       ┆ City39     ┆ 35         ┆ 0      │\n",
       "│ Airport43 ┆ Airport4    ┆ L1      ┆ 17783   ┆ … ┆ City39      ┆ City4      ┆ 35         ┆ 0      │\n",
       "│ Airport43 ┆ Airport4    ┆ L1      ┆ 5823    ┆ … ┆ City39      ┆ City4      ┆ 35         ┆ 0      │\n",
       "│ …         ┆ …           ┆ …       ┆ …       ┆ … ┆ …           ┆ …          ┆ …          ┆ …      │\n",
       "│ Airport4  ┆ Airport43   ┆ L2      ┆ 7067    ┆ … ┆ City4       ┆ City39     ┆ 6          ┆ 0      │\n",
       "│ Airport4  ┆ Airport43   ┆ L2      ┆ 1232    ┆ … ┆ City4       ┆ City39     ┆ 6          ┆ 0      │\n",
       "│ Airport17 ┆ Airport4    ┆ L1      ┆ 1484    ┆ … ┆ City17      ┆ City4      ┆ 7          ┆ 0      │\n",
       "│ Airport17 ┆ Airport4    ┆ L1      ┆ 18471   ┆ … ┆ City17      ┆ City4      ┆ 7          ┆ 0      │\n",
       "│ Airport17 ┆ Airport4    ┆ L1      ┆ 1487    ┆ … ┆ City17      ┆ City4      ┆ 7          ┆ 0      │\n",
       "└───────────┴─────────────┴─────────┴─────────┴───┴─────────────┴────────────┴────────────┴────────┘"
      ]
     },
     "execution_count": 23,
     "metadata": {},
     "output_type": "execute_result"
    }
   ],
   "source": [
    "test_fares_df = test_fares_df.with_columns(\n",
    "    pl.when(\n",
    "        (pl.col('flt_departure_dt') >= pl.date(2018, 3, 11)) &\n",
    "        (pl.col('flt_departure_dt') <= pl.date(2018, 11, 3))\n",
    "    ).then(1).otherwise(0).cast(pl.Int8()).alias('is_dst')\n",
    ")\n",
    "test_fares_df"
   ]
  },
  {
   "cell_type": "markdown",
   "metadata": {},
   "source": [
    "#### Over midnight flights"
   ]
  },
  {
   "cell_type": "code",
   "execution_count": 24,
   "metadata": {},
   "outputs": [
    {
     "data": {
      "text/html": [
       "<div><style>\n",
       ".dataframe > thead > tr,\n",
       ".dataframe > tbody > tr {\n",
       "  text-align: right;\n",
       "  white-space: pre-wrap;\n",
       "}\n",
       "</style>\n",
       "<small>shape: (2, 2)</small><table border=\"1\" class=\"dataframe\"><thead><tr><th>over_mn</th><th>count</th></tr><tr><td>i8</td><td>u32</td></tr></thead><tbody><tr><td>1</td><td>969</td></tr><tr><td>0</td><td>62615</td></tr></tbody></table></div>"
      ],
      "text/plain": [
       "shape: (2, 2)\n",
       "┌─────────┬───────┐\n",
       "│ over_mn ┆ count │\n",
       "│ ---     ┆ ---   │\n",
       "│ i8      ┆ u32   │\n",
       "╞═════════╪═══════╡\n",
       "│ 1       ┆ 969   │\n",
       "│ 0       ┆ 62615 │\n",
       "└─────────┴───────┘"
      ]
     },
     "execution_count": 24,
     "metadata": {},
     "output_type": "execute_result"
    }
   ],
   "source": [
    "train_sch_df = train_sch_df.with_columns(\n",
    "    pl.when(\n",
    "        pl.col('flt_departure_local_time').dt.date() != pl.col('flt_arrival_local_time').dt.date()\n",
    "    ).then(1).otherwise(0).cast(pl.Int8()).alias('over_mn')\n",
    ")\n",
    "\n",
    "train_sch_df['over_mn'].value_counts()"
   ]
  },
  {
   "cell_type": "code",
   "execution_count": 25,
   "metadata": {},
   "outputs": [
    {
     "data": {
      "text/html": [
       "<div><style>\n",
       ".dataframe > thead > tr,\n",
       ".dataframe > tbody > tr {\n",
       "  text-align: right;\n",
       "  white-space: pre-wrap;\n",
       "}\n",
       "</style>\n",
       "<small>shape: (2, 2)</small><table border=\"1\" class=\"dataframe\"><thead><tr><th>over_mn</th><th>count</th></tr><tr><td>i8</td><td>u32</td></tr></thead><tbody><tr><td>0</td><td>1213</td></tr><tr><td>1</td><td>21</td></tr></tbody></table></div>"
      ],
      "text/plain": [
       "shape: (2, 2)\n",
       "┌─────────┬───────┐\n",
       "│ over_mn ┆ count │\n",
       "│ ---     ┆ ---   │\n",
       "│ i8      ┆ u32   │\n",
       "╞═════════╪═══════╡\n",
       "│ 0       ┆ 1213  │\n",
       "│ 1       ┆ 21    │\n",
       "└─────────┴───────┘"
      ]
     },
     "execution_count": 25,
     "metadata": {},
     "output_type": "execute_result"
    }
   ],
   "source": [
    "test_sch_df = test_sch_df.with_columns(\n",
    "    pl.when(\n",
    "        pl.col('flt_departure_local_time').dt.date() != pl.col('flt_arrival_local_time').dt.date()\n",
    "    ).then(1).otherwise(0).cast(pl.Int8()).alias('over_mn')\n",
    ")\n",
    "\n",
    "test_sch_df['over_mn'].value_counts()"
   ]
  },
  {
   "cell_type": "markdown",
   "metadata": {},
   "source": [
    "#### Departure window of the day"
   ]
  },
  {
   "cell_type": "code",
   "execution_count": 26,
   "metadata": {},
   "outputs": [
    {
     "data": {
      "text/html": [
       "<div><style>\n",
       ".dataframe > thead > tr,\n",
       ".dataframe > tbody > tr {\n",
       "  text-align: right;\n",
       "  white-space: pre-wrap;\n",
       "}\n",
       "</style>\n",
       "<small>shape: (63_584, 13)</small><table border=\"1\" class=\"dataframe\"><thead><tr><th>carrier</th><th>flt_num</th><th>origin</th><th>destination</th><th>flt_departure_dt</th><th>flt_departure_local_time</th><th>flt_arrival_local_time</th><th>flt_departure_gmt</th><th>flt_arrival_gmt</th><th>dur_min</th><th>tz_min</th><th>over_mn</th><th>dpt_4h_od</th></tr><tr><td>str</td><td>i64</td><td>str</td><td>str</td><td>date</td><td>datetime[ns]</td><td>datetime[ns]</td><td>datetime[ns]</td><td>datetime[ns]</td><td>i16</td><td>i16</td><td>i8</td><td>i8</td></tr></thead><tbody><tr><td>&quot;L1&quot;</td><td>6800</td><td>&quot;Airport26&quot;</td><td>&quot;Airport30&quot;</td><td>2018-02-01</td><td>2018-02-01 18:43:00</td><td>2018-02-01 20:09:00</td><td>2018-02-02 00:43:00</td><td>2018-02-02 04:09:00</td><td>86</td><td>-360</td><td>0</td><td>4</td></tr><tr><td>&quot;OTH&quot;</td><td>783</td><td>&quot;Airport26&quot;</td><td>&quot;Airport30&quot;</td><td>2018-02-01</td><td>2018-02-01 19:45:00</td><td>2018-02-01 21:05:00</td><td>2018-02-02 01:45:00</td><td>2018-02-02 05:05:00</td><td>80</td><td>-360</td><td>0</td><td>4</td></tr><tr><td>&quot;L1&quot;</td><td>799</td><td>&quot;Airport26&quot;</td><td>&quot;Airport30&quot;</td><td>2018-02-01</td><td>2018-02-01 12:00:00</td><td>2018-02-01 13:26:00</td><td>2018-02-01 18:00:00</td><td>2018-02-01 21:26:00</td><td>86</td><td>-360</td><td>0</td><td>3</td></tr><tr><td>&quot;L1&quot;</td><td>7760</td><td>&quot;Airport26&quot;</td><td>&quot;Airport30&quot;</td><td>2018-02-01</td><td>2018-02-01 07:35:00</td><td>2018-02-01 09:02:00</td><td>2018-02-01 13:35:00</td><td>2018-02-01 17:02:00</td><td>87</td><td>-360</td><td>0</td><td>1</td></tr><tr><td>&quot;L1&quot;</td><td>3443</td><td>&quot;Airport26&quot;</td><td>&quot;Airport30&quot;</td><td>2018-02-01</td><td>2018-02-01 09:48:00</td><td>2018-02-01 11:14:00</td><td>2018-02-01 15:48:00</td><td>2018-02-01 19:14:00</td><td>86</td><td>-360</td><td>0</td><td>2</td></tr><tr><td>&hellip;</td><td>&hellip;</td><td>&hellip;</td><td>&hellip;</td><td>&hellip;</td><td>&hellip;</td><td>&hellip;</td><td>&hellip;</td><td>&hellip;</td><td>&hellip;</td><td>&hellip;</td><td>&hellip;</td><td>&hellip;</td></tr><tr><td>&quot;L1&quot;</td><td>5675</td><td>&quot;Airport30&quot;</td><td>&quot;Airport60&quot;</td><td>2018-10-31</td><td>2018-10-31 13:17:00</td><td>2018-10-31 14:53:00</td><td>2018-10-31 20:17:00</td><td>2018-10-31 21:53:00</td><td>96</td><td>-420</td><td>0</td><td>3</td></tr><tr><td>&quot;U1&quot;</td><td>6115</td><td>&quot;Airport30&quot;</td><td>&quot;Airport60&quot;</td><td>2018-10-31</td><td>2018-10-31 06:50:00</td><td>2018-10-31 08:24:00</td><td>2018-10-31 13:50:00</td><td>2018-10-31 15:24:00</td><td>94</td><td>-420</td><td>0</td><td>1</td></tr><tr><td>&quot;U1&quot;</td><td>6184</td><td>&quot;Airport30&quot;</td><td>&quot;Airport60&quot;</td><td>2018-10-31</td><td>2018-10-31 20:20:00</td><td>2018-10-31 22:02:00</td><td>2018-11-01 03:20:00</td><td>2018-11-01 05:02:00</td><td>102</td><td>-420</td><td>0</td><td>5</td></tr><tr><td>&quot;OTH&quot;</td><td>7010</td><td>&quot;Airport30&quot;</td><td>&quot;Airport60&quot;</td><td>2018-10-31</td><td>2018-10-31 08:45:00</td><td>2018-10-31 10:20:00</td><td>2018-10-31 15:45:00</td><td>2018-10-31 17:20:00</td><td>95</td><td>-420</td><td>0</td><td>2</td></tr><tr><td>&quot;L1&quot;</td><td>1292</td><td>&quot;Airport30&quot;</td><td>&quot;Airport60&quot;</td><td>2018-10-31</td><td>2018-10-31 16:53:00</td><td>2018-10-31 18:32:00</td><td>2018-10-31 23:53:00</td><td>2018-11-01 01:32:00</td><td>99</td><td>-420</td><td>0</td><td>4</td></tr></tbody></table></div>"
      ],
      "text/plain": [
       "shape: (63_584, 13)\n",
       "┌─────────┬─────────┬───────────┬─────────────┬───┬─────────┬────────┬─────────┬───────────┐\n",
       "│ carrier ┆ flt_num ┆ origin    ┆ destination ┆ … ┆ dur_min ┆ tz_min ┆ over_mn ┆ dpt_4h_od │\n",
       "│ ---     ┆ ---     ┆ ---       ┆ ---         ┆   ┆ ---     ┆ ---    ┆ ---     ┆ ---       │\n",
       "│ str     ┆ i64     ┆ str       ┆ str         ┆   ┆ i16     ┆ i16    ┆ i8      ┆ i8        │\n",
       "╞═════════╪═════════╪═══════════╪═════════════╪═══╪═════════╪════════╪═════════╪═══════════╡\n",
       "│ L1      ┆ 6800    ┆ Airport26 ┆ Airport30   ┆ … ┆ 86      ┆ -360   ┆ 0       ┆ 4         │\n",
       "│ OTH     ┆ 783     ┆ Airport26 ┆ Airport30   ┆ … ┆ 80      ┆ -360   ┆ 0       ┆ 4         │\n",
       "│ L1      ┆ 799     ┆ Airport26 ┆ Airport30   ┆ … ┆ 86      ┆ -360   ┆ 0       ┆ 3         │\n",
       "│ L1      ┆ 7760    ┆ Airport26 ┆ Airport30   ┆ … ┆ 87      ┆ -360   ┆ 0       ┆ 1         │\n",
       "│ L1      ┆ 3443    ┆ Airport26 ┆ Airport30   ┆ … ┆ 86      ┆ -360   ┆ 0       ┆ 2         │\n",
       "│ …       ┆ …       ┆ …         ┆ …           ┆ … ┆ …       ┆ …      ┆ …       ┆ …         │\n",
       "│ L1      ┆ 5675    ┆ Airport30 ┆ Airport60   ┆ … ┆ 96      ┆ -420   ┆ 0       ┆ 3         │\n",
       "│ U1      ┆ 6115    ┆ Airport30 ┆ Airport60   ┆ … ┆ 94      ┆ -420   ┆ 0       ┆ 1         │\n",
       "│ U1      ┆ 6184    ┆ Airport30 ┆ Airport60   ┆ … ┆ 102     ┆ -420   ┆ 0       ┆ 5         │\n",
       "│ OTH     ┆ 7010    ┆ Airport30 ┆ Airport60   ┆ … ┆ 95      ┆ -420   ┆ 0       ┆ 2         │\n",
       "│ L1      ┆ 1292    ┆ Airport30 ┆ Airport60   ┆ … ┆ 99      ┆ -420   ┆ 0       ┆ 4         │\n",
       "└─────────┴─────────┴───────────┴─────────────┴───┴─────────┴────────┴─────────┴───────────┘"
      ]
     },
     "execution_count": 26,
     "metadata": {},
     "output_type": "execute_result"
    }
   ],
   "source": [
    "train_sch_df = train_sch_df.with_columns(\n",
    "    (pl.col('flt_departure_local_time').dt.hour() // 4).cast(pl.Int8()).alias('dpt_4h_od')\n",
    ")\n",
    "\n",
    "train_sch_df"
   ]
  },
  {
   "cell_type": "code",
   "execution_count": 27,
   "metadata": {},
   "outputs": [
    {
     "data": {
      "text/html": [
       "<div><style>\n",
       ".dataframe > thead > tr,\n",
       ".dataframe > tbody > tr {\n",
       "  text-align: right;\n",
       "  white-space: pre-wrap;\n",
       "}\n",
       "</style>\n",
       "<small>shape: (1_234, 13)</small><table border=\"1\" class=\"dataframe\"><thead><tr><th>carrier</th><th>flt_num</th><th>origin</th><th>destination</th><th>flt_departure_dt</th><th>flt_departure_local_time</th><th>flt_arrival_local_time</th><th>flt_departure_gmt</th><th>flt_arrival_gmt</th><th>dur_min</th><th>tz_min</th><th>over_mn</th><th>dpt_4h_od</th></tr><tr><td>str</td><td>i64</td><td>str</td><td>str</td><td>date</td><td>datetime[ns]</td><td>datetime[ns]</td><td>datetime[ns]</td><td>datetime[ns]</td><td>i16</td><td>i16</td><td>i8</td><td>i8</td></tr></thead><tbody><tr><td>&quot;L1&quot;</td><td>3437</td><td>&quot;Airport26&quot;</td><td>&quot;Airport30&quot;</td><td>2019-01-01</td><td>2019-01-01 18:28:00</td><td>2019-01-01 19:49:00</td><td>2019-01-02 00:28:00</td><td>2019-01-02 03:49:00</td><td>81</td><td>-360</td><td>0</td><td>4</td></tr><tr><td>&quot;L1&quot;</td><td>7760</td><td>&quot;Airport26&quot;</td><td>&quot;Airport30&quot;</td><td>2019-01-01</td><td>2019-01-01 07:50:00</td><td>2019-01-01 09:12:00</td><td>2019-01-01 13:50:00</td><td>2019-01-01 17:12:00</td><td>82</td><td>-360</td><td>0</td><td>1</td></tr><tr><td>&quot;L1&quot;</td><td>1609</td><td>&quot;Airport26&quot;</td><td>&quot;Airport30&quot;</td><td>2019-01-01</td><td>2019-01-01 11:55:00</td><td>2019-01-01 13:19:00</td><td>2019-01-01 17:55:00</td><td>2019-01-01 21:19:00</td><td>84</td><td>-360</td><td>0</td><td>2</td></tr><tr><td>&quot;L1&quot;</td><td>1487</td><td>&quot;Airport26&quot;</td><td>&quot;Airport30&quot;</td><td>2019-01-01</td><td>2019-01-01 14:20:00</td><td>2019-01-01 15:41:00</td><td>2019-01-01 20:20:00</td><td>2019-01-01 23:41:00</td><td>81</td><td>-360</td><td>0</td><td>3</td></tr><tr><td>&quot;L1&quot;</td><td>5701</td><td>&quot;Airport26&quot;</td><td>&quot;Airport30&quot;</td><td>2019-01-01</td><td>2019-01-01 22:05:00</td><td>2019-01-01 23:26:00</td><td>2019-01-02 04:05:00</td><td>2019-01-02 07:26:00</td><td>81</td><td>-360</td><td>0</td><td>5</td></tr><tr><td>&hellip;</td><td>&hellip;</td><td>&hellip;</td><td>&hellip;</td><td>&hellip;</td><td>&hellip;</td><td>&hellip;</td><td>&hellip;</td><td>&hellip;</td><td>&hellip;</td><td>&hellip;</td><td>&hellip;</td><td>&hellip;</td></tr><tr><td>&quot;L2&quot;</td><td>3795</td><td>&quot;Airport43&quot;</td><td>&quot;Airport4&quot;</td><td>2019-01-07</td><td>2019-01-07 17:55:00</td><td>2019-01-07 20:42:00</td><td>2019-01-07 23:55:00</td><td>2019-01-08 02:42:00</td><td>167</td><td>-360</td><td>0</td><td>4</td></tr><tr><td>&quot;L1&quot;</td><td>1763</td><td>&quot;Airport43&quot;</td><td>&quot;Airport4&quot;</td><td>2019-01-07</td><td>2019-01-07 19:49:00</td><td>2019-01-07 22:47:00</td><td>2019-01-08 01:49:00</td><td>2019-01-08 04:47:00</td><td>178</td><td>-360</td><td>0</td><td>4</td></tr><tr><td>&quot;L1&quot;</td><td>11466</td><td>&quot;Airport43&quot;</td><td>&quot;Airport4&quot;</td><td>2019-01-07</td><td>2019-01-07 07:48:00</td><td>2019-01-07 10:50:00</td><td>2019-01-07 13:48:00</td><td>2019-01-07 16:50:00</td><td>182</td><td>-360</td><td>0</td><td>1</td></tr><tr><td>&quot;L2&quot;</td><td>8018</td><td>&quot;Airport43&quot;</td><td>&quot;Airport4&quot;</td><td>2019-01-07</td><td>2019-01-07 09:56:00</td><td>2019-01-07 12:47:00</td><td>2019-01-07 15:56:00</td><td>2019-01-07 18:47:00</td><td>171</td><td>-360</td><td>0</td><td>2</td></tr><tr><td>&quot;L1&quot;</td><td>5823</td><td>&quot;Airport43&quot;</td><td>&quot;Airport4&quot;</td><td>2019-01-07</td><td>2019-01-07 15:55:00</td><td>2019-01-07 18:51:00</td><td>2019-01-07 21:55:00</td><td>2019-01-08 00:51:00</td><td>176</td><td>-360</td><td>0</td><td>3</td></tr></tbody></table></div>"
      ],
      "text/plain": [
       "shape: (1_234, 13)\n",
       "┌─────────┬─────────┬───────────┬─────────────┬───┬─────────┬────────┬─────────┬───────────┐\n",
       "│ carrier ┆ flt_num ┆ origin    ┆ destination ┆ … ┆ dur_min ┆ tz_min ┆ over_mn ┆ dpt_4h_od │\n",
       "│ ---     ┆ ---     ┆ ---       ┆ ---         ┆   ┆ ---     ┆ ---    ┆ ---     ┆ ---       │\n",
       "│ str     ┆ i64     ┆ str       ┆ str         ┆   ┆ i16     ┆ i16    ┆ i8      ┆ i8        │\n",
       "╞═════════╪═════════╪═══════════╪═════════════╪═══╪═════════╪════════╪═════════╪═══════════╡\n",
       "│ L1      ┆ 3437    ┆ Airport26 ┆ Airport30   ┆ … ┆ 81      ┆ -360   ┆ 0       ┆ 4         │\n",
       "│ L1      ┆ 7760    ┆ Airport26 ┆ Airport30   ┆ … ┆ 82      ┆ -360   ┆ 0       ┆ 1         │\n",
       "│ L1      ┆ 1609    ┆ Airport26 ┆ Airport30   ┆ … ┆ 84      ┆ -360   ┆ 0       ┆ 2         │\n",
       "│ L1      ┆ 1487    ┆ Airport26 ┆ Airport30   ┆ … ┆ 81      ┆ -360   ┆ 0       ┆ 3         │\n",
       "│ L1      ┆ 5701    ┆ Airport26 ┆ Airport30   ┆ … ┆ 81      ┆ -360   ┆ 0       ┆ 5         │\n",
       "│ …       ┆ …       ┆ …         ┆ …           ┆ … ┆ …       ┆ …      ┆ …       ┆ …         │\n",
       "│ L2      ┆ 3795    ┆ Airport43 ┆ Airport4    ┆ … ┆ 167     ┆ -360   ┆ 0       ┆ 4         │\n",
       "│ L1      ┆ 1763    ┆ Airport43 ┆ Airport4    ┆ … ┆ 178     ┆ -360   ┆ 0       ┆ 4         │\n",
       "│ L1      ┆ 11466   ┆ Airport43 ┆ Airport4    ┆ … ┆ 182     ┆ -360   ┆ 0       ┆ 1         │\n",
       "│ L2      ┆ 8018    ┆ Airport43 ┆ Airport4    ┆ … ┆ 171     ┆ -360   ┆ 0       ┆ 2         │\n",
       "│ L1      ┆ 5823    ┆ Airport43 ┆ Airport4    ┆ … ┆ 176     ┆ -360   ┆ 0       ┆ 3         │\n",
       "└─────────┴─────────┴───────────┴─────────────┴───┴─────────┴────────┴─────────┴───────────┘"
      ]
     },
     "execution_count": 27,
     "metadata": {},
     "output_type": "execute_result"
    }
   ],
   "source": [
    "test_sch_df = test_sch_df.with_columns(\n",
    "    (pl.col('flt_departure_local_time').dt.hour() // 4).cast(pl.Int8()).alias('dpt_4h_od')\n",
    ")\n",
    "\n",
    "test_sch_df"
   ]
  },
  {
   "cell_type": "markdown",
   "metadata": {},
   "source": [
    "### Airports and cities"
   ]
  },
  {
   "cell_type": "code",
   "execution_count": 28,
   "metadata": {},
   "outputs": [
    {
     "data": {
      "text/html": [
       "<div><style>\n",
       ".dataframe > thead > tr,\n",
       ".dataframe > tbody > tr {\n",
       "  text-align: right;\n",
       "  white-space: pre-wrap;\n",
       "}\n",
       "</style>\n",
       "<small>shape: (8, 3)</small><table border=\"1\" class=\"dataframe\"><thead><tr><th>origin_city</th><th>Unique airports train</th><th>Unique airports test</th></tr><tr><td>str</td><td>list[str]</td><td>list[str]</td></tr></thead><tbody><tr><td>&quot;City17&quot;</td><td>[&quot;Airport17&quot;]</td><td>[&quot;Airport17&quot;]</td></tr><tr><td>&quot;City19&quot;</td><td>[&quot;Airport20&quot;]</td><td>[&quot;Airport20&quot;]</td></tr><tr><td>&quot;City24&quot;</td><td>[&quot;Airport26&quot;]</td><td>[&quot;Airport26&quot;]</td></tr><tr><td>&quot;City27&quot;</td><td>[&quot;Airport30&quot;]</td><td>[&quot;Airport30&quot;]</td></tr><tr><td>&quot;City28&quot;</td><td>[&quot;Airport31&quot;]</td><td>[&quot;Airport31&quot;]</td></tr><tr><td>&quot;City39&quot;</td><td>[&quot;Airport43&quot;]</td><td>[&quot;Airport43&quot;]</td></tr><tr><td>&quot;City4&quot;</td><td>[&quot;Airport4&quot;]</td><td>[&quot;Airport4&quot;]</td></tr><tr><td>&quot;City56&quot;</td><td>[&quot;Airport60&quot;]</td><td>[&quot;Airport60&quot;]</td></tr></tbody></table></div>"
      ],
      "text/plain": [
       "shape: (8, 3)\n",
       "┌─────────────┬───────────────────────┬──────────────────────┐\n",
       "│ origin_city ┆ Unique airports train ┆ Unique airports test │\n",
       "│ ---         ┆ ---                   ┆ ---                  │\n",
       "│ str         ┆ list[str]             ┆ list[str]            │\n",
       "╞═════════════╪═══════════════════════╪══════════════════════╡\n",
       "│ City17      ┆ [\"Airport17\"]         ┆ [\"Airport17\"]        │\n",
       "│ City19      ┆ [\"Airport20\"]         ┆ [\"Airport20\"]        │\n",
       "│ City24      ┆ [\"Airport26\"]         ┆ [\"Airport26\"]        │\n",
       "│ City27      ┆ [\"Airport30\"]         ┆ [\"Airport30\"]        │\n",
       "│ City28      ┆ [\"Airport31\"]         ┆ [\"Airport31\"]        │\n",
       "│ City39      ┆ [\"Airport43\"]         ┆ [\"Airport43\"]        │\n",
       "│ City4       ┆ [\"Airport4\"]          ┆ [\"Airport4\"]         │\n",
       "│ City56      ┆ [\"Airport60\"]         ┆ [\"Airport60\"]        │\n",
       "└─────────────┴───────────────────────┴──────────────────────┘"
      ]
     },
     "execution_count": 28,
     "metadata": {},
     "output_type": "execute_result"
    }
   ],
   "source": [
    "train_fares_df.group_by('origin_city').agg(\n",
    "    pl.col('origin').unique().alias('Unique airports train')\n",
    ").sort('origin_city').join(\n",
    "    test_fares_df.group_by('origin_city').agg(\n",
    "        pl.col('origin').unique().alias('Unique airports test')\n",
    "    ).sort('origin_city'),\n",
    "    on = \"origin_city\"\n",
    ")"
   ]
  },
  {
   "cell_type": "code",
   "execution_count": 29,
   "metadata": {},
   "outputs": [
    {
     "data": {
      "text/html": [
       "<div><style>\n",
       ".dataframe > thead > tr,\n",
       ".dataframe > tbody > tr {\n",
       "  text-align: right;\n",
       "  white-space: pre-wrap;\n",
       "}\n",
       "</style>\n",
       "<small>shape: (8, 3)</small><table border=\"1\" class=\"dataframe\"><thead><tr><th>destination_city</th><th>Unique airports train</th><th>Unique airports test</th></tr><tr><td>str</td><td>list[str]</td><td>list[str]</td></tr></thead><tbody><tr><td>&quot;City17&quot;</td><td>[&quot;Airport17&quot;]</td><td>[&quot;Airport17&quot;]</td></tr><tr><td>&quot;City19&quot;</td><td>[&quot;Airport20&quot;]</td><td>[&quot;Airport20&quot;]</td></tr><tr><td>&quot;City24&quot;</td><td>[&quot;Airport26&quot;]</td><td>[&quot;Airport26&quot;]</td></tr><tr><td>&quot;City27&quot;</td><td>[&quot;Airport30&quot;]</td><td>[&quot;Airport30&quot;]</td></tr><tr><td>&quot;City28&quot;</td><td>[&quot;Airport31&quot;]</td><td>[&quot;Airport31&quot;]</td></tr><tr><td>&quot;City39&quot;</td><td>[&quot;Airport43&quot;]</td><td>[&quot;Airport43&quot;]</td></tr><tr><td>&quot;City4&quot;</td><td>[&quot;Airport4&quot;]</td><td>[&quot;Airport4&quot;]</td></tr><tr><td>&quot;City56&quot;</td><td>[&quot;Airport60&quot;]</td><td>[&quot;Airport60&quot;]</td></tr></tbody></table></div>"
      ],
      "text/plain": [
       "shape: (8, 3)\n",
       "┌──────────────────┬───────────────────────┬──────────────────────┐\n",
       "│ destination_city ┆ Unique airports train ┆ Unique airports test │\n",
       "│ ---              ┆ ---                   ┆ ---                  │\n",
       "│ str              ┆ list[str]             ┆ list[str]            │\n",
       "╞══════════════════╪═══════════════════════╪══════════════════════╡\n",
       "│ City17           ┆ [\"Airport17\"]         ┆ [\"Airport17\"]        │\n",
       "│ City19           ┆ [\"Airport20\"]         ┆ [\"Airport20\"]        │\n",
       "│ City24           ┆ [\"Airport26\"]         ┆ [\"Airport26\"]        │\n",
       "│ City27           ┆ [\"Airport30\"]         ┆ [\"Airport30\"]        │\n",
       "│ City28           ┆ [\"Airport31\"]         ┆ [\"Airport31\"]        │\n",
       "│ City39           ┆ [\"Airport43\"]         ┆ [\"Airport43\"]        │\n",
       "│ City4            ┆ [\"Airport4\"]          ┆ [\"Airport4\"]         │\n",
       "│ City56           ┆ [\"Airport60\"]         ┆ [\"Airport60\"]        │\n",
       "└──────────────────┴───────────────────────┴──────────────────────┘"
      ]
     },
     "execution_count": 29,
     "metadata": {},
     "output_type": "execute_result"
    }
   ],
   "source": [
    "train_fares_df.group_by('destination_city').agg(\n",
    "    pl.col('destination').unique().alias('Unique airports train')\n",
    ").sort('destination_city').join(\n",
    "    test_fares_df.group_by('destination_city').agg(\n",
    "        pl.col('destination').unique().alias('Unique airports test')\n",
    "    ).sort('destination_city'),\n",
    "    on = \"destination_city\"\n",
    ")"
   ]
  },
  {
   "cell_type": "code",
   "execution_count": 30,
   "metadata": {},
   "outputs": [
    {
     "name": "stdout",
     "output_type": "stream",
     "text": [
      "Same\n",
      "Same\n",
      "Same\n"
     ]
    }
   ],
   "source": [
    "for airports in [\n",
    "    set(train_fares_df['destination']),\n",
    "    set(test_fares_df['origin']),\n",
    "    set(test_fares_df['destination'])\n",
    "]:\n",
    "    if airports == set(train_fares_df['origin']):\n",
    "        print('Same')\n",
    "    else:\n",
    "        print('Different airport found')"
   ]
  },
  {
   "cell_type": "markdown",
   "metadata": {},
   "source": [
    "### Routes"
   ]
  },
  {
   "cell_type": "code",
   "execution_count": 31,
   "metadata": {},
   "outputs": [
    {
     "data": {
      "text/html": [
       "<div><style>\n",
       ".dataframe > thead > tr,\n",
       ".dataframe > tbody > tr {\n",
       "  text-align: right;\n",
       "  white-space: pre-wrap;\n",
       "}\n",
       "</style>\n",
       "<small>shape: (12, 3)</small><table border=\"1\" class=\"dataframe\"><thead><tr><th>route_id</th><th>origin</th><th>destination</th></tr><tr><td>u8</td><td>str</td><td>str</td></tr></thead><tbody><tr><td>0</td><td>&quot;Airport17&quot;</td><td>&quot;Airport4&quot;</td></tr><tr><td>1</td><td>&quot;Airport20&quot;</td><td>&quot;Airport4&quot;</td></tr><tr><td>2</td><td>&quot;Airport26&quot;</td><td>&quot;Airport30&quot;</td></tr><tr><td>3</td><td>&quot;Airport30&quot;</td><td>&quot;Airport26&quot;</td></tr><tr><td>4</td><td>&quot;Airport30&quot;</td><td>&quot;Airport31&quot;</td></tr><tr><td>&hellip;</td><td>&hellip;</td><td>&hellip;</td></tr><tr><td>7</td><td>&quot;Airport4&quot;</td><td>&quot;Airport17&quot;</td></tr><tr><td>8</td><td>&quot;Airport4&quot;</td><td>&quot;Airport20&quot;</td></tr><tr><td>9</td><td>&quot;Airport4&quot;</td><td>&quot;Airport43&quot;</td></tr><tr><td>10</td><td>&quot;Airport43&quot;</td><td>&quot;Airport4&quot;</td></tr><tr><td>11</td><td>&quot;Airport60&quot;</td><td>&quot;Airport30&quot;</td></tr></tbody></table></div>"
      ],
      "text/plain": [
       "shape: (12, 3)\n",
       "┌──────────┬───────────┬─────────────┐\n",
       "│ route_id ┆ origin    ┆ destination │\n",
       "│ ---      ┆ ---       ┆ ---         │\n",
       "│ u8       ┆ str       ┆ str         │\n",
       "╞══════════╪═══════════╪═════════════╡\n",
       "│ 0        ┆ Airport17 ┆ Airport4    │\n",
       "│ 1        ┆ Airport20 ┆ Airport4    │\n",
       "│ 2        ┆ Airport26 ┆ Airport30   │\n",
       "│ 3        ┆ Airport30 ┆ Airport26   │\n",
       "│ 4        ┆ Airport30 ┆ Airport31   │\n",
       "│ …        ┆ …         ┆ …           │\n",
       "│ 7        ┆ Airport4  ┆ Airport17   │\n",
       "│ 8        ┆ Airport4  ┆ Airport20   │\n",
       "│ 9        ┆ Airport4  ┆ Airport43   │\n",
       "│ 10       ┆ Airport43 ┆ Airport4    │\n",
       "│ 11       ┆ Airport60 ┆ Airport30   │\n",
       "└──────────┴───────────┴─────────────┘"
      ]
     },
     "execution_count": 31,
     "metadata": {},
     "output_type": "execute_result"
    }
   ],
   "source": [
    "route_mapping = train_fares_df.select(\n",
    "    pl.col(['origin', 'destination'])\n",
    ").unique().sort(\n",
    "    ['origin', 'destination']\n",
    ").with_row_index(name = \"route_id\").with_columns(\n",
    "    pl.col('route_id').cast(pl.UInt8())\n",
    ")\n",
    "\n",
    "route_mapping"
   ]
  },
  {
   "cell_type": "code",
   "execution_count": 32,
   "metadata": {},
   "outputs": [
    {
     "data": {
      "text/html": [
       "<div><style>\n",
       ".dataframe > thead > tr,\n",
       ".dataframe > tbody > tr {\n",
       "  text-align: right;\n",
       "  white-space: pre-wrap;\n",
       "}\n",
       "</style>\n",
       "<small>shape: (1_697_443, 12)</small><table border=\"1\" class=\"dataframe\"><thead><tr><th>origin</th><th>destination</th><th>carrier</th><th>flt_num</th><th>flt_departure_dt</th><th>observation_date</th><th>total_fare</th><th>origin_city</th><th>destination_city</th><th>days_till_flight</th><th>is_dst</th><th>route_id</th></tr><tr><td>str</td><td>str</td><td>str</td><td>i64</td><td>date</td><td>date</td><td>i64</td><td>str</td><td>str</td><td>i16</td><td>i8</td><td>u8</td></tr></thead><tbody><tr><td>&quot;Airport4&quot;</td><td>&quot;Airport43&quot;</td><td>&quot;L2&quot;</td><td>8018</td><td>2018-11-10</td><td>2018-11-02</td><td>1192</td><td>&quot;City4&quot;</td><td>&quot;City39&quot;</td><td>8</td><td>0</td><td>9</td></tr><tr><td>&quot;Airport31&quot;</td><td>&quot;Airport30&quot;</td><td>&quot;L2&quot;</td><td>5314</td><td>2018-01-15</td><td>2017-12-15</td><td>281</td><td>&quot;City28&quot;</td><td>&quot;City27&quot;</td><td>31</td><td>0</td><td>6</td></tr><tr><td>&quot;Airport4&quot;</td><td>&quot;Airport43&quot;</td><td>&quot;L2&quot;</td><td>7852</td><td>2018-01-18</td><td>2018-01-01</td><td>557</td><td>&quot;City4&quot;</td><td>&quot;City39&quot;</td><td>17</td><td>0</td><td>9</td></tr><tr><td>&quot;Airport30&quot;</td><td>&quot;Airport26&quot;</td><td>&quot;L1&quot;</td><td>6294</td><td>2018-09-29</td><td>2018-09-25</td><td>2021</td><td>&quot;City27&quot;</td><td>&quot;City24&quot;</td><td>4</td><td>1</td><td>3</td></tr><tr><td>&quot;Airport30&quot;</td><td>&quot;Airport31&quot;</td><td>&quot;L3&quot;</td><td>18273</td><td>2018-03-28</td><td>2018-03-02</td><td>298</td><td>&quot;City27&quot;</td><td>&quot;City28&quot;</td><td>26</td><td>1</td><td>4</td></tr><tr><td>&hellip;</td><td>&hellip;</td><td>&hellip;</td><td>&hellip;</td><td>&hellip;</td><td>&hellip;</td><td>&hellip;</td><td>&hellip;</td><td>&hellip;</td><td>&hellip;</td><td>&hellip;</td><td>&hellip;</td></tr><tr><td>&quot;Airport30&quot;</td><td>&quot;Airport60&quot;</td><td>&quot;OTH&quot;</td><td>6178</td><td>2018-03-11</td><td>2018-03-09</td><td>1879</td><td>&quot;City27&quot;</td><td>&quot;City56&quot;</td><td>2</td><td>1</td><td>5</td></tr><tr><td>&quot;Airport30&quot;</td><td>&quot;Airport31&quot;</td><td>&quot;L3&quot;</td><td>18349</td><td>2018-03-28</td><td>2018-02-23</td><td>281</td><td>&quot;City27&quot;</td><td>&quot;City28&quot;</td><td>33</td><td>1</td><td>4</td></tr><tr><td>&quot;Airport4&quot;</td><td>&quot;Airport43&quot;</td><td>&quot;L1&quot;</td><td>1528</td><td>2018-03-08</td><td>2018-02-24</td><td>896</td><td>&quot;City4&quot;</td><td>&quot;City39&quot;</td><td>12</td><td>0</td><td>9</td></tr><tr><td>&quot;Airport4&quot;</td><td>&quot;Airport43&quot;</td><td>&quot;L2&quot;</td><td>8018</td><td>2018-10-18</td><td>2018-09-17</td><td>614</td><td>&quot;City4&quot;</td><td>&quot;City39&quot;</td><td>31</td><td>1</td><td>9</td></tr><tr><td>&quot;Airport30&quot;</td><td>&quot;Airport31&quot;</td><td>&quot;U1&quot;</td><td>4771</td><td>2018-02-27</td><td>2018-02-10</td><td>294</td><td>&quot;City27&quot;</td><td>&quot;City28&quot;</td><td>17</td><td>0</td><td>4</td></tr></tbody></table></div>"
      ],
      "text/plain": [
       "shape: (1_697_443, 12)\n",
       "┌───────────┬─────────────┬─────────┬─────────┬───┬──────────────┬─────────────┬────────┬──────────┐\n",
       "│ origin    ┆ destination ┆ carrier ┆ flt_num ┆ … ┆ destination_ ┆ days_till_f ┆ is_dst ┆ route_id │\n",
       "│ ---       ┆ ---         ┆ ---     ┆ ---     ┆   ┆ city         ┆ light       ┆ ---    ┆ ---      │\n",
       "│ str       ┆ str         ┆ str     ┆ i64     ┆   ┆ ---          ┆ ---         ┆ i8     ┆ u8       │\n",
       "│           ┆             ┆         ┆         ┆   ┆ str          ┆ i16         ┆        ┆          │\n",
       "╞═══════════╪═════════════╪═════════╪═════════╪═══╪══════════════╪═════════════╪════════╪══════════╡\n",
       "│ Airport4  ┆ Airport43   ┆ L2      ┆ 8018    ┆ … ┆ City39       ┆ 8           ┆ 0      ┆ 9        │\n",
       "│ Airport31 ┆ Airport30   ┆ L2      ┆ 5314    ┆ … ┆ City27       ┆ 31          ┆ 0      ┆ 6        │\n",
       "│ Airport4  ┆ Airport43   ┆ L2      ┆ 7852    ┆ … ┆ City39       ┆ 17          ┆ 0      ┆ 9        │\n",
       "│ Airport30 ┆ Airport26   ┆ L1      ┆ 6294    ┆ … ┆ City24       ┆ 4           ┆ 1      ┆ 3        │\n",
       "│ Airport30 ┆ Airport31   ┆ L3      ┆ 18273   ┆ … ┆ City28       ┆ 26          ┆ 1      ┆ 4        │\n",
       "│ …         ┆ …           ┆ …       ┆ …       ┆ … ┆ …            ┆ …           ┆ …      ┆ …        │\n",
       "│ Airport30 ┆ Airport60   ┆ OTH     ┆ 6178    ┆ … ┆ City56       ┆ 2           ┆ 1      ┆ 5        │\n",
       "│ Airport30 ┆ Airport31   ┆ L3      ┆ 18349   ┆ … ┆ City28       ┆ 33          ┆ 1      ┆ 4        │\n",
       "│ Airport4  ┆ Airport43   ┆ L1      ┆ 1528    ┆ … ┆ City39       ┆ 12          ┆ 0      ┆ 9        │\n",
       "│ Airport4  ┆ Airport43   ┆ L2      ┆ 8018    ┆ … ┆ City39       ┆ 31          ┆ 1      ┆ 9        │\n",
       "│ Airport30 ┆ Airport31   ┆ U1      ┆ 4771    ┆ … ┆ City28       ┆ 17          ┆ 0      ┆ 4        │\n",
       "└───────────┴─────────────┴─────────┴─────────┴───┴──────────────┴─────────────┴────────┴──────────┘"
      ]
     },
     "execution_count": 32,
     "metadata": {},
     "output_type": "execute_result"
    }
   ],
   "source": [
    "train_fares_df = train_fares_df.join(\n",
    "    route_mapping, \n",
    "    on = ['origin', 'destination'], \n",
    "    how = 'left'\n",
    ")\n",
    "train_fares_df"
   ]
  },
  {
   "cell_type": "code",
   "execution_count": 33,
   "metadata": {},
   "outputs": [
    {
     "data": {
      "text/html": [
       "<div><style>\n",
       ".dataframe > thead > tr,\n",
       ".dataframe > tbody > tr {\n",
       "  text-align: right;\n",
       "  white-space: pre-wrap;\n",
       "}\n",
       "</style>\n",
       "<small>shape: (29_825, 11)</small><table border=\"1\" class=\"dataframe\"><thead><tr><th>origin</th><th>destination</th><th>carrier</th><th>flt_num</th><th>flt_departure_dt</th><th>observation_date</th><th>origin_city</th><th>destination_city</th><th>days_till_flight</th><th>is_dst</th><th>route_id</th></tr><tr><td>str</td><td>str</td><td>str</td><td>i64</td><td>date</td><td>date</td><td>str</td><td>str</td><td>i16</td><td>i8</td><td>u8</td></tr></thead><tbody><tr><td>&quot;Airport4&quot;</td><td>&quot;Airport43&quot;</td><td>&quot;L2&quot;</td><td>7465</td><td>2019-01-01</td><td>2018-11-27</td><td>&quot;City4&quot;</td><td>&quot;City39&quot;</td><td>35</td><td>0</td><td>9</td></tr><tr><td>&quot;Airport4&quot;</td><td>&quot;Airport43&quot;</td><td>&quot;L2&quot;</td><td>7067</td><td>2019-01-01</td><td>2018-11-27</td><td>&quot;City4&quot;</td><td>&quot;City39&quot;</td><td>35</td><td>0</td><td>9</td></tr><tr><td>&quot;Airport4&quot;</td><td>&quot;Airport43&quot;</td><td>&quot;L2&quot;</td><td>1232</td><td>2019-01-01</td><td>2018-11-27</td><td>&quot;City4&quot;</td><td>&quot;City39&quot;</td><td>35</td><td>0</td><td>9</td></tr><tr><td>&quot;Airport43&quot;</td><td>&quot;Airport4&quot;</td><td>&quot;L1&quot;</td><td>17783</td><td>2019-01-03</td><td>2018-11-29</td><td>&quot;City39&quot;</td><td>&quot;City4&quot;</td><td>35</td><td>0</td><td>10</td></tr><tr><td>&quot;Airport43&quot;</td><td>&quot;Airport4&quot;</td><td>&quot;L1&quot;</td><td>5823</td><td>2019-01-03</td><td>2018-11-29</td><td>&quot;City39&quot;</td><td>&quot;City4&quot;</td><td>35</td><td>0</td><td>10</td></tr><tr><td>&hellip;</td><td>&hellip;</td><td>&hellip;</td><td>&hellip;</td><td>&hellip;</td><td>&hellip;</td><td>&hellip;</td><td>&hellip;</td><td>&hellip;</td><td>&hellip;</td><td>&hellip;</td></tr><tr><td>&quot;Airport4&quot;</td><td>&quot;Airport43&quot;</td><td>&quot;L2&quot;</td><td>7067</td><td>2019-01-06</td><td>2018-12-31</td><td>&quot;City4&quot;</td><td>&quot;City39&quot;</td><td>6</td><td>0</td><td>9</td></tr><tr><td>&quot;Airport4&quot;</td><td>&quot;Airport43&quot;</td><td>&quot;L2&quot;</td><td>1232</td><td>2019-01-06</td><td>2018-12-31</td><td>&quot;City4&quot;</td><td>&quot;City39&quot;</td><td>6</td><td>0</td><td>9</td></tr><tr><td>&quot;Airport17&quot;</td><td>&quot;Airport4&quot;</td><td>&quot;L1&quot;</td><td>1484</td><td>2019-01-07</td><td>2018-12-31</td><td>&quot;City17&quot;</td><td>&quot;City4&quot;</td><td>7</td><td>0</td><td>0</td></tr><tr><td>&quot;Airport17&quot;</td><td>&quot;Airport4&quot;</td><td>&quot;L1&quot;</td><td>18471</td><td>2019-01-07</td><td>2018-12-31</td><td>&quot;City17&quot;</td><td>&quot;City4&quot;</td><td>7</td><td>0</td><td>0</td></tr><tr><td>&quot;Airport17&quot;</td><td>&quot;Airport4&quot;</td><td>&quot;L1&quot;</td><td>1487</td><td>2019-01-07</td><td>2018-12-31</td><td>&quot;City17&quot;</td><td>&quot;City4&quot;</td><td>7</td><td>0</td><td>0</td></tr></tbody></table></div>"
      ],
      "text/plain": [
       "shape: (29_825, 11)\n",
       "┌───────────┬─────────────┬─────────┬─────────┬───┬──────────────┬─────────────┬────────┬──────────┐\n",
       "│ origin    ┆ destination ┆ carrier ┆ flt_num ┆ … ┆ destination_ ┆ days_till_f ┆ is_dst ┆ route_id │\n",
       "│ ---       ┆ ---         ┆ ---     ┆ ---     ┆   ┆ city         ┆ light       ┆ ---    ┆ ---      │\n",
       "│ str       ┆ str         ┆ str     ┆ i64     ┆   ┆ ---          ┆ ---         ┆ i8     ┆ u8       │\n",
       "│           ┆             ┆         ┆         ┆   ┆ str          ┆ i16         ┆        ┆          │\n",
       "╞═══════════╪═════════════╪═════════╪═════════╪═══╪══════════════╪═════════════╪════════╪══════════╡\n",
       "│ Airport4  ┆ Airport43   ┆ L2      ┆ 7465    ┆ … ┆ City39       ┆ 35          ┆ 0      ┆ 9        │\n",
       "│ Airport4  ┆ Airport43   ┆ L2      ┆ 7067    ┆ … ┆ City39       ┆ 35          ┆ 0      ┆ 9        │\n",
       "│ Airport4  ┆ Airport43   ┆ L2      ┆ 1232    ┆ … ┆ City39       ┆ 35          ┆ 0      ┆ 9        │\n",
       "│ Airport43 ┆ Airport4    ┆ L1      ┆ 17783   ┆ … ┆ City4        ┆ 35          ┆ 0      ┆ 10       │\n",
       "│ Airport43 ┆ Airport4    ┆ L1      ┆ 5823    ┆ … ┆ City4        ┆ 35          ┆ 0      ┆ 10       │\n",
       "│ …         ┆ …           ┆ …       ┆ …       ┆ … ┆ …            ┆ …           ┆ …      ┆ …        │\n",
       "│ Airport4  ┆ Airport43   ┆ L2      ┆ 7067    ┆ … ┆ City39       ┆ 6           ┆ 0      ┆ 9        │\n",
       "│ Airport4  ┆ Airport43   ┆ L2      ┆ 1232    ┆ … ┆ City39       ┆ 6           ┆ 0      ┆ 9        │\n",
       "│ Airport17 ┆ Airport4    ┆ L1      ┆ 1484    ┆ … ┆ City4        ┆ 7           ┆ 0      ┆ 0        │\n",
       "│ Airport17 ┆ Airport4    ┆ L1      ┆ 18471   ┆ … ┆ City4        ┆ 7           ┆ 0      ┆ 0        │\n",
       "│ Airport17 ┆ Airport4    ┆ L1      ┆ 1487    ┆ … ┆ City4        ┆ 7           ┆ 0      ┆ 0        │\n",
       "└───────────┴─────────────┴─────────┴─────────┴───┴──────────────┴─────────────┴────────┴──────────┘"
      ]
     },
     "execution_count": 33,
     "metadata": {},
     "output_type": "execute_result"
    }
   ],
   "source": [
    "test_fares_df = test_fares_df.join(\n",
    "    route_mapping, \n",
    "    on = ['origin', 'destination'], \n",
    "    how = 'left'\n",
    ")\n",
    "test_fares_df"
   ]
  },
  {
   "cell_type": "code",
   "execution_count": 34,
   "metadata": {},
   "outputs": [
    {
     "data": {
      "text/plain": [
       "(0, 0)"
      ]
     },
     "execution_count": 34,
     "metadata": {},
     "output_type": "execute_result"
    }
   ],
   "source": [
    "train_fares_df['route_id'].null_count(), test_fares_df['route_id'].null_count()"
   ]
  },
  {
   "cell_type": "code",
   "execution_count": 35,
   "metadata": {},
   "outputs": [
    {
     "data": {
      "text/html": [
       "<div><style>\n",
       ".dataframe > thead > tr,\n",
       ".dataframe > tbody > tr {\n",
       "  text-align: right;\n",
       "  white-space: pre-wrap;\n",
       "}\n",
       "</style>\n",
       "<small>shape: (63_584, 14)</small><table border=\"1\" class=\"dataframe\"><thead><tr><th>carrier</th><th>flt_num</th><th>origin</th><th>destination</th><th>flt_departure_dt</th><th>flt_departure_local_time</th><th>flt_arrival_local_time</th><th>flt_departure_gmt</th><th>flt_arrival_gmt</th><th>dur_min</th><th>tz_min</th><th>over_mn</th><th>dpt_4h_od</th><th>route_id</th></tr><tr><td>str</td><td>i64</td><td>str</td><td>str</td><td>date</td><td>datetime[ns]</td><td>datetime[ns]</td><td>datetime[ns]</td><td>datetime[ns]</td><td>i16</td><td>i16</td><td>i8</td><td>i8</td><td>u8</td></tr></thead><tbody><tr><td>&quot;L1&quot;</td><td>6800</td><td>&quot;Airport26&quot;</td><td>&quot;Airport30&quot;</td><td>2018-02-01</td><td>2018-02-01 18:43:00</td><td>2018-02-01 20:09:00</td><td>2018-02-02 00:43:00</td><td>2018-02-02 04:09:00</td><td>86</td><td>-360</td><td>0</td><td>4</td><td>2</td></tr><tr><td>&quot;OTH&quot;</td><td>783</td><td>&quot;Airport26&quot;</td><td>&quot;Airport30&quot;</td><td>2018-02-01</td><td>2018-02-01 19:45:00</td><td>2018-02-01 21:05:00</td><td>2018-02-02 01:45:00</td><td>2018-02-02 05:05:00</td><td>80</td><td>-360</td><td>0</td><td>4</td><td>2</td></tr><tr><td>&quot;L1&quot;</td><td>799</td><td>&quot;Airport26&quot;</td><td>&quot;Airport30&quot;</td><td>2018-02-01</td><td>2018-02-01 12:00:00</td><td>2018-02-01 13:26:00</td><td>2018-02-01 18:00:00</td><td>2018-02-01 21:26:00</td><td>86</td><td>-360</td><td>0</td><td>3</td><td>2</td></tr><tr><td>&quot;L1&quot;</td><td>7760</td><td>&quot;Airport26&quot;</td><td>&quot;Airport30&quot;</td><td>2018-02-01</td><td>2018-02-01 07:35:00</td><td>2018-02-01 09:02:00</td><td>2018-02-01 13:35:00</td><td>2018-02-01 17:02:00</td><td>87</td><td>-360</td><td>0</td><td>1</td><td>2</td></tr><tr><td>&quot;L1&quot;</td><td>3443</td><td>&quot;Airport26&quot;</td><td>&quot;Airport30&quot;</td><td>2018-02-01</td><td>2018-02-01 09:48:00</td><td>2018-02-01 11:14:00</td><td>2018-02-01 15:48:00</td><td>2018-02-01 19:14:00</td><td>86</td><td>-360</td><td>0</td><td>2</td><td>2</td></tr><tr><td>&hellip;</td><td>&hellip;</td><td>&hellip;</td><td>&hellip;</td><td>&hellip;</td><td>&hellip;</td><td>&hellip;</td><td>&hellip;</td><td>&hellip;</td><td>&hellip;</td><td>&hellip;</td><td>&hellip;</td><td>&hellip;</td><td>&hellip;</td></tr><tr><td>&quot;L1&quot;</td><td>5675</td><td>&quot;Airport30&quot;</td><td>&quot;Airport60&quot;</td><td>2018-10-31</td><td>2018-10-31 13:17:00</td><td>2018-10-31 14:53:00</td><td>2018-10-31 20:17:00</td><td>2018-10-31 21:53:00</td><td>96</td><td>-420</td><td>0</td><td>3</td><td>5</td></tr><tr><td>&quot;U1&quot;</td><td>6115</td><td>&quot;Airport30&quot;</td><td>&quot;Airport60&quot;</td><td>2018-10-31</td><td>2018-10-31 06:50:00</td><td>2018-10-31 08:24:00</td><td>2018-10-31 13:50:00</td><td>2018-10-31 15:24:00</td><td>94</td><td>-420</td><td>0</td><td>1</td><td>5</td></tr><tr><td>&quot;U1&quot;</td><td>6184</td><td>&quot;Airport30&quot;</td><td>&quot;Airport60&quot;</td><td>2018-10-31</td><td>2018-10-31 20:20:00</td><td>2018-10-31 22:02:00</td><td>2018-11-01 03:20:00</td><td>2018-11-01 05:02:00</td><td>102</td><td>-420</td><td>0</td><td>5</td><td>5</td></tr><tr><td>&quot;OTH&quot;</td><td>7010</td><td>&quot;Airport30&quot;</td><td>&quot;Airport60&quot;</td><td>2018-10-31</td><td>2018-10-31 08:45:00</td><td>2018-10-31 10:20:00</td><td>2018-10-31 15:45:00</td><td>2018-10-31 17:20:00</td><td>95</td><td>-420</td><td>0</td><td>2</td><td>5</td></tr><tr><td>&quot;L1&quot;</td><td>1292</td><td>&quot;Airport30&quot;</td><td>&quot;Airport60&quot;</td><td>2018-10-31</td><td>2018-10-31 16:53:00</td><td>2018-10-31 18:32:00</td><td>2018-10-31 23:53:00</td><td>2018-11-01 01:32:00</td><td>99</td><td>-420</td><td>0</td><td>4</td><td>5</td></tr></tbody></table></div>"
      ],
      "text/plain": [
       "shape: (63_584, 14)\n",
       "┌─────────┬─────────┬───────────┬─────────────┬───┬────────┬─────────┬───────────┬──────────┐\n",
       "│ carrier ┆ flt_num ┆ origin    ┆ destination ┆ … ┆ tz_min ┆ over_mn ┆ dpt_4h_od ┆ route_id │\n",
       "│ ---     ┆ ---     ┆ ---       ┆ ---         ┆   ┆ ---    ┆ ---     ┆ ---       ┆ ---      │\n",
       "│ str     ┆ i64     ┆ str       ┆ str         ┆   ┆ i16    ┆ i8      ┆ i8        ┆ u8       │\n",
       "╞═════════╪═════════╪═══════════╪═════════════╪═══╪════════╪═════════╪═══════════╪══════════╡\n",
       "│ L1      ┆ 6800    ┆ Airport26 ┆ Airport30   ┆ … ┆ -360   ┆ 0       ┆ 4         ┆ 2        │\n",
       "│ OTH     ┆ 783     ┆ Airport26 ┆ Airport30   ┆ … ┆ -360   ┆ 0       ┆ 4         ┆ 2        │\n",
       "│ L1      ┆ 799     ┆ Airport26 ┆ Airport30   ┆ … ┆ -360   ┆ 0       ┆ 3         ┆ 2        │\n",
       "│ L1      ┆ 7760    ┆ Airport26 ┆ Airport30   ┆ … ┆ -360   ┆ 0       ┆ 1         ┆ 2        │\n",
       "│ L1      ┆ 3443    ┆ Airport26 ┆ Airport30   ┆ … ┆ -360   ┆ 0       ┆ 2         ┆ 2        │\n",
       "│ …       ┆ …       ┆ …         ┆ …           ┆ … ┆ …      ┆ …       ┆ …         ┆ …        │\n",
       "│ L1      ┆ 5675    ┆ Airport30 ┆ Airport60   ┆ … ┆ -420   ┆ 0       ┆ 3         ┆ 5        │\n",
       "│ U1      ┆ 6115    ┆ Airport30 ┆ Airport60   ┆ … ┆ -420   ┆ 0       ┆ 1         ┆ 5        │\n",
       "│ U1      ┆ 6184    ┆ Airport30 ┆ Airport60   ┆ … ┆ -420   ┆ 0       ┆ 5         ┆ 5        │\n",
       "│ OTH     ┆ 7010    ┆ Airport30 ┆ Airport60   ┆ … ┆ -420   ┆ 0       ┆ 2         ┆ 5        │\n",
       "│ L1      ┆ 1292    ┆ Airport30 ┆ Airport60   ┆ … ┆ -420   ┆ 0       ┆ 4         ┆ 5        │\n",
       "└─────────┴─────────┴───────────┴─────────────┴───┴────────┴─────────┴───────────┴──────────┘"
      ]
     },
     "execution_count": 35,
     "metadata": {},
     "output_type": "execute_result"
    }
   ],
   "source": [
    "train_sch_df = train_sch_df.join(\n",
    "    route_mapping,\n",
    "    on = ['origin', 'destination'],\n",
    "    how = 'inner'\n",
    ")\n",
    "\n",
    "train_sch_df"
   ]
  },
  {
   "cell_type": "code",
   "execution_count": 36,
   "metadata": {},
   "outputs": [
    {
     "data": {
      "text/html": [
       "<div><style>\n",
       ".dataframe > thead > tr,\n",
       ".dataframe > tbody > tr {\n",
       "  text-align: right;\n",
       "  white-space: pre-wrap;\n",
       "}\n",
       "</style>\n",
       "<small>shape: (1_234, 14)</small><table border=\"1\" class=\"dataframe\"><thead><tr><th>carrier</th><th>flt_num</th><th>origin</th><th>destination</th><th>flt_departure_dt</th><th>flt_departure_local_time</th><th>flt_arrival_local_time</th><th>flt_departure_gmt</th><th>flt_arrival_gmt</th><th>dur_min</th><th>tz_min</th><th>over_mn</th><th>dpt_4h_od</th><th>route_id</th></tr><tr><td>str</td><td>i64</td><td>str</td><td>str</td><td>date</td><td>datetime[ns]</td><td>datetime[ns]</td><td>datetime[ns]</td><td>datetime[ns]</td><td>i16</td><td>i16</td><td>i8</td><td>i8</td><td>u8</td></tr></thead><tbody><tr><td>&quot;L1&quot;</td><td>3437</td><td>&quot;Airport26&quot;</td><td>&quot;Airport30&quot;</td><td>2019-01-01</td><td>2019-01-01 18:28:00</td><td>2019-01-01 19:49:00</td><td>2019-01-02 00:28:00</td><td>2019-01-02 03:49:00</td><td>81</td><td>-360</td><td>0</td><td>4</td><td>2</td></tr><tr><td>&quot;L1&quot;</td><td>7760</td><td>&quot;Airport26&quot;</td><td>&quot;Airport30&quot;</td><td>2019-01-01</td><td>2019-01-01 07:50:00</td><td>2019-01-01 09:12:00</td><td>2019-01-01 13:50:00</td><td>2019-01-01 17:12:00</td><td>82</td><td>-360</td><td>0</td><td>1</td><td>2</td></tr><tr><td>&quot;L1&quot;</td><td>1609</td><td>&quot;Airport26&quot;</td><td>&quot;Airport30&quot;</td><td>2019-01-01</td><td>2019-01-01 11:55:00</td><td>2019-01-01 13:19:00</td><td>2019-01-01 17:55:00</td><td>2019-01-01 21:19:00</td><td>84</td><td>-360</td><td>0</td><td>2</td><td>2</td></tr><tr><td>&quot;L1&quot;</td><td>1487</td><td>&quot;Airport26&quot;</td><td>&quot;Airport30&quot;</td><td>2019-01-01</td><td>2019-01-01 14:20:00</td><td>2019-01-01 15:41:00</td><td>2019-01-01 20:20:00</td><td>2019-01-01 23:41:00</td><td>81</td><td>-360</td><td>0</td><td>3</td><td>2</td></tr><tr><td>&quot;L1&quot;</td><td>5701</td><td>&quot;Airport26&quot;</td><td>&quot;Airport30&quot;</td><td>2019-01-01</td><td>2019-01-01 22:05:00</td><td>2019-01-01 23:26:00</td><td>2019-01-02 04:05:00</td><td>2019-01-02 07:26:00</td><td>81</td><td>-360</td><td>0</td><td>5</td><td>2</td></tr><tr><td>&hellip;</td><td>&hellip;</td><td>&hellip;</td><td>&hellip;</td><td>&hellip;</td><td>&hellip;</td><td>&hellip;</td><td>&hellip;</td><td>&hellip;</td><td>&hellip;</td><td>&hellip;</td><td>&hellip;</td><td>&hellip;</td><td>&hellip;</td></tr><tr><td>&quot;L2&quot;</td><td>3795</td><td>&quot;Airport43&quot;</td><td>&quot;Airport4&quot;</td><td>2019-01-07</td><td>2019-01-07 17:55:00</td><td>2019-01-07 20:42:00</td><td>2019-01-07 23:55:00</td><td>2019-01-08 02:42:00</td><td>167</td><td>-360</td><td>0</td><td>4</td><td>10</td></tr><tr><td>&quot;L1&quot;</td><td>1763</td><td>&quot;Airport43&quot;</td><td>&quot;Airport4&quot;</td><td>2019-01-07</td><td>2019-01-07 19:49:00</td><td>2019-01-07 22:47:00</td><td>2019-01-08 01:49:00</td><td>2019-01-08 04:47:00</td><td>178</td><td>-360</td><td>0</td><td>4</td><td>10</td></tr><tr><td>&quot;L1&quot;</td><td>11466</td><td>&quot;Airport43&quot;</td><td>&quot;Airport4&quot;</td><td>2019-01-07</td><td>2019-01-07 07:48:00</td><td>2019-01-07 10:50:00</td><td>2019-01-07 13:48:00</td><td>2019-01-07 16:50:00</td><td>182</td><td>-360</td><td>0</td><td>1</td><td>10</td></tr><tr><td>&quot;L2&quot;</td><td>8018</td><td>&quot;Airport43&quot;</td><td>&quot;Airport4&quot;</td><td>2019-01-07</td><td>2019-01-07 09:56:00</td><td>2019-01-07 12:47:00</td><td>2019-01-07 15:56:00</td><td>2019-01-07 18:47:00</td><td>171</td><td>-360</td><td>0</td><td>2</td><td>10</td></tr><tr><td>&quot;L1&quot;</td><td>5823</td><td>&quot;Airport43&quot;</td><td>&quot;Airport4&quot;</td><td>2019-01-07</td><td>2019-01-07 15:55:00</td><td>2019-01-07 18:51:00</td><td>2019-01-07 21:55:00</td><td>2019-01-08 00:51:00</td><td>176</td><td>-360</td><td>0</td><td>3</td><td>10</td></tr></tbody></table></div>"
      ],
      "text/plain": [
       "shape: (1_234, 14)\n",
       "┌─────────┬─────────┬───────────┬─────────────┬───┬────────┬─────────┬───────────┬──────────┐\n",
       "│ carrier ┆ flt_num ┆ origin    ┆ destination ┆ … ┆ tz_min ┆ over_mn ┆ dpt_4h_od ┆ route_id │\n",
       "│ ---     ┆ ---     ┆ ---       ┆ ---         ┆   ┆ ---    ┆ ---     ┆ ---       ┆ ---      │\n",
       "│ str     ┆ i64     ┆ str       ┆ str         ┆   ┆ i16    ┆ i8      ┆ i8        ┆ u8       │\n",
       "╞═════════╪═════════╪═══════════╪═════════════╪═══╪════════╪═════════╪═══════════╪══════════╡\n",
       "│ L1      ┆ 3437    ┆ Airport26 ┆ Airport30   ┆ … ┆ -360   ┆ 0       ┆ 4         ┆ 2        │\n",
       "│ L1      ┆ 7760    ┆ Airport26 ┆ Airport30   ┆ … ┆ -360   ┆ 0       ┆ 1         ┆ 2        │\n",
       "│ L1      ┆ 1609    ┆ Airport26 ┆ Airport30   ┆ … ┆ -360   ┆ 0       ┆ 2         ┆ 2        │\n",
       "│ L1      ┆ 1487    ┆ Airport26 ┆ Airport30   ┆ … ┆ -360   ┆ 0       ┆ 3         ┆ 2        │\n",
       "│ L1      ┆ 5701    ┆ Airport26 ┆ Airport30   ┆ … ┆ -360   ┆ 0       ┆ 5         ┆ 2        │\n",
       "│ …       ┆ …       ┆ …         ┆ …           ┆ … ┆ …      ┆ …       ┆ …         ┆ …        │\n",
       "│ L2      ┆ 3795    ┆ Airport43 ┆ Airport4    ┆ … ┆ -360   ┆ 0       ┆ 4         ┆ 10       │\n",
       "│ L1      ┆ 1763    ┆ Airport43 ┆ Airport4    ┆ … ┆ -360   ┆ 0       ┆ 4         ┆ 10       │\n",
       "│ L1      ┆ 11466   ┆ Airport43 ┆ Airport4    ┆ … ┆ -360   ┆ 0       ┆ 1         ┆ 10       │\n",
       "│ L2      ┆ 8018    ┆ Airport43 ┆ Airport4    ┆ … ┆ -360   ┆ 0       ┆ 2         ┆ 10       │\n",
       "│ L1      ┆ 5823    ┆ Airport43 ┆ Airport4    ┆ … ┆ -360   ┆ 0       ┆ 3         ┆ 10       │\n",
       "└─────────┴─────────┴───────────┴─────────────┴───┴────────┴─────────┴───────────┴──────────┘"
      ]
     },
     "execution_count": 36,
     "metadata": {},
     "output_type": "execute_result"
    }
   ],
   "source": [
    "test_sch_df = test_sch_df.join(\n",
    "    route_mapping,\n",
    "    on = ['origin', 'destination'],\n",
    "    how = 'inner'\n",
    ")\n",
    "\n",
    "test_sch_df"
   ]
  },
  {
   "cell_type": "code",
   "execution_count": 37,
   "metadata": {},
   "outputs": [
    {
     "data": {
      "text/html": [
       "<div><style>\n",
       ".dataframe > thead > tr,\n",
       ".dataframe > tbody > tr {\n",
       "  text-align: right;\n",
       "  white-space: pre-wrap;\n",
       "}\n",
       "</style>\n",
       "<small>shape: (746, 8)</small><table border=\"1\" class=\"dataframe\"><thead><tr><th>yr</th><th>mo</th><th>origin</th><th>destination</th><th>carrier</th><th>scaled_demand</th><th>scaled_share</th><th>route_id</th></tr><tr><td>i64</td><td>i64</td><td>str</td><td>str</td><td>str</td><td>i64</td><td>i64</td><td>u8</td></tr></thead><tbody><tr><td>2017</td><td>12</td><td>&quot;Airport26&quot;</td><td>&quot;Airport30&quot;</td><td>&quot;U3&quot;</td><td>2860</td><td>171</td><td>2</td></tr><tr><td>2017</td><td>12</td><td>&quot;Airport30&quot;</td><td>&quot;Airport31&quot;</td><td>&quot;L1&quot;</td><td>6542</td><td>181</td><td>4</td></tr><tr><td>2017</td><td>12</td><td>&quot;Airport30&quot;</td><td>&quot;Airport60&quot;</td><td>&quot;U3&quot;</td><td>6685</td><td>160</td><td>5</td></tr><tr><td>2017</td><td>12</td><td>&quot;Airport4&quot;</td><td>&quot;Airport17&quot;</td><td>&quot;L3&quot;</td><td>2708</td><td>160</td><td>7</td></tr><tr><td>2017</td><td>12</td><td>&quot;Airport60&quot;</td><td>&quot;Airport30&quot;</td><td>&quot;L1&quot;</td><td>6685</td><td>268</td><td>11</td></tr><tr><td>&hellip;</td><td>&hellip;</td><td>&hellip;</td><td>&hellip;</td><td>&hellip;</td><td>&hellip;</td><td>&hellip;</td><td>&hellip;</td></tr><tr><td>2018</td><td>11</td><td>&quot;Airport4&quot;</td><td>&quot;Airport17&quot;</td><td>&quot;U3&quot;</td><td>3099</td><td>188</td><td>7</td></tr><tr><td>2018</td><td>12</td><td>&quot;Airport30&quot;</td><td>&quot;Airport31&quot;</td><td>&quot;L1&quot;</td><td>7128</td><td>189</td><td>4</td></tr><tr><td>2018</td><td>12</td><td>&quot;Airport30&quot;</td><td>&quot;Airport60&quot;</td><td>&quot;L3&quot;</td><td>5817</td><td>160</td><td>5</td></tr><tr><td>2018</td><td>12</td><td>&quot;Airport60&quot;</td><td>&quot;Airport30&quot;</td><td>&quot;L3&quot;</td><td>5817</td><td>160</td><td>11</td></tr><tr><td>2018</td><td>12</td><td>&quot;Airport60&quot;</td><td>&quot;Airport30&quot;</td><td>&quot;U1&quot;</td><td>5817</td><td>253</td><td>11</td></tr></tbody></table></div>"
      ],
      "text/plain": [
       "shape: (746, 8)\n",
       "┌──────┬─────┬───────────┬─────────────┬─────────┬───────────────┬──────────────┬──────────┐\n",
       "│ yr   ┆ mo  ┆ origin    ┆ destination ┆ carrier ┆ scaled_demand ┆ scaled_share ┆ route_id │\n",
       "│ ---  ┆ --- ┆ ---       ┆ ---         ┆ ---     ┆ ---           ┆ ---          ┆ ---      │\n",
       "│ i64  ┆ i64 ┆ str       ┆ str         ┆ str     ┆ i64           ┆ i64          ┆ u8       │\n",
       "╞══════╪═════╪═══════════╪═════════════╪═════════╪═══════════════╪══════════════╪══════════╡\n",
       "│ 2017 ┆ 12  ┆ Airport26 ┆ Airport30   ┆ U3      ┆ 2860          ┆ 171          ┆ 2        │\n",
       "│ 2017 ┆ 12  ┆ Airport30 ┆ Airport31   ┆ L1      ┆ 6542          ┆ 181          ┆ 4        │\n",
       "│ 2017 ┆ 12  ┆ Airport30 ┆ Airport60   ┆ U3      ┆ 6685          ┆ 160          ┆ 5        │\n",
       "│ 2017 ┆ 12  ┆ Airport4  ┆ Airport17   ┆ L3      ┆ 2708          ┆ 160          ┆ 7        │\n",
       "│ 2017 ┆ 12  ┆ Airport60 ┆ Airport30   ┆ L1      ┆ 6685          ┆ 268          ┆ 11       │\n",
       "│ …    ┆ …   ┆ …         ┆ …           ┆ …       ┆ …             ┆ …            ┆ …        │\n",
       "│ 2018 ┆ 11  ┆ Airport4  ┆ Airport17   ┆ U3      ┆ 3099          ┆ 188          ┆ 7        │\n",
       "│ 2018 ┆ 12  ┆ Airport30 ┆ Airport31   ┆ L1      ┆ 7128          ┆ 189          ┆ 4        │\n",
       "│ 2018 ┆ 12  ┆ Airport30 ┆ Airport60   ┆ L3      ┆ 5817          ┆ 160          ┆ 5        │\n",
       "│ 2018 ┆ 12  ┆ Airport60 ┆ Airport30   ┆ L3      ┆ 5817          ┆ 160          ┆ 11       │\n",
       "│ 2018 ┆ 12  ┆ Airport60 ┆ Airport30   ┆ U1      ┆ 5817          ┆ 253          ┆ 11       │\n",
       "└──────┴─────┴───────────┴─────────────┴─────────┴───────────────┴──────────────┴──────────┘"
      ]
     },
     "execution_count": 37,
     "metadata": {},
     "output_type": "execute_result"
    }
   ],
   "source": [
    "services_df = services_df.join(\n",
    "    route_mapping,\n",
    "    on = ['origin', 'destination'],\n",
    "    how = 'inner'\n",
    ")\n",
    "services_df"
   ]
  },
  {
   "cell_type": "markdown",
   "metadata": {},
   "source": [
    "### Count of close flights"
   ]
  },
  {
   "cell_type": "code",
   "execution_count": 38,
   "metadata": {},
   "outputs": [
    {
     "data": {
      "text/html": [
       "<div><style>\n",
       ".dataframe > thead > tr,\n",
       ".dataframe > tbody > tr {\n",
       "  text-align: right;\n",
       "  white-space: pre-wrap;\n",
       "}\n",
       "</style>\n",
       "<small>shape: (63_584, 16)</small><table border=\"1\" class=\"dataframe\"><thead><tr><th>carrier</th><th>flt_num</th><th>origin</th><th>destination</th><th>flt_departure_dt</th><th>flt_departure_local_time</th><th>flt_arrival_local_time</th><th>flt_departure_gmt</th><th>flt_arrival_gmt</th><th>dur_min</th><th>tz_min</th><th>over_mn</th><th>dpt_4h_od</th><th>route_id</th><th>flt_count_dpt_24h</th><th>flt_count_dpt_4h</th></tr><tr><td>str</td><td>i64</td><td>str</td><td>str</td><td>date</td><td>datetime[ns]</td><td>datetime[ns]</td><td>datetime[ns]</td><td>datetime[ns]</td><td>i16</td><td>i16</td><td>i8</td><td>i8</td><td>u8</td><td>u8</td><td>u8</td></tr></thead><tbody><tr><td>&quot;L1&quot;</td><td>2149</td><td>&quot;Airport30&quot;</td><td>&quot;Airport26&quot;</td><td>2018-01-01</td><td>2018-01-01 01:00:00</td><td>2018-01-01 05:47:00</td><td>2018-01-01 09:00:00</td><td>2018-01-01 11:47:00</td><td>287</td><td>-480</td><td>0</td><td>0</td><td>3</td><td>9</td><td>1</td></tr><tr><td>&quot;OTH&quot;</td><td>5782</td><td>&quot;Airport20&quot;</td><td>&quot;Airport4&quot;</td><td>2018-01-01</td><td>2018-01-01 05:15:00</td><td>2018-01-01 08:35:00</td><td>2018-01-01 10:15:00</td><td>2018-01-01 14:35:00</td><td>200</td><td>-300</td><td>0</td><td>1</td><td>1</td><td>5</td><td>2</td></tr><tr><td>&quot;OTH&quot;</td><td>5792</td><td>&quot;Airport30&quot;</td><td>&quot;Airport60&quot;</td><td>2018-01-01</td><td>2018-01-01 05:15:00</td><td>2018-01-01 06:50:00</td><td>2018-01-01 13:15:00</td><td>2018-01-01 14:50:00</td><td>95</td><td>-480</td><td>0</td><td>1</td><td>5</td><td>21</td><td>3</td></tr><tr><td>&quot;L1&quot;</td><td>1176</td><td>&quot;Airport30&quot;</td><td>&quot;Airport31&quot;</td><td>2018-01-01</td><td>2018-01-01 05:31:00</td><td>2018-01-01 07:02:00</td><td>2018-01-01 13:31:00</td><td>2018-01-01 15:02:00</td><td>91</td><td>-480</td><td>0</td><td>1</td><td>4</td><td>30</td><td>6</td></tr><tr><td>&quot;OTH&quot;</td><td>6068</td><td>&quot;Airport30&quot;</td><td>&quot;Airport31&quot;</td><td>2018-01-01</td><td>2018-01-01 05:40:00</td><td>2018-01-01 06:50:00</td><td>2018-01-01 13:40:00</td><td>2018-01-01 14:50:00</td><td>70</td><td>-480</td><td>0</td><td>1</td><td>4</td><td>30</td><td>6</td></tr><tr><td>&hellip;</td><td>&hellip;</td><td>&hellip;</td><td>&hellip;</td><td>&hellip;</td><td>&hellip;</td><td>&hellip;</td><td>&hellip;</td><td>&hellip;</td><td>&hellip;</td><td>&hellip;</td><td>&hellip;</td><td>&hellip;</td><td>&hellip;</td><td>&hellip;</td><td>&hellip;</td></tr><tr><td>&quot;OTH&quot;</td><td>2416</td><td>&quot;Airport30&quot;</td><td>&quot;Airport31&quot;</td><td>2018-12-31</td><td>2018-12-31 20:35:00</td><td>2018-12-31 21:51:00</td><td>2019-01-01 04:35:00</td><td>2019-01-01 05:51:00</td><td>76</td><td>-480</td><td>0</td><td>5</td><td>4</td><td>30</td><td>2</td></tr><tr><td>&quot;L2&quot;</td><td>1741</td><td>&quot;Airport30&quot;</td><td>&quot;Airport31&quot;</td><td>2018-12-31</td><td>2018-12-31 20:50:00</td><td>2018-12-31 22:14:00</td><td>2019-01-01 04:50:00</td><td>2019-01-01 06:14:00</td><td>84</td><td>-480</td><td>0</td><td>5</td><td>4</td><td>30</td><td>2</td></tr><tr><td>&quot;U1&quot;</td><td>6175</td><td>&quot;Airport60&quot;</td><td>&quot;Airport30&quot;</td><td>2018-12-31</td><td>2018-12-31 21:30:00</td><td>2018-12-31 23:04:00</td><td>2019-01-01 05:30:00</td><td>2019-01-01 07:04:00</td><td>94</td><td>-480</td><td>0</td><td>5</td><td>11</td><td>21</td><td>3</td></tr><tr><td>&quot;L2&quot;</td><td>8903</td><td>&quot;Airport31&quot;</td><td>&quot;Airport30&quot;</td><td>2018-12-31</td><td>2018-12-31 22:40:00</td><td>2018-12-31 23:53:00</td><td>2019-01-01 06:40:00</td><td>2019-01-01 07:53:00</td><td>73</td><td>-480</td><td>0</td><td>5</td><td>6</td><td>30</td><td>2</td></tr><tr><td>&quot;L1&quot;</td><td>7588</td><td>&quot;Airport60&quot;</td><td>&quot;Airport30&quot;</td><td>2018-12-31</td><td>2018-12-31 22:52:00</td><td>2019-01-01 00:26:00</td><td>2019-01-01 06:52:00</td><td>2019-01-01 08:26:00</td><td>94</td><td>-480</td><td>1</td><td>5</td><td>11</td><td>21</td><td>3</td></tr></tbody></table></div>"
      ],
      "text/plain": [
       "shape: (63_584, 16)\n",
       "┌─────────┬─────────┬───────────┬─────────────┬───┬───────────┬──────────┬────────────┬────────────┐\n",
       "│ carrier ┆ flt_num ┆ origin    ┆ destination ┆ … ┆ dpt_4h_od ┆ route_id ┆ flt_count_ ┆ flt_count_ │\n",
       "│ ---     ┆ ---     ┆ ---       ┆ ---         ┆   ┆ ---       ┆ ---      ┆ dpt_24h    ┆ dpt_4h     │\n",
       "│ str     ┆ i64     ┆ str       ┆ str         ┆   ┆ i8        ┆ u8       ┆ ---        ┆ ---        │\n",
       "│         ┆         ┆           ┆             ┆   ┆           ┆          ┆ u8         ┆ u8         │\n",
       "╞═════════╪═════════╪═══════════╪═════════════╪═══╪═══════════╪══════════╪════════════╪════════════╡\n",
       "│ L1      ┆ 2149    ┆ Airport30 ┆ Airport26   ┆ … ┆ 0         ┆ 3        ┆ 9          ┆ 1          │\n",
       "│ OTH     ┆ 5782    ┆ Airport20 ┆ Airport4    ┆ … ┆ 1         ┆ 1        ┆ 5          ┆ 2          │\n",
       "│ OTH     ┆ 5792    ┆ Airport30 ┆ Airport60   ┆ … ┆ 1         ┆ 5        ┆ 21         ┆ 3          │\n",
       "│ L1      ┆ 1176    ┆ Airport30 ┆ Airport31   ┆ … ┆ 1         ┆ 4        ┆ 30         ┆ 6          │\n",
       "│ OTH     ┆ 6068    ┆ Airport30 ┆ Airport31   ┆ … ┆ 1         ┆ 4        ┆ 30         ┆ 6          │\n",
       "│ …       ┆ …       ┆ …         ┆ …           ┆ … ┆ …         ┆ …        ┆ …          ┆ …          │\n",
       "│ OTH     ┆ 2416    ┆ Airport30 ┆ Airport31   ┆ … ┆ 5         ┆ 4        ┆ 30         ┆ 2          │\n",
       "│ L2      ┆ 1741    ┆ Airport30 ┆ Airport31   ┆ … ┆ 5         ┆ 4        ┆ 30         ┆ 2          │\n",
       "│ U1      ┆ 6175    ┆ Airport60 ┆ Airport30   ┆ … ┆ 5         ┆ 11       ┆ 21         ┆ 3          │\n",
       "│ L2      ┆ 8903    ┆ Airport31 ┆ Airport30   ┆ … ┆ 5         ┆ 6        ┆ 30         ┆ 2          │\n",
       "│ L1      ┆ 7588    ┆ Airport60 ┆ Airport30   ┆ … ┆ 5         ┆ 11       ┆ 21         ┆ 3          │\n",
       "└─────────┴─────────┴───────────┴─────────────┴───┴───────────┴──────────┴────────────┴────────────┘"
      ]
     },
     "execution_count": 38,
     "metadata": {},
     "output_type": "execute_result"
    }
   ],
   "source": [
    "train_sch_df = train_sch_df.with_columns(\n",
    "    pl.col('flt_num').len().over(\n",
    "        ['route_id', 'flt_departure_dt']\n",
    "    ).cast(pl.UInt8()).alias('flt_count_dpt_24h'),\n",
    "    pl.col('flt_num').len().over(\n",
    "        ['route_id', 'flt_departure_dt', 'dpt_4h_od']\n",
    "    ).cast(pl.UInt8()).alias('flt_count_dpt_4h')\n",
    ")\n",
    "\n",
    "train_sch_df.sort('flt_departure_local_time')"
   ]
  },
  {
   "cell_type": "code",
   "execution_count": 39,
   "metadata": {},
   "outputs": [
    {
     "data": {
      "text/html": [
       "<div><style>\n",
       ".dataframe > thead > tr,\n",
       ".dataframe > tbody > tr {\n",
       "  text-align: right;\n",
       "  white-space: pre-wrap;\n",
       "}\n",
       "</style>\n",
       "<small>shape: (1_234, 16)</small><table border=\"1\" class=\"dataframe\"><thead><tr><th>carrier</th><th>flt_num</th><th>origin</th><th>destination</th><th>flt_departure_dt</th><th>flt_departure_local_time</th><th>flt_arrival_local_time</th><th>flt_departure_gmt</th><th>flt_arrival_gmt</th><th>dur_min</th><th>tz_min</th><th>over_mn</th><th>dpt_4h_od</th><th>route_id</th><th>flt_count_dpt_24h</th><th>flt_count_dpt_4h</th></tr><tr><td>str</td><td>i64</td><td>str</td><td>str</td><td>date</td><td>datetime[ns]</td><td>datetime[ns]</td><td>datetime[ns]</td><td>datetime[ns]</td><td>i16</td><td>i16</td><td>i8</td><td>i8</td><td>u8</td><td>u8</td><td>u8</td></tr></thead><tbody><tr><td>&quot;L1&quot;</td><td>2149</td><td>&quot;Airport30&quot;</td><td>&quot;Airport26&quot;</td><td>2019-01-01</td><td>2019-01-01 01:00:00</td><td>2019-01-01 05:53:00</td><td>2019-01-01 09:00:00</td><td>2019-01-01 11:53:00</td><td>293</td><td>-480</td><td>0</td><td>0</td><td>3</td><td>9</td><td>1</td></tr><tr><td>&quot;OTH&quot;</td><td>4611</td><td>&quot;Airport31&quot;</td><td>&quot;Airport30&quot;</td><td>2019-01-01</td><td>2019-01-01 05:20:00</td><td>2019-01-01 06:25:00</td><td>2019-01-01 13:20:00</td><td>2019-01-01 14:25:00</td><td>65</td><td>-480</td><td>0</td><td>1</td><td>6</td><td>33</td><td>5</td></tr><tr><td>&quot;OTH&quot;</td><td>10071</td><td>&quot;Airport60&quot;</td><td>&quot;Airport30&quot;</td><td>2019-01-01</td><td>2019-01-01 05:20:00</td><td>2019-01-01 06:45:00</td><td>2019-01-01 13:20:00</td><td>2019-01-01 14:45:00</td><td>85</td><td>-480</td><td>0</td><td>1</td><td>11</td><td>21</td><td>3</td></tr><tr><td>&quot;OTH&quot;</td><td>5770</td><td>&quot;Airport30&quot;</td><td>&quot;Airport60&quot;</td><td>2019-01-01</td><td>2019-01-01 05:30:00</td><td>2019-01-01 07:00:00</td><td>2019-01-01 13:30:00</td><td>2019-01-01 15:00:00</td><td>90</td><td>-480</td><td>0</td><td>1</td><td>5</td><td>21</td><td>5</td></tr><tr><td>&quot;OTH&quot;</td><td>5327</td><td>&quot;Airport4&quot;</td><td>&quot;Airport20&quot;</td><td>2019-01-01</td><td>2019-01-01 05:35:00</td><td>2019-01-01 10:05:00</td><td>2019-01-01 11:35:00</td><td>2019-01-01 15:05:00</td><td>270</td><td>-360</td><td>0</td><td>1</td><td>8</td><td>5</td><td>2</td></tr><tr><td>&hellip;</td><td>&hellip;</td><td>&hellip;</td><td>&hellip;</td><td>&hellip;</td><td>&hellip;</td><td>&hellip;</td><td>&hellip;</td><td>&hellip;</td><td>&hellip;</td><td>&hellip;</td><td>&hellip;</td><td>&hellip;</td><td>&hellip;</td><td>&hellip;</td><td>&hellip;</td></tr><tr><td>&quot;L2&quot;</td><td>8903</td><td>&quot;Airport31&quot;</td><td>&quot;Airport30&quot;</td><td>2019-01-07</td><td>2019-01-07 22:40:00</td><td>2019-01-07 23:52:00</td><td>2019-01-08 06:40:00</td><td>2019-01-08 07:52:00</td><td>72</td><td>-480</td><td>0</td><td>5</td><td>6</td><td>46</td><td>6</td></tr><tr><td>&quot;L1&quot;</td><td>4934</td><td>&quot;Airport31&quot;</td><td>&quot;Airport30&quot;</td><td>2019-01-07</td><td>2019-01-07 22:45:00</td><td>2019-01-07 23:58:00</td><td>2019-01-08 06:45:00</td><td>2019-01-08 07:58:00</td><td>73</td><td>-480</td><td>0</td><td>5</td><td>6</td><td>46</td><td>6</td></tr><tr><td>&quot;L1&quot;</td><td>7588</td><td>&quot;Airport60&quot;</td><td>&quot;Airport30&quot;</td><td>2019-01-07</td><td>2019-01-07 22:50:00</td><td>2019-01-08 00:28:00</td><td>2019-01-08 06:50:00</td><td>2019-01-08 08:28:00</td><td>98</td><td>-480</td><td>1</td><td>5</td><td>11</td><td>28</td><td>5</td></tr><tr><td>&quot;L1&quot;</td><td>5581</td><td>&quot;Airport30&quot;</td><td>&quot;Airport31&quot;</td><td>2019-01-07</td><td>2019-01-07 23:00:00</td><td>2019-01-08 00:23:00</td><td>2019-01-08 07:00:00</td><td>2019-01-08 08:23:00</td><td>83</td><td>-480</td><td>1</td><td>5</td><td>4</td><td>46</td><td>6</td></tr><tr><td>&quot;L1&quot;</td><td>18298</td><td>&quot;Airport30&quot;</td><td>&quot;Airport60&quot;</td><td>2019-01-07</td><td>2019-01-07 23:00:00</td><td>2019-01-08 00:44:00</td><td>2019-01-08 07:00:00</td><td>2019-01-08 08:44:00</td><td>104</td><td>-480</td><td>1</td><td>5</td><td>5</td><td>27</td><td>6</td></tr></tbody></table></div>"
      ],
      "text/plain": [
       "shape: (1_234, 16)\n",
       "┌─────────┬─────────┬───────────┬─────────────┬───┬───────────┬──────────┬────────────┬────────────┐\n",
       "│ carrier ┆ flt_num ┆ origin    ┆ destination ┆ … ┆ dpt_4h_od ┆ route_id ┆ flt_count_ ┆ flt_count_ │\n",
       "│ ---     ┆ ---     ┆ ---       ┆ ---         ┆   ┆ ---       ┆ ---      ┆ dpt_24h    ┆ dpt_4h     │\n",
       "│ str     ┆ i64     ┆ str       ┆ str         ┆   ┆ i8        ┆ u8       ┆ ---        ┆ ---        │\n",
       "│         ┆         ┆           ┆             ┆   ┆           ┆          ┆ u8         ┆ u8         │\n",
       "╞═════════╪═════════╪═══════════╪═════════════╪═══╪═══════════╪══════════╪════════════╪════════════╡\n",
       "│ L1      ┆ 2149    ┆ Airport30 ┆ Airport26   ┆ … ┆ 0         ┆ 3        ┆ 9          ┆ 1          │\n",
       "│ OTH     ┆ 4611    ┆ Airport31 ┆ Airport30   ┆ … ┆ 1         ┆ 6        ┆ 33         ┆ 5          │\n",
       "│ OTH     ┆ 10071   ┆ Airport60 ┆ Airport30   ┆ … ┆ 1         ┆ 11       ┆ 21         ┆ 3          │\n",
       "│ OTH     ┆ 5770    ┆ Airport30 ┆ Airport60   ┆ … ┆ 1         ┆ 5        ┆ 21         ┆ 5          │\n",
       "│ OTH     ┆ 5327    ┆ Airport4  ┆ Airport20   ┆ … ┆ 1         ┆ 8        ┆ 5          ┆ 2          │\n",
       "│ …       ┆ …       ┆ …         ┆ …           ┆ … ┆ …         ┆ …        ┆ …          ┆ …          │\n",
       "│ L2      ┆ 8903    ┆ Airport31 ┆ Airport30   ┆ … ┆ 5         ┆ 6        ┆ 46         ┆ 6          │\n",
       "│ L1      ┆ 4934    ┆ Airport31 ┆ Airport30   ┆ … ┆ 5         ┆ 6        ┆ 46         ┆ 6          │\n",
       "│ L1      ┆ 7588    ┆ Airport60 ┆ Airport30   ┆ … ┆ 5         ┆ 11       ┆ 28         ┆ 5          │\n",
       "│ L1      ┆ 5581    ┆ Airport30 ┆ Airport31   ┆ … ┆ 5         ┆ 4        ┆ 46         ┆ 6          │\n",
       "│ L1      ┆ 18298   ┆ Airport30 ┆ Airport60   ┆ … ┆ 5         ┆ 5        ┆ 27         ┆ 6          │\n",
       "└─────────┴─────────┴───────────┴─────────────┴───┴───────────┴──────────┴────────────┴────────────┘"
      ]
     },
     "execution_count": 39,
     "metadata": {},
     "output_type": "execute_result"
    }
   ],
   "source": [
    "test_sch_df = test_sch_df.with_columns(\n",
    "    pl.col('flt_num').len().over(\n",
    "        ['route_id', 'flt_departure_dt']\n",
    "    ).cast(pl.UInt8()).alias('flt_count_dpt_24h'),\n",
    "    pl.col('flt_num').len().over(\n",
    "        ['route_id', 'flt_departure_dt', 'dpt_4h_od']\n",
    "    ).cast(pl.UInt8()).alias('flt_count_dpt_4h')\n",
    ")\n",
    "\n",
    "test_sch_df.sort('flt_departure_local_time')"
   ]
  },
  {
   "cell_type": "markdown",
   "metadata": {},
   "source": [
    "### Code sharing\n",
    "\n",
    "[GSA - Codesharing](https://www.gsa.gov/policy-regulations/policy/travel-management-policy-overview/fly-america-act#:~:text=Codesharing,one%20of%20the%20cooperating%20airlines.)"
   ]
  },
  {
   "cell_type": "code",
   "execution_count": 40,
   "metadata": {},
   "outputs": [
    {
     "data": {
      "text/html": [
       "<div><style>\n",
       ".dataframe > thead > tr,\n",
       ".dataframe > tbody > tr {\n",
       "  text-align: right;\n",
       "  white-space: pre-wrap;\n",
       "}\n",
       "</style>\n",
       "<small>shape: (77, 3)</small><table border=\"1\" class=\"dataframe\"><thead><tr><th>flt_num</th><th>route_id</th><th>carrier</th></tr><tr><td>i64</td><td>u8</td><td>u32</td></tr></thead><tbody><tr><td>6548</td><td>6</td><td>2</td></tr><tr><td>18286</td><td>0</td><td>2</td></tr><tr><td>4787</td><td>4</td><td>2</td></tr><tr><td>8737</td><td>6</td><td>2</td></tr><tr><td>5041</td><td>4</td><td>2</td></tr><tr><td>&hellip;</td><td>&hellip;</td><td>&hellip;</td></tr><tr><td>5236</td><td>6</td><td>2</td></tr><tr><td>6168</td><td>11</td><td>2</td></tr><tr><td>6115</td><td>5</td><td>2</td></tr><tr><td>18283</td><td>6</td><td>2</td></tr><tr><td>4790</td><td>4</td><td>3</td></tr></tbody></table></div>"
      ],
      "text/plain": [
       "shape: (77, 3)\n",
       "┌─────────┬──────────┬─────────┐\n",
       "│ flt_num ┆ route_id ┆ carrier │\n",
       "│ ---     ┆ ---      ┆ ---     │\n",
       "│ i64     ┆ u8       ┆ u32     │\n",
       "╞═════════╪══════════╪═════════╡\n",
       "│ 6548    ┆ 6        ┆ 2       │\n",
       "│ 18286   ┆ 0        ┆ 2       │\n",
       "│ 4787    ┆ 4        ┆ 2       │\n",
       "│ 8737    ┆ 6        ┆ 2       │\n",
       "│ 5041    ┆ 4        ┆ 2       │\n",
       "│ …       ┆ …        ┆ …       │\n",
       "│ 5236    ┆ 6        ┆ 2       │\n",
       "│ 6168    ┆ 11       ┆ 2       │\n",
       "│ 6115    ┆ 5        ┆ 2       │\n",
       "│ 18283   ┆ 6        ┆ 2       │\n",
       "│ 4790    ┆ 4        ┆ 3       │\n",
       "└─────────┴──────────┴─────────┘"
      ]
     },
     "execution_count": 40,
     "metadata": {},
     "output_type": "execute_result"
    }
   ],
   "source": [
    "train_sch_df.group_by('flt_num', 'route_id').agg(\n",
    "    pl.col('carrier').unique().len()\n",
    ").filter(pl.col('carrier') > 1).sort('carrier')"
   ]
  },
  {
   "cell_type": "code",
   "execution_count": 41,
   "metadata": {},
   "outputs": [
    {
     "data": {
      "text/html": [
       "<div><style>\n",
       ".dataframe > thead > tr,\n",
       ".dataframe > tbody > tr {\n",
       "  text-align: right;\n",
       "  white-space: pre-wrap;\n",
       "}\n",
       "</style>\n",
       "<small>shape: (4, 3)</small><table border=\"1\" class=\"dataframe\"><thead><tr><th>flt_num</th><th>route_id</th><th>carrier</th></tr><tr><td>i64</td><td>u8</td><td>u32</td></tr></thead><tbody><tr><td>4818</td><td>6</td><td>2</td></tr><tr><td>6947</td><td>11</td><td>2</td></tr><tr><td>18289</td><td>6</td><td>2</td></tr><tr><td>5817</td><td>6</td><td>2</td></tr></tbody></table></div>"
      ],
      "text/plain": [
       "shape: (4, 3)\n",
       "┌─────────┬──────────┬─────────┐\n",
       "│ flt_num ┆ route_id ┆ carrier │\n",
       "│ ---     ┆ ---      ┆ ---     │\n",
       "│ i64     ┆ u8       ┆ u32     │\n",
       "╞═════════╪══════════╪═════════╡\n",
       "│ 4818    ┆ 6        ┆ 2       │\n",
       "│ 6947    ┆ 11       ┆ 2       │\n",
       "│ 18289   ┆ 6        ┆ 2       │\n",
       "│ 5817    ┆ 6        ┆ 2       │\n",
       "└─────────┴──────────┴─────────┘"
      ]
     },
     "execution_count": 41,
     "metadata": {},
     "output_type": "execute_result"
    }
   ],
   "source": [
    "test_sch_df.group_by('flt_num', 'route_id').agg(\n",
    "    pl.col('carrier').unique().len()\n",
    ").filter(pl.col('carrier') > 1).sort('carrier')"
   ]
  },
  {
   "cell_type": "code",
   "execution_count": 42,
   "metadata": {},
   "outputs": [
    {
     "data": {
      "text/html": [
       "<div><style>\n",
       ".dataframe > thead > tr,\n",
       ".dataframe > tbody > tr {\n",
       "  text-align: right;\n",
       "  white-space: pre-wrap;\n",
       "}\n",
       "</style>\n",
       "<small>shape: (126, 4)</small><table border=\"1\" class=\"dataframe\"><thead><tr><th>flt_num</th><th>route_id</th><th>flt_departure_dt</th><th>carrier</th></tr><tr><td>i64</td><td>u8</td><td>date</td><td>u32</td></tr></thead><tbody><tr><td>2297</td><td>11</td><td>2018-01-02</td><td>2</td></tr><tr><td>4580</td><td>4</td><td>2018-01-02</td><td>2</td></tr><tr><td>4790</td><td>4</td><td>2018-01-08</td><td>2</td></tr><tr><td>6853</td><td>7</td><td>2018-03-08</td><td>2</td></tr><tr><td>5236</td><td>6</td><td>2018-03-09</td><td>2</td></tr><tr><td>&hellip;</td><td>&hellip;</td><td>&hellip;</td><td>&hellip;</td></tr><tr><td>5817</td><td>6</td><td>2018-12-13</td><td>2</td></tr><tr><td>5817</td><td>6</td><td>2018-12-14</td><td>2</td></tr><tr><td>5817</td><td>6</td><td>2018-12-17</td><td>2</td></tr><tr><td>5817</td><td>6</td><td>2018-12-18</td><td>2</td></tr><tr><td>6947</td><td>11</td><td>2018-12-19</td><td>2</td></tr></tbody></table></div>"
      ],
      "text/plain": [
       "shape: (126, 4)\n",
       "┌─────────┬──────────┬──────────────────┬─────────┐\n",
       "│ flt_num ┆ route_id ┆ flt_departure_dt ┆ carrier │\n",
       "│ ---     ┆ ---      ┆ ---              ┆ ---     │\n",
       "│ i64     ┆ u8       ┆ date             ┆ u32     │\n",
       "╞═════════╪══════════╪══════════════════╪═════════╡\n",
       "│ 2297    ┆ 11       ┆ 2018-01-02       ┆ 2       │\n",
       "│ 4580    ┆ 4        ┆ 2018-01-02       ┆ 2       │\n",
       "│ 4790    ┆ 4        ┆ 2018-01-08       ┆ 2       │\n",
       "│ 6853    ┆ 7        ┆ 2018-03-08       ┆ 2       │\n",
       "│ 5236    ┆ 6        ┆ 2018-03-09       ┆ 2       │\n",
       "│ …       ┆ …        ┆ …                ┆ …       │\n",
       "│ 5817    ┆ 6        ┆ 2018-12-13       ┆ 2       │\n",
       "│ 5817    ┆ 6        ┆ 2018-12-14       ┆ 2       │\n",
       "│ 5817    ┆ 6        ┆ 2018-12-17       ┆ 2       │\n",
       "│ 5817    ┆ 6        ┆ 2018-12-18       ┆ 2       │\n",
       "│ 6947    ┆ 11       ┆ 2018-12-19       ┆ 2       │\n",
       "└─────────┴──────────┴──────────────────┴─────────┘"
      ]
     },
     "execution_count": 42,
     "metadata": {},
     "output_type": "execute_result"
    }
   ],
   "source": [
    "train_sch_df.group_by('flt_num', 'route_id', 'flt_departure_dt').agg(\n",
    "    pl.col('carrier').unique().len()\n",
    ").filter(pl.col('carrier') > 1).sort('flt_departure_dt')"
   ]
  },
  {
   "cell_type": "code",
   "execution_count": 43,
   "metadata": {},
   "outputs": [
    {
     "data": {
      "text/html": [
       "<div><style>\n",
       ".dataframe > thead > tr,\n",
       ".dataframe > tbody > tr {\n",
       "  text-align: right;\n",
       "  white-space: pre-wrap;\n",
       "}\n",
       "</style>\n",
       "<small>shape: (0, 16)</small><table border=\"1\" class=\"dataframe\"><thead><tr><th>carrier</th><th>flt_num</th><th>origin</th><th>destination</th><th>flt_departure_dt</th><th>flt_departure_local_time</th><th>flt_arrival_local_time</th><th>flt_departure_gmt</th><th>flt_arrival_gmt</th><th>dur_min</th><th>tz_min</th><th>over_mn</th><th>dpt_4h_od</th><th>route_id</th><th>flt_count_dpt_24h</th><th>flt_count_dpt_4h</th></tr><tr><td>str</td><td>i64</td><td>str</td><td>str</td><td>date</td><td>datetime[ns]</td><td>datetime[ns]</td><td>datetime[ns]</td><td>datetime[ns]</td><td>i16</td><td>i16</td><td>i8</td><td>i8</td><td>u8</td><td>u8</td><td>u8</td></tr></thead><tbody></tbody></table></div>"
      ],
      "text/plain": [
       "shape: (0, 16)\n",
       "┌─────────┬─────────┬────────┬─────────────┬───┬───────────┬──────────┬──────────────┬─────────────┐\n",
       "│ carrier ┆ flt_num ┆ origin ┆ destination ┆ … ┆ dpt_4h_od ┆ route_id ┆ flt_count_dp ┆ flt_count_d │\n",
       "│ ---     ┆ ---     ┆ ---    ┆ ---         ┆   ┆ ---       ┆ ---      ┆ t_24h        ┆ pt_4h       │\n",
       "│ str     ┆ i64     ┆ str    ┆ str         ┆   ┆ i8        ┆ u8       ┆ ---          ┆ ---         │\n",
       "│         ┆         ┆        ┆             ┆   ┆           ┆          ┆ u8           ┆ u8          │\n",
       "╞═════════╪═════════╪════════╪═════════════╪═══╪═══════════╪══════════╪══════════════╪═════════════╡\n",
       "└─────────┴─────────┴────────┴─────────────┴───┴───────────┴──────────┴──────────────┴─────────────┘"
      ]
     },
     "execution_count": 43,
     "metadata": {},
     "output_type": "execute_result"
    }
   ],
   "source": [
    "test_sch_df.filter(\n",
    "    (pl.col('route_id') == 4) & \n",
    "    (pl.col('flt_num') == 4580) &\n",
    "    (pl.col('flt_departure_dt') == pl.date(2018, 1, 2))\n",
    ").sort('flt_departure_dt')"
   ]
  },
  {
   "cell_type": "code",
   "execution_count": 44,
   "metadata": {},
   "outputs": [
    {
     "data": {
      "text/html": [
       "<div><style>\n",
       ".dataframe > thead > tr,\n",
       ".dataframe > tbody > tr {\n",
       "  text-align: right;\n",
       "  white-space: pre-wrap;\n",
       "}\n",
       "</style>\n",
       "<small>shape: (3, 4)</small><table border=\"1\" class=\"dataframe\"><thead><tr><th>flt_num</th><th>route_id</th><th>flt_departure_dt</th><th>carrier</th></tr><tr><td>i64</td><td>u8</td><td>date</td><td>u32</td></tr></thead><tbody><tr><td>6947</td><td>11</td><td>2019-01-01</td><td>2</td></tr><tr><td>5817</td><td>6</td><td>2019-01-03</td><td>2</td></tr><tr><td>5817</td><td>6</td><td>2019-01-04</td><td>2</td></tr></tbody></table></div>"
      ],
      "text/plain": [
       "shape: (3, 4)\n",
       "┌─────────┬──────────┬──────────────────┬─────────┐\n",
       "│ flt_num ┆ route_id ┆ flt_departure_dt ┆ carrier │\n",
       "│ ---     ┆ ---      ┆ ---              ┆ ---     │\n",
       "│ i64     ┆ u8       ┆ date             ┆ u32     │\n",
       "╞═════════╪══════════╪══════════════════╪═════════╡\n",
       "│ 6947    ┆ 11       ┆ 2019-01-01       ┆ 2       │\n",
       "│ 5817    ┆ 6        ┆ 2019-01-03       ┆ 2       │\n",
       "│ 5817    ┆ 6        ┆ 2019-01-04       ┆ 2       │\n",
       "└─────────┴──────────┴──────────────────┴─────────┘"
      ]
     },
     "execution_count": 44,
     "metadata": {},
     "output_type": "execute_result"
    }
   ],
   "source": [
    "test_sch_df.group_by('flt_num', 'route_id', 'flt_departure_dt').agg(\n",
    "    pl.col('carrier').unique().len()\n",
    ").filter(pl.col('carrier') > 1).sort('flt_departure_dt')"
   ]
  },
  {
   "cell_type": "code",
   "execution_count": 45,
   "metadata": {},
   "outputs": [
    {
     "data": {
      "text/html": [
       "<div><style>\n",
       ".dataframe > thead > tr,\n",
       ".dataframe > tbody > tr {\n",
       "  text-align: right;\n",
       "  white-space: pre-wrap;\n",
       "}\n",
       "</style>\n",
       "<small>shape: (2, 16)</small><table border=\"1\" class=\"dataframe\"><thead><tr><th>carrier</th><th>flt_num</th><th>origin</th><th>destination</th><th>flt_departure_dt</th><th>flt_departure_local_time</th><th>flt_arrival_local_time</th><th>flt_departure_gmt</th><th>flt_arrival_gmt</th><th>dur_min</th><th>tz_min</th><th>over_mn</th><th>dpt_4h_od</th><th>route_id</th><th>flt_count_dpt_24h</th><th>flt_count_dpt_4h</th></tr><tr><td>str</td><td>i64</td><td>str</td><td>str</td><td>date</td><td>datetime[ns]</td><td>datetime[ns]</td><td>datetime[ns]</td><td>datetime[ns]</td><td>i16</td><td>i16</td><td>i8</td><td>i8</td><td>u8</td><td>u8</td><td>u8</td></tr></thead><tbody><tr><td>&quot;L1&quot;</td><td>6947</td><td>&quot;Airport60&quot;</td><td>&quot;Airport30&quot;</td><td>2019-01-01</td><td>2019-01-01 14:26:00</td><td>2019-01-01 16:00:00</td><td>2019-01-01 22:26:00</td><td>2019-01-02 00:00:00</td><td>94</td><td>-480</td><td>0</td><td>3</td><td>11</td><td>21</td><td>4</td></tr><tr><td>&quot;OTH&quot;</td><td>6947</td><td>&quot;Airport60&quot;</td><td>&quot;Airport30&quot;</td><td>2019-01-01</td><td>2019-01-01 16:50:00</td><td>2019-01-01 18:15:00</td><td>2019-01-02 00:50:00</td><td>2019-01-02 02:15:00</td><td>85</td><td>-480</td><td>0</td><td>4</td><td>11</td><td>21</td><td>6</td></tr></tbody></table></div>"
      ],
      "text/plain": [
       "shape: (2, 16)\n",
       "┌─────────┬─────────┬───────────┬─────────────┬───┬───────────┬──────────┬────────────┬────────────┐\n",
       "│ carrier ┆ flt_num ┆ origin    ┆ destination ┆ … ┆ dpt_4h_od ┆ route_id ┆ flt_count_ ┆ flt_count_ │\n",
       "│ ---     ┆ ---     ┆ ---       ┆ ---         ┆   ┆ ---       ┆ ---      ┆ dpt_24h    ┆ dpt_4h     │\n",
       "│ str     ┆ i64     ┆ str       ┆ str         ┆   ┆ i8        ┆ u8       ┆ ---        ┆ ---        │\n",
       "│         ┆         ┆           ┆             ┆   ┆           ┆          ┆ u8         ┆ u8         │\n",
       "╞═════════╪═════════╪═══════════╪═════════════╪═══╪═══════════╪══════════╪════════════╪════════════╡\n",
       "│ L1      ┆ 6947    ┆ Airport60 ┆ Airport30   ┆ … ┆ 3         ┆ 11       ┆ 21         ┆ 4          │\n",
       "│ OTH     ┆ 6947    ┆ Airport60 ┆ Airport30   ┆ … ┆ 4         ┆ 11       ┆ 21         ┆ 6          │\n",
       "└─────────┴─────────┴───────────┴─────────────┴───┴───────────┴──────────┴────────────┴────────────┘"
      ]
     },
     "execution_count": 45,
     "metadata": {},
     "output_type": "execute_result"
    }
   ],
   "source": [
    "test_sch_df.filter(\n",
    "    (pl.col('route_id') == 11) & \n",
    "    (pl.col('flt_num') == 6947) &\n",
    "    (pl.col('flt_departure_dt') == pl.date(2019, 1, 1))\n",
    ").sort('flt_departure_dt')"
   ]
  },
  {
   "cell_type": "markdown",
   "metadata": {},
   "source": [
    "### Airport mapping"
   ]
  },
  {
   "cell_type": "code",
   "execution_count": 46,
   "metadata": {},
   "outputs": [
    {
     "data": {
      "text/html": [
       "<div><style>\n",
       ".dataframe > thead > tr,\n",
       ".dataframe > tbody > tr {\n",
       "  text-align: right;\n",
       "  white-space: pre-wrap;\n",
       "}\n",
       "</style>\n",
       "<small>shape: (8, 2)</small><table border=\"1\" class=\"dataframe\"><thead><tr><th>airport_id</th><th>airport</th></tr><tr><td>u8</td><td>str</td></tr></thead><tbody><tr><td>0</td><td>&quot;Airport17&quot;</td></tr><tr><td>1</td><td>&quot;Airport20&quot;</td></tr><tr><td>2</td><td>&quot;Airport26&quot;</td></tr><tr><td>3</td><td>&quot;Airport30&quot;</td></tr><tr><td>4</td><td>&quot;Airport31&quot;</td></tr><tr><td>5</td><td>&quot;Airport4&quot;</td></tr><tr><td>6</td><td>&quot;Airport43&quot;</td></tr><tr><td>7</td><td>&quot;Airport60&quot;</td></tr></tbody></table></div>"
      ],
      "text/plain": [
       "shape: (8, 2)\n",
       "┌────────────┬───────────┐\n",
       "│ airport_id ┆ airport   │\n",
       "│ ---        ┆ ---       │\n",
       "│ u8         ┆ str       │\n",
       "╞════════════╪═══════════╡\n",
       "│ 0          ┆ Airport17 │\n",
       "│ 1          ┆ Airport20 │\n",
       "│ 2          ┆ Airport26 │\n",
       "│ 3          ┆ Airport30 │\n",
       "│ 4          ┆ Airport31 │\n",
       "│ 5          ┆ Airport4  │\n",
       "│ 6          ┆ Airport43 │\n",
       "│ 7          ┆ Airport60 │\n",
       "└────────────┴───────────┘"
      ]
     },
     "execution_count": 46,
     "metadata": {},
     "output_type": "execute_result"
    }
   ],
   "source": [
    "airport_mapping = route_mapping.select(\n",
    "    pl.col('origin').unique(maintain_order = True).alias('airport')\n",
    ").with_row_index(name = \"airport_id\").with_columns(\n",
    "    pl.col('airport_id').cast(pl.UInt8())\n",
    ")\n",
    "airport_mapping"
   ]
  },
  {
   "cell_type": "markdown",
   "metadata": {},
   "source": [
    "## Merging"
   ]
  },
  {
   "cell_type": "code",
   "execution_count": 47,
   "metadata": {},
   "outputs": [
    {
     "data": {
      "text/html": [
       "<div><style>\n",
       ".dataframe > thead > tr,\n",
       ".dataframe > tbody > tr {\n",
       "  text-align: right;\n",
       "  white-space: pre-wrap;\n",
       "}\n",
       "</style>\n",
       "<small>shape: (689, 8)</small><table border=\"1\" class=\"dataframe\"><thead><tr><th>yr</th><th>mo</th><th>origin</th><th>destination</th><th>carrier</th><th>scaled_demand</th><th>scaled_share</th><th>route_id</th></tr><tr><td>i64</td><td>i64</td><td>str</td><td>str</td><td>str</td><td>i64</td><td>i64</td><td>u8</td></tr></thead><tbody><tr><td>2018</td><td>1</td><td>&quot;Airport26&quot;</td><td>&quot;Airport30&quot;</td><td>&quot;L3&quot;</td><td>2438</td><td>163</td><td>2</td></tr><tr><td>2018</td><td>1</td><td>&quot;Airport30&quot;</td><td>&quot;Airport26&quot;</td><td>&quot;L1&quot;</td><td>2438</td><td>384</td><td>3</td></tr><tr><td>2018</td><td>1</td><td>&quot;Airport30&quot;</td><td>&quot;Airport31&quot;</td><td>&quot;L2&quot;</td><td>6659</td><td>212</td><td>4</td></tr><tr><td>2018</td><td>1</td><td>&quot;Airport30&quot;</td><td>&quot;Airport60&quot;</td><td>&quot;L3&quot;</td><td>6579</td><td>160</td><td>5</td></tr><tr><td>2018</td><td>1</td><td>&quot;Airport4&quot;</td><td>&quot;Airport20&quot;</td><td>&quot;U2&quot;</td><td>1468</td><td>161</td><td>8</td></tr><tr><td>&hellip;</td><td>&hellip;</td><td>&hellip;</td><td>&hellip;</td><td>&hellip;</td><td>&hellip;</td><td>&hellip;</td><td>&hellip;</td></tr><tr><td>2018</td><td>11</td><td>&quot;Airport4&quot;</td><td>&quot;Airport17&quot;</td><td>&quot;U3&quot;</td><td>3099</td><td>188</td><td>7</td></tr><tr><td>2018</td><td>12</td><td>&quot;Airport30&quot;</td><td>&quot;Airport31&quot;</td><td>&quot;L1&quot;</td><td>7128</td><td>189</td><td>4</td></tr><tr><td>2018</td><td>12</td><td>&quot;Airport30&quot;</td><td>&quot;Airport60&quot;</td><td>&quot;L3&quot;</td><td>5817</td><td>160</td><td>5</td></tr><tr><td>2018</td><td>12</td><td>&quot;Airport60&quot;</td><td>&quot;Airport30&quot;</td><td>&quot;L3&quot;</td><td>5817</td><td>160</td><td>11</td></tr><tr><td>2018</td><td>12</td><td>&quot;Airport60&quot;</td><td>&quot;Airport30&quot;</td><td>&quot;U1&quot;</td><td>5817</td><td>253</td><td>11</td></tr></tbody></table></div>"
      ],
      "text/plain": [
       "shape: (689, 8)\n",
       "┌──────┬─────┬───────────┬─────────────┬─────────┬───────────────┬──────────────┬──────────┐\n",
       "│ yr   ┆ mo  ┆ origin    ┆ destination ┆ carrier ┆ scaled_demand ┆ scaled_share ┆ route_id │\n",
       "│ ---  ┆ --- ┆ ---       ┆ ---         ┆ ---     ┆ ---           ┆ ---          ┆ ---      │\n",
       "│ i64  ┆ i64 ┆ str       ┆ str         ┆ str     ┆ i64           ┆ i64          ┆ u8       │\n",
       "╞══════╪═════╪═══════════╪═════════════╪═════════╪═══════════════╪══════════════╪══════════╡\n",
       "│ 2018 ┆ 1   ┆ Airport26 ┆ Airport30   ┆ L3      ┆ 2438          ┆ 163          ┆ 2        │\n",
       "│ 2018 ┆ 1   ┆ Airport30 ┆ Airport26   ┆ L1      ┆ 2438          ┆ 384          ┆ 3        │\n",
       "│ 2018 ┆ 1   ┆ Airport30 ┆ Airport31   ┆ L2      ┆ 6659          ┆ 212          ┆ 4        │\n",
       "│ 2018 ┆ 1   ┆ Airport30 ┆ Airport60   ┆ L3      ┆ 6579          ┆ 160          ┆ 5        │\n",
       "│ 2018 ┆ 1   ┆ Airport4  ┆ Airport20   ┆ U2      ┆ 1468          ┆ 161          ┆ 8        │\n",
       "│ …    ┆ …   ┆ …         ┆ …           ┆ …       ┆ …             ┆ …            ┆ …        │\n",
       "│ 2018 ┆ 11  ┆ Airport4  ┆ Airport17   ┆ U3      ┆ 3099          ┆ 188          ┆ 7        │\n",
       "│ 2018 ┆ 12  ┆ Airport30 ┆ Airport31   ┆ L1      ┆ 7128          ┆ 189          ┆ 4        │\n",
       "│ 2018 ┆ 12  ┆ Airport30 ┆ Airport60   ┆ L3      ┆ 5817          ┆ 160          ┆ 5        │\n",
       "│ 2018 ┆ 12  ┆ Airport60 ┆ Airport30   ┆ L3      ┆ 5817          ┆ 160          ┆ 11       │\n",
       "│ 2018 ┆ 12  ┆ Airport60 ┆ Airport30   ┆ U1      ┆ 5817          ┆ 253          ┆ 11       │\n",
       "└──────┴─────┴───────────┴─────────────┴─────────┴───────────────┴──────────────┴──────────┘"
      ]
     },
     "execution_count": 47,
     "metadata": {},
     "output_type": "execute_result"
    }
   ],
   "source": [
    "services_df = services_df.filter(\n",
    "    pl.col('yr').is_in(train_fares_df['flt_departure_dt'].dt.year().unique()) |\n",
    "    pl.col('yr').is_in(test_fares_df['flt_departure_dt'].dt.year().unique())\n",
    ")\n",
    "\n",
    "services_df"
   ]
  },
  {
   "cell_type": "code",
   "execution_count": 48,
   "metadata": {},
   "outputs": [
    {
     "data": {
      "text/html": [
       "<div><style>\n",
       ".dataframe > thead > tr,\n",
       ".dataframe > tbody > tr {\n",
       "  text-align: right;\n",
       "  white-space: pre-wrap;\n",
       "}\n",
       "</style>\n",
       "<small>shape: (1_698_818, 20)</small><table border=\"1\" class=\"dataframe\"><thead><tr><th>carrier</th><th>flt_num</th><th>flt_departure_dt</th><th>observation_date</th><th>total_fare</th><th>days_till_flight</th><th>is_dst</th><th>route_id</th><th>flt_departure_local_time</th><th>flt_arrival_local_time</th><th>dur_min</th><th>tz_min</th><th>over_mn</th><th>dpt_4h_od</th><th>flt_count_dpt_24h</th><th>flt_count_dpt_4h</th><th>scaled_demand</th><th>scaled_share</th><th>origin_id</th><th>destination_id</th></tr><tr><td>str</td><td>i64</td><td>date</td><td>date</td><td>i64</td><td>i16</td><td>i8</td><td>u8</td><td>datetime[ns]</td><td>datetime[ns]</td><td>i16</td><td>i16</td><td>i8</td><td>i8</td><td>u8</td><td>u8</td><td>i64</td><td>i64</td><td>u8</td><td>u8</td></tr></thead><tbody><tr><td>&quot;L2&quot;</td><td>8018</td><td>2018-11-10</td><td>2018-11-02</td><td>1192</td><td>8</td><td>0</td><td>9</td><td>2018-11-10 13:23:00</td><td>2018-11-10 16:04:00</td><td>161</td><td>-360</td><td>0</td><td>3</td><td>6</td><td>2</td><td>1922</td><td>301</td><td>5</td><td>6</td></tr><tr><td>&quot;L2&quot;</td><td>5314</td><td>2018-01-15</td><td>2017-12-15</td><td>281</td><td>31</td><td>0</td><td>6</td><td>2018-01-15 20:00:00</td><td>2018-01-15 21:20:00</td><td>80</td><td>-480</td><td>0</td><td>5</td><td>35</td><td>9</td><td>6659</td><td>213</td><td>4</td><td>3</td></tr><tr><td>&quot;L2&quot;</td><td>7852</td><td>2018-01-18</td><td>2018-01-01</td><td>557</td><td>17</td><td>0</td><td>9</td><td>2018-01-18 13:27:00</td><td>2018-01-18 16:08:00</td><td>161</td><td>-360</td><td>0</td><td>3</td><td>6</td><td>1</td><td>1378</td><td>320</td><td>5</td><td>6</td></tr><tr><td>&quot;L1&quot;</td><td>6294</td><td>2018-09-29</td><td>2018-09-25</td><td>2021</td><td>4</td><td>1</td><td>3</td><td>2018-09-29 13:40:00</td><td>2018-09-29 18:35:00</td><td>295</td><td>-420</td><td>0</td><td>3</td><td>9</td><td>3</td><td>2545</td><td>401</td><td>3</td><td>2</td></tr><tr><td>&quot;L3&quot;</td><td>18273</td><td>2018-03-28</td><td>2018-03-02</td><td>298</td><td>26</td><td>1</td><td>4</td><td>2018-03-28 11:08:00</td><td>2018-03-28 12:23:00</td><td>75</td><td>-420</td><td>0</td><td>2</td><td>36</td><td>7</td><td>7054</td><td>229</td><td>3</td><td>4</td></tr><tr><td>&hellip;</td><td>&hellip;</td><td>&hellip;</td><td>&hellip;</td><td>&hellip;</td><td>&hellip;</td><td>&hellip;</td><td>&hellip;</td><td>&hellip;</td><td>&hellip;</td><td>&hellip;</td><td>&hellip;</td><td>&hellip;</td><td>&hellip;</td><td>&hellip;</td><td>&hellip;</td><td>&hellip;</td><td>&hellip;</td><td>&hellip;</td><td>&hellip;</td></tr><tr><td>&quot;OTH&quot;</td><td>6178</td><td>2018-03-11</td><td>2018-03-09</td><td>1879</td><td>2</td><td>1</td><td>5</td><td>2018-03-11 18:30:00</td><td>2018-03-11 20:10:00</td><td>100</td><td>-420</td><td>0</td><td>4</td><td>22</td><td>5</td><td>6755</td><td>335</td><td>3</td><td>7</td></tr><tr><td>&quot;L3&quot;</td><td>18349</td><td>2018-03-28</td><td>2018-02-23</td><td>281</td><td>33</td><td>1</td><td>4</td><td>2018-03-28 08:55:00</td><td>2018-03-28 10:25:00</td><td>90</td><td>-420</td><td>0</td><td>2</td><td>36</td><td>7</td><td>7054</td><td>229</td><td>3</td><td>4</td></tr><tr><td>&quot;L1&quot;</td><td>1528</td><td>2018-03-08</td><td>2018-02-24</td><td>896</td><td>12</td><td>0</td><td>9</td><td>2018-03-08 09:10:00</td><td>2018-03-08 11:51:00</td><td>161</td><td>-360</td><td>0</td><td>2</td><td>7</td><td>2</td><td>1687</td><td>340</td><td>5</td><td>6</td></tr><tr><td>&quot;L2&quot;</td><td>8018</td><td>2018-10-18</td><td>2018-09-17</td><td>614</td><td>31</td><td>1</td><td>9</td><td>2018-10-18 13:13:00</td><td>2018-10-18 15:59:00</td><td>166</td><td>-300</td><td>0</td><td>3</td><td>8</td><td>2</td><td>1941</td><td>297</td><td>5</td><td>6</td></tr><tr><td>&quot;U1&quot;</td><td>4771</td><td>2018-02-27</td><td>2018-02-10</td><td>294</td><td>17</td><td>0</td><td>4</td><td>null</td><td>null</td><td>null</td><td>null</td><td>null</td><td>null</td><td>null</td><td>null</td><td>null</td><td>null</td><td>3</td><td>4</td></tr></tbody></table></div>"
      ],
      "text/plain": [
       "shape: (1_698_818, 20)\n",
       "┌─────────┬─────────┬────────────┬────────────┬───┬────────────┬───────────┬───────────┬───────────┐\n",
       "│ carrier ┆ flt_num ┆ flt_depart ┆ observatio ┆ … ┆ scaled_dem ┆ scaled_sh ┆ origin_id ┆ destinati │\n",
       "│ ---     ┆ ---     ┆ ure_dt     ┆ n_date     ┆   ┆ and        ┆ are       ┆ ---       ┆ on_id     │\n",
       "│ str     ┆ i64     ┆ ---        ┆ ---        ┆   ┆ ---        ┆ ---       ┆ u8        ┆ ---       │\n",
       "│         ┆         ┆ date       ┆ date       ┆   ┆ i64        ┆ i64       ┆           ┆ u8        │\n",
       "╞═════════╪═════════╪════════════╪════════════╪═══╪════════════╪═══════════╪═══════════╪═══════════╡\n",
       "│ L2      ┆ 8018    ┆ 2018-11-10 ┆ 2018-11-02 ┆ … ┆ 1922       ┆ 301       ┆ 5         ┆ 6         │\n",
       "│ L2      ┆ 5314    ┆ 2018-01-15 ┆ 2017-12-15 ┆ … ┆ 6659       ┆ 213       ┆ 4         ┆ 3         │\n",
       "│ L2      ┆ 7852    ┆ 2018-01-18 ┆ 2018-01-01 ┆ … ┆ 1378       ┆ 320       ┆ 5         ┆ 6         │\n",
       "│ L1      ┆ 6294    ┆ 2018-09-29 ┆ 2018-09-25 ┆ … ┆ 2545       ┆ 401       ┆ 3         ┆ 2         │\n",
       "│ L3      ┆ 18273   ┆ 2018-03-28 ┆ 2018-03-02 ┆ … ┆ 7054       ┆ 229       ┆ 3         ┆ 4         │\n",
       "│ …       ┆ …       ┆ …          ┆ …          ┆ … ┆ …          ┆ …         ┆ …         ┆ …         │\n",
       "│ OTH     ┆ 6178    ┆ 2018-03-11 ┆ 2018-03-09 ┆ … ┆ 6755       ┆ 335       ┆ 3         ┆ 7         │\n",
       "│ L3      ┆ 18349   ┆ 2018-03-28 ┆ 2018-02-23 ┆ … ┆ 7054       ┆ 229       ┆ 3         ┆ 4         │\n",
       "│ L1      ┆ 1528    ┆ 2018-03-08 ┆ 2018-02-24 ┆ … ┆ 1687       ┆ 340       ┆ 5         ┆ 6         │\n",
       "│ L2      ┆ 8018    ┆ 2018-10-18 ┆ 2018-09-17 ┆ … ┆ 1941       ┆ 297       ┆ 5         ┆ 6         │\n",
       "│ U1      ┆ 4771    ┆ 2018-02-27 ┆ 2018-02-10 ┆ … ┆ null       ┆ null      ┆ 3         ┆ 4         │\n",
       "└─────────┴─────────┴────────────┴────────────┴───┴────────────┴───────────┴───────────┴───────────┘"
      ]
     },
     "execution_count": 48,
     "metadata": {},
     "output_type": "execute_result"
    }
   ],
   "source": [
    "train_fares_df = train_fares_df.with_columns(\n",
    "    pl.col('flt_departure_dt').dt.year().cast(pl.Int64()).alias('yr'),\n",
    "    pl.col('flt_departure_dt').dt.month().cast(pl.Int64()).alias('mo')\n",
    ").join(\n",
    "    train_sch_df.select(\n",
    "        [\n",
    "            'carrier', 'flt_num', 'flt_departure_dt', 'route_id',\n",
    "            'flt_departure_local_time', 'flt_arrival_local_time',\n",
    "            'dur_min', 'tz_min', 'over_mn', \n",
    "            'dpt_4h_od', 'flt_count_dpt_24h', 'flt_count_dpt_4h'\n",
    "        ]\n",
    "    ),\n",
    "    on = ['carrier', 'flt_num', 'flt_departure_dt', 'route_id'],\n",
    "    how = 'left'\n",
    ").join(\n",
    "    services_df.drop('origin', 'destination'),\n",
    "    on = ['route_id', 'carrier', 'yr', 'mo'],\n",
    "    how = 'left'\n",
    ").drop(\n",
    "    'yr', 'mo', 'origin_city', 'destination_city'\n",
    ").join(\n",
    "    airport_mapping,\n",
    "    left_on = 'origin',\n",
    "    right_on = 'airport',\n",
    "    how = 'left'\n",
    ").with_columns(\n",
    "    pl.col('airport_id').alias('origin_id')\n",
    ").drop(\n",
    "    'origin', 'airport_id'\n",
    ").join(\n",
    "    airport_mapping,\n",
    "    left_on = 'destination',\n",
    "    right_on = 'airport',\n",
    "    how = 'left'\n",
    ").with_columns(\n",
    "    pl.col('airport_id').alias('destination_id')\n",
    ").drop(\n",
    "    'destination', 'airport_id'\n",
    ")\n",
    "\n",
    "train_fares_df"
   ]
  },
  {
   "cell_type": "code",
   "execution_count": 49,
   "metadata": {},
   "outputs": [
    {
     "data": {
      "text/html": [
       "<div><style>\n",
       ".dataframe > thead > tr,\n",
       ".dataframe > tbody > tr {\n",
       "  text-align: right;\n",
       "  white-space: pre-wrap;\n",
       "}\n",
       "</style>\n",
       "<small>shape: (1_698_818, 21)</small><table border=\"1\" class=\"dataframe\"><thead><tr><th>carrier</th><th>flt_num</th><th>flt_departure_dt</th><th>observation_date</th><th>total_fare</th><th>days_till_flight</th><th>is_dst</th><th>route_id</th><th>flt_departure_local_time</th><th>flt_arrival_local_time</th><th>dur_min</th><th>tz_min</th><th>over_mn</th><th>dpt_4h_od</th><th>flt_count_dpt_24h</th><th>flt_count_dpt_4h</th><th>scaled_demand</th><th>scaled_share</th><th>origin_id</th><th>destination_id</th><th>flt_info_null</th></tr><tr><td>str</td><td>i64</td><td>date</td><td>date</td><td>i64</td><td>i16</td><td>i8</td><td>u8</td><td>datetime[ns]</td><td>datetime[ns]</td><td>i16</td><td>i16</td><td>i8</td><td>i8</td><td>u8</td><td>u8</td><td>i64</td><td>i64</td><td>u8</td><td>u8</td><td>u8</td></tr></thead><tbody><tr><td>&quot;U1&quot;</td><td>6143</td><td>2018-01-01</td><td>2017-11-27</td><td>469</td><td>35</td><td>0</td><td>11</td><td>null</td><td>null</td><td>null</td><td>null</td><td>null</td><td>null</td><td>null</td><td>null</td><td>null</td><td>null</td><td>7</td><td>3</td><td>1</td></tr><tr><td>&quot;L1&quot;</td><td>5927</td><td>2018-01-01</td><td>2017-11-27</td><td>1119</td><td>35</td><td>0</td><td>1</td><td>2018-01-01 20:33:00</td><td>2018-01-01 23:50:00</td><td>197</td><td>-300</td><td>0</td><td>5</td><td>5</td><td>1</td><td>1468</td><td>360</td><td>1</td><td>5</td><td>0</td></tr><tr><td>&quot;L3&quot;</td><td>18075</td><td>2018-01-01</td><td>2017-11-27</td><td>422</td><td>35</td><td>0</td><td>6</td><td>2018-01-01 13:20:00</td><td>2018-01-01 14:35:00</td><td>75</td><td>-480</td><td>0</td><td>3</td><td>30</td><td>9</td><td>6659</td><td>228</td><td>4</td><td>3</td><td>0</td></tr><tr><td>&quot;OTH&quot;</td><td>2416</td><td>2018-01-01</td><td>2017-11-27</td><td>787</td><td>35</td><td>0</td><td>4</td><td>2018-01-01 20:22:00</td><td>2018-01-01 21:46:00</td><td>84</td><td>-480</td><td>0</td><td>5</td><td>30</td><td>4</td><td>6659</td><td>316</td><td>3</td><td>4</td><td>0</td></tr><tr><td>&quot;L3&quot;</td><td>18270</td><td>2018-01-01</td><td>2017-11-27</td><td>1298</td><td>35</td><td>0</td><td>4</td><td>2018-01-01 11:17:00</td><td>2018-01-01 12:40:00</td><td>83</td><td>-480</td><td>0</td><td>2</td><td>30</td><td>5</td><td>6659</td><td>231</td><td>3</td><td>4</td><td>0</td></tr><tr><td>&hellip;</td><td>&hellip;</td><td>&hellip;</td><td>&hellip;</td><td>&hellip;</td><td>&hellip;</td><td>&hellip;</td><td>&hellip;</td><td>&hellip;</td><td>&hellip;</td><td>&hellip;</td><td>&hellip;</td><td>&hellip;</td><td>&hellip;</td><td>&hellip;</td><td>&hellip;</td><td>&hellip;</td><td>&hellip;</td><td>&hellip;</td><td>&hellip;</td><td>&hellip;</td></tr><tr><td>&quot;L1&quot;</td><td>3120</td><td>2018-12-31</td><td>2018-12-31</td><td>1111</td><td>0</td><td>0</td><td>11</td><td>2018-12-31 16:28:00</td><td>2018-12-31 17:58:00</td><td>90</td><td>-480</td><td>0</td><td>4</td><td>21</td><td>7</td><td>5817</td><td>288</td><td>7</td><td>3</td><td>0</td></tr><tr><td>&quot;U1&quot;</td><td>2388</td><td>2018-12-31</td><td>2018-12-31</td><td>1111</td><td>0</td><td>0</td><td>11</td><td>2018-12-31 09:25:00</td><td>2018-12-31 10:52:00</td><td>87</td><td>-480</td><td>0</td><td>2</td><td>21</td><td>5</td><td>5817</td><td>253</td><td>7</td><td>3</td><td>0</td></tr><tr><td>&quot;L1&quot;</td><td>6294</td><td>2018-12-31</td><td>2018-12-31</td><td>2037</td><td>0</td><td>0</td><td>3</td><td>2018-12-31 13:43:00</td><td>2018-12-31 18:45:00</td><td>302</td><td>-480</td><td>0</td><td>3</td><td>7</td><td>2</td><td>2790</td><td>405</td><td>3</td><td>2</td><td>0</td></tr><tr><td>&quot;U1&quot;</td><td>6178</td><td>2018-12-31</td><td>2018-12-31</td><td>1111</td><td>0</td><td>0</td><td>5</td><td>2018-12-31 19:05:00</td><td>2018-12-31 20:44:00</td><td>99</td><td>-480</td><td>0</td><td>4</td><td>21</td><td>7</td><td>5817</td><td>252</td><td>3</td><td>7</td><td>0</td></tr><tr><td>&quot;L1&quot;</td><td>10926</td><td>2018-12-31</td><td>2018-12-31</td><td>3142</td><td>0</td><td>0</td><td>10</td><td>2018-12-31 15:50:00</td><td>2018-12-31 18:49:00</td><td>179</td><td>-360</td><td>0</td><td>3</td><td>6</td><td>3</td><td>1618</td><td>317</td><td>6</td><td>5</td><td>0</td></tr></tbody></table></div>"
      ],
      "text/plain": [
       "shape: (1_698_818, 21)\n",
       "┌─────────┬─────────┬────────────┬────────────┬───┬────────────┬───────────┬───────────┬───────────┐\n",
       "│ carrier ┆ flt_num ┆ flt_depart ┆ observatio ┆ … ┆ scaled_sha ┆ origin_id ┆ destinati ┆ flt_info_ │\n",
       "│ ---     ┆ ---     ┆ ure_dt     ┆ n_date     ┆   ┆ re         ┆ ---       ┆ on_id     ┆ null      │\n",
       "│ str     ┆ i64     ┆ ---        ┆ ---        ┆   ┆ ---        ┆ u8        ┆ ---       ┆ ---       │\n",
       "│         ┆         ┆ date       ┆ date       ┆   ┆ i64        ┆           ┆ u8        ┆ u8        │\n",
       "╞═════════╪═════════╪════════════╪════════════╪═══╪════════════╪═══════════╪═══════════╪═══════════╡\n",
       "│ U1      ┆ 6143    ┆ 2018-01-01 ┆ 2017-11-27 ┆ … ┆ null       ┆ 7         ┆ 3         ┆ 1         │\n",
       "│ L1      ┆ 5927    ┆ 2018-01-01 ┆ 2017-11-27 ┆ … ┆ 360        ┆ 1         ┆ 5         ┆ 0         │\n",
       "│ L3      ┆ 18075   ┆ 2018-01-01 ┆ 2017-11-27 ┆ … ┆ 228        ┆ 4         ┆ 3         ┆ 0         │\n",
       "│ OTH     ┆ 2416    ┆ 2018-01-01 ┆ 2017-11-27 ┆ … ┆ 316        ┆ 3         ┆ 4         ┆ 0         │\n",
       "│ L3      ┆ 18270   ┆ 2018-01-01 ┆ 2017-11-27 ┆ … ┆ 231        ┆ 3         ┆ 4         ┆ 0         │\n",
       "│ …       ┆ …       ┆ …          ┆ …          ┆ … ┆ …          ┆ …         ┆ …         ┆ …         │\n",
       "│ L1      ┆ 3120    ┆ 2018-12-31 ┆ 2018-12-31 ┆ … ┆ 288        ┆ 7         ┆ 3         ┆ 0         │\n",
       "│ U1      ┆ 2388    ┆ 2018-12-31 ┆ 2018-12-31 ┆ … ┆ 253        ┆ 7         ┆ 3         ┆ 0         │\n",
       "│ L1      ┆ 6294    ┆ 2018-12-31 ┆ 2018-12-31 ┆ … ┆ 405        ┆ 3         ┆ 2         ┆ 0         │\n",
       "│ U1      ┆ 6178    ┆ 2018-12-31 ┆ 2018-12-31 ┆ … ┆ 252        ┆ 3         ┆ 7         ┆ 0         │\n",
       "│ L1      ┆ 10926   ┆ 2018-12-31 ┆ 2018-12-31 ┆ … ┆ 317        ┆ 6         ┆ 5         ┆ 0         │\n",
       "└─────────┴─────────┴────────────┴────────────┴───┴────────────┴───────────┴───────────┴───────────┘"
      ]
     },
     "execution_count": 49,
     "metadata": {},
     "output_type": "execute_result"
    }
   ],
   "source": [
    "train_fares_df = train_fares_df.with_columns(\n",
    "    pl.col('flt_departure_local_time').is_null().cast(pl.UInt8()).alias('flt_info_null')\n",
    ").sort('flt_departure_dt', 'observation_date')\n",
    "\n",
    "train_fares_df"
   ]
  },
  {
   "cell_type": "code",
   "execution_count": 50,
   "metadata": {},
   "outputs": [
    {
     "data": {
      "text/html": [
       "<div><style>\n",
       ".dataframe > thead > tr,\n",
       ".dataframe > tbody > tr {\n",
       "  text-align: right;\n",
       "  white-space: pre-wrap;\n",
       "}\n",
       "</style>\n",
       "<small>shape: (9, 22)</small><table border=\"1\" class=\"dataframe\"><thead><tr><th>statistic</th><th>carrier</th><th>flt_num</th><th>flt_departure_dt</th><th>observation_date</th><th>total_fare</th><th>days_till_flight</th><th>is_dst</th><th>route_id</th><th>flt_departure_local_time</th><th>flt_arrival_local_time</th><th>dur_min</th><th>tz_min</th><th>over_mn</th><th>dpt_4h_od</th><th>flt_count_dpt_24h</th><th>flt_count_dpt_4h</th><th>scaled_demand</th><th>scaled_share</th><th>origin_id</th><th>destination_id</th><th>flt_info_null</th></tr><tr><td>str</td><td>str</td><td>f64</td><td>str</td><td>str</td><td>f64</td><td>f64</td><td>f64</td><td>f64</td><td>str</td><td>str</td><td>f64</td><td>f64</td><td>f64</td><td>f64</td><td>f64</td><td>f64</td><td>f64</td><td>f64</td><td>f64</td><td>f64</td><td>f64</td></tr></thead><tbody><tr><td>&quot;count&quot;</td><td>&quot;1698818&quot;</td><td>1.698818e6</td><td>&quot;1698818&quot;</td><td>&quot;1698818&quot;</td><td>1.698818e6</td><td>1.698818e6</td><td>1.698818e6</td><td>1.698818e6</td><td>&quot;1599704&quot;</td><td>&quot;1599704&quot;</td><td>1.599704e6</td><td>1.599704e6</td><td>1.599704e6</td><td>1.599704e6</td><td>1.599704e6</td><td>1.599704e6</td><td>1.598505e6</td><td>1.598505e6</td><td>1.698818e6</td><td>1.698818e6</td><td>1.698818e6</td></tr><tr><td>&quot;null_count&quot;</td><td>&quot;0&quot;</td><td>0.0</td><td>&quot;0&quot;</td><td>&quot;0&quot;</td><td>0.0</td><td>0.0</td><td>0.0</td><td>0.0</td><td>&quot;99114&quot;</td><td>&quot;99114&quot;</td><td>99114.0</td><td>99114.0</td><td>99114.0</td><td>99114.0</td><td>99114.0</td><td>99114.0</td><td>100313.0</td><td>100313.0</td><td>0.0</td><td>0.0</td><td>0.0</td></tr><tr><td>&quot;mean&quot;</td><td>null</td><td>5910.75087</td><td>&quot;2018-06-24&quot;</td><td>&quot;2018-06-07&quot;</td><td>710.461822</td><td>17.419005</td><td>0.695564</td><td>5.91818</td><td>&quot;2018-07-01 06:49:28.030135&quot;</td><td>&quot;2018-07-01 08:45:02.581152&quot;</td><td>115.57585</td><td>-405.751189</td><td>0.013588</td><td>2.93231</td><td>23.034132</td><td>5.301361</td><td>5721.521024</td><td>271.993762</td><td>3.944983</td><td>3.839782</td><td>0.058343</td></tr><tr><td>&quot;std&quot;</td><td>null</td><td>4285.440264</td><td>null</td><td>null</td><td>543.207638</td><td>12.959215</td><td>0.460168</td><td>2.968049</td><td>null</td><td>null</td><td>62.670552</td><td>62.255521</td><td>0.115774</td><td>1.260417</td><td>11.898872</td><td>2.971523</td><td>2358.75767</td><td>63.198466</td><td>1.690606</td><td>1.631242</td><td>0.234391</td></tr><tr><td>&quot;min&quot;</td><td>&quot;L1&quot;</td><td>174.0</td><td>&quot;2018-01-01&quot;</td><td>&quot;2017-11-27&quot;</td><td>234.0</td><td>0.0</td><td>0.0</td><td>0.0</td><td>&quot;2018-01-01 05:31:00&quot;</td><td>&quot;2018-01-01 07:02:00&quot;</td><td>60.0</td><td>-480.0</td><td>0.0</td><td>0.0</td><td>2.0</td><td>1.0</td><td>1378.0</td><td>165.0</td><td>0.0</td><td>0.0</td><td>0.0</td></tr><tr><td>&quot;25%&quot;</td><td>null</td><td>2724.0</td><td>&quot;2018-03-30&quot;</td><td>&quot;2018-03-12&quot;</td><td>395.0</td><td>8.0</td><td>0.0</td><td>4.0</td><td>&quot;2018-04-04 08:05:00&quot;</td><td>&quot;2018-04-04 10:37:00&quot;</td><td>78.0</td><td>-420.0</td><td>0.0</td><td>2.0</td><td>9.0</td><td>3.0</td><td>2864.0</td><td>223.0</td><td>3.0</td><td>3.0</td><td>0.0</td></tr><tr><td>&quot;50%&quot;</td><td>null</td><td>5280.0</td><td>&quot;2018-06-08&quot;</td><td>&quot;2018-05-22&quot;</td><td>552.0</td><td>16.0</td><td>1.0</td><td>6.0</td><td>&quot;2018-06-20 06:05:00&quot;</td><td>&quot;2018-06-20 07:57:00&quot;</td><td>89.0</td><td>-420.0</td><td>0.0</td><td>3.0</td><td>22.0</td><td>5.0</td><td>7022.0</td><td>270.0</td><td>4.0</td><td>3.0</td><td>0.0</td></tr><tr><td>&quot;75%&quot;</td><td>null</td><td>6759.0</td><td>&quot;2018-09-24&quot;</td><td>&quot;2018-09-06&quot;</td><td>825.0</td><td>26.0</td><td>1.0</td><td>8.0</td><td>&quot;2018-09-29 10:40:00&quot;</td><td>&quot;2018-09-29 12:28:00&quot;</td><td>106.0</td><td>-360.0</td><td>0.0</td><td>4.0</td><td>35.0</td><td>8.0</td><td>7578.0</td><td>308.0</td><td>5.0</td><td>5.0</td><td>0.0</td></tr><tr><td>&quot;max&quot;</td><td>&quot;U3&quot;</td><td>29555.0</td><td>&quot;2018-12-31&quot;</td><td>&quot;2018-12-31&quot;</td><td>7859.0</td><td>328.0</td><td>1.0</td><td>11.0</td><td>&quot;2018-12-31 22:52:00&quot;</td><td>&quot;2019-01-01 00:26:00&quot;</td><td>304.0</td><td>-240.0</td><td>1.0</td><td>5.0</td><td>43.0</td><td>12.0</td><td>8396.0</td><td>423.0</td><td>7.0</td><td>7.0</td><td>1.0</td></tr></tbody></table></div>"
      ],
      "text/plain": [
       "shape: (9, 22)\n",
       "┌────────────┬─────────┬───────────┬───────────┬───┬───────────┬───────────┬───────────┬───────────┐\n",
       "│ statistic  ┆ carrier ┆ flt_num   ┆ flt_depar ┆ … ┆ scaled_sh ┆ origin_id ┆ destinati ┆ flt_info_ │\n",
       "│ ---        ┆ ---     ┆ ---       ┆ ture_dt   ┆   ┆ are       ┆ ---       ┆ on_id     ┆ null      │\n",
       "│ str        ┆ str     ┆ f64       ┆ ---       ┆   ┆ ---       ┆ f64       ┆ ---       ┆ ---       │\n",
       "│            ┆         ┆           ┆ str       ┆   ┆ f64       ┆           ┆ f64       ┆ f64       │\n",
       "╞════════════╪═════════╪═══════════╪═══════════╪═══╪═══════════╪═══════════╪═══════════╪═══════════╡\n",
       "│ count      ┆ 1698818 ┆ 1.698818e ┆ 1698818   ┆ … ┆ 1.598505e ┆ 1.698818e ┆ 1.698818e ┆ 1.698818e │\n",
       "│            ┆         ┆ 6         ┆           ┆   ┆ 6         ┆ 6         ┆ 6         ┆ 6         │\n",
       "│ null_count ┆ 0       ┆ 0.0       ┆ 0         ┆ … ┆ 100313.0  ┆ 0.0       ┆ 0.0       ┆ 0.0       │\n",
       "│ mean       ┆ null    ┆ 5910.7508 ┆ 2018-06-2 ┆ … ┆ 271.99376 ┆ 3.944983  ┆ 3.839782  ┆ 0.058343  │\n",
       "│            ┆         ┆ 7         ┆ 4         ┆   ┆ 2         ┆           ┆           ┆           │\n",
       "│ std        ┆ null    ┆ 4285.4402 ┆ null      ┆ … ┆ 63.198466 ┆ 1.690606  ┆ 1.631242  ┆ 0.234391  │\n",
       "│            ┆         ┆ 64        ┆           ┆   ┆           ┆           ┆           ┆           │\n",
       "│ min        ┆ L1      ┆ 174.0     ┆ 2018-01-0 ┆ … ┆ 165.0     ┆ 0.0       ┆ 0.0       ┆ 0.0       │\n",
       "│            ┆         ┆           ┆ 1         ┆   ┆           ┆           ┆           ┆           │\n",
       "│ 25%        ┆ null    ┆ 2724.0    ┆ 2018-03-3 ┆ … ┆ 223.0     ┆ 3.0       ┆ 3.0       ┆ 0.0       │\n",
       "│            ┆         ┆           ┆ 0         ┆   ┆           ┆           ┆           ┆           │\n",
       "│ 50%        ┆ null    ┆ 5280.0    ┆ 2018-06-0 ┆ … ┆ 270.0     ┆ 4.0       ┆ 3.0       ┆ 0.0       │\n",
       "│            ┆         ┆           ┆ 8         ┆   ┆           ┆           ┆           ┆           │\n",
       "│ 75%        ┆ null    ┆ 6759.0    ┆ 2018-09-2 ┆ … ┆ 308.0     ┆ 5.0       ┆ 5.0       ┆ 0.0       │\n",
       "│            ┆         ┆           ┆ 4         ┆   ┆           ┆           ┆           ┆           │\n",
       "│ max        ┆ U3      ┆ 29555.0   ┆ 2018-12-3 ┆ … ┆ 423.0     ┆ 7.0       ┆ 7.0       ┆ 1.0       │\n",
       "│            ┆         ┆           ┆ 1         ┆   ┆           ┆           ┆           ┆           │\n",
       "└────────────┴─────────┴───────────┴───────────┴───┴───────────┴───────────┴───────────┴───────────┘"
      ]
     },
     "execution_count": 50,
     "metadata": {},
     "output_type": "execute_result"
    }
   ],
   "source": [
    "train_fares_df.describe()"
   ]
  },
  {
   "cell_type": "code",
   "execution_count": 51,
   "metadata": {},
   "outputs": [
    {
     "data": {
      "text/html": [
       "<div><style>\n",
       ".dataframe > thead > tr,\n",
       ".dataframe > tbody > tr {\n",
       "  text-align: right;\n",
       "  white-space: pre-wrap;\n",
       "}\n",
       "</style>\n",
       "<small>shape: (29_825, 19)</small><table border=\"1\" class=\"dataframe\"><thead><tr><th>carrier</th><th>flt_num</th><th>flt_departure_dt</th><th>observation_date</th><th>days_till_flight</th><th>is_dst</th><th>route_id</th><th>flt_departure_local_time</th><th>flt_arrival_local_time</th><th>dur_min</th><th>tz_min</th><th>over_mn</th><th>dpt_4h_od</th><th>flt_count_dpt_24h</th><th>flt_count_dpt_4h</th><th>scaled_demand</th><th>scaled_share</th><th>origin_id</th><th>destination_id</th></tr><tr><td>str</td><td>i64</td><td>date</td><td>date</td><td>i16</td><td>i8</td><td>u8</td><td>datetime[ns]</td><td>datetime[ns]</td><td>i16</td><td>i16</td><td>i8</td><td>i8</td><td>u8</td><td>u8</td><td>i64</td><td>i64</td><td>u8</td><td>u8</td></tr></thead><tbody><tr><td>&quot;L2&quot;</td><td>7465</td><td>2019-01-01</td><td>2018-11-27</td><td>35</td><td>0</td><td>9</td><td>2019-01-01 08:04:00</td><td>2019-01-01 10:49:00</td><td>165</td><td>-360</td><td>0</td><td>2</td><td>7</td><td>2</td><td>null</td><td>null</td><td>5</td><td>6</td></tr><tr><td>&quot;L2&quot;</td><td>7067</td><td>2019-01-01</td><td>2018-11-27</td><td>35</td><td>0</td><td>9</td><td>2019-01-01 13:17:00</td><td>2019-01-01 16:00:00</td><td>163</td><td>-360</td><td>0</td><td>3</td><td>7</td><td>2</td><td>null</td><td>null</td><td>5</td><td>6</td></tr><tr><td>&quot;L2&quot;</td><td>1232</td><td>2019-01-01</td><td>2018-11-27</td><td>35</td><td>0</td><td>9</td><td>2019-01-01 18:40:00</td><td>2019-01-01 21:25:00</td><td>165</td><td>-360</td><td>0</td><td>4</td><td>7</td><td>2</td><td>null</td><td>null</td><td>5</td><td>6</td></tr><tr><td>&quot;L1&quot;</td><td>17783</td><td>2019-01-03</td><td>2018-11-29</td><td>35</td><td>0</td><td>10</td><td>2019-01-03 07:48:00</td><td>2019-01-03 10:50:00</td><td>182</td><td>-360</td><td>0</td><td>1</td><td>6</td><td>1</td><td>null</td><td>null</td><td>6</td><td>5</td></tr><tr><td>&quot;L1&quot;</td><td>5823</td><td>2019-01-03</td><td>2018-11-29</td><td>35</td><td>0</td><td>10</td><td>2019-01-03 15:55:00</td><td>2019-01-03 18:49:00</td><td>174</td><td>-360</td><td>0</td><td>3</td><td>6</td><td>2</td><td>null</td><td>null</td><td>6</td><td>5</td></tr><tr><td>&hellip;</td><td>&hellip;</td><td>&hellip;</td><td>&hellip;</td><td>&hellip;</td><td>&hellip;</td><td>&hellip;</td><td>&hellip;</td><td>&hellip;</td><td>&hellip;</td><td>&hellip;</td><td>&hellip;</td><td>&hellip;</td><td>&hellip;</td><td>&hellip;</td><td>&hellip;</td><td>&hellip;</td><td>&hellip;</td><td>&hellip;</td></tr><tr><td>&quot;L2&quot;</td><td>7067</td><td>2019-01-06</td><td>2018-12-31</td><td>6</td><td>0</td><td>9</td><td>2019-01-06 13:19:00</td><td>2019-01-06 16:00:00</td><td>161</td><td>-360</td><td>0</td><td>3</td><td>7</td><td>2</td><td>null</td><td>null</td><td>5</td><td>6</td></tr><tr><td>&quot;L2&quot;</td><td>1232</td><td>2019-01-06</td><td>2018-12-31</td><td>6</td><td>0</td><td>9</td><td>2019-01-06 18:36:00</td><td>2019-01-06 21:19:00</td><td>163</td><td>-360</td><td>0</td><td>4</td><td>7</td><td>2</td><td>null</td><td>null</td><td>5</td><td>6</td></tr><tr><td>&quot;L1&quot;</td><td>1484</td><td>2019-01-07</td><td>2018-12-31</td><td>7</td><td>0</td><td>0</td><td>2019-01-07 11:06:00</td><td>2019-01-07 14:17:00</td><td>191</td><td>-420</td><td>0</td><td>2</td><td>9</td><td>3</td><td>null</td><td>null</td><td>0</td><td>5</td></tr><tr><td>&quot;L1&quot;</td><td>18471</td><td>2019-01-07</td><td>2018-12-31</td><td>7</td><td>0</td><td>0</td><td>2019-01-07 14:45:00</td><td>2019-01-07 17:59:00</td><td>194</td><td>-420</td><td>0</td><td>3</td><td>9</td><td>2</td><td>null</td><td>null</td><td>0</td><td>5</td></tr><tr><td>&quot;L1&quot;</td><td>1487</td><td>2019-01-07</td><td>2018-12-31</td><td>7</td><td>0</td><td>0</td><td>2019-01-07 17:46:00</td><td>2019-01-07 20:57:00</td><td>191</td><td>-420</td><td>0</td><td>4</td><td>9</td><td>2</td><td>null</td><td>null</td><td>0</td><td>5</td></tr></tbody></table></div>"
      ],
      "text/plain": [
       "shape: (29_825, 19)\n",
       "┌─────────┬─────────┬────────────┬────────────┬───┬────────────┬───────────┬───────────┬───────────┐\n",
       "│ carrier ┆ flt_num ┆ flt_depart ┆ observatio ┆ … ┆ scaled_dem ┆ scaled_sh ┆ origin_id ┆ destinati │\n",
       "│ ---     ┆ ---     ┆ ure_dt     ┆ n_date     ┆   ┆ and        ┆ are       ┆ ---       ┆ on_id     │\n",
       "│ str     ┆ i64     ┆ ---        ┆ ---        ┆   ┆ ---        ┆ ---       ┆ u8        ┆ ---       │\n",
       "│         ┆         ┆ date       ┆ date       ┆   ┆ i64        ┆ i64       ┆           ┆ u8        │\n",
       "╞═════════╪═════════╪════════════╪════════════╪═══╪════════════╪═══════════╪═══════════╪═══════════╡\n",
       "│ L2      ┆ 7465    ┆ 2019-01-01 ┆ 2018-11-27 ┆ … ┆ null       ┆ null      ┆ 5         ┆ 6         │\n",
       "│ L2      ┆ 7067    ┆ 2019-01-01 ┆ 2018-11-27 ┆ … ┆ null       ┆ null      ┆ 5         ┆ 6         │\n",
       "│ L2      ┆ 1232    ┆ 2019-01-01 ┆ 2018-11-27 ┆ … ┆ null       ┆ null      ┆ 5         ┆ 6         │\n",
       "│ L1      ┆ 17783   ┆ 2019-01-03 ┆ 2018-11-29 ┆ … ┆ null       ┆ null      ┆ 6         ┆ 5         │\n",
       "│ L1      ┆ 5823    ┆ 2019-01-03 ┆ 2018-11-29 ┆ … ┆ null       ┆ null      ┆ 6         ┆ 5         │\n",
       "│ …       ┆ …       ┆ …          ┆ …          ┆ … ┆ …          ┆ …         ┆ …         ┆ …         │\n",
       "│ L2      ┆ 7067    ┆ 2019-01-06 ┆ 2018-12-31 ┆ … ┆ null       ┆ null      ┆ 5         ┆ 6         │\n",
       "│ L2      ┆ 1232    ┆ 2019-01-06 ┆ 2018-12-31 ┆ … ┆ null       ┆ null      ┆ 5         ┆ 6         │\n",
       "│ L1      ┆ 1484    ┆ 2019-01-07 ┆ 2018-12-31 ┆ … ┆ null       ┆ null      ┆ 0         ┆ 5         │\n",
       "│ L1      ┆ 18471   ┆ 2019-01-07 ┆ 2018-12-31 ┆ … ┆ null       ┆ null      ┆ 0         ┆ 5         │\n",
       "│ L1      ┆ 1487    ┆ 2019-01-07 ┆ 2018-12-31 ┆ … ┆ null       ┆ null      ┆ 0         ┆ 5         │\n",
       "└─────────┴─────────┴────────────┴────────────┴───┴────────────┴───────────┴───────────┴───────────┘"
      ]
     },
     "execution_count": 51,
     "metadata": {},
     "output_type": "execute_result"
    }
   ],
   "source": [
    "test_fares_df = test_fares_df.with_columns(\n",
    "    pl.col('flt_departure_dt').dt.year().cast(pl.Int64()).alias('yr'),\n",
    "    pl.col('flt_departure_dt').dt.month().cast(pl.Int64()).alias('mo')\n",
    ").join(\n",
    "    test_sch_df.select(\n",
    "        [\n",
    "            'carrier', 'flt_num', 'flt_departure_dt', 'route_id',\n",
    "            'flt_departure_local_time', 'flt_arrival_local_time',\n",
    "            'dur_min', 'tz_min', 'over_mn', \n",
    "            'dpt_4h_od', 'flt_count_dpt_24h', 'flt_count_dpt_4h'\n",
    "        ]\n",
    "    ),\n",
    "    on = ['carrier', 'flt_num', 'flt_departure_dt', 'route_id'],\n",
    "    how = 'left'\n",
    ").join(\n",
    "    services_df.drop('origin', 'destination'),\n",
    "    on = ['route_id', 'carrier', 'yr', 'mo'],\n",
    "    how = 'left'\n",
    ").drop(\n",
    "    'yr', 'mo', 'origin_city', 'destination_city'\n",
    ").join(\n",
    "    airport_mapping,\n",
    "    left_on = 'origin',\n",
    "    right_on = 'airport',\n",
    "    how = 'left'\n",
    ").with_columns(\n",
    "    pl.col('airport_id').alias('origin_id')\n",
    ").drop(\n",
    "    'origin', 'airport_id'\n",
    ").join(\n",
    "    airport_mapping,\n",
    "    left_on = 'destination',\n",
    "    right_on = 'airport',\n",
    "    how = 'left'\n",
    ").with_columns(\n",
    "    pl.col('airport_id').alias('destination_id')\n",
    ").drop(\n",
    "    'destination', 'airport_id'\n",
    ")\n",
    "\n",
    "test_fares_df"
   ]
  },
  {
   "cell_type": "code",
   "execution_count": 52,
   "metadata": {},
   "outputs": [
    {
     "data": {
      "text/html": [
       "<div><style>\n",
       ".dataframe > thead > tr,\n",
       ".dataframe > tbody > tr {\n",
       "  text-align: right;\n",
       "  white-space: pre-wrap;\n",
       "}\n",
       "</style>\n",
       "<small>shape: (29_825, 20)</small><table border=\"1\" class=\"dataframe\"><thead><tr><th>carrier</th><th>flt_num</th><th>flt_departure_dt</th><th>observation_date</th><th>days_till_flight</th><th>is_dst</th><th>route_id</th><th>flt_departure_local_time</th><th>flt_arrival_local_time</th><th>dur_min</th><th>tz_min</th><th>over_mn</th><th>dpt_4h_od</th><th>flt_count_dpt_24h</th><th>flt_count_dpt_4h</th><th>scaled_demand</th><th>scaled_share</th><th>origin_id</th><th>destination_id</th><th>flt_info_null</th></tr><tr><td>str</td><td>i64</td><td>date</td><td>date</td><td>i16</td><td>i8</td><td>u8</td><td>datetime[ns]</td><td>datetime[ns]</td><td>i16</td><td>i16</td><td>i8</td><td>i8</td><td>u8</td><td>u8</td><td>i64</td><td>i64</td><td>u8</td><td>u8</td><td>u8</td></tr></thead><tbody><tr><td>&quot;L2&quot;</td><td>7465</td><td>2019-01-01</td><td>2018-11-27</td><td>35</td><td>0</td><td>9</td><td>2019-01-01 08:04:00</td><td>2019-01-01 10:49:00</td><td>165</td><td>-360</td><td>0</td><td>2</td><td>7</td><td>2</td><td>null</td><td>null</td><td>5</td><td>6</td><td>0</td></tr><tr><td>&quot;L2&quot;</td><td>7067</td><td>2019-01-01</td><td>2018-11-27</td><td>35</td><td>0</td><td>9</td><td>2019-01-01 13:17:00</td><td>2019-01-01 16:00:00</td><td>163</td><td>-360</td><td>0</td><td>3</td><td>7</td><td>2</td><td>null</td><td>null</td><td>5</td><td>6</td><td>0</td></tr><tr><td>&quot;L2&quot;</td><td>1232</td><td>2019-01-01</td><td>2018-11-27</td><td>35</td><td>0</td><td>9</td><td>2019-01-01 18:40:00</td><td>2019-01-01 21:25:00</td><td>165</td><td>-360</td><td>0</td><td>4</td><td>7</td><td>2</td><td>null</td><td>null</td><td>5</td><td>6</td><td>0</td></tr><tr><td>&quot;U3&quot;</td><td>752</td><td>2019-01-01</td><td>2018-11-27</td><td>35</td><td>0</td><td>7</td><td>2019-01-01 08:45:00</td><td>2019-01-01 10:07:00</td><td>82</td><td>-360</td><td>0</td><td>2</td><td>9</td><td>3</td><td>null</td><td>null</td><td>5</td><td>0</td><td>0</td></tr><tr><td>&quot;L1&quot;</td><td>5135</td><td>2019-01-01</td><td>2018-11-27</td><td>35</td><td>0</td><td>7</td><td>2019-01-01 07:25:00</td><td>2019-01-01 08:42:00</td><td>77</td><td>-360</td><td>0</td><td>1</td><td>9</td><td>2</td><td>null</td><td>null</td><td>5</td><td>0</td><td>0</td></tr><tr><td>&hellip;</td><td>&hellip;</td><td>&hellip;</td><td>&hellip;</td><td>&hellip;</td><td>&hellip;</td><td>&hellip;</td><td>&hellip;</td><td>&hellip;</td><td>&hellip;</td><td>&hellip;</td><td>&hellip;</td><td>&hellip;</td><td>&hellip;</td><td>&hellip;</td><td>&hellip;</td><td>&hellip;</td><td>&hellip;</td><td>&hellip;</td><td>&hellip;</td></tr><tr><td>&quot;OTH&quot;</td><td>5292</td><td>2019-01-07</td><td>2018-12-31</td><td>7</td><td>0</td><td>6</td><td>null</td><td>null</td><td>null</td><td>null</td><td>null</td><td>null</td><td>null</td><td>null</td><td>null</td><td>null</td><td>4</td><td>3</td><td>1</td></tr><tr><td>&quot;OTH&quot;</td><td>6413</td><td>2019-01-07</td><td>2018-12-31</td><td>7</td><td>0</td><td>6</td><td>null</td><td>null</td><td>null</td><td>null</td><td>null</td><td>null</td><td>null</td><td>null</td><td>null</td><td>null</td><td>4</td><td>3</td><td>1</td></tr><tr><td>&quot;L1&quot;</td><td>1484</td><td>2019-01-07</td><td>2018-12-31</td><td>7</td><td>0</td><td>0</td><td>2019-01-07 11:06:00</td><td>2019-01-07 14:17:00</td><td>191</td><td>-420</td><td>0</td><td>2</td><td>9</td><td>3</td><td>null</td><td>null</td><td>0</td><td>5</td><td>0</td></tr><tr><td>&quot;L1&quot;</td><td>18471</td><td>2019-01-07</td><td>2018-12-31</td><td>7</td><td>0</td><td>0</td><td>2019-01-07 14:45:00</td><td>2019-01-07 17:59:00</td><td>194</td><td>-420</td><td>0</td><td>3</td><td>9</td><td>2</td><td>null</td><td>null</td><td>0</td><td>5</td><td>0</td></tr><tr><td>&quot;L1&quot;</td><td>1487</td><td>2019-01-07</td><td>2018-12-31</td><td>7</td><td>0</td><td>0</td><td>2019-01-07 17:46:00</td><td>2019-01-07 20:57:00</td><td>191</td><td>-420</td><td>0</td><td>4</td><td>9</td><td>2</td><td>null</td><td>null</td><td>0</td><td>5</td><td>0</td></tr></tbody></table></div>"
      ],
      "text/plain": [
       "shape: (29_825, 20)\n",
       "┌─────────┬─────────┬────────────┬────────────┬───┬────────────┬───────────┬───────────┬───────────┐\n",
       "│ carrier ┆ flt_num ┆ flt_depart ┆ observatio ┆ … ┆ scaled_sha ┆ origin_id ┆ destinati ┆ flt_info_ │\n",
       "│ ---     ┆ ---     ┆ ure_dt     ┆ n_date     ┆   ┆ re         ┆ ---       ┆ on_id     ┆ null      │\n",
       "│ str     ┆ i64     ┆ ---        ┆ ---        ┆   ┆ ---        ┆ u8        ┆ ---       ┆ ---       │\n",
       "│         ┆         ┆ date       ┆ date       ┆   ┆ i64        ┆           ┆ u8        ┆ u8        │\n",
       "╞═════════╪═════════╪════════════╪════════════╪═══╪════════════╪═══════════╪═══════════╪═══════════╡\n",
       "│ L2      ┆ 7465    ┆ 2019-01-01 ┆ 2018-11-27 ┆ … ┆ null       ┆ 5         ┆ 6         ┆ 0         │\n",
       "│ L2      ┆ 7067    ┆ 2019-01-01 ┆ 2018-11-27 ┆ … ┆ null       ┆ 5         ┆ 6         ┆ 0         │\n",
       "│ L2      ┆ 1232    ┆ 2019-01-01 ┆ 2018-11-27 ┆ … ┆ null       ┆ 5         ┆ 6         ┆ 0         │\n",
       "│ U3      ┆ 752     ┆ 2019-01-01 ┆ 2018-11-27 ┆ … ┆ null       ┆ 5         ┆ 0         ┆ 0         │\n",
       "│ L1      ┆ 5135    ┆ 2019-01-01 ┆ 2018-11-27 ┆ … ┆ null       ┆ 5         ┆ 0         ┆ 0         │\n",
       "│ …       ┆ …       ┆ …          ┆ …          ┆ … ┆ …          ┆ …         ┆ …         ┆ …         │\n",
       "│ OTH     ┆ 5292    ┆ 2019-01-07 ┆ 2018-12-31 ┆ … ┆ null       ┆ 4         ┆ 3         ┆ 1         │\n",
       "│ OTH     ┆ 6413    ┆ 2019-01-07 ┆ 2018-12-31 ┆ … ┆ null       ┆ 4         ┆ 3         ┆ 1         │\n",
       "│ L1      ┆ 1484    ┆ 2019-01-07 ┆ 2018-12-31 ┆ … ┆ null       ┆ 0         ┆ 5         ┆ 0         │\n",
       "│ L1      ┆ 18471   ┆ 2019-01-07 ┆ 2018-12-31 ┆ … ┆ null       ┆ 0         ┆ 5         ┆ 0         │\n",
       "│ L1      ┆ 1487    ┆ 2019-01-07 ┆ 2018-12-31 ┆ … ┆ null       ┆ 0         ┆ 5         ┆ 0         │\n",
       "└─────────┴─────────┴────────────┴────────────┴───┴────────────┴───────────┴───────────┴───────────┘"
      ]
     },
     "execution_count": 52,
     "metadata": {},
     "output_type": "execute_result"
    }
   ],
   "source": [
    "test_fares_df = test_fares_df.with_columns(\n",
    "    pl.col('flt_departure_local_time').is_null().cast(pl.UInt8()).alias('flt_info_null')\n",
    ").sort('flt_departure_dt', 'observation_date')\n",
    "\n",
    "test_fares_df"
   ]
  },
  {
   "cell_type": "code",
   "execution_count": 53,
   "metadata": {},
   "outputs": [
    {
     "data": {
      "text/html": [
       "<div><style>\n",
       ".dataframe > thead > tr,\n",
       ".dataframe > tbody > tr {\n",
       "  text-align: right;\n",
       "  white-space: pre-wrap;\n",
       "}\n",
       "</style>\n",
       "<small>shape: (9, 21)</small><table border=\"1\" class=\"dataframe\"><thead><tr><th>statistic</th><th>carrier</th><th>flt_num</th><th>flt_departure_dt</th><th>observation_date</th><th>days_till_flight</th><th>is_dst</th><th>route_id</th><th>flt_departure_local_time</th><th>flt_arrival_local_time</th><th>dur_min</th><th>tz_min</th><th>over_mn</th><th>dpt_4h_od</th><th>flt_count_dpt_24h</th><th>flt_count_dpt_4h</th><th>scaled_demand</th><th>scaled_share</th><th>origin_id</th><th>destination_id</th><th>flt_info_null</th></tr><tr><td>str</td><td>str</td><td>f64</td><td>str</td><td>str</td><td>f64</td><td>f64</td><td>f64</td><td>str</td><td>str</td><td>f64</td><td>f64</td><td>f64</td><td>f64</td><td>f64</td><td>f64</td><td>f64</td><td>f64</td><td>f64</td><td>f64</td><td>f64</td></tr></thead><tbody><tr><td>&quot;count&quot;</td><td>&quot;29825&quot;</td><td>29825.0</td><td>&quot;29825&quot;</td><td>&quot;29825&quot;</td><td>29825.0</td><td>29825.0</td><td>29825.0</td><td>&quot;28270&quot;</td><td>&quot;28270&quot;</td><td>28270.0</td><td>28270.0</td><td>28270.0</td><td>28270.0</td><td>28270.0</td><td>28270.0</td><td>0.0</td><td>0.0</td><td>29825.0</td><td>29825.0</td><td>29825.0</td></tr><tr><td>&quot;null_count&quot;</td><td>&quot;0&quot;</td><td>0.0</td><td>&quot;0&quot;</td><td>&quot;0&quot;</td><td>0.0</td><td>0.0</td><td>0.0</td><td>&quot;1555&quot;</td><td>&quot;1555&quot;</td><td>1555.0</td><td>1555.0</td><td>1555.0</td><td>1555.0</td><td>1555.0</td><td>1555.0</td><td>29825.0</td><td>29825.0</td><td>0.0</td><td>0.0</td><td>0.0</td></tr><tr><td>&quot;mean&quot;</td><td>null</td><td>5715.263973</td><td>&quot;2019-01-04&quot;</td><td>&quot;2018-12-15&quot;</td><td>19.635038</td><td>0.0</td><td>5.714032</td><td>&quot;2019-01-04 15:27:21.883975&quot;</td><td>&quot;2019-01-04 17:24:52.344534&quot;</td><td>117.507676</td><td>-445.895295</td><td>0.016555</td><td>2.906721</td><td>22.733039</td><td>5.17538</td><td>null</td><td>null</td><td>3.837754</td><td>3.816362</td><td>0.052137</td></tr><tr><td>&quot;std&quot;</td><td>null</td><td>4267.620699</td><td>null</td><td>null</td><td>9.468618</td><td>0.0</td><td>2.938501</td><td>null</td><td>null</td><td>64.980839</td><td>55.225729</td><td>0.127598</td><td>1.266345</td><td>12.844342</td><td>3.13061</td><td>null</td><td>null</td><td>1.666138</td><td>1.665688</td><td>0.222308</td></tr><tr><td>&quot;min&quot;</td><td>&quot;L1&quot;</td><td>564.0</td><td>&quot;2019-01-01&quot;</td><td>&quot;2018-11-27&quot;</td><td>1.0</td><td>0.0</td><td>0.0</td><td>&quot;2019-01-01 01:00:00&quot;</td><td>&quot;2019-01-01 05:53:00&quot;</td><td>63.0</td><td>-480.0</td><td>0.0</td><td>0.0</td><td>4.0</td><td>1.0</td><td>null</td><td>null</td><td>0.0</td><td>0.0</td><td>0.0</td></tr><tr><td>&quot;25%&quot;</td><td>null</td><td>2388.0</td><td>&quot;2019-01-02&quot;</td><td>&quot;2018-12-07&quot;</td><td>11.0</td><td>0.0</td><td>4.0</td><td>&quot;2019-01-02 18:55:00&quot;</td><td>&quot;2019-01-02 20:44:00&quot;</td><td>77.0</td><td>-480.0</td><td>0.0</td><td>2.0</td><td>9.0</td><td>3.0</td><td>null</td><td>null</td><td>3.0</td><td>3.0</td><td>0.0</td></tr><tr><td>&quot;50%&quot;</td><td>null</td><td>5638.0</td><td>&quot;2019-01-04&quot;</td><td>&quot;2018-12-15&quot;</td><td>20.0</td><td>0.0</td><td>5.0</td><td>&quot;2019-01-04 15:10:00&quot;</td><td>&quot;2019-01-04 17:10:00&quot;</td><td>90.0</td><td>-480.0</td><td>0.0</td><td>3.0</td><td>22.0</td><td>5.0</td><td>null</td><td>null</td><td>3.0</td><td>3.0</td><td>0.0</td></tr><tr><td>&quot;75%&quot;</td><td>null</td><td>6683.0</td><td>&quot;2019-01-06&quot;</td><td>&quot;2018-12-24&quot;</td><td>28.0</td><td>0.0</td><td>7.0</td><td>&quot;2019-01-06 11:30:00&quot;</td><td>&quot;2019-01-06 13:22:00&quot;</td><td>153.0</td><td>-360.0</td><td>0.0</td><td>4.0</td><td>33.0</td><td>8.0</td><td>null</td><td>null</td><td>5.0</td><td>5.0</td><td>0.0</td></tr><tr><td>&quot;max&quot;</td><td>&quot;U3&quot;</td><td>27769.0</td><td>&quot;2019-01-07&quot;</td><td>&quot;2018-12-31&quot;</td><td>41.0</td><td>0.0</td><td>11.0</td><td>&quot;2019-01-07 23:00:00&quot;</td><td>&quot;2019-01-08 00:44:00&quot;</td><td>304.0</td><td>-300.0</td><td>1.0</td><td>5.0</td><td>46.0</td><td>14.0</td><td>null</td><td>null</td><td>7.0</td><td>7.0</td><td>1.0</td></tr></tbody></table></div>"
      ],
      "text/plain": [
       "shape: (9, 21)\n",
       "┌────────────┬─────────┬───────────┬───────────┬───┬───────────┬───────────┬───────────┬───────────┐\n",
       "│ statistic  ┆ carrier ┆ flt_num   ┆ flt_depar ┆ … ┆ scaled_sh ┆ origin_id ┆ destinati ┆ flt_info_ │\n",
       "│ ---        ┆ ---     ┆ ---       ┆ ture_dt   ┆   ┆ are       ┆ ---       ┆ on_id     ┆ null      │\n",
       "│ str        ┆ str     ┆ f64       ┆ ---       ┆   ┆ ---       ┆ f64       ┆ ---       ┆ ---       │\n",
       "│            ┆         ┆           ┆ str       ┆   ┆ f64       ┆           ┆ f64       ┆ f64       │\n",
       "╞════════════╪═════════╪═══════════╪═══════════╪═══╪═══════════╪═══════════╪═══════════╪═══════════╡\n",
       "│ count      ┆ 29825   ┆ 29825.0   ┆ 29825     ┆ … ┆ 0.0       ┆ 29825.0   ┆ 29825.0   ┆ 29825.0   │\n",
       "│ null_count ┆ 0       ┆ 0.0       ┆ 0         ┆ … ┆ 29825.0   ┆ 0.0       ┆ 0.0       ┆ 0.0       │\n",
       "│ mean       ┆ null    ┆ 5715.2639 ┆ 2019-01-0 ┆ … ┆ null      ┆ 3.837754  ┆ 3.816362  ┆ 0.052137  │\n",
       "│            ┆         ┆ 73        ┆ 4         ┆   ┆           ┆           ┆           ┆           │\n",
       "│ std        ┆ null    ┆ 4267.6206 ┆ null      ┆ … ┆ null      ┆ 1.666138  ┆ 1.665688  ┆ 0.222308  │\n",
       "│            ┆         ┆ 99        ┆           ┆   ┆           ┆           ┆           ┆           │\n",
       "│ min        ┆ L1      ┆ 564.0     ┆ 2019-01-0 ┆ … ┆ null      ┆ 0.0       ┆ 0.0       ┆ 0.0       │\n",
       "│            ┆         ┆           ┆ 1         ┆   ┆           ┆           ┆           ┆           │\n",
       "│ 25%        ┆ null    ┆ 2388.0    ┆ 2019-01-0 ┆ … ┆ null      ┆ 3.0       ┆ 3.0       ┆ 0.0       │\n",
       "│            ┆         ┆           ┆ 2         ┆   ┆           ┆           ┆           ┆           │\n",
       "│ 50%        ┆ null    ┆ 5638.0    ┆ 2019-01-0 ┆ … ┆ null      ┆ 3.0       ┆ 3.0       ┆ 0.0       │\n",
       "│            ┆         ┆           ┆ 4         ┆   ┆           ┆           ┆           ┆           │\n",
       "│ 75%        ┆ null    ┆ 6683.0    ┆ 2019-01-0 ┆ … ┆ null      ┆ 5.0       ┆ 5.0       ┆ 0.0       │\n",
       "│            ┆         ┆           ┆ 6         ┆   ┆           ┆           ┆           ┆           │\n",
       "│ max        ┆ U3      ┆ 27769.0   ┆ 2019-01-0 ┆ … ┆ null      ┆ 7.0       ┆ 7.0       ┆ 1.0       │\n",
       "│            ┆         ┆           ┆ 7         ┆   ┆           ┆           ┆           ┆           │\n",
       "└────────────┴─────────┴───────────┴───────────┴───┴───────────┴───────────┴───────────┴───────────┘"
      ]
     },
     "execution_count": 53,
     "metadata": {},
     "output_type": "execute_result"
    }
   ],
   "source": [
    "test_fares_df.describe()"
   ]
  },
  {
   "cell_type": "markdown",
   "metadata": {},
   "source": [
    "## Saving"
   ]
  },
  {
   "cell_type": "code",
   "execution_count": 54,
   "metadata": {},
   "outputs": [],
   "source": [
    "train_fares_df.write_parquet(\n",
    "    PROCESSED_DATA_DIR.joinpath('training', 'train_full.parquet'),\n",
    "    use_pyarrow = True\n",
    ")\n",
    "\n",
    "test_fares_df.write_parquet(\n",
    "    PROCESSED_DATA_DIR.joinpath('test', 'test_full.parquet'),\n",
    "    use_pyarrow = True\n",
    ")\n",
    "\n",
    "route_mapping.write_parquet(\n",
    "    PROCESSED_DATA_DIR.joinpath('test', 'routes.parquet'),\n",
    "    use_pyarrow = True\n",
    ")\n",
    "\n",
    "airport_mapping.write_parquet(\n",
    "    PROCESSED_DATA_DIR.joinpath('test', 'airports.parquet'),\n",
    "    use_pyarrow = True\n",
    ")"
   ]
  },
  {
   "cell_type": "code",
   "execution_count": null,
   "metadata": {},
   "outputs": [],
   "source": []
  }
 ],
 "metadata": {
  "kernelspec": {
   "display_name": "Python 3",
   "language": "python",
   "name": "python3"
  },
  "language_info": {
   "codemirror_mode": {
    "name": "ipython",
    "version": 3
   },
   "file_extension": ".py",
   "mimetype": "text/x-python",
   "name": "python",
   "nbconvert_exporter": "python",
   "pygments_lexer": "ipython3",
   "version": "3.11.6"
  }
 },
 "nbformat": 4,
 "nbformat_minor": 2
}
