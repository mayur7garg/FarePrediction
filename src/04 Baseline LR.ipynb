{
 "cells": [
  {
   "cell_type": "markdown",
   "metadata": {},
   "source": [
    "# Baseline model using Linear Regression"
   ]
  },
  {
   "cell_type": "markdown",
   "metadata": {},
   "source": [
    "## Imports"
   ]
  },
  {
   "cell_type": "code",
   "execution_count": 1,
   "metadata": {},
   "outputs": [],
   "source": [
    "import polars as pl\n",
    "import seaborn as sns\n",
    "from matplotlib import pyplot as plt\n",
    "from sklearn.preprocessing import StandardScaler, OneHotEncoder\n",
    "from sklearn.linear_model import Ridge\n",
    "from sklearn.compose import ColumnTransformer\n",
    "from sklearn.pipeline import Pipeline\n",
    "from sklearn.model_selection import ParameterSampler\n",
    "from sklearn.metrics import root_mean_squared_error\n",
    "from sklearn import set_config\n",
    "\n",
    "from utils import PROCESSED_DATA_DIR, VALIDATION_CUTOFF, print_metrics\n",
    "\n",
    "pl.Config.set_tbl_rows(20)\n",
    "set_config(transform_output = \"pandas\")"
   ]
  },
  {
   "cell_type": "markdown",
   "metadata": {},
   "source": [
    "## Data loading"
   ]
  },
  {
   "cell_type": "code",
   "execution_count": 2,
   "metadata": {},
   "outputs": [
    {
     "data": {
      "text/html": [
       "<div><style>\n",
       ".dataframe > thead > tr,\n",
       ".dataframe > tbody > tr {\n",
       "  text-align: right;\n",
       "  white-space: pre-wrap;\n",
       "}\n",
       "</style>\n",
       "<small>shape: (1_698_818, 21)</small><table border=\"1\" class=\"dataframe\"><thead><tr><th>carrier</th><th>flt_num</th><th>flt_departure_dt</th><th>observation_date</th><th>total_fare</th><th>days_till_flight</th><th>is_dst</th><th>route_id</th><th>flt_departure_local_time</th><th>flt_arrival_local_time</th><th>dur_min</th><th>tz_min</th><th>over_mn</th><th>dpt_4h_od</th><th>flt_count_dpt_24h</th><th>flt_count_dpt_4h</th><th>scaled_demand</th><th>scaled_share</th><th>origin_id</th><th>destination_id</th><th>flt_info_null</th></tr><tr><td>str</td><td>i64</td><td>date</td><td>date</td><td>i64</td><td>i16</td><td>i8</td><td>u8</td><td>datetime[ns]</td><td>datetime[ns]</td><td>i16</td><td>i16</td><td>i8</td><td>i8</td><td>u8</td><td>u8</td><td>i64</td><td>i64</td><td>u8</td><td>u8</td><td>u8</td></tr></thead><tbody><tr><td>&quot;U1&quot;</td><td>6143</td><td>2018-01-01</td><td>2017-11-27</td><td>469</td><td>35</td><td>0</td><td>11</td><td>null</td><td>null</td><td>null</td><td>null</td><td>null</td><td>null</td><td>null</td><td>null</td><td>null</td><td>null</td><td>7</td><td>3</td><td>1</td></tr><tr><td>&quot;L1&quot;</td><td>5927</td><td>2018-01-01</td><td>2017-11-27</td><td>1119</td><td>35</td><td>0</td><td>1</td><td>2018-01-01 20:33:00</td><td>2018-01-01 23:50:00</td><td>197</td><td>-300</td><td>0</td><td>5</td><td>5</td><td>1</td><td>1468</td><td>360</td><td>1</td><td>5</td><td>0</td></tr><tr><td>&quot;L3&quot;</td><td>18075</td><td>2018-01-01</td><td>2017-11-27</td><td>422</td><td>35</td><td>0</td><td>6</td><td>2018-01-01 13:20:00</td><td>2018-01-01 14:35:00</td><td>75</td><td>-480</td><td>0</td><td>3</td><td>30</td><td>9</td><td>6659</td><td>228</td><td>4</td><td>3</td><td>0</td></tr><tr><td>&quot;OTH&quot;</td><td>2416</td><td>2018-01-01</td><td>2017-11-27</td><td>787</td><td>35</td><td>0</td><td>4</td><td>2018-01-01 20:22:00</td><td>2018-01-01 21:46:00</td><td>84</td><td>-480</td><td>0</td><td>5</td><td>30</td><td>4</td><td>6659</td><td>316</td><td>3</td><td>4</td><td>0</td></tr><tr><td>&quot;L3&quot;</td><td>18270</td><td>2018-01-01</td><td>2017-11-27</td><td>1298</td><td>35</td><td>0</td><td>4</td><td>2018-01-01 11:17:00</td><td>2018-01-01 12:40:00</td><td>83</td><td>-480</td><td>0</td><td>2</td><td>30</td><td>5</td><td>6659</td><td>231</td><td>3</td><td>4</td><td>0</td></tr><tr><td>&quot;L1&quot;</td><td>1396</td><td>2018-01-01</td><td>2017-11-27</td><td>372</td><td>35</td><td>0</td><td>11</td><td>2018-01-01 19:35:00</td><td>2018-01-01 21:08:00</td><td>93</td><td>-480</td><td>0</td><td>4</td><td>21</td><td>7</td><td>6579</td><td>262</td><td>7</td><td>3</td><td>0</td></tr><tr><td>&quot;U1&quot;</td><td>4771</td><td>2018-01-01</td><td>2017-11-27</td><td>513</td><td>35</td><td>0</td><td>4</td><td>null</td><td>null</td><td>null</td><td>null</td><td>null</td><td>null</td><td>null</td><td>null</td><td>null</td><td>null</td><td>3</td><td>4</td><td>1</td></tr><tr><td>&quot;OTH&quot;</td><td>4825</td><td>2018-01-01</td><td>2017-11-27</td><td>432</td><td>35</td><td>0</td><td>6</td><td>2018-01-01 12:55:00</td><td>2018-01-01 14:07:00</td><td>72</td><td>-480</td><td>0</td><td>3</td><td>30</td><td>9</td><td>6659</td><td>316</td><td>4</td><td>3</td><td>0</td></tr><tr><td>&quot;OTH&quot;</td><td>6175</td><td>2018-01-01</td><td>2017-11-27</td><td>341</td><td>35</td><td>0</td><td>11</td><td>2018-01-01 18:55:00</td><td>2018-01-01 20:23:00</td><td>88</td><td>-480</td><td>0</td><td>4</td><td>21</td><td>7</td><td>6579</td><td>354</td><td>7</td><td>3</td><td>0</td></tr><tr><td>&quot;U1&quot;</td><td>6187</td><td>2018-01-01</td><td>2017-11-27</td><td>341</td><td>35</td><td>0</td><td>11</td><td>null</td><td>null</td><td>null</td><td>null</td><td>null</td><td>null</td><td>null</td><td>null</td><td>null</td><td>null</td><td>7</td><td>3</td><td>1</td></tr><tr><td>&hellip;</td><td>&hellip;</td><td>&hellip;</td><td>&hellip;</td><td>&hellip;</td><td>&hellip;</td><td>&hellip;</td><td>&hellip;</td><td>&hellip;</td><td>&hellip;</td><td>&hellip;</td><td>&hellip;</td><td>&hellip;</td><td>&hellip;</td><td>&hellip;</td><td>&hellip;</td><td>&hellip;</td><td>&hellip;</td><td>&hellip;</td><td>&hellip;</td><td>&hellip;</td></tr><tr><td>&quot;L1&quot;</td><td>7431</td><td>2018-12-31</td><td>2018-12-31</td><td>1346</td><td>0</td><td>0</td><td>1</td><td>2018-12-31 07:00:00</td><td>2018-12-31 10:11:00</td><td>191</td><td>-300</td><td>0</td><td>1</td><td>4</td><td>1</td><td>2164</td><td>373</td><td>1</td><td>5</td><td>0</td></tr><tr><td>&quot;L1&quot;</td><td>981</td><td>2018-12-31</td><td>2018-12-31</td><td>3142</td><td>0</td><td>0</td><td>10</td><td>2018-12-31 18:49:00</td><td>2018-12-31 21:43:00</td><td>174</td><td>-360</td><td>0</td><td>4</td><td>6</td><td>1</td><td>1618</td><td>317</td><td>6</td><td>5</td><td>0</td></tr><tr><td>&quot;L1&quot;</td><td>1283</td><td>2018-12-31</td><td>2018-12-31</td><td>1111</td><td>0</td><td>0</td><td>11</td><td>2018-12-31 10:50:00</td><td>2018-12-31 12:20:00</td><td>90</td><td>-480</td><td>0</td><td>2</td><td>21</td><td>5</td><td>5817</td><td>288</td><td>7</td><td>3</td><td>0</td></tr><tr><td>&quot;L1&quot;</td><td>7588</td><td>2018-12-31</td><td>2018-12-31</td><td>1111</td><td>0</td><td>0</td><td>11</td><td>2018-12-31 22:52:00</td><td>2019-01-01 00:26:00</td><td>94</td><td>-480</td><td>1</td><td>5</td><td>21</td><td>3</td><td>5817</td><td>288</td><td>7</td><td>3</td><td>0</td></tr><tr><td>&quot;L1&quot;</td><td>5135</td><td>2018-12-31</td><td>2018-12-31</td><td>1924</td><td>0</td><td>0</td><td>7</td><td>2018-12-31 07:25:00</td><td>2018-12-31 08:42:00</td><td>77</td><td>-360</td><td>0</td><td>1</td><td>8</td><td>3</td><td>3070</td><td>272</td><td>5</td><td>0</td><td>0</td></tr><tr><td>&quot;L1&quot;</td><td>3120</td><td>2018-12-31</td><td>2018-12-31</td><td>1111</td><td>0</td><td>0</td><td>11</td><td>2018-12-31 16:28:00</td><td>2018-12-31 17:58:00</td><td>90</td><td>-480</td><td>0</td><td>4</td><td>21</td><td>7</td><td>5817</td><td>288</td><td>7</td><td>3</td><td>0</td></tr><tr><td>&quot;U1&quot;</td><td>2388</td><td>2018-12-31</td><td>2018-12-31</td><td>1111</td><td>0</td><td>0</td><td>11</td><td>2018-12-31 09:25:00</td><td>2018-12-31 10:52:00</td><td>87</td><td>-480</td><td>0</td><td>2</td><td>21</td><td>5</td><td>5817</td><td>253</td><td>7</td><td>3</td><td>0</td></tr><tr><td>&quot;L1&quot;</td><td>6294</td><td>2018-12-31</td><td>2018-12-31</td><td>2037</td><td>0</td><td>0</td><td>3</td><td>2018-12-31 13:43:00</td><td>2018-12-31 18:45:00</td><td>302</td><td>-480</td><td>0</td><td>3</td><td>7</td><td>2</td><td>2790</td><td>405</td><td>3</td><td>2</td><td>0</td></tr><tr><td>&quot;U1&quot;</td><td>6178</td><td>2018-12-31</td><td>2018-12-31</td><td>1111</td><td>0</td><td>0</td><td>5</td><td>2018-12-31 19:05:00</td><td>2018-12-31 20:44:00</td><td>99</td><td>-480</td><td>0</td><td>4</td><td>21</td><td>7</td><td>5817</td><td>252</td><td>3</td><td>7</td><td>0</td></tr><tr><td>&quot;L1&quot;</td><td>10926</td><td>2018-12-31</td><td>2018-12-31</td><td>3142</td><td>0</td><td>0</td><td>10</td><td>2018-12-31 15:50:00</td><td>2018-12-31 18:49:00</td><td>179</td><td>-360</td><td>0</td><td>3</td><td>6</td><td>3</td><td>1618</td><td>317</td><td>6</td><td>5</td><td>0</td></tr></tbody></table></div>"
      ],
      "text/plain": [
       "shape: (1_698_818, 21)\n",
       "┌─────────┬─────────┬────────────┬────────────┬───┬────────────┬───────────┬───────────┬───────────┐\n",
       "│ carrier ┆ flt_num ┆ flt_depart ┆ observatio ┆ … ┆ scaled_sha ┆ origin_id ┆ destinati ┆ flt_info_ │\n",
       "│ ---     ┆ ---     ┆ ure_dt     ┆ n_date     ┆   ┆ re         ┆ ---       ┆ on_id     ┆ null      │\n",
       "│ str     ┆ i64     ┆ ---        ┆ ---        ┆   ┆ ---        ┆ u8        ┆ ---       ┆ ---       │\n",
       "│         ┆         ┆ date       ┆ date       ┆   ┆ i64        ┆           ┆ u8        ┆ u8        │\n",
       "╞═════════╪═════════╪════════════╪════════════╪═══╪════════════╪═══════════╪═══════════╪═══════════╡\n",
       "│ U1      ┆ 6143    ┆ 2018-01-01 ┆ 2017-11-27 ┆ … ┆ null       ┆ 7         ┆ 3         ┆ 1         │\n",
       "│ L1      ┆ 5927    ┆ 2018-01-01 ┆ 2017-11-27 ┆ … ┆ 360        ┆ 1         ┆ 5         ┆ 0         │\n",
       "│ L3      ┆ 18075   ┆ 2018-01-01 ┆ 2017-11-27 ┆ … ┆ 228        ┆ 4         ┆ 3         ┆ 0         │\n",
       "│ OTH     ┆ 2416    ┆ 2018-01-01 ┆ 2017-11-27 ┆ … ┆ 316        ┆ 3         ┆ 4         ┆ 0         │\n",
       "│ L3      ┆ 18270   ┆ 2018-01-01 ┆ 2017-11-27 ┆ … ┆ 231        ┆ 3         ┆ 4         ┆ 0         │\n",
       "│ L1      ┆ 1396    ┆ 2018-01-01 ┆ 2017-11-27 ┆ … ┆ 262        ┆ 7         ┆ 3         ┆ 0         │\n",
       "│ U1      ┆ 4771    ┆ 2018-01-01 ┆ 2017-11-27 ┆ … ┆ null       ┆ 3         ┆ 4         ┆ 1         │\n",
       "│ OTH     ┆ 4825    ┆ 2018-01-01 ┆ 2017-11-27 ┆ … ┆ 316        ┆ 4         ┆ 3         ┆ 0         │\n",
       "│ OTH     ┆ 6175    ┆ 2018-01-01 ┆ 2017-11-27 ┆ … ┆ 354        ┆ 7         ┆ 3         ┆ 0         │\n",
       "│ U1      ┆ 6187    ┆ 2018-01-01 ┆ 2017-11-27 ┆ … ┆ null       ┆ 7         ┆ 3         ┆ 1         │\n",
       "│ …       ┆ …       ┆ …          ┆ …          ┆ … ┆ …          ┆ …         ┆ …         ┆ …         │\n",
       "│ L1      ┆ 7431    ┆ 2018-12-31 ┆ 2018-12-31 ┆ … ┆ 373        ┆ 1         ┆ 5         ┆ 0         │\n",
       "│ L1      ┆ 981     ┆ 2018-12-31 ┆ 2018-12-31 ┆ … ┆ 317        ┆ 6         ┆ 5         ┆ 0         │\n",
       "│ L1      ┆ 1283    ┆ 2018-12-31 ┆ 2018-12-31 ┆ … ┆ 288        ┆ 7         ┆ 3         ┆ 0         │\n",
       "│ L1      ┆ 7588    ┆ 2018-12-31 ┆ 2018-12-31 ┆ … ┆ 288        ┆ 7         ┆ 3         ┆ 0         │\n",
       "│ L1      ┆ 5135    ┆ 2018-12-31 ┆ 2018-12-31 ┆ … ┆ 272        ┆ 5         ┆ 0         ┆ 0         │\n",
       "│ L1      ┆ 3120    ┆ 2018-12-31 ┆ 2018-12-31 ┆ … ┆ 288        ┆ 7         ┆ 3         ┆ 0         │\n",
       "│ U1      ┆ 2388    ┆ 2018-12-31 ┆ 2018-12-31 ┆ … ┆ 253        ┆ 7         ┆ 3         ┆ 0         │\n",
       "│ L1      ┆ 6294    ┆ 2018-12-31 ┆ 2018-12-31 ┆ … ┆ 405        ┆ 3         ┆ 2         ┆ 0         │\n",
       "│ U1      ┆ 6178    ┆ 2018-12-31 ┆ 2018-12-31 ┆ … ┆ 252        ┆ 3         ┆ 7         ┆ 0         │\n",
       "│ L1      ┆ 10926   ┆ 2018-12-31 ┆ 2018-12-31 ┆ … ┆ 317        ┆ 6         ┆ 5         ┆ 0         │\n",
       "└─────────┴─────────┴────────────┴────────────┴───┴────────────┴───────────┴───────────┴───────────┘"
      ]
     },
     "execution_count": 2,
     "metadata": {},
     "output_type": "execute_result"
    }
   ],
   "source": [
    "processed_train_df = pl.read_parquet(\n",
    "    PROCESSED_DATA_DIR.joinpath('training', 'train_full.parquet')\n",
    ")\n",
    "\n",
    "processed_train_df"
   ]
  },
  {
   "cell_type": "code",
   "execution_count": 3,
   "metadata": {},
   "outputs": [
    {
     "data": {
      "text/html": [
       "<div><style>\n",
       ".dataframe > thead > tr,\n",
       ".dataframe > tbody > tr {\n",
       "  text-align: right;\n",
       "  white-space: pre-wrap;\n",
       "}\n",
       "</style>\n",
       "<small>shape: (9, 22)</small><table border=\"1\" class=\"dataframe\"><thead><tr><th>statistic</th><th>carrier</th><th>flt_num</th><th>flt_departure_dt</th><th>observation_date</th><th>total_fare</th><th>days_till_flight</th><th>is_dst</th><th>route_id</th><th>flt_departure_local_time</th><th>flt_arrival_local_time</th><th>dur_min</th><th>tz_min</th><th>over_mn</th><th>dpt_4h_od</th><th>flt_count_dpt_24h</th><th>flt_count_dpt_4h</th><th>scaled_demand</th><th>scaled_share</th><th>origin_id</th><th>destination_id</th><th>flt_info_null</th></tr><tr><td>str</td><td>str</td><td>f64</td><td>str</td><td>str</td><td>f64</td><td>f64</td><td>f64</td><td>f64</td><td>str</td><td>str</td><td>f64</td><td>f64</td><td>f64</td><td>f64</td><td>f64</td><td>f64</td><td>f64</td><td>f64</td><td>f64</td><td>f64</td><td>f64</td></tr></thead><tbody><tr><td>&quot;count&quot;</td><td>&quot;1698818&quot;</td><td>1.698818e6</td><td>&quot;1698818&quot;</td><td>&quot;1698818&quot;</td><td>1.698818e6</td><td>1.698818e6</td><td>1.698818e6</td><td>1.698818e6</td><td>&quot;1599704&quot;</td><td>&quot;1599704&quot;</td><td>1.599704e6</td><td>1.599704e6</td><td>1.599704e6</td><td>1.599704e6</td><td>1.599704e6</td><td>1.599704e6</td><td>1.598505e6</td><td>1.598505e6</td><td>1.698818e6</td><td>1.698818e6</td><td>1.698818e6</td></tr><tr><td>&quot;null_count&quot;</td><td>&quot;0&quot;</td><td>0.0</td><td>&quot;0&quot;</td><td>&quot;0&quot;</td><td>0.0</td><td>0.0</td><td>0.0</td><td>0.0</td><td>&quot;99114&quot;</td><td>&quot;99114&quot;</td><td>99114.0</td><td>99114.0</td><td>99114.0</td><td>99114.0</td><td>99114.0</td><td>99114.0</td><td>100313.0</td><td>100313.0</td><td>0.0</td><td>0.0</td><td>0.0</td></tr><tr><td>&quot;mean&quot;</td><td>null</td><td>5910.75087</td><td>&quot;2018-06-24&quot;</td><td>&quot;2018-06-07&quot;</td><td>710.461822</td><td>17.419005</td><td>0.695564</td><td>5.91818</td><td>&quot;2018-07-01 06:49:28.030135&quot;</td><td>&quot;2018-07-01 08:45:02.581152&quot;</td><td>115.57585</td><td>-405.751189</td><td>0.013588</td><td>2.93231</td><td>23.034132</td><td>5.301361</td><td>5721.521024</td><td>271.993762</td><td>3.944983</td><td>3.839782</td><td>0.058343</td></tr><tr><td>&quot;std&quot;</td><td>null</td><td>4285.440264</td><td>null</td><td>null</td><td>543.207638</td><td>12.959215</td><td>0.460168</td><td>2.968049</td><td>null</td><td>null</td><td>62.670552</td><td>62.255521</td><td>0.115774</td><td>1.260417</td><td>11.898872</td><td>2.971523</td><td>2358.75767</td><td>63.198466</td><td>1.690606</td><td>1.631242</td><td>0.234391</td></tr><tr><td>&quot;min&quot;</td><td>&quot;L1&quot;</td><td>174.0</td><td>&quot;2018-01-01&quot;</td><td>&quot;2017-11-27&quot;</td><td>234.0</td><td>0.0</td><td>0.0</td><td>0.0</td><td>&quot;2018-01-01 05:31:00&quot;</td><td>&quot;2018-01-01 07:02:00&quot;</td><td>60.0</td><td>-480.0</td><td>0.0</td><td>0.0</td><td>2.0</td><td>1.0</td><td>1378.0</td><td>165.0</td><td>0.0</td><td>0.0</td><td>0.0</td></tr><tr><td>&quot;25%&quot;</td><td>null</td><td>2724.0</td><td>&quot;2018-03-30&quot;</td><td>&quot;2018-03-12&quot;</td><td>395.0</td><td>8.0</td><td>0.0</td><td>4.0</td><td>&quot;2018-04-04 08:05:00&quot;</td><td>&quot;2018-04-04 10:37:00&quot;</td><td>78.0</td><td>-420.0</td><td>0.0</td><td>2.0</td><td>9.0</td><td>3.0</td><td>2864.0</td><td>223.0</td><td>3.0</td><td>3.0</td><td>0.0</td></tr><tr><td>&quot;50%&quot;</td><td>null</td><td>5280.0</td><td>&quot;2018-06-08&quot;</td><td>&quot;2018-05-22&quot;</td><td>552.0</td><td>16.0</td><td>1.0</td><td>6.0</td><td>&quot;2018-06-20 06:05:00&quot;</td><td>&quot;2018-06-20 07:57:00&quot;</td><td>89.0</td><td>-420.0</td><td>0.0</td><td>3.0</td><td>22.0</td><td>5.0</td><td>7022.0</td><td>270.0</td><td>4.0</td><td>3.0</td><td>0.0</td></tr><tr><td>&quot;75%&quot;</td><td>null</td><td>6759.0</td><td>&quot;2018-09-24&quot;</td><td>&quot;2018-09-06&quot;</td><td>825.0</td><td>26.0</td><td>1.0</td><td>8.0</td><td>&quot;2018-09-29 10:40:00&quot;</td><td>&quot;2018-09-29 12:28:00&quot;</td><td>106.0</td><td>-360.0</td><td>0.0</td><td>4.0</td><td>35.0</td><td>8.0</td><td>7578.0</td><td>308.0</td><td>5.0</td><td>5.0</td><td>0.0</td></tr><tr><td>&quot;max&quot;</td><td>&quot;U3&quot;</td><td>29555.0</td><td>&quot;2018-12-31&quot;</td><td>&quot;2018-12-31&quot;</td><td>7859.0</td><td>328.0</td><td>1.0</td><td>11.0</td><td>&quot;2018-12-31 22:52:00&quot;</td><td>&quot;2019-01-01 00:26:00&quot;</td><td>304.0</td><td>-240.0</td><td>1.0</td><td>5.0</td><td>43.0</td><td>12.0</td><td>8396.0</td><td>423.0</td><td>7.0</td><td>7.0</td><td>1.0</td></tr></tbody></table></div>"
      ],
      "text/plain": [
       "shape: (9, 22)\n",
       "┌────────────┬─────────┬───────────┬───────────┬───┬───────────┬───────────┬───────────┬───────────┐\n",
       "│ statistic  ┆ carrier ┆ flt_num   ┆ flt_depar ┆ … ┆ scaled_sh ┆ origin_id ┆ destinati ┆ flt_info_ │\n",
       "│ ---        ┆ ---     ┆ ---       ┆ ture_dt   ┆   ┆ are       ┆ ---       ┆ on_id     ┆ null      │\n",
       "│ str        ┆ str     ┆ f64       ┆ ---       ┆   ┆ ---       ┆ f64       ┆ ---       ┆ ---       │\n",
       "│            ┆         ┆           ┆ str       ┆   ┆ f64       ┆           ┆ f64       ┆ f64       │\n",
       "╞════════════╪═════════╪═══════════╪═══════════╪═══╪═══════════╪═══════════╪═══════════╪═══════════╡\n",
       "│ count      ┆ 1698818 ┆ 1.698818e ┆ 1698818   ┆ … ┆ 1.598505e ┆ 1.698818e ┆ 1.698818e ┆ 1.698818e │\n",
       "│            ┆         ┆ 6         ┆           ┆   ┆ 6         ┆ 6         ┆ 6         ┆ 6         │\n",
       "│ null_count ┆ 0       ┆ 0.0       ┆ 0         ┆ … ┆ 100313.0  ┆ 0.0       ┆ 0.0       ┆ 0.0       │\n",
       "│ mean       ┆ null    ┆ 5910.7508 ┆ 2018-06-2 ┆ … ┆ 271.99376 ┆ 3.944983  ┆ 3.839782  ┆ 0.058343  │\n",
       "│            ┆         ┆ 7         ┆ 4         ┆   ┆ 2         ┆           ┆           ┆           │\n",
       "│ std        ┆ null    ┆ 4285.4402 ┆ null      ┆ … ┆ 63.198466 ┆ 1.690606  ┆ 1.631242  ┆ 0.234391  │\n",
       "│            ┆         ┆ 64        ┆           ┆   ┆           ┆           ┆           ┆           │\n",
       "│ min        ┆ L1      ┆ 174.0     ┆ 2018-01-0 ┆ … ┆ 165.0     ┆ 0.0       ┆ 0.0       ┆ 0.0       │\n",
       "│            ┆         ┆           ┆ 1         ┆   ┆           ┆           ┆           ┆           │\n",
       "│ 25%        ┆ null    ┆ 2724.0    ┆ 2018-03-3 ┆ … ┆ 223.0     ┆ 3.0       ┆ 3.0       ┆ 0.0       │\n",
       "│            ┆         ┆           ┆ 0         ┆   ┆           ┆           ┆           ┆           │\n",
       "│ 50%        ┆ null    ┆ 5280.0    ┆ 2018-06-0 ┆ … ┆ 270.0     ┆ 4.0       ┆ 3.0       ┆ 0.0       │\n",
       "│            ┆         ┆           ┆ 8         ┆   ┆           ┆           ┆           ┆           │\n",
       "│ 75%        ┆ null    ┆ 6759.0    ┆ 2018-09-2 ┆ … ┆ 308.0     ┆ 5.0       ┆ 5.0       ┆ 0.0       │\n",
       "│            ┆         ┆           ┆ 4         ┆   ┆           ┆           ┆           ┆           │\n",
       "│ max        ┆ U3      ┆ 29555.0   ┆ 2018-12-3 ┆ … ┆ 423.0     ┆ 7.0       ┆ 7.0       ┆ 1.0       │\n",
       "│            ┆         ┆           ┆ 1         ┆   ┆           ┆           ┆           ┆           │\n",
       "└────────────┴─────────┴───────────┴───────────┴───┴───────────┴───────────┴───────────┴───────────┘"
      ]
     },
     "execution_count": 3,
     "metadata": {},
     "output_type": "execute_result"
    }
   ],
   "source": [
    "processed_train_df.describe()"
   ]
  },
  {
   "cell_type": "code",
   "execution_count": 4,
   "metadata": {},
   "outputs": [
    {
     "data": {
      "text/html": [
       "<div><style>\n",
       ".dataframe > thead > tr,\n",
       ".dataframe > tbody > tr {\n",
       "  text-align: right;\n",
       "  white-space: pre-wrap;\n",
       "}\n",
       "</style>\n",
       "<small>shape: (1_556_671, 21)</small><table border=\"1\" class=\"dataframe\"><thead><tr><th>carrier</th><th>flt_num</th><th>flt_departure_dt</th><th>observation_date</th><th>total_fare</th><th>days_till_flight</th><th>is_dst</th><th>route_id</th><th>flt_departure_local_time</th><th>flt_arrival_local_time</th><th>dur_min</th><th>tz_min</th><th>over_mn</th><th>dpt_4h_od</th><th>flt_count_dpt_24h</th><th>flt_count_dpt_4h</th><th>scaled_demand</th><th>scaled_share</th><th>origin_id</th><th>destination_id</th><th>flt_info_null</th></tr><tr><td>str</td><td>i64</td><td>date</td><td>date</td><td>i64</td><td>i16</td><td>i8</td><td>u8</td><td>datetime[ns]</td><td>datetime[ns]</td><td>i16</td><td>i16</td><td>i8</td><td>i8</td><td>u8</td><td>u8</td><td>i64</td><td>i64</td><td>u8</td><td>u8</td><td>u8</td></tr></thead><tbody><tr><td>&quot;U1&quot;</td><td>6143</td><td>2018-01-01</td><td>2017-11-27</td><td>469</td><td>35</td><td>0</td><td>11</td><td>null</td><td>null</td><td>null</td><td>null</td><td>null</td><td>null</td><td>null</td><td>null</td><td>null</td><td>null</td><td>7</td><td>3</td><td>1</td></tr><tr><td>&quot;L1&quot;</td><td>5927</td><td>2018-01-01</td><td>2017-11-27</td><td>1119</td><td>35</td><td>0</td><td>1</td><td>2018-01-01 20:33:00</td><td>2018-01-01 23:50:00</td><td>197</td><td>-300</td><td>0</td><td>5</td><td>5</td><td>1</td><td>1468</td><td>360</td><td>1</td><td>5</td><td>0</td></tr><tr><td>&quot;L3&quot;</td><td>18075</td><td>2018-01-01</td><td>2017-11-27</td><td>422</td><td>35</td><td>0</td><td>6</td><td>2018-01-01 13:20:00</td><td>2018-01-01 14:35:00</td><td>75</td><td>-480</td><td>0</td><td>3</td><td>30</td><td>9</td><td>6659</td><td>228</td><td>4</td><td>3</td><td>0</td></tr><tr><td>&quot;OTH&quot;</td><td>2416</td><td>2018-01-01</td><td>2017-11-27</td><td>787</td><td>35</td><td>0</td><td>4</td><td>2018-01-01 20:22:00</td><td>2018-01-01 21:46:00</td><td>84</td><td>-480</td><td>0</td><td>5</td><td>30</td><td>4</td><td>6659</td><td>316</td><td>3</td><td>4</td><td>0</td></tr><tr><td>&quot;L3&quot;</td><td>18270</td><td>2018-01-01</td><td>2017-11-27</td><td>1298</td><td>35</td><td>0</td><td>4</td><td>2018-01-01 11:17:00</td><td>2018-01-01 12:40:00</td><td>83</td><td>-480</td><td>0</td><td>2</td><td>30</td><td>5</td><td>6659</td><td>231</td><td>3</td><td>4</td><td>0</td></tr><tr><td>&quot;L1&quot;</td><td>1396</td><td>2018-01-01</td><td>2017-11-27</td><td>372</td><td>35</td><td>0</td><td>11</td><td>2018-01-01 19:35:00</td><td>2018-01-01 21:08:00</td><td>93</td><td>-480</td><td>0</td><td>4</td><td>21</td><td>7</td><td>6579</td><td>262</td><td>7</td><td>3</td><td>0</td></tr><tr><td>&quot;U1&quot;</td><td>4771</td><td>2018-01-01</td><td>2017-11-27</td><td>513</td><td>35</td><td>0</td><td>4</td><td>null</td><td>null</td><td>null</td><td>null</td><td>null</td><td>null</td><td>null</td><td>null</td><td>null</td><td>null</td><td>3</td><td>4</td><td>1</td></tr><tr><td>&quot;OTH&quot;</td><td>4825</td><td>2018-01-01</td><td>2017-11-27</td><td>432</td><td>35</td><td>0</td><td>6</td><td>2018-01-01 12:55:00</td><td>2018-01-01 14:07:00</td><td>72</td><td>-480</td><td>0</td><td>3</td><td>30</td><td>9</td><td>6659</td><td>316</td><td>4</td><td>3</td><td>0</td></tr><tr><td>&quot;OTH&quot;</td><td>6175</td><td>2018-01-01</td><td>2017-11-27</td><td>341</td><td>35</td><td>0</td><td>11</td><td>2018-01-01 18:55:00</td><td>2018-01-01 20:23:00</td><td>88</td><td>-480</td><td>0</td><td>4</td><td>21</td><td>7</td><td>6579</td><td>354</td><td>7</td><td>3</td><td>0</td></tr><tr><td>&quot;U1&quot;</td><td>6187</td><td>2018-01-01</td><td>2017-11-27</td><td>341</td><td>35</td><td>0</td><td>11</td><td>null</td><td>null</td><td>null</td><td>null</td><td>null</td><td>null</td><td>null</td><td>null</td><td>null</td><td>null</td><td>7</td><td>3</td><td>1</td></tr><tr><td>&hellip;</td><td>&hellip;</td><td>&hellip;</td><td>&hellip;</td><td>&hellip;</td><td>&hellip;</td><td>&hellip;</td><td>&hellip;</td><td>&hellip;</td><td>&hellip;</td><td>&hellip;</td><td>&hellip;</td><td>&hellip;</td><td>&hellip;</td><td>&hellip;</td><td>&hellip;</td><td>&hellip;</td><td>&hellip;</td><td>&hellip;</td><td>&hellip;</td><td>&hellip;</td></tr><tr><td>&quot;OTH&quot;</td><td>2972</td><td>2018-11-30</td><td>2018-11-30</td><td>696</td><td>0</td><td>0</td><td>6</td><td>2018-11-30 11:30:00</td><td>2018-11-30 12:43:00</td><td>73</td><td>-480</td><td>0</td><td>2</td><td>35</td><td>9</td><td>8086</td><td>264</td><td>4</td><td>3</td><td>0</td></tr><tr><td>&quot;L1&quot;</td><td>3437</td><td>2018-11-30</td><td>2018-11-30</td><td>2037</td><td>0</td><td>0</td><td>2</td><td>2018-11-30 18:18:00</td><td>2018-11-30 19:38:00</td><td>80</td><td>-360</td><td>0</td><td>4</td><td>8</td><td>3</td><td>2838</td><td>403</td><td>2</td><td>3</td><td>0</td></tr><tr><td>&quot;L1&quot;</td><td>1992</td><td>2018-11-30</td><td>2018-11-30</td><td>1167</td><td>0</td><td>0</td><td>4</td><td>2018-11-30 18:53:00</td><td>2018-11-30 20:05:00</td><td>72</td><td>-480</td><td>0</td><td>4</td><td>35</td><td>10</td><td>8086</td><td>199</td><td>3</td><td>4</td><td>0</td></tr><tr><td>&quot;OTH&quot;</td><td>1075</td><td>2018-11-30</td><td>2018-11-30</td><td>1073</td><td>0</td><td>0</td><td>3</td><td>2018-11-30 18:45:00</td><td>2018-11-30 23:42:00</td><td>297</td><td>-480</td><td>0</td><td>4</td><td>8</td><td>1</td><td>2838</td><td>214</td><td>3</td><td>2</td><td>0</td></tr><tr><td>&quot;L1&quot;</td><td>7136</td><td>2018-11-30</td><td>2018-11-30</td><td>1067</td><td>0</td><td>0</td><td>7</td><td>2018-11-30 19:49:00</td><td>2018-11-30 21:05:00</td><td>76</td><td>-360</td><td>0</td><td>4</td><td>10</td><td>4</td><td>3099</td><td>276</td><td>5</td><td>0</td><td>0</td></tr><tr><td>&quot;U1&quot;</td><td>6178</td><td>2018-11-30</td><td>2018-11-30</td><td>1111</td><td>0</td><td>0</td><td>5</td><td>2018-11-30 18:55:00</td><td>2018-11-30 20:35:00</td><td>100</td><td>-480</td><td>0</td><td>4</td><td>22</td><td>7</td><td>6396</td><td>250</td><td>3</td><td>7</td><td>0</td></tr><tr><td>&quot;L1&quot;</td><td>6294</td><td>2018-11-30</td><td>2018-11-30</td><td>2037</td><td>0</td><td>0</td><td>3</td><td>2018-11-30 14:03:00</td><td>2018-11-30 18:57:00</td><td>294</td><td>-480</td><td>0</td><td>3</td><td>8</td><td>4</td><td>2838</td><td>405</td><td>3</td><td>2</td><td>0</td></tr><tr><td>&quot;L3&quot;</td><td>11152</td><td>2018-11-30</td><td>2018-11-30</td><td>1911</td><td>0</td><td>0</td><td>4</td><td>2018-11-30 16:45:00</td><td>2018-11-30 18:05:00</td><td>80</td><td>-480</td><td>0</td><td>4</td><td>35</td><td>10</td><td>8086</td><td>228</td><td>3</td><td>4</td><td>0</td></tr><tr><td>&quot;L1&quot;</td><td>5701</td><td>2018-11-30</td><td>2018-11-30</td><td>2037</td><td>0</td><td>0</td><td>2</td><td>2018-11-30 21:59:00</td><td>2018-11-30 23:20:00</td><td>81</td><td>-360</td><td>0</td><td>5</td><td>8</td><td>1</td><td>2838</td><td>403</td><td>2</td><td>3</td><td>0</td></tr><tr><td>&quot;L3&quot;</td><td>6523</td><td>2018-11-30</td><td>2018-11-30</td><td>1911</td><td>0</td><td>0</td><td>6</td><td>2018-11-30 21:15:00</td><td>2018-11-30 22:25:00</td><td>70</td><td>-480</td><td>0</td><td>5</td><td>35</td><td>5</td><td>8086</td><td>226</td><td>4</td><td>3</td><td>0</td></tr></tbody></table></div>"
      ],
      "text/plain": [
       "shape: (1_556_671, 21)\n",
       "┌─────────┬─────────┬────────────┬────────────┬───┬────────────┬───────────┬───────────┬───────────┐\n",
       "│ carrier ┆ flt_num ┆ flt_depart ┆ observatio ┆ … ┆ scaled_sha ┆ origin_id ┆ destinati ┆ flt_info_ │\n",
       "│ ---     ┆ ---     ┆ ure_dt     ┆ n_date     ┆   ┆ re         ┆ ---       ┆ on_id     ┆ null      │\n",
       "│ str     ┆ i64     ┆ ---        ┆ ---        ┆   ┆ ---        ┆ u8        ┆ ---       ┆ ---       │\n",
       "│         ┆         ┆ date       ┆ date       ┆   ┆ i64        ┆           ┆ u8        ┆ u8        │\n",
       "╞═════════╪═════════╪════════════╪════════════╪═══╪════════════╪═══════════╪═══════════╪═══════════╡\n",
       "│ U1      ┆ 6143    ┆ 2018-01-01 ┆ 2017-11-27 ┆ … ┆ null       ┆ 7         ┆ 3         ┆ 1         │\n",
       "│ L1      ┆ 5927    ┆ 2018-01-01 ┆ 2017-11-27 ┆ … ┆ 360        ┆ 1         ┆ 5         ┆ 0         │\n",
       "│ L3      ┆ 18075   ┆ 2018-01-01 ┆ 2017-11-27 ┆ … ┆ 228        ┆ 4         ┆ 3         ┆ 0         │\n",
       "│ OTH     ┆ 2416    ┆ 2018-01-01 ┆ 2017-11-27 ┆ … ┆ 316        ┆ 3         ┆ 4         ┆ 0         │\n",
       "│ L3      ┆ 18270   ┆ 2018-01-01 ┆ 2017-11-27 ┆ … ┆ 231        ┆ 3         ┆ 4         ┆ 0         │\n",
       "│ L1      ┆ 1396    ┆ 2018-01-01 ┆ 2017-11-27 ┆ … ┆ 262        ┆ 7         ┆ 3         ┆ 0         │\n",
       "│ U1      ┆ 4771    ┆ 2018-01-01 ┆ 2017-11-27 ┆ … ┆ null       ┆ 3         ┆ 4         ┆ 1         │\n",
       "│ OTH     ┆ 4825    ┆ 2018-01-01 ┆ 2017-11-27 ┆ … ┆ 316        ┆ 4         ┆ 3         ┆ 0         │\n",
       "│ OTH     ┆ 6175    ┆ 2018-01-01 ┆ 2017-11-27 ┆ … ┆ 354        ┆ 7         ┆ 3         ┆ 0         │\n",
       "│ U1      ┆ 6187    ┆ 2018-01-01 ┆ 2017-11-27 ┆ … ┆ null       ┆ 7         ┆ 3         ┆ 1         │\n",
       "│ …       ┆ …       ┆ …          ┆ …          ┆ … ┆ …          ┆ …         ┆ …         ┆ …         │\n",
       "│ OTH     ┆ 2972    ┆ 2018-11-30 ┆ 2018-11-30 ┆ … ┆ 264        ┆ 4         ┆ 3         ┆ 0         │\n",
       "│ L1      ┆ 3437    ┆ 2018-11-30 ┆ 2018-11-30 ┆ … ┆ 403        ┆ 2         ┆ 3         ┆ 0         │\n",
       "│ L1      ┆ 1992    ┆ 2018-11-30 ┆ 2018-11-30 ┆ … ┆ 199        ┆ 3         ┆ 4         ┆ 0         │\n",
       "│ OTH     ┆ 1075    ┆ 2018-11-30 ┆ 2018-11-30 ┆ … ┆ 214        ┆ 3         ┆ 2         ┆ 0         │\n",
       "│ L1      ┆ 7136    ┆ 2018-11-30 ┆ 2018-11-30 ┆ … ┆ 276        ┆ 5         ┆ 0         ┆ 0         │\n",
       "│ U1      ┆ 6178    ┆ 2018-11-30 ┆ 2018-11-30 ┆ … ┆ 250        ┆ 3         ┆ 7         ┆ 0         │\n",
       "│ L1      ┆ 6294    ┆ 2018-11-30 ┆ 2018-11-30 ┆ … ┆ 405        ┆ 3         ┆ 2         ┆ 0         │\n",
       "│ L3      ┆ 11152   ┆ 2018-11-30 ┆ 2018-11-30 ┆ … ┆ 228        ┆ 3         ┆ 4         ┆ 0         │\n",
       "│ L1      ┆ 5701    ┆ 2018-11-30 ┆ 2018-11-30 ┆ … ┆ 403        ┆ 2         ┆ 3         ┆ 0         │\n",
       "│ L3      ┆ 6523    ┆ 2018-11-30 ┆ 2018-11-30 ┆ … ┆ 226        ┆ 4         ┆ 3         ┆ 0         │\n",
       "└─────────┴─────────┴────────────┴────────────┴───┴────────────┴───────────┴───────────┴───────────┘"
      ]
     },
     "execution_count": 4,
     "metadata": {},
     "output_type": "execute_result"
    }
   ],
   "source": [
    "train_df = processed_train_df.filter(\n",
    "    pl.col('flt_departure_dt') <= VALIDATION_CUTOFF\n",
    ")\n",
    "\n",
    "train_df"
   ]
  },
  {
   "cell_type": "code",
   "execution_count": 5,
   "metadata": {},
   "outputs": [
    {
     "data": {
      "text/html": [
       "<div><style>\n",
       ".dataframe > thead > tr,\n",
       ".dataframe > tbody > tr {\n",
       "  text-align: right;\n",
       "  white-space: pre-wrap;\n",
       "}\n",
       "</style>\n",
       "<small>shape: (9, 22)</small><table border=\"1\" class=\"dataframe\"><thead><tr><th>statistic</th><th>carrier</th><th>flt_num</th><th>flt_departure_dt</th><th>observation_date</th><th>total_fare</th><th>days_till_flight</th><th>is_dst</th><th>route_id</th><th>flt_departure_local_time</th><th>flt_arrival_local_time</th><th>dur_min</th><th>tz_min</th><th>over_mn</th><th>dpt_4h_od</th><th>flt_count_dpt_24h</th><th>flt_count_dpt_4h</th><th>scaled_demand</th><th>scaled_share</th><th>origin_id</th><th>destination_id</th><th>flt_info_null</th></tr><tr><td>str</td><td>str</td><td>f64</td><td>str</td><td>str</td><td>f64</td><td>f64</td><td>f64</td><td>f64</td><td>str</td><td>str</td><td>f64</td><td>f64</td><td>f64</td><td>f64</td><td>f64</td><td>f64</td><td>f64</td><td>f64</td><td>f64</td><td>f64</td><td>f64</td></tr></thead><tbody><tr><td>&quot;count&quot;</td><td>&quot;1556671&quot;</td><td>1.556671e6</td><td>&quot;1556671&quot;</td><td>&quot;1556671&quot;</td><td>1.556671e6</td><td>1.556671e6</td><td>1.556671e6</td><td>1.556671e6</td><td>&quot;1460289&quot;</td><td>&quot;1460289&quot;</td><td>1.460289e6</td><td>1.460289e6</td><td>1.460289e6</td><td>1.460289e6</td><td>1.460289e6</td><td>1.460289e6</td><td>1.456358e6</td><td>1.456358e6</td><td>1.556671e6</td><td>1.556671e6</td><td>1.556671e6</td></tr><tr><td>&quot;null_count&quot;</td><td>&quot;0&quot;</td><td>0.0</td><td>&quot;0&quot;</td><td>&quot;0&quot;</td><td>0.0</td><td>0.0</td><td>0.0</td><td>0.0</td><td>&quot;96382&quot;</td><td>&quot;96382&quot;</td><td>96382.0</td><td>96382.0</td><td>96382.0</td><td>96382.0</td><td>96382.0</td><td>96382.0</td><td>100313.0</td><td>100313.0</td><td>0.0</td><td>0.0</td><td>0.0</td></tr><tr><td>&quot;mean&quot;</td><td>null</td><td>5911.454399</td><td>&quot;2018-06-08&quot;</td><td>&quot;2018-05-22&quot;</td><td>698.183723</td><td>17.265929</td><td>0.759079</td><td>5.935386</td><td>&quot;2018-06-15 04:15:06.345305&quot;</td><td>&quot;2018-06-15 06:10:36.537699&quot;</td><td>115.503207</td><td>-401.853921</td><td>0.013829</td><td>2.936193</td><td>23.187674</td><td>5.327998</td><td>5772.255902</td><td>272.205624</td><td>3.954633</td><td>3.838421</td><td>0.061915</td></tr><tr><td>&quot;std&quot;</td><td>null</td><td>4283.113936</td><td>null</td><td>null</td><td>466.055604</td><td>12.725705</td><td>0.427643</td><td>2.968212</td><td>null</td><td>null</td><td>62.531057</td><td>61.484587</td><td>0.116783</td><td>1.262305</td><td>11.932692</td><td>2.9922</td><td>2377.101806</td><td>63.219415</td><td>1.691103</td><td>1.626951</td><td>0.241002</td></tr><tr><td>&quot;min&quot;</td><td>&quot;L1&quot;</td><td>174.0</td><td>&quot;2018-01-01&quot;</td><td>&quot;2017-11-27&quot;</td><td>234.0</td><td>0.0</td><td>0.0</td><td>0.0</td><td>&quot;2018-01-01 05:31:00&quot;</td><td>&quot;2018-01-01 07:02:00&quot;</td><td>60.0</td><td>-480.0</td><td>0.0</td><td>0.0</td><td>2.0</td><td>1.0</td><td>1378.0</td><td>165.0</td><td>0.0</td><td>0.0</td><td>0.0</td></tr><tr><td>&quot;25%&quot;</td><td>null</td><td>2724.0</td><td>&quot;2018-03-26&quot;</td><td>&quot;2018-03-09&quot;</td><td>395.0</td><td>8.0</td><td>1.0</td><td>4.0</td><td>&quot;2018-03-30 18:40:00&quot;</td><td>&quot;2018-03-30 20:37:00&quot;</td><td>79.0</td><td>-420.0</td><td>0.0</td><td>2.0</td><td>9.0</td><td>3.0</td><td>2864.0</td><td>222.0</td><td>3.0</td><td>3.0</td><td>0.0</td></tr><tr><td>&quot;50%&quot;</td><td>null</td><td>5274.0</td><td>&quot;2018-05-20&quot;</td><td>&quot;2018-05-04&quot;</td><td>552.0</td><td>16.0</td><td>1.0</td><td>6.0</td><td>&quot;2018-06-01 22:56:00&quot;</td><td>&quot;2018-06-02 00:11:00&quot;</td><td>89.0</td><td>-420.0</td><td>0.0</td><td>3.0</td><td>23.0</td><td>5.0</td><td>7054.0</td><td>273.0</td><td>4.0</td><td>3.0</td><td>0.0</td></tr><tr><td>&quot;75%&quot;</td><td>null</td><td>6759.0</td><td>&quot;2018-08-28&quot;</td><td>&quot;2018-08-11&quot;</td><td>819.0</td><td>26.0</td><td>1.0</td><td>8.0</td><td>&quot;2018-09-03 20:52:00&quot;</td><td>&quot;2018-09-03 22:38:00&quot;</td><td>105.0</td><td>-360.0</td><td>0.0</td><td>4.0</td><td>35.0</td><td>8.0</td><td>7578.0</td><td>308.0</td><td>5.0</td><td>5.0</td><td>0.0</td></tr><tr><td>&quot;max&quot;</td><td>&quot;U3&quot;</td><td>29555.0</td><td>&quot;2018-11-30&quot;</td><td>&quot;2018-11-30&quot;</td><td>6354.0</td><td>328.0</td><td>1.0</td><td>11.0</td><td>&quot;2018-11-30 22:45:00&quot;</td><td>&quot;2018-12-01 00:02:00&quot;</td><td>304.0</td><td>-240.0</td><td>1.0</td><td>5.0</td><td>43.0</td><td>12.0</td><td>8396.0</td><td>423.0</td><td>7.0</td><td>7.0</td><td>1.0</td></tr></tbody></table></div>"
      ],
      "text/plain": [
       "shape: (9, 22)\n",
       "┌────────────┬─────────┬───────────┬───────────┬───┬───────────┬───────────┬───────────┬───────────┐\n",
       "│ statistic  ┆ carrier ┆ flt_num   ┆ flt_depar ┆ … ┆ scaled_sh ┆ origin_id ┆ destinati ┆ flt_info_ │\n",
       "│ ---        ┆ ---     ┆ ---       ┆ ture_dt   ┆   ┆ are       ┆ ---       ┆ on_id     ┆ null      │\n",
       "│ str        ┆ str     ┆ f64       ┆ ---       ┆   ┆ ---       ┆ f64       ┆ ---       ┆ ---       │\n",
       "│            ┆         ┆           ┆ str       ┆   ┆ f64       ┆           ┆ f64       ┆ f64       │\n",
       "╞════════════╪═════════╪═══════════╪═══════════╪═══╪═══════════╪═══════════╪═══════════╪═══════════╡\n",
       "│ count      ┆ 1556671 ┆ 1.556671e ┆ 1556671   ┆ … ┆ 1.456358e ┆ 1.556671e ┆ 1.556671e ┆ 1.556671e │\n",
       "│            ┆         ┆ 6         ┆           ┆   ┆ 6         ┆ 6         ┆ 6         ┆ 6         │\n",
       "│ null_count ┆ 0       ┆ 0.0       ┆ 0         ┆ … ┆ 100313.0  ┆ 0.0       ┆ 0.0       ┆ 0.0       │\n",
       "│ mean       ┆ null    ┆ 5911.4543 ┆ 2018-06-0 ┆ … ┆ 272.20562 ┆ 3.954633  ┆ 3.838421  ┆ 0.061915  │\n",
       "│            ┆         ┆ 99        ┆ 8         ┆   ┆ 4         ┆           ┆           ┆           │\n",
       "│ std        ┆ null    ┆ 4283.1139 ┆ null      ┆ … ┆ 63.219415 ┆ 1.691103  ┆ 1.626951  ┆ 0.241002  │\n",
       "│            ┆         ┆ 36        ┆           ┆   ┆           ┆           ┆           ┆           │\n",
       "│ min        ┆ L1      ┆ 174.0     ┆ 2018-01-0 ┆ … ┆ 165.0     ┆ 0.0       ┆ 0.0       ┆ 0.0       │\n",
       "│            ┆         ┆           ┆ 1         ┆   ┆           ┆           ┆           ┆           │\n",
       "│ 25%        ┆ null    ┆ 2724.0    ┆ 2018-03-2 ┆ … ┆ 222.0     ┆ 3.0       ┆ 3.0       ┆ 0.0       │\n",
       "│            ┆         ┆           ┆ 6         ┆   ┆           ┆           ┆           ┆           │\n",
       "│ 50%        ┆ null    ┆ 5274.0    ┆ 2018-05-2 ┆ … ┆ 273.0     ┆ 4.0       ┆ 3.0       ┆ 0.0       │\n",
       "│            ┆         ┆           ┆ 0         ┆   ┆           ┆           ┆           ┆           │\n",
       "│ 75%        ┆ null    ┆ 6759.0    ┆ 2018-08-2 ┆ … ┆ 308.0     ┆ 5.0       ┆ 5.0       ┆ 0.0       │\n",
       "│            ┆         ┆           ┆ 8         ┆   ┆           ┆           ┆           ┆           │\n",
       "│ max        ┆ U3      ┆ 29555.0   ┆ 2018-11-3 ┆ … ┆ 423.0     ┆ 7.0       ┆ 7.0       ┆ 1.0       │\n",
       "│            ┆         ┆           ┆ 0         ┆   ┆           ┆           ┆           ┆           │\n",
       "└────────────┴─────────┴───────────┴───────────┴───┴───────────┴───────────┴───────────┴───────────┘"
      ]
     },
     "execution_count": 5,
     "metadata": {},
     "output_type": "execute_result"
    }
   ],
   "source": [
    "train_df.describe()"
   ]
  },
  {
   "cell_type": "code",
   "execution_count": 6,
   "metadata": {},
   "outputs": [
    {
     "data": {
      "text/html": [
       "<div><style>\n",
       ".dataframe > thead > tr,\n",
       ".dataframe > tbody > tr {\n",
       "  text-align: right;\n",
       "  white-space: pre-wrap;\n",
       "}\n",
       "</style>\n",
       "<small>shape: (29_492, 21)</small><table border=\"1\" class=\"dataframe\"><thead><tr><th>carrier</th><th>flt_num</th><th>flt_departure_dt</th><th>observation_date</th><th>total_fare</th><th>days_till_flight</th><th>is_dst</th><th>route_id</th><th>flt_departure_local_time</th><th>flt_arrival_local_time</th><th>dur_min</th><th>tz_min</th><th>over_mn</th><th>dpt_4h_od</th><th>flt_count_dpt_24h</th><th>flt_count_dpt_4h</th><th>scaled_demand</th><th>scaled_share</th><th>origin_id</th><th>destination_id</th><th>flt_info_null</th></tr><tr><td>str</td><td>i64</td><td>date</td><td>date</td><td>i64</td><td>i16</td><td>i8</td><td>u8</td><td>datetime[ns]</td><td>datetime[ns]</td><td>i16</td><td>i16</td><td>i8</td><td>i8</td><td>u8</td><td>u8</td><td>i64</td><td>i64</td><td>u8</td><td>u8</td><td>u8</td></tr></thead><tbody><tr><td>&quot;L2&quot;</td><td>7220</td><td>2018-12-01</td><td>2018-10-02</td><td>476</td><td>60</td><td>0</td><td>6</td><td>2018-12-01 10:15:00</td><td>2018-12-01 11:27:00</td><td>72</td><td>-480</td><td>0</td><td>2</td><td>32</td><td>9</td><td>7128</td><td>224</td><td>4</td><td>3</td><td>0</td></tr><tr><td>&quot;L2&quot;</td><td>4448</td><td>2018-12-01</td><td>2018-10-02</td><td>476</td><td>60</td><td>0</td><td>6</td><td>2018-12-01 08:40:00</td><td>2018-12-01 10:04:00</td><td>84</td><td>-480</td><td>0</td><td>2</td><td>32</td><td>9</td><td>7128</td><td>224</td><td>4</td><td>3</td><td>0</td></tr><tr><td>&quot;L2&quot;</td><td>7402</td><td>2018-12-01</td><td>2018-10-02</td><td>476</td><td>60</td><td>0</td><td>6</td><td>2018-12-01 14:10:00</td><td>2018-12-01 15:22:00</td><td>72</td><td>-480</td><td>0</td><td>3</td><td>32</td><td>9</td><td>7128</td><td>224</td><td>4</td><td>3</td><td>0</td></tr><tr><td>&quot;L2&quot;</td><td>2200</td><td>2018-12-01</td><td>2018-10-02</td><td>285</td><td>60</td><td>0</td><td>6</td><td>2018-12-01 19:50:00</td><td>2018-12-01 21:02:00</td><td>72</td><td>-480</td><td>0</td><td>4</td><td>32</td><td>10</td><td>7128</td><td>224</td><td>4</td><td>3</td><td>0</td></tr><tr><td>&quot;L2&quot;</td><td>8903</td><td>2018-12-01</td><td>2018-10-02</td><td>285</td><td>60</td><td>0</td><td>6</td><td>2018-12-01 22:45:00</td><td>2018-12-02 00:02:00</td><td>77</td><td>-480</td><td>1</td><td>5</td><td>32</td><td>1</td><td>7128</td><td>224</td><td>4</td><td>3</td><td>0</td></tr><tr><td>&quot;L2&quot;</td><td>5041</td><td>2018-12-01</td><td>2018-10-02</td><td>476</td><td>60</td><td>0</td><td>6</td><td>2018-12-01 12:40:00</td><td>2018-12-01 13:52:00</td><td>72</td><td>-480</td><td>0</td><td>3</td><td>32</td><td>9</td><td>7128</td><td>224</td><td>4</td><td>3</td><td>0</td></tr><tr><td>&quot;L2&quot;</td><td>1732</td><td>2018-12-01</td><td>2018-10-02</td><td>395</td><td>60</td><td>0</td><td>6</td><td>2018-12-01 16:50:00</td><td>2018-12-01 18:02:00</td><td>72</td><td>-480</td><td>0</td><td>4</td><td>32</td><td>10</td><td>7128</td><td>224</td><td>4</td><td>3</td><td>0</td></tr><tr><td>&quot;L1&quot;</td><td>5927</td><td>2018-12-01</td><td>2018-10-05</td><td>530</td><td>57</td><td>0</td><td>1</td><td>2018-12-01 20:30:00</td><td>2018-12-01 23:37:00</td><td>187</td><td>-300</td><td>0</td><td>5</td><td>4</td><td>1</td><td>2164</td><td>373</td><td>1</td><td>5</td><td>0</td></tr><tr><td>&quot;L1&quot;</td><td>11158</td><td>2018-12-01</td><td>2018-10-05</td><td>800</td><td>57</td><td>0</td><td>1</td><td>2018-12-01 12:03:00</td><td>2018-12-01 15:20:00</td><td>197</td><td>-300</td><td>0</td><td>3</td><td>4</td><td>1</td><td>2164</td><td>373</td><td>1</td><td>5</td><td>0</td></tr><tr><td>&quot;L1&quot;</td><td>7431</td><td>2018-12-01</td><td>2018-10-05</td><td>737</td><td>57</td><td>0</td><td>1</td><td>2018-12-01 07:29:00</td><td>2018-12-01 10:36:00</td><td>187</td><td>-300</td><td>0</td><td>1</td><td>4</td><td>1</td><td>2164</td><td>373</td><td>1</td><td>5</td><td>0</td></tr><tr><td>&hellip;</td><td>&hellip;</td><td>&hellip;</td><td>&hellip;</td><td>&hellip;</td><td>&hellip;</td><td>&hellip;</td><td>&hellip;</td><td>&hellip;</td><td>&hellip;</td><td>&hellip;</td><td>&hellip;</td><td>&hellip;</td><td>&hellip;</td><td>&hellip;</td><td>&hellip;</td><td>&hellip;</td><td>&hellip;</td><td>&hellip;</td><td>&hellip;</td><td>&hellip;</td></tr><tr><td>&quot;U1&quot;</td><td>6250</td><td>2018-12-07</td><td>2018-12-07</td><td>1283</td><td>0</td><td>0</td><td>11</td><td>2018-12-07 19:35:00</td><td>2018-12-07 21:09:00</td><td>94</td><td>-480</td><td>0</td><td>4</td><td>22</td><td>6</td><td>5817</td><td>253</td><td>7</td><td>3</td><td>0</td></tr><tr><td>&quot;L1&quot;</td><td>6278</td><td>2018-12-07</td><td>2018-12-07</td><td>1067</td><td>0</td><td>0</td><td>0</td><td>2018-12-07 15:30:00</td><td>2018-12-07 18:35:00</td><td>185</td><td>-420</td><td>0</td><td>3</td><td>10</td><td>4</td><td>3070</td><td>281</td><td>0</td><td>5</td><td>0</td></tr><tr><td>&quot;L3&quot;</td><td>11152</td><td>2018-12-07</td><td>2018-12-07</td><td>671</td><td>0</td><td>0</td><td>4</td><td>2018-12-07 16:45:00</td><td>2018-12-07 18:05:00</td><td>80</td><td>-480</td><td>0</td><td>4</td><td>35</td><td>10</td><td>7128</td><td>231</td><td>3</td><td>4</td><td>0</td></tr><tr><td>&quot;L1&quot;</td><td>2997</td><td>2018-12-07</td><td>2018-12-07</td><td>1346</td><td>0</td><td>0</td><td>8</td><td>2018-12-07 11:34:00</td><td>2018-12-07 16:10:00</td><td>276</td><td>-360</td><td>0</td><td>2</td><td>4</td><td>1</td><td>2164</td><td>373</td><td>5</td><td>1</td><td>0</td></tr><tr><td>&quot;L1&quot;</td><td>1176</td><td>2018-12-07</td><td>2018-12-07</td><td>395</td><td>0</td><td>0</td><td>4</td><td>2018-12-07 06:05:00</td><td>2018-12-07 07:21:00</td><td>76</td><td>-480</td><td>0</td><td>1</td><td>35</td><td>6</td><td>7128</td><td>189</td><td>3</td><td>4</td><td>0</td></tr><tr><td>&quot;U1&quot;</td><td>6162</td><td>2018-12-07</td><td>2018-12-07</td><td>1111</td><td>0</td><td>0</td><td>11</td><td>2018-12-07 16:20:00</td><td>2018-12-07 17:54:00</td><td>94</td><td>-480</td><td>0</td><td>4</td><td>22</td><td>6</td><td>5817</td><td>253</td><td>7</td><td>3</td><td>0</td></tr><tr><td>&quot;U1&quot;</td><td>6128</td><td>2018-12-07</td><td>2018-12-07</td><td>1111</td><td>0</td><td>0</td><td>5</td><td>2018-12-07 09:35:00</td><td>2018-12-07 11:12:00</td><td>97</td><td>-480</td><td>0</td><td>2</td><td>22</td><td>6</td><td>5817</td><td>252</td><td>3</td><td>7</td><td>0</td></tr><tr><td>&quot;L1&quot;</td><td>5701</td><td>2018-12-07</td><td>2018-12-07</td><td>2037</td><td>0</td><td>0</td><td>2</td><td>2018-12-07 21:59:00</td><td>2018-12-07 23:20:00</td><td>81</td><td>-360</td><td>0</td><td>5</td><td>8</td><td>1</td><td>2790</td><td>405</td><td>2</td><td>3</td><td>0</td></tr><tr><td>&quot;L2&quot;</td><td>5274</td><td>2018-12-07</td><td>2018-12-07</td><td>1742</td><td>0</td><td>0</td><td>9</td><td>2018-12-07 11:03:00</td><td>2018-12-07 13:44:00</td><td>161</td><td>-360</td><td>0</td><td>2</td><td>7</td><td>3</td><td>1618</td><td>310</td><td>5</td><td>6</td><td>0</td></tr><tr><td>&quot;L1&quot;</td><td>6517</td><td>2018-12-07</td><td>2018-12-07</td><td>1346</td><td>0</td><td>0</td><td>8</td><td>2018-12-07 16:15:00</td><td>2018-12-07 20:52:00</td><td>277</td><td>-360</td><td>0</td><td>4</td><td>4</td><td>1</td><td>2164</td><td>373</td><td>5</td><td>1</td><td>0</td></tr></tbody></table></div>"
      ],
      "text/plain": [
       "shape: (29_492, 21)\n",
       "┌─────────┬─────────┬────────────┬────────────┬───┬────────────┬───────────┬───────────┬───────────┐\n",
       "│ carrier ┆ flt_num ┆ flt_depart ┆ observatio ┆ … ┆ scaled_sha ┆ origin_id ┆ destinati ┆ flt_info_ │\n",
       "│ ---     ┆ ---     ┆ ure_dt     ┆ n_date     ┆   ┆ re         ┆ ---       ┆ on_id     ┆ null      │\n",
       "│ str     ┆ i64     ┆ ---        ┆ ---        ┆   ┆ ---        ┆ u8        ┆ ---       ┆ ---       │\n",
       "│         ┆         ┆ date       ┆ date       ┆   ┆ i64        ┆           ┆ u8        ┆ u8        │\n",
       "╞═════════╪═════════╪════════════╪════════════╪═══╪════════════╪═══════════╪═══════════╪═══════════╡\n",
       "│ L2      ┆ 7220    ┆ 2018-12-01 ┆ 2018-10-02 ┆ … ┆ 224        ┆ 4         ┆ 3         ┆ 0         │\n",
       "│ L2      ┆ 4448    ┆ 2018-12-01 ┆ 2018-10-02 ┆ … ┆ 224        ┆ 4         ┆ 3         ┆ 0         │\n",
       "│ L2      ┆ 7402    ┆ 2018-12-01 ┆ 2018-10-02 ┆ … ┆ 224        ┆ 4         ┆ 3         ┆ 0         │\n",
       "│ L2      ┆ 2200    ┆ 2018-12-01 ┆ 2018-10-02 ┆ … ┆ 224        ┆ 4         ┆ 3         ┆ 0         │\n",
       "│ L2      ┆ 8903    ┆ 2018-12-01 ┆ 2018-10-02 ┆ … ┆ 224        ┆ 4         ┆ 3         ┆ 0         │\n",
       "│ L2      ┆ 5041    ┆ 2018-12-01 ┆ 2018-10-02 ┆ … ┆ 224        ┆ 4         ┆ 3         ┆ 0         │\n",
       "│ L2      ┆ 1732    ┆ 2018-12-01 ┆ 2018-10-02 ┆ … ┆ 224        ┆ 4         ┆ 3         ┆ 0         │\n",
       "│ L1      ┆ 5927    ┆ 2018-12-01 ┆ 2018-10-05 ┆ … ┆ 373        ┆ 1         ┆ 5         ┆ 0         │\n",
       "│ L1      ┆ 11158   ┆ 2018-12-01 ┆ 2018-10-05 ┆ … ┆ 373        ┆ 1         ┆ 5         ┆ 0         │\n",
       "│ L1      ┆ 7431    ┆ 2018-12-01 ┆ 2018-10-05 ┆ … ┆ 373        ┆ 1         ┆ 5         ┆ 0         │\n",
       "│ …       ┆ …       ┆ …          ┆ …          ┆ … ┆ …          ┆ …         ┆ …         ┆ …         │\n",
       "│ U1      ┆ 6250    ┆ 2018-12-07 ┆ 2018-12-07 ┆ … ┆ 253        ┆ 7         ┆ 3         ┆ 0         │\n",
       "│ L1      ┆ 6278    ┆ 2018-12-07 ┆ 2018-12-07 ┆ … ┆ 281        ┆ 0         ┆ 5         ┆ 0         │\n",
       "│ L3      ┆ 11152   ┆ 2018-12-07 ┆ 2018-12-07 ┆ … ┆ 231        ┆ 3         ┆ 4         ┆ 0         │\n",
       "│ L1      ┆ 2997    ┆ 2018-12-07 ┆ 2018-12-07 ┆ … ┆ 373        ┆ 5         ┆ 1         ┆ 0         │\n",
       "│ L1      ┆ 1176    ┆ 2018-12-07 ┆ 2018-12-07 ┆ … ┆ 189        ┆ 3         ┆ 4         ┆ 0         │\n",
       "│ U1      ┆ 6162    ┆ 2018-12-07 ┆ 2018-12-07 ┆ … ┆ 253        ┆ 7         ┆ 3         ┆ 0         │\n",
       "│ U1      ┆ 6128    ┆ 2018-12-07 ┆ 2018-12-07 ┆ … ┆ 252        ┆ 3         ┆ 7         ┆ 0         │\n",
       "│ L1      ┆ 5701    ┆ 2018-12-07 ┆ 2018-12-07 ┆ … ┆ 405        ┆ 2         ┆ 3         ┆ 0         │\n",
       "│ L2      ┆ 5274    ┆ 2018-12-07 ┆ 2018-12-07 ┆ … ┆ 310        ┆ 5         ┆ 6         ┆ 0         │\n",
       "│ L1      ┆ 6517    ┆ 2018-12-07 ┆ 2018-12-07 ┆ … ┆ 373        ┆ 5         ┆ 1         ┆ 0         │\n",
       "└─────────┴─────────┴────────────┴────────────┴───┴────────────┴───────────┴───────────┴───────────┘"
      ]
     },
     "execution_count": 6,
     "metadata": {},
     "output_type": "execute_result"
    }
   ],
   "source": [
    "val_df = processed_train_df.filter(\n",
    "    (pl.col('flt_departure_dt') > VALIDATION_CUTOFF) & \n",
    "    (\n",
    "        pl.col('flt_departure_dt') <= (VALIDATION_CUTOFF + pl.duration(days = 7))\n",
    "    )\n",
    ")\n",
    "\n",
    "val_df"
   ]
  },
  {
   "cell_type": "code",
   "execution_count": 7,
   "metadata": {},
   "outputs": [
    {
     "data": {
      "text/html": [
       "<div><style>\n",
       ".dataframe > thead > tr,\n",
       ".dataframe > tbody > tr {\n",
       "  text-align: right;\n",
       "  white-space: pre-wrap;\n",
       "}\n",
       "</style>\n",
       "<small>shape: (9, 22)</small><table border=\"1\" class=\"dataframe\"><thead><tr><th>statistic</th><th>carrier</th><th>flt_num</th><th>flt_departure_dt</th><th>observation_date</th><th>total_fare</th><th>days_till_flight</th><th>is_dst</th><th>route_id</th><th>flt_departure_local_time</th><th>flt_arrival_local_time</th><th>dur_min</th><th>tz_min</th><th>over_mn</th><th>dpt_4h_od</th><th>flt_count_dpt_24h</th><th>flt_count_dpt_4h</th><th>scaled_demand</th><th>scaled_share</th><th>origin_id</th><th>destination_id</th><th>flt_info_null</th></tr><tr><td>str</td><td>str</td><td>f64</td><td>str</td><td>str</td><td>f64</td><td>f64</td><td>f64</td><td>f64</td><td>str</td><td>str</td><td>f64</td><td>f64</td><td>f64</td><td>f64</td><td>f64</td><td>f64</td><td>f64</td><td>f64</td><td>f64</td><td>f64</td><td>f64</td></tr></thead><tbody><tr><td>&quot;count&quot;</td><td>&quot;29492&quot;</td><td>29492.0</td><td>&quot;29492&quot;</td><td>&quot;29492&quot;</td><td>29492.0</td><td>29492.0</td><td>29492.0</td><td>29492.0</td><td>&quot;29462&quot;</td><td>&quot;29462&quot;</td><td>29462.0</td><td>29462.0</td><td>29462.0</td><td>29462.0</td><td>29462.0</td><td>29462.0</td><td>29492.0</td><td>29492.0</td><td>29492.0</td><td>29492.0</td><td>29492.0</td></tr><tr><td>&quot;null_count&quot;</td><td>&quot;0&quot;</td><td>0.0</td><td>&quot;0&quot;</td><td>&quot;0&quot;</td><td>0.0</td><td>0.0</td><td>0.0</td><td>0.0</td><td>&quot;30&quot;</td><td>&quot;30&quot;</td><td>30.0</td><td>30.0</td><td>30.0</td><td>30.0</td><td>30.0</td><td>30.0</td><td>0.0</td><td>0.0</td><td>0.0</td><td>0.0</td><td>0.0</td></tr><tr><td>&quot;mean&quot;</td><td>null</td><td>5931.477418</td><td>&quot;2018-12-04&quot;</td><td>&quot;2018-11-16&quot;</td><td>636.639767</td><td>17.878611</td><td>0.0</td><td>5.770005</td><td>&quot;2018-12-04 15:19:48.756364&quot;</td><td>&quot;2018-12-04 17:13:48.900956&quot;</td><td>114.00241</td><td>-447.238477</td><td>0.00818</td><td>2.917792</td><td>22.015613</td><td>5.295771</td><td>5224.45097</td><td>268.025397</td><td>3.864946</td><td>3.839278</td><td>0.001017</td></tr><tr><td>&quot;std&quot;</td><td>null</td><td>4253.523118</td><td>null</td><td>null</td><td>426.948517</td><td>14.627672</td><td>0.0</td><td>2.947329</td><td>null</td><td>null</td><td>63.011074</td><td>54.955176</td><td>0.090074</td><td>1.230295</td><td>12.075227</td><td>2.892415</td><td>2099.212104</td><td>62.301247</td><td>1.66831</td><td>1.65516</td><td>0.031878</td></tr><tr><td>&quot;min&quot;</td><td>&quot;L1&quot;</td><td>752.0</td><td>&quot;2018-12-01&quot;</td><td>&quot;2018-03-04&quot;</td><td>263.0</td><td>0.0</td><td>0.0</td><td>0.0</td><td>&quot;2018-12-01 00:40:00&quot;</td><td>&quot;2018-12-01 05:34:00&quot;</td><td>61.0</td><td>-480.0</td><td>0.0</td><td>0.0</td><td>4.0</td><td>1.0</td><td>1618.0</td><td>165.0</td><td>0.0</td><td>0.0</td><td>0.0</td></tr><tr><td>&quot;25%&quot;</td><td>null</td><td>2667.0</td><td>&quot;2018-12-02&quot;</td><td>&quot;2018-11-08&quot;</td><td>360.0</td><td>8.0</td><td>0.0</td><td>4.0</td><td>&quot;2018-12-02 19:35:00&quot;</td><td>&quot;2018-12-02 21:05:00&quot;</td><td>77.0</td><td>-480.0</td><td>0.0</td><td>2.0</td><td>8.0</td><td>3.0</td><td>2790.0</td><td>227.0</td><td>3.0</td><td>3.0</td><td>0.0</td></tr><tr><td>&quot;50%&quot;</td><td>null</td><td>5663.0</td><td>&quot;2018-12-04&quot;</td><td>&quot;2018-11-18&quot;</td><td>505.0</td><td>16.0</td><td>0.0</td><td>5.0</td><td>&quot;2018-12-04 15:10:00&quot;</td><td>&quot;2018-12-04 17:06:00&quot;</td><td>85.0</td><td>-480.0</td><td>0.0</td><td>3.0</td><td>21.0</td><td>5.0</td><td>5817.0</td><td>253.0</td><td>3.0</td><td>3.0</td><td>0.0</td></tr><tr><td>&quot;75%&quot;</td><td>null</td><td>7019.0</td><td>&quot;2018-12-06&quot;</td><td>&quot;2018-11-26&quot;</td><td>724.0</td><td>26.0</td><td>0.0</td><td>7.0</td><td>&quot;2018-12-06 11:05:00&quot;</td><td>&quot;2018-12-06 12:38:00&quot;</td><td>107.0</td><td>-420.0</td><td>0.0</td><td>4.0</td><td>35.0</td><td>8.0</td><td>7128.0</td><td>294.0</td><td>5.0</td><td>5.0</td><td>0.0</td></tr><tr><td>&quot;max&quot;</td><td>&quot;U3&quot;</td><td>18769.0</td><td>&quot;2018-12-07&quot;</td><td>&quot;2018-12-07&quot;</td><td>7859.0</td><td>276.0</td><td>0.0</td><td>11.0</td><td>&quot;2018-12-07 22:45:00&quot;</td><td>&quot;2018-12-08 00:02:00&quot;</td><td>301.0</td><td>-300.0</td><td>1.0</td><td>5.0</td><td>37.0</td><td>11.0</td><td>7128.0</td><td>405.0</td><td>7.0</td><td>7.0</td><td>1.0</td></tr></tbody></table></div>"
      ],
      "text/plain": [
       "shape: (9, 22)\n",
       "┌────────────┬─────────┬───────────┬───────────┬───┬───────────┬───────────┬───────────┬───────────┐\n",
       "│ statistic  ┆ carrier ┆ flt_num   ┆ flt_depar ┆ … ┆ scaled_sh ┆ origin_id ┆ destinati ┆ flt_info_ │\n",
       "│ ---        ┆ ---     ┆ ---       ┆ ture_dt   ┆   ┆ are       ┆ ---       ┆ on_id     ┆ null      │\n",
       "│ str        ┆ str     ┆ f64       ┆ ---       ┆   ┆ ---       ┆ f64       ┆ ---       ┆ ---       │\n",
       "│            ┆         ┆           ┆ str       ┆   ┆ f64       ┆           ┆ f64       ┆ f64       │\n",
       "╞════════════╪═════════╪═══════════╪═══════════╪═══╪═══════════╪═══════════╪═══════════╪═══════════╡\n",
       "│ count      ┆ 29492   ┆ 29492.0   ┆ 29492     ┆ … ┆ 29492.0   ┆ 29492.0   ┆ 29492.0   ┆ 29492.0   │\n",
       "│ null_count ┆ 0       ┆ 0.0       ┆ 0         ┆ … ┆ 0.0       ┆ 0.0       ┆ 0.0       ┆ 0.0       │\n",
       "│ mean       ┆ null    ┆ 5931.4774 ┆ 2018-12-0 ┆ … ┆ 268.02539 ┆ 3.864946  ┆ 3.839278  ┆ 0.001017  │\n",
       "│            ┆         ┆ 18        ┆ 4         ┆   ┆ 7         ┆           ┆           ┆           │\n",
       "│ std        ┆ null    ┆ 4253.5231 ┆ null      ┆ … ┆ 62.301247 ┆ 1.66831   ┆ 1.65516   ┆ 0.031878  │\n",
       "│            ┆         ┆ 18        ┆           ┆   ┆           ┆           ┆           ┆           │\n",
       "│ min        ┆ L1      ┆ 752.0     ┆ 2018-12-0 ┆ … ┆ 165.0     ┆ 0.0       ┆ 0.0       ┆ 0.0       │\n",
       "│            ┆         ┆           ┆ 1         ┆   ┆           ┆           ┆           ┆           │\n",
       "│ 25%        ┆ null    ┆ 2667.0    ┆ 2018-12-0 ┆ … ┆ 227.0     ┆ 3.0       ┆ 3.0       ┆ 0.0       │\n",
       "│            ┆         ┆           ┆ 2         ┆   ┆           ┆           ┆           ┆           │\n",
       "│ 50%        ┆ null    ┆ 5663.0    ┆ 2018-12-0 ┆ … ┆ 253.0     ┆ 3.0       ┆ 3.0       ┆ 0.0       │\n",
       "│            ┆         ┆           ┆ 4         ┆   ┆           ┆           ┆           ┆           │\n",
       "│ 75%        ┆ null    ┆ 7019.0    ┆ 2018-12-0 ┆ … ┆ 294.0     ┆ 5.0       ┆ 5.0       ┆ 0.0       │\n",
       "│            ┆         ┆           ┆ 6         ┆   ┆           ┆           ┆           ┆           │\n",
       "│ max        ┆ U3      ┆ 18769.0   ┆ 2018-12-0 ┆ … ┆ 405.0     ┆ 7.0       ┆ 7.0       ┆ 1.0       │\n",
       "│            ┆         ┆           ┆ 7         ┆   ┆           ┆           ┆           ┆           │\n",
       "└────────────┴─────────┴───────────┴───────────┴───┴───────────┴───────────┴───────────┴───────────┘"
      ]
     },
     "execution_count": 7,
     "metadata": {},
     "output_type": "execute_result"
    }
   ],
   "source": [
    "val_df.describe()"
   ]
  },
  {
   "cell_type": "markdown",
   "metadata": {},
   "source": [
    "## Data processing"
   ]
  },
  {
   "cell_type": "markdown",
   "metadata": {},
   "source": [
    "### Fare rescaling"
   ]
  },
  {
   "cell_type": "markdown",
   "metadata": {},
   "source": [
    "#### Check if any (`route`, `carrier`) pair is missing in `train_df`"
   ]
  },
  {
   "cell_type": "code",
   "execution_count": 8,
   "metadata": {},
   "outputs": [
    {
     "data": {
      "text/html": [
       "<div><style>\n",
       ".dataframe > thead > tr,\n",
       ".dataframe > tbody > tr {\n",
       "  text-align: right;\n",
       "  white-space: pre-wrap;\n",
       "}\n",
       "</style>\n",
       "<small>shape: (1, 4)</small><table border=\"1\" class=\"dataframe\"><thead><tr><th>route_id</th><th>carrier</th><th>route_id_right</th><th>carrier_right</th></tr><tr><td>u32</td><td>u32</td><td>u32</td><td>u32</td></tr></thead><tbody><tr><td>0</td><td>0</td><td>4</td><td>4</td></tr></tbody></table></div>"
      ],
      "text/plain": [
       "shape: (1, 4)\n",
       "┌──────────┬─────────┬────────────────┬───────────────┐\n",
       "│ route_id ┆ carrier ┆ route_id_right ┆ carrier_right │\n",
       "│ ---      ┆ ---     ┆ ---            ┆ ---           │\n",
       "│ u32      ┆ u32     ┆ u32            ┆ u32           │\n",
       "╞══════════╪═════════╪════════════════╪═══════════════╡\n",
       "│ 0        ┆ 0       ┆ 4              ┆ 4             │\n",
       "└──────────┴─────────┴────────────────┴───────────────┘"
      ]
     },
     "execution_count": 8,
     "metadata": {},
     "output_type": "execute_result"
    }
   ],
   "source": [
    "train_df.group_by('route_id', 'carrier').len().drop('len').join(\n",
    "    val_df.group_by('route_id', 'carrier').len().drop('len'),\n",
    "    on = ['route_id', 'carrier'],\n",
    "    how = 'outer'\n",
    ").null_count()"
   ]
  },
  {
   "cell_type": "markdown",
   "metadata": {},
   "source": [
    "#### Calculating range of log of fares by (`route`, `carrier`)"
   ]
  },
  {
   "cell_type": "code",
   "execution_count": 9,
   "metadata": {},
   "outputs": [
    {
     "data": {
      "text/html": [
       "<div><style>\n",
       ".dataframe > thead > tr,\n",
       ".dataframe > tbody > tr {\n",
       "  text-align: right;\n",
       "  white-space: pre-wrap;\n",
       "}\n",
       "</style>\n",
       "<small>shape: (9, 5)</small><table border=\"1\" class=\"dataframe\"><thead><tr><th>statistic</th><th>route_id</th><th>carrier</th><th>up_range</th><th>down_range</th></tr><tr><td>str</td><td>f64</td><td>str</td><td>f64</td><td>f64</td></tr></thead><tbody><tr><td>&quot;count&quot;</td><td>34.0</td><td>&quot;34&quot;</td><td>34.0</td><td>34.0</td></tr><tr><td>&quot;null_count&quot;</td><td>0.0</td><td>&quot;0&quot;</td><td>0.0</td><td>0.0</td></tr><tr><td>&quot;mean&quot;</td><td>5.588235</td><td>null</td><td>4.523691</td><td>0.462604</td></tr><tr><td>&quot;std&quot;</td><td>3.239132</td><td>null</td><td>1.945465</td><td>0.081088</td></tr><tr><td>&quot;min&quot;</td><td>0.0</td><td>&quot;L1&quot;</td><td>2.05318</td><td>0.278275</td></tr><tr><td>&quot;25%&quot;</td><td>3.0</td><td>null</td><td>2.838609</td><td>0.415042</td></tr><tr><td>&quot;50%&quot;</td><td>5.0</td><td>null</td><td>4.284137</td><td>0.46635</td></tr><tr><td>&quot;75%&quot;</td><td>8.0</td><td>null</td><td>5.292899</td><td>0.521188</td></tr><tr><td>&quot;max&quot;</td><td>11.0</td><td>&quot;U3&quot;</td><td>9.486336</td><td>0.623127</td></tr></tbody></table></div>"
      ],
      "text/plain": [
       "shape: (9, 5)\n",
       "┌────────────┬──────────┬─────────┬──────────┬────────────┐\n",
       "│ statistic  ┆ route_id ┆ carrier ┆ up_range ┆ down_range │\n",
       "│ ---        ┆ ---      ┆ ---     ┆ ---      ┆ ---        │\n",
       "│ str        ┆ f64      ┆ str     ┆ f64      ┆ f64        │\n",
       "╞════════════╪══════════╪═════════╪══════════╪════════════╡\n",
       "│ count      ┆ 34.0     ┆ 34      ┆ 34.0     ┆ 34.0       │\n",
       "│ null_count ┆ 0.0      ┆ 0       ┆ 0.0      ┆ 0.0        │\n",
       "│ mean       ┆ 5.588235 ┆ null    ┆ 4.523691 ┆ 0.462604   │\n",
       "│ std        ┆ 3.239132 ┆ null    ┆ 1.945465 ┆ 0.081088   │\n",
       "│ min        ┆ 0.0      ┆ L1      ┆ 2.05318  ┆ 0.278275   │\n",
       "│ 25%        ┆ 3.0      ┆ null    ┆ 2.838609 ┆ 0.415042   │\n",
       "│ 50%        ┆ 5.0      ┆ null    ┆ 4.284137 ┆ 0.46635    │\n",
       "│ 75%        ┆ 8.0      ┆ null    ┆ 5.292899 ┆ 0.521188   │\n",
       "│ max        ┆ 11.0     ┆ U3      ┆ 9.486336 ┆ 0.623127   │\n",
       "└────────────┴──────────┴─────────┴──────────┴────────────┘"
      ]
     },
     "execution_count": 9,
     "metadata": {},
     "output_type": "execute_result"
    }
   ],
   "source": [
    "train_df.group_by('route_id', 'carrier').agg(\n",
    "    (pl.col('total_fare').max() / pl.col('total_fare').mean()).alias('up_range'),\n",
    "    (pl.col('total_fare').min() / pl.col('total_fare').mean()).alias('down_range')\n",
    ").describe()"
   ]
  },
  {
   "cell_type": "code",
   "execution_count": 10,
   "metadata": {},
   "outputs": [
    {
     "data": {
      "text/html": [
       "<div><style>\n",
       ".dataframe > thead > tr,\n",
       ".dataframe > tbody > tr {\n",
       "  text-align: right;\n",
       "  white-space: pre-wrap;\n",
       "}\n",
       "</style>\n",
       "<small>shape: (34, 6)</small><table border=\"1\" class=\"dataframe\"><thead><tr><th>route_id</th><th>carrier</th><th>base_fare</th><th>std_fare</th><th>min_fare</th><th>max_fare</th></tr><tr><td>u8</td><td>str</td><td>f64</td><td>f64</td><td>f64</td><td>f64</td></tr></thead><tbody><tr><td>0</td><td>&quot;L1&quot;</td><td>2.877514</td><td>0.194479</td><td>2.472756</td><td>3.764923</td></tr><tr><td>0</td><td>&quot;U3&quot;</td><td>2.728148</td><td>0.140458</td><td>2.468347</td><td>3.099681</td></tr><tr><td>1</td><td>&quot;L1&quot;</td><td>2.991069</td><td>0.197935</td><td>2.638489</td><td>3.749659</td></tr><tr><td>2</td><td>&quot;L1&quot;</td><td>2.931838</td><td>0.205985</td><td>2.472756</td><td>3.725503</td></tr><tr><td>2</td><td>&quot;OTH&quot;</td><td>2.758927</td><td>0.160084</td><td>2.448706</td><td>3.170555</td></tr><tr><td>2</td><td>&quot;U3&quot;</td><td>2.701619</td><td>0.194855</td><td>2.418301</td><td>3.237795</td></tr><tr><td>3</td><td>&quot;L1&quot;</td><td>2.972533</td><td>0.216676</td><td>2.472756</td><td>3.730621</td></tr><tr><td>3</td><td>&quot;OTH&quot;</td><td>2.763481</td><td>0.173673</td><td>2.448706</td><td>3.170555</td></tr><tr><td>3</td><td>&quot;U3&quot;</td><td>2.808008</td><td>0.214577</td><td>2.418301</td><td>3.169674</td></tr><tr><td>4</td><td>&quot;L1&quot;</td><td>2.671029</td><td>0.199066</td><td>2.448706</td><td>3.555215</td></tr><tr><td>&hellip;</td><td>&hellip;</td><td>&hellip;</td><td>&hellip;</td><td>&hellip;</td><td>&hellip;</td></tr><tr><td>7</td><td>&quot;U3&quot;</td><td>2.727758</td><td>0.143512</td><td>2.491362</td><td>3.099681</td></tr><tr><td>8</td><td>&quot;L1&quot;</td><td>3.021101</td><td>0.204874</td><td>2.638489</td><td>3.789087</td></tr><tr><td>9</td><td>&quot;L1&quot;</td><td>2.969039</td><td>0.207485</td><td>2.662758</td><td>3.738622</td></tr><tr><td>9</td><td>&quot;L2&quot;</td><td>2.945677</td><td>0.182095</td><td>2.647383</td><td>3.642662</td></tr><tr><td>10</td><td>&quot;L1&quot;</td><td>3.003434</td><td>0.199444</td><td>2.669317</td><td>3.700963</td></tr><tr><td>10</td><td>&quot;L2&quot;</td><td>2.985401</td><td>0.181883</td><td>2.669317</td><td>3.642662</td></tr><tr><td>11</td><td>&quot;L1&quot;</td><td>2.766269</td><td>0.197139</td><td>2.485721</td><td>3.63789</td></tr><tr><td>11</td><td>&quot;OTH&quot;</td><td>2.72979</td><td>0.161205</td><td>2.489958</td><td>3.274158</td></tr><tr><td>11</td><td>&quot;U1&quot;</td><td>2.755964</td><td>0.176399</td><td>2.489958</td><td>3.295347</td></tr><tr><td>11</td><td>&quot;U3&quot;</td><td>2.621846</td><td>0.162245</td><td>2.369216</td><td>3.059942</td></tr></tbody></table></div>"
      ],
      "text/plain": [
       "shape: (34, 6)\n",
       "┌──────────┬─────────┬───────────┬──────────┬──────────┬──────────┐\n",
       "│ route_id ┆ carrier ┆ base_fare ┆ std_fare ┆ min_fare ┆ max_fare │\n",
       "│ ---      ┆ ---     ┆ ---       ┆ ---      ┆ ---      ┆ ---      │\n",
       "│ u8       ┆ str     ┆ f64       ┆ f64      ┆ f64      ┆ f64      │\n",
       "╞══════════╪═════════╪═══════════╪══════════╪══════════╪══════════╡\n",
       "│ 0        ┆ L1      ┆ 2.877514  ┆ 0.194479 ┆ 2.472756 ┆ 3.764923 │\n",
       "│ 0        ┆ U3      ┆ 2.728148  ┆ 0.140458 ┆ 2.468347 ┆ 3.099681 │\n",
       "│ 1        ┆ L1      ┆ 2.991069  ┆ 0.197935 ┆ 2.638489 ┆ 3.749659 │\n",
       "│ 2        ┆ L1      ┆ 2.931838  ┆ 0.205985 ┆ 2.472756 ┆ 3.725503 │\n",
       "│ 2        ┆ OTH     ┆ 2.758927  ┆ 0.160084 ┆ 2.448706 ┆ 3.170555 │\n",
       "│ 2        ┆ U3      ┆ 2.701619  ┆ 0.194855 ┆ 2.418301 ┆ 3.237795 │\n",
       "│ 3        ┆ L1      ┆ 2.972533  ┆ 0.216676 ┆ 2.472756 ┆ 3.730621 │\n",
       "│ 3        ┆ OTH     ┆ 2.763481  ┆ 0.173673 ┆ 2.448706 ┆ 3.170555 │\n",
       "│ 3        ┆ U3      ┆ 2.808008  ┆ 0.214577 ┆ 2.418301 ┆ 3.169674 │\n",
       "│ 4        ┆ L1      ┆ 2.671029  ┆ 0.199066 ┆ 2.448706 ┆ 3.555215 │\n",
       "│ …        ┆ …       ┆ …         ┆ …        ┆ …        ┆ …        │\n",
       "│ 7        ┆ U3      ┆ 2.727758  ┆ 0.143512 ┆ 2.491362 ┆ 3.099681 │\n",
       "│ 8        ┆ L1      ┆ 3.021101  ┆ 0.204874 ┆ 2.638489 ┆ 3.789087 │\n",
       "│ 9        ┆ L1      ┆ 2.969039  ┆ 0.207485 ┆ 2.662758 ┆ 3.738622 │\n",
       "│ 9        ┆ L2      ┆ 2.945677  ┆ 0.182095 ┆ 2.647383 ┆ 3.642662 │\n",
       "│ 10       ┆ L1      ┆ 3.003434  ┆ 0.199444 ┆ 2.669317 ┆ 3.700963 │\n",
       "│ 10       ┆ L2      ┆ 2.985401  ┆ 0.181883 ┆ 2.669317 ┆ 3.642662 │\n",
       "│ 11       ┆ L1      ┆ 2.766269  ┆ 0.197139 ┆ 2.485721 ┆ 3.63789  │\n",
       "│ 11       ┆ OTH     ┆ 2.72979   ┆ 0.161205 ┆ 2.489958 ┆ 3.274158 │\n",
       "│ 11       ┆ U1      ┆ 2.755964  ┆ 0.176399 ┆ 2.489958 ┆ 3.295347 │\n",
       "│ 11       ┆ U3      ┆ 2.621846  ┆ 0.162245 ┆ 2.369216 ┆ 3.059942 │\n",
       "└──────────┴─────────┴───────────┴──────────┴──────────┴──────────┘"
      ]
     },
     "execution_count": 10,
     "metadata": {},
     "output_type": "execute_result"
    }
   ],
   "source": [
    "base_fares = train_df.group_by('route_id', 'carrier').agg(\n",
    "    pl.col('total_fare').log10().mean().alias('base_fare'),\n",
    "    pl.col('total_fare').log10().std().alias('std_fare'),\n",
    "    pl.col('total_fare').log10().min().alias('min_fare'),\n",
    "    pl.col('total_fare').log10().max().alias('max_fare')\n",
    ").sort('route_id', 'carrier')\n",
    "\n",
    "base_fares"
   ]
  },
  {
   "cell_type": "code",
   "execution_count": 11,
   "metadata": {},
   "outputs": [
    {
     "data": {
      "text/html": [
       "<div><style>\n",
       ".dataframe > thead > tr,\n",
       ".dataframe > tbody > tr {\n",
       "  text-align: right;\n",
       "  white-space: pre-wrap;\n",
       "}\n",
       "</style>\n",
       "<small>shape: (9, 5)</small><table border=\"1\" class=\"dataframe\"><thead><tr><th>statistic</th><th>base_fare</th><th>std_fare</th><th>min_fare</th><th>max_fare</th></tr><tr><td>str</td><td>f64</td><td>f64</td><td>f64</td><td>f64</td></tr></thead><tbody><tr><td>&quot;count&quot;</td><td>34.0</td><td>34.0</td><td>34.0</td><td>34.0</td></tr><tr><td>&quot;null_count&quot;</td><td>0.0</td><td>0.0</td><td>0.0</td><td>0.0</td></tr><tr><td>&quot;mean&quot;</td><td>2.780166</td><td>0.182301</td><td>2.481561</td><td>3.440914</td></tr><tr><td>&quot;std&quot;</td><td>0.131822</td><td>0.029635</td><td>0.088668</td><td>0.251219</td></tr><tr><td>&quot;min&quot;</td><td>2.578117</td><td>0.11764</td><td>2.369216</td><td>3.05423</td></tr><tr><td>&quot;25%&quot;</td><td>2.671029</td><td>0.161205</td><td>2.418301</td><td>3.24005</td></tr><tr><td>&quot;50%&quot;</td><td>2.763481</td><td>0.182345</td><td>2.472756</td><td>3.438226</td></tr><tr><td>&quot;75%&quot;</td><td>2.877514</td><td>0.20389</td><td>2.489958</td><td>3.672283</td></tr><tr><td>&quot;max&quot;</td><td>3.021101</td><td>0.24627</td><td>2.669317</td><td>3.803047</td></tr></tbody></table></div>"
      ],
      "text/plain": [
       "shape: (9, 5)\n",
       "┌────────────┬───────────┬──────────┬──────────┬──────────┐\n",
       "│ statistic  ┆ base_fare ┆ std_fare ┆ min_fare ┆ max_fare │\n",
       "│ ---        ┆ ---       ┆ ---      ┆ ---      ┆ ---      │\n",
       "│ str        ┆ f64       ┆ f64      ┆ f64      ┆ f64      │\n",
       "╞════════════╪═══════════╪══════════╪══════════╪══════════╡\n",
       "│ count      ┆ 34.0      ┆ 34.0     ┆ 34.0     ┆ 34.0     │\n",
       "│ null_count ┆ 0.0       ┆ 0.0      ┆ 0.0      ┆ 0.0      │\n",
       "│ mean       ┆ 2.780166  ┆ 0.182301 ┆ 2.481561 ┆ 3.440914 │\n",
       "│ std        ┆ 0.131822  ┆ 0.029635 ┆ 0.088668 ┆ 0.251219 │\n",
       "│ min        ┆ 2.578117  ┆ 0.11764  ┆ 2.369216 ┆ 3.05423  │\n",
       "│ 25%        ┆ 2.671029  ┆ 0.161205 ┆ 2.418301 ┆ 3.24005  │\n",
       "│ 50%        ┆ 2.763481  ┆ 0.182345 ┆ 2.472756 ┆ 3.438226 │\n",
       "│ 75%        ┆ 2.877514  ┆ 0.20389  ┆ 2.489958 ┆ 3.672283 │\n",
       "│ max        ┆ 3.021101  ┆ 0.24627  ┆ 2.669317 ┆ 3.803047 │\n",
       "└────────────┴───────────┴──────────┴──────────┴──────────┘"
      ]
     },
     "execution_count": 11,
     "metadata": {},
     "output_type": "execute_result"
    }
   ],
   "source": [
    "base_fares.select(pl.col(pl.Float64())).describe()"
   ]
  },
  {
   "cell_type": "code",
   "execution_count": 12,
   "metadata": {},
   "outputs": [
    {
     "data": {
      "text/html": [
       "<div><style>\n",
       ".dataframe > thead > tr,\n",
       ".dataframe > tbody > tr {\n",
       "  text-align: right;\n",
       "  white-space: pre-wrap;\n",
       "}\n",
       "</style>\n",
       "<small>shape: (9, 2)</small><table border=\"1\" class=\"dataframe\"><thead><tr><th>statistic</th><th>value</th></tr><tr><td>str</td><td>f64</td></tr></thead><tbody><tr><td>&quot;count&quot;</td><td>1.556671e6</td></tr><tr><td>&quot;null_count&quot;</td><td>0.0</td></tr><tr><td>&quot;mean&quot;</td><td>-0.000001</td></tr><tr><td>&quot;std&quot;</td><td>0.068808</td></tr><tr><td>&quot;min&quot;</td><td>-0.1681</td></tr><tr><td>&quot;25%&quot;</td><td>-0.0505</td></tr><tr><td>&quot;50%&quot;</td><td>-0.013</td></tr><tr><td>&quot;75%&quot;</td><td>0.0407</td></tr><tr><td>&quot;max&quot;</td><td>0.3802</td></tr></tbody></table></div>"
      ],
      "text/plain": [
       "shape: (9, 2)\n",
       "┌────────────┬────────────┐\n",
       "│ statistic  ┆ value      │\n",
       "│ ---        ┆ ---        │\n",
       "│ str        ┆ f64        │\n",
       "╞════════════╪════════════╡\n",
       "│ count      ┆ 1.556671e6 │\n",
       "│ null_count ┆ 0.0        │\n",
       "│ mean       ┆ -0.000001  │\n",
       "│ std        ┆ 0.068808   │\n",
       "│ min        ┆ -0.1681    │\n",
       "│ 25%        ┆ -0.0505    │\n",
       "│ 50%        ┆ -0.013     │\n",
       "│ 75%        ┆ 0.0407     │\n",
       "│ max        ┆ 0.3802     │\n",
       "└────────────┴────────────┘"
      ]
     },
     "execution_count": 12,
     "metadata": {},
     "output_type": "execute_result"
    }
   ],
   "source": [
    "train_df = train_df.join(\n",
    "    base_fares.select('route_id', 'carrier', 'base_fare'),\n",
    "    on = ['route_id', 'carrier'],\n",
    "    how = 'left'\n",
    ").with_columns(\n",
    "    pl.col('total_fare').log10().alias('log_fare')\n",
    ").with_columns(\n",
    "    (\n",
    "        (pl.col('log_fare') - pl.col('base_fare')) / pl.col('base_fare')\n",
    "    ).round(4).alias('scaled_fare')\n",
    ")\n",
    "\n",
    "train_df['scaled_fare'].describe()"
   ]
  },
  {
   "cell_type": "code",
   "execution_count": 13,
   "metadata": {},
   "outputs": [
    {
     "data": {
      "text/html": [
       "<div><style>\n",
       ".dataframe > thead > tr,\n",
       ".dataframe > tbody > tr {\n",
       "  text-align: right;\n",
       "  white-space: pre-wrap;\n",
       "}\n",
       "</style>\n",
       "<small>shape: (9, 2)</small><table border=\"1\" class=\"dataframe\"><thead><tr><th>statistic</th><th>value</th></tr><tr><td>str</td><td>f64</td></tr></thead><tbody><tr><td>&quot;count&quot;</td><td>29492.0</td></tr><tr><td>&quot;null_count&quot;</td><td>0.0</td></tr><tr><td>&quot;mean&quot;</td><td>-0.017314</td></tr><tr><td>&quot;std&quot;</td><td>0.070193</td></tr><tr><td>&quot;min&quot;</td><td>-0.1681</td></tr><tr><td>&quot;25%&quot;</td><td>-0.0707</td></tr><tr><td>&quot;50%&quot;</td><td>-0.0312</td></tr><tr><td>&quot;75%&quot;</td><td>0.0229</td></tr><tr><td>&quot;max&quot;</td><td>0.5109</td></tr></tbody></table></div>"
      ],
      "text/plain": [
       "shape: (9, 2)\n",
       "┌────────────┬───────────┐\n",
       "│ statistic  ┆ value     │\n",
       "│ ---        ┆ ---       │\n",
       "│ str        ┆ f64       │\n",
       "╞════════════╪═══════════╡\n",
       "│ count      ┆ 29492.0   │\n",
       "│ null_count ┆ 0.0       │\n",
       "│ mean       ┆ -0.017314 │\n",
       "│ std        ┆ 0.070193  │\n",
       "│ min        ┆ -0.1681   │\n",
       "│ 25%        ┆ -0.0707   │\n",
       "│ 50%        ┆ -0.0312   │\n",
       "│ 75%        ┆ 0.0229    │\n",
       "│ max        ┆ 0.5109    │\n",
       "└────────────┴───────────┘"
      ]
     },
     "execution_count": 13,
     "metadata": {},
     "output_type": "execute_result"
    }
   ],
   "source": [
    "val_df = val_df.join(\n",
    "    base_fares.select('route_id', 'carrier', 'base_fare'),\n",
    "    on = ['route_id', 'carrier'],\n",
    "    how = 'left'\n",
    ").with_columns(\n",
    "    pl.col('total_fare').log10().alias('log_fare')\n",
    ").with_columns(\n",
    "    (\n",
    "        (pl.col('log_fare') - pl.col('base_fare')) / pl.col('base_fare')\n",
    "    ).round(4).alias('scaled_fare')\n",
    ")\n",
    "\n",
    "val_df['scaled_fare'].describe()"
   ]
  },
  {
   "cell_type": "code",
   "execution_count": 14,
   "metadata": {},
   "outputs": [
    {
     "data": {
      "text/html": [
       "<div><style>\n",
       ".dataframe > thead > tr,\n",
       ".dataframe > tbody > tr {\n",
       "  text-align: right;\n",
       "  white-space: pre-wrap;\n",
       "}\n",
       "</style>\n",
       "<small>shape: (1_556_671, 24)</small><table border=\"1\" class=\"dataframe\"><thead><tr><th>carrier</th><th>flt_num</th><th>flt_departure_dt</th><th>observation_date</th><th>total_fare</th><th>days_till_flight</th><th>is_dst</th><th>route_id</th><th>flt_departure_local_time</th><th>flt_arrival_local_time</th><th>dur_min</th><th>tz_min</th><th>over_mn</th><th>dpt_4h_od</th><th>flt_count_dpt_24h</th><th>flt_count_dpt_4h</th><th>scaled_demand</th><th>scaled_share</th><th>origin_id</th><th>destination_id</th><th>flt_info_null</th><th>base_fare</th><th>log_fare</th><th>scaled_fare</th></tr><tr><td>str</td><td>i64</td><td>date</td><td>date</td><td>i64</td><td>i16</td><td>i8</td><td>u8</td><td>datetime[ns]</td><td>datetime[ns]</td><td>i16</td><td>i16</td><td>i8</td><td>i8</td><td>u8</td><td>u8</td><td>i64</td><td>i64</td><td>u8</td><td>u8</td><td>u8</td><td>f64</td><td>f64</td><td>f64</td></tr></thead><tbody><tr><td>&quot;L1&quot;</td><td>6523</td><td>2018-03-06</td><td>2018-02-26</td><td>297</td><td>8</td><td>0</td><td>3</td><td>2018-03-06 06:00:00</td><td>2018-03-06 10:58:00</td><td>298</td><td>-480</td><td>0</td><td>1</td><td>8</td><td>1</td><td>2873</td><td>392</td><td>3</td><td>2</td><td>0</td><td>2.972533</td><td>2.472756</td><td>-0.1681</td></tr><tr><td>&quot;L1&quot;</td><td>6523</td><td>2018-03-06</td><td>2018-02-27</td><td>297</td><td>7</td><td>0</td><td>3</td><td>2018-03-06 06:00:00</td><td>2018-03-06 10:58:00</td><td>298</td><td>-480</td><td>0</td><td>1</td><td>8</td><td>1</td><td>2873</td><td>392</td><td>3</td><td>2</td><td>0</td><td>2.972533</td><td>2.472756</td><td>-0.1681</td></tr><tr><td>&quot;L1&quot;</td><td>5663</td><td>2018-03-09</td><td>2018-02-25</td><td>297</td><td>12</td><td>0</td><td>3</td><td>2018-03-09 12:17:00</td><td>2018-03-09 17:16:00</td><td>299</td><td>-480</td><td>0</td><td>3</td><td>8</td><td>3</td><td>2873</td><td>392</td><td>3</td><td>2</td><td>0</td><td>2.972533</td><td>2.472756</td><td>-0.1681</td></tr><tr><td>&quot;L1&quot;</td><td>5663</td><td>2018-03-09</td><td>2018-02-26</td><td>297</td><td>11</td><td>0</td><td>3</td><td>2018-03-09 12:17:00</td><td>2018-03-09 17:16:00</td><td>299</td><td>-480</td><td>0</td><td>3</td><td>8</td><td>3</td><td>2873</td><td>392</td><td>3</td><td>2</td><td>0</td><td>2.972533</td><td>2.472756</td><td>-0.1681</td></tr><tr><td>&quot;L1&quot;</td><td>3861</td><td>2018-03-10</td><td>2018-02-23</td><td>297</td><td>15</td><td>0</td><td>3</td><td>2018-03-10 15:55:00</td><td>2018-03-10 20:52:00</td><td>297</td><td>-480</td><td>0</td><td>3</td><td>8</td><td>3</td><td>2873</td><td>392</td><td>3</td><td>2</td><td>0</td><td>2.972533</td><td>2.472756</td><td>-0.1681</td></tr><tr><td>&quot;L1&quot;</td><td>5663</td><td>2018-03-10</td><td>2018-02-23</td><td>297</td><td>15</td><td>0</td><td>3</td><td>2018-03-10 12:17:00</td><td>2018-03-10 17:16:00</td><td>299</td><td>-480</td><td>0</td><td>3</td><td>8</td><td>3</td><td>2873</td><td>392</td><td>3</td><td>2</td><td>0</td><td>2.972533</td><td>2.472756</td><td>-0.1681</td></tr><tr><td>&quot;L1&quot;</td><td>6523</td><td>2018-03-10</td><td>2018-02-23</td><td>297</td><td>15</td><td>0</td><td>3</td><td>2018-03-10 06:05:00</td><td>2018-03-10 11:03:00</td><td>298</td><td>-480</td><td>0</td><td>1</td><td>8</td><td>1</td><td>2873</td><td>392</td><td>3</td><td>2</td><td>0</td><td>2.972533</td><td>2.472756</td><td>-0.1681</td></tr><tr><td>&quot;L1&quot;</td><td>6294</td><td>2018-03-10</td><td>2018-02-23</td><td>297</td><td>15</td><td>0</td><td>3</td><td>2018-03-10 13:45:00</td><td>2018-03-10 18:43:00</td><td>298</td><td>-480</td><td>0</td><td>3</td><td>8</td><td>3</td><td>2873</td><td>392</td><td>3</td><td>2</td><td>0</td><td>2.972533</td><td>2.472756</td><td>-0.1681</td></tr><tr><td>&quot;L1&quot;</td><td>6523</td><td>2018-03-10</td><td>2018-02-24</td><td>297</td><td>14</td><td>0</td><td>3</td><td>2018-03-10 06:05:00</td><td>2018-03-10 11:03:00</td><td>298</td><td>-480</td><td>0</td><td>1</td><td>8</td><td>1</td><td>2873</td><td>392</td><td>3</td><td>2</td><td>0</td><td>2.972533</td><td>2.472756</td><td>-0.1681</td></tr><tr><td>&quot;L1&quot;</td><td>6294</td><td>2018-03-10</td><td>2018-02-24</td><td>297</td><td>14</td><td>0</td><td>3</td><td>2018-03-10 13:45:00</td><td>2018-03-10 18:43:00</td><td>298</td><td>-480</td><td>0</td><td>3</td><td>8</td><td>3</td><td>2873</td><td>392</td><td>3</td><td>2</td><td>0</td><td>2.972533</td><td>2.472756</td><td>-0.1681</td></tr><tr><td>&hellip;</td><td>&hellip;</td><td>&hellip;</td><td>&hellip;</td><td>&hellip;</td><td>&hellip;</td><td>&hellip;</td><td>&hellip;</td><td>&hellip;</td><td>&hellip;</td><td>&hellip;</td><td>&hellip;</td><td>&hellip;</td><td>&hellip;</td><td>&hellip;</td><td>&hellip;</td><td>&hellip;</td><td>&hellip;</td><td>&hellip;</td><td>&hellip;</td><td>&hellip;</td><td>&hellip;</td><td>&hellip;</td><td>&hellip;</td></tr><tr><td>&quot;L2&quot;</td><td>1980</td><td>2018-01-13</td><td>2017-12-24</td><td>4639</td><td>20</td><td>0</td><td>4</td><td>2018-01-13 08:42:00</td><td>2018-01-13 10:30:00</td><td>108</td><td>-480</td><td>0</td><td>2</td><td>33</td><td>7</td><td>6659</td><td>212</td><td>3</td><td>4</td><td>0</td><td>2.680285</td><td>3.666424</td><td>0.3679</td></tr><tr><td>&quot;L2&quot;</td><td>4680</td><td>2018-01-13</td><td>2018-01-13</td><td>4639</td><td>0</td><td>0</td><td>4</td><td>2018-01-13 16:16:00</td><td>2018-01-13 17:42:00</td><td>86</td><td>-480</td><td>0</td><td>4</td><td>33</td><td>9</td><td>6659</td><td>212</td><td>3</td><td>4</td><td>0</td><td>2.680285</td><td>3.666424</td><td>0.3679</td></tr><tr><td>&quot;L2&quot;</td><td>1355</td><td>2018-01-07</td><td>2018-01-06</td><td>4639</td><td>1</td><td>0</td><td>6</td><td>2018-01-07 14:07:00</td><td>2018-01-07 15:20:00</td><td>73</td><td>-480</td><td>0</td><td>3</td><td>36</td><td>8</td><td>6659</td><td>213</td><td>4</td><td>3</td><td>0</td><td>2.660753</td><td>3.666424</td><td>0.378</td></tr><tr><td>&quot;L2&quot;</td><td>8363</td><td>2018-01-08</td><td>2017-12-22</td><td>4639</td><td>17</td><td>0</td><td>6</td><td>2018-01-08 08:30:00</td><td>2018-01-08 09:59:00</td><td>89</td><td>-480</td><td>0</td><td>2</td><td>43</td><td>9</td><td>6659</td><td>213</td><td>4</td><td>3</td><td>0</td><td>2.660753</td><td>3.666424</td><td>0.378</td></tr><tr><td>&quot;L2&quot;</td><td>8363</td><td>2018-01-08</td><td>2017-12-23</td><td>4639</td><td>16</td><td>0</td><td>6</td><td>2018-01-08 08:30:00</td><td>2018-01-08 09:59:00</td><td>89</td><td>-480</td><td>0</td><td>2</td><td>43</td><td>9</td><td>6659</td><td>213</td><td>4</td><td>3</td><td>0</td><td>2.660753</td><td>3.666424</td><td>0.378</td></tr><tr><td>&quot;L2&quot;</td><td>3842</td><td>2018-01-08</td><td>2018-01-06</td><td>4639</td><td>2</td><td>0</td><td>6</td><td>2018-01-08 21:30:00</td><td>2018-01-08 22:48:00</td><td>78</td><td>-480</td><td>0</td><td>5</td><td>43</td><td>10</td><td>6659</td><td>213</td><td>4</td><td>3</td><td>0</td><td>2.660753</td><td>3.666424</td><td>0.378</td></tr><tr><td>&quot;L2&quot;</td><td>8363</td><td>2018-01-08</td><td>2018-01-07</td><td>4639</td><td>1</td><td>0</td><td>6</td><td>2018-01-08 08:30:00</td><td>2018-01-08 09:59:00</td><td>89</td><td>-480</td><td>0</td><td>2</td><td>43</td><td>9</td><td>6659</td><td>213</td><td>4</td><td>3</td><td>0</td><td>2.660753</td><td>3.666424</td><td>0.378</td></tr><tr><td>&quot;L2&quot;</td><td>5236</td><td>2018-01-09</td><td>2018-01-06</td><td>4639</td><td>3</td><td>0</td><td>6</td><td>2018-01-09 11:15:00</td><td>2018-01-09 12:38:00</td><td>83</td><td>-480</td><td>0</td><td>2</td><td>33</td><td>8</td><td>6659</td><td>213</td><td>4</td><td>3</td><td>0</td><td>2.660753</td><td>3.666424</td><td>0.378</td></tr><tr><td>&quot;L2&quot;</td><td>5236</td><td>2018-01-09</td><td>2018-01-08</td><td>4639</td><td>1</td><td>0</td><td>6</td><td>2018-01-09 11:15:00</td><td>2018-01-09 12:38:00</td><td>83</td><td>-480</td><td>0</td><td>2</td><td>33</td><td>8</td><td>6659</td><td>213</td><td>4</td><td>3</td><td>0</td><td>2.660753</td><td>3.666424</td><td>0.378</td></tr><tr><td>&quot;L2&quot;</td><td>8363</td><td>2018-01-08</td><td>2017-12-06</td><td>4702</td><td>33</td><td>0</td><td>6</td><td>2018-01-08 08:30:00</td><td>2018-01-08 09:59:00</td><td>89</td><td>-480</td><td>0</td><td>2</td><td>43</td><td>9</td><td>6659</td><td>213</td><td>4</td><td>3</td><td>0</td><td>2.660753</td><td>3.672283</td><td>0.3802</td></tr></tbody></table></div>"
      ],
      "text/plain": [
       "shape: (1_556_671, 24)\n",
       "┌─────────┬─────────┬────────────┬────────────┬───┬────────────┬───────────┬──────────┬────────────┐\n",
       "│ carrier ┆ flt_num ┆ flt_depart ┆ observatio ┆ … ┆ flt_info_n ┆ base_fare ┆ log_fare ┆ scaled_far │\n",
       "│ ---     ┆ ---     ┆ ure_dt     ┆ n_date     ┆   ┆ ull        ┆ ---       ┆ ---      ┆ e          │\n",
       "│ str     ┆ i64     ┆ ---        ┆ ---        ┆   ┆ ---        ┆ f64       ┆ f64      ┆ ---        │\n",
       "│         ┆         ┆ date       ┆ date       ┆   ┆ u8         ┆           ┆          ┆ f64        │\n",
       "╞═════════╪═════════╪════════════╪════════════╪═══╪════════════╪═══════════╪══════════╪════════════╡\n",
       "│ L1      ┆ 6523    ┆ 2018-03-06 ┆ 2018-02-26 ┆ … ┆ 0          ┆ 2.972533  ┆ 2.472756 ┆ -0.1681    │\n",
       "│ L1      ┆ 6523    ┆ 2018-03-06 ┆ 2018-02-27 ┆ … ┆ 0          ┆ 2.972533  ┆ 2.472756 ┆ -0.1681    │\n",
       "│ L1      ┆ 5663    ┆ 2018-03-09 ┆ 2018-02-25 ┆ … ┆ 0          ┆ 2.972533  ┆ 2.472756 ┆ -0.1681    │\n",
       "│ L1      ┆ 5663    ┆ 2018-03-09 ┆ 2018-02-26 ┆ … ┆ 0          ┆ 2.972533  ┆ 2.472756 ┆ -0.1681    │\n",
       "│ L1      ┆ 3861    ┆ 2018-03-10 ┆ 2018-02-23 ┆ … ┆ 0          ┆ 2.972533  ┆ 2.472756 ┆ -0.1681    │\n",
       "│ L1      ┆ 5663    ┆ 2018-03-10 ┆ 2018-02-23 ┆ … ┆ 0          ┆ 2.972533  ┆ 2.472756 ┆ -0.1681    │\n",
       "│ L1      ┆ 6523    ┆ 2018-03-10 ┆ 2018-02-23 ┆ … ┆ 0          ┆ 2.972533  ┆ 2.472756 ┆ -0.1681    │\n",
       "│ L1      ┆ 6294    ┆ 2018-03-10 ┆ 2018-02-23 ┆ … ┆ 0          ┆ 2.972533  ┆ 2.472756 ┆ -0.1681    │\n",
       "│ L1      ┆ 6523    ┆ 2018-03-10 ┆ 2018-02-24 ┆ … ┆ 0          ┆ 2.972533  ┆ 2.472756 ┆ -0.1681    │\n",
       "│ L1      ┆ 6294    ┆ 2018-03-10 ┆ 2018-02-24 ┆ … ┆ 0          ┆ 2.972533  ┆ 2.472756 ┆ -0.1681    │\n",
       "│ …       ┆ …       ┆ …          ┆ …          ┆ … ┆ …          ┆ …         ┆ …        ┆ …          │\n",
       "│ L2      ┆ 1980    ┆ 2018-01-13 ┆ 2017-12-24 ┆ … ┆ 0          ┆ 2.680285  ┆ 3.666424 ┆ 0.3679     │\n",
       "│ L2      ┆ 4680    ┆ 2018-01-13 ┆ 2018-01-13 ┆ … ┆ 0          ┆ 2.680285  ┆ 3.666424 ┆ 0.3679     │\n",
       "│ L2      ┆ 1355    ┆ 2018-01-07 ┆ 2018-01-06 ┆ … ┆ 0          ┆ 2.660753  ┆ 3.666424 ┆ 0.378      │\n",
       "│ L2      ┆ 8363    ┆ 2018-01-08 ┆ 2017-12-22 ┆ … ┆ 0          ┆ 2.660753  ┆ 3.666424 ┆ 0.378      │\n",
       "│ L2      ┆ 8363    ┆ 2018-01-08 ┆ 2017-12-23 ┆ … ┆ 0          ┆ 2.660753  ┆ 3.666424 ┆ 0.378      │\n",
       "│ L2      ┆ 3842    ┆ 2018-01-08 ┆ 2018-01-06 ┆ … ┆ 0          ┆ 2.660753  ┆ 3.666424 ┆ 0.378      │\n",
       "│ L2      ┆ 8363    ┆ 2018-01-08 ┆ 2018-01-07 ┆ … ┆ 0          ┆ 2.660753  ┆ 3.666424 ┆ 0.378      │\n",
       "│ L2      ┆ 5236    ┆ 2018-01-09 ┆ 2018-01-06 ┆ … ┆ 0          ┆ 2.660753  ┆ 3.666424 ┆ 0.378      │\n",
       "│ L2      ┆ 5236    ┆ 2018-01-09 ┆ 2018-01-08 ┆ … ┆ 0          ┆ 2.660753  ┆ 3.666424 ┆ 0.378      │\n",
       "│ L2      ┆ 8363    ┆ 2018-01-08 ┆ 2017-12-06 ┆ … ┆ 0          ┆ 2.660753  ┆ 3.672283 ┆ 0.3802     │\n",
       "└─────────┴─────────┴────────────┴────────────┴───┴────────────┴───────────┴──────────┴────────────┘"
      ]
     },
     "execution_count": 14,
     "metadata": {},
     "output_type": "execute_result"
    }
   ],
   "source": [
    "train_df.sort('scaled_fare')"
   ]
  },
  {
   "cell_type": "code",
   "execution_count": 15,
   "metadata": {},
   "outputs": [
    {
     "data": {
      "text/html": [
       "<div><style>\n",
       ".dataframe > thead > tr,\n",
       ".dataframe > tbody > tr {\n",
       "  text-align: right;\n",
       "  white-space: pre-wrap;\n",
       "}\n",
       "</style>\n",
       "<small>shape: (29_492, 24)</small><table border=\"1\" class=\"dataframe\"><thead><tr><th>carrier</th><th>flt_num</th><th>flt_departure_dt</th><th>observation_date</th><th>total_fare</th><th>days_till_flight</th><th>is_dst</th><th>route_id</th><th>flt_departure_local_time</th><th>flt_arrival_local_time</th><th>dur_min</th><th>tz_min</th><th>over_mn</th><th>dpt_4h_od</th><th>flt_count_dpt_24h</th><th>flt_count_dpt_4h</th><th>scaled_demand</th><th>scaled_share</th><th>origin_id</th><th>destination_id</th><th>flt_info_null</th><th>base_fare</th><th>log_fare</th><th>scaled_fare</th></tr><tr><td>str</td><td>i64</td><td>date</td><td>date</td><td>i64</td><td>i16</td><td>i8</td><td>u8</td><td>datetime[ns]</td><td>datetime[ns]</td><td>i16</td><td>i16</td><td>i8</td><td>i8</td><td>u8</td><td>u8</td><td>i64</td><td>i64</td><td>u8</td><td>u8</td><td>u8</td><td>f64</td><td>f64</td><td>f64</td></tr></thead><tbody><tr><td>&quot;L1&quot;</td><td>2149</td><td>2018-12-04</td><td>2018-11-13</td><td>297</td><td>21</td><td>0</td><td>3</td><td>2018-12-04 01:05:00</td><td>2018-12-04 05:59:00</td><td>294</td><td>-480</td><td>0</td><td>0</td><td>8</td><td>1</td><td>2790</td><td>405</td><td>3</td><td>2</td><td>0</td><td>2.972533</td><td>2.472756</td><td>-0.1681</td></tr><tr><td>&quot;L1&quot;</td><td>2149</td><td>2018-12-05</td><td>2018-10-24</td><td>297</td><td>42</td><td>0</td><td>3</td><td>2018-12-05 01:05:00</td><td>2018-12-05 05:59:00</td><td>294</td><td>-480</td><td>0</td><td>0</td><td>8</td><td>1</td><td>2790</td><td>405</td><td>3</td><td>2</td><td>0</td><td>2.972533</td><td>2.472756</td><td>-0.1681</td></tr><tr><td>&quot;L1&quot;</td><td>2149</td><td>2018-12-05</td><td>2018-10-27</td><td>297</td><td>39</td><td>0</td><td>3</td><td>2018-12-05 01:05:00</td><td>2018-12-05 05:59:00</td><td>294</td><td>-480</td><td>0</td><td>0</td><td>8</td><td>1</td><td>2790</td><td>405</td><td>3</td><td>2</td><td>0</td><td>2.972533</td><td>2.472756</td><td>-0.1681</td></tr><tr><td>&quot;L1&quot;</td><td>2149</td><td>2018-12-05</td><td>2018-10-31</td><td>297</td><td>35</td><td>0</td><td>3</td><td>2018-12-05 01:05:00</td><td>2018-12-05 05:59:00</td><td>294</td><td>-480</td><td>0</td><td>0</td><td>8</td><td>1</td><td>2790</td><td>405</td><td>3</td><td>2</td><td>0</td><td>2.972533</td><td>2.472756</td><td>-0.1681</td></tr><tr><td>&quot;L1&quot;</td><td>2149</td><td>2018-12-05</td><td>2018-11-01</td><td>297</td><td>34</td><td>0</td><td>3</td><td>2018-12-05 01:05:00</td><td>2018-12-05 05:59:00</td><td>294</td><td>-480</td><td>0</td><td>0</td><td>8</td><td>1</td><td>2790</td><td>405</td><td>3</td><td>2</td><td>0</td><td>2.972533</td><td>2.472756</td><td>-0.1681</td></tr><tr><td>&quot;L1&quot;</td><td>2149</td><td>2018-12-05</td><td>2018-11-02</td><td>297</td><td>33</td><td>0</td><td>3</td><td>2018-12-05 01:05:00</td><td>2018-12-05 05:59:00</td><td>294</td><td>-480</td><td>0</td><td>0</td><td>8</td><td>1</td><td>2790</td><td>405</td><td>3</td><td>2</td><td>0</td><td>2.972533</td><td>2.472756</td><td>-0.1681</td></tr><tr><td>&quot;L1&quot;</td><td>2149</td><td>2018-12-05</td><td>2018-11-04</td><td>297</td><td>31</td><td>0</td><td>3</td><td>2018-12-05 01:05:00</td><td>2018-12-05 05:59:00</td><td>294</td><td>-480</td><td>0</td><td>0</td><td>8</td><td>1</td><td>2790</td><td>405</td><td>3</td><td>2</td><td>0</td><td>2.972533</td><td>2.472756</td><td>-0.1681</td></tr><tr><td>&quot;L1&quot;</td><td>6523</td><td>2018-12-05</td><td>2018-11-12</td><td>297</td><td>23</td><td>0</td><td>3</td><td>2018-12-05 06:00:00</td><td>2018-12-05 10:51:00</td><td>291</td><td>-480</td><td>0</td><td>1</td><td>8</td><td>1</td><td>2790</td><td>405</td><td>3</td><td>2</td><td>0</td><td>2.972533</td><td>2.472756</td><td>-0.1681</td></tr><tr><td>&quot;L1&quot;</td><td>2149</td><td>2018-12-05</td><td>2018-11-13</td><td>297</td><td>22</td><td>0</td><td>3</td><td>2018-12-05 01:05:00</td><td>2018-12-05 05:59:00</td><td>294</td><td>-480</td><td>0</td><td>0</td><td>8</td><td>1</td><td>2790</td><td>405</td><td>3</td><td>2</td><td>0</td><td>2.972533</td><td>2.472756</td><td>-0.1681</td></tr><tr><td>&quot;L1&quot;</td><td>2149</td><td>2018-12-06</td><td>2018-10-24</td><td>316</td><td>43</td><td>0</td><td>3</td><td>2018-12-06 01:05:00</td><td>2018-12-06 05:59:00</td><td>294</td><td>-480</td><td>0</td><td>0</td><td>8</td><td>1</td><td>2790</td><td>405</td><td>3</td><td>2</td><td>0</td><td>2.972533</td><td>2.499687</td><td>-0.1591</td></tr><tr><td>&hellip;</td><td>&hellip;</td><td>&hellip;</td><td>&hellip;</td><td>&hellip;</td><td>&hellip;</td><td>&hellip;</td><td>&hellip;</td><td>&hellip;</td><td>&hellip;</td><td>&hellip;</td><td>&hellip;</td><td>&hellip;</td><td>&hellip;</td><td>&hellip;</td><td>&hellip;</td><td>&hellip;</td><td>&hellip;</td><td>&hellip;</td><td>&hellip;</td><td>&hellip;</td><td>&hellip;</td><td>&hellip;</td><td>&hellip;</td></tr><tr><td>&quot;L2&quot;</td><td>8103</td><td>2018-12-01</td><td>2018-11-14</td><td>2765</td><td>17</td><td>0</td><td>4</td><td>2018-12-01 07:00:00</td><td>2018-12-01 08:25:00</td><td>85</td><td>-480</td><td>0</td><td>1</td><td>30</td><td>5</td><td>7128</td><td>227</td><td>3</td><td>4</td><td>0</td><td>2.680285</td><td>3.441695</td><td>0.2841</td></tr><tr><td>&quot;L2&quot;</td><td>2200</td><td>2018-12-06</td><td>2018-12-06</td><td>2765</td><td>0</td><td>0</td><td>6</td><td>2018-12-06 19:50:00</td><td>2018-12-06 21:02:00</td><td>72</td><td>-480</td><td>0</td><td>4</td><td>35</td><td>8</td><td>7128</td><td>224</td><td>4</td><td>3</td><td>0</td><td>2.660753</td><td>3.441695</td><td>0.2935</td></tr><tr><td>&quot;OTH&quot;</td><td>5465</td><td>2018-12-07</td><td>2018-12-02</td><td>7859</td><td>5</td><td>0</td><td>4</td><td>null</td><td>null</td><td>null</td><td>null</td><td>null</td><td>null</td><td>null</td><td>null</td><td>7128</td><td>265</td><td>3</td><td>4</td><td>1</td><td>2.589739</td><td>3.895367</td><td>0.5042</td></tr><tr><td>&quot;OTH&quot;</td><td>5811</td><td>2018-12-07</td><td>2018-12-02</td><td>7859</td><td>5</td><td>0</td><td>4</td><td>null</td><td>null</td><td>null</td><td>null</td><td>null</td><td>null</td><td>null</td><td>null</td><td>7128</td><td>265</td><td>3</td><td>4</td><td>1</td><td>2.589739</td><td>3.895367</td><td>0.5042</td></tr><tr><td>&quot;OTH&quot;</td><td>6206</td><td>2018-12-07</td><td>2018-12-02</td><td>7859</td><td>5</td><td>0</td><td>4</td><td>null</td><td>null</td><td>null</td><td>null</td><td>null</td><td>null</td><td>null</td><td>null</td><td>7128</td><td>265</td><td>3</td><td>4</td><td>1</td><td>2.589739</td><td>3.895367</td><td>0.5042</td></tr><tr><td>&quot;OTH&quot;</td><td>6614</td><td>2018-12-07</td><td>2018-12-02</td><td>7859</td><td>5</td><td>0</td><td>4</td><td>null</td><td>null</td><td>null</td><td>null</td><td>null</td><td>null</td><td>null</td><td>null</td><td>7128</td><td>265</td><td>3</td><td>4</td><td>1</td><td>2.589739</td><td>3.895367</td><td>0.5042</td></tr><tr><td>&quot;OTH&quot;</td><td>6005</td><td>2018-12-07</td><td>2018-12-02</td><td>7859</td><td>5</td><td>0</td><td>6</td><td>null</td><td>null</td><td>null</td><td>null</td><td>null</td><td>null</td><td>null</td><td>null</td><td>7128</td><td>266</td><td>4</td><td>3</td><td>1</td><td>2.578117</td><td>3.895367</td><td>0.5109</td></tr><tr><td>&quot;OTH&quot;</td><td>6413</td><td>2018-12-07</td><td>2018-12-02</td><td>7859</td><td>5</td><td>0</td><td>6</td><td>null</td><td>null</td><td>null</td><td>null</td><td>null</td><td>null</td><td>null</td><td>null</td><td>7128</td><td>266</td><td>4</td><td>3</td><td>1</td><td>2.578117</td><td>3.895367</td><td>0.5109</td></tr><tr><td>&quot;OTH&quot;</td><td>5638</td><td>2018-12-07</td><td>2018-12-02</td><td>7859</td><td>5</td><td>0</td><td>6</td><td>null</td><td>null</td><td>null</td><td>null</td><td>null</td><td>null</td><td>null</td><td>null</td><td>7128</td><td>266</td><td>4</td><td>3</td><td>1</td><td>2.578117</td><td>3.895367</td><td>0.5109</td></tr><tr><td>&quot;OTH&quot;</td><td>5292</td><td>2018-12-07</td><td>2018-12-02</td><td>7859</td><td>5</td><td>0</td><td>6</td><td>null</td><td>null</td><td>null</td><td>null</td><td>null</td><td>null</td><td>null</td><td>null</td><td>7128</td><td>266</td><td>4</td><td>3</td><td>1</td><td>2.578117</td><td>3.895367</td><td>0.5109</td></tr></tbody></table></div>"
      ],
      "text/plain": [
       "shape: (29_492, 24)\n",
       "┌─────────┬─────────┬────────────┬────────────┬───┬────────────┬───────────┬──────────┬────────────┐\n",
       "│ carrier ┆ flt_num ┆ flt_depart ┆ observatio ┆ … ┆ flt_info_n ┆ base_fare ┆ log_fare ┆ scaled_far │\n",
       "│ ---     ┆ ---     ┆ ure_dt     ┆ n_date     ┆   ┆ ull        ┆ ---       ┆ ---      ┆ e          │\n",
       "│ str     ┆ i64     ┆ ---        ┆ ---        ┆   ┆ ---        ┆ f64       ┆ f64      ┆ ---        │\n",
       "│         ┆         ┆ date       ┆ date       ┆   ┆ u8         ┆           ┆          ┆ f64        │\n",
       "╞═════════╪═════════╪════════════╪════════════╪═══╪════════════╪═══════════╪══════════╪════════════╡\n",
       "│ L1      ┆ 2149    ┆ 2018-12-04 ┆ 2018-11-13 ┆ … ┆ 0          ┆ 2.972533  ┆ 2.472756 ┆ -0.1681    │\n",
       "│ L1      ┆ 2149    ┆ 2018-12-05 ┆ 2018-10-24 ┆ … ┆ 0          ┆ 2.972533  ┆ 2.472756 ┆ -0.1681    │\n",
       "│ L1      ┆ 2149    ┆ 2018-12-05 ┆ 2018-10-27 ┆ … ┆ 0          ┆ 2.972533  ┆ 2.472756 ┆ -0.1681    │\n",
       "│ L1      ┆ 2149    ┆ 2018-12-05 ┆ 2018-10-31 ┆ … ┆ 0          ┆ 2.972533  ┆ 2.472756 ┆ -0.1681    │\n",
       "│ L1      ┆ 2149    ┆ 2018-12-05 ┆ 2018-11-01 ┆ … ┆ 0          ┆ 2.972533  ┆ 2.472756 ┆ -0.1681    │\n",
       "│ L1      ┆ 2149    ┆ 2018-12-05 ┆ 2018-11-02 ┆ … ┆ 0          ┆ 2.972533  ┆ 2.472756 ┆ -0.1681    │\n",
       "│ L1      ┆ 2149    ┆ 2018-12-05 ┆ 2018-11-04 ┆ … ┆ 0          ┆ 2.972533  ┆ 2.472756 ┆ -0.1681    │\n",
       "│ L1      ┆ 6523    ┆ 2018-12-05 ┆ 2018-11-12 ┆ … ┆ 0          ┆ 2.972533  ┆ 2.472756 ┆ -0.1681    │\n",
       "│ L1      ┆ 2149    ┆ 2018-12-05 ┆ 2018-11-13 ┆ … ┆ 0          ┆ 2.972533  ┆ 2.472756 ┆ -0.1681    │\n",
       "│ L1      ┆ 2149    ┆ 2018-12-06 ┆ 2018-10-24 ┆ … ┆ 0          ┆ 2.972533  ┆ 2.499687 ┆ -0.1591    │\n",
       "│ …       ┆ …       ┆ …          ┆ …          ┆ … ┆ …          ┆ …         ┆ …        ┆ …          │\n",
       "│ L2      ┆ 8103    ┆ 2018-12-01 ┆ 2018-11-14 ┆ … ┆ 0          ┆ 2.680285  ┆ 3.441695 ┆ 0.2841     │\n",
       "│ L2      ┆ 2200    ┆ 2018-12-06 ┆ 2018-12-06 ┆ … ┆ 0          ┆ 2.660753  ┆ 3.441695 ┆ 0.2935     │\n",
       "│ OTH     ┆ 5465    ┆ 2018-12-07 ┆ 2018-12-02 ┆ … ┆ 1          ┆ 2.589739  ┆ 3.895367 ┆ 0.5042     │\n",
       "│ OTH     ┆ 5811    ┆ 2018-12-07 ┆ 2018-12-02 ┆ … ┆ 1          ┆ 2.589739  ┆ 3.895367 ┆ 0.5042     │\n",
       "│ OTH     ┆ 6206    ┆ 2018-12-07 ┆ 2018-12-02 ┆ … ┆ 1          ┆ 2.589739  ┆ 3.895367 ┆ 0.5042     │\n",
       "│ OTH     ┆ 6614    ┆ 2018-12-07 ┆ 2018-12-02 ┆ … ┆ 1          ┆ 2.589739  ┆ 3.895367 ┆ 0.5042     │\n",
       "│ OTH     ┆ 6005    ┆ 2018-12-07 ┆ 2018-12-02 ┆ … ┆ 1          ┆ 2.578117  ┆ 3.895367 ┆ 0.5109     │\n",
       "│ OTH     ┆ 6413    ┆ 2018-12-07 ┆ 2018-12-02 ┆ … ┆ 1          ┆ 2.578117  ┆ 3.895367 ┆ 0.5109     │\n",
       "│ OTH     ┆ 5638    ┆ 2018-12-07 ┆ 2018-12-02 ┆ … ┆ 1          ┆ 2.578117  ┆ 3.895367 ┆ 0.5109     │\n",
       "│ OTH     ┆ 5292    ┆ 2018-12-07 ┆ 2018-12-02 ┆ … ┆ 1          ┆ 2.578117  ┆ 3.895367 ┆ 0.5109     │\n",
       "└─────────┴─────────┴────────────┴────────────┴───┴────────────┴───────────┴──────────┴────────────┘"
      ]
     },
     "execution_count": 15,
     "metadata": {},
     "output_type": "execute_result"
    }
   ],
   "source": [
    "val_df.sort('scaled_fare')"
   ]
  },
  {
   "cell_type": "markdown",
   "metadata": {},
   "source": [
    "#### Metrics when predicting `base_fare`"
   ]
  },
  {
   "cell_type": "code",
   "execution_count": 16,
   "metadata": {},
   "outputs": [
    {
     "name": "stdout",
     "output_type": "stream",
     "text": [
      "Train - Mean Baseline\n",
      "RMSE: 420.4827\n",
      "MAE: 257.1919\n",
      "R2: 18.601%\n",
      "Max error: 5625.3791\n",
      "\n",
      "Val - Mean Baseline\n",
      "RMSE: 393.2156\n",
      "MAE: 266.0133\n",
      "R2: 15.175%\n",
      "Max error: 7480.4558\n",
      "\n"
     ]
    }
   ],
   "source": [
    "print_metrics(\n",
    "    train_df['total_fare'], \n",
    "    train_df.select(pl.lit(10).pow('base_fare').alias('pred_fare'))['pred_fare'],\n",
    "    label = 'Train - Mean Baseline'\n",
    ")\n",
    "\n",
    "print_metrics(\n",
    "    val_df['total_fare'], \n",
    "    val_df.select(pl.lit(10).pow('base_fare').alias('pred_fare'))['pred_fare'],\n",
    "    label = 'Val - Mean Baseline'\n",
    ")"
   ]
  },
  {
   "cell_type": "markdown",
   "metadata": {},
   "source": [
    "### Feature generation"
   ]
  },
  {
   "cell_type": "markdown",
   "metadata": {},
   "source": [
    "#### Days since start"
   ]
  },
  {
   "cell_type": "code",
   "execution_count": 17,
   "metadata": {},
   "outputs": [
    {
     "data": {
      "text/html": [
       "<div><style>\n",
       ".dataframe > thead > tr,\n",
       ".dataframe > tbody > tr {\n",
       "  text-align: right;\n",
       "  white-space: pre-wrap;\n",
       "}\n",
       "</style>\n",
       "<small>shape: (1_556_671, 25)</small><table border=\"1\" class=\"dataframe\"><thead><tr><th>carrier</th><th>flt_num</th><th>flt_departure_dt</th><th>observation_date</th><th>total_fare</th><th>days_till_flight</th><th>is_dst</th><th>route_id</th><th>flt_departure_local_time</th><th>flt_arrival_local_time</th><th>dur_min</th><th>tz_min</th><th>over_mn</th><th>dpt_4h_od</th><th>flt_count_dpt_24h</th><th>flt_count_dpt_4h</th><th>scaled_demand</th><th>scaled_share</th><th>origin_id</th><th>destination_id</th><th>flt_info_null</th><th>base_fare</th><th>log_fare</th><th>scaled_fare</th><th>days_since_start</th></tr><tr><td>str</td><td>i64</td><td>date</td><td>date</td><td>i64</td><td>i16</td><td>i8</td><td>u8</td><td>datetime[ns]</td><td>datetime[ns]</td><td>i16</td><td>i16</td><td>i8</td><td>i8</td><td>u8</td><td>u8</td><td>i64</td><td>i64</td><td>u8</td><td>u8</td><td>u8</td><td>f64</td><td>f64</td><td>f64</td><td>i64</td></tr></thead><tbody><tr><td>&quot;U1&quot;</td><td>6143</td><td>2018-01-01</td><td>2017-11-27</td><td>469</td><td>35</td><td>0</td><td>11</td><td>null</td><td>null</td><td>null</td><td>null</td><td>null</td><td>null</td><td>null</td><td>null</td><td>null</td><td>null</td><td>7</td><td>3</td><td>1</td><td>2.755964</td><td>2.671173</td><td>-0.0308</td><td>0</td></tr><tr><td>&quot;L1&quot;</td><td>5927</td><td>2018-01-01</td><td>2017-11-27</td><td>1119</td><td>35</td><td>0</td><td>1</td><td>2018-01-01 20:33:00</td><td>2018-01-01 23:50:00</td><td>197</td><td>-300</td><td>0</td><td>5</td><td>5</td><td>1</td><td>1468</td><td>360</td><td>1</td><td>5</td><td>0</td><td>2.991069</td><td>3.04883</td><td>0.0193</td><td>0</td></tr><tr><td>&quot;L3&quot;</td><td>18075</td><td>2018-01-01</td><td>2017-11-27</td><td>422</td><td>35</td><td>0</td><td>6</td><td>2018-01-01 13:20:00</td><td>2018-01-01 14:35:00</td><td>75</td><td>-480</td><td>0</td><td>3</td><td>30</td><td>9</td><td>6659</td><td>228</td><td>4</td><td>3</td><td>0</td><td>2.733692</td><td>2.625312</td><td>-0.0396</td><td>0</td></tr><tr><td>&quot;OTH&quot;</td><td>2416</td><td>2018-01-01</td><td>2017-11-27</td><td>787</td><td>35</td><td>0</td><td>4</td><td>2018-01-01 20:22:00</td><td>2018-01-01 21:46:00</td><td>84</td><td>-480</td><td>0</td><td>5</td><td>30</td><td>4</td><td>6659</td><td>316</td><td>3</td><td>4</td><td>0</td><td>2.589739</td><td>2.895975</td><td>0.1182</td><td>0</td></tr><tr><td>&quot;L3&quot;</td><td>18270</td><td>2018-01-01</td><td>2017-11-27</td><td>1298</td><td>35</td><td>0</td><td>4</td><td>2018-01-01 11:17:00</td><td>2018-01-01 12:40:00</td><td>83</td><td>-480</td><td>0</td><td>2</td><td>30</td><td>5</td><td>6659</td><td>231</td><td>3</td><td>4</td><td>0</td><td>2.763495</td><td>3.113275</td><td>0.1266</td><td>0</td></tr><tr><td>&quot;L1&quot;</td><td>1396</td><td>2018-01-01</td><td>2017-11-27</td><td>372</td><td>35</td><td>0</td><td>11</td><td>2018-01-01 19:35:00</td><td>2018-01-01 21:08:00</td><td>93</td><td>-480</td><td>0</td><td>4</td><td>21</td><td>7</td><td>6579</td><td>262</td><td>7</td><td>3</td><td>0</td><td>2.766269</td><td>2.570543</td><td>-0.0708</td><td>0</td></tr><tr><td>&quot;U1&quot;</td><td>4771</td><td>2018-01-01</td><td>2017-11-27</td><td>513</td><td>35</td><td>0</td><td>4</td><td>null</td><td>null</td><td>null</td><td>null</td><td>null</td><td>null</td><td>null</td><td>null</td><td>null</td><td>null</td><td>3</td><td>4</td><td>1</td><td>2.638819</td><td>2.710117</td><td>0.027</td><td>0</td></tr><tr><td>&quot;OTH&quot;</td><td>4825</td><td>2018-01-01</td><td>2017-11-27</td><td>432</td><td>35</td><td>0</td><td>6</td><td>2018-01-01 12:55:00</td><td>2018-01-01 14:07:00</td><td>72</td><td>-480</td><td>0</td><td>3</td><td>30</td><td>9</td><td>6659</td><td>316</td><td>4</td><td>3</td><td>0</td><td>2.578117</td><td>2.635484</td><td>0.0223</td><td>0</td></tr><tr><td>&quot;OTH&quot;</td><td>6175</td><td>2018-01-01</td><td>2017-11-27</td><td>341</td><td>35</td><td>0</td><td>11</td><td>2018-01-01 18:55:00</td><td>2018-01-01 20:23:00</td><td>88</td><td>-480</td><td>0</td><td>4</td><td>21</td><td>7</td><td>6579</td><td>354</td><td>7</td><td>3</td><td>0</td><td>2.72979</td><td>2.532754</td><td>-0.0722</td><td>0</td></tr><tr><td>&quot;U1&quot;</td><td>6187</td><td>2018-01-01</td><td>2017-11-27</td><td>341</td><td>35</td><td>0</td><td>11</td><td>null</td><td>null</td><td>null</td><td>null</td><td>null</td><td>null</td><td>null</td><td>null</td><td>null</td><td>null</td><td>7</td><td>3</td><td>1</td><td>2.755964</td><td>2.532754</td><td>-0.081</td><td>0</td></tr><tr><td>&hellip;</td><td>&hellip;</td><td>&hellip;</td><td>&hellip;</td><td>&hellip;</td><td>&hellip;</td><td>&hellip;</td><td>&hellip;</td><td>&hellip;</td><td>&hellip;</td><td>&hellip;</td><td>&hellip;</td><td>&hellip;</td><td>&hellip;</td><td>&hellip;</td><td>&hellip;</td><td>&hellip;</td><td>&hellip;</td><td>&hellip;</td><td>&hellip;</td><td>&hellip;</td><td>&hellip;</td><td>&hellip;</td><td>&hellip;</td><td>&hellip;</td></tr><tr><td>&quot;OTH&quot;</td><td>2972</td><td>2018-11-30</td><td>2018-11-30</td><td>696</td><td>0</td><td>0</td><td>6</td><td>2018-11-30 11:30:00</td><td>2018-11-30 12:43:00</td><td>73</td><td>-480</td><td>0</td><td>2</td><td>35</td><td>9</td><td>8086</td><td>264</td><td>4</td><td>3</td><td>0</td><td>2.578117</td><td>2.842609</td><td>0.1026</td><td>333</td></tr><tr><td>&quot;L1&quot;</td><td>3437</td><td>2018-11-30</td><td>2018-11-30</td><td>2037</td><td>0</td><td>0</td><td>2</td><td>2018-11-30 18:18:00</td><td>2018-11-30 19:38:00</td><td>80</td><td>-360</td><td>0</td><td>4</td><td>8</td><td>3</td><td>2838</td><td>403</td><td>2</td><td>3</td><td>0</td><td>2.931838</td><td>3.308991</td><td>0.1286</td><td>333</td></tr><tr><td>&quot;L1&quot;</td><td>1992</td><td>2018-11-30</td><td>2018-11-30</td><td>1167</td><td>0</td><td>0</td><td>4</td><td>2018-11-30 18:53:00</td><td>2018-11-30 20:05:00</td><td>72</td><td>-480</td><td>0</td><td>4</td><td>35</td><td>10</td><td>8086</td><td>199</td><td>3</td><td>4</td><td>0</td><td>2.671029</td><td>3.067071</td><td>0.1483</td><td>333</td></tr><tr><td>&quot;OTH&quot;</td><td>1075</td><td>2018-11-30</td><td>2018-11-30</td><td>1073</td><td>0</td><td>0</td><td>3</td><td>2018-11-30 18:45:00</td><td>2018-11-30 23:42:00</td><td>297</td><td>-480</td><td>0</td><td>4</td><td>8</td><td>1</td><td>2838</td><td>214</td><td>3</td><td>2</td><td>0</td><td>2.763481</td><td>3.0306</td><td>0.0967</td><td>333</td></tr><tr><td>&quot;L1&quot;</td><td>7136</td><td>2018-11-30</td><td>2018-11-30</td><td>1067</td><td>0</td><td>0</td><td>7</td><td>2018-11-30 19:49:00</td><td>2018-11-30 21:05:00</td><td>76</td><td>-360</td><td>0</td><td>4</td><td>10</td><td>4</td><td>3099</td><td>276</td><td>5</td><td>0</td><td>0</td><td>2.862502</td><td>3.028164</td><td>0.0579</td><td>333</td></tr><tr><td>&quot;U1&quot;</td><td>6178</td><td>2018-11-30</td><td>2018-11-30</td><td>1111</td><td>0</td><td>0</td><td>5</td><td>2018-11-30 18:55:00</td><td>2018-11-30 20:35:00</td><td>100</td><td>-480</td><td>0</td><td>4</td><td>22</td><td>7</td><td>6396</td><td>250</td><td>3</td><td>7</td><td>0</td><td>2.796569</td><td>3.045714</td><td>0.0891</td><td>333</td></tr><tr><td>&quot;L1&quot;</td><td>6294</td><td>2018-11-30</td><td>2018-11-30</td><td>2037</td><td>0</td><td>0</td><td>3</td><td>2018-11-30 14:03:00</td><td>2018-11-30 18:57:00</td><td>294</td><td>-480</td><td>0</td><td>3</td><td>8</td><td>4</td><td>2838</td><td>405</td><td>3</td><td>2</td><td>0</td><td>2.972533</td><td>3.308991</td><td>0.1132</td><td>333</td></tr><tr><td>&quot;L3&quot;</td><td>11152</td><td>2018-11-30</td><td>2018-11-30</td><td>1911</td><td>0</td><td>0</td><td>4</td><td>2018-11-30 16:45:00</td><td>2018-11-30 18:05:00</td><td>80</td><td>-480</td><td>0</td><td>4</td><td>35</td><td>10</td><td>8086</td><td>228</td><td>3</td><td>4</td><td>0</td><td>2.763495</td><td>3.281261</td><td>0.1874</td><td>333</td></tr><tr><td>&quot;L1&quot;</td><td>5701</td><td>2018-11-30</td><td>2018-11-30</td><td>2037</td><td>0</td><td>0</td><td>2</td><td>2018-11-30 21:59:00</td><td>2018-11-30 23:20:00</td><td>81</td><td>-360</td><td>0</td><td>5</td><td>8</td><td>1</td><td>2838</td><td>403</td><td>2</td><td>3</td><td>0</td><td>2.931838</td><td>3.308991</td><td>0.1286</td><td>333</td></tr><tr><td>&quot;L3&quot;</td><td>6523</td><td>2018-11-30</td><td>2018-11-30</td><td>1911</td><td>0</td><td>0</td><td>6</td><td>2018-11-30 21:15:00</td><td>2018-11-30 22:25:00</td><td>70</td><td>-480</td><td>0</td><td>5</td><td>35</td><td>5</td><td>8086</td><td>226</td><td>4</td><td>3</td><td>0</td><td>2.733692</td><td>3.281261</td><td>0.2003</td><td>333</td></tr></tbody></table></div>"
      ],
      "text/plain": [
       "shape: (1_556_671, 25)\n",
       "┌─────────┬─────────┬────────────┬────────────┬───┬───────────┬──────────┬────────────┬────────────┐\n",
       "│ carrier ┆ flt_num ┆ flt_depart ┆ observatio ┆ … ┆ base_fare ┆ log_fare ┆ scaled_far ┆ days_since │\n",
       "│ ---     ┆ ---     ┆ ure_dt     ┆ n_date     ┆   ┆ ---       ┆ ---      ┆ e          ┆ _start     │\n",
       "│ str     ┆ i64     ┆ ---        ┆ ---        ┆   ┆ f64       ┆ f64      ┆ ---        ┆ ---        │\n",
       "│         ┆         ┆ date       ┆ date       ┆   ┆           ┆          ┆ f64        ┆ i64        │\n",
       "╞═════════╪═════════╪════════════╪════════════╪═══╪═══════════╪══════════╪════════════╪════════════╡\n",
       "│ U1      ┆ 6143    ┆ 2018-01-01 ┆ 2017-11-27 ┆ … ┆ 2.755964  ┆ 2.671173 ┆ -0.0308    ┆ 0          │\n",
       "│ L1      ┆ 5927    ┆ 2018-01-01 ┆ 2017-11-27 ┆ … ┆ 2.991069  ┆ 3.04883  ┆ 0.0193     ┆ 0          │\n",
       "│ L3      ┆ 18075   ┆ 2018-01-01 ┆ 2017-11-27 ┆ … ┆ 2.733692  ┆ 2.625312 ┆ -0.0396    ┆ 0          │\n",
       "│ OTH     ┆ 2416    ┆ 2018-01-01 ┆ 2017-11-27 ┆ … ┆ 2.589739  ┆ 2.895975 ┆ 0.1182     ┆ 0          │\n",
       "│ L3      ┆ 18270   ┆ 2018-01-01 ┆ 2017-11-27 ┆ … ┆ 2.763495  ┆ 3.113275 ┆ 0.1266     ┆ 0          │\n",
       "│ L1      ┆ 1396    ┆ 2018-01-01 ┆ 2017-11-27 ┆ … ┆ 2.766269  ┆ 2.570543 ┆ -0.0708    ┆ 0          │\n",
       "│ U1      ┆ 4771    ┆ 2018-01-01 ┆ 2017-11-27 ┆ … ┆ 2.638819  ┆ 2.710117 ┆ 0.027      ┆ 0          │\n",
       "│ OTH     ┆ 4825    ┆ 2018-01-01 ┆ 2017-11-27 ┆ … ┆ 2.578117  ┆ 2.635484 ┆ 0.0223     ┆ 0          │\n",
       "│ OTH     ┆ 6175    ┆ 2018-01-01 ┆ 2017-11-27 ┆ … ┆ 2.72979   ┆ 2.532754 ┆ -0.0722    ┆ 0          │\n",
       "│ U1      ┆ 6187    ┆ 2018-01-01 ┆ 2017-11-27 ┆ … ┆ 2.755964  ┆ 2.532754 ┆ -0.081     ┆ 0          │\n",
       "│ …       ┆ …       ┆ …          ┆ …          ┆ … ┆ …         ┆ …        ┆ …          ┆ …          │\n",
       "│ OTH     ┆ 2972    ┆ 2018-11-30 ┆ 2018-11-30 ┆ … ┆ 2.578117  ┆ 2.842609 ┆ 0.1026     ┆ 333        │\n",
       "│ L1      ┆ 3437    ┆ 2018-11-30 ┆ 2018-11-30 ┆ … ┆ 2.931838  ┆ 3.308991 ┆ 0.1286     ┆ 333        │\n",
       "│ L1      ┆ 1992    ┆ 2018-11-30 ┆ 2018-11-30 ┆ … ┆ 2.671029  ┆ 3.067071 ┆ 0.1483     ┆ 333        │\n",
       "│ OTH     ┆ 1075    ┆ 2018-11-30 ┆ 2018-11-30 ┆ … ┆ 2.763481  ┆ 3.0306   ┆ 0.0967     ┆ 333        │\n",
       "│ L1      ┆ 7136    ┆ 2018-11-30 ┆ 2018-11-30 ┆ … ┆ 2.862502  ┆ 3.028164 ┆ 0.0579     ┆ 333        │\n",
       "│ U1      ┆ 6178    ┆ 2018-11-30 ┆ 2018-11-30 ┆ … ┆ 2.796569  ┆ 3.045714 ┆ 0.0891     ┆ 333        │\n",
       "│ L1      ┆ 6294    ┆ 2018-11-30 ┆ 2018-11-30 ┆ … ┆ 2.972533  ┆ 3.308991 ┆ 0.1132     ┆ 333        │\n",
       "│ L3      ┆ 11152   ┆ 2018-11-30 ┆ 2018-11-30 ┆ … ┆ 2.763495  ┆ 3.281261 ┆ 0.1874     ┆ 333        │\n",
       "│ L1      ┆ 5701    ┆ 2018-11-30 ┆ 2018-11-30 ┆ … ┆ 2.931838  ┆ 3.308991 ┆ 0.1286     ┆ 333        │\n",
       "│ L3      ┆ 6523    ┆ 2018-11-30 ┆ 2018-11-30 ┆ … ┆ 2.733692  ┆ 3.281261 ┆ 0.2003     ┆ 333        │\n",
       "└─────────┴─────────┴────────────┴────────────┴───┴───────────┴──────────┴────────────┴────────────┘"
      ]
     },
     "execution_count": 17,
     "metadata": {},
     "output_type": "execute_result"
    }
   ],
   "source": [
    "train_df = train_df.with_columns(\n",
    "    (\n",
    "        pl.col('flt_departure_dt') - train_df['flt_departure_dt'].min()\n",
    "    ).dt.total_days().alias(\"days_since_start\")\n",
    ")\n",
    "\n",
    "train_df"
   ]
  },
  {
   "cell_type": "code",
   "execution_count": 18,
   "metadata": {},
   "outputs": [
    {
     "data": {
      "text/html": [
       "<div><style>\n",
       ".dataframe > thead > tr,\n",
       ".dataframe > tbody > tr {\n",
       "  text-align: right;\n",
       "  white-space: pre-wrap;\n",
       "}\n",
       "</style>\n",
       "<small>shape: (29_492, 25)</small><table border=\"1\" class=\"dataframe\"><thead><tr><th>carrier</th><th>flt_num</th><th>flt_departure_dt</th><th>observation_date</th><th>total_fare</th><th>days_till_flight</th><th>is_dst</th><th>route_id</th><th>flt_departure_local_time</th><th>flt_arrival_local_time</th><th>dur_min</th><th>tz_min</th><th>over_mn</th><th>dpt_4h_od</th><th>flt_count_dpt_24h</th><th>flt_count_dpt_4h</th><th>scaled_demand</th><th>scaled_share</th><th>origin_id</th><th>destination_id</th><th>flt_info_null</th><th>base_fare</th><th>log_fare</th><th>scaled_fare</th><th>days_since_start</th></tr><tr><td>str</td><td>i64</td><td>date</td><td>date</td><td>i64</td><td>i16</td><td>i8</td><td>u8</td><td>datetime[ns]</td><td>datetime[ns]</td><td>i16</td><td>i16</td><td>i8</td><td>i8</td><td>u8</td><td>u8</td><td>i64</td><td>i64</td><td>u8</td><td>u8</td><td>u8</td><td>f64</td><td>f64</td><td>f64</td><td>i64</td></tr></thead><tbody><tr><td>&quot;L2&quot;</td><td>7220</td><td>2018-12-01</td><td>2018-10-02</td><td>476</td><td>60</td><td>0</td><td>6</td><td>2018-12-01 10:15:00</td><td>2018-12-01 11:27:00</td><td>72</td><td>-480</td><td>0</td><td>2</td><td>32</td><td>9</td><td>7128</td><td>224</td><td>4</td><td>3</td><td>0</td><td>2.660753</td><td>2.677607</td><td>0.0063</td><td>334</td></tr><tr><td>&quot;L2&quot;</td><td>4448</td><td>2018-12-01</td><td>2018-10-02</td><td>476</td><td>60</td><td>0</td><td>6</td><td>2018-12-01 08:40:00</td><td>2018-12-01 10:04:00</td><td>84</td><td>-480</td><td>0</td><td>2</td><td>32</td><td>9</td><td>7128</td><td>224</td><td>4</td><td>3</td><td>0</td><td>2.660753</td><td>2.677607</td><td>0.0063</td><td>334</td></tr><tr><td>&quot;L2&quot;</td><td>7402</td><td>2018-12-01</td><td>2018-10-02</td><td>476</td><td>60</td><td>0</td><td>6</td><td>2018-12-01 14:10:00</td><td>2018-12-01 15:22:00</td><td>72</td><td>-480</td><td>0</td><td>3</td><td>32</td><td>9</td><td>7128</td><td>224</td><td>4</td><td>3</td><td>0</td><td>2.660753</td><td>2.677607</td><td>0.0063</td><td>334</td></tr><tr><td>&quot;L2&quot;</td><td>2200</td><td>2018-12-01</td><td>2018-10-02</td><td>285</td><td>60</td><td>0</td><td>6</td><td>2018-12-01 19:50:00</td><td>2018-12-01 21:02:00</td><td>72</td><td>-480</td><td>0</td><td>4</td><td>32</td><td>10</td><td>7128</td><td>224</td><td>4</td><td>3</td><td>0</td><td>2.660753</td><td>2.454845</td><td>-0.0774</td><td>334</td></tr><tr><td>&quot;L2&quot;</td><td>8903</td><td>2018-12-01</td><td>2018-10-02</td><td>285</td><td>60</td><td>0</td><td>6</td><td>2018-12-01 22:45:00</td><td>2018-12-02 00:02:00</td><td>77</td><td>-480</td><td>1</td><td>5</td><td>32</td><td>1</td><td>7128</td><td>224</td><td>4</td><td>3</td><td>0</td><td>2.660753</td><td>2.454845</td><td>-0.0774</td><td>334</td></tr><tr><td>&quot;L2&quot;</td><td>5041</td><td>2018-12-01</td><td>2018-10-02</td><td>476</td><td>60</td><td>0</td><td>6</td><td>2018-12-01 12:40:00</td><td>2018-12-01 13:52:00</td><td>72</td><td>-480</td><td>0</td><td>3</td><td>32</td><td>9</td><td>7128</td><td>224</td><td>4</td><td>3</td><td>0</td><td>2.660753</td><td>2.677607</td><td>0.0063</td><td>334</td></tr><tr><td>&quot;L2&quot;</td><td>1732</td><td>2018-12-01</td><td>2018-10-02</td><td>395</td><td>60</td><td>0</td><td>6</td><td>2018-12-01 16:50:00</td><td>2018-12-01 18:02:00</td><td>72</td><td>-480</td><td>0</td><td>4</td><td>32</td><td>10</td><td>7128</td><td>224</td><td>4</td><td>3</td><td>0</td><td>2.660753</td><td>2.596597</td><td>-0.0241</td><td>334</td></tr><tr><td>&quot;L1&quot;</td><td>5927</td><td>2018-12-01</td><td>2018-10-05</td><td>530</td><td>57</td><td>0</td><td>1</td><td>2018-12-01 20:30:00</td><td>2018-12-01 23:37:00</td><td>187</td><td>-300</td><td>0</td><td>5</td><td>4</td><td>1</td><td>2164</td><td>373</td><td>1</td><td>5</td><td>0</td><td>2.991069</td><td>2.724276</td><td>-0.0892</td><td>334</td></tr><tr><td>&quot;L1&quot;</td><td>11158</td><td>2018-12-01</td><td>2018-10-05</td><td>800</td><td>57</td><td>0</td><td>1</td><td>2018-12-01 12:03:00</td><td>2018-12-01 15:20:00</td><td>197</td><td>-300</td><td>0</td><td>3</td><td>4</td><td>1</td><td>2164</td><td>373</td><td>1</td><td>5</td><td>0</td><td>2.991069</td><td>2.90309</td><td>-0.0294</td><td>334</td></tr><tr><td>&quot;L1&quot;</td><td>7431</td><td>2018-12-01</td><td>2018-10-05</td><td>737</td><td>57</td><td>0</td><td>1</td><td>2018-12-01 07:29:00</td><td>2018-12-01 10:36:00</td><td>187</td><td>-300</td><td>0</td><td>1</td><td>4</td><td>1</td><td>2164</td><td>373</td><td>1</td><td>5</td><td>0</td><td>2.991069</td><td>2.867467</td><td>-0.0413</td><td>334</td></tr><tr><td>&hellip;</td><td>&hellip;</td><td>&hellip;</td><td>&hellip;</td><td>&hellip;</td><td>&hellip;</td><td>&hellip;</td><td>&hellip;</td><td>&hellip;</td><td>&hellip;</td><td>&hellip;</td><td>&hellip;</td><td>&hellip;</td><td>&hellip;</td><td>&hellip;</td><td>&hellip;</td><td>&hellip;</td><td>&hellip;</td><td>&hellip;</td><td>&hellip;</td><td>&hellip;</td><td>&hellip;</td><td>&hellip;</td><td>&hellip;</td><td>&hellip;</td></tr><tr><td>&quot;U1&quot;</td><td>6250</td><td>2018-12-07</td><td>2018-12-07</td><td>1283</td><td>0</td><td>0</td><td>11</td><td>2018-12-07 19:35:00</td><td>2018-12-07 21:09:00</td><td>94</td><td>-480</td><td>0</td><td>4</td><td>22</td><td>6</td><td>5817</td><td>253</td><td>7</td><td>3</td><td>0</td><td>2.755964</td><td>3.108227</td><td>0.1278</td><td>340</td></tr><tr><td>&quot;L1&quot;</td><td>6278</td><td>2018-12-07</td><td>2018-12-07</td><td>1067</td><td>0</td><td>0</td><td>0</td><td>2018-12-07 15:30:00</td><td>2018-12-07 18:35:00</td><td>185</td><td>-420</td><td>0</td><td>3</td><td>10</td><td>4</td><td>3070</td><td>281</td><td>0</td><td>5</td><td>0</td><td>2.877514</td><td>3.028164</td><td>0.0524</td><td>340</td></tr><tr><td>&quot;L3&quot;</td><td>11152</td><td>2018-12-07</td><td>2018-12-07</td><td>671</td><td>0</td><td>0</td><td>4</td><td>2018-12-07 16:45:00</td><td>2018-12-07 18:05:00</td><td>80</td><td>-480</td><td>0</td><td>4</td><td>35</td><td>10</td><td>7128</td><td>231</td><td>3</td><td>4</td><td>0</td><td>2.763495</td><td>2.826723</td><td>0.0229</td><td>340</td></tr><tr><td>&quot;L1&quot;</td><td>2997</td><td>2018-12-07</td><td>2018-12-07</td><td>1346</td><td>0</td><td>0</td><td>8</td><td>2018-12-07 11:34:00</td><td>2018-12-07 16:10:00</td><td>276</td><td>-360</td><td>0</td><td>2</td><td>4</td><td>1</td><td>2164</td><td>373</td><td>5</td><td>1</td><td>0</td><td>3.021101</td><td>3.129045</td><td>0.0357</td><td>340</td></tr><tr><td>&quot;L1&quot;</td><td>1176</td><td>2018-12-07</td><td>2018-12-07</td><td>395</td><td>0</td><td>0</td><td>4</td><td>2018-12-07 06:05:00</td><td>2018-12-07 07:21:00</td><td>76</td><td>-480</td><td>0</td><td>1</td><td>35</td><td>6</td><td>7128</td><td>189</td><td>3</td><td>4</td><td>0</td><td>2.671029</td><td>2.596597</td><td>-0.0279</td><td>340</td></tr><tr><td>&quot;U1&quot;</td><td>6162</td><td>2018-12-07</td><td>2018-12-07</td><td>1111</td><td>0</td><td>0</td><td>11</td><td>2018-12-07 16:20:00</td><td>2018-12-07 17:54:00</td><td>94</td><td>-480</td><td>0</td><td>4</td><td>22</td><td>6</td><td>5817</td><td>253</td><td>7</td><td>3</td><td>0</td><td>2.755964</td><td>3.045714</td><td>0.1051</td><td>340</td></tr><tr><td>&quot;U1&quot;</td><td>6128</td><td>2018-12-07</td><td>2018-12-07</td><td>1111</td><td>0</td><td>0</td><td>5</td><td>2018-12-07 09:35:00</td><td>2018-12-07 11:12:00</td><td>97</td><td>-480</td><td>0</td><td>2</td><td>22</td><td>6</td><td>5817</td><td>252</td><td>3</td><td>7</td><td>0</td><td>2.796569</td><td>3.045714</td><td>0.0891</td><td>340</td></tr><tr><td>&quot;L1&quot;</td><td>5701</td><td>2018-12-07</td><td>2018-12-07</td><td>2037</td><td>0</td><td>0</td><td>2</td><td>2018-12-07 21:59:00</td><td>2018-12-07 23:20:00</td><td>81</td><td>-360</td><td>0</td><td>5</td><td>8</td><td>1</td><td>2790</td><td>405</td><td>2</td><td>3</td><td>0</td><td>2.931838</td><td>3.308991</td><td>0.1286</td><td>340</td></tr><tr><td>&quot;L2&quot;</td><td>5274</td><td>2018-12-07</td><td>2018-12-07</td><td>1742</td><td>0</td><td>0</td><td>9</td><td>2018-12-07 11:03:00</td><td>2018-12-07 13:44:00</td><td>161</td><td>-360</td><td>0</td><td>2</td><td>7</td><td>3</td><td>1618</td><td>310</td><td>5</td><td>6</td><td>0</td><td>2.945677</td><td>3.241048</td><td>0.1003</td><td>340</td></tr><tr><td>&quot;L1&quot;</td><td>6517</td><td>2018-12-07</td><td>2018-12-07</td><td>1346</td><td>0</td><td>0</td><td>8</td><td>2018-12-07 16:15:00</td><td>2018-12-07 20:52:00</td><td>277</td><td>-360</td><td>0</td><td>4</td><td>4</td><td>1</td><td>2164</td><td>373</td><td>5</td><td>1</td><td>0</td><td>3.021101</td><td>3.129045</td><td>0.0357</td><td>340</td></tr></tbody></table></div>"
      ],
      "text/plain": [
       "shape: (29_492, 25)\n",
       "┌─────────┬─────────┬────────────┬────────────┬───┬───────────┬──────────┬────────────┬────────────┐\n",
       "│ carrier ┆ flt_num ┆ flt_depart ┆ observatio ┆ … ┆ base_fare ┆ log_fare ┆ scaled_far ┆ days_since │\n",
       "│ ---     ┆ ---     ┆ ure_dt     ┆ n_date     ┆   ┆ ---       ┆ ---      ┆ e          ┆ _start     │\n",
       "│ str     ┆ i64     ┆ ---        ┆ ---        ┆   ┆ f64       ┆ f64      ┆ ---        ┆ ---        │\n",
       "│         ┆         ┆ date       ┆ date       ┆   ┆           ┆          ┆ f64        ┆ i64        │\n",
       "╞═════════╪═════════╪════════════╪════════════╪═══╪═══════════╪══════════╪════════════╪════════════╡\n",
       "│ L2      ┆ 7220    ┆ 2018-12-01 ┆ 2018-10-02 ┆ … ┆ 2.660753  ┆ 2.677607 ┆ 0.0063     ┆ 334        │\n",
       "│ L2      ┆ 4448    ┆ 2018-12-01 ┆ 2018-10-02 ┆ … ┆ 2.660753  ┆ 2.677607 ┆ 0.0063     ┆ 334        │\n",
       "│ L2      ┆ 7402    ┆ 2018-12-01 ┆ 2018-10-02 ┆ … ┆ 2.660753  ┆ 2.677607 ┆ 0.0063     ┆ 334        │\n",
       "│ L2      ┆ 2200    ┆ 2018-12-01 ┆ 2018-10-02 ┆ … ┆ 2.660753  ┆ 2.454845 ┆ -0.0774    ┆ 334        │\n",
       "│ L2      ┆ 8903    ┆ 2018-12-01 ┆ 2018-10-02 ┆ … ┆ 2.660753  ┆ 2.454845 ┆ -0.0774    ┆ 334        │\n",
       "│ L2      ┆ 5041    ┆ 2018-12-01 ┆ 2018-10-02 ┆ … ┆ 2.660753  ┆ 2.677607 ┆ 0.0063     ┆ 334        │\n",
       "│ L2      ┆ 1732    ┆ 2018-12-01 ┆ 2018-10-02 ┆ … ┆ 2.660753  ┆ 2.596597 ┆ -0.0241    ┆ 334        │\n",
       "│ L1      ┆ 5927    ┆ 2018-12-01 ┆ 2018-10-05 ┆ … ┆ 2.991069  ┆ 2.724276 ┆ -0.0892    ┆ 334        │\n",
       "│ L1      ┆ 11158   ┆ 2018-12-01 ┆ 2018-10-05 ┆ … ┆ 2.991069  ┆ 2.90309  ┆ -0.0294    ┆ 334        │\n",
       "│ L1      ┆ 7431    ┆ 2018-12-01 ┆ 2018-10-05 ┆ … ┆ 2.991069  ┆ 2.867467 ┆ -0.0413    ┆ 334        │\n",
       "│ …       ┆ …       ┆ …          ┆ …          ┆ … ┆ …         ┆ …        ┆ …          ┆ …          │\n",
       "│ U1      ┆ 6250    ┆ 2018-12-07 ┆ 2018-12-07 ┆ … ┆ 2.755964  ┆ 3.108227 ┆ 0.1278     ┆ 340        │\n",
       "│ L1      ┆ 6278    ┆ 2018-12-07 ┆ 2018-12-07 ┆ … ┆ 2.877514  ┆ 3.028164 ┆ 0.0524     ┆ 340        │\n",
       "│ L3      ┆ 11152   ┆ 2018-12-07 ┆ 2018-12-07 ┆ … ┆ 2.763495  ┆ 2.826723 ┆ 0.0229     ┆ 340        │\n",
       "│ L1      ┆ 2997    ┆ 2018-12-07 ┆ 2018-12-07 ┆ … ┆ 3.021101  ┆ 3.129045 ┆ 0.0357     ┆ 340        │\n",
       "│ L1      ┆ 1176    ┆ 2018-12-07 ┆ 2018-12-07 ┆ … ┆ 2.671029  ┆ 2.596597 ┆ -0.0279    ┆ 340        │\n",
       "│ U1      ┆ 6162    ┆ 2018-12-07 ┆ 2018-12-07 ┆ … ┆ 2.755964  ┆ 3.045714 ┆ 0.1051     ┆ 340        │\n",
       "│ U1      ┆ 6128    ┆ 2018-12-07 ┆ 2018-12-07 ┆ … ┆ 2.796569  ┆ 3.045714 ┆ 0.0891     ┆ 340        │\n",
       "│ L1      ┆ 5701    ┆ 2018-12-07 ┆ 2018-12-07 ┆ … ┆ 2.931838  ┆ 3.308991 ┆ 0.1286     ┆ 340        │\n",
       "│ L2      ┆ 5274    ┆ 2018-12-07 ┆ 2018-12-07 ┆ … ┆ 2.945677  ┆ 3.241048 ┆ 0.1003     ┆ 340        │\n",
       "│ L1      ┆ 6517    ┆ 2018-12-07 ┆ 2018-12-07 ┆ … ┆ 3.021101  ┆ 3.129045 ┆ 0.0357     ┆ 340        │\n",
       "└─────────┴─────────┴────────────┴────────────┴───┴───────────┴──────────┴────────────┴────────────┘"
      ]
     },
     "execution_count": 18,
     "metadata": {},
     "output_type": "execute_result"
    }
   ],
   "source": [
    "val_df = val_df.with_columns(\n",
    "    (\n",
    "        pl.col('flt_departure_dt') - train_df['flt_departure_dt'].min()\n",
    "    ).dt.total_days().alias(\"days_since_start\")\n",
    ")\n",
    "\n",
    "val_df"
   ]
  },
  {
   "cell_type": "markdown",
   "metadata": {},
   "source": [
    "#### Flight date features"
   ]
  },
  {
   "cell_type": "code",
   "execution_count": 19,
   "metadata": {},
   "outputs": [
    {
     "data": {
      "text/html": [
       "<div><style>\n",
       ".dataframe > thead > tr,\n",
       ".dataframe > tbody > tr {\n",
       "  text-align: right;\n",
       "  white-space: pre-wrap;\n",
       "}\n",
       "</style>\n",
       "<small>shape: (1_556_671, 29)</small><table border=\"1\" class=\"dataframe\"><thead><tr><th>carrier</th><th>flt_num</th><th>flt_departure_dt</th><th>observation_date</th><th>total_fare</th><th>days_till_flight</th><th>is_dst</th><th>route_id</th><th>flt_departure_local_time</th><th>flt_arrival_local_time</th><th>dur_min</th><th>tz_min</th><th>over_mn</th><th>dpt_4h_od</th><th>flt_count_dpt_24h</th><th>flt_count_dpt_4h</th><th>scaled_demand</th><th>scaled_share</th><th>origin_id</th><th>destination_id</th><th>flt_info_null</th><th>base_fare</th><th>log_fare</th><th>scaled_fare</th><th>days_since_start</th><th>flt_departure_month</th><th>flt_departure_day</th><th>flt_departure_week</th><th>flt_departure_weekday</th></tr><tr><td>str</td><td>i64</td><td>date</td><td>date</td><td>i64</td><td>i16</td><td>i8</td><td>u8</td><td>datetime[ns]</td><td>datetime[ns]</td><td>i16</td><td>i16</td><td>i8</td><td>i8</td><td>u8</td><td>u8</td><td>i64</td><td>i64</td><td>u8</td><td>u8</td><td>u8</td><td>f64</td><td>f64</td><td>f64</td><td>i64</td><td>i8</td><td>i8</td><td>i8</td><td>i8</td></tr></thead><tbody><tr><td>&quot;U1&quot;</td><td>6143</td><td>2018-01-01</td><td>2017-11-27</td><td>469</td><td>35</td><td>0</td><td>11</td><td>null</td><td>null</td><td>null</td><td>null</td><td>null</td><td>null</td><td>null</td><td>null</td><td>null</td><td>null</td><td>7</td><td>3</td><td>1</td><td>2.755964</td><td>2.671173</td><td>-0.0308</td><td>0</td><td>1</td><td>1</td><td>1</td><td>1</td></tr><tr><td>&quot;L1&quot;</td><td>5927</td><td>2018-01-01</td><td>2017-11-27</td><td>1119</td><td>35</td><td>0</td><td>1</td><td>2018-01-01 20:33:00</td><td>2018-01-01 23:50:00</td><td>197</td><td>-300</td><td>0</td><td>5</td><td>5</td><td>1</td><td>1468</td><td>360</td><td>1</td><td>5</td><td>0</td><td>2.991069</td><td>3.04883</td><td>0.0193</td><td>0</td><td>1</td><td>1</td><td>1</td><td>1</td></tr><tr><td>&quot;L3&quot;</td><td>18075</td><td>2018-01-01</td><td>2017-11-27</td><td>422</td><td>35</td><td>0</td><td>6</td><td>2018-01-01 13:20:00</td><td>2018-01-01 14:35:00</td><td>75</td><td>-480</td><td>0</td><td>3</td><td>30</td><td>9</td><td>6659</td><td>228</td><td>4</td><td>3</td><td>0</td><td>2.733692</td><td>2.625312</td><td>-0.0396</td><td>0</td><td>1</td><td>1</td><td>1</td><td>1</td></tr><tr><td>&quot;OTH&quot;</td><td>2416</td><td>2018-01-01</td><td>2017-11-27</td><td>787</td><td>35</td><td>0</td><td>4</td><td>2018-01-01 20:22:00</td><td>2018-01-01 21:46:00</td><td>84</td><td>-480</td><td>0</td><td>5</td><td>30</td><td>4</td><td>6659</td><td>316</td><td>3</td><td>4</td><td>0</td><td>2.589739</td><td>2.895975</td><td>0.1182</td><td>0</td><td>1</td><td>1</td><td>1</td><td>1</td></tr><tr><td>&quot;L3&quot;</td><td>18270</td><td>2018-01-01</td><td>2017-11-27</td><td>1298</td><td>35</td><td>0</td><td>4</td><td>2018-01-01 11:17:00</td><td>2018-01-01 12:40:00</td><td>83</td><td>-480</td><td>0</td><td>2</td><td>30</td><td>5</td><td>6659</td><td>231</td><td>3</td><td>4</td><td>0</td><td>2.763495</td><td>3.113275</td><td>0.1266</td><td>0</td><td>1</td><td>1</td><td>1</td><td>1</td></tr><tr><td>&quot;L1&quot;</td><td>1396</td><td>2018-01-01</td><td>2017-11-27</td><td>372</td><td>35</td><td>0</td><td>11</td><td>2018-01-01 19:35:00</td><td>2018-01-01 21:08:00</td><td>93</td><td>-480</td><td>0</td><td>4</td><td>21</td><td>7</td><td>6579</td><td>262</td><td>7</td><td>3</td><td>0</td><td>2.766269</td><td>2.570543</td><td>-0.0708</td><td>0</td><td>1</td><td>1</td><td>1</td><td>1</td></tr><tr><td>&quot;U1&quot;</td><td>4771</td><td>2018-01-01</td><td>2017-11-27</td><td>513</td><td>35</td><td>0</td><td>4</td><td>null</td><td>null</td><td>null</td><td>null</td><td>null</td><td>null</td><td>null</td><td>null</td><td>null</td><td>null</td><td>3</td><td>4</td><td>1</td><td>2.638819</td><td>2.710117</td><td>0.027</td><td>0</td><td>1</td><td>1</td><td>1</td><td>1</td></tr><tr><td>&quot;OTH&quot;</td><td>4825</td><td>2018-01-01</td><td>2017-11-27</td><td>432</td><td>35</td><td>0</td><td>6</td><td>2018-01-01 12:55:00</td><td>2018-01-01 14:07:00</td><td>72</td><td>-480</td><td>0</td><td>3</td><td>30</td><td>9</td><td>6659</td><td>316</td><td>4</td><td>3</td><td>0</td><td>2.578117</td><td>2.635484</td><td>0.0223</td><td>0</td><td>1</td><td>1</td><td>1</td><td>1</td></tr><tr><td>&quot;OTH&quot;</td><td>6175</td><td>2018-01-01</td><td>2017-11-27</td><td>341</td><td>35</td><td>0</td><td>11</td><td>2018-01-01 18:55:00</td><td>2018-01-01 20:23:00</td><td>88</td><td>-480</td><td>0</td><td>4</td><td>21</td><td>7</td><td>6579</td><td>354</td><td>7</td><td>3</td><td>0</td><td>2.72979</td><td>2.532754</td><td>-0.0722</td><td>0</td><td>1</td><td>1</td><td>1</td><td>1</td></tr><tr><td>&quot;U1&quot;</td><td>6187</td><td>2018-01-01</td><td>2017-11-27</td><td>341</td><td>35</td><td>0</td><td>11</td><td>null</td><td>null</td><td>null</td><td>null</td><td>null</td><td>null</td><td>null</td><td>null</td><td>null</td><td>null</td><td>7</td><td>3</td><td>1</td><td>2.755964</td><td>2.532754</td><td>-0.081</td><td>0</td><td>1</td><td>1</td><td>1</td><td>1</td></tr><tr><td>&hellip;</td><td>&hellip;</td><td>&hellip;</td><td>&hellip;</td><td>&hellip;</td><td>&hellip;</td><td>&hellip;</td><td>&hellip;</td><td>&hellip;</td><td>&hellip;</td><td>&hellip;</td><td>&hellip;</td><td>&hellip;</td><td>&hellip;</td><td>&hellip;</td><td>&hellip;</td><td>&hellip;</td><td>&hellip;</td><td>&hellip;</td><td>&hellip;</td><td>&hellip;</td><td>&hellip;</td><td>&hellip;</td><td>&hellip;</td><td>&hellip;</td><td>&hellip;</td><td>&hellip;</td><td>&hellip;</td><td>&hellip;</td></tr><tr><td>&quot;OTH&quot;</td><td>2972</td><td>2018-11-30</td><td>2018-11-30</td><td>696</td><td>0</td><td>0</td><td>6</td><td>2018-11-30 11:30:00</td><td>2018-11-30 12:43:00</td><td>73</td><td>-480</td><td>0</td><td>2</td><td>35</td><td>9</td><td>8086</td><td>264</td><td>4</td><td>3</td><td>0</td><td>2.578117</td><td>2.842609</td><td>0.1026</td><td>333</td><td>11</td><td>30</td><td>48</td><td>5</td></tr><tr><td>&quot;L1&quot;</td><td>3437</td><td>2018-11-30</td><td>2018-11-30</td><td>2037</td><td>0</td><td>0</td><td>2</td><td>2018-11-30 18:18:00</td><td>2018-11-30 19:38:00</td><td>80</td><td>-360</td><td>0</td><td>4</td><td>8</td><td>3</td><td>2838</td><td>403</td><td>2</td><td>3</td><td>0</td><td>2.931838</td><td>3.308991</td><td>0.1286</td><td>333</td><td>11</td><td>30</td><td>48</td><td>5</td></tr><tr><td>&quot;L1&quot;</td><td>1992</td><td>2018-11-30</td><td>2018-11-30</td><td>1167</td><td>0</td><td>0</td><td>4</td><td>2018-11-30 18:53:00</td><td>2018-11-30 20:05:00</td><td>72</td><td>-480</td><td>0</td><td>4</td><td>35</td><td>10</td><td>8086</td><td>199</td><td>3</td><td>4</td><td>0</td><td>2.671029</td><td>3.067071</td><td>0.1483</td><td>333</td><td>11</td><td>30</td><td>48</td><td>5</td></tr><tr><td>&quot;OTH&quot;</td><td>1075</td><td>2018-11-30</td><td>2018-11-30</td><td>1073</td><td>0</td><td>0</td><td>3</td><td>2018-11-30 18:45:00</td><td>2018-11-30 23:42:00</td><td>297</td><td>-480</td><td>0</td><td>4</td><td>8</td><td>1</td><td>2838</td><td>214</td><td>3</td><td>2</td><td>0</td><td>2.763481</td><td>3.0306</td><td>0.0967</td><td>333</td><td>11</td><td>30</td><td>48</td><td>5</td></tr><tr><td>&quot;L1&quot;</td><td>7136</td><td>2018-11-30</td><td>2018-11-30</td><td>1067</td><td>0</td><td>0</td><td>7</td><td>2018-11-30 19:49:00</td><td>2018-11-30 21:05:00</td><td>76</td><td>-360</td><td>0</td><td>4</td><td>10</td><td>4</td><td>3099</td><td>276</td><td>5</td><td>0</td><td>0</td><td>2.862502</td><td>3.028164</td><td>0.0579</td><td>333</td><td>11</td><td>30</td><td>48</td><td>5</td></tr><tr><td>&quot;U1&quot;</td><td>6178</td><td>2018-11-30</td><td>2018-11-30</td><td>1111</td><td>0</td><td>0</td><td>5</td><td>2018-11-30 18:55:00</td><td>2018-11-30 20:35:00</td><td>100</td><td>-480</td><td>0</td><td>4</td><td>22</td><td>7</td><td>6396</td><td>250</td><td>3</td><td>7</td><td>0</td><td>2.796569</td><td>3.045714</td><td>0.0891</td><td>333</td><td>11</td><td>30</td><td>48</td><td>5</td></tr><tr><td>&quot;L1&quot;</td><td>6294</td><td>2018-11-30</td><td>2018-11-30</td><td>2037</td><td>0</td><td>0</td><td>3</td><td>2018-11-30 14:03:00</td><td>2018-11-30 18:57:00</td><td>294</td><td>-480</td><td>0</td><td>3</td><td>8</td><td>4</td><td>2838</td><td>405</td><td>3</td><td>2</td><td>0</td><td>2.972533</td><td>3.308991</td><td>0.1132</td><td>333</td><td>11</td><td>30</td><td>48</td><td>5</td></tr><tr><td>&quot;L3&quot;</td><td>11152</td><td>2018-11-30</td><td>2018-11-30</td><td>1911</td><td>0</td><td>0</td><td>4</td><td>2018-11-30 16:45:00</td><td>2018-11-30 18:05:00</td><td>80</td><td>-480</td><td>0</td><td>4</td><td>35</td><td>10</td><td>8086</td><td>228</td><td>3</td><td>4</td><td>0</td><td>2.763495</td><td>3.281261</td><td>0.1874</td><td>333</td><td>11</td><td>30</td><td>48</td><td>5</td></tr><tr><td>&quot;L1&quot;</td><td>5701</td><td>2018-11-30</td><td>2018-11-30</td><td>2037</td><td>0</td><td>0</td><td>2</td><td>2018-11-30 21:59:00</td><td>2018-11-30 23:20:00</td><td>81</td><td>-360</td><td>0</td><td>5</td><td>8</td><td>1</td><td>2838</td><td>403</td><td>2</td><td>3</td><td>0</td><td>2.931838</td><td>3.308991</td><td>0.1286</td><td>333</td><td>11</td><td>30</td><td>48</td><td>5</td></tr><tr><td>&quot;L3&quot;</td><td>6523</td><td>2018-11-30</td><td>2018-11-30</td><td>1911</td><td>0</td><td>0</td><td>6</td><td>2018-11-30 21:15:00</td><td>2018-11-30 22:25:00</td><td>70</td><td>-480</td><td>0</td><td>5</td><td>35</td><td>5</td><td>8086</td><td>226</td><td>4</td><td>3</td><td>0</td><td>2.733692</td><td>3.281261</td><td>0.2003</td><td>333</td><td>11</td><td>30</td><td>48</td><td>5</td></tr></tbody></table></div>"
      ],
      "text/plain": [
       "shape: (1_556_671, 29)\n",
       "┌─────────┬─────────┬────────────┬────────────┬───┬────────────┬───────────┬───────────┬───────────┐\n",
       "│ carrier ┆ flt_num ┆ flt_depart ┆ observatio ┆ … ┆ flt_depart ┆ flt_depar ┆ flt_depar ┆ flt_depar │\n",
       "│ ---     ┆ ---     ┆ ure_dt     ┆ n_date     ┆   ┆ ure_month  ┆ ture_day  ┆ ture_week ┆ ture_week │\n",
       "│ str     ┆ i64     ┆ ---        ┆ ---        ┆   ┆ ---        ┆ ---       ┆ ---       ┆ day       │\n",
       "│         ┆         ┆ date       ┆ date       ┆   ┆ i8         ┆ i8        ┆ i8        ┆ ---       │\n",
       "│         ┆         ┆            ┆            ┆   ┆            ┆           ┆           ┆ i8        │\n",
       "╞═════════╪═════════╪════════════╪════════════╪═══╪════════════╪═══════════╪═══════════╪═══════════╡\n",
       "│ U1      ┆ 6143    ┆ 2018-01-01 ┆ 2017-11-27 ┆ … ┆ 1          ┆ 1         ┆ 1         ┆ 1         │\n",
       "│ L1      ┆ 5927    ┆ 2018-01-01 ┆ 2017-11-27 ┆ … ┆ 1          ┆ 1         ┆ 1         ┆ 1         │\n",
       "│ L3      ┆ 18075   ┆ 2018-01-01 ┆ 2017-11-27 ┆ … ┆ 1          ┆ 1         ┆ 1         ┆ 1         │\n",
       "│ OTH     ┆ 2416    ┆ 2018-01-01 ┆ 2017-11-27 ┆ … ┆ 1          ┆ 1         ┆ 1         ┆ 1         │\n",
       "│ L3      ┆ 18270   ┆ 2018-01-01 ┆ 2017-11-27 ┆ … ┆ 1          ┆ 1         ┆ 1         ┆ 1         │\n",
       "│ L1      ┆ 1396    ┆ 2018-01-01 ┆ 2017-11-27 ┆ … ┆ 1          ┆ 1         ┆ 1         ┆ 1         │\n",
       "│ U1      ┆ 4771    ┆ 2018-01-01 ┆ 2017-11-27 ┆ … ┆ 1          ┆ 1         ┆ 1         ┆ 1         │\n",
       "│ OTH     ┆ 4825    ┆ 2018-01-01 ┆ 2017-11-27 ┆ … ┆ 1          ┆ 1         ┆ 1         ┆ 1         │\n",
       "│ OTH     ┆ 6175    ┆ 2018-01-01 ┆ 2017-11-27 ┆ … ┆ 1          ┆ 1         ┆ 1         ┆ 1         │\n",
       "│ U1      ┆ 6187    ┆ 2018-01-01 ┆ 2017-11-27 ┆ … ┆ 1          ┆ 1         ┆ 1         ┆ 1         │\n",
       "│ …       ┆ …       ┆ …          ┆ …          ┆ … ┆ …          ┆ …         ┆ …         ┆ …         │\n",
       "│ OTH     ┆ 2972    ┆ 2018-11-30 ┆ 2018-11-30 ┆ … ┆ 11         ┆ 30        ┆ 48        ┆ 5         │\n",
       "│ L1      ┆ 3437    ┆ 2018-11-30 ┆ 2018-11-30 ┆ … ┆ 11         ┆ 30        ┆ 48        ┆ 5         │\n",
       "│ L1      ┆ 1992    ┆ 2018-11-30 ┆ 2018-11-30 ┆ … ┆ 11         ┆ 30        ┆ 48        ┆ 5         │\n",
       "│ OTH     ┆ 1075    ┆ 2018-11-30 ┆ 2018-11-30 ┆ … ┆ 11         ┆ 30        ┆ 48        ┆ 5         │\n",
       "│ L1      ┆ 7136    ┆ 2018-11-30 ┆ 2018-11-30 ┆ … ┆ 11         ┆ 30        ┆ 48        ┆ 5         │\n",
       "│ U1      ┆ 6178    ┆ 2018-11-30 ┆ 2018-11-30 ┆ … ┆ 11         ┆ 30        ┆ 48        ┆ 5         │\n",
       "│ L1      ┆ 6294    ┆ 2018-11-30 ┆ 2018-11-30 ┆ … ┆ 11         ┆ 30        ┆ 48        ┆ 5         │\n",
       "│ L3      ┆ 11152   ┆ 2018-11-30 ┆ 2018-11-30 ┆ … ┆ 11         ┆ 30        ┆ 48        ┆ 5         │\n",
       "│ L1      ┆ 5701    ┆ 2018-11-30 ┆ 2018-11-30 ┆ … ┆ 11         ┆ 30        ┆ 48        ┆ 5         │\n",
       "│ L3      ┆ 6523    ┆ 2018-11-30 ┆ 2018-11-30 ┆ … ┆ 11         ┆ 30        ┆ 48        ┆ 5         │\n",
       "└─────────┴─────────┴────────────┴────────────┴───┴────────────┴───────────┴───────────┴───────────┘"
      ]
     },
     "execution_count": 19,
     "metadata": {},
     "output_type": "execute_result"
    }
   ],
   "source": [
    "train_df = train_df.with_columns(\n",
    "    pl.col('flt_departure_dt').dt.month().alias('flt_departure_month'),\n",
    "    pl.col('flt_departure_dt').dt.day().alias('flt_departure_day'),\n",
    "    pl.col('flt_departure_dt').dt.week().alias('flt_departure_week'),    \n",
    "    pl.col('flt_departure_dt').dt.weekday().alias('flt_departure_weekday')  \n",
    ")\n",
    "train_df"
   ]
  },
  {
   "cell_type": "code",
   "execution_count": 20,
   "metadata": {},
   "outputs": [
    {
     "data": {
      "text/html": [
       "<div><style>\n",
       ".dataframe > thead > tr,\n",
       ".dataframe > tbody > tr {\n",
       "  text-align: right;\n",
       "  white-space: pre-wrap;\n",
       "}\n",
       "</style>\n",
       "<small>shape: (29_492, 29)</small><table border=\"1\" class=\"dataframe\"><thead><tr><th>carrier</th><th>flt_num</th><th>flt_departure_dt</th><th>observation_date</th><th>total_fare</th><th>days_till_flight</th><th>is_dst</th><th>route_id</th><th>flt_departure_local_time</th><th>flt_arrival_local_time</th><th>dur_min</th><th>tz_min</th><th>over_mn</th><th>dpt_4h_od</th><th>flt_count_dpt_24h</th><th>flt_count_dpt_4h</th><th>scaled_demand</th><th>scaled_share</th><th>origin_id</th><th>destination_id</th><th>flt_info_null</th><th>base_fare</th><th>log_fare</th><th>scaled_fare</th><th>days_since_start</th><th>flt_departure_month</th><th>flt_departure_day</th><th>flt_departure_week</th><th>flt_departure_weekday</th></tr><tr><td>str</td><td>i64</td><td>date</td><td>date</td><td>i64</td><td>i16</td><td>i8</td><td>u8</td><td>datetime[ns]</td><td>datetime[ns]</td><td>i16</td><td>i16</td><td>i8</td><td>i8</td><td>u8</td><td>u8</td><td>i64</td><td>i64</td><td>u8</td><td>u8</td><td>u8</td><td>f64</td><td>f64</td><td>f64</td><td>i64</td><td>i8</td><td>i8</td><td>i8</td><td>i8</td></tr></thead><tbody><tr><td>&quot;L2&quot;</td><td>7220</td><td>2018-12-01</td><td>2018-10-02</td><td>476</td><td>60</td><td>0</td><td>6</td><td>2018-12-01 10:15:00</td><td>2018-12-01 11:27:00</td><td>72</td><td>-480</td><td>0</td><td>2</td><td>32</td><td>9</td><td>7128</td><td>224</td><td>4</td><td>3</td><td>0</td><td>2.660753</td><td>2.677607</td><td>0.0063</td><td>334</td><td>12</td><td>1</td><td>48</td><td>6</td></tr><tr><td>&quot;L2&quot;</td><td>4448</td><td>2018-12-01</td><td>2018-10-02</td><td>476</td><td>60</td><td>0</td><td>6</td><td>2018-12-01 08:40:00</td><td>2018-12-01 10:04:00</td><td>84</td><td>-480</td><td>0</td><td>2</td><td>32</td><td>9</td><td>7128</td><td>224</td><td>4</td><td>3</td><td>0</td><td>2.660753</td><td>2.677607</td><td>0.0063</td><td>334</td><td>12</td><td>1</td><td>48</td><td>6</td></tr><tr><td>&quot;L2&quot;</td><td>7402</td><td>2018-12-01</td><td>2018-10-02</td><td>476</td><td>60</td><td>0</td><td>6</td><td>2018-12-01 14:10:00</td><td>2018-12-01 15:22:00</td><td>72</td><td>-480</td><td>0</td><td>3</td><td>32</td><td>9</td><td>7128</td><td>224</td><td>4</td><td>3</td><td>0</td><td>2.660753</td><td>2.677607</td><td>0.0063</td><td>334</td><td>12</td><td>1</td><td>48</td><td>6</td></tr><tr><td>&quot;L2&quot;</td><td>2200</td><td>2018-12-01</td><td>2018-10-02</td><td>285</td><td>60</td><td>0</td><td>6</td><td>2018-12-01 19:50:00</td><td>2018-12-01 21:02:00</td><td>72</td><td>-480</td><td>0</td><td>4</td><td>32</td><td>10</td><td>7128</td><td>224</td><td>4</td><td>3</td><td>0</td><td>2.660753</td><td>2.454845</td><td>-0.0774</td><td>334</td><td>12</td><td>1</td><td>48</td><td>6</td></tr><tr><td>&quot;L2&quot;</td><td>8903</td><td>2018-12-01</td><td>2018-10-02</td><td>285</td><td>60</td><td>0</td><td>6</td><td>2018-12-01 22:45:00</td><td>2018-12-02 00:02:00</td><td>77</td><td>-480</td><td>1</td><td>5</td><td>32</td><td>1</td><td>7128</td><td>224</td><td>4</td><td>3</td><td>0</td><td>2.660753</td><td>2.454845</td><td>-0.0774</td><td>334</td><td>12</td><td>1</td><td>48</td><td>6</td></tr><tr><td>&quot;L2&quot;</td><td>5041</td><td>2018-12-01</td><td>2018-10-02</td><td>476</td><td>60</td><td>0</td><td>6</td><td>2018-12-01 12:40:00</td><td>2018-12-01 13:52:00</td><td>72</td><td>-480</td><td>0</td><td>3</td><td>32</td><td>9</td><td>7128</td><td>224</td><td>4</td><td>3</td><td>0</td><td>2.660753</td><td>2.677607</td><td>0.0063</td><td>334</td><td>12</td><td>1</td><td>48</td><td>6</td></tr><tr><td>&quot;L2&quot;</td><td>1732</td><td>2018-12-01</td><td>2018-10-02</td><td>395</td><td>60</td><td>0</td><td>6</td><td>2018-12-01 16:50:00</td><td>2018-12-01 18:02:00</td><td>72</td><td>-480</td><td>0</td><td>4</td><td>32</td><td>10</td><td>7128</td><td>224</td><td>4</td><td>3</td><td>0</td><td>2.660753</td><td>2.596597</td><td>-0.0241</td><td>334</td><td>12</td><td>1</td><td>48</td><td>6</td></tr><tr><td>&quot;L1&quot;</td><td>5927</td><td>2018-12-01</td><td>2018-10-05</td><td>530</td><td>57</td><td>0</td><td>1</td><td>2018-12-01 20:30:00</td><td>2018-12-01 23:37:00</td><td>187</td><td>-300</td><td>0</td><td>5</td><td>4</td><td>1</td><td>2164</td><td>373</td><td>1</td><td>5</td><td>0</td><td>2.991069</td><td>2.724276</td><td>-0.0892</td><td>334</td><td>12</td><td>1</td><td>48</td><td>6</td></tr><tr><td>&quot;L1&quot;</td><td>11158</td><td>2018-12-01</td><td>2018-10-05</td><td>800</td><td>57</td><td>0</td><td>1</td><td>2018-12-01 12:03:00</td><td>2018-12-01 15:20:00</td><td>197</td><td>-300</td><td>0</td><td>3</td><td>4</td><td>1</td><td>2164</td><td>373</td><td>1</td><td>5</td><td>0</td><td>2.991069</td><td>2.90309</td><td>-0.0294</td><td>334</td><td>12</td><td>1</td><td>48</td><td>6</td></tr><tr><td>&quot;L1&quot;</td><td>7431</td><td>2018-12-01</td><td>2018-10-05</td><td>737</td><td>57</td><td>0</td><td>1</td><td>2018-12-01 07:29:00</td><td>2018-12-01 10:36:00</td><td>187</td><td>-300</td><td>0</td><td>1</td><td>4</td><td>1</td><td>2164</td><td>373</td><td>1</td><td>5</td><td>0</td><td>2.991069</td><td>2.867467</td><td>-0.0413</td><td>334</td><td>12</td><td>1</td><td>48</td><td>6</td></tr><tr><td>&hellip;</td><td>&hellip;</td><td>&hellip;</td><td>&hellip;</td><td>&hellip;</td><td>&hellip;</td><td>&hellip;</td><td>&hellip;</td><td>&hellip;</td><td>&hellip;</td><td>&hellip;</td><td>&hellip;</td><td>&hellip;</td><td>&hellip;</td><td>&hellip;</td><td>&hellip;</td><td>&hellip;</td><td>&hellip;</td><td>&hellip;</td><td>&hellip;</td><td>&hellip;</td><td>&hellip;</td><td>&hellip;</td><td>&hellip;</td><td>&hellip;</td><td>&hellip;</td><td>&hellip;</td><td>&hellip;</td><td>&hellip;</td></tr><tr><td>&quot;U1&quot;</td><td>6250</td><td>2018-12-07</td><td>2018-12-07</td><td>1283</td><td>0</td><td>0</td><td>11</td><td>2018-12-07 19:35:00</td><td>2018-12-07 21:09:00</td><td>94</td><td>-480</td><td>0</td><td>4</td><td>22</td><td>6</td><td>5817</td><td>253</td><td>7</td><td>3</td><td>0</td><td>2.755964</td><td>3.108227</td><td>0.1278</td><td>340</td><td>12</td><td>7</td><td>49</td><td>5</td></tr><tr><td>&quot;L1&quot;</td><td>6278</td><td>2018-12-07</td><td>2018-12-07</td><td>1067</td><td>0</td><td>0</td><td>0</td><td>2018-12-07 15:30:00</td><td>2018-12-07 18:35:00</td><td>185</td><td>-420</td><td>0</td><td>3</td><td>10</td><td>4</td><td>3070</td><td>281</td><td>0</td><td>5</td><td>0</td><td>2.877514</td><td>3.028164</td><td>0.0524</td><td>340</td><td>12</td><td>7</td><td>49</td><td>5</td></tr><tr><td>&quot;L3&quot;</td><td>11152</td><td>2018-12-07</td><td>2018-12-07</td><td>671</td><td>0</td><td>0</td><td>4</td><td>2018-12-07 16:45:00</td><td>2018-12-07 18:05:00</td><td>80</td><td>-480</td><td>0</td><td>4</td><td>35</td><td>10</td><td>7128</td><td>231</td><td>3</td><td>4</td><td>0</td><td>2.763495</td><td>2.826723</td><td>0.0229</td><td>340</td><td>12</td><td>7</td><td>49</td><td>5</td></tr><tr><td>&quot;L1&quot;</td><td>2997</td><td>2018-12-07</td><td>2018-12-07</td><td>1346</td><td>0</td><td>0</td><td>8</td><td>2018-12-07 11:34:00</td><td>2018-12-07 16:10:00</td><td>276</td><td>-360</td><td>0</td><td>2</td><td>4</td><td>1</td><td>2164</td><td>373</td><td>5</td><td>1</td><td>0</td><td>3.021101</td><td>3.129045</td><td>0.0357</td><td>340</td><td>12</td><td>7</td><td>49</td><td>5</td></tr><tr><td>&quot;L1&quot;</td><td>1176</td><td>2018-12-07</td><td>2018-12-07</td><td>395</td><td>0</td><td>0</td><td>4</td><td>2018-12-07 06:05:00</td><td>2018-12-07 07:21:00</td><td>76</td><td>-480</td><td>0</td><td>1</td><td>35</td><td>6</td><td>7128</td><td>189</td><td>3</td><td>4</td><td>0</td><td>2.671029</td><td>2.596597</td><td>-0.0279</td><td>340</td><td>12</td><td>7</td><td>49</td><td>5</td></tr><tr><td>&quot;U1&quot;</td><td>6162</td><td>2018-12-07</td><td>2018-12-07</td><td>1111</td><td>0</td><td>0</td><td>11</td><td>2018-12-07 16:20:00</td><td>2018-12-07 17:54:00</td><td>94</td><td>-480</td><td>0</td><td>4</td><td>22</td><td>6</td><td>5817</td><td>253</td><td>7</td><td>3</td><td>0</td><td>2.755964</td><td>3.045714</td><td>0.1051</td><td>340</td><td>12</td><td>7</td><td>49</td><td>5</td></tr><tr><td>&quot;U1&quot;</td><td>6128</td><td>2018-12-07</td><td>2018-12-07</td><td>1111</td><td>0</td><td>0</td><td>5</td><td>2018-12-07 09:35:00</td><td>2018-12-07 11:12:00</td><td>97</td><td>-480</td><td>0</td><td>2</td><td>22</td><td>6</td><td>5817</td><td>252</td><td>3</td><td>7</td><td>0</td><td>2.796569</td><td>3.045714</td><td>0.0891</td><td>340</td><td>12</td><td>7</td><td>49</td><td>5</td></tr><tr><td>&quot;L1&quot;</td><td>5701</td><td>2018-12-07</td><td>2018-12-07</td><td>2037</td><td>0</td><td>0</td><td>2</td><td>2018-12-07 21:59:00</td><td>2018-12-07 23:20:00</td><td>81</td><td>-360</td><td>0</td><td>5</td><td>8</td><td>1</td><td>2790</td><td>405</td><td>2</td><td>3</td><td>0</td><td>2.931838</td><td>3.308991</td><td>0.1286</td><td>340</td><td>12</td><td>7</td><td>49</td><td>5</td></tr><tr><td>&quot;L2&quot;</td><td>5274</td><td>2018-12-07</td><td>2018-12-07</td><td>1742</td><td>0</td><td>0</td><td>9</td><td>2018-12-07 11:03:00</td><td>2018-12-07 13:44:00</td><td>161</td><td>-360</td><td>0</td><td>2</td><td>7</td><td>3</td><td>1618</td><td>310</td><td>5</td><td>6</td><td>0</td><td>2.945677</td><td>3.241048</td><td>0.1003</td><td>340</td><td>12</td><td>7</td><td>49</td><td>5</td></tr><tr><td>&quot;L1&quot;</td><td>6517</td><td>2018-12-07</td><td>2018-12-07</td><td>1346</td><td>0</td><td>0</td><td>8</td><td>2018-12-07 16:15:00</td><td>2018-12-07 20:52:00</td><td>277</td><td>-360</td><td>0</td><td>4</td><td>4</td><td>1</td><td>2164</td><td>373</td><td>5</td><td>1</td><td>0</td><td>3.021101</td><td>3.129045</td><td>0.0357</td><td>340</td><td>12</td><td>7</td><td>49</td><td>5</td></tr></tbody></table></div>"
      ],
      "text/plain": [
       "shape: (29_492, 29)\n",
       "┌─────────┬─────────┬────────────┬────────────┬───┬────────────┬───────────┬───────────┬───────────┐\n",
       "│ carrier ┆ flt_num ┆ flt_depart ┆ observatio ┆ … ┆ flt_depart ┆ flt_depar ┆ flt_depar ┆ flt_depar │\n",
       "│ ---     ┆ ---     ┆ ure_dt     ┆ n_date     ┆   ┆ ure_month  ┆ ture_day  ┆ ture_week ┆ ture_week │\n",
       "│ str     ┆ i64     ┆ ---        ┆ ---        ┆   ┆ ---        ┆ ---       ┆ ---       ┆ day       │\n",
       "│         ┆         ┆ date       ┆ date       ┆   ┆ i8         ┆ i8        ┆ i8        ┆ ---       │\n",
       "│         ┆         ┆            ┆            ┆   ┆            ┆           ┆           ┆ i8        │\n",
       "╞═════════╪═════════╪════════════╪════════════╪═══╪════════════╪═══════════╪═══════════╪═══════════╡\n",
       "│ L2      ┆ 7220    ┆ 2018-12-01 ┆ 2018-10-02 ┆ … ┆ 12         ┆ 1         ┆ 48        ┆ 6         │\n",
       "│ L2      ┆ 4448    ┆ 2018-12-01 ┆ 2018-10-02 ┆ … ┆ 12         ┆ 1         ┆ 48        ┆ 6         │\n",
       "│ L2      ┆ 7402    ┆ 2018-12-01 ┆ 2018-10-02 ┆ … ┆ 12         ┆ 1         ┆ 48        ┆ 6         │\n",
       "│ L2      ┆ 2200    ┆ 2018-12-01 ┆ 2018-10-02 ┆ … ┆ 12         ┆ 1         ┆ 48        ┆ 6         │\n",
       "│ L2      ┆ 8903    ┆ 2018-12-01 ┆ 2018-10-02 ┆ … ┆ 12         ┆ 1         ┆ 48        ┆ 6         │\n",
       "│ L2      ┆ 5041    ┆ 2018-12-01 ┆ 2018-10-02 ┆ … ┆ 12         ┆ 1         ┆ 48        ┆ 6         │\n",
       "│ L2      ┆ 1732    ┆ 2018-12-01 ┆ 2018-10-02 ┆ … ┆ 12         ┆ 1         ┆ 48        ┆ 6         │\n",
       "│ L1      ┆ 5927    ┆ 2018-12-01 ┆ 2018-10-05 ┆ … ┆ 12         ┆ 1         ┆ 48        ┆ 6         │\n",
       "│ L1      ┆ 11158   ┆ 2018-12-01 ┆ 2018-10-05 ┆ … ┆ 12         ┆ 1         ┆ 48        ┆ 6         │\n",
       "│ L1      ┆ 7431    ┆ 2018-12-01 ┆ 2018-10-05 ┆ … ┆ 12         ┆ 1         ┆ 48        ┆ 6         │\n",
       "│ …       ┆ …       ┆ …          ┆ …          ┆ … ┆ …          ┆ …         ┆ …         ┆ …         │\n",
       "│ U1      ┆ 6250    ┆ 2018-12-07 ┆ 2018-12-07 ┆ … ┆ 12         ┆ 7         ┆ 49        ┆ 5         │\n",
       "│ L1      ┆ 6278    ┆ 2018-12-07 ┆ 2018-12-07 ┆ … ┆ 12         ┆ 7         ┆ 49        ┆ 5         │\n",
       "│ L3      ┆ 11152   ┆ 2018-12-07 ┆ 2018-12-07 ┆ … ┆ 12         ┆ 7         ┆ 49        ┆ 5         │\n",
       "│ L1      ┆ 2997    ┆ 2018-12-07 ┆ 2018-12-07 ┆ … ┆ 12         ┆ 7         ┆ 49        ┆ 5         │\n",
       "│ L1      ┆ 1176    ┆ 2018-12-07 ┆ 2018-12-07 ┆ … ┆ 12         ┆ 7         ┆ 49        ┆ 5         │\n",
       "│ U1      ┆ 6162    ┆ 2018-12-07 ┆ 2018-12-07 ┆ … ┆ 12         ┆ 7         ┆ 49        ┆ 5         │\n",
       "│ U1      ┆ 6128    ┆ 2018-12-07 ┆ 2018-12-07 ┆ … ┆ 12         ┆ 7         ┆ 49        ┆ 5         │\n",
       "│ L1      ┆ 5701    ┆ 2018-12-07 ┆ 2018-12-07 ┆ … ┆ 12         ┆ 7         ┆ 49        ┆ 5         │\n",
       "│ L2      ┆ 5274    ┆ 2018-12-07 ┆ 2018-12-07 ┆ … ┆ 12         ┆ 7         ┆ 49        ┆ 5         │\n",
       "│ L1      ┆ 6517    ┆ 2018-12-07 ┆ 2018-12-07 ┆ … ┆ 12         ┆ 7         ┆ 49        ┆ 5         │\n",
       "└─────────┴─────────┴────────────┴────────────┴───┴────────────┴───────────┴───────────┴───────────┘"
      ]
     },
     "execution_count": 20,
     "metadata": {},
     "output_type": "execute_result"
    }
   ],
   "source": [
    "val_df = val_df.with_columns(\n",
    "    pl.col('flt_departure_dt').dt.month().alias('flt_departure_month'),\n",
    "    pl.col('flt_departure_dt').dt.day().alias('flt_departure_day'),\n",
    "    pl.col('flt_departure_dt').dt.week().alias('flt_departure_week'),    \n",
    "    pl.col('flt_departure_dt').dt.weekday().alias('flt_departure_weekday')  \n",
    ")\n",
    "val_df"
   ]
  },
  {
   "cell_type": "markdown",
   "metadata": {},
   "source": [
    "### Imputation"
   ]
  },
  {
   "cell_type": "markdown",
   "metadata": {},
   "source": [
    "#### Null counts"
   ]
  },
  {
   "cell_type": "code",
   "execution_count": 21,
   "metadata": {},
   "outputs": [
    {
     "data": {
      "text/html": [
       "<div><style>\n",
       ".dataframe > thead > tr,\n",
       ".dataframe > tbody > tr {\n",
       "  text-align: right;\n",
       "  white-space: pre-wrap;\n",
       "}\n",
       "</style>\n",
       "<small>shape: (1, 29)</small><table border=\"1\" class=\"dataframe\"><thead><tr><th>carrier</th><th>flt_num</th><th>flt_departure_dt</th><th>observation_date</th><th>total_fare</th><th>days_till_flight</th><th>is_dst</th><th>route_id</th><th>flt_departure_local_time</th><th>flt_arrival_local_time</th><th>dur_min</th><th>tz_min</th><th>over_mn</th><th>dpt_4h_od</th><th>flt_count_dpt_24h</th><th>flt_count_dpt_4h</th><th>scaled_demand</th><th>scaled_share</th><th>origin_id</th><th>destination_id</th><th>flt_info_null</th><th>base_fare</th><th>log_fare</th><th>scaled_fare</th><th>days_since_start</th><th>flt_departure_month</th><th>flt_departure_day</th><th>flt_departure_week</th><th>flt_departure_weekday</th></tr><tr><td>u32</td><td>u32</td><td>u32</td><td>u32</td><td>u32</td><td>u32</td><td>u32</td><td>u32</td><td>u32</td><td>u32</td><td>u32</td><td>u32</td><td>u32</td><td>u32</td><td>u32</td><td>u32</td><td>u32</td><td>u32</td><td>u32</td><td>u32</td><td>u32</td><td>u32</td><td>u32</td><td>u32</td><td>u32</td><td>u32</td><td>u32</td><td>u32</td><td>u32</td></tr></thead><tbody><tr><td>0</td><td>0</td><td>0</td><td>0</td><td>0</td><td>0</td><td>0</td><td>0</td><td>96382</td><td>96382</td><td>96382</td><td>96382</td><td>96382</td><td>96382</td><td>96382</td><td>96382</td><td>100313</td><td>100313</td><td>0</td><td>0</td><td>0</td><td>0</td><td>0</td><td>0</td><td>0</td><td>0</td><td>0</td><td>0</td><td>0</td></tr></tbody></table></div>"
      ],
      "text/plain": [
       "shape: (1, 29)\n",
       "┌─────────┬─────────┬────────────┬────────────┬───┬────────────┬───────────┬───────────┬───────────┐\n",
       "│ carrier ┆ flt_num ┆ flt_depart ┆ observatio ┆ … ┆ flt_depart ┆ flt_depar ┆ flt_depar ┆ flt_depar │\n",
       "│ ---     ┆ ---     ┆ ure_dt     ┆ n_date     ┆   ┆ ure_month  ┆ ture_day  ┆ ture_week ┆ ture_week │\n",
       "│ u32     ┆ u32     ┆ ---        ┆ ---        ┆   ┆ ---        ┆ ---       ┆ ---       ┆ day       │\n",
       "│         ┆         ┆ u32        ┆ u32        ┆   ┆ u32        ┆ u32       ┆ u32       ┆ ---       │\n",
       "│         ┆         ┆            ┆            ┆   ┆            ┆           ┆           ┆ u32       │\n",
       "╞═════════╪═════════╪════════════╪════════════╪═══╪════════════╪═══════════╪═══════════╪═══════════╡\n",
       "│ 0       ┆ 0       ┆ 0          ┆ 0          ┆ … ┆ 0          ┆ 0         ┆ 0         ┆ 0         │\n",
       "└─────────┴─────────┴────────────┴────────────┴───┴────────────┴───────────┴───────────┴───────────┘"
      ]
     },
     "execution_count": 21,
     "metadata": {},
     "output_type": "execute_result"
    }
   ],
   "source": [
    "train_df.null_count()"
   ]
  },
  {
   "cell_type": "code",
   "execution_count": 22,
   "metadata": {},
   "outputs": [
    {
     "data": {
      "text/html": [
       "<div><style>\n",
       ".dataframe > thead > tr,\n",
       ".dataframe > tbody > tr {\n",
       "  text-align: right;\n",
       "  white-space: pre-wrap;\n",
       "}\n",
       "</style>\n",
       "<small>shape: (1, 29)</small><table border=\"1\" class=\"dataframe\"><thead><tr><th>carrier</th><th>flt_num</th><th>flt_departure_dt</th><th>observation_date</th><th>total_fare</th><th>days_till_flight</th><th>is_dst</th><th>route_id</th><th>flt_departure_local_time</th><th>flt_arrival_local_time</th><th>dur_min</th><th>tz_min</th><th>over_mn</th><th>dpt_4h_od</th><th>flt_count_dpt_24h</th><th>flt_count_dpt_4h</th><th>scaled_demand</th><th>scaled_share</th><th>origin_id</th><th>destination_id</th><th>flt_info_null</th><th>base_fare</th><th>log_fare</th><th>scaled_fare</th><th>days_since_start</th><th>flt_departure_month</th><th>flt_departure_day</th><th>flt_departure_week</th><th>flt_departure_weekday</th></tr><tr><td>u32</td><td>u32</td><td>u32</td><td>u32</td><td>u32</td><td>u32</td><td>u32</td><td>u32</td><td>u32</td><td>u32</td><td>u32</td><td>u32</td><td>u32</td><td>u32</td><td>u32</td><td>u32</td><td>u32</td><td>u32</td><td>u32</td><td>u32</td><td>u32</td><td>u32</td><td>u32</td><td>u32</td><td>u32</td><td>u32</td><td>u32</td><td>u32</td><td>u32</td></tr></thead><tbody><tr><td>0</td><td>0</td><td>0</td><td>0</td><td>0</td><td>0</td><td>0</td><td>0</td><td>30</td><td>30</td><td>30</td><td>30</td><td>30</td><td>30</td><td>30</td><td>30</td><td>0</td><td>0</td><td>0</td><td>0</td><td>0</td><td>0</td><td>0</td><td>0</td><td>0</td><td>0</td><td>0</td><td>0</td><td>0</td></tr></tbody></table></div>"
      ],
      "text/plain": [
       "shape: (1, 29)\n",
       "┌─────────┬─────────┬────────────┬────────────┬───┬────────────┬───────────┬───────────┬───────────┐\n",
       "│ carrier ┆ flt_num ┆ flt_depart ┆ observatio ┆ … ┆ flt_depart ┆ flt_depar ┆ flt_depar ┆ flt_depar │\n",
       "│ ---     ┆ ---     ┆ ure_dt     ┆ n_date     ┆   ┆ ure_month  ┆ ture_day  ┆ ture_week ┆ ture_week │\n",
       "│ u32     ┆ u32     ┆ ---        ┆ ---        ┆   ┆ ---        ┆ ---       ┆ ---       ┆ day       │\n",
       "│         ┆         ┆ u32        ┆ u32        ┆   ┆ u32        ┆ u32       ┆ u32       ┆ ---       │\n",
       "│         ┆         ┆            ┆            ┆   ┆            ┆           ┆           ┆ u32       │\n",
       "╞═════════╪═════════╪════════════╪════════════╪═══╪════════════╪═══════════╪═══════════╪═══════════╡\n",
       "│ 0       ┆ 0       ┆ 0          ┆ 0          ┆ … ┆ 0          ┆ 0         ┆ 0         ┆ 0         │\n",
       "└─────────┴─────────┴────────────┴────────────┴───┴────────────┴───────────┴───────────┴───────────┘"
      ]
     },
     "execution_count": 22,
     "metadata": {},
     "output_type": "execute_result"
    }
   ],
   "source": [
    "val_df.null_count()"
   ]
  },
  {
   "cell_type": "markdown",
   "metadata": {},
   "source": [
    "#### Flight duration"
   ]
  },
  {
   "cell_type": "code",
   "execution_count": 23,
   "metadata": {},
   "outputs": [
    {
     "data": {
      "text/html": [
       "<div><style>\n",
       ".dataframe > thead > tr,\n",
       ".dataframe > tbody > tr {\n",
       "  text-align: right;\n",
       "  white-space: pre-wrap;\n",
       "}\n",
       "</style>\n",
       "<small>shape: (34, 4)</small><table border=\"1\" class=\"dataframe\"><thead><tr><th>route_id</th><th>carrier</th><th>dur_mean</th><th>dur_std</th></tr><tr><td>u8</td><td>str</td><td>f64</td><td>f64</td></tr></thead><tbody><tr><td>0</td><td>&quot;L1&quot;</td><td>190.82</td><td>5.32</td></tr><tr><td>0</td><td>&quot;U3&quot;</td><td>193.89</td><td>3.55</td></tr><tr><td>1</td><td>&quot;L1&quot;</td><td>187.99</td><td>14.32</td></tr><tr><td>2</td><td>&quot;L1&quot;</td><td>77.39</td><td>7.55</td></tr><tr><td>2</td><td>&quot;OTH&quot;</td><td>73.2</td><td>7.75</td></tr><tr><td>2</td><td>&quot;U3&quot;</td><td>94.24</td><td>1.8</td></tr><tr><td>3</td><td>&quot;L1&quot;</td><td>296.7</td><td>3.88</td></tr><tr><td>3</td><td>&quot;OTH&quot;</td><td>297.0</td><td>3.37</td></tr><tr><td>3</td><td>&quot;U3&quot;</td><td>301.47</td><td>1.35</td></tr><tr><td>4</td><td>&quot;L1&quot;</td><td>83.71</td><td>6.44</td></tr><tr><td>&hellip;</td><td>&hellip;</td><td>&hellip;</td><td>&hellip;</td></tr><tr><td>7</td><td>&quot;U3&quot;</td><td>80.9</td><td>2.01</td></tr><tr><td>8</td><td>&quot;L1&quot;</td><td>278.19</td><td>6.27</td></tr><tr><td>9</td><td>&quot;L1&quot;</td><td>160.48</td><td>4.99</td></tr><tr><td>9</td><td>&quot;L2&quot;</td><td>164.45</td><td>4.03</td></tr><tr><td>10</td><td>&quot;L1&quot;</td><td>170.72</td><td>7.47</td></tr><tr><td>10</td><td>&quot;L2&quot;</td><td>160.91</td><td>5.9</td></tr><tr><td>11</td><td>&quot;L1&quot;</td><td>95.27</td><td>2.98</td></tr><tr><td>11</td><td>&quot;OTH&quot;</td><td>90.69</td><td>3.13</td></tr><tr><td>11</td><td>&quot;U1&quot;</td><td>94.43</td><td>2.89</td></tr><tr><td>11</td><td>&quot;U3&quot;</td><td>99.07</td><td>1.83</td></tr></tbody></table></div>"
      ],
      "text/plain": [
       "shape: (34, 4)\n",
       "┌──────────┬─────────┬──────────┬─────────┐\n",
       "│ route_id ┆ carrier ┆ dur_mean ┆ dur_std │\n",
       "│ ---      ┆ ---     ┆ ---      ┆ ---     │\n",
       "│ u8       ┆ str     ┆ f64      ┆ f64     │\n",
       "╞══════════╪═════════╪══════════╪═════════╡\n",
       "│ 0        ┆ L1      ┆ 190.82   ┆ 5.32    │\n",
       "│ 0        ┆ U3      ┆ 193.89   ┆ 3.55    │\n",
       "│ 1        ┆ L1      ┆ 187.99   ┆ 14.32   │\n",
       "│ 2        ┆ L1      ┆ 77.39    ┆ 7.55    │\n",
       "│ 2        ┆ OTH     ┆ 73.2     ┆ 7.75    │\n",
       "│ 2        ┆ U3      ┆ 94.24    ┆ 1.8     │\n",
       "│ 3        ┆ L1      ┆ 296.7    ┆ 3.88    │\n",
       "│ 3        ┆ OTH     ┆ 297.0    ┆ 3.37    │\n",
       "│ 3        ┆ U3      ┆ 301.47   ┆ 1.35    │\n",
       "│ 4        ┆ L1      ┆ 83.71    ┆ 6.44    │\n",
       "│ …        ┆ …       ┆ …        ┆ …       │\n",
       "│ 7        ┆ U3      ┆ 80.9     ┆ 2.01    │\n",
       "│ 8        ┆ L1      ┆ 278.19   ┆ 6.27    │\n",
       "│ 9        ┆ L1      ┆ 160.48   ┆ 4.99    │\n",
       "│ 9        ┆ L2      ┆ 164.45   ┆ 4.03    │\n",
       "│ 10       ┆ L1      ┆ 170.72   ┆ 7.47    │\n",
       "│ 10       ┆ L2      ┆ 160.91   ┆ 5.9     │\n",
       "│ 11       ┆ L1      ┆ 95.27    ┆ 2.98    │\n",
       "│ 11       ┆ OTH     ┆ 90.69    ┆ 3.13    │\n",
       "│ 11       ┆ U1      ┆ 94.43    ┆ 2.89    │\n",
       "│ 11       ┆ U3      ┆ 99.07    ┆ 1.83    │\n",
       "└──────────┴─────────┴──────────┴─────────┘"
      ]
     },
     "execution_count": 23,
     "metadata": {},
     "output_type": "execute_result"
    }
   ],
   "source": [
    "mean_durations = train_df.group_by('route_id', 'carrier').agg(\n",
    "    pl.col('dur_min').mean().round(2).alias(\"dur_mean\"),\n",
    "    pl.col('dur_min').std().round(2).alias(\"dur_std\")\n",
    ").sort('route_id', 'carrier')\n",
    "\n",
    "mean_durations"
   ]
  },
  {
   "cell_type": "code",
   "execution_count": 24,
   "metadata": {},
   "outputs": [
    {
     "data": {
      "text/plain": [
       "0"
      ]
     },
     "execution_count": 24,
     "metadata": {},
     "output_type": "execute_result"
    }
   ],
   "source": [
    "train_df = train_df.join(\n",
    "    mean_durations.drop('dur_std'),\n",
    "    on = ['route_id', 'carrier'],\n",
    "    how = 'left'\n",
    ").with_columns(\n",
    "    pl.coalesce(['dur_min', 'dur_mean'])\n",
    ")\n",
    "\n",
    "train_df['dur_min'].null_count()"
   ]
  },
  {
   "cell_type": "code",
   "execution_count": 25,
   "metadata": {},
   "outputs": [
    {
     "data": {
      "text/plain": [
       "0"
      ]
     },
     "execution_count": 25,
     "metadata": {},
     "output_type": "execute_result"
    }
   ],
   "source": [
    "val_df = val_df.join(\n",
    "    mean_durations.drop('dur_std'),\n",
    "    on = ['route_id', 'carrier'],\n",
    "    how = 'left'\n",
    ").with_columns(\n",
    "    pl.coalesce(['dur_min', 'dur_mean'])\n",
    ")\n",
    "\n",
    "val_df['dur_min'].null_count()"
   ]
  },
  {
   "cell_type": "markdown",
   "metadata": {},
   "source": [
    "### Training datasets"
   ]
  },
  {
   "cell_type": "code",
   "execution_count": 26,
   "metadata": {},
   "outputs": [
    {
     "data": {
      "text/plain": [
       "((1556671, 12), (29492, 12), (1556671,), (29492,))"
      ]
     },
     "execution_count": 26,
     "metadata": {},
     "output_type": "execute_result"
    }
   ],
   "source": [
    "TRAINING_COLS = [\n",
    "    'carrier', 'days_till_flight', 'origin_id', 'destination_id', \n",
    "    'dur_min', 'flt_info_null', 'days_since_start', 'is_dst',\n",
    "    'flt_departure_month', 'flt_departure_day',\n",
    "    'flt_departure_week', 'flt_departure_weekday'\n",
    "]\n",
    "\n",
    "X_train = train_df.select(TRAINING_COLS)\n",
    "X_val = val_df.select(TRAINING_COLS)\n",
    "\n",
    "y_train = train_df['scaled_fare']\n",
    "y_val = val_df['scaled_fare']\n",
    "\n",
    "X_train.shape, X_val.shape, y_train.shape, y_val.shape"
   ]
  },
  {
   "cell_type": "markdown",
   "metadata": {},
   "source": [
    "## Modelling"
   ]
  },
  {
   "cell_type": "markdown",
   "metadata": {},
   "source": [
    "### Training"
   ]
  },
  {
   "cell_type": "code",
   "execution_count": 27,
   "metadata": {},
   "outputs": [
    {
     "name": "stdout",
     "output_type": "stream",
     "text": [
      "0 : 355.678\n",
      "1 : 355.899\n",
      "2 : 355.550\n",
      "3 : 355.899\n",
      "4 : 355.870\n",
      "Best params:\n",
      "{'ridge__alpha': 1000.0}\n"
     ]
    },
    {
     "data": {
      "text/html": [
       "<style>#sk-container-id-1 {\n",
       "  /* Definition of color scheme common for light and dark mode */\n",
       "  --sklearn-color-text: black;\n",
       "  --sklearn-color-line: gray;\n",
       "  /* Definition of color scheme for unfitted estimators */\n",
       "  --sklearn-color-unfitted-level-0: #fff5e6;\n",
       "  --sklearn-color-unfitted-level-1: #f6e4d2;\n",
       "  --sklearn-color-unfitted-level-2: #ffe0b3;\n",
       "  --sklearn-color-unfitted-level-3: chocolate;\n",
       "  /* Definition of color scheme for fitted estimators */\n",
       "  --sklearn-color-fitted-level-0: #f0f8ff;\n",
       "  --sklearn-color-fitted-level-1: #d4ebff;\n",
       "  --sklearn-color-fitted-level-2: #b3dbfd;\n",
       "  --sklearn-color-fitted-level-3: cornflowerblue;\n",
       "\n",
       "  /* Specific color for light theme */\n",
       "  --sklearn-color-text-on-default-background: var(--sg-text-color, var(--theme-code-foreground, var(--jp-content-font-color1, black)));\n",
       "  --sklearn-color-background: var(--sg-background-color, var(--theme-background, var(--jp-layout-color0, white)));\n",
       "  --sklearn-color-border-box: var(--sg-text-color, var(--theme-code-foreground, var(--jp-content-font-color1, black)));\n",
       "  --sklearn-color-icon: #696969;\n",
       "\n",
       "  @media (prefers-color-scheme: dark) {\n",
       "    /* Redefinition of color scheme for dark theme */\n",
       "    --sklearn-color-text-on-default-background: var(--sg-text-color, var(--theme-code-foreground, var(--jp-content-font-color1, white)));\n",
       "    --sklearn-color-background: var(--sg-background-color, var(--theme-background, var(--jp-layout-color0, #111)));\n",
       "    --sklearn-color-border-box: var(--sg-text-color, var(--theme-code-foreground, var(--jp-content-font-color1, white)));\n",
       "    --sklearn-color-icon: #878787;\n",
       "  }\n",
       "}\n",
       "\n",
       "#sk-container-id-1 {\n",
       "  color: var(--sklearn-color-text);\n",
       "}\n",
       "\n",
       "#sk-container-id-1 pre {\n",
       "  padding: 0;\n",
       "}\n",
       "\n",
       "#sk-container-id-1 input.sk-hidden--visually {\n",
       "  border: 0;\n",
       "  clip: rect(1px 1px 1px 1px);\n",
       "  clip: rect(1px, 1px, 1px, 1px);\n",
       "  height: 1px;\n",
       "  margin: -1px;\n",
       "  overflow: hidden;\n",
       "  padding: 0;\n",
       "  position: absolute;\n",
       "  width: 1px;\n",
       "}\n",
       "\n",
       "#sk-container-id-1 div.sk-dashed-wrapped {\n",
       "  border: 1px dashed var(--sklearn-color-line);\n",
       "  margin: 0 0.4em 0.5em 0.4em;\n",
       "  box-sizing: border-box;\n",
       "  padding-bottom: 0.4em;\n",
       "  background-color: var(--sklearn-color-background);\n",
       "}\n",
       "\n",
       "#sk-container-id-1 div.sk-container {\n",
       "  /* jupyter's `normalize.less` sets `[hidden] { display: none; }`\n",
       "     but bootstrap.min.css set `[hidden] { display: none !important; }`\n",
       "     so we also need the `!important` here to be able to override the\n",
       "     default hidden behavior on the sphinx rendered scikit-learn.org.\n",
       "     See: https://github.com/scikit-learn/scikit-learn/issues/21755 */\n",
       "  display: inline-block !important;\n",
       "  position: relative;\n",
       "}\n",
       "\n",
       "#sk-container-id-1 div.sk-text-repr-fallback {\n",
       "  display: none;\n",
       "}\n",
       "\n",
       "div.sk-parallel-item,\n",
       "div.sk-serial,\n",
       "div.sk-item {\n",
       "  /* draw centered vertical line to link estimators */\n",
       "  background-image: linear-gradient(var(--sklearn-color-text-on-default-background), var(--sklearn-color-text-on-default-background));\n",
       "  background-size: 2px 100%;\n",
       "  background-repeat: no-repeat;\n",
       "  background-position: center center;\n",
       "}\n",
       "\n",
       "/* Parallel-specific style estimator block */\n",
       "\n",
       "#sk-container-id-1 div.sk-parallel-item::after {\n",
       "  content: \"\";\n",
       "  width: 100%;\n",
       "  border-bottom: 2px solid var(--sklearn-color-text-on-default-background);\n",
       "  flex-grow: 1;\n",
       "}\n",
       "\n",
       "#sk-container-id-1 div.sk-parallel {\n",
       "  display: flex;\n",
       "  align-items: stretch;\n",
       "  justify-content: center;\n",
       "  background-color: var(--sklearn-color-background);\n",
       "  position: relative;\n",
       "}\n",
       "\n",
       "#sk-container-id-1 div.sk-parallel-item {\n",
       "  display: flex;\n",
       "  flex-direction: column;\n",
       "}\n",
       "\n",
       "#sk-container-id-1 div.sk-parallel-item:first-child::after {\n",
       "  align-self: flex-end;\n",
       "  width: 50%;\n",
       "}\n",
       "\n",
       "#sk-container-id-1 div.sk-parallel-item:last-child::after {\n",
       "  align-self: flex-start;\n",
       "  width: 50%;\n",
       "}\n",
       "\n",
       "#sk-container-id-1 div.sk-parallel-item:only-child::after {\n",
       "  width: 0;\n",
       "}\n",
       "\n",
       "/* Serial-specific style estimator block */\n",
       "\n",
       "#sk-container-id-1 div.sk-serial {\n",
       "  display: flex;\n",
       "  flex-direction: column;\n",
       "  align-items: center;\n",
       "  background-color: var(--sklearn-color-background);\n",
       "  padding-right: 1em;\n",
       "  padding-left: 1em;\n",
       "}\n",
       "\n",
       "\n",
       "/* Toggleable style: style used for estimator/Pipeline/ColumnTransformer box that is\n",
       "clickable and can be expanded/collapsed.\n",
       "- Pipeline and ColumnTransformer use this feature and define the default style\n",
       "- Estimators will overwrite some part of the style using the `sk-estimator` class\n",
       "*/\n",
       "\n",
       "/* Pipeline and ColumnTransformer style (default) */\n",
       "\n",
       "#sk-container-id-1 div.sk-toggleable {\n",
       "  /* Default theme specific background. It is overwritten whether we have a\n",
       "  specific estimator or a Pipeline/ColumnTransformer */\n",
       "  background-color: var(--sklearn-color-background);\n",
       "}\n",
       "\n",
       "/* Toggleable label */\n",
       "#sk-container-id-1 label.sk-toggleable__label {\n",
       "  cursor: pointer;\n",
       "  display: block;\n",
       "  width: 100%;\n",
       "  margin-bottom: 0;\n",
       "  padding: 0.5em;\n",
       "  box-sizing: border-box;\n",
       "  text-align: center;\n",
       "}\n",
       "\n",
       "#sk-container-id-1 label.sk-toggleable__label-arrow:before {\n",
       "  /* Arrow on the left of the label */\n",
       "  content: \"▸\";\n",
       "  float: left;\n",
       "  margin-right: 0.25em;\n",
       "  color: var(--sklearn-color-icon);\n",
       "}\n",
       "\n",
       "#sk-container-id-1 label.sk-toggleable__label-arrow:hover:before {\n",
       "  color: var(--sklearn-color-text);\n",
       "}\n",
       "\n",
       "/* Toggleable content - dropdown */\n",
       "\n",
       "#sk-container-id-1 div.sk-toggleable__content {\n",
       "  max-height: 0;\n",
       "  max-width: 0;\n",
       "  overflow: hidden;\n",
       "  text-align: left;\n",
       "  /* unfitted */\n",
       "  background-color: var(--sklearn-color-unfitted-level-0);\n",
       "}\n",
       "\n",
       "#sk-container-id-1 div.sk-toggleable__content.fitted {\n",
       "  /* fitted */\n",
       "  background-color: var(--sklearn-color-fitted-level-0);\n",
       "}\n",
       "\n",
       "#sk-container-id-1 div.sk-toggleable__content pre {\n",
       "  margin: 0.2em;\n",
       "  border-radius: 0.25em;\n",
       "  color: var(--sklearn-color-text);\n",
       "  /* unfitted */\n",
       "  background-color: var(--sklearn-color-unfitted-level-0);\n",
       "}\n",
       "\n",
       "#sk-container-id-1 div.sk-toggleable__content.fitted pre {\n",
       "  /* unfitted */\n",
       "  background-color: var(--sklearn-color-fitted-level-0);\n",
       "}\n",
       "\n",
       "#sk-container-id-1 input.sk-toggleable__control:checked~div.sk-toggleable__content {\n",
       "  /* Expand drop-down */\n",
       "  max-height: 200px;\n",
       "  max-width: 100%;\n",
       "  overflow: auto;\n",
       "}\n",
       "\n",
       "#sk-container-id-1 input.sk-toggleable__control:checked~label.sk-toggleable__label-arrow:before {\n",
       "  content: \"▾\";\n",
       "}\n",
       "\n",
       "/* Pipeline/ColumnTransformer-specific style */\n",
       "\n",
       "#sk-container-id-1 div.sk-label input.sk-toggleable__control:checked~label.sk-toggleable__label {\n",
       "  color: var(--sklearn-color-text);\n",
       "  background-color: var(--sklearn-color-unfitted-level-2);\n",
       "}\n",
       "\n",
       "#sk-container-id-1 div.sk-label.fitted input.sk-toggleable__control:checked~label.sk-toggleable__label {\n",
       "  background-color: var(--sklearn-color-fitted-level-2);\n",
       "}\n",
       "\n",
       "/* Estimator-specific style */\n",
       "\n",
       "/* Colorize estimator box */\n",
       "#sk-container-id-1 div.sk-estimator input.sk-toggleable__control:checked~label.sk-toggleable__label {\n",
       "  /* unfitted */\n",
       "  background-color: var(--sklearn-color-unfitted-level-2);\n",
       "}\n",
       "\n",
       "#sk-container-id-1 div.sk-estimator.fitted input.sk-toggleable__control:checked~label.sk-toggleable__label {\n",
       "  /* fitted */\n",
       "  background-color: var(--sklearn-color-fitted-level-2);\n",
       "}\n",
       "\n",
       "#sk-container-id-1 div.sk-label label.sk-toggleable__label,\n",
       "#sk-container-id-1 div.sk-label label {\n",
       "  /* The background is the default theme color */\n",
       "  color: var(--sklearn-color-text-on-default-background);\n",
       "}\n",
       "\n",
       "/* On hover, darken the color of the background */\n",
       "#sk-container-id-1 div.sk-label:hover label.sk-toggleable__label {\n",
       "  color: var(--sklearn-color-text);\n",
       "  background-color: var(--sklearn-color-unfitted-level-2);\n",
       "}\n",
       "\n",
       "/* Label box, darken color on hover, fitted */\n",
       "#sk-container-id-1 div.sk-label.fitted:hover label.sk-toggleable__label.fitted {\n",
       "  color: var(--sklearn-color-text);\n",
       "  background-color: var(--sklearn-color-fitted-level-2);\n",
       "}\n",
       "\n",
       "/* Estimator label */\n",
       "\n",
       "#sk-container-id-1 div.sk-label label {\n",
       "  font-family: monospace;\n",
       "  font-weight: bold;\n",
       "  display: inline-block;\n",
       "  line-height: 1.2em;\n",
       "}\n",
       "\n",
       "#sk-container-id-1 div.sk-label-container {\n",
       "  text-align: center;\n",
       "}\n",
       "\n",
       "/* Estimator-specific */\n",
       "#sk-container-id-1 div.sk-estimator {\n",
       "  font-family: monospace;\n",
       "  border: 1px dotted var(--sklearn-color-border-box);\n",
       "  border-radius: 0.25em;\n",
       "  box-sizing: border-box;\n",
       "  margin-bottom: 0.5em;\n",
       "  /* unfitted */\n",
       "  background-color: var(--sklearn-color-unfitted-level-0);\n",
       "}\n",
       "\n",
       "#sk-container-id-1 div.sk-estimator.fitted {\n",
       "  /* fitted */\n",
       "  background-color: var(--sklearn-color-fitted-level-0);\n",
       "}\n",
       "\n",
       "/* on hover */\n",
       "#sk-container-id-1 div.sk-estimator:hover {\n",
       "  /* unfitted */\n",
       "  background-color: var(--sklearn-color-unfitted-level-2);\n",
       "}\n",
       "\n",
       "#sk-container-id-1 div.sk-estimator.fitted:hover {\n",
       "  /* fitted */\n",
       "  background-color: var(--sklearn-color-fitted-level-2);\n",
       "}\n",
       "\n",
       "/* Specification for estimator info (e.g. \"i\" and \"?\") */\n",
       "\n",
       "/* Common style for \"i\" and \"?\" */\n",
       "\n",
       ".sk-estimator-doc-link,\n",
       "a:link.sk-estimator-doc-link,\n",
       "a:visited.sk-estimator-doc-link {\n",
       "  float: right;\n",
       "  font-size: smaller;\n",
       "  line-height: 1em;\n",
       "  font-family: monospace;\n",
       "  background-color: var(--sklearn-color-background);\n",
       "  border-radius: 1em;\n",
       "  height: 1em;\n",
       "  width: 1em;\n",
       "  text-decoration: none !important;\n",
       "  margin-left: 1ex;\n",
       "  /* unfitted */\n",
       "  border: var(--sklearn-color-unfitted-level-1) 1pt solid;\n",
       "  color: var(--sklearn-color-unfitted-level-1);\n",
       "}\n",
       "\n",
       ".sk-estimator-doc-link.fitted,\n",
       "a:link.sk-estimator-doc-link.fitted,\n",
       "a:visited.sk-estimator-doc-link.fitted {\n",
       "  /* fitted */\n",
       "  border: var(--sklearn-color-fitted-level-1) 1pt solid;\n",
       "  color: var(--sklearn-color-fitted-level-1);\n",
       "}\n",
       "\n",
       "/* On hover */\n",
       "div.sk-estimator:hover .sk-estimator-doc-link:hover,\n",
       ".sk-estimator-doc-link:hover,\n",
       "div.sk-label-container:hover .sk-estimator-doc-link:hover,\n",
       ".sk-estimator-doc-link:hover {\n",
       "  /* unfitted */\n",
       "  background-color: var(--sklearn-color-unfitted-level-3);\n",
       "  color: var(--sklearn-color-background);\n",
       "  text-decoration: none;\n",
       "}\n",
       "\n",
       "div.sk-estimator.fitted:hover .sk-estimator-doc-link.fitted:hover,\n",
       ".sk-estimator-doc-link.fitted:hover,\n",
       "div.sk-label-container:hover .sk-estimator-doc-link.fitted:hover,\n",
       ".sk-estimator-doc-link.fitted:hover {\n",
       "  /* fitted */\n",
       "  background-color: var(--sklearn-color-fitted-level-3);\n",
       "  color: var(--sklearn-color-background);\n",
       "  text-decoration: none;\n",
       "}\n",
       "\n",
       "/* Span, style for the box shown on hovering the info icon */\n",
       ".sk-estimator-doc-link span {\n",
       "  display: none;\n",
       "  z-index: 9999;\n",
       "  position: relative;\n",
       "  font-weight: normal;\n",
       "  right: .2ex;\n",
       "  padding: .5ex;\n",
       "  margin: .5ex;\n",
       "  width: min-content;\n",
       "  min-width: 20ex;\n",
       "  max-width: 50ex;\n",
       "  color: var(--sklearn-color-text);\n",
       "  box-shadow: 2pt 2pt 4pt #999;\n",
       "  /* unfitted */\n",
       "  background: var(--sklearn-color-unfitted-level-0);\n",
       "  border: .5pt solid var(--sklearn-color-unfitted-level-3);\n",
       "}\n",
       "\n",
       ".sk-estimator-doc-link.fitted span {\n",
       "  /* fitted */\n",
       "  background: var(--sklearn-color-fitted-level-0);\n",
       "  border: var(--sklearn-color-fitted-level-3);\n",
       "}\n",
       "\n",
       ".sk-estimator-doc-link:hover span {\n",
       "  display: block;\n",
       "}\n",
       "\n",
       "/* \"?\"-specific style due to the `<a>` HTML tag */\n",
       "\n",
       "#sk-container-id-1 a.estimator_doc_link {\n",
       "  float: right;\n",
       "  font-size: 1rem;\n",
       "  line-height: 1em;\n",
       "  font-family: monospace;\n",
       "  background-color: var(--sklearn-color-background);\n",
       "  border-radius: 1rem;\n",
       "  height: 1rem;\n",
       "  width: 1rem;\n",
       "  text-decoration: none;\n",
       "  /* unfitted */\n",
       "  color: var(--sklearn-color-unfitted-level-1);\n",
       "  border: var(--sklearn-color-unfitted-level-1) 1pt solid;\n",
       "}\n",
       "\n",
       "#sk-container-id-1 a.estimator_doc_link.fitted {\n",
       "  /* fitted */\n",
       "  border: var(--sklearn-color-fitted-level-1) 1pt solid;\n",
       "  color: var(--sklearn-color-fitted-level-1);\n",
       "}\n",
       "\n",
       "/* On hover */\n",
       "#sk-container-id-1 a.estimator_doc_link:hover {\n",
       "  /* unfitted */\n",
       "  background-color: var(--sklearn-color-unfitted-level-3);\n",
       "  color: var(--sklearn-color-background);\n",
       "  text-decoration: none;\n",
       "}\n",
       "\n",
       "#sk-container-id-1 a.estimator_doc_link.fitted:hover {\n",
       "  /* fitted */\n",
       "  background-color: var(--sklearn-color-fitted-level-3);\n",
       "}\n",
       "</style><div id=\"sk-container-id-1\" class=\"sk-top-container\"><div class=\"sk-text-repr-fallback\"><pre>Pipeline(steps=[(&#x27;col_transformer&#x27;,\n",
       "                 ColumnTransformer(remainder=&#x27;passthrough&#x27;, sparse_threshold=0,\n",
       "                                   transformers=[(&#x27;scaler&#x27;, StandardScaler(),\n",
       "                                                  [&#x27;days_till_flight&#x27;,\n",
       "                                                   &#x27;dur_min&#x27;,\n",
       "                                                   &#x27;days_since_start&#x27;,\n",
       "                                                   &#x27;flt_departure_month&#x27;,\n",
       "                                                   &#x27;flt_departure_day&#x27;,\n",
       "                                                   &#x27;flt_departure_week&#x27;,\n",
       "                                                   &#x27;flt_departure_weekday&#x27;]),\n",
       "                                                 (&#x27;ohe&#x27;,\n",
       "                                                  OneHotEncoder(drop=&#x27;first&#x27;,\n",
       "                                                                sparse_output=False),\n",
       "                                                  [&#x27;carrier&#x27;, &#x27;origin_id&#x27;,\n",
       "                                                   &#x27;destination_id&#x27;])])),\n",
       "                (&#x27;ridge&#x27;, Ridge(alpha=1000.0))])</pre><b>In a Jupyter environment, please rerun this cell to show the HTML representation or trust the notebook. <br />On GitHub, the HTML representation is unable to render, please try loading this page with nbviewer.org.</b></div><div class=\"sk-container\" hidden><div class=\"sk-item sk-dashed-wrapped\"><div class=\"sk-label-container\"><div class=\"sk-label fitted sk-toggleable\"><input class=\"sk-toggleable__control sk-hidden--visually\" id=\"sk-estimator-id-1\" type=\"checkbox\" ><label for=\"sk-estimator-id-1\" class=\"sk-toggleable__label fitted sk-toggleable__label-arrow fitted\">&nbsp;&nbsp;Pipeline<a class=\"sk-estimator-doc-link fitted\" rel=\"noreferrer\" target=\"_blank\" href=\"https://scikit-learn.org/1.4/modules/generated/sklearn.pipeline.Pipeline.html\">?<span>Documentation for Pipeline</span></a><span class=\"sk-estimator-doc-link fitted\">i<span>Fitted</span></span></label><div class=\"sk-toggleable__content fitted\"><pre>Pipeline(steps=[(&#x27;col_transformer&#x27;,\n",
       "                 ColumnTransformer(remainder=&#x27;passthrough&#x27;, sparse_threshold=0,\n",
       "                                   transformers=[(&#x27;scaler&#x27;, StandardScaler(),\n",
       "                                                  [&#x27;days_till_flight&#x27;,\n",
       "                                                   &#x27;dur_min&#x27;,\n",
       "                                                   &#x27;days_since_start&#x27;,\n",
       "                                                   &#x27;flt_departure_month&#x27;,\n",
       "                                                   &#x27;flt_departure_day&#x27;,\n",
       "                                                   &#x27;flt_departure_week&#x27;,\n",
       "                                                   &#x27;flt_departure_weekday&#x27;]),\n",
       "                                                 (&#x27;ohe&#x27;,\n",
       "                                                  OneHotEncoder(drop=&#x27;first&#x27;,\n",
       "                                                                sparse_output=False),\n",
       "                                                  [&#x27;carrier&#x27;, &#x27;origin_id&#x27;,\n",
       "                                                   &#x27;destination_id&#x27;])])),\n",
       "                (&#x27;ridge&#x27;, Ridge(alpha=1000.0))])</pre></div> </div></div><div class=\"sk-serial\"><div class=\"sk-item sk-dashed-wrapped\"><div class=\"sk-label-container\"><div class=\"sk-label fitted sk-toggleable\"><input class=\"sk-toggleable__control sk-hidden--visually\" id=\"sk-estimator-id-2\" type=\"checkbox\" ><label for=\"sk-estimator-id-2\" class=\"sk-toggleable__label fitted sk-toggleable__label-arrow fitted\">&nbsp;col_transformer: ColumnTransformer<a class=\"sk-estimator-doc-link fitted\" rel=\"noreferrer\" target=\"_blank\" href=\"https://scikit-learn.org/1.4/modules/generated/sklearn.compose.ColumnTransformer.html\">?<span>Documentation for col_transformer: ColumnTransformer</span></a></label><div class=\"sk-toggleable__content fitted\"><pre>ColumnTransformer(remainder=&#x27;passthrough&#x27;, sparse_threshold=0,\n",
       "                  transformers=[(&#x27;scaler&#x27;, StandardScaler(),\n",
       "                                 [&#x27;days_till_flight&#x27;, &#x27;dur_min&#x27;,\n",
       "                                  &#x27;days_since_start&#x27;, &#x27;flt_departure_month&#x27;,\n",
       "                                  &#x27;flt_departure_day&#x27;, &#x27;flt_departure_week&#x27;,\n",
       "                                  &#x27;flt_departure_weekday&#x27;]),\n",
       "                                (&#x27;ohe&#x27;,\n",
       "                                 OneHotEncoder(drop=&#x27;first&#x27;,\n",
       "                                               sparse_output=False),\n",
       "                                 [&#x27;carrier&#x27;, &#x27;origin_id&#x27;, &#x27;destination_id&#x27;])])</pre></div> </div></div><div class=\"sk-parallel\"><div class=\"sk-parallel-item\"><div class=\"sk-item\"><div class=\"sk-label-container\"><div class=\"sk-label fitted sk-toggleable\"><input class=\"sk-toggleable__control sk-hidden--visually\" id=\"sk-estimator-id-3\" type=\"checkbox\" ><label for=\"sk-estimator-id-3\" class=\"sk-toggleable__label fitted sk-toggleable__label-arrow fitted\">scaler</label><div class=\"sk-toggleable__content fitted\"><pre>[&#x27;days_till_flight&#x27;, &#x27;dur_min&#x27;, &#x27;days_since_start&#x27;, &#x27;flt_departure_month&#x27;, &#x27;flt_departure_day&#x27;, &#x27;flt_departure_week&#x27;, &#x27;flt_departure_weekday&#x27;]</pre></div> </div></div><div class=\"sk-serial\"><div class=\"sk-item\"><div class=\"sk-estimator fitted sk-toggleable\"><input class=\"sk-toggleable__control sk-hidden--visually\" id=\"sk-estimator-id-4\" type=\"checkbox\" ><label for=\"sk-estimator-id-4\" class=\"sk-toggleable__label fitted sk-toggleable__label-arrow fitted\">&nbsp;StandardScaler<a class=\"sk-estimator-doc-link fitted\" rel=\"noreferrer\" target=\"_blank\" href=\"https://scikit-learn.org/1.4/modules/generated/sklearn.preprocessing.StandardScaler.html\">?<span>Documentation for StandardScaler</span></a></label><div class=\"sk-toggleable__content fitted\"><pre>StandardScaler()</pre></div> </div></div></div></div></div><div class=\"sk-parallel-item\"><div class=\"sk-item\"><div class=\"sk-label-container\"><div class=\"sk-label fitted sk-toggleable\"><input class=\"sk-toggleable__control sk-hidden--visually\" id=\"sk-estimator-id-5\" type=\"checkbox\" ><label for=\"sk-estimator-id-5\" class=\"sk-toggleable__label fitted sk-toggleable__label-arrow fitted\">ohe</label><div class=\"sk-toggleable__content fitted\"><pre>[&#x27;carrier&#x27;, &#x27;origin_id&#x27;, &#x27;destination_id&#x27;]</pre></div> </div></div><div class=\"sk-serial\"><div class=\"sk-item\"><div class=\"sk-estimator fitted sk-toggleable\"><input class=\"sk-toggleable__control sk-hidden--visually\" id=\"sk-estimator-id-6\" type=\"checkbox\" ><label for=\"sk-estimator-id-6\" class=\"sk-toggleable__label fitted sk-toggleable__label-arrow fitted\">&nbsp;OneHotEncoder<a class=\"sk-estimator-doc-link fitted\" rel=\"noreferrer\" target=\"_blank\" href=\"https://scikit-learn.org/1.4/modules/generated/sklearn.preprocessing.OneHotEncoder.html\">?<span>Documentation for OneHotEncoder</span></a></label><div class=\"sk-toggleable__content fitted\"><pre>OneHotEncoder(drop=&#x27;first&#x27;, sparse_output=False)</pre></div> </div></div></div></div></div><div class=\"sk-parallel-item\"><div class=\"sk-item\"><div class=\"sk-label-container\"><div class=\"sk-label fitted sk-toggleable\"><input class=\"sk-toggleable__control sk-hidden--visually\" id=\"sk-estimator-id-7\" type=\"checkbox\" ><label for=\"sk-estimator-id-7\" class=\"sk-toggleable__label fitted sk-toggleable__label-arrow fitted\">remainder</label><div class=\"sk-toggleable__content fitted\"><pre>[&#x27;flt_info_null&#x27;, &#x27;is_dst&#x27;]</pre></div> </div></div><div class=\"sk-serial\"><div class=\"sk-item\"><div class=\"sk-estimator fitted sk-toggleable\"><input class=\"sk-toggleable__control sk-hidden--visually\" id=\"sk-estimator-id-8\" type=\"checkbox\" ><label for=\"sk-estimator-id-8\" class=\"sk-toggleable__label fitted sk-toggleable__label-arrow fitted\">passthrough</label><div class=\"sk-toggleable__content fitted\"><pre>passthrough</pre></div> </div></div></div></div></div></div></div><div class=\"sk-item\"><div class=\"sk-estimator fitted sk-toggleable\"><input class=\"sk-toggleable__control sk-hidden--visually\" id=\"sk-estimator-id-9\" type=\"checkbox\" ><label for=\"sk-estimator-id-9\" class=\"sk-toggleable__label fitted sk-toggleable__label-arrow fitted\">&nbsp;Ridge<a class=\"sk-estimator-doc-link fitted\" rel=\"noreferrer\" target=\"_blank\" href=\"https://scikit-learn.org/1.4/modules/generated/sklearn.linear_model.Ridge.html\">?<span>Documentation for Ridge</span></a></label><div class=\"sk-toggleable__content fitted\"><pre>Ridge(alpha=1000.0)</pre></div> </div></div></div></div></div></div>"
      ],
      "text/plain": [
       "Pipeline(steps=[('col_transformer',\n",
       "                 ColumnTransformer(remainder='passthrough', sparse_threshold=0,\n",
       "                                   transformers=[('scaler', StandardScaler(),\n",
       "                                                  ['days_till_flight',\n",
       "                                                   'dur_min',\n",
       "                                                   'days_since_start',\n",
       "                                                   'flt_departure_month',\n",
       "                                                   'flt_departure_day',\n",
       "                                                   'flt_departure_week',\n",
       "                                                   'flt_departure_weekday']),\n",
       "                                                 ('ohe',\n",
       "                                                  OneHotEncoder(drop='first',\n",
       "                                                                sparse_output=False),\n",
       "                                                  ['carrier', 'origin_id',\n",
       "                                                   'destination_id'])])),\n",
       "                ('ridge', Ridge(alpha=1000.0))])"
      ]
     },
     "execution_count": 27,
     "metadata": {},
     "output_type": "execute_result"
    }
   ],
   "source": [
    "pred_fare_expr = pl.lit(10).pow(\n",
    "    (pl.col('pred_scaled_fare') * pl.col('base_fare')) + pl.col('base_fare')\n",
    ").alias('pred_fare')\n",
    "\n",
    "def get_model():\n",
    "    col_transform = ColumnTransformer(\n",
    "        [\n",
    "            (\n",
    "                'scaler', \n",
    "                StandardScaler(),\n",
    "                [\n",
    "                    'days_till_flight', 'dur_min', 'days_since_start', \n",
    "                    'flt_departure_month', 'flt_departure_day',\n",
    "                    'flt_departure_week', 'flt_departure_weekday'\n",
    "                ]\n",
    "            ),\n",
    "            (\n",
    "                'ohe', \n",
    "                OneHotEncoder(drop = 'first', sparse_output = False),\n",
    "                ['carrier', 'origin_id', 'destination_id']\n",
    "            )\n",
    "        ],\n",
    "        remainder = 'passthrough',\n",
    "        sparse_threshold = 0\n",
    "    )\n",
    "\n",
    "    return Pipeline(\n",
    "        [\n",
    "            ('col_transformer', col_transform),\n",
    "            ('ridge', Ridge())\n",
    "        ]\n",
    "    )\n",
    "\n",
    "def train_model(param_grid, n_iter = 5):\n",
    "    param_sampler = ParameterSampler(\n",
    "        param_grid,\n",
    "        n_iter = n_iter,\n",
    "        random_state = 7\n",
    "    )\n",
    "\n",
    "    best_rmse = float('inf')\n",
    "    best_model = None\n",
    "    best_params = None\n",
    "\n",
    "    for i, params in enumerate(list(param_sampler)):\n",
    "        model = get_model()\n",
    "        model.set_params(**params)\n",
    "        model.fit(X_train, y_train)\n",
    "\n",
    "        val_preds = val_df.with_columns(\n",
    "            pred_scaled_fare = model.predict(X_val)\n",
    "        ).with_columns(pred_fare_expr)['pred_fare']\n",
    "\n",
    "        rmse = root_mean_squared_error(val_df['total_fare'], val_preds)\n",
    "        print(f\"{i} : {rmse:.3f}\")\n",
    "        \n",
    "        if rmse < best_rmse:\n",
    "            best_rmse = rmse\n",
    "            best_model = model\n",
    "            best_params = params\n",
    "\n",
    "    print(f\"Best params:\\n{best_params}\")\n",
    "    return best_model\n",
    "\n",
    "param_grid = {\n",
    "    \"ridge__alpha\": [1_000.0, 100.0, 10.0, 1.0, 0.1, 0.01, 0.001]\n",
    "}\n",
    "\n",
    "best_model = train_model(param_grid)\n",
    "best_model"
   ]
  },
  {
   "cell_type": "markdown",
   "metadata": {},
   "source": [
    "### Predictions"
   ]
  },
  {
   "cell_type": "code",
   "execution_count": 28,
   "metadata": {},
   "outputs": [
    {
     "data": {
      "text/html": [
       "<div><style>\n",
       ".dataframe > thead > tr,\n",
       ".dataframe > tbody > tr {\n",
       "  text-align: right;\n",
       "  white-space: pre-wrap;\n",
       "}\n",
       "</style>\n",
       "<small>shape: (1_556_671, 32)</small><table border=\"1\" class=\"dataframe\"><thead><tr><th>carrier</th><th>flt_num</th><th>flt_departure_dt</th><th>observation_date</th><th>total_fare</th><th>days_till_flight</th><th>is_dst</th><th>route_id</th><th>flt_departure_local_time</th><th>flt_arrival_local_time</th><th>dur_min</th><th>tz_min</th><th>over_mn</th><th>dpt_4h_od</th><th>flt_count_dpt_24h</th><th>flt_count_dpt_4h</th><th>scaled_demand</th><th>scaled_share</th><th>origin_id</th><th>destination_id</th><th>flt_info_null</th><th>base_fare</th><th>log_fare</th><th>scaled_fare</th><th>days_since_start</th><th>flt_departure_month</th><th>flt_departure_day</th><th>flt_departure_week</th><th>flt_departure_weekday</th><th>dur_mean</th><th>pred_scaled_fare</th><th>pred_fare</th></tr><tr><td>str</td><td>i64</td><td>date</td><td>date</td><td>i64</td><td>i16</td><td>i8</td><td>u8</td><td>datetime[ns]</td><td>datetime[ns]</td><td>f64</td><td>i16</td><td>i8</td><td>i8</td><td>u8</td><td>u8</td><td>i64</td><td>i64</td><td>u8</td><td>u8</td><td>u8</td><td>f64</td><td>f64</td><td>f64</td><td>i64</td><td>i8</td><td>i8</td><td>i8</td><td>i8</td><td>f64</td><td>f64</td><td>f64</td></tr></thead><tbody><tr><td>&quot;U1&quot;</td><td>6143</td><td>2018-01-01</td><td>2017-11-27</td><td>469</td><td>35</td><td>0</td><td>11</td><td>null</td><td>null</td><td>94.43</td><td>null</td><td>null</td><td>null</td><td>null</td><td>null</td><td>null</td><td>null</td><td>7</td><td>3</td><td>1</td><td>2.755964</td><td>2.671173</td><td>-0.0308</td><td>0</td><td>1</td><td>1</td><td>1</td><td>1</td><td>94.43</td><td>-0.059905</td><td>389.824522</td></tr><tr><td>&quot;L1&quot;</td><td>5927</td><td>2018-01-01</td><td>2017-11-27</td><td>1119</td><td>35</td><td>0</td><td>1</td><td>2018-01-01 20:33:00</td><td>2018-01-01 23:50:00</td><td>197.0</td><td>-300</td><td>0</td><td>5</td><td>5</td><td>1</td><td>1468</td><td>360</td><td>1</td><td>5</td><td>0</td><td>2.991069</td><td>3.04883</td><td>0.0193</td><td>0</td><td>1</td><td>1</td><td>1</td><td>1</td><td>187.99</td><td>-0.058104</td><td>656.562079</td></tr><tr><td>&quot;L3&quot;</td><td>18075</td><td>2018-01-01</td><td>2017-11-27</td><td>422</td><td>35</td><td>0</td><td>6</td><td>2018-01-01 13:20:00</td><td>2018-01-01 14:35:00</td><td>75.0</td><td>-480</td><td>0</td><td>3</td><td>30</td><td>9</td><td>6659</td><td>228</td><td>4</td><td>3</td><td>0</td><td>2.733692</td><td>2.625312</td><td>-0.0396</td><td>0</td><td>1</td><td>1</td><td>1</td><td>1</td><td>78.38</td><td>-0.059891</td><td>371.508153</td></tr><tr><td>&quot;OTH&quot;</td><td>2416</td><td>2018-01-01</td><td>2017-11-27</td><td>787</td><td>35</td><td>0</td><td>4</td><td>2018-01-01 20:22:00</td><td>2018-01-01 21:46:00</td><td>84.0</td><td>-480</td><td>0</td><td>5</td><td>30</td><td>4</td><td>6659</td><td>316</td><td>3</td><td>4</td><td>0</td><td>2.589739</td><td>2.895975</td><td>0.1182</td><td>0</td><td>1</td><td>1</td><td>1</td><td>1</td><td>81.52</td><td>-0.056915</td><td>276.91409</td></tr><tr><td>&quot;L3&quot;</td><td>18270</td><td>2018-01-01</td><td>2017-11-27</td><td>1298</td><td>35</td><td>0</td><td>4</td><td>2018-01-01 11:17:00</td><td>2018-01-01 12:40:00</td><td>83.0</td><td>-480</td><td>0</td><td>2</td><td>30</td><td>5</td><td>6659</td><td>231</td><td>3</td><td>4</td><td>0</td><td>2.763495</td><td>3.113275</td><td>0.1266</td><td>0</td><td>1</td><td>1</td><td>1</td><td>1</td><td>79.11</td><td>-0.059553</td><td>397.117433</td></tr><tr><td>&quot;L1&quot;</td><td>1396</td><td>2018-01-01</td><td>2017-11-27</td><td>372</td><td>35</td><td>0</td><td>11</td><td>2018-01-01 19:35:00</td><td>2018-01-01 21:08:00</td><td>93.0</td><td>-480</td><td>0</td><td>4</td><td>21</td><td>7</td><td>6579</td><td>262</td><td>7</td><td>3</td><td>0</td><td>2.766269</td><td>2.570543</td><td>-0.0708</td><td>0</td><td>1</td><td>1</td><td>1</td><td>1</td><td>95.27</td><td>-0.0599</td><td>398.629356</td></tr><tr><td>&quot;U1&quot;</td><td>4771</td><td>2018-01-01</td><td>2017-11-27</td><td>513</td><td>35</td><td>0</td><td>4</td><td>null</td><td>null</td><td>80.14</td><td>null</td><td>null</td><td>null</td><td>null</td><td>null</td><td>null</td><td>null</td><td>3</td><td>4</td><td>1</td><td>2.638819</td><td>2.710117</td><td>0.027</td><td>0</td><td>1</td><td>1</td><td>1</td><td>1</td><td>80.14</td><td>-0.060464</td><td>301.484326</td></tr><tr><td>&quot;OTH&quot;</td><td>4825</td><td>2018-01-01</td><td>2017-11-27</td><td>432</td><td>35</td><td>0</td><td>6</td><td>2018-01-01 12:55:00</td><td>2018-01-01 14:07:00</td><td>72.0</td><td>-480</td><td>0</td><td>3</td><td>30</td><td>9</td><td>6659</td><td>316</td><td>4</td><td>3</td><td>0</td><td>2.578117</td><td>2.635484</td><td>0.0223</td><td>0</td><td>1</td><td>1</td><td>1</td><td>1</td><td>71.32</td><td>-0.058225</td><td>267.919923</td></tr><tr><td>&quot;OTH&quot;</td><td>6175</td><td>2018-01-01</td><td>2017-11-27</td><td>341</td><td>35</td><td>0</td><td>11</td><td>2018-01-01 18:55:00</td><td>2018-01-01 20:23:00</td><td>88.0</td><td>-480</td><td>0</td><td>4</td><td>21</td><td>7</td><td>6579</td><td>354</td><td>7</td><td>3</td><td>0</td><td>2.72979</td><td>2.532754</td><td>-0.0722</td><td>0</td><td>1</td><td>1</td><td>1</td><td>1</td><td>90.69</td><td>-0.058859</td><td>370.780635</td></tr><tr><td>&quot;U1&quot;</td><td>6187</td><td>2018-01-01</td><td>2017-11-27</td><td>341</td><td>35</td><td>0</td><td>11</td><td>null</td><td>null</td><td>94.43</td><td>null</td><td>null</td><td>null</td><td>null</td><td>null</td><td>null</td><td>null</td><td>7</td><td>3</td><td>1</td><td>2.755964</td><td>2.532754</td><td>-0.081</td><td>0</td><td>1</td><td>1</td><td>1</td><td>1</td><td>94.43</td><td>-0.059905</td><td>389.824522</td></tr><tr><td>&hellip;</td><td>&hellip;</td><td>&hellip;</td><td>&hellip;</td><td>&hellip;</td><td>&hellip;</td><td>&hellip;</td><td>&hellip;</td><td>&hellip;</td><td>&hellip;</td><td>&hellip;</td><td>&hellip;</td><td>&hellip;</td><td>&hellip;</td><td>&hellip;</td><td>&hellip;</td><td>&hellip;</td><td>&hellip;</td><td>&hellip;</td><td>&hellip;</td><td>&hellip;</td><td>&hellip;</td><td>&hellip;</td><td>&hellip;</td><td>&hellip;</td><td>&hellip;</td><td>&hellip;</td><td>&hellip;</td><td>&hellip;</td><td>&hellip;</td><td>&hellip;</td><td>&hellip;</td></tr><tr><td>&quot;OTH&quot;</td><td>2972</td><td>2018-11-30</td><td>2018-11-30</td><td>696</td><td>0</td><td>0</td><td>6</td><td>2018-11-30 11:30:00</td><td>2018-11-30 12:43:00</td><td>73.0</td><td>-480</td><td>0</td><td>2</td><td>35</td><td>9</td><td>8086</td><td>264</td><td>4</td><td>3</td><td>0</td><td>2.578117</td><td>2.842609</td><td>0.1026</td><td>333</td><td>11</td><td>30</td><td>48</td><td>5</td><td>71.32</td><td>0.044308</td><td>492.433215</td></tr><tr><td>&quot;L1&quot;</td><td>3437</td><td>2018-11-30</td><td>2018-11-30</td><td>2037</td><td>0</td><td>0</td><td>2</td><td>2018-11-30 18:18:00</td><td>2018-11-30 19:38:00</td><td>80.0</td><td>-360</td><td>0</td><td>4</td><td>8</td><td>3</td><td>2838</td><td>403</td><td>2</td><td>3</td><td>0</td><td>2.931838</td><td>3.308991</td><td>0.1286</td><td>333</td><td>11</td><td>30</td><td>48</td><td>5</td><td>77.39</td><td>0.037237</td><td>1099.037015</td></tr><tr><td>&quot;L1&quot;</td><td>1992</td><td>2018-11-30</td><td>2018-11-30</td><td>1167</td><td>0</td><td>0</td><td>4</td><td>2018-11-30 18:53:00</td><td>2018-11-30 20:05:00</td><td>72.0</td><td>-480</td><td>0</td><td>4</td><td>35</td><td>10</td><td>8086</td><td>199</td><td>3</td><td>4</td><td>0</td><td>2.671029</td><td>3.067071</td><td>0.1483</td><td>333</td><td>11</td><td>30</td><td>48</td><td>5</td><td>83.71</td><td>0.040197</td><td>600.339408</td></tr><tr><td>&quot;OTH&quot;</td><td>1075</td><td>2018-11-30</td><td>2018-11-30</td><td>1073</td><td>0</td><td>0</td><td>3</td><td>2018-11-30 18:45:00</td><td>2018-11-30 23:42:00</td><td>297.0</td><td>-480</td><td>0</td><td>4</td><td>8</td><td>1</td><td>2838</td><td>214</td><td>3</td><td>2</td><td>0</td><td>2.763481</td><td>3.0306</td><td>0.0967</td><td>333</td><td>11</td><td>30</td><td>48</td><td>5</td><td>297.0</td><td>0.041332</td><td>754.572127</td></tr><tr><td>&quot;L1&quot;</td><td>7136</td><td>2018-11-30</td><td>2018-11-30</td><td>1067</td><td>0</td><td>0</td><td>7</td><td>2018-11-30 19:49:00</td><td>2018-11-30 21:05:00</td><td>76.0</td><td>-360</td><td>0</td><td>4</td><td>10</td><td>4</td><td>3099</td><td>276</td><td>5</td><td>0</td><td>0</td><td>2.862502</td><td>3.028164</td><td>0.0579</td><td>333</td><td>11</td><td>30</td><td>48</td><td>5</td><td>74.65</td><td>0.035053</td><td>917.994655</td></tr><tr><td>&quot;U1&quot;</td><td>6178</td><td>2018-11-30</td><td>2018-11-30</td><td>1111</td><td>0</td><td>0</td><td>5</td><td>2018-11-30 18:55:00</td><td>2018-11-30 20:35:00</td><td>100.0</td><td>-480</td><td>0</td><td>4</td><td>22</td><td>7</td><td>6396</td><td>250</td><td>3</td><td>7</td><td>0</td><td>2.796569</td><td>3.045714</td><td>0.0891</td><td>333</td><td>11</td><td>30</td><td>48</td><td>5</td><td>97.9</td><td>0.038208</td><td>800.611687</td></tr><tr><td>&quot;L1&quot;</td><td>6294</td><td>2018-11-30</td><td>2018-11-30</td><td>2037</td><td>0</td><td>0</td><td>3</td><td>2018-11-30 14:03:00</td><td>2018-11-30 18:57:00</td><td>294.0</td><td>-480</td><td>0</td><td>3</td><td>8</td><td>4</td><td>2838</td><td>405</td><td>3</td><td>2</td><td>0</td><td>2.972533</td><td>3.308991</td><td>0.1132</td><td>333</td><td>11</td><td>30</td><td>48</td><td>5</td><td>296.7</td><td>0.038344</td><td>1220.426418</td></tr><tr><td>&quot;L3&quot;</td><td>11152</td><td>2018-11-30</td><td>2018-11-30</td><td>1911</td><td>0</td><td>0</td><td>4</td><td>2018-11-30 16:45:00</td><td>2018-11-30 18:05:00</td><td>80.0</td><td>-480</td><td>0</td><td>4</td><td>35</td><td>10</td><td>8086</td><td>228</td><td>3</td><td>4</td><td>0</td><td>2.763495</td><td>3.281261</td><td>0.1874</td><td>333</td><td>11</td><td>30</td><td>48</td><td>5</td><td>79.11</td><td>0.042006</td><td>757.842199</td></tr><tr><td>&quot;L1&quot;</td><td>5701</td><td>2018-11-30</td><td>2018-11-30</td><td>2037</td><td>0</td><td>0</td><td>2</td><td>2018-11-30 21:59:00</td><td>2018-11-30 23:20:00</td><td>81.0</td><td>-360</td><td>0</td><td>5</td><td>8</td><td>1</td><td>2838</td><td>403</td><td>2</td><td>3</td><td>0</td><td>2.931838</td><td>3.308991</td><td>0.1286</td><td>333</td><td>11</td><td>30</td><td>48</td><td>5</td><td>77.39</td><td>0.037481</td><td>1100.843948</td></tr><tr><td>&quot;L3&quot;</td><td>6523</td><td>2018-11-30</td><td>2018-11-30</td><td>1911</td><td>0</td><td>0</td><td>6</td><td>2018-11-30 21:15:00</td><td>2018-11-30 22:25:00</td><td>70.0</td><td>-480</td><td>0</td><td>5</td><td>35</td><td>5</td><td>8086</td><td>226</td><td>4</td><td>3</td><td>0</td><td>2.733692</td><td>3.281261</td><td>0.2003</td><td>333</td><td>11</td><td>30</td><td>48</td><td>5</td><td>78.38</td><td>0.041182</td><td>701.893042</td></tr></tbody></table></div>"
      ],
      "text/plain": [
       "shape: (1_556_671, 32)\n",
       "┌─────────┬─────────┬────────────┬────────────┬───┬────────────┬──────────┬────────────┬───────────┐\n",
       "│ carrier ┆ flt_num ┆ flt_depart ┆ observatio ┆ … ┆ flt_depart ┆ dur_mean ┆ pred_scale ┆ pred_fare │\n",
       "│ ---     ┆ ---     ┆ ure_dt     ┆ n_date     ┆   ┆ ure_weekda ┆ ---      ┆ d_fare     ┆ ---       │\n",
       "│ str     ┆ i64     ┆ ---        ┆ ---        ┆   ┆ y          ┆ f64      ┆ ---        ┆ f64       │\n",
       "│         ┆         ┆ date       ┆ date       ┆   ┆ ---        ┆          ┆ f64        ┆           │\n",
       "│         ┆         ┆            ┆            ┆   ┆ i8         ┆          ┆            ┆           │\n",
       "╞═════════╪═════════╪════════════╪════════════╪═══╪════════════╪══════════╪════════════╪═══════════╡\n",
       "│ U1      ┆ 6143    ┆ 2018-01-01 ┆ 2017-11-27 ┆ … ┆ 1          ┆ 94.43    ┆ -0.059905  ┆ 389.82452 │\n",
       "│         ┆         ┆            ┆            ┆   ┆            ┆          ┆            ┆ 2         │\n",
       "│ L1      ┆ 5927    ┆ 2018-01-01 ┆ 2017-11-27 ┆ … ┆ 1          ┆ 187.99   ┆ -0.058104  ┆ 656.56207 │\n",
       "│         ┆         ┆            ┆            ┆   ┆            ┆          ┆            ┆ 9         │\n",
       "│ L3      ┆ 18075   ┆ 2018-01-01 ┆ 2017-11-27 ┆ … ┆ 1          ┆ 78.38    ┆ -0.059891  ┆ 371.50815 │\n",
       "│         ┆         ┆            ┆            ┆   ┆            ┆          ┆            ┆ 3         │\n",
       "│ OTH     ┆ 2416    ┆ 2018-01-01 ┆ 2017-11-27 ┆ … ┆ 1          ┆ 81.52    ┆ -0.056915  ┆ 276.91409 │\n",
       "│ L3      ┆ 18270   ┆ 2018-01-01 ┆ 2017-11-27 ┆ … ┆ 1          ┆ 79.11    ┆ -0.059553  ┆ 397.11743 │\n",
       "│         ┆         ┆            ┆            ┆   ┆            ┆          ┆            ┆ 3         │\n",
       "│ L1      ┆ 1396    ┆ 2018-01-01 ┆ 2017-11-27 ┆ … ┆ 1          ┆ 95.27    ┆ -0.0599    ┆ 398.62935 │\n",
       "│         ┆         ┆            ┆            ┆   ┆            ┆          ┆            ┆ 6         │\n",
       "│ U1      ┆ 4771    ┆ 2018-01-01 ┆ 2017-11-27 ┆ … ┆ 1          ┆ 80.14    ┆ -0.060464  ┆ 301.48432 │\n",
       "│         ┆         ┆            ┆            ┆   ┆            ┆          ┆            ┆ 6         │\n",
       "│ OTH     ┆ 4825    ┆ 2018-01-01 ┆ 2017-11-27 ┆ … ┆ 1          ┆ 71.32    ┆ -0.058225  ┆ 267.91992 │\n",
       "│         ┆         ┆            ┆            ┆   ┆            ┆          ┆            ┆ 3         │\n",
       "│ OTH     ┆ 6175    ┆ 2018-01-01 ┆ 2017-11-27 ┆ … ┆ 1          ┆ 90.69    ┆ -0.058859  ┆ 370.78063 │\n",
       "│         ┆         ┆            ┆            ┆   ┆            ┆          ┆            ┆ 5         │\n",
       "│ U1      ┆ 6187    ┆ 2018-01-01 ┆ 2017-11-27 ┆ … ┆ 1          ┆ 94.43    ┆ -0.059905  ┆ 389.82452 │\n",
       "│         ┆         ┆            ┆            ┆   ┆            ┆          ┆            ┆ 2         │\n",
       "│ …       ┆ …       ┆ …          ┆ …          ┆ … ┆ …          ┆ …        ┆ …          ┆ …         │\n",
       "│ OTH     ┆ 2972    ┆ 2018-11-30 ┆ 2018-11-30 ┆ … ┆ 5          ┆ 71.32    ┆ 0.044308   ┆ 492.43321 │\n",
       "│         ┆         ┆            ┆            ┆   ┆            ┆          ┆            ┆ 5         │\n",
       "│ L1      ┆ 3437    ┆ 2018-11-30 ┆ 2018-11-30 ┆ … ┆ 5          ┆ 77.39    ┆ 0.037237   ┆ 1099.0370 │\n",
       "│         ┆         ┆            ┆            ┆   ┆            ┆          ┆            ┆ 15        │\n",
       "│ L1      ┆ 1992    ┆ 2018-11-30 ┆ 2018-11-30 ┆ … ┆ 5          ┆ 83.71    ┆ 0.040197   ┆ 600.33940 │\n",
       "│         ┆         ┆            ┆            ┆   ┆            ┆          ┆            ┆ 8         │\n",
       "│ OTH     ┆ 1075    ┆ 2018-11-30 ┆ 2018-11-30 ┆ … ┆ 5          ┆ 297.0    ┆ 0.041332   ┆ 754.57212 │\n",
       "│         ┆         ┆            ┆            ┆   ┆            ┆          ┆            ┆ 7         │\n",
       "│ L1      ┆ 7136    ┆ 2018-11-30 ┆ 2018-11-30 ┆ … ┆ 5          ┆ 74.65    ┆ 0.035053   ┆ 917.99465 │\n",
       "│         ┆         ┆            ┆            ┆   ┆            ┆          ┆            ┆ 5         │\n",
       "│ U1      ┆ 6178    ┆ 2018-11-30 ┆ 2018-11-30 ┆ … ┆ 5          ┆ 97.9     ┆ 0.038208   ┆ 800.61168 │\n",
       "│         ┆         ┆            ┆            ┆   ┆            ┆          ┆            ┆ 7         │\n",
       "│ L1      ┆ 6294    ┆ 2018-11-30 ┆ 2018-11-30 ┆ … ┆ 5          ┆ 296.7    ┆ 0.038344   ┆ 1220.4264 │\n",
       "│         ┆         ┆            ┆            ┆   ┆            ┆          ┆            ┆ 18        │\n",
       "│ L3      ┆ 11152   ┆ 2018-11-30 ┆ 2018-11-30 ┆ … ┆ 5          ┆ 79.11    ┆ 0.042006   ┆ 757.84219 │\n",
       "│         ┆         ┆            ┆            ┆   ┆            ┆          ┆            ┆ 9         │\n",
       "│ L1      ┆ 5701    ┆ 2018-11-30 ┆ 2018-11-30 ┆ … ┆ 5          ┆ 77.39    ┆ 0.037481   ┆ 1100.8439 │\n",
       "│         ┆         ┆            ┆            ┆   ┆            ┆          ┆            ┆ 48        │\n",
       "│ L3      ┆ 6523    ┆ 2018-11-30 ┆ 2018-11-30 ┆ … ┆ 5          ┆ 78.38    ┆ 0.041182   ┆ 701.89304 │\n",
       "│         ┆         ┆            ┆            ┆   ┆            ┆          ┆            ┆ 2         │\n",
       "└─────────┴─────────┴────────────┴────────────┴───┴────────────┴──────────┴────────────┴───────────┘"
      ]
     },
     "execution_count": 28,
     "metadata": {},
     "output_type": "execute_result"
    }
   ],
   "source": [
    "train_df = train_df.with_columns(\n",
    "    pred_scaled_fare = best_model.predict(X_train)\n",
    ").with_columns(pred_fare_expr)\n",
    "\n",
    "train_df"
   ]
  },
  {
   "cell_type": "code",
   "execution_count": 29,
   "metadata": {},
   "outputs": [
    {
     "data": {
      "text/html": [
       "<div><style>\n",
       ".dataframe > thead > tr,\n",
       ".dataframe > tbody > tr {\n",
       "  text-align: right;\n",
       "  white-space: pre-wrap;\n",
       "}\n",
       "</style>\n",
       "<small>shape: (29_492, 32)</small><table border=\"1\" class=\"dataframe\"><thead><tr><th>carrier</th><th>flt_num</th><th>flt_departure_dt</th><th>observation_date</th><th>total_fare</th><th>days_till_flight</th><th>is_dst</th><th>route_id</th><th>flt_departure_local_time</th><th>flt_arrival_local_time</th><th>dur_min</th><th>tz_min</th><th>over_mn</th><th>dpt_4h_od</th><th>flt_count_dpt_24h</th><th>flt_count_dpt_4h</th><th>scaled_demand</th><th>scaled_share</th><th>origin_id</th><th>destination_id</th><th>flt_info_null</th><th>base_fare</th><th>log_fare</th><th>scaled_fare</th><th>days_since_start</th><th>flt_departure_month</th><th>flt_departure_day</th><th>flt_departure_week</th><th>flt_departure_weekday</th><th>dur_mean</th><th>pred_scaled_fare</th><th>pred_fare</th></tr><tr><td>str</td><td>i64</td><td>date</td><td>date</td><td>i64</td><td>i16</td><td>i8</td><td>u8</td><td>datetime[ns]</td><td>datetime[ns]</td><td>f64</td><td>i16</td><td>i8</td><td>i8</td><td>u8</td><td>u8</td><td>i64</td><td>i64</td><td>u8</td><td>u8</td><td>u8</td><td>f64</td><td>f64</td><td>f64</td><td>i64</td><td>i8</td><td>i8</td><td>i8</td><td>i8</td><td>f64</td><td>f64</td><td>f64</td></tr></thead><tbody><tr><td>&quot;L2&quot;</td><td>7220</td><td>2018-12-01</td><td>2018-10-02</td><td>476</td><td>60</td><td>0</td><td>6</td><td>2018-12-01 10:15:00</td><td>2018-12-01 11:27:00</td><td>72.0</td><td>-480</td><td>0</td><td>2</td><td>32</td><td>9</td><td>7128</td><td>224</td><td>4</td><td>3</td><td>0</td><td>2.660753</td><td>2.677607</td><td>0.0063</td><td>334</td><td>12</td><td>1</td><td>48</td><td>6</td><td>78.3</td><td>-0.060901</td><td>315.290859</td></tr><tr><td>&quot;L2&quot;</td><td>4448</td><td>2018-12-01</td><td>2018-10-02</td><td>476</td><td>60</td><td>0</td><td>6</td><td>2018-12-01 08:40:00</td><td>2018-12-01 10:04:00</td><td>84.0</td><td>-480</td><td>0</td><td>2</td><td>32</td><td>9</td><td>7128</td><td>224</td><td>4</td><td>3</td><td>0</td><td>2.660753</td><td>2.677607</td><td>0.0063</td><td>334</td><td>12</td><td>1</td><td>48</td><td>6</td><td>78.3</td><td>-0.057981</td><td>320.982281</td></tr><tr><td>&quot;L2&quot;</td><td>7402</td><td>2018-12-01</td><td>2018-10-02</td><td>476</td><td>60</td><td>0</td><td>6</td><td>2018-12-01 14:10:00</td><td>2018-12-01 15:22:00</td><td>72.0</td><td>-480</td><td>0</td><td>3</td><td>32</td><td>9</td><td>7128</td><td>224</td><td>4</td><td>3</td><td>0</td><td>2.660753</td><td>2.677607</td><td>0.0063</td><td>334</td><td>12</td><td>1</td><td>48</td><td>6</td><td>78.3</td><td>-0.060901</td><td>315.290859</td></tr><tr><td>&quot;L2&quot;</td><td>2200</td><td>2018-12-01</td><td>2018-10-02</td><td>285</td><td>60</td><td>0</td><td>6</td><td>2018-12-01 19:50:00</td><td>2018-12-01 21:02:00</td><td>72.0</td><td>-480</td><td>0</td><td>4</td><td>32</td><td>10</td><td>7128</td><td>224</td><td>4</td><td>3</td><td>0</td><td>2.660753</td><td>2.454845</td><td>-0.0774</td><td>334</td><td>12</td><td>1</td><td>48</td><td>6</td><td>78.3</td><td>-0.060901</td><td>315.290859</td></tr><tr><td>&quot;L2&quot;</td><td>8903</td><td>2018-12-01</td><td>2018-10-02</td><td>285</td><td>60</td><td>0</td><td>6</td><td>2018-12-01 22:45:00</td><td>2018-12-02 00:02:00</td><td>77.0</td><td>-480</td><td>1</td><td>5</td><td>32</td><td>1</td><td>7128</td><td>224</td><td>4</td><td>3</td><td>0</td><td>2.660753</td><td>2.454845</td><td>-0.0774</td><td>334</td><td>12</td><td>1</td><td>48</td><td>6</td><td>78.3</td><td>-0.059684</td><td>317.649917</td></tr><tr><td>&quot;L2&quot;</td><td>5041</td><td>2018-12-01</td><td>2018-10-02</td><td>476</td><td>60</td><td>0</td><td>6</td><td>2018-12-01 12:40:00</td><td>2018-12-01 13:52:00</td><td>72.0</td><td>-480</td><td>0</td><td>3</td><td>32</td><td>9</td><td>7128</td><td>224</td><td>4</td><td>3</td><td>0</td><td>2.660753</td><td>2.677607</td><td>0.0063</td><td>334</td><td>12</td><td>1</td><td>48</td><td>6</td><td>78.3</td><td>-0.060901</td><td>315.290859</td></tr><tr><td>&quot;L2&quot;</td><td>1732</td><td>2018-12-01</td><td>2018-10-02</td><td>395</td><td>60</td><td>0</td><td>6</td><td>2018-12-01 16:50:00</td><td>2018-12-01 18:02:00</td><td>72.0</td><td>-480</td><td>0</td><td>4</td><td>32</td><td>10</td><td>7128</td><td>224</td><td>4</td><td>3</td><td>0</td><td>2.660753</td><td>2.596597</td><td>-0.0241</td><td>334</td><td>12</td><td>1</td><td>48</td><td>6</td><td>78.3</td><td>-0.060901</td><td>315.290859</td></tr><tr><td>&quot;L1&quot;</td><td>5927</td><td>2018-12-01</td><td>2018-10-05</td><td>530</td><td>57</td><td>0</td><td>1</td><td>2018-12-01 20:30:00</td><td>2018-12-01 23:37:00</td><td>187.0</td><td>-300</td><td>0</td><td>5</td><td>4</td><td>1</td><td>2164</td><td>373</td><td>1</td><td>5</td><td>0</td><td>2.991069</td><td>2.724276</td><td>-0.0892</td><td>334</td><td>12</td><td>1</td><td>48</td><td>6</td><td>187.99</td><td>-0.055137</td><td>670.117924</td></tr><tr><td>&quot;L1&quot;</td><td>11158</td><td>2018-12-01</td><td>2018-10-05</td><td>800</td><td>57</td><td>0</td><td>1</td><td>2018-12-01 12:03:00</td><td>2018-12-01 15:20:00</td><td>197.0</td><td>-300</td><td>0</td><td>3</td><td>4</td><td>1</td><td>2164</td><td>373</td><td>1</td><td>5</td><td>0</td><td>2.991069</td><td>2.90309</td><td>-0.0294</td><td>334</td><td>12</td><td>1</td><td>48</td><td>6</td><td>187.99</td><td>-0.052703</td><td>681.443358</td></tr><tr><td>&quot;L1&quot;</td><td>7431</td><td>2018-12-01</td><td>2018-10-05</td><td>737</td><td>57</td><td>0</td><td>1</td><td>2018-12-01 07:29:00</td><td>2018-12-01 10:36:00</td><td>187.0</td><td>-300</td><td>0</td><td>1</td><td>4</td><td>1</td><td>2164</td><td>373</td><td>1</td><td>5</td><td>0</td><td>2.991069</td><td>2.867467</td><td>-0.0413</td><td>334</td><td>12</td><td>1</td><td>48</td><td>6</td><td>187.99</td><td>-0.055137</td><td>670.117924</td></tr><tr><td>&hellip;</td><td>&hellip;</td><td>&hellip;</td><td>&hellip;</td><td>&hellip;</td><td>&hellip;</td><td>&hellip;</td><td>&hellip;</td><td>&hellip;</td><td>&hellip;</td><td>&hellip;</td><td>&hellip;</td><td>&hellip;</td><td>&hellip;</td><td>&hellip;</td><td>&hellip;</td><td>&hellip;</td><td>&hellip;</td><td>&hellip;</td><td>&hellip;</td><td>&hellip;</td><td>&hellip;</td><td>&hellip;</td><td>&hellip;</td><td>&hellip;</td><td>&hellip;</td><td>&hellip;</td><td>&hellip;</td><td>&hellip;</td><td>&hellip;</td><td>&hellip;</td><td>&hellip;</td></tr><tr><td>&quot;U1&quot;</td><td>6250</td><td>2018-12-07</td><td>2018-12-07</td><td>1283</td><td>0</td><td>0</td><td>11</td><td>2018-12-07 19:35:00</td><td>2018-12-07 21:09:00</td><td>94.0</td><td>-480</td><td>0</td><td>4</td><td>22</td><td>6</td><td>5817</td><td>253</td><td>7</td><td>3</td><td>0</td><td>2.755964</td><td>3.108227</td><td>0.1278</td><td>340</td><td>12</td><td>7</td><td>49</td><td>5</td><td>94.43</td><td>0.041492</td><td>741.847322</td></tr><tr><td>&quot;L1&quot;</td><td>6278</td><td>2018-12-07</td><td>2018-12-07</td><td>1067</td><td>0</td><td>0</td><td>0</td><td>2018-12-07 15:30:00</td><td>2018-12-07 18:35:00</td><td>185.0</td><td>-420</td><td>0</td><td>3</td><td>10</td><td>4</td><td>3070</td><td>281</td><td>0</td><td>5</td><td>0</td><td>2.877514</td><td>3.028164</td><td>0.0524</td><td>340</td><td>12</td><td>7</td><td>49</td><td>5</td><td>190.82</td><td>0.036071</td><td>957.873946</td></tr><tr><td>&quot;L3&quot;</td><td>11152</td><td>2018-12-07</td><td>2018-12-07</td><td>671</td><td>0</td><td>0</td><td>4</td><td>2018-12-07 16:45:00</td><td>2018-12-07 18:05:00</td><td>80.0</td><td>-480</td><td>0</td><td>4</td><td>35</td><td>10</td><td>7128</td><td>231</td><td>3</td><td>4</td><td>0</td><td>2.763495</td><td>2.826723</td><td>0.0229</td><td>340</td><td>12</td><td>7</td><td>49</td><td>5</td><td>79.11</td><td>0.042951</td><td>762.414048</td></tr><tr><td>&quot;L1&quot;</td><td>2997</td><td>2018-12-07</td><td>2018-12-07</td><td>1346</td><td>0</td><td>0</td><td>8</td><td>2018-12-07 11:34:00</td><td>2018-12-07 16:10:00</td><td>276.0</td><td>-360</td><td>0</td><td>2</td><td>4</td><td>1</td><td>2164</td><td>373</td><td>5</td><td>1</td><td>0</td><td>3.021101</td><td>3.129045</td><td>0.0357</td><td>340</td><td>12</td><td>7</td><td>49</td><td>5</td><td>278.19</td><td>0.042268</td><td>1408.62763</td></tr><tr><td>&quot;L1&quot;</td><td>1176</td><td>2018-12-07</td><td>2018-12-07</td><td>395</td><td>0</td><td>0</td><td>4</td><td>2018-12-07 06:05:00</td><td>2018-12-07 07:21:00</td><td>76.0</td><td>-480</td><td>0</td><td>1</td><td>35</td><td>6</td><td>7128</td><td>189</td><td>3</td><td>4</td><td>0</td><td>2.671029</td><td>2.596597</td><td>-0.0279</td><td>340</td><td>12</td><td>7</td><td>49</td><td>5</td><td>83.71</td><td>0.042116</td><td>607.465269</td></tr><tr><td>&quot;U1&quot;</td><td>6162</td><td>2018-12-07</td><td>2018-12-07</td><td>1111</td><td>0</td><td>0</td><td>11</td><td>2018-12-07 16:20:00</td><td>2018-12-07 17:54:00</td><td>94.0</td><td>-480</td><td>0</td><td>4</td><td>22</td><td>6</td><td>5817</td><td>253</td><td>7</td><td>3</td><td>0</td><td>2.755964</td><td>3.045714</td><td>0.1051</td><td>340</td><td>12</td><td>7</td><td>49</td><td>5</td><td>94.43</td><td>0.041492</td><td>741.847322</td></tr><tr><td>&quot;U1&quot;</td><td>6128</td><td>2018-12-07</td><td>2018-12-07</td><td>1111</td><td>0</td><td>0</td><td>5</td><td>2018-12-07 09:35:00</td><td>2018-12-07 11:12:00</td><td>97.0</td><td>-480</td><td>0</td><td>2</td><td>22</td><td>6</td><td>5817</td><td>252</td><td>3</td><td>7</td><td>0</td><td>2.796569</td><td>3.045714</td><td>0.0891</td><td>340</td><td>12</td><td>7</td><td>49</td><td>5</td><td>97.9</td><td>0.038424</td><td>801.721859</td></tr><tr><td>&quot;L1&quot;</td><td>5701</td><td>2018-12-07</td><td>2018-12-07</td><td>2037</td><td>0</td><td>0</td><td>2</td><td>2018-12-07 21:59:00</td><td>2018-12-07 23:20:00</td><td>81.0</td><td>-360</td><td>0</td><td>5</td><td>8</td><td>1</td><td>2790</td><td>405</td><td>2</td><td>3</td><td>0</td><td>2.931838</td><td>3.308991</td><td>0.1286</td><td>340</td><td>12</td><td>7</td><td>49</td><td>5</td><td>77.39</td><td>0.038426</td><td>1107.890877</td></tr><tr><td>&quot;L2&quot;</td><td>5274</td><td>2018-12-07</td><td>2018-12-07</td><td>1742</td><td>0</td><td>0</td><td>9</td><td>2018-12-07 11:03:00</td><td>2018-12-07 13:44:00</td><td>161.0</td><td>-360</td><td>0</td><td>2</td><td>7</td><td>3</td><td>1618</td><td>310</td><td>5</td><td>6</td><td>0</td><td>2.945677</td><td>3.241048</td><td>0.1003</td><td>340</td><td>12</td><td>7</td><td>49</td><td>5</td><td>164.45</td><td>0.041427</td><td>1168.71131</td></tr><tr><td>&quot;L1&quot;</td><td>6517</td><td>2018-12-07</td><td>2018-12-07</td><td>1346</td><td>0</td><td>0</td><td>8</td><td>2018-12-07 16:15:00</td><td>2018-12-07 20:52:00</td><td>277.0</td><td>-360</td><td>0</td><td>4</td><td>4</td><td>1</td><td>2164</td><td>373</td><td>5</td><td>1</td><td>0</td><td>3.021101</td><td>3.129045</td><td>0.0357</td><td>340</td><td>12</td><td>7</td><td>49</td><td>5</td><td>278.19</td><td>0.042511</td><td>1411.014133</td></tr></tbody></table></div>"
      ],
      "text/plain": [
       "shape: (29_492, 32)\n",
       "┌─────────┬─────────┬────────────┬────────────┬───┬────────────┬──────────┬────────────┬───────────┐\n",
       "│ carrier ┆ flt_num ┆ flt_depart ┆ observatio ┆ … ┆ flt_depart ┆ dur_mean ┆ pred_scale ┆ pred_fare │\n",
       "│ ---     ┆ ---     ┆ ure_dt     ┆ n_date     ┆   ┆ ure_weekda ┆ ---      ┆ d_fare     ┆ ---       │\n",
       "│ str     ┆ i64     ┆ ---        ┆ ---        ┆   ┆ y          ┆ f64      ┆ ---        ┆ f64       │\n",
       "│         ┆         ┆ date       ┆ date       ┆   ┆ ---        ┆          ┆ f64        ┆           │\n",
       "│         ┆         ┆            ┆            ┆   ┆ i8         ┆          ┆            ┆           │\n",
       "╞═════════╪═════════╪════════════╪════════════╪═══╪════════════╪══════════╪════════════╪═══════════╡\n",
       "│ L2      ┆ 7220    ┆ 2018-12-01 ┆ 2018-10-02 ┆ … ┆ 6          ┆ 78.3     ┆ -0.060901  ┆ 315.29085 │\n",
       "│         ┆         ┆            ┆            ┆   ┆            ┆          ┆            ┆ 9         │\n",
       "│ L2      ┆ 4448    ┆ 2018-12-01 ┆ 2018-10-02 ┆ … ┆ 6          ┆ 78.3     ┆ -0.057981  ┆ 320.98228 │\n",
       "│         ┆         ┆            ┆            ┆   ┆            ┆          ┆            ┆ 1         │\n",
       "│ L2      ┆ 7402    ┆ 2018-12-01 ┆ 2018-10-02 ┆ … ┆ 6          ┆ 78.3     ┆ -0.060901  ┆ 315.29085 │\n",
       "│         ┆         ┆            ┆            ┆   ┆            ┆          ┆            ┆ 9         │\n",
       "│ L2      ┆ 2200    ┆ 2018-12-01 ┆ 2018-10-02 ┆ … ┆ 6          ┆ 78.3     ┆ -0.060901  ┆ 315.29085 │\n",
       "│         ┆         ┆            ┆            ┆   ┆            ┆          ┆            ┆ 9         │\n",
       "│ L2      ┆ 8903    ┆ 2018-12-01 ┆ 2018-10-02 ┆ … ┆ 6          ┆ 78.3     ┆ -0.059684  ┆ 317.64991 │\n",
       "│         ┆         ┆            ┆            ┆   ┆            ┆          ┆            ┆ 7         │\n",
       "│ L2      ┆ 5041    ┆ 2018-12-01 ┆ 2018-10-02 ┆ … ┆ 6          ┆ 78.3     ┆ -0.060901  ┆ 315.29085 │\n",
       "│         ┆         ┆            ┆            ┆   ┆            ┆          ┆            ┆ 9         │\n",
       "│ L2      ┆ 1732    ┆ 2018-12-01 ┆ 2018-10-02 ┆ … ┆ 6          ┆ 78.3     ┆ -0.060901  ┆ 315.29085 │\n",
       "│         ┆         ┆            ┆            ┆   ┆            ┆          ┆            ┆ 9         │\n",
       "│ L1      ┆ 5927    ┆ 2018-12-01 ┆ 2018-10-05 ┆ … ┆ 6          ┆ 187.99   ┆ -0.055137  ┆ 670.11792 │\n",
       "│         ┆         ┆            ┆            ┆   ┆            ┆          ┆            ┆ 4         │\n",
       "│ L1      ┆ 11158   ┆ 2018-12-01 ┆ 2018-10-05 ┆ … ┆ 6          ┆ 187.99   ┆ -0.052703  ┆ 681.44335 │\n",
       "│         ┆         ┆            ┆            ┆   ┆            ┆          ┆            ┆ 8         │\n",
       "│ L1      ┆ 7431    ┆ 2018-12-01 ┆ 2018-10-05 ┆ … ┆ 6          ┆ 187.99   ┆ -0.055137  ┆ 670.11792 │\n",
       "│         ┆         ┆            ┆            ┆   ┆            ┆          ┆            ┆ 4         │\n",
       "│ …       ┆ …       ┆ …          ┆ …          ┆ … ┆ …          ┆ …        ┆ …          ┆ …         │\n",
       "│ U1      ┆ 6250    ┆ 2018-12-07 ┆ 2018-12-07 ┆ … ┆ 5          ┆ 94.43    ┆ 0.041492   ┆ 741.84732 │\n",
       "│         ┆         ┆            ┆            ┆   ┆            ┆          ┆            ┆ 2         │\n",
       "│ L1      ┆ 6278    ┆ 2018-12-07 ┆ 2018-12-07 ┆ … ┆ 5          ┆ 190.82   ┆ 0.036071   ┆ 957.87394 │\n",
       "│         ┆         ┆            ┆            ┆   ┆            ┆          ┆            ┆ 6         │\n",
       "│ L3      ┆ 11152   ┆ 2018-12-07 ┆ 2018-12-07 ┆ … ┆ 5          ┆ 79.11    ┆ 0.042951   ┆ 762.41404 │\n",
       "│         ┆         ┆            ┆            ┆   ┆            ┆          ┆            ┆ 8         │\n",
       "│ L1      ┆ 2997    ┆ 2018-12-07 ┆ 2018-12-07 ┆ … ┆ 5          ┆ 278.19   ┆ 0.042268   ┆ 1408.6276 │\n",
       "│         ┆         ┆            ┆            ┆   ┆            ┆          ┆            ┆ 3         │\n",
       "│ L1      ┆ 1176    ┆ 2018-12-07 ┆ 2018-12-07 ┆ … ┆ 5          ┆ 83.71    ┆ 0.042116   ┆ 607.46526 │\n",
       "│         ┆         ┆            ┆            ┆   ┆            ┆          ┆            ┆ 9         │\n",
       "│ U1      ┆ 6162    ┆ 2018-12-07 ┆ 2018-12-07 ┆ … ┆ 5          ┆ 94.43    ┆ 0.041492   ┆ 741.84732 │\n",
       "│         ┆         ┆            ┆            ┆   ┆            ┆          ┆            ┆ 2         │\n",
       "│ U1      ┆ 6128    ┆ 2018-12-07 ┆ 2018-12-07 ┆ … ┆ 5          ┆ 97.9     ┆ 0.038424   ┆ 801.72185 │\n",
       "│         ┆         ┆            ┆            ┆   ┆            ┆          ┆            ┆ 9         │\n",
       "│ L1      ┆ 5701    ┆ 2018-12-07 ┆ 2018-12-07 ┆ … ┆ 5          ┆ 77.39    ┆ 0.038426   ┆ 1107.8908 │\n",
       "│         ┆         ┆            ┆            ┆   ┆            ┆          ┆            ┆ 77        │\n",
       "│ L2      ┆ 5274    ┆ 2018-12-07 ┆ 2018-12-07 ┆ … ┆ 5          ┆ 164.45   ┆ 0.041427   ┆ 1168.7113 │\n",
       "│         ┆         ┆            ┆            ┆   ┆            ┆          ┆            ┆ 1         │\n",
       "│ L1      ┆ 6517    ┆ 2018-12-07 ┆ 2018-12-07 ┆ … ┆ 5          ┆ 278.19   ┆ 0.042511   ┆ 1411.0141 │\n",
       "│         ┆         ┆            ┆            ┆   ┆            ┆          ┆            ┆ 33        │\n",
       "└─────────┴─────────┴────────────┴────────────┴───┴────────────┴──────────┴────────────┴───────────┘"
      ]
     },
     "execution_count": 29,
     "metadata": {},
     "output_type": "execute_result"
    }
   ],
   "source": [
    "val_df = val_df.with_columns(\n",
    "    pred_scaled_fare = best_model.predict(X_val)\n",
    ").with_columns(pred_fare_expr)\n",
    "\n",
    "val_df"
   ]
  },
  {
   "cell_type": "code",
   "execution_count": 30,
   "metadata": {},
   "outputs": [
    {
     "data": {
      "image/png": "[encoded data removed]",
      "text/plain": [
       "<Figure size 960x600 with 1 Axes>"
      ]
     },
     "metadata": {},
     "output_type": "display_data"
    }
   ],
   "source": [
    "plt.figure(figsize = (8, 5), dpi = 120)\n",
    "sns.lineplot(\n",
    "    data = val_df.group_by('flt_departure_dt').agg(pl.col('total_fare').mean()), \n",
    "    x = \"flt_departure_dt\", \n",
    "    y = \"total_fare\",\n",
    "    label = \"Actual fare\"\n",
    ")\n",
    "\n",
    "sns.lineplot(\n",
    "    data = val_df.group_by('flt_departure_dt').agg(pl.col('pred_fare').mean()), \n",
    "    x = \"flt_departure_dt\", \n",
    "    y = \"pred_fare\",\n",
    "    label = \"Predicted fare\"\n",
    ")\n",
    "\n",
    "locs, labels = plt.xticks()\n",
    "plt.xticks(\n",
    "    locs,\n",
    "    [l.get_text() for l in labels],\n",
    "    rotation = 30,\n",
    "    fontsize = 8\n",
    ")\n",
    "\n",
    "plt.legend()\n",
    "plt.title(\"LR - Val predictions\", fontsize = 16)\n",
    "plt.xlabel(\"Flight departure date\", fontsize = 14)\n",
    "plt.ylabel(\"Total fare\", fontsize = 14)\n",
    "plt.show()"
   ]
  },
  {
   "cell_type": "code",
   "execution_count": 31,
   "metadata": {},
   "outputs": [
    {
     "data": {
      "image/png": "[encoded data removed]",
      "text/plain": [
       "<Figure size 960x600 with 1 Axes>"
      ]
     },
     "metadata": {},
     "output_type": "display_data"
    }
   ],
   "source": [
    "plt.figure(figsize = (8, 5), dpi = 120)\n",
    "sns.kdeplot(\n",
    "    val_df['total_fare'] - val_df['pred_fare']\n",
    ")\n",
    "plt.title(\"LR - Density of val residuals\", fontsize = 16)\n",
    "plt.xlabel(\"Fare error\", fontsize = 14)\n",
    "plt.ylabel(\"Density\", fontsize = 14)\n",
    "plt.show()"
   ]
  },
  {
   "cell_type": "markdown",
   "metadata": {},
   "source": [
    "### Metrics"
   ]
  },
  {
   "cell_type": "code",
   "execution_count": 32,
   "metadata": {},
   "outputs": [
    {
     "name": "stdout",
     "output_type": "stream",
     "text": [
      "Train - LR\n",
      "RMSE: 386.3524\n",
      "MAE: 233.3139\n",
      "R2: 31.279%\n",
      "Max error: 5585.8844\n",
      "\n",
      "Val - LR\n",
      "RMSE: 355.5501\n",
      "MAE: 238.8155\n",
      "R2: 30.647%\n",
      "Max error: 7386.1316\n",
      "\n"
     ]
    }
   ],
   "source": [
    "print_metrics(\n",
    "    train_df['total_fare'], train_df['pred_fare'],\n",
    "    label = 'Train - LR'\n",
    ")\n",
    "\n",
    "print_metrics(\n",
    "    val_df['total_fare'], val_df['pred_fare'],\n",
    "    label = 'Val - LR'\n",
    ")"
   ]
  },
  {
   "cell_type": "markdown",
   "metadata": {},
   "source": [
    "### Feature importances"
   ]
  },
  {
   "cell_type": "code",
   "execution_count": 33,
   "metadata": {},
   "outputs": [
    {
     "data": {
      "text/html": [
       "<div><style>\n",
       ".dataframe > thead > tr,\n",
       ".dataframe > tbody > tr {\n",
       "  text-align: right;\n",
       "  white-space: pre-wrap;\n",
       "}\n",
       "</style>\n",
       "<small>shape: (28, 2)</small><table border=\"1\" class=\"dataframe\"><thead><tr><th>Feature</th><th>Coef</th></tr><tr><td>str</td><td>f64</td></tr></thead><tbody><tr><td>&quot;ohe__destination_id_1&quot;</td><td>-0.042399</td></tr><tr><td>&quot;ohe__destination_id_2&quot;</td><td>-0.036235</td></tr><tr><td>&quot;scaler__days_till_flight&quot;</td><td>-0.02316</td></tr><tr><td>&quot;ohe__destination_id_5&quot;</td><td>-0.016601</td></tr><tr><td>&quot;ohe__destination_id_6&quot;</td><td>-0.014897</td></tr><tr><td>&quot;ohe__origin_id_3&quot;</td><td>-0.003672</td></tr><tr><td>&quot;scaler__flt_departure_week&quot;</td><td>-0.003317</td></tr><tr><td>&quot;scaler__days_since_start&quot;</td><td>-0.003059</td></tr><tr><td>&quot;ohe__carrier_U1&quot;</td><td>-0.002086</td></tr><tr><td>&quot;ohe__carrier_L2&quot;</td><td>-0.000359</td></tr><tr><td>&hellip;</td><td>&hellip;</td></tr><tr><td>&quot;ohe__origin_id_6&quot;</td><td>0.005281</td></tr><tr><td>&quot;ohe__origin_id_1&quot;</td><td>0.00614</td></tr><tr><td>&quot;ohe__origin_id_4&quot;</td><td>0.007155</td></tr><tr><td>&quot;ohe__origin_id_5&quot;</td><td>0.00985</td></tr><tr><td>&quot;ohe__destination_id_3&quot;</td><td>0.010422</td></tr><tr><td>&quot;scaler__flt_departure_month&quot;</td><td>0.01053</td></tr><tr><td>&quot;scaler__flt_departure_weekday&quot;</td><td>0.01197</td></tr><tr><td>&quot;ohe__destination_id_7&quot;</td><td>0.012924</td></tr><tr><td>&quot;scaler__dur_min&quot;</td><td>0.01484</td></tr><tr><td>&quot;ohe__destination_id_4&quot;</td><td>0.01964</td></tr></tbody></table></div>"
      ],
      "text/plain": [
       "shape: (28, 2)\n",
       "┌───────────────────────────────┬───────────┐\n",
       "│ Feature                       ┆ Coef      │\n",
       "│ ---                           ┆ ---       │\n",
       "│ str                           ┆ f64       │\n",
       "╞═══════════════════════════════╪═══════════╡\n",
       "│ ohe__destination_id_1         ┆ -0.042399 │\n",
       "│ ohe__destination_id_2         ┆ -0.036235 │\n",
       "│ scaler__days_till_flight      ┆ -0.02316  │\n",
       "│ ohe__destination_id_5         ┆ -0.016601 │\n",
       "│ ohe__destination_id_6         ┆ -0.014897 │\n",
       "│ ohe__origin_id_3              ┆ -0.003672 │\n",
       "│ scaler__flt_departure_week    ┆ -0.003317 │\n",
       "│ scaler__days_since_start      ┆ -0.003059 │\n",
       "│ ohe__carrier_U1               ┆ -0.002086 │\n",
       "│ ohe__carrier_L2               ┆ -0.000359 │\n",
       "│ …                             ┆ …         │\n",
       "│ ohe__origin_id_6              ┆ 0.005281  │\n",
       "│ ohe__origin_id_1              ┆ 0.00614   │\n",
       "│ ohe__origin_id_4              ┆ 0.007155  │\n",
       "│ ohe__origin_id_5              ┆ 0.00985   │\n",
       "│ ohe__destination_id_3         ┆ 0.010422  │\n",
       "│ scaler__flt_departure_month   ┆ 0.01053   │\n",
       "│ scaler__flt_departure_weekday ┆ 0.01197   │\n",
       "│ ohe__destination_id_7         ┆ 0.012924  │\n",
       "│ scaler__dur_min               ┆ 0.01484   │\n",
       "│ ohe__destination_id_4         ┆ 0.01964   │\n",
       "└───────────────────────────────┴───────────┘"
      ]
     },
     "execution_count": 33,
     "metadata": {},
     "output_type": "execute_result"
    }
   ],
   "source": [
    "pl.DataFrame({\n",
    "    \"Feature\": best_model['ridge'].feature_names_in_,\n",
    "    \"Coef\": best_model['ridge'].coef_\n",
    "}).sort(\"Coef\")"
   ]
  },
  {
   "cell_type": "code",
   "execution_count": null,
   "metadata": {},
   "outputs": [],
   "source": []
  }
 ],
 "metadata": {
  "kernelspec": {
   "display_name": "Python 3",
   "language": "python",
   "name": "python3"
  },
  "language_info": {
   "codemirror_mode": {
    "name": "ipython",
    "version": 3
   },
   "file_extension": ".py",
   "mimetype": "text/x-python",
   "name": "python",
   "nbconvert_exporter": "python",
   "pygments_lexer": "ipython3",
   "version": "3.11.6"
  }
 },
 "nbformat": 4,
 "nbformat_minor": 2
}
