{
 "cells": [
  {
   "cell_type": "markdown",
   "metadata": {},
   "source": [
    "# Final Model - GBR"
   ]
  },
  {
   "cell_type": "markdown",
   "metadata": {},
   "source": [
    "## Imports"
   ]
  },
  {
   "cell_type": "code",
   "execution_count": 1,
   "metadata": {},
   "outputs": [],
   "source": [
    "from pathlib import Path\n",
    "\n",
    "import polars as pl\n",
    "import seaborn as sns\n",
    "from matplotlib import pyplot as plt\n",
    "from sklearn.preprocessing import OrdinalEncoder\n",
    "from sklearn.ensemble import GradientBoostingRegressor\n",
    "from sklearn.compose import ColumnTransformer\n",
    "from sklearn.pipeline import Pipeline\n",
    "from sklearn import set_config\n",
    "\n",
    "from utils import RAW_DATA_DIR, PROCESSED_DATA_DIR, print_metrics\n",
    "\n",
    "pl.Config.set_tbl_rows(20)\n",
    "set_config(transform_output = \"pandas\")"
   ]
  },
  {
   "cell_type": "markdown",
   "metadata": {},
   "source": [
    "## Data loading"
   ]
  },
  {
   "cell_type": "code",
   "execution_count": 2,
   "metadata": {},
   "outputs": [
    {
     "data": {
      "text/html": [
       "<div><style>\n",
       ".dataframe > thead > tr,\n",
       ".dataframe > tbody > tr {\n",
       "  text-align: right;\n",
       "  white-space: pre-wrap;\n",
       "}\n",
       "</style>\n",
       "<small>shape: (8, 2)</small><table border=\"1\" class=\"dataframe\"><thead><tr><th>airport_id</th><th>airport</th></tr><tr><td>u8</td><td>str</td></tr></thead><tbody><tr><td>0</td><td>&quot;Airport17&quot;</td></tr><tr><td>1</td><td>&quot;Airport20&quot;</td></tr><tr><td>2</td><td>&quot;Airport26&quot;</td></tr><tr><td>3</td><td>&quot;Airport30&quot;</td></tr><tr><td>4</td><td>&quot;Airport31&quot;</td></tr><tr><td>5</td><td>&quot;Airport4&quot;</td></tr><tr><td>6</td><td>&quot;Airport43&quot;</td></tr><tr><td>7</td><td>&quot;Airport60&quot;</td></tr></tbody></table></div>"
      ],
      "text/plain": [
       "shape: (8, 2)\n",
       "┌────────────┬───────────┐\n",
       "│ airport_id ┆ airport   │\n",
       "│ ---        ┆ ---       │\n",
       "│ u8         ┆ str       │\n",
       "╞════════════╪═══════════╡\n",
       "│ 0          ┆ Airport17 │\n",
       "│ 1          ┆ Airport20 │\n",
       "│ 2          ┆ Airport26 │\n",
       "│ 3          ┆ Airport30 │\n",
       "│ 4          ┆ Airport31 │\n",
       "│ 5          ┆ Airport4  │\n",
       "│ 6          ┆ Airport43 │\n",
       "│ 7          ┆ Airport60 │\n",
       "└────────────┴───────────┘"
      ]
     },
     "execution_count": 2,
     "metadata": {},
     "output_type": "execute_result"
    }
   ],
   "source": [
    "airports_df = pl.read_parquet(\n",
    "    PROCESSED_DATA_DIR.joinpath('airports.parquet')\n",
    ")\n",
    "\n",
    "airports_df"
   ]
  },
  {
   "cell_type": "code",
   "execution_count": 3,
   "metadata": {},
   "outputs": [
    {
     "data": {
      "text/html": [
       "<div><style>\n",
       ".dataframe > thead > tr,\n",
       ".dataframe > tbody > tr {\n",
       "  text-align: right;\n",
       "  white-space: pre-wrap;\n",
       "}\n",
       "</style>\n",
       "<small>shape: (1_698_818, 21)</small><table border=\"1\" class=\"dataframe\"><thead><tr><th>carrier</th><th>flt_num</th><th>flt_departure_dt</th><th>observation_date</th><th>total_fare</th><th>days_till_flight</th><th>is_dst</th><th>route_id</th><th>flt_departure_local_time</th><th>flt_arrival_local_time</th><th>dur_min</th><th>tz_min</th><th>over_mn</th><th>dpt_4h_od</th><th>flt_count_dpt_24h</th><th>flt_count_dpt_4h</th><th>scaled_demand</th><th>scaled_share</th><th>origin_id</th><th>destination_id</th><th>flt_info_null</th></tr><tr><td>str</td><td>i64</td><td>date</td><td>date</td><td>i64</td><td>i16</td><td>i8</td><td>u8</td><td>datetime[ns]</td><td>datetime[ns]</td><td>i16</td><td>i16</td><td>i8</td><td>i8</td><td>u8</td><td>u8</td><td>i64</td><td>i64</td><td>u8</td><td>u8</td><td>u8</td></tr></thead><tbody><tr><td>&quot;L2&quot;</td><td>5242</td><td>2018-01-01</td><td>2017-11-27</td><td>846</td><td>35</td><td>0</td><td>4</td><td>2018-01-01 10:49:00</td><td>2018-01-01 12:14:00</td><td>85</td><td>-480</td><td>0</td><td>2</td><td>30</td><td>5</td><td>6659</td><td>212</td><td>3</td><td>4</td><td>0</td></tr><tr><td>&quot;OTH&quot;</td><td>4790</td><td>2018-01-01</td><td>2017-11-27</td><td>937</td><td>35</td><td>0</td><td>4</td><td>2018-01-01 14:57:00</td><td>2018-01-01 16:17:00</td><td>80</td><td>-480</td><td>0</td><td>3</td><td>30</td><td>8</td><td>6659</td><td>316</td><td>3</td><td>4</td><td>0</td></tr><tr><td>&quot;OTH&quot;</td><td>4837</td><td>2018-01-01</td><td>2017-11-27</td><td>281</td><td>35</td><td>0</td><td>6</td><td>2018-01-01 19:38:00</td><td>2018-01-01 20:43:00</td><td>65</td><td>-480</td><td>0</td><td>4</td><td>30</td><td>7</td><td>6659</td><td>316</td><td>4</td><td>3</td><td>0</td></tr><tr><td>&quot;L2&quot;</td><td>5314</td><td>2018-01-01</td><td>2017-11-27</td><td>403</td><td>35</td><td>0</td><td>6</td><td>2018-01-01 19:05:00</td><td>2018-01-01 20:17:00</td><td>72</td><td>-480</td><td>0</td><td>4</td><td>30</td><td>7</td><td>6659</td><td>213</td><td>4</td><td>3</td><td>0</td></tr><tr><td>&quot;OTH&quot;</td><td>6187</td><td>2018-01-01</td><td>2017-11-27</td><td>341</td><td>35</td><td>0</td><td>11</td><td>2018-01-01 20:30:00</td><td>2018-01-01 21:58:00</td><td>88</td><td>-480</td><td>0</td><td>5</td><td>21</td><td>5</td><td>6579</td><td>354</td><td>7</td><td>3</td><td>0</td></tr><tr><td>&quot;U1&quot;</td><td>4771</td><td>2018-01-01</td><td>2017-11-27</td><td>513</td><td>35</td><td>0</td><td>4</td><td>null</td><td>null</td><td>null</td><td>null</td><td>null</td><td>null</td><td>null</td><td>null</td><td>null</td><td>null</td><td>3</td><td>4</td><td>1</td></tr><tr><td>&quot;L3&quot;</td><td>15130</td><td>2018-01-01</td><td>2017-11-27</td><td>1298</td><td>35</td><td>0</td><td>4</td><td>2018-01-01 16:53:00</td><td>2018-01-01 18:19:00</td><td>86</td><td>-480</td><td>0</td><td>4</td><td>30</td><td>7</td><td>6659</td><td>231</td><td>3</td><td>4</td><td>0</td></tr><tr><td>&quot;L1&quot;</td><td>1396</td><td>2018-01-01</td><td>2017-11-27</td><td>372</td><td>35</td><td>0</td><td>11</td><td>2018-01-01 19:35:00</td><td>2018-01-01 21:08:00</td><td>93</td><td>-480</td><td>0</td><td>4</td><td>21</td><td>7</td><td>6579</td><td>262</td><td>7</td><td>3</td><td>0</td></tr><tr><td>&quot;L1&quot;</td><td>6316</td><td>2018-01-01</td><td>2017-11-27</td><td>1119</td><td>35</td><td>0</td><td>1</td><td>2018-01-01 12:31:00</td><td>2018-01-01 15:55:00</td><td>204</td><td>-300</td><td>0</td><td>3</td><td>5</td><td>2</td><td>1468</td><td>360</td><td>1</td><td>5</td><td>0</td></tr><tr><td>&quot;L1&quot;</td><td>4605</td><td>2018-01-01</td><td>2017-11-27</td><td>372</td><td>35</td><td>0</td><td>11</td><td>2018-01-01 17:18:00</td><td>2018-01-01 18:57:00</td><td>99</td><td>-480</td><td>0</td><td>4</td><td>21</td><td>7</td><td>6579</td><td>262</td><td>7</td><td>3</td><td>0</td></tr><tr><td>&hellip;</td><td>&hellip;</td><td>&hellip;</td><td>&hellip;</td><td>&hellip;</td><td>&hellip;</td><td>&hellip;</td><td>&hellip;</td><td>&hellip;</td><td>&hellip;</td><td>&hellip;</td><td>&hellip;</td><td>&hellip;</td><td>&hellip;</td><td>&hellip;</td><td>&hellip;</td><td>&hellip;</td><td>&hellip;</td><td>&hellip;</td><td>&hellip;</td><td>&hellip;</td></tr><tr><td>&quot;U1&quot;</td><td>6175</td><td>2018-12-31</td><td>2018-12-31</td><td>1111</td><td>0</td><td>0</td><td>11</td><td>2018-12-31 21:30:00</td><td>2018-12-31 23:04:00</td><td>94</td><td>-480</td><td>0</td><td>5</td><td>21</td><td>3</td><td>5817</td><td>253</td><td>7</td><td>3</td><td>0</td></tr><tr><td>&quot;L1&quot;</td><td>2149</td><td>2018-12-31</td><td>2018-12-31</td><td>2037</td><td>0</td><td>0</td><td>3</td><td>2018-12-31 01:05:00</td><td>2018-12-31 05:59:00</td><td>294</td><td>-480</td><td>0</td><td>0</td><td>7</td><td>1</td><td>2790</td><td>405</td><td>3</td><td>2</td><td>0</td></tr><tr><td>&quot;L2&quot;</td><td>7465</td><td>2018-12-31</td><td>2018-12-31</td><td>1202</td><td>0</td><td>0</td><td>9</td><td>2018-12-31 08:04:00</td><td>2018-12-31 10:49:00</td><td>165</td><td>-360</td><td>0</td><td>2</td><td>5</td><td>2</td><td>1618</td><td>310</td><td>5</td><td>6</td><td>0</td></tr><tr><td>&quot;L1&quot;</td><td>2724</td><td>2018-12-31</td><td>2018-12-31</td><td>3519</td><td>0</td><td>0</td><td>8</td><td>2018-12-31 06:00:00</td><td>2018-12-31 10:29:00</td><td>269</td><td>-360</td><td>0</td><td>1</td><td>4</td><td>2</td><td>2164</td><td>373</td><td>5</td><td>1</td><td>0</td></tr><tr><td>&quot;U1&quot;</td><td>4771</td><td>2018-12-31</td><td>2018-12-31</td><td>768</td><td>0</td><td>0</td><td>4</td><td>2018-12-31 08:15:00</td><td>2018-12-31 09:32:00</td><td>77</td><td>-480</td><td>0</td><td>2</td><td>30</td><td>6</td><td>7128</td><td>193</td><td>3</td><td>4</td><td>0</td></tr><tr><td>&quot;L1&quot;</td><td>2777</td><td>2018-12-31</td><td>2018-12-31</td><td>1111</td><td>0</td><td>0</td><td>5</td><td>2018-12-31 07:34:00</td><td>2018-12-31 09:15:00</td><td>101</td><td>-480</td><td>0</td><td>1</td><td>21</td><td>4</td><td>5817</td><td>294</td><td>3</td><td>7</td><td>0</td></tr><tr><td>&quot;L1&quot;</td><td>5663</td><td>2018-12-31</td><td>2018-12-31</td><td>2037</td><td>0</td><td>0</td><td>3</td><td>2018-12-31 12:20:00</td><td>2018-12-31 17:09:00</td><td>289</td><td>-480</td><td>0</td><td>3</td><td>7</td><td>2</td><td>2790</td><td>405</td><td>3</td><td>2</td><td>0</td></tr><tr><td>&quot;L2&quot;</td><td>7067</td><td>2018-12-31</td><td>2018-12-31</td><td>1202</td><td>0</td><td>0</td><td>9</td><td>2018-12-31 13:17:00</td><td>2018-12-31 16:00:00</td><td>163</td><td>-360</td><td>0</td><td>3</td><td>5</td><td>2</td><td>1618</td><td>310</td><td>5</td><td>6</td><td>0</td></tr><tr><td>&quot;L1&quot;</td><td>7431</td><td>2018-12-31</td><td>2018-12-31</td><td>1346</td><td>0</td><td>0</td><td>1</td><td>2018-12-31 07:00:00</td><td>2018-12-31 10:11:00</td><td>191</td><td>-300</td><td>0</td><td>1</td><td>4</td><td>1</td><td>2164</td><td>373</td><td>1</td><td>5</td><td>0</td></tr><tr><td>&quot;L2&quot;</td><td>7220</td><td>2018-12-31</td><td>2018-12-31</td><td>768</td><td>0</td><td>0</td><td>6</td><td>2018-12-31 10:15:00</td><td>2018-12-31 11:28:00</td><td>73</td><td>-480</td><td>0</td><td>2</td><td>30</td><td>8</td><td>7128</td><td>224</td><td>4</td><td>3</td><td>0</td></tr></tbody></table></div>"
      ],
      "text/plain": [
       "shape: (1_698_818, 21)\n",
       "┌─────────┬─────────┬────────────┬────────────┬───┬────────────┬───────────┬───────────┬───────────┐\n",
       "│ carrier ┆ flt_num ┆ flt_depart ┆ observatio ┆ … ┆ scaled_sha ┆ origin_id ┆ destinati ┆ flt_info_ │\n",
       "│ ---     ┆ ---     ┆ ure_dt     ┆ n_date     ┆   ┆ re         ┆ ---       ┆ on_id     ┆ null      │\n",
       "│ str     ┆ i64     ┆ ---        ┆ ---        ┆   ┆ ---        ┆ u8        ┆ ---       ┆ ---       │\n",
       "│         ┆         ┆ date       ┆ date       ┆   ┆ i64        ┆           ┆ u8        ┆ u8        │\n",
       "╞═════════╪═════════╪════════════╪════════════╪═══╪════════════╪═══════════╪═══════════╪═══════════╡\n",
       "│ L2      ┆ 5242    ┆ 2018-01-01 ┆ 2017-11-27 ┆ … ┆ 212        ┆ 3         ┆ 4         ┆ 0         │\n",
       "│ OTH     ┆ 4790    ┆ 2018-01-01 ┆ 2017-11-27 ┆ … ┆ 316        ┆ 3         ┆ 4         ┆ 0         │\n",
       "│ OTH     ┆ 4837    ┆ 2018-01-01 ┆ 2017-11-27 ┆ … ┆ 316        ┆ 4         ┆ 3         ┆ 0         │\n",
       "│ L2      ┆ 5314    ┆ 2018-01-01 ┆ 2017-11-27 ┆ … ┆ 213        ┆ 4         ┆ 3         ┆ 0         │\n",
       "│ OTH     ┆ 6187    ┆ 2018-01-01 ┆ 2017-11-27 ┆ … ┆ 354        ┆ 7         ┆ 3         ┆ 0         │\n",
       "│ U1      ┆ 4771    ┆ 2018-01-01 ┆ 2017-11-27 ┆ … ┆ null       ┆ 3         ┆ 4         ┆ 1         │\n",
       "│ L3      ┆ 15130   ┆ 2018-01-01 ┆ 2017-11-27 ┆ … ┆ 231        ┆ 3         ┆ 4         ┆ 0         │\n",
       "│ L1      ┆ 1396    ┆ 2018-01-01 ┆ 2017-11-27 ┆ … ┆ 262        ┆ 7         ┆ 3         ┆ 0         │\n",
       "│ L1      ┆ 6316    ┆ 2018-01-01 ┆ 2017-11-27 ┆ … ┆ 360        ┆ 1         ┆ 5         ┆ 0         │\n",
       "│ L1      ┆ 4605    ┆ 2018-01-01 ┆ 2017-11-27 ┆ … ┆ 262        ┆ 7         ┆ 3         ┆ 0         │\n",
       "│ …       ┆ …       ┆ …          ┆ …          ┆ … ┆ …          ┆ …         ┆ …         ┆ …         │\n",
       "│ U1      ┆ 6175    ┆ 2018-12-31 ┆ 2018-12-31 ┆ … ┆ 253        ┆ 7         ┆ 3         ┆ 0         │\n",
       "│ L1      ┆ 2149    ┆ 2018-12-31 ┆ 2018-12-31 ┆ … ┆ 405        ┆ 3         ┆ 2         ┆ 0         │\n",
       "│ L2      ┆ 7465    ┆ 2018-12-31 ┆ 2018-12-31 ┆ … ┆ 310        ┆ 5         ┆ 6         ┆ 0         │\n",
       "│ L1      ┆ 2724    ┆ 2018-12-31 ┆ 2018-12-31 ┆ … ┆ 373        ┆ 5         ┆ 1         ┆ 0         │\n",
       "│ U1      ┆ 4771    ┆ 2018-12-31 ┆ 2018-12-31 ┆ … ┆ 193        ┆ 3         ┆ 4         ┆ 0         │\n",
       "│ L1      ┆ 2777    ┆ 2018-12-31 ┆ 2018-12-31 ┆ … ┆ 294        ┆ 3         ┆ 7         ┆ 0         │\n",
       "│ L1      ┆ 5663    ┆ 2018-12-31 ┆ 2018-12-31 ┆ … ┆ 405        ┆ 3         ┆ 2         ┆ 0         │\n",
       "│ L2      ┆ 7067    ┆ 2018-12-31 ┆ 2018-12-31 ┆ … ┆ 310        ┆ 5         ┆ 6         ┆ 0         │\n",
       "│ L1      ┆ 7431    ┆ 2018-12-31 ┆ 2018-12-31 ┆ … ┆ 373        ┆ 1         ┆ 5         ┆ 0         │\n",
       "│ L2      ┆ 7220    ┆ 2018-12-31 ┆ 2018-12-31 ┆ … ┆ 224        ┆ 4         ┆ 3         ┆ 0         │\n",
       "└─────────┴─────────┴────────────┴────────────┴───┴────────────┴───────────┴───────────┴───────────┘"
      ]
     },
     "execution_count": 3,
     "metadata": {},
     "output_type": "execute_result"
    }
   ],
   "source": [
    "train_df = pl.read_parquet(\n",
    "    PROCESSED_DATA_DIR.joinpath('training', 'train_full.parquet')\n",
    ")\n",
    "\n",
    "train_df"
   ]
  },
  {
   "cell_type": "code",
   "execution_count": 4,
   "metadata": {},
   "outputs": [
    {
     "data": {
      "text/html": [
       "<div><style>\n",
       ".dataframe > thead > tr,\n",
       ".dataframe > tbody > tr {\n",
       "  text-align: right;\n",
       "  white-space: pre-wrap;\n",
       "}\n",
       "</style>\n",
       "<small>shape: (29_825, 20)</small><table border=\"1\" class=\"dataframe\"><thead><tr><th>carrier</th><th>flt_num</th><th>flt_departure_dt</th><th>observation_date</th><th>days_till_flight</th><th>is_dst</th><th>route_id</th><th>flt_departure_local_time</th><th>flt_arrival_local_time</th><th>dur_min</th><th>tz_min</th><th>over_mn</th><th>dpt_4h_od</th><th>flt_count_dpt_24h</th><th>flt_count_dpt_4h</th><th>scaled_demand</th><th>scaled_share</th><th>origin_id</th><th>destination_id</th><th>flt_info_null</th></tr><tr><td>str</td><td>i64</td><td>date</td><td>date</td><td>i16</td><td>i8</td><td>u8</td><td>datetime[ns]</td><td>datetime[ns]</td><td>i16</td><td>i16</td><td>i8</td><td>i8</td><td>u8</td><td>u8</td><td>i64</td><td>i64</td><td>u8</td><td>u8</td><td>u8</td></tr></thead><tbody><tr><td>&quot;L2&quot;</td><td>7465</td><td>2019-01-01</td><td>2018-11-27</td><td>35</td><td>0</td><td>9</td><td>2019-01-01 08:04:00</td><td>2019-01-01 10:49:00</td><td>165</td><td>-360</td><td>0</td><td>2</td><td>7</td><td>2</td><td>null</td><td>null</td><td>5</td><td>6</td><td>0</td></tr><tr><td>&quot;L2&quot;</td><td>7067</td><td>2019-01-01</td><td>2018-11-27</td><td>35</td><td>0</td><td>9</td><td>2019-01-01 13:17:00</td><td>2019-01-01 16:00:00</td><td>163</td><td>-360</td><td>0</td><td>3</td><td>7</td><td>2</td><td>null</td><td>null</td><td>5</td><td>6</td><td>0</td></tr><tr><td>&quot;L2&quot;</td><td>1232</td><td>2019-01-01</td><td>2018-11-27</td><td>35</td><td>0</td><td>9</td><td>2019-01-01 18:40:00</td><td>2019-01-01 21:25:00</td><td>165</td><td>-360</td><td>0</td><td>4</td><td>7</td><td>2</td><td>null</td><td>null</td><td>5</td><td>6</td><td>0</td></tr><tr><td>&quot;U3&quot;</td><td>752</td><td>2019-01-01</td><td>2018-11-27</td><td>35</td><td>0</td><td>7</td><td>2019-01-01 08:45:00</td><td>2019-01-01 10:07:00</td><td>82</td><td>-360</td><td>0</td><td>2</td><td>9</td><td>3</td><td>null</td><td>null</td><td>5</td><td>0</td><td>0</td></tr><tr><td>&quot;L1&quot;</td><td>5135</td><td>2019-01-01</td><td>2018-11-27</td><td>35</td><td>0</td><td>7</td><td>2019-01-01 07:25:00</td><td>2019-01-01 08:42:00</td><td>77</td><td>-360</td><td>0</td><td>1</td><td>9</td><td>2</td><td>null</td><td>null</td><td>5</td><td>0</td><td>0</td></tr><tr><td>&quot;L1&quot;</td><td>10966</td><td>2019-01-01</td><td>2018-11-27</td><td>35</td><td>0</td><td>7</td><td>2019-01-01 11:54:00</td><td>2019-01-01 13:18:00</td><td>84</td><td>-360</td><td>0</td><td>2</td><td>9</td><td>3</td><td>null</td><td>null</td><td>5</td><td>0</td><td>0</td></tr><tr><td>&quot;L1&quot;</td><td>2181</td><td>2019-01-01</td><td>2018-11-27</td><td>35</td><td>0</td><td>7</td><td>2019-01-01 15:34:00</td><td>2019-01-01 16:51:00</td><td>77</td><td>-360</td><td>0</td><td>3</td><td>9</td><td>2</td><td>null</td><td>null</td><td>5</td><td>0</td><td>0</td></tr><tr><td>&quot;L1&quot;</td><td>2724</td><td>2019-01-01</td><td>2018-11-27</td><td>35</td><td>0</td><td>8</td><td>2019-01-01 06:00:00</td><td>2019-01-01 10:30:00</td><td>270</td><td>-360</td><td>0</td><td>1</td><td>5</td><td>2</td><td>null</td><td>null</td><td>5</td><td>1</td><td>0</td></tr><tr><td>&quot;L3&quot;</td><td>18075</td><td>2019-01-01</td><td>2018-11-27</td><td>35</td><td>0</td><td>4</td><td>2019-01-01 15:10:00</td><td>2019-01-01 16:30:00</td><td>80</td><td>-480</td><td>0</td><td>3</td><td>32</td><td>9</td><td>null</td><td>null</td><td>3</td><td>4</td><td>0</td></tr><tr><td>&quot;L1&quot;</td><td>6241</td><td>2019-01-01</td><td>2018-11-27</td><td>35</td><td>0</td><td>10</td><td>2019-01-01 13:30:00</td><td>2019-01-01 16:24:00</td><td>174</td><td>-360</td><td>0</td><td>3</td><td>6</td><td>3</td><td>null</td><td>null</td><td>6</td><td>5</td><td>0</td></tr><tr><td>&hellip;</td><td>&hellip;</td><td>&hellip;</td><td>&hellip;</td><td>&hellip;</td><td>&hellip;</td><td>&hellip;</td><td>&hellip;</td><td>&hellip;</td><td>&hellip;</td><td>&hellip;</td><td>&hellip;</td><td>&hellip;</td><td>&hellip;</td><td>&hellip;</td><td>&hellip;</td><td>&hellip;</td><td>&hellip;</td><td>&hellip;</td><td>&hellip;</td></tr><tr><td>&quot;L3&quot;</td><td>8432</td><td>2019-01-07</td><td>2018-12-31</td><td>7</td><td>0</td><td>4</td><td>2019-01-07 18:05:00</td><td>2019-01-07 19:20:00</td><td>75</td><td>-480</td><td>0</td><td>4</td><td>46</td><td>13</td><td>null</td><td>null</td><td>3</td><td>4</td><td>0</td></tr><tr><td>&quot;L1&quot;</td><td>1575</td><td>2019-01-07</td><td>2018-12-31</td><td>7</td><td>0</td><td>5</td><td>2019-01-07 11:01:00</td><td>2019-01-07 12:49:00</td><td>108</td><td>-480</td><td>0</td><td>2</td><td>27</td><td>3</td><td>null</td><td>null</td><td>3</td><td>7</td><td>0</td></tr><tr><td>&quot;OTH&quot;</td><td>2294</td><td>2019-01-07</td><td>2018-12-31</td><td>7</td><td>0</td><td>3</td><td>2019-01-07 11:59:00</td><td>2019-01-07 16:57:00</td><td>298</td><td>-480</td><td>0</td><td>2</td><td>9</td><td>2</td><td>null</td><td>null</td><td>3</td><td>2</td><td>0</td></tr><tr><td>&quot;L3&quot;</td><td>8696</td><td>2019-01-07</td><td>2018-12-31</td><td>7</td><td>0</td><td>4</td><td>2019-01-07 20:00:00</td><td>2019-01-07 21:11:00</td><td>71</td><td>-480</td><td>0</td><td>5</td><td>46</td><td>6</td><td>null</td><td>null</td><td>3</td><td>4</td><td>0</td></tr><tr><td>&quot;L3&quot;</td><td>2539</td><td>2019-01-07</td><td>2018-12-31</td><td>7</td><td>0</td><td>4</td><td>2019-01-07 18:50:00</td><td>2019-01-07 19:55:00</td><td>65</td><td>-480</td><td>0</td><td>4</td><td>46</td><td>13</td><td>null</td><td>null</td><td>3</td><td>4</td><td>0</td></tr><tr><td>&quot;OTH&quot;</td><td>5292</td><td>2019-01-07</td><td>2018-12-31</td><td>7</td><td>0</td><td>6</td><td>null</td><td>null</td><td>null</td><td>null</td><td>null</td><td>null</td><td>null</td><td>null</td><td>null</td><td>null</td><td>4</td><td>3</td><td>1</td></tr><tr><td>&quot;OTH&quot;</td><td>6413</td><td>2019-01-07</td><td>2018-12-31</td><td>7</td><td>0</td><td>6</td><td>null</td><td>null</td><td>null</td><td>null</td><td>null</td><td>null</td><td>null</td><td>null</td><td>null</td><td>null</td><td>4</td><td>3</td><td>1</td></tr><tr><td>&quot;L1&quot;</td><td>1484</td><td>2019-01-07</td><td>2018-12-31</td><td>7</td><td>0</td><td>0</td><td>2019-01-07 11:06:00</td><td>2019-01-07 14:17:00</td><td>191</td><td>-420</td><td>0</td><td>2</td><td>9</td><td>3</td><td>null</td><td>null</td><td>0</td><td>5</td><td>0</td></tr><tr><td>&quot;L1&quot;</td><td>18471</td><td>2019-01-07</td><td>2018-12-31</td><td>7</td><td>0</td><td>0</td><td>2019-01-07 14:45:00</td><td>2019-01-07 17:59:00</td><td>194</td><td>-420</td><td>0</td><td>3</td><td>9</td><td>2</td><td>null</td><td>null</td><td>0</td><td>5</td><td>0</td></tr><tr><td>&quot;L1&quot;</td><td>1487</td><td>2019-01-07</td><td>2018-12-31</td><td>7</td><td>0</td><td>0</td><td>2019-01-07 17:46:00</td><td>2019-01-07 20:57:00</td><td>191</td><td>-420</td><td>0</td><td>4</td><td>9</td><td>2</td><td>null</td><td>null</td><td>0</td><td>5</td><td>0</td></tr></tbody></table></div>"
      ],
      "text/plain": [
       "shape: (29_825, 20)\n",
       "┌─────────┬─────────┬────────────┬────────────┬───┬────────────┬───────────┬───────────┬───────────┐\n",
       "│ carrier ┆ flt_num ┆ flt_depart ┆ observatio ┆ … ┆ scaled_sha ┆ origin_id ┆ destinati ┆ flt_info_ │\n",
       "│ ---     ┆ ---     ┆ ure_dt     ┆ n_date     ┆   ┆ re         ┆ ---       ┆ on_id     ┆ null      │\n",
       "│ str     ┆ i64     ┆ ---        ┆ ---        ┆   ┆ ---        ┆ u8        ┆ ---       ┆ ---       │\n",
       "│         ┆         ┆ date       ┆ date       ┆   ┆ i64        ┆           ┆ u8        ┆ u8        │\n",
       "╞═════════╪═════════╪════════════╪════════════╪═══╪════════════╪═══════════╪═══════════╪═══════════╡\n",
       "│ L2      ┆ 7465    ┆ 2019-01-01 ┆ 2018-11-27 ┆ … ┆ null       ┆ 5         ┆ 6         ┆ 0         │\n",
       "│ L2      ┆ 7067    ┆ 2019-01-01 ┆ 2018-11-27 ┆ … ┆ null       ┆ 5         ┆ 6         ┆ 0         │\n",
       "│ L2      ┆ 1232    ┆ 2019-01-01 ┆ 2018-11-27 ┆ … ┆ null       ┆ 5         ┆ 6         ┆ 0         │\n",
       "│ U3      ┆ 752     ┆ 2019-01-01 ┆ 2018-11-27 ┆ … ┆ null       ┆ 5         ┆ 0         ┆ 0         │\n",
       "│ L1      ┆ 5135    ┆ 2019-01-01 ┆ 2018-11-27 ┆ … ┆ null       ┆ 5         ┆ 0         ┆ 0         │\n",
       "│ L1      ┆ 10966   ┆ 2019-01-01 ┆ 2018-11-27 ┆ … ┆ null       ┆ 5         ┆ 0         ┆ 0         │\n",
       "│ L1      ┆ 2181    ┆ 2019-01-01 ┆ 2018-11-27 ┆ … ┆ null       ┆ 5         ┆ 0         ┆ 0         │\n",
       "│ L1      ┆ 2724    ┆ 2019-01-01 ┆ 2018-11-27 ┆ … ┆ null       ┆ 5         ┆ 1         ┆ 0         │\n",
       "│ L3      ┆ 18075   ┆ 2019-01-01 ┆ 2018-11-27 ┆ … ┆ null       ┆ 3         ┆ 4         ┆ 0         │\n",
       "│ L1      ┆ 6241    ┆ 2019-01-01 ┆ 2018-11-27 ┆ … ┆ null       ┆ 6         ┆ 5         ┆ 0         │\n",
       "│ …       ┆ …       ┆ …          ┆ …          ┆ … ┆ …          ┆ …         ┆ …         ┆ …         │\n",
       "│ L3      ┆ 8432    ┆ 2019-01-07 ┆ 2018-12-31 ┆ … ┆ null       ┆ 3         ┆ 4         ┆ 0         │\n",
       "│ L1      ┆ 1575    ┆ 2019-01-07 ┆ 2018-12-31 ┆ … ┆ null       ┆ 3         ┆ 7         ┆ 0         │\n",
       "│ OTH     ┆ 2294    ┆ 2019-01-07 ┆ 2018-12-31 ┆ … ┆ null       ┆ 3         ┆ 2         ┆ 0         │\n",
       "│ L3      ┆ 8696    ┆ 2019-01-07 ┆ 2018-12-31 ┆ … ┆ null       ┆ 3         ┆ 4         ┆ 0         │\n",
       "│ L3      ┆ 2539    ┆ 2019-01-07 ┆ 2018-12-31 ┆ … ┆ null       ┆ 3         ┆ 4         ┆ 0         │\n",
       "│ OTH     ┆ 5292    ┆ 2019-01-07 ┆ 2018-12-31 ┆ … ┆ null       ┆ 4         ┆ 3         ┆ 1         │\n",
       "│ OTH     ┆ 6413    ┆ 2019-01-07 ┆ 2018-12-31 ┆ … ┆ null       ┆ 4         ┆ 3         ┆ 1         │\n",
       "│ L1      ┆ 1484    ┆ 2019-01-07 ┆ 2018-12-31 ┆ … ┆ null       ┆ 0         ┆ 5         ┆ 0         │\n",
       "│ L1      ┆ 18471   ┆ 2019-01-07 ┆ 2018-12-31 ┆ … ┆ null       ┆ 0         ┆ 5         ┆ 0         │\n",
       "│ L1      ┆ 1487    ┆ 2019-01-07 ┆ 2018-12-31 ┆ … ┆ null       ┆ 0         ┆ 5         ┆ 0         │\n",
       "└─────────┴─────────┴────────────┴────────────┴───┴────────────┴───────────┴───────────┴───────────┘"
      ]
     },
     "execution_count": 4,
     "metadata": {},
     "output_type": "execute_result"
    }
   ],
   "source": [
    "test_df = pl.read_parquet(\n",
    "    PROCESSED_DATA_DIR.joinpath('test', 'test_full.parquet')\n",
    ")\n",
    "\n",
    "test_df"
   ]
  },
  {
   "cell_type": "code",
   "execution_count": 5,
   "metadata": {},
   "outputs": [
    {
     "data": {
      "text/html": [
       "<div><style>\n",
       ".dataframe > thead > tr,\n",
       ".dataframe > tbody > tr {\n",
       "  text-align: right;\n",
       "  white-space: pre-wrap;\n",
       "}\n",
       "</style>\n",
       "<small>shape: (29_825, 9)</small><table border=\"1\" class=\"dataframe\"><thead><tr><th></th><th>origin</th><th>destination</th><th>carrier</th><th>flt_num</th><th>flt_departure_dt</th><th>observation_date</th><th>origin_city</th><th>destination_city</th></tr><tr><td>i64</td><td>str</td><td>str</td><td>str</td><td>i64</td><td>str</td><td>str</td><td>str</td><td>str</td></tr></thead><tbody><tr><td>1</td><td>&quot;Airport4&quot;</td><td>&quot;Airport43&quot;</td><td>&quot;L2&quot;</td><td>7465</td><td>&quot;1/1/2019&quot;</td><td>&quot;11/27/2018&quot;</td><td>&quot;City4&quot;</td><td>&quot;City39&quot;</td></tr><tr><td>2</td><td>&quot;Airport4&quot;</td><td>&quot;Airport43&quot;</td><td>&quot;L2&quot;</td><td>7067</td><td>&quot;1/1/2019&quot;</td><td>&quot;11/27/2018&quot;</td><td>&quot;City4&quot;</td><td>&quot;City39&quot;</td></tr><tr><td>3</td><td>&quot;Airport4&quot;</td><td>&quot;Airport43&quot;</td><td>&quot;L2&quot;</td><td>1232</td><td>&quot;1/1/2019&quot;</td><td>&quot;11/27/2018&quot;</td><td>&quot;City4&quot;</td><td>&quot;City39&quot;</td></tr><tr><td>4</td><td>&quot;Airport43&quot;</td><td>&quot;Airport4&quot;</td><td>&quot;L1&quot;</td><td>17783</td><td>&quot;1/3/2019&quot;</td><td>&quot;11/29/2018&quot;</td><td>&quot;City39&quot;</td><td>&quot;City4&quot;</td></tr><tr><td>5</td><td>&quot;Airport43&quot;</td><td>&quot;Airport4&quot;</td><td>&quot;L1&quot;</td><td>5823</td><td>&quot;1/3/2019&quot;</td><td>&quot;11/29/2018&quot;</td><td>&quot;City39&quot;</td><td>&quot;City4&quot;</td></tr><tr><td>6</td><td>&quot;Airport43&quot;</td><td>&quot;Airport4&quot;</td><td>&quot;L1&quot;</td><td>1763</td><td>&quot;1/3/2019&quot;</td><td>&quot;11/29/2018&quot;</td><td>&quot;City39&quot;</td><td>&quot;City4&quot;</td></tr><tr><td>7</td><td>&quot;Airport4&quot;</td><td>&quot;Airport17&quot;</td><td>&quot;U3&quot;</td><td>752</td><td>&quot;1/1/2019&quot;</td><td>&quot;11/30/2018&quot;</td><td>&quot;City4&quot;</td><td>&quot;City17&quot;</td></tr><tr><td>8</td><td>&quot;Airport4&quot;</td><td>&quot;Airport17&quot;</td><td>&quot;U3&quot;</td><td>752</td><td>&quot;1/2/2019&quot;</td><td>&quot;11/30/2018&quot;</td><td>&quot;City4&quot;</td><td>&quot;City17&quot;</td></tr><tr><td>9</td><td>&quot;Airport4&quot;</td><td>&quot;Airport17&quot;</td><td>&quot;U3&quot;</td><td>752</td><td>&quot;1/3/2019&quot;</td><td>&quot;11/30/2018&quot;</td><td>&quot;City4&quot;</td><td>&quot;City17&quot;</td></tr><tr><td>10</td><td>&quot;Airport60&quot;</td><td>&quot;Airport30&quot;</td><td>&quot;U1&quot;</td><td>6131</td><td>&quot;1/7/2019&quot;</td><td>&quot;11/30/2018&quot;</td><td>&quot;City56&quot;</td><td>&quot;City27&quot;</td></tr><tr><td>&hellip;</td><td>&hellip;</td><td>&hellip;</td><td>&hellip;</td><td>&hellip;</td><td>&hellip;</td><td>&hellip;</td><td>&hellip;</td><td>&hellip;</td></tr><tr><td>29816</td><td>&quot;Airport4&quot;</td><td>&quot;Airport43&quot;</td><td>&quot;L2&quot;</td><td>1232</td><td>&quot;1/4/2019&quot;</td><td>&quot;12/31/2018&quot;</td><td>&quot;City4&quot;</td><td>&quot;City39&quot;</td></tr><tr><td>29817</td><td>&quot;Airport4&quot;</td><td>&quot;Airport43&quot;</td><td>&quot;L2&quot;</td><td>7465</td><td>&quot;1/5/2019&quot;</td><td>&quot;12/31/2018&quot;</td><td>&quot;City4&quot;</td><td>&quot;City39&quot;</td></tr><tr><td>29818</td><td>&quot;Airport4&quot;</td><td>&quot;Airport43&quot;</td><td>&quot;L2&quot;</td><td>7067</td><td>&quot;1/5/2019&quot;</td><td>&quot;12/31/2018&quot;</td><td>&quot;City4&quot;</td><td>&quot;City39&quot;</td></tr><tr><td>29819</td><td>&quot;Airport4&quot;</td><td>&quot;Airport43&quot;</td><td>&quot;L2&quot;</td><td>937</td><td>&quot;1/5/2019&quot;</td><td>&quot;12/31/2018&quot;</td><td>&quot;City4&quot;</td><td>&quot;City39&quot;</td></tr><tr><td>29820</td><td>&quot;Airport4&quot;</td><td>&quot;Airport43&quot;</td><td>&quot;L2&quot;</td><td>7465</td><td>&quot;1/6/2019&quot;</td><td>&quot;12/31/2018&quot;</td><td>&quot;City4&quot;</td><td>&quot;City39&quot;</td></tr><tr><td>29821</td><td>&quot;Airport4&quot;</td><td>&quot;Airport43&quot;</td><td>&quot;L2&quot;</td><td>7067</td><td>&quot;1/6/2019&quot;</td><td>&quot;12/31/2018&quot;</td><td>&quot;City4&quot;</td><td>&quot;City39&quot;</td></tr><tr><td>29822</td><td>&quot;Airport4&quot;</td><td>&quot;Airport43&quot;</td><td>&quot;L2&quot;</td><td>1232</td><td>&quot;1/6/2019&quot;</td><td>&quot;12/31/2018&quot;</td><td>&quot;City4&quot;</td><td>&quot;City39&quot;</td></tr><tr><td>29823</td><td>&quot;Airport17&quot;</td><td>&quot;Airport4&quot;</td><td>&quot;L1&quot;</td><td>1484</td><td>&quot;1/7/2019&quot;</td><td>&quot;12/31/2018&quot;</td><td>&quot;City17&quot;</td><td>&quot;City4&quot;</td></tr><tr><td>29824</td><td>&quot;Airport17&quot;</td><td>&quot;Airport4&quot;</td><td>&quot;L1&quot;</td><td>18471</td><td>&quot;1/7/2019&quot;</td><td>&quot;12/31/2018&quot;</td><td>&quot;City17&quot;</td><td>&quot;City4&quot;</td></tr><tr><td>29825</td><td>&quot;Airport17&quot;</td><td>&quot;Airport4&quot;</td><td>&quot;L1&quot;</td><td>1487</td><td>&quot;1/7/2019&quot;</td><td>&quot;12/31/2018&quot;</td><td>&quot;City17&quot;</td><td>&quot;City4&quot;</td></tr></tbody></table></div>"
      ],
      "text/plain": [
       "shape: (29_825, 9)\n",
       "┌───────┬───────────┬────────────┬─────────┬───┬────────────┬────────────┬────────────┬────────────┐\n",
       "│       ┆ origin    ┆ destinatio ┆ carrier ┆ … ┆ flt_depart ┆ observatio ┆ origin_cit ┆ destinatio │\n",
       "│ ---   ┆ ---       ┆ n          ┆ ---     ┆   ┆ ure_dt     ┆ n_date     ┆ y          ┆ n_city     │\n",
       "│ i64   ┆ str       ┆ ---        ┆ str     ┆   ┆ ---        ┆ ---        ┆ ---        ┆ ---        │\n",
       "│       ┆           ┆ str        ┆         ┆   ┆ str        ┆ str        ┆ str        ┆ str        │\n",
       "╞═══════╪═══════════╪════════════╪═════════╪═══╪════════════╪════════════╪════════════╪════════════╡\n",
       "│ 1     ┆ Airport4  ┆ Airport43  ┆ L2      ┆ … ┆ 1/1/2019   ┆ 11/27/2018 ┆ City4      ┆ City39     │\n",
       "│ 2     ┆ Airport4  ┆ Airport43  ┆ L2      ┆ … ┆ 1/1/2019   ┆ 11/27/2018 ┆ City4      ┆ City39     │\n",
       "│ 3     ┆ Airport4  ┆ Airport43  ┆ L2      ┆ … ┆ 1/1/2019   ┆ 11/27/2018 ┆ City4      ┆ City39     │\n",
       "│ 4     ┆ Airport43 ┆ Airport4   ┆ L1      ┆ … ┆ 1/3/2019   ┆ 11/29/2018 ┆ City39     ┆ City4      │\n",
       "│ 5     ┆ Airport43 ┆ Airport4   ┆ L1      ┆ … ┆ 1/3/2019   ┆ 11/29/2018 ┆ City39     ┆ City4      │\n",
       "│ 6     ┆ Airport43 ┆ Airport4   ┆ L1      ┆ … ┆ 1/3/2019   ┆ 11/29/2018 ┆ City39     ┆ City4      │\n",
       "│ 7     ┆ Airport4  ┆ Airport17  ┆ U3      ┆ … ┆ 1/1/2019   ┆ 11/30/2018 ┆ City4      ┆ City17     │\n",
       "│ 8     ┆ Airport4  ┆ Airport17  ┆ U3      ┆ … ┆ 1/2/2019   ┆ 11/30/2018 ┆ City4      ┆ City17     │\n",
       "│ 9     ┆ Airport4  ┆ Airport17  ┆ U3      ┆ … ┆ 1/3/2019   ┆ 11/30/2018 ┆ City4      ┆ City17     │\n",
       "│ 10    ┆ Airport60 ┆ Airport30  ┆ U1      ┆ … ┆ 1/7/2019   ┆ 11/30/2018 ┆ City56     ┆ City27     │\n",
       "│ …     ┆ …         ┆ …          ┆ …       ┆ … ┆ …          ┆ …          ┆ …          ┆ …          │\n",
       "│ 29816 ┆ Airport4  ┆ Airport43  ┆ L2      ┆ … ┆ 1/4/2019   ┆ 12/31/2018 ┆ City4      ┆ City39     │\n",
       "│ 29817 ┆ Airport4  ┆ Airport43  ┆ L2      ┆ … ┆ 1/5/2019   ┆ 12/31/2018 ┆ City4      ┆ City39     │\n",
       "│ 29818 ┆ Airport4  ┆ Airport43  ┆ L2      ┆ … ┆ 1/5/2019   ┆ 12/31/2018 ┆ City4      ┆ City39     │\n",
       "│ 29819 ┆ Airport4  ┆ Airport43  ┆ L2      ┆ … ┆ 1/5/2019   ┆ 12/31/2018 ┆ City4      ┆ City39     │\n",
       "│ 29820 ┆ Airport4  ┆ Airport43  ┆ L2      ┆ … ┆ 1/6/2019   ┆ 12/31/2018 ┆ City4      ┆ City39     │\n",
       "│ 29821 ┆ Airport4  ┆ Airport43  ┆ L2      ┆ … ┆ 1/6/2019   ┆ 12/31/2018 ┆ City4      ┆ City39     │\n",
       "│ 29822 ┆ Airport4  ┆ Airport43  ┆ L2      ┆ … ┆ 1/6/2019   ┆ 12/31/2018 ┆ City4      ┆ City39     │\n",
       "│ 29823 ┆ Airport17 ┆ Airport4   ┆ L1      ┆ … ┆ 1/7/2019   ┆ 12/31/2018 ┆ City17     ┆ City4      │\n",
       "│ 29824 ┆ Airport17 ┆ Airport4   ┆ L1      ┆ … ┆ 1/7/2019   ┆ 12/31/2018 ┆ City17     ┆ City4      │\n",
       "│ 29825 ┆ Airport17 ┆ Airport4   ┆ L1      ┆ … ┆ 1/7/2019   ┆ 12/31/2018 ┆ City17     ┆ City4      │\n",
       "└───────┴───────────┴────────────┴─────────┴───┴────────────┴────────────┴────────────┴────────────┘"
      ]
     },
     "execution_count": 5,
     "metadata": {},
     "output_type": "execute_result"
    }
   ],
   "source": [
    "raw_test_df = pl.read_parquet(\n",
    "    RAW_DATA_DIR.joinpath('test', 'test_fares_data.parquet')\n",
    ")\n",
    "\n",
    "raw_test_df"
   ]
  },
  {
   "cell_type": "code",
   "execution_count": 6,
   "metadata": {},
   "outputs": [
    {
     "data": {
      "text/html": [
       "<div><style>\n",
       ".dataframe > thead > tr,\n",
       ".dataframe > tbody > tr {\n",
       "  text-align: right;\n",
       "  white-space: pre-wrap;\n",
       "}\n",
       "</style>\n",
       "<small>shape: (1_728_643, 21)</small><table border=\"1\" class=\"dataframe\"><thead><tr><th>carrier</th><th>flt_num</th><th>flt_departure_dt</th><th>observation_date</th><th>total_fare</th><th>days_till_flight</th><th>is_dst</th><th>route_id</th><th>flt_departure_local_time</th><th>flt_arrival_local_time</th><th>dur_min</th><th>tz_min</th><th>over_mn</th><th>dpt_4h_od</th><th>flt_count_dpt_24h</th><th>flt_count_dpt_4h</th><th>scaled_demand</th><th>scaled_share</th><th>origin_id</th><th>destination_id</th><th>flt_info_null</th></tr><tr><td>str</td><td>i64</td><td>date</td><td>date</td><td>i64</td><td>i16</td><td>i8</td><td>u8</td><td>datetime[ns]</td><td>datetime[ns]</td><td>i16</td><td>i16</td><td>i8</td><td>i8</td><td>u8</td><td>u8</td><td>i64</td><td>i64</td><td>u8</td><td>u8</td><td>u8</td></tr></thead><tbody><tr><td>&quot;L2&quot;</td><td>5242</td><td>2018-01-01</td><td>2017-11-27</td><td>846</td><td>35</td><td>0</td><td>4</td><td>2018-01-01 10:49:00</td><td>2018-01-01 12:14:00</td><td>85</td><td>-480</td><td>0</td><td>2</td><td>30</td><td>5</td><td>6659</td><td>212</td><td>3</td><td>4</td><td>0</td></tr><tr><td>&quot;OTH&quot;</td><td>4790</td><td>2018-01-01</td><td>2017-11-27</td><td>937</td><td>35</td><td>0</td><td>4</td><td>2018-01-01 14:57:00</td><td>2018-01-01 16:17:00</td><td>80</td><td>-480</td><td>0</td><td>3</td><td>30</td><td>8</td><td>6659</td><td>316</td><td>3</td><td>4</td><td>0</td></tr><tr><td>&quot;OTH&quot;</td><td>4837</td><td>2018-01-01</td><td>2017-11-27</td><td>281</td><td>35</td><td>0</td><td>6</td><td>2018-01-01 19:38:00</td><td>2018-01-01 20:43:00</td><td>65</td><td>-480</td><td>0</td><td>4</td><td>30</td><td>7</td><td>6659</td><td>316</td><td>4</td><td>3</td><td>0</td></tr><tr><td>&quot;L2&quot;</td><td>5314</td><td>2018-01-01</td><td>2017-11-27</td><td>403</td><td>35</td><td>0</td><td>6</td><td>2018-01-01 19:05:00</td><td>2018-01-01 20:17:00</td><td>72</td><td>-480</td><td>0</td><td>4</td><td>30</td><td>7</td><td>6659</td><td>213</td><td>4</td><td>3</td><td>0</td></tr><tr><td>&quot;OTH&quot;</td><td>6187</td><td>2018-01-01</td><td>2017-11-27</td><td>341</td><td>35</td><td>0</td><td>11</td><td>2018-01-01 20:30:00</td><td>2018-01-01 21:58:00</td><td>88</td><td>-480</td><td>0</td><td>5</td><td>21</td><td>5</td><td>6579</td><td>354</td><td>7</td><td>3</td><td>0</td></tr><tr><td>&quot;U1&quot;</td><td>4771</td><td>2018-01-01</td><td>2017-11-27</td><td>513</td><td>35</td><td>0</td><td>4</td><td>null</td><td>null</td><td>null</td><td>null</td><td>null</td><td>null</td><td>null</td><td>null</td><td>null</td><td>null</td><td>3</td><td>4</td><td>1</td></tr><tr><td>&quot;L3&quot;</td><td>15130</td><td>2018-01-01</td><td>2017-11-27</td><td>1298</td><td>35</td><td>0</td><td>4</td><td>2018-01-01 16:53:00</td><td>2018-01-01 18:19:00</td><td>86</td><td>-480</td><td>0</td><td>4</td><td>30</td><td>7</td><td>6659</td><td>231</td><td>3</td><td>4</td><td>0</td></tr><tr><td>&quot;L1&quot;</td><td>1396</td><td>2018-01-01</td><td>2017-11-27</td><td>372</td><td>35</td><td>0</td><td>11</td><td>2018-01-01 19:35:00</td><td>2018-01-01 21:08:00</td><td>93</td><td>-480</td><td>0</td><td>4</td><td>21</td><td>7</td><td>6579</td><td>262</td><td>7</td><td>3</td><td>0</td></tr><tr><td>&quot;L1&quot;</td><td>6316</td><td>2018-01-01</td><td>2017-11-27</td><td>1119</td><td>35</td><td>0</td><td>1</td><td>2018-01-01 12:31:00</td><td>2018-01-01 15:55:00</td><td>204</td><td>-300</td><td>0</td><td>3</td><td>5</td><td>2</td><td>1468</td><td>360</td><td>1</td><td>5</td><td>0</td></tr><tr><td>&quot;L1&quot;</td><td>4605</td><td>2018-01-01</td><td>2017-11-27</td><td>372</td><td>35</td><td>0</td><td>11</td><td>2018-01-01 17:18:00</td><td>2018-01-01 18:57:00</td><td>99</td><td>-480</td><td>0</td><td>4</td><td>21</td><td>7</td><td>6579</td><td>262</td><td>7</td><td>3</td><td>0</td></tr><tr><td>&hellip;</td><td>&hellip;</td><td>&hellip;</td><td>&hellip;</td><td>&hellip;</td><td>&hellip;</td><td>&hellip;</td><td>&hellip;</td><td>&hellip;</td><td>&hellip;</td><td>&hellip;</td><td>&hellip;</td><td>&hellip;</td><td>&hellip;</td><td>&hellip;</td><td>&hellip;</td><td>&hellip;</td><td>&hellip;</td><td>&hellip;</td><td>&hellip;</td><td>&hellip;</td></tr><tr><td>&quot;L3&quot;</td><td>8432</td><td>2019-01-07</td><td>2018-12-31</td><td>0</td><td>7</td><td>0</td><td>4</td><td>2019-01-07 18:05:00</td><td>2019-01-07 19:20:00</td><td>75</td><td>-480</td><td>0</td><td>4</td><td>46</td><td>13</td><td>null</td><td>null</td><td>3</td><td>4</td><td>0</td></tr><tr><td>&quot;L1&quot;</td><td>1575</td><td>2019-01-07</td><td>2018-12-31</td><td>0</td><td>7</td><td>0</td><td>5</td><td>2019-01-07 11:01:00</td><td>2019-01-07 12:49:00</td><td>108</td><td>-480</td><td>0</td><td>2</td><td>27</td><td>3</td><td>null</td><td>null</td><td>3</td><td>7</td><td>0</td></tr><tr><td>&quot;OTH&quot;</td><td>2294</td><td>2019-01-07</td><td>2018-12-31</td><td>0</td><td>7</td><td>0</td><td>3</td><td>2019-01-07 11:59:00</td><td>2019-01-07 16:57:00</td><td>298</td><td>-480</td><td>0</td><td>2</td><td>9</td><td>2</td><td>null</td><td>null</td><td>3</td><td>2</td><td>0</td></tr><tr><td>&quot;L3&quot;</td><td>8696</td><td>2019-01-07</td><td>2018-12-31</td><td>0</td><td>7</td><td>0</td><td>4</td><td>2019-01-07 20:00:00</td><td>2019-01-07 21:11:00</td><td>71</td><td>-480</td><td>0</td><td>5</td><td>46</td><td>6</td><td>null</td><td>null</td><td>3</td><td>4</td><td>0</td></tr><tr><td>&quot;L3&quot;</td><td>2539</td><td>2019-01-07</td><td>2018-12-31</td><td>0</td><td>7</td><td>0</td><td>4</td><td>2019-01-07 18:50:00</td><td>2019-01-07 19:55:00</td><td>65</td><td>-480</td><td>0</td><td>4</td><td>46</td><td>13</td><td>null</td><td>null</td><td>3</td><td>4</td><td>0</td></tr><tr><td>&quot;OTH&quot;</td><td>5292</td><td>2019-01-07</td><td>2018-12-31</td><td>0</td><td>7</td><td>0</td><td>6</td><td>null</td><td>null</td><td>null</td><td>null</td><td>null</td><td>null</td><td>null</td><td>null</td><td>null</td><td>null</td><td>4</td><td>3</td><td>1</td></tr><tr><td>&quot;OTH&quot;</td><td>6413</td><td>2019-01-07</td><td>2018-12-31</td><td>0</td><td>7</td><td>0</td><td>6</td><td>null</td><td>null</td><td>null</td><td>null</td><td>null</td><td>null</td><td>null</td><td>null</td><td>null</td><td>null</td><td>4</td><td>3</td><td>1</td></tr><tr><td>&quot;L1&quot;</td><td>1484</td><td>2019-01-07</td><td>2018-12-31</td><td>0</td><td>7</td><td>0</td><td>0</td><td>2019-01-07 11:06:00</td><td>2019-01-07 14:17:00</td><td>191</td><td>-420</td><td>0</td><td>2</td><td>9</td><td>3</td><td>null</td><td>null</td><td>0</td><td>5</td><td>0</td></tr><tr><td>&quot;L1&quot;</td><td>18471</td><td>2019-01-07</td><td>2018-12-31</td><td>0</td><td>7</td><td>0</td><td>0</td><td>2019-01-07 14:45:00</td><td>2019-01-07 17:59:00</td><td>194</td><td>-420</td><td>0</td><td>3</td><td>9</td><td>2</td><td>null</td><td>null</td><td>0</td><td>5</td><td>0</td></tr><tr><td>&quot;L1&quot;</td><td>1487</td><td>2019-01-07</td><td>2018-12-31</td><td>0</td><td>7</td><td>0</td><td>0</td><td>2019-01-07 17:46:00</td><td>2019-01-07 20:57:00</td><td>191</td><td>-420</td><td>0</td><td>4</td><td>9</td><td>2</td><td>null</td><td>null</td><td>0</td><td>5</td><td>0</td></tr></tbody></table></div>"
      ],
      "text/plain": [
       "shape: (1_728_643, 21)\n",
       "┌─────────┬─────────┬────────────┬────────────┬───┬────────────┬───────────┬───────────┬───────────┐\n",
       "│ carrier ┆ flt_num ┆ flt_depart ┆ observatio ┆ … ┆ scaled_sha ┆ origin_id ┆ destinati ┆ flt_info_ │\n",
       "│ ---     ┆ ---     ┆ ure_dt     ┆ n_date     ┆   ┆ re         ┆ ---       ┆ on_id     ┆ null      │\n",
       "│ str     ┆ i64     ┆ ---        ┆ ---        ┆   ┆ ---        ┆ u8        ┆ ---       ┆ ---       │\n",
       "│         ┆         ┆ date       ┆ date       ┆   ┆ i64        ┆           ┆ u8        ┆ u8        │\n",
       "╞═════════╪═════════╪════════════╪════════════╪═══╪════════════╪═══════════╪═══════════╪═══════════╡\n",
       "│ L2      ┆ 5242    ┆ 2018-01-01 ┆ 2017-11-27 ┆ … ┆ 212        ┆ 3         ┆ 4         ┆ 0         │\n",
       "│ OTH     ┆ 4790    ┆ 2018-01-01 ┆ 2017-11-27 ┆ … ┆ 316        ┆ 3         ┆ 4         ┆ 0         │\n",
       "│ OTH     ┆ 4837    ┆ 2018-01-01 ┆ 2017-11-27 ┆ … ┆ 316        ┆ 4         ┆ 3         ┆ 0         │\n",
       "│ L2      ┆ 5314    ┆ 2018-01-01 ┆ 2017-11-27 ┆ … ┆ 213        ┆ 4         ┆ 3         ┆ 0         │\n",
       "│ OTH     ┆ 6187    ┆ 2018-01-01 ┆ 2017-11-27 ┆ … ┆ 354        ┆ 7         ┆ 3         ┆ 0         │\n",
       "│ U1      ┆ 4771    ┆ 2018-01-01 ┆ 2017-11-27 ┆ … ┆ null       ┆ 3         ┆ 4         ┆ 1         │\n",
       "│ L3      ┆ 15130   ┆ 2018-01-01 ┆ 2017-11-27 ┆ … ┆ 231        ┆ 3         ┆ 4         ┆ 0         │\n",
       "│ L1      ┆ 1396    ┆ 2018-01-01 ┆ 2017-11-27 ┆ … ┆ 262        ┆ 7         ┆ 3         ┆ 0         │\n",
       "│ L1      ┆ 6316    ┆ 2018-01-01 ┆ 2017-11-27 ┆ … ┆ 360        ┆ 1         ┆ 5         ┆ 0         │\n",
       "│ L1      ┆ 4605    ┆ 2018-01-01 ┆ 2017-11-27 ┆ … ┆ 262        ┆ 7         ┆ 3         ┆ 0         │\n",
       "│ …       ┆ …       ┆ …          ┆ …          ┆ … ┆ …          ┆ …         ┆ …         ┆ …         │\n",
       "│ L3      ┆ 8432    ┆ 2019-01-07 ┆ 2018-12-31 ┆ … ┆ null       ┆ 3         ┆ 4         ┆ 0         │\n",
       "│ L1      ┆ 1575    ┆ 2019-01-07 ┆ 2018-12-31 ┆ … ┆ null       ┆ 3         ┆ 7         ┆ 0         │\n",
       "│ OTH     ┆ 2294    ┆ 2019-01-07 ┆ 2018-12-31 ┆ … ┆ null       ┆ 3         ┆ 2         ┆ 0         │\n",
       "│ L3      ┆ 8696    ┆ 2019-01-07 ┆ 2018-12-31 ┆ … ┆ null       ┆ 3         ┆ 4         ┆ 0         │\n",
       "│ L3      ┆ 2539    ┆ 2019-01-07 ┆ 2018-12-31 ┆ … ┆ null       ┆ 3         ┆ 4         ┆ 0         │\n",
       "│ OTH     ┆ 5292    ┆ 2019-01-07 ┆ 2018-12-31 ┆ … ┆ null       ┆ 4         ┆ 3         ┆ 1         │\n",
       "│ OTH     ┆ 6413    ┆ 2019-01-07 ┆ 2018-12-31 ┆ … ┆ null       ┆ 4         ┆ 3         ┆ 1         │\n",
       "│ L1      ┆ 1484    ┆ 2019-01-07 ┆ 2018-12-31 ┆ … ┆ null       ┆ 0         ┆ 5         ┆ 0         │\n",
       "│ L1      ┆ 18471   ┆ 2019-01-07 ┆ 2018-12-31 ┆ … ┆ null       ┆ 0         ┆ 5         ┆ 0         │\n",
       "│ L1      ┆ 1487    ┆ 2019-01-07 ┆ 2018-12-31 ┆ … ┆ null       ┆ 0         ┆ 5         ┆ 0         │\n",
       "└─────────┴─────────┴────────────┴────────────┴───┴────────────┴───────────┴───────────┴───────────┘"
      ]
     },
     "execution_count": 6,
     "metadata": {},
     "output_type": "execute_result"
    }
   ],
   "source": [
    "full_data = train_df.vstack(\n",
    "    test_df.with_columns(\n",
    "        pl.lit(0).cast(pl.Int64()).alias('total_fare')\n",
    "    ).select(\n",
    "        train_df.columns\n",
    "    )\n",
    ")\n",
    "full_data"
   ]
  },
  {
   "cell_type": "markdown",
   "metadata": {},
   "source": [
    "## Data processing"
   ]
  },
  {
   "cell_type": "markdown",
   "metadata": {},
   "source": [
    "### Fare rescaling"
   ]
  },
  {
   "cell_type": "markdown",
   "metadata": {},
   "source": [
    "#### Check if any (`route`, `carrier`) pair is missing in `train_df`"
   ]
  },
  {
   "cell_type": "code",
   "execution_count": 7,
   "metadata": {},
   "outputs": [
    {
     "data": {
      "text/html": [
       "<div><style>\n",
       ".dataframe > thead > tr,\n",
       ".dataframe > tbody > tr {\n",
       "  text-align: right;\n",
       "  white-space: pre-wrap;\n",
       "}\n",
       "</style>\n",
       "<small>shape: (1, 4)</small><table border=\"1\" class=\"dataframe\"><thead><tr><th>route_id</th><th>carrier</th><th>route_id_right</th><th>carrier_right</th></tr><tr><td>u32</td><td>u32</td><td>u32</td><td>u32</td></tr></thead><tbody><tr><td>0</td><td>0</td><td>3</td><td>3</td></tr></tbody></table></div>"
      ],
      "text/plain": [
       "shape: (1, 4)\n",
       "┌──────────┬─────────┬────────────────┬───────────────┐\n",
       "│ route_id ┆ carrier ┆ route_id_right ┆ carrier_right │\n",
       "│ ---      ┆ ---     ┆ ---            ┆ ---           │\n",
       "│ u32      ┆ u32     ┆ u32            ┆ u32           │\n",
       "╞══════════╪═════════╪════════════════╪═══════════════╡\n",
       "│ 0        ┆ 0       ┆ 3              ┆ 3             │\n",
       "└──────────┴─────────┴────────────────┴───────────────┘"
      ]
     },
     "execution_count": 7,
     "metadata": {},
     "output_type": "execute_result"
    }
   ],
   "source": [
    "train_df.group_by('route_id', 'carrier').len().drop('len').join(\n",
    "    test_df.group_by('route_id', 'carrier').len().drop('len'),\n",
    "    on = ['route_id', 'carrier'],\n",
    "    how = 'outer'\n",
    ").null_count()"
   ]
  },
  {
   "cell_type": "markdown",
   "metadata": {},
   "source": [
    "#### Calculating range of log of fares by (`route`, `carrier`)"
   ]
  },
  {
   "cell_type": "code",
   "execution_count": 8,
   "metadata": {},
   "outputs": [
    {
     "data": {
      "text/html": [
       "<div><style>\n",
       ".dataframe > thead > tr,\n",
       ".dataframe > tbody > tr {\n",
       "  text-align: right;\n",
       "  white-space: pre-wrap;\n",
       "}\n",
       "</style>\n",
       "<small>shape: (9, 5)</small><table border=\"1\" class=\"dataframe\"><thead><tr><th>statistic</th><th>route_id</th><th>carrier</th><th>up_range</th><th>down_range</th></tr><tr><td>str</td><td>f64</td><td>str</td><td>f64</td><td>f64</td></tr></thead><tbody><tr><td>&quot;count&quot;</td><td>34.0</td><td>&quot;34&quot;</td><td>34.0</td><td>34.0</td></tr><tr><td>&quot;null_count&quot;</td><td>0.0</td><td>&quot;0&quot;</td><td>0.0</td><td>0.0</td></tr><tr><td>&quot;mean&quot;</td><td>5.588235</td><td>null</td><td>5.136427</td><td>0.449312</td></tr><tr><td>&quot;std&quot;</td><td>3.239132</td><td>null</td><td>2.828982</td><td>0.07292</td></tr><tr><td>&quot;min&quot;</td><td>0.0</td><td>&quot;L1&quot;</td><td>2.05318</td><td>0.281102</td></tr><tr><td>&quot;25%&quot;</td><td>3.0</td><td>null</td><td>2.864086</td><td>0.398033</td></tr><tr><td>&quot;50%&quot;</td><td>5.0</td><td>null</td><td>5.003745</td><td>0.448396</td></tr><tr><td>&quot;75%&quot;</td><td>8.0</td><td>null</td><td>6.590814</td><td>0.520287</td></tr><tr><td>&quot;max&quot;</td><td>11.0</td><td>&quot;U3&quot;</td><td>13.502214</td><td>0.578292</td></tr></tbody></table></div>"
      ],
      "text/plain": [
       "shape: (9, 5)\n",
       "┌────────────┬──────────┬─────────┬───────────┬────────────┐\n",
       "│ statistic  ┆ route_id ┆ carrier ┆ up_range  ┆ down_range │\n",
       "│ ---        ┆ ---      ┆ ---     ┆ ---       ┆ ---        │\n",
       "│ str        ┆ f64      ┆ str     ┆ f64       ┆ f64        │\n",
       "╞════════════╪══════════╪═════════╪═══════════╪════════════╡\n",
       "│ count      ┆ 34.0     ┆ 34      ┆ 34.0      ┆ 34.0       │\n",
       "│ null_count ┆ 0.0      ┆ 0       ┆ 0.0       ┆ 0.0        │\n",
       "│ mean       ┆ 5.588235 ┆ null    ┆ 5.136427  ┆ 0.449312   │\n",
       "│ std        ┆ 3.239132 ┆ null    ┆ 2.828982  ┆ 0.07292    │\n",
       "│ min        ┆ 0.0      ┆ L1      ┆ 2.05318   ┆ 0.281102   │\n",
       "│ 25%        ┆ 3.0      ┆ null    ┆ 2.864086  ┆ 0.398033   │\n",
       "│ 50%        ┆ 5.0      ┆ null    ┆ 5.003745  ┆ 0.448396   │\n",
       "│ 75%        ┆ 8.0      ┆ null    ┆ 6.590814  ┆ 0.520287   │\n",
       "│ max        ┆ 11.0     ┆ U3      ┆ 13.502214 ┆ 0.578292   │\n",
       "└────────────┴──────────┴─────────┴───────────┴────────────┘"
      ]
     },
     "execution_count": 8,
     "metadata": {},
     "output_type": "execute_result"
    }
   ],
   "source": [
    "train_df.group_by('route_id', 'carrier').agg(\n",
    "    (pl.col('total_fare').max() / pl.col('total_fare').mean()).alias('up_range'),\n",
    "    (pl.col('total_fare').min() / pl.col('total_fare').mean()).alias('down_range')\n",
    ").describe()"
   ]
  },
  {
   "cell_type": "code",
   "execution_count": 9,
   "metadata": {},
   "outputs": [
    {
     "data": {
      "text/html": [
       "<div><style>\n",
       ".dataframe > thead > tr,\n",
       ".dataframe > tbody > tr {\n",
       "  text-align: right;\n",
       "  white-space: pre-wrap;\n",
       "}\n",
       "</style>\n",
       "<small>shape: (34, 6)</small><table border=\"1\" class=\"dataframe\"><thead><tr><th>route_id</th><th>carrier</th><th>base_fare</th><th>std_fare</th><th>min_fare</th><th>max_fare</th></tr><tr><td>u8</td><td>str</td><td>f64</td><td>f64</td><td>f64</td><td>f64</td></tr></thead><tbody><tr><td>0</td><td>&quot;L1&quot;</td><td>2.871843</td><td>0.194813</td><td>2.472756</td><td>3.764923</td></tr><tr><td>0</td><td>&quot;U3&quot;</td><td>2.723962</td><td>0.140337</td><td>2.468347</td><td>3.099681</td></tr><tr><td>1</td><td>&quot;L1&quot;</td><td>2.98998</td><td>0.196896</td><td>2.638489</td><td>3.749659</td></tr><tr><td>2</td><td>&quot;L1&quot;</td><td>2.93557</td><td>0.206677</td><td>2.472756</td><td>3.740363</td></tr><tr><td>2</td><td>&quot;OTH&quot;</td><td>2.765193</td><td>0.164712</td><td>2.448706</td><td>3.170555</td></tr><tr><td>2</td><td>&quot;U3&quot;</td><td>2.701619</td><td>0.194855</td><td>2.418301</td><td>3.237795</td></tr><tr><td>3</td><td>&quot;L1&quot;</td><td>2.967345</td><td>0.217407</td><td>2.472756</td><td>3.730621</td></tr><tr><td>3</td><td>&quot;OTH&quot;</td><td>2.768284</td><td>0.175278</td><td>2.448706</td><td>3.170555</td></tr><tr><td>3</td><td>&quot;U3&quot;</td><td>2.808008</td><td>0.214577</td><td>2.418301</td><td>3.169674</td></tr><tr><td>4</td><td>&quot;L1&quot;</td><td>2.668249</td><td>0.19649</td><td>2.448706</td><td>3.555215</td></tr><tr><td>&hellip;</td><td>&hellip;</td><td>&hellip;</td><td>&hellip;</td><td>&hellip;</td><td>&hellip;</td></tr><tr><td>7</td><td>&quot;U3&quot;</td><td>2.725651</td><td>0.143807</td><td>2.491362</td><td>3.099681</td></tr><tr><td>8</td><td>&quot;L1&quot;</td><td>3.016892</td><td>0.202339</td><td>2.638489</td><td>3.789087</td></tr><tr><td>9</td><td>&quot;L1&quot;</td><td>2.967698</td><td>0.206366</td><td>2.642465</td><td>3.738622</td></tr><tr><td>9</td><td>&quot;L2&quot;</td><td>2.944702</td><td>0.181778</td><td>2.642465</td><td>3.642662</td></tr><tr><td>10</td><td>&quot;L1&quot;</td><td>3.001438</td><td>0.198797</td><td>2.642465</td><td>3.700963</td></tr><tr><td>10</td><td>&quot;L2&quot;</td><td>2.981856</td><td>0.1825</td><td>2.669317</td><td>3.642662</td></tr><tr><td>11</td><td>&quot;L1&quot;</td><td>2.767913</td><td>0.198456</td><td>2.485721</td><td>3.63789</td></tr><tr><td>11</td><td>&quot;OTH&quot;</td><td>2.72979</td><td>0.161205</td><td>2.489958</td><td>3.274158</td></tr><tr><td>11</td><td>&quot;U1&quot;</td><td>2.758985</td><td>0.178215</td><td>2.489958</td><td>3.295347</td></tr><tr><td>11</td><td>&quot;U3&quot;</td><td>2.62085</td><td>0.16319</td><td>2.369216</td><td>3.059942</td></tr></tbody></table></div>"
      ],
      "text/plain": [
       "shape: (34, 6)\n",
       "┌──────────┬─────────┬───────────┬──────────┬──────────┬──────────┐\n",
       "│ route_id ┆ carrier ┆ base_fare ┆ std_fare ┆ min_fare ┆ max_fare │\n",
       "│ ---      ┆ ---     ┆ ---       ┆ ---      ┆ ---      ┆ ---      │\n",
       "│ u8       ┆ str     ┆ f64       ┆ f64      ┆ f64      ┆ f64      │\n",
       "╞══════════╪═════════╪═══════════╪══════════╪══════════╪══════════╡\n",
       "│ 0        ┆ L1      ┆ 2.871843  ┆ 0.194813 ┆ 2.472756 ┆ 3.764923 │\n",
       "│ 0        ┆ U3      ┆ 2.723962  ┆ 0.140337 ┆ 2.468347 ┆ 3.099681 │\n",
       "│ 1        ┆ L1      ┆ 2.98998   ┆ 0.196896 ┆ 2.638489 ┆ 3.749659 │\n",
       "│ 2        ┆ L1      ┆ 2.93557   ┆ 0.206677 ┆ 2.472756 ┆ 3.740363 │\n",
       "│ 2        ┆ OTH     ┆ 2.765193  ┆ 0.164712 ┆ 2.448706 ┆ 3.170555 │\n",
       "│ 2        ┆ U3      ┆ 2.701619  ┆ 0.194855 ┆ 2.418301 ┆ 3.237795 │\n",
       "│ 3        ┆ L1      ┆ 2.967345  ┆ 0.217407 ┆ 2.472756 ┆ 3.730621 │\n",
       "│ 3        ┆ OTH     ┆ 2.768284  ┆ 0.175278 ┆ 2.448706 ┆ 3.170555 │\n",
       "│ 3        ┆ U3      ┆ 2.808008  ┆ 0.214577 ┆ 2.418301 ┆ 3.169674 │\n",
       "│ 4        ┆ L1      ┆ 2.668249  ┆ 0.19649  ┆ 2.448706 ┆ 3.555215 │\n",
       "│ …        ┆ …       ┆ …         ┆ …        ┆ …        ┆ …        │\n",
       "│ 7        ┆ U3      ┆ 2.725651  ┆ 0.143807 ┆ 2.491362 ┆ 3.099681 │\n",
       "│ 8        ┆ L1      ┆ 3.016892  ┆ 0.202339 ┆ 2.638489 ┆ 3.789087 │\n",
       "│ 9        ┆ L1      ┆ 2.967698  ┆ 0.206366 ┆ 2.642465 ┆ 3.738622 │\n",
       "│ 9        ┆ L2      ┆ 2.944702  ┆ 0.181778 ┆ 2.642465 ┆ 3.642662 │\n",
       "│ 10       ┆ L1      ┆ 3.001438  ┆ 0.198797 ┆ 2.642465 ┆ 3.700963 │\n",
       "│ 10       ┆ L2      ┆ 2.981856  ┆ 0.1825   ┆ 2.669317 ┆ 3.642662 │\n",
       "│ 11       ┆ L1      ┆ 2.767913  ┆ 0.198456 ┆ 2.485721 ┆ 3.63789  │\n",
       "│ 11       ┆ OTH     ┆ 2.72979   ┆ 0.161205 ┆ 2.489958 ┆ 3.274158 │\n",
       "│ 11       ┆ U1      ┆ 2.758985  ┆ 0.178215 ┆ 2.489958 ┆ 3.295347 │\n",
       "│ 11       ┆ U3      ┆ 2.62085   ┆ 0.16319  ┆ 2.369216 ┆ 3.059942 │\n",
       "└──────────┴─────────┴───────────┴──────────┴──────────┴──────────┘"
      ]
     },
     "execution_count": 9,
     "metadata": {},
     "output_type": "execute_result"
    }
   ],
   "source": [
    "base_log10_fares = train_df.group_by('route_id', 'carrier').agg(\n",
    "    pl.col('total_fare').log10().mean().alias('base_fare'),\n",
    "    pl.col('total_fare').log10().std().alias('std_fare'),\n",
    "    pl.col('total_fare').log10().min().alias('min_fare'),\n",
    "    pl.col('total_fare').log10().max().alias('max_fare')\n",
    ").sort('route_id', 'carrier')\n",
    "\n",
    "base_log10_fares"
   ]
  },
  {
   "cell_type": "code",
   "execution_count": 10,
   "metadata": {},
   "outputs": [
    {
     "data": {
      "text/html": [
       "<div><style>\n",
       ".dataframe > thead > tr,\n",
       ".dataframe > tbody > tr {\n",
       "  text-align: right;\n",
       "  white-space: pre-wrap;\n",
       "}\n",
       "</style>\n",
       "<small>shape: (9, 5)</small><table border=\"1\" class=\"dataframe\"><thead><tr><th>statistic</th><th>base_fare</th><th>std_fare</th><th>min_fare</th><th>max_fare</th></tr><tr><td>str</td><td>f64</td><td>f64</td><td>f64</td><td>f64</td></tr></thead><tbody><tr><td>&quot;count&quot;</td><td>34.0</td><td>34.0</td><td>34.0</td><td>34.0</td></tr><tr><td>&quot;null_count&quot;</td><td>0.0</td><td>0.0</td><td>0.0</td><td>0.0</td></tr><tr><td>&quot;mean&quot;</td><td>2.781415</td><td>0.189387</td><td>2.479185</td><td>3.487119</td></tr><tr><td>&quot;std&quot;</td><td>0.128523</td><td>0.029905</td><td>0.08651</td><td>0.268232</td></tr><tr><td>&quot;min&quot;</td><td>2.611628</td><td>0.135244</td><td>2.369216</td><td>3.05423</td></tr><tr><td>&quot;25%&quot;</td><td>2.668249</td><td>0.164712</td><td>2.418301</td><td>3.251881</td></tr><tr><td>&quot;50%&quot;</td><td>2.7672</td><td>0.194855</td><td>2.472756</td><td>3.555215</td></tr><tr><td>&quot;75%&quot;</td><td>2.871843</td><td>0.206366</td><td>2.489958</td><td>3.730621</td></tr><tr><td>&quot;max&quot;</td><td>3.016892</td><td>0.251384</td><td>2.669317</td><td>3.895367</td></tr></tbody></table></div>"
      ],
      "text/plain": [
       "shape: (9, 5)\n",
       "┌────────────┬───────────┬──────────┬──────────┬──────────┐\n",
       "│ statistic  ┆ base_fare ┆ std_fare ┆ min_fare ┆ max_fare │\n",
       "│ ---        ┆ ---       ┆ ---      ┆ ---      ┆ ---      │\n",
       "│ str        ┆ f64       ┆ f64      ┆ f64      ┆ f64      │\n",
       "╞════════════╪═══════════╪══════════╪══════════╪══════════╡\n",
       "│ count      ┆ 34.0      ┆ 34.0     ┆ 34.0     ┆ 34.0     │\n",
       "│ null_count ┆ 0.0       ┆ 0.0      ┆ 0.0      ┆ 0.0      │\n",
       "│ mean       ┆ 2.781415  ┆ 0.189387 ┆ 2.479185 ┆ 3.487119 │\n",
       "│ std        ┆ 0.128523  ┆ 0.029905 ┆ 0.08651  ┆ 0.268232 │\n",
       "│ min        ┆ 2.611628  ┆ 0.135244 ┆ 2.369216 ┆ 3.05423  │\n",
       "│ 25%        ┆ 2.668249  ┆ 0.164712 ┆ 2.418301 ┆ 3.251881 │\n",
       "│ 50%        ┆ 2.7672    ┆ 0.194855 ┆ 2.472756 ┆ 3.555215 │\n",
       "│ 75%        ┆ 2.871843  ┆ 0.206366 ┆ 2.489958 ┆ 3.730621 │\n",
       "│ max        ┆ 3.016892  ┆ 0.251384 ┆ 2.669317 ┆ 3.895367 │\n",
       "└────────────┴───────────┴──────────┴──────────┴──────────┘"
      ]
     },
     "execution_count": 10,
     "metadata": {},
     "output_type": "execute_result"
    }
   ],
   "source": [
    "base_log10_fares.select(pl.col(pl.Float64())).describe()"
   ]
  },
  {
   "cell_type": "code",
   "execution_count": 11,
   "metadata": {},
   "outputs": [
    {
     "data": {
      "text/html": [
       "<div><style>\n",
       ".dataframe > thead > tr,\n",
       ".dataframe > tbody > tr {\n",
       "  text-align: right;\n",
       "  white-space: pre-wrap;\n",
       "}\n",
       "</style>\n",
       "<small>shape: (9, 2)</small><table border=\"1\" class=\"dataframe\"><thead><tr><th>statistic</th><th>value</th></tr><tr><td>str</td><td>f64</td></tr></thead><tbody><tr><td>&quot;count&quot;</td><td>1.698818e6</td></tr><tr><td>&quot;null_count&quot;</td><td>0.0</td></tr><tr><td>&quot;mean&quot;</td><td>-0.000002</td></tr><tr><td>&quot;std&quot;</td><td>0.071659</td></tr><tr><td>&quot;min&quot;</td><td>-0.1667</td></tr><tr><td>&quot;25%&quot;</td><td>-0.0522</td></tr><tr><td>&quot;50%&quot;</td><td>-0.0144</td></tr><tr><td>&quot;75%&quot;</td><td>0.041</td></tr><tr><td>&quot;max&quot;</td><td>0.4915</td></tr></tbody></table></div>"
      ],
      "text/plain": [
       "shape: (9, 2)\n",
       "┌────────────┬────────────┐\n",
       "│ statistic  ┆ value      │\n",
       "│ ---        ┆ ---        │\n",
       "│ str        ┆ f64        │\n",
       "╞════════════╪════════════╡\n",
       "│ count      ┆ 1.698818e6 │\n",
       "│ null_count ┆ 0.0        │\n",
       "│ mean       ┆ -0.000002  │\n",
       "│ std        ┆ 0.071659   │\n",
       "│ min        ┆ -0.1667    │\n",
       "│ 25%        ┆ -0.0522    │\n",
       "│ 50%        ┆ -0.0144    │\n",
       "│ 75%        ┆ 0.041      │\n",
       "│ max        ┆ 0.4915     │\n",
       "└────────────┴────────────┘"
      ]
     },
     "execution_count": 11,
     "metadata": {},
     "output_type": "execute_result"
    }
   ],
   "source": [
    "train_df = train_df.join(\n",
    "    base_log10_fares.select('route_id', 'carrier', 'base_fare'),\n",
    "    on = ['route_id', 'carrier'],\n",
    "    how = 'left'\n",
    ").with_columns(\n",
    "    pl.col('total_fare').log10().alias('log_fare')\n",
    ").with_columns(\n",
    "    (\n",
    "        (pl.col('log_fare') - pl.col('base_fare')) / pl.col('base_fare')\n",
    "    ).round(4).alias('scaled_fare')\n",
    ")\n",
    "\n",
    "train_df['scaled_fare'].describe()"
   ]
  },
  {
   "cell_type": "code",
   "execution_count": 12,
   "metadata": {},
   "outputs": [
    {
     "data": {
      "text/html": [
       "<div><style>\n",
       ".dataframe > thead > tr,\n",
       ".dataframe > tbody > tr {\n",
       "  text-align: right;\n",
       "  white-space: pre-wrap;\n",
       "}\n",
       "</style>\n",
       "<small>shape: (1_698_818, 24)</small><table border=\"1\" class=\"dataframe\"><thead><tr><th>carrier</th><th>flt_num</th><th>flt_departure_dt</th><th>observation_date</th><th>total_fare</th><th>days_till_flight</th><th>is_dst</th><th>route_id</th><th>flt_departure_local_time</th><th>flt_arrival_local_time</th><th>dur_min</th><th>tz_min</th><th>over_mn</th><th>dpt_4h_od</th><th>flt_count_dpt_24h</th><th>flt_count_dpt_4h</th><th>scaled_demand</th><th>scaled_share</th><th>origin_id</th><th>destination_id</th><th>flt_info_null</th><th>base_fare</th><th>log_fare</th><th>scaled_fare</th></tr><tr><td>str</td><td>i64</td><td>date</td><td>date</td><td>i64</td><td>i16</td><td>i8</td><td>u8</td><td>datetime[ns]</td><td>datetime[ns]</td><td>i16</td><td>i16</td><td>i8</td><td>i8</td><td>u8</td><td>u8</td><td>i64</td><td>i64</td><td>u8</td><td>u8</td><td>u8</td><td>f64</td><td>f64</td><td>f64</td></tr></thead><tbody><tr><td>&quot;L1&quot;</td><td>6523</td><td>2018-03-06</td><td>2018-02-26</td><td>297</td><td>8</td><td>0</td><td>3</td><td>2018-03-06 06:00:00</td><td>2018-03-06 10:58:00</td><td>298</td><td>-480</td><td>0</td><td>1</td><td>8</td><td>1</td><td>2873</td><td>392</td><td>3</td><td>2</td><td>0</td><td>2.967345</td><td>2.472756</td><td>-0.1667</td></tr><tr><td>&quot;L1&quot;</td><td>6523</td><td>2018-03-06</td><td>2018-02-27</td><td>297</td><td>7</td><td>0</td><td>3</td><td>2018-03-06 06:00:00</td><td>2018-03-06 10:58:00</td><td>298</td><td>-480</td><td>0</td><td>1</td><td>8</td><td>1</td><td>2873</td><td>392</td><td>3</td><td>2</td><td>0</td><td>2.967345</td><td>2.472756</td><td>-0.1667</td></tr><tr><td>&quot;L1&quot;</td><td>5663</td><td>2018-03-09</td><td>2018-02-25</td><td>297</td><td>12</td><td>0</td><td>3</td><td>2018-03-09 12:17:00</td><td>2018-03-09 17:16:00</td><td>299</td><td>-480</td><td>0</td><td>3</td><td>8</td><td>3</td><td>2873</td><td>392</td><td>3</td><td>2</td><td>0</td><td>2.967345</td><td>2.472756</td><td>-0.1667</td></tr><tr><td>&quot;L1&quot;</td><td>5663</td><td>2018-03-09</td><td>2018-02-26</td><td>297</td><td>11</td><td>0</td><td>3</td><td>2018-03-09 12:17:00</td><td>2018-03-09 17:16:00</td><td>299</td><td>-480</td><td>0</td><td>3</td><td>8</td><td>3</td><td>2873</td><td>392</td><td>3</td><td>2</td><td>0</td><td>2.967345</td><td>2.472756</td><td>-0.1667</td></tr><tr><td>&quot;L1&quot;</td><td>5663</td><td>2018-03-10</td><td>2018-02-23</td><td>297</td><td>15</td><td>0</td><td>3</td><td>2018-03-10 12:17:00</td><td>2018-03-10 17:16:00</td><td>299</td><td>-480</td><td>0</td><td>3</td><td>8</td><td>3</td><td>2873</td><td>392</td><td>3</td><td>2</td><td>0</td><td>2.967345</td><td>2.472756</td><td>-0.1667</td></tr><tr><td>&quot;L1&quot;</td><td>6294</td><td>2018-03-10</td><td>2018-02-23</td><td>297</td><td>15</td><td>0</td><td>3</td><td>2018-03-10 13:45:00</td><td>2018-03-10 18:43:00</td><td>298</td><td>-480</td><td>0</td><td>3</td><td>8</td><td>3</td><td>2873</td><td>392</td><td>3</td><td>2</td><td>0</td><td>2.967345</td><td>2.472756</td><td>-0.1667</td></tr><tr><td>&quot;L1&quot;</td><td>3861</td><td>2018-03-10</td><td>2018-02-23</td><td>297</td><td>15</td><td>0</td><td>3</td><td>2018-03-10 15:55:00</td><td>2018-03-10 20:52:00</td><td>297</td><td>-480</td><td>0</td><td>3</td><td>8</td><td>3</td><td>2873</td><td>392</td><td>3</td><td>2</td><td>0</td><td>2.967345</td><td>2.472756</td><td>-0.1667</td></tr><tr><td>&quot;L1&quot;</td><td>6523</td><td>2018-03-10</td><td>2018-02-23</td><td>297</td><td>15</td><td>0</td><td>3</td><td>2018-03-10 06:05:00</td><td>2018-03-10 11:03:00</td><td>298</td><td>-480</td><td>0</td><td>1</td><td>8</td><td>1</td><td>2873</td><td>392</td><td>3</td><td>2</td><td>0</td><td>2.967345</td><td>2.472756</td><td>-0.1667</td></tr><tr><td>&quot;L1&quot;</td><td>6523</td><td>2018-03-10</td><td>2018-02-24</td><td>297</td><td>14</td><td>0</td><td>3</td><td>2018-03-10 06:05:00</td><td>2018-03-10 11:03:00</td><td>298</td><td>-480</td><td>0</td><td>1</td><td>8</td><td>1</td><td>2873</td><td>392</td><td>3</td><td>2</td><td>0</td><td>2.967345</td><td>2.472756</td><td>-0.1667</td></tr><tr><td>&quot;L1&quot;</td><td>6294</td><td>2018-03-10</td><td>2018-02-24</td><td>297</td><td>14</td><td>0</td><td>3</td><td>2018-03-10 13:45:00</td><td>2018-03-10 18:43:00</td><td>298</td><td>-480</td><td>0</td><td>3</td><td>8</td><td>3</td><td>2873</td><td>392</td><td>3</td><td>2</td><td>0</td><td>2.967345</td><td>2.472756</td><td>-0.1667</td></tr><tr><td>&hellip;</td><td>&hellip;</td><td>&hellip;</td><td>&hellip;</td><td>&hellip;</td><td>&hellip;</td><td>&hellip;</td><td>&hellip;</td><td>&hellip;</td><td>&hellip;</td><td>&hellip;</td><td>&hellip;</td><td>&hellip;</td><td>&hellip;</td><td>&hellip;</td><td>&hellip;</td><td>&hellip;</td><td>&hellip;</td><td>&hellip;</td><td>&hellip;</td><td>&hellip;</td><td>&hellip;</td><td>&hellip;</td><td>&hellip;</td></tr><tr><td>&quot;OTH&quot;</td><td>6413</td><td>2018-12-31</td><td>2018-12-18</td><td>7859</td><td>13</td><td>0</td><td>6</td><td>null</td><td>null</td><td>null</td><td>null</td><td>null</td><td>null</td><td>null</td><td>null</td><td>7128</td><td>266</td><td>4</td><td>3</td><td>1</td><td>2.611628</td><td>3.895367</td><td>0.4915</td></tr><tr><td>&quot;OTH&quot;</td><td>5292</td><td>2018-12-31</td><td>2018-12-18</td><td>7859</td><td>13</td><td>0</td><td>6</td><td>null</td><td>null</td><td>null</td><td>null</td><td>null</td><td>null</td><td>null</td><td>null</td><td>7128</td><td>266</td><td>4</td><td>3</td><td>1</td><td>2.611628</td><td>3.895367</td><td>0.4915</td></tr><tr><td>&quot;OTH&quot;</td><td>5292</td><td>2018-12-31</td><td>2018-12-19</td><td>7859</td><td>12</td><td>0</td><td>6</td><td>null</td><td>null</td><td>null</td><td>null</td><td>null</td><td>null</td><td>null</td><td>null</td><td>7128</td><td>266</td><td>4</td><td>3</td><td>1</td><td>2.611628</td><td>3.895367</td><td>0.4915</td></tr><tr><td>&quot;OTH&quot;</td><td>5638</td><td>2018-12-31</td><td>2018-12-19</td><td>7859</td><td>12</td><td>0</td><td>6</td><td>null</td><td>null</td><td>null</td><td>null</td><td>null</td><td>null</td><td>null</td><td>null</td><td>7128</td><td>266</td><td>4</td><td>3</td><td>1</td><td>2.611628</td><td>3.895367</td><td>0.4915</td></tr><tr><td>&quot;OTH&quot;</td><td>6005</td><td>2018-12-31</td><td>2018-12-19</td><td>7859</td><td>12</td><td>0</td><td>6</td><td>null</td><td>null</td><td>null</td><td>null</td><td>null</td><td>null</td><td>null</td><td>null</td><td>7128</td><td>266</td><td>4</td><td>3</td><td>1</td><td>2.611628</td><td>3.895367</td><td>0.4915</td></tr><tr><td>&quot;OTH&quot;</td><td>6413</td><td>2018-12-31</td><td>2018-12-19</td><td>7859</td><td>12</td><td>0</td><td>6</td><td>null</td><td>null</td><td>null</td><td>null</td><td>null</td><td>null</td><td>null</td><td>null</td><td>7128</td><td>266</td><td>4</td><td>3</td><td>1</td><td>2.611628</td><td>3.895367</td><td>0.4915</td></tr><tr><td>&quot;OTH&quot;</td><td>6413</td><td>2018-12-31</td><td>2018-12-20</td><td>7859</td><td>11</td><td>0</td><td>6</td><td>null</td><td>null</td><td>null</td><td>null</td><td>null</td><td>null</td><td>null</td><td>null</td><td>7128</td><td>266</td><td>4</td><td>3</td><td>1</td><td>2.611628</td><td>3.895367</td><td>0.4915</td></tr><tr><td>&quot;OTH&quot;</td><td>5638</td><td>2018-12-31</td><td>2018-12-20</td><td>7859</td><td>11</td><td>0</td><td>6</td><td>null</td><td>null</td><td>null</td><td>null</td><td>null</td><td>null</td><td>null</td><td>null</td><td>7128</td><td>266</td><td>4</td><td>3</td><td>1</td><td>2.611628</td><td>3.895367</td><td>0.4915</td></tr><tr><td>&quot;OTH&quot;</td><td>6005</td><td>2018-12-31</td><td>2018-12-20</td><td>7859</td><td>11</td><td>0</td><td>6</td><td>null</td><td>null</td><td>null</td><td>null</td><td>null</td><td>null</td><td>null</td><td>null</td><td>7128</td><td>266</td><td>4</td><td>3</td><td>1</td><td>2.611628</td><td>3.895367</td><td>0.4915</td></tr><tr><td>&quot;OTH&quot;</td><td>5292</td><td>2018-12-31</td><td>2018-12-20</td><td>7859</td><td>11</td><td>0</td><td>6</td><td>null</td><td>null</td><td>null</td><td>null</td><td>null</td><td>null</td><td>null</td><td>null</td><td>7128</td><td>266</td><td>4</td><td>3</td><td>1</td><td>2.611628</td><td>3.895367</td><td>0.4915</td></tr></tbody></table></div>"
      ],
      "text/plain": [
       "shape: (1_698_818, 24)\n",
       "┌─────────┬─────────┬────────────┬────────────┬───┬────────────┬───────────┬──────────┬────────────┐\n",
       "│ carrier ┆ flt_num ┆ flt_depart ┆ observatio ┆ … ┆ flt_info_n ┆ base_fare ┆ log_fare ┆ scaled_far │\n",
       "│ ---     ┆ ---     ┆ ure_dt     ┆ n_date     ┆   ┆ ull        ┆ ---       ┆ ---      ┆ e          │\n",
       "│ str     ┆ i64     ┆ ---        ┆ ---        ┆   ┆ ---        ┆ f64       ┆ f64      ┆ ---        │\n",
       "│         ┆         ┆ date       ┆ date       ┆   ┆ u8         ┆           ┆          ┆ f64        │\n",
       "╞═════════╪═════════╪════════════╪════════════╪═══╪════════════╪═══════════╪══════════╪════════════╡\n",
       "│ L1      ┆ 6523    ┆ 2018-03-06 ┆ 2018-02-26 ┆ … ┆ 0          ┆ 2.967345  ┆ 2.472756 ┆ -0.1667    │\n",
       "│ L1      ┆ 6523    ┆ 2018-03-06 ┆ 2018-02-27 ┆ … ┆ 0          ┆ 2.967345  ┆ 2.472756 ┆ -0.1667    │\n",
       "│ L1      ┆ 5663    ┆ 2018-03-09 ┆ 2018-02-25 ┆ … ┆ 0          ┆ 2.967345  ┆ 2.472756 ┆ -0.1667    │\n",
       "│ L1      ┆ 5663    ┆ 2018-03-09 ┆ 2018-02-26 ┆ … ┆ 0          ┆ 2.967345  ┆ 2.472756 ┆ -0.1667    │\n",
       "│ L1      ┆ 5663    ┆ 2018-03-10 ┆ 2018-02-23 ┆ … ┆ 0          ┆ 2.967345  ┆ 2.472756 ┆ -0.1667    │\n",
       "│ L1      ┆ 6294    ┆ 2018-03-10 ┆ 2018-02-23 ┆ … ┆ 0          ┆ 2.967345  ┆ 2.472756 ┆ -0.1667    │\n",
       "│ L1      ┆ 3861    ┆ 2018-03-10 ┆ 2018-02-23 ┆ … ┆ 0          ┆ 2.967345  ┆ 2.472756 ┆ -0.1667    │\n",
       "│ L1      ┆ 6523    ┆ 2018-03-10 ┆ 2018-02-23 ┆ … ┆ 0          ┆ 2.967345  ┆ 2.472756 ┆ -0.1667    │\n",
       "│ L1      ┆ 6523    ┆ 2018-03-10 ┆ 2018-02-24 ┆ … ┆ 0          ┆ 2.967345  ┆ 2.472756 ┆ -0.1667    │\n",
       "│ L1      ┆ 6294    ┆ 2018-03-10 ┆ 2018-02-24 ┆ … ┆ 0          ┆ 2.967345  ┆ 2.472756 ┆ -0.1667    │\n",
       "│ …       ┆ …       ┆ …          ┆ …          ┆ … ┆ …          ┆ …         ┆ …        ┆ …          │\n",
       "│ OTH     ┆ 6413    ┆ 2018-12-31 ┆ 2018-12-18 ┆ … ┆ 1          ┆ 2.611628  ┆ 3.895367 ┆ 0.4915     │\n",
       "│ OTH     ┆ 5292    ┆ 2018-12-31 ┆ 2018-12-18 ┆ … ┆ 1          ┆ 2.611628  ┆ 3.895367 ┆ 0.4915     │\n",
       "│ OTH     ┆ 5292    ┆ 2018-12-31 ┆ 2018-12-19 ┆ … ┆ 1          ┆ 2.611628  ┆ 3.895367 ┆ 0.4915     │\n",
       "│ OTH     ┆ 5638    ┆ 2018-12-31 ┆ 2018-12-19 ┆ … ┆ 1          ┆ 2.611628  ┆ 3.895367 ┆ 0.4915     │\n",
       "│ OTH     ┆ 6005    ┆ 2018-12-31 ┆ 2018-12-19 ┆ … ┆ 1          ┆ 2.611628  ┆ 3.895367 ┆ 0.4915     │\n",
       "│ OTH     ┆ 6413    ┆ 2018-12-31 ┆ 2018-12-19 ┆ … ┆ 1          ┆ 2.611628  ┆ 3.895367 ┆ 0.4915     │\n",
       "│ OTH     ┆ 6413    ┆ 2018-12-31 ┆ 2018-12-20 ┆ … ┆ 1          ┆ 2.611628  ┆ 3.895367 ┆ 0.4915     │\n",
       "│ OTH     ┆ 5638    ┆ 2018-12-31 ┆ 2018-12-20 ┆ … ┆ 1          ┆ 2.611628  ┆ 3.895367 ┆ 0.4915     │\n",
       "│ OTH     ┆ 6005    ┆ 2018-12-31 ┆ 2018-12-20 ┆ … ┆ 1          ┆ 2.611628  ┆ 3.895367 ┆ 0.4915     │\n",
       "│ OTH     ┆ 5292    ┆ 2018-12-31 ┆ 2018-12-20 ┆ … ┆ 1          ┆ 2.611628  ┆ 3.895367 ┆ 0.4915     │\n",
       "└─────────┴─────────┴────────────┴────────────┴───┴────────────┴───────────┴──────────┴────────────┘"
      ]
     },
     "execution_count": 12,
     "metadata": {},
     "output_type": "execute_result"
    }
   ],
   "source": [
    "train_df.sort('scaled_fare')"
   ]
  },
  {
   "cell_type": "code",
   "execution_count": 13,
   "metadata": {},
   "outputs": [
    {
     "data": {
      "text/html": [
       "<div><style>\n",
       ".dataframe > thead > tr,\n",
       ".dataframe > tbody > tr {\n",
       "  text-align: right;\n",
       "  white-space: pre-wrap;\n",
       "}\n",
       "</style>\n",
       "<small>shape: (29_825, 21)</small><table border=\"1\" class=\"dataframe\"><thead><tr><th>carrier</th><th>flt_num</th><th>flt_departure_dt</th><th>observation_date</th><th>days_till_flight</th><th>is_dst</th><th>route_id</th><th>flt_departure_local_time</th><th>flt_arrival_local_time</th><th>dur_min</th><th>tz_min</th><th>over_mn</th><th>dpt_4h_od</th><th>flt_count_dpt_24h</th><th>flt_count_dpt_4h</th><th>scaled_demand</th><th>scaled_share</th><th>origin_id</th><th>destination_id</th><th>flt_info_null</th><th>base_fare</th></tr><tr><td>str</td><td>i64</td><td>date</td><td>date</td><td>i16</td><td>i8</td><td>u8</td><td>datetime[ns]</td><td>datetime[ns]</td><td>i16</td><td>i16</td><td>i8</td><td>i8</td><td>u8</td><td>u8</td><td>i64</td><td>i64</td><td>u8</td><td>u8</td><td>u8</td><td>f64</td></tr></thead><tbody><tr><td>&quot;L2&quot;</td><td>7465</td><td>2019-01-01</td><td>2018-11-27</td><td>35</td><td>0</td><td>9</td><td>2019-01-01 08:04:00</td><td>2019-01-01 10:49:00</td><td>165</td><td>-360</td><td>0</td><td>2</td><td>7</td><td>2</td><td>null</td><td>null</td><td>5</td><td>6</td><td>0</td><td>2.944702</td></tr><tr><td>&quot;L2&quot;</td><td>7067</td><td>2019-01-01</td><td>2018-11-27</td><td>35</td><td>0</td><td>9</td><td>2019-01-01 13:17:00</td><td>2019-01-01 16:00:00</td><td>163</td><td>-360</td><td>0</td><td>3</td><td>7</td><td>2</td><td>null</td><td>null</td><td>5</td><td>6</td><td>0</td><td>2.944702</td></tr><tr><td>&quot;L2&quot;</td><td>1232</td><td>2019-01-01</td><td>2018-11-27</td><td>35</td><td>0</td><td>9</td><td>2019-01-01 18:40:00</td><td>2019-01-01 21:25:00</td><td>165</td><td>-360</td><td>0</td><td>4</td><td>7</td><td>2</td><td>null</td><td>null</td><td>5</td><td>6</td><td>0</td><td>2.944702</td></tr><tr><td>&quot;U3&quot;</td><td>752</td><td>2019-01-01</td><td>2018-11-27</td><td>35</td><td>0</td><td>7</td><td>2019-01-01 08:45:00</td><td>2019-01-01 10:07:00</td><td>82</td><td>-360</td><td>0</td><td>2</td><td>9</td><td>3</td><td>null</td><td>null</td><td>5</td><td>0</td><td>0</td><td>2.725651</td></tr><tr><td>&quot;L1&quot;</td><td>5135</td><td>2019-01-01</td><td>2018-11-27</td><td>35</td><td>0</td><td>7</td><td>2019-01-01 07:25:00</td><td>2019-01-01 08:42:00</td><td>77</td><td>-360</td><td>0</td><td>1</td><td>9</td><td>2</td><td>null</td><td>null</td><td>5</td><td>0</td><td>0</td><td>2.863554</td></tr><tr><td>&quot;L1&quot;</td><td>10966</td><td>2019-01-01</td><td>2018-11-27</td><td>35</td><td>0</td><td>7</td><td>2019-01-01 11:54:00</td><td>2019-01-01 13:18:00</td><td>84</td><td>-360</td><td>0</td><td>2</td><td>9</td><td>3</td><td>null</td><td>null</td><td>5</td><td>0</td><td>0</td><td>2.863554</td></tr><tr><td>&quot;L1&quot;</td><td>2181</td><td>2019-01-01</td><td>2018-11-27</td><td>35</td><td>0</td><td>7</td><td>2019-01-01 15:34:00</td><td>2019-01-01 16:51:00</td><td>77</td><td>-360</td><td>0</td><td>3</td><td>9</td><td>2</td><td>null</td><td>null</td><td>5</td><td>0</td><td>0</td><td>2.863554</td></tr><tr><td>&quot;L1&quot;</td><td>2724</td><td>2019-01-01</td><td>2018-11-27</td><td>35</td><td>0</td><td>8</td><td>2019-01-01 06:00:00</td><td>2019-01-01 10:30:00</td><td>270</td><td>-360</td><td>0</td><td>1</td><td>5</td><td>2</td><td>null</td><td>null</td><td>5</td><td>1</td><td>0</td><td>3.016892</td></tr><tr><td>&quot;L3&quot;</td><td>18075</td><td>2019-01-01</td><td>2018-11-27</td><td>35</td><td>0</td><td>4</td><td>2019-01-01 15:10:00</td><td>2019-01-01 16:30:00</td><td>80</td><td>-480</td><td>0</td><td>3</td><td>32</td><td>9</td><td>null</td><td>null</td><td>3</td><td>4</td><td>0</td><td>2.7672</td></tr><tr><td>&quot;L1&quot;</td><td>6241</td><td>2019-01-01</td><td>2018-11-27</td><td>35</td><td>0</td><td>10</td><td>2019-01-01 13:30:00</td><td>2019-01-01 16:24:00</td><td>174</td><td>-360</td><td>0</td><td>3</td><td>6</td><td>3</td><td>null</td><td>null</td><td>6</td><td>5</td><td>0</td><td>3.001438</td></tr><tr><td>&hellip;</td><td>&hellip;</td><td>&hellip;</td><td>&hellip;</td><td>&hellip;</td><td>&hellip;</td><td>&hellip;</td><td>&hellip;</td><td>&hellip;</td><td>&hellip;</td><td>&hellip;</td><td>&hellip;</td><td>&hellip;</td><td>&hellip;</td><td>&hellip;</td><td>&hellip;</td><td>&hellip;</td><td>&hellip;</td><td>&hellip;</td><td>&hellip;</td><td>&hellip;</td></tr><tr><td>&quot;L3&quot;</td><td>8432</td><td>2019-01-07</td><td>2018-12-31</td><td>7</td><td>0</td><td>4</td><td>2019-01-07 18:05:00</td><td>2019-01-07 19:20:00</td><td>75</td><td>-480</td><td>0</td><td>4</td><td>46</td><td>13</td><td>null</td><td>null</td><td>3</td><td>4</td><td>0</td><td>2.7672</td></tr><tr><td>&quot;L1&quot;</td><td>1575</td><td>2019-01-07</td><td>2018-12-31</td><td>7</td><td>0</td><td>5</td><td>2019-01-07 11:01:00</td><td>2019-01-07 12:49:00</td><td>108</td><td>-480</td><td>0</td><td>2</td><td>27</td><td>3</td><td>null</td><td>null</td><td>3</td><td>7</td><td>0</td><td>2.794683</td></tr><tr><td>&quot;OTH&quot;</td><td>2294</td><td>2019-01-07</td><td>2018-12-31</td><td>7</td><td>0</td><td>3</td><td>2019-01-07 11:59:00</td><td>2019-01-07 16:57:00</td><td>298</td><td>-480</td><td>0</td><td>2</td><td>9</td><td>2</td><td>null</td><td>null</td><td>3</td><td>2</td><td>0</td><td>2.768284</td></tr><tr><td>&quot;L3&quot;</td><td>8696</td><td>2019-01-07</td><td>2018-12-31</td><td>7</td><td>0</td><td>4</td><td>2019-01-07 20:00:00</td><td>2019-01-07 21:11:00</td><td>71</td><td>-480</td><td>0</td><td>5</td><td>46</td><td>6</td><td>null</td><td>null</td><td>3</td><td>4</td><td>0</td><td>2.7672</td></tr><tr><td>&quot;L3&quot;</td><td>2539</td><td>2019-01-07</td><td>2018-12-31</td><td>7</td><td>0</td><td>4</td><td>2019-01-07 18:50:00</td><td>2019-01-07 19:55:00</td><td>65</td><td>-480</td><td>0</td><td>4</td><td>46</td><td>13</td><td>null</td><td>null</td><td>3</td><td>4</td><td>0</td><td>2.7672</td></tr><tr><td>&quot;OTH&quot;</td><td>5292</td><td>2019-01-07</td><td>2018-12-31</td><td>7</td><td>0</td><td>6</td><td>null</td><td>null</td><td>null</td><td>null</td><td>null</td><td>null</td><td>null</td><td>null</td><td>null</td><td>null</td><td>4</td><td>3</td><td>1</td><td>2.611628</td></tr><tr><td>&quot;OTH&quot;</td><td>6413</td><td>2019-01-07</td><td>2018-12-31</td><td>7</td><td>0</td><td>6</td><td>null</td><td>null</td><td>null</td><td>null</td><td>null</td><td>null</td><td>null</td><td>null</td><td>null</td><td>null</td><td>4</td><td>3</td><td>1</td><td>2.611628</td></tr><tr><td>&quot;L1&quot;</td><td>1484</td><td>2019-01-07</td><td>2018-12-31</td><td>7</td><td>0</td><td>0</td><td>2019-01-07 11:06:00</td><td>2019-01-07 14:17:00</td><td>191</td><td>-420</td><td>0</td><td>2</td><td>9</td><td>3</td><td>null</td><td>null</td><td>0</td><td>5</td><td>0</td><td>2.871843</td></tr><tr><td>&quot;L1&quot;</td><td>18471</td><td>2019-01-07</td><td>2018-12-31</td><td>7</td><td>0</td><td>0</td><td>2019-01-07 14:45:00</td><td>2019-01-07 17:59:00</td><td>194</td><td>-420</td><td>0</td><td>3</td><td>9</td><td>2</td><td>null</td><td>null</td><td>0</td><td>5</td><td>0</td><td>2.871843</td></tr><tr><td>&quot;L1&quot;</td><td>1487</td><td>2019-01-07</td><td>2018-12-31</td><td>7</td><td>0</td><td>0</td><td>2019-01-07 17:46:00</td><td>2019-01-07 20:57:00</td><td>191</td><td>-420</td><td>0</td><td>4</td><td>9</td><td>2</td><td>null</td><td>null</td><td>0</td><td>5</td><td>0</td><td>2.871843</td></tr></tbody></table></div>"
      ],
      "text/plain": [
       "shape: (29_825, 21)\n",
       "┌─────────┬─────────┬────────────┬────────────┬───┬───────────┬────────────┬───────────┬───────────┐\n",
       "│ carrier ┆ flt_num ┆ flt_depart ┆ observatio ┆ … ┆ origin_id ┆ destinatio ┆ flt_info_ ┆ base_fare │\n",
       "│ ---     ┆ ---     ┆ ure_dt     ┆ n_date     ┆   ┆ ---       ┆ n_id       ┆ null      ┆ ---       │\n",
       "│ str     ┆ i64     ┆ ---        ┆ ---        ┆   ┆ u8        ┆ ---        ┆ ---       ┆ f64       │\n",
       "│         ┆         ┆ date       ┆ date       ┆   ┆           ┆ u8         ┆ u8        ┆           │\n",
       "╞═════════╪═════════╪════════════╪════════════╪═══╪═══════════╪════════════╪═══════════╪═══════════╡\n",
       "│ L2      ┆ 7465    ┆ 2019-01-01 ┆ 2018-11-27 ┆ … ┆ 5         ┆ 6          ┆ 0         ┆ 2.944702  │\n",
       "│ L2      ┆ 7067    ┆ 2019-01-01 ┆ 2018-11-27 ┆ … ┆ 5         ┆ 6          ┆ 0         ┆ 2.944702  │\n",
       "│ L2      ┆ 1232    ┆ 2019-01-01 ┆ 2018-11-27 ┆ … ┆ 5         ┆ 6          ┆ 0         ┆ 2.944702  │\n",
       "│ U3      ┆ 752     ┆ 2019-01-01 ┆ 2018-11-27 ┆ … ┆ 5         ┆ 0          ┆ 0         ┆ 2.725651  │\n",
       "│ L1      ┆ 5135    ┆ 2019-01-01 ┆ 2018-11-27 ┆ … ┆ 5         ┆ 0          ┆ 0         ┆ 2.863554  │\n",
       "│ L1      ┆ 10966   ┆ 2019-01-01 ┆ 2018-11-27 ┆ … ┆ 5         ┆ 0          ┆ 0         ┆ 2.863554  │\n",
       "│ L1      ┆ 2181    ┆ 2019-01-01 ┆ 2018-11-27 ┆ … ┆ 5         ┆ 0          ┆ 0         ┆ 2.863554  │\n",
       "│ L1      ┆ 2724    ┆ 2019-01-01 ┆ 2018-11-27 ┆ … ┆ 5         ┆ 1          ┆ 0         ┆ 3.016892  │\n",
       "│ L3      ┆ 18075   ┆ 2019-01-01 ┆ 2018-11-27 ┆ … ┆ 3         ┆ 4          ┆ 0         ┆ 2.7672    │\n",
       "│ L1      ┆ 6241    ┆ 2019-01-01 ┆ 2018-11-27 ┆ … ┆ 6         ┆ 5          ┆ 0         ┆ 3.001438  │\n",
       "│ …       ┆ …       ┆ …          ┆ …          ┆ … ┆ …         ┆ …          ┆ …         ┆ …         │\n",
       "│ L3      ┆ 8432    ┆ 2019-01-07 ┆ 2018-12-31 ┆ … ┆ 3         ┆ 4          ┆ 0         ┆ 2.7672    │\n",
       "│ L1      ┆ 1575    ┆ 2019-01-07 ┆ 2018-12-31 ┆ … ┆ 3         ┆ 7          ┆ 0         ┆ 2.794683  │\n",
       "│ OTH     ┆ 2294    ┆ 2019-01-07 ┆ 2018-12-31 ┆ … ┆ 3         ┆ 2          ┆ 0         ┆ 2.768284  │\n",
       "│ L3      ┆ 8696    ┆ 2019-01-07 ┆ 2018-12-31 ┆ … ┆ 3         ┆ 4          ┆ 0         ┆ 2.7672    │\n",
       "│ L3      ┆ 2539    ┆ 2019-01-07 ┆ 2018-12-31 ┆ … ┆ 3         ┆ 4          ┆ 0         ┆ 2.7672    │\n",
       "│ OTH     ┆ 5292    ┆ 2019-01-07 ┆ 2018-12-31 ┆ … ┆ 4         ┆ 3          ┆ 1         ┆ 2.611628  │\n",
       "│ OTH     ┆ 6413    ┆ 2019-01-07 ┆ 2018-12-31 ┆ … ┆ 4         ┆ 3          ┆ 1         ┆ 2.611628  │\n",
       "│ L1      ┆ 1484    ┆ 2019-01-07 ┆ 2018-12-31 ┆ … ┆ 0         ┆ 5          ┆ 0         ┆ 2.871843  │\n",
       "│ L1      ┆ 18471   ┆ 2019-01-07 ┆ 2018-12-31 ┆ … ┆ 0         ┆ 5          ┆ 0         ┆ 2.871843  │\n",
       "│ L1      ┆ 1487    ┆ 2019-01-07 ┆ 2018-12-31 ┆ … ┆ 0         ┆ 5          ┆ 0         ┆ 2.871843  │\n",
       "└─────────┴─────────┴────────────┴────────────┴───┴───────────┴────────────┴───────────┴───────────┘"
      ]
     },
     "execution_count": 13,
     "metadata": {},
     "output_type": "execute_result"
    }
   ],
   "source": [
    "test_df = test_df.join(\n",
    "    base_log10_fares.select('route_id', 'carrier', 'base_fare'),\n",
    "    on = ['route_id', 'carrier'],\n",
    "    how = 'left'\n",
    ")\n",
    "\n",
    "test_df"
   ]
  },
  {
   "cell_type": "markdown",
   "metadata": {},
   "source": [
    "### Feature generation"
   ]
  },
  {
   "cell_type": "markdown",
   "metadata": {},
   "source": [
    "#### Last week prices"
   ]
  },
  {
   "cell_type": "code",
   "execution_count": 14,
   "metadata": {},
   "outputs": [
    {
     "data": {
      "text/html": [
       "<div><style>\n",
       ".dataframe > thead > tr,\n",
       ".dataframe > tbody > tr {\n",
       "  text-align: right;\n",
       "  white-space: pre-wrap;\n",
       "}\n",
       "</style>\n",
       "<small>shape: (12, 2)</small><table border=\"1\" class=\"dataframe\"><thead><tr><th>route_id</th><th>route_mean_fare</th></tr><tr><td>u8</td><td>f64</td></tr></thead><tbody><tr><td>0</td><td>773.740839</td></tr><tr><td>1</td><td>1092.875317</td></tr><tr><td>2</td><td>879.303742</td></tr><tr><td>3</td><td>947.934663</td></tr><tr><td>4</td><td>583.397992</td></tr><tr><td>5</td><td>695.942816</td></tr><tr><td>6</td><td>543.427125</td></tr><tr><td>7</td><td>770.735278</td></tr><tr><td>8</td><td>1167.020139</td></tr><tr><td>9</td><td>1007.714802</td></tr><tr><td>10</td><td>1087.098297</td></tr><tr><td>11</td><td>633.247458</td></tr></tbody></table></div>"
      ],
      "text/plain": [
       "shape: (12, 2)\n",
       "┌──────────┬─────────────────┐\n",
       "│ route_id ┆ route_mean_fare │\n",
       "│ ---      ┆ ---             │\n",
       "│ u8       ┆ f64             │\n",
       "╞══════════╪═════════════════╡\n",
       "│ 0        ┆ 773.740839      │\n",
       "│ 1        ┆ 1092.875317     │\n",
       "│ 2        ┆ 879.303742      │\n",
       "│ 3        ┆ 947.934663      │\n",
       "│ 4        ┆ 583.397992      │\n",
       "│ 5        ┆ 695.942816      │\n",
       "│ 6        ┆ 543.427125      │\n",
       "│ 7        ┆ 770.735278      │\n",
       "│ 8        ┆ 1167.020139     │\n",
       "│ 9        ┆ 1007.714802     │\n",
       "│ 10       ┆ 1087.098297     │\n",
       "│ 11       ┆ 633.247458      │\n",
       "└──────────┴─────────────────┘"
      ]
     },
     "execution_count": 14,
     "metadata": {},
     "output_type": "execute_result"
    }
   ],
   "source": [
    "route_mean_fares = train_df.group_by('route_id').agg(\n",
    "    pl.col('total_fare').mean().alias('route_mean_fare')\n",
    ").sort('route_id')\n",
    "\n",
    "route_mean_fares"
   ]
  },
  {
   "cell_type": "code",
   "execution_count": 15,
   "metadata": {},
   "outputs": [
    {
     "data": {
      "text/html": [
       "<div><style>\n",
       ".dataframe > thead > tr,\n",
       ".dataframe > tbody > tr {\n",
       "  text-align: right;\n",
       "  white-space: pre-wrap;\n",
       "}\n",
       "</style>\n",
       "<small>shape: (4_124, 3)</small><table border=\"1\" class=\"dataframe\"><thead><tr><th>route_id</th><th>flt_departure_dt</th><th>7d_route_avg</th></tr><tr><td>u8</td><td>date</td><td>f64</td></tr></thead><tbody><tr><td>0</td><td>2018-02-17</td><td>0.955746</td></tr><tr><td>0</td><td>2018-02-18</td><td>0.955746</td></tr><tr><td>0</td><td>2018-02-19</td><td>0.955617</td></tr><tr><td>0</td><td>2018-02-20</td><td>0.955746</td></tr><tr><td>0</td><td>2018-02-21</td><td>0.955746</td></tr><tr><td>0</td><td>2018-02-22</td><td>1.053454</td></tr><tr><td>0</td><td>2018-02-23</td><td>1.005803</td></tr><tr><td>0</td><td>2018-02-24</td><td>0.932784</td></tr><tr><td>0</td><td>2018-02-25</td><td>0.912693</td></tr><tr><td>0</td><td>2018-02-26</td><td>1.190245</td></tr><tr><td>&hellip;</td><td>&hellip;</td><td>&hellip;</td></tr><tr><td>11</td><td>2018-12-29</td><td>1.862315</td></tr><tr><td>11</td><td>2018-12-30</td><td>1.581255</td></tr><tr><td>11</td><td>2018-12-31</td><td>1.382878</td></tr><tr><td>11</td><td>2019-01-01</td><td>1.273908</td></tr><tr><td>11</td><td>2019-01-02</td><td>1.42207</td></tr><tr><td>11</td><td>2019-01-03</td><td>1.278409</td></tr><tr><td>11</td><td>2019-01-04</td><td>1.149491</td></tr><tr><td>11</td><td>2019-01-05</td><td>1.237327</td></tr><tr><td>11</td><td>2019-01-06</td><td>1.189466</td></tr><tr><td>11</td><td>2019-01-07</td><td>0.867419</td></tr></tbody></table></div>"
      ],
      "text/plain": [
       "shape: (4_124, 3)\n",
       "┌──────────┬──────────────────┬──────────────┐\n",
       "│ route_id ┆ flt_departure_dt ┆ 7d_route_avg │\n",
       "│ ---      ┆ ---              ┆ ---          │\n",
       "│ u8       ┆ date             ┆ f64          │\n",
       "╞══════════╪══════════════════╪══════════════╡\n",
       "│ 0        ┆ 2018-02-17       ┆ 0.955746     │\n",
       "│ 0        ┆ 2018-02-18       ┆ 0.955746     │\n",
       "│ 0        ┆ 2018-02-19       ┆ 0.955617     │\n",
       "│ 0        ┆ 2018-02-20       ┆ 0.955746     │\n",
       "│ 0        ┆ 2018-02-21       ┆ 0.955746     │\n",
       "│ 0        ┆ 2018-02-22       ┆ 1.053454     │\n",
       "│ 0        ┆ 2018-02-23       ┆ 1.005803     │\n",
       "│ 0        ┆ 2018-02-24       ┆ 0.932784     │\n",
       "│ 0        ┆ 2018-02-25       ┆ 0.912693     │\n",
       "│ 0        ┆ 2018-02-26       ┆ 1.190245     │\n",
       "│ …        ┆ …                ┆ …            │\n",
       "│ 11       ┆ 2018-12-29       ┆ 1.862315     │\n",
       "│ 11       ┆ 2018-12-30       ┆ 1.581255     │\n",
       "│ 11       ┆ 2018-12-31       ┆ 1.382878     │\n",
       "│ 11       ┆ 2019-01-01       ┆ 1.273908     │\n",
       "│ 11       ┆ 2019-01-02       ┆ 1.42207      │\n",
       "│ 11       ┆ 2019-01-03       ┆ 1.278409     │\n",
       "│ 11       ┆ 2019-01-04       ┆ 1.149491     │\n",
       "│ 11       ┆ 2019-01-05       ┆ 1.237327     │\n",
       "│ 11       ┆ 2019-01-06       ┆ 1.189466     │\n",
       "│ 11       ┆ 2019-01-07       ┆ 0.867419     │\n",
       "└──────────┴──────────────────┴──────────────┘"
      ]
     },
     "execution_count": 15,
     "metadata": {},
     "output_type": "execute_result"
    }
   ],
   "source": [
    "route_week_ago_fare = train_df.group_by(\n",
    "    'route_id', 'flt_departure_dt'\n",
    ").agg(\n",
    "    pl.col('total_fare').mean()\n",
    ").with_columns(\n",
    "    pl.col('flt_departure_dt') + pl.duration(days = 7)\n",
    ").join(\n",
    "    route_mean_fares,\n",
    "    on = \"route_id\",\n",
    "    how = \"left\"\n",
    ").select(\n",
    "    pl.col('route_id'),\n",
    "    pl.col('flt_departure_dt'),\n",
    "    (\n",
    "        pl.col('total_fare') / pl.col('route_mean_fare')\n",
    "    ).alias('7d_route_avg')\n",
    ").sort('route_id', 'flt_departure_dt')\n",
    "\n",
    "route_week_ago_fare"
   ]
  },
  {
   "cell_type": "code",
   "execution_count": 16,
   "metadata": {},
   "outputs": [
    {
     "data": {
      "text/html": [
       "<div><style>\n",
       ".dataframe > thead > tr,\n",
       ".dataframe > tbody > tr {\n",
       "  text-align: right;\n",
       "  white-space: pre-wrap;\n",
       "}\n",
       "</style>\n",
       "<small>shape: (4_124, 3)</small><table border=\"1\" class=\"dataframe\"><thead><tr><th>route_id</th><th>flt_departure_dt</th><th>14d_route_avg</th></tr><tr><td>u8</td><td>date</td><td>f64</td></tr></thead><tbody><tr><td>0</td><td>2018-02-24</td><td>0.955746</td></tr><tr><td>0</td><td>2018-02-25</td><td>0.955746</td></tr><tr><td>0</td><td>2018-02-26</td><td>0.955617</td></tr><tr><td>0</td><td>2018-02-27</td><td>0.955746</td></tr><tr><td>0</td><td>2018-02-28</td><td>0.955746</td></tr><tr><td>0</td><td>2018-03-01</td><td>1.053454</td></tr><tr><td>0</td><td>2018-03-02</td><td>1.005803</td></tr><tr><td>0</td><td>2018-03-03</td><td>0.932784</td></tr><tr><td>0</td><td>2018-03-04</td><td>0.912693</td></tr><tr><td>0</td><td>2018-03-05</td><td>1.190245</td></tr><tr><td>&hellip;</td><td>&hellip;</td><td>&hellip;</td></tr><tr><td>11</td><td>2019-01-05</td><td>1.862315</td></tr><tr><td>11</td><td>2019-01-06</td><td>1.581255</td></tr><tr><td>11</td><td>2019-01-07</td><td>1.382878</td></tr><tr><td>11</td><td>2019-01-08</td><td>1.273908</td></tr><tr><td>11</td><td>2019-01-09</td><td>1.42207</td></tr><tr><td>11</td><td>2019-01-10</td><td>1.278409</td></tr><tr><td>11</td><td>2019-01-11</td><td>1.149491</td></tr><tr><td>11</td><td>2019-01-12</td><td>1.237327</td></tr><tr><td>11</td><td>2019-01-13</td><td>1.189466</td></tr><tr><td>11</td><td>2019-01-14</td><td>0.867419</td></tr></tbody></table></div>"
      ],
      "text/plain": [
       "shape: (4_124, 3)\n",
       "┌──────────┬──────────────────┬───────────────┐\n",
       "│ route_id ┆ flt_departure_dt ┆ 14d_route_avg │\n",
       "│ ---      ┆ ---              ┆ ---           │\n",
       "│ u8       ┆ date             ┆ f64           │\n",
       "╞══════════╪══════════════════╪═══════════════╡\n",
       "│ 0        ┆ 2018-02-24       ┆ 0.955746      │\n",
       "│ 0        ┆ 2018-02-25       ┆ 0.955746      │\n",
       "│ 0        ┆ 2018-02-26       ┆ 0.955617      │\n",
       "│ 0        ┆ 2018-02-27       ┆ 0.955746      │\n",
       "│ 0        ┆ 2018-02-28       ┆ 0.955746      │\n",
       "│ 0        ┆ 2018-03-01       ┆ 1.053454      │\n",
       "│ 0        ┆ 2018-03-02       ┆ 1.005803      │\n",
       "│ 0        ┆ 2018-03-03       ┆ 0.932784      │\n",
       "│ 0        ┆ 2018-03-04       ┆ 0.912693      │\n",
       "│ 0        ┆ 2018-03-05       ┆ 1.190245      │\n",
       "│ …        ┆ …                ┆ …             │\n",
       "│ 11       ┆ 2019-01-05       ┆ 1.862315      │\n",
       "│ 11       ┆ 2019-01-06       ┆ 1.581255      │\n",
       "│ 11       ┆ 2019-01-07       ┆ 1.382878      │\n",
       "│ 11       ┆ 2019-01-08       ┆ 1.273908      │\n",
       "│ 11       ┆ 2019-01-09       ┆ 1.42207       │\n",
       "│ 11       ┆ 2019-01-10       ┆ 1.278409      │\n",
       "│ 11       ┆ 2019-01-11       ┆ 1.149491      │\n",
       "│ 11       ┆ 2019-01-12       ┆ 1.237327      │\n",
       "│ 11       ┆ 2019-01-13       ┆ 1.189466      │\n",
       "│ 11       ┆ 2019-01-14       ┆ 0.867419      │\n",
       "└──────────┴──────────────────┴───────────────┘"
      ]
     },
     "execution_count": 16,
     "metadata": {},
     "output_type": "execute_result"
    }
   ],
   "source": [
    "route_2week_ago_fare = train_df.group_by(\n",
    "    'route_id', 'flt_departure_dt'\n",
    ").agg(\n",
    "    pl.col('total_fare').mean()\n",
    ").with_columns(\n",
    "    pl.col('flt_departure_dt') + pl.duration(days = 14)\n",
    ").join(\n",
    "    route_mean_fares,\n",
    "    on = \"route_id\",\n",
    "    how = \"left\"\n",
    ").select(\n",
    "    pl.col('route_id'),\n",
    "    pl.col('flt_departure_dt'),\n",
    "    (\n",
    "        pl.col('total_fare') / pl.col('route_mean_fare')\n",
    "    ).alias('14d_route_avg')\n",
    ").sort('route_id', 'flt_departure_dt')\n",
    "\n",
    "route_2week_ago_fare"
   ]
  },
  {
   "cell_type": "code",
   "execution_count": 17,
   "metadata": {},
   "outputs": [
    {
     "data": {
      "text/html": [
       "<div><style>\n",
       ".dataframe > thead > tr,\n",
       ".dataframe > tbody > tr {\n",
       "  text-align: right;\n",
       "  white-space: pre-wrap;\n",
       "}\n",
       "</style>\n",
       "<small>shape: (34, 3)</small><table border=\"1\" class=\"dataframe\"><thead><tr><th>route_id</th><th>carrier</th><th>route_carrier_mean_fare</th></tr><tr><td>u8</td><td>str</td><td>f64</td></tr></thead><tbody><tr><td>0</td><td>&quot;L1&quot;</td><td>832.823451</td></tr><tr><td>0</td><td>&quot;U3&quot;</td><td>558.718785</td></tr><tr><td>1</td><td>&quot;L1&quot;</td><td>1092.875317</td></tr><tr><td>2</td><td>&quot;L1&quot;</td><td>973.759358</td></tr><tr><td>2</td><td>&quot;OTH&quot;</td><td>626.677842</td></tr><tr><td>2</td><td>&quot;U3&quot;</td><td>559.28629</td></tr><tr><td>3</td><td>&quot;L1&quot;</td><td>1056.556285</td></tr><tr><td>3</td><td>&quot;OTH&quot;</td><td>637.097982</td></tr><tr><td>3</td><td>&quot;U3&quot;</td><td>719.858787</td></tr><tr><td>4</td><td>&quot;L1&quot;</td><td>527.718713</td></tr><tr><td>&hellip;</td><td>&hellip;</td><td>&hellip;</td></tr><tr><td>7</td><td>&quot;U3&quot;</td><td>562.571402</td></tr><tr><td>8</td><td>&quot;L1&quot;</td><td>1167.020139</td></tr><tr><td>9</td><td>&quot;L1&quot;</td><td>1046.550457</td></tr><tr><td>9</td><td>&quot;L2&quot;</td><td>967.707325</td></tr><tr><td>10</td><td>&quot;L1&quot;</td><td>1118.945223</td></tr><tr><td>10</td><td>&quot;L2&quot;</td><td>1052.372586</td></tr><tr><td>11</td><td>&quot;L1&quot;</td><td>659.09919</td></tr><tr><td>11</td><td>&quot;OTH&quot;</td><td>579.380258</td></tr><tr><td>11</td><td>&quot;U1&quot;</td><td>627.938175</td></tr><tr><td>11</td><td>&quot;U3&quot;</td><td>449.751875</td></tr></tbody></table></div>"
      ],
      "text/plain": [
       "shape: (34, 3)\n",
       "┌──────────┬─────────┬─────────────────────────┐\n",
       "│ route_id ┆ carrier ┆ route_carrier_mean_fare │\n",
       "│ ---      ┆ ---     ┆ ---                     │\n",
       "│ u8       ┆ str     ┆ f64                     │\n",
       "╞══════════╪═════════╪═════════════════════════╡\n",
       "│ 0        ┆ L1      ┆ 832.823451              │\n",
       "│ 0        ┆ U3      ┆ 558.718785              │\n",
       "│ 1        ┆ L1      ┆ 1092.875317             │\n",
       "│ 2        ┆ L1      ┆ 973.759358              │\n",
       "│ 2        ┆ OTH     ┆ 626.677842              │\n",
       "│ 2        ┆ U3      ┆ 559.28629               │\n",
       "│ 3        ┆ L1      ┆ 1056.556285             │\n",
       "│ 3        ┆ OTH     ┆ 637.097982              │\n",
       "│ 3        ┆ U3      ┆ 719.858787              │\n",
       "│ 4        ┆ L1      ┆ 527.718713              │\n",
       "│ …        ┆ …       ┆ …                       │\n",
       "│ 7        ┆ U3      ┆ 562.571402              │\n",
       "│ 8        ┆ L1      ┆ 1167.020139             │\n",
       "│ 9        ┆ L1      ┆ 1046.550457             │\n",
       "│ 9        ┆ L2      ┆ 967.707325              │\n",
       "│ 10       ┆ L1      ┆ 1118.945223             │\n",
       "│ 10       ┆ L2      ┆ 1052.372586             │\n",
       "│ 11       ┆ L1      ┆ 659.09919               │\n",
       "│ 11       ┆ OTH     ┆ 579.380258              │\n",
       "│ 11       ┆ U1      ┆ 627.938175              │\n",
       "│ 11       ┆ U3      ┆ 449.751875              │\n",
       "└──────────┴─────────┴─────────────────────────┘"
      ]
     },
     "execution_count": 17,
     "metadata": {},
     "output_type": "execute_result"
    }
   ],
   "source": [
    "route_carrier_mean_fares = train_df.group_by('route_id', 'carrier').agg(\n",
    "    pl.col('total_fare').mean().alias('route_carrier_mean_fare')\n",
    ").sort('route_id', 'carrier')\n",
    "\n",
    "route_carrier_mean_fares"
   ]
  },
  {
   "cell_type": "code",
   "execution_count": 18,
   "metadata": {},
   "outputs": [
    {
     "data": {
      "text/html": [
       "<div><style>\n",
       ".dataframe > thead > tr,\n",
       ".dataframe > tbody > tr {\n",
       "  text-align: right;\n",
       "  white-space: pre-wrap;\n",
       "}\n",
       "</style>\n",
       "<small>shape: (10_130, 4)</small><table border=\"1\" class=\"dataframe\"><thead><tr><th>route_id</th><th>flt_departure_dt</th><th>carrier</th><th>7d_route_carrier_avg</th></tr><tr><td>u8</td><td>date</td><td>str</td><td>f64</td></tr></thead><tbody><tr><td>0</td><td>2018-02-17</td><td>&quot;U3&quot;</td><td>1.323564</td></tr><tr><td>0</td><td>2018-02-18</td><td>&quot;U3&quot;</td><td>1.323564</td></tr><tr><td>0</td><td>2018-02-19</td><td>&quot;U3&quot;</td><td>1.323385</td></tr><tr><td>0</td><td>2018-02-20</td><td>&quot;U3&quot;</td><td>1.323564</td></tr><tr><td>0</td><td>2018-02-21</td><td>&quot;U3&quot;</td><td>1.323564</td></tr><tr><td>0</td><td>2018-02-22</td><td>&quot;U3&quot;</td><td>1.458873</td></tr><tr><td>0</td><td>2018-02-23</td><td>&quot;U3&quot;</td><td>1.392885</td></tr><tr><td>0</td><td>2018-02-24</td><td>&quot;U3&quot;</td><td>1.291765</td></tr><tr><td>0</td><td>2018-02-25</td><td>&quot;U3&quot;</td><td>1.263941</td></tr><tr><td>0</td><td>2018-02-26</td><td>&quot;U3&quot;</td><td>1.648309</td></tr><tr><td>&hellip;</td><td>&hellip;</td><td>&hellip;</td><td>&hellip;</td></tr><tr><td>11</td><td>2019-01-04</td><td>&quot;U1&quot;</td><td>1.181592</td></tr><tr><td>11</td><td>2019-01-04</td><td>&quot;U3&quot;</td><td>1.232779</td></tr><tr><td>11</td><td>2019-01-05</td><td>&quot;L1&quot;</td><td>1.328847</td></tr><tr><td>11</td><td>2019-01-05</td><td>&quot;U1&quot;</td><td>1.153779</td></tr><tr><td>11</td><td>2019-01-05</td><td>&quot;U3&quot;</td><td>1.248244</td></tr><tr><td>11</td><td>2019-01-06</td><td>&quot;L1&quot;</td><td>1.239899</td></tr><tr><td>11</td><td>2019-01-06</td><td>&quot;U1&quot;</td><td>1.102926</td></tr><tr><td>11</td><td>2019-01-07</td><td>&quot;L1&quot;</td><td>0.857987</td></tr><tr><td>11</td><td>2019-01-07</td><td>&quot;U1&quot;</td><td>0.89657</td></tr><tr><td>11</td><td>2019-01-07</td><td>&quot;U3&quot;</td><td>0.703663</td></tr></tbody></table></div>"
      ],
      "text/plain": [
       "shape: (10_130, 4)\n",
       "┌──────────┬──────────────────┬─────────┬──────────────────────┐\n",
       "│ route_id ┆ flt_departure_dt ┆ carrier ┆ 7d_route_carrier_avg │\n",
       "│ ---      ┆ ---              ┆ ---     ┆ ---                  │\n",
       "│ u8       ┆ date             ┆ str     ┆ f64                  │\n",
       "╞══════════╪══════════════════╪═════════╪══════════════════════╡\n",
       "│ 0        ┆ 2018-02-17       ┆ U3      ┆ 1.323564             │\n",
       "│ 0        ┆ 2018-02-18       ┆ U3      ┆ 1.323564             │\n",
       "│ 0        ┆ 2018-02-19       ┆ U3      ┆ 1.323385             │\n",
       "│ 0        ┆ 2018-02-20       ┆ U3      ┆ 1.323564             │\n",
       "│ 0        ┆ 2018-02-21       ┆ U3      ┆ 1.323564             │\n",
       "│ 0        ┆ 2018-02-22       ┆ U3      ┆ 1.458873             │\n",
       "│ 0        ┆ 2018-02-23       ┆ U3      ┆ 1.392885             │\n",
       "│ 0        ┆ 2018-02-24       ┆ U3      ┆ 1.291765             │\n",
       "│ 0        ┆ 2018-02-25       ┆ U3      ┆ 1.263941             │\n",
       "│ 0        ┆ 2018-02-26       ┆ U3      ┆ 1.648309             │\n",
       "│ …        ┆ …                ┆ …       ┆ …                    │\n",
       "│ 11       ┆ 2019-01-04       ┆ U1      ┆ 1.181592             │\n",
       "│ 11       ┆ 2019-01-04       ┆ U3      ┆ 1.232779             │\n",
       "│ 11       ┆ 2019-01-05       ┆ L1      ┆ 1.328847             │\n",
       "│ 11       ┆ 2019-01-05       ┆ U1      ┆ 1.153779             │\n",
       "│ 11       ┆ 2019-01-05       ┆ U3      ┆ 1.248244             │\n",
       "│ 11       ┆ 2019-01-06       ┆ L1      ┆ 1.239899             │\n",
       "│ 11       ┆ 2019-01-06       ┆ U1      ┆ 1.102926             │\n",
       "│ 11       ┆ 2019-01-07       ┆ L1      ┆ 0.857987             │\n",
       "│ 11       ┆ 2019-01-07       ┆ U1      ┆ 0.89657              │\n",
       "│ 11       ┆ 2019-01-07       ┆ U3      ┆ 0.703663             │\n",
       "└──────────┴──────────────────┴─────────┴──────────────────────┘"
      ]
     },
     "execution_count": 18,
     "metadata": {},
     "output_type": "execute_result"
    }
   ],
   "source": [
    "route_carrier_week_ago_fare = train_df.group_by(\n",
    "    'route_id', 'flt_departure_dt', 'carrier'\n",
    ").agg(\n",
    "    pl.col('total_fare').mean()\n",
    ").with_columns(\n",
    "    pl.col('flt_departure_dt') + pl.duration(days = 7)\n",
    ").join(\n",
    "    route_carrier_mean_fares,\n",
    "    on = ['route_id', 'carrier'],\n",
    "    how = \"left\"\n",
    ").select(\n",
    "    pl.col('route_id'),\n",
    "    pl.col('flt_departure_dt'),\n",
    "    pl.col('carrier'),\n",
    "    (\n",
    "        pl.col('total_fare') / pl.col('route_carrier_mean_fare')\n",
    "    ).alias('7d_route_carrier_avg')\n",
    ").sort('route_id', 'flt_departure_dt', 'carrier')\n",
    "\n",
    "route_carrier_week_ago_fare"
   ]
  },
  {
   "cell_type": "code",
   "execution_count": 19,
   "metadata": {},
   "outputs": [
    {
     "data": {
      "text/html": [
       "<div><style>\n",
       ".dataframe > thead > tr,\n",
       ".dataframe > tbody > tr {\n",
       "  text-align: right;\n",
       "  white-space: pre-wrap;\n",
       "}\n",
       "</style>\n",
       "<small>shape: (1_698_818, 27)</small><table border=\"1\" class=\"dataframe\"><thead><tr><th>carrier</th><th>flt_num</th><th>flt_departure_dt</th><th>observation_date</th><th>total_fare</th><th>days_till_flight</th><th>is_dst</th><th>route_id</th><th>flt_departure_local_time</th><th>flt_arrival_local_time</th><th>dur_min</th><th>tz_min</th><th>over_mn</th><th>dpt_4h_od</th><th>flt_count_dpt_24h</th><th>flt_count_dpt_4h</th><th>scaled_demand</th><th>scaled_share</th><th>origin_id</th><th>destination_id</th><th>flt_info_null</th><th>base_fare</th><th>log_fare</th><th>scaled_fare</th><th>7d_route_avg</th><th>14d_route_avg</th><th>7d_route_carrier_avg</th></tr><tr><td>str</td><td>i64</td><td>date</td><td>date</td><td>i64</td><td>i16</td><td>i8</td><td>u8</td><td>datetime[ns]</td><td>datetime[ns]</td><td>i16</td><td>i16</td><td>i8</td><td>i8</td><td>u8</td><td>u8</td><td>i64</td><td>i64</td><td>u8</td><td>u8</td><td>u8</td><td>f64</td><td>f64</td><td>f64</td><td>f64</td><td>f64</td><td>f64</td></tr></thead><tbody><tr><td>&quot;L2&quot;</td><td>5242</td><td>2018-01-01</td><td>2017-11-27</td><td>846</td><td>35</td><td>0</td><td>4</td><td>2018-01-01 10:49:00</td><td>2018-01-01 12:14:00</td><td>85</td><td>-480</td><td>0</td><td>2</td><td>30</td><td>5</td><td>6659</td><td>212</td><td>3</td><td>4</td><td>0</td><td>2.67539</td><td>2.92737</td><td>0.0942</td><td>1.0</td><td>1.0</td><td>1.0</td></tr><tr><td>&quot;OTH&quot;</td><td>4790</td><td>2018-01-01</td><td>2017-11-27</td><td>937</td><td>35</td><td>0</td><td>4</td><td>2018-01-01 14:57:00</td><td>2018-01-01 16:17:00</td><td>80</td><td>-480</td><td>0</td><td>3</td><td>30</td><td>8</td><td>6659</td><td>316</td><td>3</td><td>4</td><td>0</td><td>2.624987</td><td>2.97174</td><td>0.1321</td><td>1.0</td><td>1.0</td><td>1.0</td></tr><tr><td>&quot;OTH&quot;</td><td>4837</td><td>2018-01-01</td><td>2017-11-27</td><td>281</td><td>35</td><td>0</td><td>6</td><td>2018-01-01 19:38:00</td><td>2018-01-01 20:43:00</td><td>65</td><td>-480</td><td>0</td><td>4</td><td>30</td><td>7</td><td>6659</td><td>316</td><td>4</td><td>3</td><td>0</td><td>2.611628</td><td>2.448706</td><td>-0.0624</td><td>1.0</td><td>1.0</td><td>1.0</td></tr><tr><td>&quot;L2&quot;</td><td>5314</td><td>2018-01-01</td><td>2017-11-27</td><td>403</td><td>35</td><td>0</td><td>6</td><td>2018-01-01 19:05:00</td><td>2018-01-01 20:17:00</td><td>72</td><td>-480</td><td>0</td><td>4</td><td>30</td><td>7</td><td>6659</td><td>213</td><td>4</td><td>3</td><td>0</td><td>2.660966</td><td>2.605305</td><td>-0.0209</td><td>1.0</td><td>1.0</td><td>1.0</td></tr><tr><td>&quot;OTH&quot;</td><td>6187</td><td>2018-01-01</td><td>2017-11-27</td><td>341</td><td>35</td><td>0</td><td>11</td><td>2018-01-01 20:30:00</td><td>2018-01-01 21:58:00</td><td>88</td><td>-480</td><td>0</td><td>5</td><td>21</td><td>5</td><td>6579</td><td>354</td><td>7</td><td>3</td><td>0</td><td>2.72979</td><td>2.532754</td><td>-0.0722</td><td>1.0</td><td>1.0</td><td>1.0</td></tr><tr><td>&quot;U1&quot;</td><td>4771</td><td>2018-01-01</td><td>2017-11-27</td><td>513</td><td>35</td><td>0</td><td>4</td><td>null</td><td>null</td><td>null</td><td>null</td><td>null</td><td>null</td><td>null</td><td>null</td><td>null</td><td>null</td><td>3</td><td>4</td><td>1</td><td>2.637462</td><td>2.710117</td><td>0.0275</td><td>1.0</td><td>1.0</td><td>1.0</td></tr><tr><td>&quot;L3&quot;</td><td>15130</td><td>2018-01-01</td><td>2017-11-27</td><td>1298</td><td>35</td><td>0</td><td>4</td><td>2018-01-01 16:53:00</td><td>2018-01-01 18:19:00</td><td>86</td><td>-480</td><td>0</td><td>4</td><td>30</td><td>7</td><td>6659</td><td>231</td><td>3</td><td>4</td><td>0</td><td>2.7672</td><td>3.113275</td><td>0.1251</td><td>1.0</td><td>1.0</td><td>1.0</td></tr><tr><td>&quot;L1&quot;</td><td>1396</td><td>2018-01-01</td><td>2017-11-27</td><td>372</td><td>35</td><td>0</td><td>11</td><td>2018-01-01 19:35:00</td><td>2018-01-01 21:08:00</td><td>93</td><td>-480</td><td>0</td><td>4</td><td>21</td><td>7</td><td>6579</td><td>262</td><td>7</td><td>3</td><td>0</td><td>2.767913</td><td>2.570543</td><td>-0.0713</td><td>1.0</td><td>1.0</td><td>1.0</td></tr><tr><td>&quot;L1&quot;</td><td>6316</td><td>2018-01-01</td><td>2017-11-27</td><td>1119</td><td>35</td><td>0</td><td>1</td><td>2018-01-01 12:31:00</td><td>2018-01-01 15:55:00</td><td>204</td><td>-300</td><td>0</td><td>3</td><td>5</td><td>2</td><td>1468</td><td>360</td><td>1</td><td>5</td><td>0</td><td>2.98998</td><td>3.04883</td><td>0.0197</td><td>1.0</td><td>1.0</td><td>1.0</td></tr><tr><td>&quot;L1&quot;</td><td>4605</td><td>2018-01-01</td><td>2017-11-27</td><td>372</td><td>35</td><td>0</td><td>11</td><td>2018-01-01 17:18:00</td><td>2018-01-01 18:57:00</td><td>99</td><td>-480</td><td>0</td><td>4</td><td>21</td><td>7</td><td>6579</td><td>262</td><td>7</td><td>3</td><td>0</td><td>2.767913</td><td>2.570543</td><td>-0.0713</td><td>1.0</td><td>1.0</td><td>1.0</td></tr><tr><td>&hellip;</td><td>&hellip;</td><td>&hellip;</td><td>&hellip;</td><td>&hellip;</td><td>&hellip;</td><td>&hellip;</td><td>&hellip;</td><td>&hellip;</td><td>&hellip;</td><td>&hellip;</td><td>&hellip;</td><td>&hellip;</td><td>&hellip;</td><td>&hellip;</td><td>&hellip;</td><td>&hellip;</td><td>&hellip;</td><td>&hellip;</td><td>&hellip;</td><td>&hellip;</td><td>&hellip;</td><td>&hellip;</td><td>&hellip;</td><td>&hellip;</td><td>&hellip;</td><td>&hellip;</td></tr><tr><td>&quot;U1&quot;</td><td>6175</td><td>2018-12-31</td><td>2018-12-31</td><td>1111</td><td>0</td><td>0</td><td>11</td><td>2018-12-31 21:30:00</td><td>2018-12-31 23:04:00</td><td>94</td><td>-480</td><td>0</td><td>5</td><td>21</td><td>3</td><td>5817</td><td>253</td><td>7</td><td>3</td><td>0</td><td>2.758985</td><td>3.045714</td><td>0.1039</td><td>1.382878</td><td>0.797465</td><td>1.343175</td></tr><tr><td>&quot;L1&quot;</td><td>2149</td><td>2018-12-31</td><td>2018-12-31</td><td>2037</td><td>0</td><td>0</td><td>3</td><td>2018-12-31 01:05:00</td><td>2018-12-31 05:59:00</td><td>294</td><td>-480</td><td>0</td><td>0</td><td>7</td><td>1</td><td>2790</td><td>405</td><td>3</td><td>2</td><td>0</td><td>2.967345</td><td>3.308991</td><td>0.1151</td><td>0.73871</td><td>1.239921</td><td>0.681094</td></tr><tr><td>&quot;L2&quot;</td><td>7465</td><td>2018-12-31</td><td>2018-12-31</td><td>1202</td><td>0</td><td>0</td><td>9</td><td>2018-12-31 08:04:00</td><td>2018-12-31 10:49:00</td><td>165</td><td>-360</td><td>0</td><td>2</td><td>5</td><td>2</td><td>1618</td><td>310</td><td>5</td><td>6</td><td>0</td><td>2.944702</td><td>3.079904</td><td>0.0459</td><td>0.770197</td><td>0.87875</td><td>0.818119</td></tr><tr><td>&quot;L1&quot;</td><td>2724</td><td>2018-12-31</td><td>2018-12-31</td><td>3519</td><td>0</td><td>0</td><td>8</td><td>2018-12-31 06:00:00</td><td>2018-12-31 10:29:00</td><td>269</td><td>-360</td><td>0</td><td>1</td><td>4</td><td>2</td><td>2164</td><td>373</td><td>5</td><td>1</td><td>0</td><td>3.016892</td><td>3.546419</td><td>0.1755</td><td>0.644441</td><td>0.59271</td><td>0.644441</td></tr><tr><td>&quot;U1&quot;</td><td>4771</td><td>2018-12-31</td><td>2018-12-31</td><td>768</td><td>0</td><td>0</td><td>4</td><td>2018-12-31 08:15:00</td><td>2018-12-31 09:32:00</td><td>77</td><td>-480</td><td>0</td><td>2</td><td>30</td><td>6</td><td>7128</td><td>193</td><td>3</td><td>4</td><td>0</td><td>2.637462</td><td>2.885361</td><td>0.094</td><td>2.014956</td><td>1.65271</td><td>0.823452</td></tr><tr><td>&quot;L1&quot;</td><td>2777</td><td>2018-12-31</td><td>2018-12-31</td><td>1111</td><td>0</td><td>0</td><td>5</td><td>2018-12-31 07:34:00</td><td>2018-12-31 09:15:00</td><td>101</td><td>-480</td><td>0</td><td>1</td><td>21</td><td>4</td><td>5817</td><td>294</td><td>3</td><td>7</td><td>0</td><td>2.794683</td><td>3.045714</td><td>0.0898</td><td>0.761261</td><td>0.832066</td><td>0.735937</td></tr><tr><td>&quot;L1&quot;</td><td>5663</td><td>2018-12-31</td><td>2018-12-31</td><td>2037</td><td>0</td><td>0</td><td>3</td><td>2018-12-31 12:20:00</td><td>2018-12-31 17:09:00</td><td>289</td><td>-480</td><td>0</td><td>3</td><td>7</td><td>2</td><td>2790</td><td>405</td><td>3</td><td>2</td><td>0</td><td>2.967345</td><td>3.308991</td><td>0.1151</td><td>0.73871</td><td>1.239921</td><td>0.681094</td></tr><tr><td>&quot;L2&quot;</td><td>7067</td><td>2018-12-31</td><td>2018-12-31</td><td>1202</td><td>0</td><td>0</td><td>9</td><td>2018-12-31 13:17:00</td><td>2018-12-31 16:00:00</td><td>163</td><td>-360</td><td>0</td><td>3</td><td>5</td><td>2</td><td>1618</td><td>310</td><td>5</td><td>6</td><td>0</td><td>2.944702</td><td>3.079904</td><td>0.0459</td><td>0.770197</td><td>0.87875</td><td>0.818119</td></tr><tr><td>&quot;L1&quot;</td><td>7431</td><td>2018-12-31</td><td>2018-12-31</td><td>1346</td><td>0</td><td>0</td><td>1</td><td>2018-12-31 07:00:00</td><td>2018-12-31 10:11:00</td><td>191</td><td>-300</td><td>0</td><td>1</td><td>4</td><td>1</td><td>2164</td><td>373</td><td>1</td><td>5</td><td>0</td><td>2.98998</td><td>3.129045</td><td>0.0465</td><td>1.192609</td><td>0.64629</td><td>1.192609</td></tr><tr><td>&quot;L2&quot;</td><td>7220</td><td>2018-12-31</td><td>2018-12-31</td><td>768</td><td>0</td><td>0</td><td>6</td><td>2018-12-31 10:15:00</td><td>2018-12-31 11:28:00</td><td>73</td><td>-480</td><td>0</td><td>2</td><td>30</td><td>8</td><td>7128</td><td>224</td><td>4</td><td>3</td><td>0</td><td>2.660966</td><td>2.885361</td><td>0.0843</td><td>2.367071</td><td>1.420487</td><td>1.121392</td></tr></tbody></table></div>"
      ],
      "text/plain": [
       "shape: (1_698_818, 27)\n",
       "┌─────────┬─────────┬────────────┬────────────┬───┬────────────┬───────────┬───────────┬───────────┐\n",
       "│ carrier ┆ flt_num ┆ flt_depart ┆ observatio ┆ … ┆ scaled_far ┆ 7d_route_ ┆ 14d_route ┆ 7d_route_ │\n",
       "│ ---     ┆ ---     ┆ ure_dt     ┆ n_date     ┆   ┆ e          ┆ avg       ┆ _avg      ┆ carrier_a │\n",
       "│ str     ┆ i64     ┆ ---        ┆ ---        ┆   ┆ ---        ┆ ---       ┆ ---       ┆ vg        │\n",
       "│         ┆         ┆ date       ┆ date       ┆   ┆ f64        ┆ f64       ┆ f64       ┆ ---       │\n",
       "│         ┆         ┆            ┆            ┆   ┆            ┆           ┆           ┆ f64       │\n",
       "╞═════════╪═════════╪════════════╪════════════╪═══╪════════════╪═══════════╪═══════════╪═══════════╡\n",
       "│ L2      ┆ 5242    ┆ 2018-01-01 ┆ 2017-11-27 ┆ … ┆ 0.0942     ┆ 1.0       ┆ 1.0       ┆ 1.0       │\n",
       "│ OTH     ┆ 4790    ┆ 2018-01-01 ┆ 2017-11-27 ┆ … ┆ 0.1321     ┆ 1.0       ┆ 1.0       ┆ 1.0       │\n",
       "│ OTH     ┆ 4837    ┆ 2018-01-01 ┆ 2017-11-27 ┆ … ┆ -0.0624    ┆ 1.0       ┆ 1.0       ┆ 1.0       │\n",
       "│ L2      ┆ 5314    ┆ 2018-01-01 ┆ 2017-11-27 ┆ … ┆ -0.0209    ┆ 1.0       ┆ 1.0       ┆ 1.0       │\n",
       "│ OTH     ┆ 6187    ┆ 2018-01-01 ┆ 2017-11-27 ┆ … ┆ -0.0722    ┆ 1.0       ┆ 1.0       ┆ 1.0       │\n",
       "│ U1      ┆ 4771    ┆ 2018-01-01 ┆ 2017-11-27 ┆ … ┆ 0.0275     ┆ 1.0       ┆ 1.0       ┆ 1.0       │\n",
       "│ L3      ┆ 15130   ┆ 2018-01-01 ┆ 2017-11-27 ┆ … ┆ 0.1251     ┆ 1.0       ┆ 1.0       ┆ 1.0       │\n",
       "│ L1      ┆ 1396    ┆ 2018-01-01 ┆ 2017-11-27 ┆ … ┆ -0.0713    ┆ 1.0       ┆ 1.0       ┆ 1.0       │\n",
       "│ L1      ┆ 6316    ┆ 2018-01-01 ┆ 2017-11-27 ┆ … ┆ 0.0197     ┆ 1.0       ┆ 1.0       ┆ 1.0       │\n",
       "│ L1      ┆ 4605    ┆ 2018-01-01 ┆ 2017-11-27 ┆ … ┆ -0.0713    ┆ 1.0       ┆ 1.0       ┆ 1.0       │\n",
       "│ …       ┆ …       ┆ …          ┆ …          ┆ … ┆ …          ┆ …         ┆ …         ┆ …         │\n",
       "│ U1      ┆ 6175    ┆ 2018-12-31 ┆ 2018-12-31 ┆ … ┆ 0.1039     ┆ 1.382878  ┆ 0.797465  ┆ 1.343175  │\n",
       "│ L1      ┆ 2149    ┆ 2018-12-31 ┆ 2018-12-31 ┆ … ┆ 0.1151     ┆ 0.73871   ┆ 1.239921  ┆ 0.681094  │\n",
       "│ L2      ┆ 7465    ┆ 2018-12-31 ┆ 2018-12-31 ┆ … ┆ 0.0459     ┆ 0.770197  ┆ 0.87875   ┆ 0.818119  │\n",
       "│ L1      ┆ 2724    ┆ 2018-12-31 ┆ 2018-12-31 ┆ … ┆ 0.1755     ┆ 0.644441  ┆ 0.59271   ┆ 0.644441  │\n",
       "│ U1      ┆ 4771    ┆ 2018-12-31 ┆ 2018-12-31 ┆ … ┆ 0.094      ┆ 2.014956  ┆ 1.65271   ┆ 0.823452  │\n",
       "│ L1      ┆ 2777    ┆ 2018-12-31 ┆ 2018-12-31 ┆ … ┆ 0.0898     ┆ 0.761261  ┆ 0.832066  ┆ 0.735937  │\n",
       "│ L1      ┆ 5663    ┆ 2018-12-31 ┆ 2018-12-31 ┆ … ┆ 0.1151     ┆ 0.73871   ┆ 1.239921  ┆ 0.681094  │\n",
       "│ L2      ┆ 7067    ┆ 2018-12-31 ┆ 2018-12-31 ┆ … ┆ 0.0459     ┆ 0.770197  ┆ 0.87875   ┆ 0.818119  │\n",
       "│ L1      ┆ 7431    ┆ 2018-12-31 ┆ 2018-12-31 ┆ … ┆ 0.0465     ┆ 1.192609  ┆ 0.64629   ┆ 1.192609  │\n",
       "│ L2      ┆ 7220    ┆ 2018-12-31 ┆ 2018-12-31 ┆ … ┆ 0.0843     ┆ 2.367071  ┆ 1.420487  ┆ 1.121392  │\n",
       "└─────────┴─────────┴────────────┴────────────┴───┴────────────┴───────────┴───────────┴───────────┘"
      ]
     },
     "execution_count": 19,
     "metadata": {},
     "output_type": "execute_result"
    }
   ],
   "source": [
    "train_df = train_df.join(\n",
    "    route_week_ago_fare,\n",
    "    on = ['route_id', 'flt_departure_dt'],\n",
    "    how = 'left'\n",
    ").join(\n",
    "    route_2week_ago_fare,\n",
    "    on = ['route_id', 'flt_departure_dt'],\n",
    "    how = 'left'\n",
    ").join(\n",
    "    route_carrier_week_ago_fare,\n",
    "    on = ['route_id', 'flt_departure_dt', 'carrier'],\n",
    "    how = 'left'\n",
    ").with_columns(\n",
    "    pl.col('7d_route_avg').fill_null(1),\n",
    "    pl.col('14d_route_avg').fill_null(1),\n",
    "    pl.col('7d_route_carrier_avg').fill_null(1)\n",
    ")\n",
    "\n",
    "train_df"
   ]
  },
  {
   "cell_type": "code",
   "execution_count": 20,
   "metadata": {},
   "outputs": [
    {
     "data": {
      "text/html": [
       "<div><style>\n",
       ".dataframe > thead > tr,\n",
       ".dataframe > tbody > tr {\n",
       "  text-align: right;\n",
       "  white-space: pre-wrap;\n",
       "}\n",
       "</style>\n",
       "<small>shape: (29_825, 24)</small><table border=\"1\" class=\"dataframe\"><thead><tr><th>carrier</th><th>flt_num</th><th>flt_departure_dt</th><th>observation_date</th><th>days_till_flight</th><th>is_dst</th><th>route_id</th><th>flt_departure_local_time</th><th>flt_arrival_local_time</th><th>dur_min</th><th>tz_min</th><th>over_mn</th><th>dpt_4h_od</th><th>flt_count_dpt_24h</th><th>flt_count_dpt_4h</th><th>scaled_demand</th><th>scaled_share</th><th>origin_id</th><th>destination_id</th><th>flt_info_null</th><th>base_fare</th><th>7d_route_avg</th><th>14d_route_avg</th><th>7d_route_carrier_avg</th></tr><tr><td>str</td><td>i64</td><td>date</td><td>date</td><td>i16</td><td>i8</td><td>u8</td><td>datetime[ns]</td><td>datetime[ns]</td><td>i16</td><td>i16</td><td>i8</td><td>i8</td><td>u8</td><td>u8</td><td>i64</td><td>i64</td><td>u8</td><td>u8</td><td>u8</td><td>f64</td><td>f64</td><td>f64</td><td>f64</td></tr></thead><tbody><tr><td>&quot;L2&quot;</td><td>7465</td><td>2019-01-01</td><td>2018-11-27</td><td>35</td><td>0</td><td>9</td><td>2019-01-01 08:04:00</td><td>2019-01-01 10:49:00</td><td>165</td><td>-360</td><td>0</td><td>2</td><td>7</td><td>2</td><td>null</td><td>null</td><td>5</td><td>6</td><td>0</td><td>2.944702</td><td>0.824263</td><td>0.877499</td><td>0.759055</td></tr><tr><td>&quot;L2&quot;</td><td>7067</td><td>2019-01-01</td><td>2018-11-27</td><td>35</td><td>0</td><td>9</td><td>2019-01-01 13:17:00</td><td>2019-01-01 16:00:00</td><td>163</td><td>-360</td><td>0</td><td>3</td><td>7</td><td>2</td><td>null</td><td>null</td><td>5</td><td>6</td><td>0</td><td>2.944702</td><td>0.824263</td><td>0.877499</td><td>0.759055</td></tr><tr><td>&quot;L2&quot;</td><td>1232</td><td>2019-01-01</td><td>2018-11-27</td><td>35</td><td>0</td><td>9</td><td>2019-01-01 18:40:00</td><td>2019-01-01 21:25:00</td><td>165</td><td>-360</td><td>0</td><td>4</td><td>7</td><td>2</td><td>null</td><td>null</td><td>5</td><td>6</td><td>0</td><td>2.944702</td><td>0.824263</td><td>0.877499</td><td>0.759055</td></tr><tr><td>&quot;U3&quot;</td><td>752</td><td>2019-01-01</td><td>2018-11-27</td><td>35</td><td>0</td><td>7</td><td>2019-01-01 08:45:00</td><td>2019-01-01 10:07:00</td><td>82</td><td>-360</td><td>0</td><td>2</td><td>9</td><td>3</td><td>null</td><td>null</td><td>5</td><td>0</td><td>0</td><td>2.725651</td><td>1.384941</td><td>0.73477</td><td>1.165811</td></tr><tr><td>&quot;L1&quot;</td><td>5135</td><td>2019-01-01</td><td>2018-11-27</td><td>35</td><td>0</td><td>7</td><td>2019-01-01 07:25:00</td><td>2019-01-01 08:42:00</td><td>77</td><td>-360</td><td>0</td><td>1</td><td>9</td><td>2</td><td>null</td><td>null</td><td>5</td><td>0</td><td>0</td><td>2.863554</td><td>1.384941</td><td>0.73477</td><td>1.428838</td></tr><tr><td>&quot;L1&quot;</td><td>10966</td><td>2019-01-01</td><td>2018-11-27</td><td>35</td><td>0</td><td>7</td><td>2019-01-01 11:54:00</td><td>2019-01-01 13:18:00</td><td>84</td><td>-360</td><td>0</td><td>2</td><td>9</td><td>3</td><td>null</td><td>null</td><td>5</td><td>0</td><td>0</td><td>2.863554</td><td>1.384941</td><td>0.73477</td><td>1.428838</td></tr><tr><td>&quot;L1&quot;</td><td>2181</td><td>2019-01-01</td><td>2018-11-27</td><td>35</td><td>0</td><td>7</td><td>2019-01-01 15:34:00</td><td>2019-01-01 16:51:00</td><td>77</td><td>-360</td><td>0</td><td>3</td><td>9</td><td>2</td><td>null</td><td>null</td><td>5</td><td>0</td><td>0</td><td>2.863554</td><td>1.384941</td><td>0.73477</td><td>1.428838</td></tr><tr><td>&quot;L1&quot;</td><td>2724</td><td>2019-01-01</td><td>2018-11-27</td><td>35</td><td>0</td><td>8</td><td>2019-01-01 06:00:00</td><td>2019-01-01 10:30:00</td><td>270</td><td>-360</td><td>0</td><td>1</td><td>5</td><td>2</td><td>null</td><td>null</td><td>5</td><td>1</td><td>0</td><td>3.016892</td><td>0.766536</td><td>0.587293</td><td>0.766536</td></tr><tr><td>&quot;L3&quot;</td><td>18075</td><td>2019-01-01</td><td>2018-11-27</td><td>35</td><td>0</td><td>4</td><td>2019-01-01 15:10:00</td><td>2019-01-01 16:30:00</td><td>80</td><td>-480</td><td>0</td><td>3</td><td>32</td><td>9</td><td>null</td><td>null</td><td>3</td><td>4</td><td>0</td><td>2.7672</td><td>1.969383</td><td>1.372765</td><td>1.385398</td></tr><tr><td>&quot;L1&quot;</td><td>6241</td><td>2019-01-01</td><td>2018-11-27</td><td>35</td><td>0</td><td>10</td><td>2019-01-01 13:30:00</td><td>2019-01-01 16:24:00</td><td>174</td><td>-360</td><td>0</td><td>3</td><td>6</td><td>3</td><td>null</td><td>null</td><td>6</td><td>5</td><td>0</td><td>3.001438</td><td>1.139574</td><td>0.827263</td><td>1.369531</td></tr><tr><td>&hellip;</td><td>&hellip;</td><td>&hellip;</td><td>&hellip;</td><td>&hellip;</td><td>&hellip;</td><td>&hellip;</td><td>&hellip;</td><td>&hellip;</td><td>&hellip;</td><td>&hellip;</td><td>&hellip;</td><td>&hellip;</td><td>&hellip;</td><td>&hellip;</td><td>&hellip;</td><td>&hellip;</td><td>&hellip;</td><td>&hellip;</td><td>&hellip;</td><td>&hellip;</td><td>&hellip;</td><td>&hellip;</td><td>&hellip;</td></tr><tr><td>&quot;L3&quot;</td><td>8432</td><td>2019-01-07</td><td>2018-12-31</td><td>7</td><td>0</td><td>4</td><td>2019-01-07 18:05:00</td><td>2019-01-07 19:20:00</td><td>75</td><td>-480</td><td>0</td><td>4</td><td>46</td><td>13</td><td>null</td><td>null</td><td>3</td><td>4</td><td>0</td><td>2.7672</td><td>2.678017</td><td>2.014956</td><td>2.210787</td></tr><tr><td>&quot;L1&quot;</td><td>1575</td><td>2019-01-07</td><td>2018-12-31</td><td>7</td><td>0</td><td>5</td><td>2019-01-07 11:01:00</td><td>2019-01-07 12:49:00</td><td>108</td><td>-480</td><td>0</td><td>2</td><td>27</td><td>3</td><td>null</td><td>null</td><td>3</td><td>7</td><td>0</td><td>2.794683</td><td>1.058388</td><td>0.761261</td><td>1.097198</td></tr><tr><td>&quot;OTH&quot;</td><td>2294</td><td>2019-01-07</td><td>2018-12-31</td><td>7</td><td>0</td><td>3</td><td>2019-01-07 11:59:00</td><td>2019-01-07 16:57:00</td><td>298</td><td>-480</td><td>0</td><td>2</td><td>9</td><td>2</td><td>null</td><td>null</td><td>3</td><td>2</td><td>0</td><td>2.768284</td><td>0.925991</td><td>0.73871</td><td>1.063294</td></tr><tr><td>&quot;L3&quot;</td><td>8696</td><td>2019-01-07</td><td>2018-12-31</td><td>7</td><td>0</td><td>4</td><td>2019-01-07 20:00:00</td><td>2019-01-07 21:11:00</td><td>71</td><td>-480</td><td>0</td><td>5</td><td>46</td><td>6</td><td>null</td><td>null</td><td>3</td><td>4</td><td>0</td><td>2.7672</td><td>2.678017</td><td>2.014956</td><td>2.210787</td></tr><tr><td>&quot;L3&quot;</td><td>2539</td><td>2019-01-07</td><td>2018-12-31</td><td>7</td><td>0</td><td>4</td><td>2019-01-07 18:50:00</td><td>2019-01-07 19:55:00</td><td>65</td><td>-480</td><td>0</td><td>4</td><td>46</td><td>13</td><td>null</td><td>null</td><td>3</td><td>4</td><td>0</td><td>2.7672</td><td>2.678017</td><td>2.014956</td><td>2.210787</td></tr><tr><td>&quot;OTH&quot;</td><td>5292</td><td>2019-01-07</td><td>2018-12-31</td><td>7</td><td>0</td><td>6</td><td>null</td><td>null</td><td>null</td><td>null</td><td>null</td><td>null</td><td>null</td><td>null</td><td>null</td><td>null</td><td>4</td><td>3</td><td>1</td><td>2.611628</td><td>2.371568</td><td>2.367071</td><td>6.918146</td></tr><tr><td>&quot;OTH&quot;</td><td>6413</td><td>2019-01-07</td><td>2018-12-31</td><td>7</td><td>0</td><td>6</td><td>null</td><td>null</td><td>null</td><td>null</td><td>null</td><td>null</td><td>null</td><td>null</td><td>null</td><td>null</td><td>4</td><td>3</td><td>1</td><td>2.611628</td><td>2.371568</td><td>2.367071</td><td>6.918146</td></tr><tr><td>&quot;L1&quot;</td><td>1484</td><td>2019-01-07</td><td>2018-12-31</td><td>7</td><td>0</td><td>0</td><td>2019-01-07 11:06:00</td><td>2019-01-07 14:17:00</td><td>191</td><td>-420</td><td>0</td><td>2</td><td>9</td><td>3</td><td>null</td><td>null</td><td>0</td><td>5</td><td>0</td><td>2.871843</td><td>1.359619</td><td>0.836916</td><td>1.406209</td></tr><tr><td>&quot;L1&quot;</td><td>18471</td><td>2019-01-07</td><td>2018-12-31</td><td>7</td><td>0</td><td>0</td><td>2019-01-07 14:45:00</td><td>2019-01-07 17:59:00</td><td>194</td><td>-420</td><td>0</td><td>3</td><td>9</td><td>2</td><td>null</td><td>null</td><td>0</td><td>5</td><td>0</td><td>2.871843</td><td>1.359619</td><td>0.836916</td><td>1.406209</td></tr><tr><td>&quot;L1&quot;</td><td>1487</td><td>2019-01-07</td><td>2018-12-31</td><td>7</td><td>0</td><td>0</td><td>2019-01-07 17:46:00</td><td>2019-01-07 20:57:00</td><td>191</td><td>-420</td><td>0</td><td>4</td><td>9</td><td>2</td><td>null</td><td>null</td><td>0</td><td>5</td><td>0</td><td>2.871843</td><td>1.359619</td><td>0.836916</td><td>1.406209</td></tr></tbody></table></div>"
      ],
      "text/plain": [
       "shape: (29_825, 24)\n",
       "┌─────────┬─────────┬────────────┬────────────┬───┬───────────┬────────────┬───────────┬───────────┐\n",
       "│ carrier ┆ flt_num ┆ flt_depart ┆ observatio ┆ … ┆ base_fare ┆ 7d_route_a ┆ 14d_route ┆ 7d_route_ │\n",
       "│ ---     ┆ ---     ┆ ure_dt     ┆ n_date     ┆   ┆ ---       ┆ vg         ┆ _avg      ┆ carrier_a │\n",
       "│ str     ┆ i64     ┆ ---        ┆ ---        ┆   ┆ f64       ┆ ---        ┆ ---       ┆ vg        │\n",
       "│         ┆         ┆ date       ┆ date       ┆   ┆           ┆ f64        ┆ f64       ┆ ---       │\n",
       "│         ┆         ┆            ┆            ┆   ┆           ┆            ┆           ┆ f64       │\n",
       "╞═════════╪═════════╪════════════╪════════════╪═══╪═══════════╪════════════╪═══════════╪═══════════╡\n",
       "│ L2      ┆ 7465    ┆ 2019-01-01 ┆ 2018-11-27 ┆ … ┆ 2.944702  ┆ 0.824263   ┆ 0.877499  ┆ 0.759055  │\n",
       "│ L2      ┆ 7067    ┆ 2019-01-01 ┆ 2018-11-27 ┆ … ┆ 2.944702  ┆ 0.824263   ┆ 0.877499  ┆ 0.759055  │\n",
       "│ L2      ┆ 1232    ┆ 2019-01-01 ┆ 2018-11-27 ┆ … ┆ 2.944702  ┆ 0.824263   ┆ 0.877499  ┆ 0.759055  │\n",
       "│ U3      ┆ 752     ┆ 2019-01-01 ┆ 2018-11-27 ┆ … ┆ 2.725651  ┆ 1.384941   ┆ 0.73477   ┆ 1.165811  │\n",
       "│ L1      ┆ 5135    ┆ 2019-01-01 ┆ 2018-11-27 ┆ … ┆ 2.863554  ┆ 1.384941   ┆ 0.73477   ┆ 1.428838  │\n",
       "│ L1      ┆ 10966   ┆ 2019-01-01 ┆ 2018-11-27 ┆ … ┆ 2.863554  ┆ 1.384941   ┆ 0.73477   ┆ 1.428838  │\n",
       "│ L1      ┆ 2181    ┆ 2019-01-01 ┆ 2018-11-27 ┆ … ┆ 2.863554  ┆ 1.384941   ┆ 0.73477   ┆ 1.428838  │\n",
       "│ L1      ┆ 2724    ┆ 2019-01-01 ┆ 2018-11-27 ┆ … ┆ 3.016892  ┆ 0.766536   ┆ 0.587293  ┆ 0.766536  │\n",
       "│ L3      ┆ 18075   ┆ 2019-01-01 ┆ 2018-11-27 ┆ … ┆ 2.7672    ┆ 1.969383   ┆ 1.372765  ┆ 1.385398  │\n",
       "│ L1      ┆ 6241    ┆ 2019-01-01 ┆ 2018-11-27 ┆ … ┆ 3.001438  ┆ 1.139574   ┆ 0.827263  ┆ 1.369531  │\n",
       "│ …       ┆ …       ┆ …          ┆ …          ┆ … ┆ …         ┆ …          ┆ …         ┆ …         │\n",
       "│ L3      ┆ 8432    ┆ 2019-01-07 ┆ 2018-12-31 ┆ … ┆ 2.7672    ┆ 2.678017   ┆ 2.014956  ┆ 2.210787  │\n",
       "│ L1      ┆ 1575    ┆ 2019-01-07 ┆ 2018-12-31 ┆ … ┆ 2.794683  ┆ 1.058388   ┆ 0.761261  ┆ 1.097198  │\n",
       "│ OTH     ┆ 2294    ┆ 2019-01-07 ┆ 2018-12-31 ┆ … ┆ 2.768284  ┆ 0.925991   ┆ 0.73871   ┆ 1.063294  │\n",
       "│ L3      ┆ 8696    ┆ 2019-01-07 ┆ 2018-12-31 ┆ … ┆ 2.7672    ┆ 2.678017   ┆ 2.014956  ┆ 2.210787  │\n",
       "│ L3      ┆ 2539    ┆ 2019-01-07 ┆ 2018-12-31 ┆ … ┆ 2.7672    ┆ 2.678017   ┆ 2.014956  ┆ 2.210787  │\n",
       "│ OTH     ┆ 5292    ┆ 2019-01-07 ┆ 2018-12-31 ┆ … ┆ 2.611628  ┆ 2.371568   ┆ 2.367071  ┆ 6.918146  │\n",
       "│ OTH     ┆ 6413    ┆ 2019-01-07 ┆ 2018-12-31 ┆ … ┆ 2.611628  ┆ 2.371568   ┆ 2.367071  ┆ 6.918146  │\n",
       "│ L1      ┆ 1484    ┆ 2019-01-07 ┆ 2018-12-31 ┆ … ┆ 2.871843  ┆ 1.359619   ┆ 0.836916  ┆ 1.406209  │\n",
       "│ L1      ┆ 18471   ┆ 2019-01-07 ┆ 2018-12-31 ┆ … ┆ 2.871843  ┆ 1.359619   ┆ 0.836916  ┆ 1.406209  │\n",
       "│ L1      ┆ 1487    ┆ 2019-01-07 ┆ 2018-12-31 ┆ … ┆ 2.871843  ┆ 1.359619   ┆ 0.836916  ┆ 1.406209  │\n",
       "└─────────┴─────────┴────────────┴────────────┴───┴───────────┴────────────┴───────────┴───────────┘"
      ]
     },
     "execution_count": 20,
     "metadata": {},
     "output_type": "execute_result"
    }
   ],
   "source": [
    "test_df = test_df.join(\n",
    "    route_week_ago_fare,\n",
    "    on = ['route_id', 'flt_departure_dt'],\n",
    "    how = 'left'\n",
    ").join(\n",
    "    route_2week_ago_fare,\n",
    "    on = ['route_id', 'flt_departure_dt'],\n",
    "    how = 'left'\n",
    ").join(\n",
    "    route_carrier_week_ago_fare,\n",
    "    on = ['route_id', 'flt_departure_dt', 'carrier'],\n",
    "    how = 'left'\n",
    ").with_columns(\n",
    "    pl.col('7d_route_avg').fill_null(1),\n",
    "    pl.col('14d_route_avg').fill_null(1),\n",
    "    pl.col('7d_route_carrier_avg').fill_null(1)\n",
    ")\n",
    "\n",
    "test_df"
   ]
  },
  {
   "cell_type": "markdown",
   "metadata": {},
   "source": [
    "#### Days since start"
   ]
  },
  {
   "cell_type": "code",
   "execution_count": 21,
   "metadata": {},
   "outputs": [
    {
     "data": {
      "text/html": [
       "<div><style>\n",
       ".dataframe > thead > tr,\n",
       ".dataframe > tbody > tr {\n",
       "  text-align: right;\n",
       "  white-space: pre-wrap;\n",
       "}\n",
       "</style>\n",
       "<small>shape: (1_698_818, 28)</small><table border=\"1\" class=\"dataframe\"><thead><tr><th>carrier</th><th>flt_num</th><th>flt_departure_dt</th><th>observation_date</th><th>total_fare</th><th>days_till_flight</th><th>is_dst</th><th>route_id</th><th>flt_departure_local_time</th><th>flt_arrival_local_time</th><th>dur_min</th><th>tz_min</th><th>over_mn</th><th>dpt_4h_od</th><th>flt_count_dpt_24h</th><th>flt_count_dpt_4h</th><th>scaled_demand</th><th>scaled_share</th><th>origin_id</th><th>destination_id</th><th>flt_info_null</th><th>base_fare</th><th>log_fare</th><th>scaled_fare</th><th>7d_route_avg</th><th>14d_route_avg</th><th>7d_route_carrier_avg</th><th>days_since_start</th></tr><tr><td>str</td><td>i64</td><td>date</td><td>date</td><td>i64</td><td>i16</td><td>i8</td><td>u8</td><td>datetime[ns]</td><td>datetime[ns]</td><td>i16</td><td>i16</td><td>i8</td><td>i8</td><td>u8</td><td>u8</td><td>i64</td><td>i64</td><td>u8</td><td>u8</td><td>u8</td><td>f64</td><td>f64</td><td>f64</td><td>f64</td><td>f64</td><td>f64</td><td>i64</td></tr></thead><tbody><tr><td>&quot;L2&quot;</td><td>5242</td><td>2018-01-01</td><td>2017-11-27</td><td>846</td><td>35</td><td>0</td><td>4</td><td>2018-01-01 10:49:00</td><td>2018-01-01 12:14:00</td><td>85</td><td>-480</td><td>0</td><td>2</td><td>30</td><td>5</td><td>6659</td><td>212</td><td>3</td><td>4</td><td>0</td><td>2.67539</td><td>2.92737</td><td>0.0942</td><td>1.0</td><td>1.0</td><td>1.0</td><td>0</td></tr><tr><td>&quot;OTH&quot;</td><td>4790</td><td>2018-01-01</td><td>2017-11-27</td><td>937</td><td>35</td><td>0</td><td>4</td><td>2018-01-01 14:57:00</td><td>2018-01-01 16:17:00</td><td>80</td><td>-480</td><td>0</td><td>3</td><td>30</td><td>8</td><td>6659</td><td>316</td><td>3</td><td>4</td><td>0</td><td>2.624987</td><td>2.97174</td><td>0.1321</td><td>1.0</td><td>1.0</td><td>1.0</td><td>0</td></tr><tr><td>&quot;OTH&quot;</td><td>4837</td><td>2018-01-01</td><td>2017-11-27</td><td>281</td><td>35</td><td>0</td><td>6</td><td>2018-01-01 19:38:00</td><td>2018-01-01 20:43:00</td><td>65</td><td>-480</td><td>0</td><td>4</td><td>30</td><td>7</td><td>6659</td><td>316</td><td>4</td><td>3</td><td>0</td><td>2.611628</td><td>2.448706</td><td>-0.0624</td><td>1.0</td><td>1.0</td><td>1.0</td><td>0</td></tr><tr><td>&quot;L2&quot;</td><td>5314</td><td>2018-01-01</td><td>2017-11-27</td><td>403</td><td>35</td><td>0</td><td>6</td><td>2018-01-01 19:05:00</td><td>2018-01-01 20:17:00</td><td>72</td><td>-480</td><td>0</td><td>4</td><td>30</td><td>7</td><td>6659</td><td>213</td><td>4</td><td>3</td><td>0</td><td>2.660966</td><td>2.605305</td><td>-0.0209</td><td>1.0</td><td>1.0</td><td>1.0</td><td>0</td></tr><tr><td>&quot;OTH&quot;</td><td>6187</td><td>2018-01-01</td><td>2017-11-27</td><td>341</td><td>35</td><td>0</td><td>11</td><td>2018-01-01 20:30:00</td><td>2018-01-01 21:58:00</td><td>88</td><td>-480</td><td>0</td><td>5</td><td>21</td><td>5</td><td>6579</td><td>354</td><td>7</td><td>3</td><td>0</td><td>2.72979</td><td>2.532754</td><td>-0.0722</td><td>1.0</td><td>1.0</td><td>1.0</td><td>0</td></tr><tr><td>&quot;U1&quot;</td><td>4771</td><td>2018-01-01</td><td>2017-11-27</td><td>513</td><td>35</td><td>0</td><td>4</td><td>null</td><td>null</td><td>null</td><td>null</td><td>null</td><td>null</td><td>null</td><td>null</td><td>null</td><td>null</td><td>3</td><td>4</td><td>1</td><td>2.637462</td><td>2.710117</td><td>0.0275</td><td>1.0</td><td>1.0</td><td>1.0</td><td>0</td></tr><tr><td>&quot;L3&quot;</td><td>15130</td><td>2018-01-01</td><td>2017-11-27</td><td>1298</td><td>35</td><td>0</td><td>4</td><td>2018-01-01 16:53:00</td><td>2018-01-01 18:19:00</td><td>86</td><td>-480</td><td>0</td><td>4</td><td>30</td><td>7</td><td>6659</td><td>231</td><td>3</td><td>4</td><td>0</td><td>2.7672</td><td>3.113275</td><td>0.1251</td><td>1.0</td><td>1.0</td><td>1.0</td><td>0</td></tr><tr><td>&quot;L1&quot;</td><td>1396</td><td>2018-01-01</td><td>2017-11-27</td><td>372</td><td>35</td><td>0</td><td>11</td><td>2018-01-01 19:35:00</td><td>2018-01-01 21:08:00</td><td>93</td><td>-480</td><td>0</td><td>4</td><td>21</td><td>7</td><td>6579</td><td>262</td><td>7</td><td>3</td><td>0</td><td>2.767913</td><td>2.570543</td><td>-0.0713</td><td>1.0</td><td>1.0</td><td>1.0</td><td>0</td></tr><tr><td>&quot;L1&quot;</td><td>6316</td><td>2018-01-01</td><td>2017-11-27</td><td>1119</td><td>35</td><td>0</td><td>1</td><td>2018-01-01 12:31:00</td><td>2018-01-01 15:55:00</td><td>204</td><td>-300</td><td>0</td><td>3</td><td>5</td><td>2</td><td>1468</td><td>360</td><td>1</td><td>5</td><td>0</td><td>2.98998</td><td>3.04883</td><td>0.0197</td><td>1.0</td><td>1.0</td><td>1.0</td><td>0</td></tr><tr><td>&quot;L1&quot;</td><td>4605</td><td>2018-01-01</td><td>2017-11-27</td><td>372</td><td>35</td><td>0</td><td>11</td><td>2018-01-01 17:18:00</td><td>2018-01-01 18:57:00</td><td>99</td><td>-480</td><td>0</td><td>4</td><td>21</td><td>7</td><td>6579</td><td>262</td><td>7</td><td>3</td><td>0</td><td>2.767913</td><td>2.570543</td><td>-0.0713</td><td>1.0</td><td>1.0</td><td>1.0</td><td>0</td></tr><tr><td>&hellip;</td><td>&hellip;</td><td>&hellip;</td><td>&hellip;</td><td>&hellip;</td><td>&hellip;</td><td>&hellip;</td><td>&hellip;</td><td>&hellip;</td><td>&hellip;</td><td>&hellip;</td><td>&hellip;</td><td>&hellip;</td><td>&hellip;</td><td>&hellip;</td><td>&hellip;</td><td>&hellip;</td><td>&hellip;</td><td>&hellip;</td><td>&hellip;</td><td>&hellip;</td><td>&hellip;</td><td>&hellip;</td><td>&hellip;</td><td>&hellip;</td><td>&hellip;</td><td>&hellip;</td><td>&hellip;</td></tr><tr><td>&quot;U1&quot;</td><td>6175</td><td>2018-12-31</td><td>2018-12-31</td><td>1111</td><td>0</td><td>0</td><td>11</td><td>2018-12-31 21:30:00</td><td>2018-12-31 23:04:00</td><td>94</td><td>-480</td><td>0</td><td>5</td><td>21</td><td>3</td><td>5817</td><td>253</td><td>7</td><td>3</td><td>0</td><td>2.758985</td><td>3.045714</td><td>0.1039</td><td>1.382878</td><td>0.797465</td><td>1.343175</td><td>364</td></tr><tr><td>&quot;L1&quot;</td><td>2149</td><td>2018-12-31</td><td>2018-12-31</td><td>2037</td><td>0</td><td>0</td><td>3</td><td>2018-12-31 01:05:00</td><td>2018-12-31 05:59:00</td><td>294</td><td>-480</td><td>0</td><td>0</td><td>7</td><td>1</td><td>2790</td><td>405</td><td>3</td><td>2</td><td>0</td><td>2.967345</td><td>3.308991</td><td>0.1151</td><td>0.73871</td><td>1.239921</td><td>0.681094</td><td>364</td></tr><tr><td>&quot;L2&quot;</td><td>7465</td><td>2018-12-31</td><td>2018-12-31</td><td>1202</td><td>0</td><td>0</td><td>9</td><td>2018-12-31 08:04:00</td><td>2018-12-31 10:49:00</td><td>165</td><td>-360</td><td>0</td><td>2</td><td>5</td><td>2</td><td>1618</td><td>310</td><td>5</td><td>6</td><td>0</td><td>2.944702</td><td>3.079904</td><td>0.0459</td><td>0.770197</td><td>0.87875</td><td>0.818119</td><td>364</td></tr><tr><td>&quot;L1&quot;</td><td>2724</td><td>2018-12-31</td><td>2018-12-31</td><td>3519</td><td>0</td><td>0</td><td>8</td><td>2018-12-31 06:00:00</td><td>2018-12-31 10:29:00</td><td>269</td><td>-360</td><td>0</td><td>1</td><td>4</td><td>2</td><td>2164</td><td>373</td><td>5</td><td>1</td><td>0</td><td>3.016892</td><td>3.546419</td><td>0.1755</td><td>0.644441</td><td>0.59271</td><td>0.644441</td><td>364</td></tr><tr><td>&quot;U1&quot;</td><td>4771</td><td>2018-12-31</td><td>2018-12-31</td><td>768</td><td>0</td><td>0</td><td>4</td><td>2018-12-31 08:15:00</td><td>2018-12-31 09:32:00</td><td>77</td><td>-480</td><td>0</td><td>2</td><td>30</td><td>6</td><td>7128</td><td>193</td><td>3</td><td>4</td><td>0</td><td>2.637462</td><td>2.885361</td><td>0.094</td><td>2.014956</td><td>1.65271</td><td>0.823452</td><td>364</td></tr><tr><td>&quot;L1&quot;</td><td>2777</td><td>2018-12-31</td><td>2018-12-31</td><td>1111</td><td>0</td><td>0</td><td>5</td><td>2018-12-31 07:34:00</td><td>2018-12-31 09:15:00</td><td>101</td><td>-480</td><td>0</td><td>1</td><td>21</td><td>4</td><td>5817</td><td>294</td><td>3</td><td>7</td><td>0</td><td>2.794683</td><td>3.045714</td><td>0.0898</td><td>0.761261</td><td>0.832066</td><td>0.735937</td><td>364</td></tr><tr><td>&quot;L1&quot;</td><td>5663</td><td>2018-12-31</td><td>2018-12-31</td><td>2037</td><td>0</td><td>0</td><td>3</td><td>2018-12-31 12:20:00</td><td>2018-12-31 17:09:00</td><td>289</td><td>-480</td><td>0</td><td>3</td><td>7</td><td>2</td><td>2790</td><td>405</td><td>3</td><td>2</td><td>0</td><td>2.967345</td><td>3.308991</td><td>0.1151</td><td>0.73871</td><td>1.239921</td><td>0.681094</td><td>364</td></tr><tr><td>&quot;L2&quot;</td><td>7067</td><td>2018-12-31</td><td>2018-12-31</td><td>1202</td><td>0</td><td>0</td><td>9</td><td>2018-12-31 13:17:00</td><td>2018-12-31 16:00:00</td><td>163</td><td>-360</td><td>0</td><td>3</td><td>5</td><td>2</td><td>1618</td><td>310</td><td>5</td><td>6</td><td>0</td><td>2.944702</td><td>3.079904</td><td>0.0459</td><td>0.770197</td><td>0.87875</td><td>0.818119</td><td>364</td></tr><tr><td>&quot;L1&quot;</td><td>7431</td><td>2018-12-31</td><td>2018-12-31</td><td>1346</td><td>0</td><td>0</td><td>1</td><td>2018-12-31 07:00:00</td><td>2018-12-31 10:11:00</td><td>191</td><td>-300</td><td>0</td><td>1</td><td>4</td><td>1</td><td>2164</td><td>373</td><td>1</td><td>5</td><td>0</td><td>2.98998</td><td>3.129045</td><td>0.0465</td><td>1.192609</td><td>0.64629</td><td>1.192609</td><td>364</td></tr><tr><td>&quot;L2&quot;</td><td>7220</td><td>2018-12-31</td><td>2018-12-31</td><td>768</td><td>0</td><td>0</td><td>6</td><td>2018-12-31 10:15:00</td><td>2018-12-31 11:28:00</td><td>73</td><td>-480</td><td>0</td><td>2</td><td>30</td><td>8</td><td>7128</td><td>224</td><td>4</td><td>3</td><td>0</td><td>2.660966</td><td>2.885361</td><td>0.0843</td><td>2.367071</td><td>1.420487</td><td>1.121392</td><td>364</td></tr></tbody></table></div>"
      ],
      "text/plain": [
       "shape: (1_698_818, 28)\n",
       "┌─────────┬─────────┬────────────┬────────────┬───┬────────────┬───────────┬───────────┬───────────┐\n",
       "│ carrier ┆ flt_num ┆ flt_depart ┆ observatio ┆ … ┆ 7d_route_a ┆ 14d_route ┆ 7d_route_ ┆ days_sinc │\n",
       "│ ---     ┆ ---     ┆ ure_dt     ┆ n_date     ┆   ┆ vg         ┆ _avg      ┆ carrier_a ┆ e_start   │\n",
       "│ str     ┆ i64     ┆ ---        ┆ ---        ┆   ┆ ---        ┆ ---       ┆ vg        ┆ ---       │\n",
       "│         ┆         ┆ date       ┆ date       ┆   ┆ f64        ┆ f64       ┆ ---       ┆ i64       │\n",
       "│         ┆         ┆            ┆            ┆   ┆            ┆           ┆ f64       ┆           │\n",
       "╞═════════╪═════════╪════════════╪════════════╪═══╪════════════╪═══════════╪═══════════╪═══════════╡\n",
       "│ L2      ┆ 5242    ┆ 2018-01-01 ┆ 2017-11-27 ┆ … ┆ 1.0        ┆ 1.0       ┆ 1.0       ┆ 0         │\n",
       "│ OTH     ┆ 4790    ┆ 2018-01-01 ┆ 2017-11-27 ┆ … ┆ 1.0        ┆ 1.0       ┆ 1.0       ┆ 0         │\n",
       "│ OTH     ┆ 4837    ┆ 2018-01-01 ┆ 2017-11-27 ┆ … ┆ 1.0        ┆ 1.0       ┆ 1.0       ┆ 0         │\n",
       "│ L2      ┆ 5314    ┆ 2018-01-01 ┆ 2017-11-27 ┆ … ┆ 1.0        ┆ 1.0       ┆ 1.0       ┆ 0         │\n",
       "│ OTH     ┆ 6187    ┆ 2018-01-01 ┆ 2017-11-27 ┆ … ┆ 1.0        ┆ 1.0       ┆ 1.0       ┆ 0         │\n",
       "│ U1      ┆ 4771    ┆ 2018-01-01 ┆ 2017-11-27 ┆ … ┆ 1.0        ┆ 1.0       ┆ 1.0       ┆ 0         │\n",
       "│ L3      ┆ 15130   ┆ 2018-01-01 ┆ 2017-11-27 ┆ … ┆ 1.0        ┆ 1.0       ┆ 1.0       ┆ 0         │\n",
       "│ L1      ┆ 1396    ┆ 2018-01-01 ┆ 2017-11-27 ┆ … ┆ 1.0        ┆ 1.0       ┆ 1.0       ┆ 0         │\n",
       "│ L1      ┆ 6316    ┆ 2018-01-01 ┆ 2017-11-27 ┆ … ┆ 1.0        ┆ 1.0       ┆ 1.0       ┆ 0         │\n",
       "│ L1      ┆ 4605    ┆ 2018-01-01 ┆ 2017-11-27 ┆ … ┆ 1.0        ┆ 1.0       ┆ 1.0       ┆ 0         │\n",
       "│ …       ┆ …       ┆ …          ┆ …          ┆ … ┆ …          ┆ …         ┆ …         ┆ …         │\n",
       "│ U1      ┆ 6175    ┆ 2018-12-31 ┆ 2018-12-31 ┆ … ┆ 1.382878   ┆ 0.797465  ┆ 1.343175  ┆ 364       │\n",
       "│ L1      ┆ 2149    ┆ 2018-12-31 ┆ 2018-12-31 ┆ … ┆ 0.73871    ┆ 1.239921  ┆ 0.681094  ┆ 364       │\n",
       "│ L2      ┆ 7465    ┆ 2018-12-31 ┆ 2018-12-31 ┆ … ┆ 0.770197   ┆ 0.87875   ┆ 0.818119  ┆ 364       │\n",
       "│ L1      ┆ 2724    ┆ 2018-12-31 ┆ 2018-12-31 ┆ … ┆ 0.644441   ┆ 0.59271   ┆ 0.644441  ┆ 364       │\n",
       "│ U1      ┆ 4771    ┆ 2018-12-31 ┆ 2018-12-31 ┆ … ┆ 2.014956   ┆ 1.65271   ┆ 0.823452  ┆ 364       │\n",
       "│ L1      ┆ 2777    ┆ 2018-12-31 ┆ 2018-12-31 ┆ … ┆ 0.761261   ┆ 0.832066  ┆ 0.735937  ┆ 364       │\n",
       "│ L1      ┆ 5663    ┆ 2018-12-31 ┆ 2018-12-31 ┆ … ┆ 0.73871    ┆ 1.239921  ┆ 0.681094  ┆ 364       │\n",
       "│ L2      ┆ 7067    ┆ 2018-12-31 ┆ 2018-12-31 ┆ … ┆ 0.770197   ┆ 0.87875   ┆ 0.818119  ┆ 364       │\n",
       "│ L1      ┆ 7431    ┆ 2018-12-31 ┆ 2018-12-31 ┆ … ┆ 1.192609   ┆ 0.64629   ┆ 1.192609  ┆ 364       │\n",
       "│ L2      ┆ 7220    ┆ 2018-12-31 ┆ 2018-12-31 ┆ … ┆ 2.367071   ┆ 1.420487  ┆ 1.121392  ┆ 364       │\n",
       "└─────────┴─────────┴────────────┴────────────┴───┴────────────┴───────────┴───────────┴───────────┘"
      ]
     },
     "execution_count": 21,
     "metadata": {},
     "output_type": "execute_result"
    }
   ],
   "source": [
    "train_df = train_df.with_columns(\n",
    "    (\n",
    "        pl.col('flt_departure_dt') - train_df['flt_departure_dt'].min()\n",
    "    ).dt.total_days().alias(\"days_since_start\")\n",
    ")\n",
    "\n",
    "train_df"
   ]
  },
  {
   "cell_type": "code",
   "execution_count": 22,
   "metadata": {},
   "outputs": [
    {
     "data": {
      "text/html": [
       "<div><style>\n",
       ".dataframe > thead > tr,\n",
       ".dataframe > tbody > tr {\n",
       "  text-align: right;\n",
       "  white-space: pre-wrap;\n",
       "}\n",
       "</style>\n",
       "<small>shape: (29_825, 25)</small><table border=\"1\" class=\"dataframe\"><thead><tr><th>carrier</th><th>flt_num</th><th>flt_departure_dt</th><th>observation_date</th><th>days_till_flight</th><th>is_dst</th><th>route_id</th><th>flt_departure_local_time</th><th>flt_arrival_local_time</th><th>dur_min</th><th>tz_min</th><th>over_mn</th><th>dpt_4h_od</th><th>flt_count_dpt_24h</th><th>flt_count_dpt_4h</th><th>scaled_demand</th><th>scaled_share</th><th>origin_id</th><th>destination_id</th><th>flt_info_null</th><th>base_fare</th><th>7d_route_avg</th><th>14d_route_avg</th><th>7d_route_carrier_avg</th><th>days_since_start</th></tr><tr><td>str</td><td>i64</td><td>date</td><td>date</td><td>i16</td><td>i8</td><td>u8</td><td>datetime[ns]</td><td>datetime[ns]</td><td>i16</td><td>i16</td><td>i8</td><td>i8</td><td>u8</td><td>u8</td><td>i64</td><td>i64</td><td>u8</td><td>u8</td><td>u8</td><td>f64</td><td>f64</td><td>f64</td><td>f64</td><td>i64</td></tr></thead><tbody><tr><td>&quot;L2&quot;</td><td>7465</td><td>2019-01-01</td><td>2018-11-27</td><td>35</td><td>0</td><td>9</td><td>2019-01-01 08:04:00</td><td>2019-01-01 10:49:00</td><td>165</td><td>-360</td><td>0</td><td>2</td><td>7</td><td>2</td><td>null</td><td>null</td><td>5</td><td>6</td><td>0</td><td>2.944702</td><td>0.824263</td><td>0.877499</td><td>0.759055</td><td>365</td></tr><tr><td>&quot;L2&quot;</td><td>7067</td><td>2019-01-01</td><td>2018-11-27</td><td>35</td><td>0</td><td>9</td><td>2019-01-01 13:17:00</td><td>2019-01-01 16:00:00</td><td>163</td><td>-360</td><td>0</td><td>3</td><td>7</td><td>2</td><td>null</td><td>null</td><td>5</td><td>6</td><td>0</td><td>2.944702</td><td>0.824263</td><td>0.877499</td><td>0.759055</td><td>365</td></tr><tr><td>&quot;L2&quot;</td><td>1232</td><td>2019-01-01</td><td>2018-11-27</td><td>35</td><td>0</td><td>9</td><td>2019-01-01 18:40:00</td><td>2019-01-01 21:25:00</td><td>165</td><td>-360</td><td>0</td><td>4</td><td>7</td><td>2</td><td>null</td><td>null</td><td>5</td><td>6</td><td>0</td><td>2.944702</td><td>0.824263</td><td>0.877499</td><td>0.759055</td><td>365</td></tr><tr><td>&quot;U3&quot;</td><td>752</td><td>2019-01-01</td><td>2018-11-27</td><td>35</td><td>0</td><td>7</td><td>2019-01-01 08:45:00</td><td>2019-01-01 10:07:00</td><td>82</td><td>-360</td><td>0</td><td>2</td><td>9</td><td>3</td><td>null</td><td>null</td><td>5</td><td>0</td><td>0</td><td>2.725651</td><td>1.384941</td><td>0.73477</td><td>1.165811</td><td>365</td></tr><tr><td>&quot;L1&quot;</td><td>5135</td><td>2019-01-01</td><td>2018-11-27</td><td>35</td><td>0</td><td>7</td><td>2019-01-01 07:25:00</td><td>2019-01-01 08:42:00</td><td>77</td><td>-360</td><td>0</td><td>1</td><td>9</td><td>2</td><td>null</td><td>null</td><td>5</td><td>0</td><td>0</td><td>2.863554</td><td>1.384941</td><td>0.73477</td><td>1.428838</td><td>365</td></tr><tr><td>&quot;L1&quot;</td><td>10966</td><td>2019-01-01</td><td>2018-11-27</td><td>35</td><td>0</td><td>7</td><td>2019-01-01 11:54:00</td><td>2019-01-01 13:18:00</td><td>84</td><td>-360</td><td>0</td><td>2</td><td>9</td><td>3</td><td>null</td><td>null</td><td>5</td><td>0</td><td>0</td><td>2.863554</td><td>1.384941</td><td>0.73477</td><td>1.428838</td><td>365</td></tr><tr><td>&quot;L1&quot;</td><td>2181</td><td>2019-01-01</td><td>2018-11-27</td><td>35</td><td>0</td><td>7</td><td>2019-01-01 15:34:00</td><td>2019-01-01 16:51:00</td><td>77</td><td>-360</td><td>0</td><td>3</td><td>9</td><td>2</td><td>null</td><td>null</td><td>5</td><td>0</td><td>0</td><td>2.863554</td><td>1.384941</td><td>0.73477</td><td>1.428838</td><td>365</td></tr><tr><td>&quot;L1&quot;</td><td>2724</td><td>2019-01-01</td><td>2018-11-27</td><td>35</td><td>0</td><td>8</td><td>2019-01-01 06:00:00</td><td>2019-01-01 10:30:00</td><td>270</td><td>-360</td><td>0</td><td>1</td><td>5</td><td>2</td><td>null</td><td>null</td><td>5</td><td>1</td><td>0</td><td>3.016892</td><td>0.766536</td><td>0.587293</td><td>0.766536</td><td>365</td></tr><tr><td>&quot;L3&quot;</td><td>18075</td><td>2019-01-01</td><td>2018-11-27</td><td>35</td><td>0</td><td>4</td><td>2019-01-01 15:10:00</td><td>2019-01-01 16:30:00</td><td>80</td><td>-480</td><td>0</td><td>3</td><td>32</td><td>9</td><td>null</td><td>null</td><td>3</td><td>4</td><td>0</td><td>2.7672</td><td>1.969383</td><td>1.372765</td><td>1.385398</td><td>365</td></tr><tr><td>&quot;L1&quot;</td><td>6241</td><td>2019-01-01</td><td>2018-11-27</td><td>35</td><td>0</td><td>10</td><td>2019-01-01 13:30:00</td><td>2019-01-01 16:24:00</td><td>174</td><td>-360</td><td>0</td><td>3</td><td>6</td><td>3</td><td>null</td><td>null</td><td>6</td><td>5</td><td>0</td><td>3.001438</td><td>1.139574</td><td>0.827263</td><td>1.369531</td><td>365</td></tr><tr><td>&hellip;</td><td>&hellip;</td><td>&hellip;</td><td>&hellip;</td><td>&hellip;</td><td>&hellip;</td><td>&hellip;</td><td>&hellip;</td><td>&hellip;</td><td>&hellip;</td><td>&hellip;</td><td>&hellip;</td><td>&hellip;</td><td>&hellip;</td><td>&hellip;</td><td>&hellip;</td><td>&hellip;</td><td>&hellip;</td><td>&hellip;</td><td>&hellip;</td><td>&hellip;</td><td>&hellip;</td><td>&hellip;</td><td>&hellip;</td><td>&hellip;</td></tr><tr><td>&quot;L3&quot;</td><td>8432</td><td>2019-01-07</td><td>2018-12-31</td><td>7</td><td>0</td><td>4</td><td>2019-01-07 18:05:00</td><td>2019-01-07 19:20:00</td><td>75</td><td>-480</td><td>0</td><td>4</td><td>46</td><td>13</td><td>null</td><td>null</td><td>3</td><td>4</td><td>0</td><td>2.7672</td><td>2.678017</td><td>2.014956</td><td>2.210787</td><td>371</td></tr><tr><td>&quot;L1&quot;</td><td>1575</td><td>2019-01-07</td><td>2018-12-31</td><td>7</td><td>0</td><td>5</td><td>2019-01-07 11:01:00</td><td>2019-01-07 12:49:00</td><td>108</td><td>-480</td><td>0</td><td>2</td><td>27</td><td>3</td><td>null</td><td>null</td><td>3</td><td>7</td><td>0</td><td>2.794683</td><td>1.058388</td><td>0.761261</td><td>1.097198</td><td>371</td></tr><tr><td>&quot;OTH&quot;</td><td>2294</td><td>2019-01-07</td><td>2018-12-31</td><td>7</td><td>0</td><td>3</td><td>2019-01-07 11:59:00</td><td>2019-01-07 16:57:00</td><td>298</td><td>-480</td><td>0</td><td>2</td><td>9</td><td>2</td><td>null</td><td>null</td><td>3</td><td>2</td><td>0</td><td>2.768284</td><td>0.925991</td><td>0.73871</td><td>1.063294</td><td>371</td></tr><tr><td>&quot;L3&quot;</td><td>8696</td><td>2019-01-07</td><td>2018-12-31</td><td>7</td><td>0</td><td>4</td><td>2019-01-07 20:00:00</td><td>2019-01-07 21:11:00</td><td>71</td><td>-480</td><td>0</td><td>5</td><td>46</td><td>6</td><td>null</td><td>null</td><td>3</td><td>4</td><td>0</td><td>2.7672</td><td>2.678017</td><td>2.014956</td><td>2.210787</td><td>371</td></tr><tr><td>&quot;L3&quot;</td><td>2539</td><td>2019-01-07</td><td>2018-12-31</td><td>7</td><td>0</td><td>4</td><td>2019-01-07 18:50:00</td><td>2019-01-07 19:55:00</td><td>65</td><td>-480</td><td>0</td><td>4</td><td>46</td><td>13</td><td>null</td><td>null</td><td>3</td><td>4</td><td>0</td><td>2.7672</td><td>2.678017</td><td>2.014956</td><td>2.210787</td><td>371</td></tr><tr><td>&quot;OTH&quot;</td><td>5292</td><td>2019-01-07</td><td>2018-12-31</td><td>7</td><td>0</td><td>6</td><td>null</td><td>null</td><td>null</td><td>null</td><td>null</td><td>null</td><td>null</td><td>null</td><td>null</td><td>null</td><td>4</td><td>3</td><td>1</td><td>2.611628</td><td>2.371568</td><td>2.367071</td><td>6.918146</td><td>371</td></tr><tr><td>&quot;OTH&quot;</td><td>6413</td><td>2019-01-07</td><td>2018-12-31</td><td>7</td><td>0</td><td>6</td><td>null</td><td>null</td><td>null</td><td>null</td><td>null</td><td>null</td><td>null</td><td>null</td><td>null</td><td>null</td><td>4</td><td>3</td><td>1</td><td>2.611628</td><td>2.371568</td><td>2.367071</td><td>6.918146</td><td>371</td></tr><tr><td>&quot;L1&quot;</td><td>1484</td><td>2019-01-07</td><td>2018-12-31</td><td>7</td><td>0</td><td>0</td><td>2019-01-07 11:06:00</td><td>2019-01-07 14:17:00</td><td>191</td><td>-420</td><td>0</td><td>2</td><td>9</td><td>3</td><td>null</td><td>null</td><td>0</td><td>5</td><td>0</td><td>2.871843</td><td>1.359619</td><td>0.836916</td><td>1.406209</td><td>371</td></tr><tr><td>&quot;L1&quot;</td><td>18471</td><td>2019-01-07</td><td>2018-12-31</td><td>7</td><td>0</td><td>0</td><td>2019-01-07 14:45:00</td><td>2019-01-07 17:59:00</td><td>194</td><td>-420</td><td>0</td><td>3</td><td>9</td><td>2</td><td>null</td><td>null</td><td>0</td><td>5</td><td>0</td><td>2.871843</td><td>1.359619</td><td>0.836916</td><td>1.406209</td><td>371</td></tr><tr><td>&quot;L1&quot;</td><td>1487</td><td>2019-01-07</td><td>2018-12-31</td><td>7</td><td>0</td><td>0</td><td>2019-01-07 17:46:00</td><td>2019-01-07 20:57:00</td><td>191</td><td>-420</td><td>0</td><td>4</td><td>9</td><td>2</td><td>null</td><td>null</td><td>0</td><td>5</td><td>0</td><td>2.871843</td><td>1.359619</td><td>0.836916</td><td>1.406209</td><td>371</td></tr></tbody></table></div>"
      ],
      "text/plain": [
       "shape: (29_825, 25)\n",
       "┌─────────┬─────────┬────────────┬────────────┬───┬────────────┬───────────┬───────────┬───────────┐\n",
       "│ carrier ┆ flt_num ┆ flt_depart ┆ observatio ┆ … ┆ 7d_route_a ┆ 14d_route ┆ 7d_route_ ┆ days_sinc │\n",
       "│ ---     ┆ ---     ┆ ure_dt     ┆ n_date     ┆   ┆ vg         ┆ _avg      ┆ carrier_a ┆ e_start   │\n",
       "│ str     ┆ i64     ┆ ---        ┆ ---        ┆   ┆ ---        ┆ ---       ┆ vg        ┆ ---       │\n",
       "│         ┆         ┆ date       ┆ date       ┆   ┆ f64        ┆ f64       ┆ ---       ┆ i64       │\n",
       "│         ┆         ┆            ┆            ┆   ┆            ┆           ┆ f64       ┆           │\n",
       "╞═════════╪═════════╪════════════╪════════════╪═══╪════════════╪═══════════╪═══════════╪═══════════╡\n",
       "│ L2      ┆ 7465    ┆ 2019-01-01 ┆ 2018-11-27 ┆ … ┆ 0.824263   ┆ 0.877499  ┆ 0.759055  ┆ 365       │\n",
       "│ L2      ┆ 7067    ┆ 2019-01-01 ┆ 2018-11-27 ┆ … ┆ 0.824263   ┆ 0.877499  ┆ 0.759055  ┆ 365       │\n",
       "│ L2      ┆ 1232    ┆ 2019-01-01 ┆ 2018-11-27 ┆ … ┆ 0.824263   ┆ 0.877499  ┆ 0.759055  ┆ 365       │\n",
       "│ U3      ┆ 752     ┆ 2019-01-01 ┆ 2018-11-27 ┆ … ┆ 1.384941   ┆ 0.73477   ┆ 1.165811  ┆ 365       │\n",
       "│ L1      ┆ 5135    ┆ 2019-01-01 ┆ 2018-11-27 ┆ … ┆ 1.384941   ┆ 0.73477   ┆ 1.428838  ┆ 365       │\n",
       "│ L1      ┆ 10966   ┆ 2019-01-01 ┆ 2018-11-27 ┆ … ┆ 1.384941   ┆ 0.73477   ┆ 1.428838  ┆ 365       │\n",
       "│ L1      ┆ 2181    ┆ 2019-01-01 ┆ 2018-11-27 ┆ … ┆ 1.384941   ┆ 0.73477   ┆ 1.428838  ┆ 365       │\n",
       "│ L1      ┆ 2724    ┆ 2019-01-01 ┆ 2018-11-27 ┆ … ┆ 0.766536   ┆ 0.587293  ┆ 0.766536  ┆ 365       │\n",
       "│ L3      ┆ 18075   ┆ 2019-01-01 ┆ 2018-11-27 ┆ … ┆ 1.969383   ┆ 1.372765  ┆ 1.385398  ┆ 365       │\n",
       "│ L1      ┆ 6241    ┆ 2019-01-01 ┆ 2018-11-27 ┆ … ┆ 1.139574   ┆ 0.827263  ┆ 1.369531  ┆ 365       │\n",
       "│ …       ┆ …       ┆ …          ┆ …          ┆ … ┆ …          ┆ …         ┆ …         ┆ …         │\n",
       "│ L3      ┆ 8432    ┆ 2019-01-07 ┆ 2018-12-31 ┆ … ┆ 2.678017   ┆ 2.014956  ┆ 2.210787  ┆ 371       │\n",
       "│ L1      ┆ 1575    ┆ 2019-01-07 ┆ 2018-12-31 ┆ … ┆ 1.058388   ┆ 0.761261  ┆ 1.097198  ┆ 371       │\n",
       "│ OTH     ┆ 2294    ┆ 2019-01-07 ┆ 2018-12-31 ┆ … ┆ 0.925991   ┆ 0.73871   ┆ 1.063294  ┆ 371       │\n",
       "│ L3      ┆ 8696    ┆ 2019-01-07 ┆ 2018-12-31 ┆ … ┆ 2.678017   ┆ 2.014956  ┆ 2.210787  ┆ 371       │\n",
       "│ L3      ┆ 2539    ┆ 2019-01-07 ┆ 2018-12-31 ┆ … ┆ 2.678017   ┆ 2.014956  ┆ 2.210787  ┆ 371       │\n",
       "│ OTH     ┆ 5292    ┆ 2019-01-07 ┆ 2018-12-31 ┆ … ┆ 2.371568   ┆ 2.367071  ┆ 6.918146  ┆ 371       │\n",
       "│ OTH     ┆ 6413    ┆ 2019-01-07 ┆ 2018-12-31 ┆ … ┆ 2.371568   ┆ 2.367071  ┆ 6.918146  ┆ 371       │\n",
       "│ L1      ┆ 1484    ┆ 2019-01-07 ┆ 2018-12-31 ┆ … ┆ 1.359619   ┆ 0.836916  ┆ 1.406209  ┆ 371       │\n",
       "│ L1      ┆ 18471   ┆ 2019-01-07 ┆ 2018-12-31 ┆ … ┆ 1.359619   ┆ 0.836916  ┆ 1.406209  ┆ 371       │\n",
       "│ L1      ┆ 1487    ┆ 2019-01-07 ┆ 2018-12-31 ┆ … ┆ 1.359619   ┆ 0.836916  ┆ 1.406209  ┆ 371       │\n",
       "└─────────┴─────────┴────────────┴────────────┴───┴────────────┴───────────┴───────────┴───────────┘"
      ]
     },
     "execution_count": 22,
     "metadata": {},
     "output_type": "execute_result"
    }
   ],
   "source": [
    "test_df = test_df.with_columns(\n",
    "    (\n",
    "        pl.col('flt_departure_dt') - train_df['flt_departure_dt'].min()\n",
    "    ).dt.total_days().alias(\"days_since_start\")\n",
    ")\n",
    "\n",
    "test_df"
   ]
  },
  {
   "cell_type": "markdown",
   "metadata": {},
   "source": [
    "#### Flight date features"
   ]
  },
  {
   "cell_type": "code",
   "execution_count": 23,
   "metadata": {},
   "outputs": [
    {
     "data": {
      "text/html": [
       "<div><style>\n",
       ".dataframe > thead > tr,\n",
       ".dataframe > tbody > tr {\n",
       "  text-align: right;\n",
       "  white-space: pre-wrap;\n",
       "}\n",
       "</style>\n",
       "<small>shape: (1_698_818, 32)</small><table border=\"1\" class=\"dataframe\"><thead><tr><th>carrier</th><th>flt_num</th><th>flt_departure_dt</th><th>observation_date</th><th>total_fare</th><th>days_till_flight</th><th>is_dst</th><th>route_id</th><th>flt_departure_local_time</th><th>flt_arrival_local_time</th><th>dur_min</th><th>tz_min</th><th>over_mn</th><th>dpt_4h_od</th><th>flt_count_dpt_24h</th><th>flt_count_dpt_4h</th><th>scaled_demand</th><th>scaled_share</th><th>origin_id</th><th>destination_id</th><th>flt_info_null</th><th>base_fare</th><th>log_fare</th><th>scaled_fare</th><th>7d_route_avg</th><th>14d_route_avg</th><th>7d_route_carrier_avg</th><th>days_since_start</th><th>flt_departure_month</th><th>flt_departure_day</th><th>flt_departure_week</th><th>flt_departure_weekday</th></tr><tr><td>str</td><td>i64</td><td>date</td><td>date</td><td>i64</td><td>i16</td><td>i8</td><td>u8</td><td>datetime[ns]</td><td>datetime[ns]</td><td>i16</td><td>i16</td><td>i8</td><td>i8</td><td>u8</td><td>u8</td><td>i64</td><td>i64</td><td>u8</td><td>u8</td><td>u8</td><td>f64</td><td>f64</td><td>f64</td><td>f64</td><td>f64</td><td>f64</td><td>i64</td><td>i8</td><td>i8</td><td>i8</td><td>i8</td></tr></thead><tbody><tr><td>&quot;L2&quot;</td><td>5242</td><td>2018-01-01</td><td>2017-11-27</td><td>846</td><td>35</td><td>0</td><td>4</td><td>2018-01-01 10:49:00</td><td>2018-01-01 12:14:00</td><td>85</td><td>-480</td><td>0</td><td>2</td><td>30</td><td>5</td><td>6659</td><td>212</td><td>3</td><td>4</td><td>0</td><td>2.67539</td><td>2.92737</td><td>0.0942</td><td>1.0</td><td>1.0</td><td>1.0</td><td>0</td><td>1</td><td>1</td><td>1</td><td>1</td></tr><tr><td>&quot;OTH&quot;</td><td>4790</td><td>2018-01-01</td><td>2017-11-27</td><td>937</td><td>35</td><td>0</td><td>4</td><td>2018-01-01 14:57:00</td><td>2018-01-01 16:17:00</td><td>80</td><td>-480</td><td>0</td><td>3</td><td>30</td><td>8</td><td>6659</td><td>316</td><td>3</td><td>4</td><td>0</td><td>2.624987</td><td>2.97174</td><td>0.1321</td><td>1.0</td><td>1.0</td><td>1.0</td><td>0</td><td>1</td><td>1</td><td>1</td><td>1</td></tr><tr><td>&quot;OTH&quot;</td><td>4837</td><td>2018-01-01</td><td>2017-11-27</td><td>281</td><td>35</td><td>0</td><td>6</td><td>2018-01-01 19:38:00</td><td>2018-01-01 20:43:00</td><td>65</td><td>-480</td><td>0</td><td>4</td><td>30</td><td>7</td><td>6659</td><td>316</td><td>4</td><td>3</td><td>0</td><td>2.611628</td><td>2.448706</td><td>-0.0624</td><td>1.0</td><td>1.0</td><td>1.0</td><td>0</td><td>1</td><td>1</td><td>1</td><td>1</td></tr><tr><td>&quot;L2&quot;</td><td>5314</td><td>2018-01-01</td><td>2017-11-27</td><td>403</td><td>35</td><td>0</td><td>6</td><td>2018-01-01 19:05:00</td><td>2018-01-01 20:17:00</td><td>72</td><td>-480</td><td>0</td><td>4</td><td>30</td><td>7</td><td>6659</td><td>213</td><td>4</td><td>3</td><td>0</td><td>2.660966</td><td>2.605305</td><td>-0.0209</td><td>1.0</td><td>1.0</td><td>1.0</td><td>0</td><td>1</td><td>1</td><td>1</td><td>1</td></tr><tr><td>&quot;OTH&quot;</td><td>6187</td><td>2018-01-01</td><td>2017-11-27</td><td>341</td><td>35</td><td>0</td><td>11</td><td>2018-01-01 20:30:00</td><td>2018-01-01 21:58:00</td><td>88</td><td>-480</td><td>0</td><td>5</td><td>21</td><td>5</td><td>6579</td><td>354</td><td>7</td><td>3</td><td>0</td><td>2.72979</td><td>2.532754</td><td>-0.0722</td><td>1.0</td><td>1.0</td><td>1.0</td><td>0</td><td>1</td><td>1</td><td>1</td><td>1</td></tr><tr><td>&quot;U1&quot;</td><td>4771</td><td>2018-01-01</td><td>2017-11-27</td><td>513</td><td>35</td><td>0</td><td>4</td><td>null</td><td>null</td><td>null</td><td>null</td><td>null</td><td>null</td><td>null</td><td>null</td><td>null</td><td>null</td><td>3</td><td>4</td><td>1</td><td>2.637462</td><td>2.710117</td><td>0.0275</td><td>1.0</td><td>1.0</td><td>1.0</td><td>0</td><td>1</td><td>1</td><td>1</td><td>1</td></tr><tr><td>&quot;L3&quot;</td><td>15130</td><td>2018-01-01</td><td>2017-11-27</td><td>1298</td><td>35</td><td>0</td><td>4</td><td>2018-01-01 16:53:00</td><td>2018-01-01 18:19:00</td><td>86</td><td>-480</td><td>0</td><td>4</td><td>30</td><td>7</td><td>6659</td><td>231</td><td>3</td><td>4</td><td>0</td><td>2.7672</td><td>3.113275</td><td>0.1251</td><td>1.0</td><td>1.0</td><td>1.0</td><td>0</td><td>1</td><td>1</td><td>1</td><td>1</td></tr><tr><td>&quot;L1&quot;</td><td>1396</td><td>2018-01-01</td><td>2017-11-27</td><td>372</td><td>35</td><td>0</td><td>11</td><td>2018-01-01 19:35:00</td><td>2018-01-01 21:08:00</td><td>93</td><td>-480</td><td>0</td><td>4</td><td>21</td><td>7</td><td>6579</td><td>262</td><td>7</td><td>3</td><td>0</td><td>2.767913</td><td>2.570543</td><td>-0.0713</td><td>1.0</td><td>1.0</td><td>1.0</td><td>0</td><td>1</td><td>1</td><td>1</td><td>1</td></tr><tr><td>&quot;L1&quot;</td><td>6316</td><td>2018-01-01</td><td>2017-11-27</td><td>1119</td><td>35</td><td>0</td><td>1</td><td>2018-01-01 12:31:00</td><td>2018-01-01 15:55:00</td><td>204</td><td>-300</td><td>0</td><td>3</td><td>5</td><td>2</td><td>1468</td><td>360</td><td>1</td><td>5</td><td>0</td><td>2.98998</td><td>3.04883</td><td>0.0197</td><td>1.0</td><td>1.0</td><td>1.0</td><td>0</td><td>1</td><td>1</td><td>1</td><td>1</td></tr><tr><td>&quot;L1&quot;</td><td>4605</td><td>2018-01-01</td><td>2017-11-27</td><td>372</td><td>35</td><td>0</td><td>11</td><td>2018-01-01 17:18:00</td><td>2018-01-01 18:57:00</td><td>99</td><td>-480</td><td>0</td><td>4</td><td>21</td><td>7</td><td>6579</td><td>262</td><td>7</td><td>3</td><td>0</td><td>2.767913</td><td>2.570543</td><td>-0.0713</td><td>1.0</td><td>1.0</td><td>1.0</td><td>0</td><td>1</td><td>1</td><td>1</td><td>1</td></tr><tr><td>&hellip;</td><td>&hellip;</td><td>&hellip;</td><td>&hellip;</td><td>&hellip;</td><td>&hellip;</td><td>&hellip;</td><td>&hellip;</td><td>&hellip;</td><td>&hellip;</td><td>&hellip;</td><td>&hellip;</td><td>&hellip;</td><td>&hellip;</td><td>&hellip;</td><td>&hellip;</td><td>&hellip;</td><td>&hellip;</td><td>&hellip;</td><td>&hellip;</td><td>&hellip;</td><td>&hellip;</td><td>&hellip;</td><td>&hellip;</td><td>&hellip;</td><td>&hellip;</td><td>&hellip;</td><td>&hellip;</td><td>&hellip;</td><td>&hellip;</td><td>&hellip;</td><td>&hellip;</td></tr><tr><td>&quot;U1&quot;</td><td>6175</td><td>2018-12-31</td><td>2018-12-31</td><td>1111</td><td>0</td><td>0</td><td>11</td><td>2018-12-31 21:30:00</td><td>2018-12-31 23:04:00</td><td>94</td><td>-480</td><td>0</td><td>5</td><td>21</td><td>3</td><td>5817</td><td>253</td><td>7</td><td>3</td><td>0</td><td>2.758985</td><td>3.045714</td><td>0.1039</td><td>1.382878</td><td>0.797465</td><td>1.343175</td><td>364</td><td>12</td><td>31</td><td>1</td><td>1</td></tr><tr><td>&quot;L1&quot;</td><td>2149</td><td>2018-12-31</td><td>2018-12-31</td><td>2037</td><td>0</td><td>0</td><td>3</td><td>2018-12-31 01:05:00</td><td>2018-12-31 05:59:00</td><td>294</td><td>-480</td><td>0</td><td>0</td><td>7</td><td>1</td><td>2790</td><td>405</td><td>3</td><td>2</td><td>0</td><td>2.967345</td><td>3.308991</td><td>0.1151</td><td>0.73871</td><td>1.239921</td><td>0.681094</td><td>364</td><td>12</td><td>31</td><td>1</td><td>1</td></tr><tr><td>&quot;L2&quot;</td><td>7465</td><td>2018-12-31</td><td>2018-12-31</td><td>1202</td><td>0</td><td>0</td><td>9</td><td>2018-12-31 08:04:00</td><td>2018-12-31 10:49:00</td><td>165</td><td>-360</td><td>0</td><td>2</td><td>5</td><td>2</td><td>1618</td><td>310</td><td>5</td><td>6</td><td>0</td><td>2.944702</td><td>3.079904</td><td>0.0459</td><td>0.770197</td><td>0.87875</td><td>0.818119</td><td>364</td><td>12</td><td>31</td><td>1</td><td>1</td></tr><tr><td>&quot;L1&quot;</td><td>2724</td><td>2018-12-31</td><td>2018-12-31</td><td>3519</td><td>0</td><td>0</td><td>8</td><td>2018-12-31 06:00:00</td><td>2018-12-31 10:29:00</td><td>269</td><td>-360</td><td>0</td><td>1</td><td>4</td><td>2</td><td>2164</td><td>373</td><td>5</td><td>1</td><td>0</td><td>3.016892</td><td>3.546419</td><td>0.1755</td><td>0.644441</td><td>0.59271</td><td>0.644441</td><td>364</td><td>12</td><td>31</td><td>1</td><td>1</td></tr><tr><td>&quot;U1&quot;</td><td>4771</td><td>2018-12-31</td><td>2018-12-31</td><td>768</td><td>0</td><td>0</td><td>4</td><td>2018-12-31 08:15:00</td><td>2018-12-31 09:32:00</td><td>77</td><td>-480</td><td>0</td><td>2</td><td>30</td><td>6</td><td>7128</td><td>193</td><td>3</td><td>4</td><td>0</td><td>2.637462</td><td>2.885361</td><td>0.094</td><td>2.014956</td><td>1.65271</td><td>0.823452</td><td>364</td><td>12</td><td>31</td><td>1</td><td>1</td></tr><tr><td>&quot;L1&quot;</td><td>2777</td><td>2018-12-31</td><td>2018-12-31</td><td>1111</td><td>0</td><td>0</td><td>5</td><td>2018-12-31 07:34:00</td><td>2018-12-31 09:15:00</td><td>101</td><td>-480</td><td>0</td><td>1</td><td>21</td><td>4</td><td>5817</td><td>294</td><td>3</td><td>7</td><td>0</td><td>2.794683</td><td>3.045714</td><td>0.0898</td><td>0.761261</td><td>0.832066</td><td>0.735937</td><td>364</td><td>12</td><td>31</td><td>1</td><td>1</td></tr><tr><td>&quot;L1&quot;</td><td>5663</td><td>2018-12-31</td><td>2018-12-31</td><td>2037</td><td>0</td><td>0</td><td>3</td><td>2018-12-31 12:20:00</td><td>2018-12-31 17:09:00</td><td>289</td><td>-480</td><td>0</td><td>3</td><td>7</td><td>2</td><td>2790</td><td>405</td><td>3</td><td>2</td><td>0</td><td>2.967345</td><td>3.308991</td><td>0.1151</td><td>0.73871</td><td>1.239921</td><td>0.681094</td><td>364</td><td>12</td><td>31</td><td>1</td><td>1</td></tr><tr><td>&quot;L2&quot;</td><td>7067</td><td>2018-12-31</td><td>2018-12-31</td><td>1202</td><td>0</td><td>0</td><td>9</td><td>2018-12-31 13:17:00</td><td>2018-12-31 16:00:00</td><td>163</td><td>-360</td><td>0</td><td>3</td><td>5</td><td>2</td><td>1618</td><td>310</td><td>5</td><td>6</td><td>0</td><td>2.944702</td><td>3.079904</td><td>0.0459</td><td>0.770197</td><td>0.87875</td><td>0.818119</td><td>364</td><td>12</td><td>31</td><td>1</td><td>1</td></tr><tr><td>&quot;L1&quot;</td><td>7431</td><td>2018-12-31</td><td>2018-12-31</td><td>1346</td><td>0</td><td>0</td><td>1</td><td>2018-12-31 07:00:00</td><td>2018-12-31 10:11:00</td><td>191</td><td>-300</td><td>0</td><td>1</td><td>4</td><td>1</td><td>2164</td><td>373</td><td>1</td><td>5</td><td>0</td><td>2.98998</td><td>3.129045</td><td>0.0465</td><td>1.192609</td><td>0.64629</td><td>1.192609</td><td>364</td><td>12</td><td>31</td><td>1</td><td>1</td></tr><tr><td>&quot;L2&quot;</td><td>7220</td><td>2018-12-31</td><td>2018-12-31</td><td>768</td><td>0</td><td>0</td><td>6</td><td>2018-12-31 10:15:00</td><td>2018-12-31 11:28:00</td><td>73</td><td>-480</td><td>0</td><td>2</td><td>30</td><td>8</td><td>7128</td><td>224</td><td>4</td><td>3</td><td>0</td><td>2.660966</td><td>2.885361</td><td>0.0843</td><td>2.367071</td><td>1.420487</td><td>1.121392</td><td>364</td><td>12</td><td>31</td><td>1</td><td>1</td></tr></tbody></table></div>"
      ],
      "text/plain": [
       "shape: (1_698_818, 32)\n",
       "┌─────────┬─────────┬────────────┬────────────┬───┬────────────┬───────────┬───────────┬───────────┐\n",
       "│ carrier ┆ flt_num ┆ flt_depart ┆ observatio ┆ … ┆ flt_depart ┆ flt_depar ┆ flt_depar ┆ flt_depar │\n",
       "│ ---     ┆ ---     ┆ ure_dt     ┆ n_date     ┆   ┆ ure_month  ┆ ture_day  ┆ ture_week ┆ ture_week │\n",
       "│ str     ┆ i64     ┆ ---        ┆ ---        ┆   ┆ ---        ┆ ---       ┆ ---       ┆ day       │\n",
       "│         ┆         ┆ date       ┆ date       ┆   ┆ i8         ┆ i8        ┆ i8        ┆ ---       │\n",
       "│         ┆         ┆            ┆            ┆   ┆            ┆           ┆           ┆ i8        │\n",
       "╞═════════╪═════════╪════════════╪════════════╪═══╪════════════╪═══════════╪═══════════╪═══════════╡\n",
       "│ L2      ┆ 5242    ┆ 2018-01-01 ┆ 2017-11-27 ┆ … ┆ 1          ┆ 1         ┆ 1         ┆ 1         │\n",
       "│ OTH     ┆ 4790    ┆ 2018-01-01 ┆ 2017-11-27 ┆ … ┆ 1          ┆ 1         ┆ 1         ┆ 1         │\n",
       "│ OTH     ┆ 4837    ┆ 2018-01-01 ┆ 2017-11-27 ┆ … ┆ 1          ┆ 1         ┆ 1         ┆ 1         │\n",
       "│ L2      ┆ 5314    ┆ 2018-01-01 ┆ 2017-11-27 ┆ … ┆ 1          ┆ 1         ┆ 1         ┆ 1         │\n",
       "│ OTH     ┆ 6187    ┆ 2018-01-01 ┆ 2017-11-27 ┆ … ┆ 1          ┆ 1         ┆ 1         ┆ 1         │\n",
       "│ U1      ┆ 4771    ┆ 2018-01-01 ┆ 2017-11-27 ┆ … ┆ 1          ┆ 1         ┆ 1         ┆ 1         │\n",
       "│ L3      ┆ 15130   ┆ 2018-01-01 ┆ 2017-11-27 ┆ … ┆ 1          ┆ 1         ┆ 1         ┆ 1         │\n",
       "│ L1      ┆ 1396    ┆ 2018-01-01 ┆ 2017-11-27 ┆ … ┆ 1          ┆ 1         ┆ 1         ┆ 1         │\n",
       "│ L1      ┆ 6316    ┆ 2018-01-01 ┆ 2017-11-27 ┆ … ┆ 1          ┆ 1         ┆ 1         ┆ 1         │\n",
       "│ L1      ┆ 4605    ┆ 2018-01-01 ┆ 2017-11-27 ┆ … ┆ 1          ┆ 1         ┆ 1         ┆ 1         │\n",
       "│ …       ┆ …       ┆ …          ┆ …          ┆ … ┆ …          ┆ …         ┆ …         ┆ …         │\n",
       "│ U1      ┆ 6175    ┆ 2018-12-31 ┆ 2018-12-31 ┆ … ┆ 12         ┆ 31        ┆ 1         ┆ 1         │\n",
       "│ L1      ┆ 2149    ┆ 2018-12-31 ┆ 2018-12-31 ┆ … ┆ 12         ┆ 31        ┆ 1         ┆ 1         │\n",
       "│ L2      ┆ 7465    ┆ 2018-12-31 ┆ 2018-12-31 ┆ … ┆ 12         ┆ 31        ┆ 1         ┆ 1         │\n",
       "│ L1      ┆ 2724    ┆ 2018-12-31 ┆ 2018-12-31 ┆ … ┆ 12         ┆ 31        ┆ 1         ┆ 1         │\n",
       "│ U1      ┆ 4771    ┆ 2018-12-31 ┆ 2018-12-31 ┆ … ┆ 12         ┆ 31        ┆ 1         ┆ 1         │\n",
       "│ L1      ┆ 2777    ┆ 2018-12-31 ┆ 2018-12-31 ┆ … ┆ 12         ┆ 31        ┆ 1         ┆ 1         │\n",
       "│ L1      ┆ 5663    ┆ 2018-12-31 ┆ 2018-12-31 ┆ … ┆ 12         ┆ 31        ┆ 1         ┆ 1         │\n",
       "│ L2      ┆ 7067    ┆ 2018-12-31 ┆ 2018-12-31 ┆ … ┆ 12         ┆ 31        ┆ 1         ┆ 1         │\n",
       "│ L1      ┆ 7431    ┆ 2018-12-31 ┆ 2018-12-31 ┆ … ┆ 12         ┆ 31        ┆ 1         ┆ 1         │\n",
       "│ L2      ┆ 7220    ┆ 2018-12-31 ┆ 2018-12-31 ┆ … ┆ 12         ┆ 31        ┆ 1         ┆ 1         │\n",
       "└─────────┴─────────┴────────────┴────────────┴───┴────────────┴───────────┴───────────┴───────────┘"
      ]
     },
     "execution_count": 23,
     "metadata": {},
     "output_type": "execute_result"
    }
   ],
   "source": [
    "train_df = train_df.with_columns(\n",
    "    pl.col('flt_departure_dt').dt.month().alias('flt_departure_month'),\n",
    "    pl.col('flt_departure_dt').dt.day().alias('flt_departure_day'),\n",
    "    pl.col('flt_departure_dt').dt.week().alias('flt_departure_week'),    \n",
    "    pl.col('flt_departure_dt').dt.weekday().alias('flt_departure_weekday')  \n",
    ")\n",
    "train_df"
   ]
  },
  {
   "cell_type": "code",
   "execution_count": 24,
   "metadata": {},
   "outputs": [
    {
     "data": {
      "text/html": [
       "<div><style>\n",
       ".dataframe > thead > tr,\n",
       ".dataframe > tbody > tr {\n",
       "  text-align: right;\n",
       "  white-space: pre-wrap;\n",
       "}\n",
       "</style>\n",
       "<small>shape: (29_825, 29)</small><table border=\"1\" class=\"dataframe\"><thead><tr><th>carrier</th><th>flt_num</th><th>flt_departure_dt</th><th>observation_date</th><th>days_till_flight</th><th>is_dst</th><th>route_id</th><th>flt_departure_local_time</th><th>flt_arrival_local_time</th><th>dur_min</th><th>tz_min</th><th>over_mn</th><th>dpt_4h_od</th><th>flt_count_dpt_24h</th><th>flt_count_dpt_4h</th><th>scaled_demand</th><th>scaled_share</th><th>origin_id</th><th>destination_id</th><th>flt_info_null</th><th>base_fare</th><th>7d_route_avg</th><th>14d_route_avg</th><th>7d_route_carrier_avg</th><th>days_since_start</th><th>flt_departure_month</th><th>flt_departure_day</th><th>flt_departure_week</th><th>flt_departure_weekday</th></tr><tr><td>str</td><td>i64</td><td>date</td><td>date</td><td>i16</td><td>i8</td><td>u8</td><td>datetime[ns]</td><td>datetime[ns]</td><td>i16</td><td>i16</td><td>i8</td><td>i8</td><td>u8</td><td>u8</td><td>i64</td><td>i64</td><td>u8</td><td>u8</td><td>u8</td><td>f64</td><td>f64</td><td>f64</td><td>f64</td><td>i64</td><td>i8</td><td>i8</td><td>i8</td><td>i8</td></tr></thead><tbody><tr><td>&quot;L2&quot;</td><td>7465</td><td>2019-01-01</td><td>2018-11-27</td><td>35</td><td>0</td><td>9</td><td>2019-01-01 08:04:00</td><td>2019-01-01 10:49:00</td><td>165</td><td>-360</td><td>0</td><td>2</td><td>7</td><td>2</td><td>null</td><td>null</td><td>5</td><td>6</td><td>0</td><td>2.944702</td><td>0.824263</td><td>0.877499</td><td>0.759055</td><td>365</td><td>1</td><td>1</td><td>1</td><td>2</td></tr><tr><td>&quot;L2&quot;</td><td>7067</td><td>2019-01-01</td><td>2018-11-27</td><td>35</td><td>0</td><td>9</td><td>2019-01-01 13:17:00</td><td>2019-01-01 16:00:00</td><td>163</td><td>-360</td><td>0</td><td>3</td><td>7</td><td>2</td><td>null</td><td>null</td><td>5</td><td>6</td><td>0</td><td>2.944702</td><td>0.824263</td><td>0.877499</td><td>0.759055</td><td>365</td><td>1</td><td>1</td><td>1</td><td>2</td></tr><tr><td>&quot;L2&quot;</td><td>1232</td><td>2019-01-01</td><td>2018-11-27</td><td>35</td><td>0</td><td>9</td><td>2019-01-01 18:40:00</td><td>2019-01-01 21:25:00</td><td>165</td><td>-360</td><td>0</td><td>4</td><td>7</td><td>2</td><td>null</td><td>null</td><td>5</td><td>6</td><td>0</td><td>2.944702</td><td>0.824263</td><td>0.877499</td><td>0.759055</td><td>365</td><td>1</td><td>1</td><td>1</td><td>2</td></tr><tr><td>&quot;U3&quot;</td><td>752</td><td>2019-01-01</td><td>2018-11-27</td><td>35</td><td>0</td><td>7</td><td>2019-01-01 08:45:00</td><td>2019-01-01 10:07:00</td><td>82</td><td>-360</td><td>0</td><td>2</td><td>9</td><td>3</td><td>null</td><td>null</td><td>5</td><td>0</td><td>0</td><td>2.725651</td><td>1.384941</td><td>0.73477</td><td>1.165811</td><td>365</td><td>1</td><td>1</td><td>1</td><td>2</td></tr><tr><td>&quot;L1&quot;</td><td>5135</td><td>2019-01-01</td><td>2018-11-27</td><td>35</td><td>0</td><td>7</td><td>2019-01-01 07:25:00</td><td>2019-01-01 08:42:00</td><td>77</td><td>-360</td><td>0</td><td>1</td><td>9</td><td>2</td><td>null</td><td>null</td><td>5</td><td>0</td><td>0</td><td>2.863554</td><td>1.384941</td><td>0.73477</td><td>1.428838</td><td>365</td><td>1</td><td>1</td><td>1</td><td>2</td></tr><tr><td>&quot;L1&quot;</td><td>10966</td><td>2019-01-01</td><td>2018-11-27</td><td>35</td><td>0</td><td>7</td><td>2019-01-01 11:54:00</td><td>2019-01-01 13:18:00</td><td>84</td><td>-360</td><td>0</td><td>2</td><td>9</td><td>3</td><td>null</td><td>null</td><td>5</td><td>0</td><td>0</td><td>2.863554</td><td>1.384941</td><td>0.73477</td><td>1.428838</td><td>365</td><td>1</td><td>1</td><td>1</td><td>2</td></tr><tr><td>&quot;L1&quot;</td><td>2181</td><td>2019-01-01</td><td>2018-11-27</td><td>35</td><td>0</td><td>7</td><td>2019-01-01 15:34:00</td><td>2019-01-01 16:51:00</td><td>77</td><td>-360</td><td>0</td><td>3</td><td>9</td><td>2</td><td>null</td><td>null</td><td>5</td><td>0</td><td>0</td><td>2.863554</td><td>1.384941</td><td>0.73477</td><td>1.428838</td><td>365</td><td>1</td><td>1</td><td>1</td><td>2</td></tr><tr><td>&quot;L1&quot;</td><td>2724</td><td>2019-01-01</td><td>2018-11-27</td><td>35</td><td>0</td><td>8</td><td>2019-01-01 06:00:00</td><td>2019-01-01 10:30:00</td><td>270</td><td>-360</td><td>0</td><td>1</td><td>5</td><td>2</td><td>null</td><td>null</td><td>5</td><td>1</td><td>0</td><td>3.016892</td><td>0.766536</td><td>0.587293</td><td>0.766536</td><td>365</td><td>1</td><td>1</td><td>1</td><td>2</td></tr><tr><td>&quot;L3&quot;</td><td>18075</td><td>2019-01-01</td><td>2018-11-27</td><td>35</td><td>0</td><td>4</td><td>2019-01-01 15:10:00</td><td>2019-01-01 16:30:00</td><td>80</td><td>-480</td><td>0</td><td>3</td><td>32</td><td>9</td><td>null</td><td>null</td><td>3</td><td>4</td><td>0</td><td>2.7672</td><td>1.969383</td><td>1.372765</td><td>1.385398</td><td>365</td><td>1</td><td>1</td><td>1</td><td>2</td></tr><tr><td>&quot;L1&quot;</td><td>6241</td><td>2019-01-01</td><td>2018-11-27</td><td>35</td><td>0</td><td>10</td><td>2019-01-01 13:30:00</td><td>2019-01-01 16:24:00</td><td>174</td><td>-360</td><td>0</td><td>3</td><td>6</td><td>3</td><td>null</td><td>null</td><td>6</td><td>5</td><td>0</td><td>3.001438</td><td>1.139574</td><td>0.827263</td><td>1.369531</td><td>365</td><td>1</td><td>1</td><td>1</td><td>2</td></tr><tr><td>&hellip;</td><td>&hellip;</td><td>&hellip;</td><td>&hellip;</td><td>&hellip;</td><td>&hellip;</td><td>&hellip;</td><td>&hellip;</td><td>&hellip;</td><td>&hellip;</td><td>&hellip;</td><td>&hellip;</td><td>&hellip;</td><td>&hellip;</td><td>&hellip;</td><td>&hellip;</td><td>&hellip;</td><td>&hellip;</td><td>&hellip;</td><td>&hellip;</td><td>&hellip;</td><td>&hellip;</td><td>&hellip;</td><td>&hellip;</td><td>&hellip;</td><td>&hellip;</td><td>&hellip;</td><td>&hellip;</td><td>&hellip;</td></tr><tr><td>&quot;L3&quot;</td><td>8432</td><td>2019-01-07</td><td>2018-12-31</td><td>7</td><td>0</td><td>4</td><td>2019-01-07 18:05:00</td><td>2019-01-07 19:20:00</td><td>75</td><td>-480</td><td>0</td><td>4</td><td>46</td><td>13</td><td>null</td><td>null</td><td>3</td><td>4</td><td>0</td><td>2.7672</td><td>2.678017</td><td>2.014956</td><td>2.210787</td><td>371</td><td>1</td><td>7</td><td>2</td><td>1</td></tr><tr><td>&quot;L1&quot;</td><td>1575</td><td>2019-01-07</td><td>2018-12-31</td><td>7</td><td>0</td><td>5</td><td>2019-01-07 11:01:00</td><td>2019-01-07 12:49:00</td><td>108</td><td>-480</td><td>0</td><td>2</td><td>27</td><td>3</td><td>null</td><td>null</td><td>3</td><td>7</td><td>0</td><td>2.794683</td><td>1.058388</td><td>0.761261</td><td>1.097198</td><td>371</td><td>1</td><td>7</td><td>2</td><td>1</td></tr><tr><td>&quot;OTH&quot;</td><td>2294</td><td>2019-01-07</td><td>2018-12-31</td><td>7</td><td>0</td><td>3</td><td>2019-01-07 11:59:00</td><td>2019-01-07 16:57:00</td><td>298</td><td>-480</td><td>0</td><td>2</td><td>9</td><td>2</td><td>null</td><td>null</td><td>3</td><td>2</td><td>0</td><td>2.768284</td><td>0.925991</td><td>0.73871</td><td>1.063294</td><td>371</td><td>1</td><td>7</td><td>2</td><td>1</td></tr><tr><td>&quot;L3&quot;</td><td>8696</td><td>2019-01-07</td><td>2018-12-31</td><td>7</td><td>0</td><td>4</td><td>2019-01-07 20:00:00</td><td>2019-01-07 21:11:00</td><td>71</td><td>-480</td><td>0</td><td>5</td><td>46</td><td>6</td><td>null</td><td>null</td><td>3</td><td>4</td><td>0</td><td>2.7672</td><td>2.678017</td><td>2.014956</td><td>2.210787</td><td>371</td><td>1</td><td>7</td><td>2</td><td>1</td></tr><tr><td>&quot;L3&quot;</td><td>2539</td><td>2019-01-07</td><td>2018-12-31</td><td>7</td><td>0</td><td>4</td><td>2019-01-07 18:50:00</td><td>2019-01-07 19:55:00</td><td>65</td><td>-480</td><td>0</td><td>4</td><td>46</td><td>13</td><td>null</td><td>null</td><td>3</td><td>4</td><td>0</td><td>2.7672</td><td>2.678017</td><td>2.014956</td><td>2.210787</td><td>371</td><td>1</td><td>7</td><td>2</td><td>1</td></tr><tr><td>&quot;OTH&quot;</td><td>5292</td><td>2019-01-07</td><td>2018-12-31</td><td>7</td><td>0</td><td>6</td><td>null</td><td>null</td><td>null</td><td>null</td><td>null</td><td>null</td><td>null</td><td>null</td><td>null</td><td>null</td><td>4</td><td>3</td><td>1</td><td>2.611628</td><td>2.371568</td><td>2.367071</td><td>6.918146</td><td>371</td><td>1</td><td>7</td><td>2</td><td>1</td></tr><tr><td>&quot;OTH&quot;</td><td>6413</td><td>2019-01-07</td><td>2018-12-31</td><td>7</td><td>0</td><td>6</td><td>null</td><td>null</td><td>null</td><td>null</td><td>null</td><td>null</td><td>null</td><td>null</td><td>null</td><td>null</td><td>4</td><td>3</td><td>1</td><td>2.611628</td><td>2.371568</td><td>2.367071</td><td>6.918146</td><td>371</td><td>1</td><td>7</td><td>2</td><td>1</td></tr><tr><td>&quot;L1&quot;</td><td>1484</td><td>2019-01-07</td><td>2018-12-31</td><td>7</td><td>0</td><td>0</td><td>2019-01-07 11:06:00</td><td>2019-01-07 14:17:00</td><td>191</td><td>-420</td><td>0</td><td>2</td><td>9</td><td>3</td><td>null</td><td>null</td><td>0</td><td>5</td><td>0</td><td>2.871843</td><td>1.359619</td><td>0.836916</td><td>1.406209</td><td>371</td><td>1</td><td>7</td><td>2</td><td>1</td></tr><tr><td>&quot;L1&quot;</td><td>18471</td><td>2019-01-07</td><td>2018-12-31</td><td>7</td><td>0</td><td>0</td><td>2019-01-07 14:45:00</td><td>2019-01-07 17:59:00</td><td>194</td><td>-420</td><td>0</td><td>3</td><td>9</td><td>2</td><td>null</td><td>null</td><td>0</td><td>5</td><td>0</td><td>2.871843</td><td>1.359619</td><td>0.836916</td><td>1.406209</td><td>371</td><td>1</td><td>7</td><td>2</td><td>1</td></tr><tr><td>&quot;L1&quot;</td><td>1487</td><td>2019-01-07</td><td>2018-12-31</td><td>7</td><td>0</td><td>0</td><td>2019-01-07 17:46:00</td><td>2019-01-07 20:57:00</td><td>191</td><td>-420</td><td>0</td><td>4</td><td>9</td><td>2</td><td>null</td><td>null</td><td>0</td><td>5</td><td>0</td><td>2.871843</td><td>1.359619</td><td>0.836916</td><td>1.406209</td><td>371</td><td>1</td><td>7</td><td>2</td><td>1</td></tr></tbody></table></div>"
      ],
      "text/plain": [
       "shape: (29_825, 29)\n",
       "┌─────────┬─────────┬────────────┬────────────┬───┬────────────┬───────────┬───────────┬───────────┐\n",
       "│ carrier ┆ flt_num ┆ flt_depart ┆ observatio ┆ … ┆ flt_depart ┆ flt_depar ┆ flt_depar ┆ flt_depar │\n",
       "│ ---     ┆ ---     ┆ ure_dt     ┆ n_date     ┆   ┆ ure_month  ┆ ture_day  ┆ ture_week ┆ ture_week │\n",
       "│ str     ┆ i64     ┆ ---        ┆ ---        ┆   ┆ ---        ┆ ---       ┆ ---       ┆ day       │\n",
       "│         ┆         ┆ date       ┆ date       ┆   ┆ i8         ┆ i8        ┆ i8        ┆ ---       │\n",
       "│         ┆         ┆            ┆            ┆   ┆            ┆           ┆           ┆ i8        │\n",
       "╞═════════╪═════════╪════════════╪════════════╪═══╪════════════╪═══════════╪═══════════╪═══════════╡\n",
       "│ L2      ┆ 7465    ┆ 2019-01-01 ┆ 2018-11-27 ┆ … ┆ 1          ┆ 1         ┆ 1         ┆ 2         │\n",
       "│ L2      ┆ 7067    ┆ 2019-01-01 ┆ 2018-11-27 ┆ … ┆ 1          ┆ 1         ┆ 1         ┆ 2         │\n",
       "│ L2      ┆ 1232    ┆ 2019-01-01 ┆ 2018-11-27 ┆ … ┆ 1          ┆ 1         ┆ 1         ┆ 2         │\n",
       "│ U3      ┆ 752     ┆ 2019-01-01 ┆ 2018-11-27 ┆ … ┆ 1          ┆ 1         ┆ 1         ┆ 2         │\n",
       "│ L1      ┆ 5135    ┆ 2019-01-01 ┆ 2018-11-27 ┆ … ┆ 1          ┆ 1         ┆ 1         ┆ 2         │\n",
       "│ L1      ┆ 10966   ┆ 2019-01-01 ┆ 2018-11-27 ┆ … ┆ 1          ┆ 1         ┆ 1         ┆ 2         │\n",
       "│ L1      ┆ 2181    ┆ 2019-01-01 ┆ 2018-11-27 ┆ … ┆ 1          ┆ 1         ┆ 1         ┆ 2         │\n",
       "│ L1      ┆ 2724    ┆ 2019-01-01 ┆ 2018-11-27 ┆ … ┆ 1          ┆ 1         ┆ 1         ┆ 2         │\n",
       "│ L3      ┆ 18075   ┆ 2019-01-01 ┆ 2018-11-27 ┆ … ┆ 1          ┆ 1         ┆ 1         ┆ 2         │\n",
       "│ L1      ┆ 6241    ┆ 2019-01-01 ┆ 2018-11-27 ┆ … ┆ 1          ┆ 1         ┆ 1         ┆ 2         │\n",
       "│ …       ┆ …       ┆ …          ┆ …          ┆ … ┆ …          ┆ …         ┆ …         ┆ …         │\n",
       "│ L3      ┆ 8432    ┆ 2019-01-07 ┆ 2018-12-31 ┆ … ┆ 1          ┆ 7         ┆ 2         ┆ 1         │\n",
       "│ L1      ┆ 1575    ┆ 2019-01-07 ┆ 2018-12-31 ┆ … ┆ 1          ┆ 7         ┆ 2         ┆ 1         │\n",
       "│ OTH     ┆ 2294    ┆ 2019-01-07 ┆ 2018-12-31 ┆ … ┆ 1          ┆ 7         ┆ 2         ┆ 1         │\n",
       "│ L3      ┆ 8696    ┆ 2019-01-07 ┆ 2018-12-31 ┆ … ┆ 1          ┆ 7         ┆ 2         ┆ 1         │\n",
       "│ L3      ┆ 2539    ┆ 2019-01-07 ┆ 2018-12-31 ┆ … ┆ 1          ┆ 7         ┆ 2         ┆ 1         │\n",
       "│ OTH     ┆ 5292    ┆ 2019-01-07 ┆ 2018-12-31 ┆ … ┆ 1          ┆ 7         ┆ 2         ┆ 1         │\n",
       "│ OTH     ┆ 6413    ┆ 2019-01-07 ┆ 2018-12-31 ┆ … ┆ 1          ┆ 7         ┆ 2         ┆ 1         │\n",
       "│ L1      ┆ 1484    ┆ 2019-01-07 ┆ 2018-12-31 ┆ … ┆ 1          ┆ 7         ┆ 2         ┆ 1         │\n",
       "│ L1      ┆ 18471   ┆ 2019-01-07 ┆ 2018-12-31 ┆ … ┆ 1          ┆ 7         ┆ 2         ┆ 1         │\n",
       "│ L1      ┆ 1487    ┆ 2019-01-07 ┆ 2018-12-31 ┆ … ┆ 1          ┆ 7         ┆ 2         ┆ 1         │\n",
       "└─────────┴─────────┴────────────┴────────────┴───┴────────────┴───────────┴───────────┴───────────┘"
      ]
     },
     "execution_count": 24,
     "metadata": {},
     "output_type": "execute_result"
    }
   ],
   "source": [
    "test_df = test_df.with_columns(\n",
    "    pl.col('flt_departure_dt').dt.month().alias('flt_departure_month'),\n",
    "    pl.col('flt_departure_dt').dt.day().alias('flt_departure_day'),\n",
    "    pl.col('flt_departure_dt').dt.week().alias('flt_departure_week'),    \n",
    "    pl.col('flt_departure_dt').dt.weekday().alias('flt_departure_weekday')  \n",
    ")\n",
    "test_df"
   ]
  },
  {
   "cell_type": "markdown",
   "metadata": {},
   "source": [
    "### Imputation"
   ]
  },
  {
   "cell_type": "markdown",
   "metadata": {},
   "source": [
    "#### Null counts"
   ]
  },
  {
   "cell_type": "code",
   "execution_count": 25,
   "metadata": {},
   "outputs": [
    {
     "data": {
      "text/html": [
       "<div><style>\n",
       ".dataframe > thead > tr,\n",
       ".dataframe > tbody > tr {\n",
       "  text-align: right;\n",
       "  white-space: pre-wrap;\n",
       "}\n",
       "</style>\n",
       "<small>shape: (1, 32)</small><table border=\"1\" class=\"dataframe\"><thead><tr><th>carrier</th><th>flt_num</th><th>flt_departure_dt</th><th>observation_date</th><th>total_fare</th><th>days_till_flight</th><th>is_dst</th><th>route_id</th><th>flt_departure_local_time</th><th>flt_arrival_local_time</th><th>dur_min</th><th>tz_min</th><th>over_mn</th><th>dpt_4h_od</th><th>flt_count_dpt_24h</th><th>flt_count_dpt_4h</th><th>scaled_demand</th><th>scaled_share</th><th>origin_id</th><th>destination_id</th><th>flt_info_null</th><th>base_fare</th><th>log_fare</th><th>scaled_fare</th><th>7d_route_avg</th><th>14d_route_avg</th><th>7d_route_carrier_avg</th><th>days_since_start</th><th>flt_departure_month</th><th>flt_departure_day</th><th>flt_departure_week</th><th>flt_departure_weekday</th></tr><tr><td>u32</td><td>u32</td><td>u32</td><td>u32</td><td>u32</td><td>u32</td><td>u32</td><td>u32</td><td>u32</td><td>u32</td><td>u32</td><td>u32</td><td>u32</td><td>u32</td><td>u32</td><td>u32</td><td>u32</td><td>u32</td><td>u32</td><td>u32</td><td>u32</td><td>u32</td><td>u32</td><td>u32</td><td>u32</td><td>u32</td><td>u32</td><td>u32</td><td>u32</td><td>u32</td><td>u32</td><td>u32</td></tr></thead><tbody><tr><td>0</td><td>0</td><td>0</td><td>0</td><td>0</td><td>0</td><td>0</td><td>0</td><td>99114</td><td>99114</td><td>99114</td><td>99114</td><td>99114</td><td>99114</td><td>99114</td><td>99114</td><td>100313</td><td>100313</td><td>0</td><td>0</td><td>0</td><td>0</td><td>0</td><td>0</td><td>0</td><td>0</td><td>0</td><td>0</td><td>0</td><td>0</td><td>0</td><td>0</td></tr></tbody></table></div>"
      ],
      "text/plain": [
       "shape: (1, 32)\n",
       "┌─────────┬─────────┬────────────┬────────────┬───┬────────────┬───────────┬───────────┬───────────┐\n",
       "│ carrier ┆ flt_num ┆ flt_depart ┆ observatio ┆ … ┆ flt_depart ┆ flt_depar ┆ flt_depar ┆ flt_depar │\n",
       "│ ---     ┆ ---     ┆ ure_dt     ┆ n_date     ┆   ┆ ure_month  ┆ ture_day  ┆ ture_week ┆ ture_week │\n",
       "│ u32     ┆ u32     ┆ ---        ┆ ---        ┆   ┆ ---        ┆ ---       ┆ ---       ┆ day       │\n",
       "│         ┆         ┆ u32        ┆ u32        ┆   ┆ u32        ┆ u32       ┆ u32       ┆ ---       │\n",
       "│         ┆         ┆            ┆            ┆   ┆            ┆           ┆           ┆ u32       │\n",
       "╞═════════╪═════════╪════════════╪════════════╪═══╪════════════╪═══════════╪═══════════╪═══════════╡\n",
       "│ 0       ┆ 0       ┆ 0          ┆ 0          ┆ … ┆ 0          ┆ 0         ┆ 0         ┆ 0         │\n",
       "└─────────┴─────────┴────────────┴────────────┴───┴────────────┴───────────┴───────────┴───────────┘"
      ]
     },
     "execution_count": 25,
     "metadata": {},
     "output_type": "execute_result"
    }
   ],
   "source": [
    "train_df.null_count()"
   ]
  },
  {
   "cell_type": "code",
   "execution_count": 26,
   "metadata": {},
   "outputs": [
    {
     "data": {
      "text/html": [
       "<div><style>\n",
       ".dataframe > thead > tr,\n",
       ".dataframe > tbody > tr {\n",
       "  text-align: right;\n",
       "  white-space: pre-wrap;\n",
       "}\n",
       "</style>\n",
       "<small>shape: (1, 29)</small><table border=\"1\" class=\"dataframe\"><thead><tr><th>carrier</th><th>flt_num</th><th>flt_departure_dt</th><th>observation_date</th><th>days_till_flight</th><th>is_dst</th><th>route_id</th><th>flt_departure_local_time</th><th>flt_arrival_local_time</th><th>dur_min</th><th>tz_min</th><th>over_mn</th><th>dpt_4h_od</th><th>flt_count_dpt_24h</th><th>flt_count_dpt_4h</th><th>scaled_demand</th><th>scaled_share</th><th>origin_id</th><th>destination_id</th><th>flt_info_null</th><th>base_fare</th><th>7d_route_avg</th><th>14d_route_avg</th><th>7d_route_carrier_avg</th><th>days_since_start</th><th>flt_departure_month</th><th>flt_departure_day</th><th>flt_departure_week</th><th>flt_departure_weekday</th></tr><tr><td>u32</td><td>u32</td><td>u32</td><td>u32</td><td>u32</td><td>u32</td><td>u32</td><td>u32</td><td>u32</td><td>u32</td><td>u32</td><td>u32</td><td>u32</td><td>u32</td><td>u32</td><td>u32</td><td>u32</td><td>u32</td><td>u32</td><td>u32</td><td>u32</td><td>u32</td><td>u32</td><td>u32</td><td>u32</td><td>u32</td><td>u32</td><td>u32</td><td>u32</td></tr></thead><tbody><tr><td>0</td><td>0</td><td>0</td><td>0</td><td>0</td><td>0</td><td>0</td><td>1555</td><td>1555</td><td>1555</td><td>1555</td><td>1555</td><td>1555</td><td>1555</td><td>1555</td><td>29825</td><td>29825</td><td>0</td><td>0</td><td>0</td><td>0</td><td>0</td><td>0</td><td>0</td><td>0</td><td>0</td><td>0</td><td>0</td><td>0</td></tr></tbody></table></div>"
      ],
      "text/plain": [
       "shape: (1, 29)\n",
       "┌─────────┬─────────┬────────────┬────────────┬───┬────────────┬───────────┬───────────┬───────────┐\n",
       "│ carrier ┆ flt_num ┆ flt_depart ┆ observatio ┆ … ┆ flt_depart ┆ flt_depar ┆ flt_depar ┆ flt_depar │\n",
       "│ ---     ┆ ---     ┆ ure_dt     ┆ n_date     ┆   ┆ ure_month  ┆ ture_day  ┆ ture_week ┆ ture_week │\n",
       "│ u32     ┆ u32     ┆ ---        ┆ ---        ┆   ┆ ---        ┆ ---       ┆ ---       ┆ day       │\n",
       "│         ┆         ┆ u32        ┆ u32        ┆   ┆ u32        ┆ u32       ┆ u32       ┆ ---       │\n",
       "│         ┆         ┆            ┆            ┆   ┆            ┆           ┆           ┆ u32       │\n",
       "╞═════════╪═════════╪════════════╪════════════╪═══╪════════════╪═══════════╪═══════════╪═══════════╡\n",
       "│ 0       ┆ 0       ┆ 0          ┆ 0          ┆ … ┆ 0          ┆ 0         ┆ 0         ┆ 0         │\n",
       "└─────────┴─────────┴────────────┴────────────┴───┴────────────┴───────────┴───────────┴───────────┘"
      ]
     },
     "execution_count": 26,
     "metadata": {},
     "output_type": "execute_result"
    }
   ],
   "source": [
    "test_df.null_count()"
   ]
  },
  {
   "cell_type": "markdown",
   "metadata": {},
   "source": [
    "#### Flight duration"
   ]
  },
  {
   "cell_type": "code",
   "execution_count": 27,
   "metadata": {},
   "outputs": [
    {
     "data": {
      "text/html": [
       "<div><style>\n",
       ".dataframe > thead > tr,\n",
       ".dataframe > tbody > tr {\n",
       "  text-align: right;\n",
       "  white-space: pre-wrap;\n",
       "}\n",
       "</style>\n",
       "<small>shape: (34, 4)</small><table border=\"1\" class=\"dataframe\"><thead><tr><th>route_id</th><th>carrier</th><th>dur_mean</th><th>dur_std</th></tr><tr><td>u8</td><td>str</td><td>f64</td><td>f64</td></tr></thead><tbody><tr><td>0</td><td>&quot;L1&quot;</td><td>190.45</td><td>5.35</td></tr><tr><td>0</td><td>&quot;U3&quot;</td><td>193.58</td><td>3.52</td></tr><tr><td>1</td><td>&quot;L1&quot;</td><td>188.22</td><td>13.8</td></tr><tr><td>2</td><td>&quot;L1&quot;</td><td>77.75</td><td>7.21</td></tr><tr><td>2</td><td>&quot;OTH&quot;</td><td>73.91</td><td>7.77</td></tr><tr><td>2</td><td>&quot;U3&quot;</td><td>94.24</td><td>1.8</td></tr><tr><td>3</td><td>&quot;L1&quot;</td><td>296.25</td><td>4.04</td></tr><tr><td>3</td><td>&quot;OTH&quot;</td><td>297.09</td><td>3.3</td></tr><tr><td>3</td><td>&quot;U3&quot;</td><td>301.47</td><td>1.35</td></tr><tr><td>4</td><td>&quot;L1&quot;</td><td>83.59</td><td>6.59</td></tr><tr><td>&hellip;</td><td>&hellip;</td><td>&hellip;</td><td>&hellip;</td></tr><tr><td>7</td><td>&quot;U3&quot;</td><td>81.2</td><td>2.33</td></tr><tr><td>8</td><td>&quot;L1&quot;</td><td>277.95</td><td>6.46</td></tr><tr><td>9</td><td>&quot;L1&quot;</td><td>160.37</td><td>4.96</td></tr><tr><td>9</td><td>&quot;L2&quot;</td><td>164.36</td><td>3.93</td></tr><tr><td>10</td><td>&quot;L1&quot;</td><td>171.38</td><td>7.52</td></tr><tr><td>10</td><td>&quot;L2&quot;</td><td>161.55</td><td>5.92</td></tr><tr><td>11</td><td>&quot;L1&quot;</td><td>94.92</td><td>3.2</td></tr><tr><td>11</td><td>&quot;OTH&quot;</td><td>90.69</td><td>3.13</td></tr><tr><td>11</td><td>&quot;U1&quot;</td><td>94.43</td><td>3.0</td></tr><tr><td>11</td><td>&quot;U3&quot;</td><td>99.1</td><td>1.84</td></tr></tbody></table></div>"
      ],
      "text/plain": [
       "shape: (34, 4)\n",
       "┌──────────┬─────────┬──────────┬─────────┐\n",
       "│ route_id ┆ carrier ┆ dur_mean ┆ dur_std │\n",
       "│ ---      ┆ ---     ┆ ---      ┆ ---     │\n",
       "│ u8       ┆ str     ┆ f64      ┆ f64     │\n",
       "╞══════════╪═════════╪══════════╪═════════╡\n",
       "│ 0        ┆ L1      ┆ 190.45   ┆ 5.35    │\n",
       "│ 0        ┆ U3      ┆ 193.58   ┆ 3.52    │\n",
       "│ 1        ┆ L1      ┆ 188.22   ┆ 13.8    │\n",
       "│ 2        ┆ L1      ┆ 77.75    ┆ 7.21    │\n",
       "│ 2        ┆ OTH     ┆ 73.91    ┆ 7.77    │\n",
       "│ 2        ┆ U3      ┆ 94.24    ┆ 1.8     │\n",
       "│ 3        ┆ L1      ┆ 296.25   ┆ 4.04    │\n",
       "│ 3        ┆ OTH     ┆ 297.09   ┆ 3.3     │\n",
       "│ 3        ┆ U3      ┆ 301.47   ┆ 1.35    │\n",
       "│ 4        ┆ L1      ┆ 83.59    ┆ 6.59    │\n",
       "│ …        ┆ …       ┆ …        ┆ …       │\n",
       "│ 7        ┆ U3      ┆ 81.2     ┆ 2.33    │\n",
       "│ 8        ┆ L1      ┆ 277.95   ┆ 6.46    │\n",
       "│ 9        ┆ L1      ┆ 160.37   ┆ 4.96    │\n",
       "│ 9        ┆ L2      ┆ 164.36   ┆ 3.93    │\n",
       "│ 10       ┆ L1      ┆ 171.38   ┆ 7.52    │\n",
       "│ 10       ┆ L2      ┆ 161.55   ┆ 5.92    │\n",
       "│ 11       ┆ L1      ┆ 94.92    ┆ 3.2     │\n",
       "│ 11       ┆ OTH     ┆ 90.69    ┆ 3.13    │\n",
       "│ 11       ┆ U1      ┆ 94.43    ┆ 3.0     │\n",
       "│ 11       ┆ U3      ┆ 99.1     ┆ 1.84    │\n",
       "└──────────┴─────────┴──────────┴─────────┘"
      ]
     },
     "execution_count": 27,
     "metadata": {},
     "output_type": "execute_result"
    }
   ],
   "source": [
    "mean_durations = train_df.group_by('route_id', 'carrier').agg(\n",
    "    pl.col('dur_min').mean().round(2).alias(\"dur_mean\"),\n",
    "    pl.col('dur_min').std().round(2).alias(\"dur_std\")\n",
    ").sort('route_id', 'carrier')\n",
    "\n",
    "mean_durations"
   ]
  },
  {
   "cell_type": "code",
   "execution_count": 28,
   "metadata": {},
   "outputs": [
    {
     "data": {
      "text/plain": [
       "0"
      ]
     },
     "execution_count": 28,
     "metadata": {},
     "output_type": "execute_result"
    }
   ],
   "source": [
    "train_df = train_df.join(\n",
    "    mean_durations.drop('dur_std'),\n",
    "    on = ['route_id', 'carrier'],\n",
    "    how = 'left'\n",
    ").with_columns(\n",
    "    pl.coalesce(['dur_min', 'dur_mean'])\n",
    ")\n",
    "\n",
    "train_df['dur_min'].null_count()"
   ]
  },
  {
   "cell_type": "code",
   "execution_count": 29,
   "metadata": {},
   "outputs": [
    {
     "data": {
      "text/plain": [
       "0"
      ]
     },
     "execution_count": 29,
     "metadata": {},
     "output_type": "execute_result"
    }
   ],
   "source": [
    "test_df = test_df.join(\n",
    "    mean_durations.drop('dur_std'),\n",
    "    on = ['route_id', 'carrier'],\n",
    "    how = 'left'\n",
    ").with_columns(\n",
    "    pl.coalesce(['dur_min', 'dur_mean'])\n",
    ")\n",
    "\n",
    "test_df['dur_min'].null_count()"
   ]
  },
  {
   "cell_type": "markdown",
   "metadata": {},
   "source": [
    "#### Over midnight"
   ]
  },
  {
   "cell_type": "code",
   "execution_count": 30,
   "metadata": {},
   "outputs": [
    {
     "data": {
      "text/html": [
       "<div><style>\n",
       ".dataframe > thead > tr,\n",
       ".dataframe > tbody > tr {\n",
       "  text-align: right;\n",
       "  white-space: pre-wrap;\n",
       "}\n",
       "</style>\n",
       "<small>shape: (3, 2)</small><table border=\"1\" class=\"dataframe\"><thead><tr><th>over_mn</th><th>count</th></tr><tr><td>i8</td><td>u32</td></tr></thead><tbody><tr><td>1</td><td>21737</td></tr><tr><td>-1</td><td>99114</td></tr><tr><td>0</td><td>1577967</td></tr></tbody></table></div>"
      ],
      "text/plain": [
       "shape: (3, 2)\n",
       "┌─────────┬─────────┐\n",
       "│ over_mn ┆ count   │\n",
       "│ ---     ┆ ---     │\n",
       "│ i8      ┆ u32     │\n",
       "╞═════════╪═════════╡\n",
       "│ 1       ┆ 21737   │\n",
       "│ -1      ┆ 99114   │\n",
       "│ 0       ┆ 1577967 │\n",
       "└─────────┴─────────┘"
      ]
     },
     "execution_count": 30,
     "metadata": {},
     "output_type": "execute_result"
    }
   ],
   "source": [
    "train_df = train_df.with_columns(\n",
    "    pl.col('over_mn').fill_null(-1)\n",
    ")\n",
    "\n",
    "train_df['over_mn'].value_counts()"
   ]
  },
  {
   "cell_type": "code",
   "execution_count": 31,
   "metadata": {},
   "outputs": [
    {
     "data": {
      "text/html": [
       "<div><style>\n",
       ".dataframe > thead > tr,\n",
       ".dataframe > tbody > tr {\n",
       "  text-align: right;\n",
       "  white-space: pre-wrap;\n",
       "}\n",
       "</style>\n",
       "<small>shape: (3, 2)</small><table border=\"1\" class=\"dataframe\"><thead><tr><th>over_mn</th><th>count</th></tr><tr><td>i8</td><td>u32</td></tr></thead><tbody><tr><td>-1</td><td>1555</td></tr><tr><td>1</td><td>468</td></tr><tr><td>0</td><td>27802</td></tr></tbody></table></div>"
      ],
      "text/plain": [
       "shape: (3, 2)\n",
       "┌─────────┬───────┐\n",
       "│ over_mn ┆ count │\n",
       "│ ---     ┆ ---   │\n",
       "│ i8      ┆ u32   │\n",
       "╞═════════╪═══════╡\n",
       "│ -1      ┆ 1555  │\n",
       "│ 1       ┆ 468   │\n",
       "│ 0       ┆ 27802 │\n",
       "└─────────┴───────┘"
      ]
     },
     "execution_count": 31,
     "metadata": {},
     "output_type": "execute_result"
    }
   ],
   "source": [
    "test_df = test_df.with_columns(\n",
    "    pl.col('over_mn').fill_null(-1)\n",
    ")\n",
    "\n",
    "test_df['over_mn'].value_counts()"
   ]
  },
  {
   "cell_type": "markdown",
   "metadata": {},
   "source": [
    "#### Flight counts"
   ]
  },
  {
   "cell_type": "code",
   "execution_count": 32,
   "metadata": {},
   "outputs": [
    {
     "data": {
      "text/html": [
       "<div><style>\n",
       ".dataframe > thead > tr,\n",
       ".dataframe > tbody > tr {\n",
       "  text-align: right;\n",
       "  white-space: pre-wrap;\n",
       "}\n",
       "</style>\n",
       "<small>shape: (4_208, 3)</small><table border=\"1\" class=\"dataframe\"><thead><tr><th>flt_departure_dt</th><th>route_id</th><th>flt_count_dpt_24h</th></tr><tr><td>date</td><td>u8</td><td>u8</td></tr></thead><tbody><tr><td>2018-01-01</td><td>1</td><td>5</td></tr><tr><td>2018-01-01</td><td>4</td><td>30</td></tr><tr><td>2018-01-01</td><td>6</td><td>30</td></tr><tr><td>2018-01-01</td><td>8</td><td>4</td></tr><tr><td>2018-01-01</td><td>9</td><td>7</td></tr><tr><td>2018-01-01</td><td>11</td><td>21</td></tr><tr><td>2018-01-02</td><td>1</td><td>5</td></tr><tr><td>2018-01-02</td><td>4</td><td>30</td></tr><tr><td>2018-01-02</td><td>6</td><td>30</td></tr><tr><td>2018-01-02</td><td>8</td><td>5</td></tr><tr><td>&hellip;</td><td>&hellip;</td><td>&hellip;</td></tr><tr><td>2019-01-07</td><td>2</td><td>8</td></tr><tr><td>2019-01-07</td><td>3</td><td>9</td></tr><tr><td>2019-01-07</td><td>4</td><td>46</td></tr><tr><td>2019-01-07</td><td>5</td><td>27</td></tr><tr><td>2019-01-07</td><td>6</td><td>46</td></tr><tr><td>2019-01-07</td><td>7</td><td>9</td></tr><tr><td>2019-01-07</td><td>8</td><td>4</td></tr><tr><td>2019-01-07</td><td>9</td><td>7</td></tr><tr><td>2019-01-07</td><td>10</td><td>7</td></tr><tr><td>2019-01-07</td><td>11</td><td>28</td></tr></tbody></table></div>"
      ],
      "text/plain": [
       "shape: (4_208, 3)\n",
       "┌──────────────────┬──────────┬───────────────────┐\n",
       "│ flt_departure_dt ┆ route_id ┆ flt_count_dpt_24h │\n",
       "│ ---              ┆ ---      ┆ ---               │\n",
       "│ date             ┆ u8       ┆ u8                │\n",
       "╞══════════════════╪══════════╪═══════════════════╡\n",
       "│ 2018-01-01       ┆ 1        ┆ 5                 │\n",
       "│ 2018-01-01       ┆ 4        ┆ 30                │\n",
       "│ 2018-01-01       ┆ 6        ┆ 30                │\n",
       "│ 2018-01-01       ┆ 8        ┆ 4                 │\n",
       "│ 2018-01-01       ┆ 9        ┆ 7                 │\n",
       "│ 2018-01-01       ┆ 11       ┆ 21                │\n",
       "│ 2018-01-02       ┆ 1        ┆ 5                 │\n",
       "│ 2018-01-02       ┆ 4        ┆ 30                │\n",
       "│ 2018-01-02       ┆ 6        ┆ 30                │\n",
       "│ 2018-01-02       ┆ 8        ┆ 5                 │\n",
       "│ …                ┆ …        ┆ …                 │\n",
       "│ 2019-01-07       ┆ 2        ┆ 8                 │\n",
       "│ 2019-01-07       ┆ 3        ┆ 9                 │\n",
       "│ 2019-01-07       ┆ 4        ┆ 46                │\n",
       "│ 2019-01-07       ┆ 5        ┆ 27                │\n",
       "│ 2019-01-07       ┆ 6        ┆ 46                │\n",
       "│ 2019-01-07       ┆ 7        ┆ 9                 │\n",
       "│ 2019-01-07       ┆ 8        ┆ 4                 │\n",
       "│ 2019-01-07       ┆ 9        ┆ 7                 │\n",
       "│ 2019-01-07       ┆ 10       ┆ 7                 │\n",
       "│ 2019-01-07       ┆ 11       ┆ 28                │\n",
       "└──────────────────┴──────────┴───────────────────┘"
      ]
     },
     "execution_count": 32,
     "metadata": {},
     "output_type": "execute_result"
    }
   ],
   "source": [
    "flight_counts_daily = full_data.filter(\n",
    "    pl.col('flt_count_dpt_24h').is_not_null()\n",
    ").group_by(\n",
    "    'flt_departure_dt', 'route_id'\n",
    ").agg(\n",
    "    pl.col('flt_count_dpt_24h').first()\n",
    ").sort('flt_departure_dt', 'route_id')\n",
    "\n",
    "flight_counts_daily"
   ]
  },
  {
   "cell_type": "code",
   "execution_count": 33,
   "metadata": {},
   "outputs": [
    {
     "data": {
      "text/html": [
       "<div><style>\n",
       ".dataframe > thead > tr,\n",
       ".dataframe > tbody > tr {\n",
       "  text-align: right;\n",
       "  white-space: pre-wrap;\n",
       "}\n",
       "</style>\n",
       "<small>shape: (1, 3)</small><table border=\"1\" class=\"dataframe\"><thead><tr><th>flt_count_dpt_24h</th><th>flt_count_dpt_4h</th><th>dpt_4h_od</th></tr><tr><td>u32</td><td>u32</td><td>u32</td></tr></thead><tbody><tr><td>0</td><td>0</td><td>0</td></tr></tbody></table></div>"
      ],
      "text/plain": [
       "shape: (1, 3)\n",
       "┌───────────────────┬──────────────────┬───────────┐\n",
       "│ flt_count_dpt_24h ┆ flt_count_dpt_4h ┆ dpt_4h_od │\n",
       "│ ---               ┆ ---              ┆ ---       │\n",
       "│ u32               ┆ u32              ┆ u32       │\n",
       "╞═══════════════════╪══════════════════╪═══════════╡\n",
       "│ 0                 ┆ 0                ┆ 0         │\n",
       "└───────────────────┴──────────────────┴───────────┘"
      ]
     },
     "execution_count": 33,
     "metadata": {},
     "output_type": "execute_result"
    }
   ],
   "source": [
    "train_df = train_df.join(\n",
    "    flight_counts_daily,\n",
    "    on = ['flt_departure_dt', 'route_id'],\n",
    "    how = \"left\"\n",
    ").with_columns(\n",
    "    pl.coalesce(['flt_count_dpt_24h', 'flt_count_dpt_24h_right']),\n",
    "    pl.col('flt_count_dpt_4h').fill_null(-1),\n",
    "    pl.col('dpt_4h_od').fill_null(-1)\n",
    ").drop('flt_count_dpt_24h_right')\n",
    "\n",
    "train_df.select(\n",
    "    pl.col('flt_count_dpt_24h', 'flt_count_dpt_4h', 'dpt_4h_od').null_count()\n",
    ")"
   ]
  },
  {
   "cell_type": "code",
   "execution_count": 34,
   "metadata": {},
   "outputs": [
    {
     "data": {
      "text/html": [
       "<div><style>\n",
       ".dataframe > thead > tr,\n",
       ".dataframe > tbody > tr {\n",
       "  text-align: right;\n",
       "  white-space: pre-wrap;\n",
       "}\n",
       "</style>\n",
       "<small>shape: (1, 3)</small><table border=\"1\" class=\"dataframe\"><thead><tr><th>flt_count_dpt_24h</th><th>flt_count_dpt_4h</th><th>dpt_4h_od</th></tr><tr><td>u32</td><td>u32</td><td>u32</td></tr></thead><tbody><tr><td>0</td><td>0</td><td>0</td></tr></tbody></table></div>"
      ],
      "text/plain": [
       "shape: (1, 3)\n",
       "┌───────────────────┬──────────────────┬───────────┐\n",
       "│ flt_count_dpt_24h ┆ flt_count_dpt_4h ┆ dpt_4h_od │\n",
       "│ ---               ┆ ---              ┆ ---       │\n",
       "│ u32               ┆ u32              ┆ u32       │\n",
       "╞═══════════════════╪══════════════════╪═══════════╡\n",
       "│ 0                 ┆ 0                ┆ 0         │\n",
       "└───────────────────┴──────────────────┴───────────┘"
      ]
     },
     "execution_count": 34,
     "metadata": {},
     "output_type": "execute_result"
    }
   ],
   "source": [
    "test_df = test_df.join(\n",
    "    flight_counts_daily,\n",
    "    on = ['flt_departure_dt', 'route_id'],\n",
    "    how = \"left\"\n",
    ").with_columns(\n",
    "    pl.coalesce(['flt_count_dpt_24h', 'flt_count_dpt_24h_right']),\n",
    "    pl.col('flt_count_dpt_4h').fill_null(-1),\n",
    "    pl.col('dpt_4h_od').fill_null(-1)\n",
    ").drop('flt_count_dpt_24h_right')\n",
    "\n",
    "test_df.select(\n",
    "    pl.col('flt_count_dpt_24h', 'flt_count_dpt_4h', 'dpt_4h_od').null_count()\n",
    ")"
   ]
  },
  {
   "cell_type": "markdown",
   "metadata": {},
   "source": [
    "### Training datasets"
   ]
  },
  {
   "cell_type": "code",
   "execution_count": 35,
   "metadata": {},
   "outputs": [
    {
     "data": {
      "text/plain": [
       "((1698818, 20), (29825, 20), (1698818,))"
      ]
     },
     "execution_count": 35,
     "metadata": {},
     "output_type": "execute_result"
    }
   ],
   "source": [
    "TRAINING_COLS = [\n",
    "    'carrier', 'days_till_flight', 'origin_id', 'destination_id', 'route_id',\n",
    "    'dur_min', 'flt_info_null', 'days_since_start', 'is_dst',\n",
    "    'flt_departure_month', 'flt_departure_day',\n",
    "    'flt_departure_week', 'flt_departure_weekday',\n",
    "    '7d_route_avg', '14d_route_avg', '7d_route_carrier_avg', 'over_mn',\n",
    "    'flt_count_dpt_24h', 'flt_count_dpt_4h', 'dpt_4h_od'\n",
    "]\n",
    "\n",
    "X_train = train_df.select(TRAINING_COLS)\n",
    "X_test = test_df.select(TRAINING_COLS)\n",
    "\n",
    "y_train = train_df['scaled_fare']\n",
    "\n",
    "X_train.shape, X_test.shape, y_train.shape"
   ]
  },
  {
   "cell_type": "code",
   "execution_count": 36,
   "metadata": {},
   "outputs": [
    {
     "data": {
      "text/html": [
       "<div><style>\n",
       ".dataframe > thead > tr,\n",
       ".dataframe > tbody > tr {\n",
       "  text-align: right;\n",
       "  white-space: pre-wrap;\n",
       "}\n",
       "</style>\n",
       "<small>shape: (9, 21)</small><table border=\"1\" class=\"dataframe\"><thead><tr><th>statistic</th><th>carrier</th><th>days_till_flight</th><th>origin_id</th><th>destination_id</th><th>route_id</th><th>dur_min</th><th>flt_info_null</th><th>days_since_start</th><th>is_dst</th><th>flt_departure_month</th><th>flt_departure_day</th><th>flt_departure_week</th><th>flt_departure_weekday</th><th>7d_route_avg</th><th>14d_route_avg</th><th>7d_route_carrier_avg</th><th>over_mn</th><th>flt_count_dpt_24h</th><th>flt_count_dpt_4h</th><th>dpt_4h_od</th></tr><tr><td>str</td><td>str</td><td>f64</td><td>f64</td><td>f64</td><td>f64</td><td>f64</td><td>f64</td><td>f64</td><td>f64</td><td>f64</td><td>f64</td><td>f64</td><td>f64</td><td>f64</td><td>f64</td><td>f64</td><td>f64</td><td>f64</td><td>f64</td><td>f64</td></tr></thead><tbody><tr><td>&quot;count&quot;</td><td>&quot;1698818&quot;</td><td>1.698818e6</td><td>1.698818e6</td><td>1.698818e6</td><td>1.698818e6</td><td>1.698818e6</td><td>1.698818e6</td><td>1.698818e6</td><td>1.698818e6</td><td>1.698818e6</td><td>1.698818e6</td><td>1.698818e6</td><td>1.698818e6</td><td>1.698818e6</td><td>1.698818e6</td><td>1.698818e6</td><td>1.698818e6</td><td>1.698818e6</td><td>1.698818e6</td><td>1.698818e6</td></tr><tr><td>&quot;null_count&quot;</td><td>&quot;0&quot;</td><td>0.0</td><td>0.0</td><td>0.0</td><td>0.0</td><td>0.0</td><td>0.0</td><td>0.0</td><td>0.0</td><td>0.0</td><td>0.0</td><td>0.0</td><td>0.0</td><td>0.0</td><td>0.0</td><td>0.0</td><td>0.0</td><td>0.0</td><td>0.0</td><td>0.0</td></tr><tr><td>&quot;mean&quot;</td><td>null</td><td>17.419005</td><td>3.944983</td><td>3.839782</td><td>5.91818</td><td>113.915042</td><td>0.058343</td><td>174.70638</td><td>0.695564</td><td>6.289622</td><td>15.740982</td><td>25.393796</td><td>3.997182</td><td>0.996287</td><td>0.990306</td><td>0.999552</td><td>-0.045548</td><td>23.288579</td><td>4.933721</td><td>2.702888</td></tr><tr><td>&quot;std&quot;</td><td>null</td><td>12.959215</td><td>1.690606</td><td>1.631242</td><td>2.968049</td><td>61.224462</td><td>0.234391</td><td>102.80961</td><td>0.460168</td><td>3.361431</td><td>8.766298</td><td>14.675445</td><td>2.004736</td><td>0.330697</td><td>0.32166</td><td>0.410741</td><td>0.2628</td><td>11.708747</td><td>3.239793</td><td>1.531499</td></tr><tr><td>&quot;min&quot;</td><td>&quot;L1&quot;</td><td>0.0</td><td>0.0</td><td>0.0</td><td>0.0</td><td>60.0</td><td>0.0</td><td>0.0</td><td>0.0</td><td>1.0</td><td>1.0</td><td>1.0</td><td>1.0</td><td>0.446376</td><td>0.446376</td><td>0.423782</td><td>-1.0</td><td>2.0</td><td>-1.0</td><td>-1.0</td></tr><tr><td>&quot;25%&quot;</td><td>null</td><td>8.0</td><td>3.0</td><td>3.0</td><td>4.0</td><td>78.0</td><td>0.0</td><td>88.0</td><td>0.0</td><td>3.0</td><td>8.0</td><td>13.0</td><td>2.0</td><td>0.78691</td><td>0.788158</td><td>0.773349</td><td>0.0</td><td>9.0</td><td>2.0</td><td>2.0</td></tr><tr><td>&quot;50%&quot;</td><td>null</td><td>16.0</td><td>4.0</td><td>3.0</td><td>6.0</td><td>89.0</td><td>0.0</td><td>158.0</td><td>1.0</td><td>6.0</td><td>16.0</td><td>23.0</td><td>4.0</td><td>0.916847</td><td>0.919294</td><td>0.91021</td><td>0.0</td><td>23.0</td><td>5.0</td><td>3.0</td></tr><tr><td>&quot;75%&quot;</td><td>null</td><td>26.0</td><td>5.0</td><td>5.0</td><td>8.0</td><td>102.0</td><td>0.0</td><td>266.0</td><td>1.0</td><td>9.0</td><td>23.0</td><td>38.0</td><td>6.0</td><td>1.101758</td><td>1.089283</td><td>1.103423</td><td>0.0</td><td>35.0</td><td>8.0</td><td>4.0</td></tr><tr><td>&quot;max&quot;</td><td>&quot;U3&quot;</td><td>328.0</td><td>7.0</td><td>7.0</td><td>11.0</td><td>304.0</td><td>1.0</td><td>364.0</td><td>1.0</td><td>12.0</td><td>31.0</td><td>52.0</td><td>7.0</td><td>4.941696</td><td>4.941696</td><td>6.949706</td><td>1.0</td><td>43.0</td><td>12.0</td><td>5.0</td></tr></tbody></table></div>"
      ],
      "text/plain": [
       "shape: (9, 21)\n",
       "┌────────────┬─────────┬───────────┬───────────┬───┬───────────┬───────────┬───────────┬───────────┐\n",
       "│ statistic  ┆ carrier ┆ days_till ┆ origin_id ┆ … ┆ over_mn   ┆ flt_count ┆ flt_count ┆ dpt_4h_od │\n",
       "│ ---        ┆ ---     ┆ _flight   ┆ ---       ┆   ┆ ---       ┆ _dpt_24h  ┆ _dpt_4h   ┆ ---       │\n",
       "│ str        ┆ str     ┆ ---       ┆ f64       ┆   ┆ f64       ┆ ---       ┆ ---       ┆ f64       │\n",
       "│            ┆         ┆ f64       ┆           ┆   ┆           ┆ f64       ┆ f64       ┆           │\n",
       "╞════════════╪═════════╪═══════════╪═══════════╪═══╪═══════════╪═══════════╪═══════════╪═══════════╡\n",
       "│ count      ┆ 1698818 ┆ 1.698818e ┆ 1.698818e ┆ … ┆ 1.698818e ┆ 1.698818e ┆ 1.698818e ┆ 1.698818e │\n",
       "│            ┆         ┆ 6         ┆ 6         ┆   ┆ 6         ┆ 6         ┆ 6         ┆ 6         │\n",
       "│ null_count ┆ 0       ┆ 0.0       ┆ 0.0       ┆ … ┆ 0.0       ┆ 0.0       ┆ 0.0       ┆ 0.0       │\n",
       "│ mean       ┆ null    ┆ 17.419005 ┆ 3.944983  ┆ … ┆ -0.045548 ┆ 23.288579 ┆ 4.933721  ┆ 2.702888  │\n",
       "│ std        ┆ null    ┆ 12.959215 ┆ 1.690606  ┆ … ┆ 0.2628    ┆ 11.708747 ┆ 3.239793  ┆ 1.531499  │\n",
       "│ min        ┆ L1      ┆ 0.0       ┆ 0.0       ┆ … ┆ -1.0      ┆ 2.0       ┆ -1.0      ┆ -1.0      │\n",
       "│ 25%        ┆ null    ┆ 8.0       ┆ 3.0       ┆ … ┆ 0.0       ┆ 9.0       ┆ 2.0       ┆ 2.0       │\n",
       "│ 50%        ┆ null    ┆ 16.0      ┆ 4.0       ┆ … ┆ 0.0       ┆ 23.0      ┆ 5.0       ┆ 3.0       │\n",
       "│ 75%        ┆ null    ┆ 26.0      ┆ 5.0       ┆ … ┆ 0.0       ┆ 35.0      ┆ 8.0       ┆ 4.0       │\n",
       "│ max        ┆ U3      ┆ 328.0     ┆ 7.0       ┆ … ┆ 1.0       ┆ 43.0      ┆ 12.0      ┆ 5.0       │\n",
       "└────────────┴─────────┴───────────┴───────────┴───┴───────────┴───────────┴───────────┴───────────┘"
      ]
     },
     "execution_count": 36,
     "metadata": {},
     "output_type": "execute_result"
    }
   ],
   "source": [
    "X_train.describe()"
   ]
  },
  {
   "cell_type": "code",
   "execution_count": 37,
   "metadata": {},
   "outputs": [
    {
     "data": {
      "text/html": [
       "<div><style>\n",
       ".dataframe > thead > tr,\n",
       ".dataframe > tbody > tr {\n",
       "  text-align: right;\n",
       "  white-space: pre-wrap;\n",
       "}\n",
       "</style>\n",
       "<small>shape: (9, 21)</small><table border=\"1\" class=\"dataframe\"><thead><tr><th>statistic</th><th>carrier</th><th>days_till_flight</th><th>origin_id</th><th>destination_id</th><th>route_id</th><th>dur_min</th><th>flt_info_null</th><th>days_since_start</th><th>is_dst</th><th>flt_departure_month</th><th>flt_departure_day</th><th>flt_departure_week</th><th>flt_departure_weekday</th><th>7d_route_avg</th><th>14d_route_avg</th><th>7d_route_carrier_avg</th><th>over_mn</th><th>flt_count_dpt_24h</th><th>flt_count_dpt_4h</th><th>dpt_4h_od</th></tr><tr><td>str</td><td>str</td><td>f64</td><td>f64</td><td>f64</td><td>f64</td><td>f64</td><td>f64</td><td>f64</td><td>f64</td><td>f64</td><td>f64</td><td>f64</td><td>f64</td><td>f64</td><td>f64</td><td>f64</td><td>f64</td><td>f64</td><td>f64</td><td>f64</td></tr></thead><tbody><tr><td>&quot;count&quot;</td><td>&quot;29825&quot;</td><td>29825.0</td><td>29825.0</td><td>29825.0</td><td>29825.0</td><td>29825.0</td><td>29825.0</td><td>29825.0</td><td>29825.0</td><td>29825.0</td><td>29825.0</td><td>29825.0</td><td>29825.0</td><td>29825.0</td><td>29825.0</td><td>29825.0</td><td>29825.0</td><td>29825.0</td><td>29825.0</td><td>29825.0</td></tr><tr><td>&quot;null_count&quot;</td><td>&quot;0&quot;</td><td>0.0</td><td>0.0</td><td>0.0</td><td>0.0</td><td>0.0</td><td>0.0</td><td>0.0</td><td>0.0</td><td>0.0</td><td>0.0</td><td>0.0</td><td>0.0</td><td>0.0</td><td>0.0</td><td>0.0</td><td>0.0</td><td>0.0</td><td>0.0</td><td>0.0</td></tr><tr><td>&quot;mean&quot;</td><td>null</td><td>19.635038</td><td>3.837754</td><td>3.816362</td><td>5.714032</td><td>115.353547</td><td>0.052137</td><td>368.071584</td><td>0.0</td><td>1.0</td><td>4.071584</td><td>1.154468</td><td>3.99031</td><td>1.631351</td><td>1.390124</td><td>1.743162</td><td>-0.036446</td><td>23.435172</td><td>4.853412</td><td>2.703034</td></tr><tr><td>&quot;std&quot;</td><td>null</td><td>9.468618</td><td>1.666138</td><td>1.665688</td><td>2.938501</td><td>63.937327</td><td>0.222308</td><td>2.007415</td><td>0.0</td><td>0.0</td><td>2.007415</td><td>0.361403</td><td>2.024016</td><td>0.599936</td><td>0.562071</td><td>1.824038</td><td>0.257882</td><td>12.898598</td><td>3.342812</td><td>1.508079</td></tr><tr><td>&quot;min&quot;</td><td>&quot;L1&quot;</td><td>1.0</td><td>0.0</td><td>0.0</td><td>0.0</td><td>63.0</td><td>0.0</td><td>365.0</td><td>0.0</td><td>1.0</td><td>1.0</td><td>1.0</td><td>1.0</td><td>0.711031</td><td>0.587293</td><td>0.662964</td><td>-1.0</td><td>4.0</td><td>-1.0</td><td>-1.0</td></tr><tr><td>&quot;25%&quot;</td><td>null</td><td>11.0</td><td>3.0</td><td>3.0</td><td>4.0</td><td>77.0</td><td>0.0</td><td>366.0</td><td>0.0</td><td>1.0</td><td>2.0</td><td>1.0</td><td>2.0</td><td>1.076681</td><td>0.830013</td><td>0.98806</td><td>0.0</td><td>9.0</td><td>2.0</td><td>2.0</td></tr><tr><td>&quot;50%&quot;</td><td>null</td><td>20.0</td><td>3.0</td><td>3.0</td><td>5.0</td><td>86.0</td><td>0.0</td><td>368.0</td><td>0.0</td><td>1.0</td><td>4.0</td><td>1.0</td><td>4.0</td><td>1.415705</td><td>1.382878</td><td>1.181592</td><td>0.0</td><td>22.0</td><td>4.0</td><td>3.0</td></tr><tr><td>&quot;75%&quot;</td><td>null</td><td>28.0</td><td>5.0</td><td>5.0</td><td>7.0</td><td>101.0</td><td>0.0</td><td>370.0</td><td>0.0</td><td>1.0</td><td>6.0</td><td>1.0</td><td>6.0</td><td>2.223062</td><td>1.774327</td><td>1.388847</td><td>0.0</td><td>35.0</td><td>8.0</td><td>4.0</td></tr><tr><td>&quot;max&quot;</td><td>&quot;U3&quot;</td><td>41.0</td><td>7.0</td><td>7.0</td><td>11.0</td><td>304.0</td><td>1.0</td><td>371.0</td><td>0.0</td><td>1.0</td><td>7.0</td><td>2.0</td><td>7.0</td><td>2.678017</td><td>2.627283</td><td>8.696345</td><td>1.0</td><td>46.0</td><td>14.0</td><td>5.0</td></tr></tbody></table></div>"
      ],
      "text/plain": [
       "shape: (9, 21)\n",
       "┌────────────┬─────────┬───────────┬───────────┬───┬───────────┬───────────┬───────────┬───────────┐\n",
       "│ statistic  ┆ carrier ┆ days_till ┆ origin_id ┆ … ┆ over_mn   ┆ flt_count ┆ flt_count ┆ dpt_4h_od │\n",
       "│ ---        ┆ ---     ┆ _flight   ┆ ---       ┆   ┆ ---       ┆ _dpt_24h  ┆ _dpt_4h   ┆ ---       │\n",
       "│ str        ┆ str     ┆ ---       ┆ f64       ┆   ┆ f64       ┆ ---       ┆ ---       ┆ f64       │\n",
       "│            ┆         ┆ f64       ┆           ┆   ┆           ┆ f64       ┆ f64       ┆           │\n",
       "╞════════════╪═════════╪═══════════╪═══════════╪═══╪═══════════╪═══════════╪═══════════╪═══════════╡\n",
       "│ count      ┆ 29825   ┆ 29825.0   ┆ 29825.0   ┆ … ┆ 29825.0   ┆ 29825.0   ┆ 29825.0   ┆ 29825.0   │\n",
       "│ null_count ┆ 0       ┆ 0.0       ┆ 0.0       ┆ … ┆ 0.0       ┆ 0.0       ┆ 0.0       ┆ 0.0       │\n",
       "│ mean       ┆ null    ┆ 19.635038 ┆ 3.837754  ┆ … ┆ -0.036446 ┆ 23.435172 ┆ 4.853412  ┆ 2.703034  │\n",
       "│ std        ┆ null    ┆ 9.468618  ┆ 1.666138  ┆ … ┆ 0.257882  ┆ 12.898598 ┆ 3.342812  ┆ 1.508079  │\n",
       "│ min        ┆ L1      ┆ 1.0       ┆ 0.0       ┆ … ┆ -1.0      ┆ 4.0       ┆ -1.0      ┆ -1.0      │\n",
       "│ 25%        ┆ null    ┆ 11.0      ┆ 3.0       ┆ … ┆ 0.0       ┆ 9.0       ┆ 2.0       ┆ 2.0       │\n",
       "│ 50%        ┆ null    ┆ 20.0      ┆ 3.0       ┆ … ┆ 0.0       ┆ 22.0      ┆ 4.0       ┆ 3.0       │\n",
       "│ 75%        ┆ null    ┆ 28.0      ┆ 5.0       ┆ … ┆ 0.0       ┆ 35.0      ┆ 8.0       ┆ 4.0       │\n",
       "│ max        ┆ U3      ┆ 41.0      ┆ 7.0       ┆ … ┆ 1.0       ┆ 46.0      ┆ 14.0      ┆ 5.0       │\n",
       "└────────────┴─────────┴───────────┴───────────┴───┴───────────┴───────────┴───────────┴───────────┘"
      ]
     },
     "execution_count": 37,
     "metadata": {},
     "output_type": "execute_result"
    }
   ],
   "source": [
    "X_test.describe()"
   ]
  },
  {
   "cell_type": "markdown",
   "metadata": {},
   "source": [
    "## Modelling"
   ]
  },
  {
   "cell_type": "markdown",
   "metadata": {},
   "source": [
    "### Training"
   ]
  },
  {
   "cell_type": "code",
   "execution_count": 38,
   "metadata": {},
   "outputs": [
    {
     "data": {
      "text/html": [
       "<style>#sk-container-id-1 {\n",
       "  /* Definition of color scheme common for light and dark mode */\n",
       "  --sklearn-color-text: black;\n",
       "  --sklearn-color-line: gray;\n",
       "  /* Definition of color scheme for unfitted estimators */\n",
       "  --sklearn-color-unfitted-level-0: #fff5e6;\n",
       "  --sklearn-color-unfitted-level-1: #f6e4d2;\n",
       "  --sklearn-color-unfitted-level-2: #ffe0b3;\n",
       "  --sklearn-color-unfitted-level-3: chocolate;\n",
       "  /* Definition of color scheme for fitted estimators */\n",
       "  --sklearn-color-fitted-level-0: #f0f8ff;\n",
       "  --sklearn-color-fitted-level-1: #d4ebff;\n",
       "  --sklearn-color-fitted-level-2: #b3dbfd;\n",
       "  --sklearn-color-fitted-level-3: cornflowerblue;\n",
       "\n",
       "  /* Specific color for light theme */\n",
       "  --sklearn-color-text-on-default-background: var(--sg-text-color, var(--theme-code-foreground, var(--jp-content-font-color1, black)));\n",
       "  --sklearn-color-background: var(--sg-background-color, var(--theme-background, var(--jp-layout-color0, white)));\n",
       "  --sklearn-color-border-box: var(--sg-text-color, var(--theme-code-foreground, var(--jp-content-font-color1, black)));\n",
       "  --sklearn-color-icon: #696969;\n",
       "\n",
       "  @media (prefers-color-scheme: dark) {\n",
       "    /* Redefinition of color scheme for dark theme */\n",
       "    --sklearn-color-text-on-default-background: var(--sg-text-color, var(--theme-code-foreground, var(--jp-content-font-color1, white)));\n",
       "    --sklearn-color-background: var(--sg-background-color, var(--theme-background, var(--jp-layout-color0, #111)));\n",
       "    --sklearn-color-border-box: var(--sg-text-color, var(--theme-code-foreground, var(--jp-content-font-color1, white)));\n",
       "    --sklearn-color-icon: #878787;\n",
       "  }\n",
       "}\n",
       "\n",
       "#sk-container-id-1 {\n",
       "  color: var(--sklearn-color-text);\n",
       "}\n",
       "\n",
       "#sk-container-id-1 pre {\n",
       "  padding: 0;\n",
       "}\n",
       "\n",
       "#sk-container-id-1 input.sk-hidden--visually {\n",
       "  border: 0;\n",
       "  clip: rect(1px 1px 1px 1px);\n",
       "  clip: rect(1px, 1px, 1px, 1px);\n",
       "  height: 1px;\n",
       "  margin: -1px;\n",
       "  overflow: hidden;\n",
       "  padding: 0;\n",
       "  position: absolute;\n",
       "  width: 1px;\n",
       "}\n",
       "\n",
       "#sk-container-id-1 div.sk-dashed-wrapped {\n",
       "  border: 1px dashed var(--sklearn-color-line);\n",
       "  margin: 0 0.4em 0.5em 0.4em;\n",
       "  box-sizing: border-box;\n",
       "  padding-bottom: 0.4em;\n",
       "  background-color: var(--sklearn-color-background);\n",
       "}\n",
       "\n",
       "#sk-container-id-1 div.sk-container {\n",
       "  /* jupyter's `normalize.less` sets `[hidden] { display: none; }`\n",
       "     but bootstrap.min.css set `[hidden] { display: none !important; }`\n",
       "     so we also need the `!important` here to be able to override the\n",
       "     default hidden behavior on the sphinx rendered scikit-learn.org.\n",
       "     See: https://github.com/scikit-learn/scikit-learn/issues/21755 */\n",
       "  display: inline-block !important;\n",
       "  position: relative;\n",
       "}\n",
       "\n",
       "#sk-container-id-1 div.sk-text-repr-fallback {\n",
       "  display: none;\n",
       "}\n",
       "\n",
       "div.sk-parallel-item,\n",
       "div.sk-serial,\n",
       "div.sk-item {\n",
       "  /* draw centered vertical line to link estimators */\n",
       "  background-image: linear-gradient(var(--sklearn-color-text-on-default-background), var(--sklearn-color-text-on-default-background));\n",
       "  background-size: 2px 100%;\n",
       "  background-repeat: no-repeat;\n",
       "  background-position: center center;\n",
       "}\n",
       "\n",
       "/* Parallel-specific style estimator block */\n",
       "\n",
       "#sk-container-id-1 div.sk-parallel-item::after {\n",
       "  content: \"\";\n",
       "  width: 100%;\n",
       "  border-bottom: 2px solid var(--sklearn-color-text-on-default-background);\n",
       "  flex-grow: 1;\n",
       "}\n",
       "\n",
       "#sk-container-id-1 div.sk-parallel {\n",
       "  display: flex;\n",
       "  align-items: stretch;\n",
       "  justify-content: center;\n",
       "  background-color: var(--sklearn-color-background);\n",
       "  position: relative;\n",
       "}\n",
       "\n",
       "#sk-container-id-1 div.sk-parallel-item {\n",
       "  display: flex;\n",
       "  flex-direction: column;\n",
       "}\n",
       "\n",
       "#sk-container-id-1 div.sk-parallel-item:first-child::after {\n",
       "  align-self: flex-end;\n",
       "  width: 50%;\n",
       "}\n",
       "\n",
       "#sk-container-id-1 div.sk-parallel-item:last-child::after {\n",
       "  align-self: flex-start;\n",
       "  width: 50%;\n",
       "}\n",
       "\n",
       "#sk-container-id-1 div.sk-parallel-item:only-child::after {\n",
       "  width: 0;\n",
       "}\n",
       "\n",
       "/* Serial-specific style estimator block */\n",
       "\n",
       "#sk-container-id-1 div.sk-serial {\n",
       "  display: flex;\n",
       "  flex-direction: column;\n",
       "  align-items: center;\n",
       "  background-color: var(--sklearn-color-background);\n",
       "  padding-right: 1em;\n",
       "  padding-left: 1em;\n",
       "}\n",
       "\n",
       "\n",
       "/* Toggleable style: style used for estimator/Pipeline/ColumnTransformer box that is\n",
       "clickable and can be expanded/collapsed.\n",
       "- Pipeline and ColumnTransformer use this feature and define the default style\n",
       "- Estimators will overwrite some part of the style using the `sk-estimator` class\n",
       "*/\n",
       "\n",
       "/* Pipeline and ColumnTransformer style (default) */\n",
       "\n",
       "#sk-container-id-1 div.sk-toggleable {\n",
       "  /* Default theme specific background. It is overwritten whether we have a\n",
       "  specific estimator or a Pipeline/ColumnTransformer */\n",
       "  background-color: var(--sklearn-color-background);\n",
       "}\n",
       "\n",
       "/* Toggleable label */\n",
       "#sk-container-id-1 label.sk-toggleable__label {\n",
       "  cursor: pointer;\n",
       "  display: block;\n",
       "  width: 100%;\n",
       "  margin-bottom: 0;\n",
       "  padding: 0.5em;\n",
       "  box-sizing: border-box;\n",
       "  text-align: center;\n",
       "}\n",
       "\n",
       "#sk-container-id-1 label.sk-toggleable__label-arrow:before {\n",
       "  /* Arrow on the left of the label */\n",
       "  content: \"▸\";\n",
       "  float: left;\n",
       "  margin-right: 0.25em;\n",
       "  color: var(--sklearn-color-icon);\n",
       "}\n",
       "\n",
       "#sk-container-id-1 label.sk-toggleable__label-arrow:hover:before {\n",
       "  color: var(--sklearn-color-text);\n",
       "}\n",
       "\n",
       "/* Toggleable content - dropdown */\n",
       "\n",
       "#sk-container-id-1 div.sk-toggleable__content {\n",
       "  max-height: 0;\n",
       "  max-width: 0;\n",
       "  overflow: hidden;\n",
       "  text-align: left;\n",
       "  /* unfitted */\n",
       "  background-color: var(--sklearn-color-unfitted-level-0);\n",
       "}\n",
       "\n",
       "#sk-container-id-1 div.sk-toggleable__content.fitted {\n",
       "  /* fitted */\n",
       "  background-color: var(--sklearn-color-fitted-level-0);\n",
       "}\n",
       "\n",
       "#sk-container-id-1 div.sk-toggleable__content pre {\n",
       "  margin: 0.2em;\n",
       "  border-radius: 0.25em;\n",
       "  color: var(--sklearn-color-text);\n",
       "  /* unfitted */\n",
       "  background-color: var(--sklearn-color-unfitted-level-0);\n",
       "}\n",
       "\n",
       "#sk-container-id-1 div.sk-toggleable__content.fitted pre {\n",
       "  /* unfitted */\n",
       "  background-color: var(--sklearn-color-fitted-level-0);\n",
       "}\n",
       "\n",
       "#sk-container-id-1 input.sk-toggleable__control:checked~div.sk-toggleable__content {\n",
       "  /* Expand drop-down */\n",
       "  max-height: 200px;\n",
       "  max-width: 100%;\n",
       "  overflow: auto;\n",
       "}\n",
       "\n",
       "#sk-container-id-1 input.sk-toggleable__control:checked~label.sk-toggleable__label-arrow:before {\n",
       "  content: \"▾\";\n",
       "}\n",
       "\n",
       "/* Pipeline/ColumnTransformer-specific style */\n",
       "\n",
       "#sk-container-id-1 div.sk-label input.sk-toggleable__control:checked~label.sk-toggleable__label {\n",
       "  color: var(--sklearn-color-text);\n",
       "  background-color: var(--sklearn-color-unfitted-level-2);\n",
       "}\n",
       "\n",
       "#sk-container-id-1 div.sk-label.fitted input.sk-toggleable__control:checked~label.sk-toggleable__label {\n",
       "  background-color: var(--sklearn-color-fitted-level-2);\n",
       "}\n",
       "\n",
       "/* Estimator-specific style */\n",
       "\n",
       "/* Colorize estimator box */\n",
       "#sk-container-id-1 div.sk-estimator input.sk-toggleable__control:checked~label.sk-toggleable__label {\n",
       "  /* unfitted */\n",
       "  background-color: var(--sklearn-color-unfitted-level-2);\n",
       "}\n",
       "\n",
       "#sk-container-id-1 div.sk-estimator.fitted input.sk-toggleable__control:checked~label.sk-toggleable__label {\n",
       "  /* fitted */\n",
       "  background-color: var(--sklearn-color-fitted-level-2);\n",
       "}\n",
       "\n",
       "#sk-container-id-1 div.sk-label label.sk-toggleable__label,\n",
       "#sk-container-id-1 div.sk-label label {\n",
       "  /* The background is the default theme color */\n",
       "  color: var(--sklearn-color-text-on-default-background);\n",
       "}\n",
       "\n",
       "/* On hover, darken the color of the background */\n",
       "#sk-container-id-1 div.sk-label:hover label.sk-toggleable__label {\n",
       "  color: var(--sklearn-color-text);\n",
       "  background-color: var(--sklearn-color-unfitted-level-2);\n",
       "}\n",
       "\n",
       "/* Label box, darken color on hover, fitted */\n",
       "#sk-container-id-1 div.sk-label.fitted:hover label.sk-toggleable__label.fitted {\n",
       "  color: var(--sklearn-color-text);\n",
       "  background-color: var(--sklearn-color-fitted-level-2);\n",
       "}\n",
       "\n",
       "/* Estimator label */\n",
       "\n",
       "#sk-container-id-1 div.sk-label label {\n",
       "  font-family: monospace;\n",
       "  font-weight: bold;\n",
       "  display: inline-block;\n",
       "  line-height: 1.2em;\n",
       "}\n",
       "\n",
       "#sk-container-id-1 div.sk-label-container {\n",
       "  text-align: center;\n",
       "}\n",
       "\n",
       "/* Estimator-specific */\n",
       "#sk-container-id-1 div.sk-estimator {\n",
       "  font-family: monospace;\n",
       "  border: 1px dotted var(--sklearn-color-border-box);\n",
       "  border-radius: 0.25em;\n",
       "  box-sizing: border-box;\n",
       "  margin-bottom: 0.5em;\n",
       "  /* unfitted */\n",
       "  background-color: var(--sklearn-color-unfitted-level-0);\n",
       "}\n",
       "\n",
       "#sk-container-id-1 div.sk-estimator.fitted {\n",
       "  /* fitted */\n",
       "  background-color: var(--sklearn-color-fitted-level-0);\n",
       "}\n",
       "\n",
       "/* on hover */\n",
       "#sk-container-id-1 div.sk-estimator:hover {\n",
       "  /* unfitted */\n",
       "  background-color: var(--sklearn-color-unfitted-level-2);\n",
       "}\n",
       "\n",
       "#sk-container-id-1 div.sk-estimator.fitted:hover {\n",
       "  /* fitted */\n",
       "  background-color: var(--sklearn-color-fitted-level-2);\n",
       "}\n",
       "\n",
       "/* Specification for estimator info (e.g. \"i\" and \"?\") */\n",
       "\n",
       "/* Common style for \"i\" and \"?\" */\n",
       "\n",
       ".sk-estimator-doc-link,\n",
       "a:link.sk-estimator-doc-link,\n",
       "a:visited.sk-estimator-doc-link {\n",
       "  float: right;\n",
       "  font-size: smaller;\n",
       "  line-height: 1em;\n",
       "  font-family: monospace;\n",
       "  background-color: var(--sklearn-color-background);\n",
       "  border-radius: 1em;\n",
       "  height: 1em;\n",
       "  width: 1em;\n",
       "  text-decoration: none !important;\n",
       "  margin-left: 1ex;\n",
       "  /* unfitted */\n",
       "  border: var(--sklearn-color-unfitted-level-1) 1pt solid;\n",
       "  color: var(--sklearn-color-unfitted-level-1);\n",
       "}\n",
       "\n",
       ".sk-estimator-doc-link.fitted,\n",
       "a:link.sk-estimator-doc-link.fitted,\n",
       "a:visited.sk-estimator-doc-link.fitted {\n",
       "  /* fitted */\n",
       "  border: var(--sklearn-color-fitted-level-1) 1pt solid;\n",
       "  color: var(--sklearn-color-fitted-level-1);\n",
       "}\n",
       "\n",
       "/* On hover */\n",
       "div.sk-estimator:hover .sk-estimator-doc-link:hover,\n",
       ".sk-estimator-doc-link:hover,\n",
       "div.sk-label-container:hover .sk-estimator-doc-link:hover,\n",
       ".sk-estimator-doc-link:hover {\n",
       "  /* unfitted */\n",
       "  background-color: var(--sklearn-color-unfitted-level-3);\n",
       "  color: var(--sklearn-color-background);\n",
       "  text-decoration: none;\n",
       "}\n",
       "\n",
       "div.sk-estimator.fitted:hover .sk-estimator-doc-link.fitted:hover,\n",
       ".sk-estimator-doc-link.fitted:hover,\n",
       "div.sk-label-container:hover .sk-estimator-doc-link.fitted:hover,\n",
       ".sk-estimator-doc-link.fitted:hover {\n",
       "  /* fitted */\n",
       "  background-color: var(--sklearn-color-fitted-level-3);\n",
       "  color: var(--sklearn-color-background);\n",
       "  text-decoration: none;\n",
       "}\n",
       "\n",
       "/* Span, style for the box shown on hovering the info icon */\n",
       ".sk-estimator-doc-link span {\n",
       "  display: none;\n",
       "  z-index: 9999;\n",
       "  position: relative;\n",
       "  font-weight: normal;\n",
       "  right: .2ex;\n",
       "  padding: .5ex;\n",
       "  margin: .5ex;\n",
       "  width: min-content;\n",
       "  min-width: 20ex;\n",
       "  max-width: 50ex;\n",
       "  color: var(--sklearn-color-text);\n",
       "  box-shadow: 2pt 2pt 4pt #999;\n",
       "  /* unfitted */\n",
       "  background: var(--sklearn-color-unfitted-level-0);\n",
       "  border: .5pt solid var(--sklearn-color-unfitted-level-3);\n",
       "}\n",
       "\n",
       ".sk-estimator-doc-link.fitted span {\n",
       "  /* fitted */\n",
       "  background: var(--sklearn-color-fitted-level-0);\n",
       "  border: var(--sklearn-color-fitted-level-3);\n",
       "}\n",
       "\n",
       ".sk-estimator-doc-link:hover span {\n",
       "  display: block;\n",
       "}\n",
       "\n",
       "/* \"?\"-specific style due to the `<a>` HTML tag */\n",
       "\n",
       "#sk-container-id-1 a.estimator_doc_link {\n",
       "  float: right;\n",
       "  font-size: 1rem;\n",
       "  line-height: 1em;\n",
       "  font-family: monospace;\n",
       "  background-color: var(--sklearn-color-background);\n",
       "  border-radius: 1rem;\n",
       "  height: 1rem;\n",
       "  width: 1rem;\n",
       "  text-decoration: none;\n",
       "  /* unfitted */\n",
       "  color: var(--sklearn-color-unfitted-level-1);\n",
       "  border: var(--sklearn-color-unfitted-level-1) 1pt solid;\n",
       "}\n",
       "\n",
       "#sk-container-id-1 a.estimator_doc_link.fitted {\n",
       "  /* fitted */\n",
       "  border: var(--sklearn-color-fitted-level-1) 1pt solid;\n",
       "  color: var(--sklearn-color-fitted-level-1);\n",
       "}\n",
       "\n",
       "/* On hover */\n",
       "#sk-container-id-1 a.estimator_doc_link:hover {\n",
       "  /* unfitted */\n",
       "  background-color: var(--sklearn-color-unfitted-level-3);\n",
       "  color: var(--sklearn-color-background);\n",
       "  text-decoration: none;\n",
       "}\n",
       "\n",
       "#sk-container-id-1 a.estimator_doc_link.fitted:hover {\n",
       "  /* fitted */\n",
       "  background-color: var(--sklearn-color-fitted-level-3);\n",
       "}\n",
       "</style><div id=\"sk-container-id-1\" class=\"sk-top-container\"><div class=\"sk-text-repr-fallback\"><pre>Pipeline(steps=[(&#x27;col_transformer&#x27;,\n",
       "                 ColumnTransformer(remainder=&#x27;passthrough&#x27;, sparse_threshold=0,\n",
       "                                   transformers=[(&#x27;ord&#x27;, OrdinalEncoder(),\n",
       "                                                  [&#x27;carrier&#x27;])])),\n",
       "                (&#x27;gbr&#x27;,\n",
       "                 GradientBoostingRegressor(max_depth=4, n_estimators=250,\n",
       "                                           random_state=7))])</pre><b>In a Jupyter environment, please rerun this cell to show the HTML representation or trust the notebook. <br />On GitHub, the HTML representation is unable to render, please try loading this page with nbviewer.org.</b></div><div class=\"sk-container\" hidden><div class=\"sk-item sk-dashed-wrapped\"><div class=\"sk-label-container\"><div class=\"sk-label fitted sk-toggleable\"><input class=\"sk-toggleable__control sk-hidden--visually\" id=\"sk-estimator-id-1\" type=\"checkbox\" ><label for=\"sk-estimator-id-1\" class=\"sk-toggleable__label fitted sk-toggleable__label-arrow fitted\">&nbsp;&nbsp;Pipeline<a class=\"sk-estimator-doc-link fitted\" rel=\"noreferrer\" target=\"_blank\" href=\"https://scikit-learn.org/1.4/modules/generated/sklearn.pipeline.Pipeline.html\">?<span>Documentation for Pipeline</span></a><span class=\"sk-estimator-doc-link fitted\">i<span>Fitted</span></span></label><div class=\"sk-toggleable__content fitted\"><pre>Pipeline(steps=[(&#x27;col_transformer&#x27;,\n",
       "                 ColumnTransformer(remainder=&#x27;passthrough&#x27;, sparse_threshold=0,\n",
       "                                   transformers=[(&#x27;ord&#x27;, OrdinalEncoder(),\n",
       "                                                  [&#x27;carrier&#x27;])])),\n",
       "                (&#x27;gbr&#x27;,\n",
       "                 GradientBoostingRegressor(max_depth=4, n_estimators=250,\n",
       "                                           random_state=7))])</pre></div> </div></div><div class=\"sk-serial\"><div class=\"sk-item sk-dashed-wrapped\"><div class=\"sk-label-container\"><div class=\"sk-label fitted sk-toggleable\"><input class=\"sk-toggleable__control sk-hidden--visually\" id=\"sk-estimator-id-2\" type=\"checkbox\" ><label for=\"sk-estimator-id-2\" class=\"sk-toggleable__label fitted sk-toggleable__label-arrow fitted\">&nbsp;col_transformer: ColumnTransformer<a class=\"sk-estimator-doc-link fitted\" rel=\"noreferrer\" target=\"_blank\" href=\"https://scikit-learn.org/1.4/modules/generated/sklearn.compose.ColumnTransformer.html\">?<span>Documentation for col_transformer: ColumnTransformer</span></a></label><div class=\"sk-toggleable__content fitted\"><pre>ColumnTransformer(remainder=&#x27;passthrough&#x27;, sparse_threshold=0,\n",
       "                  transformers=[(&#x27;ord&#x27;, OrdinalEncoder(), [&#x27;carrier&#x27;])])</pre></div> </div></div><div class=\"sk-parallel\"><div class=\"sk-parallel-item\"><div class=\"sk-item\"><div class=\"sk-label-container\"><div class=\"sk-label fitted sk-toggleable\"><input class=\"sk-toggleable__control sk-hidden--visually\" id=\"sk-estimator-id-3\" type=\"checkbox\" ><label for=\"sk-estimator-id-3\" class=\"sk-toggleable__label fitted sk-toggleable__label-arrow fitted\">ord</label><div class=\"sk-toggleable__content fitted\"><pre>[&#x27;carrier&#x27;]</pre></div> </div></div><div class=\"sk-serial\"><div class=\"sk-item\"><div class=\"sk-estimator fitted sk-toggleable\"><input class=\"sk-toggleable__control sk-hidden--visually\" id=\"sk-estimator-id-4\" type=\"checkbox\" ><label for=\"sk-estimator-id-4\" class=\"sk-toggleable__label fitted sk-toggleable__label-arrow fitted\">&nbsp;OrdinalEncoder<a class=\"sk-estimator-doc-link fitted\" rel=\"noreferrer\" target=\"_blank\" href=\"https://scikit-learn.org/1.4/modules/generated/sklearn.preprocessing.OrdinalEncoder.html\">?<span>Documentation for OrdinalEncoder</span></a></label><div class=\"sk-toggleable__content fitted\"><pre>OrdinalEncoder()</pre></div> </div></div></div></div></div><div class=\"sk-parallel-item\"><div class=\"sk-item\"><div class=\"sk-label-container\"><div class=\"sk-label fitted sk-toggleable\"><input class=\"sk-toggleable__control sk-hidden--visually\" id=\"sk-estimator-id-5\" type=\"checkbox\" ><label for=\"sk-estimator-id-5\" class=\"sk-toggleable__label fitted sk-toggleable__label-arrow fitted\">remainder</label><div class=\"sk-toggleable__content fitted\"><pre>[&#x27;days_till_flight&#x27;, &#x27;origin_id&#x27;, &#x27;destination_id&#x27;, &#x27;route_id&#x27;, &#x27;dur_min&#x27;, &#x27;flt_info_null&#x27;, &#x27;days_since_start&#x27;, &#x27;is_dst&#x27;, &#x27;flt_departure_month&#x27;, &#x27;flt_departure_day&#x27;, &#x27;flt_departure_week&#x27;, &#x27;flt_departure_weekday&#x27;, &#x27;7d_route_avg&#x27;, &#x27;14d_route_avg&#x27;, &#x27;7d_route_carrier_avg&#x27;, &#x27;over_mn&#x27;, &#x27;flt_count_dpt_24h&#x27;, &#x27;flt_count_dpt_4h&#x27;, &#x27;dpt_4h_od&#x27;]</pre></div> </div></div><div class=\"sk-serial\"><div class=\"sk-item\"><div class=\"sk-estimator fitted sk-toggleable\"><input class=\"sk-toggleable__control sk-hidden--visually\" id=\"sk-estimator-id-6\" type=\"checkbox\" ><label for=\"sk-estimator-id-6\" class=\"sk-toggleable__label fitted sk-toggleable__label-arrow fitted\">passthrough</label><div class=\"sk-toggleable__content fitted\"><pre>passthrough</pre></div> </div></div></div></div></div></div></div><div class=\"sk-item\"><div class=\"sk-estimator fitted sk-toggleable\"><input class=\"sk-toggleable__control sk-hidden--visually\" id=\"sk-estimator-id-7\" type=\"checkbox\" ><label for=\"sk-estimator-id-7\" class=\"sk-toggleable__label fitted sk-toggleable__label-arrow fitted\">&nbsp;GradientBoostingRegressor<a class=\"sk-estimator-doc-link fitted\" rel=\"noreferrer\" target=\"_blank\" href=\"https://scikit-learn.org/1.4/modules/generated/sklearn.ensemble.GradientBoostingRegressor.html\">?<span>Documentation for GradientBoostingRegressor</span></a></label><div class=\"sk-toggleable__content fitted\"><pre>GradientBoostingRegressor(max_depth=4, n_estimators=250, random_state=7)</pre></div> </div></div></div></div></div></div>"
      ],
      "text/plain": [
       "Pipeline(steps=[('col_transformer',\n",
       "                 ColumnTransformer(remainder='passthrough', sparse_threshold=0,\n",
       "                                   transformers=[('ord', OrdinalEncoder(),\n",
       "                                                  ['carrier'])])),\n",
       "                ('gbr',\n",
       "                 GradientBoostingRegressor(max_depth=4, n_estimators=250,\n",
       "                                           random_state=7))])"
      ]
     },
     "execution_count": 38,
     "metadata": {},
     "output_type": "execute_result"
    }
   ],
   "source": [
    "pred_fare_expr = pl.lit(10).pow(\n",
    "    (pl.col('pred_scaled_fare') * pl.col('base_fare')) + pl.col('base_fare')\n",
    ").alias('pred_fare')\n",
    "\n",
    "def get_model():\n",
    "    col_transform = ColumnTransformer(\n",
    "        [\n",
    "            (\n",
    "                'ord', \n",
    "                OrdinalEncoder(),\n",
    "                ['carrier']\n",
    "            )\n",
    "        ],\n",
    "        remainder = 'passthrough',\n",
    "        sparse_threshold = 0\n",
    "    )\n",
    "    \n",
    "    return Pipeline(\n",
    "        [\n",
    "            ('col_transformer', col_transform),\n",
    "            (\n",
    "                'gbr', \n",
    "                GradientBoostingRegressor(\n",
    "                    loss = \"squared_error\",\n",
    "                    n_estimators = 250,\n",
    "                    learning_rate = 0.1,\n",
    "                    max_depth = 4,\n",
    "                    random_state = 7\n",
    "                )\n",
    "            )\n",
    "        ]\n",
    "    )\n",
    "\n",
    "def train_model(X, y):\n",
    "    model = get_model()\n",
    "    model.fit(X, y)\n",
    "    return model\n",
    "\n",
    "model = train_model(X_train, y_train)\n",
    "model"
   ]
  },
  {
   "cell_type": "markdown",
   "metadata": {},
   "source": [
    "### Predictions"
   ]
  },
  {
   "cell_type": "code",
   "execution_count": 39,
   "metadata": {},
   "outputs": [
    {
     "data": {
      "text/html": [
       "<div><style>\n",
       ".dataframe > thead > tr,\n",
       ".dataframe > tbody > tr {\n",
       "  text-align: right;\n",
       "  white-space: pre-wrap;\n",
       "}\n",
       "</style>\n",
       "<small>shape: (9, 2)</small><table border=\"1\" class=\"dataframe\"><thead><tr><th>statistic</th><th>value</th></tr><tr><td>str</td><td>f64</td></tr></thead><tbody><tr><td>&quot;count&quot;</td><td>1.698818e6</td></tr><tr><td>&quot;null_count&quot;</td><td>0.0</td></tr><tr><td>&quot;mean&quot;</td><td>670.990949</td></tr><tr><td>&quot;std&quot;</td><td>427.969489</td></tr><tr><td>&quot;min&quot;</td><td>202.845413</td></tr><tr><td>&quot;25%&quot;</td><td>431.975019</td></tr><tr><td>&quot;50%&quot;</td><td>563.95452</td></tr><tr><td>&quot;75%&quot;</td><td>785.481746</td></tr><tr><td>&quot;max&quot;</td><td>12799.724552</td></tr></tbody></table></div>"
      ],
      "text/plain": [
       "shape: (9, 2)\n",
       "┌────────────┬──────────────┐\n",
       "│ statistic  ┆ value        │\n",
       "│ ---        ┆ ---          │\n",
       "│ str        ┆ f64          │\n",
       "╞════════════╪══════════════╡\n",
       "│ count      ┆ 1.698818e6   │\n",
       "│ null_count ┆ 0.0          │\n",
       "│ mean       ┆ 670.990949   │\n",
       "│ std        ┆ 427.969489   │\n",
       "│ min        ┆ 202.845413   │\n",
       "│ 25%        ┆ 431.975019   │\n",
       "│ 50%        ┆ 563.95452    │\n",
       "│ 75%        ┆ 785.481746   │\n",
       "│ max        ┆ 12799.724552 │\n",
       "└────────────┴──────────────┘"
      ]
     },
     "execution_count": 39,
     "metadata": {},
     "output_type": "execute_result"
    }
   ],
   "source": [
    "train_df = train_df.with_columns(\n",
    "    pred_scaled_fare = model.predict(X_train)\n",
    ").with_columns(pred_fare_expr)\n",
    "\n",
    "train_df['pred_fare'].describe()"
   ]
  },
  {
   "cell_type": "code",
   "execution_count": 40,
   "metadata": {},
   "outputs": [
    {
     "data": {
      "text/html": [
       "<div><style>\n",
       ".dataframe > thead > tr,\n",
       ".dataframe > tbody > tr {\n",
       "  text-align: right;\n",
       "  white-space: pre-wrap;\n",
       "}\n",
       "</style>\n",
       "<small>shape: (9, 2)</small><table border=\"1\" class=\"dataframe\"><thead><tr><th>statistic</th><th>value</th></tr><tr><td>str</td><td>f64</td></tr></thead><tbody><tr><td>&quot;count&quot;</td><td>29825.0</td></tr><tr><td>&quot;null_count&quot;</td><td>0.0</td></tr><tr><td>&quot;mean&quot;</td><td>1318.632037</td></tr><tr><td>&quot;std&quot;</td><td>2845.701824</td></tr><tr><td>&quot;min&quot;</td><td>263.871377</td></tr><tr><td>&quot;25%&quot;</td><td>538.836263</td></tr><tr><td>&quot;50%&quot;</td><td>681.769201</td></tr><tr><td>&quot;75%&quot;</td><td>909.975715</td></tr><tr><td>&quot;max&quot;</td><td>26903.038234</td></tr></tbody></table></div>"
      ],
      "text/plain": [
       "shape: (9, 2)\n",
       "┌────────────┬──────────────┐\n",
       "│ statistic  ┆ value        │\n",
       "│ ---        ┆ ---          │\n",
       "│ str        ┆ f64          │\n",
       "╞════════════╪══════════════╡\n",
       "│ count      ┆ 29825.0      │\n",
       "│ null_count ┆ 0.0          │\n",
       "│ mean       ┆ 1318.632037  │\n",
       "│ std        ┆ 2845.701824  │\n",
       "│ min        ┆ 263.871377   │\n",
       "│ 25%        ┆ 538.836263   │\n",
       "│ 50%        ┆ 681.769201   │\n",
       "│ 75%        ┆ 909.975715   │\n",
       "│ max        ┆ 26903.038234 │\n",
       "└────────────┴──────────────┘"
      ]
     },
     "execution_count": 40,
     "metadata": {},
     "output_type": "execute_result"
    }
   ],
   "source": [
    "test_df = test_df.with_columns(\n",
    "    pred_scaled_fare = model.predict(X_test)\n",
    ").with_columns(pred_fare_expr)\n",
    "\n",
    "test_df['pred_fare'].describe()"
   ]
  },
  {
   "cell_type": "code",
   "execution_count": 41,
   "metadata": {},
   "outputs": [
    {
     "data": {
      "image/png": "[encoded data removed]",
      "text/plain": [
       "<Figure size 960x600 with 1 Axes>"
      ]
     },
     "metadata": {},
     "output_type": "display_data"
    }
   ],
   "source": [
    "plt.figure(figsize = (8, 5), dpi = 120)\n",
    "sns.lineplot(\n",
    "    data = train_df.group_by('flt_departure_dt').agg(pl.col('total_fare').mean()), \n",
    "    x = \"flt_departure_dt\", \n",
    "    y = \"total_fare\",\n",
    "    label = \"Actual fare\"\n",
    ")\n",
    "\n",
    "sns.lineplot(\n",
    "    data = train_df.group_by('flt_departure_dt').agg(pl.col('pred_fare').mean()), \n",
    "    x = \"flt_departure_dt\", \n",
    "    y = \"pred_fare\",\n",
    "    label = \"Predicted fare\"\n",
    ")\n",
    "\n",
    "locs, labels = plt.xticks()\n",
    "plt.xticks(\n",
    "    locs,\n",
    "    [l.get_text() for l in labels],\n",
    "    rotation = 30,\n",
    "    fontsize = 8\n",
    ")\n",
    "\n",
    "plt.legend()\n",
    "plt.title(\"Final model - Train predictions\", fontsize = 16)\n",
    "plt.xlabel(\"Flight departure date\", fontsize = 14)\n",
    "plt.ylabel(\"Total fare\", fontsize = 14)\n",
    "plt.show()"
   ]
  },
  {
   "cell_type": "code",
   "execution_count": 42,
   "metadata": {},
   "outputs": [
    {
     "data": {
      "image/png": "[encoded data removed]",
      "text/plain": [
       "<Figure size 960x600 with 1 Axes>"
      ]
     },
     "metadata": {},
     "output_type": "display_data"
    }
   ],
   "source": [
    "plt.figure(figsize = (8, 5), dpi = 120)\n",
    "sns.lineplot(\n",
    "    data = test_df.group_by('flt_departure_dt').agg(pl.col('pred_fare').mean()), \n",
    "    x = \"flt_departure_dt\", \n",
    "    y = \"pred_fare\",\n",
    "    label = \"Predicted fare\"\n",
    ")\n",
    "\n",
    "locs, labels = plt.xticks()\n",
    "plt.xticks(\n",
    "    locs,\n",
    "    [l.get_text() for l in labels],\n",
    "    rotation = 30,\n",
    "    fontsize = 8\n",
    ")\n",
    "\n",
    "plt.title(\"Final model - Val predictions\", fontsize = 16)\n",
    "plt.xlabel(\"Flight departure date\", fontsize = 14)\n",
    "plt.ylabel(\"Total fare\", fontsize = 14)\n",
    "plt.show()"
   ]
  },
  {
   "cell_type": "code",
   "execution_count": 43,
   "metadata": {},
   "outputs": [
    {
     "data": {
      "image/png": "[encoded data removed]",
      "text/plain": [
       "<Figure size 960x600 with 1 Axes>"
      ]
     },
     "metadata": {},
     "output_type": "display_data"
    }
   ],
   "source": [
    "plt.figure(figsize = (8, 5), dpi = 120)\n",
    "sns.kdeplot(\n",
    "    train_df['total_fare'] - train_df['pred_fare']\n",
    ")\n",
    "plt.title(\"Final model - Density of training residuals\", fontsize = 16)\n",
    "plt.xlabel(\"Fare error\", fontsize = 14)\n",
    "plt.ylabel(\"Density\", fontsize = 14)\n",
    "plt.show()"
   ]
  },
  {
   "cell_type": "markdown",
   "metadata": {},
   "source": [
    "### Metrics"
   ]
  },
  {
   "cell_type": "markdown",
   "metadata": {},
   "source": [
    "#### Overall"
   ]
  },
  {
   "cell_type": "code",
   "execution_count": 44,
   "metadata": {},
   "outputs": [
    {
     "name": "stdout",
     "output_type": "stream",
     "text": [
      "Train - GBR\n",
      "RMSE: 307.1730\n",
      "MAE: 154.8138\n",
      "R2: 68.023%\n",
      "Max error: 5206.2882\n",
      "\n"
     ]
    }
   ],
   "source": [
    "print_metrics(\n",
    "    train_df['total_fare'], train_df['pred_fare'],\n",
    "    label = 'Train - GBR'\n",
    ")"
   ]
  },
  {
   "cell_type": "markdown",
   "metadata": {},
   "source": [
    "#### By carrier"
   ]
  },
  {
   "cell_type": "code",
   "execution_count": 45,
   "metadata": {},
   "outputs": [
    {
     "name": "stdout",
     "output_type": "stream",
     "text": [
      "Train - Carrier L3\n",
      "RMSE: 404.8374\n",
      "MAE: 240.3716\n",
      "R2: 29.125%\n",
      "Max error: 2295.1490\n",
      "\n",
      "Train - Carrier L1\n"
     ]
    },
    {
     "name": "stdout",
     "output_type": "stream",
     "text": [
      "RMSE: 336.0573\n",
      "MAE: 180.3073\n",
      "R2: 60.186%\n",
      "Max error: 5206.2882\n",
      "\n",
      "Train - Carrier U1\n",
      "RMSE: 156.8454\n",
      "MAE: 96.5331\n",
      "R2: 70.390%\n",
      "Max error: 1413.0487\n",
      "\n",
      "Train - Carrier OTH\n",
      "RMSE: 271.1162\n",
      "MAE: 106.2192\n",
      "R2: 90.404%\n",
      "Max error: 4956.1386\n",
      "\n",
      "Train - Carrier U3\n",
      "RMSE: 146.5816\n",
      "MAE: 102.3002\n",
      "R2: 49.284%\n",
      "Max error: 1715.8270\n",
      "\n",
      "Train - Carrier L2\n",
      "RMSE: 286.9655\n",
      "MAE: 118.8216\n",
      "R2: 58.132%\n",
      "Max error: 3956.6244\n",
      "\n"
     ]
    }
   ],
   "source": [
    "for carrier, df in train_df.group_by(['carrier']):\n",
    "    print_metrics(\n",
    "        df['total_fare'], df['pred_fare'],\n",
    "        label = f'Train - Carrier {carrier[0]}'\n",
    "    )"
   ]
  },
  {
   "cell_type": "markdown",
   "metadata": {},
   "source": [
    "#### By route"
   ]
  },
  {
   "cell_type": "code",
   "execution_count": 46,
   "metadata": {},
   "outputs": [
    {
     "name": "stdout",
     "output_type": "stream",
     "text": [
      "Train - Route 0\n",
      "RMSE: 313.4368\n",
      "MAE: 172.1087\n",
      "R2: 50.596%\n",
      "Max error: 4518.0571\n",
      "\n",
      "Train - Route 6\n",
      "RMSE: 289.2065\n",
      "MAE: 131.0698\n"
     ]
    },
    {
     "name": "stdout",
     "output_type": "stream",
     "text": [
      "R2: 72.123%\n",
      "Max error: 4940.7246\n",
      "\n",
      "Train - Route 9\n",
      "RMSE: 335.1960\n",
      "MAE: 173.8864\n",
      "R2: 59.180%\n",
      "Max error: 3892.4016\n",
      "\n",
      "Train - Route 3\n",
      "RMSE: 304.8726\n",
      "MAE: 194.0363\n",
      "R2: 69.073%\n",
      "Max error: 3740.4541\n",
      "\n",
      "Train - Route 1\n",
      "RMSE: 461.8080\n",
      "MAE: 243.8117\n",
      "R2: 42.431%\n",
      "Max error: 4663.3776\n",
      "\n",
      "Train - Route 4\n",
      "RMSE: 337.9157\n",
      "MAE: 153.9570\n",
      "R2: 67.021%\n",
      "Max error: 4956.1386\n",
      "\n",
      "Train - Route 10\n",
      "RMSE: 329.7488\n",
      "MAE: 182.0229\n",
      "R2: 62.161%\n",
      "Max error: 3464.4804\n",
      "\n",
      "Train - Route 7\n",
      "RMSE: 339.2911\n",
      "MAE: 178.4416\n",
      "R2: 47.726%\n",
      "Max error: 5206.2882\n",
      "\n",
      "Train - Route 5\n",
      "RMSE: 245.8612\n",
      "MAE: 134.9956\n",
      "R2: 60.165%\n",
      "Max error: 3161.4243\n",
      "\n",
      "Train - Route 8\n",
      "RMSE: 486.2176\n",
      "MAE: 280.4567\n",
      "R2: 42.158%\n",
      "Max error: 4671.9009\n",
      "\n",
      "Train - Route 11\n",
      "RMSE: 218.2666\n",
      "MAE: 120.0811\n",
      "R2: 57.454%\n",
      "Max error: 3088.3110\n",
      "\n",
      "Train - Route 2\n",
      "RMSE: 301.5738\n",
      "MAE: 192.4327\n",
      "R2: 63.908%\n",
      "Max error: 4140.6656\n",
      "\n"
     ]
    }
   ],
   "source": [
    "for route_id, df in train_df.group_by(['route_id']):\n",
    "    print_metrics(\n",
    "        df['total_fare'], df['pred_fare'],\n",
    "        label = f'Train - Route {route_id[0]}'\n",
    "    )"
   ]
  },
  {
   "cell_type": "markdown",
   "metadata": {},
   "source": [
    "### Feature importances"
   ]
  },
  {
   "cell_type": "code",
   "execution_count": 47,
   "metadata": {},
   "outputs": [
    {
     "data": {
      "text/html": [
       "<div><style>\n",
       ".dataframe > thead > tr,\n",
       ".dataframe > tbody > tr {\n",
       "  text-align: right;\n",
       "  white-space: pre-wrap;\n",
       "}\n",
       "</style>\n",
       "<small>shape: (20, 2)</small><table border=\"1\" class=\"dataframe\"><thead><tr><th>Feature</th><th>FI</th></tr><tr><td>str</td><td>f64</td></tr></thead><tbody><tr><td>&quot;remainder__days_till_flight&quot;</td><td>31.26</td></tr><tr><td>&quot;remainder__7d_route_carrier_av…</td><td>15.95</td></tr><tr><td>&quot;remainder__14d_route_avg&quot;</td><td>10.66</td></tr><tr><td>&quot;remainder__days_since_start&quot;</td><td>8.3</td></tr><tr><td>&quot;remainder__7d_route_avg&quot;</td><td>7.44</td></tr><tr><td>&quot;remainder__flt_count_dpt_24h&quot;</td><td>5.22</td></tr><tr><td>&quot;remainder__dpt_4h_od&quot;</td><td>4.25</td></tr><tr><td>&quot;remainder__flt_departure_weekd…</td><td>4.2</td></tr><tr><td>&quot;remainder__dur_min&quot;</td><td>1.75</td></tr><tr><td>&quot;ord__carrier&quot;</td><td>1.68</td></tr><tr><td>&quot;remainder__destination_id&quot;</td><td>1.45</td></tr><tr><td>&quot;remainder__over_mn&quot;</td><td>1.4</td></tr><tr><td>&quot;remainder__flt_departure_week&quot;</td><td>1.29</td></tr><tr><td>&quot;remainder__flt_count_dpt_4h&quot;</td><td>1.17</td></tr><tr><td>&quot;remainder__flt_departure_day&quot;</td><td>1.16</td></tr><tr><td>&quot;remainder__route_id&quot;</td><td>1.09</td></tr><tr><td>&quot;remainder__flt_info_null&quot;</td><td>0.82</td></tr><tr><td>&quot;remainder__origin_id&quot;</td><td>0.69</td></tr><tr><td>&quot;remainder__is_dst&quot;</td><td>0.13</td></tr><tr><td>&quot;remainder__flt_departure_month&quot;</td><td>0.08</td></tr></tbody></table></div>"
      ],
      "text/plain": [
       "shape: (20, 2)\n",
       "┌─────────────────────────────────┬───────┐\n",
       "│ Feature                         ┆ FI    │\n",
       "│ ---                             ┆ ---   │\n",
       "│ str                             ┆ f64   │\n",
       "╞═════════════════════════════════╪═══════╡\n",
       "│ remainder__days_till_flight     ┆ 31.26 │\n",
       "│ remainder__7d_route_carrier_av… ┆ 15.95 │\n",
       "│ remainder__14d_route_avg        ┆ 10.66 │\n",
       "│ remainder__days_since_start     ┆ 8.3   │\n",
       "│ remainder__7d_route_avg         ┆ 7.44  │\n",
       "│ remainder__flt_count_dpt_24h    ┆ 5.22  │\n",
       "│ remainder__dpt_4h_od            ┆ 4.25  │\n",
       "│ remainder__flt_departure_weekd… ┆ 4.2   │\n",
       "│ remainder__dur_min              ┆ 1.75  │\n",
       "│ ord__carrier                    ┆ 1.68  │\n",
       "│ remainder__destination_id       ┆ 1.45  │\n",
       "│ remainder__over_mn              ┆ 1.4   │\n",
       "│ remainder__flt_departure_week   ┆ 1.29  │\n",
       "│ remainder__flt_count_dpt_4h     ┆ 1.17  │\n",
       "│ remainder__flt_departure_day    ┆ 1.16  │\n",
       "│ remainder__route_id             ┆ 1.09  │\n",
       "│ remainder__flt_info_null        ┆ 0.82  │\n",
       "│ remainder__origin_id            ┆ 0.69  │\n",
       "│ remainder__is_dst               ┆ 0.13  │\n",
       "│ remainder__flt_departure_month  ┆ 0.08  │\n",
       "└─────────────────────────────────┴───────┘"
      ]
     },
     "execution_count": 47,
     "metadata": {},
     "output_type": "execute_result"
    }
   ],
   "source": [
    "pl.DataFrame({\n",
    "    \"Feature\": model['gbr'].feature_names_in_,\n",
    "    \"FI\": (model['gbr'].feature_importances_ * 100).round(2)\n",
    "}).sort(\"FI\", descending = True)"
   ]
  },
  {
   "cell_type": "markdown",
   "metadata": {},
   "source": [
    "## Saving final predictions"
   ]
  },
  {
   "cell_type": "code",
   "execution_count": 48,
   "metadata": {},
   "outputs": [
    {
     "data": {
      "text/html": [
       "<div><style>\n",
       ".dataframe > thead > tr,\n",
       ".dataframe > tbody > tr {\n",
       "  text-align: right;\n",
       "  white-space: pre-wrap;\n",
       "}\n",
       "</style>\n",
       "<small>shape: (29_825, 34)</small><table border=\"1\" class=\"dataframe\"><thead><tr><th>carrier</th><th>flt_num</th><th>flt_departure_dt</th><th>observation_date</th><th>days_till_flight</th><th>is_dst</th><th>route_id</th><th>flt_departure_local_time</th><th>flt_arrival_local_time</th><th>dur_min</th><th>tz_min</th><th>over_mn</th><th>dpt_4h_od</th><th>flt_count_dpt_24h</th><th>flt_count_dpt_4h</th><th>scaled_demand</th><th>scaled_share</th><th>origin_id</th><th>destination_id</th><th>flt_info_null</th><th>base_fare</th><th>7d_route_avg</th><th>14d_route_avg</th><th>7d_route_carrier_avg</th><th>days_since_start</th><th>flt_departure_month</th><th>flt_departure_day</th><th>flt_departure_week</th><th>flt_departure_weekday</th><th>dur_mean</th><th>pred_scaled_fare</th><th>pred_fare</th><th>origin</th><th>destination</th></tr><tr><td>str</td><td>i64</td><td>str</td><td>str</td><td>i16</td><td>i8</td><td>u8</td><td>datetime[ns]</td><td>datetime[ns]</td><td>f64</td><td>i16</td><td>i8</td><td>i8</td><td>u8</td><td>i16</td><td>i64</td><td>i64</td><td>u8</td><td>u8</td><td>u8</td><td>f64</td><td>f64</td><td>f64</td><td>f64</td><td>i64</td><td>i8</td><td>i8</td><td>i8</td><td>i8</td><td>f64</td><td>f64</td><td>f64</td><td>str</td><td>str</td></tr></thead><tbody><tr><td>&quot;L2&quot;</td><td>7465</td><td>&quot;1/1/2019&quot;</td><td>&quot;11/27/2018&quot;</td><td>35</td><td>0</td><td>9</td><td>2019-01-01 08:04:00</td><td>2019-01-01 10:49:00</td><td>165.0</td><td>-360</td><td>0</td><td>2</td><td>7</td><td>2</td><td>null</td><td>null</td><td>5</td><td>6</td><td>0</td><td>2.944702</td><td>0.824263</td><td>0.877499</td><td>0.759055</td><td>365</td><td>1</td><td>1</td><td>1</td><td>2</td><td>164.36</td><td>-0.016335</td><td>788.134062</td><td>&quot;Airport4&quot;</td><td>&quot;Airport43&quot;</td></tr><tr><td>&quot;L2&quot;</td><td>7067</td><td>&quot;1/1/2019&quot;</td><td>&quot;11/27/2018&quot;</td><td>35</td><td>0</td><td>9</td><td>2019-01-01 13:17:00</td><td>2019-01-01 16:00:00</td><td>163.0</td><td>-360</td><td>0</td><td>3</td><td>7</td><td>2</td><td>null</td><td>null</td><td>5</td><td>6</td><td>0</td><td>2.944702</td><td>0.824263</td><td>0.877499</td><td>0.759055</td><td>365</td><td>1</td><td>1</td><td>1</td><td>2</td><td>164.36</td><td>-0.016335</td><td>788.134062</td><td>&quot;Airport4&quot;</td><td>&quot;Airport43&quot;</td></tr><tr><td>&quot;L2&quot;</td><td>1232</td><td>&quot;1/1/2019&quot;</td><td>&quot;11/27/2018&quot;</td><td>35</td><td>0</td><td>9</td><td>2019-01-01 18:40:00</td><td>2019-01-01 21:25:00</td><td>165.0</td><td>-360</td><td>0</td><td>4</td><td>7</td><td>2</td><td>null</td><td>null</td><td>5</td><td>6</td><td>0</td><td>2.944702</td><td>0.824263</td><td>0.877499</td><td>0.759055</td><td>365</td><td>1</td><td>1</td><td>1</td><td>2</td><td>164.36</td><td>-0.016151</td><td>789.117266</td><td>&quot;Airport4&quot;</td><td>&quot;Airport43&quot;</td></tr><tr><td>&quot;U3&quot;</td><td>752</td><td>&quot;1/1/2019&quot;</td><td>&quot;11/27/2018&quot;</td><td>35</td><td>0</td><td>7</td><td>2019-01-01 08:45:00</td><td>2019-01-01 10:07:00</td><td>82.0</td><td>-360</td><td>0</td><td>2</td><td>9</td><td>3</td><td>null</td><td>null</td><td>5</td><td>0</td><td>0</td><td>2.725651</td><td>1.384941</td><td>0.73477</td><td>1.165811</td><td>365</td><td>1</td><td>1</td><td>1</td><td>2</td><td>81.2</td><td>0.002541</td><td>540.229455</td><td>&quot;Airport4&quot;</td><td>&quot;Airport17&quot;</td></tr><tr><td>&quot;L1&quot;</td><td>5135</td><td>&quot;1/1/2019&quot;</td><td>&quot;11/27/2018&quot;</td><td>35</td><td>0</td><td>7</td><td>2019-01-01 07:25:00</td><td>2019-01-01 08:42:00</td><td>77.0</td><td>-360</td><td>0</td><td>1</td><td>9</td><td>2</td><td>null</td><td>null</td><td>5</td><td>0</td><td>0</td><td>2.863554</td><td>1.384941</td><td>0.73477</td><td>1.428838</td><td>365</td><td>1</td><td>1</td><td>1</td><td>2</td><td>74.94</td><td>-0.030112</td><td>598.860331</td><td>&quot;Airport4&quot;</td><td>&quot;Airport17&quot;</td></tr><tr><td>&quot;L1&quot;</td><td>10966</td><td>&quot;1/1/2019&quot;</td><td>&quot;11/27/2018&quot;</td><td>35</td><td>0</td><td>7</td><td>2019-01-01 11:54:00</td><td>2019-01-01 13:18:00</td><td>84.0</td><td>-360</td><td>0</td><td>2</td><td>9</td><td>3</td><td>null</td><td>null</td><td>5</td><td>0</td><td>0</td><td>2.863554</td><td>1.384941</td><td>0.73477</td><td>1.428838</td><td>365</td><td>1</td><td>1</td><td>1</td><td>2</td><td>74.94</td><td>-0.002841</td><td>716.833508</td><td>&quot;Airport4&quot;</td><td>&quot;Airport17&quot;</td></tr><tr><td>&quot;L1&quot;</td><td>2181</td><td>&quot;1/1/2019&quot;</td><td>&quot;11/27/2018&quot;</td><td>35</td><td>0</td><td>7</td><td>2019-01-01 15:34:00</td><td>2019-01-01 16:51:00</td><td>77.0</td><td>-360</td><td>0</td><td>3</td><td>9</td><td>2</td><td>null</td><td>null</td><td>5</td><td>0</td><td>0</td><td>2.863554</td><td>1.384941</td><td>0.73477</td><td>1.428838</td><td>365</td><td>1</td><td>1</td><td>1</td><td>2</td><td>74.94</td><td>-0.00273</td><td>717.358868</td><td>&quot;Airport4&quot;</td><td>&quot;Airport17&quot;</td></tr><tr><td>&quot;L1&quot;</td><td>2724</td><td>&quot;1/1/2019&quot;</td><td>&quot;11/27/2018&quot;</td><td>35</td><td>0</td><td>8</td><td>2019-01-01 06:00:00</td><td>2019-01-01 10:30:00</td><td>270.0</td><td>-360</td><td>0</td><td>1</td><td>5</td><td>2</td><td>null</td><td>null</td><td>5</td><td>1</td><td>0</td><td>3.016892</td><td>0.766536</td><td>0.587293</td><td>0.766536</td><td>365</td><td>1</td><td>1</td><td>1</td><td>2</td><td>277.95</td><td>-0.018404</td><td>914.893129</td><td>&quot;Airport4&quot;</td><td>&quot;Airport20&quot;</td></tr><tr><td>&quot;L3&quot;</td><td>18075</td><td>&quot;1/1/2019&quot;</td><td>&quot;11/27/2018&quot;</td><td>35</td><td>0</td><td>4</td><td>2019-01-01 15:10:00</td><td>2019-01-01 16:30:00</td><td>80.0</td><td>-480</td><td>0</td><td>3</td><td>32</td><td>9</td><td>null</td><td>null</td><td>3</td><td>4</td><td>0</td><td>2.7672</td><td>1.969383</td><td>1.372765</td><td>1.385398</td><td>365</td><td>1</td><td>1</td><td>1</td><td>2</td><td>78.98</td><td>-0.018165</td><td>521.115106</td><td>&quot;Airport30&quot;</td><td>&quot;Airport31&quot;</td></tr><tr><td>&quot;L1&quot;</td><td>6241</td><td>&quot;1/1/2019&quot;</td><td>&quot;11/27/2018&quot;</td><td>35</td><td>0</td><td>10</td><td>2019-01-01 13:30:00</td><td>2019-01-01 16:24:00</td><td>174.0</td><td>-360</td><td>0</td><td>3</td><td>6</td><td>3</td><td>null</td><td>null</td><td>6</td><td>5</td><td>0</td><td>3.001438</td><td>1.139574</td><td>0.827263</td><td>1.369531</td><td>365</td><td>1</td><td>1</td><td>1</td><td>2</td><td>171.38</td><td>-0.021228</td><td>866.410295</td><td>&quot;Airport43&quot;</td><td>&quot;Airport4&quot;</td></tr><tr><td>&hellip;</td><td>&hellip;</td><td>&hellip;</td><td>&hellip;</td><td>&hellip;</td><td>&hellip;</td><td>&hellip;</td><td>&hellip;</td><td>&hellip;</td><td>&hellip;</td><td>&hellip;</td><td>&hellip;</td><td>&hellip;</td><td>&hellip;</td><td>&hellip;</td><td>&hellip;</td><td>&hellip;</td><td>&hellip;</td><td>&hellip;</td><td>&hellip;</td><td>&hellip;</td><td>&hellip;</td><td>&hellip;</td><td>&hellip;</td><td>&hellip;</td><td>&hellip;</td><td>&hellip;</td><td>&hellip;</td><td>&hellip;</td><td>&hellip;</td><td>&hellip;</td><td>&hellip;</td><td>&hellip;</td><td>&hellip;</td></tr><tr><td>&quot;L3&quot;</td><td>8432</td><td>&quot;1/7/2019&quot;</td><td>&quot;12/31/2018&quot;</td><td>7</td><td>0</td><td>4</td><td>2019-01-07 18:05:00</td><td>2019-01-07 19:20:00</td><td>75.0</td><td>-480</td><td>0</td><td>4</td><td>46</td><td>13</td><td>null</td><td>null</td><td>3</td><td>4</td><td>0</td><td>2.7672</td><td>2.678017</td><td>2.014956</td><td>2.210787</td><td>371</td><td>1</td><td>7</td><td>2</td><td>1</td><td>78.98</td><td>0.061038</td><td>863.186276</td><td>&quot;Airport30&quot;</td><td>&quot;Airport31&quot;</td></tr><tr><td>&quot;L1&quot;</td><td>1575</td><td>&quot;1/7/2019&quot;</td><td>&quot;12/31/2018&quot;</td><td>7</td><td>0</td><td>5</td><td>2019-01-07 11:01:00</td><td>2019-01-07 12:49:00</td><td>108.0</td><td>-480</td><td>0</td><td>2</td><td>27</td><td>3</td><td>null</td><td>null</td><td>3</td><td>7</td><td>0</td><td>2.794683</td><td>1.058388</td><td>0.761261</td><td>1.097198</td><td>371</td><td>1</td><td>7</td><td>2</td><td>1</td><td>97.88</td><td>0.033795</td><td>774.691543</td><td>&quot;Airport30&quot;</td><td>&quot;Airport60&quot;</td></tr><tr><td>&quot;OTH&quot;</td><td>2294</td><td>&quot;1/7/2019&quot;</td><td>&quot;12/31/2018&quot;</td><td>7</td><td>0</td><td>3</td><td>2019-01-07 11:59:00</td><td>2019-01-07 16:57:00</td><td>298.0</td><td>-480</td><td>0</td><td>2</td><td>9</td><td>2</td><td>null</td><td>null</td><td>3</td><td>2</td><td>0</td><td>2.768284</td><td>0.925991</td><td>0.73871</td><td>1.063294</td><td>371</td><td>1</td><td>7</td><td>2</td><td>1</td><td>297.09</td><td>0.051084</td><td>812.264225</td><td>&quot;Airport30&quot;</td><td>&quot;Airport26&quot;</td></tr><tr><td>&quot;L3&quot;</td><td>8696</td><td>&quot;1/7/2019&quot;</td><td>&quot;12/31/2018&quot;</td><td>7</td><td>0</td><td>4</td><td>2019-01-07 20:00:00</td><td>2019-01-07 21:11:00</td><td>71.0</td><td>-480</td><td>0</td><td>5</td><td>46</td><td>6</td><td>null</td><td>null</td><td>3</td><td>4</td><td>0</td><td>2.7672</td><td>2.678017</td><td>2.014956</td><td>2.210787</td><td>371</td><td>1</td><td>7</td><td>2</td><td>1</td><td>78.98</td><td>0.051506</td><td>812.320152</td><td>&quot;Airport30&quot;</td><td>&quot;Airport31&quot;</td></tr><tr><td>&quot;L3&quot;</td><td>2539</td><td>&quot;1/7/2019&quot;</td><td>&quot;12/31/2018&quot;</td><td>7</td><td>0</td><td>4</td><td>2019-01-07 18:50:00</td><td>2019-01-07 19:55:00</td><td>65.0</td><td>-480</td><td>0</td><td>4</td><td>46</td><td>13</td><td>null</td><td>null</td><td>3</td><td>4</td><td>0</td><td>2.7672</td><td>2.678017</td><td>2.014956</td><td>2.210787</td><td>371</td><td>1</td><td>7</td><td>2</td><td>1</td><td>78.98</td><td>0.073804</td><td>936.335718</td><td>&quot;Airport30&quot;</td><td>&quot;Airport31&quot;</td></tr><tr><td>&quot;OTH&quot;</td><td>5292</td><td>&quot;1/7/2019&quot;</td><td>&quot;12/31/2018&quot;</td><td>7</td><td>0</td><td>6</td><td>null</td><td>null</td><td>71.23</td><td>null</td><td>-1</td><td>-1</td><td>46</td><td>-1</td><td>null</td><td>null</td><td>4</td><td>3</td><td>1</td><td>2.611628</td><td>2.371568</td><td>2.367071</td><td>6.918146</td><td>371</td><td>1</td><td>7</td><td>2</td><td>1</td><td>71.23</td><td>0.696184</td><td>26903.038234</td><td>&quot;Airport31&quot;</td><td>&quot;Airport30&quot;</td></tr><tr><td>&quot;OTH&quot;</td><td>6413</td><td>&quot;1/7/2019&quot;</td><td>&quot;12/31/2018&quot;</td><td>7</td><td>0</td><td>6</td><td>null</td><td>null</td><td>71.23</td><td>null</td><td>-1</td><td>-1</td><td>46</td><td>-1</td><td>null</td><td>null</td><td>4</td><td>3</td><td>1</td><td>2.611628</td><td>2.371568</td><td>2.367071</td><td>6.918146</td><td>371</td><td>1</td><td>7</td><td>2</td><td>1</td><td>71.23</td><td>0.696184</td><td>26903.038234</td><td>&quot;Airport31&quot;</td><td>&quot;Airport30&quot;</td></tr><tr><td>&quot;L1&quot;</td><td>1484</td><td>&quot;1/7/2019&quot;</td><td>&quot;12/31/2018&quot;</td><td>7</td><td>0</td><td>0</td><td>2019-01-07 11:06:00</td><td>2019-01-07 14:17:00</td><td>191.0</td><td>-420</td><td>0</td><td>2</td><td>9</td><td>3</td><td>null</td><td>null</td><td>0</td><td>5</td><td>0</td><td>2.871843</td><td>1.359619</td><td>0.836916</td><td>1.406209</td><td>371</td><td>1</td><td>7</td><td>2</td><td>1</td><td>190.45</td><td>0.034723</td><td>936.618728</td><td>&quot;Airport17&quot;</td><td>&quot;Airport4&quot;</td></tr><tr><td>&quot;L1&quot;</td><td>18471</td><td>&quot;1/7/2019&quot;</td><td>&quot;12/31/2018&quot;</td><td>7</td><td>0</td><td>0</td><td>2019-01-07 14:45:00</td><td>2019-01-07 17:59:00</td><td>194.0</td><td>-420</td><td>0</td><td>3</td><td>9</td><td>2</td><td>null</td><td>null</td><td>0</td><td>5</td><td>0</td><td>2.871843</td><td>1.359619</td><td>0.836916</td><td>1.406209</td><td>371</td><td>1</td><td>7</td><td>2</td><td>1</td><td>190.45</td><td>0.035079</td><td>938.822279</td><td>&quot;Airport17&quot;</td><td>&quot;Airport4&quot;</td></tr><tr><td>&quot;L1&quot;</td><td>1487</td><td>&quot;1/7/2019&quot;</td><td>&quot;12/31/2018&quot;</td><td>7</td><td>0</td><td>0</td><td>2019-01-07 17:46:00</td><td>2019-01-07 20:57:00</td><td>191.0</td><td>-420</td><td>0</td><td>4</td><td>9</td><td>2</td><td>null</td><td>null</td><td>0</td><td>5</td><td>0</td><td>2.871843</td><td>1.359619</td><td>0.836916</td><td>1.406209</td><td>371</td><td>1</td><td>7</td><td>2</td><td>1</td><td>190.45</td><td>0.032031</td><td>920.091653</td><td>&quot;Airport17&quot;</td><td>&quot;Airport4&quot;</td></tr></tbody></table></div>"
      ],
      "text/plain": [
       "shape: (29_825, 34)\n",
       "┌─────────┬─────────┬────────────┬────────────┬───┬────────────┬───────────┬───────────┬───────────┐\n",
       "│ carrier ┆ flt_num ┆ flt_depart ┆ observatio ┆ … ┆ pred_scale ┆ pred_fare ┆ origin    ┆ destinati │\n",
       "│ ---     ┆ ---     ┆ ure_dt     ┆ n_date     ┆   ┆ d_fare     ┆ ---       ┆ ---       ┆ on        │\n",
       "│ str     ┆ i64     ┆ ---        ┆ ---        ┆   ┆ ---        ┆ f64       ┆ str       ┆ ---       │\n",
       "│         ┆         ┆ str        ┆ str        ┆   ┆ f64        ┆           ┆           ┆ str       │\n",
       "╞═════════╪═════════╪════════════╪════════════╪═══╪════════════╪═══════════╪═══════════╪═══════════╡\n",
       "│ L2      ┆ 7465    ┆ 1/1/2019   ┆ 11/27/2018 ┆ … ┆ -0.016335  ┆ 788.13406 ┆ Airport4  ┆ Airport43 │\n",
       "│         ┆         ┆            ┆            ┆   ┆            ┆ 2         ┆           ┆           │\n",
       "│ L2      ┆ 7067    ┆ 1/1/2019   ┆ 11/27/2018 ┆ … ┆ -0.016335  ┆ 788.13406 ┆ Airport4  ┆ Airport43 │\n",
       "│         ┆         ┆            ┆            ┆   ┆            ┆ 2         ┆           ┆           │\n",
       "│ L2      ┆ 1232    ┆ 1/1/2019   ┆ 11/27/2018 ┆ … ┆ -0.016151  ┆ 789.11726 ┆ Airport4  ┆ Airport43 │\n",
       "│         ┆         ┆            ┆            ┆   ┆            ┆ 6         ┆           ┆           │\n",
       "│ U3      ┆ 752     ┆ 1/1/2019   ┆ 11/27/2018 ┆ … ┆ 0.002541   ┆ 540.22945 ┆ Airport4  ┆ Airport17 │\n",
       "│         ┆         ┆            ┆            ┆   ┆            ┆ 5         ┆           ┆           │\n",
       "│ L1      ┆ 5135    ┆ 1/1/2019   ┆ 11/27/2018 ┆ … ┆ -0.030112  ┆ 598.86033 ┆ Airport4  ┆ Airport17 │\n",
       "│         ┆         ┆            ┆            ┆   ┆            ┆ 1         ┆           ┆           │\n",
       "│ L1      ┆ 10966   ┆ 1/1/2019   ┆ 11/27/2018 ┆ … ┆ -0.002841  ┆ 716.83350 ┆ Airport4  ┆ Airport17 │\n",
       "│         ┆         ┆            ┆            ┆   ┆            ┆ 8         ┆           ┆           │\n",
       "│ L1      ┆ 2181    ┆ 1/1/2019   ┆ 11/27/2018 ┆ … ┆ -0.00273   ┆ 717.35886 ┆ Airport4  ┆ Airport17 │\n",
       "│         ┆         ┆            ┆            ┆   ┆            ┆ 8         ┆           ┆           │\n",
       "│ L1      ┆ 2724    ┆ 1/1/2019   ┆ 11/27/2018 ┆ … ┆ -0.018404  ┆ 914.89312 ┆ Airport4  ┆ Airport20 │\n",
       "│         ┆         ┆            ┆            ┆   ┆            ┆ 9         ┆           ┆           │\n",
       "│ L3      ┆ 18075   ┆ 1/1/2019   ┆ 11/27/2018 ┆ … ┆ -0.018165  ┆ 521.11510 ┆ Airport30 ┆ Airport31 │\n",
       "│         ┆         ┆            ┆            ┆   ┆            ┆ 6         ┆           ┆           │\n",
       "│ L1      ┆ 6241    ┆ 1/1/2019   ┆ 11/27/2018 ┆ … ┆ -0.021228  ┆ 866.41029 ┆ Airport43 ┆ Airport4  │\n",
       "│         ┆         ┆            ┆            ┆   ┆            ┆ 5         ┆           ┆           │\n",
       "│ …       ┆ …       ┆ …          ┆ …          ┆ … ┆ …          ┆ …         ┆ …         ┆ …         │\n",
       "│ L3      ┆ 8432    ┆ 1/7/2019   ┆ 12/31/2018 ┆ … ┆ 0.061038   ┆ 863.18627 ┆ Airport30 ┆ Airport31 │\n",
       "│         ┆         ┆            ┆            ┆   ┆            ┆ 6         ┆           ┆           │\n",
       "│ L1      ┆ 1575    ┆ 1/7/2019   ┆ 12/31/2018 ┆ … ┆ 0.033795   ┆ 774.69154 ┆ Airport30 ┆ Airport60 │\n",
       "│         ┆         ┆            ┆            ┆   ┆            ┆ 3         ┆           ┆           │\n",
       "│ OTH     ┆ 2294    ┆ 1/7/2019   ┆ 12/31/2018 ┆ … ┆ 0.051084   ┆ 812.26422 ┆ Airport30 ┆ Airport26 │\n",
       "│         ┆         ┆            ┆            ┆   ┆            ┆ 5         ┆           ┆           │\n",
       "│ L3      ┆ 8696    ┆ 1/7/2019   ┆ 12/31/2018 ┆ … ┆ 0.051506   ┆ 812.32015 ┆ Airport30 ┆ Airport31 │\n",
       "│         ┆         ┆            ┆            ┆   ┆            ┆ 2         ┆           ┆           │\n",
       "│ L3      ┆ 2539    ┆ 1/7/2019   ┆ 12/31/2018 ┆ … ┆ 0.073804   ┆ 936.33571 ┆ Airport30 ┆ Airport31 │\n",
       "│         ┆         ┆            ┆            ┆   ┆            ┆ 8         ┆           ┆           │\n",
       "│ OTH     ┆ 5292    ┆ 1/7/2019   ┆ 12/31/2018 ┆ … ┆ 0.696184   ┆ 26903.038 ┆ Airport31 ┆ Airport30 │\n",
       "│         ┆         ┆            ┆            ┆   ┆            ┆ 234       ┆           ┆           │\n",
       "│ OTH     ┆ 6413    ┆ 1/7/2019   ┆ 12/31/2018 ┆ … ┆ 0.696184   ┆ 26903.038 ┆ Airport31 ┆ Airport30 │\n",
       "│         ┆         ┆            ┆            ┆   ┆            ┆ 234       ┆           ┆           │\n",
       "│ L1      ┆ 1484    ┆ 1/7/2019   ┆ 12/31/2018 ┆ … ┆ 0.034723   ┆ 936.61872 ┆ Airport17 ┆ Airport4  │\n",
       "│         ┆         ┆            ┆            ┆   ┆            ┆ 8         ┆           ┆           │\n",
       "│ L1      ┆ 18471   ┆ 1/7/2019   ┆ 12/31/2018 ┆ … ┆ 0.035079   ┆ 938.82227 ┆ Airport17 ┆ Airport4  │\n",
       "│         ┆         ┆            ┆            ┆   ┆            ┆ 9         ┆           ┆           │\n",
       "│ L1      ┆ 1487    ┆ 1/7/2019   ┆ 12/31/2018 ┆ … ┆ 0.032031   ┆ 920.09165 ┆ Airport17 ┆ Airport4  │\n",
       "│         ┆         ┆            ┆            ┆   ┆            ┆ 3         ┆           ┆           │\n",
       "└─────────┴─────────┴────────────┴────────────┴───┴────────────┴───────────┴───────────┴───────────┘"
      ]
     },
     "execution_count": 48,
     "metadata": {},
     "output_type": "execute_result"
    }
   ],
   "source": [
    "test_df = test_df.join(\n",
    "    airports_df,\n",
    "    left_on = \"origin_id\",\n",
    "    right_on = \"airport_id\",\n",
    "    how = \"left\"\n",
    ").with_columns(\n",
    "    pl.col('airport').alias('origin')\n",
    ").drop('airport').join(\n",
    "    airports_df,\n",
    "    left_on = \"destination_id\",\n",
    "    right_on = \"airport_id\",\n",
    "    how = \"left\"\n",
    ").with_columns(\n",
    "    pl.col('airport').alias('destination')\n",
    ").drop('airport').with_columns(\n",
    "    pl.col('flt_departure_dt').dt.strftime(r\"%-m/%-d/%Y\"),\n",
    "    pl.col('observation_date').dt.strftime(r\"%-m/%-d/%Y\")\n",
    ")\n",
    "\n",
    "test_df"
   ]
  },
  {
   "cell_type": "code",
   "execution_count": 49,
   "metadata": {},
   "outputs": [
    {
     "data": {
      "text/html": [
       "<div><style>\n",
       ".dataframe > thead > tr,\n",
       ".dataframe > tbody > tr {\n",
       "  text-align: right;\n",
       "  white-space: pre-wrap;\n",
       "}\n",
       "</style>\n",
       "<small>shape: (29_825, 10)</small><table border=\"1\" class=\"dataframe\"><thead><tr><th></th><th>origin</th><th>destination</th><th>carrier</th><th>flt_num</th><th>flt_departure_dt</th><th>observation_date</th><th>origin_city</th><th>destination_city</th><th>predicted_fares</th></tr><tr><td>i64</td><td>str</td><td>str</td><td>str</td><td>i64</td><td>str</td><td>str</td><td>str</td><td>str</td><td>i64</td></tr></thead><tbody><tr><td>1</td><td>&quot;Airport4&quot;</td><td>&quot;Airport43&quot;</td><td>&quot;L2&quot;</td><td>7465</td><td>&quot;1/1/2019&quot;</td><td>&quot;11/27/2018&quot;</td><td>&quot;City4&quot;</td><td>&quot;City39&quot;</td><td>788</td></tr><tr><td>2</td><td>&quot;Airport4&quot;</td><td>&quot;Airport43&quot;</td><td>&quot;L2&quot;</td><td>7067</td><td>&quot;1/1/2019&quot;</td><td>&quot;11/27/2018&quot;</td><td>&quot;City4&quot;</td><td>&quot;City39&quot;</td><td>788</td></tr><tr><td>3</td><td>&quot;Airport4&quot;</td><td>&quot;Airport43&quot;</td><td>&quot;L2&quot;</td><td>1232</td><td>&quot;1/1/2019&quot;</td><td>&quot;11/27/2018&quot;</td><td>&quot;City4&quot;</td><td>&quot;City39&quot;</td><td>789</td></tr><tr><td>4</td><td>&quot;Airport43&quot;</td><td>&quot;Airport4&quot;</td><td>&quot;L1&quot;</td><td>17783</td><td>&quot;1/3/2019&quot;</td><td>&quot;11/29/2018&quot;</td><td>&quot;City39&quot;</td><td>&quot;City4&quot;</td><td>856</td></tr><tr><td>5</td><td>&quot;Airport43&quot;</td><td>&quot;Airport4&quot;</td><td>&quot;L1&quot;</td><td>5823</td><td>&quot;1/3/2019&quot;</td><td>&quot;11/29/2018&quot;</td><td>&quot;City39&quot;</td><td>&quot;City4&quot;</td><td>947</td></tr><tr><td>6</td><td>&quot;Airport43&quot;</td><td>&quot;Airport4&quot;</td><td>&quot;L1&quot;</td><td>1763</td><td>&quot;1/3/2019&quot;</td><td>&quot;11/29/2018&quot;</td><td>&quot;City39&quot;</td><td>&quot;City4&quot;</td><td>955</td></tr><tr><td>7</td><td>&quot;Airport4&quot;</td><td>&quot;Airport17&quot;</td><td>&quot;U3&quot;</td><td>752</td><td>&quot;1/1/2019&quot;</td><td>&quot;11/30/2018&quot;</td><td>&quot;City4&quot;</td><td>&quot;City17&quot;</td><td>540</td></tr><tr><td>8</td><td>&quot;Airport4&quot;</td><td>&quot;Airport17&quot;</td><td>&quot;U3&quot;</td><td>752</td><td>&quot;1/2/2019&quot;</td><td>&quot;11/30/2018&quot;</td><td>&quot;City4&quot;</td><td>&quot;City17&quot;</td><td>463</td></tr><tr><td>9</td><td>&quot;Airport4&quot;</td><td>&quot;Airport17&quot;</td><td>&quot;U3&quot;</td><td>752</td><td>&quot;1/3/2019&quot;</td><td>&quot;11/30/2018&quot;</td><td>&quot;City4&quot;</td><td>&quot;City17&quot;</td><td>558</td></tr><tr><td>10</td><td>&quot;Airport60&quot;</td><td>&quot;Airport30&quot;</td><td>&quot;U1&quot;</td><td>6131</td><td>&quot;1/7/2019&quot;</td><td>&quot;11/30/2018&quot;</td><td>&quot;City56&quot;</td><td>&quot;City27&quot;</td><td>650</td></tr><tr><td>&hellip;</td><td>&hellip;</td><td>&hellip;</td><td>&hellip;</td><td>&hellip;</td><td>&hellip;</td><td>&hellip;</td><td>&hellip;</td><td>&hellip;</td><td>&hellip;</td></tr><tr><td>29816</td><td>&quot;Airport4&quot;</td><td>&quot;Airport43&quot;</td><td>&quot;L2&quot;</td><td>1232</td><td>&quot;1/4/2019&quot;</td><td>&quot;12/31/2018&quot;</td><td>&quot;City4&quot;</td><td>&quot;City39&quot;</td><td>1760</td></tr><tr><td>29817</td><td>&quot;Airport4&quot;</td><td>&quot;Airport43&quot;</td><td>&quot;L2&quot;</td><td>7465</td><td>&quot;1/5/2019&quot;</td><td>&quot;12/31/2018&quot;</td><td>&quot;City4&quot;</td><td>&quot;City39&quot;</td><td>1561</td></tr><tr><td>29818</td><td>&quot;Airport4&quot;</td><td>&quot;Airport43&quot;</td><td>&quot;L2&quot;</td><td>7067</td><td>&quot;1/5/2019&quot;</td><td>&quot;12/31/2018&quot;</td><td>&quot;City4&quot;</td><td>&quot;City39&quot;</td><td>1561</td></tr><tr><td>29819</td><td>&quot;Airport4&quot;</td><td>&quot;Airport43&quot;</td><td>&quot;L2&quot;</td><td>937</td><td>&quot;1/5/2019&quot;</td><td>&quot;12/31/2018&quot;</td><td>&quot;City4&quot;</td><td>&quot;City39&quot;</td><td>1561</td></tr><tr><td>29820</td><td>&quot;Airport4&quot;</td><td>&quot;Airport43&quot;</td><td>&quot;L2&quot;</td><td>7465</td><td>&quot;1/6/2019&quot;</td><td>&quot;12/31/2018&quot;</td><td>&quot;City4&quot;</td><td>&quot;City39&quot;</td><td>1838</td></tr><tr><td>29821</td><td>&quot;Airport4&quot;</td><td>&quot;Airport43&quot;</td><td>&quot;L2&quot;</td><td>7067</td><td>&quot;1/6/2019&quot;</td><td>&quot;12/31/2018&quot;</td><td>&quot;City4&quot;</td><td>&quot;City39&quot;</td><td>1838</td></tr><tr><td>29822</td><td>&quot;Airport4&quot;</td><td>&quot;Airport43&quot;</td><td>&quot;L2&quot;</td><td>1232</td><td>&quot;1/6/2019&quot;</td><td>&quot;12/31/2018&quot;</td><td>&quot;City4&quot;</td><td>&quot;City39&quot;</td><td>1825</td></tr><tr><td>29823</td><td>&quot;Airport17&quot;</td><td>&quot;Airport4&quot;</td><td>&quot;L1&quot;</td><td>1484</td><td>&quot;1/7/2019&quot;</td><td>&quot;12/31/2018&quot;</td><td>&quot;City17&quot;</td><td>&quot;City4&quot;</td><td>937</td></tr><tr><td>29824</td><td>&quot;Airport17&quot;</td><td>&quot;Airport4&quot;</td><td>&quot;L1&quot;</td><td>18471</td><td>&quot;1/7/2019&quot;</td><td>&quot;12/31/2018&quot;</td><td>&quot;City17&quot;</td><td>&quot;City4&quot;</td><td>939</td></tr><tr><td>29825</td><td>&quot;Airport17&quot;</td><td>&quot;Airport4&quot;</td><td>&quot;L1&quot;</td><td>1487</td><td>&quot;1/7/2019&quot;</td><td>&quot;12/31/2018&quot;</td><td>&quot;City17&quot;</td><td>&quot;City4&quot;</td><td>920</td></tr></tbody></table></div>"
      ],
      "text/plain": [
       "shape: (29_825, 10)\n",
       "┌───────┬───────────┬────────────┬─────────┬───┬────────────┬────────────┬────────────┬────────────┐\n",
       "│       ┆ origin    ┆ destinatio ┆ carrier ┆ … ┆ observatio ┆ origin_cit ┆ destinatio ┆ predicted_ │\n",
       "│ ---   ┆ ---       ┆ n          ┆ ---     ┆   ┆ n_date     ┆ y          ┆ n_city     ┆ fares      │\n",
       "│ i64   ┆ str       ┆ ---        ┆ str     ┆   ┆ ---        ┆ ---        ┆ ---        ┆ ---        │\n",
       "│       ┆           ┆ str        ┆         ┆   ┆ str        ┆ str        ┆ str        ┆ i64        │\n",
       "╞═══════╪═══════════╪════════════╪═════════╪═══╪════════════╪════════════╪════════════╪════════════╡\n",
       "│ 1     ┆ Airport4  ┆ Airport43  ┆ L2      ┆ … ┆ 11/27/2018 ┆ City4      ┆ City39     ┆ 788        │\n",
       "│ 2     ┆ Airport4  ┆ Airport43  ┆ L2      ┆ … ┆ 11/27/2018 ┆ City4      ┆ City39     ┆ 788        │\n",
       "│ 3     ┆ Airport4  ┆ Airport43  ┆ L2      ┆ … ┆ 11/27/2018 ┆ City4      ┆ City39     ┆ 789        │\n",
       "│ 4     ┆ Airport43 ┆ Airport4   ┆ L1      ┆ … ┆ 11/29/2018 ┆ City39     ┆ City4      ┆ 856        │\n",
       "│ 5     ┆ Airport43 ┆ Airport4   ┆ L1      ┆ … ┆ 11/29/2018 ┆ City39     ┆ City4      ┆ 947        │\n",
       "│ 6     ┆ Airport43 ┆ Airport4   ┆ L1      ┆ … ┆ 11/29/2018 ┆ City39     ┆ City4      ┆ 955        │\n",
       "│ 7     ┆ Airport4  ┆ Airport17  ┆ U3      ┆ … ┆ 11/30/2018 ┆ City4      ┆ City17     ┆ 540        │\n",
       "│ 8     ┆ Airport4  ┆ Airport17  ┆ U3      ┆ … ┆ 11/30/2018 ┆ City4      ┆ City17     ┆ 463        │\n",
       "│ 9     ┆ Airport4  ┆ Airport17  ┆ U3      ┆ … ┆ 11/30/2018 ┆ City4      ┆ City17     ┆ 558        │\n",
       "│ 10    ┆ Airport60 ┆ Airport30  ┆ U1      ┆ … ┆ 11/30/2018 ┆ City56     ┆ City27     ┆ 650        │\n",
       "│ …     ┆ …         ┆ …          ┆ …       ┆ … ┆ …          ┆ …          ┆ …          ┆ …          │\n",
       "│ 29816 ┆ Airport4  ┆ Airport43  ┆ L2      ┆ … ┆ 12/31/2018 ┆ City4      ┆ City39     ┆ 1760       │\n",
       "│ 29817 ┆ Airport4  ┆ Airport43  ┆ L2      ┆ … ┆ 12/31/2018 ┆ City4      ┆ City39     ┆ 1561       │\n",
       "│ 29818 ┆ Airport4  ┆ Airport43  ┆ L2      ┆ … ┆ 12/31/2018 ┆ City4      ┆ City39     ┆ 1561       │\n",
       "│ 29819 ┆ Airport4  ┆ Airport43  ┆ L2      ┆ … ┆ 12/31/2018 ┆ City4      ┆ City39     ┆ 1561       │\n",
       "│ 29820 ┆ Airport4  ┆ Airport43  ┆ L2      ┆ … ┆ 12/31/2018 ┆ City4      ┆ City39     ┆ 1838       │\n",
       "│ 29821 ┆ Airport4  ┆ Airport43  ┆ L2      ┆ … ┆ 12/31/2018 ┆ City4      ┆ City39     ┆ 1838       │\n",
       "│ 29822 ┆ Airport4  ┆ Airport43  ┆ L2      ┆ … ┆ 12/31/2018 ┆ City4      ┆ City39     ┆ 1825       │\n",
       "│ 29823 ┆ Airport17 ┆ Airport4   ┆ L1      ┆ … ┆ 12/31/2018 ┆ City17     ┆ City4      ┆ 937        │\n",
       "│ 29824 ┆ Airport17 ┆ Airport4   ┆ L1      ┆ … ┆ 12/31/2018 ┆ City17     ┆ City4      ┆ 939        │\n",
       "│ 29825 ┆ Airport17 ┆ Airport4   ┆ L1      ┆ … ┆ 12/31/2018 ┆ City17     ┆ City4      ┆ 920        │\n",
       "└───────┴───────────┴────────────┴─────────┴───┴────────────┴────────────┴────────────┴────────────┘"
      ]
     },
     "execution_count": 49,
     "metadata": {},
     "output_type": "execute_result"
    }
   ],
   "source": [
    "raw_test_df = raw_test_df.join(\n",
    "    test_df.select(\n",
    "        [\n",
    "            'origin', 'destination', 'carrier',\n",
    "            'flt_num', 'flt_departure_dt', 'observation_date',\n",
    "            'pred_fare'\n",
    "        ]\n",
    "    ),\n",
    "    on = [\n",
    "        'origin', 'destination', 'carrier',\n",
    "        'flt_num', 'flt_departure_dt', 'observation_date'\n",
    "    ],\n",
    "    how = \"left\"\n",
    ").rename(\n",
    "    {'pred_fare': 'predicted_fares'}\n",
    ").with_columns(\n",
    "    pl.col('predicted_fares').round().cast(pl.Int64())\n",
    ")\n",
    "\n",
    "raw_test_df"
   ]
  },
  {
   "cell_type": "code",
   "execution_count": 50,
   "metadata": {},
   "outputs": [
    {
     "data": {
      "text/html": [
       "<div><style>\n",
       ".dataframe > thead > tr,\n",
       ".dataframe > tbody > tr {\n",
       "  text-align: right;\n",
       "  white-space: pre-wrap;\n",
       "}\n",
       "</style>\n",
       "<small>shape: (9, 2)</small><table border=\"1\" class=\"dataframe\"><thead><tr><th>statistic</th><th>value</th></tr><tr><td>str</td><td>f64</td></tr></thead><tbody><tr><td>&quot;count&quot;</td><td>29825.0</td></tr><tr><td>&quot;null_count&quot;</td><td>0.0</td></tr><tr><td>&quot;mean&quot;</td><td>1318.630981</td></tr><tr><td>&quot;std&quot;</td><td>2845.705086</td></tr><tr><td>&quot;min&quot;</td><td>264.0</td></tr><tr><td>&quot;25%&quot;</td><td>539.0</td></tr><tr><td>&quot;50%&quot;</td><td>682.0</td></tr><tr><td>&quot;75%&quot;</td><td>910.0</td></tr><tr><td>&quot;max&quot;</td><td>26903.0</td></tr></tbody></table></div>"
      ],
      "text/plain": [
       "shape: (9, 2)\n",
       "┌────────────┬─────────────┐\n",
       "│ statistic  ┆ value       │\n",
       "│ ---        ┆ ---         │\n",
       "│ str        ┆ f64         │\n",
       "╞════════════╪═════════════╡\n",
       "│ count      ┆ 29825.0     │\n",
       "│ null_count ┆ 0.0         │\n",
       "│ mean       ┆ 1318.630981 │\n",
       "│ std        ┆ 2845.705086 │\n",
       "│ min        ┆ 264.0       │\n",
       "│ 25%        ┆ 539.0       │\n",
       "│ 50%        ┆ 682.0       │\n",
       "│ 75%        ┆ 910.0       │\n",
       "│ max        ┆ 26903.0     │\n",
       "└────────────┴─────────────┘"
      ]
     },
     "execution_count": 50,
     "metadata": {},
     "output_type": "execute_result"
    }
   ],
   "source": [
    "raw_test_df['predicted_fares'].describe()"
   ]
  },
  {
   "cell_type": "code",
   "execution_count": 51,
   "metadata": {},
   "outputs": [],
   "source": [
    "raw_test_df.write_csv(Path(\"..\", \"test_fares_data_Mayur_Garg.csv\"))"
   ]
  },
  {
   "cell_type": "code",
   "execution_count": null,
   "metadata": {},
   "outputs": [],
   "source": []
  }
 ],
 "metadata": {
  "kernelspec": {
   "display_name": "Python 3",
   "language": "python",
   "name": "python3"
  },
  "language_info": {
   "codemirror_mode": {
    "name": "ipython",
    "version": 3
   },
   "file_extension": ".py",
   "mimetype": "text/x-python",
   "name": "python",
   "nbconvert_exporter": "python",
   "pygments_lexer": "ipython3",
   "version": "3.11.6"
  }
 },
 "nbformat": 4,
 "nbformat_minor": 2
}
